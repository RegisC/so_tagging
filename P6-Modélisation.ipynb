{
 "cells": [
  {
   "cell_type": "markdown",
   "metadata": {},
   "source": [
    "# Catégorisation automatique de questions"
   ]
  },
  {
   "cell_type": "markdown",
   "metadata": {},
   "source": [
    "## Initialisation"
   ]
  },
  {
   "cell_type": "code",
   "execution_count": 248,
   "metadata": {
    "ExecuteTime": {
     "end_time": "2019-09-27T10:23:40.164776Z",
     "start_time": "2019-09-27T10:23:40.149150Z"
    }
   },
   "outputs": [],
   "source": [
    "# Standard libraries\n",
    "import collections\n",
    "import functools\n",
    "import itertools\n",
    "import math\n",
    "import operator\n",
    "import os\n",
    "import re\n",
    "import string\n",
    "import sys\n",
    "\n",
    "# External libraries\n",
    "import bs4\n",
    "import matplotlib \n",
    "import matplotlib.pyplot as plt\n",
    "import nltk\n",
    "import numpy as np\n",
    "import pandas as pd\n",
    "import pickle\n",
    "import pyLDAvis\n",
    "import pyLDAvis.sklearn\n",
    "import scipy\n",
    "import seaborn as sns\n",
    "import sklearn as sk\n",
    "import sklearn.decomposition\n",
    "from sklearn.feature_extraction.text import CountVectorizer\n",
    "from sklearn.feature_extraction.text import TfidfVectorizer\n",
    "import sklearn.feature_selection\n",
    "import sklearn.model_selection\n",
    "import sklearn.multiclass\n",
    "import sklearn.multioutput\n",
    "import sklearn.naive_bayes\n",
    "import sklearn.svm\n",
    "import spacy\n",
    "import spacy.lang"
   ]
  },
  {
   "cell_type": "code",
   "execution_count": 285,
   "metadata": {
    "ExecuteTime": {
     "end_time": "2019-09-27T15:49:27.052224Z",
     "start_time": "2019-09-27T15:49:27.014419Z"
    }
   },
   "outputs": [],
   "source": [
    "# Fichiers de données sauvegardés par le calepin d'exploration\n",
    "DATA_FILE = \"data/P6 all labels.dat\"\n",
    "DATA_FILE_SINGLE_LABEL = \"data/P6 single label.dat\"\n",
    "\n",
    "# Ne pas exécuter les sections à temps de calcul élever\n",
    "CALC_SLOW_SECTIONS = True\n",
    "\n",
    "# Sauvegarder les modèles pour exécution par le serveur http\n",
    "EXPORT_MODELS = True\n",
    "MODEL1_FILE = \"data/supervised_model.sav\"\n",
    "MODEL2_FILE = \"data/unsupervised_model.sav\"\n",
    "\n",
    "SEED = 1911"
   ]
  },
  {
   "cell_type": "code",
   "execution_count": 3,
   "metadata": {
    "ExecuteTime": {
     "end_time": "2019-09-25T22:54:28.371086Z",
     "start_time": "2019-09-25T22:54:27.826118Z"
    }
   },
   "outputs": [],
   "source": [
    "data = pickle.load(open(DATA_FILE, 'rb'))\n",
    "df, tags, id_to_tag, features = data\n",
    "df1 = pickle.load(open(DATA_FILE_SINGLE_LABEL, 'rb'))"
   ]
  },
  {
   "cell_type": "code",
   "execution_count": 4,
   "metadata": {
    "ExecuteTime": {
     "end_time": "2019-09-25T22:54:28.391225Z",
     "start_time": "2019-09-25T22:54:28.371086Z"
    }
   },
   "outputs": [
    {
     "name": "stdout",
     "output_type": "stream",
     "text": [
      "<class 'pandas.core.frame.DataFrame'>\n",
      "Int64Index: 42191 entries, 1 to 49457\n",
      "Data columns (total 4 columns):\n",
      "Id              42191 non-null int64\n",
      "Tags            42191 non-null object\n",
      "OriginalTags    42191 non-null object\n",
      "Text            42191 non-null object\n",
      "dtypes: int64(1), object(3)\n",
      "memory usage: 1.6+ MB\n"
     ]
    }
   ],
   "source": [
    "df.info()"
   ]
  },
  {
   "cell_type": "code",
   "execution_count": 5,
   "metadata": {
    "ExecuteTime": {
     "end_time": "2019-09-25T22:54:28.571105Z",
     "start_time": "2019-09-25T22:54:28.391225Z"
    }
   },
   "outputs": [
    {
     "name": "stdout",
     "output_type": "stream",
     "text": [
      "<class 'pandas.core.frame.DataFrame'>\n",
      "Int64Index: 40917 entries, 1 to 49457\n",
      "Data columns (total 5 columns):\n",
      "Id              40917 non-null int64\n",
      "OriginalTags    40917 non-null object\n",
      "Tag             40917 non-null object\n",
      "TagCode         40917 non-null int64\n",
      "Text            40917 non-null object\n",
      "dtypes: int64(2), object(3)\n",
      "memory usage: 1.9+ MB\n"
     ]
    }
   ],
   "source": [
    "df1.info()"
   ]
  },
  {
   "cell_type": "markdown",
   "metadata": {},
   "source": [
    "## Classement mono-label"
   ]
  },
  {
   "cell_type": "markdown",
   "metadata": {},
   "source": [
    "### Représentation des messages en matrice TFIDF"
   ]
  },
  {
   "cell_type": "code",
   "execution_count": 6,
   "metadata": {
    "ExecuteTime": {
     "end_time": "2019-09-25T22:54:50.959942Z",
     "start_time": "2019-09-25T22:54:28.576112Z"
    }
   },
   "outputs": [
    {
     "name": "stdout",
     "output_type": "stream",
     "text": [
      "Taille de la matrice Tfidf : (40917, 8111)\n"
     ]
    }
   ],
   "source": [
    "# On ne conserve que les labels fréquents\n",
    "#df1 = df[~del_mask].copy()\n",
    "# Utilisation de `min_df` nécessaire pour réduire la quantité de mots\n",
    "fv = TfidfVectorizer(analyzer='word', ngram_range=(1,2), \n",
    "                     min_df=50, stop_words='english')\n",
    "text_tfidf = fv.fit_transform(df1['Text'])\n",
    "print(f\"Taille de la matrice Tfidf : {text_tfidf.shape}\")"
   ]
  },
  {
   "cell_type": "code",
   "execution_count": 7,
   "metadata": {
    "ExecuteTime": {
     "end_time": "2019-09-25T22:54:50.982081Z",
     "start_time": "2019-09-25T22:54:50.959942Z"
    }
   },
   "outputs": [
    {
     "name": "stdout",
     "output_type": "stream",
     "text": [
      "2014375 termes exclus\n"
     ]
    }
   ],
   "source": [
    "print(f\"{len(fv.stop_words_)} termes exclus\")\n",
    "#print(\" \".join(fv.stop_words_))"
   ]
  },
  {
   "cell_type": "code",
   "execution_count": 8,
   "metadata": {
    "ExecuteTime": {
     "end_time": "2019-09-25T22:54:51.282870Z",
     "start_time": "2019-09-25T22:54:50.982081Z"
    }
   },
   "outputs": [
    {
     "data": {
      "text/plain": [
       "((28641, 8111), (28641,), (12276, 8111), (12276,))"
      ]
     },
     "execution_count": 8,
     "metadata": {},
     "output_type": "execute_result"
    }
   ],
   "source": [
    "X = text_tfidf\n",
    "y = df1['TagCode']\n",
    "X_tr, X_t, y_tr, y_t = sk.model_selection.train_test_split(X, y, \n",
    "                                                           test_size=0.3, \n",
    "                                                           random_state=SEED)\n",
    "X_tr.shape, y_tr.shape, X_t.shape, y_t.shape"
   ]
  },
  {
   "cell_type": "markdown",
   "metadata": {},
   "source": [
    "### Mots et bi-grammes les plus corrélés avec chaque catégorie"
   ]
  },
  {
   "cell_type": "code",
   "execution_count": 9,
   "metadata": {
    "ExecuteTime": {
     "end_time": "2019-09-25T22:58:46.515371Z",
     "start_time": "2019-09-25T22:54:51.282870Z"
    },
    "scrolled": false
   },
   "outputs": [
    {
     "name": "stdout",
     "output_type": "stream",
     "text": [
      "python : ['np', 'self', 'python'] ['init self', 'pd dataframe', 'py line']\n",
      "java : ['javascript', 'javafx', 'java'] ['main string', 'static void', 'import java']\n",
      "node.js : ['req', 'express', 'nodejs'] ['req body', 'function req', 'require express']\n",
      "android : ['layout', 'intent', 'android'] ['override public', 'android studio', 'android layout']\n",
      "pandas : ['dataframe', 'panda', 'df'] ['miss value', 'df df', 'pd dataframe']\n",
      "bash : ['echo', 'sed', 'bash'] ['bin bash', 'shell script', 'bash script']\n",
      "api : ['response', 'partner', 'api'] ['api endpoint', 'com api', 'make api']\n",
      "vue : ['vuex', 'vuetify', 'vue'] ['div template', 'vue component', 'new vue']\n",
      "flutter : ['widget', 'dart', 'flutter'] ['widget build', 'child widget', 'buildcontext context']\n",
      "c++ : ['cpp', 'cout', 'std'] ['include iostream', 'std cout', 'std string']\n",
      "facebook : ['instagram', 'fb', 'facebook'] ['app id', 'access token', 'facebook com']\n",
      "css : ['cs', 'div', 'px'] ['width px', 'div div', 'div class']\n",
      "ruby-on-rails : ['activerecord', 'gem', 'rail'] ['end def', 'end end', 'ruby rail']\n",
      "mysql : ['table', 'mysqli', 'mysql'] ['mysql query', 'mysql server', 'mysql database']\n",
      "django : ['charfield', 'model', 'django'] ['charfield max', 'max length', 'model charfield']\n",
      "c# : ['wpf', 'public', 'csharp'] ['object sender', 'console writeline', 'set public']\n",
      "react : ['native', 'prop', 'react'] ['div classname', 'react component', 'react native']\n",
      "typescript : ['interface', 'angular', 'typescript'] ['exist type', 'export class', 'export interface']\n",
      "linux : ['reboot', 'kernel', 'linux'] ['file directory', 'bin bash', 'var log']\n",
      "image : ['pixel', 'jpeg', 'image'] ['image load', 'image image', 'display image']\n",
      "php : ['curl', 'echo', 'php'] ['index php', 'file php', 'header location']\n",
      "firebase : ['datasnapshot', 'firestore', 'firebase'] ['cloud function', 'firebase database', 'firebase auth']\n",
      "selenium : ['driver', 'findelement', 'selenium'] ['webdriver chrome', 'selenium webdriver', 'driver findelement']\n",
      "jquery : ['div', 'ajax', 'jquery'] ['ready function', 'click function', 'document ready']\n",
      "kotlin : ['val', 'fun', 'kotlin'] ['data class', 'savedinstancestate bundle', 'override fun']\n",
      "r : ['shiny', 'ggplot', 'na'] ['df data', 'na na', 'data frame']\n",
      "vba : ['sub', 'dim', 'vba'] ['excel vba', 'private sub', 'end sub']\n",
      "apache : ['apache', 'spark', 'kafka'] ['spark sql', 'org apache', 'apache spark']\n",
      "gradle : ['org', 'dependency', 'gradle'] ['gradle file', 'apply plugin', 'build gradle']\n",
      "docker : ['dockerfile', 'compose', 'docker'] ['docker image', 'docker container', 'docker compose']\n",
      "laravel : ['blade', 'illuminate', 'laravel'] ['blade php', 'use illuminate', 'public function']\n",
      "macos : ['mac', 'mojave', 'macos'] ['user desktop', 'usr local', 'table view']\n",
      "ubuntu : ['apt', 'sudo', 'ubuntu'] ['option work', 'access log', 'apt install']\n",
      "amazon : ['ec', 'sthree', 'aws'] ['lambda function', 'sthree bucket', 'ec instance']\n",
      "json : ['deserialize', 'jsonobject', 'json'] ['json data', 'json string', 'json file']\n",
      "swift : ['func', 'swift', 'swiftui'] ['guard let', 'var body', 'body view']\n",
      "asp.net : ['net', 'mvc', 'asp'] ['net mvc', 'net core', 'asp net']\n",
      "ajax : ['php', 'xhr', 'ajax'] ['success function', 'ajax url', 'ajax request']\n",
      "visual-studio : ['studio', 'visual', 'vscode'] ['project file', 'nuget package', 'visual studio']\n",
      "angular : ['mat', 'ng', 'angular'] ['export class', 'ng container', 'component html']\n",
      "azure : ['microsoft', 'devops', 'azure'] ['app service', 'azure function', 'azure devops']\n",
      "postgresql : ['postgres', 'pg', 'postgresql'] ['database connection', 'database db', 'time zone']\n",
      "sql-server : ['nvarchar', 'dbo', 'sql'] ['server database', 'store procedure', 'sql server']\n",
      "mongo : ['mongo', 'mongoose', 'mongodb'] ['require mongoose', 'mongoose model', 'mongoose schema']\n",
      "spring : ['springframework', 'boot', 'spring'] ['org springframework', 'spring cloud', 'spring boot']\n",
      "regex : ['regexp', 'match', 'regex'] ['match string', 'regex match', 'regular expression']\n",
      "excel : ['dim', 'cell', 'worksheet'] ['end xlup', 'sheet range', 'end sub']\n",
      "database : ['sqlite', 'table', 'database'] ['primary key', 'connect database', 'database connection']\n",
      "function : ['counter', 'num', 'function'] ['onclick function', 'main function', 'num num']\n",
      "c : ['stdio', 'scanf', 'printf'] ['int main', 'stdio include', 'include stdio']\n",
      "maven : ['mvn', 'pom', 'maven'] ['maven plugins', 'artifactid version', 'apache maven']\n",
      "html : ['div', 'getelementbyid', 'html'] ['div class', 'input type', 'document getelementbyid']\n",
      "sql : ['select', 'sql', 'table'] ['leave join', 'sql query', 'union select']\n",
      "google-cloud : ['gcloud', 'cloud', 'gcp'] ['api service', 'cloud function', 'google cloud']\n",
      "google-sheets : ['getrange', 'spreadsheet', 'sheet'] ['http doc', 'logger log', 'google sheet']\n",
      "git : ['branch', 'commit', 'git'] ['azure devops', 'file change', 'change file']\n",
      "ios : ['uiview', 'swift', 'indexpath'] ['io app', 'override func', 'view controller']\n",
      "go : ['func', 'golang', 'fmt'] ['main import', 'func main', 'err nil']\n",
      "powershell : ['sharepoint', 'ou', 'powershell'] ['start process', 'new object', 'powershell script']\n",
      "wordpress : ['woocommerce', 'wp', 'wordpress'] ['custom field', 'add action', 'post type']\n",
      "vb.net : ['dim', 'byval', 'vb'] ['end sub', 'private sub', 'vb net']\n",
      "ionic-framework : ['cordova', 'ion', 'ionic'] ['com doc', 'mobile app', 'ionic app']\n",
      "google-chrome : ['puppeteer', 'devtools', 'chrome'] ['dev tool', 'google chrome', 'chrome extension']\n",
      "rust : ['unwrap', 'fn', 'rust'] ['value self', 'read line', 'src main']\n",
      "jpa : ['hibernate', 'persistence', 'jpa'] ['private string', 'id generatedvalue', 'data jpa']\n",
      "http : ['rewritecond', 'ctx', 'http'] ['http request', 'http header', 'http server']\n",
      "oracle : ['procedure', 'os', 'oracle'] ['end loop', 'output line', 'create replace']\n",
      "nginx : ['ssl', 'proxy', 'nginx'] ['set header', 'proxy pas', 'proxy set']\n",
      "ruby : ['rb', 'gem', 'ruby'] ['end class', 'end end', 'end def']\n",
      "rest : ['api', 'restful', 'rest'] ['api use', 'api data', 'rest api']\n",
      "kubernetes : ['kubectl', 'pod', 'kubernetes'] ['yaml file', 'docker image', 'var lib']\n",
      "ssl : ['tl', 'certificate', 'ssl'] ['java security', 'http com', 'ssl certificate']\n",
      "scikit : ['predict', 'train', 'sklearn'] ['random state', 'test split', 'train test']\n",
      "jenkins : ['stage', 'pipeline', 'jenkins'] ['job job', 'java version', 'pom xml']\n",
      "date : ['mm', 'formatter', 'date'] ['date new', 'new date', 'day date']\n",
      "hibernate : ['generatedvalue', 'joincolumn', 'hibernate'] ['id generatedvalue', 'private long', 'org hibernate']\n",
      "scala : ['rdd', 'spark', 'scala'] ['org apache', 'apache spark', 'spark sql']\n",
      "xml : ['xmlns', 'xsd', 'xml'] ['android layout', 'xml version', 'xml file']\n",
      "npm : ['install', 'node', 'npm'] ['npm package', 'npm install', 'npm err']\n",
      "pyspark : ['rdd', 'spark', 'pyspark'] ['org apache', 'spark sql', 'apache spark']\n",
      "google-app : ['spreadsheet', 'spreadsheetapp', 'getrange'] ['var file', 'google drive', 'logger log']\n",
      "algorithm : ['ugly', 'complexity', 'algorithm'] ['infinite loop', 'data process', 'time function']\n",
      "multithreading : ['runnable', 'interruptedexception', 'thread'] ['main thread', 'thread new', 'new thread']\n",
      "xamarin : ['listview', 'xaml', 'xamarin'] ['protect override', 'itemssource bind', 'xamarin form']\n",
      "webpack : ['babel', 'loader', 'webpack'] ['const path', 'module rule', 'webpack config']\n",
      "windows : ['ver', 'uwp', 'window'] ['window server', 'end file', 'batch file']\n",
      "string : ['scanner', 'egg', 'string'] ['array string', 'character string', 'string array']\n",
      "arrays : ['explode', 'arr', 'array'] ['array key', 'array var', 'array array']\n",
      "file : ['path', 'txt', 'file'] ['send file', 'folder folder', 'file file']\n",
      ".net : ['nuget', 'indotnet', 'dotnet'] ['microsoft aspnetcore', 'indotnet core', 'nuget package']\n",
      "elasticsearch : ['aggregation', 'elastic', 'elasticsearch'] ['query query', 'document id', 'search query']\n",
      "logging : ['debug', 'log', 'logger'] ['log file', 'file log', 'log level']\n",
      "ansible : ['fact', 'playbook', 'ansible'] ['read line', 'command command', 'host localhost']\n",
      "graphql : ['apollo', 'mutation', 'graphql'] ['php artisan', 'description string', 'model id']\n"
     ]
    },
    {
     "name": "stdout",
     "output_type": "stream",
     "text": [
      "tensorflow : ['kera', 'tf', 'tensorflow'] ['kera model', 'kera layer', 'tf kera']\n",
      "google-maps : ['google', 'map', 'marker'] ['map api', 'new google', 'google map']\n",
      "unity : ['texture', 'gameobject', 'unity'] ['build android', 'build fail', 'debug log']\n",
      "symfony : ['entity', 'orm', 'symfony'] ['column type', 'entity class', 'public function']\n"
     ]
    }
   ],
   "source": [
    "n_terms = 3\n",
    "for label, id in [(id_to_tag[id], id) for id in df1['TagCode'].unique()]:\n",
    "    chi2 = sk.feature_selection.chi2(text_tfidf.toarray(), \n",
    "                                     df1['TagCode'] == id)\n",
    "    indices = np.argsort(chi2[0])\n",
    "    feature_names = np.array(fv.get_feature_names())[indices]\n",
    "    unigrams = [v for v in feature_names if len(v.split(' ')) == 1]\n",
    "    bigrams = [v for v in feature_names if len(v.split(' ')) == 2]        \n",
    "    print(label, \":\", unigrams[-n_terms:], bigrams[-n_terms:])"
   ]
  },
  {
   "cell_type": "markdown",
   "metadata": {},
   "source": [
    "### Modèle bayésien naïf multinomial "
   ]
  },
  {
   "cell_type": "code",
   "execution_count": 10,
   "metadata": {
    "ExecuteTime": {
     "end_time": "2019-09-25T22:58:46.772790Z",
     "start_time": "2019-09-25T22:58:46.515371Z"
    }
   },
   "outputs": [
    {
     "data": {
      "text/plain": [
       "MultinomialNB(alpha=1.0, class_prior=None, fit_prior=True)"
      ]
     },
     "execution_count": 10,
     "metadata": {},
     "output_type": "execute_result"
    }
   ],
   "source": [
    "model = sk.naive_bayes.MultinomialNB()\n",
    "model.fit(X_tr, y_tr)"
   ]
  },
  {
   "cell_type": "code",
   "execution_count": 11,
   "metadata": {
    "ExecuteTime": {
     "end_time": "2019-09-25T22:58:46.788413Z",
     "start_time": "2019-09-25T22:58:46.772790Z"
    }
   },
   "outputs": [],
   "source": [
    "def print_scores(y, y_pred):\n",
    "    score = sk.metrics.recall_score(y, y_pred, average='micro')    \n",
    "    print(f\"Rappel = {score:0.2f}\")\n",
    "    score = sk.metrics.precision_score(y, y_pred, average='micro')\n",
    "    print(f\"Précision = {score:0.2f}\")\n",
    "    score = sk.metrics.f1_score(y, y_pred, average='micro')\n",
    "    print(f\"F1 = {score:0.2f}\")    \n",
    "    score = sk.metrics.accuracy_score(y, y_pred)    \n",
    "    print(f\"Justesse = {score:0.2f}\")    \n",
    "    print()"
   ]
  },
  {
   "cell_type": "code",
   "execution_count": 12,
   "metadata": {
    "ExecuteTime": {
     "end_time": "2019-09-25T22:58:47.258471Z",
     "start_time": "2019-09-25T22:58:46.788413Z"
    },
    "scrolled": true
   },
   "outputs": [
    {
     "name": "stdout",
     "output_type": "stream",
     "text": [
      "*** Scores sur données d'entraînement\n",
      "Rappel = 0.45\n",
      "Précision = 0.45\n",
      "F1 = 0.45\n",
      "Justesse = 0.45\n",
      "\n",
      "*** Scores sur données de test :\n",
      "Rappel = 0.42\n",
      "Précision = 0.42\n",
      "F1 = 0.42\n",
      "Justesse = 0.42\n",
      "\n"
     ]
    }
   ],
   "source": [
    "print(\"*** Scores sur données d'entraînement\")\n",
    "y_pred = model.predict(X_tr)\n",
    "print_scores(y_tr, y_pred)\n",
    "print(\"*** Scores sur données de test :\")\n",
    "y_pred = model.predict(X_t)\n",
    "print_scores(y_t, y_pred)"
   ]
  },
  {
   "cell_type": "code",
   "execution_count": 13,
   "metadata": {
    "ExecuteTime": {
     "end_time": "2019-09-25T22:58:47.305373Z",
     "start_time": "2019-09-25T22:58:47.258471Z"
    },
    "scrolled": false
   },
   "outputs": [
    {
     "name": "stderr",
     "output_type": "stream",
     "text": [
      "C:\\Users\\regclem\\.conda\\envs\\tagging_env\\lib\\site-packages\\sklearn\\metrics\\classification.py:1437: UndefinedMetricWarning: Precision and F-score are ill-defined and being set to 0.0 in labels with no predicted samples.\n",
      "  'precision', 'predicted', average, warn_for)\n"
     ]
    },
    {
     "name": "stdout",
     "output_type": "stream",
     "text": [
      "                 precision    recall  f1-score   support\n",
      "\n",
      "         python       0.32      0.97      0.48      1805\n",
      "           java       0.26      0.70      0.38       909\n",
      "        node.js       0.51      0.18      0.26       197\n",
      "        android       0.65      0.77      0.70       512\n",
      "         pandas       0.00      0.00      0.00        11\n",
      "           bash       0.00      0.00      0.00        73\n",
      "            api       0.00      0.00      0.00        45\n",
      "            vue       0.90      0.17      0.29       161\n",
      "        flutter       0.96      0.41      0.57       165\n",
      "            c++       0.83      0.47      0.60       283\n",
      "       facebook       0.00      0.00      0.00        24\n",
      "            css       0.50      0.74      0.60       281\n",
      "  ruby-on-rails       0.80      0.04      0.08        93\n",
      "          mysql       0.48      0.45      0.47       315\n",
      "         django       0.95      0.43      0.59       258\n",
      "             c#       0.52      0.65      0.58       586\n",
      "          react       0.60      0.85      0.70       633\n",
      "     typescript       1.00      0.01      0.01       166\n",
      "          linux       0.00      0.00      0.00        56\n",
      "          image       0.00      0.00      0.00        46\n",
      "            php       0.41      0.09      0.15       187\n",
      "       firebase       0.91      0.13      0.23       159\n",
      "       selenium       0.00      0.00      0.00        70\n",
      "         jquery       0.43      0.40      0.41       282\n",
      "         kotlin       0.00      0.00      0.00       106\n",
      "              r       0.98      0.39      0.56       414\n",
      "            vba       0.00      0.00      0.00        32\n",
      "         apache       0.00      0.00      0.00        71\n",
      "         gradle       0.00      0.00      0.00        34\n",
      "         docker       0.67      0.04      0.07        56\n",
      "        laravel       0.84      0.30      0.44       163\n",
      "          macos       0.00      0.00      0.00        38\n",
      "         ubuntu       0.00      0.00      0.00        24\n",
      "         amazon       0.76      0.11      0.19       120\n",
      "           json       1.00      0.01      0.01       190\n",
      "          swift       0.50      0.04      0.07       113\n",
      "        asp.net       0.00      0.00      0.00       100\n",
      "           ajax       0.00      0.00      0.00        31\n",
      "  visual-studio       0.00      0.00      0.00        60\n",
      "        angular       0.48      0.20      0.28       172\n",
      "          azure       0.81      0.27      0.40       181\n",
      "     postgresql       0.00      0.00      0.00        34\n",
      "     sql-server       0.80      0.22      0.35       185\n",
      "          mongo       0.93      0.11      0.20       118\n",
      "         spring       1.00      0.02      0.04        95\n",
      "          regex       0.00      0.00      0.00        83\n",
      "          excel       0.88      0.44      0.58       190\n",
      "       database       0.00      0.00      0.00        54\n",
      "       function       0.00      0.00      0.00        37\n",
      "              c       1.00      0.07      0.14       122\n",
      "          maven       1.00      0.10      0.19        49\n",
      "           html       0.38      0.01      0.03       201\n",
      "            sql       1.00      0.01      0.02       132\n",
      "   google-cloud       0.00      0.00      0.00        34\n",
      "  google-sheets       0.00      0.00      0.00        46\n",
      "            git       0.87      0.21      0.34        61\n",
      "            ios       0.54      0.22      0.31       194\n",
      "             go       0.00      0.00      0.00        64\n",
      "     powershell       0.00      0.00      0.00        94\n",
      "      wordpress       0.00      0.00      0.00       101\n",
      "         vb.net       0.00      0.00      0.00        33\n",
      "ionic-framework       1.00      0.03      0.06        35\n",
      "  google-chrome       0.00      0.00      0.00        22\n",
      "           rust       0.00      0.00      0.00        23\n",
      "            jpa       0.00      0.00      0.00        30\n",
      "           http       0.00      0.00      0.00        40\n",
      "         oracle       0.00      0.00      0.00        48\n",
      "          nginx       0.67      0.06      0.11        34\n",
      "           ruby       0.00      0.00      0.00        36\n",
      "           rest       0.00      0.00      0.00        42\n",
      "     kubernetes       1.00      0.06      0.11        54\n",
      "            ssl       0.00      0.00      0.00        16\n",
      "         scikit       0.00      0.00      0.00        41\n",
      "        jenkins       0.00      0.00      0.00        49\n",
      "           date       0.00      0.00      0.00        12\n",
      "      hibernate       0.00      0.00      0.00        35\n",
      "          scala       0.00      0.00      0.00        57\n",
      "            xml       0.00      0.00      0.00        63\n",
      "            npm       0.00      0.00      0.00        27\n",
      "        pyspark       0.00      0.00      0.00        14\n",
      "     google-app       0.00      0.00      0.00        35\n",
      "      algorithm       0.00      0.00      0.00        15\n",
      " multithreading       0.00      0.00      0.00        26\n",
      "        xamarin       0.00      0.00      0.00        27\n",
      "        webpack       0.00      0.00      0.00        16\n",
      "        windows       0.00      0.00      0.00        24\n",
      "         string       0.00      0.00      0.00        22\n",
      "         arrays       0.00      0.00      0.00        28\n",
      "           file       0.00      0.00      0.00        22\n",
      "           .net       0.00      0.00      0.00        13\n",
      "  elasticsearch       0.00      0.00      0.00        45\n",
      "        logging       0.00      0.00      0.00        25\n",
      "        ansible       0.00      0.00      0.00        23\n",
      "        graphql       0.00      0.00      0.00        22\n",
      "     tensorflow       0.00      0.00      0.00        38\n",
      "    google-maps       0.00      0.00      0.00        21\n",
      "          unity       0.00      0.00      0.00        20\n",
      "        symfony       0.00      0.00      0.00        27\n",
      "\n",
      "       accuracy                           0.42     12276\n",
      "      macro avg       0.29      0.11      0.12     12276\n",
      "   weighted avg       0.48      0.42      0.34     12276\n",
      "\n"
     ]
    }
   ],
   "source": [
    "names = [id_to_tag[i] for i in y_t.sort_values().unique()]\n",
    "print(sk.metrics.classification_report(y_t, y_pred, \n",
    "                                       target_names=names))"
   ]
  },
  {
   "cell_type": "code",
   "execution_count": 14,
   "metadata": {
    "ExecuteTime": {
     "end_time": "2019-09-25T22:58:47.405633Z",
     "start_time": "2019-09-25T22:58:47.305373Z"
    }
   },
   "outputs": [
    {
     "name": "stdout",
     "output_type": "stream",
     "text": [
      "Labels prédit et attendu pour ligne 0 : (0, 0)\n"
     ]
    },
    {
     "data": {
      "text/plain": [
       "Id                                                       57560002\n",
       "Tags                                             {python, amazon}\n",
       "OriginalTags    <python><amazon-web-services><amazon-s3><boto3...\n",
       "Text            python script size sthree bucket clanguagesv s...\n",
       "Name: 1, dtype: object"
      ]
     },
     "execution_count": 14,
     "metadata": {},
     "output_type": "execute_result"
    }
   ],
   "source": [
    "# Example\n",
    "row = 0\n",
    "v = text_tfidf[row, :]\n",
    "predicted = model.predict(v)[0]\n",
    "expected = df1.iloc[row]['TagCode']\n",
    "print(f\"Labels prédit et attendu pour ligne {row} : {predicted, expected}\")\n",
    "df.iloc[row]"
   ]
  },
  {
   "cell_type": "markdown",
   "metadata": {},
   "source": [
    "### Régression logistique"
   ]
  },
  {
   "cell_type": "code",
   "execution_count": 15,
   "metadata": {
    "ExecuteTime": {
     "end_time": "2019-09-25T22:59:00.496358Z",
     "start_time": "2019-09-25T22:58:47.405633Z"
    }
   },
   "outputs": [
    {
     "data": {
      "text/plain": [
       "LogisticRegression(C=1.0, class_weight=None, dual=False, fit_intercept=True,\n",
       "                   intercept_scaling=1, l1_ratio=None, max_iter=100,\n",
       "                   multi_class='multinomial', n_jobs=None, penalty='l2',\n",
       "                   random_state=None, solver='sag', tol=0.0001, verbose=0,\n",
       "                   warm_start=False)"
      ]
     },
     "execution_count": 15,
     "metadata": {},
     "output_type": "execute_result"
    }
   ],
   "source": [
    "model = sk.linear_model.LogisticRegression(multi_class='multinomial', \n",
    "                                           solver='sag')\n",
    "model.fit(X_tr, y_tr)"
   ]
  },
  {
   "cell_type": "code",
   "execution_count": 16,
   "metadata": {
    "ExecuteTime": {
     "end_time": "2019-09-25T22:59:00.851516Z",
     "start_time": "2019-09-25T22:59:00.498378Z"
    }
   },
   "outputs": [
    {
     "name": "stdout",
     "output_type": "stream",
     "text": [
      "*** Scores sur données d'entraînement\n",
      "Rappel = 0.71\n",
      "Précision = 0.71\n",
      "F1 = 0.71\n",
      "Justesse = 0.71\n",
      "\n",
      "*** Scores sur données de test :\n",
      "Rappel = 0.61\n",
      "Précision = 0.61\n",
      "F1 = 0.61\n",
      "Justesse = 0.61\n",
      "\n"
     ]
    }
   ],
   "source": [
    "print(\"*** Scores sur données d'entraînement\")\n",
    "y_pred = model.predict(X_tr)\n",
    "print_scores(y_tr, y_pred)\n",
    "print(\"*** Scores sur données de test :\")\n",
    "y_pred = model.predict(X_t)\n",
    "print_scores(y_t, y_pred)"
   ]
  },
  {
   "cell_type": "code",
   "execution_count": 17,
   "metadata": {
    "ExecuteTime": {
     "end_time": "2019-09-25T22:59:00.904957Z",
     "start_time": "2019-09-25T22:59:00.851516Z"
    },
    "scrolled": false
   },
   "outputs": [
    {
     "name": "stdout",
     "output_type": "stream",
     "text": [
      "                 precision    recall  f1-score   support\n",
      "\n",
      "         python       0.59      0.92      0.72      1805\n",
      "           java       0.39      0.67      0.49       909\n",
      "        node.js       0.53      0.52      0.52       197\n",
      "        android       0.67      0.82      0.74       512\n",
      "         pandas       0.00      0.00      0.00        11\n",
      "           bash       0.68      0.38      0.49        73\n",
      "            api       0.12      0.02      0.04        45\n",
      "            vue       0.90      0.65      0.75       161\n",
      "        flutter       0.93      0.68      0.79       165\n",
      "            c++       0.84      0.74      0.79       283\n",
      "       facebook       0.86      0.50      0.63        24\n",
      "            css       0.57      0.77      0.66       281\n",
      "  ruby-on-rails       0.78      0.62      0.69        93\n",
      "          mysql       0.53      0.61      0.57       315\n",
      "         django       0.94      0.73      0.83       258\n",
      "             c#       0.55      0.73      0.63       586\n",
      "          react       0.84      0.84      0.84       633\n",
      "     typescript       0.64      0.30      0.40       166\n",
      "          linux       0.47      0.12      0.20        56\n",
      "          image       0.10      0.04      0.06        46\n",
      "            php       0.51      0.50      0.50       187\n",
      "       firebase       0.83      0.53      0.65       159\n",
      "       selenium       0.91      0.30      0.45        70\n",
      "         jquery       0.63      0.58      0.60       282\n",
      "         kotlin       0.69      0.35      0.46       106\n",
      "              r       0.82      0.78      0.80       414\n",
      "            vba       0.00      0.00      0.00        32\n",
      "         apache       0.57      0.34      0.42        71\n",
      "         gradle       0.56      0.53      0.55        34\n",
      "         docker       0.54      0.59      0.56        56\n",
      "        laravel       0.72      0.70      0.71       163\n",
      "          macos       0.00      0.00      0.00        38\n",
      "         ubuntu       0.00      0.00      0.00        24\n",
      "         amazon       0.63      0.58      0.61       120\n",
      "           json       0.53      0.41      0.46       190\n",
      "          swift       0.55      0.44      0.49       113\n",
      "        asp.net       0.46      0.16      0.24       100\n",
      "           ajax       0.50      0.03      0.06        31\n",
      "  visual-studio       0.61      0.42      0.50        60\n",
      "        angular       0.52      0.56      0.54       172\n",
      "          azure       0.81      0.67      0.74       181\n",
      "     postgresql       0.64      0.21      0.31        34\n",
      "     sql-server       0.58      0.59      0.58       185\n",
      "          mongo       0.82      0.66      0.73       118\n",
      "         spring       0.41      0.21      0.28        95\n",
      "          regex       0.65      0.57      0.61        83\n",
      "          excel       0.72      0.71      0.72       190\n",
      "       database       0.33      0.04      0.07        54\n",
      "       function       0.00      0.00      0.00        37\n",
      "              c       0.78      0.57      0.65       122\n",
      "          maven       0.71      0.61      0.66        49\n",
      "           html       0.26      0.19      0.22       201\n",
      "            sql       0.42      0.34      0.38       132\n",
      "   google-cloud       0.48      0.32      0.39        34\n",
      "  google-sheets       0.77      0.72      0.74        46\n",
      "            git       0.65      0.72      0.68        61\n",
      "            ios       0.55      0.43      0.48       194\n",
      "             go       0.83      0.31      0.45        64\n",
      "     powershell       0.87      0.55      0.68        94\n",
      "      wordpress       0.69      0.52      0.60       101\n",
      "         vb.net       0.78      0.21      0.33        33\n",
      "ionic-framework       0.86      0.54      0.67        35\n",
      "  google-chrome       0.67      0.09      0.16        22\n",
      "           rust       1.00      0.30      0.47        23\n",
      "            jpa       0.20      0.07      0.10        30\n",
      "           http       0.40      0.10      0.16        40\n",
      "         oracle       0.78      0.15      0.25        48\n",
      "          nginx       0.88      0.68      0.77        34\n",
      "           ruby       0.67      0.11      0.19        36\n",
      "           rest       0.60      0.14      0.23        42\n",
      "     kubernetes       0.85      0.61      0.71        54\n",
      "            ssl       0.38      0.31      0.34        16\n",
      "         scikit       1.00      0.17      0.29        41\n",
      "        jenkins       0.86      0.63      0.73        49\n",
      "           date       0.29      0.17      0.21        12\n",
      "      hibernate       0.50      0.17      0.26        35\n",
      "          scala       0.67      0.32      0.43        57\n",
      "            xml       0.57      0.33      0.42        63\n",
      "            npm       0.37      0.26      0.30        27\n",
      "        pyspark       0.00      0.00      0.00        14\n",
      "     google-app       0.60      0.09      0.15        35\n",
      "      algorithm       0.00      0.00      0.00        15\n",
      " multithreading       0.33      0.15      0.21        26\n",
      "        xamarin       0.50      0.11      0.18        27\n",
      "        webpack       0.44      0.25      0.32        16\n",
      "        windows       0.00      0.00      0.00        24\n",
      "         string       0.00      0.00      0.00        22\n",
      "         arrays       0.44      0.29      0.35        28\n",
      "           file       0.00      0.00      0.00        22\n",
      "           .net       0.00      0.00      0.00        13\n",
      "  elasticsearch       0.87      0.60      0.71        45\n",
      "        logging       0.50      0.04      0.07        25\n",
      "        ansible       0.77      0.43      0.56        23\n",
      "        graphql       0.89      0.36      0.52        22\n",
      "     tensorflow       0.29      0.05      0.09        38\n",
      "    google-maps       0.46      0.29      0.35        21\n",
      "          unity       0.00      0.00      0.00        20\n",
      "        symfony       0.50      0.15      0.23        27\n",
      "\n",
      "       accuracy                           0.61     12276\n",
      "      macro avg       0.55      0.36      0.41     12276\n",
      "   weighted avg       0.61      0.61      0.59     12276\n",
      "\n"
     ]
    }
   ],
   "source": [
    "names = [id_to_tag[i] for i in y_t.sort_values().unique()]\n",
    "print(sk.metrics.classification_report(y_t, y_pred, \n",
    "                                       target_names=names))"
   ]
  },
  {
   "cell_type": "markdown",
   "metadata": {},
   "source": [
    "### SVM linéaire"
   ]
  },
  {
   "cell_type": "markdown",
   "metadata": {},
   "source": [
    "#### Optimisation des hyperparamètres"
   ]
  },
  {
   "cell_type": "code",
   "execution_count": 18,
   "metadata": {
    "ExecuteTime": {
     "end_time": "2019-09-25T23:28:52.967064Z",
     "start_time": "2019-09-25T22:59:00.904957Z"
    }
   },
   "outputs": [],
   "source": [
    "base = sk.svm.LinearSVC(dual=False, random_state=SEED)\n",
    "grid = {'C': [0.1, 1, 10],\n",
    "        'penalty': ['l1', 'l2'],\n",
    "        'max_iter': [1000, 2000, 5000]\n",
    "       }\n",
    "model = sk.model_selection.GridSearchCV(base,\n",
    "                                        param_grid=grid,\n",
    "                                        cv=5,\n",
    "                                        n_jobs=-1)\n",
    "if CALC_SLOW_SECTIONS:\n",
    "    model.fit(X_tr, y_tr)\n",
    "    model.best_params_"
   ]
  },
  {
   "cell_type": "markdown",
   "metadata": {},
   "source": [
    "Résultats : {'C': 1, 'penalty': 'l1', 'max_iter': 1000}"
   ]
  },
  {
   "cell_type": "markdown",
   "metadata": {
    "ExecuteTime": {
     "end_time": "2019-09-10T22:50:44.372801Z",
     "start_time": "2019-09-10T22:50:44.368807Z"
    }
   },
   "source": [
    "#### Entraînement du modèle"
   ]
  },
  {
   "cell_type": "code",
   "execution_count": 19,
   "metadata": {
    "ExecuteTime": {
     "end_time": "2019-09-25T23:29:41.985029Z",
     "start_time": "2019-09-25T23:28:52.969092Z"
    }
   },
   "outputs": [
    {
     "data": {
      "text/plain": [
       "LinearSVC(C=1.0, class_weight=None, dual=False, fit_intercept=True,\n",
       "          intercept_scaling=1, loss='squared_hinge', max_iter=1000,\n",
       "          multi_class='ovr', penalty='l1', random_state=None, tol=0.0001,\n",
       "          verbose=0)"
      ]
     },
     "execution_count": 19,
     "metadata": {},
     "output_type": "execute_result"
    }
   ],
   "source": [
    "model = sk.svm.LinearSVC(C=1.0, penalty='l1', max_iter=1000, dual=False)\n",
    "model.fit(X_tr, y_tr)"
   ]
  },
  {
   "cell_type": "code",
   "execution_count": 20,
   "metadata": {
    "ExecuteTime": {
     "end_time": "2019-09-25T23:29:42.340264Z",
     "start_time": "2019-09-25T23:29:41.987117Z"
    }
   },
   "outputs": [
    {
     "name": "stdout",
     "output_type": "stream",
     "text": [
      "*** Scores sur données d'entraînement\n",
      "Rappel = 0.83\n",
      "Précision = 0.83\n",
      "F1 = 0.83\n",
      "Justesse = 0.83\n",
      "\n",
      "*** Scores sur données de test :\n",
      "Rappel = 0.65\n",
      "Précision = 0.65\n",
      "F1 = 0.65\n",
      "Justesse = 0.65\n",
      "\n"
     ]
    }
   ],
   "source": [
    "print(\"*** Scores sur données d'entraînement\")\n",
    "y_pred = model.predict(X_tr)\n",
    "print_scores(y_tr, y_pred)\n",
    "print(\"*** Scores sur données de test :\")\n",
    "y_pred = model.predict(X_t)\n",
    "print_scores(y_t, y_pred)"
   ]
  },
  {
   "cell_type": "markdown",
   "metadata": {
    "ExecuteTime": {
     "end_time": "2019-09-12T08:48:53.447660Z",
     "start_time": "2019-09-12T08:48:53.432043Z"
    }
   },
   "source": [
    "\n",
    "## Classement multilabel"
   ]
  },
  {
   "cell_type": "markdown",
   "metadata": {
    "ExecuteTime": {
     "end_time": "2019-09-14T10:34:58.818831Z",
     "start_time": "2019-09-14T10:34:58.803206Z"
    }
   },
   "source": [
    "### Réduction de dimension de la matrice documents-termes\n",
    "Pas nécessaire pour l'instant, mais à faire quand même"
   ]
  },
  {
   "cell_type": "code",
   "execution_count": 286,
   "metadata": {
    "ExecuteTime": {
     "end_time": "2019-09-27T15:51:20.180260Z",
     "start_time": "2019-09-27T15:51:14.762256Z"
    }
   },
   "outputs": [
    {
     "name": "stdout",
     "output_type": "stream",
     "text": [
      "Taille de la matrice TFIDF : (42191, 7060)\n"
     ]
    },
    {
     "data": {
      "text/plain": [
       "((29533, 7060), (29533, 149), (12658, 7060), (12658, 149))"
      ]
     },
     "execution_count": 286,
     "metadata": {},
     "output_type": "execute_result"
    }
   ],
   "source": [
    "fv = TfidfVectorizer(analyzer='word', min_df=20, max_df=0.3, \n",
    "                     ngram_range=(1, 1))\n",
    "text_tfidf = fv.fit_transform(df['Text'])\n",
    "print(f\"Taille de la matrice TFIDF : {text_tfidf.shape}\")\n",
    "X = text_tfidf\n",
    "y = tags\n",
    "X_tr, X_t, y_tr, y_t = sk.model_selection.train_test_split(X, y, \n",
    "                                                           test_size=0.3, \n",
    "                                                           random_state=SEED)\n",
    "X_tr.shape, y_tr.shape, X_t.shape, y_t.shape"
   ]
  },
  {
   "cell_type": "code",
   "execution_count": 22,
   "metadata": {
    "ExecuteTime": {
     "end_time": "2019-09-25T23:29:47.691794Z",
     "start_time": "2019-09-25T23:29:47.673677Z"
    }
   },
   "outputs": [
    {
     "name": "stdout",
     "output_type": "stream",
     "text": [
      "199831 termes exclus\n"
     ]
    }
   ],
   "source": [
    "print(f\"{len(fv.stop_words_)} termes exclus\")\n",
    "#print(\" \".join(fv.stop_words_))"
   ]
  },
  {
   "cell_type": "markdown",
   "metadata": {
    "ExecuteTime": {
     "end_time": "2019-09-13T15:23:00.302636Z",
     "start_time": "2019-09-13T15:23:00.286995Z"
    }
   },
   "source": [
    "### Classement indépendant par catégorie"
   ]
  },
  {
   "cell_type": "markdown",
   "metadata": {
    "ExecuteTime": {
     "end_time": "2019-09-13T16:48:45.961680Z",
     "start_time": "2019-09-13T16:48:43.526Z"
    }
   },
   "source": [
    "#### Modèle MultinomialNB"
   ]
  },
  {
   "cell_type": "code",
   "execution_count": 23,
   "metadata": {
    "ExecuteTime": {
     "end_time": "2019-09-25T23:32:56.080186Z",
     "start_time": "2019-09-25T23:29:47.693838Z"
    },
    "scrolled": false
   },
   "outputs": [
    {
     "name": "stdout",
     "output_type": "stream",
     "text": [
      ".net (0%, 0%) ajax (0%, 0%) algorithm (0%, 0%) amazon (11%, 8%) android (48%, 47%) angular (15%, 15%) ansible (0%, 0%) apache (8%, 4%) api (0%, 0%) arrays (0%, 0%) asp.net (6%, 4%) asynchronous (0%, 0%) authentication (0%, 0%) aws (0%, 0%) azure (3%, 1%) bash (1%, 0%) beautifulsoup (0%, 0%) bootstrap (1%, 0%) c (1%, 2%) c# (15%, 13%) c++ (18%, 18%) class (0%, 0%) css (40%, 36%) csv (0%, 0%) dart (4%, 1%) database (0%, 0%) dataframe (0%, 1%) date (0%, 0%) datetime (0%, 0%) deep-learning (0%, 0%) dictionary (0%, 0%) django (9%, 9%) docker (11%, 8%) dplyr (0%, 0%) ecma (0%, 0%) elasticsearch (1%, 0%) eloquent (0%, 0%) entity-framework (0%, 0%) excel (22%, 26%) express (0%, 0%) facebook (0%, 0%) file (0%, 0%) firebase (4%, 5%) flask (0%, 0%) flutter (27%, 28%) for-loop (0%, 0%) forms (0%, 0%) function (0%, 0%) ggplot2 (0%, 0%) git (0%, 0%) github (0%, 0%) go (0%, 0%) google-app (3%, 2%) google-chrome (0%, 0%) google-cloud (0%, 0%) google-maps (0%, 0%) google-sheets (0%, 0%) gradle (0%, 0%) graphql (0%, 0%) hibernate (0%, 0%) html (26%, 24%) http (0%, 0%) if-statement (0%, 0%) image (0%, 0%) intellij (0%, 0%) ionic-framework (0%, 0%) ionic4 (0%, 0%) ios (5%, 7%) java (30%, 26%) jenkins (0%, 0%) jestjs (0%, 0%) jpa (0%, 0%) jquery (1%, 1%) json (0%, 0%) keras (27%, 17%) kotlin (3%, 1%) kubernetes (1%, 2%) laravel (2%, 0%) linux (0%, 0%) list (0%, 0%) logging (0%, 0%) loops (0%, 0%) machine-learning (0%, 0%) macos (0%, 0%) matplotlib (7%, 9%) maven (7%, 7%) mongo (0%, 2%) multithreading (0%, 0%) mysql (1%, 1%) nginx (0%, 0%) node.js (6%, 6%) npm (0%, 0%) numpy (0%, 0%) object (0%, 0%) opencv (1%, 2%) oracle (0%, 0%) pandas (15%, 12%) pdf (0%, 0%) performance (0%, 0%) php (11%, 9%) postgresql (0%, 0%) powershell (0%, 0%) pyspark (0%, 0%) python (59%, 54%) qt (0%, 0%) r (28%, 23%) react (39%, 32%) redux (0%, 0%) regex (0%, 0%) rest (0%, 0%) ruby (0%, 0%) ruby-on-rails (1%, 0%) rust (0%, 0%) scala (0%, 0%) scikit (0%, 0%) selenium (5%, 8%) shell (1%, 0%) shiny (0%, 0%) sorting (0%, 0%) spring (25%, 25%) sql (1%, 1%) sql-server (0%, 0%) sqlite (0%, 0%) ssl (0%, 0%) string (0%, 0%) svg (0%, 0%) swift (22%, 24%) symfony (0%, 0%) tensorflow (35%, 27%) tkinter (0%, 0%) tsql (0%, 0%) typescript (0%, 0%) ubuntu (0%, 0%) unit-testing (0%, 0%) unity (0%, 0%) vb.net (0%, 0%) vba (20%, 21%) visual-studio (0%, 0%) vue (2%, 2%) web (0%, 0%) web-scraping (0%, 0%) webpack (0%, 0%) windows (0%, 0%) woocommerce (0%, 0%) wordpress (0%, 1%) wpf (3%, 0%) xamarin (0%, 0%) xcode (0%, 0%) xml (0%, 0%) "
     ]
    }
   ],
   "source": [
    "y_pred_t = scipy.sparse.lil_matrix(y_t.shape)\n",
    "y_pred_tr = scipy.sparse.lil_matrix(y_tr.shape)\n",
    "model = sk.naive_bayes.MultinomialNB(fit_prior=True, \n",
    "                                     class_prior=None)\n",
    "for i, feature in enumerate(features):\n",
    "    y_label_tr = y_tr[:, i].toarray().reshape(-1)\n",
    "    y_label_t = y_t[:, i].toarray().reshape(-1)\n",
    "    model.fit(X_tr.toarray(), y_label_tr)    \n",
    "    y_pred1_tr = model.predict(X_tr)\n",
    "    y_pred1_t = model.predict(X_t)\n",
    "    score_tr = sk.metrics.recall_score(y_label_tr, y_pred1_tr)\n",
    "    score_t = sk.metrics.recall_score(y_label_t, y_pred1_t)\n",
    "    y_pred_t[:, i] = y_pred1_t.reshape(-1, 1)\n",
    "    y_pred_tr[:, i] = y_pred1_tr.reshape(-1, 1)\n",
    "    print(f\"{feature} ({score_tr*100:0.0f}%, {score_t*100:0.0f}%)\", end=' ')"
   ]
  },
  {
   "cell_type": "code",
   "execution_count": 24,
   "metadata": {
    "ExecuteTime": {
     "end_time": "2019-09-25T23:32:56.221171Z",
     "start_time": "2019-09-25T23:32:56.082204Z"
    },
    "scrolled": true
   },
   "outputs": [
    {
     "name": "stdout",
     "output_type": "stream",
     "text": [
      "Rappel = 0.16\n",
      "Précision = 0.82\n",
      "F1 = 0.26\n",
      "Justesse = 0.09\n",
      "\n"
     ]
    }
   ],
   "source": [
    "print_scores(y_t, y_pred_t)"
   ]
  },
  {
   "cell_type": "markdown",
   "metadata": {},
   "source": [
    "Rappel = 0.16\n",
    "Précision = 0.80\n",
    "F1 = 0.26\n",
    "Justesse = 0.09"
   ]
  },
  {
   "cell_type": "markdown",
   "metadata": {},
   "source": [
    "#### Régression logistique"
   ]
  },
  {
   "cell_type": "code",
   "execution_count": 25,
   "metadata": {
    "ExecuteTime": {
     "end_time": "2019-09-26T02:34:08.540931Z",
     "start_time": "2019-09-25T23:32:56.223189Z"
    }
   },
   "outputs": [
    {
     "name": "stdout",
     "output_type": "stream",
     "text": [
      ".net (11%, 6%) ajax (36%, 29%) algorithm (7%, 0%) amazon (58%, 55%) android (73%, 66%) angular (67%, 56%) ansible (48%, 47%) apache (46%, 33%) api (5%, 1%) arrays (28%, 17%) asp.net (45%, 44%) asynchronous (3%, 0%) authentication (4%, 0%) aws (27%, 29%) azure (63%, 51%) bash (30%, 24%) beautifulsoup (38%, 27%) bootstrap (29%, 14%) c (39%, 36%) c# (52%, 44%) c++ (59%, 50%) class (1%, 3%) css (59%, 50%) csv (25%, 21%) dart (33%, 21%) database (0%, 1%) dataframe (17%, 19%) date (6%, 4%) datetime (19%, 5%) deep-learning (1%, 0%) dictionary (16%, 9%) django (72%, 60%) docker (70%, 59%) dplyr (12%, 6%) ecma (0%, 0%) elasticsearch (51%, 37%) eloquent (10%, 0%) entity-framework (10%, 3%) excel (65%, 54%) express (34%, 23%) facebook (45%, 46%) file (2%, 0%) firebase (59%, 52%) flask (50%, 43%) flutter (71%, 66%) for-loop (2%, 2%) forms (3%, 0%) function (1%, 0%) ggplot2 (53%, 57%) git (63%, 52%) github (23%, 18%) go (33%, 38%) google-app (46%, 27%) google-chrome (30%, 13%) google-cloud (46%, 33%) google-maps (26%, 15%) google-sheets (43%, 29%) gradle (36%, 19%) graphql (42%, 20%) hibernate (33%, 27%) html (41%, 33%) http (8%, 5%) if-statement (0%, 0%) image (3%, 2%) intellij (30%, 38%) ionic-framework (35%, 33%) ionic4 (25%, 13%) ios (35%, 25%) java (52%, 43%) jenkins (56%, 43%) jestjs (44%, 22%) jpa (15%, 6%) jquery (43%, 28%) json (32%, 24%) keras (68%, 52%) kotlin (44%, 26%) kubernetes (58%, 40%) laravel (55%, 47%) linux (9%, 3%) list (15%, 9%) logging (23%, 24%) loops (0%, 0%) machine-learning (14%, 1%) macos (4%, 5%) matplotlib (51%, 43%) maven (52%, 40%) mongo (56%, 50%) multithreading (40%, 28%) mysql (44%, 34%) nginx (62%, 42%) node.js (42%, 34%) npm (34%, 27%) numpy (43%, 33%) object (1%, 3%) opencv (55%, 33%) oracle (38%, 27%) pandas (65%, 56%) pdf (24%, 24%) performance (1%, 0%) php (54%, 47%) postgresql (29%, 17%) powershell (48%, 40%) pyspark (40%, 19%) python (78%, 72%) qt (26%, 27%) r (62%, 52%) react (76%, 69%) redux (43%, 29%) regex (50%, 44%) rest (11%, 2%) ruby (21%, 6%) ruby-on-rails (40%, 30%) rust (36%, 36%) scala (23%, 24%) scikit (20%, 16%) selenium (56%, 52%) shell (8%, 6%) shiny (43%, 38%) sorting (15%, 4%) spring (61%, 54%) sql (31%, 27%) sql-server (39%, 21%) sqlite (33%, 22%) ssl (26%, 24%) string (4%, 6%) svg (43%, 52%) swift (62%, 53%) symfony (17%, 19%) tensorflow (66%, 62%) tkinter (57%, 55%) tsql (0%, 0%) typescript (29%, 24%) ubuntu (7%, 2%) unit-testing (7%, 4%) unity (44%, 41%) vb.net (21%, 18%) vba (68%, 60%) visual-studio (42%, 31%) vue (58%, 41%) web (0%, 0%) web-scraping (11%, 8%) webpack (41%, 27%) windows (2%, 3%) woocommerce (58%, 45%) wordpress (56%, 48%) wpf (43%, 33%) xamarin (43%, 27%) xcode (15%, 16%) xml (29%, 27%) "
     ]
    }
   ],
   "source": [
    "filename = \"data/P6-MultiLabelLogisticRegressionOutput.sav\"\n",
    "\n",
    "if CALC_SLOW_SECTIONS or True:\n",
    "    y_pred_t = scipy.sparse.lil_matrix(y_t.shape)\n",
    "    y_pred_tr = scipy.sparse.lil_matrix(y_tr.shape)\n",
    "    model = sk.linear_model.LogisticRegression(multi_class='multinomial', \n",
    "                                               solver='sag', n_jobs=4)\n",
    "\n",
    "    for i, f in enumerate(features):\n",
    "        y_label_tr = y_tr[:, i].toarray().reshape(-1)\n",
    "        y_label_t = y_t[:, i].toarray().reshape(-1)\n",
    "        model.fit(X_tr.toarray(), y_label_tr)    \n",
    "        y_pred1_tr = model.predict(X_tr)\n",
    "        y_pred1_t = model.predict(X_t)\n",
    "        score_tr = sk.metrics.recall_score(y_label_tr, y_pred1_tr)\n",
    "        score_t = sk.metrics.recall_score(y_label_t, y_pred1_t)\n",
    "        y_pred_t[:, i] = y_pred1_t.reshape(-1, 1)\n",
    "        y_pred_tr[:, i] = y_pred1_tr.reshape(-1, 1)\n",
    "        print(f\"{f} ({score_tr*100:0.0f}%, {score_t*100:0.0f}%)\", end=' ')\n",
    "        data = (y_pred_tr, y_pred_t)\n",
    "        pickle.dump(data, open(filename, 'wb'))\n",
    "else:\n",
    "    y_pred_tr, y_pred_t = pickle.load(open(filename, 'rb'))\n",
    "    print(y_pred_tr.shape, y_pred_t.shape)"
   ]
  },
  {
   "cell_type": "code",
   "execution_count": 26,
   "metadata": {
    "ExecuteTime": {
     "end_time": "2019-09-26T02:34:09.017849Z",
     "start_time": "2019-09-26T02:34:08.542967Z"
    }
   },
   "outputs": [
    {
     "name": "stdout",
     "output_type": "stream",
     "text": [
      "*** Scores sur données d'entraînement\n",
      "Rappel = 0.49\n",
      "Précision = 0.89\n",
      "F1 = 0.64\n",
      "Justesse = 0.34\n",
      "\n",
      "*** Scores sur données de test :\n",
      "Rappel = 0.41\n",
      "Précision = 0.84\n",
      "F1 = 0.55\n",
      "Justesse = 0.27\n",
      "\n"
     ]
    }
   ],
   "source": [
    "print(\"*** Scores sur données d'entraînement\")\n",
    "print_scores(y_tr, y_pred_tr)\n",
    "print(\"*** Scores sur données de test :\")\n",
    "print_scores(y_t, y_pred_t)"
   ]
  },
  {
   "cell_type": "markdown",
   "metadata": {},
   "source": [
    "#### SVM linéaire"
   ]
  },
  {
   "cell_type": "code",
   "execution_count": 27,
   "metadata": {
    "ExecuteTime": {
     "end_time": "2019-09-26T02:37:05.194206Z",
     "start_time": "2019-09-26T02:34:09.017849Z"
    }
   },
   "outputs": [
    {
     "name": "stderr",
     "output_type": "stream",
     "text": [
      "C:\\Users\\regclem\\.conda\\envs\\tagging_env\\lib\\site-packages\\sklearn\\svm\\base.py:929: ConvergenceWarning: Liblinear failed to converge, increase the number of iterations.\n",
      "  \"the number of iterations.\", ConvergenceWarning)\n",
      "C:\\Users\\regclem\\.conda\\envs\\tagging_env\\lib\\site-packages\\sklearn\\svm\\base.py:929: ConvergenceWarning: Liblinear failed to converge, increase the number of iterations.\n",
      "  \"the number of iterations.\", ConvergenceWarning)\n",
      "C:\\Users\\regclem\\.conda\\envs\\tagging_env\\lib\\site-packages\\sklearn\\svm\\base.py:929: ConvergenceWarning: Liblinear failed to converge, increase the number of iterations.\n",
      "  \"the number of iterations.\", ConvergenceWarning)\n",
      "C:\\Users\\regclem\\.conda\\envs\\tagging_env\\lib\\site-packages\\sklearn\\svm\\base.py:929: ConvergenceWarning: Liblinear failed to converge, increase the number of iterations.\n",
      "  \"the number of iterations.\", ConvergenceWarning)\n",
      "C:\\Users\\regclem\\.conda\\envs\\tagging_env\\lib\\site-packages\\sklearn\\svm\\base.py:929: ConvergenceWarning: Liblinear failed to converge, increase the number of iterations.\n",
      "  \"the number of iterations.\", ConvergenceWarning)\n",
      "C:\\Users\\regclem\\.conda\\envs\\tagging_env\\lib\\site-packages\\sklearn\\svm\\base.py:929: ConvergenceWarning: Liblinear failed to converge, increase the number of iterations.\n",
      "  \"the number of iterations.\", ConvergenceWarning)\n",
      "C:\\Users\\regclem\\.conda\\envs\\tagging_env\\lib\\site-packages\\sklearn\\svm\\base.py:929: ConvergenceWarning: Liblinear failed to converge, increase the number of iterations.\n",
      "  \"the number of iterations.\", ConvergenceWarning)\n",
      "C:\\Users\\regclem\\.conda\\envs\\tagging_env\\lib\\site-packages\\sklearn\\svm\\base.py:929: ConvergenceWarning: Liblinear failed to converge, increase the number of iterations.\n",
      "  \"the number of iterations.\", ConvergenceWarning)\n",
      "C:\\Users\\regclem\\.conda\\envs\\tagging_env\\lib\\site-packages\\sklearn\\svm\\base.py:929: ConvergenceWarning: Liblinear failed to converge, increase the number of iterations.\n",
      "  \"the number of iterations.\", ConvergenceWarning)\n",
      "C:\\Users\\regclem\\.conda\\envs\\tagging_env\\lib\\site-packages\\sklearn\\svm\\base.py:929: ConvergenceWarning: Liblinear failed to converge, increase the number of iterations.\n",
      "  \"the number of iterations.\", ConvergenceWarning)\n"
     ]
    },
    {
     "data": {
      "text/plain": [
       "{'C': 1, 'max_iter': 1000, 'penalty': 'l1'}"
      ]
     },
     "execution_count": 27,
     "metadata": {},
     "output_type": "execute_result"
    }
   ],
   "source": [
    "f = next(iter(features))\n",
    "base = sk.svm.LinearSVC(dual=False, random_state=SEED)\n",
    "grid = {'C': [0.1, 1, 10],\n",
    "        'penalty': ['l1', 'l2'],\n",
    "        'max_iter': [1000, 2000, 5000]\n",
    "       }\n",
    "model = sk.model_selection.GridSearchCV(base,\n",
    "                                        param_grid=grid,\n",
    "                                        cv=5,\n",
    "                                        n_jobs=1)\n",
    "y_label_tr = y_tr[:, i].toarray().reshape(-1)\n",
    "model.fit(X_tr.toarray(), y_label_tr)    \n",
    "model.best_params_"
   ]
  },
  {
   "cell_type": "code",
   "execution_count": 28,
   "metadata": {
    "ExecuteTime": {
     "end_time": "2019-09-26T02:41:00.599120Z",
     "start_time": "2019-09-26T02:37:05.196226Z"
    }
   },
   "outputs": [
    {
     "name": "stdout",
     "output_type": "stream",
     "text": [
      ".net (20%, 13%) ajax (57%, 42%) algorithm (16%, 3%) amazon (78%, 70%) android (81%, 71%) angular (82%, 72%) ansible (90%, 93%) apache (63%, 55%) api (3%, 0%) arrays (31%, 16%) asp.net (60%, 52%) asynchronous (5%, 0%) authentication (1%, 0%) aws (45%, 41%) azure (77%, 70%) bash (53%, 43%) beautifulsoup (72%, 62%) bootstrap (41%, 18%) c (61%, 48%) c# (68%, 57%) c++ (76%, 65%) class (1%, 0%) css (68%, 56%) csv (29%, 25%) dart (47%, 27%) database (3%, 0%) dataframe (22%, 11%) date (4%, 0%) datetime (24%, 5%) deep-learning (12%, 2%) dictionary (23%, 11%) django (87%, 82%) docker (81%, 74%) dplyr (37%, 23%) ecma (1%, 0%) elasticsearch (82%, 69%) eloquent (41%, 22%) entity-framework (33%, 13%) excel (78%, 65%) express (43%, 34%) facebook (73%, 71%) file (1%, 0%) firebase (74%, 68%) flask (76%, 76%) flutter (90%, 83%) for-loop (4%, 0%) forms (0%, 0%) function (1%, 0%) ggplot2 (76%, 83%) git (74%, 64%) github (41%, 21%) go (68%, 54%) google-app (59%, 39%) google-chrome (45%, 23%) google-cloud (68%, 46%) google-maps (46%, 38%) google-sheets (66%, 45%) gradle (51%, 38%) graphql (68%, 50%) hibernate (58%, 53%) html (49%, 34%) http (12%, 7%) if-statement (2%, 0%) image (2%, 0%) intellij (59%, 62%) ionic-framework (57%, 57%) ionic4 (47%, 43%) ios (54%, 35%) java (61%, 48%) jenkins (81%, 71%) jestjs (78%, 60%) jpa (47%, 26%) jquery (57%, 37%) json (45%, 28%) keras (81%, 71%) kotlin (68%, 41%) kubernetes (81%, 74%) laravel (78%, 74%) linux (18%, 8%) list (11%, 1%) logging (29%, 21%) loops (0%, 0%) machine-learning (20%, 4%) macos (16%, 23%) matplotlib (71%, 57%) maven (65%, 47%) mongo (77%, 69%) multithreading (50%, 38%) mysql (54%, 41%) nginx (84%, 72%) node.js (52%, 42%) npm (36%, 33%) numpy (54%, 47%) object (0%, 0%) opencv (74%, 43%) oracle (62%, 49%) pandas (81%, 71%) pdf (32%, 18%) performance (5%, 0%) php (64%, 54%) postgresql (52%, 39%) powershell (76%, 73%) pyspark (80%, 63%) python (86%, 76%) qt (61%, 67%) r (82%, 69%) react (86%, 80%) redux (63%, 47%) regex (63%, 53%) rest (20%, 5%) ruby (32%, 16%) ruby-on-rails (68%, 55%) rust (82%, 64%) scala (56%, 53%) scikit (52%, 53%) selenium (73%, 68%) shell (22%, 8%) shiny (81%, 76%) sorting (19%, 7%) spring (80%, 69%) sql (45%, 29%) sql-server (60%, 34%) sqlite (55%, 49%) ssl (38%, 32%) string (2%, 0%) svg (64%, 71%) swift (78%, 69%) symfony (49%, 48%) tensorflow (83%, 81%) tkinter (86%, 73%) tsql (1%, 0%) typescript (39%, 35%) ubuntu (22%, 14%) unit-testing (12%, 2%) unity (66%, 65%) vb.net (38%, 29%) vba (87%, 77%) visual-studio (55%, 46%) vue (79%, 63%) web (0%, 0%) web-scraping (20%, 12%) webpack (57%, 53%) windows (5%, 0%) woocommerce (80%, 67%) wordpress (77%, 66%) wpf (77%, 60%) xamarin (78%, 56%) xcode (26%, 23%) xml (44%, 36%) "
     ]
    }
   ],
   "source": [
    "y_pred_t = scipy.sparse.lil_matrix(y_t.shape)\n",
    "y_pred_tr = scipy.sparse.lil_matrix(y_tr.shape)\n",
    "model = sk.svm.LinearSVC(C=1.0, penalty='l1', max_iter=1000, \n",
    "                         multi_class='ovr', dual=False)\n",
    "\n",
    "for i, f in enumerate(features):\n",
    "    y_label_tr = y_tr[:, i].toarray().reshape(-1)\n",
    "    y_label_t = y_t[:, i].toarray().reshape(-1)\n",
    "    model.fit(X_tr.toarray(), y_label_tr)    \n",
    "    y_pred1_tr = model.predict(X_tr)\n",
    "    y_pred1_t = model.predict(X_t)\n",
    "    score_tr = sk.metrics.recall_score(y_label_tr, y_pred1_tr)\n",
    "    score_t = sk.metrics.recall_score(y_label_t, y_pred1_t)\n",
    "    y_pred_t[:, i] = y_pred1_t.reshape(-1, 1)\n",
    "    y_pred_tr[:, i] = y_pred1_tr.reshape(-1, 1)\n",
    "    print(f\"{f} ({score_tr*100:0.0f}%, {score_t*100:0.0f}%)\", end=' ')\n",
    "    data = (y_pred_tr, y_pred_t)"
   ]
  },
  {
   "cell_type": "code",
   "execution_count": 29,
   "metadata": {
    "ExecuteTime": {
     "end_time": "2019-09-26T02:41:01.173060Z",
     "start_time": "2019-09-26T02:41:00.599120Z"
    }
   },
   "outputs": [
    {
     "name": "stdout",
     "output_type": "stream",
     "text": [
      "*** Scores sur données d'entraînement\n",
      "Rappel = 0.63\n",
      "Précision = 0.91\n",
      "F1 = 0.74\n",
      "Justesse = 0.46\n",
      "\n",
      "*** Scores sur données de test :\n",
      "Rappel = 0.52\n",
      "Précision = 0.82\n",
      "F1 = 0.64\n",
      "Justesse = 0.33\n",
      "\n"
     ]
    }
   ],
   "source": [
    "print(\"*** Scores sur données d'entraînement\")\n",
    "print_scores(y_tr, y_pred_tr)\n",
    "print(\"*** Scores sur données de test :\")\n",
    "print_scores(y_t, y_pred_t)"
   ]
  },
  {
   "cell_type": "markdown",
   "metadata": {
    "ExecuteTime": {
     "end_time": "2019-09-24T06:32:48.031535Z",
     "start_time": "2019-09-24T06:32:48.011435Z"
    }
   },
   "source": [
    "*** Scores sur données d'entraînement\n",
    "Rappel = 0.62\n",
    "Précision = 0.91\n",
    "F1 = 0.74\n",
    "Justesse = 0.45\n",
    "\n",
    "*** Scores sur données de test :\n",
    "Rappel = 0.51\n",
    "Précision = 0.81\n",
    "F1 = 0.63\n",
    "Justesse = 0.32"
   ]
  },
  {
   "cell_type": "markdown",
   "metadata": {
    "ExecuteTime": {
     "end_time": "2019-09-13T21:50:28.976764Z",
     "start_time": "2019-09-13T21:50:28.961140Z"
    }
   },
   "source": [
    "### Utilisation de OneVsRestClassifier"
   ]
  },
  {
   "cell_type": "code",
   "execution_count": 30,
   "metadata": {
    "ExecuteTime": {
     "end_time": "2019-09-26T06:01:53.080367Z",
     "start_time": "2019-09-26T02:41:01.173060Z"
    }
   },
   "outputs": [
    {
     "data": {
      "text/plain": [
       "OneVsRestClassifier(estimator=LogisticRegression(C=1.0, class_weight=None,\n",
       "                                                 dual=False, fit_intercept=True,\n",
       "                                                 intercept_scaling=1,\n",
       "                                                 l1_ratio=None, max_iter=100,\n",
       "                                                 multi_class='multinomial',\n",
       "                                                 n_jobs=-1, penalty='l2',\n",
       "                                                 random_state=None,\n",
       "                                                 solver='sag', tol=0.0001,\n",
       "                                                 verbose=0, warm_start=False),\n",
       "                    n_jobs=None)"
      ]
     },
     "execution_count": 30,
     "metadata": {},
     "output_type": "execute_result"
    }
   ],
   "source": [
    "\"data/P6-OneVsRestClassifier.sav\"\n",
    "\n",
    "if CALC_SLOW_SECTIONS:\n",
    "    base = sk.linear_model.LogisticRegression(multi_class='multinomial',\n",
    "                                              solver='sag',\n",
    "                                              n_jobs=-1)\n",
    "    model = sk.multiclass.OneVsRestClassifier(base)\n",
    "    model.fit(X_tr.toarray(), y_tr)\n",
    "    pickle.dump(model, open(filename, \"wb\"))\n",
    "else: \n",
    "    model = pickle.load(open(filename, \"rb\" ))\n",
    "    \n",
    "model"
   ]
  },
  {
   "cell_type": "code",
   "execution_count": 31,
   "metadata": {
    "ExecuteTime": {
     "end_time": "2019-09-26T06:01:53.945167Z",
     "start_time": "2019-09-26T06:01:53.080367Z"
    },
    "scrolled": true
   },
   "outputs": [
    {
     "name": "stdout",
     "output_type": "stream",
     "text": [
      "*** Scores sur données d'entraînement\n",
      "Rappel = 0.49\n",
      "Précision = 0.89\n",
      "F1 = 0.64\n",
      "Justesse = 0.34\n",
      "\n",
      "*** Scores sur données de test :\n",
      "Rappel = 0.41\n",
      "Précision = 0.84\n",
      "F1 = 0.55\n",
      "Justesse = 0.27\n",
      "\n"
     ]
    }
   ],
   "source": [
    "print(\"*** Scores sur données d'entraînement\")\n",
    "y_pred_tr = model.predict(X_tr)\n",
    "print_scores(y_tr, y_pred_tr)\n",
    "print(\"*** Scores sur données de test :\")\n",
    "y_pred_t = model.predict(X_t)\n",
    "print_scores(y_t, y_pred_t)"
   ]
  },
  {
   "cell_type": "markdown",
   "metadata": {},
   "source": [
    "Mêmes résultats que précédemment."
   ]
  },
  {
   "cell_type": "markdown",
   "metadata": {
    "ExecuteTime": {
     "end_time": "2019-09-14T10:34:59.647016Z",
     "start_time": "2019-09-14T10:34:59.631392Z"
    }
   },
   "source": [
    "### Classement en chaîne (ClassifierChain)"
   ]
  },
  {
   "cell_type": "markdown",
   "metadata": {},
   "source": [
    "#### Régression logistique"
   ]
  },
  {
   "cell_type": "code",
   "execution_count": 32,
   "metadata": {
    "ExecuteTime": {
     "end_time": "2019-09-26T06:01:53.967322Z",
     "start_time": "2019-09-26T06:01:53.945167Z"
    }
   },
   "outputs": [],
   "source": [
    "# Désactivé car lent et performance insuffisante\n",
    "\n",
    "#filename = \"data/P6-ClassifierChain.sav\"\n",
    "\n",
    "#if CALC_SLOW_SECTIONS:\n",
    "#    base = sk.linear_model.LogisticRegression(multi_class='multinomial', \n",
    "#                                          solver='sag')\n",
    "#    model = sklearn.multioutput.ClassifierChain(base)\n",
    "#    model.fit(X_tr.toarray(), y_tr.toarray())\n",
    "#    pickle.dump(model, open(filename, \"wb\"))\n",
    "#else:\n",
    "#    model = pickle.load(open(filename, \"rb\" ))\n",
    "#    print(model)"
   ]
  },
  {
   "cell_type": "code",
   "execution_count": 33,
   "metadata": {
    "ExecuteTime": {
     "end_time": "2019-09-26T06:01:54.869859Z",
     "start_time": "2019-09-26T06:01:53.967322Z"
    }
   },
   "outputs": [
    {
     "name": "stdout",
     "output_type": "stream",
     "text": [
      "*** Scores sur données d'entraînement\n",
      "Rappel = 0.49\n",
      "Précision = 0.89\n",
      "F1 = 0.64\n",
      "Justesse = 0.34\n",
      "\n",
      "*** Scores sur données de test :\n",
      "Rappel = 0.41\n",
      "Précision = 0.84\n",
      "F1 = 0.55\n",
      "Justesse = 0.27\n",
      "\n"
     ]
    }
   ],
   "source": [
    "print(\"*** Scores sur données d'entraînement\")\n",
    "y_pred = model.predict(X_tr)\n",
    "print_scores(y_tr, y_pred)\n",
    "print(\"*** Scores sur données de test :\")\n",
    "y_pred = model.predict(X_t)\n",
    "print_scores(y_t, y_pred)"
   ]
  },
  {
   "cell_type": "markdown",
   "metadata": {
    "ExecuteTime": {
     "end_time": "2019-09-20T06:02:34.042598Z",
     "start_time": "2019-09-20T06:02:33.757233Z"
    }
   },
   "source": [
    "#### SVM linéaire"
   ]
  },
  {
   "cell_type": "code",
   "execution_count": 287,
   "metadata": {
    "ExecuteTime": {
     "end_time": "2019-09-27T15:56:29.152484Z",
     "start_time": "2019-09-27T15:51:33.171104Z"
    }
   },
   "outputs": [
    {
     "name": "stderr",
     "output_type": "stream",
     "text": [
      "C:\\Users\\regclem\\.conda\\envs\\tagging_env\\lib\\site-packages\\sklearn\\svm\\base.py:929: ConvergenceWarning: Liblinear failed to converge, increase the number of iterations.\n",
      "  \"the number of iterations.\", ConvergenceWarning)\n"
     ]
    },
    {
     "data": {
      "text/plain": [
       "ClassifierChain(base_estimator=LinearSVC(C=1.0, class_weight=None, dual=False,\n",
       "                                         fit_intercept=True,\n",
       "                                         intercept_scaling=1,\n",
       "                                         loss='squared_hinge', max_iter=1000,\n",
       "                                         multi_class='ovr', penalty='l1',\n",
       "                                         random_state=None, tol=0.0001,\n",
       "                                         verbose=0),\n",
       "                cv=None, order=None, random_state=None)"
      ]
     },
     "execution_count": 287,
     "metadata": {},
     "output_type": "execute_result"
    }
   ],
   "source": [
    "base = sk.svm.LinearSVC(C=1.0, penalty='l1', max_iter=1000, \n",
    "                         multi_class='ovr', dual=False)\n",
    "model = sklearn.multioutput.ClassifierChain(base)\n",
    "model.fit(X_tr.toarray(), y_tr.toarray())"
   ]
  },
  {
   "cell_type": "code",
   "execution_count": 288,
   "metadata": {
    "ExecuteTime": {
     "end_time": "2019-09-27T15:57:05.782390Z",
     "start_time": "2019-09-27T15:56:30.625358Z"
    }
   },
   "outputs": [
    {
     "name": "stdout",
     "output_type": "stream",
     "text": [
      "*** Scores sur données d'entraînement\n",
      "Rappel = 0.65\n",
      "Précision = 0.89\n",
      "F1 = 0.75\n",
      "Justesse = 0.49\n",
      "\n",
      "*** Scores sur données de test :\n",
      "Rappel = 0.54\n",
      "Précision = 0.80\n",
      "F1 = 0.64\n",
      "Justesse = 0.34\n",
      "\n"
     ]
    }
   ],
   "source": [
    "print(\"*** Scores sur données d'entraînement\")\n",
    "y_pred = model.predict(X_tr)\n",
    "print_scores(y_tr, y_pred)\n",
    "print(\"*** Scores sur données de test :\")\n",
    "y_pred = model.predict(X_t)\n",
    "print_scores(y_t, y_pred)"
   ]
  },
  {
   "cell_type": "code",
   "execution_count": 298,
   "metadata": {
    "ExecuteTime": {
     "end_time": "2019-09-27T17:47:23.636346Z",
     "start_time": "2019-09-27T17:47:23.467061Z"
    }
   },
   "outputs": [],
   "source": [
    "if EXPORT_MODELS:\n",
    "    model_name = 'Classement par chaîne de SVM'\n",
    "    data = (model_name, fv, features, model)\n",
    "    pickle.dump(data, open(MODEL1_FILE, 'wb'))"
   ]
  },
  {
   "cell_type": "markdown",
   "metadata": {},
   "source": [
    "## Analyse non supervisée : LDA"
   ]
  },
  {
   "cell_type": "markdown",
   "metadata": {},
   "source": [
    "### Préparation des données"
   ]
  },
  {
   "cell_type": "code",
   "execution_count": 36,
   "metadata": {
    "ExecuteTime": {
     "end_time": "2019-09-26T06:07:05.868955Z",
     "start_time": "2019-09-26T06:07:00.985342Z"
    },
    "scrolled": true
   },
   "outputs": [
    {
     "name": "stdout",
     "output_type": "stream",
     "text": [
      "Taille de la matrice de vocabulaire : (42191, 7060)\n"
     ]
    }
   ],
   "source": [
    "cv = CountVectorizer(min_df=20, max_df=0.3)\n",
    "text_words = cv.fit_transform(df['Text'])\n",
    "print(f\"Taille de la matrice de vocabulaire : {text_words.shape}\")"
   ]
  },
  {
   "cell_type": "code",
   "execution_count": 37,
   "metadata": {
    "ExecuteTime": {
     "end_time": "2019-09-26T06:07:05.909432Z",
     "start_time": "2019-09-26T06:07:05.870974Z"
    }
   },
   "outputs": [
    {
     "data": {
      "text/plain": [
       "((29533, 7060), (12658, 7060))"
      ]
     },
     "execution_count": 37,
     "metadata": {},
     "output_type": "execute_result"
    }
   ],
   "source": [
    "words_tr, words_t = sk.model_selection.train_test_split(text_words, \n",
    "                                                        test_size=0.3, \n",
    "                                                        random_state=SEED)\n",
    "words_tr.shape, words_t.shape"
   ]
  },
  {
   "cell_type": "markdown",
   "metadata": {},
   "source": [
    "### Optimisation des hyperparamètres"
   ]
  },
  {
   "cell_type": "markdown",
   "metadata": {
    "ExecuteTime": {
     "start_time": "2019-09-16T13:22:43.775Z"
    }
   },
   "source": [
    "#### Recherche sur grille avec le score par défaut"
   ]
  },
  {
   "cell_type": "code",
   "execution_count": 38,
   "metadata": {
    "ExecuteTime": {
     "end_time": "2019-09-26T06:07:06.014263Z",
     "start_time": "2019-09-26T06:07:05.911479Z"
    }
   },
   "outputs": [],
   "source": [
    "# Désactivé car redondant avec ce qui suit\n",
    "#grid = {'n_components': [30, 50, 80, 100, 120], \n",
    "#        'learning_decay': [.5, .7, .9]\n",
    "#       }\n",
    "#base = sk.decomposition.LatentDirichletAllocation(random_state=SEED)\n",
    "#model = sk.model_selection.GridSearchCV(base, param_grid=grid, cv=5, n_jobs=6)\n",
    "#if CALC_SLOW_SECTIONS:\n",
    "#    model.fit(text_words)\n",
    "#    print(\"Paramètres optimaux : \", model.best_params_)"
   ]
  },
  {
   "cell_type": "markdown",
   "metadata": {
    "ExecuteTime": {
     "end_time": "2019-09-16T13:31:16.735817Z",
     "start_time": "2019-09-16T13:31:16.730821Z"
    }
   },
   "source": [
    "#### Recherche sur grille avec score de perplexité"
   ]
  },
  {
   "cell_type": "code",
   "execution_count": 39,
   "metadata": {
    "ExecuteTime": {
     "end_time": "2019-09-26T06:07:06.136392Z",
     "start_time": "2019-09-26T06:07:06.016399Z"
    }
   },
   "outputs": [],
   "source": [
    "# LDA retournant score = -perplexité\n",
    "class LDAWithPerplexityScorer(sk.decomposition.LatentDirichletAllocation):\n",
    "    def score(self, X, y=None):\n",
    "        score = super(LDAWithPerplexityScorer, self).perplexity(X)\n",
    "        return -1 * score"
   ]
  },
  {
   "cell_type": "code",
   "execution_count": 40,
   "metadata": {
    "ExecuteTime": {
     "end_time": "2019-09-26T06:49:27.251185Z",
     "start_time": "2019-09-26T06:07:06.136392Z"
    }
   },
   "outputs": [
    {
     "name": "stdout",
     "output_type": "stream",
     "text": [
      "Paramètres optimaux :  {'learning_decay': 0.5, 'n_components': 50}\n"
     ]
    }
   ],
   "source": [
    "if CALC_SLOW_SECTIONS:\n",
    "    grid = {'n_components': [50, 70, 80, 100, 120], \n",
    "            #'learning_decay': [.5, .7, .9]       \n",
    "            'learning_decay': [.5]       \n",
    "           }\n",
    "    base = LDAWithPerplexityScorer(random_state=SEED)\n",
    "    model = sk.model_selection.GridSearchCV(base, param_grid=grid, \n",
    "                                            cv=5, \n",
    "                                            n_jobs=-1)\n",
    "    model.fit(text_words)\n",
    "    print(\"Paramètres optimaux : \", model.best_params_)"
   ]
  },
  {
   "cell_type": "markdown",
   "metadata": {},
   "source": [
    "Résultats sauvegardés (identiques avec les 2 méthodes d'évaluation) : \n",
    "\n",
    "{'learning_decay': 0.5, 'n_components': 50}"
   ]
  },
  {
   "cell_type": "markdown",
   "metadata": {},
   "source": [
    "#### Recherche manuelle"
   ]
  },
  {
   "cell_type": "code",
   "execution_count": 41,
   "metadata": {
    "ExecuteTime": {
     "end_time": "2019-09-26T07:12:40.517774Z",
     "start_time": "2019-09-26T06:49:27.253201Z"
    },
    "scrolled": true
   },
   "outputs": [
    {
     "data": {
      "image/png": "[encoded data removed]",
      "text/plain": [
       "<Figure size 432x288 with 1 Axes>"
      ]
     },
     "metadata": {
      "needs_background": "light"
     },
     "output_type": "display_data"
    }
   ],
   "source": [
    "n_components = [10, 25, 50, 75, 100, 125, 140, 160]\n",
    "scores = []\n",
    "if CALC_SLOW_SECTIONS:\n",
    "    for n in n_components:\n",
    "        lda = sk.decomposition.LatentDirichletAllocation(n_components=n,\n",
    "                                                         learning_decay=0.5,\n",
    "                                                         random_state=SEED,\n",
    "                                                         n_jobs=2)\n",
    "        lda.fit(words_tr)\n",
    "        score = lda.perplexity(words_t)\n",
    "        #print(n, score)\n",
    "        scores.append(score)\n",
    "else:\n",
    "    scores = [1062.17, 943.89, 888.53, 878.74, 884.63, 889.28, 905.38]\n",
    "axes = sns.lineplot(n_components, scores);\n",
    "axes.set_title(\"Score de perplexité en fonction du nombre de sujets\");"
   ]
  },
  {
   "cell_type": "markdown",
   "metadata": {},
   "source": [
    "Nous retenons 75 comme valeur optimale de `n_components`."
   ]
  },
  {
   "cell_type": "markdown",
   "metadata": {
    "ExecuteTime": {
     "end_time": "2019-09-16T13:31:17.330261Z",
     "start_time": "2019-09-16T13:31:17.326264Z"
    }
   },
   "source": [
    "### Entraînement du modèle"
   ]
  },
  {
   "cell_type": "code",
   "execution_count": 67,
   "metadata": {
    "ExecuteTime": {
     "end_time": "2019-09-26T15:36:26.188167Z",
     "start_time": "2019-09-26T15:31:13.043724Z"
    }
   },
   "outputs": [
    {
     "data": {
      "text/plain": [
       "LatentDirichletAllocation(batch_size=128, doc_topic_prior=None,\n",
       "                          evaluate_every=-1, learning_decay=0.5,\n",
       "                          learning_method='online', learning_offset=10.0,\n",
       "                          max_doc_update_iter=100, max_iter=10,\n",
       "                          mean_change_tol=0.001, n_components=75, n_jobs=1,\n",
       "                          perp_tol=0.1, random_state=1911,\n",
       "                          topic_word_prior=None, total_samples=1000000.0,\n",
       "                          verbose=0)"
      ]
     },
     "execution_count": 67,
     "metadata": {},
     "output_type": "execute_result"
    }
   ],
   "source": [
    "lda = sk.decomposition.LatentDirichletAllocation(n_components=75,\n",
    "                                                 learning_decay=0.5,\n",
    "                                                 learning_method='online',\n",
    "                                                 random_state=SEED,\n",
    "                                                 n_jobs=1)\n",
    "lda_output = lda.fit_transform(text_words)\n",
    "lda"
   ]
  },
  {
   "cell_type": "code",
   "execution_count": 292,
   "metadata": {
    "ExecuteTime": {
     "end_time": "2019-09-27T17:36:41.283578Z",
     "start_time": "2019-09-27T17:36:41.082965Z"
    }
   },
   "outputs": [],
   "source": [
    "if EXPORT_MODELS:\n",
    "    model_name = 'Classement non supervisé par LDA'\n",
    "    data = (model_name, cv, lda)\n",
    "    pickle.dump(data, open(MODEL2_FILE, 'wb'))"
   ]
  },
  {
   "cell_type": "code",
   "execution_count": 68,
   "metadata": {
    "ExecuteTime": {
     "end_time": "2019-09-26T15:36:27.385436Z",
     "start_time": "2019-09-26T15:36:27.173319Z"
    },
    "scrolled": true
   },
   "outputs": [
    {
     "name": "stdout",
     "output_type": "stream",
     "text": [
      "***** 10 principaux termes par sujet :\n",
      "0 script command directory git customer environment install exit instal tool\n",
      "1 location status csv check aws desktop sthree syntax region invalid\n",
      "2 plot play plt audio mp reader ax show arm gui\n",
      "3 button page click html show display change modal trigger inside\n",
      "4 version window dependency plugin maven artifactid groupid specify machine project\n",
      "5 number post account permission comment share cursor integer yes letter\n",
      "6 size action cache send azure im metadata mb logic flow\n",
      "7 new add create update source exist custom multiple already company\n",
      "8 frame main include count std video cv cpp mat int\n",
      "9 string public class return private entity object person hash equal\n",
      "10 variable point apply matrix lambda normal hide compute sequence non\n",
      "11 org apache core internal gradle execute security execution common configuration\n",
      "12 user email password session login username auth redirect admin register\n",
      "13 description enter ask basic quot standard best learn please cost\n",
      "14 data object true false end sub attribute argument dim set\n",
      "15 message system info net ui collection game chart draw canvas\n",
      "16 self python py line import def site file np lib\n",
      "17 player ad fit en bootstrap term ab anonymous vendor tomcat\n",
      "18 php insert echo txt temp commit conn mysqli line stmt\n",
      "19 category cell sheet entry case device excel break close master\n",
      "20 result thread stop long future pool javafx track catalina lock\n",
      "21 model train shape layer feature tf graph tensorflow input batch\n",
      "22 text input store report de payment con choice john pause\n",
      "23 div class product span li tab href col img ul\n",
      "24 element web application link framework browser github chrome doc rest\n",
      "25 import component state react const prop export render return classname\n",
      "26 view let firebase func self nil struct return counter medium\n",
      "27 website role args cc suppose plan fee xx ctx fc\n",
      "28 django nest article deploy detect remote pip requirement course pre\n",
      "29 jar org springframework spring release boot java bean factory final\n",
      "30 build project package config lib file local src usr microsoft\n",
      "31 java exception lang util println method system invoke main io\n",
      "32 app service context tag angular route controller router path core\n",
      "33 log console val err async await push params fetch let\n",
      "34 target price total base sum weight last unit amount nan\n",
      "35 px width style height content font text background cs script\n",
      "36 load library program generate random pattern loader dynamic party sp\n",
      "37 event process call template job member active timestamp detail queue\n",
      "38 server client db database connect connection mysql socket age localhost\n",
      "39 color child position leave top icon flutter menu widget screen\n",
      "40 scale direction star know movie emit general unexpected zoom dog\n",
      "41 re docker upload req container host port ip storage network\n",
      "42 set property bind xml schema grid resource proxy ref animation\n",
      "43 id employee ct merge aug cat department chunk postgres relationship\n",
      "44 android layout parent app card dp profile wrap student height\n",
      "45 column row df data rsoftware col dataframe pd value condition\n",
      "46 function return const map next undefined length arr new area\n",
      "47 scala ssl win snapshot certificate sha ac aes ca bb\n",
      "48 new void public int override static class view null private\n",
      "49 com http google www download url link implementation sdk cloud\n",
      "50 key convert bar foo city pending keywords utc skill la\n",
      "51 index name move dataset unique apple signal lat square rank\n",
      "52 one find make change follow also different see help two\n",
      "53 native num br asp red st mvc stock green qt\n",
      "54 country paste flask kafka dc marker distance digit tuple combination\n",
      "55 search debug io level appear disable warn enable platform language\n",
      "56 word obj float vector place ion math room algorithm coordinate\n",
      "57 file image path filename folder img read save open jpg\n",
      "58 json replace character double remove single camera speed special quote\n",
      "59 table query select null sql order record join sort create\n",
      "60 type parameter instance pas param extension scope contact studio visual\n",
      "61 filter root msg mail svg tk subject parser amp rb\n",
      "62 test print output loop append range len import global def\n",
      "63 time start end second format first datetime take step hour\n",
      "64 array int stream byte address char length memory buffer stack\n",
      "65 form model field label class type control max submit true\n",
      "66 var document function task javascript alert ajax getelementbyid html attr\n",
      "67 date group match na day range year month branch dd\n",
      "68 home access default block vue mode channel hello netty handler\n",
      "69 value list option select empty dictionary radio dropdown pair onchange\n",
      "70 cluster bite photo delay pygame definition keyboard popup graphic subscription\n",
      "71 write str ok split abc valid large variant fn construct\n",
      "72 item td title tr delete btn th table book fa\n",
      "73 request api url response http header post token json data\n",
      "74 node module require npm express asset sc src cs ng\n"
     ]
    }
   ],
   "source": [
    "n_keywords = 10\n",
    "words = cv.get_feature_names()\n",
    "print(f\"***** {n_keywords} principaux termes par sujet :\")\n",
    "for i, topic in enumerate(lda.components_):\n",
    "    keywords = [words[i] for i in topic.argsort()[:-n_keywords-1:-1]]\n",
    "    print(i, \" \".join(keywords))"
   ]
  },
  {
   "cell_type": "code",
   "execution_count": 69,
   "metadata": {
    "ExecuteTime": {
     "end_time": "2019-09-26T15:37:38.466182Z",
     "start_time": "2019-09-26T15:37:38.434933Z"
    }
   },
   "outputs": [
    {
     "name": "stdout",
     "output_type": "stream",
     "text": [
      "Documents avec sujet numéro 0 :\n"
     ]
    },
    {
     "data": {
      "text/plain": [
       "[[57560003, {'python'}],\n",
       " [57565764, {'ubuntu'}],\n",
       " [57597704, {'shell'}],\n",
       " [57532719, {'ubuntu'}],\n",
       " [57564422, {'git', 'windows'}],\n",
       " [57588925, {'python'}],\n",
       " [57560017, {'bash', 'git', 'python'}],\n",
       " [57614140, {'git', 'gradle'}],\n",
       " [57542459, {'python'}],\n",
       " [57585547, {'android', 'node.js', 'react'}],\n",
       " [57520651, {'visual-studio'}],\n",
       " [57545995, {'macos', 'php'}],\n",
       " [57608150, {'ios', 'swift', 'xcode'}],\n",
       " [57558265, {'bash', 'python'}],\n",
       " [57518668, {'angular', 'macos'}],\n",
       " [57577424, {'bash', 'linux', 'python'}],\n",
       " [57574508, {'python'}],\n",
       " [57588344, {'.net'}],\n",
       " [57515037, {'bash'}],\n",
       " [57615575, {'bash'}]]"
      ]
     },
     "execution_count": 69,
     "metadata": {},
     "output_type": "execute_result"
    }
   ],
   "source": [
    "topic = 0\n",
    "n_docs = 20\n",
    "print(f\"Documents avec sujet numéro {topic} :\")\n",
    "sorted_col = np.argsort(-lda_output[:, topic])\n",
    "df.iloc[sorted_col[:n_docs].tolist()].loc[:, ['Id', 'Tags']].values.tolist()"
   ]
  },
  {
   "cell_type": "markdown",
   "metadata": {
    "ExecuteTime": {
     "end_time": "2019-09-18T20:40:54.412257Z",
     "start_time": "2019-09-18T20:36:28.786Z"
    }
   },
   "source": [
    "### Visualisation"
   ]
  },
  {
   "cell_type": "code",
   "execution_count": 45,
   "metadata": {
    "ExecuteTime": {
     "end_time": "2019-09-26T07:18:03.076265Z",
     "start_time": "2019-09-26T07:18:02.991629Z"
    }
   },
   "outputs": [],
   "source": [
    "def clean_tags(s):\n",
    "    l = re.findall(r'\\<(.*?)\\>', s)\n",
    "    return \" \".join(l)"
   ]
  },
  {
   "cell_type": "code",
   "execution_count": 46,
   "metadata": {
    "ExecuteTime": {
     "end_time": "2019-09-26T07:18:15.419908Z",
     "start_time": "2019-09-26T07:18:03.076265Z"
    },
    "scrolled": true
   },
   "outputs": [
    {
     "name": "stdout",
     "output_type": "stream",
     "text": [
      "Extrait de la matrice documents-sujets :\n"
     ]
    },
    {
     "data": {
      "text/html": [
       "<div>\n",
       "<style scoped>\n",
       "    .dataframe tbody tr th:only-of-type {\n",
       "        vertical-align: middle;\n",
       "    }\n",
       "\n",
       "    .dataframe tbody tr th {\n",
       "        vertical-align: top;\n",
       "    }\n",
       "\n",
       "    .dataframe thead th {\n",
       "        text-align: right;\n",
       "    }\n",
       "</style>\n",
       "<table border=\"1\" class=\"dataframe\">\n",
       "  <thead>\n",
       "    <tr style=\"text-align: right;\">\n",
       "      <th></th>\n",
       "      <th>First_topic</th>\n",
       "      <th>Second_topic</th>\n",
       "      <th>Third_topic</th>\n",
       "      <th>Tags</th>\n",
       "    </tr>\n",
       "  </thead>\n",
       "  <tbody>\n",
       "    <tr>\n",
       "      <td>D0</td>\n",
       "      <td>1</td>\n",
       "      <td>69</td>\n",
       "      <td>6</td>\n",
       "      <td>{python, amazon}</td>\n",
       "    </tr>\n",
       "    <tr>\n",
       "      <td>D1</td>\n",
       "      <td>0</td>\n",
       "      <td>41</td>\n",
       "      <td>60</td>\n",
       "      <td>{python}</td>\n",
       "    </tr>\n",
       "    <tr>\n",
       "      <td>D2</td>\n",
       "      <td>55</td>\n",
       "      <td>52</td>\n",
       "      <td>29</td>\n",
       "      <td>{java}</td>\n",
       "    </tr>\n",
       "    <tr>\n",
       "      <td>D3</td>\n",
       "      <td>41</td>\n",
       "      <td>12</td>\n",
       "      <td>57</td>\n",
       "      <td>{node.js}</td>\n",
       "    </tr>\n",
       "    <tr>\n",
       "      <td>D4</td>\n",
       "      <td>44</td>\n",
       "      <td>52</td>\n",
       "      <td>31</td>\n",
       "      <td>{android}</td>\n",
       "    </tr>\n",
       "    <tr>\n",
       "      <td>D5</td>\n",
       "      <td>29</td>\n",
       "      <td>59</td>\n",
       "      <td>45</td>\n",
       "      <td>{pandas}</td>\n",
       "    </tr>\n",
       "    <tr>\n",
       "      <td>D6</td>\n",
       "      <td>0</td>\n",
       "      <td>16</td>\n",
       "      <td>13</td>\n",
       "      <td>{git, python, bash}</td>\n",
       "    </tr>\n",
       "    <tr>\n",
       "      <td>D7</td>\n",
       "      <td>37</td>\n",
       "      <td>24</td>\n",
       "      <td>52</td>\n",
       "      <td>{api}</td>\n",
       "    </tr>\n",
       "    <tr>\n",
       "      <td>D8</td>\n",
       "      <td>73</td>\n",
       "      <td>7</td>\n",
       "      <td>68</td>\n",
       "      <td>{vue}</td>\n",
       "    </tr>\n",
       "    <tr>\n",
       "      <td>D9</td>\n",
       "      <td>39</td>\n",
       "      <td>45</td>\n",
       "      <td>63</td>\n",
       "      <td>{dart, flutter}</td>\n",
       "    </tr>\n",
       "    <tr>\n",
       "      <td>D10</td>\n",
       "      <td>73</td>\n",
       "      <td>2</td>\n",
       "      <td>30</td>\n",
       "      <td>{c++}</td>\n",
       "    </tr>\n",
       "    <tr>\n",
       "      <td>D11</td>\n",
       "      <td>37</td>\n",
       "      <td>14</td>\n",
       "      <td>55</td>\n",
       "      <td>{python, apache, google-cloud}</td>\n",
       "    </tr>\n",
       "    <tr>\n",
       "      <td>D12</td>\n",
       "      <td>60</td>\n",
       "      <td>46</td>\n",
       "      <td>25</td>\n",
       "      <td>{python}</td>\n",
       "    </tr>\n",
       "    <tr>\n",
       "      <td>D13</td>\n",
       "      <td>5</td>\n",
       "      <td>52</td>\n",
       "      <td>73</td>\n",
       "      <td>{facebook}</td>\n",
       "    </tr>\n",
       "    <tr>\n",
       "      <td>D14</td>\n",
       "      <td>39</td>\n",
       "      <td>44</td>\n",
       "      <td>36</td>\n",
       "      <td>{dart, flutter}</td>\n",
       "    </tr>\n",
       "    <tr>\n",
       "      <td>D15</td>\n",
       "      <td>65</td>\n",
       "      <td>39</td>\n",
       "      <td>35</td>\n",
       "      <td>{java, css}</td>\n",
       "    </tr>\n",
       "    <tr>\n",
       "      <td>D16</td>\n",
       "      <td>46</td>\n",
       "      <td>14</td>\n",
       "      <td>33</td>\n",
       "      <td>{java, arrays, class}</td>\n",
       "    </tr>\n",
       "    <tr>\n",
       "      <td>D17</td>\n",
       "      <td>8</td>\n",
       "      <td>57</td>\n",
       "      <td>9</td>\n",
       "      <td>{visual-studio, c++, opencv}</td>\n",
       "    </tr>\n",
       "    <tr>\n",
       "      <td>D18</td>\n",
       "      <td>52</td>\n",
       "      <td>57</td>\n",
       "      <td>5</td>\n",
       "      <td>{ruby, ruby-on-rails}</td>\n",
       "    </tr>\n",
       "    <tr>\n",
       "      <td>D19</td>\n",
       "      <td>57</td>\n",
       "      <td>65</td>\n",
       "      <td>8</td>\n",
       "      <td>{python, opencv}</td>\n",
       "    </tr>\n",
       "    <tr>\n",
       "      <td>D20</td>\n",
       "      <td>12</td>\n",
       "      <td>73</td>\n",
       "      <td>19</td>\n",
       "      <td>{web-scraping, python, excel}</td>\n",
       "    </tr>\n",
       "    <tr>\n",
       "      <td>D21</td>\n",
       "      <td>63</td>\n",
       "      <td>65</td>\n",
       "      <td>69</td>\n",
       "      <td>{vue}</td>\n",
       "    </tr>\n",
       "    <tr>\n",
       "      <td>D22</td>\n",
       "      <td>48</td>\n",
       "      <td>24</td>\n",
       "      <td>5</td>\n",
       "      <td>{java, android}</td>\n",
       "    </tr>\n",
       "    <tr>\n",
       "      <td>D23</td>\n",
       "      <td>34</td>\n",
       "      <td>31</td>\n",
       "      <td>52</td>\n",
       "      <td>{java, mysql}</td>\n",
       "    </tr>\n",
       "    <tr>\n",
       "      <td>D24</td>\n",
       "      <td>35</td>\n",
       "      <td>21</td>\n",
       "      <td>3</td>\n",
       "      <td>{css}</td>\n",
       "    </tr>\n",
       "    <tr>\n",
       "      <td>D25</td>\n",
       "      <td>45</td>\n",
       "      <td>72</td>\n",
       "      <td>14</td>\n",
       "      <td>{class}</td>\n",
       "    </tr>\n",
       "    <tr>\n",
       "      <td>D26</td>\n",
       "      <td>24</td>\n",
       "      <td>52</td>\n",
       "      <td>30</td>\n",
       "      <td>{xcode, c++}</td>\n",
       "    </tr>\n",
       "    <tr>\n",
       "      <td>D27</td>\n",
       "      <td>23</td>\n",
       "      <td>49</td>\n",
       "      <td>14</td>\n",
       "      <td>{django}</td>\n",
       "    </tr>\n",
       "    <tr>\n",
       "      <td>D28</td>\n",
       "      <td>15</td>\n",
       "      <td>9</td>\n",
       "      <td>22</td>\n",
       "      <td>{unity, c#}</td>\n",
       "    </tr>\n",
       "    <tr>\n",
       "      <td>D29</td>\n",
       "      <td>58</td>\n",
       "      <td>57</td>\n",
       "      <td>36</td>\n",
       "      <td>{python, postgresql}</td>\n",
       "    </tr>\n",
       "    <tr>\n",
       "      <td>D30</td>\n",
       "      <td>65</td>\n",
       "      <td>67</td>\n",
       "      <td>7</td>\n",
       "      <td>{java, react, forms}</td>\n",
       "    </tr>\n",
       "    <tr>\n",
       "      <td>D31</td>\n",
       "      <td>32</td>\n",
       "      <td>66</td>\n",
       "      <td>9</td>\n",
       "      <td>{asp.net, c#}</td>\n",
       "    </tr>\n",
       "    <tr>\n",
       "      <td>D32</td>\n",
       "      <td>29</td>\n",
       "      <td>24</td>\n",
       "      <td>9</td>\n",
       "      <td>{java, spring}</td>\n",
       "    </tr>\n",
       "    <tr>\n",
       "      <td>D33</td>\n",
       "      <td>19</td>\n",
       "      <td>33</td>\n",
       "      <td>24</td>\n",
       "      <td>{typescript, excel}</td>\n",
       "    </tr>\n",
       "    <tr>\n",
       "      <td>D34</td>\n",
       "      <td>4</td>\n",
       "      <td>52</td>\n",
       "      <td>7</td>\n",
       "      <td>{java, maven, linux, intellij}</td>\n",
       "    </tr>\n",
       "    <tr>\n",
       "      <td>D35</td>\n",
       "      <td>14</td>\n",
       "      <td>43</td>\n",
       "      <td>9</td>\n",
       "      <td>{java}</td>\n",
       "    </tr>\n",
       "    <tr>\n",
       "      <td>D36</td>\n",
       "      <td>57</td>\n",
       "      <td>23</td>\n",
       "      <td>65</td>\n",
       "      <td>{image, laravel}</td>\n",
       "    </tr>\n",
       "    <tr>\n",
       "      <td>D37</td>\n",
       "      <td>41</td>\n",
       "      <td>7</td>\n",
       "      <td>0</td>\n",
       "      <td>{python, ubuntu}</td>\n",
       "    </tr>\n",
       "    <tr>\n",
       "      <td>D38</td>\n",
       "      <td>0</td>\n",
       "      <td>32</td>\n",
       "      <td>7</td>\n",
       "      <td>{android}</td>\n",
       "    </tr>\n",
       "    <tr>\n",
       "      <td>D39</td>\n",
       "      <td>19</td>\n",
       "      <td>73</td>\n",
       "      <td>18</td>\n",
       "      <td>{php}</td>\n",
       "    </tr>\n",
       "    <tr>\n",
       "      <td>D40</td>\n",
       "      <td>3</td>\n",
       "      <td>33</td>\n",
       "      <td>46</td>\n",
       "      <td>{google-cloud, firebase}</td>\n",
       "    </tr>\n",
       "    <tr>\n",
       "      <td>D41</td>\n",
       "      <td>24</td>\n",
       "      <td>52</td>\n",
       "      <td>3</td>\n",
       "      <td>{selenium}</td>\n",
       "    </tr>\n",
       "    <tr>\n",
       "      <td>D42</td>\n",
       "      <td>9</td>\n",
       "      <td>14</td>\n",
       "      <td>45</td>\n",
       "      <td>{python, regex}</td>\n",
       "    </tr>\n",
       "    <tr>\n",
       "      <td>D43</td>\n",
       "      <td>36</td>\n",
       "      <td>35</td>\n",
       "      <td>25</td>\n",
       "      <td>{jquery}</td>\n",
       "    </tr>\n",
       "    <tr>\n",
       "      <td>D44</td>\n",
       "      <td>14</td>\n",
       "      <td>66</td>\n",
       "      <td>52</td>\n",
       "      <td>{jquery, ajax}</td>\n",
       "    </tr>\n",
       "    <tr>\n",
       "      <td>D45</td>\n",
       "      <td>0</td>\n",
       "      <td>66</td>\n",
       "      <td>64</td>\n",
       "      <td>{java, android, kotlin}</td>\n",
       "    </tr>\n",
       "    <tr>\n",
       "      <td>D46</td>\n",
       "      <td>10</td>\n",
       "      <td>19</td>\n",
       "      <td>34</td>\n",
       "      <td>{performance, r}</td>\n",
       "    </tr>\n",
       "    <tr>\n",
       "      <td>D47</td>\n",
       "      <td>3</td>\n",
       "      <td>59</td>\n",
       "      <td>60</td>\n",
       "      <td>{typescript, angular, java}</td>\n",
       "    </tr>\n",
       "    <tr>\n",
       "      <td>D48</td>\n",
       "      <td>64</td>\n",
       "      <td>52</td>\n",
       "      <td>55</td>\n",
       "      <td>{arrays, c++}</td>\n",
       "    </tr>\n",
       "    <tr>\n",
       "      <td>D49</td>\n",
       "      <td>67</td>\n",
       "      <td>36</td>\n",
       "      <td>52</td>\n",
       "      <td>{c++}</td>\n",
       "    </tr>\n",
       "  </tbody>\n",
       "</table>\n",
       "</div>"
      ],
      "text/plain": [
       "     First_topic  Second_topic  Third_topic                            Tags\n",
       "D0             1            69            6                {python, amazon}\n",
       "D1             0            41           60                        {python}\n",
       "D2            55            52           29                          {java}\n",
       "D3            41            12           57                       {node.js}\n",
       "D4            44            52           31                       {android}\n",
       "D5            29            59           45                        {pandas}\n",
       "D6             0            16           13             {git, python, bash}\n",
       "D7            37            24           52                           {api}\n",
       "D8            73             7           68                           {vue}\n",
       "D9            39            45           63                 {dart, flutter}\n",
       "D10           73             2           30                           {c++}\n",
       "D11           37            14           55  {python, apache, google-cloud}\n",
       "D12           60            46           25                        {python}\n",
       "D13            5            52           73                      {facebook}\n",
       "D14           39            44           36                 {dart, flutter}\n",
       "D15           65            39           35                     {java, css}\n",
       "D16           46            14           33           {java, arrays, class}\n",
       "D17            8            57            9    {visual-studio, c++, opencv}\n",
       "D18           52            57            5           {ruby, ruby-on-rails}\n",
       "D19           57            65            8                {python, opencv}\n",
       "D20           12            73           19   {web-scraping, python, excel}\n",
       "D21           63            65           69                           {vue}\n",
       "D22           48            24            5                 {java, android}\n",
       "D23           34            31           52                   {java, mysql}\n",
       "D24           35            21            3                           {css}\n",
       "D25           45            72           14                         {class}\n",
       "D26           24            52           30                    {xcode, c++}\n",
       "D27           23            49           14                        {django}\n",
       "D28           15             9           22                     {unity, c#}\n",
       "D29           58            57           36            {python, postgresql}\n",
       "D30           65            67            7            {java, react, forms}\n",
       "D31           32            66            9                   {asp.net, c#}\n",
       "D32           29            24            9                  {java, spring}\n",
       "D33           19            33           24             {typescript, excel}\n",
       "D34            4            52            7  {java, maven, linux, intellij}\n",
       "D35           14            43            9                          {java}\n",
       "D36           57            23           65                {image, laravel}\n",
       "D37           41             7            0                {python, ubuntu}\n",
       "D38            0            32            7                       {android}\n",
       "D39           19            73           18                           {php}\n",
       "D40            3            33           46        {google-cloud, firebase}\n",
       "D41           24            52            3                      {selenium}\n",
       "D42            9            14           45                 {python, regex}\n",
       "D43           36            35           25                        {jquery}\n",
       "D44           14            66           52                  {jquery, ajax}\n",
       "D45            0            66           64         {java, android, kotlin}\n",
       "D46           10            19           34                {performance, r}\n",
       "D47            3            59           60     {typescript, angular, java}\n",
       "D48           64            52           55                   {arrays, c++}\n",
       "D49           67            36           52                           {c++}"
      ]
     },
     "execution_count": 46,
     "metadata": {},
     "output_type": "execute_result"
    }
   ],
   "source": [
    "output = lda.transform(text_words) # Matrice documents-sujets\n",
    "topic_names = [\"S\" + str(i) for i in range(lda.n_components)]\n",
    "doc_names = [\"D\" + str(i) for i in range(len(df))]\n",
    "df_topics = pd.DataFrame(np.round(output, 2), \n",
    "                         columns=topic_names, \n",
    "                         index=doc_names)\n",
    "dominant_topic = np.argmax(df_topics.values, axis=1)\n",
    "sorted_output = np.argsort(-output, axis=1)\n",
    "df_topics['First_topic'] = sorted_output[:, 0]\n",
    "df_topics['Second_topic'] = sorted_output[:, 1]\n",
    "df_topics['Third_topic'] = sorted_output[:, 2]\n",
    "df_topics['Tags'] = df['Tags'].values\n",
    "\n",
    "print(\"Extrait de la matrice documents-sujets :\")\n",
    "df_topics[['First_topic', 'Second_topic', 'Third_topic', 'Tags']].head(50)"
   ]
  },
  {
   "cell_type": "code",
   "execution_count": 105,
   "metadata": {
    "ExecuteTime": {
     "end_time": "2019-09-26T22:06:45.424919Z",
     "start_time": "2019-09-26T22:06:45.371518Z"
    },
    "scrolled": true
   },
   "outputs": [
    {
     "name": "stdout",
     "output_type": "stream",
     "text": [
      "Matrice sujets-termes\n"
     ]
    },
    {
     "data": {
      "text/html": [
       "<div>\n",
       "<style scoped>\n",
       "    .dataframe tbody tr th:only-of-type {\n",
       "        vertical-align: middle;\n",
       "    }\n",
       "\n",
       "    .dataframe tbody tr th {\n",
       "        vertical-align: top;\n",
       "    }\n",
       "\n",
       "    .dataframe thead th {\n",
       "        text-align: right;\n",
       "    }\n",
       "</style>\n",
       "<table border=\"1\" class=\"dataframe\">\n",
       "  <thead>\n",
       "    <tr style=\"text-align: right;\">\n",
       "      <th></th>\n",
       "      <th>T0</th>\n",
       "      <th>T1</th>\n",
       "      <th>T2</th>\n",
       "      <th>T3</th>\n",
       "      <th>T4</th>\n",
       "      <th>T5</th>\n",
       "      <th>T6</th>\n",
       "      <th>T7</th>\n",
       "      <th>T8</th>\n",
       "      <th>T9</th>\n",
       "      <th>T10</th>\n",
       "      <th>T11</th>\n",
       "      <th>T12</th>\n",
       "      <th>T13</th>\n",
       "      <th>T14</th>\n",
       "    </tr>\n",
       "  </thead>\n",
       "  <tbody>\n",
       "    <tr>\n",
       "      <td>S0</td>\n",
       "      <td>script</td>\n",
       "      <td>command</td>\n",
       "      <td>directory</td>\n",
       "      <td>git</td>\n",
       "      <td>customer</td>\n",
       "      <td>environment</td>\n",
       "      <td>install</td>\n",
       "      <td>exit</td>\n",
       "      <td>instal</td>\n",
       "      <td>tool</td>\n",
       "      <td>editor</td>\n",
       "      <td>exe</td>\n",
       "      <td>manager</td>\n",
       "      <td>publish</td>\n",
       "      <td>cmd</td>\n",
       "    </tr>\n",
       "    <tr>\n",
       "      <td>S1</td>\n",
       "      <td>location</td>\n",
       "      <td>status</td>\n",
       "      <td>csv</td>\n",
       "      <td>check</td>\n",
       "      <td>aws</td>\n",
       "      <td>desktop</td>\n",
       "      <td>sthree</td>\n",
       "      <td>syntax</td>\n",
       "      <td>region</td>\n",
       "      <td>invalid</td>\n",
       "      <td>bucket</td>\n",
       "      <td>people</td>\n",
       "      <td>pull</td>\n",
       "      <td>period</td>\n",
       "      <td>writer</td>\n",
       "    </tr>\n",
       "    <tr>\n",
       "      <td>S2</td>\n",
       "      <td>plot</td>\n",
       "      <td>play</td>\n",
       "      <td>plt</td>\n",
       "      <td>audio</td>\n",
       "      <td>mp</td>\n",
       "      <td>reader</td>\n",
       "      <td>ax</td>\n",
       "      <td>show</td>\n",
       "      <td>arm</td>\n",
       "      <td>gui</td>\n",
       "      <td>matplotlib</td>\n",
       "      <td>mainwindow</td>\n",
       "      <td>legend</td>\n",
       "      <td>pi</td>\n",
       "      <td>light</td>\n",
       "    </tr>\n",
       "    <tr>\n",
       "      <td>S3</td>\n",
       "      <td>button</td>\n",
       "      <td>page</td>\n",
       "      <td>click</td>\n",
       "      <td>html</td>\n",
       "      <td>show</td>\n",
       "      <td>display</td>\n",
       "      <td>change</td>\n",
       "      <td>modal</td>\n",
       "      <td>trigger</td>\n",
       "      <td>inside</td>\n",
       "      <td>open</td>\n",
       "      <td>press</td>\n",
       "      <td>content</td>\n",
       "      <td>refresh</td>\n",
       "      <td>notification</td>\n",
       "    </tr>\n",
       "    <tr>\n",
       "      <td>S4</td>\n",
       "      <td>version</td>\n",
       "      <td>window</td>\n",
       "      <td>dependency</td>\n",
       "      <td>plugin</td>\n",
       "      <td>maven</td>\n",
       "      <td>artifactid</td>\n",
       "      <td>groupid</td>\n",
       "      <td>specify</td>\n",
       "      <td>machine</td>\n",
       "      <td>project</td>\n",
       "      <td>repository</td>\n",
       "      <td>plugins</td>\n",
       "      <td>due</td>\n",
       "      <td>spec</td>\n",
       "      <td>build</td>\n",
       "    </tr>\n",
       "    <tr>\n",
       "      <td>...</td>\n",
       "      <td>...</td>\n",
       "      <td>...</td>\n",
       "      <td>...</td>\n",
       "      <td>...</td>\n",
       "      <td>...</td>\n",
       "      <td>...</td>\n",
       "      <td>...</td>\n",
       "      <td>...</td>\n",
       "      <td>...</td>\n",
       "      <td>...</td>\n",
       "      <td>...</td>\n",
       "      <td>...</td>\n",
       "      <td>...</td>\n",
       "      <td>...</td>\n",
       "      <td>...</td>\n",
       "    </tr>\n",
       "    <tr>\n",
       "      <td>S70</td>\n",
       "      <td>cluster</td>\n",
       "      <td>bite</td>\n",
       "      <td>photo</td>\n",
       "      <td>delay</td>\n",
       "      <td>pygame</td>\n",
       "      <td>definition</td>\n",
       "      <td>keyboard</td>\n",
       "      <td>popup</td>\n",
       "      <td>graphic</td>\n",
       "      <td>subscription</td>\n",
       "      <td>depth</td>\n",
       "      <td>sa</td>\n",
       "      <td>health</td>\n",
       "      <td>bill</td>\n",
       "      <td>anchor</td>\n",
       "    </tr>\n",
       "    <tr>\n",
       "      <td>S71</td>\n",
       "      <td>write</td>\n",
       "      <td>str</td>\n",
       "      <td>ok</td>\n",
       "      <td>split</td>\n",
       "      <td>abc</td>\n",
       "      <td>valid</td>\n",
       "      <td>large</td>\n",
       "      <td>variant</td>\n",
       "      <td>fn</td>\n",
       "      <td>construct</td>\n",
       "      <td>backup</td>\n",
       "      <td>enum</td>\n",
       "      <td>serialize</td>\n",
       "      <td>xyz</td>\n",
       "      <td>food</td>\n",
       "    </tr>\n",
       "    <tr>\n",
       "      <td>S72</td>\n",
       "      <td>item</td>\n",
       "      <td>td</td>\n",
       "      <td>title</td>\n",
       "      <td>tr</td>\n",
       "      <td>delete</td>\n",
       "      <td>btn</td>\n",
       "      <td>th</td>\n",
       "      <td>table</td>\n",
       "      <td>book</td>\n",
       "      <td>fa</td>\n",
       "      <td>section</td>\n",
       "      <td>row</td>\n",
       "      <td>offset</td>\n",
       "      <td>mark</td>\n",
       "      <td>author</td>\n",
       "    </tr>\n",
       "    <tr>\n",
       "      <td>S73</td>\n",
       "      <td>request</td>\n",
       "      <td>api</td>\n",
       "      <td>url</td>\n",
       "      <td>response</td>\n",
       "      <td>http</td>\n",
       "      <td>header</td>\n",
       "      <td>post</td>\n",
       "      <td>token</td>\n",
       "      <td>json</td>\n",
       "      <td>data</td>\n",
       "      <td>content</td>\n",
       "      <td>send</td>\n",
       "      <td>body</td>\n",
       "      <td>return</td>\n",
       "      <td>encode</td>\n",
       "    </tr>\n",
       "    <tr>\n",
       "      <td>S74</td>\n",
       "      <td>node</td>\n",
       "      <td>module</td>\n",
       "      <td>require</td>\n",
       "      <td>npm</td>\n",
       "      <td>express</td>\n",
       "      <td>asset</td>\n",
       "      <td>sc</td>\n",
       "      <td>src</td>\n",
       "      <td>cs</td>\n",
       "      <td>ng</td>\n",
       "      <td>webpack</td>\n",
       "      <td>dist</td>\n",
       "      <td>cli</td>\n",
       "      <td>production</td>\n",
       "      <td>nodejs</td>\n",
       "    </tr>\n",
       "  </tbody>\n",
       "</table>\n",
       "<p>75 rows × 15 columns</p>\n",
       "</div>"
      ],
      "text/plain": [
       "           T0       T1          T2        T3        T4           T5        T6  \\\n",
       "S0     script  command   directory       git  customer  environment   install   \n",
       "S1   location   status         csv     check       aws      desktop    sthree   \n",
       "S2       plot     play         plt     audio        mp       reader        ax   \n",
       "S3     button     page       click      html      show      display    change   \n",
       "S4    version   window  dependency    plugin     maven   artifactid   groupid   \n",
       "..        ...      ...         ...       ...       ...          ...       ...   \n",
       "S70   cluster     bite       photo     delay    pygame   definition  keyboard   \n",
       "S71     write      str          ok     split       abc        valid     large   \n",
       "S72      item       td       title        tr    delete          btn        th   \n",
       "S73   request      api         url  response      http       header      post   \n",
       "S74      node   module     require       npm   express        asset        sc   \n",
       "\n",
       "          T7       T8            T9         T10         T11        T12  \\\n",
       "S0      exit   instal          tool      editor         exe    manager   \n",
       "S1    syntax   region       invalid      bucket      people       pull   \n",
       "S2      show      arm           gui  matplotlib  mainwindow     legend   \n",
       "S3     modal  trigger        inside        open       press    content   \n",
       "S4   specify  machine       project  repository     plugins        due   \n",
       "..       ...      ...           ...         ...         ...        ...   \n",
       "S70    popup  graphic  subscription       depth          sa     health   \n",
       "S71  variant       fn     construct      backup        enum  serialize   \n",
       "S72    table     book            fa     section         row     offset   \n",
       "S73    token     json          data     content        send       body   \n",
       "S74      src       cs            ng     webpack        dist        cli   \n",
       "\n",
       "            T13           T14  \n",
       "S0      publish           cmd  \n",
       "S1       period        writer  \n",
       "S2           pi         light  \n",
       "S3      refresh  notification  \n",
       "S4         spec         build  \n",
       "..          ...           ...  \n",
       "S70        bill        anchor  \n",
       "S71         xyz          food  \n",
       "S72        mark        author  \n",
       "S73      return        encode  \n",
       "S74  production        nodejs  \n",
       "\n",
       "[75 rows x 15 columns]"
      ]
     },
     "execution_count": 105,
     "metadata": {},
     "output_type": "execute_result"
    }
   ],
   "source": [
    "def show_topics(vectorizer, lda_model, n_words=5):\n",
    "    keywords = np.array(vectorizer.get_feature_names())\n",
    "    topic_keywords = []\n",
    "    for topic_weights in lda_model.components_:\n",
    "        top_keyword_locs = (-topic_weights).argsort()[:n_words]\n",
    "        topic_keywords.append(keywords.take(top_keyword_locs))\n",
    "    return topic_keywords\n",
    "\n",
    "topic_keywords = show_topics(cv, lda, n_words=15)        \n",
    "df_keywords = pd.DataFrame(topic_keywords)\n",
    "df_keywords.columns = [f'T{i}' for i in range(df_keywords.shape[1])]\n",
    "df_keywords.index = [f'S{i}' for i in range(df_keywords.shape[0])]\n",
    "print(\"Matrice sujets-termes\")\n",
    "df_keywords"
   ]
  },
  {
   "cell_type": "markdown",
   "metadata": {},
   "source": [
    "### Représentation graphique des résultats"
   ]
  },
  {
   "cell_type": "code",
   "execution_count": 48,
   "metadata": {
    "ExecuteTime": {
     "end_time": "2019-09-26T07:20:38.786959Z",
     "start_time": "2019-09-26T07:18:15.485760Z"
    }
   },
   "outputs": [
    {
     "name": "stderr",
     "output_type": "stream",
     "text": [
      "C:\\Users\\regclem\\.conda\\envs\\tagging_env\\lib\\site-packages\\pyLDAvis\\_prepare.py:257: FutureWarning: Sorting because non-concatenation axis is not aligned. A future version\n",
      "of pandas will change to not sort by default.\n",
      "\n",
      "To accept the future behavior, pass 'sort=False'.\n",
      "\n",
      "To retain the current behavior and silence the warning, pass 'sort=True'.\n",
      "\n",
      "  return pd.concat([default_term_info] + list(topic_dfs))\n"
     ]
    },
    {
     "data": {
      "text/html": [
       "\n",
       "<link rel=\"stylesheet\" type=\"text/css\" href=\"https://cdn.rawgit.com/bmabey/pyLDAvis/files/ldavis.v1.0.0.css\">\n",
       "\n",
       "\n",
       "<div id=\"ldavis_el1860013560449959128189275860\"></div>\n",
       "<script type=\"text/javascript\">\n",
       "\n",
       "var ldavis_el1860013560449959128189275860_data = {\"mdsDat\": {\"x\": [-25.432968139648438, 64.03636932373047, 7.089995384216309, -53.050453186035156, -50.7230110168457, 11.190381050109863, 3.510498046875, -97.56947326660156, -31.280393600463867, -22.114370346069336, -71.54263305664062, 13.919229507446289, -31.840822219848633, -113.15764617919922, -31.566007614135742, -73.69873046875, -18.71177101135254, 80.26255798339844, 24.5598201751709, 137.28958129882812, -88.72539520263672, -52.297279357910156, -134.76869201660156, 118.75312042236328, 109.16777038574219, -155.76583862304688, -142.49122619628906, 20.64106559753418, 21.01059913635254, -101.44389343261719, -63.77412796020508, 42.419654846191406, -48.78529739379883, 122.05435943603516, -69.04241180419922, -114.23194885253906, 108.89237976074219, 92.70209503173828, 129.14784240722656, 145.13259887695312, -23.124231338500977, -62.70030212402344, 61.57167053222656, 75.66495513916016, -14.212607383728027, 26.696964263916016, -156.61044311523438, 57.14642333984375, 4.387972354888916, -81.86454772949219, -125.31614685058594, -82.59148406982422, 23.755781173706055, 34.31102752685547, -136.33392333984375, 94.35726928710938, 42.26703643798828, 84.2072982788086, -147.614501953125, 4.354208946228027, 91.39002990722656, 43.846824645996094, -5.728631019592285, -233.29502868652344, -7.844829082489014, -165.7155303955078, -73.31613159179688, 51.54293441772461, -26.102514266967773, -35.756553649902344, -67.87784576416016, 0.41245797276496887, 219.6609344482422, -21.203535079956055, 64.47013854980469], \"y\": [-73.51676940917969, -76.09151458740234, -43.83542251586914, -10.377847671508789, 57.847679138183594, 72.08161926269531, 96.2494125366211, 36.932151794433594, 77.4497299194336, -53.296321868896484, 22.60847282409668, 44.42190170288086, -109.51094055175781, 80.86003112792969, -9.436400413513184, 59.40873336791992, 49.35728073120117, -94.68406677246094, -28.705326080322266, -39.51876449584961, 140.2145538330078, -79.29568481445312, 59.99787902832031, 34.12612533569336, 133.09112548828125, -41.15965270996094, -22.28537368774414, -67.19339752197266, 4.638851165771484, -48.1986198425293, 140.15428161621094, 66.47138977050781, 22.698265075683594, 114.07311248779297, 100.26046752929688, 12.820465087890625, 3.640425205230713, -11.508992195129395, -98.27808380126953, 33.94407272338867, 158.23178100585938, -48.28175354003906, 102.75811767578125, 33.78687286376953, 115.9201889038086, 159.77243041992188, 22.958650588989258, -45.85227966308594, -95.00886535644531, -12.003560066223145, -71.1831283569336, -83.04251861572266, -204.01126098632812, 117.5822982788086, 107.88289642333984, -59.10475158691406, 30.55780792236328, 210.63221740722656, -147.861083984375, -140.7932586669922, 73.1581039428711, -101.93231201171875, -27.18604278564453, 10.043503761291504, -4.230794906616211, 183.81072998046875, -130.0836639404297, -4.444334983825684, 16.14071273803711, -29.479415893554688, -207.78858947753906, 18.735754013061523, 17.724912643432617, 233.84275817871094, -148.1882781982422], \"topics\": [1, 2, 3, 4, 5, 6, 7, 8, 9, 10, 11, 12, 13, 14, 15, 16, 17, 18, 19, 20, 21, 22, 23, 24, 25, 26, 27, 28, 29, 30, 31, 32, 33, 34, 35, 36, 37, 38, 39, 40, 41, 42, 43, 44, 45, 46, 47, 48, 49, 50, 51, 52, 53, 54, 55, 56, 57, 58, 59, 60, 61, 62, 63, 64, 65, 66, 67, 68, 69, 70, 71, 72, 73, 74, 75], \"cluster\": [1, 1, 1, 1, 1, 1, 1, 1, 1, 1, 1, 1, 1, 1, 1, 1, 1, 1, 1, 1, 1, 1, 1, 1, 1, 1, 1, 1, 1, 1, 1, 1, 1, 1, 1, 1, 1, 1, 1, 1, 1, 1, 1, 1, 1, 1, 1, 1, 1, 1, 1, 1, 1, 1, 1, 1, 1, 1, 1, 1, 1, 1, 1, 1, 1, 1, 1, 1, 1, 1, 1, 1, 1, 1, 1], \"Freq\": [6.250867438347749, 2.779733356114697, 2.7090110969876364, 2.6984451047650504, 2.6268703420433392, 2.394651599962974, 2.3826084774458387, 2.2840292591634648, 2.1903672435428527, 2.1341982820382284, 2.121884283505757, 1.9548128672198593, 1.8859437902363336, 1.8750314530801475, 1.8667810766674526, 1.7889603985383498, 1.7653501368014115, 1.7495139468826002, 1.741530879599966, 1.6094661380907527, 1.5273421447335755, 1.5179005897993534, 1.5143309593164078, 1.5138075137597102, 1.4789396149676124, 1.4502183955163184, 1.4426962490907609, 1.4323709435361356, 1.374219081232231, 1.358629003881008, 1.3534535244172274, 1.3469111623190488, 1.3247489005562791, 1.32230432830851, 1.247831038471581, 1.2022706727098014, 1.1792050941963803, 1.1468374158183412, 1.1412856956578892, 1.1326879878193172, 1.12675775595917, 1.1155562760866329, 1.1135707632368688, 1.0704783814762318, 1.0615005971931188, 1.0374122266629955, 1.0011159969027357, 0.9549625324831597, 0.9502457032701375, 0.9474856955241205, 0.9289921875160799, 0.9287134934289578, 0.8880714437692119, 0.8097934450340186, 0.7968714803844987, 0.7709803969491466, 0.7591499602138229, 0.7375070617724564, 0.732956807976035, 0.683257841432332, 0.6549200807525897, 0.6538793827344699, 0.6404065191970689, 0.59939208477016, 0.5858336548070526, 0.5317814377271926, 0.5272673476231197, 0.5256356617458421, 0.5043313366950699, 0.48136219622610793, 0.4636987119417648, 0.42922142386744605, 0.41676088242216647, 0.40153186394371165, 0.35054988113256597]}, \"tinfo\": {\"Category\": [\"Default\", \"Default\", \"Default\", \"Default\", \"Default\", \"Default\", \"Default\", \"Default\", \"Default\", \"Default\", \"Default\", \"Default\", \"Default\", \"Default\", \"Default\", \"Default\", \"Default\", \"Default\", \"Default\", \"Default\", \"Default\", \"Default\", \"Default\", \"Default\", \"Default\", \"Default\", \"Default\", \"Default\", \"Default\", \"Default\", \"Topic1\", \"Topic1\", \"Topic1\", \"Topic1\", \"Topic1\", \"Topic1\", \"Topic1\", \"Topic1\", \"Topic1\", \"Topic1\", \"Topic1\", \"Topic1\", \"Topic1\", \"Topic1\", \"Topic1\", \"Topic1\", \"Topic1\", \"Topic1\", \"Topic1\", \"Topic1\", \"Topic1\", \"Topic1\", \"Topic1\", \"Topic1\", \"Topic1\", \"Topic1\", \"Topic1\", \"Topic1\", \"Topic1\", \"Topic1\", \"Topic1\", \"Topic1\", \"Topic1\", \"Topic1\", \"Topic1\", \"Topic1\", \"Topic1\", \"Topic1\", \"Topic1\", \"Topic1\", \"Topic1\", \"Topic1\", \"Topic1\", \"Topic1\", \"Topic1\", \"Topic1\", \"Topic1\", \"Topic1\", \"Topic1\", \"Topic1\", \"Topic1\", \"Topic1\", \"Topic1\", \"Topic1\", \"Topic1\", \"Topic1\", \"Topic1\", \"Topic1\", \"Topic1\", \"Topic1\", \"Topic1\", \"Topic1\", \"Topic1\", \"Topic1\", \"Topic2\", \"Topic2\", \"Topic2\", \"Topic2\", \"Topic2\", \"Topic2\", \"Topic2\", \"Topic2\", \"Topic2\", \"Topic2\", \"Topic2\", \"Topic2\", \"Topic2\", \"Topic2\", \"Topic2\", \"Topic2\", \"Topic2\", \"Topic2\", \"Topic2\", \"Topic2\", \"Topic2\", \"Topic2\", \"Topic2\", \"Topic2\", \"Topic2\", \"Topic2\", \"Topic2\", \"Topic2\", \"Topic2\", \"Topic2\", \"Topic2\", \"Topic2\", \"Topic2\", \"Topic2\", \"Topic2\", \"Topic2\", \"Topic2\", \"Topic2\", \"Topic2\", \"Topic2\", \"Topic2\", \"Topic2\", \"Topic2\", \"Topic2\", \"Topic2\", \"Topic2\", \"Topic2\", \"Topic2\", \"Topic2\", \"Topic2\", \"Topic2\", \"Topic2\", \"Topic2\", \"Topic2\", \"Topic2\", \"Topic2\", \"Topic2\", \"Topic3\", \"Topic3\", \"Topic3\", \"Topic3\", \"Topic3\", \"Topic3\", \"Topic3\", \"Topic3\", \"Topic3\", \"Topic3\", \"Topic3\", \"Topic3\", \"Topic3\", \"Topic3\", \"Topic3\", \"Topic3\", \"Topic3\", \"Topic3\", \"Topic3\", \"Topic3\", \"Topic3\", \"Topic3\", \"Topic3\", \"Topic3\", \"Topic3\", \"Topic3\", \"Topic3\", \"Topic3\", \"Topic3\", \"Topic3\", \"Topic3\", \"Topic3\", \"Topic3\", \"Topic3\", \"Topic3\", \"Topic3\", \"Topic3\", \"Topic3\", \"Topic3\", \"Topic3\", \"Topic3\", \"Topic3\", \"Topic3\", \"Topic3\", \"Topic3\", \"Topic3\", \"Topic3\", \"Topic3\", \"Topic3\", \"Topic3\", \"Topic3\", \"Topic3\", \"Topic3\", \"Topic3\", \"Topic3\", \"Topic3\", \"Topic3\", \"Topic4\", \"Topic4\", \"Topic4\", \"Topic4\", \"Topic4\", \"Topic4\", \"Topic4\", \"Topic4\", \"Topic4\", \"Topic4\", \"Topic4\", \"Topic4\", \"Topic4\", \"Topic4\", \"Topic4\", \"Topic4\", \"Topic4\", \"Topic4\", \"Topic4\", \"Topic4\", \"Topic4\", \"Topic4\", \"Topic4\", \"Topic4\", \"Topic4\", \"Topic4\", \"Topic4\", \"Topic4\", \"Topic4\", \"Topic4\", \"Topic4\", \"Topic4\", \"Topic4\", \"Topic4\", \"Topic4\", \"Topic4\", \"Topic4\", \"Topic4\", \"Topic4\", \"Topic4\", \"Topic4\", \"Topic4\", \"Topic4\", \"Topic4\", \"Topic4\", \"Topic4\", \"Topic4\", \"Topic4\", \"Topic4\", \"Topic4\", \"Topic4\", \"Topic4\", \"Topic5\", \"Topic5\", \"Topic5\", \"Topic5\", \"Topic5\", \"Topic5\", \"Topic5\", \"Topic5\", \"Topic5\", \"Topic5\", \"Topic5\", \"Topic5\", \"Topic5\", \"Topic5\", \"Topic5\", \"Topic5\", \"Topic5\", \"Topic5\", \"Topic5\", \"Topic5\", \"Topic5\", \"Topic5\", \"Topic5\", \"Topic5\", \"Topic5\", \"Topic5\", \"Topic5\", \"Topic5\", \"Topic5\", \"Topic5\", \"Topic5\", \"Topic5\", \"Topic5\", \"Topic5\", \"Topic5\", \"Topic5\", \"Topic5\", \"Topic5\", \"Topic5\", \"Topic5\", \"Topic5\", \"Topic5\", \"Topic5\", \"Topic5\", \"Topic5\", \"Topic5\", \"Topic5\", \"Topic5\", \"Topic5\", \"Topic5\", \"Topic5\", \"Topic5\", \"Topic5\", \"Topic5\", \"Topic5\", \"Topic6\", \"Topic6\", \"Topic6\", \"Topic6\", \"Topic6\", \"Topic6\", \"Topic6\", \"Topic6\", \"Topic6\", \"Topic6\", \"Topic6\", \"Topic6\", \"Topic6\", \"Topic6\", \"Topic6\", \"Topic6\", \"Topic6\", \"Topic6\", \"Topic6\", \"Topic6\", \"Topic6\", \"Topic6\", \"Topic6\", \"Topic6\", \"Topic6\", \"Topic6\", \"Topic6\", \"Topic6\", \"Topic6\", \"Topic6\", \"Topic6\", \"Topic6\", \"Topic6\", \"Topic6\", \"Topic6\", \"Topic6\", \"Topic6\", \"Topic6\", \"Topic6\", \"Topic6\", \"Topic6\", \"Topic6\", \"Topic6\", \"Topic6\", \"Topic6\", \"Topic6\", \"Topic6\", \"Topic6\", \"Topic6\", \"Topic6\", \"Topic6\", \"Topic7\", \"Topic7\", \"Topic7\", \"Topic7\", \"Topic7\", \"Topic7\", \"Topic7\", \"Topic7\", \"Topic7\", \"Topic7\", \"Topic7\", \"Topic7\", \"Topic7\", \"Topic7\", \"Topic7\", \"Topic7\", \"Topic7\", \"Topic7\", \"Topic7\", \"Topic7\", \"Topic7\", \"Topic7\", \"Topic7\", \"Topic7\", \"Topic7\", \"Topic7\", \"Topic7\", \"Topic7\", \"Topic7\", \"Topic7\", \"Topic7\", \"Topic7\", \"Topic7\", \"Topic7\", \"Topic7\", \"Topic7\", \"Topic7\", \"Topic7\", \"Topic7\", \"Topic7\", \"Topic7\", \"Topic7\", \"Topic7\", \"Topic7\", \"Topic7\", \"Topic7\", \"Topic7\", \"Topic7\", \"Topic7\", \"Topic7\", \"Topic7\", \"Topic7\", \"Topic7\", \"Topic7\", \"Topic7\", \"Topic7\", \"Topic7\", \"Topic7\", \"Topic8\", \"Topic8\", \"Topic8\", \"Topic8\", \"Topic8\", \"Topic8\", \"Topic8\", \"Topic8\", \"Topic8\", \"Topic8\", \"Topic8\", \"Topic8\", \"Topic8\", \"Topic8\", \"Topic8\", \"Topic8\", \"Topic8\", \"Topic8\", \"Topic8\", \"Topic8\", \"Topic8\", \"Topic8\", \"Topic8\", \"Topic8\", \"Topic8\", \"Topic8\", \"Topic8\", \"Topic8\", \"Topic8\", \"Topic8\", \"Topic8\", \"Topic8\", \"Topic8\", \"Topic8\", \"Topic8\", \"Topic8\", \"Topic8\", \"Topic8\", \"Topic8\", \"Topic8\", \"Topic8\", \"Topic8\", \"Topic8\", \"Topic8\", \"Topic8\", \"Topic8\", \"Topic8\", \"Topic8\", \"Topic8\", \"Topic8\", \"Topic9\", \"Topic9\", \"Topic9\", \"Topic9\", \"Topic9\", \"Topic9\", \"Topic9\", \"Topic9\", \"Topic9\", \"Topic9\", \"Topic9\", \"Topic9\", \"Topic9\", \"Topic9\", \"Topic9\", \"Topic9\", \"Topic9\", \"Topic9\", \"Topic9\", \"Topic9\", \"Topic9\", \"Topic9\", \"Topic9\", \"Topic9\", \"Topic9\", \"Topic9\", \"Topic9\", \"Topic9\", \"Topic9\", \"Topic9\", \"Topic9\", \"Topic9\", \"Topic9\", \"Topic9\", \"Topic9\", \"Topic9\", \"Topic9\", \"Topic9\", \"Topic9\", \"Topic9\", \"Topic9\", \"Topic9\", \"Topic9\", \"Topic9\", \"Topic9\", \"Topic9\", \"Topic9\", \"Topic9\", \"Topic9\", \"Topic9\", \"Topic9\", \"Topic9\", \"Topic9\", \"Topic9\", \"Topic9\", \"Topic9\", \"Topic9\", \"Topic10\", \"Topic10\", \"Topic10\", \"Topic10\", \"Topic10\", \"Topic10\", \"Topic10\", \"Topic10\", \"Topic10\", \"Topic10\", \"Topic10\", \"Topic10\", \"Topic10\", \"Topic10\", \"Topic10\", \"Topic10\", \"Topic10\", \"Topic10\", \"Topic10\", \"Topic10\", \"Topic10\", \"Topic10\", \"Topic10\", \"Topic10\", \"Topic10\", \"Topic10\", \"Topic10\", \"Topic10\", \"Topic10\", \"Topic10\", \"Topic10\", \"Topic10\", \"Topic10\", \"Topic10\", \"Topic10\", \"Topic10\", \"Topic10\", \"Topic10\", \"Topic10\", \"Topic10\", \"Topic10\", \"Topic10\", \"Topic10\", \"Topic10\", \"Topic10\", \"Topic10\", \"Topic10\", \"Topic10\", \"Topic10\", \"Topic10\", \"Topic10\", \"Topic10\", \"Topic11\", \"Topic11\", \"Topic11\", \"Topic11\", \"Topic11\", \"Topic11\", \"Topic11\", \"Topic11\", \"Topic11\", \"Topic11\", \"Topic11\", \"Topic11\", \"Topic11\", \"Topic11\", \"Topic11\", \"Topic11\", \"Topic11\", \"Topic11\", \"Topic11\", \"Topic11\", \"Topic11\", \"Topic11\", \"Topic11\", \"Topic11\", \"Topic11\", \"Topic11\", \"Topic11\", \"Topic11\", \"Topic11\", \"Topic11\", \"Topic11\", \"Topic11\", \"Topic11\", \"Topic11\", \"Topic11\", \"Topic11\", \"Topic11\", \"Topic11\", \"Topic11\", \"Topic11\", \"Topic11\", \"Topic11\", \"Topic11\", \"Topic11\", \"Topic11\", \"Topic11\", \"Topic11\", \"Topic11\", \"Topic11\", \"Topic11\", \"Topic11\", \"Topic11\", \"Topic11\", \"Topic11\", \"Topic11\", \"Topic11\", \"Topic11\", \"Topic12\", \"Topic12\", \"Topic12\", \"Topic12\", \"Topic12\", \"Topic12\", \"Topic12\", \"Topic12\", \"Topic12\", \"Topic12\", \"Topic12\", \"Topic12\", \"Topic12\", \"Topic12\", \"Topic12\", \"Topic12\", \"Topic12\", \"Topic12\", \"Topic12\", \"Topic12\", \"Topic12\", \"Topic12\", \"Topic12\", \"Topic12\", \"Topic12\", \"Topic12\", \"Topic12\", \"Topic12\", \"Topic12\", \"Topic12\", \"Topic12\", \"Topic12\", \"Topic12\", \"Topic12\", \"Topic12\", \"Topic12\", \"Topic12\", \"Topic12\", \"Topic12\", \"Topic12\", \"Topic12\", \"Topic12\", \"Topic12\", \"Topic12\", \"Topic12\", \"Topic12\", \"Topic12\", \"Topic12\", \"Topic12\", \"Topic12\", \"Topic12\", \"Topic12\", \"Topic13\", \"Topic13\", \"Topic13\", \"Topic13\", \"Topic13\", \"Topic13\", \"Topic13\", \"Topic13\", \"Topic13\", \"Topic13\", \"Topic13\", \"Topic13\", \"Topic13\", \"Topic13\", \"Topic13\", \"Topic13\", \"Topic13\", \"Topic13\", \"Topic13\", \"Topic13\", \"Topic13\", \"Topic13\", \"Topic13\", \"Topic13\", \"Topic13\", \"Topic13\", \"Topic13\", \"Topic13\", \"Topic13\", \"Topic13\", \"Topic13\", \"Topic13\", \"Topic13\", \"Topic13\", \"Topic13\", \"Topic13\", \"Topic13\", \"Topic13\", \"Topic13\", \"Topic14\", \"Topic14\", \"Topic14\", \"Topic14\", \"Topic14\", \"Topic14\", \"Topic14\", \"Topic14\", \"Topic14\", \"Topic14\", \"Topic14\", \"Topic14\", \"Topic14\", \"Topic14\", \"Topic14\", \"Topic14\", \"Topic14\", \"Topic14\", \"Topic14\", \"Topic14\", \"Topic14\", \"Topic14\", \"Topic14\", \"Topic14\", \"Topic14\", \"Topic14\", \"Topic14\", \"Topic14\", \"Topic14\", \"Topic14\", \"Topic14\", \"Topic14\", \"Topic14\", \"Topic14\", \"Topic14\", \"Topic14\", \"Topic14\", \"Topic14\", \"Topic14\", \"Topic14\", \"Topic14\", \"Topic14\", \"Topic14\", \"Topic14\", \"Topic14\", \"Topic14\", \"Topic14\", \"Topic14\", \"Topic14\", \"Topic14\", \"Topic14\", \"Topic14\", \"Topic14\", \"Topic14\", \"Topic15\", \"Topic15\", \"Topic15\", \"Topic15\", \"Topic15\", \"Topic15\", \"Topic15\", \"Topic15\", \"Topic15\", \"Topic15\", \"Topic15\", \"Topic15\", \"Topic15\", \"Topic15\", \"Topic15\", \"Topic15\", \"Topic15\", \"Topic15\", \"Topic15\", \"Topic15\", \"Topic15\", \"Topic15\", \"Topic15\", \"Topic15\", \"Topic15\", \"Topic15\", \"Topic15\", \"Topic15\", \"Topic15\", \"Topic15\", \"Topic15\", \"Topic15\", \"Topic15\", \"Topic15\", \"Topic15\", \"Topic15\", \"Topic15\", \"Topic15\", \"Topic15\", \"Topic15\", \"Topic15\", \"Topic15\", \"Topic15\", \"Topic15\", \"Topic15\", \"Topic15\", \"Topic15\", \"Topic15\", \"Topic15\", \"Topic15\", \"Topic16\", \"Topic16\", \"Topic16\", \"Topic16\", \"Topic16\", \"Topic16\", \"Topic16\", \"Topic16\", \"Topic16\", \"Topic16\", \"Topic16\", \"Topic16\", \"Topic16\", \"Topic16\", \"Topic16\", \"Topic16\", \"Topic16\", \"Topic16\", \"Topic16\", \"Topic16\", \"Topic16\", \"Topic16\", \"Topic16\", \"Topic16\", \"Topic16\", \"Topic16\", \"Topic16\", \"Topic16\", \"Topic16\", \"Topic16\", \"Topic16\", \"Topic16\", \"Topic16\", \"Topic16\", \"Topic16\", \"Topic16\", \"Topic16\", \"Topic16\", \"Topic16\", \"Topic16\", \"Topic16\", \"Topic16\", \"Topic16\", \"Topic16\", \"Topic16\", \"Topic16\", \"Topic16\", \"Topic16\", \"Topic16\", \"Topic16\", \"Topic16\", \"Topic17\", \"Topic17\", \"Topic17\", \"Topic17\", \"Topic17\", \"Topic17\", \"Topic17\", \"Topic17\", \"Topic17\", \"Topic17\", \"Topic17\", \"Topic17\", \"Topic17\", \"Topic17\", \"Topic17\", \"Topic17\", \"Topic17\", \"Topic17\", \"Topic17\", \"Topic17\", \"Topic17\", \"Topic17\", \"Topic17\", \"Topic17\", \"Topic17\", \"Topic17\", \"Topic17\", \"Topic17\", \"Topic17\", \"Topic17\", \"Topic17\", \"Topic17\", \"Topic17\", \"Topic17\", \"Topic17\", \"Topic17\", \"Topic17\", \"Topic17\", \"Topic17\", \"Topic17\", \"Topic17\", \"Topic17\", \"Topic17\", \"Topic17\", \"Topic17\", \"Topic17\", \"Topic17\", \"Topic17\", \"Topic17\", \"Topic17\", \"Topic17\", \"Topic17\", \"Topic17\", \"Topic17\", \"Topic18\", \"Topic18\", \"Topic18\", \"Topic18\", \"Topic18\", \"Topic18\", \"Topic18\", \"Topic18\", \"Topic18\", \"Topic18\", \"Topic18\", \"Topic18\", \"Topic18\", \"Topic18\", \"Topic18\", \"Topic18\", \"Topic18\", \"Topic18\", \"Topic18\", \"Topic18\", \"Topic18\", \"Topic18\", \"Topic18\", \"Topic18\", \"Topic18\", \"Topic18\", \"Topic18\", \"Topic18\", \"Topic18\", \"Topic18\", \"Topic18\", \"Topic18\", \"Topic18\", \"Topic18\", \"Topic18\", \"Topic18\", \"Topic18\", \"Topic18\", \"Topic18\", \"Topic18\", \"Topic18\", \"Topic18\", \"Topic18\", \"Topic18\", \"Topic18\", \"Topic18\", \"Topic19\", \"Topic19\", \"Topic19\", \"Topic19\", \"Topic19\", \"Topic19\", \"Topic19\", \"Topic19\", \"Topic19\", \"Topic19\", \"Topic19\", \"Topic19\", \"Topic19\", \"Topic19\", \"Topic19\", \"Topic19\", \"Topic19\", \"Topic19\", \"Topic19\", \"Topic19\", \"Topic19\", \"Topic19\", \"Topic19\", \"Topic19\", \"Topic19\", \"Topic19\", \"Topic19\", \"Topic19\", \"Topic19\", \"Topic19\", \"Topic19\", \"Topic19\", \"Topic19\", \"Topic19\", \"Topic19\", \"Topic19\", \"Topic19\", \"Topic19\", \"Topic19\", \"Topic19\", \"Topic19\", \"Topic19\", \"Topic19\", \"Topic19\", \"Topic19\", \"Topic19\", \"Topic19\", \"Topic19\", \"Topic19\", \"Topic20\", \"Topic20\", \"Topic20\", \"Topic20\", \"Topic20\", \"Topic20\", \"Topic20\", \"Topic20\", \"Topic20\", \"Topic20\", \"Topic20\", \"Topic20\", \"Topic20\", \"Topic20\", \"Topic20\", \"Topic20\", \"Topic20\", \"Topic20\", \"Topic20\", \"Topic20\", \"Topic20\", \"Topic20\", \"Topic20\", \"Topic20\", \"Topic20\", \"Topic20\", \"Topic20\", \"Topic20\", \"Topic20\", \"Topic20\", \"Topic20\", \"Topic20\", \"Topic20\", \"Topic20\", \"Topic20\", \"Topic20\", \"Topic20\", \"Topic20\", \"Topic20\", \"Topic20\", \"Topic20\", \"Topic20\", \"Topic20\", \"Topic20\", \"Topic20\", \"Topic20\", \"Topic20\", \"Topic20\", \"Topic20\", \"Topic20\", \"Topic20\", \"Topic20\", \"Topic21\", \"Topic21\", \"Topic21\", \"Topic21\", \"Topic21\", \"Topic21\", \"Topic21\", \"Topic21\", \"Topic21\", \"Topic21\", \"Topic21\", \"Topic21\", \"Topic21\", \"Topic21\", \"Topic21\", \"Topic21\", \"Topic21\", \"Topic21\", \"Topic21\", \"Topic21\", \"Topic21\", \"Topic21\", \"Topic21\", \"Topic21\", \"Topic21\", \"Topic21\", \"Topic21\", \"Topic21\", \"Topic21\", \"Topic21\", \"Topic21\", \"Topic21\", \"Topic21\", \"Topic21\", \"Topic21\", \"Topic21\", \"Topic21\", \"Topic21\", \"Topic21\", \"Topic21\", \"Topic21\", \"Topic21\", \"Topic21\", \"Topic21\", \"Topic21\", \"Topic21\", \"Topic21\", \"Topic21\", \"Topic22\", \"Topic22\", \"Topic22\", \"Topic22\", \"Topic22\", \"Topic22\", \"Topic22\", \"Topic22\", \"Topic22\", \"Topic22\", \"Topic22\", \"Topic22\", \"Topic22\", \"Topic22\", \"Topic22\", \"Topic22\", \"Topic22\", \"Topic22\", \"Topic22\", \"Topic22\", \"Topic22\", \"Topic22\", \"Topic22\", \"Topic22\", \"Topic22\", \"Topic22\", \"Topic22\", \"Topic22\", \"Topic22\", \"Topic22\", \"Topic22\", \"Topic22\", \"Topic22\", \"Topic22\", \"Topic22\", \"Topic22\", \"Topic22\", \"Topic22\", \"Topic22\", \"Topic22\", \"Topic22\", \"Topic22\", \"Topic22\", \"Topic22\", \"Topic22\", \"Topic22\", \"Topic22\", \"Topic22\", \"Topic23\", \"Topic23\", \"Topic23\", \"Topic23\", \"Topic23\", \"Topic23\", \"Topic23\", \"Topic23\", \"Topic23\", \"Topic23\", \"Topic23\", \"Topic23\", \"Topic23\", \"Topic23\", \"Topic23\", \"Topic23\", \"Topic23\", \"Topic23\", \"Topic23\", \"Topic23\", \"Topic23\", \"Topic23\", \"Topic23\", \"Topic23\", \"Topic23\", \"Topic23\", \"Topic23\", \"Topic23\", \"Topic23\", \"Topic23\", \"Topic23\", \"Topic23\", \"Topic23\", \"Topic23\", \"Topic23\", \"Topic23\", \"Topic23\", \"Topic23\", \"Topic23\", \"Topic23\", \"Topic23\", \"Topic23\", \"Topic23\", \"Topic23\", \"Topic23\", \"Topic24\", \"Topic24\", \"Topic24\", \"Topic24\", \"Topic24\", \"Topic24\", \"Topic24\", \"Topic24\", \"Topic24\", \"Topic24\", \"Topic24\", \"Topic24\", \"Topic24\", \"Topic24\", \"Topic24\", \"Topic24\", \"Topic24\", \"Topic24\", \"Topic24\", \"Topic24\", \"Topic24\", \"Topic24\", \"Topic24\", \"Topic24\", \"Topic24\", \"Topic24\", \"Topic24\", \"Topic24\", \"Topic24\", \"Topic24\", \"Topic24\", \"Topic24\", \"Topic24\", \"Topic24\", \"Topic24\", \"Topic24\", \"Topic24\", \"Topic24\", \"Topic24\", \"Topic24\", \"Topic24\", \"Topic24\", \"Topic24\", \"Topic24\", \"Topic24\", \"Topic24\", \"Topic24\", \"Topic24\", \"Topic24\", \"Topic24\", \"Topic24\", \"Topic24\", \"Topic25\", \"Topic25\", \"Topic25\", \"Topic25\", \"Topic25\", \"Topic25\", \"Topic25\", \"Topic25\", \"Topic25\", \"Topic25\", \"Topic25\", \"Topic25\", \"Topic25\", \"Topic25\", \"Topic25\", \"Topic25\", \"Topic25\", \"Topic25\", \"Topic25\", \"Topic25\", \"Topic25\", \"Topic25\", \"Topic25\", \"Topic25\", \"Topic25\", \"Topic25\", \"Topic25\", \"Topic25\", \"Topic25\", \"Topic25\", \"Topic25\", \"Topic25\", \"Topic25\", \"Topic25\", \"Topic25\", \"Topic25\", \"Topic25\", \"Topic25\", \"Topic25\", \"Topic25\", \"Topic25\", \"Topic25\", \"Topic25\", \"Topic25\", \"Topic25\", \"Topic25\", \"Topic26\", \"Topic26\", \"Topic26\", \"Topic26\", \"Topic26\", \"Topic26\", \"Topic26\", \"Topic26\", \"Topic26\", \"Topic26\", \"Topic26\", \"Topic26\", \"Topic26\", \"Topic26\", \"Topic26\", \"Topic26\", \"Topic26\", \"Topic26\", \"Topic26\", \"Topic26\", \"Topic26\", \"Topic26\", \"Topic26\", \"Topic26\", \"Topic26\", \"Topic26\", \"Topic26\", \"Topic26\", \"Topic26\", \"Topic26\", \"Topic26\", \"Topic26\", \"Topic26\", \"Topic26\", \"Topic26\", \"Topic26\", \"Topic26\", \"Topic26\", \"Topic26\", \"Topic26\", \"Topic26\", \"Topic26\", \"Topic26\", \"Topic26\", \"Topic26\", \"Topic26\", \"Topic26\", \"Topic26\", \"Topic26\", \"Topic26\", \"Topic26\", \"Topic27\", \"Topic27\", \"Topic27\", \"Topic27\", \"Topic27\", \"Topic27\", \"Topic27\", \"Topic27\", \"Topic27\", \"Topic27\", \"Topic27\", \"Topic27\", \"Topic27\", \"Topic27\", \"Topic27\", \"Topic27\", \"Topic27\", \"Topic27\", \"Topic27\", \"Topic27\", \"Topic27\", \"Topic27\", \"Topic27\", \"Topic27\", \"Topic27\", \"Topic27\", \"Topic27\", \"Topic27\", \"Topic27\", \"Topic27\", \"Topic27\", \"Topic27\", \"Topic27\", \"Topic27\", \"Topic27\", \"Topic27\", \"Topic27\", \"Topic27\", \"Topic27\", \"Topic27\", \"Topic27\", \"Topic27\", \"Topic27\", \"Topic27\", \"Topic27\", \"Topic27\", \"Topic28\", \"Topic28\", \"Topic28\", \"Topic28\", \"Topic28\", \"Topic28\", \"Topic28\", \"Topic28\", \"Topic28\", \"Topic28\", \"Topic28\", \"Topic28\", \"Topic28\", \"Topic28\", \"Topic28\", \"Topic28\", \"Topic28\", \"Topic28\", \"Topic28\", \"Topic28\", \"Topic28\", \"Topic28\", \"Topic28\", \"Topic28\", \"Topic28\", \"Topic28\", \"Topic28\", \"Topic28\", \"Topic28\", \"Topic28\", \"Topic28\", \"Topic28\", \"Topic28\", \"Topic28\", \"Topic28\", \"Topic28\", \"Topic28\", \"Topic28\", \"Topic28\", \"Topic28\", \"Topic28\", \"Topic28\", \"Topic29\", \"Topic29\", \"Topic29\", \"Topic29\", \"Topic29\", \"Topic29\", \"Topic29\", \"Topic29\", \"Topic29\", \"Topic29\", \"Topic29\", \"Topic29\", \"Topic29\", \"Topic29\", \"Topic29\", \"Topic29\", \"Topic29\", \"Topic29\", \"Topic29\", \"Topic29\", \"Topic29\", \"Topic29\", \"Topic29\", \"Topic29\", \"Topic29\", \"Topic29\", \"Topic29\", \"Topic29\", \"Topic29\", \"Topic29\", \"Topic29\", \"Topic29\", \"Topic29\", \"Topic29\", \"Topic29\", \"Topic29\", \"Topic29\", \"Topic29\", \"Topic29\", \"Topic29\", \"Topic29\", \"Topic29\", \"Topic29\", \"Topic29\", \"Topic29\", \"Topic29\", \"Topic29\", \"Topic29\", \"Topic30\", \"Topic30\", \"Topic30\", \"Topic30\", \"Topic30\", \"Topic30\", \"Topic30\", \"Topic30\", \"Topic30\", \"Topic30\", \"Topic30\", \"Topic30\", \"Topic30\", \"Topic30\", \"Topic30\", \"Topic30\", \"Topic30\", \"Topic30\", \"Topic30\", \"Topic30\", \"Topic30\", \"Topic30\", \"Topic30\", \"Topic30\", \"Topic30\", \"Topic30\", \"Topic30\", \"Topic30\", \"Topic30\", \"Topic30\", \"Topic30\", \"Topic30\", \"Topic30\", \"Topic30\", \"Topic30\", \"Topic30\", \"Topic30\", \"Topic30\", \"Topic30\", \"Topic30\", \"Topic30\", \"Topic30\", \"Topic30\", \"Topic30\", \"Topic30\", \"Topic31\", \"Topic31\", \"Topic31\", \"Topic31\", \"Topic31\", \"Topic31\", \"Topic31\", \"Topic31\", \"Topic31\", \"Topic31\", \"Topic31\", \"Topic31\", \"Topic31\", \"Topic31\", \"Topic31\", \"Topic31\", \"Topic31\", \"Topic31\", \"Topic31\", \"Topic31\", \"Topic31\", \"Topic31\", \"Topic31\", \"Topic31\", \"Topic31\", \"Topic31\", \"Topic31\", \"Topic31\", \"Topic31\", \"Topic31\", \"Topic31\", \"Topic31\", \"Topic31\", \"Topic31\", \"Topic31\", \"Topic31\", \"Topic31\", \"Topic31\", \"Topic31\", \"Topic31\", \"Topic31\", \"Topic31\", \"Topic31\", \"Topic31\", \"Topic31\", \"Topic32\", \"Topic32\", \"Topic32\", \"Topic32\", \"Topic32\", \"Topic32\", \"Topic32\", \"Topic32\", \"Topic32\", \"Topic32\", \"Topic32\", \"Topic32\", \"Topic32\", \"Topic32\", \"Topic32\", \"Topic32\", \"Topic32\", \"Topic32\", \"Topic32\", \"Topic32\", \"Topic32\", \"Topic32\", \"Topic32\", \"Topic32\", \"Topic32\", \"Topic32\", \"Topic32\", \"Topic32\", \"Topic32\", \"Topic32\", \"Topic32\", \"Topic32\", \"Topic32\", \"Topic32\", \"Topic32\", \"Topic32\", \"Topic32\", \"Topic32\", \"Topic32\", \"Topic32\", \"Topic32\", \"Topic32\", \"Topic32\", \"Topic32\", \"Topic32\", \"Topic32\", \"Topic32\", \"Topic32\", \"Topic32\", \"Topic32\", \"Topic32\", \"Topic32\", \"Topic32\", \"Topic33\", \"Topic33\", \"Topic33\", \"Topic33\", \"Topic33\", \"Topic33\", \"Topic33\", \"Topic33\", \"Topic33\", \"Topic33\", \"Topic33\", \"Topic33\", \"Topic33\", \"Topic33\", \"Topic33\", \"Topic33\", \"Topic33\", \"Topic33\", \"Topic33\", \"Topic33\", \"Topic33\", \"Topic33\", \"Topic33\", \"Topic33\", \"Topic33\", \"Topic33\", \"Topic33\", \"Topic33\", \"Topic33\", \"Topic33\", \"Topic33\", \"Topic33\", \"Topic33\", \"Topic33\", \"Topic33\", \"Topic33\", \"Topic33\", \"Topic33\", \"Topic34\", \"Topic34\", \"Topic34\", \"Topic34\", \"Topic34\", \"Topic34\", \"Topic34\", \"Topic34\", \"Topic34\", \"Topic34\", \"Topic34\", \"Topic34\", \"Topic34\", \"Topic34\", \"Topic34\", \"Topic34\", \"Topic34\", \"Topic34\", \"Topic34\", \"Topic34\", \"Topic34\", \"Topic34\", \"Topic34\", \"Topic34\", \"Topic34\", \"Topic34\", \"Topic34\", \"Topic34\", \"Topic34\", \"Topic34\", \"Topic34\", \"Topic34\", \"Topic34\", \"Topic34\", \"Topic34\", \"Topic34\", \"Topic34\", \"Topic34\", \"Topic34\", \"Topic34\", \"Topic34\", \"Topic34\", \"Topic34\", \"Topic34\", \"Topic34\", \"Topic34\", \"Topic34\", \"Topic34\", \"Topic34\", \"Topic34\", \"Topic35\", \"Topic35\", \"Topic35\", \"Topic35\", \"Topic35\", \"Topic35\", \"Topic35\", \"Topic35\", \"Topic35\", \"Topic35\", \"Topic35\", \"Topic35\", \"Topic35\", \"Topic35\", \"Topic35\", \"Topic35\", \"Topic35\", \"Topic35\", \"Topic35\", \"Topic35\", \"Topic35\", \"Topic35\", \"Topic35\", \"Topic35\", \"Topic35\", \"Topic35\", \"Topic35\", \"Topic35\", \"Topic35\", \"Topic35\", \"Topic35\", \"Topic35\", \"Topic35\", \"Topic35\", \"Topic35\", \"Topic35\", \"Topic35\", \"Topic35\", \"Topic35\", \"Topic35\", \"Topic35\", \"Topic35\", \"Topic35\", \"Topic35\", \"Topic35\", \"Topic35\", \"Topic36\", \"Topic36\", \"Topic36\", \"Topic36\", \"Topic36\", \"Topic36\", \"Topic36\", \"Topic36\", \"Topic36\", \"Topic36\", \"Topic36\", \"Topic36\", \"Topic36\", \"Topic36\", \"Topic36\", \"Topic36\", \"Topic36\", \"Topic36\", \"Topic36\", \"Topic36\", \"Topic36\", \"Topic36\", \"Topic36\", \"Topic36\", \"Topic36\", \"Topic36\", \"Topic36\", \"Topic36\", \"Topic36\", \"Topic36\", \"Topic36\", \"Topic36\", \"Topic36\", \"Topic36\", \"Topic36\", \"Topic36\", \"Topic36\", \"Topic36\", \"Topic36\", \"Topic37\", \"Topic37\", \"Topic37\", \"Topic37\", \"Topic37\", \"Topic37\", \"Topic37\", \"Topic37\", \"Topic37\", \"Topic37\", \"Topic37\", \"Topic37\", \"Topic37\", \"Topic37\", \"Topic37\", \"Topic37\", \"Topic37\", \"Topic37\", \"Topic37\", \"Topic37\", \"Topic37\", \"Topic37\", \"Topic37\", \"Topic37\", \"Topic37\", \"Topic37\", \"Topic37\", \"Topic37\", \"Topic37\", \"Topic37\", \"Topic37\", \"Topic37\", \"Topic37\", \"Topic37\", \"Topic37\", \"Topic37\", \"Topic37\", \"Topic37\", \"Topic37\", \"Topic37\", \"Topic37\", \"Topic37\", \"Topic37\", \"Topic38\", \"Topic38\", \"Topic38\", \"Topic38\", \"Topic38\", \"Topic38\", \"Topic38\", \"Topic38\", \"Topic38\", \"Topic38\", \"Topic38\", \"Topic38\", \"Topic38\", \"Topic38\", \"Topic38\", \"Topic38\", \"Topic38\", \"Topic38\", \"Topic38\", \"Topic38\", \"Topic38\", \"Topic38\", \"Topic38\", \"Topic38\", \"Topic38\", \"Topic38\", \"Topic38\", \"Topic38\", \"Topic38\", \"Topic38\", \"Topic38\", \"Topic38\", \"Topic38\", \"Topic38\", \"Topic38\", \"Topic38\", \"Topic38\", \"Topic38\", \"Topic38\", \"Topic38\", \"Topic38\", \"Topic38\", \"Topic38\", \"Topic38\", \"Topic38\", \"Topic39\", \"Topic39\", \"Topic39\", \"Topic39\", \"Topic39\", \"Topic39\", \"Topic39\", \"Topic39\", \"Topic39\", \"Topic39\", \"Topic39\", \"Topic39\", \"Topic39\", \"Topic39\", \"Topic39\", \"Topic39\", \"Topic39\", \"Topic39\", \"Topic39\", \"Topic39\", \"Topic39\", \"Topic39\", \"Topic39\", \"Topic39\", \"Topic39\", \"Topic39\", \"Topic39\", \"Topic39\", \"Topic39\", \"Topic39\", \"Topic39\", \"Topic39\", \"Topic39\", \"Topic40\", \"Topic40\", \"Topic40\", \"Topic40\", \"Topic40\", \"Topic40\", \"Topic40\", \"Topic40\", \"Topic40\", \"Topic40\", \"Topic40\", \"Topic40\", \"Topic40\", \"Topic40\", \"Topic40\", \"Topic40\", \"Topic40\", \"Topic40\", \"Topic40\", \"Topic40\", \"Topic40\", \"Topic40\", \"Topic40\", \"Topic40\", \"Topic40\", \"Topic40\", \"Topic40\", \"Topic40\", \"Topic40\", \"Topic40\", \"Topic40\", \"Topic40\", \"Topic40\", \"Topic40\", \"Topic40\", \"Topic40\", \"Topic40\", \"Topic40\", \"Topic40\", \"Topic40\", \"Topic40\", \"Topic40\", \"Topic40\", \"Topic40\", \"Topic40\", \"Topic40\", \"Topic40\", \"Topic40\", \"Topic41\", \"Topic41\", \"Topic41\", \"Topic41\", \"Topic41\", \"Topic41\", \"Topic41\", \"Topic41\", \"Topic41\", \"Topic41\", \"Topic41\", \"Topic41\", \"Topic41\", \"Topic41\", \"Topic41\", \"Topic41\", \"Topic41\", \"Topic41\", \"Topic41\", \"Topic41\", \"Topic41\", \"Topic41\", \"Topic41\", \"Topic41\", \"Topic41\", \"Topic41\", \"Topic41\", \"Topic41\", \"Topic41\", \"Topic41\", \"Topic41\", \"Topic41\", \"Topic41\", \"Topic41\", \"Topic41\", \"Topic41\", \"Topic41\", \"Topic41\", \"Topic41\", \"Topic41\", \"Topic41\", \"Topic41\", \"Topic41\", \"Topic41\", \"Topic41\", \"Topic42\", \"Topic42\", \"Topic42\", \"Topic42\", \"Topic42\", \"Topic42\", \"Topic42\", \"Topic42\", \"Topic42\", \"Topic42\", \"Topic42\", \"Topic42\", \"Topic42\", \"Topic42\", \"Topic42\", \"Topic42\", \"Topic42\", \"Topic42\", \"Topic42\", \"Topic42\", \"Topic42\", \"Topic42\", \"Topic42\", \"Topic42\", \"Topic42\", \"Topic42\", \"Topic42\", \"Topic42\", \"Topic42\", \"Topic42\", \"Topic42\", \"Topic42\", \"Topic42\", \"Topic42\", \"Topic42\", \"Topic42\", \"Topic42\", \"Topic42\", \"Topic42\", \"Topic42\", \"Topic42\", \"Topic42\", \"Topic43\", \"Topic43\", \"Topic43\", \"Topic43\", \"Topic43\", \"Topic43\", \"Topic43\", \"Topic43\", \"Topic43\", \"Topic43\", \"Topic43\", \"Topic43\", \"Topic43\", \"Topic43\", \"Topic43\", \"Topic43\", \"Topic43\", \"Topic43\", \"Topic43\", \"Topic43\", \"Topic43\", \"Topic43\", \"Topic43\", \"Topic43\", \"Topic43\", \"Topic43\", \"Topic43\", \"Topic43\", \"Topic43\", \"Topic43\", \"Topic43\", \"Topic43\", \"Topic43\", \"Topic43\", \"Topic43\", \"Topic43\", \"Topic43\", \"Topic43\", \"Topic43\", \"Topic43\", \"Topic43\", \"Topic43\", \"Topic43\", \"Topic43\", \"Topic43\", \"Topic44\", \"Topic44\", \"Topic44\", \"Topic44\", \"Topic44\", \"Topic44\", \"Topic44\", \"Topic44\", \"Topic44\", \"Topic44\", \"Topic44\", \"Topic44\", \"Topic44\", \"Topic44\", \"Topic44\", \"Topic44\", \"Topic44\", \"Topic44\", \"Topic44\", \"Topic44\", \"Topic44\", \"Topic44\", \"Topic44\", \"Topic44\", \"Topic44\", \"Topic44\", \"Topic44\", \"Topic44\", \"Topic44\", \"Topic44\", \"Topic44\", \"Topic44\", \"Topic44\", \"Topic44\", \"Topic44\", \"Topic44\", \"Topic44\", \"Topic44\", \"Topic44\", \"Topic44\", \"Topic44\", \"Topic44\", \"Topic44\", \"Topic44\", \"Topic44\", \"Topic45\", \"Topic45\", \"Topic45\", \"Topic45\", \"Topic45\", \"Topic45\", \"Topic45\", \"Topic45\", \"Topic45\", \"Topic45\", \"Topic45\", \"Topic45\", \"Topic45\", \"Topic45\", \"Topic45\", \"Topic45\", \"Topic45\", \"Topic45\", \"Topic45\", \"Topic45\", \"Topic45\", \"Topic45\", \"Topic45\", \"Topic45\", \"Topic45\", \"Topic45\", \"Topic45\", \"Topic45\", \"Topic45\", \"Topic45\", \"Topic45\", \"Topic45\", \"Topic45\", \"Topic45\", \"Topic45\", \"Topic45\", \"Topic45\", \"Topic45\", \"Topic45\", \"Topic45\", \"Topic46\", \"Topic46\", \"Topic46\", \"Topic46\", \"Topic46\", \"Topic46\", \"Topic46\", \"Topic46\", \"Topic46\", \"Topic46\", \"Topic46\", \"Topic46\", \"Topic46\", \"Topic46\", \"Topic46\", \"Topic46\", \"Topic46\", \"Topic46\", \"Topic46\", \"Topic46\", \"Topic46\", \"Topic46\", \"Topic46\", \"Topic46\", \"Topic46\", \"Topic46\", \"Topic46\", \"Topic46\", \"Topic46\", \"Topic46\", \"Topic46\", \"Topic46\", \"Topic46\", \"Topic46\", \"Topic46\", \"Topic46\", \"Topic46\", \"Topic46\", \"Topic46\", \"Topic46\", \"Topic46\", \"Topic46\", \"Topic47\", \"Topic47\", \"Topic47\", \"Topic47\", \"Topic47\", \"Topic47\", \"Topic47\", \"Topic47\", \"Topic47\", \"Topic47\", \"Topic47\", \"Topic47\", \"Topic47\", \"Topic47\", \"Topic47\", \"Topic47\", \"Topic47\", \"Topic47\", \"Topic47\", \"Topic47\", \"Topic47\", \"Topic47\", \"Topic47\", \"Topic47\", \"Topic47\", \"Topic47\", \"Topic47\", \"Topic47\", \"Topic47\", \"Topic47\", \"Topic47\", \"Topic47\", \"Topic47\", \"Topic47\", \"Topic47\", \"Topic47\", \"Topic47\", \"Topic47\", \"Topic47\", \"Topic47\", \"Topic47\", \"Topic47\", \"Topic47\", \"Topic47\", \"Topic47\", \"Topic48\", \"Topic48\", \"Topic48\", \"Topic48\", \"Topic48\", \"Topic48\", \"Topic48\", \"Topic48\", \"Topic48\", \"Topic48\", \"Topic48\", \"Topic48\", \"Topic48\", \"Topic48\", \"Topic48\", \"Topic48\", \"Topic48\", \"Topic48\", \"Topic48\", \"Topic48\", \"Topic48\", \"Topic48\", \"Topic48\", \"Topic48\", \"Topic48\", \"Topic48\", \"Topic48\", \"Topic48\", \"Topic48\", \"Topic48\", \"Topic48\", \"Topic48\", \"Topic48\", \"Topic48\", \"Topic48\", \"Topic48\", \"Topic48\", \"Topic48\", \"Topic48\", \"Topic48\", \"Topic48\", \"Topic48\", \"Topic49\", \"Topic49\", \"Topic49\", \"Topic49\", \"Topic49\", \"Topic49\", \"Topic49\", \"Topic49\", \"Topic49\", \"Topic49\", \"Topic49\", \"Topic49\", \"Topic49\", \"Topic49\", \"Topic49\", \"Topic49\", \"Topic49\", \"Topic49\", \"Topic49\", \"Topic49\", \"Topic49\", \"Topic49\", \"Topic49\", \"Topic49\", \"Topic49\", \"Topic49\", \"Topic49\", \"Topic49\", \"Topic49\", \"Topic49\", \"Topic49\", \"Topic49\", \"Topic49\", \"Topic49\", \"Topic49\", \"Topic49\", \"Topic49\", \"Topic49\", \"Topic49\", \"Topic49\", \"Topic49\", \"Topic50\", \"Topic50\", \"Topic50\", \"Topic50\", \"Topic50\", \"Topic50\", \"Topic50\", \"Topic50\", \"Topic50\", \"Topic50\", \"Topic50\", \"Topic50\", \"Topic50\", \"Topic50\", \"Topic50\", \"Topic50\", \"Topic50\", \"Topic50\", \"Topic50\", \"Topic50\", \"Topic50\", \"Topic50\", \"Topic50\", \"Topic50\", \"Topic50\", \"Topic50\", \"Topic50\", \"Topic50\", \"Topic50\", \"Topic50\", \"Topic50\", \"Topic50\", \"Topic50\", \"Topic50\", \"Topic50\", \"Topic50\", \"Topic50\", \"Topic50\", \"Topic50\", \"Topic50\", \"Topic50\", \"Topic51\", \"Topic51\", \"Topic51\", \"Topic51\", \"Topic51\", \"Topic51\", \"Topic51\", \"Topic51\", \"Topic51\", \"Topic51\", \"Topic51\", \"Topic51\", \"Topic51\", \"Topic51\", \"Topic51\", \"Topic51\", \"Topic51\", \"Topic51\", \"Topic51\", \"Topic51\", \"Topic51\", \"Topic51\", \"Topic51\", \"Topic51\", \"Topic51\", \"Topic51\", \"Topic51\", \"Topic51\", \"Topic51\", \"Topic51\", \"Topic51\", \"Topic51\", \"Topic51\", \"Topic51\", \"Topic51\", \"Topic51\", \"Topic51\", \"Topic51\", \"Topic51\", \"Topic51\", \"Topic51\", \"Topic51\", \"Topic51\", \"Topic51\", \"Topic51\", \"Topic51\", \"Topic52\", \"Topic52\", \"Topic52\", \"Topic52\", \"Topic52\", \"Topic52\", \"Topic52\", \"Topic52\", \"Topic52\", \"Topic52\", \"Topic52\", \"Topic52\", \"Topic52\", \"Topic52\", \"Topic52\", \"Topic52\", \"Topic52\", \"Topic52\", \"Topic52\", \"Topic52\", \"Topic52\", \"Topic52\", \"Topic52\", \"Topic52\", \"Topic52\", \"Topic52\", \"Topic52\", \"Topic52\", \"Topic52\", \"Topic52\", \"Topic52\", \"Topic52\", \"Topic52\", \"Topic52\", \"Topic52\", \"Topic52\", \"Topic52\", \"Topic52\", \"Topic52\", \"Topic52\", \"Topic52\", \"Topic52\", \"Topic53\", \"Topic53\", \"Topic53\", \"Topic53\", \"Topic53\", \"Topic53\", \"Topic53\", \"Topic53\", \"Topic53\", \"Topic53\", \"Topic53\", \"Topic53\", \"Topic53\", \"Topic53\", \"Topic53\", \"Topic53\", \"Topic53\", \"Topic53\", \"Topic53\", \"Topic53\", \"Topic53\", \"Topic53\", \"Topic53\", \"Topic53\", \"Topic53\", \"Topic53\", \"Topic53\", \"Topic53\", \"Topic53\", \"Topic53\", \"Topic53\", \"Topic53\", \"Topic53\", \"Topic53\", \"Topic53\", \"Topic53\", \"Topic53\", \"Topic53\", \"Topic53\", \"Topic53\", \"Topic53\", \"Topic53\", \"Topic53\", \"Topic54\", \"Topic54\", \"Topic54\", \"Topic54\", \"Topic54\", \"Topic54\", \"Topic54\", \"Topic54\", \"Topic54\", \"Topic54\", \"Topic54\", \"Topic54\", \"Topic54\", \"Topic54\", \"Topic54\", \"Topic54\", \"Topic54\", \"Topic54\", \"Topic54\", \"Topic54\", \"Topic54\", \"Topic54\", \"Topic54\", \"Topic54\", \"Topic54\", \"Topic54\", \"Topic54\", \"Topic54\", \"Topic54\", \"Topic54\", \"Topic54\", \"Topic54\", \"Topic54\", \"Topic54\", \"Topic54\", \"Topic54\", \"Topic54\", \"Topic54\", \"Topic54\", \"Topic54\", \"Topic55\", \"Topic55\", \"Topic55\", \"Topic55\", \"Topic55\", \"Topic55\", \"Topic55\", \"Topic55\", \"Topic55\", \"Topic55\", \"Topic55\", \"Topic55\", \"Topic55\", \"Topic55\", \"Topic55\", \"Topic55\", \"Topic55\", \"Topic55\", \"Topic55\", \"Topic55\", \"Topic55\", \"Topic55\", \"Topic55\", \"Topic55\", \"Topic55\", \"Topic55\", \"Topic55\", \"Topic55\", \"Topic55\", \"Topic55\", \"Topic55\", \"Topic55\", \"Topic55\", \"Topic55\", \"Topic55\", \"Topic55\", \"Topic55\", \"Topic55\", \"Topic56\", \"Topic56\", \"Topic56\", \"Topic56\", \"Topic56\", \"Topic56\", \"Topic56\", \"Topic56\", \"Topic56\", \"Topic56\", \"Topic56\", \"Topic56\", \"Topic56\", \"Topic56\", \"Topic56\", \"Topic56\", \"Topic56\", \"Topic56\", \"Topic56\", \"Topic56\", \"Topic56\", \"Topic56\", \"Topic56\", \"Topic56\", \"Topic56\", \"Topic56\", \"Topic56\", \"Topic56\", \"Topic56\", \"Topic56\", \"Topic56\", \"Topic56\", \"Topic56\", \"Topic56\", \"Topic56\", \"Topic56\", \"Topic56\", \"Topic56\", \"Topic56\", \"Topic56\", \"Topic57\", \"Topic57\", \"Topic57\", \"Topic57\", \"Topic57\", \"Topic57\", \"Topic57\", \"Topic57\", \"Topic57\", \"Topic57\", \"Topic57\", \"Topic57\", \"Topic57\", \"Topic57\", \"Topic57\", \"Topic57\", \"Topic57\", \"Topic57\", \"Topic57\", \"Topic57\", \"Topic57\", \"Topic57\", \"Topic57\", \"Topic57\", \"Topic57\", \"Topic57\", \"Topic57\", \"Topic57\", \"Topic57\", \"Topic57\", \"Topic57\", \"Topic57\", \"Topic57\", \"Topic57\", \"Topic57\", \"Topic57\", \"Topic57\", \"Topic57\", \"Topic58\", \"Topic58\", \"Topic58\", \"Topic58\", \"Topic58\", \"Topic58\", \"Topic58\", \"Topic58\", \"Topic58\", \"Topic58\", \"Topic58\", \"Topic58\", \"Topic58\", \"Topic58\", \"Topic58\", \"Topic58\", \"Topic58\", \"Topic58\", \"Topic58\", \"Topic58\", \"Topic58\", \"Topic58\", \"Topic58\", \"Topic58\", \"Topic58\", \"Topic58\", \"Topic58\", \"Topic58\", \"Topic58\", \"Topic58\", \"Topic58\", \"Topic58\", \"Topic58\", \"Topic59\", \"Topic59\", \"Topic59\", \"Topic59\", \"Topic59\", \"Topic59\", \"Topic59\", \"Topic59\", \"Topic59\", \"Topic59\", \"Topic59\", \"Topic59\", \"Topic59\", \"Topic59\", \"Topic59\", \"Topic59\", \"Topic59\", \"Topic59\", \"Topic59\", \"Topic59\", \"Topic59\", \"Topic59\", \"Topic59\", \"Topic59\", \"Topic59\", \"Topic59\", \"Topic59\", \"Topic59\", \"Topic59\", \"Topic59\", \"Topic59\", \"Topic59\", \"Topic59\", \"Topic59\", \"Topic59\", \"Topic59\", \"Topic59\", \"Topic59\", \"Topic59\", \"Topic59\", \"Topic59\", \"Topic60\", \"Topic60\", \"Topic60\", \"Topic60\", \"Topic60\", \"Topic60\", \"Topic60\", \"Topic60\", \"Topic60\", \"Topic60\", \"Topic60\", \"Topic60\", \"Topic60\", \"Topic60\", \"Topic60\", \"Topic60\", \"Topic60\", \"Topic60\", \"Topic60\", \"Topic60\", \"Topic60\", \"Topic60\", \"Topic60\", \"Topic60\", \"Topic60\", \"Topic60\", \"Topic60\", \"Topic60\", \"Topic60\", \"Topic60\", \"Topic60\", \"Topic60\", \"Topic60\", \"Topic60\", \"Topic60\", \"Topic60\", \"Topic60\", \"Topic60\", \"Topic60\", \"Topic60\", \"Topic61\", \"Topic61\", \"Topic61\", \"Topic61\", \"Topic61\", \"Topic61\", \"Topic61\", \"Topic61\", \"Topic61\", \"Topic61\", \"Topic61\", \"Topic61\", \"Topic61\", \"Topic61\", \"Topic61\", \"Topic61\", \"Topic61\", \"Topic61\", \"Topic61\", \"Topic61\", \"Topic61\", \"Topic61\", \"Topic61\", \"Topic61\", \"Topic61\", \"Topic61\", \"Topic61\", \"Topic61\", \"Topic61\", \"Topic61\", \"Topic61\", \"Topic61\", \"Topic61\", \"Topic61\", \"Topic61\", \"Topic61\", \"Topic61\", \"Topic61\", \"Topic61\", \"Topic61\", \"Topic61\", \"Topic61\", \"Topic61\", \"Topic62\", \"Topic62\", \"Topic62\", \"Topic62\", \"Topic62\", \"Topic62\", \"Topic62\", \"Topic62\", \"Topic62\", \"Topic62\", \"Topic62\", \"Topic62\", \"Topic62\", \"Topic62\", \"Topic62\", \"Topic62\", \"Topic62\", \"Topic62\", \"Topic62\", \"Topic62\", \"Topic62\", \"Topic62\", \"Topic62\", \"Topic62\", \"Topic62\", \"Topic62\", \"Topic62\", \"Topic62\", \"Topic62\", \"Topic62\", \"Topic62\", \"Topic62\", \"Topic62\", \"Topic62\", \"Topic62\", \"Topic62\", \"Topic63\", \"Topic63\", \"Topic63\", \"Topic63\", \"Topic63\", \"Topic63\", \"Topic63\", \"Topic63\", \"Topic63\", \"Topic63\", \"Topic63\", \"Topic63\", \"Topic63\", \"Topic63\", \"Topic63\", \"Topic63\", \"Topic63\", \"Topic63\", \"Topic63\", \"Topic63\", \"Topic63\", \"Topic63\", \"Topic63\", \"Topic63\", \"Topic63\", \"Topic63\", \"Topic63\", \"Topic63\", \"Topic63\", \"Topic63\", \"Topic63\", \"Topic63\", \"Topic63\", \"Topic63\", \"Topic63\", \"Topic63\", \"Topic63\", \"Topic64\", \"Topic64\", \"Topic64\", \"Topic64\", \"Topic64\", \"Topic64\", \"Topic64\", \"Topic64\", \"Topic64\", \"Topic64\", \"Topic64\", \"Topic64\", \"Topic64\", \"Topic64\", \"Topic64\", \"Topic64\", \"Topic64\", \"Topic64\", \"Topic64\", \"Topic64\", \"Topic64\", \"Topic64\", \"Topic64\", \"Topic64\", \"Topic64\", \"Topic64\", \"Topic64\", \"Topic64\", \"Topic64\", \"Topic64\", \"Topic64\", \"Topic64\", \"Topic64\", \"Topic64\", \"Topic65\", \"Topic65\", \"Topic65\", \"Topic65\", \"Topic65\", \"Topic65\", \"Topic65\", \"Topic65\", \"Topic65\", \"Topic65\", \"Topic65\", \"Topic65\", \"Topic65\", \"Topic65\", \"Topic65\", \"Topic65\", \"Topic65\", \"Topic65\", \"Topic65\", \"Topic65\", \"Topic65\", \"Topic65\", \"Topic65\", \"Topic65\", \"Topic65\", \"Topic65\", \"Topic65\", \"Topic65\", \"Topic65\", \"Topic65\", \"Topic65\", \"Topic65\", \"Topic66\", \"Topic66\", \"Topic66\", \"Topic66\", \"Topic66\", \"Topic66\", \"Topic66\", \"Topic66\", \"Topic66\", \"Topic66\", \"Topic66\", \"Topic66\", \"Topic66\", \"Topic66\", \"Topic66\", \"Topic66\", \"Topic66\", \"Topic66\", \"Topic66\", \"Topic66\", \"Topic66\", \"Topic66\", \"Topic66\", \"Topic66\", \"Topic66\", \"Topic66\", \"Topic66\", \"Topic66\", \"Topic66\", \"Topic66\", \"Topic66\", \"Topic66\", \"Topic66\", \"Topic66\", \"Topic66\", \"Topic66\", \"Topic67\", \"Topic67\", \"Topic67\", \"Topic67\", \"Topic67\", \"Topic67\", \"Topic67\", \"Topic67\", \"Topic67\", \"Topic67\", \"Topic67\", \"Topic67\", \"Topic67\", \"Topic67\", \"Topic67\", \"Topic67\", \"Topic67\", \"Topic67\", \"Topic67\", \"Topic67\", \"Topic67\", \"Topic67\", \"Topic67\", \"Topic67\", \"Topic67\", \"Topic67\", \"Topic67\", \"Topic67\", \"Topic67\", \"Topic67\", \"Topic67\", \"Topic67\", \"Topic67\", \"Topic67\", \"Topic67\", \"Topic68\", \"Topic68\", \"Topic68\", \"Topic68\", \"Topic68\", \"Topic68\", \"Topic68\", \"Topic68\", \"Topic68\", \"Topic68\", \"Topic68\", \"Topic68\", \"Topic68\", \"Topic68\", \"Topic68\", \"Topic68\", \"Topic68\", \"Topic68\", \"Topic68\", \"Topic68\", \"Topic68\", \"Topic68\", \"Topic68\", \"Topic68\", \"Topic68\", \"Topic68\", \"Topic68\", \"Topic68\", \"Topic68\", \"Topic68\", \"Topic68\", \"Topic68\", \"Topic68\", \"Topic68\", \"Topic68\", \"Topic68\", \"Topic68\", \"Topic68\", \"Topic68\", \"Topic69\", \"Topic69\", \"Topic69\", \"Topic69\", \"Topic69\", \"Topic69\", \"Topic69\", \"Topic69\", \"Topic69\", \"Topic69\", \"Topic69\", \"Topic69\", \"Topic69\", \"Topic69\", \"Topic69\", \"Topic69\", \"Topic69\", \"Topic69\", \"Topic69\", \"Topic69\", \"Topic69\", \"Topic69\", \"Topic69\", \"Topic69\", \"Topic69\", \"Topic69\", \"Topic69\", \"Topic69\", \"Topic69\", \"Topic69\", \"Topic69\", \"Topic69\", \"Topic70\", \"Topic70\", \"Topic70\", \"Topic70\", \"Topic70\", \"Topic70\", \"Topic70\", \"Topic70\", \"Topic70\", \"Topic70\", \"Topic70\", \"Topic70\", \"Topic70\", \"Topic70\", \"Topic70\", \"Topic70\", \"Topic70\", \"Topic70\", \"Topic70\", \"Topic70\", \"Topic70\", \"Topic70\", \"Topic70\", \"Topic70\", \"Topic70\", \"Topic70\", \"Topic70\", \"Topic70\", \"Topic70\", \"Topic70\", \"Topic70\", \"Topic70\", \"Topic70\", \"Topic70\", \"Topic70\", \"Topic71\", \"Topic71\", \"Topic71\", \"Topic71\", \"Topic71\", \"Topic71\", \"Topic71\", \"Topic71\", \"Topic71\", \"Topic71\", \"Topic71\", \"Topic71\", \"Topic71\", \"Topic71\", \"Topic71\", \"Topic71\", \"Topic71\", \"Topic71\", \"Topic71\", \"Topic71\", \"Topic71\", \"Topic71\", \"Topic71\", \"Topic71\", \"Topic71\", \"Topic71\", \"Topic71\", \"Topic71\", \"Topic71\", \"Topic71\", \"Topic71\", \"Topic72\", \"Topic72\", \"Topic72\", \"Topic72\", \"Topic72\", \"Topic72\", \"Topic72\", \"Topic72\", \"Topic72\", \"Topic72\", \"Topic72\", \"Topic72\", \"Topic72\", \"Topic72\", \"Topic72\", \"Topic72\", \"Topic72\", \"Topic72\", \"Topic72\", \"Topic72\", \"Topic72\", \"Topic72\", \"Topic72\", \"Topic72\", \"Topic72\", \"Topic72\", \"Topic72\", \"Topic72\", \"Topic72\", \"Topic72\", \"Topic72\", \"Topic72\", \"Topic73\", \"Topic73\", \"Topic73\", \"Topic73\", \"Topic73\", \"Topic73\", \"Topic73\", \"Topic73\", \"Topic73\", \"Topic73\", \"Topic73\", \"Topic73\", \"Topic73\", \"Topic73\", \"Topic73\", \"Topic73\", \"Topic73\", \"Topic73\", \"Topic73\", \"Topic73\", \"Topic73\", \"Topic73\", \"Topic73\", \"Topic73\", \"Topic73\", \"Topic73\", \"Topic73\", \"Topic73\", \"Topic73\", \"Topic73\", \"Topic73\", \"Topic74\", \"Topic74\", \"Topic74\", \"Topic74\", \"Topic74\", \"Topic74\", \"Topic74\", \"Topic74\", \"Topic74\", \"Topic74\", \"Topic74\", \"Topic74\", \"Topic74\", \"Topic74\", \"Topic74\", \"Topic74\", \"Topic74\", \"Topic74\", \"Topic74\", \"Topic74\", \"Topic74\", \"Topic74\", \"Topic74\", \"Topic74\", \"Topic74\", \"Topic74\", \"Topic74\", \"Topic74\", \"Topic74\", \"Topic74\", \"Topic74\", \"Topic74\", \"Topic74\", \"Topic74\", \"Topic75\", \"Topic75\", \"Topic75\", \"Topic75\", \"Topic75\", \"Topic75\", \"Topic75\", \"Topic75\", \"Topic75\", \"Topic75\", \"Topic75\", \"Topic75\", \"Topic75\", \"Topic75\", \"Topic75\", \"Topic75\", \"Topic75\", \"Topic75\", \"Topic75\", \"Topic75\", \"Topic75\", \"Topic75\", \"Topic75\", \"Topic75\", \"Topic75\", \"Topic75\", \"Topic75\", \"Topic75\", \"Topic75\", \"Topic75\", \"Topic75\", \"Topic75\"], \"Freq\": [42265.0, 34043.0, 38516.0, 29867.0, 43336.0, 26853.0, 25809.0, 40894.0, 25948.0, 27399.0, 24921.0, 20812.0, 19591.0, 21117.0, 21647.0, 22381.0, 17996.0, 21726.0, 30549.0, 17297.0, 30384.0, 15036.0, 14986.0, 12297.0, 21736.0, 20492.0, 18145.0, 14925.0, 16345.0, 13422.0, 2964.8621723102965, 1841.3680215976767, 1691.592270826459, 1500.5918517801076, 1437.516754383558, 1332.0877308673857, 1190.3794427195128, 1168.5627181042648, 1146.8303851513338, 1109.9915337919747, 1102.353731276824, 1086.0074365989685, 1055.597320295217, 1019.8039252174391, 944.8888823969661, 932.9571446472215, 813.5294776807106, 779.5498418645051, 731.9039564428161, 685.9662186786825, 682.6080840635236, 668.9094386883743, 654.1395977150725, 648.3765403800633, 632.1248495090905, 616.4903882677816, 613.523109165807, 612.6481158920715, 598.3579088053011, 580.1691367881416, 2577.8270896173353, 2564.298824841453, 1535.1135919375367, 5040.576442991974, 1382.4747125613512, 2481.139724512109, 3705.178584086941, 10641.346201409697, 2854.33064650795, 2608.6660272186655, 2922.504149089239, 2920.828700964322, 4327.879013467224, 2558.607053790884, 7585.704971295174, 5326.6544271665925, 4468.0536169078805, 4843.557527929337, 8421.865879681462, 2002.009180232031, 3926.0168386404234, 2860.224334561216, 4606.8231289665555, 2301.9413587761774, 5560.42685400894, 5457.333587615099, 2995.272465586794, 2409.7054975623264, 2835.3429210684353, 3722.85656139506, 3380.647537378029, 4185.519487638228, 2849.737317460672, 3163.812047209531, 10737.266866856473, 8555.867512365816, 3956.191841956502, 1601.6189085881122, 1537.0045884873687, 1253.4830854846873, 908.7405186361007, 882.3680312389248, 843.1116747342356, 450.42768119535083, 450.29124978014863, 448.53603994271987, 432.211430091328, 408.8319307847785, 352.3211622544762, 343.83353303001536, 296.0063153396911, 267.54265297516815, 259.2748224274871, 251.51856045391102, 250.8087280785874, 233.84129790752738, 226.22002087984256, 218.23425522958826, 217.66893821389866, 201.24568597776172, 198.77397802107478, 181.2656938386911, 178.76233996233447, 166.45805874746281, 13203.295474413002, 590.2747395919213, 2183.1470111548338, 9136.179196780851, 5010.015353065869, 1015.4926492236438, 2856.2737874164277, 4131.8805123564725, 2541.817559858456, 915.4933422110072, 1244.6435990302114, 3701.315667951821, 1288.1823277668007, 5930.73336262932, 1237.126826438459, 2947.1032993764925, 1994.0619471394905, 1450.0623404372436, 1992.6333070023436, 1386.4211243631798, 3012.11969929379, 2410.896710242453, 1413.9774355117079, 1376.052124628983, 1165.1369416633395, 1266.75347710069, 1119.4825444805492, 2891.158183005486, 2651.0305768269254, 2142.5752272884565, 1691.4645503789254, 949.9233854871411, 649.3789247915522, 632.0631914729317, 584.6130449947119, 553.4832202075465, 444.7256277936003, 397.5207846193256, 386.9972964383134, 338.07411996716115, 332.4475690050894, 269.79157630594693, 266.20576181153905, 260.6666247075134, 230.91900888341303, 204.0325698204103, 202.97682704700077, 197.75987873875562, 193.5939654622608, 184.07212745440125, 166.64628841481533, 161.97740258978538, 158.9047680302104, 152.37751500956315, 149.0320515337904, 140.7984972557843, 136.169639131716, 1301.423165171606, 2749.1763006029714, 31861.29826895445, 11529.693203841107, 8229.01188373917, 492.3879422542689, 9939.953546155397, 1018.8049155417248, 486.42730649810346, 1360.301355074847, 2956.383486752584, 1337.7248960217962, 393.63569545675546, 2077.8782010259765, 623.1740786079075, 1143.7142599013223, 756.3768324267887, 839.2430271241539, 606.2006469651895, 972.1929436677196, 931.9726337783976, 812.068733508294, 832.3598568028644, 688.9996460862984, 699.2780002955029, 705.384890359958, 689.0346598235848, 8514.757191268744, 3952.2385479412947, 2863.72698925423, 2517.1067108325637, 2059.6501487758374, 1625.9938140286422, 1243.6137759407704, 1180.1113014215248, 928.6445571030837, 874.3297224670711, 816.7560103597876, 804.7806116229297, 776.9874089927811, 774.2953827975388, 756.8232937121331, 748.0287115420743, 728.7635281122425, 710.6168193130998, 567.6831049377063, 535.0457622265174, 533.5397191010777, 526.8877004780587, 495.8928736417372, 445.38828684513163, 427.92970116169045, 376.56875202271345, 360.59450398703456, 360.41335334928556, 350.5337820167651, 336.8529564247433, 911.5821065682444, 2475.9479347175393, 7391.622128953181, 7744.338726219209, 5739.822644608117, 3516.720948554415, 1936.12225442536, 2396.696150320181, 3497.634501303256, 5483.929645774197, 1799.3108787630745, 1585.2255543705846, 3042.498234727327, 3590.83325329135, 1775.437924984924, 1926.3808850473733, 1913.667908913857, 1819.0766163462165, 1743.4833609339983, 1455.9738575941683, 1241.8493381888482, 1064.163975173885, 9452.36316671346, 2320.1121620990457, 2029.9432147406956, 1171.4736401824127, 1019.7314616991116, 1004.9047835341182, 847.0858825821489, 837.9590179366717, 807.1274263873792, 782.2130047376326, 769.2533910174652, 740.4491510661941, 679.5715334426025, 600.5532151231454, 582.3918381216537, 572.5025018361581, 566.1541035083737, 557.6416026284999, 504.675872902952, 453.6907025086197, 451.44308200327646, 436.17302603991493, 433.58425172237753, 420.32435834852856, 416.4802566162748, 390.752223701645, 385.09965412127, 371.5485631306505, 356.2216979243777, 350.5045304011486, 4477.927554279494, 3992.9028302066417, 1301.3433485864507, 1127.3596652019874, 1770.4029281932167, 1053.6095340013528, 741.5437180749312, 9592.622635077281, 7440.946997986602, 1753.8689070232947, 4500.505377228606, 3223.606551016186, 1772.9105401431066, 3738.53458537159, 2901.041984306463, 3225.381458531586, 1165.7280603246918, 1232.3123041949586, 3784.155948649531, 2460.639195459911, 1316.2036890695035, 1285.6912105177948, 1148.2759735933073, 1119.8794260097334, 992.5607273811485, 11572.992811971742, 8158.9504598038375, 3357.844407692575, 1836.8169785514906, 1643.7979112121748, 1558.63641450029, 1236.6105300412023, 999.6647788087507, 931.9583935451614, 883.9792878949753, 882.1663550874497, 530.5525099255074, 418.8768312629433, 392.1258672021848, 327.4256827259909, 317.50396794262787, 301.87742085987776, 292.684532359201, 248.89949639755977, 248.57197141374982, 226.77484823273915, 212.72699880392085, 205.93881020116797, 202.87966196412933, 173.35053598361992, 162.71314028371498, 154.37124818383478, 148.3260793292765, 139.76419724290986, 129.3751651700887, 16329.872359790548, 4913.271373430672, 5457.17460758973, 819.0949322283914, 8017.072959518592, 2311.772365466871, 3064.0843047754247, 6570.452369734712, 731.2400139137059, 2861.5310785132465, 1638.6506968866913, 457.1142313623471, 1103.2629399232671, 3886.51284754452, 1115.7401933616443, 1116.1960251250225, 1395.1082603508385, 2096.806656564138, 1245.3031739678268, 777.8231151730328, 768.717300188994, 1175.5045245139845, 1018.3357695261877, 955.3048414010581, 871.0990126441906, 841.1727149760409, 775.1268788231584, 716.502984303311, 709.837823142097, 701.9385480755751, 666.7446981982491, 645.135498293472, 643.5874072046083, 631.3920572304145, 628.0858858968745, 573.6533402494588, 511.24646542838036, 469.355990105993, 468.4374605358029, 467.9495881315372, 466.62345672293856, 405.1845409182949, 401.7884541180675, 383.96116481961224, 344.40275120564667, 322.1103945603456, 315.7255956462247, 304.7597530996386, 299.6913235759544, 293.91695685781343, 283.53387487744004, 9188.938345800612, 4723.9499986130295, 1528.9112174694194, 6378.721072996847, 2120.578610606666, 1318.1012731165144, 3605.7926566168794, 5983.55077127265, 1144.7180467633143, 1411.4925211442383, 1509.0504412218372, 4366.003554752163, 1632.3528134052253, 1286.0846480012308, 1453.432059137885, 1264.8127971987853, 2130.876070419972, 3666.621384015969, 1251.3183110036382, 1100.5232492993748, 1398.2861023723335, 1362.6999550923888, 1447.4670929980723, 1574.6484135849298, 1226.3406080372938, 985.227625749244, 1001.7856700880632, 962.15438438536, 24920.14519726768, 5376.793701148918, 4218.321001066435, 3574.6333387938876, 2991.716262520834, 1772.2958733262349, 1618.0576212981305, 1558.3612211030058, 1071.6281363595601, 1023.9439970930295, 958.3347347959517, 581.2801297193411, 561.2534051479487, 476.8907538315098, 462.9229947319946, 436.728228722221, 380.58537428501694, 297.1433951308632, 252.11532577908756, 248.72422416908555, 206.27808416890286, 194.73394879939875, 192.20885417834893, 191.5254475646837, 174.49326322745716, 171.64004877868305, 170.77096639782232, 143.2320072074794, 129.02227757603708, 128.69912259311047, 23466.30761449372, 2875.950267438972, 406.1196764407822, 1952.7451700417034, 2420.659582192296, 238.13772657186806, 673.9684943842468, 1147.9044741909352, 1636.2870272859109, 1268.1787927610314, 663.2869444670292, 1350.641087338577, 1196.343201622942, 697.8157456008134, 1004.5190486206159, 1266.7074616973612, 999.748872491264, 896.0481504744129, 647.9745755827735, 634.5358989790766, 1720.2692559722325, 1353.3967616454868, 1285.9252374473829, 1254.0958877045643, 1103.10452584109, 799.7243529451222, 633.3239896428099, 607.7994084210833, 557.8707588841766, 546.2701306211728, 430.65334437759617, 388.00542602100705, 374.1596305383239, 373.2728855877871, 370.17407958866477, 331.4924438108332, 326.9027976334646, 314.10526682710923, 292.9594118574348, 255.98841907234666, 225.5878246366515, 210.682216429423, 174.46595862660706, 171.1292607544419, 165.54981367022057, 158.9082983544311, 146.98710481063713, 144.07314705467624, 141.83060868602553, 138.5907789462357, 884.7554378146704, 13512.922463037175, 6959.075497323783, 4159.892064268645, 2569.2868280419725, 745.4749826615028, 632.6041990906444, 2737.4335710886376, 10196.989639940459, 14754.938360750997, 2024.5512500183577, 1844.0155284477426, 573.8678447959505, 723.5365005164415, 837.8579316201998, 501.6446911020472, 709.8047698874616, 588.7900501506261, 952.7965070358705, 975.7714197546879, 748.1671206236653, 782.6794335278687, 1051.0942367328214, 759.8027429123839, 742.9540555005041, 751.4167825141457, 833.4879034402154, 13489.631531746374, 10278.425732852862, 7624.559746798525, 2044.036951532427, 1377.3218081129849, 1155.2278180709714, 1148.7870332216514, 843.1001064426946, 780.1013514128367, 749.0887508262829, 699.6790127044542, 617.1034785538255, 572.265099374508, 510.13033297253975, 488.6236331466317, 383.95220206498755, 364.74900810982547, 317.9778848020367, 289.8701836988335, 287.7048515268846, 273.69104128617766, 263.32936313375217, 223.61340541854761, 216.46718145534194, 174.88076798988533, 161.3174558614878, 161.23440874591859, 159.1950168118401, 158.1991778496325, 156.92162527119277, 622.2773074788415, 1615.4757009306645, 870.8089522493927, 585.5453974367907, 299.18596025124845, 866.8805565174349, 4045.328493657806, 4754.773572600865, 4751.669363424184, 446.1977632913646, 1611.4789069584979, 3095.087139911164, 506.9512172785316, 1460.5366254444616, 772.3066140607225, 662.1563811443053, 598.1092665539444, 1171.1844526788295, 861.0410648170063, 776.0960824384618, 678.699998255602, 612.6583449580484, 13680.766405775359, 8185.563277432411, 3012.053276817919, 1443.5487048005784, 1212.7176135336654, 763.4010320873497, 609.5545800445914, 574.7495509170515, 566.7992185411283, 485.5170029411706, 448.7742820309215, 426.5543644114533, 397.68193728007327, 322.5853892926409, 227.09472227368175, 214.8489972834449, 210.29277418904417, 201.7416159517451, 201.18093846892913, 185.51986112158679, 151.2693232667628, 138.86932824741658, 136.50793523517208, 133.75553078404013, 133.49890242225447, 127.16949186363568, 110.9572732750878, 107.97038868575903, 106.44960223099488, 99.39313624567573, 8097.615863756171, 3385.5507554526253, 3393.884905354286, 1652.6191150023633, 1092.4125018545185, 10010.959440427792, 976.6637417480093, 1323.3538015710205, 401.83172571737595, 1655.258825542477, 2164.417041229803, 3549.891170117166, 560.7119357626173, 3856.849249076164, 1165.4836888280631, 2215.1954825933653, 1229.989300532847, 1714.494088911227, 777.4345954804922, 893.7125611665015, 590.4550654929299, 914.1100307180612, 954.1396772549239, 791.0914629138584, 1046.3260460393765, 806.05773788011, 778.961431262794, 2935.5610213490463, 2060.250617559707, 813.9768393686786, 813.7658478738645, 622.5733056575393, 587.0962601710281, 388.7422020098024, 362.66547553905014, 353.9886145954309, 319.55954007734294, 303.53594803933987, 300.6583040352586, 220.43844736396022, 196.85393692038696, 190.8759748669782, 182.07195822725438, 164.72591261341174, 155.1863222538742, 139.9029741434277, 139.2325456475666, 124.51000607896704, 103.87217363445203, 102.47863928112437, 102.3674933856907, 100.60011049960518, 95.34540575027007, 91.3144446800015, 89.86589615518314, 87.26035064843978, 86.10908823947503, 15198.294525229314, 30934.366098097806, 8040.079587720731, 2929.020731910529, 1833.9839533143415, 594.6011580823732, 700.4427973354725, 2175.7042399133247, 426.29802764646956, 2076.408269853353, 865.6364638131, 2070.4908960095054, 2148.9846521143513, 503.49423511676326, 318.7423706866905, 762.1024785533315, 771.9725244248947, 483.69253345081995, 494.3271275207427, 475.0713605323843, 579.5545203814962, 335.70584039068217, 29866.86936937229, 6109.461092206468, 5422.242830213911, 3893.479006588191, 3859.028106876082, 2429.2532753698483, 2127.879807749387, 2072.0265898818375, 1338.7831397267742, 1192.9492703567762, 1179.3293295335009, 1029.4793277923297, 813.8428999694858, 794.0678858925385, 706.56631011451, 690.8388337014703, 682.4771890046619, 668.896223582867, 552.0482992534277, 487.0486285371492, 450.2965056945793, 445.28264037993665, 375.5347114414214, 336.37999349517344, 333.95869639361285, 324.53364877846855, 314.036075148224, 274.63258748631, 241.8609789029833, 227.64658594675234, 3906.058304068487, 1494.1985119409514, 517.6269223165225, 600.1840202909393, 613.3448518629255, 550.3464601971203, 599.8285975486671, 461.1567057375919, 452.27711671137394, 9237.86709803502, 1129.35615780859, 915.3773516709459, 788.5598230595559, 510.30360277275526, 454.78297091011575, 449.99869239472065, 442.2691685838564, 418.3763746907434, 393.57559000529295, 389.1634525579257, 314.0903894226528, 308.8153098176753, 306.25771869673525, 298.55746250706875, 298.4786008612105, 275.7166507785579, 274.8089321201285, 262.15274230370204, 258.8478783331544, 223.25366853462089, 200.27607212722077, 192.59066441861674, 188.04788759480573, 188.00185787491145, 175.4682585244076, 159.9338329795951, 153.9109239185191, 146.73336237339907, 137.16054729948013, 3327.4701176571107, 4754.892436987452, 13191.614083676544, 2816.8233067378046, 2209.950766310135, 8835.129866311048, 3771.8784411189013, 7683.387790313174, 960.4900875181262, 810.5113480969887, 1011.8282863438384, 1582.3976948460097, 1226.5301376819098, 1747.0901193251834, 1802.274655885113, 1263.6414067324688, 576.6878711479574, 993.7956640411965, 673.9468632363033, 1128.6210101062886, 742.9099711821392, 631.8240787411535, 686.4559879455688, 553.2128246799173, 5587.44135765724, 4691.206701209963, 3364.3539298730934, 2887.599107869226, 2624.8882612185075, 2078.1241197342147, 2001.1240581199243, 1977.9736374190456, 1697.4023992868192, 1250.4696709930552, 1085.6674576874555, 877.5996983438798, 597.8444656055169, 563.712685770266, 534.9273450008016, 525.6519421676375, 465.5927253473151, 465.0057705894697, 408.05717711377605, 399.14495241211324, 352.61301812161537, 347.0616537533958, 315.6088862923976, 313.4467797021171, 308.73565135983245, 304.3243351994882, 299.6090271232275, 296.59535609635384, 294.5109931702141, 260.3410440498808, 3876.179564304167, 7184.78234484546, 4232.429664581448, 2310.2461485784065, 1213.4882360771526, 1079.4691819419784, 2592.070552210866, 1052.8021305778007, 638.0836312351165, 1119.0693528224667, 1384.5447185376463, 1125.7842515344, 1795.203217908793, 855.1707880673454, 878.2353216244618, 899.0419979308285, 684.568217183025, 662.1541276244907, 687.5791657269925, 664.999569720377, 2253.9305432992237, 1416.0347098816133, 724.9497890708236, 479.264213492022, 423.01475254182776, 352.4733218007986, 325.5327133819025, 304.60950656329675, 277.37805450597716, 242.77295711958334, 233.51494660379555, 226.26668554984315, 198.76458388197557, 194.0761459912427, 189.52233695031188, 175.83273708482503, 169.08920632469605, 159.6092374097302, 156.8648023300215, 153.76039412912223, 134.36381780689038, 132.77613658495224, 131.78459127227387, 131.06373031279256, 127.23932467516316, 125.97358173463422, 124.77852686781507, 124.16512604608921, 118.4943579053804, 116.09323408872945, 25567.135451558977, 1233.8707209277914, 14284.90120339415, 1115.1373461770843, 771.4841534167788, 5178.762348585275, 539.595383540908, 377.3218285623276, 948.9697095358182, 1058.5397082056886, 7366.1628843549815, 1074.153977123172, 5552.070090806496, 1101.8231821002057, 2092.5380817217374, 284.6632060765418, 600.17958038936, 576.9690980842314, 452.4304937590903, 324.273540821001, 302.1627877772268, 7401.039282654858, 7072.322072537003, 3692.6242209547954, 1703.5721115697506, 1000.515633399743, 755.0191440267223, 656.5098930528872, 454.6731189543567, 342.0215332687666, 306.61759448823494, 282.45566452879325, 279.64626668709786, 277.9854597348262, 277.04984311028335, 255.24405588485314, 250.78509364985598, 237.7809033482981, 230.62133840115908, 222.52964235704087, 200.69161597692855, 193.4266760907423, 192.40971556072233, 191.93311306765736, 189.56864917544425, 186.75128350465226, 179.9769215003953, 172.71842830631488, 171.86545994206253, 164.16074942137843, 158.7117986202362, 7315.749160451614, 3653.531957585608, 3600.7136598068582, 974.5873604332952, 12779.027249236313, 1373.637791262781, 3743.158864161257, 1436.0589347833854, 859.491342869938, 1509.0821256638865, 2133.879358515381, 822.6870087853964, 846.6515497680106, 476.2898831991119, 772.8038081238242, 471.7582985157649, 707.260150204903, 435.37403837887706, 711.8534109984199, 416.937607220327, 676.0596528809023, 569.8144716489663, 491.55300608569553, 506.71285348407986, 6807.911864541079, 2641.0719108825015, 1537.4523796493804, 1485.688528491437, 1118.4507145761563, 1066.354059881504, 1038.1141086502964, 937.1531835405485, 606.3719182750937, 534.885537681119, 421.0236612368046, 364.94728380147865, 319.15259465558387, 310.75199800163875, 295.197454010539, 271.15738803778936, 242.48835848622642, 238.2593766147634, 235.61860383206027, 189.01611852072648, 182.66258226991266, 177.34815441380297, 177.05125556114442, 170.54830087699898, 160.77199152383167, 141.92057589659706, 130.74556487887594, 129.88091138464694, 123.19143748956391, 115.81845317332767, 20556.47180858376, 3842.037434468797, 1576.183242487752, 15879.025968511613, 365.8516260693014, 1916.7137758062456, 1950.2722725995288, 1182.0531119726345, 743.3547376259927, 930.1373346590931, 524.3781431567111, 379.514927446676, 378.6637613774568, 541.9522427655139, 371.28602563022616, 310.13920167539425, 6956.125162482186, 2982.5748859423247, 1898.3186109561746, 1408.1610747769157, 1247.6488964889684, 1107.5991700931265, 1091.7638555006627, 929.9387436891118, 725.1209135512095, 693.0112441861622, 655.5978901766031, 548.4601427895516, 446.2321467886741, 388.0025255512691, 369.871354326243, 352.0008161344648, 324.36342977532496, 321.32750557801137, 281.1700553458486, 268.60470499331774, 232.93322034518175, 227.68206274010652, 215.67406451744915, 213.59680410005217, 193.76691723176037, 185.83955670022743, 183.25793879222525, 174.25256887500785, 114.3156077699939, 109.3634961498568, 12055.293807706901, 1669.115885071303, 11862.482215255372, 624.30869432453, 5466.551444281159, 3223.848877492578, 536.5914696374128, 660.3532160021655, 5567.4194182423425, 1032.2594245116813, 1783.6256003592553, 918.4509478457743, 846.7525649561508, 629.770580613237, 532.199421309996, 543.0845879375837, 573.6528612590935, 515.2728553656956, 526.0294634954125, 738.2350623096169, 642.0762196808641, 641.755557343721, 287.56230533466044, 256.33352426182574, 255.55518147869407, 229.01770212870582, 178.392831555198, 167.87713094197161, 158.20008981054346, 150.69046145609934, 132.35486834459567, 130.14688002957948, 129.68460939451637, 125.46231762951852, 124.61635329951899, 121.51682789700786, 120.62143239232738, 115.46778579138874, 102.40498241197761, 98.81232662688366, 95.24402955661124, 94.62067828851312, 93.98280306253552, 92.63442585222619, 91.85762354115745, 87.03753690988772, 86.74235367207994, 74.13683438236444, 60.93204952400675, 32259.02447092537, 14760.033680950137, 10421.535815572848, 963.2459613852723, 4595.862008029477, 662.2178739295192, 1102.2772607989862, 549.976180217784, 277.2837393026118, 473.9443945139283, 210.84232101226146, 486.32504618499286, 198.349436158034, 379.6787554569198, 326.31562218718585, 362.2716652937434, 286.9409304007808, 215.75993676904113, 238.9281080527081, 226.9614682294943, 208.09764868030499, 186.95619220223173, 6194.176437847484, 4459.410578155609, 2998.9280096688835, 2142.9458408055257, 1430.7542923606, 1157.3580244770974, 977.149713511126, 641.424247084135, 521.8145851127103, 470.80383055470753, 427.0369946812435, 413.31506213773343, 410.4428675221804, 406.33934480489467, 399.8564662110185, 380.1376016843606, 375.27485572855403, 355.4514032966503, 328.04598697334325, 327.32385584716127, 299.44005346332904, 298.5222813354239, 286.43727352816563, 224.5654865710676, 191.3750323788269, 181.29509916842346, 179.77876678258625, 174.5800067766278, 167.37567953697493, 162.872220821706, 5028.134559579906, 9601.294125306884, 6343.013975146188, 5090.8610583809, 995.8412716943272, 1313.452389250665, 1201.94068920284, 858.4788883853737, 943.1145240778579, 392.01490698911095, 755.7731082982681, 651.3079651989457, 706.8984585409704, 591.5294066085056, 501.57940716718144, 484.5168386281436, 483.3061400812165, 445.62569782599667, 6005.804633016747, 2016.9904321634185, 1839.0297086907683, 1182.749910844262, 1165.2502500261776, 1062.8462625196237, 1049.0045145825209, 935.9023341742825, 815.8662582010609, 708.0519868041334, 663.757950644778, 662.9613753942965, 651.2206556595169, 642.4269367494253, 638.7080742425521, 620.5353556721194, 605.7816266098431, 518.8301097589059, 498.6494792085917, 473.4755081000892, 434.9720952170439, 434.2048153580185, 386.78205519766635, 376.0478638434411, 350.7972835866864, 341.4284929557093, 339.3875056288115, 312.05872384187796, 309.36724390176556, 283.62997826452585, 680.1876453596092, 1077.3369684503732, 6842.024409177565, 2309.8392054513356, 1499.167143488875, 1379.2854392569404, 1344.14364755791, 584.1962677710825, 1484.3496400457625, 1187.371480016781, 981.4511683547237, 624.0126645220976, 1010.4974947267172, 1029.903007978175, 1014.46286101191, 751.6818642216807, 668.6399344388474, 671.1044586495037, 5956.2204425665095, 3205.4361186319743, 2820.9843733674334, 2689.3747695186, 2253.8389212601714, 1711.4092000034625, 817.515948473702, 792.5028079758238, 760.3798650137078, 751.3156805247555, 679.1417166159381, 617.3807113585557, 515.7380355885757, 475.62459473617037, 448.45971347457584, 435.9105288213763, 366.4482633913329, 358.9532090465513, 322.07395863136685, 320.58179864498254, 315.1761384100635, 305.06910469466663, 302.35811045346355, 290.920768585337, 239.95798801873192, 230.4516451273114, 195.46201647991356, 190.30911547565336, 187.75657562840132, 168.84738924601308, 14371.344852349775, 1049.2204337146916, 5352.201474610528, 2901.727692600347, 455.77635042441307, 1371.3690411994778, 603.80634745209, 2649.8307921237497, 1202.8915613451, 667.7563821981482, 520.3731537653159, 635.2786218840447, 711.0973161191524, 667.620376352572, 545.6592578654814, 2272.572090015954, 1967.5482190593455, 1277.3781629880984, 835.2538984435932, 761.7340843356577, 649.8628582719407, 548.1810581345574, 362.7500294468651, 352.6453008254198, 315.5769754403436, 293.46573317648387, 267.32404495629913, 260.5812619689431, 217.8170165113671, 209.30358853330608, 206.24268720454612, 206.19880566473304, 199.63576061235634, 185.64664505897719, 153.25745211362866, 146.80084460001194, 145.9447629472396, 144.74081383182326, 141.82788140329578, 141.6716145509799, 140.6746020190707, 137.49051801465546, 135.072602111556, 133.42844979975203, 131.3800814295539, 23835.765978304815, 2840.5929555227644, 2471.339778005414, 748.9551636927871, 378.06182149265817, 744.1878444726453, 841.1755016827715, 916.3826822210292, 3316.5717291442497, 1300.2752685617997, 1212.780900675414, 1783.8209530582567, 2158.200922984431, 2232.7240997304116, 1915.538648777676, 752.6445640613587, 1013.1011143549864, 643.4058225209736, 523.3834011276193, 532.5501665138273, 407.6084282813671, 408.8873965164061, 19590.997392995483, 3137.8416081666564, 2056.450285747668, 1956.528313191278, 1515.9032657251207, 920.480899057869, 782.2580193736517, 764.2333660590887, 673.156728021978, 672.7551572133785, 652.062104983423, 487.02541306195, 416.8424552064503, 364.0183470244255, 344.4755207277192, 327.7642109789078, 317.9803942854537, 306.60228069589976, 297.45741115476727, 271.1243710825258, 265.91589465332913, 239.04335373643008, 234.99963298054368, 234.45772798159206, 229.17082132761954, 224.96008638949135, 216.7936401667101, 208.65666636483087, 201.5455155681439, 190.79095202980852, 7698.264324963036, 4649.11515907473, 1551.8630715628724, 434.64152100718167, 574.7935413987477, 3729.817061883954, 1114.2455935982587, 1464.133928811665, 1341.5931077141508, 721.2199113800223, 562.0461200207211, 499.9048632252728, 599.7578992602976, 483.39865119760515, 533.7787960637097, 541.2459930622338, 7227.0893287893805, 5202.891943900132, 1996.044799245271, 1722.9828890550032, 1339.3463544664594, 684.3324511345562, 626.8978032146301, 494.6841038992233, 485.57058473958233, 430.7646220452255, 344.57079316964087, 297.46360104546585, 275.9809492981789, 274.0997905785633, 270.09301188064217, 266.69605124010525, 258.02595238112883, 189.40927551938228, 182.9437696512572, 175.34940621021252, 165.4664848887205, 160.38969002667056, 151.15689475875342, 141.46179953045137, 139.44891122950435, 137.76199007526532, 137.41528838736926, 125.56048258226193, 124.99431186588023, 120.25214467311565, 17431.463516239943, 1899.5377464806054, 2825.3070589793097, 690.991403664837, 417.95146929430126, 314.69012613546397, 6461.300347029853, 283.32358260840846, 1444.9933658005607, 976.0436655352853, 566.5484809574084, 955.7911816500244, 1231.5436613245986, 680.2035238759532, 859.226314609878, 522.5782944297904, 496.18199652809045, 470.2848303647494, 463.7420551640344, 412.119788033873, 322.6834796752691, 2176.6874696518835, 1515.0257698263376, 843.7805930266122, 650.9943339412602, 631.1932622396731, 614.9951580493458, 432.54880299316625, 350.7975845039012, 347.6499499653952, 330.4178536277104, 303.5981831594291, 297.8188074154914, 297.5508941976988, 269.426226211817, 213.13645130774756, 194.66840728453246, 191.55164883006466, 177.51806018392443, 172.99358336404956, 163.48195207505233, 162.77360654414602, 142.7531560149394, 136.291855943296, 122.84858242769442, 108.22317797442095, 87.04009389373154, 85.78400720937246, 81.54431579337333, 80.49663813383528, 76.741590153427, 6638.668986519058, 20870.32443340903, 7036.8840966061325, 881.9022548026066, 12382.293152035712, 2204.183094428389, 613.8046138682687, 1939.6837199640406, 518.4856359782979, 447.5341319194951, 882.7252324068559, 353.8735486086812, 386.6278288533222, 355.5871190445053, 344.73869865067695, 226.4890199627616, 14985.902873330935, 2211.993566884112, 1580.7987339553868, 1207.8954925508756, 1158.2126404551218, 1025.7661490303137, 1013.0189211304825, 953.2148240909102, 923.9569918338026, 888.2923512219776, 871.8146153867093, 713.0859461366491, 611.7485012390414, 544.2057866112312, 461.22775376924824, 445.3124278280796, 375.45789786981345, 349.6734340230296, 328.231444607705, 324.4397349970781, 310.57349677911225, 306.6940100982145, 297.5235540562057, 282.1457770174566, 277.4656322379563, 253.54004823191678, 224.0641684639797, 218.65628058981653, 185.33637828129577, 179.6266468410962, 4092.602353113328, 7406.484093767077, 3751.8971466864928, 606.4347030624929, 4949.133717985618, 1700.269781572243, 578.5595481843874, 1949.5360186653536, 2813.2132570979916, 1195.308923266123, 499.33708934987044, 560.0545718480581, 1717.9505104637649, 1544.7393674751172, 1518.2665474703217, 1243.3054179282224, 1042.794355705968, 897.130396678564, 864.8422892187922, 684.5480914413586, 538.8061228066792, 509.4851805775247, 493.7653321763218, 459.4891849752177, 393.99622736472, 377.9194719930102, 351.50900186892306, 326.62681122255896, 287.19990876177764, 279.4311720209789, 274.65520433459926, 263.4225606035047, 246.26734605830544, 238.27206831994224, 225.28889347878984, 217.131305831749, 212.73724548802923, 205.50027582373255, 204.0309675906054, 199.749861871869, 185.29993714809166, 184.9153442932824, 2574.057607134037, 2671.004803079367, 2648.282188158329, 1107.088532381697, 6896.320141677534, 1615.1421396090839, 4499.3245147088055, 1589.0303658721618, 538.2391585190094, 1644.2083310046933, 2990.01087774097, 3298.7009769753186, 479.0830978365034, 1597.536120293192, 416.58478903729343, 742.5985019131493, 488.75558592735035, 445.7516087617376, 9073.198323108361, 4124.07002241287, 3968.6460224380417, 3162.1204410336077, 3083.536513548557, 1162.8799483028931, 1023.5845859256033, 784.4339012530518, 769.1638863776607, 709.4511809659036, 525.6952439532693, 459.07505050802143, 432.0847262845527, 406.6505267470521, 375.7091472495226, 319.67613217347855, 312.8506432633903, 241.8184040131652, 219.6657078057681, 185.20299006425273, 148.21611870638034, 126.3057876895911, 122.17091337095393, 120.48888196140561, 119.66807488300964, 111.74845591727738, 109.73274785119003, 105.15203078793408, 99.3856009817696, 98.96323834838752, 14267.500392963451, 1781.6542501955344, 679.3690128749536, 1882.369478000733, 1777.2925966885896, 327.11076846267736, 1400.3644003970228, 1544.3230298135634, 1014.9915160755238, 481.78916532290424, 807.0367653871241, 438.8346341771163, 400.94713480274925, 367.1431656364442, 322.66077172228, 3185.161711015268, 2869.972919566479, 1588.6944722591772, 1134.0440982159662, 1109.100912428545, 1033.6404022581137, 1024.4831150574012, 922.0027065666322, 907.4033203105571, 871.9723016181954, 750.4247638615858, 686.4573553367243, 594.5051589655487, 552.8941565622557, 540.243976119606, 518.8590252015454, 506.56562989300704, 475.92848884360956, 454.8166042843153, 438.13730130990024, 418.46610748360536, 409.64524289592663, 404.68745864767914, 404.36165234306225, 381.6397185366741, 320.74023135266333, 272.3895770822331, 258.71818688168787, 213.14044532462165, 204.47644841184825, 3116.9831356656955, 1541.5930214438931, 3767.5401673480114, 2245.999981520426, 2374.6849689469796, 1268.5754139328153, 2841.3840079116203, 541.2631072608909, 713.8981048331249, 1107.2233199543716, 613.0550924062493, 1028.81598051982, 1141.8388191138813, 697.3905919665082, 645.5521636300201, 1355.3017999792776, 845.590652613213, 682.3165409722806, 568.6085365730529, 532.8100795613432, 443.03543372450133, 442.14194240537216, 429.90856423387766, 330.1460740103451, 283.35915889569776, 228.2774501290105, 165.40143623074417, 132.1281447414433, 129.71132368320335, 129.35567821913978, 105.3634476259007, 83.2756984633753, 72.18276989388283, 67.52401808849339, 59.18143231264959, 54.18628289264408, 51.707272597649194, 50.89639985873951, 50.78637621921888, 48.533403035698, 35.68154112884804, 16762.67253026231, 30.54196651754614, 10656.73359944747, 21.90767802587194, 4210.579945893858, 3117.5265166129166, 1593.2761482644241, 6257.352780666335, 190.84253703758034, 288.04489873491144, 333.29993815288293, 333.7718254840226, 1757.248095920926, 431.1411446732742, 631.0528652056231, 1144.3019641885628, 465.4430668862358, 1427.889054610053, 510.7523532034265, 268.4066024285164, 604.5555399458607, 701.6752666274828, 415.8147536409658, 371.2459051430336, 392.38356969458425, 312.5793040460889, 313.62932703735123, 3600.7735006822554, 2500.267963279091, 2337.630211484636, 2317.474880401436, 2259.3117234423853, 1855.3302767268633, 1725.7350655955408, 1686.7550083829572, 1541.02195483839, 1445.0702013747302, 998.424302925379, 995.427430628676, 942.969825277645, 814.9037596689773, 810.2432221245579, 722.6215533101856, 711.4018013901809, 691.2760247803873, 677.2490442832516, 676.3943878745142, 642.6076458653663, 608.736404812045, 541.7234389318287, 539.0947988140921, 517.5203264340706, 507.68677576372573, 477.17767831394025, 450.4535914932866, 440.8110321748846, 415.3433547655219, 1541.3500742475037, 4066.589842379228, 1702.0728800246332, 1325.7109942309162, 1076.6313671309954, 741.5256445608488, 603.9312499271042, 626.3870797119087, 3682.388266704819, 1053.1963301183298, 991.4375781806388, 472.9223079169317, 374.77583595508224, 320.8411619838976, 315.2637701559054, 312.69378400561703, 280.3013513634487, 269.7621385534986, 241.5611843125423, 236.28129240285907, 227.1362400137459, 206.98817917431097, 203.29887275392323, 193.09292353408267, 180.95683283064747, 162.68385126003355, 161.78445826614887, 148.38335716533527, 144.20601246305637, 133.23785412750672, 130.6467817182744, 125.65413884384834, 123.19291694919558, 120.66307458629154, 118.99944757160073, 118.62925381917118, 111.55106786504753, 105.23242195625485, 3506.0027657262353, 7294.214093625279, 4035.010888502043, 17204.742490244545, 2988.013811473415, 1438.4884422519929, 4154.849303675097, 310.4238532455738, 435.1356396643823, 1156.422583195656, 1412.957854853875, 484.2645819879673, 412.6311449100784, 501.4189471838692, 455.6427748794336, 387.75776294101854, 370.3516833307469, 245.00916982346448, 245.2460717263311, 245.70109080683144, 8196.056384540772, 2487.4859712684797, 1885.184359369853, 1406.9202616727487, 1360.8606257780139, 1280.4164686099098, 1178.4796375524472, 845.1291455114006, 670.9401385195288, 646.2518188337613, 626.9969846173176, 561.0662408458617, 553.9206953886002, 503.5072586988224, 441.29069225672714, 398.9029485038895, 363.8958863173664, 317.28109757723985, 281.76317861878897, 281.38150180760135, 270.6365293799571, 226.51391163401343, 212.4188706881773, 212.36438529905024, 211.54277553411504, 205.93403413914268, 191.93946110125717, 187.84479890992134, 183.34824013856547, 176.8061180498316, 4509.27392273125, 1272.9865763823345, 2916.705804824171, 1637.6582284284077, 703.3507244246753, 701.9851462199355, 1391.2880325833708, 4017.434896434864, 784.7507421630235, 967.9884134767527, 1140.571385978349, 513.0918720686886, 582.3161968744591, 599.4818574813271, 641.2196975687125, 686.8462090823508, 1860.062925825431, 1581.232559071597, 1204.1602106004452, 1053.932358494059, 864.4443419217664, 676.8589692702421, 651.3141485193099, 460.11704036641675, 440.16802284877843, 388.2541679555382, 374.096924973712, 337.2417410943612, 278.25456920208967, 240.8229489017902, 231.8783717939894, 228.39391584395088, 224.78353710791447, 179.348572782297, 165.77433253105306, 135.521844282881, 129.85502319645894, 111.25861519627254, 110.82639505501767, 101.92596167347956, 88.50240608129013, 85.10040128037468, 79.4600153909612, 71.06491670605011, 56.56820811660943, 55.70999512610073, 40997.948349579725, 1105.8959820280058, 571.8779063772998, 344.8422058537314, 373.4295765002061, 331.9315854755084, 156.3023629399025, 146.86091559076553, 121.18167840801738, 5924.0643007928975, 3584.084278431694, 3565.1480884529537, 3291.5534645966363, 2220.119320735305, 1881.061012687452, 1734.5236238328039, 1199.316413415335, 1143.2107390699266, 1124.2328562551402, 1083.9212015645355, 861.816194703344, 822.2176617339692, 799.5736590875957, 590.123956258339, 456.10709482327246, 428.41902928276414, 428.26790938338144, 349.9900572864653, 311.5716866078675, 300.35877856475713, 297.4261049554184, 256.44808371083354, 256.4248725724193, 222.02403822115798, 221.0687431938661, 218.12959713501664, 208.90637667371325, 195.64814533262373, 173.59723133488885, 809.7029372999308, 4610.432245618401, 1275.5462892050182, 1248.0740142076088, 1145.7082228530699, 2112.175636219982, 700.2117054246064, 686.0513313567669, 1165.0816339445696, 657.9716240140565, 395.3341272575131, 560.4356807048902, 466.0577596711746, 5499.16889682937, 2822.3779493643383, 2242.341423832729, 1973.6615121501889, 843.7255710231545, 824.8285147781014, 821.8717749653516, 814.705000601119, 717.2432171977129, 684.4626882692991, 678.96753899834, 581.0938877946443, 320.1518077664527, 301.8608003548271, 244.3026121283854, 232.69856302683397, 212.45066446751713, 200.24688135327463, 189.56720257548145, 177.20538605365365, 157.72011491832856, 157.2868945936459, 147.4036955119111, 142.36790382990313, 117.42130517844653, 111.18255375136626, 109.49597351563067, 91.04517502727914, 90.19684404278865, 86.8689786397209, 3482.356973843828, 10722.041072020591, 1736.588741158773, 4342.643812385507, 1412.7580302229846, 1067.225994093273, 308.5751327350675, 2360.023412340211, 1505.6286097112002, 327.51172222964465, 986.0016999406708, 415.446990547678, 436.45405527143026, 582.9400631692771, 267.0994567669863, 12976.134357483043, 4188.63313536685, 3419.9888010802674, 2229.3661739481577, 2093.1593900770768, 1079.5182141997338, 1077.8330067302784, 856.164421370631, 811.9564595206683, 639.9773325810822, 616.3980603657498, 613.9086003053401, 578.8640503611598, 577.6661960061216, 448.7158967008112, 400.7169921243417, 350.82077804209706, 326.32184548240804, 304.02382581909785, 285.70956169848097, 282.3064407959356, 274.0500439000784, 272.8583617625777, 248.31376790513232, 238.49086644345192, 218.82900306605018, 218.2957429643213, 210.239329954108, 190.90535236347898, 179.94602875317594, 4427.391049942664, 4917.4559706943455, 2873.6795711145596, 5946.474208450125, 3295.5980092781, 1601.1287844360309, 1341.6977375803792, 1054.5815237662252, 956.1675796453058, 665.2246387978346, 503.31135602294046, 491.30221538321473, 490.31506236327175, 474.7794807573724, 381.04382026686505, 263.51075677099, 260.9285242786743, 239.03725917619548, 210.1264589067777, 187.69115853446598, 178.67673250454322, 170.95540901411078, 148.90730652188353, 130.8480740530274, 130.52617627995005, 130.49889926945352, 129.00965994138608, 115.49025353021517, 103.50294469199824, 92.30007861911588, 91.78487128651453, 85.1356875599098, 84.47804678683566, 1844.3928757648448, 9069.369532446408, 1557.5974343422963, 1060.6124365222336, 6376.845494912142, 1946.6498258783, 290.74131578688434, 2013.1445655888942, 626.9218934618208, 1001.3257796238255, 1158.7972133814549, 803.5598875256394, 1107.6737441470034, 297.6101229568815, 567.9310082680576, 553.2931688459358, 496.46923978758474, 329.7408319893459, 2614.863575731902, 1777.8124569524116, 1572.6688602502306, 1528.1055804901318, 1163.5006507127152, 547.2488448274846, 527.4241115476283, 500.27288480324995, 465.41126784076715, 446.1680389205828, 347.57920345521717, 344.743048581097, 342.9417503031973, 282.80791933868403, 281.5144631930162, 255.25449134819496, 237.81644537860538, 213.059337107999, 184.8009376229661, 177.8364222060873, 168.23063015427977, 162.41056363814684, 160.60995549327052, 155.43119944157039, 152.91152559840063, 149.53856442246345, 149.0512251511017, 140.3457746965089, 136.8397108601982, 132.3820672884209, 5958.829062860634, 2573.1585694739692, 3620.841812320097, 3219.5288541558994, 10802.094279015666, 2088.20152498572, 1186.593382631131, 376.48720560920276, 441.84344222497236, 647.3932521017845, 334.9019621701725, 675.992987067725, 433.5629944667666, 469.3729132051409, 298.90508335096314, 4345.949352598251, 4159.2519338057755, 3288.9094441740863, 2686.4391889068183, 2318.4323520188586, 1691.955799074005, 1378.0289785715795, 898.9702770942143, 812.7598906341397, 769.6575994346798, 753.8182693725404, 695.2582822744425, 640.4674277771168, 629.8512212431516, 540.0660672536897, 488.87339702780645, 411.0410165930036, 374.28434647060243, 338.74063088576094, 338.62650300975673, 310.28480450629763, 272.67581976531443, 248.93943450242287, 212.20629903335242, 203.7372344509106, 196.9890322955178, 194.11086594893158, 167.50514719623078, 166.65882336861353, 155.48825258845665, 2397.824915523806, 1848.5035390171654, 395.7287590179238, 2423.7002763664964, 1624.1398308166044, 1768.0707325152275, 877.8093865520686, 867.5003893176313, 960.1922355683939, 690.5278132550951, 675.0049922736215, 378.87406324616666, 13421.121173655292, 2730.794619210718, 2722.289542898801, 2133.3279602890893, 1503.2456060482937, 1333.9296333793766, 883.91982582003, 556.1046211800916, 524.800682048042, 471.9947887906031, 460.57685897167323, 365.63178846044565, 340.010274098964, 318.3803569295725, 291.7162371456954, 284.7976152312183, 243.48010926568637, 237.89281146192457, 195.04801127798996, 176.66975289527403, 172.19975526865875, 164.34649987106042, 148.65000525700538, 147.13508792876954, 135.06336415695372, 134.06238910688103, 132.7716253849569, 131.845744973787, 127.75802820692454, 127.19500927634358, 8604.750790006858, 829.2016321487604, 2165.8645372379356, 1022.6521407486848, 1532.0725793929857, 473.9391346274608, 835.4368524502138, 564.0551816467196, 369.93892366197286, 433.25088776792694, 300.38058315024375, 444.75358686067966, 363.91550576978574, 354.4486781513036, 304.51210742785736, 2171.41702397444, 1470.3503211584564, 1423.8510112155436, 1307.621900871353, 1196.6017029680434, 1106.8990750959804, 866.4775715823819, 813.7617879154365, 752.3194638323255, 658.562637068098, 575.4458049542027, 480.16204080525273, 475.116033827659, 458.20184455465505, 441.48119157774227, 424.5843735431111, 407.15717324379324, 360.58952071835336, 348.9781344574996, 290.1301439927011, 289.6037109628496, 262.884288451613, 261.2678189594245, 244.28025538695, 198.19829386030108, 186.81111164188925, 181.23550782691333, 163.77978899097863, 157.96364773477242, 141.37994877054683, 5723.373700690323, 1835.3507096084193, 3654.465894832389, 1673.7005724497517, 650.3037309186936, 1484.7711598851006, 1647.3661654779523, 3484.1702934130735, 600.7839918998199, 706.2215584796708, 1301.1314793677916, 571.3362305150783, 1166.2967763414385, 969.2112330998256, 462.80251936619607, 2997.564064000314, 1972.0354105043525, 1281.8504626211525, 1277.779207898726, 1197.1612857370726, 1010.0409949895175, 877.955449913304, 814.5388940061108, 711.1188425661319, 625.7917866768913, 518.4840616842632, 506.352929421494, 498.2451706384708, 464.786631423272, 458.21025626835615, 450.4018615378602, 353.70603252746207, 317.92387753945997, 301.4450170866206, 294.31687190982063, 287.0377063552574, 267.93943402932825, 259.6708716358544, 228.3764609135075, 225.12408947871984, 178.50061808084175, 178.0709229998351, 175.81519056839858, 172.554339386815, 170.19766415407997, 4042.499313940893, 6117.437020089048, 8729.992921110612, 1201.4160203486801, 1020.2193411030253, 468.2281602914838, 1139.700924102334, 770.2781198901909, 318.9132334399979, 380.20491337211416, 8675.72829889381, 2031.083911179118, 1776.545654585184, 1627.3940014658174, 1308.547640046838, 1147.215638729011, 1119.7050010666117, 822.0246814432193, 719.6346539588494, 686.3385581162393, 654.5701593726508, 521.7701745095925, 451.2340851939592, 420.6331892456295, 349.2019914836203, 329.8867415285722, 320.9342094269963, 271.7701594973279, 229.94662528764465, 222.2695538820968, 210.46590703116638, 192.82223670005857, 191.3079356205339, 177.10907522300215, 167.89950509444657, 164.323251388326, 163.52902835520206, 160.37452573866898, 152.36912746546113, 144.69969467988, 1564.6048741047214, 7622.025606909319, 5127.491566099276, 860.9141800722058, 419.3122095598379, 1447.8549542539658, 454.47346864618635, 443.1019057988517, 1497.524955453552, 527.7500388989818, 352.8010572144477, 288.9766952219779, 4289.783492224532, 1677.4653331837064, 1425.375249395335, 1125.9042092190878, 607.2929382895304, 290.70212861104955, 288.39774339701506, 284.28985208738885, 269.7854275453963, 249.63784400832327, 248.27812877858037, 227.4924299794739, 202.09445382372115, 196.2416071002, 173.6526937698342, 173.26624704368675, 159.4579747644235, 133.7367653002242, 130.89020716937912, 119.92933482648185, 118.5408859248899, 116.36930128950924, 114.66196759474954, 113.41933158005514, 112.56229656766197, 109.37544741793792, 103.81563871089377, 103.2200087244164, 102.74994503491341, 93.46160488583888, 1300.986267010002, 1561.8029038769932, 19809.37868636741, 2830.0000401436587, 1277.748546162644, 1780.2292116148205, 741.0775085486115, 968.3411380127849, 789.7789338364273, 159.96107800807917, 616.7509774444353, 255.37264483880594, 309.4992690054651, 256.0060536105263, 180.8534798734242, 2249.3798275165223, 2208.4168715513792, 2098.91481605907, 878.5127982957936, 870.5421842028798, 627.1433451802108, 612.6483579811328, 587.211747627071, 556.2355319594499, 489.7362434115915, 484.32055837403163, 484.0676711883638, 459.40615303588714, 448.32114960362264, 446.47053301664016, 387.23302092013495, 382.1726126799857, 341.9903777055716, 307.5056328515156, 243.84222564664634, 210.09595795002176, 201.0104652226871, 193.68387192416338, 181.90808822947466, 158.53452213115344, 158.24697787610006, 134.1863837410783, 126.56807007564755, 107.0864095291013, 105.85165737788859, 9889.942174419599, 1108.9302343717031, 1426.5672054350073, 1533.6382182847299, 5952.816410037775, 398.1712999463532, 1286.4543456231845, 684.3142770779921, 339.9794133489287, 316.36019186593927, 391.5831769296191, 399.8465050670131, 2881.149607866356, 2753.883575534373, 2252.331878673677, 2095.8145950061357, 1660.9561039883401, 1518.7293059312426, 1457.1873250897877, 1335.4983401530203, 1169.0561994750515, 1059.684071753437, 1025.2349557565542, 805.2143492764484, 603.0510956591177, 512.8447247148712, 484.95714213980466, 468.7747465868601, 411.1311733237128, 387.14520459047617, 357.21824545123815, 327.91633088222346, 312.32936622529974, 290.7393845866583, 255.09899697561633, 220.39800008972188, 218.43595528389724, 211.67437240952012, 201.02923981242918, 193.13458416722753, 166.43425579313384, 162.1478441103193, 4173.497800647711, 396.1549830161866, 1175.1439124447606, 979.2324708537274, 2067.857608369895, 2717.3108382948094, 794.525138092127, 1249.8489090344124, 1127.765457552635, 520.1455358310318, 421.39390749459756, 1110.025018325553, 763.6440448511727, 663.4899945490836, 556.1873441678787, 432.0192488064537, 413.2448722982038, 405.5967980898941, 386.96219475590146, 356.46297475306335, 346.82825554610764, 307.38825645109023, 269.943468912649, 257.120525001011, 241.71454589448916, 236.81572438813728, 232.86666937618728, 225.7048329256306, 199.66914216964926, 187.18529951324064, 170.98406873958623, 154.79998809928398, 149.5138223587509, 143.24800429432472, 133.20352297932584, 132.02911887333354, 129.16361039775882, 128.360205497984, 118.15857660233114, 105.51903327384534, 103.73148198680754, 1735.4849977481433, 11272.727274825982, 15425.870536404778, 3753.076176486915, 606.3760519384431, 419.1238715728975, 424.19595572694544, 278.75860999022103, 236.65646350627227, 224.58168867593216, 278.2041536102907, 2599.009386608768, 1745.44913557236, 1426.0414086285368, 1174.6530645135635, 850.7750058524757, 647.0334864004997, 639.0205441133991, 613.6518708180074, 369.96712821265146, 360.57248062919535, 347.35547123557035, 314.9441062384029, 256.4857038876816, 252.87468784593557, 232.62658417947964, 228.1649867345828, 211.82764381229217, 210.21903272713396, 202.88284974360423, 202.27010715306838, 173.22897227416394, 165.93162662207297, 153.45298573048032, 151.17646659902692, 146.54371353440166, 143.19789295369128, 142.98140305921893, 137.95125585641838, 133.81812737837075, 127.33521359821754, 2229.464550954394, 6372.470671839971, 764.2075840711897, 7740.804094894262, 1011.2638001905732, 836.2780298421604, 434.17744205225875, 278.90626054471807, 1814.4058106962111, 847.8882200756454, 1266.970425019986, 475.47425733081855, 564.0034735478221, 346.9004103610618, 401.6091887688538, 325.4790286058317, 8122.434984392899, 3897.0404688179, 2901.128981524857, 2752.122885747542, 2080.5295586553607, 1224.7129262009046, 1213.2426767043328, 1018.8818636166399, 853.716479181679, 764.2952453622506, 701.6057375774656, 626.4159369125623, 493.1545398128268, 414.8469073942796, 405.94945799371493, 336.45880973361955, 300.0150692709834, 295.7599617960545, 286.27250772448065, 285.06327702910625, 274.74966410885315, 273.29075884774335, 254.9475701902274, 253.77654058114814, 253.3258184183827, 249.42982294297863, 243.75735264597307, 226.5934739687528, 206.71386905689354, 197.7797978641446, 700.2900939380338, 556.8053653019828, 684.542243275681, 725.3752818637743, 879.3096829735391, 734.0429183036014, 603.3365858375959, 459.8575076038374, 393.72432904909493, 324.5470576679283, 323.2424006559742, 299.8628809407229, 2635.210797915916, 1921.3076174261366, 1745.5149515910202, 1313.6138890733287, 918.3434598412327, 662.7041521026097, 589.6455513689849, 571.3117971695856, 558.6117213608302, 516.4237951800657, 502.2682227033392, 461.3319693201666, 405.18148202964574, 394.0446018203709, 363.85341231031316, 362.624932765732, 319.7559408696999, 303.3325708480386, 299.420269832862, 282.9303698755384, 253.1132393011278, 246.9303301434957, 222.3461674475849, 220.9738213654532, 186.35893903732457, 172.95523584333353, 170.05038909965103, 153.432928082077, 150.2761241997899, 148.4771574465118, 3794.018248159607, 1091.8613659992063, 1922.167463241363, 506.36623801745543, 2693.637864289068, 3385.431670086168, 3225.41986839452, 426.8882484508076, 1099.712603569635, 321.41023485255556, 471.6598103041923, 569.642308238744, 453.44159189266975, 4539.233622411521, 2881.874963654524, 2470.9989251894176, 1836.7367401756137, 1756.4126790663242, 1218.5918208528944, 850.6571600273678, 745.9072132199408, 664.5202427808711, 600.9378227728374, 578.5939829264912, 572.7039251794432, 394.1939491666936, 353.29531721803113, 320.64394105026497, 302.4046458505821, 257.6702015846965, 203.95383505422814, 175.4618224058371, 164.711699827933, 163.74126527792637, 153.7933001549232, 149.00876660320836, 148.57364476207806, 141.92921780938283, 135.88138676290112, 134.65730165995276, 129.06290175072408, 127.54055681285632, 127.21799214808357, 3532.9418091933912, 3625.2704536328692, 3867.580323915535, 259.68392334593767, 951.5952369798133, 309.29562696299445, 300.73690245639756, 266.90762513346044, 201.58393710884783, 169.72649572201908, 4766.427641220041, 1253.1490300160538, 1154.497828408394, 966.9554147412771, 950.5483362958147, 848.1438854154936, 799.8867345960538, 591.5646921193038, 574.898660265628, 544.3181000763017, 532.317795991218, 521.4246045182111, 491.2665281936911, 472.21753838301976, 430.6642554640325, 337.19492995930347, 327.7318425997205, 300.77207033123847, 295.1458609239273, 293.34562371011225, 224.9093735549266, 215.48004362972014, 203.34398600364563, 179.4715570037882, 175.8302845655065, 167.61549033686518, 156.36517148927584, 148.2402620820275, 143.8691474105395, 114.86249168478913, 12158.90988555225, 1658.9066722049797, 739.5464696573895, 1256.6286010301442, 774.682946323526, 261.36134933015, 411.5183685973753, 249.86012207740532, 5142.512416310139, 3249.424379924463, 2309.454616313776, 1721.764942312703, 1135.3445108859546, 1084.8180826347575, 1001.2643645552844, 722.917816201914, 718.8840849384497, 575.1837614678221, 545.750117106567, 515.5004135092305, 459.1664826383176, 350.39172002952137, 327.1351783628205, 313.8296024340941, 295.88052110774476, 291.112975667164, 248.97376600241557, 241.02142920833725, 227.5012745031602, 212.11624347812776, 198.5191740516259, 187.29165465437, 182.22026904866203, 181.46095493308232, 179.29610827792726, 169.26200608304367, 159.20071125148752, 156.32854149805456, 693.2719941090584, 393.26768657445507, 3878.150854048584, 979.425594058261, 2616.64117366186, 363.135458149429, 284.18001544904837, 446.5567682030565, 303.6025130596251, 249.7101708184502, 4866.422682778531, 4594.850761363968, 1423.8880094039396, 1380.6543034751455, 1350.74394963261, 590.2168770408282, 564.2324698644053, 550.1410393776576, 508.6060725283823, 485.75573872646294, 424.2909477238972, 415.0232610925401, 345.748538088719, 326.5092595435146, 316.9917074868653, 306.6438618320421, 303.3128521416298, 290.82511917753493, 269.92379859383595, 260.8933494873618, 224.09892220041425, 222.25451617052434, 187.13739682137128, 186.13171611419014, 180.1512644909831, 160.38098156186334, 134.74321397325164, 103.366459250127, 98.96023650539082, 83.73361262715198, 6373.184614783645, 2565.5162004024032, 1714.6006067619087, 480.74552771437203, 584.4827338746496, 411.12750756544375, 364.7648849016338, 255.85490021098795, 1577.4719125825713, 1091.82753875738, 918.4132127752938, 719.1211637699689, 544.5273637424065, 502.59803800043716, 494.61825036573896, 471.29893358416734, 459.7482197044416, 451.37976740860813, 434.5512226129476, 434.50730063953864, 426.73820681202136, 418.1243606018182, 417.5971547080616, 416.6649908775171, 412.6774698289225, 409.92925958515076, 407.715953776301, 407.2938585064798, 400.58724993185086, 388.9193093168606, 387.1239328046655, 376.9932165582201, 359.3928943291088, 351.2382804102861, 350.30224115074964, 323.08363754923096, 319.6495385352922, 316.0872332052306, 1225.7745669501187, 661.2794318346912, 407.60422382290994, 6800.883615287326, 1615.6674213321567, 1202.191170260743, 991.7740223719969, 882.6572252342611, 522.8897212279661, 507.10919677157307, 404.4121277081264, 392.84004110924803, 376.407480774946, 361.6414676730613, 338.0774852875175, 337.2431037083938, 317.8137723654404, 295.3843944433392, 295.0879050535829, 276.66469682662034, 274.831746567443, 265.37689770438084, 216.08117800821375, 205.92729673597353, 204.65342107944838, 195.4263291108635, 194.80370221487857, 182.31740390256527, 181.7656312581964, 181.6757628614206, 167.41415210982117, 162.12767931636913, 154.8655678226904, 2619.7548747202245, 3552.4853996830966, 1378.057291258471, 339.15939665852216, 1182.2811641626727, 561.5555228072271, 478.361098877488, 371.35932707580514, 319.144041562922, 376.6526377976893, 279.8634323747101, 3125.1634437479215, 1889.6947125668744, 1268.3128472245664, 919.9666525412534, 916.0575071171806, 884.9782382753461, 813.2333732727664, 670.7657031010752, 595.6720279111341, 554.0377707239043, 511.5800254900754, 488.6028971482144, 478.6461189855556, 387.09013896246836, 333.418629499716, 279.0909084069956, 257.2336503465279, 234.61283399037185, 224.2723034682392, 214.7198925934506, 204.19209106280826, 179.3991373753939, 171.1025224038631, 132.08148862368006, 103.0275947145862, 98.25376342961675, 95.60008562199565, 94.83802915596965, 89.59586268051163, 75.24026059273298, 3691.4120547246293, 4829.696812821364, 789.1832239229518, 2699.5865267653558, 810.4524101579709, 479.4936263415032, 191.37454497234677, 246.36836745711886, 246.90763459910622, 197.37701601861397, 3365.3232618829275, 1351.1229791924761, 1155.6532046327864, 1143.3389669848486, 728.9965447646439, 711.6929433151121, 711.2223457019134, 679.6432187380904, 633.4086300793007, 509.0547889596406, 473.8043666086541, 459.41701240982974, 440.41927553372153, 394.94318556053565, 374.3360205211734, 343.22218366646536, 312.9194450197101, 258.61481348005844, 254.9952681397135, 235.9330332094289, 224.0409437996797, 203.14561409684757, 201.48425057080885, 194.81231782349118, 194.42309992932243, 192.98356268561935, 186.99472368247493, 186.73709856869556, 180.53629682109138, 162.41222166400644, 470.64461797543885, 1194.2751768294972, 2351.587423475989, 1071.0429116165626, 936.6887001050286, 552.3140035019196, 435.2443396291492, 434.1399882636664, 631.1970735141447, 375.4418269678682, 409.40217249963194, 903.9428080917112, 450.28411061442483, 2834.14655739644, 2305.5165054474314, 2244.901600671216, 1032.4220947458116, 780.8743581429137, 605.634339501192, 594.887027546334, 544.3446628757288, 531.6447162182778, 463.0735870932586, 435.05719818710713, 424.02416752649873, 415.2186337428603, 389.77792039783367, 367.04675825056245, 297.4512412580936, 283.1568831795009, 243.61727485650144, 196.96688116589982, 187.2892717799785, 181.1698513273011, 164.0739615135032, 163.2517869551646, 160.39632620277712, 147.2905007351896, 132.25441129942857, 127.38918134299072, 119.32787841487969, 116.11556931271538, 114.91702371327361, 7186.963926174613, 1421.2188463272262, 2138.330346706257, 395.8130676213129, 270.9497633857192, 165.20184733061205, 10986.239541854968, 3526.525132951835, 852.6863099403228, 695.4476406854961, 655.0499960415707, 584.2736588920213, 519.1576956015102, 350.33851349453215, 346.7620118949825, 294.0248718611099, 293.44465299281, 272.0181952590998, 271.896849543098, 267.84591357984755, 242.5545392538406, 219.03133456343187, 212.4570494774768, 210.68503452260546, 207.10019265144123, 195.23976499658403, 180.53772920188374, 165.84466350012838, 142.05094555212912, 134.61047075037035, 133.6492985424757, 122.58136226037853, 112.9271187874748, 110.60214005531734, 107.81861817717908, 97.55376896715313, 1501.699782165196, 1950.8016724189197, 971.7254564907246, 494.85396742681166, 198.58593560787892, 286.83684431993373, 190.8872734944736, 5375.701110666234, 1739.1460524111642, 1435.0878326412858, 1351.8321325399033, 1211.8943655464489, 1081.011755631021, 909.0894583862448, 846.4822879173863, 677.162213466309, 676.5056457950134, 675.1365204114195, 568.7240405189788, 557.3710572935128, 424.8902376089614, 393.8973197472428, 388.65994001782605, 369.5168451720029, 346.3638753790176, 338.81284170427585, 296.666712680206, 255.73752504248412, 243.75886669732233, 212.37294071051758, 211.9248490348221, 195.1592771817021, 189.3758877499541, 188.68911818235762, 188.3223760873536, 186.86282240164851, 176.89902016044735, 806.0940412431489, 511.81056942594955, 413.6342167790679, 1761.5627225118524, 12296.507575281039, 2111.5848116379093, 1524.0453186169627, 462.11939985170005, 362.2588102679921, 355.4257073550042, 339.6536237949554, 291.5451898492653, 277.02124322865257, 275.80279528562727, 262.70072913639933, 247.81870321984158, 227.18100836307931, 201.49245504277022, 201.26214534774033, 192.99256804740472, 188.94880735514286, 185.36773210166254, 179.988578914968, 173.51481521208478, 166.50239131518813, 164.8797157492376, 164.26869888400728, 160.96327187930675, 155.00239190086236, 138.51324421168744, 135.80735501223387, 123.51604523811436, 122.35652475791987, 120.02015047753542, 2318.7285111926867, 2614.214986424641, 1955.300328854509, 1169.3931086375871, 792.2976946805272, 510.90308484743434, 486.82319234177413, 464.529216765844, 447.51580669370463, 408.45495435095796, 383.4808627486418, 364.2674972455071, 309.3094018241067, 288.7230625844668, 284.8444922883063, 283.79945570439537, 254.04666995793443, 253.83070927280806, 243.16172071518167, 242.3400111596768, 232.93406376215765, 232.15081208106713, 214.56353429778335, 192.88940739306872, 189.73280361262965, 187.7249998927705, 173.3959217832043, 171.24994070580684, 170.7172920666176, 169.422626916076, 155.45148036528846, 147.45718419751816, 3193.7223715758437, 774.5621797921672, 1894.3678724230722, 817.2874460980468, 3592.0911731846877, 886.5721233234777, 2348.028154170279, 1257.1224915701057, 1045.2996092352626, 842.5150313268231, 838.9309043451647, 745.4395461248031, 648.1489423851508, 580.5161939132789, 556.8392327570223, 483.97199671461044, 479.2498621703157, 463.930557376979, 429.9324523792023, 425.39457450663036, 398.2124765995312, 386.5468639012123, 355.5848797828972, 346.84612753237315, 344.63974443935365, 319.8361852894763, 317.00970115002076, 288.7390300427371, 287.81316099160097, 282.6109000994192, 277.213416589842, 234.6589935103604, 226.55000109492497, 219.83330867166723, 218.7413980761551, 214.47862513942096, 1671.6340239318442, 508.3742327588313, 723.0725312423326, 376.5347655663764, 261.5312351206926, 1441.5743916116546, 1387.3079262325462, 1268.1104260128568, 1262.693521819391, 1083.154686310994, 981.4705089956241, 929.0694374507557, 858.1050394325465, 823.653746489093, 776.163295435081, 742.5696897881553, 593.7647938157027, 466.91585117235775, 400.6120659462128, 378.0416225587711, 325.7936690080757, 262.91952518108945, 245.8752990884136, 245.44243325030715, 229.18978124268185, 200.12111194344536, 198.59452368965196, 193.05520169395106, 175.08219074726625, 172.58842535119294, 169.54837390456845, 164.72776209417955, 158.23694609098965, 158.05620830995235, 139.5912220846013, 655.0877744277607, 1120.1252397333335, 2352.437619069681, 533.544817933056, 514.2958638183754, 267.95232585004567, 417.6313509224813, 224.45491661676724, 200.68968399422346, 3092.1909046113806, 2115.3729425767865, 1463.1189651956495, 1322.1425451078105, 1261.3695817735677, 890.8956747104781, 800.3653645444062, 770.0592000812235, 674.6335363369341, 629.7801745572117, 589.4080841624312, 393.48234675396805, 340.9595798860647, 340.08471414941204, 326.57596209288664, 297.68527351923404, 291.3879281201417, 278.48554771450245, 272.290614205816, 267.60875997857113, 266.23114568158957, 250.16182085558805, 250.10087386180982, 233.55022290299158, 191.85529480992298, 181.55106586118998, 170.39846504485016, 167.0417639875241, 158.3076842940439, 153.93034056915428, 2017.7112376877865, 1325.3856920489236, 2318.4143805910535, 2184.0165195588224, 1357.9984873958394, 921.2768616325122, 776.1246032669533, 732.1722139092548, 659.0088963361499, 641.9225093574901, 563.556327277232, 513.3438450173597, 451.681491720274, 432.0650896850444, 379.6746104792113, 354.6770268507446, 323.49326879943817, 299.1252808856513, 290.11082227671557, 260.77952560901275, 234.40166036746965, 195.9782790949259, 184.76158016302625, 168.8942921172315, 166.5236528913098, 159.12428855636162, 149.77243091993114, 149.135269880112, 147.2364306719584, 130.51588151187, 123.55637691193385, 120.39388175517695, 2659.590981258952, 1219.5325455678749, 664.4397038981152, 284.6262935759877, 523.6852489405129, 2508.0548131456476, 1532.6601324267108, 1234.923934848979, 1192.6137665426295, 1100.576557933642, 852.4610771527035, 722.6528296014305, 679.0386899048531, 546.4593184494458, 508.20609385290777, 480.1042144685601, 476.1376502844149, 468.27912058312717, 426.3057382641113, 413.5343118251774, 405.7692140017258, 382.1780003727419, 378.29275966933113, 360.03541927219, 337.8476892792048, 312.2093506662768, 311.41310374989126, 307.99378084345364, 291.0813452191595, 277.7226514646421, 262.2488516467134, 259.31423613552806, 208.8184774286006, 194.81992607505305, 179.72669723241634, 409.28251270301985, 1842.6494004623237, 1519.9159367597947, 1470.9468175794855, 1005.3197725387355, 930.3856256706619, 838.104470528321, 772.0858278107587, 770.4075968231289, 673.6328507186391, 667.8237440982435, 592.6819436255529, 502.13232646623857, 439.43137712485964, 429.83102883945304, 384.4267249967955, 345.6858447523084, 303.7609407560649, 280.6033976894757, 277.0462592481847, 268.12349497467045, 244.5279243601241, 241.27701991382284, 188.91119614071877, 182.92337873334606, 174.77646628891094, 170.97290456032633, 157.90525787283434, 155.4633075827773, 154.55726856262015, 142.81906321508797, 1462.7372010031243, 1112.9804911236283, 1363.16038337259, 1171.5777608593123, 1150.1178229684122, 1068.3181379331866, 944.2476823372084, 933.8604918041275, 723.4366682136331, 671.6646163539092, 549.2945561332858, 498.7224827414685, 461.360362764066, 456.12295636386096, 438.0889882665407, 413.0977540778484, 369.64968887591857, 358.14459881918793, 351.3255342628073, 318.61931931239997, 314.4106762853751, 303.5102475559584, 296.8489501629957, 295.36555992171577, 266.0371536416406, 254.39315707715278, 224.76014859332383, 193.20157989944835, 191.3866169154133, 182.38615242426897, 176.07047149910858, 165.01517475932232, 452.14367754999245, 1959.9958802555525, 1098.249260180431, 913.2008021436882, 686.0279049779559, 638.488221103521, 636.2955330297517, 588.8060540432008, 406.2046626673075, 388.3631758670932, 348.9168369200867, 338.5996579576819, 330.55700045034354, 320.935916355144, 295.6519857449738, 250.22512291696864, 245.05060140444584, 239.72609460939904, 233.74855325425054, 189.12178905836717, 180.8718350539585, 174.52481919596713, 172.56500920968153, 164.37592592376674, 157.78868441480626, 157.12375712488472, 150.39731977630174, 146.92763888783514, 144.09953676573548, 140.8627623985642, 124.75991880933924, 2029.845440262857, 1247.5257593654808, 895.7253060653153, 1641.5995390235619, 828.3751518360335, 744.9376681063202, 731.1602574299468, 677.4174427663469, 575.5074891859055, 533.4814058023783, 450.5704374596342, 448.1429732042678, 440.0196607714727, 426.1798127569981, 422.6123497785546, 398.2371247946165, 388.62165641422774, 368.89682913430914, 350.9170951377707, 348.61930775190973, 298.87932552774635, 280.0879948797579, 232.75348126829962, 221.11209138270863, 213.62620047421322, 205.4004178265309, 201.44621571938242, 200.94152646605073, 192.43632586009622, 192.24391377702923, 188.73702107051471, 187.9562894062641, 179.43399193784032, 168.1243800754428, 840.0692533006876, 988.7256974111579], \"Term\": [\"id\", \"value\", \"file\", \"user\", \"data\", \"string\", \"type\", \"class\", \"java\", \"function\", \"div\", \"text\", \"android\", \"com\", \"app\", \"http\", \"var\", \"public\", \"return\", \"test\", \"new\", \"result\", \"time\", \"key\", \"import\", \"set\", \"self\", \"log\", \"list\", \"array\", \"answer\", \"pdf\", \"much\", \"think\", \"lot\", \"three\", \"repeat\", \"approach\", \"though\", \"duplicate\", \"question\", \"kind\", \"several\", \"simply\", \"le\", \"wonder\", \"particular\", \"avoid\", \"entire\", \"performance\", \"big\", \"reach\", \"least\", \"somehow\", \"bot\", \"refer\", \"slow\", \"consider\", \"easy\", \"probably\", \"thing\", \"since\", \"similar\", \"different\", \"good\", \"many\", \"look\", \"one\", \"even\", \"specific\", \"say\", \"part\", \"could\", \"seem\", \"make\", \"also\", \"two\", \"see\", \"find\", \"well\", \"go\", \"thank\", \"help\", \"back\", \"change\", \"follow\", \"give\", \"still\", \"contain\", \"method\", \"get\", \"set\", \"write\", \"call\", \"api\", \"response\", \"token\", \"uri\", \"transaction\", \"endpoint\", \"curl\", \"authorization\", \"decode\", \"httpclient\", \"successful\", \"expire\", \"secure\", \"pt\", \"authorize\", \"jwt\", \"soap\", \"inputstream\", \"multipart\", \"curlopt\", \"udp\", \"accesstoken\", \"baseurl\", \"hex\", \"setopt\", \"httpcontext\", \"orderid\", \"unauthorized\", \"bearer\", \"scalar\", \"request\", \"ch\", \"encode\", \"url\", \"header\", \"origin\", \"send\", \"post\", \"body\", \"accept\", \"utf\", \"json\", \"success\", \"http\", \"localhost\", \"content\", \"application\", \"access\", \"method\", \"status\", \"data\", \"return\", \"client\", \"call\", \"get\", \"type\", \"message\", \"sub\", \"argument\", \"dim\", \"callback\", \"timer\", \"third\", \"signature\", \"vba\", \"destroy\", \"ret\", \"stats\", \"iterator\", \"concatenate\", \"terminate\", \"ptr\", \"jump\", \"resume\", \"upper\", \"bitwise\", \"phrase\", \"gps\", \"explicit\", \"interactive\", \"hwnd\", \"seek\", \"wm\", \"goto\", \"routine\", \"continuous\", \"msgbox\", \"tree\", \"attribute\", \"data\", \"object\", \"false\", \"piece\", \"true\", \"flag\", \"represent\", \"parse\", \"end\", \"next\", \"together\", \"set\", \"figure\", \"else\", \"long\", \"save\", \"nothing\", \"get\", \"method\", \"read\", \"first\", \"expect\", \"format\", \"call\", \"create\", \"px\", \"font\", \"box\", \"jquery\", \"border\", \"align\", \"flex\", \"ipsum\", \"navbar\", \"family\", \"round\", \"hover\", \"overflow\", \"carousel\", \"solid\", \"rel\", \"inline\", \"stylesheet\", \"rgba\", \"fr\", \"collapse\", \"fff\", \"paragraph\", \"xl\", \"rem\", \"middle\", \"sans\", \"doctype\", \"cloudflare\", \"amet\", \"absolute\", \"margin\", \"style\", \"width\", \"height\", \"background\", \"head\", \"center\", \"cs\", \"content\", \"pad\", \"min\", \"script\", \"text\", \"none\", \"src\", \"display\", \"html\", \"color\", \"size\", \"body\", \"href\", \"void\", \"intent\", \"builder\", \"findviewbyid\", \"textview\", \"dialog\", \"oncreate\", \"adapter\", \"settext\", \"calendar\", \"toast\", \"savedinstancestate\", \"arraylist\", \"imageview\", \"nonnull\", \"getstring\", \"mainactivity\", \"layoutinflater\", \"holder\", \"itemview\", \"getinstance\", \"viewgroup\", \"setonclicklistener\", \"inflate\", \"viewholder\", \"youtube\", \"awt\", \"onclicklistener\", \"edittext\", \"hadoop\", \"override\", \"static\", \"protect\", \"recyclerview\", \"activity\", \"fragment\", \"listener\", \"new\", \"public\", \"extend\", \"int\", \"private\", \"final\", \"view\", \"rsoftware\", \"null\", \"super\", \"tostring\", \"class\", \"return\", \"method\", \"string\", \"add\", \"true\", \"else\", \"python\", \"py\", \"np\", \"panda\", \"spark\", \"numpy\", \"anaconda\", \"traceback\", \"recent\", \"raise\", \"kwargs\", \"conda\", \"envs\", \"scrapy\", \"attributeerror\", \"enumerate\", \"pyspark\", \"rdd\", \"pyqt\", \"stdin\", \"ipython\", \"interpreter\", \"million\", \"sparkcontext\", \"continuum\", \"gp\", \"pytest\", \"importlib\", \"pycharmprojects\", \"flexdirection\", \"self\", \"site\", \"def\", \"sys\", \"line\", \"init\", \"lib\", \"import\", \"utils\", \"package\", \"none\", \"appdata\", \"args\", \"file\", \"last\", \"local\", \"module\", \"return\", \"call\", \"exception\", \"main\", \"backend\", \"opt\", \"cd\", \"stage\", \"impl\", \"scan\", \"myapp\", \"sh\", \"repo\", \"management\", \"gcc\", \"jenkins\", \"scanner\", \"dll\", \"exclude\", \"yaml\", \"dotnet\", \"ae\", \"emp\", \"aspnetcore\", \"workspace\", \"macosx\", \"cmake\", \"phase\", \"wall\", \"cp\", \"rt\", \"analysis\", \"hub\", \"eb\", \"build\", \"config\", \"dev\", \"project\", \"usr\", \"linux\", \"local\", \"package\", \"external\", \"runtime\", \"bin\", \"lib\", \"microsoft\", \"configure\", \"install\", \"env\", \"src\", \"file\", \"configuration\", \"compile\", \"fail\", \"include\", \"version\", \"find\", \"main\", \"reference\", \"option\", \"follow\", \"div\", \"product\", \"span\", \"li\", \"tab\", \"ul\", \"md\", \"nav\", \"toggle\", \"sm\", \"alt\", \"logo\", \"lg\", \"lia\", \"shop\", \"seq\", \"endif\", \"thumbnail\", \"pic\", \"secondary\", \"unset\", \"fluid\", \"mute\", \"productid\", \"sr\", \"mt\", \"productname\", \"clickable\", \"nm\", \"scrollbar\", \"class\", \"href\", \"ngif\", \"img\", \"col\", \"outline\", \"dropdown\", \"hide\", \"link\", \"container\", \"bootstrap\", \"group\", \"src\", \"active\", \"header\", \"id\", \"data\", \"type\", \"target\", \"image\", \"company\", \"old\", \"goal\", \"sign\", \"car\", \"wordpress\", \"functionality\", \"history\", \"migration\", \"gmail\", \"couple\", \"board\", \"offer\", \"creation\", \"strategy\", \"fe\", \"bank\", \"social\", \"safe\", \"conflict\", \"onto\", \"doctor\", \"dbcontext\", \"catalog\", \"interact\", \"unsure\", \"su\", \"rstudio\", \"everyone\", \"pseudo\", \"manually\", \"add\", \"update\", \"source\", \"custom\", \"lead\", \"scenario\", \"exist\", \"create\", \"new\", \"multiple\", \"already\", \"combine\", \"tutorial\", \"better\", \"foreign\", \"documentation\", \"design\", \"implement\", \"generate\", \"via\", \"single\", \"project\", \"etc\", \"simple\", \"instead\", \"application\", \"button\", \"page\", \"click\", \"modal\", \"press\", \"refresh\", \"notification\", \"front\", \"circle\", \"radius\", \"em\", \"reload\", \"consumer\", \"notify\", \"imgur\", \"stay\", \"trade\", \"easily\", \"thus\", \"threshold\", \"flash\", \"disappear\", \"thresh\", \"observer\", \"fairly\", \"uiapplication\", \"wont\", \"isolate\", \"subscriber\", \"accordion\", \"demo\", \"trigger\", \"picture\", \"focus\", \"webpage\", \"selector\", \"display\", \"html\", \"show\", \"chain\", \"inside\", \"change\", \"guess\", \"open\", \"nothing\", \"face\", \"previous\", \"content\", \"make\", \"load\", \"next\", \"see\", \"form\", \"field\", \"submit\", \"axis\", \"validation\", \"textbox\", \"charfield\", \"textarea\", \"sale\", \"purchase\", \"rename\", \"validator\", \"foreignkey\", \"pk\", \"ngmodel\", \"dy\", \"queryset\", \"isvalid\", \"integerfield\", \"handlechange\", \"checkboxes\", \"aspect\", \"fieldset\", \"userprofile\", \"horizontally\", \"formcontrolname\", \"datetimefield\", \"serializers\", \"french\", \"opportunity\", \"label\", \"max\", \"control\", \"placeholder\", \"checkbox\", \"model\", \"validate\", \"meta\", \"cascade\", \"min\", \"require\", \"type\", \"blank\", \"class\", \"save\", \"true\", \"length\", \"input\", \"django\", \"default\", \"valid\", \"method\", \"object\", \"action\", \"return\", \"view\", \"false\", \"filename\", \"jpg\", \"predict\", \"rect\", \"prediction\", \"mask\", \"mv\", \"rectangle\", \"xff\", \"quit\", \"gallery\", \"pickle\", \"ord\", \"walk\", \"pycharm\", \"imshow\", \"recognition\", \"myfile\", \"roam\", \"lc\", \"emoji\", \"preprocessing\", \"og\", \"outfile\", \"pil\", \"filelist\", \"dirs\", \"imagepath\", \"listdir\", \"limitation\", \"image\", \"file\", \"path\", \"folder\", \"png\", \"pixel\", \"binary\", \"img\", \"dump\", \"save\", \"dir\", \"open\", \"read\", \"face\", \"resize\", \"load\", \"content\", \"join\", \"convert\", \"copy\", \"create\", \"specify\", \"user\", \"email\", \"password\", \"login\", \"username\", \"auth\", \"redirect\", \"admin\", \"authentication\", \"credential\", \"laravel\", \"secret\", \"oauth\", \"redis\", \"cookie\", \"uid\", \"authenticate\", \"edge\", \"middleware\", \"alias\", \"logout\", \"registration\", \"passport\", \"csrf\", \"signup\", \"illuminate\", \"ldap\", \"userservice\", \"cooky\", \"displayname\", \"session\", \"register\", \"helper\", \"reset\", \"store\", \"check\", \"set\", \"controller\", \"save\", \"query\", \"varchar\", \"desc\", \"oracle\", \"tweet\", \"dbo\", \"concat\", \"distinct\", \"grade\", \"union\", \"market\", \"jan\", \"sell\", \"patient\", \"infinite\", \"dept\", \"orderby\", \"itemid\", \"avg\", \"clause\", \"fk\", \"mid\", \"decrease\", \"os\", \"vw\", \"paginate\", \"sqlconnection\", \"highest\", \"breakpoint\", \"club\", \"record\", \"sql\", \"table\", \"join\", \"sort\", \"select\", \"order\", \"null\", \"inner\", \"primary\", \"statement\", \"database\", \"count\", \"result\", \"create\", \"column\", \"limit\", \"update\", \"leave\", \"data\", \"end\", \"row\", \"return\", \"group\", \"child\", \"position\", \"icon\", \"flutter\", \"menu\", \"transform\", \"dart\", \"bottom\", \"white\", \"black\", \"theme\", \"slide\", \"mouse\", \"backgroundcolor\", \"cover\", \"toolbar\", \"fontsize\", \"rgb\", \"overlay\", \"kivy\", \"colour\", \"ggplot\", \"buildcontext\", \"textstyle\", \"scrollview\", \"drawer\", \"polygon\", \"edgeinsets\", \"geom\", \"circular\", \"top\", \"color\", \"leave\", \"screen\", \"scroll\", \"material\", \"widget\", \"navigation\", \"transition\", \"fill\", \"right\", \"container\", \"text\", \"background\", \"context\", \"title\", \"pad\", \"center\", \"width\", \"height\", \"entity\", \"person\", \"identity\", \"postgresql\", \"jpa\", \"clientid\", \"lazy\", \"clanguagesharp\", \"mapper\", \"architecture\", \"serializable\", \"myclass\", \"guid\", \"surname\", \"getter\", \"objectmapper\", \"generatedvalue\", \"pojo\", \"voice\", \"joincolumn\", \"modelbuilder\", \"representation\", \"crud\", \"eloquent\", \"fiddle\", \"columndefinition\", \"everytime\", \"jsonproperty\", \"bbb\", \"setname\", \"string\", \"hash\", \"public\", \"equal\", \"orm\", \"private\", \"nullable\", \"datatype\", \"boolean\", \"integer\", \"class\", \"tostring\", \"return\", \"long\", \"object\", \"inject\", \"implement\", \"throw\", \"constructor\", \"follow\", \"database\", \"component\", \"react\", \"prop\", \"classname\", \"dispatch\", \"dom\", \"redux\", \"localstorage\", \"delegate\", \"getitem\", \"reducer\", \"equivalent\", \"usestate\", \"proptypes\", \"componentdidmount\", \"useeffect\", \"onpress\", \"mutation\", \"trans\", \"vuex\", \"reactjs\", \"setitem\", \"weak\", \"getters\", \"touchableopacity\", \"objective\", \"accessor\", \"gene\", \"mapstatetoprops\", \"apikey\", \"state\", \"export\", \"render\", \"setstate\", \"import\", \"interface\", \"const\", \"extend\", \"constructor\", \"default\", \"return\", \"store\", \"action\", \"switch\", \"style\", \"super\", \"false\", \"onclick\", \"app\", \"provider\", \"class\", \"true\", \"let\", \"null\", \"google\", \"download\", \"sdk\", \"cloud\", \"fun\", \"world\", \"runner\", \"facebook\", \"kotlin\", \"gm\", \"appcompat\", \"valueof\", \"ide\", \"kt\", \"emulator\", \"scrap\", \"hashmap\", \"cardview\", \"galaxy\", \"spider\", \"straight\", \"gcp\", \"proguard\", \"samsung\", \"jetbrains\", \"adb\", \"applicationid\", \"espresso\", \"replacement\", \"okhttp\", \"com\", \"www\", \"implementation\", \"http\", \"stackoverflow\", \"link\", \"url\", \"match\", \"support\", \"content\", \"doc\", \"documentation\", \"play\", \"find\", \"device\", \"studio\", \"df\", \"dataframe\", \"pd\", \"score\", \"regex\", \"series\", \"dt\", \"selection\", \"firstname\", \"numeric\", \"lastname\", \"tbl\", \"criterion\", \"iframe\", \"behaviour\", \"rc\", \"tooltip\", \"addclass\", \"rep\", \"removeclass\", \"dataframes\", \"flatlist\", \"fi\", \"nrow\", \"iloc\", \"inplace\", \"datatables\", \"setinterval\", \"shade\", \"consecutive\", \"column\", \"condition\", \"row\", \"loc\", \"rsoftware\", \"col\", \"datatable\", \"drop\", \"data\", \"first\", \"value\", \"one\", \"number\", \"length\", \"multiple\", \"loop\", \"follow\", \"two\", \"result\", \"radio\", \"pair\", \"onchange\", \"al\", \"indicator\", \"mr\", \"reactive\", \"capability\", \"tn\", \"mn\", \"chromeoptions\", \"isnull\", \"lapply\", \"infile\", \"bonus\", \"iterable\", \"lastrow\", \"experimental\", \"feb\", \"nickname\", \"selectedindex\", \"mi\", \"myform\", \"skin\", \"vanilla\", \"radiobutton\", \"unpack\", \"follower\", \"fund\", \"ny\", \"value\", \"list\", \"option\", \"dictionary\", \"select\", \"dropdown\", \"empty\", \"fill\", \"choose\", \"expect\", \"iterate\", \"else\", \"correspond\", \"base\", \"contain\", \"check\", \"inside\", \"within\", \"give\", \"get\", \"help\", \"display\", \"db\", \"connection\", \"mysql\", \"socket\", \"age\", \"mongodb\", \"team\", \"tl\", \"ci\", \"websocket\", \"disconnect\", \"sqlalchemy\", \"unix\", \"postman\", \"objectid\", \"hostname\", \"packet\", \"transport\", \"inet\", \"establish\", \"xampp\", \"exc\", \"handshake\", \"recv\", \"hy\", \"idle\", \"communicate\", \"getconnection\", \"vnd\", \"sqlserver\", \"connect\", \"server\", \"client\", \"database\", \"engine\", \"localhost\", \"host\", \"receive\", \"port\", \"internet\", \"close\", \"config\", \"create\", \"read\", \"fail\", \"application\", \"true\", \"access\", \"command\", \"git\", \"customer\", \"editor\", \"exe\", \"publish\", \"cmd\", \"shell\", \"summary\", \"bash\", \"pc\", \"drive\", \"mac\", \"computer\", \"recently\", \"terminal\", \"software\", \"rm\", \"integrate\", \"activate\", \"executable\", \"startup\", \"installation\", \"detection\", \"sudo\", \"kill\", \"apt\", \"vscode\", \"macos\", \"anyway\", \"skip\", \"manager\", \"script\", \"directory\", \"environment\", \"exit\", \"instal\", \"hook\", \"install\", \"tool\", \"resolve\", \"apps\", \"execute\", \"fail\", \"line\", \"get\", \"etc\", \"output\", \"td\", \"tr\", \"btn\", \"th\", \"book\", \"fa\", \"mark\", \"author\", \"opacity\", \"cart\", \"tbody\", \"webkit\", \"transparent\", \"thead\", \"school\", \"arrow\", \"pagination\", \"nbsp\", \"caption\", \"slot\", \"asc\", \"fullname\", \"danger\", \"assessment\", \"combo\", \"corner\", \"editable\", \"nom\", \"sortable\", \"dash\", \"item\", \"offset\", \"title\", \"delete\", \"eq\", \"section\", \"visible\", \"table\", \"row\", \"edit\", \"foreach\", \"html\", \"add\", \"data\", \"list\", \"println\", \"invoke\", \"reflect\", \"symbol\", \"activitythread\", \"ioexception\", \"printstacktrace\", \"zygoteinit\", \"nio\", \"delegatingmethodaccessorimpl\", \"looper\", \"nullpointerexception\", \"spawn\", \"runtimeexception\", \"movetonext\", \"nextint\", \"groovy\", \"bufferedreader\", \"newinstance\", \"setstring\", \"fileinputstream\", \"dispatchmessage\", \"resultset\", \"androidruntime\", \"runtimeinit\", \"stringbuilder\", \"ddl\", \"vertically\", \"iso\", \"hasnext\", \"java\", \"lang\", \"util\", \"concurrent\", \"nativemethodaccessorimpl\", \"jdk\", \"junit\", \"unknown\", \"exception\", \"throw\", \"catch\", \"io\", \"system\", \"method\", \"main\", \"handler\", \"internal\", \"cause\", \"init\", \"source\", \"runtime\", \"operation\", \"android\", \"card\", \"dp\", \"profile\", \"student\", \"androidx\", \"week\", \"apk\", \"launcher\", \"manifest\", \"linearlayout\", \"formdata\", \"constraintlayout\", \"navigator\", \"gravity\", \"sd\", \"margintop\", \"ago\", \"textcolor\", \"avatar\", \"textsize\", \"constraintstart\", \"constrainttop\", \"relativelayout\", \"clue\", \"receiver\", \"toendof\", \"tobottomof\", \"bigger\", \"tostartof\", \"layout\", \"parent\", \"wrap\", \"orientation\", \"drawable\", \"app\", \"widget\", \"height\", \"width\", \"support\", \"tool\", \"xmlns\", \"re\", \"activity\", \"xml\", \"context\", \"document\", \"task\", \"alert\", \"getelementbyid\", \"attr\", \"innerhtml\", \"addeventlistener\", \"symfony\", \"matter\", \"endl\", \"contenttype\", \"drag\", \"classlist\", \"prototype\", \"onload\", \"xhr\", \"fruit\", \"getelementsbytagname\", \"innertext\", \"ascii\", \"queryselectorall\", \"badge\", \"getelementsbyclassname\", \"doctrine\", \"datastore\", \"substitute\", \"calculator\", \"cin\", \"defer\", \"setdata\", \"var\", \"ajax\", \"javascript\", \"ready\", \"writeline\", \"getdata\", \"function\", \"preventdefault\", \"html\", \"body\", \"foreach\", \"else\", \"new\", \"window\", \"add\", \"false\", \"call\", \"null\", \"true\", \"change\", \"remove\", \"undefined\", \"arr\", \"el\", \"prevent\", \"slice\", \"reduce\", \"queryselector\", \"uncaught\", \"indexof\", \"calc\", \"prev\", \"land\", \"simplify\", \"swap\", \"tolowercase\", \"flat\", \"leaflet\", \"splice\", \"textcontent\", \"coords\", \"cur\", \"characteristic\", \"minus\", \"saga\", \"innerwidth\", \"geolocation\", \"park\", \"simplicity\", \"wparam\", \"versa\", \"map\", \"function\", \"const\", \"area\", \"return\", \"next\", \"typeerror\", \"length\", \"push\", \"foreach\", \"new\", \"within\", \"take\", \"understand\", \"sort\", \"constructor\", \"time\", \"datetime\", \"hour\", \"ex\", \"minute\", \"effect\", \"mm\", \"extra\", \"interval\", \"sec\", \"duration\", \"zone\", \"shift\", \"elasticsearch\", \"monitor\", \"hr\", \"timezone\", \"picker\", \"frequency\", \"cycle\", \"appointment\", \"datepicker\", \"inspect\", \"rx\", \"hh\", \"libc\", \"timestamps\", \"europe\", \"forecast\", \"coffee\", \"second\", \"start\", \"format\", \"slider\", \"end\", \"step\", \"moment\", \"take\", \"first\", \"every\", \"keep\", \"change\", \"chrome\", \"phone\", \"timeout\", \"mobile\", \"embed\", \"selenium\", \"xcode\", \"tableview\", \"webdriver\", \"sync\", \"xpath\", \"deny\", \"prefer\", \"offline\", \"animal\", \"liststring\", \"anywhere\", \"mapstring\", \"scheme\", \"chromedriver\", \"automatic\", \"forget\", \"feedback\", \"clearly\", \"story\", \"deliver\", \"millisecond\", \"stacktrace\", \"okay\", \"realm\", \"github\", \"framework\", \"browser\", \"worker\", \"element\", \"rest\", \"web\", \"driver\", \"clone\", \"doc\", \"link\", \"application\", \"live\", \"find\", \"solution\", \"open\", \"please\", \"io\", \"console\", \"val\", \"err\", \"async\", \"await\", \"promise\", \"logger\", \"mongoose\", \"keyword\", \"aa\", \"stringify\", \"datasnapshot\", \"uk\", \"parseint\", \"scheduler\", \"asynchronous\", \"sport\", \"inc\", \"dx\", \"phonenumber\", \"holiday\", \"realtime\", \"databasereference\", \"fetchdata\", \"errormessage\", \"orig\", \"snap\", \"valueeventlistener\", \"isloading\", \"getkey\", \"log\", \"params\", \"pop\", \"push\", \"fetch\", \"assert\", \"catch\", \"let\", \"else\", \"export\", \"new\", \"find\", \"message\", \"true\", \"error\", \"docker\", \"req\", \"ip\", \"nginx\", \"destination\", \"kernel\", \"latest\", \"compose\", \"volume\", \"conf\", \"restart\", \"upgrade\", \"pod\", \"vm\", \"schedule\", \"cb\", \"daemon\", \"debian\", \"expose\", \"dockerfile\", \"cpu\", \"kubernetes\", \"composer\", \"venv\", \"ea\", \"arch\", \"disk\", \"pem\", \"ingres\", \"refuse\", \"upload\", \"storage\", \"re\", \"port\", \"host\", \"network\", \"container\", \"pid\", \"listen\", \"env\", \"forward\", \"address\", \"server\", \"root\", \"process\", \"global\", \"sleep\", \"dummy\", \"printer\", \"lower\", \"multiprocessing\", \"yield\", \"acc\", \"faster\", \"subprocess\", \"asyncio\", \"randint\", \"environ\", \"banana\", \"guarantee\", \"kinda\", \"awk\", \"getline\", \"personid\", \"chatbot\", \"alamofire\", \"dbms\", \"coroutine\", \"usenewurlparser\", \"rstrip\", \"eng\", \"test\", \"chdir\", \"print\", \"endwhile\", \"loop\", \"append\", \"len\", \"output\", \"assertion\", \"stdout\", \"reverse\", \"elif\", \"range\", \"continue\", \"random\", \"def\", \"run\", \"import\", \"break\", \"iterate\", \"main\", \"list\", \"inside\", \"sample\", \"follow\", \"split\", \"understand\", \"train\", \"shape\", \"layer\", \"feature\", \"tf\", \"graph\", \"tensorflow\", \"batch\", \"kera\", \"loss\", \"co\", \"conv\", \"rate\", \"dtype\", \"epoch\", \"activation\", \"nn\", \"metric\", \"tensor\", \"dimension\", \"generator\", \"gradient\", \"dense\", \"complex\", \"evaluate\", \"conversion\", \"relu\", \"accuracy\", \"sklearn\", \"reshape\", \"sample\", \"model\", \"input\", \"size\", \"output\", \"none\", \"step\", \"add\", \"angular\", \"subscribe\", \"wp\", \"ii\", \"observable\", \"rxjs\", \"rout\", \"useful\", \"ic\", \"ngoninit\", \"cancellationtoken\", \"tip\", \"oninit\", \"myservice\", \"formgroup\", \"foreground\", \"initiate\", \"templateurl\", \"complicate\", \"favorite\", \"micro\", \"ball\", \"hey\", \"datasources\", \"styleurls\", \"injectable\", \"timespan\", \"stackblitz\", \"discovery\", \"ondestroy\", \"route\", \"service\", \"tag\", \"app\", \"controller\", \"router\", \"context\", \"ngfor\", \"navigate\", \"core\", \"path\", \"resolve\", \"register\", \"html\", \"get\", \"base\", \"private\", \"constructor\", \"rest\", \"start\", \"event\", \"job\", \"member\", \"timestamp\", \"queue\", \"retrieve\", \"userid\", \"whether\", \"mock\", \"confuse\", \"pipe\", \"powershell\", \"reject\", \"situation\", \"trial\", \"getvalue\", \"elem\", \"pay\", \"fmt\", \"maxlength\", \"legacy\", \"poll\", \"pub\", \"experiment\", \"intermediate\", \"hang\", \"ev\", \"suspect\", \"regardless\", \"synchronize\", \"process\", \"wait\", \"template\", \"active\", \"raw\", \"present\", \"detail\", \"call\", \"finish\", \"complete\", \"handle\", \"verify\", \"receive\", \"do\", \"fail\", \"start\", \"employee\", \"ct\", \"merge\", \"cat\", \"department\", \"chunk\", \"postgres\", \"pivot\", \"slug\", \"outer\", \"uuid\", \"belong\", \"ratio\", \"contract\", \"tablename\", \"emailaddress\", \"hive\", \"laptop\", \"preserve\", \"apr\", \"jul\", \"recover\", \"coalesce\", \"traverse\", \"motion\", \"hasmany\", \"journal\", \"composite\", \"tablet\", \"cheer\", \"id\", \"aug\", \"relationship\", \"unique\", \"two\", \"one\", \"full\", \"empty\", \"hash\", \"jar\", \"springframework\", \"spring\", \"release\", \"boot\", \"bean\", \"factory\", \"annotation\", \"pm\", \"hibernate\", \"javax\", \"jdbc\", \"servlet\", \"datasource\", \"persistence\", \"jackson\", \"starter\", \"abstractautowirecapablebeanfactory\", \"autowired\", \"artifactidspring\", \"jaxb\", \"jsp\", \"classloader\", \"omit\", \"fasterxml\", \"springapplication\", \"xsi\", \"dao\", \"bcrypt\", \"getmapping\", \"sun\", \"org\", \"final\", \"support\", \"web\", \"java\", \"core\", \"context\", \"class\", \"service\", \"repository\", \"com\", \"application\", \"apache\", \"gradle\", \"security\", \"execution\", \"blog\", \"dashboard\", \"agent\", \"connector\", \"roll\", \"prefix\", \"mod\", \"pom\", \"rewriterule\", \"nc\", \"jboss\", \"htaccess\", \"testng\", \"codec\", \"slf\", \"spi\", \"encoder\", \"logback\", \"poi\", \"salt\", \"runworker\", \"ssd\", \"currenttimemillis\", \"rewriteengine\", \"qos\", \"uploader\", \"internal\", \"org\", \"common\", \"core\", \"provider\", \"exec\", \"initialization\", \"execute\", \"configuration\", \"artifact\", \"compile\", \"sun\", \"tool\", \"server\", \"configure\", \"date\", \"na\", \"day\", \"year\", \"month\", \"branch\", \"dd\", \"formula\", \"factor\", \"average\", \"yyyy\", \"gender\", \"today\", \"news\", \"et\", \"diff\", \"aggregate\", \"daily\", \"il\", \"birth\", \"startdate\", \"mutate\", \"divide\", \"enddate\", \"progressbar\", \"challenge\", \"getdate\", \"august\", \"bt\", \"asia\", \"match\", \"group\", \"range\", \"info\", \"net\", \"chart\", \"canvas\", \"csharp\", \"generic\", \"unity\", \"chat\", \"tick\", \"friend\", \"conversation\", \"settimeout\", \"statuscode\", \"linq\", \"vb\", \"jsfiddle\", \"textalign\", \"highcharts\", \"messagebox\", \"smooth\", \"vr\", \"evt\", \"fileupload\", \"gameobject\", \"keycode\", \"adotnet\", \"monobehaviour\", \"tel\", \"setlayout\", \"borderwidth\", \"game\", \"message\", \"draw\", \"sender\", \"system\", \"collection\", \"soon\", \"ui\", \"panel\", \"space\", \"exception\", \"send\", \"new\", \"trace\", \"application\", \"start\", \"line\", \"close\", \"schema\", \"proxy\", \"ref\", \"animation\", \"expression\", \"partial\", \"converter\", \"typeof\", \"setvalue\", \"xaml\", \"wsdl\", \"claim\", \"presentation\", \"mc\", \"signin\", \"datatemplate\", \"ld\", \"lab\", \"wpf\", \"west\", \"staticresource\", \"datagrid\", \"headline\", \"swipe\", \"textblock\", \"markup\", \"uwp\", \"horizontaloptions\", \"setproperty\", \"ir\", \"property\", \"grid\", \"bind\", \"xml\", \"set\", \"resource\", \"xmlns\", \"readonly\", \"setter\", \"namespace\", \"xsd\", \"reference\", \"microsoft\", \"true\", \"inside\", \"category\", \"cell\", \"sheet\", \"entry\", \"excel\", \"master\", \"domain\", \"worksheet\", \"brand\", \"blob\", \"workbook\", \"quite\", \"xlsx\", \"macro\", \"high\", \"gettext\", \"spreadsheet\", \"homepage\", \"wb\", \"rec\", \"conditional\", \"getrange\", \"clanguageolumn\", \"outlook\", \"vary\", \"spreadsheetapp\", \"repos\", \"jasmine\", \"activesheet\", \"pow\", \"device\", \"break\", \"meet\", \"case\", \"copy\", \"close\", \"clear\", \"switch\", \"open\", \"application\", \"set\", \"count\", \"array\", \"stream\", \"byte\", \"char\", \"memory\", \"buffer\", \"printf\", \"attachment\", \"clanguage\", \"ansible\", \"sizeof\", \"tile\", \"xsixtyfour\", \"street\", \"addr\", \"inf\", \"fp\", \"allocate\", \"thumb\", \"gnu\", \"stdio\", \"robot\", \"mem\", \"heap\", \"recreate\", \"acquire\", \"wiki\", \"playbook\", \"atomic\", \"sb\", \"int\", \"pointer\", \"address\", \"stack\", \"length\", \"bool\", \"read\", \"empty\", \"assign\", \"foreach\", \"initialize\", \"first\", \"copy\", \"element\", \"take\", \"level\", \"platform\", \"language\", \"wrapper\", \"developer\", \"operator\", \"topic\", \"populate\", \"touch\", \"optional\", \"regular\", \"prod\", \"highlight\", \"processor\", \"xamarin\", \"deprecate\", \"ensure\", \"decide\", \"viewmodel\", \"broker\", \"forum\", \"higher\", \"trait\", \"bridge\", \"explicitly\", \"pkg\", \"audit\", \"newly\", \"annotate\", \"cxx\", \"search\", \"appear\", \"debug\", \"disable\", \"rather\", \"enable\", \"warn\", \"io\", \"multi\", \"compiler\", \"note\", \"force\", \"define\", \"find\", \"declare\", \"plugin\", \"maven\", \"artifactid\", \"groupid\", \"machine\", \"plugins\", \"due\", \"spec\", \"groupidorg\", \"firefox\", \"screenshot\", \"arg\", \"intellij\", \"abstract\", \"longer\", \"ssh\", \"grey\", \"jre\", \"cordova\", \"clanguagehrome\", \"compilation\", \"karma\", \"groupidcom\", \"sl\", \"suite\", \"codehaus\", \"adapt\", \"advise\", \"standalone\", \"pin\", \"dependency\", \"window\", \"version\", \"specify\", \"repository\", \"clean\", \"project\", \"build\", \"compiler\", \"application\", \"node\", \"npm\", \"express\", \"asset\", \"ng\", \"webpack\", \"dist\", \"production\", \"nodejs\", \"libs\", \"babel\", \"graphql\", \"license\", \"mongo\", \"eslint\", \"electron\", \"sas\", \"dep\", \"unhandled\", \"yarn\", \"pie\", \"mono\", \"gulp\", \"bodyparser\", \"onerror\", \"unite\", \"clanguageonsole\", \"apollo\", \"playground\", \"preset\", \"sc\", \"module\", \"require\", \"cli\", \"serve\", \"cs\", \"development\", \"typescript\", \"src\", \"start\", \"stack\", \"html\", \"parameter\", \"param\", \"scope\", \"visual\", \"preview\", \"perhaps\", \"elastic\", \"stub\", \"ctrl\", \"getattribute\", \"reflection\", \"markdown\", \"resolver\", \"ejs\", \"bulk\", \"templatetypename\", \"msvc\", \"visualstudio\", \"mechanism\", \"designer\", \"nameof\", \"diagnostics\", \"gettype\", \"greet\", \"camel\", \"ibb\", \"touppercase\", \"synonym\", \"wire\", \"college\", \"contact\", \"extension\", \"type\", \"instance\", \"studio\", \"pas\", \"ignore\", \"auto\", \"pass\", \"mime\", \"define\", \"unknown\", \"microsoft\", \"understand\", \"instead\", \"account\", \"permission\", \"comment\", \"letter\", \"xxx\", \"fb\", \"trim\", \"english\", \"review\", \"increment\", \"balance\", \"owner\", \"identifier\", \"clanguagease\", \"serial\", \"recipe\", \"xxxx\", \"seed\", \"mistake\", \"ed\", \"fake\", \"love\", \"nt\", \"older\", \"possibly\", \"portion\", \"ideal\", \"prime\", \"rock\", \"linkedlist\", \"number\", \"yes\", \"cursor\", \"share\", \"post\", \"obtain\", \"integer\", \"real\", \"associate\", \"grant\", \"correct\", \"put\", \"price\", \"total\", \"sum\", \"weight\", \"unit\", \"amount\", \"nan\", \"dict\", \"difference\", \"compare\", \"po\", \"desire\", \"quantity\", \"nd\", \"groupby\", \"percentage\", \"dice\", \"sed\", \"stat\", \"addition\", \"cut\", \"rand\", \"multiply\", \"comparison\", \"lb\", \"clanguageode\", \"databaseerror\", \"ai\", \"percent\", \"datalist\", \"target\", \"plus\", \"per\", \"calculate\", \"last\", \"base\", \"mean\", \"output\", \"first\", \"figure\", \"two\", \"de\", \"payment\", \"con\", \"john\", \"pause\", \"migrate\", \"recognize\", \"pro\", \"stripe\", \"comma\", \"ob\", \"credit\", \"ship\", \"glass\", \"inventory\", \"doe\", \"normalize\", \"innodb\", \"decision\", \"constexpr\", \"egg\", \"introduce\", \"tuples\", \"clipboard\", \"sqlcommand\", \"los\", \"highly\", \"art\", \"mutex\", \"rr\", \"report\", \"input\", \"text\", \"store\", \"choice\", \"prompt\", \"extract\", \"equal\", \"separate\", \"choose\", \"display\", \"firebase\", \"nil\", \"struct\", \"counter\", \"progress\", \"firestore\", \"swift\", \"indexpath\", \"completion\", \"tap\", \"guard\", \"collectionview\", \"viewdidload\", \"fxml\", \"simulator\", \"splash\", \"temporary\", \"uitableview\", \"viewcontroller\", \"foundation\", \"uiviewcontroller\", \"ta\", \"iboutlet\", \"objc\", \"gridview\", \"uicollectionview\", \"subclass\", \"possibility\", \"interaction\", \"appstate\", \"func\", \"let\", \"constraint\", \"view\", \"medium\", \"bool\", \"animate\", \"textfield\", \"self\", \"else\", \"return\", \"collection\", \"var\", \"init\", \"true\", \"override\", \"php\", \"insert\", \"echo\", \"txt\", \"temp\", \"commit\", \"conn\", \"mysqli\", \"stmt\", \"procedure\", \"prepare\", \"cast\", \"isset\", \"reg\", \"pdo\", \"pwd\", \"fw\", \"fname\", \"za\", \"unicode\", \"cron\", \"rev\", \"near\", \"pl\", \"tx\", \"simulate\", \"wc\", \"ingredient\", \"htdocs\", \"dbname\", \"tmp\", \"begin\", \"fetch\", \"execute\", \"line\", \"else\", \"result\", \"close\", \"row\", \"exist\", \"sql\", \"script\", \"vue\", \"channel\", \"hello\", \"netty\", \"scene\", \"webview\", \"cors\", \"transfer\", \"visit\", \"gateway\", \"watch\", \"jpeg\", \"life\", \"checkout\", \"somewhere\", \"manual\", \"twice\", \"anymore\", \"gif\", \"cdn\", \"lifecycle\", \"vuetify\", \"separately\", \"ap\", \"whose\", \"supplier\", \"menuitem\", \"mesh\", \"rds\", \"analyzer\", \"home\", \"rule\", \"mode\", \"proper\", \"block\", \"access\", \"default\", \"direct\", \"handler\", \"mount\", \"ec\", \"instance\", \"allow\", \"frame\", \"std\", \"video\", \"cv\", \"cpp\", \"mat\", \"constant\", \"cout\", \"capture\", \"cnt\", \"opencv\", \"cl\", \"idx\", \"vec\", \"cap\", \"dismiss\", \"music\", \"east\", \"iostream\", \"boost\", \"hierarchy\", \"dst\", \"hpp\", \"an\", \"argc\", \"largest\", \"study\", \"contour\", \"precision\", \"primitive\", \"count\", \"include\", \"main\", \"argv\", \"int\", \"namespace\", \"source\", \"return\", \"define\", \"static\", \"thread\", \"future\", \"pool\", \"javafx\", \"track\", \"catalina\", \"lock\", \"sit\", \"threadpoolexecutor\", \"executor\", \"hint\", \"freeze\", \"low\", \"priority\", \"hand\", \"reply\", \"hop\", \"peer\", \"ticket\", \"improve\", \"readable\", \"spend\", \"protobuf\", \"descriptor\", \"inactive\", \"somebody\", \"retain\", \"transformer\", \"immutable\", \"vid\", \"result\", \"stop\", \"suggestion\", \"long\", \"keep\", \"actually\", \"call\", \"execute\", \"location\", \"csv\", \"aws\", \"desktop\", \"sthree\", \"syntax\", \"region\", \"bucket\", \"people\", \"period\", \"writer\", \"gb\", \"integration\", \"iam\", \"resp\", \"saw\", \"amazonaws\", \"gt\", \"literal\", \"clock\", \"eu\", \"ticker\", \"apparently\", \"scrape\", \"delimiter\", \"statistic\", \"syntaxerror\", \"browse\", \"xe\", \"collector\", \"pull\", \"encounter\", \"status\", \"invalid\", \"check\", \"launch\", \"ec\", \"header\", \"correct\", \"get\", \"library\", \"program\", \"pattern\", \"loader\", \"dynamic\", \"party\", \"da\", \"cant\", \"greatly\", \"unsigned\", \"hi\", \"locale\", \"cube\", \"ba\", \"vc\", \"isempty\", \"slim\", \"fully\", \"insight\", \"obvious\", \"programmatically\", \"randomly\", \"nuxt\", \"uiview\", \"teacher\", \"generation\", \"vision\", \"ctor\", \"quiz\", \"adobe\", \"load\", \"generate\", \"random\", \"little\", \"sp\", \"dynamically\", \"code\", \"take\", \"cluster\", \"photo\", \"delay\", \"pygame\", \"keyboard\", \"popup\", \"graphic\", \"subscription\", \"depth\", \"sa\", \"health\", \"bill\", \"anchor\", \"pr\", \"spinner\", \"tm\", \"geometry\", \"bitmap\", \"af\", \"vertex\", \"xc\", \"gl\", \"bf\", \"swagger\", \"resolution\", \"staff\", \"tenant\", \"invoice\", \"mix\", \"sku\", \"bite\", \"definition\", \"interest\", \"variable\", \"matrix\", \"normal\", \"compute\", \"sequence\", \"cm\", \"filepath\", \"angle\", \"efficient\", \"power\", \"actor\", \"observe\", \"specie\", \"regression\", \"delta\", \"degree\", \"scatter\", \"shiny\", \"optimization\", \"fault\", \"iris\", \"distribute\", \"transformation\", \"sin\", \"mimetype\", \"inv\", \"mu\", \"sqrt\", \"independent\", \"heatmap\", \"apply\", \"point\", \"lambda\", \"calculation\", \"hide\", \"non\", \"better\", \"depend\", \"become\", \"calculate\", \"perform\", \"cache\", \"azure\", \"im\", \"metadata\", \"mb\", \"logic\", \"flow\", \"increase\", \"dont\", \"uint\", \"business\", \"alpha\", \"bus\", \"ee\", \"kb\", \"exceed\", \"incoming\", \"sw\", \"huge\", \"devops\", \"observation\", \"dynamodb\", \"discount\", \"bubble\", \"keyerror\", \"actuator\", \"battery\", \"forge\", \"presenter\", \"kinesis\", \"action\", \"size\", \"zero\", \"send\", \"limit\", \"small\", \"apis\", \"trigger\", \"resource\", \"perform\", \"description\", \"ask\", \"quot\", \"standard\", \"cost\", \"later\", \"cancel\", \"outside\", \"free\", \"experience\", \"partition\", \"behind\", \"notebook\", \"parallel\", \"debugger\", \"community\", \"communication\", \"appropriate\", \"partner\", \"jupyter\", \"keystore\", \"reward\", \"talk\", \"submission\", \"ro\", \"instagram\", \"userdata\", \"typ\", \"leaf\", \"shortcut\", \"feel\", \"basic\", \"enter\", \"best\", \"learn\", \"mention\", \"unfortunately\", \"describe\", \"issue\", \"lose\", \"policy\", \"please\", \"tell\", \"replace\", \"character\", \"double\", \"camera\", \"speed\", \"special\", \"quote\", \"pick\", \"woocommerce\", \"welcome\", \"escape\", \"assembly\", \"encrypt\", \"ml\", \"strange\", \"decorator\", \"die\", \"shoot\", \"implicit\", \"swiftui\", \"eventually\", \"eof\", \"culture\", \"separator\", \"stamp\", \"invisible\", \"race\", \"btw\", \"isenabled\", \"neutral\", \"json\", \"single\", \"remove\", \"expect\", \"instead\", \"correct\", \"index\", \"name\", \"apple\", \"signal\", \"lat\", \"square\", \"rank\", \"flip\", \"subset\", \"dat\", \"sep\", \"unchanged\", \"restaurant\", \"customize\", \"mess\", \"reserve\", \"reproduce\", \"artist\", \"hot\", \"lon\", \"earlier\", \"carbon\", \"ib\", \"htm\", \"reservation\", \"subsequent\", \"illegal\", \"rnorm\", \"ddd\", \"predefined\", \"dataset\", \"move\", \"unique\", \"important\", \"datasets\", \"identify\", \"figure\", \"filter\", \"msg\", \"mail\", \"svg\", \"tk\", \"subject\", \"parser\", \"amp\", \"ruby\", \"bold\", \"rail\", \"stroke\", \"pack\", \"tkinter\", \"createelement\", \"setattribute\", \"appendchild\", \"smtp\", \"grep\", \"tv\", \"overlap\", \"odd\", \"recipient\", \"paper\", \"un\", \"urn\", \"si\", \"ag\", \"hl\", \"smith\", \"rb\", \"ie\", \"strip\", \"root\", \"key\", \"foo\", \"city\", \"pending\", \"keywords\", \"utc\", \"skill\", \"la\", \"genre\", \"station\", \"qty\", \"sex\", \"salary\", \"nth\", \"transpose\", \"gap\", \"dob\", \"bob\", \"employeeid\", \"chip\", \"leader\", \"indent\", \"inheritance\", \"operate\", \"myfunction\", \"validators\", \"trick\", \"basis\", \"qstring\", \"jane\", \"bar\", \"convert\", \"ok\", \"abc\", \"variant\", \"construct\", \"backup\", \"enum\", \"serialize\", \"xyz\", \"food\", \"derive\", \"buf\", \"tester\", \"past\", \"sf\", \"half\", \"inch\", \"temperature\", \"overload\", \"webapp\", \"exercise\", \"sandbox\", \"knowledge\", \"division\", \"par\", \"mut\", \"unwrap\", \"deb\", \"memorystream\", \"deserialize\", \"rust\", \"str\", \"fn\", \"split\", \"large\", \"write\", \"valid\", \"plot\", \"plt\", \"audio\", \"mp\", \"reader\", \"ax\", \"arm\", \"gui\", \"matplotlib\", \"legend\", \"pi\", \"light\", \"four\", \"qtwidgets\", \"safari\", \"five\", \"segment\", \"formatter\", \"sound\", \"speech\", \"iphone\", \"blah\", \"fig\", \"qtcore\", \"bunch\", \"pyplot\", \"timeline\", \"major\", \"wav\", \"speak\", \"play\", \"mainwindow\", \"show\", \"import\", \"set\", \"nest\", \"article\", \"deploy\", \"detect\", \"pip\", \"requirement\", \"course\", \"pre\", \"translate\", \"sqlite\", \"dot\", \"deployment\", \"assignment\", \"specifically\", \"heroku\", \"satisfy\", \"wheel\", \"personal\", \"proj\", \"gunicorn\", \"gitlab\", \"reuse\", \"tail\", \"difficult\", \"virtualenv\", \"classic\", \"respect\", \"setuptools\", \"spotify\", \"pragma\", \"snippet\", \"remote\", \"django\", \"collect\", \"crash\", \"locally\", \"static\", \"push\", \"rsoftware\", \"word\", \"obj\", \"vector\", \"ion\", \"math\", \"room\", \"algorithm\", \"coordinate\", \"latitude\", \"longitude\", \"ionic\", \"decimal\", \"floor\", \"deg\", \"typename\", \"sentence\", \"weather\", \"lng\", \"gc\", \"theta\", \"comp\", \"shuffle\", \"phi\", \"translation\", \"lh\", \"equation\", \"permit\", \"kg\", \"ram\", \"animator\", \"float\", \"place\", \"num\", \"br\", \"asp\", \"st\", \"mvc\", \"stock\", \"qt\", \"currency\", \"archive\", \"gem\", \"substring\", \"ind\", \"pp\", \"cuda\", \"expo\", \"usd\", \"automation\", \"vehicle\", \"substr\", \"connectionstring\", \"dsl\", \"publisher\", \"wifi\", \"runat\", \"angularjs\", \"sector\", \"aspx\", \"globals\", \"requestbody\", \"startswith\", \"native\", \"red\", \"green\", \"anybody\", \"blue\", \"scala\", \"ssl\", \"win\", \"snapshot\", \"certificate\", \"sha\", \"ac\", \"aes\", \"ca\", \"bb\", \"cert\", \"beta\", \"amazon\", \"exchange\", \"rotate\", \"adjust\", \"rsa\", \"lookup\", \"buy\", \"coord\", \"rotation\", \"cipher\", \"ar\", \"grab\", \"sn\", \"createdat\", \"anonfun\", \"cash\", \"cy\", \"cx\", \"protocol\", \"player\", \"ad\", \"fit\", \"term\", \"ab\", \"anonymous\", \"vendor\", \"tomcat\", \"eclipse\", \"esm\", \"across\", \"bc\", \"fd\", \"dest\", \"bd\", \"cf\", \"cjs\", \"exp\", \"ce\", \"tt\", \"scipy\", \"aaa\", \"cfg\", \"ccc\", \"vote\", \"dec\", \"integrity\", \"pytorch\", \"stable\", \"wave\", \"en\", \"bootstrap\", \"country\", \"paste\", \"flask\", \"kafka\", \"dc\", \"marker\", \"distance\", \"digit\", \"tuple\", \"combination\", \"iteration\", \"twitter\", \"latlng\", \"producer\", \"office\", \"rid\", \"away\", \"previously\", \"closest\", \"measure\", \"plotly\", \"consist\", \"care\", \"rng\", \"replica\", \"organization\", \"chr\", \"dplyr\", \"customerid\", \"house\", \"trace\", \"role\", \"suppose\", \"plan\", \"xx\", \"ctx\", \"fc\", \"maximum\", \"soup\", \"sequelize\", \"texture\", \"hp\", \"minimum\", \"beautifulsoup\", \"preference\", \"involve\", \"sensor\", \"findall\", \"entitymanager\", \"unused\", \"gcloud\", \"ep\", \"confirmation\", \"yy\", \"former\", \"decoder\", \"diagram\", \"respectively\", \"bullet\", \"sig\", \"velocity\", \"website\", \"cc\", \"fee\", \"args\", \"star\", \"know\", \"movie\", \"emit\", \"general\", \"unexpected\", \"zoom\", \"dog\", \"rat\", \"negative\", \"distribution\", \"ef\", \"restore\", \"stretch\", \"intercept\", \"closure\", \"positive\", \"dependent\", \"attendance\", \"occurrence\", \"functional\", \"attrs\", \"association\", \"gather\", \"avail\", \"categorical\", \"paint\", \"crop\", \"pdb\", \"income\", \"direction\", \"scale\"], \"Total\": [42265.0, 34043.0, 38516.0, 29867.0, 43336.0, 26853.0, 25809.0, 40894.0, 25948.0, 27399.0, 24921.0, 20812.0, 19591.0, 21117.0, 21647.0, 22381.0, 17996.0, 21726.0, 30549.0, 17297.0, 30384.0, 15036.0, 14986.0, 12297.0, 21736.0, 20492.0, 18145.0, 14925.0, 16345.0, 13422.0, 2965.8474473955207, 1842.3532966828982, 1692.5775459116805, 1501.577126865329, 1438.5020294687795, 1333.0730059526072, 1191.3647178047343, 1169.5479931894863, 1147.8156602365552, 1110.9768088771962, 1103.3390063620454, 1086.99271168419, 1056.5825953804385, 1020.7892003026615, 945.8741574821885, 933.9424197324439, 814.5147527659329, 780.5351169497275, 732.8892315280385, 686.9514937639049, 683.593359148746, 669.8947137735967, 655.1248728002948, 649.3618154652856, 633.1101245943129, 617.4756633530039, 614.5083842510294, 613.6333909772939, 599.3431838905235, 581.154411873364, 2603.1853725239657, 2638.533219722662, 1580.9586750370474, 5474.01745438508, 1436.6786767160186, 2659.2289729964214, 4069.957562526401, 13293.281714961355, 3196.8823401813124, 2963.3650297626205, 3383.5218522438277, 3415.1240677218534, 5345.353058259242, 3018.406109407189, 11201.527000451237, 7471.430272639999, 6070.505896225663, 7255.541610626542, 14852.081935069227, 2384.3330241054095, 5825.317784254189, 3974.4957117914114, 7972.2680123727505, 3034.2406137739054, 11028.037316100703, 10867.003986598014, 4510.722214765324, 3477.818264374522, 4689.330026490173, 11607.209275061008, 10538.931297812962, 20492.25102405421, 7281.500555339926, 12511.476636421423, 10738.252495867206, 8556.853141376549, 3957.177470967234, 1602.604537598842, 1537.9902174980984, 1254.468714495417, 909.7261476468315, 883.3536602496556, 844.0973037449664, 451.4133102060818, 451.2768787908796, 449.52166895345084, 433.197059102059, 409.81755979550945, 353.30679126520715, 344.81916204074633, 296.9919443504221, 268.5282819858991, 260.26045143821807, 252.50418946464166, 251.79435708931803, 234.826926918258, 227.2056498905732, 219.2198842403189, 218.6545672246293, 202.23131498849236, 199.75960703180542, 182.25132284942174, 179.7479689730651, 167.44368775819345, 13504.17973349875, 615.5850967969197, 2434.002140322185, 11607.779149817678, 6741.896382281833, 1181.148081144104, 6360.378559557951, 10354.075862949012, 5481.675129955146, 1446.5370455829982, 2203.285082053945, 10889.251450279819, 2477.045548996642, 22381.593512615516, 2551.5517454512733, 11496.074503503258, 9503.809537413212, 5513.875334349751, 11607.209275061008, 5809.398934387041, 43336.46584470648, 30549.475050104902, 7757.963940420047, 12511.476636421423, 10538.931297812962, 25809.347741532376, 10791.220664891076, 2892.143365642823, 2652.0157594642624, 2143.5604099257935, 1692.4497330162596, 950.9085681244763, 650.3641074288875, 633.048374110267, 585.5982276320472, 554.4684028448818, 445.7108104309357, 398.50596725666094, 387.98247907564877, 339.0593026044965, 333.43275164242476, 270.7767589432823, 267.1909444488744, 261.65180734484875, 231.90419152074807, 205.01775245774533, 203.9620096843358, 198.74506137609066, 194.57914809959584, 185.0573100917363, 167.63147105215037, 162.96258522712043, 159.88995066754543, 153.3626976468982, 150.01723417112544, 141.78367989311934, 137.15482176905104, 1349.2534609272222, 3067.053697523886, 43336.46584470648, 14864.091611800422, 11896.727210397881, 568.741525562039, 17962.246618389254, 1329.5504797981255, 571.1720836063556, 2316.825702127425, 8867.578847495939, 4518.198314823769, 666.1100262540691, 20492.25102405421, 1967.3002289532208, 8608.921560685356, 3155.4973741787285, 4992.361849717598, 1918.9030238732212, 10538.931297812962, 11607.209275061008, 7154.549777108477, 8766.056508017477, 4144.209239977627, 5500.685143019096, 12511.476636421423, 19252.2420383951, 8515.743370081696, 3953.224726754248, 2864.7131680671832, 2518.092889645517, 2060.6363275887907, 1626.9799928415932, 1244.5999547537215, 1181.0974802344758, 929.6307359160355, 875.3159012800229, 817.7421891727395, 805.7667904358815, 777.9735878057329, 775.2815616104906, 757.809472525085, 749.0148903550262, 729.7497069251943, 711.6029981260516, 568.6692837506581, 536.0319410394692, 534.5258979140295, 527.8738792910106, 496.8790524546892, 446.37446565808364, 428.91587997464245, 377.55493083566546, 361.58068279998656, 361.39953216223756, 351.5199608297171, 337.8391352376953, 939.1696680209568, 2638.80801661279, 8617.092023763158, 9774.472274719486, 7869.917418199295, 4616.581696323937, 2371.926998352574, 3059.823895875308, 4946.462637376415, 11496.074503503258, 2835.0014828866697, 3241.456922231978, 10185.344453376385, 20812.86698834608, 5389.611008315442, 6752.072206703483, 7255.856022394288, 10031.719164773316, 8929.239323710093, 8395.721179481488, 5481.675129955146, 4059.8713859016575, 9453.349357978905, 2321.0983533644917, 2030.9294060061395, 1172.4598314478567, 1020.7176529645564, 1005.890974799563, 848.0720738475936, 838.9452092021164, 808.1136176528239, 783.1991960030773, 770.23958228291, 741.4353423316388, 680.5577247080472, 601.5394063885906, 583.3780293870984, 573.4886931016028, 567.1402947738185, 558.6277938939446, 505.6620641683969, 454.67689377406464, 452.4292732687214, 437.15921730535985, 434.57044298782245, 421.3105496139735, 417.4664478817197, 391.7384149670899, 386.08584538671494, 372.5347543960954, 357.2078891898226, 351.4907216665935, 4804.3802396835945, 5057.568505385067, 1495.1987102504588, 1325.4497712257114, 2254.7754277847685, 1316.8791606007833, 893.2047684936526, 30384.267595667203, 21726.821928806665, 3190.901745389111, 14057.811285050626, 8773.68126183455, 3557.211096260083, 12286.356438450191, 9329.660510151509, 12849.057552054888, 2240.9513828951713, 2545.5523461683883, 40894.40232068763, 30549.475050104902, 11607.209275061008, 26853.800389502685, 18729.50309808414, 17962.246618389254, 8608.921560685356, 11573.977752187344, 8159.935400019439, 3358.829347908177, 1837.8019187670911, 1644.7828514277753, 1559.6213547158904, 1237.5954702568029, 1000.649719024352, 932.9433337607626, 884.9642281105765, 883.1512953030509, 531.5374501411086, 419.8617714785448, 393.1108074177863, 328.4106229415924, 318.4889081582294, 302.86236107547927, 293.6694725748025, 249.88443661316086, 249.5569116293509, 227.75978844834023, 213.71193901952194, 206.92375041676905, 203.8646021797304, 174.335476199221, 163.69808049931606, 155.35618839943587, 149.31101954487758, 140.74913745851094, 130.3601053856898, 18145.250576235187, 5394.472954286925, 6986.925791942645, 964.8225118868884, 13951.971443729133, 3646.2709191554122, 7431.059466571847, 21736.126379305577, 1159.0646341907918, 8941.519969672743, 5389.611008315442, 721.0257164778595, 3383.33661377044, 38516.3525661983, 4399.848235705363, 4952.526032440574, 9018.105810481995, 30549.475050104902, 12511.476636421423, 5402.936861795275, 9767.391730908388, 1176.4897887159173, 1019.3210337281212, 956.2901056029915, 872.084276846124, 842.1579791779743, 776.1121430250919, 717.4882485052444, 710.8230873440305, 702.9238122775085, 667.7299624001826, 646.1207624954054, 644.5726714065418, 632.3773214323479, 629.071150098808, 574.6386044513922, 512.2317296303137, 470.34125430792665, 469.4227247377366, 468.9348523334709, 467.6087209248722, 406.16980512022855, 402.77371832000114, 384.9464290215459, 345.3880154075803, 323.09565876227924, 316.71085984815835, 305.74501730157226, 300.6765877778881, 294.9022210597471, 284.5191390793737, 11059.440564557834, 5585.319917774523, 1746.0568670626872, 8773.722735291638, 2657.0685409146363, 1557.8409381525526, 4952.526032440574, 8941.519969672743, 1404.357059837279, 1820.073108379358, 1982.8445033702974, 7431.059466571847, 2376.3730529754844, 1800.3839252848957, 2938.753335377087, 2373.008560432029, 6752.072206703483, 38516.3525661983, 3118.463249874648, 2898.795727162532, 5920.337555530111, 6590.072286825476, 10556.10646949812, 14852.081935069227, 9767.391730908388, 3544.605243758807, 11512.919507492785, 10867.003986598014, 24921.131040152763, 5377.7795440339905, 4219.306843951507, 3575.619181678961, 2992.7021054059073, 1773.2817162113065, 1619.043464183202, 1559.3470639880775, 1072.6139792446318, 1024.9298399781012, 959.320577681024, 582.2659726044134, 562.239248033021, 477.87659671658236, 463.90883761706715, 437.71407160729353, 381.5712171700895, 298.12923801593575, 253.10116866415973, 249.71006705415772, 207.26392705397504, 195.71979168447092, 193.1946970634211, 192.51129044975588, 175.47910611252934, 172.62589166375523, 171.7568092828945, 144.21785009255157, 130.00812046110926, 129.68496547818265, 40894.40232068763, 4059.8713859016575, 466.7163559575328, 4129.421981652718, 5645.48102081214, 267.96507615576195, 1337.1588242544415, 3288.4198824567193, 7092.645016082081, 5385.437927385768, 1777.4991073235658, 6867.71468865165, 6752.072206703483, 2336.4464469841237, 6741.896382281833, 42265.628716726394, 43336.46584470648, 25809.347741532376, 4822.444639476976, 15939.857975945037, 1721.25461276161, 1354.3821184348642, 1286.9105942367603, 1255.0812444939418, 1104.0898826304674, 800.7097097345, 634.3093464321878, 608.7847652104612, 558.8561156735544, 547.2554874105507, 431.6387011669743, 388.99078281038516, 375.144987327702, 374.2582423771652, 371.15943637804287, 332.4778006002113, 327.8881544228427, 315.09062361648733, 293.9447686468129, 256.9737758617248, 226.5731814260293, 211.66757321880078, 175.45131541598485, 172.1146175438197, 166.53517045959836, 159.8936551438089, 147.97246160001492, 145.05850384405403, 142.81596547540332, 139.5761357356135, 978.6430800487674, 18729.50309808414, 9439.91747937158, 5406.516634019067, 3251.359532966209, 872.2338391544271, 758.7547197370213, 4084.261780424221, 19252.2420383951, 30384.267595667203, 3841.7613316594698, 3513.9215195804427, 739.048488589853, 1047.5516485815663, 1480.8555052876225, 668.1405502535137, 1473.8703548268454, 1008.7478210628736, 3205.4035475474116, 3657.78972590359, 2290.930270026032, 2639.2077888714903, 8773.722735291638, 2499.5485070910318, 2893.9826398708497, 3329.3833306415313, 9503.809537413212, 13490.618064205653, 10279.411726745617, 7625.545710172387, 2045.0229149062882, 1378.307771486846, 1156.2137814448324, 1149.7729965955125, 844.0860698165562, 781.0873147866984, 750.0747142001445, 700.6649760783158, 618.0894419276872, 573.2510627483697, 511.1162963464017, 489.60959652049365, 384.9381654388495, 365.73497148368745, 318.9638481758987, 290.8561470726955, 288.6908149007466, 274.67700466003964, 264.31532650761415, 224.59936879240922, 217.45314482920355, 175.86673136374694, 162.3034192353494, 162.2203721197802, 160.1809801857017, 159.1851412234941, 157.90758864505437, 674.2819304894647, 1862.8165652294197, 972.2556037677307, 683.6086214003325, 328.3179804060419, 1140.3196745372193, 7255.856022394288, 10031.719164773316, 10999.853413018178, 553.5897529637547, 3953.23345725065, 11028.037316100703, 715.1440602352963, 6406.721160418698, 1918.9030238732212, 1376.6528521879477, 1380.588986785353, 11496.074503503258, 11201.527000451237, 8181.474966355175, 4518.198314823769, 7255.541610626542, 13681.7513666546, 8186.5482383116505, 3013.0382376971593, 1444.5336656798174, 1213.7025744129044, 764.3859929665891, 610.5395409238308, 575.7345117962909, 567.7841794203678, 486.5019638204103, 449.7592429101612, 427.53932529069306, 398.666898159313, 323.57035017188065, 228.07968315292118, 215.83395816268433, 211.2777350682836, 202.72657683098453, 202.16589934816855, 186.5048220008262, 152.25428414600222, 139.854289126656, 137.4928961144115, 134.74049166327956, 134.4838633014939, 128.15445274287518, 111.94223415432731, 108.95534956499854, 107.4345631102344, 100.37809712491524, 8574.696294473586, 3906.4517365728507, 4020.854726582633, 1912.1689360937507, 1250.2810673806723, 14078.520084007621, 1144.3119177891926, 1864.703487683319, 503.60137422491533, 3241.456922231978, 7292.880571214559, 25809.347741532376, 1143.3905744962515, 40894.40232068763, 4992.361849717598, 17962.246618389254, 6132.429728834945, 14690.251407741109, 3130.8431845817654, 6654.225513924097, 1477.9981093460376, 11607.209275061008, 14864.091611800422, 6137.231058310601, 30549.475050104902, 12286.356438450191, 11896.727210397881, 2936.5463475349407, 2061.235943745601, 814.9621655545722, 814.751174059758, 623.5586318434329, 588.0815863569217, 389.72752819569604, 363.6508017249438, 354.97394078132453, 320.5448662632366, 304.5212742252335, 301.64363022115225, 221.42377354985362, 197.83926310628036, 191.8613010528716, 183.05728441314778, 165.71123879930514, 156.1716484397676, 140.8883003293211, 140.21787183346, 125.49533226486051, 104.8574998203455, 103.46396546701784, 103.35281957158416, 101.58543668549865, 96.33073193616355, 92.29977086589497, 90.8512223410766, 88.24567683433325, 87.0944144253685, 15939.857975945037, 38516.3525661983, 10259.380862088557, 3549.9173511322106, 2433.072995185873, 711.2827362437159, 975.650975869695, 4129.421981652718, 588.1792822194479, 4992.361849717598, 1724.6947667615925, 6406.721160418698, 7154.549777108477, 1376.6528521879477, 625.4836041080429, 8181.474966355175, 11496.074503503258, 3301.4869679768535, 3647.04434609131, 3681.6924407666274, 19252.2420383951, 1760.8252964164276, 29867.855133185527, 6110.446856019698, 5423.228594027141, 3894.4647704014224, 3860.013870689313, 2430.2390391830795, 2128.8655715626182, 2073.0123536950687, 1339.768903540004, 1193.935034170006, 1180.3150933467307, 1030.4650916055596, 814.8286637827161, 795.0536497057689, 707.5520739277404, 691.8245975147007, 683.4629528178923, 669.8819873960974, 553.0340630666581, 488.0343923503798, 451.2822695078099, 446.2684041931672, 376.52047525465196, 337.365757308404, 334.9444602068434, 325.5194125916991, 315.02183896145453, 275.61835129954056, 242.8467427162136, 228.63234975998265, 4133.591093569947, 1957.279188233016, 697.3185518730611, 1089.510649594221, 5190.067876044121, 7346.012171549057, 20492.25102405421, 3636.560632496779, 4992.361849717598, 9238.85149701063, 1130.3405567841994, 916.3617506465558, 789.5442220351658, 511.28800174836533, 455.7673698857258, 450.9830913703307, 443.2535675594665, 419.36077366635345, 394.55998898090303, 390.1478515335358, 315.07478839826285, 309.7997087932854, 307.24211767234533, 299.5418614826788, 299.4629998368206, 276.70104975416797, 275.79333109573855, 263.1371412793121, 259.8322773087645, 224.2380675102307, 201.2604711028306, 193.57506339422656, 189.03228657041555, 188.98625685052127, 176.4526575000174, 160.91823195520493, 154.89532289412892, 147.7177613490089, 138.14494627508995, 3443.326806803074, 5079.10561434535, 15842.416399855487, 3301.4869679768535, 2769.9677105119154, 13431.962886371739, 5230.055965273645, 12849.057552054888, 1341.1871175716237, 1456.32899786079, 2233.744813813999, 6976.380376891632, 5311.6748223144605, 15036.309577385495, 19252.2420383951, 13319.906331657172, 1703.9501729992655, 9439.91747937158, 5072.583474454215, 43336.46584470648, 8867.578847495939, 14335.124779607431, 30549.475050104902, 6867.71468865165, 5588.4273941482, 4692.192737700923, 3365.339966364053, 2888.5851443601855, 2625.874297709467, 2079.1101562251743, 2002.1100946108825, 1978.9596739100039, 1698.3884357777774, 1251.4557074840134, 1086.6534941784137, 878.5857348348386, 598.8305020964757, 564.6987222612248, 535.9133814917603, 526.6379786585962, 466.57876183827403, 465.99180708042866, 409.043213604735, 400.1309889030722, 353.5990546125743, 348.0476902443547, 316.59492278335654, 314.43281619307606, 309.7216878507914, 305.31037169044714, 300.5950636141865, 297.5813925873128, 295.49702966117303, 261.32708054083975, 3943.0720002050134, 8929.239323710093, 5072.583474454215, 2823.245944150263, 1396.0158399478462, 1247.110456214902, 3707.289839428585, 1319.7472572189165, 855.951668890489, 2370.4211979929864, 4895.778715363085, 5385.437927385768, 20812.86698834608, 4616.581696323937, 6261.32959261369, 7629.351236327224, 2835.0014828866697, 3059.823895875308, 9774.472274719486, 7869.917418199295, 2254.916676832963, 1417.0208434153508, 725.9359226045616, 480.2503470257603, 424.00088607556603, 353.45945533453687, 326.5188469156408, 305.595640097035, 278.36418803971543, 243.7590906533214, 234.50108013753362, 227.25281908358122, 199.75071741571364, 195.06227952498077, 190.50847048404995, 176.8188706185631, 170.07533985843412, 160.59537094346828, 157.85093586375956, 154.7465276628603, 135.34995134062845, 133.7622701186903, 132.77072480601194, 132.04986384653063, 128.22545820890127, 126.95971526837236, 125.76466040155321, 125.15125957982735, 119.48049143911854, 117.07936762246759, 26853.800389502685, 1356.0255954337918, 21726.821928806665, 1394.8684524797095, 963.2100899670457, 8773.68126183455, 709.5978875254029, 499.49023892540896, 1710.673960791259, 2345.9670857654373, 40894.40232068763, 2545.5523461683883, 30549.475050104902, 3155.4973741787285, 14864.091611800422, 500.0969143561844, 3205.4035475474116, 3140.5670457956694, 1784.3681609874232, 10867.003986598014, 6976.380376891632, 7402.02559234512, 7073.308382227265, 3693.6105306450577, 1704.5584212600106, 1001.5019430900037, 756.005453716983, 657.4962027431478, 455.65942864461766, 343.0078429590275, 307.6039041784959, 283.4419742190542, 280.6325763773588, 278.97176942508713, 278.0361528005443, 256.230365575114, 251.77140334011673, 238.76721303855885, 231.60764809141983, 223.51595204730162, 201.6779256671893, 194.41298578100304, 193.3960252509831, 192.9194227579181, 190.554958865705, 187.73759319491302, 180.96323119065605, 173.70473799657563, 172.85176963232328, 165.14705911163918, 159.69810831049696, 7449.731696694147, 4136.294852598196, 4160.008373519835, 1107.8414039962956, 21736.126379305577, 1833.032162350745, 10781.016607702664, 3190.901745389111, 1784.3681609874232, 6654.225513924097, 30549.475050104902, 5190.067876044121, 6137.231058310601, 1863.2444018686251, 8617.092023763158, 2240.9513828951713, 11896.727210397881, 1767.6895103183067, 21647.37388142212, 1830.6678515790493, 40894.40232068763, 17962.246618389254, 8409.307902961735, 12849.057552054888, 6808.896755507945, 2642.056801849367, 1538.4372706162437, 1486.6734194583003, 1119.4356055430196, 1067.3389508483674, 1039.0989996171597, 938.1380745074125, 607.3568092419576, 535.870428647983, 422.00855220366896, 365.932174768343, 320.1374856224482, 311.7368889685031, 296.1823449774033, 272.1422790046537, 243.47324945309052, 239.2442675816275, 236.60349479892437, 190.00100948759058, 183.64747323677676, 178.33304538066707, 178.03614652800852, 171.53319184386308, 161.75688249069577, 142.90546686346116, 131.73045584574004, 130.86580235151104, 124.17632845642805, 116.80334414019181, 21117.879378054775, 3996.0057051171043, 1796.5749999008447, 22381.593512615516, 516.015311499474, 7092.645016082081, 11607.779149817678, 5610.415096309012, 3954.188142650539, 11496.074503503258, 2833.3578650330837, 1473.8703548268454, 2051.2686873225957, 14852.081935069227, 2770.081991844464, 1588.859183951107, 6957.110478097655, 2983.560201557793, 1899.3039265716407, 1409.1463903923818, 1248.6342121044345, 1108.5844857085926, 1092.7491711161288, 930.9240593045787, 726.1062291666764, 693.9965598016291, 656.58320579207, 549.4454584050185, 447.21746240414114, 388.9878411667362, 370.8566699417101, 352.9861317499319, 325.34874539079203, 322.31282119347844, 282.15537096131567, 269.5900206087848, 233.91853596064863, 228.6673783555734, 216.65938013291603, 214.58211971551904, 194.75223284722725, 186.8248723156943, 184.24325440769212, 175.23788449047473, 115.30092338546085, 110.34881176532375, 13319.906331657172, 1783.9231680938788, 14335.124779607431, 668.7048747915223, 9329.660510151509, 5645.48102081214, 666.2113132613148, 1202.6368394635224, 43336.46584470648, 8766.056508017477, 34043.62199995569, 13293.281714961355, 10737.666953394042, 6132.429728834945, 3841.7613316594698, 4754.636383362428, 10867.003986598014, 6070.505896225663, 15036.309577385495, 739.2202727384962, 643.0614301097435, 642.7407677726003, 288.54751576354005, 257.31873469070536, 256.5403919075736, 230.0029125575852, 179.37804198407738, 168.862341370851, 159.18530023942284, 151.67567188497873, 133.34007877347506, 131.13209045845886, 130.66981982339576, 126.44752805839798, 125.60156372839845, 122.50203832588731, 121.60664282120683, 116.45299622026819, 103.39019284085707, 99.79753705576312, 96.2292399854907, 95.60588871739257, 94.96801349141498, 93.61963628110564, 92.8428339700369, 88.02274733876718, 87.7275641009594, 75.1220448112439, 61.9172599528862, 34043.62199995569, 16345.257021529062, 11512.919507492785, 1074.741719841717, 13431.962886371739, 1337.1588242544415, 2941.8377910838694, 2370.4211979929864, 1139.5217811055018, 4144.209239977627, 687.2310308299554, 8608.921560685356, 688.8998623421006, 7034.602502779889, 4689.330026490173, 7346.012171549057, 3953.23345725065, 2085.2803028005324, 4510.722214765324, 10538.931297812962, 7972.2680123727505, 7255.856022394288, 6195.161935972179, 4460.396076280304, 2999.913507793578, 2143.93133893022, 1431.7397904852924, 1158.3435226017898, 978.1352116358192, 642.4097452088282, 522.8000832374036, 471.78932867940097, 428.02249280593696, 414.30056026242687, 411.42836564687383, 407.3248429295881, 400.84196433571196, 381.12309980905405, 376.26035385324747, 356.43690142134375, 329.0314850980367, 328.3093539718547, 300.4255515880225, 299.5077794601173, 287.42277165285907, 225.55098469576083, 192.36053050352012, 182.2805972931167, 180.76426490727948, 175.56550490132105, 168.36117766166817, 163.85771894639925, 5206.342020014034, 11963.724645825203, 7757.963940420047, 6976.380376891632, 1488.3909402270065, 2551.5517454512733, 3577.598335351451, 2398.1514245219414, 3190.087182799916, 625.6264009005483, 4346.501827919655, 5585.319917774523, 19252.2420383951, 7154.549777108477, 5920.337555530111, 9503.809537413212, 17962.246618389254, 5513.875334349751, 6006.789602381529, 2017.975401528198, 1840.0146780555478, 1183.7348802090416, 1166.2352193909571, 1063.8312318844032, 1049.9894839473004, 936.8873035390627, 816.8512275658411, 709.0369561689137, 664.7429200095582, 663.9463447590767, 652.2056250242971, 643.4119061142055, 639.6930436073324, 621.5203250368996, 606.7665959746233, 519.8150791236861, 499.63444857337214, 474.46047746486965, 435.95706458182434, 435.18978472279895, 387.7670245624468, 377.0328332082216, 351.78225295146683, 342.41346232048977, 340.37247499359194, 313.0436932066584, 310.352213266546, 284.6149476293063, 696.150095927765, 1247.8299914956176, 10185.344453376385, 3150.3824139841504, 2038.2552814590515, 2158.4891478734603, 2163.927923647283, 716.154784817664, 2938.753335377087, 2364.7391947142573, 1921.520786541019, 979.6585472306682, 5317.337015716103, 5920.337555530111, 13951.971443729133, 10538.931297812962, 2499.5485070910318, 9654.547467067832, 5957.206165019368, 3206.4218410848325, 2821.9700958202916, 2690.360491971458, 2254.8246437130297, 1712.394922456319, 818.5016709265591, 793.4885304286809, 761.3655874665649, 752.3014029776126, 680.1274390687952, 618.3664338114128, 516.7237580414328, 476.61031718902774, 449.4454359274332, 436.8962512742337, 367.43398584419026, 359.9389314994087, 323.0596810842242, 321.5675210978399, 316.1618608629209, 306.054827147524, 303.3438329063209, 291.90649103819436, 240.94371047158907, 231.43736758016854, 196.4477389327707, 191.2948379285105, 188.74229808125847, 169.83311169887023, 14487.767715033735, 1228.7845708341476, 7629.351236327224, 4469.994409284849, 528.4268993860813, 2295.7922956362654, 1026.2482443746533, 15842.416399855487, 14335.124779607431, 3611.5790841175617, 2217.863358173068, 10031.719164773316, 18729.50309808414, 43336.46584470648, 16345.257021529062, 2273.557582141051, 1968.5337111844403, 1278.3636551131933, 836.2393905686887, 762.7195764607532, 650.8483503970361, 549.1665502596528, 363.73552157196093, 353.6307929505156, 316.5624675654394, 294.4512253015797, 268.309537081395, 261.56675409403897, 218.80250863646273, 210.28908065840173, 207.22817932964176, 207.1842981492158, 200.62125273745198, 186.63213718407283, 154.2429442387243, 147.7863367251076, 146.93025507233526, 145.7263059569189, 142.81337352839142, 142.65710667607556, 141.66009414416635, 138.4760101397511, 136.05809423665164, 134.41394192484768, 132.36557355464956, 25948.91410444913, 2962.6728803471206, 2600.2466967594296, 777.2675145976664, 388.8849327324606, 782.7889301971674, 970.5238413810637, 1172.7273643311355, 5402.936861795275, 3140.5670457956694, 3229.5712941633424, 5921.5052519620485, 8536.018105393687, 11607.209275061008, 9767.391730908388, 1954.7033112600654, 4496.429484769389, 2275.837264418591, 3646.2709191554122, 5406.516634019067, 1820.073108379358, 1865.7592598383883, 19591.983647497265, 3138.8278626684337, 2057.4365402494454, 1957.514567693053, 1516.889520226896, 921.4671535596449, 783.2442738754276, 765.2196205608645, 674.1429825237539, 673.7414117151544, 653.0483594851988, 488.01166756372623, 417.82870970822654, 365.0046015262017, 345.4617752294954, 328.750465480684, 318.96664878722993, 307.588535197676, 298.4436656565435, 272.110625584302, 266.90214915510535, 240.02960823820612, 235.98588748231973, 235.4439824833681, 230.15707582939558, 225.9463408912674, 217.77989466848615, 209.64292086660691, 202.53177006991996, 191.77720653158457, 7912.48706449686, 5084.574187520602, 2155.3454696605713, 508.741022616212, 725.0636195898383, 21647.37388142212, 3707.289839428585, 7869.917418199295, 9774.472274719486, 3954.188142650539, 2364.7391947142573, 1687.4706671080692, 4368.271500187024, 2254.7754277847685, 3995.6204729407477, 6261.32959261369, 7228.075251106587, 5203.877866217338, 1997.0307215624755, 1723.9688113722077, 1340.332276783664, 685.3183734517613, 627.8837255318352, 495.6700262164289, 486.5565070567879, 431.75054436243107, 345.55671548684643, 298.4495233626714, 276.9668716153845, 275.08571289576884, 271.07893419784773, 267.6819735573108, 259.0118746983344, 190.3951978365876, 183.92969196846255, 176.33532852741786, 166.45240720592582, 161.3756123438759, 152.14281707595876, 142.4477218476567, 140.43483354670968, 138.74791239247065, 138.4012107045746, 126.54640489946735, 125.98023418308566, 121.23806699032107, 17996.4403776378, 1928.162776241795, 3028.873208244615, 828.7202600871307, 475.39874281762485, 374.00612653108044, 27399.66318421275, 372.82323366336686, 10031.719164773316, 5481.675129955146, 2217.863358173068, 8608.921560685356, 30384.267595667203, 6827.323417793137, 18729.50309808414, 11896.727210397881, 12511.476636421423, 12849.057552054888, 17962.246618389254, 11028.037316100703, 4558.5808516177985, 2177.6734042701723, 1516.0117044446245, 844.7665276448997, 651.9802685595477, 632.1791968579606, 615.9810926676333, 433.5347376114541, 351.78351912218903, 348.63588458368304, 331.4037882459982, 304.5841177777169, 298.80474203377923, 298.53682881598667, 270.4121608301048, 214.12238592603524, 195.65434190282014, 192.53758344835234, 178.5039948022121, 173.97951798233723, 164.46788669334, 163.7595411624337, 143.73909063322708, 137.27779056158369, 123.83451704598217, 109.20911259270869, 88.02602851201928, 86.7699418276602, 82.53025041166107, 81.48257275212302, 77.72752477171474, 6803.463667140237, 27399.66318421275, 10781.016607702664, 1135.3171828476309, 30549.475050104902, 4518.198314823769, 969.7457143297781, 6132.429728834945, 2730.1952309808175, 2217.863358173068, 30384.267595667203, 2085.2803028005324, 4032.208166138179, 3146.6624474611617, 2769.9677105119154, 1784.3681609874232, 14986.887764656609, 2212.978458209786, 1581.783625281059, 1208.8803838765477, 1159.197531780794, 1026.7510403559859, 1014.0038124561551, 954.1997154165828, 924.9418831594752, 889.2772425476502, 872.7995067123819, 714.0708374623217, 612.733392564714, 545.1906779369039, 462.21264509492124, 446.2973191537526, 376.44278919548645, 350.6583253487026, 329.216335933378, 325.4246263227511, 311.55838810478525, 307.6789014238875, 298.5084453818787, 283.1306683431296, 278.4505235636293, 254.52493955758962, 225.04905978965255, 219.64117191548937, 186.3212696069686, 180.61153816676904, 5251.224293558241, 11046.391630383207, 5500.685143019096, 697.9824554355669, 8867.578847495939, 2954.5178894559813, 730.3714126748896, 4032.208166138179, 8766.056508017477, 3302.716217801404, 2383.439596306708, 11028.037316100703, 1718.9354562814274, 1545.7243132927797, 1519.2514932879842, 1244.2903637458849, 1043.7793015236305, 898.115342496227, 865.8272350364551, 685.5330372590215, 539.7910686243422, 510.47012639518795, 494.75027799398504, 460.47413079288094, 394.98117318238326, 378.9044178106734, 352.4939476865863, 327.6117570402222, 288.18485457944087, 280.41611783864215, 275.6401501522625, 264.4075064211679, 247.25229187596852, 239.25701413760532, 226.27383929645293, 218.11625164941208, 213.72219130569232, 206.48522164139564, 205.0159134082685, 200.7348076895321, 186.28488296575475, 185.9002901109455, 2661.269497790066, 2795.2486955186832, 2848.230337781332, 1170.4727293680828, 7989.282405953064, 1919.8325023297311, 5857.59219643652, 1962.2779667526056, 609.8463028787576, 2833.3578650330837, 7092.645016082081, 9503.809537413212, 635.0520958156291, 14852.081935069227, 726.2274337778731, 6406.721160418698, 4795.323632582157, 5921.5052519620485, 9074.184340481059, 4125.056039785567, 3969.632039810739, 3163.106458406305, 3084.5225309212547, 1163.8659656755888, 1024.5706032982991, 785.4199186257479, 770.1499037503568, 710.4371983385997, 526.6812613259654, 460.0610678807178, 433.07074365724907, 407.63654411974846, 376.69516462221895, 320.66214954617493, 313.83666063608666, 242.80442138586145, 220.65172517846435, 186.18900743694897, 149.20213607907658, 127.29180506228741, 123.15693074365024, 121.47489933410192, 120.65409225570595, 112.73447328997369, 110.71876522388634, 106.13804816063039, 100.37161835446591, 99.94925572108383, 14925.961705804866, 2019.411582217047, 851.39129134541, 2730.1952309808175, 2627.091104890655, 392.85414099095, 3229.5712941633424, 8409.307902961735, 8608.921560685356, 4136.294852598196, 30384.267595667203, 14852.081935069227, 10791.220664891076, 17962.246618389254, 3117.287990025738, 3186.147487465482, 2870.958696016693, 1589.68024870939, 1135.029874666179, 1110.0866888787577, 1034.6261787083265, 1025.468891507614, 922.9884830168454, 908.3890967607703, 872.9580780684086, 751.410540311799, 687.4431317869374, 595.4909354157619, 553.8799330124689, 541.2297525698192, 519.8448016517585, 507.5514063432205, 476.914265293823, 455.80238073452875, 439.1230777601137, 419.4518839338188, 410.6310193461401, 405.6732350978926, 405.3474287932757, 382.62549498688753, 321.7260078028768, 273.3753535324465, 259.7039633319013, 214.12622177483493, 205.46222486206153, 3184.0080562693647, 1642.5278685848348, 4368.271500187024, 3190.087182799916, 3577.598335351451, 1833.5413806404101, 5385.437927385768, 607.8702984204916, 944.473500387402, 2373.008560432029, 865.6200502346009, 3458.8689182241646, 11963.724645825203, 3467.4645339044255, 5468.454640131912, 1356.28693126807, 846.5757839020057, 683.3016722610732, 569.5936678618456, 533.7952108501358, 444.02056501329434, 443.1270736941652, 430.89369552267067, 331.1312052991381, 284.3442901844908, 229.26258141780332, 166.38656751953698, 133.1132760302361, 130.69645497199616, 130.3408095079326, 106.3485789146936, 84.2608297521682, 73.16790118267573, 68.50914937728629, 60.16656360144247, 55.17141418143696, 52.69240388644207, 51.881531147532385, 51.77150750801176, 49.51853432449088, 36.66667241764092, 17297.76857408069, 31.527097806339007, 11056.643796708206, 22.89280931466481, 4754.636383362428, 3572.5703239822665, 1872.75617819247, 9654.547467067832, 223.9741194869695, 361.9987883339063, 458.69204093657254, 537.956692148425, 4829.383675622208, 802.313720455291, 2346.6250158893295, 6986.925791942645, 1666.0372724418849, 21736.126379305577, 2776.9107787515773, 687.2310308299554, 9767.391730908388, 16345.257021529062, 3953.23345725065, 3056.5426563961005, 10867.003986598014, 2354.1383835426627, 3146.6624474611617, 3601.7579383768925, 2501.252400973728, 2338.6146491792733, 2318.4593180960733, 2260.2961611370224, 1856.314714421499, 1726.7195032901766, 1687.739446077593, 1542.0063925330257, 1446.054639069366, 999.4087406200151, 996.4118683233121, 943.9542629722811, 815.8881973636134, 811.227659819194, 723.6059910048217, 712.386239084817, 692.2604624750234, 678.2334819778877, 677.3788255691503, 643.5920835600024, 609.720842506681, 542.7078766264648, 540.0792365087282, 518.5047641287067, 508.6712134583621, 478.1621160085766, 451.43802918792295, 441.79546986952096, 416.32779246015826, 3056.5426563961005, 14078.520084007621, 14690.251407741109, 8395.721179481488, 9654.547467067832, 5389.611008315442, 2954.5178894559813, 18729.50309808414, 3683.3738155545298, 1054.181878968039, 992.4231270303482, 473.90785676664143, 375.761384804792, 321.82671083360736, 316.2493190056151, 313.6793328553268, 281.28690021315845, 270.7476874032083, 242.54673316225188, 237.26684125256864, 228.12178886345546, 207.97372802402055, 204.2844216036328, 194.07847238379225, 181.94238168035704, 163.66940010974312, 162.77000711585845, 149.36890601504484, 145.19156131276594, 134.2234029772163, 131.63233056798398, 126.639687693558, 124.17846579890524, 121.6486234360012, 119.98499642131038, 119.61480266888084, 112.53661671475719, 106.21797080596451, 3597.7296606738005, 7953.158264288282, 4380.115338377414, 21647.37388142212, 3636.560632496779, 1689.2938116541611, 6261.32959261369, 405.0335882691159, 642.7752881996996, 6200.236552100193, 10259.380862088557, 1921.520786541019, 1957.279188233016, 10031.719164773316, 10538.931297812962, 7034.602502779889, 8773.68126183455, 1784.3681609874232, 1919.8325023297311, 11046.391630383207, 8197.041611983845, 2488.4711987115543, 1886.1695868129266, 1407.9054891158223, 1361.8458532210875, 1281.4016960529834, 1179.4648649955209, 846.1143729544741, 671.9253659626023, 647.2370462768348, 627.9822120603911, 562.0514682889352, 554.9059228316737, 504.49248614189634, 442.2759196998011, 399.88817594696343, 364.8811137604403, 318.2663250203138, 282.7484060618629, 282.3667292506753, 271.62175682303103, 227.49913907708725, 213.40409813125112, 213.34961274212407, 212.52800297718886, 206.9192615822165, 192.924688544331, 188.83002635299516, 184.3334675816393, 177.79134549290544, 5468.454640131912, 1550.6540655286194, 4076.3564279045963, 2336.4464469841237, 948.8515002285095, 988.8287513478838, 2552.8449467201067, 12511.476636421423, 1384.5223079586297, 1965.441415512196, 2732.7822665112103, 881.5213820822275, 2398.1514245219414, 3288.516442685153, 5920.337555530111, 11046.391630383207, 1861.0485857629517, 1582.2182190091178, 1205.145870537966, 1054.9180184315796, 865.430001859287, 677.8446292077628, 652.2998084568305, 461.10270030393775, 441.15368278629944, 389.2398278930592, 375.082584911233, 338.2274010318822, 279.2402291396107, 241.80860883931106, 232.86403173151027, 229.37957578147174, 225.76919704543533, 180.33423271981786, 166.75999246857393, 136.50750422040187, 130.8406831339798, 112.2442751337935, 111.81205499253862, 102.91162161100051, 89.48806601881108, 86.08606121789563, 80.44567532848215, 72.05057664357106, 57.553868054130355, 56.69565506362165, 42265.628716726394, 1247.2022273287985, 640.9414087471044, 1559.1493321867283, 6070.505896225663, 13293.281714961355, 2038.3114797707865, 2941.8377910838694, 1356.0255954337918, 5925.0498959654105, 3585.0698736042054, 3566.133683625465, 3292.5390597691476, 2221.104915907816, 1882.0466078599625, 1735.5092190053144, 1200.3020085878456, 1144.1963342424372, 1125.2184514276507, 1084.906796737046, 862.8017898758545, 823.2032569064797, 800.5592542601063, 591.1095514308496, 457.0926899957834, 429.4046244552751, 429.2535045558924, 350.97565245897624, 312.55728178037845, 301.3443737372681, 298.41170012792935, 257.4336788833445, 257.41046774493026, 223.00963339366874, 222.05433836637687, 219.1151923075274, 209.891971846224, 196.63374050513448, 174.5828265073996, 1226.1214274655965, 15333.44481725698, 3557.211096260083, 3954.188142650539, 5857.59219643652, 25948.91410444913, 6200.236552100193, 6261.32959261369, 40894.40232068763, 7953.158264288282, 1604.8542063890404, 21117.879378054775, 9503.809537413212, 5500.1533986481245, 2823.3624511830913, 2243.325925651482, 1974.6460139689414, 844.7100728419068, 825.8130165968537, 822.8562767841039, 815.6895024198712, 718.2277190164651, 685.4471900880513, 679.9520408170923, 582.0783896133966, 321.1363095852054, 302.84530217357985, 245.28711394713793, 233.6830648455865, 213.43516628626966, 201.23138317202717, 190.55170439423398, 178.1898878724062, 158.7046167370811, 158.27139641239845, 148.38819733066364, 143.35240564865566, 118.40580699719916, 112.16705557011889, 110.4804753343833, 92.02967684603178, 91.18134586154129, 87.85348045847353, 4496.429484769389, 15333.44481725698, 2194.7006450995877, 6200.236552100193, 1830.6678515790493, 1590.377853476627, 375.67039562813073, 5317.337015716103, 3118.463249874648, 439.39205036768783, 2898.795727162532, 1226.1214274655965, 2364.7391947142573, 11963.724645825203, 1800.3839252848957, 12977.118998283166, 4189.617776166976, 3420.9734418803923, 2230.3508147482826, 2094.1440308772017, 1080.5028549998578, 1078.8176475304024, 857.1490621707551, 812.9411003207924, 640.9619733812063, 617.3827011658739, 614.8932411054642, 579.8486911612839, 578.6508368062457, 449.70053750093564, 401.70163292446614, 351.8054188422215, 327.3064862825325, 305.0084666192223, 286.6942024986054, 283.29108159606005, 275.03468470020283, 273.84300256270217, 249.29840870525663, 239.47550724357623, 219.8136438661745, 219.28038376444562, 211.2239707542323, 191.8899931636033, 180.93066955330025, 5610.415096309012, 6867.71468865165, 4829.383675622208, 5947.459001195421, 3296.582802023395, 1602.1135771813247, 1342.682530325673, 1055.566316511519, 957.1523723905995, 666.2094315431283, 504.29614876823456, 492.28700812850883, 491.29985510856585, 475.7642735026665, 382.02861301215916, 264.4955495162841, 261.9133170239684, 240.02205192148944, 211.11125165207167, 188.67595127975994, 179.66152524983718, 171.94020175940474, 149.89209926717749, 131.83286679832136, 131.510969025244, 131.48369201474748, 129.99445268668003, 116.47504627550921, 104.48773743729228, 93.28487136440992, 92.76966403180857, 86.12048030520384, 85.4628395321297, 1907.4024627837623, 10791.220664891076, 1744.0049154355784, 1178.7357476898226, 8536.018105393687, 2451.386190659883, 317.37027864179055, 2668.2378614733375, 822.8570501023721, 1525.86483978718, 5402.936861795275, 6360.378559557951, 30384.267595667203, 820.2313199928236, 9503.809537413212, 11046.391630383207, 13951.971443729133, 4346.501827919655, 2615.8483398550675, 1778.7972210755763, 1573.6536243733954, 1529.0903446132966, 1164.48541483588, 548.2336089506493, 528.408875670793, 501.2576489264151, 466.3960319639323, 447.1528030437479, 348.5639675783823, 345.72781270426213, 343.9265144263624, 283.79268346184915, 282.4992273161813, 256.23925547136, 238.8012095017703, 214.04410123116392, 185.78570174613102, 178.8211863292522, 169.2153942774447, 163.39532776131176, 161.59471961643544, 156.4159635647353, 153.89628972156555, 150.52332854562837, 150.03598927426663, 141.33053881967382, 137.82447498336313, 133.36683141158582, 6183.550391721832, 2807.3239320822654, 4010.317537341653, 3995.6204729407477, 20492.25102405421, 3107.9547062244887, 1687.4706671080692, 497.6222491943157, 629.5250537799957, 1264.4348920658858, 490.24632338302166, 3544.605243758807, 2376.3730529754844, 17962.246618389254, 3953.23345725065, 4346.934109695095, 4160.23669090262, 3289.8942012709294, 2687.4239460036615, 2319.417109115702, 1692.940556170848, 1379.0137356684224, 899.9550341910569, 813.7446477309823, 770.6423565315224, 754.803026469383, 696.2430393712851, 641.4521848739594, 630.8359783399942, 541.0508243505323, 489.8581541246495, 412.02577368984663, 375.2691035674455, 339.725387982604, 339.6112601065998, 311.2695616031407, 273.6605768621575, 249.92419159926575, 213.1910561301953, 204.72199154775348, 197.9737893923607, 195.09562304577446, 168.48990429307366, 167.6435804654564, 156.47300968529953, 2770.081991844464, 2776.9107787515773, 498.00788847075296, 5746.716235957071, 3681.6924407666274, 4346.501827919655, 1648.9367531668124, 1863.2444018686251, 6406.721160418698, 9503.809537413212, 20492.25102405421, 5311.6748223144605, 13422.106092270293, 2731.7795378164706, 2723.2744615045535, 2134.312878894842, 1504.2305246540461, 1334.914551985129, 884.9047444257823, 557.0895397858438, 525.7856006537942, 472.97970739635565, 461.5617775774258, 366.6167070661982, 340.99519270471654, 319.36527553532505, 292.70115575144797, 285.78253383697086, 244.4650278714388, 238.877730067677, 196.03292988374238, 177.65467150102646, 173.18467387441117, 165.33141847681284, 149.6349238627578, 148.12000653452196, 136.04828276270615, 135.04730771263345, 133.75654399070933, 132.83066357953942, 128.74294681267696, 128.17992788209608, 14057.811285050626, 1086.6963602906214, 3458.8689182241646, 2156.6387418595, 6132.429728834945, 1311.1895486081971, 7154.549777108477, 2941.8377910838694, 1401.0937472568835, 2217.863358173068, 1275.4316050689322, 8766.056508017477, 3681.6924407666274, 7989.282405953064, 4032.208166138179, 2172.4023503644594, 1471.3356475484757, 1424.836337605563, 1308.6072272613724, 1197.5870293580626, 1107.8844014859997, 867.4628979724008, 814.7471143054554, 753.3047902223444, 659.5479634581169, 576.4311313442216, 481.1473671952721, 476.1013602176784, 459.18717094467445, 442.46651796776166, 425.5696999331305, 408.14249963381263, 361.57484710837275, 349.963460847519, 291.1154703827205, 290.589037352869, 263.86961484163237, 262.2531453494439, 245.2655817769692, 199.1836202503203, 187.79643803190848, 182.22083421693256, 164.76511538099786, 158.94897412479165, 142.36527516056606, 5902.913467351119, 1916.532616192577, 3882.187371859324, 2171.2019097238476, 770.5902708055487, 2031.908431016875, 2366.606887759942, 5921.5052519620485, 760.4760536994326, 1026.107077551542, 2497.506096604644, 810.3332075032597, 3482.078163544526, 14852.081935069227, 1066.1931890966482, 2998.5496206154435, 1973.020967119482, 1282.836019236282, 1278.7647645138557, 1198.1468423522022, 1011.0265516046469, 878.9410065284335, 815.5244506212402, 712.1043991812613, 626.7773432920208, 519.4696182993927, 507.3384860366238, 499.2307272536006, 465.7721880384018, 459.1958128834859, 451.38741815299, 354.69158914259185, 318.90943415458975, 302.4305737017504, 295.3024285249504, 288.0232629703872, 268.92499064445803, 260.65642825098416, 229.36201752863712, 226.10964609384948, 179.48617469597139, 179.05647961496473, 176.80074718352822, 173.53989600194464, 171.1832207692096, 4198.424202553562, 6827.323417793137, 10556.10646949812, 1760.8252964164276, 1604.8542063890404, 1155.5150366028581, 8773.722735291638, 11059.440564557834, 1026.107077551542, 9503.809537413212, 8676.713899273322, 2032.0695115586313, 1777.5312549646972, 1628.3796018453306, 1309.5332404263513, 1148.2012391085243, 1120.690601446125, 823.0102818227323, 720.6202543383624, 687.3241584957523, 655.5557597521638, 522.7557748891055, 452.21968557347265, 421.618789625143, 350.1875918631338, 330.8723419080857, 321.91980980650976, 272.75575987684135, 230.93222566715798, 223.25515426161013, 211.4515074106797, 193.8078370795719, 192.29353600004723, 178.09467560251548, 168.8851054739599, 165.30885176783934, 164.5146287347154, 161.3601261181823, 153.35472784497446, 145.68529505939333, 1607.5136432003537, 9018.105810481995, 7292.880571214559, 1025.8724349499018, 709.1717765383382, 4946.462637376415, 808.600433797653, 779.2844896127812, 6752.072206703483, 11046.391630383207, 2156.6387418595, 10031.719164773316, 4290.768634744014, 1678.4504757031866, 1426.3603919148152, 1126.889351738568, 608.2780808090102, 291.6872711305298, 289.3828859164953, 285.2749946068691, 270.77057006487655, 250.6229865278034, 249.2632712980605, 228.47757249895403, 203.07959634320127, 197.22674961968013, 174.63783628931432, 174.25138956316687, 160.44311728390363, 134.7219078197043, 131.87534968885925, 120.91447734596203, 119.52602844437008, 117.35444380898942, 115.64711011422972, 114.40447409953532, 113.54743908714215, 110.3605899374181, 104.80078123037394, 104.20515124389658, 103.73508755439359, 94.44674740531906, 1421.1327442950023, 1759.1094757967674, 25809.347741532376, 3534.364954468156, 1588.859183951107, 2919.889177557868, 1183.223292774725, 2531.3352085106303, 2033.6672454613386, 208.35461170809512, 3482.078163544526, 1172.7273643311355, 2376.3730529754844, 3146.6624474611617, 3329.3833306415313, 2250.3653232926245, 2209.4023673274814, 2099.900311835172, 879.4982940718951, 871.5276799789813, 628.1288409563123, 613.6338537572343, 588.1972434031725, 557.2210277355514, 490.7217391876935, 485.30605415013366, 485.05316696446585, 460.39164881198917, 449.30664537972467, 447.4560287927422, 388.218516696237, 383.15810845608775, 342.9758734816736, 308.4911286276176, 244.8277214227482, 211.0814537261236, 201.99596099878895, 194.66936770026524, 182.8935840055765, 159.5200179072553, 159.23247365220192, 135.17187951718014, 127.55356585174948, 108.07190530520323, 106.83715315399051, 10737.666953394042, 1258.9845047905003, 1641.7347108400631, 2159.4315852415803, 10354.075862949012, 496.0773711021348, 2345.9670857654373, 1035.8323481014227, 447.40047750123347, 496.467075962699, 2573.9476788656566, 3637.6951756905128, 2882.134625601048, 2754.868593269065, 2253.316896408369, 2096.799612740828, 1661.941121723032, 1519.7143236659344, 1458.1723428244795, 1336.4833578877121, 1170.0412172097433, 1060.6690894881287, 1026.219973491246, 806.1993670111401, 604.0361133938094, 513.8297424495629, 485.9421598744968, 469.7597643215522, 412.1161910584049, 388.1302223251683, 358.20326318593027, 328.9013486169156, 313.31438395999186, 291.7244023213504, 256.08401471030834, 221.38301782441386, 219.42097301858922, 212.6593901442121, 202.01425754712116, 194.1196019019195, 167.41927352782582, 163.1328618450113, 4822.444639476976, 437.48680261419304, 1620.388601913962, 1356.8559838674737, 4399.848235705363, 7034.602502779889, 3101.274528156056, 9654.547467067832, 8766.056508017477, 1967.3002289532208, 6070.505896225663, 1111.009978477495, 764.6290050031148, 664.4749547010257, 557.1723043198208, 433.00420895839613, 414.22983245014626, 406.58175824183655, 387.9471549078439, 357.4479349050058, 347.8132156980501, 308.3732166030327, 270.92842906459146, 258.10548515295346, 242.69950604643148, 237.8006845400796, 233.8516295281296, 226.68979307757292, 200.65410232159158, 188.17025966518295, 171.96902889152855, 155.7849482512263, 150.49878251069322, 144.23296444626703, 134.18848313126816, 133.01407902527586, 130.14857054970113, 129.34516564992632, 119.14353675427353, 106.50399342578773, 104.71644213874993, 1890.4177408754933, 14690.251407741109, 20812.86698834608, 5190.067876044121, 888.9546282372332, 562.6318802777247, 1676.4253645040849, 1394.8684524797095, 1463.5702881600118, 1139.5217811055018, 7255.856022394288, 2599.995449514868, 1746.4351984784591, 1427.0274715346359, 1175.6391274196626, 851.7610687585749, 648.0195493065988, 640.0066070194982, 614.6379337241066, 370.95319111875096, 361.55854353529486, 348.34153414166985, 315.93016914450243, 257.4717667937811, 253.86075075203496, 233.61264708557903, 229.1510496406822, 212.81370671839156, 211.20509563323336, 203.86891264970362, 203.25617005916777, 174.21503518026333, 166.91768952817236, 154.4390486365797, 152.16252950512632, 147.52977644050105, 144.18395585979067, 143.96746596531833, 138.93731876251778, 134.80419028447014, 128.32127650431693, 2382.874878753777, 8409.307902961735, 879.0414211991176, 12286.356438450191, 1542.2644683947542, 1311.1895486081971, 786.9868402359726, 457.67719323879624, 18145.250576235187, 8608.921560685356, 30549.475050104902, 2451.386190659883, 17996.4403776378, 3646.2709191554122, 17962.246618389254, 4804.3802396835945, 8123.41995949249, 3898.0254439174896, 2902.1139566244465, 2753.1078608471316, 2081.51453375495, 1225.6979013004934, 1214.2276518039216, 1019.8668387162287, 854.7014542812678, 765.2802204618395, 702.5907126770544, 627.4009120121511, 494.13951491241596, 415.83188249386876, 406.9344330933041, 337.4437848332087, 301.0000443705726, 296.74493689564366, 287.2574828240698, 286.0482521286954, 275.73463920844233, 274.2757339473325, 255.93254528981646, 254.7615156807372, 254.31079351797177, 250.4147980425677, 244.74232774556214, 227.57844906834185, 207.6988441564826, 198.76477296373366, 1100.3650734678724, 1339.7169885675696, 2627.091104890655, 5317.337015716103, 13951.971443729133, 8608.921560685356, 15036.309577385495, 4346.501827919655, 14335.124779607431, 4084.261780424221, 5079.10561434535, 10185.344453376385, 2636.196882094757, 1922.2937016049768, 1746.5010357698604, 1314.5999732521689, 919.329544020073, 663.6902362814499, 590.6316355478251, 572.2978813484258, 559.5978055396704, 517.4098793589059, 503.25430688217966, 462.3180534990071, 406.1675662084862, 395.03068599921136, 364.83949648915365, 363.6110169445725, 320.74202504854037, 304.31865502687907, 300.4063540117025, 283.9164540543789, 254.09932347996818, 247.91641432233607, 223.33225162642526, 221.95990554429358, 187.34502321616495, 173.9413200221739, 171.0364732784914, 154.41901226091738, 151.26220837863028, 149.46324162535217, 3975.6656922339625, 1195.520383431823, 2292.523200776407, 564.5713078035565, 3944.5837791285207, 5513.875334349751, 6654.225513924097, 526.0971243028401, 1954.7033112600654, 377.60290150868525, 756.8119080634194, 3534.364954468156, 2851.4591694055716, 4540.219588122228, 2882.860929365229, 2471.9848909001225, 1837.7227058863182, 1757.3986447770287, 1219.577786563599, 851.6431257380724, 746.8931789306454, 665.5062084915756, 601.923788483542, 579.5799486371958, 573.6898908901478, 395.1799148773984, 354.28128292873595, 321.6299067609698, 303.3906115612869, 258.6561672954013, 204.9398007649328, 176.44778811654177, 165.69766553863766, 164.72723098863105, 154.77926586562788, 149.99473231391303, 149.55961047278274, 142.9151835200875, 136.8673524736058, 135.64326737065744, 130.04886746142876, 128.526522523561, 128.2039578587883, 5311.6748223144605, 6590.072286825476, 9767.391730908388, 439.1341396236458, 14057.811285050626, 1264.4348920658858, 5406.516634019067, 30549.475050104902, 3482.078163544526, 5057.568505385067, 4767.412266824257, 1254.1336556202682, 1155.4824540126085, 967.9400403454914, 951.532961900029, 849.128511019708, 800.8713602002681, 592.5493177235181, 575.8832858698423, 545.302725680516, 533.3024215954323, 522.4092301224255, 492.25115379790566, 473.2021639872343, 431.6488810682471, 338.179555563518, 328.71646820393505, 301.756695935453, 296.13048652814183, 294.3302493143268, 225.89399915914103, 216.4646692339346, 204.32861160786007, 180.45618260800265, 176.81491016972095, 168.60011594107962, 157.34979709349028, 149.22488768624194, 144.85377301475395, 115.84711728900365, 15036.309577385495, 2537.7594459559427, 1012.8712647842207, 3155.4973741787285, 2383.439596306708, 1183.637989460776, 12511.476636421423, 5317.337015716103, 5143.497011814756, 3250.408975429077, 2310.43921181839, 1722.7495378173169, 1136.3291063905685, 1085.8026781393714, 1002.2489600598982, 723.9024117065278, 719.8686804430636, 576.168356972436, 546.7347126111808, 516.4850090138443, 460.15107814293174, 351.37631553413553, 328.1197738674347, 314.8141979387083, 296.8651166123589, 292.09757117177816, 249.9583615070296, 242.00602471295127, 228.48587000777422, 213.10083898274178, 199.50376955623992, 188.27625015898403, 183.20486455327605, 182.44555043769634, 180.28070378254128, 170.2466015876577, 160.18530675610154, 157.31313700266858, 809.819940417458, 437.64312496428096, 5809.398934387041, 1745.276538494749, 7346.012171549057, 793.6895379613463, 756.8119080634194, 6741.896382281833, 2573.9476788656566, 10538.931297812962, 4867.407692784815, 4595.835771370251, 1424.8730194102197, 1381.6393134814257, 1351.7289596388903, 591.2018870471084, 565.2174798706855, 551.1260493839378, 509.59108253466275, 486.7407487327434, 425.27595773017765, 416.00827109882056, 346.73354809499943, 327.49426954979504, 317.97671749314577, 307.62887183832254, 304.2978621479102, 291.8101291838154, 270.9088086001164, 261.8783594936422, 225.08393220669458, 223.23952617680467, 188.12240682765162, 187.11672612047047, 181.13627449726343, 161.36599156814367, 135.72822397953198, 104.35146925640738, 99.94524651167121, 84.71862263343237, 8181.474966355175, 3657.78972590359, 2346.6250158893295, 622.6212037584079, 878.1853177439208, 772.7889363536874, 837.9515833988149, 4032.208166138179, 1578.4567127953906, 1092.812338970199, 919.3980129881129, 720.105963982788, 545.5121639552256, 503.5828382132566, 495.6030505785584, 472.2837337969868, 460.73301991726106, 452.36456762142757, 435.536022825767, 435.4921008523581, 427.7230070248408, 419.1091608146376, 418.58195492088106, 417.6497910903365, 413.6622700417419, 410.9140597979702, 408.7007539891204, 408.27865871929924, 401.5720501446703, 389.90410952968006, 388.10873301748495, 377.97801677103956, 360.37769454192824, 352.22308062310555, 351.2870413635691, 324.0684377620504, 320.63433874811165, 317.07203341805, 1560.1840562464179, 805.0553564818089, 481.2090985498484, 6801.86807014197, 1616.6518761867974, 1203.1756251153838, 992.7584772266374, 883.6416800889016, 523.8741760826066, 508.09365162621395, 405.39658256276726, 393.8244959638889, 377.3919356295869, 362.6259225277022, 339.0619401421584, 338.2275585630347, 318.7982272200813, 296.3688492979801, 296.0723599082238, 277.64915168126123, 275.8162014220839, 266.3613525590217, 217.06563286285456, 206.91175159061433, 205.63787593408918, 196.4107839655043, 195.78815706951937, 183.30185875720608, 182.7500861128372, 182.6602177160614, 168.39860696446198, 163.11213417100993, 155.8500226773312, 2892.4342582950617, 4586.006022291407, 1652.1653371808627, 464.5994514306282, 3288.4198824567193, 1677.2527271959364, 1480.8555052876225, 930.4606122104017, 710.9430797956985, 1356.8559838674737, 1266.9185113840383, 3126.148574588972, 1890.679843407925, 1269.2979780656171, 920.9517833823039, 917.0426379582311, 885.9633691163966, 814.2185041138168, 671.7508339421257, 596.6571587521846, 555.0229015649547, 512.5651563311259, 489.58802798926524, 479.6312498266064, 388.0752698035192, 334.40376034076684, 280.0760392480464, 258.2187811875787, 235.59796483142264, 225.25743430928998, 215.70502343450138, 205.17722190385905, 180.3842682164447, 172.0876532449139, 133.06661946473085, 104.012725555637, 99.23889427066756, 96.58521646304645, 95.82315999702045, 90.58099352156243, 76.22539143378378, 6137.231058310601, 8395.721179481488, 1073.8197144206142, 6360.378559557951, 1703.9501729992655, 1178.8734501502754, 380.54342729222464, 1862.8165652294197, 3107.9547062244887, 1266.9185113840383, 3366.309051896525, 1352.1087692060737, 1156.638994646384, 1144.3247569984462, 729.9823347782414, 712.6787333287095, 712.2081357155108, 680.6290087516878, 634.3944200928981, 510.0405789732383, 474.79015662225186, 460.4028024234275, 441.4050655473193, 395.9289755741334, 375.32181053477115, 344.2079736800631, 313.90523503330786, 259.6006034936562, 255.9810581533112, 236.91882322302664, 225.02673381327742, 204.1314041104453, 202.47004058440658, 195.7981078370889, 195.40888994292015, 193.96935269921707, 187.98051369607265, 187.72288858229328, 181.5220868346891, 163.39801167760416, 493.85562800336396, 1387.1541446849171, 3087.3576139332617, 1597.8755312567807, 1414.9789622471988, 752.1924869953878, 605.0565470790433, 637.3862836921692, 1208.6146197315365, 534.8833616703462, 755.7243079171234, 4795.323632582157, 1306.9206551496022, 2835.131381912365, 2306.5013299633565, 2245.886425187141, 1033.4069192617364, 781.8591826588386, 606.6191640171169, 595.8718520622589, 545.3294873916536, 532.6295407342027, 464.05841160918374, 436.0420227030323, 425.00899204242387, 416.2034582587854, 390.7627449137588, 368.0315827664876, 298.43606577401874, 284.141707695426, 244.60209937242655, 197.95170568182493, 188.2740962959036, 182.15467584322622, 165.05878602942832, 164.2366114710897, 161.38115071870223, 148.2753252511147, 133.23923581535368, 128.37400585891584, 120.31270293080482, 117.1003938286405, 115.90184822919873, 10889.251450279819, 2639.2077888714903, 4558.5808516177985, 4144.209239977627, 3329.3833306415313, 2573.9476788656566, 10987.224859603963, 3527.510450700828, 853.6716276893156, 696.432958434489, 656.0353137905636, 585.2589766410142, 520.1430133505031, 351.32383124352526, 347.7473296439756, 295.010189610103, 294.4299707418031, 273.0035130080929, 272.88216729209114, 268.83123132884066, 243.5398570028337, 220.01665231242498, 213.4423672264699, 211.67035227159857, 208.08551040043434, 196.22508274557714, 181.52304695087685, 166.8299812491215, 143.03626330112223, 135.59578849936347, 134.6346162914688, 123.56668000937162, 113.9124365364679, 111.58745780431043, 108.80393592617217, 98.53908671614623, 1744.0050238818596, 2497.5531778202203, 1559.1493321867283, 773.7869146152908, 246.31827430430653, 427.34291616643276, 1967.3002289532208, 5376.686025199338, 1740.1309669442658, 1436.0727471743874, 1352.817047073005, 1212.8792800795504, 1081.9966701641226, 910.0743729193462, 847.4672024504877, 678.1471279994104, 677.4905603281147, 676.1214349445208, 569.7089550520801, 558.3559718266141, 425.87515214206314, 394.88223428034456, 389.6448545509278, 370.50175970510463, 347.34878991211934, 339.7977562373776, 297.65162721330773, 256.72243957558584, 244.74378123042402, 213.35785524361927, 212.9097635679238, 196.14419171480378, 190.3608022830558, 189.6740327154593, 189.3072906204553, 187.8477369347502, 177.88393469354904, 894.951139039411, 681.857224696255, 522.4434927632909, 3467.4645339044255, 12297.492585777101, 2112.569822133972, 1525.0303291130251, 463.1044103477625, 363.24382076405453, 356.41071785106664, 340.63863429101787, 292.5302003453277, 278.006253724715, 276.7878057816897, 263.6857396324618, 248.80371371590397, 228.1660188591417, 202.4774655388326, 202.24715584380272, 193.9775785434671, 189.93381785120525, 186.35274259772493, 180.9735894110304, 174.49982570814717, 167.48740181125052, 165.86472624529998, 165.25370938006967, 161.94828237536913, 155.98740239692475, 139.49825470774982, 136.79236550829626, 124.50105573417677, 123.34153525398229, 121.00516097359784, 2971.411764575152, 3647.04434609131, 1956.284885878175, 1170.377665661253, 793.2822517041931, 511.88764187110036, 487.80774936544015, 465.51377378951, 448.50036371737065, 409.439511374624, 384.4654197723078, 365.25205426917313, 310.2939588477727, 289.7076196081328, 285.8290493119723, 284.7840127280614, 255.03122698160038, 254.81526629647402, 244.14627773884763, 243.32456818334276, 233.9186207858236, 233.1353691047331, 215.5480913214493, 193.87396441673468, 190.7173606362956, 188.70955691643647, 174.38047880687026, 172.2344977294728, 171.70184909028356, 170.40718393974197, 156.43603738895442, 148.44174122118412, 3700.7232040909275, 871.9551558287178, 2354.1383835426627, 959.661266931369, 7281.500555339926, 1477.9981093460376, 2349.0127625899845, 1258.1070999898113, 1046.2842176549682, 843.4996397465285, 839.9155127648701, 746.4241545445085, 649.1335508048562, 581.5008023329843, 557.8238411767277, 484.9566051343161, 480.2344705900213, 464.9151657966846, 430.9170607989079, 426.379182926336, 399.19708501923685, 387.53147232091794, 356.5694882026028, 347.8307359520788, 345.6243528590593, 320.82079370918194, 317.9943095697264, 289.72363846244275, 288.7977694113066, 283.59550851912485, 278.1980250095476, 235.643601930066, 227.53460951463057, 220.81791709137283, 219.7260064958607, 215.46323355912656, 2051.2686873225957, 627.1038369054831, 10999.853413018178, 21736.126379305577, 20492.25102405421, 1442.558998137282, 1388.2925327581736, 1269.0950325384842, 1263.6781283450184, 1084.1392928366215, 982.4551155212514, 930.054043976383, 859.0896459581738, 824.6383530147203, 777.1479019607083, 743.5542963137826, 594.74940034133, 467.90045769798525, 401.5966724718403, 379.0262290843986, 326.7782755337032, 263.90413170671695, 246.85990561404105, 246.4270397759346, 230.1743877683093, 201.1057184690728, 199.5791302152794, 194.0398082195785, 176.0667972728937, 173.57303187682038, 170.5329804301959, 165.712368619807, 159.2215526166171, 159.0408148355798, 140.57582861022874, 704.6430503402019, 1262.074589062408, 3130.8431845817654, 776.891640084138, 770.5671787954373, 476.03617849357926, 5057.568505385067, 2730.1952309808175, 9329.660510151509, 3093.176746206951, 2116.358784172357, 1464.1048067912195, 1323.1283867033806, 1262.3554233691377, 891.881516306048, 801.3512061399761, 771.0450416767933, 675.6193779325039, 630.7660161527815, 590.393925758001, 394.468188349538, 341.9454214816347, 341.070555744982, 327.5618036884566, 298.671115114804, 292.37376971571166, 279.4713893100724, 273.27645580138596, 268.5946015741411, 267.21698727715955, 251.147662451158, 251.08671545737977, 234.53606449856153, 192.84113640549293, 182.53690745675993, 171.3843066404201, 168.02760558309404, 159.29352588961385, 154.91618216472423, 2723.88148456304, 2025.7746381306279, 2319.399290601317, 2185.0014295690858, 1358.9833974061023, 922.2617716427751, 777.1095132772161, 733.1571239195176, 659.9938063464127, 642.9074193677529, 564.5412372874948, 514.3287550276226, 452.666401730537, 433.04999969530746, 380.65952048947435, 355.66193686100763, 324.4781788097012, 300.11019089591434, 291.0957322869786, 261.7644356192758, 235.38657037773265, 196.96318910518892, 185.74649017328926, 169.8792021274945, 167.50856290157282, 160.10919856662463, 150.75734093019415, 150.120179890375, 148.2213406822214, 131.500791522133, 124.54128692219686, 121.37879176543996, 3061.476226195414, 1721.2727864124688, 892.8391027408057, 360.46214981097, 917.239449349072, 2509.0399002908634, 1533.6452195719262, 1235.9090219941943, 1193.598853687845, 1101.5616450788575, 853.446164297919, 723.637916746646, 680.0237770500686, 547.4444055946614, 509.19118099812334, 481.08930161377566, 477.1227374296305, 469.26420772834274, 427.2908254093269, 414.51939897039296, 406.7543011469414, 383.1630875179575, 379.2778468145467, 361.02050641740556, 338.8327764244204, 313.1944378114924, 312.39819089510684, 308.9788679886692, 292.0664323643751, 278.7077386098577, 263.23393879192895, 260.29932328074364, 209.80356457381612, 195.80501322026856, 180.71178437763186, 796.4244631854967, 1843.6343838004025, 1520.9009200978735, 1471.9318009175645, 1006.3047558768143, 931.3706090087406, 839.0894538663998, 773.0708111488375, 771.3925801612077, 674.6178340567179, 668.8087274363223, 593.6669269636317, 503.11730980431736, 440.4163604629384, 430.81601217753183, 385.4117083348743, 346.6708280903872, 304.7459240941437, 281.5883810275545, 278.0312425862635, 269.10847831274924, 245.51290769820292, 242.26200325190166, 189.8961794787976, 183.90836207142488, 175.76144962698976, 171.95788789840515, 158.89024121091316, 156.44829092085612, 155.54225190069897, 143.80404655316678, 1686.7528001317914, 1777.4991073235658, 1364.1451609596977, 1172.56253844642, 1151.1026005555198, 1069.3029155202942, 945.232459924316, 934.8452693912351, 724.4214458007407, 672.6493939410168, 550.2793337203934, 499.7072603285761, 462.3451403511736, 457.10773395096857, 439.0737658536483, 414.082531664956, 370.6344664630262, 359.12937640629553, 352.3103118499149, 319.60409689950757, 315.3954538724827, 304.495025143066, 297.8337277501033, 296.3503375088234, 267.0219312287482, 255.37793466426038, 225.74492618043143, 194.18635748655595, 192.3713945025209, 183.37093001137657, 177.05524908621618, 165.99995234642992, 820.2313199928236, 1960.9813339912043, 1099.234713916083, 914.18625587934, 687.0133587136078, 639.4736748391729, 637.2809867654036, 589.7915077788526, 407.1901164029594, 389.3486296027451, 349.9022906557386, 339.58511169333383, 331.54245418599544, 321.9213700907959, 296.6374394806257, 251.21057665262055, 246.03605514009774, 240.71154834505094, 234.73400698990244, 190.10724279401907, 181.8572887896104, 175.51027293161903, 173.55046294533344, 165.36137965941865, 158.77413815045816, 158.10921086053662, 151.38277351195364, 147.91309262348705, 145.08499050138738, 141.8482161342161, 125.74537254499113, 2288.580423856852, 1438.2709194327297, 1013.7042643321107, 3383.33661377044, 829.3602993793389, 745.9228156496256, 732.1454049732522, 678.4025903096523, 576.4926367292109, 534.4665533456837, 451.55558500293967, 449.12812074757323, 441.00480831477813, 427.16496030030356, 423.59749732186003, 399.22227233792194, 389.6068039575332, 369.8819766776146, 351.90224268107613, 349.6044552952152, 299.8644730710518, 281.07314242306336, 233.73862881160505, 222.09723892601406, 214.61134801751865, 206.38556536983634, 202.43136326268785, 201.92667400935616, 193.42147340340165, 193.22906132033467, 189.72216861382014, 188.94143694956952, 180.41913948114575, 169.10952761874822, 1039.5676039015648, 1306.3214730385394], \"loglift\": [30.0, 29.0, 28.0, 27.0, 26.0, 25.0, 24.0, 23.0, 22.0, 21.0, 20.0, 19.0, 18.0, 17.0, 16.0, 15.0, 14.0, 13.0, 12.0, 11.0, 10.0, 9.0, 8.0, 7.0, 6.0, 5.0, 4.0, 3.0, 2.0, 1.0, 2.7721, 2.7719, 2.7719, 2.7718, 2.7718, 2.7717, 2.7716, 2.7716, 2.7716, 2.7716, 2.7716, 2.7715, 2.7715, 2.7715, 2.7714, 2.7714, 2.7712, 2.7712, 2.7711, 2.771, 2.771, 2.771, 2.7709, 2.7709, 2.7709, 2.7709, 2.7708, 2.7708, 2.7708, 2.7708, 2.7627, 2.7439, 2.743, 2.69, 2.734, 2.7031, 2.6785, 2.5499, 2.6591, 2.645, 2.626, 2.6161, 2.5613, 2.6072, 2.3827, 2.4341, 2.466, 2.3683, 2.2051, 2.5977, 2.3779, 2.4435, 2.224, 2.4962, 2.0877, 2.0837, 2.363, 2.4055, 2.2693, 1.6353, 1.6354, 1.184, 1.8343, 1.3976, 3.5827, 3.5827, 3.5826, 3.5822, 3.5822, 3.582, 3.5817, 3.5817, 3.5816, 3.5806, 3.5806, 3.5806, 3.5805, 3.5804, 3.58, 3.58, 3.5795, 3.5791, 3.579, 3.5789, 3.5789, 3.5786, 3.5785, 3.5783, 3.5783, 3.5779, 3.5779, 3.5774, 3.5773, 3.5769, 3.5603, 3.5408, 3.474, 3.3434, 3.2859, 3.4317, 2.7822, 2.6642, 2.8143, 3.1254, 3.0117, 2.5037, 2.929, 2.2547, 2.8589, 2.2216, 2.0213, 2.2472, 1.8206, 2.1501, 0.9165, 1.0435, 1.8805, 1.3754, 1.3806, 0.5685, 1.3169, 3.6082, 3.6082, 3.6081, 3.608, 3.6075, 3.6071, 3.607, 3.6069, 3.6068, 3.6064, 3.6061, 3.606, 3.6057, 3.6056, 3.6049, 3.6049, 3.6048, 3.6043, 3.6038, 3.6037, 3.6036, 3.6035, 3.6032, 3.6027, 3.6025, 3.6024, 3.6021, 3.602, 3.6016, 3.6014, 3.5725, 3.4992, 3.301, 3.3546, 3.24, 3.4644, 3.0169, 3.3424, 3.448, 3.0761, 2.5102, 2.3914, 3.0826, 1.3199, 2.459, 1.5901, 2.1802, 1.8254, 2.4563, 1.2253, 1.0865, 1.4327, 1.2542, 1.8144, 1.546, 0.7329, 0.2785, 3.6124, 3.6122, 3.6122, 3.6121, 3.612, 3.6119, 3.6117, 3.6117, 3.6114, 3.6114, 3.6113, 3.6113, 3.6112, 3.6112, 3.6112, 3.6112, 3.6111, 3.6111, 3.6108, 3.6107, 3.6106, 3.6106, 3.6105, 3.6103, 3.6102, 3.6099, 3.6098, 3.6098, 3.6097, 3.6096, 3.5827, 3.5488, 3.4591, 3.3797, 3.2969, 3.3404, 3.4095, 3.3682, 3.2659, 2.8723, 3.1579, 2.8972, 2.4042, 1.8553, 2.5021, 2.3583, 2.2797, 1.9051, 1.979, 1.8604, 2.1277, 2.2735, 3.6393, 3.639, 3.6389, 3.6385, 3.6384, 3.6384, 3.6382, 3.6382, 3.6382, 3.6381, 3.6381, 3.638, 3.6379, 3.6377, 3.6377, 3.6377, 3.6376, 3.6376, 3.6374, 3.6372, 3.6372, 3.6371, 3.6371, 3.637, 3.637, 3.6369, 3.6368, 3.6367, 3.6366, 3.6366, 3.569, 3.403, 3.5005, 3.4775, 3.3975, 3.4163, 3.4533, 2.4864, 2.5678, 3.0409, 2.5004, 2.6381, 2.943, 2.4496, 2.4712, 2.2572, 2.9858, 2.9139, 1.2592, 1.1205, 1.4625, 0.6003, 0.8475, 0.8643, 1.4791, 3.7318, 3.7318, 3.7316, 3.7314, 3.7313, 3.7313, 3.7311, 3.7309, 3.7309, 3.7308, 3.7308, 3.7301, 3.7296, 3.7294, 3.7289, 3.7288, 3.7287, 3.7286, 3.728, 3.728, 3.7276, 3.7273, 3.7272, 3.7271, 3.7263, 3.7259, 3.7256, 3.7253, 3.7249, 3.7243, 3.6265, 3.6385, 3.4848, 3.5682, 3.1779, 3.2762, 2.846, 2.5355, 3.2713, 2.5926, 2.5413, 3.2762, 2.6113, 1.4384, 2.3599, 2.242, 1.8657, 1.053, 1.4247, 1.7937, 1.1899, 3.7361, 3.736, 3.7359, 3.7358, 3.7358, 3.7357, 3.7356, 3.7356, 3.7356, 3.7355, 3.7354, 3.7354, 3.7354, 3.7354, 3.7353, 3.735, 3.7349, 3.7349, 3.7349, 3.7349, 3.7345, 3.7345, 3.7344, 3.7341, 3.7339, 3.7339, 3.7337, 3.7337, 3.7336, 3.7335, 3.5517, 3.5695, 3.6042, 3.4182, 3.5114, 3.5699, 3.4196, 3.3353, 3.5326, 3.4827, 3.4639, 3.2052, 3.3614, 3.4006, 3.0329, 3.1077, 2.5837, 1.3852, 2.8238, 2.7685, 2.2938, 2.1609, 1.7501, 1.4929, 1.662, 2.4567, 1.2953, 1.3127, 3.7792, 3.779, 3.779, 3.779, 3.7789, 3.7787, 3.7786, 3.7786, 3.7783, 3.7783, 3.7782, 3.7775, 3.7775, 3.7772, 3.7771, 3.777, 3.7766, 3.7759, 3.7753, 3.7753, 3.7745, 3.7742, 3.7741, 3.7741, 3.7736, 3.7735, 3.7735, 3.7724, 3.7716, 3.7716, 3.2238, 3.4345, 3.6402, 3.0303, 2.9324, 3.6612, 3.0941, 2.7268, 2.3126, 2.3331, 2.7935, 2.153, 2.0486, 2.5708, 1.8754, 0.2717, 0.01, 0.4187, 1.772, 0.5555, 3.8205, 3.8204, 3.8203, 3.8203, 3.8202, 3.8199, 3.8195, 3.8195, 3.8193, 3.8193, 3.8188, 3.8186, 3.8185, 3.8185, 3.8184, 3.8181, 3.8181, 3.818, 3.8177, 3.8173, 3.8167, 3.8164, 3.8155, 3.8154, 3.8152, 3.8149, 3.8144, 3.8143, 3.8142, 3.814, 3.7202, 3.4946, 3.5162, 3.559, 3.5857, 3.6641, 3.6393, 3.421, 3.1856, 3.0988, 3.1805, 3.1763, 3.5681, 3.451, 3.2516, 3.5345, 3.0904, 3.2827, 2.6079, 2.4997, 2.702, 2.6056, 1.6992, 2.6303, 2.4613, 2.3325, 1.3873, 3.847, 3.847, 3.8469, 3.8466, 3.8464, 3.8462, 3.8462, 3.8459, 3.8458, 3.8458, 3.8457, 3.8455, 3.8454, 3.8451, 3.8451, 3.8445, 3.8444, 3.844, 3.8437, 3.8437, 3.8435, 3.8433, 3.8427, 3.8425, 3.8415, 3.841, 3.841, 3.8409, 3.8409, 3.8408, 3.7668, 3.7046, 3.7369, 3.6922, 3.7542, 3.5729, 3.2628, 3.1005, 3.0077, 3.6314, 2.9497, 2.5765, 3.503, 2.3685, 2.937, 3.1152, 3.0106, 1.5631, 1.2814, 1.4917, 1.9514, 1.3754, 3.8528, 3.8527, 3.8525, 3.8522, 3.8521, 3.8516, 3.8513, 3.8512, 3.8511, 3.8508, 3.8507, 3.8506, 3.8504, 3.8498, 3.8485, 3.8483, 3.8482, 3.848, 3.848, 3.8476, 3.8464, 3.8458, 3.8457, 3.8455, 3.8455, 3.8452, 3.844, 3.8438, 3.8437, 3.843, 3.7956, 3.7098, 3.6833, 3.707, 3.7179, 3.5119, 3.6944, 3.5099, 3.6271, 3.1808, 2.6381, 1.869, 3.1403, 1.4917, 2.3981, 1.7599, 2.2463, 1.7048, 2.4598, 1.8452, 2.9353, 1.3114, 1.107, 1.8042, 0.4788, 1.1288, 1.1268, 3.9345, 3.9344, 3.9337, 3.9337, 3.9333, 3.9332, 3.9323, 3.9322, 3.9321, 3.9318, 3.9316, 3.9316, 3.9304, 3.9299, 3.9297, 3.9295, 3.9289, 3.9285, 3.9279, 3.9278, 3.927, 3.9254, 3.9253, 3.9253, 3.9251, 3.9246, 3.9241, 3.924, 3.9236, 3.9235, 3.8872, 3.7157, 3.6911, 3.7426, 3.6522, 3.7557, 3.6035, 3.2941, 3.613, 3.0576, 3.2455, 2.8053, 2.7321, 2.929, 3.2607, 1.5613, 1.2341, 2.0142, 1.9364, 1.8872, 0.4318, 2.2776, 3.9707, 3.9706, 3.9706, 3.9705, 3.9705, 3.9703, 3.9703, 3.9703, 3.97, 3.9699, 3.9699, 3.9698, 3.9695, 3.9695, 3.9693, 3.9693, 3.9693, 3.9693, 3.969, 3.9687, 3.9686, 3.9685, 3.9681, 3.9678, 3.9678, 3.9677, 3.9676, 3.9672, 3.9667, 3.9664, 3.9141, 3.7008, 3.6728, 3.3745, 1.8352, 1.3794, 0.4396, 1.9057, 1.5694, 3.9764, 3.9757, 3.9755, 3.9753, 3.9746, 3.9744, 3.9744, 3.9743, 3.9742, 3.974, 3.974, 3.9734, 3.9734, 3.9733, 3.9733, 3.9733, 3.973, 3.973, 3.9728, 3.9727, 3.9721, 3.9716, 3.9714, 3.9713, 3.9713, 3.971, 3.9704, 3.9702, 3.9699, 3.9694, 3.9423, 3.9106, 3.7934, 3.8178, 3.7507, 3.5576, 3.6497, 3.4623, 3.6427, 3.3905, 3.1846, 2.493, 2.5108, 1.824, 1.608, 1.6213, 2.8931, 1.7254, 1.9581, 0.3285, 1.497, 0.8547, 0.181, 1.4577, 3.9808, 3.9807, 3.9807, 3.9806, 3.9806, 3.9805, 3.9805, 3.9805, 3.9804, 3.9802, 3.98, 3.9798, 3.9793, 3.9792, 3.9791, 3.9791, 3.9788, 3.9788, 3.9785, 3.9785, 3.9782, 3.9781, 3.9778, 3.9778, 3.9778, 3.9777, 3.9777, 3.9776, 3.9776, 3.9772, 3.9638, 3.7636, 3.7999, 3.7804, 3.8408, 3.8366, 3.6231, 3.755, 3.6872, 3.2304, 2.718, 2.4157, 1.5305, 2.2948, 2.0167, 1.8425, 2.5599, 2.4503, 1.3266, 1.5099, 4.0231, 4.0228, 4.0222, 4.0215, 4.0212, 4.0207, 4.0205, 4.0203, 4.02, 4.0195, 4.0193, 4.0192, 4.0186, 4.0185, 4.0183, 4.0179, 4.0177, 4.0174, 4.0173, 4.0171, 4.0162, 4.0161, 4.0161, 4.016, 4.0158, 4.0157, 4.0157, 4.0156, 4.0152, 4.0151, 3.9744, 3.9291, 3.6042, 3.7997, 3.8016, 3.4963, 3.7497, 3.743, 3.4343, 3.2277, 2.3094, 3.1607, 2.3184, 2.9714, 2.063, 3.46, 2.3482, 2.3292, 2.6514, 0.5116, 0.8842, 4.0367, 4.0367, 4.0366, 4.0362, 4.0358, 4.0355, 4.0353, 4.0347, 4.0339, 4.0336, 4.0333, 4.0333, 4.0333, 4.0333, 4.033, 4.0329, 4.0327, 4.0326, 4.0324, 4.0319, 4.0317, 4.0317, 4.0317, 4.0316, 4.0316, 4.0314, 4.0311, 4.0311, 4.0308, 4.0306, 4.0187, 3.9127, 3.8924, 3.9087, 3.5057, 3.7483, 2.979, 3.2384, 3.3063, 2.5531, 1.3754, 2.1949, 2.056, 2.6728, 1.6253, 2.4786, 1.2142, 2.6356, 0.6221, 2.5573, -0.0656, 0.5861, 1.1973, 0.8037, 4.0457, 4.0455, 4.0452, 4.0452, 4.045, 4.0449, 4.0449, 4.0448, 4.0442, 4.044, 4.0435, 4.0431, 4.0428, 4.0427, 4.0425, 4.0422, 4.0418, 4.0417, 4.0417, 4.0406, 4.0405, 4.0403, 4.0403, 4.0401, 4.0397, 4.0389, 4.0383, 4.0383, 4.0379, 4.0374, 4.0189, 4.0065, 3.915, 3.7026, 3.7019, 2.7374, 2.2621, 2.4885, 2.3745, 1.5314, 2.3588, 2.6891, 2.3563, 0.7351, 2.0362, 2.4121, 4.0503, 4.0501, 4.0499, 4.0497, 4.0496, 4.0495, 4.0495, 4.0493, 4.049, 4.049, 4.0489, 4.0486, 4.0482, 4.0479, 4.0477, 4.0476, 4.0474, 4.0473, 4.0469, 4.0467, 4.0462, 4.0461, 4.0458, 4.0458, 4.0453, 4.0451, 4.045, 4.0448, 4.0418, 4.0414, 3.9506, 3.9839, 3.8611, 3.9817, 3.5159, 3.4901, 3.834, 3.4509, 1.9983, 1.9113, 1.1014, 1.3781, 1.5103, 1.7744, 2.0737, 1.8808, 1.1089, 1.5839, 0.6975, 4.1279, 4.1277, 4.1277, 4.1258, 4.1254, 4.1254, 4.125, 4.1238, 4.1234, 4.1231, 4.1228, 4.1219, 4.1217, 4.1217, 4.1214, 4.1214, 4.1212, 4.1211, 4.1208, 4.1197, 4.1193, 4.119, 4.1189, 4.1188, 4.1187, 4.1186, 4.118, 4.118, 4.1161, 4.1132, 4.0754, 4.0273, 4.0297, 4.0197, 3.0568, 3.4266, 3.1476, 2.6683, 2.7159, 1.9609, 2.9477, 1.2556, 2.8842, 1.21, 1.4641, 1.1197, 1.5063, 1.8608, 1.1912, 0.2912, 0.4836, 0.4706, 4.1815, 4.1814, 4.1813, 4.1812, 4.181, 4.1808, 4.1806, 4.1801, 4.1798, 4.1796, 4.1793, 4.1793, 4.1792, 4.1792, 4.1792, 4.1791, 4.179, 4.1789, 4.1786, 4.1786, 4.1784, 4.1783, 4.1782, 4.1773, 4.1765, 4.1762, 4.1762, 4.176, 4.1758, 4.1756, 4.1468, 3.9617, 3.9803, 3.8666, 3.7798, 3.5176, 3.0909, 3.1543, 2.963, 3.7142, 2.4323, 2.0327, 0.8771, 1.6888, 1.7133, 1.2053, 0.5663, 1.6661, 4.1877, 4.1874, 4.1873, 4.187, 4.187, 4.1869, 4.1869, 4.1868, 4.1866, 4.1865, 4.1864, 4.1864, 4.1863, 4.1863, 4.1863, 4.1863, 4.1862, 4.1859, 4.1859, 4.1858, 4.1856, 4.1856, 4.1853, 4.1852, 4.185, 4.185, 4.1849, 4.1847, 4.1847, 4.1844, 4.1646, 4.0409, 3.79, 3.8775, 3.8807, 3.74, 3.7117, 3.9842, 3.5048, 3.4989, 3.516, 3.7368, 2.5273, 2.4389, 1.5666, 1.5473, 2.8692, 1.5216, 4.19, 4.1899, 4.1898, 4.1898, 4.1898, 4.1896, 4.189, 4.189, 4.1889, 4.1889, 4.1887, 4.1886, 4.1883, 4.1881, 4.188, 4.1879, 4.1875, 4.1875, 4.1871, 4.1871, 4.1871, 4.187, 4.1869, 4.1868, 4.1861, 4.1859, 4.1852, 4.185, 4.185, 4.1844, 4.1821, 4.0322, 3.8357, 3.7581, 4.0423, 3.6749, 3.6598, 2.402, 1.7122, 2.5022, 2.7404, 1.4308, 0.9192, 0.0172, 0.7905, 4.1901, 4.19, 4.1898, 4.1894, 4.1892, 4.189, 4.1887, 4.1878, 4.1878, 4.1874, 4.1872, 4.1869, 4.1868, 4.186, 4.1858, 4.1858, 4.1858, 4.1856, 4.1852, 4.1841, 4.1839, 4.1838, 4.1838, 4.1836, 4.1836, 4.1836, 4.1834, 4.1833, 4.1832, 4.1831, 4.1056, 4.1485, 4.1397, 4.1534, 4.1623, 4.14, 4.0475, 3.9439, 3.7025, 3.3087, 3.2111, 2.9907, 2.8155, 2.5421, 2.5615, 3.2361, 2.7003, 2.9272, 2.2494, 1.8729, 2.6942, 2.6726, 4.2138, 4.2135, 4.2134, 4.2133, 4.2132, 4.2128, 4.2126, 4.2126, 4.2124, 4.2124, 4.2123, 4.2118, 4.2115, 4.2111, 4.211, 4.2108, 4.2107, 4.2106, 4.2105, 4.2102, 4.2101, 4.2097, 4.2097, 4.2096, 4.2096, 4.2095, 4.2093, 4.2091, 4.209, 4.2087, 4.1864, 4.1243, 3.8854, 4.0564, 3.9816, 2.4553, 3.0117, 2.5321, 2.2279, 2.5123, 2.777, 2.9973, 2.2282, 2.6739, 2.2009, 1.7656, 4.2333, 4.2333, 4.233, 4.2329, 4.2327, 4.232, 4.2319, 4.2315, 4.2314, 4.2312, 4.2306, 4.2301, 4.2299, 4.2299, 4.2298, 4.2298, 4.2296, 4.2283, 4.2281, 4.2278, 4.2275, 4.2273, 4.227, 4.2265, 4.2264, 4.2263, 4.2263, 4.2256, 4.2256, 4.2253, 4.2016, 4.2185, 4.1639, 4.0517, 4.1047, 4.0608, 2.7888, 3.9589, 2.2958, 2.5078, 2.8687, 2.0354, 1.0278, 1.9272, 1.1516, 1.1082, 1.006, 0.9258, 0.5768, 0.9466, 1.5854, 4.2382, 4.238, 4.2375, 4.2371, 4.2371, 4.2371, 4.2364, 4.2358, 4.2358, 4.2357, 4.2354, 4.2354, 4.2353, 4.235, 4.234, 4.2336, 4.2335, 4.2331, 4.233, 4.2326, 4.2326, 4.2318, 4.2314, 4.2307, 4.2296, 4.2274, 4.2272, 4.2266, 4.2265, 4.2259, 4.2141, 3.9665, 3.812, 3.9861, 3.3356, 3.5209, 3.7813, 3.0876, 2.5774, 2.6381, 0.7, 2.4649, 1.894, 2.0583, 2.1549, 2.1745, 4.2458, 4.2454, 4.2452, 4.245, 4.245, 4.2449, 4.2449, 4.2448, 4.2448, 4.2447, 4.2447, 4.2445, 4.2442, 4.244, 4.2437, 4.2436, 4.2432, 4.243, 4.2428, 4.2428, 4.2427, 4.2426, 4.2425, 4.2424, 4.2423, 4.242, 4.2415, 4.2413, 4.2405, 4.2404, 3.9966, 3.8461, 3.8632, 4.1052, 3.6626, 3.6933, 4.0128, 3.5191, 3.1093, 3.2295, 2.6828, 1.2657, 4.2867, 4.2866, 4.2866, 4.2865, 4.2863, 4.2862, 4.2861, 4.2858, 4.2855, 4.2854, 4.2853, 4.2851, 4.2848, 4.2847, 4.2845, 4.2843, 4.2839, 4.2838, 4.2837, 4.2836, 4.2833, 4.2832, 4.2829, 4.2828, 4.2827, 4.2825, 4.2825, 4.2824, 4.282, 4.282, 4.254, 4.2418, 4.2145, 4.2316, 4.1402, 4.1145, 4.0235, 4.0763, 4.1624, 3.7431, 3.4235, 3.2291, 4.0055, 2.0576, 3.7315, 2.1323, 2.0038, 1.7007, 4.2986, 4.2985, 4.2984, 4.2984, 4.2984, 4.2978, 4.2977, 4.2974, 4.2974, 4.2973, 4.2968, 4.2965, 4.2964, 4.2963, 4.2961, 4.2956, 4.2955, 4.2946, 4.2942, 4.2934, 4.2921, 4.2909, 4.2907, 4.2905, 4.2905, 4.2899, 4.2897, 4.2894, 4.2888, 4.2888, 4.2536, 4.1734, 4.073, 3.9269, 3.9079, 4.1156, 3.4631, 2.6039, 2.1608, 2.1486, 0.6704, 0.7769, 1.006, 0.4084, 2.0306, 4.3022, 4.3022, 4.3019, 4.3016, 4.3016, 4.3016, 4.3015, 4.3014, 4.3014, 4.3014, 4.3012, 4.3011, 4.3009, 4.3007, 4.3007, 4.3006, 4.3006, 4.3004, 4.3003, 4.3003, 4.3002, 4.3001, 4.3001, 4.3001, 4.2999, 4.2994, 4.2989, 4.2987, 4.2979, 4.2977, 4.2812, 4.2391, 4.1546, 3.9516, 3.8927, 3.9342, 3.6631, 4.1865, 4.0226, 3.5402, 3.9575, 3.09, 1.9533, 2.6987, 2.1659, 4.3066, 4.3062, 4.3059, 4.3056, 4.3055, 4.3051, 4.3051, 4.3051, 4.3044, 4.3039, 4.3031, 4.3014, 4.2999, 4.2998, 4.2998, 4.298, 4.2956, 4.2938, 4.2929, 4.2908, 4.2893, 4.2885, 4.2882, 4.2881, 4.2873, 4.2801, 4.2759, 4.2756, 4.2705, 4.2634, 4.1858, 4.1711, 4.1457, 3.8737, 4.1473, 4.0788, 3.988, 3.83, 3.2964, 3.6863, 2.994, 2.4981, 3.0321, 1.5846, 2.6141, 3.3672, 1.525, 1.1591, 2.0553, 2.1992, 0.9861, 2.2883, 2.0015, 4.3237, 4.3236, 4.3235, 4.3235, 4.3235, 4.3234, 4.3234, 4.3234, 4.3233, 4.3233, 4.323, 4.323, 4.3229, 4.3227, 4.3227, 4.3226, 4.3226, 4.3225, 4.3225, 4.3225, 4.3224, 4.3223, 4.3221, 4.3221, 4.322, 4.322, 4.3219, 4.3218, 4.3217, 4.3216, 3.6393, 3.0821, 2.1686, 2.4782, 2.1304, 2.3404, 2.7363, 0.9261, 4.3255, 4.3249, 4.3248, 4.3237, 4.3232, 4.3227, 4.3227, 4.3226, 4.3223, 4.3221, 4.3217, 4.3216, 4.3215, 4.321, 4.321, 4.3207, 4.3204, 4.3198, 4.3197, 4.3192, 4.319, 4.3184, 4.3183, 4.318, 4.3178, 4.3177, 4.3175, 4.3175, 4.317, 4.3165, 4.3, 4.2393, 4.2437, 4.0961, 4.1294, 4.1651, 3.9157, 4.0598, 3.9357, 2.6465, 2.3433, 2.9476, 2.769, 1.3297, 1.1847, 1.4276, 1.1607, 2.3403, 2.2681, 0.5201, 4.3836, 4.3834, 4.3832, 4.3831, 4.383, 4.383, 4.3829, 4.3826, 4.3823, 4.3822, 4.3822, 4.382, 4.382, 4.3818, 4.3815, 4.3813, 4.3811, 4.3807, 4.3803, 4.3803, 4.3801, 4.3794, 4.3791, 4.3791, 4.3791, 4.379, 4.3786, 4.3785, 4.3784, 4.3782, 4.1909, 4.1865, 4.049, 4.0284, 4.0844, 4.0412, 3.7768, 3.2478, 3.816, 3.6755, 3.51, 3.8426, 2.9683, 2.6816, 2.161, 1.606, 4.4204, 4.4203, 4.4201, 4.42, 4.4198, 4.4195, 4.4194, 4.4188, 4.4187, 4.4184, 4.4183, 4.418, 4.4174, 4.4169, 4.4167, 4.4167, 4.4166, 4.4155, 4.415, 4.4137, 4.4134, 4.4121, 4.4121, 4.4113, 4.4099, 4.4094, 4.4086, 4.4072, 4.4037, 4.4034, 4.3905, 4.3007, 4.3069, 2.9121, 1.6325, 0.7309, 1.8529, 1.4237, 2.0059, 4.4402, 4.4401, 4.4401, 4.44, 4.4399, 4.4398, 4.4398, 4.4395, 4.4395, 4.4395, 4.4394, 4.4392, 4.4391, 4.4391, 4.4387, 4.4382, 4.438, 4.438, 4.4375, 4.4372, 4.4371, 4.437, 4.4365, 4.4365, 4.4359, 4.4359, 4.4358, 4.4356, 4.4353, 4.4347, 4.0254, 3.2386, 3.4147, 3.2872, 2.8086, 1.9319, 2.2594, 2.2291, 0.8821, 1.9482, 3.0393, 0.8112, 1.4252, 4.468, 4.4678, 4.4677, 4.4677, 4.467, 4.467, 4.467, 4.467, 4.4668, 4.4667, 4.4667, 4.4665, 4.4651, 4.4649, 4.4641, 4.4639, 4.4635, 4.4633, 4.463, 4.4626, 4.4619, 4.4619, 4.4615, 4.4613, 4.4598, 4.4593, 4.4592, 4.4574, 4.4573, 4.4569, 4.2126, 4.1104, 4.234, 4.1121, 4.209, 4.0693, 4.2714, 3.6559, 3.74, 4.1743, 3.3898, 3.3859, 2.7784, 1.4466, 2.56, 4.4729, 4.4728, 4.4727, 4.4726, 4.4725, 4.4721, 4.4721, 4.4719, 4.4718, 4.4715, 4.4714, 4.4714, 4.4713, 4.4713, 4.4708, 4.4706, 4.4702, 4.47, 4.4698, 4.4696, 4.4695, 4.4694, 4.4694, 4.4691, 4.4689, 4.4685, 4.4685, 4.4683, 4.4679, 4.4676, 4.2362, 4.139, 3.9539, 4.4804, 4.4803, 4.48, 4.4798, 4.4796, 4.4795, 4.4791, 4.4786, 4.4786, 4.4786, 4.4785, 4.478, 4.4768, 4.4768, 4.4765, 4.4759, 4.4753, 4.4751, 4.4748, 4.474, 4.4731, 4.4731, 4.4731, 4.473, 4.4721, 4.4711, 4.47, 4.4699, 4.4691, 4.469, 4.447, 4.3067, 4.3675, 4.375, 4.189, 4.25, 4.3929, 4.1989, 4.2086, 4.0593, 2.941, 2.4118, 1.1689, 3.4668, 1.6631, 1.4866, 1.1447, 1.9018, 4.4854, 4.4853, 4.4852, 4.4852, 4.485, 4.484, 4.484, 4.4839, 4.4837, 4.4836, 4.483, 4.483, 4.483, 4.4823, 4.4823, 4.482, 4.4817, 4.4812, 4.4805, 4.4803, 4.48, 4.4798, 4.4797, 4.4795, 4.4794, 4.4793, 4.4792, 4.4788, 4.4787, 4.4784, 4.4488, 4.3987, 4.3837, 4.2699, 3.8455, 4.0882, 4.1337, 4.2069, 4.1318, 3.8164, 4.1048, 2.8288, 2.7845, 0.8412, 1.9037, 4.4956, 4.4956, 4.4955, 4.4955, 4.4954, 4.4952, 4.4951, 4.4947, 4.4946, 4.4945, 4.4945, 4.4944, 4.4943, 4.4943, 4.494, 4.4938, 4.4934, 4.4932, 4.4929, 4.4929, 4.4926, 4.4922, 4.4919, 4.4912, 4.491, 4.4908, 4.4908, 4.49, 4.4899, 4.4895, 4.3515, 4.0889, 4.2659, 3.6325, 3.6774, 3.5963, 3.8654, 3.7314, 2.5978, 1.8738, 1.0827, 1.8554, 4.4975, 4.4972, 4.4972, 4.4971, 4.4969, 4.4969, 4.4965, 4.4958, 4.4957, 4.4955, 4.4955, 4.4949, 4.4947, 4.4945, 4.4942, 4.4941, 4.4936, 4.4935, 4.4926, 4.492, 4.4919, 4.4916, 4.491, 4.4909, 4.4903, 4.4903, 4.4902, 4.4902, 4.4899, 4.4899, 4.0067, 4.2272, 4.0295, 3.7514, 3.1106, 3.48, 2.35, 2.846, 3.1659, 2.8646, 3.0516, 1.5165, 2.1834, 1.3823, 1.9142, 4.5366, 4.5364, 4.5364, 4.5363, 4.5362, 4.5362, 4.5359, 4.5359, 4.5358, 4.5356, 4.5354, 4.535, 4.535, 4.5349, 4.5348, 4.5347, 4.5346, 4.5343, 4.5342, 4.5337, 4.5337, 4.5333, 4.5333, 4.533, 4.5321, 4.5318, 4.5316, 4.5311, 4.5308, 4.5301, 4.5062, 4.4938, 4.4766, 4.2768, 4.3673, 4.2233, 4.1748, 4.0067, 4.3014, 4.1635, 3.885, 4.1876, 3.4433, 1.8077, 3.7025, 4.5452, 4.545, 4.5447, 4.5447, 4.5447, 4.5445, 4.5444, 4.5443, 4.5441, 4.5439, 4.5436, 4.5435, 4.5435, 4.5434, 4.5433, 4.5433, 4.5427, 4.5424, 4.5422, 4.5421, 4.5421, 4.5418, 4.5417, 4.5412, 4.5411, 4.54, 4.54, 4.5399, 4.5398, 4.5397, 4.5076, 4.4357, 4.3555, 4.1632, 4.0925, 3.6421, 2.5045, 1.8812, 3.3769, 1.3267, 4.5683, 4.568, 4.5679, 4.5678, 4.5677, 4.5676, 4.5676, 4.5672, 4.5671, 4.567, 4.5669, 4.5666, 4.5663, 4.5661, 4.5656, 4.5655, 4.5654, 4.5648, 4.5642, 4.564, 4.5638, 4.5633, 4.5633, 4.5629, 4.5626, 4.5625, 4.5624, 4.5623, 4.562, 4.5617, 4.5414, 4.4002, 4.2162, 4.3931, 4.043, 3.3399, 3.9923, 4.0039, 3.0624, 1.5272, 2.758, 1.0213, 4.6038, 4.6035, 4.6034, 4.6032, 4.6024, 4.6007, 4.6006, 4.6006, 4.6004, 4.6001, 4.6001, 4.5997, 4.5992, 4.599, 4.5984, 4.5984, 4.5979, 4.5967, 4.5966, 4.5959, 4.5958, 4.5956, 4.5955, 4.5954, 4.5953, 4.5951, 4.5946, 4.5946, 4.5945, 4.5936, 4.5157, 4.4851, 4.3395, 4.3818, 4.3861, 4.1093, 4.1362, 3.6431, 3.6582, 4.3397, 2.8731, 3.0797, 2.5657, 2.0952, 1.6912, 4.6508, 4.6508, 4.6508, 4.6501, 4.6501, 4.6497, 4.6496, 4.6496, 4.6495, 4.6492, 4.6492, 4.6492, 4.6491, 4.6491, 4.649, 4.6487, 4.6487, 4.6484, 4.6481, 4.6472, 4.6466, 4.6464, 4.6462, 4.6459, 4.6451, 4.645, 4.6439, 4.6435, 4.6421, 4.642, 4.569, 4.5243, 4.5108, 4.3091, 4.0977, 4.4314, 4.0504, 4.2367, 4.3767, 4.2006, 2.7683, 2.4432, 4.6559, 4.6558, 4.6558, 4.6557, 4.6556, 4.6556, 4.6555, 4.6555, 4.6554, 4.6553, 4.6552, 4.655, 4.6546, 4.6543, 4.6542, 4.6541, 4.6538, 4.6537, 4.6535, 4.6532, 4.6531, 4.6528, 4.6524, 4.6517, 4.6517, 4.6516, 4.6513, 4.6511, 4.6503, 4.6501, 4.5117, 4.557, 4.3349, 4.33, 3.9011, 3.705, 3.2944, 2.6118, 2.6056, 3.3259, 1.9886, 4.6582, 4.6578, 4.6576, 4.6573, 4.6568, 4.6567, 4.6567, 4.6566, 4.6564, 4.6563, 4.6559, 4.6555, 4.6553, 4.655, 4.655, 4.6549, 4.6548, 4.6542, 4.6539, 4.6534, 4.6528, 4.6525, 4.6523, 4.6517, 4.6517, 4.6515, 4.6515, 4.6508, 4.6498, 4.6497, 4.5736, 4.3943, 4.3596, 4.3349, 4.2766, 4.3647, 3.2849, 3.0489, 2.8371, 3.035, 1.3979, 4.6784, 4.6783, 4.6781, 4.678, 4.6777, 4.6773, 4.6773, 4.6772, 4.6762, 4.6761, 4.676, 4.6757, 4.675, 4.6749, 4.6746, 4.6745, 4.6742, 4.6741, 4.674, 4.674, 4.6731, 4.6729, 4.6724, 4.6723, 4.6721, 4.672, 4.672, 4.6717, 4.6715, 4.6711, 4.6123, 4.4015, 4.5388, 4.2168, 4.2568, 4.2291, 4.0841, 4.1835, 2.3762, 2.361, 1.4961, 3.0387, 1.216, 2.3264, 0.8783, 1.9868, 4.679, 4.6789, 4.6788, 4.6788, 4.6787, 4.6783, 4.6783, 4.6782, 4.678, 4.6778, 4.6777, 4.6776, 4.6771, 4.6768, 4.6767, 4.6762, 4.6758, 4.6758, 4.6757, 4.6757, 4.6755, 4.6755, 4.6753, 4.6753, 4.6752, 4.6752, 4.6751, 4.6748, 4.6744, 4.6742, 4.2272, 3.8011, 3.3342, 2.6871, 1.9149, 2.2171, 1.4634, 2.4329, 1.0843, 2.1467, 1.9246, 1.1537, 4.7235, 4.7234, 4.7233, 4.7231, 4.7228, 4.7224, 4.7222, 4.7221, 4.7221, 4.722, 4.7219, 4.7217, 4.7214, 4.7214, 4.7212, 4.7212, 4.7208, 4.7206, 4.7206, 4.7204, 4.72, 4.7199, 4.7194, 4.7194, 4.7186, 4.7182, 4.7181, 4.7175, 4.7173, 4.7173, 4.6771, 4.6332, 4.5477, 4.6151, 4.3424, 4.2361, 3.9997, 4.5149, 4.1487, 4.5627, 4.251, 2.8986, 2.8852, 4.8159, 4.8158, 4.8157, 4.8156, 4.8156, 4.8153, 4.815, 4.8148, 4.8147, 4.8145, 4.8144, 4.8144, 4.8136, 4.8134, 4.8131, 4.8129, 4.8123, 4.8113, 4.8105, 4.8102, 4.8101, 4.8098, 4.8096, 4.8095, 4.8092, 4.8089, 4.8089, 4.8085, 4.8084, 4.8084, 4.4084, 4.2185, 3.8897, 4.2908, 2.1234, 3.4081, 1.927, 0.0759, 1.967, 1.4217, 4.832, 4.8314, 4.8314, 4.8312, 4.8312, 4.8311, 4.831, 4.8306, 4.8305, 4.8304, 4.8304, 4.8303, 4.8302, 4.8301, 4.8299, 4.8293, 4.8292, 4.829, 4.8289, 4.8289, 4.8279, 4.8277, 4.8274, 4.8268, 4.8266, 4.8264, 4.826, 4.8256, 4.8254, 4.8237, 4.6198, 4.4071, 4.5177, 3.9115, 3.7084, 3.3218, 1.4177, 1.7744, 4.8651, 4.865, 4.8648, 4.8647, 4.8644, 4.8644, 4.8643, 4.8639, 4.8639, 4.8636, 4.8635, 4.8634, 4.8631, 4.8625, 4.8623, 4.8621, 4.8619, 4.8619, 4.8613, 4.8612, 4.8609, 4.8606, 4.8603, 4.86, 4.8599, 4.8599, 4.8598, 4.8595, 4.8591, 4.859, 4.7099, 4.7583, 4.4611, 4.2876, 3.833, 4.0833, 3.8858, 2.1507, 2.7278, 1.1227, 4.8805, 4.8805, 4.88, 4.88, 4.88, 4.8791, 4.879, 4.8789, 4.8788, 4.8787, 4.8784, 4.8784, 4.8779, 4.8777, 4.8776, 4.8775, 4.8775, 4.8773, 4.8771, 4.877, 4.8763, 4.8763, 4.8755, 4.8754, 4.8753, 4.8746, 4.8734, 4.8712, 4.8708, 4.869, 4.631, 4.526, 4.5669, 4.6221, 4.4736, 4.2496, 4.049, 2.1233, 4.909, 4.9087, 4.9086, 4.9083, 4.9078, 4.9077, 4.9077, 4.9076, 4.9075, 4.9075, 4.9074, 4.9074, 4.9073, 4.9073, 4.9073, 4.9073, 4.9073, 4.9073, 4.9072, 4.9072, 4.9072, 4.9071, 4.9071, 4.907, 4.9069, 4.9068, 4.9068, 4.9066, 4.9066, 4.9065, 4.6684, 4.7129, 4.7436, 4.9157, 4.9152, 4.915, 4.9148, 4.9147, 4.914, 4.9139, 4.9134, 4.9133, 4.9132, 4.9131, 4.9129, 4.9129, 4.9127, 4.9125, 4.9125, 4.9123, 4.9123, 4.9121, 4.9113, 4.9111, 4.911, 4.9108, 4.9108, 4.9105, 4.9104, 4.9104, 4.91, 4.9098, 4.9095, 4.8168, 4.6605, 4.7344, 4.6011, 3.8929, 3.8216, 3.7858, 3.9973, 4.1149, 3.6342, 3.4058, 4.9857, 4.9855, 4.9853, 4.985, 4.985, 4.9849, 4.9848, 4.9846, 4.9844, 4.9843, 4.9841, 4.984, 4.984, 4.9835, 4.9831, 4.9825, 4.9822, 4.9819, 4.9817, 4.9815, 4.9812, 4.9806, 4.9803, 4.9786, 4.9765, 4.9761, 4.9758, 4.9757, 4.9751, 4.973, 4.4777, 4.4331, 4.6781, 4.1291, 4.2429, 4.0865, 4.2987, 2.963, 2.4533, 3.1268, 5.0281, 5.0277, 5.0276, 5.0276, 5.0271, 5.027, 5.027, 5.027, 5.0269, 5.0265, 5.0263, 5.0263, 5.0262, 5.0259, 5.0258, 5.0255, 5.0253, 5.0246, 5.0246, 5.0242, 5.024, 5.0236, 5.0235, 5.0234, 5.0234, 5.0233, 5.0232, 5.0231, 5.023, 5.0224, 4.9803, 4.8787, 4.7562, 4.6284, 4.6159, 4.7195, 4.699, 4.6444, 4.3788, 4.6745, 4.4154, 3.3598, 3.9629, 5.0297, 5.0296, 5.0296, 5.029, 5.0287, 5.0284, 5.0283, 5.0282, 5.0282, 5.0279, 5.0277, 5.0277, 5.0276, 5.0275, 5.0273, 5.0267, 5.0265, 5.026, 5.025, 5.0248, 5.0246, 5.024, 5.024, 5.0239, 5.0233, 5.0226, 5.0223, 5.0218, 5.0216, 5.0215, 4.6145, 4.411, 4.273, 2.6815, 2.5214, 2.284, 5.0507, 5.0505, 5.0497, 5.0494, 5.0493, 5.0491, 5.0489, 5.048, 5.048, 5.0475, 5.0475, 5.0472, 5.0472, 5.0472, 5.0468, 5.0463, 5.0462, 5.0462, 5.0461, 5.0458, 5.0454, 5.0449, 5.0439, 5.0435, 5.0435, 5.0428, 5.0421, 5.042, 5.0417, 5.0408, 4.9012, 4.8038, 4.578, 4.6038, 4.8354, 4.6521, 2.7181, 5.1168, 5.1164, 5.1163, 5.1163, 5.1162, 5.1161, 5.1159, 5.1158, 5.1156, 5.1156, 5.1156, 5.1153, 5.1152, 5.1147, 5.1145, 5.1145, 5.1143, 5.1142, 5.1141, 5.1137, 5.1132, 5.113, 5.1124, 5.1124, 5.112, 5.1118, 5.1118, 5.1118, 5.1118, 5.1115, 5.0124, 4.8301, 4.8835, 4.4398, 5.1398, 5.1394, 5.1392, 5.1378, 5.1372, 5.1371, 5.137, 5.1365, 5.1363, 5.1363, 5.1361, 5.1359, 5.1356, 5.135, 5.135, 5.1348, 5.1347, 5.1346, 5.1344, 5.1342, 5.134, 5.1339, 5.1339, 5.1338, 5.1336, 5.1328, 5.1327, 5.1319, 5.1319, 5.1317, 4.8919, 4.8069, 5.2362, 5.2359, 5.2355, 5.2348, 5.2347, 5.2346, 5.2345, 5.2343, 5.2341, 5.234, 5.2335, 5.2333, 5.2332, 5.2332, 5.2328, 5.2328, 5.2327, 5.2326, 5.2325, 5.2325, 5.2321, 5.2316, 5.2315, 5.2315, 5.231, 5.231, 5.2309, 5.2309, 5.2304, 5.23, 5.0894, 5.1183, 5.0194, 5.0761, 4.5301, 4.7256, 5.2448, 5.2444, 5.2443, 5.244, 5.244, 5.2439, 5.2437, 5.2435, 5.2435, 5.2432, 5.2432, 5.2431, 5.2429, 5.2429, 5.2427, 5.2427, 5.2425, 5.2424, 5.2424, 5.2421, 5.2421, 5.2418, 5.2418, 5.2417, 5.2417, 5.241, 5.2409, 5.2407, 5.2407, 5.2406, 5.0406, 5.0353, 2.5231, 1.1895, 0.884, 5.2476, 5.2476, 5.2475, 5.2475, 5.2474, 5.2473, 5.2473, 5.2472, 5.2471, 5.247, 5.247, 5.2467, 5.2462, 5.2459, 5.2457, 5.2453, 5.2446, 5.2443, 5.2443, 5.244, 5.2434, 5.2434, 5.2432, 5.2427, 5.2426, 5.2425, 5.2424, 5.2421, 5.2421, 5.2413, 5.1754, 5.129, 4.9625, 4.8726, 4.844, 4.6736, 2.7543, 2.7499, 1.4091, 5.2894, 5.2892, 5.289, 5.2889, 5.2889, 5.2886, 5.2885, 5.2884, 5.2882, 5.2881, 5.288, 5.2872, 5.2868, 5.2868, 5.2867, 5.2864, 5.2863, 5.2862, 5.2861, 5.286, 5.286, 5.2858, 5.2858, 5.2855, 5.2846, 5.2843, 5.2839, 5.2838, 5.2835, 5.2833, 4.9896, 4.8654, 5.3359, 5.3359, 5.3356, 5.3352, 5.335, 5.335, 5.3348, 5.3348, 5.3346, 5.3344, 5.3341, 5.334, 5.3337, 5.3335, 5.3333, 5.333, 5.3329, 5.3325, 5.3321, 5.3313, 5.331, 5.3305, 5.3304, 5.3301, 5.3298, 5.3297, 5.3296, 5.3288, 5.3284, 5.3282, 5.1956, 4.9917, 5.0408, 5.1001, 4.7758, 5.3733, 5.373, 5.3729, 5.3729, 5.3728, 5.3725, 5.3723, 5.3722, 5.3719, 5.3718, 5.3716, 5.3716, 5.3716, 5.3714, 5.3713, 5.3713, 5.3711, 5.3711, 5.371, 5.3708, 5.3705, 5.3705, 5.3705, 5.3703, 5.3701, 5.3699, 5.3699, 5.369, 5.3686, 5.3682, 4.708, 5.4504, 5.4503, 5.4503, 5.45, 5.4499, 5.4498, 5.4497, 5.4497, 5.4495, 5.4495, 5.4493, 5.449, 5.4487, 5.4487, 5.4484, 5.4481, 5.4477, 5.4474, 5.4474, 5.4473, 5.4469, 5.4469, 5.4458, 5.4456, 5.4453, 5.4452, 5.4447, 5.4446, 5.4446, 5.4441, 5.3085, 4.9828, 5.4797, 5.4796, 5.4796, 5.4795, 5.4794, 5.4794, 5.4791, 5.4789, 5.4786, 5.4784, 5.4783, 5.4783, 5.4782, 5.478, 5.4778, 5.4777, 5.4776, 5.4773, 5.4773, 5.4772, 5.4771, 5.4771, 5.4767, 5.4765, 5.476, 5.4753, 5.4753, 5.475, 5.4748, 5.4745, 4.8848, 5.5171, 5.5167, 5.5166, 5.5162, 5.5161, 5.5161, 5.516, 5.5152, 5.5151, 5.5148, 5.5147, 5.5147, 5.5146, 5.5143, 5.5137, 5.5136, 5.5135, 5.5134, 5.5124, 5.5122, 5.512, 5.5119, 5.5117, 5.5114, 5.5114, 5.5111, 5.511, 5.5108, 5.5107, 5.5098, 5.3977, 5.3754, 5.3939, 4.7944, 5.6522, 5.6521, 5.6521, 5.652, 5.6517, 5.6516, 5.6512, 5.6512, 5.6512, 5.6511, 5.6511, 5.651, 5.6509, 5.6508, 5.6506, 5.6506, 5.6501, 5.6499, 5.6492, 5.649, 5.6488, 5.6486, 5.6485, 5.6485, 5.6483, 5.6483, 5.6482, 5.6482, 5.6479, 5.6476, 5.4403, 5.3749], \"logprob\": [30.0, 29.0, 28.0, 27.0, 26.0, 25.0, 24.0, 23.0, 22.0, 21.0, 20.0, 19.0, 18.0, 17.0, 16.0, 15.0, 14.0, 13.0, 12.0, 11.0, 10.0, 9.0, 8.0, 7.0, 6.0, 5.0, 4.0, 3.0, 2.0, 1.0, -4.6165, -5.0928, -5.1777, -5.2975, -5.3404, -5.4166, -5.5291, -5.5476, -5.5663, -5.599, -5.6059, -5.6208, -5.6492, -5.6837, -5.76, -5.7727, -5.9097, -5.9524, -6.0154, -6.0803, -6.0852, -6.1054, -6.1278, -6.1366, -6.162, -6.187, -6.1919, -6.1933, -6.2169, -6.2478, -4.7564, -4.7616, -5.2747, -4.0858, -5.3795, -4.7946, -4.3936, -3.3386, -4.6545, -4.7445, -4.6309, -4.6315, -4.2382, -4.7639, -3.6771, -4.0306, -4.2064, -4.1257, -3.5725, -5.0092, -4.3357, -4.6524, -4.1758, -4.8696, -3.9877, -4.0064, -4.6063, -4.8238, -4.6612, -4.3888, -4.4853, -4.2717, -4.6561, -4.5515, -2.5192, -2.7463, -3.5177, -4.4219, -4.4631, -4.667, -4.9887, -5.0181, -5.0636, -5.6905, -5.6908, -5.6947, -5.7318, -5.7874, -5.9362, -5.9606, -6.1103, -6.2114, -6.2428, -6.2732, -6.276, -6.3461, -6.3792, -6.4151, -6.4177, -6.4962, -6.5085, -6.6008, -6.6147, -6.686, -2.3125, -5.4201, -4.1122, -2.6807, -3.2815, -4.8776, -3.8434, -3.4742, -3.9601, -4.9813, -4.6741, -3.5843, -4.6397, -3.1128, -4.6802, -3.8121, -4.2028, -4.5214, -4.2035, -4.5662, -3.7903, -4.013, -4.5466, -4.5737, -4.7401, -4.6565, -4.7801, -3.8055, -3.8922, -4.1052, -4.3416, -4.9186, -5.2989, -5.326, -5.404, -5.4587, -5.6775, -5.7897, -5.8165, -5.9517, -5.9685, -6.1773, -6.1907, -6.2117, -6.3329, -6.4567, -6.4619, -6.4879, -6.5092, -6.5596, -6.6591, -6.6875, -6.7066, -6.7486, -6.7708, -6.8276, -6.861, -4.6037, -3.8559, -1.4058, -2.4223, -2.7595, -5.5757, -2.5706, -4.8486, -5.5879, -4.5595, -3.7832, -4.5762, -5.7995, -4.1358, -5.3401, -4.7329, -5.1464, -5.0424, -5.3677, -4.8954, -4.9376, -5.0754, -5.0507, -5.2397, -5.2249, -5.2162, -5.2397, -2.7215, -3.489, -3.8112, -3.9402, -4.1407, -4.3772, -4.6453, -4.6977, -4.9373, -4.9976, -5.0657, -5.0805, -5.1156, -5.1191, -5.1419, -5.1536, -5.1797, -5.2049, -5.4295, -5.4887, -5.4915, -5.504, -5.5647, -5.6721, -5.7121, -5.8399, -5.8833, -5.8838, -5.9116, -5.9514, -4.9559, -3.9567, -2.8629, -2.8163, -3.1159, -3.6058, -4.2026, -3.9892, -3.6112, -3.1615, -4.2759, -4.4026, -3.7506, -3.5849, -4.2892, -4.2076, -4.2143, -4.265, -4.3074, -4.4876, -4.6467, -4.8011, -2.5901, -3.9948, -4.1284, -4.6781, -4.8169, -4.8315, -5.0024, -5.0132, -5.0507, -5.082, -5.0987, -5.1369, -5.2227, -5.3463, -5.377, -5.3941, -5.4053, -5.4204, -5.5202, -5.6267, -5.6317, -5.6661, -5.6721, -5.7031, -5.7123, -5.7761, -5.7907, -5.8265, -5.8686, -5.8848, -3.3372, -3.4519, -4.573, -4.7165, -4.2652, -4.7842, -5.1354, -2.5754, -2.8294, -4.2746, -3.3322, -3.6659, -4.2638, -3.5177, -3.7713, -3.6653, -4.6831, -4.6275, -3.5056, -3.936, -4.5616, -4.5851, -4.6981, -4.7232, -4.8439, -2.2952, -2.6447, -3.5325, -4.1358, -4.2468, -4.3, -4.5315, -4.7442, -4.8143, -4.8672, -4.8692, -5.3777, -5.614, -5.68, -5.8603, -5.8911, -5.9416, -5.9725, -6.1346, -6.1359, -6.2276, -6.2916, -6.324, -6.339, -6.4963, -6.5596, -6.6122, -6.6522, -6.7116, -6.7889, -1.9508, -3.1519, -3.0469, -4.9434, -2.6623, -3.9058, -3.6241, -2.8613, -5.0569, -3.6925, -4.25, -5.5267, -4.6456, -3.3863, -4.6343, -4.6339, -4.4109, -4.0034, -4.5245, -4.9951, -5.0069, -4.5771, -4.7206, -4.7845, -4.8768, -4.9118, -4.9935, -5.0722, -5.0815, -5.0927, -5.1442, -5.1771, -5.1795, -5.1986, -5.2039, -5.2945, -5.4097, -5.4952, -5.4972, -5.4982, -5.501, -5.6422, -5.6506, -5.696, -5.8047, -5.8717, -5.8917, -5.927, -5.9438, -5.9633, -5.9992, -2.5208, -3.1862, -4.3142, -2.8858, -3.9871, -4.4626, -3.4563, -2.9498, -4.6036, -4.3942, -4.3273, -3.265, -4.2488, -4.4872, -4.3649, -4.5039, -3.9823, -3.4395, -4.5146, -4.643, -4.4036, -4.4293, -4.369, -4.2848, -4.5348, -4.7537, -4.737, -4.7774, -1.4809, -3.0145, -3.2571, -3.4227, -3.6007, -4.1243, -4.2153, -4.2529, -4.6274, -4.6729, -4.7391, -5.2391, -5.2741, -5.437, -5.4667, -5.525, -5.6626, -5.9101, -6.0744, -6.088, -6.2751, -6.3327, -6.3457, -6.3493, -6.4424, -6.4589, -6.464, -6.6398, -6.7443, -6.7468, -1.541, -3.6402, -5.5977, -4.0273, -3.8125, -6.1315, -5.0911, -4.5586, -4.2041, -4.459, -5.1071, -4.396, -4.5173, -5.0563, -4.692, -4.4601, -4.6968, -4.8063, -5.1305, -5.1514, -4.1122, -4.3521, -4.4032, -4.4283, -4.5565, -4.8782, -5.1114, -5.1526, -5.2383, -5.2593, -5.4971, -5.6014, -5.6377, -5.6401, -5.6485, -5.7588, -5.7728, -5.8127, -5.8824, -6.0173, -6.1437, -6.2121, -6.4007, -6.42, -6.4532, -6.4941, -6.5721, -6.5921, -6.6078, -6.6309, -4.7771, -2.051, -2.7146, -3.2292, -3.711, -4.9484, -5.1126, -3.6477, -2.3326, -1.9631, -3.9493, -4.0427, -5.21, -4.9783, -4.8316, -5.3445, -4.9974, -5.1844, -4.703, -4.6792, -4.9448, -4.8997, -4.6048, -4.9294, -4.9518, -4.9405, -4.8368, -2.0268, -2.2987, -2.5973, -3.9138, -4.3086, -4.4844, -4.49, -4.7994, -4.877, -4.9176, -4.9858, -5.1114, -5.1869, -5.3018, -5.3449, -5.5859, -5.6372, -5.7745, -5.867, -5.8745, -5.9245, -5.963, -6.1265, -6.159, -6.3723, -6.4531, -6.4536, -6.4663, -6.4726, -6.4807, -5.1031, -4.1491, -4.767, -5.1639, -5.8354, -4.7716, -3.2311, -3.0695, -3.0702, -5.4357, -4.1515, -3.4989, -5.308, -4.2499, -4.8871, -5.041, -5.1427, -4.4707, -4.7783, -4.8822, -5.0163, -5.1186, -2.0069, -2.5205, -3.5203, -4.2558, -4.43, -4.8929, -5.1179, -5.1767, -5.1907, -5.3455, -5.4241, -5.4749, -5.545, -5.7543, -6.1053, -6.1607, -6.1822, -6.2237, -6.2265, -6.3075, -6.5116, -6.5971, -6.6143, -6.6347, -6.6366, -6.6851, -6.8215, -6.8488, -6.863, -6.9316, -2.5313, -3.4034, -3.4009, -4.1205, -4.5345, -2.3192, -4.6465, -4.3427, -5.5346, -4.119, -3.8508, -3.356, -5.2015, -3.2731, -4.4698, -3.8276, -4.4159, -4.0838, -4.8747, -4.7353, -5.1498, -4.7127, -4.6699, -4.8573, -4.5776, -4.8385, -4.8727, -3.464, -3.8181, -4.7467, -4.747, -5.0148, -5.0735, -5.4857, -5.5552, -5.5794, -5.6817, -5.7332, -5.7427, -6.053, -6.1662, -6.197, -6.2443, -6.3444, -6.404, -6.5077, -6.5125, -6.6243, -6.8055, -6.819, -6.8201, -6.8375, -6.8911, -6.9343, -6.9503, -6.9798, -6.993, -1.8197, -1.109, -2.4565, -3.4662, -3.9344, -5.0608, -4.8969, -3.7635, -5.3935, -3.8103, -4.6852, -3.8131, -3.7759, -5.2271, -5.6843, -4.8126, -4.7997, -5.2672, -5.2455, -5.2852, -5.0864, -5.6324, -1.1083, -2.6952, -2.8145, -3.1457, -3.1546, -3.6175, -3.7499, -3.7765, -4.2133, -4.3286, -4.3401, -4.476, -4.711, -4.7356, -4.8524, -4.8749, -4.8871, -4.9072, -5.0992, -5.2244, -5.3029, -5.3141, -5.4844, -5.5945, -5.6018, -5.6304, -5.6633, -5.7974, -5.9244, -5.985, -3.1425, -4.1034, -5.1635, -5.0156, -4.9939, -5.1022, -5.0161, -5.2791, -5.2985, -2.2759, -4.3776, -4.5877, -4.7368, -5.172, -5.2872, -5.2977, -5.3151, -5.3706, -5.4317, -5.443, -5.6573, -5.6742, -5.6826, -5.708, -5.7083, -5.7876, -5.7909, -5.8381, -5.8507, -5.9987, -6.1073, -6.1464, -6.1703, -6.1705, -6.2395, -6.3322, -6.3706, -6.4184, -6.4858, -3.297, -2.9401, -1.9197, -3.4636, -3.7063, -2.3205, -3.1717, -2.4602, -4.5395, -4.7093, -4.4875, -4.0403, -4.295, -3.9413, -3.9102, -4.2652, -5.0497, -4.5055, -4.8938, -4.3782, -4.7964, -4.9584, -4.8754, -5.0912, -2.7743, -2.9491, -3.2816, -3.4344, -3.5298, -3.7634, -3.8011, -3.8127, -3.9657, -4.2713, -4.4126, -4.6254, -5.0092, -5.068, -5.1204, -5.1379, -5.2593, -5.2605, -5.3912, -5.4133, -5.5372, -5.5531, -5.6481, -5.6549, -5.6701, -5.6845, -5.7001, -5.7102, -5.7173, -5.8406, -3.14, -2.5229, -3.052, -3.6575, -4.3013, -4.4184, -3.5424, -4.4434, -4.9441, -4.3823, -4.1695, -4.3763, -3.9097, -4.6513, -4.6247, -4.6012, -4.8738, -4.9071, -4.8694, -4.9028, -3.6396, -4.1044, -4.7739, -5.1877, -5.3126, -5.495, -5.5745, -5.641, -5.7346, -5.8679, -5.9068, -5.9383, -6.0679, -6.0917, -6.1155, -6.1905, -6.2296, -6.2873, -6.3046, -6.3246, -6.4594, -6.4713, -6.4788, -6.4843, -6.5139, -6.5239, -6.5335, -6.5384, -6.5851, -6.6056, -1.2109, -4.2421, -1.793, -4.3433, -4.7117, -2.8077, -5.0692, -5.4269, -4.5046, -4.3954, -2.4553, -4.3807, -2.7381, -4.3553, -3.7139, -5.7087, -4.9628, -5.0022, -5.2454, -5.5784, -5.649, -2.4373, -2.4828, -3.1326, -3.9062, -4.4384, -4.72, -4.8598, -5.2271, -5.5118, -5.6211, -5.7032, -5.7132, -5.7191, -5.7225, -5.8045, -5.8221, -5.8754, -5.9059, -5.9417, -6.0449, -6.0818, -6.0871, -6.0896, -6.102, -6.1169, -6.1539, -6.195, -6.2, -6.2459, -6.2796, -2.4489, -3.1433, -3.1578, -4.4647, -1.8911, -4.1215, -3.119, -4.0771, -4.5904, -4.0275, -3.681, -4.6341, -4.6054, -5.1807, -4.6967, -5.1902, -4.7853, -5.2705, -4.7788, -5.3138, -4.8304, -5.0014, -5.1491, -5.1188, -2.5119, -3.4588, -3.9998, -4.0341, -4.318, -4.3657, -4.3925, -4.4949, -4.9302, -5.0556, -5.295, -5.4379, -5.572, -5.5987, -5.6501, -5.735, -5.8467, -5.8643, -5.8755, -6.0959, -6.1301, -6.1596, -6.1613, -6.1987, -6.2577, -6.3824, -6.4644, -6.4711, -6.524, -6.5857, -1.4068, -3.0839, -3.9749, -1.6649, -5.4355, -3.7793, -3.762, -4.2627, -4.7265, -4.5024, -5.0755, -5.3988, -5.4011, -5.0425, -5.4207, -5.6007, -2.4857, -3.3326, -3.7844, -4.0831, -4.2041, -4.3232, -4.3376, -4.498, -4.7468, -4.7921, -4.8476, -5.026, -5.2323, -5.3721, -5.42, -5.4695, -5.5513, -5.5607, -5.6942, -5.7399, -5.8824, -5.9052, -5.9594, -5.969, -6.0665, -6.1082, -6.1222, -6.1726, -6.5942, -6.6384, -1.9359, -3.9131, -1.952, -4.8965, -2.7267, -3.2548, -5.0479, -4.8404, -2.7084, -4.3936, -3.8467, -4.5104, -4.5917, -4.8878, -5.0561, -5.0359, -4.9811, -5.0884, -5.0678, -4.65, -4.7896, -4.7901, -5.5928, -5.7078, -5.7108, -5.8205, -6.0703, -6.131, -6.1904, -6.239, -6.3688, -6.3856, -6.3892, -6.4223, -6.429, -6.4542, -6.4616, -6.5053, -6.6253, -6.661, -6.6978, -6.7044, -6.7112, -6.7256, -6.734, -6.7879, -6.7913, -6.9484, -7.1445, -0.8727, -1.6546, -2.0026, -4.384, -2.8214, -4.7587, -4.2491, -4.9444, -5.6292, -5.0932, -5.9032, -5.0674, -5.9642, -5.3149, -5.4664, -5.3619, -5.595, -5.8801, -5.7781, -5.8295, -5.9163, -6.0234, -2.4705, -2.7991, -3.1959, -3.532, -3.9359, -4.148, -4.3173, -4.7382, -4.9446, -5.0474, -5.145, -5.1777, -5.1847, -5.1947, -5.2108, -5.2614, -5.2742, -5.3285, -5.4087, -5.4109, -5.5, -5.503, -5.5444, -5.7877, -5.9477, -6.0018, -6.0102, -6.0395, -6.0816, -6.1089, -2.6791, -2.0322, -2.4468, -2.6667, -4.2983, -4.0215, -4.1102, -4.4467, -4.3527, -5.2306, -4.5741, -4.7229, -4.641, -4.8192, -4.9841, -5.0187, -5.0212, -5.1024, -2.4952, -3.5863, -3.6787, -4.1201, -4.135, -4.227, -4.2401, -4.3542, -4.4914, -4.6332, -4.6978, -4.699, -4.7168, -4.7304, -4.7362, -4.7651, -4.7892, -4.9441, -4.9838, -5.0356, -5.1204, -5.1222, -5.2378, -5.266, -5.3355, -5.3626, -5.3685, -5.4525, -5.4612, -5.548, -4.6733, -4.2134, -2.3649, -3.4508, -3.883, -3.9664, -3.9922, -4.8255, -3.893, -4.1162, -4.3067, -4.7595, -4.2775, -4.2585, -4.2736, -4.5734, -4.6904, -4.6868, -2.5011, -3.1207, -3.2485, -3.2963, -3.4729, -3.7483, -4.4871, -4.5181, -4.5595, -4.5715, -4.6725, -4.7678, -4.9477, -5.0287, -5.0875, -5.1159, -5.2895, -5.3101, -5.4186, -5.4232, -5.4402, -5.4728, -5.4817, -5.5203, -5.7129, -5.7533, -5.918, -5.9447, -5.9582, -6.0643, -1.6203, -4.2375, -2.6081, -3.2203, -5.0713, -3.9698, -4.7901, -3.3111, -4.1009, -4.6894, -4.9388, -4.7393, -4.6265, -4.6896, -4.8913, -3.4643, -3.6084, -4.0404, -4.4653, -4.5574, -4.7162, -4.8864, -5.2993, -5.3275, -5.4386, -5.5112, -5.6045, -5.6301, -5.8093, -5.8492, -5.8639, -5.8641, -5.8965, -5.9691, -6.1609, -6.2039, -6.2098, -6.218, -6.2384, -6.2395, -6.2465, -6.2694, -6.2872, -6.2994, -6.3149, -1.114, -3.2412, -3.3805, -4.5743, -5.2579, -4.5807, -4.4582, -4.3726, -3.0863, -4.0227, -4.0923, -3.7065, -3.516, -3.482, -3.6352, -4.5694, -4.2722, -4.7262, -4.9327, -4.9153, -5.1827, -5.1795, -1.2869, -3.1184, -3.541, -3.5908, -3.8459, -4.3448, -4.5075, -4.5308, -4.6577, -4.6583, -4.6895, -4.9814, -5.137, -5.2725, -5.3277, -5.3774, -5.4077, -5.4441, -5.4744, -5.5671, -5.5865, -5.693, -5.7101, -5.7124, -5.7352, -5.7538, -5.7907, -5.829, -5.8637, -5.9185, -2.2209, -2.7253, -3.8225, -5.0952, -4.8157, -2.9456, -4.1538, -3.8807, -3.9681, -4.5887, -4.8381, -4.9553, -4.7732, -4.9888, -4.8897, -4.8758, -2.2645, -2.5931, -3.5512, -3.6983, -3.9501, -4.6216, -4.7093, -4.9462, -4.9648, -5.0845, -5.3078, -5.4548, -5.5297, -5.5366, -5.5513, -5.564, -5.597, -5.9062, -5.9409, -5.9833, -6.0413, -6.0725, -6.1318, -6.198, -6.2124, -6.2245, -6.2271, -6.3173, -6.3218, -6.3605, -1.384, -3.6007, -3.2037, -4.6119, -5.1147, -5.3985, -2.3765, -5.5035, -3.8742, -4.2666, -4.8105, -4.2875, -4.0341, -4.6277, -4.394, -4.8913, -4.9431, -4.9967, -5.0107, -5.1288, -5.3734, -3.4593, -3.8217, -4.407, -4.6664, -4.6973, -4.7233, -5.0752, -5.2847, -5.2937, -5.3445, -5.4292, -5.4484, -5.4493, -5.5486, -5.7829, -5.8736, -5.8897, -5.9658, -5.9916, -6.0482, -6.0525, -6.1838, -6.2301, -6.3339, -6.4607, -6.6785, -6.693, -6.7437, -6.7567, -6.8044, -2.3442, -1.1988, -2.286, -4.3628, -1.7209, -3.4468, -4.7252, -3.5746, -4.894, -5.0411, -4.3619, -5.2759, -5.1874, -5.2711, -5.3021, -5.7222, -1.5228, -3.436, -3.772, -4.0411, -4.0831, -4.2045, -4.217, -4.2779, -4.309, -4.3484, -4.3671, -4.5681, -4.7214, -4.8384, -5.0038, -5.0389, -5.2095, -5.2807, -5.344, -5.3556, -5.3993, -5.4118, -5.4422, -5.4953, -5.512, -5.6022, -5.7258, -5.7502, -5.9155, -5.9468, -2.8208, -2.2276, -2.9077, -4.7301, -2.6307, -3.6992, -4.7772, -3.5623, -3.1956, -4.0515, -4.9244, -4.8097, -3.6474, -3.7536, -3.7709, -3.9707, -4.1466, -4.297, -4.3337, -4.5675, -4.8069, -4.8628, -4.8942, -4.9661, -5.1199, -5.1616, -5.234, -5.3074, -5.4361, -5.4635, -5.4807, -5.5225, -5.5898, -5.6228, -5.6789, -5.7157, -5.7362, -5.7708, -5.778, -5.7992, -5.8743, -5.8763, -3.243, -3.206, -3.2146, -4.0868, -2.2575, -3.7091, -2.6846, -3.7254, -4.8079, -3.6912, -3.0932, -2.995, -4.9244, -3.72, -5.0642, -4.4861, -4.9044, -4.9965, -1.9718, -2.7602, -2.7987, -3.0258, -3.051, -4.0262, -4.1538, -4.4199, -4.4395, -4.5203, -4.8201, -4.9556, -5.0162, -5.0769, -5.156, -5.3175, -5.3391, -5.5967, -5.6927, -5.8634, -6.0862, -6.2461, -6.2794, -6.2933, -6.3001, -6.3686, -6.3868, -6.4294, -6.4858, -6.4901, -1.5191, -3.5995, -4.5637, -3.5446, -3.602, -5.2945, -3.8403, -3.7425, -4.1622, -4.9073, -4.3915, -5.0007, -5.091, -5.1791, -5.3082, -3.0148, -3.119, -3.7104, -4.0475, -4.0697, -4.1402, -4.1491, -4.2545, -4.2704, -4.3103, -4.4604, -4.5495, -4.6933, -4.7659, -4.789, -4.8294, -4.8534, -4.9158, -4.9611, -4.9985, -5.0444, -5.0657, -5.0779, -5.0787, -5.1365, -5.3104, -5.4738, -5.5253, -5.7191, -5.7606, -3.0364, -3.7404, -2.8468, -3.3641, -3.3084, -3.9354, -3.129, -4.7871, -4.5103, -4.0714, -4.6626, -4.1449, -4.0406, -4.5337, -4.6109, -3.8644, -4.3361, -4.5507, -4.733, -4.798, -4.9825, -4.9845, -5.0126, -5.2766, -5.4295, -5.6456, -5.9678, -6.1924, -6.2109, -6.2136, -6.4188, -6.654, -6.797, -6.8637, -6.9956, -7.0837, -7.1306, -7.1464, -7.1485, -7.1939, -7.5015, -1.3493, -7.6571, -1.8022, -7.9893, -2.7308, -3.0314, -3.7026, -2.3347, -5.8247, -5.4131, -5.2671, -5.2657, -3.6047, -5.0097, -4.6288, -4.0336, -4.9332, -3.8122, -4.8403, -5.4837, -4.6717, -4.5227, -5.0459, -5.1593, -5.1039, -5.3313, -5.328, -2.8707, -3.2354, -3.3027, -3.3114, -3.3368, -3.5338, -3.6062, -3.629, -3.7194, -3.7837, -4.1534, -4.1564, -4.2106, -4.3565, -4.3622, -4.4767, -4.4923, -4.521, -4.5415, -4.5428, -4.5941, -4.6482, -4.7648, -4.7697, -4.8105, -4.8297, -4.8917, -4.9493, -4.971, -5.0305, -3.7192, -2.749, -3.62, -3.8699, -4.078, -4.4509, -4.6561, -4.6196, -2.8464, -4.0982, -4.1586, -4.8988, -5.1314, -5.2868, -5.3043, -5.3125, -5.4219, -5.4602, -5.5706, -5.5927, -5.6322, -5.7251, -5.7431, -5.7946, -5.8595, -5.9659, -5.9715, -6.0579, -6.0865, -6.1656, -6.1852, -6.2242, -6.244, -6.2647, -6.2786, -6.2817, -6.3433, -6.4016, -2.8955, -2.1629, -2.755, -1.3048, -3.0554, -3.7864, -2.7257, -5.3198, -4.9821, -4.0047, -3.8043, -4.8751, -5.0352, -4.8403, -4.936, -5.0974, -5.1433, -5.5564, -5.5555, -5.5536, -1.9884, -3.1807, -3.458, -3.7506, -3.7839, -3.8448, -3.9278, -4.2603, -4.4911, -4.5286, -4.5588, -4.6699, -4.6827, -4.7782, -4.9101, -5.0111, -5.1029, -5.24, -5.3587, -5.3601, -5.399, -5.577, -5.6412, -5.6415, -5.6453, -5.6722, -5.7426, -5.7642, -5.7884, -5.8247, -2.5859, -3.8506, -3.0216, -3.5987, -4.4439, -4.4459, -3.7618, -2.7014, -4.3344, -4.1245, -3.9605, -4.7593, -4.6328, -4.6037, -4.5364, -4.4677, -3.4342, -3.5966, -3.869, -4.0023, -4.2005, -4.4451, -4.4836, -4.8311, -4.8754, -5.0009, -5.0381, -5.1418, -5.334, -5.4785, -5.5164, -5.5315, -5.5474, -5.7732, -5.8519, -6.0534, -6.0962, -6.2507, -6.2546, -6.3383, -6.4795, -6.5187, -6.5873, -6.699, -6.9271, -6.9424, -0.3413, -3.9542, -4.6136, -5.1195, -5.0398, -5.1576, -5.9108, -5.9731, -6.1653, -2.2564, -2.7589, -2.7642, -2.8441, -3.2379, -3.4036, -3.4847, -3.8537, -3.9016, -3.9183, -3.9549, -4.1842, -4.2312, -4.2591, -4.5629, -4.8205, -4.8831, -4.8835, -5.0853, -5.2016, -5.2382, -5.248, -5.3963, -5.3964, -5.5404, -5.5447, -5.5581, -5.6013, -5.6669, -5.7865, -4.2465, -2.5071, -3.7921, -3.8138, -3.8994, -3.2877, -4.3918, -4.4122, -3.8827, -4.454, -4.9635, -4.6145, -4.7989, -2.303, -2.97, -3.2001, -3.3277, -4.1775, -4.2002, -4.2038, -4.2125, -4.34, -4.3867, -4.3948, -4.5505, -5.1466, -5.2054, -5.417, -5.4656, -5.5567, -5.6158, -5.6706, -5.7381, -5.8545, -5.8573, -5.9222, -5.957, -6.1496, -6.2042, -6.2195, -6.404, -6.4134, -6.451, -2.7599, -1.6353, -3.4557, -2.5391, -3.6621, -3.9426, -5.1834, -3.1489, -3.5984, -5.1238, -4.0217, -4.886, -4.8367, -4.5473, -5.3277, -1.4396, -2.5704, -2.7731, -3.201, -3.2641, -3.9262, -3.9278, -4.1581, -4.2111, -4.4491, -4.4866, -4.4907, -4.5494, -4.5515, -4.8041, -4.9173, -5.0502, -5.1226, -5.1934, -5.2555, -5.2675, -5.2972, -5.3016, -5.3958, -5.4362, -5.5222, -5.5247, -5.5623, -5.6587, -5.7179, -2.515, -2.41, -2.9472, -2.2124, -2.8026, -3.5245, -3.7013, -3.9421, -4.04, -4.4028, -4.6817, -4.7059, -4.7079, -4.7401, -4.96, -5.3289, -5.3387, -5.4263, -5.5552, -5.6682, -5.7174, -5.7616, -5.8996, -6.0289, -6.0314, -6.0316, -6.0431, -6.1538, -6.2634, -6.3779, -6.3835, -6.4587, -6.4665, -3.383, -1.7903, -3.5521, -3.9364, -2.1425, -3.3291, -5.2305, -3.2955, -4.4621, -3.9939, -3.8478, -4.2139, -3.8929, -5.2072, -4.561, -4.5871, -4.6954, -5.1046, -3.0287, -3.4146, -3.5372, -3.5659, -3.8385, -4.5928, -4.6297, -4.6826, -4.7548, -4.797, -5.0467, -5.0549, -5.0601, -5.2529, -5.2575, -5.3554, -5.4262, -5.5361, -5.6784, -5.7168, -5.7724, -5.8076, -5.8187, -5.8515, -5.8678, -5.8902, -5.8934, -5.9536, -5.9789, -6.012, -2.2051, -3.0448, -2.7032, -2.8207, -1.6102, -3.2536, -3.8189, -4.9668, -4.8068, -4.4248, -5.0839, -4.3815, -4.8257, -4.7463, -5.1976, -2.5107, -2.5546, -2.7894, -2.9917, -3.1391, -3.4541, -3.6593, -4.0865, -4.1873, -4.2418, -4.2626, -4.3434, -4.4255, -4.4422, -4.596, -4.6956, -4.869, -4.9627, -5.0625, -5.0628, -5.1502, -5.2794, -5.3705, -5.5302, -5.5709, -5.6046, -5.6193, -5.7667, -5.7718, -5.8411, -3.1054, -3.3656, -4.907, -3.0947, -3.495, -3.4101, -4.1103, -4.1221, -4.0206, -4.3503, -4.373, -4.9505, -1.3813, -2.9736, -2.9767, -3.2205, -3.5706, -3.69, -4.1016, -4.565, -4.6229, -4.729, -4.7535, -4.9843, -5.057, -5.1227, -5.2102, -5.2342, -5.3909, -5.4141, -5.6127, -5.7117, -5.7373, -5.784, -5.8843, -5.8946, -5.9802, -5.9876, -5.9973, -6.0043, -6.0358, -6.0402, -1.8259, -4.1655, -3.2054, -3.9558, -3.5516, -4.7249, -4.158, -4.5508, -4.9726, -4.8146, -5.1809, -4.7884, -4.989, -5.0154, -5.1672, -3.1633, -3.5532, -3.5853, -3.6705, -3.7592, -3.8371, -4.082, -4.1448, -4.2233, -4.3564, -4.4913, -4.6723, -4.6829, -4.7192, -4.7563, -4.7954, -4.8373, -4.9587, -4.9915, -5.1761, -5.178, -5.2748, -5.2809, -5.3482, -5.5572, -5.6164, -5.6467, -5.7479, -5.7841, -5.895, -2.1942, -3.3315, -2.6428, -3.4237, -4.369, -3.5435, -3.4395, -2.6905, -4.4482, -4.2865, -3.6755, -4.4985, -3.7849, -3.97, -4.7092, -2.8325, -3.2512, -3.682, -3.6852, -3.7503, -3.9203, -4.0604, -4.1354, -4.2712, -4.399, -4.5871, -4.6108, -4.627, -4.6965, -4.7107, -4.7279, -4.9696, -5.0762, -5.1295, -5.1534, -5.1784, -5.2473, -5.2786, -5.407, -5.4214, -5.6535, -5.6559, -5.6686, -5.6873, -5.7011, -2.5334, -2.1191, -1.7635, -3.7468, -3.9103, -4.6891, -3.7995, -4.1913, -5.0731, -4.8973, -1.7468, -3.1988, -3.3327, -3.4204, -3.6384, -3.77, -3.7943, -4.1033, -4.2363, -4.2837, -4.3311, -4.5579, -4.7031, -4.7733, -4.9594, -5.0163, -5.0439, -5.2101, -5.3772, -5.4112, -5.4658, -5.5533, -5.5612, -5.6383, -5.6917, -5.7133, -5.7181, -5.7376, -5.7888, -5.8404, -3.4597, -1.8763, -2.2727, -4.0571, -4.7765, -3.5373, -4.696, -4.7213, -3.5035, -4.5465, -4.9492, -5.1487, -2.4155, -3.3544, -3.5173, -3.7531, -4.3705, -5.1072, -5.1151, -5.1295, -5.1818, -5.2595, -5.2649, -5.3524, -5.4707, -5.5001, -5.6224, -5.6246, -5.7077, -5.8836, -5.9051, -5.9926, -6.0042, -6.0227, -6.0375, -6.0484, -6.056, -6.0847, -6.1369, -6.1426, -6.1472, -6.2419, -3.6086, -3.4259, -0.8856, -2.8314, -3.6266, -3.295, -4.1714, -3.9039, -4.1077, -5.7045, -4.355, -5.2368, -5.0445, -5.2343, -5.5818, -3.0139, -3.0322, -3.0831, -3.954, -3.9632, -4.2911, -4.3145, -4.3569, -4.4111, -4.5384, -4.5495, -4.5501, -4.6023, -4.6268, -4.6309, -4.7733, -4.7864, -4.8975, -5.0038, -5.2358, -5.3847, -5.4289, -5.4661, -5.5288, -5.6663, -5.6681, -5.833, -5.8915, -6.0586, -6.0702, -1.533, -3.7211, -3.4693, -3.3969, -2.0407, -4.7454, -3.5726, -4.2039, -4.9034, -4.9754, -4.7621, -4.7412, -2.7614, -2.8066, -3.0076, -3.0796, -3.3122, -3.4017, -3.4431, -3.5303, -3.6634, -3.7616, -3.7946, -4.0362, -4.3253, -4.4874, -4.5433, -4.5772, -4.7084, -4.7685, -4.849, -4.9346, -4.9833, -5.0549, -5.1857, -5.3319, -5.3408, -5.3723, -5.4239, -5.4639, -5.6127, -5.6388, -2.3908, -4.7455, -3.6582, -3.8406, -3.0931, -2.8199, -4.0496, -3.5965, -3.6993, -4.4732, -4.6838, -3.7123, -4.0863, -4.2269, -4.4033, -4.6559, -4.7004, -4.7191, -4.7661, -4.8482, -4.8756, -4.9963, -5.1262, -5.1749, -5.2367, -5.2571, -5.274, -5.3052, -5.4278, -5.4923, -5.5828, -5.6823, -5.717, -5.7598, -5.8325, -5.8414, -5.8633, -5.8696, -5.9524, -6.0655, -6.0826, -3.2654, -1.3943, -1.0806, -2.4941, -4.3169, -4.6863, -4.6742, -5.0941, -5.2578, -5.3102, -5.0961, -2.8418, -3.2399, -3.442, -3.636, -3.9586, -4.2323, -4.2448, -4.2853, -4.7913, -4.817, -4.8544, -4.9523, -5.1576, -5.1718, -5.2553, -5.2746, -5.3489, -5.3566, -5.3921, -5.3951, -5.5501, -5.5931, -5.6713, -5.6863, -5.7174, -5.7405, -5.742, -5.7778, -5.8082, -5.8579, -2.9952, -1.945, -4.0659, -1.7504, -3.7858, -3.9757, -4.6313, -5.0738, -3.2012, -3.962, -3.5603, -4.5404, -4.3696, -4.8557, -4.7092, -4.9194, -1.702, -2.4364, -2.7316, -2.7843, -3.064, -3.5939, -3.6034, -3.7779, -3.9548, -4.0655, -4.151, -4.2644, -4.5036, -4.6765, -4.6982, -4.8859, -5.0006, -5.0149, -5.0475, -5.0517, -5.0885, -5.0939, -5.1633, -5.168, -5.1697, -5.1852, -5.2082, -5.2812, -5.3731, -5.4173, -4.1529, -4.3822, -4.1757, -4.1177, -3.9253, -4.1058, -4.3019, -4.5735, -4.7288, -4.922, -4.926, -5.0011, -2.7829, -3.0989, -3.1949, -3.4791, -3.8371, -4.1633, -4.2801, -4.3117, -4.3342, -4.4127, -4.4405, -4.5255, -4.6553, -4.6832, -4.7629, -4.7663, -4.8921, -4.9448, -4.9578, -5.0145, -5.1258, -5.1506, -5.2554, -5.2616, -5.432, -5.5066, -5.5236, -5.6264, -5.6472, -5.6592, -2.4185, -3.664, -3.0984, -4.4324, -2.761, -2.5324, -2.5808, -4.6031, -3.6569, -4.8869, -4.5034, -4.3146, -4.5428, -2.1469, -2.6012, -2.755, -3.0516, -3.0964, -3.4619, -3.8214, -3.9528, -4.0683, -4.1689, -4.2068, -4.217, -4.5905, -4.7001, -4.7971, -4.8556, -5.0157, -5.2495, -5.4, -5.4632, -5.4691, -5.5318, -5.5634, -5.5663, -5.6121, -5.6556, -5.6647, -5.7071, -5.719, -5.7215, -2.3975, -2.3717, -2.307, -5.0079, -3.7092, -4.8331, -4.8611, -4.9805, -5.2612, -5.4332, -2.0819, -3.4179, -3.4999, -3.6771, -3.6943, -3.8082, -3.8668, -4.1685, -4.1971, -4.2518, -4.2741, -4.2947, -4.3543, -4.3939, -4.486, -4.7306, -4.7591, -4.8449, -4.8638, -4.8699, -5.1356, -5.1784, -5.2364, -5.3613, -5.3818, -5.4296, -5.4991, -5.5525, -5.5824, -5.8076, -1.1455, -3.1374, -3.9453, -3.4151, -3.8988, -4.9854, -4.5314, -5.0304, -1.973, -2.432, -2.7735, -3.0672, -3.4836, -3.5291, -3.6093, -3.935, -3.9406, -4.1636, -4.2161, -4.2731, -4.3889, -4.6592, -4.7279, -4.7694, -4.8283, -4.8446, -5.0009, -5.0334, -5.0911, -5.1611, -5.2274, -5.2856, -5.3131, -5.3172, -5.3292, -5.3868, -5.4481, -5.4663, -3.9768, -4.5438, -2.2552, -3.6313, -2.6486, -4.6235, -4.8687, -4.4167, -4.8025, -4.998, -2.0127, -2.0701, -3.2417, -3.2725, -3.2944, -4.1223, -4.1673, -4.1926, -4.2711, -4.3171, -4.4524, -4.4745, -4.6571, -4.7143, -4.7439, -4.7771, -4.788, -4.8301, -4.9047, -4.9387, -5.0907, -5.099, -5.271, -5.2764, -5.309, -5.4253, -5.5994, -5.8645, -5.9081, -6.0752, -1.743, -2.6529, -3.0559, -4.3275, -4.1321, -4.4839, -4.6036, -4.9582, -3.1103, -3.4783, -3.6512, -3.8959, -4.174, -4.2541, -4.2701, -4.3184, -4.3432, -4.3616, -4.3996, -4.3997, -4.4177, -4.4381, -4.4394, -4.4416, -4.4512, -4.4579, -4.4633, -4.4643, -4.481, -4.5105, -4.5151, -4.5417, -4.5895, -4.6124, -4.6151, -4.696, -4.7067, -4.7179, -3.3626, -3.9797, -4.4636, -1.6429, -3.0802, -3.3758, -3.5682, -3.6848, -4.2083, -4.239, -4.4653, -4.4943, -4.537, -4.577, -4.6444, -4.6469, -4.7062, -4.7794, -4.7804, -4.8449, -4.8515, -4.8865, -5.092, -5.1402, -5.1464, -5.1925, -5.1957, -5.2619, -5.265, -5.2655, -5.3472, -5.3793, -5.4251, -2.5969, -2.2923, -3.2393, -4.6412, -3.3925, -4.137, -4.2973, -4.5505, -4.7021, -4.5364, -4.8334, -2.3502, -2.8533, -3.252, -3.5731, -3.5774, -3.6119, -3.6965, -3.8891, -4.0078, -4.0802, -4.16, -4.2059, -4.2265, -4.4388, -4.5881, -4.7659, -4.8475, -4.9395, -4.9846, -5.0281, -5.0784, -5.2079, -5.2552, -5.5141, -5.7625, -5.8099, -5.8373, -5.8453, -5.9022, -6.0768, -2.1837, -1.9149, -3.7265, -2.4966, -3.6999, -4.2247, -5.1432, -4.8907, -4.8885, -5.1124, -2.2338, -3.1464, -3.3027, -3.3134, -3.7635, -3.7875, -3.7881, -3.8336, -3.904, -4.1226, -4.1943, -4.2252, -4.2674, -4.3764, -4.43, -4.5167, -4.6092, -4.7998, -4.8139, -4.8916, -4.9433, -5.0412, -5.0494, -5.0831, -5.0851, -5.0925, -5.124, -5.1254, -5.1592, -5.265, -4.201, -3.2698, -2.5923, -3.3787, -3.5128, -4.041, -4.2792, -4.2818, -3.9075, -4.427, -4.3404, -3.5484, -4.2452, -2.404, -2.6105, -2.6371, -3.4139, -3.6931, -3.9473, -3.9652, -4.0539, -4.0776, -4.2156, -4.2781, -4.3037, -4.3247, -4.388, -4.448, -4.6583, -4.7075, -4.8579, -5.0705, -5.1209, -5.1541, -5.2532, -5.2582, -5.2759, -5.3611, -5.4688, -5.5063, -5.5717, -5.5989, -5.6093, -1.4735, -3.0943, -2.6857, -4.3726, -4.7516, -5.2464, -1.0283, -2.1646, -3.5843, -3.7882, -3.848, -3.9623, -4.0805, -4.4738, -4.4841, -4.649, -4.651, -4.7268, -4.7273, -4.7423, -4.8415, -4.9435, -4.974, -4.9823, -4.9995, -5.0585, -5.1368, -5.2217, -5.3765, -5.4303, -5.4375, -5.5239, -5.606, -5.6268, -5.6523, -5.7523, -3.0184, -2.7567, -3.4536, -4.1284, -5.0415, -4.6738, -5.081, -1.6769, -2.8054, -2.9975, -3.0573, -3.1666, -3.2809, -3.4541, -3.5254, -3.7486, -3.7496, -3.7516, -3.9231, -3.9433, -4.2147, -4.2904, -4.3038, -4.3543, -4.419, -4.4411, -4.5739, -4.7224, -4.7703, -4.9082, -4.9103, -4.9927, -5.0228, -5.0264, -5.0284, -5.0361, -5.0909, -3.5743, -4.0286, -4.2415, -2.7926, -0.8266, -2.5884, -2.9145, -4.1078, -4.3513, -4.3703, -4.4157, -4.5684, -4.6195, -4.624, -4.6726, -4.7309, -4.8179, -4.9379, -4.939, -4.981, -5.0022, -5.0213, -5.0507, -5.0874, -5.1286, -5.1384, -5.1421, -5.1625, -5.2002, -5.3127, -5.3324, -5.4273, -5.4367, -5.456, -2.4949, -2.3749, -2.5685, -3.0826, -3.4719, -3.9107, -3.9589, -4.0058, -4.0431, -4.1345, -4.1975, -4.249, -4.4125, -4.4814, -4.4949, -4.4986, -4.6093, -4.6102, -4.6531, -4.6565, -4.6961, -4.6995, -4.7782, -4.8847, -4.9012, -4.9119, -4.9913, -5.0037, -5.0068, -5.0144, -5.1005, -5.1533, -2.0779, -3.4945, -2.6002, -3.4408, -1.9603, -3.3595, -2.377, -3.0017, -3.1863, -3.4019, -3.4062, -3.5243, -3.6642, -3.7744, -3.816, -3.9563, -3.9661, -3.9986, -4.0747, -4.0853, -4.1513, -4.1811, -4.2645, -4.2894, -4.2958, -4.3705, -4.3794, -4.4728, -4.476, -4.4942, -4.5135, -4.6802, -4.7153, -4.7454, -4.7504, -4.7701, -2.7168, -3.9071, -3.5548, -4.2073, -4.5718, -2.8617, -2.9001, -2.9899, -2.9942, -3.1476, -3.2462, -3.301, -3.3805, -3.4215, -3.4809, -3.5251, -3.7487, -3.9891, -4.1422, -4.2002, -4.349, -4.5634, -4.6304, -4.6322, -4.7007, -4.8363, -4.8439, -4.8722, -4.97, -4.9843, -5.0021, -5.0309, -5.0711, -5.0723, -5.1965, -3.6504, -3.114, -2.372, -3.8557, -3.8924, -4.5444, -4.1006, -4.7215, -4.8335, -2.0572, -2.4369, -2.8055, -2.9068, -2.9539, -3.3016, -3.4088, -3.4474, -3.5797, -3.6485, -3.7147, -4.1188, -4.2621, -4.2646, -4.3052, -4.3978, -4.4192, -4.4645, -4.487, -4.5043, -4.5095, -4.5717, -4.572, -4.6404, -4.8371, -4.8923, -4.9557, -4.9756, -5.0293, -5.0573, -2.4841, -2.9044, -2.2986, -2.3583, -2.8335, -3.2215, -3.3929, -3.4512, -3.5565, -3.5828, -3.713, -3.8063, -3.9342, -3.9786, -4.1079, -4.176, -4.268, -4.3464, -4.377, -4.4836, -4.5902, -4.7692, -4.8282, -4.918, -4.9321, -4.9775, -5.0381, -5.0424, -5.0552, -5.1757, -5.2305, -5.2565, -2.1613, -2.941, -3.5483, -4.396, -3.7863, -2.1826, -2.6751, -2.8911, -2.9259, -3.0063, -3.2617, -3.4269, -3.4892, -3.7064, -3.779, -3.8358, -3.8441, -3.8608, -3.9547, -3.9851, -4.0041, -4.064, -4.0742, -4.1236, -4.1872, -4.2662, -4.2687, -4.2798, -4.3362, -4.3832, -4.4405, -4.4518, -4.6684, -4.7378, -4.8184, -3.9954, -2.4136, -2.6062, -2.6389, -3.0195, -3.097, -3.2014, -3.2835, -3.2857, -3.4199, -3.4286, -3.5479, -3.7137, -3.8471, -3.8692, -3.9808, -4.087, -4.2163, -4.2956, -4.3084, -4.3411, -4.4332, -4.4466, -4.6913, -4.7235, -4.7691, -4.7911, -4.8706, -4.8862, -4.892, -4.971, -2.6445, -2.9178, -2.6856, -2.837, -2.8555, -2.9293, -3.0527, -3.0638, -3.3191, -3.3934, -3.5945, -3.6911, -3.7689, -3.7804, -3.8207, -3.8794, -3.9906, -4.0222, -4.0414, -4.1391, -4.1524, -4.1877, -4.2099, -4.2149, -4.3195, -4.3642, -4.4881, -4.6394, -4.6488, -4.697, -4.7322, -4.7971, -3.7891, -2.2852, -2.8644, -3.0489, -3.335, -3.4068, -3.4102, -3.4878, -3.859, -3.904, -4.0111, -4.0411, -4.0651, -4.0947, -4.1767, -4.3435, -4.3644, -4.3864, -4.4116, -4.6235, -4.6681, -4.7038, -4.7151, -4.7637, -4.8046, -4.8089, -4.8526, -4.876, -4.8954, -4.9181, -5.0395, -2.2502, -2.737, -3.0683, -2.4625, -3.0106, -3.1168, -3.1355, -3.2118, -3.3749, -3.4507, -3.6196, -3.625, -3.6433, -3.6752, -3.6837, -3.7431, -3.7675, -3.8196, -3.8696, -3.8761, -4.0301, -4.095, -4.2801, -4.3314, -4.3659, -4.4051, -4.4246, -4.4271, -4.4703, -4.4713, -4.4898, -4.4939, -4.5403, -4.6054, -2.9966, -2.8337]}, \"token.table\": {\"Topic\": [30, 72, 72, 66, 4, 33, 45, 37, 71, 32, 2, 21, 29, 56, 2, 18, 21, 53, 17, 2, 10, 48, 33, 43, 72, 5, 10, 11, 17, 23, 60, 22, 33, 8, 35, 42, 5, 25, 24, 59, 3, 10, 43, 47, 55, 60, 72, 45, 5, 18, 1, 3, 4, 5, 7, 9, 11, 20, 23, 26, 29, 31, 33, 40, 49, 19, 26, 49, 43, 11, 31, 43, 71, 13, 57, 40, 45, 7, 71, 58, 64, 21, 38, 39, 25, 49, 23, 26, 20, 32, 26, 69, 13, 4, 43, 1, 2, 21, 26, 29, 48, 53, 60, 3, 5, 7, 9, 10, 13, 31, 42, 48, 68, 1, 2, 3, 9, 10, 12, 13, 18, 22, 29, 42, 60, 8, 71, 56, 4, 49, 64, 54, 6, 7, 53, 58, 25, 24, 25, 59, 34, 70, 29, 15, 51, 41, 69, 44, 37, 71, 72, 43, 1, 3, 70, 53, 22, 29, 53, 38, 2, 17, 18, 60, 25, 46, 17, 25, 34, 56, 18, 6, 7, 25, 44, 12, 19, 32, 64, 63, 2, 9, 18, 21, 24, 29, 31, 37, 40, 42, 45, 18, 18, 59, 28, 1, 61, 18, 22, 44, 51, 36, 22, 71, 31, 16, 70, 4, 27, 45, 54, 5, 6, 24, 74, 3, 6, 54, 67, 27, 43, 5, 23, 50, 68, 7, 38, 45, 37, 63, 23, 26, 39, 61, 70, 11, 7, 70, 62, 6, 30, 32, 54, 23, 46, 1, 13, 43, 68, 11, 48, 75, 30, 30, 32, 43, 43, 75, 26, 3, 8, 11, 6, 75, 67, 44, 21, 36, 39, 13, 13, 13, 23, 2, 2, 4, 5, 11, 16, 18, 25, 41, 47, 48, 29, 70, 37, 75, 25, 39, 14, 1, 30, 73, 32, 56, 5, 67, 11, 60, 57, 46, 1, 5, 8, 13, 31, 7, 4, 15, 34, 35, 15, 66, 26, 48, 34, 32, 9, 15, 65, 2, 5, 6, 11, 12, 13, 17, 18, 20, 22, 34, 35, 42, 49, 59, 64, 70, 2, 22, 21, 32, 61, 65, 33, 60, 71, 16, 72, 37, 72, 37, 2, 74, 3, 29, 49, 59, 1, 3, 52, 69, 19, 61, 36, 9, 61, 71, 9, 16, 42, 59, 58, 1, 25, 58, 7, 22, 3, 12, 43, 17, 41, 39, 3, 53, 58, 58, 3, 15, 67, 10, 11, 15, 18, 42, 42, 4, 8, 53, 38, 15, 70, 9, 65, 2, 4, 8, 15, 26, 46, 64, 20, 23, 43, 51, 3, 5, 16, 54, 37, 8, 72, 4, 40, 1, 15, 4, 70, 39, 42, 5, 23, 32, 42, 54, 14, 44, 44, 56, 29, 46, 39, 23, 62, 60, 56, 66, 43, 24, 5, 7, 9, 34, 45, 15, 5, 47, 74, 67, 60, 60, 10, 71, 43, 71, 60, 27, 49, 59, 49, 59, 26, 5, 1, 2, 3, 5, 6, 17, 26, 35, 55, 3, 47, 62, 61, 34, 57, 40, 54, 20, 23, 54, 9, 63, 25, 18, 73, 4, 23, 11, 16, 1, 3, 5, 14, 30, 42, 71, 52, 36, 55, 9, 2, 24, 30, 40, 75, 42, 1, 24, 35, 37, 45, 53, 31, 7, 74, 72, 7, 53, 72, 42, 4, 15, 71, 71, 72, 72, 2, 38, 2, 10, 39, 1, 3, 10, 12, 15, 21, 22, 26, 28, 53, 53, 43, 62, 27, 11, 40, 40, 32, 32, 1, 2, 5, 10, 11, 13, 20, 22, 26, 32, 35, 56, 11, 23, 11, 53, 36, 15, 65, 11, 50, 1, 10, 12, 20, 50, 60, 73, 29, 29, 20, 36, 21, 26, 71, 10, 15, 65, 72, 54, 41, 43, 48, 45, 49, 42, 46, 16, 5, 8, 11, 16, 17, 23, 33, 37, 38, 68, 26, 37, 17, 14, 6, 9, 11, 22, 45, 5, 11, 23, 30, 42, 29, 45, 46, 10, 8, 2, 21, 16, 50, 56, 1, 29, 3, 4, 8, 21, 24, 40, 42, 52, 73, 75, 18, 4, 14, 25, 58, 59, 7, 22, 54, 33, 36, 5, 9, 32, 57, 38, 45, 28, 8, 19, 4, 6, 7, 43, 68, 5, 40, 51, 51, 56, 47, 4, 15, 15, 14, 19, 16, 18, 37, 73, 9, 19, 23, 50, 22, 48, 52, 7, 38, 21, 61, 61, 69, 9, 49, 49, 45, 1, 7, 33, 38, 44, 44, 45, 2, 7, 9, 11, 26, 28, 29, 32, 35, 55, 51, 33, 34, 17, 17, 31, 31, 36, 59, 22, 50, 14, 3, 24, 38, 6, 19, 36, 42, 31, 7, 21, 31, 7, 31, 38, 7, 22, 38, 74, 9, 35, 52, 17, 21, 21, 70, 38, 19, 1, 73, 30, 17, 27, 54, 50, 25, 51, 25, 25, 25, 66, 16, 17, 27, 34, 10, 8, 47, 1, 4, 5, 12, 16, 19, 20, 23, 29, 66, 8, 15, 17, 31, 2, 4, 8, 10, 12, 18, 22, 26, 15, 25, 34, 37, 19, 28, 32, 55, 60, 3, 6, 54, 36, 8, 11, 22, 5, 13, 23, 34, 33, 40, 33, 3, 12, 65, 41, 13, 13, 71, 69, 27, 1, 7, 12, 31, 42, 43, 45, 34, 37, 38, 23, 32, 2, 5, 7, 12, 13, 15, 17, 19, 21, 23, 29, 30, 33, 34, 42, 48, 52, 56, 62, 1, 20, 52, 53, 61, 1, 3, 18, 22, 31, 38, 45, 14, 39, 42, 54, 51, 73, 9, 68, 54, 15, 7, 54, 31, 24, 68, 1, 2, 3, 5, 6, 9, 10, 11, 12, 13, 14, 17, 21, 22, 31, 33, 39, 40, 47, 48, 52, 63, 71, 64, 9, 13, 50, 19, 52, 75, 16, 4, 46, 40, 13, 56, 36, 57, 47, 74, 57, 70, 62, 27, 2, 2, 70, 38, 4, 48, 9, 10, 11, 15, 33, 22, 73, 63, 49, 54, 71, 44, 71, 28, 57, 31, 39, 23, 37, 15, 23, 38, 63, 2, 3, 8, 14, 19, 21, 23, 33, 14, 16, 21, 49, 30, 19, 19, 41, 49, 19, 63, 19, 40, 63, 30, 37, 34, 26, 19, 23, 19, 41, 16, 52, 39, 28, 28, 11, 39, 21, 9, 32, 52, 14, 73, 39, 63, 24, 50, 66, 31, 38, 44, 61, 72, 44, 69, 50, 3, 14, 44, 52, 2, 74, 62, 14, 6, 11, 32, 33, 11, 13, 17, 22, 23, 30, 31, 42, 53, 26, 3, 11, 16, 17, 20, 33, 37, 43, 44, 46, 47, 53, 54, 3, 58, 69, 59, 58, 17, 24, 1, 23, 31, 56, 29, 59, 2, 10, 33, 29, 46, 36, 7, 10, 34, 59, 7, 45, 75, 68, 68, 44, 14, 58, 66, 14, 32, 61, 61, 55, 66, 9, 10, 25, 47, 49, 56, 72, 31, 3, 1, 7, 13, 23, 35, 68, 22, 7, 46, 44, 7, 22, 46, 18, 42, 60, 19, 47, 74, 5, 49, 49, 20, 49, 62, 39, 49, 1, 3, 10, 39, 42, 68, 73, 3, 33, 7, 12, 21, 34, 53, 4, 15, 75, 7, 22, 12, 10, 31, 44, 10, 21, 60, 34, 31, 54, 17, 24, 4, 8, 10, 12, 20, 23, 42, 50, 13, 46, 73, 14, 59, 75, 8, 39, 66, 11, 68, 7, 1, 3, 21, 26, 35, 52, 68, 65, 1, 2, 18, 29, 31, 31, 9, 26, 4, 26, 7, 9, 18, 48, 57, 72, 50, 75, 17, 42, 60, 68, 7, 62, 18, 25, 73, 26, 40, 67, 5, 25, 15, 22, 21, 29, 14, 19, 26, 8, 20, 70, 54, 19, 33, 45, 32, 2, 12, 1, 28, 30, 11, 57, 1, 10, 57, 60, 31, 63, 10, 54, 1, 7, 53, 56, 52, 72, 48, 13, 15, 1, 5, 9, 10, 20, 23, 34, 48, 23, 22, 5, 60, 75, 28, 59, 50, 47, 27, 47, 28, 46, 35, 4, 27, 29, 43, 6, 32, 16, 1, 3, 5, 10, 12, 13, 14, 19, 20, 23, 26, 30, 42, 51, 52, 70, 10, 13, 36, 29, 75, 12, 7, 36, 65, 16, 20, 22, 23, 29, 30, 36, 42, 43, 18, 23, 29, 72, 7, 31, 44, 2, 25, 38, 10, 56, 62, 3, 14, 28, 39, 39, 8, 26, 2, 32, 32, 6, 7, 21, 33, 48, 44, 11, 13, 26, 61, 1, 16, 74, 42, 66, 6, 7, 31, 32, 22, 31, 6, 62, 74, 33, 19, 23, 16, 50, 69, 17, 30, 1, 2, 3, 6, 7, 11, 21, 27, 30, 45, 30, 62, 46, 72, 18, 21, 39, 7, 9, 13, 19, 20, 21, 22, 28, 41, 42, 56, 28, 35, 33, 1, 10, 35, 62, 1, 28, 42, 9, 16, 40, 28, 21, 60, 42, 6, 24, 37, 40, 71, 7, 22, 6, 7, 31, 38, 22, 2, 6, 21, 22, 24, 32, 38, 52, 55, 38, 55, 66, 1, 3, 9, 22, 47, 52, 3, 7, 22, 52, 54, 67, 72, 2, 3, 6, 10, 14, 17, 19, 20, 21, 28, 29, 30, 33, 36, 48, 62, 61, 35, 20, 2, 3, 44, 70, 17, 30, 31, 46, 41, 5, 17, 18, 47, 7, 35, 28, 1, 3, 19, 50, 23, 10, 12, 22, 30, 18, 39, 37, 1, 2, 7, 18, 21, 22, 24, 26, 31, 35, 37, 38, 45, 52, 54, 10, 48, 2, 3, 5, 11, 13, 17, 18, 23, 25, 26, 40, 41, 51, 4, 32, 37, 59, 34, 48, 74, 72, 9, 33, 20, 33, 74, 29, 34, 61, 13, 30, 52, 30, 4, 19, 16, 11, 11, 67, 3, 13, 27, 39, 49, 53, 63, 6, 7, 12, 22, 24, 12, 12, 59, 40, 10, 11, 15, 20, 49, 64, 3, 5, 12, 37, 1, 3, 6, 7, 10, 13, 14, 18, 19, 23, 24, 29, 30, 42, 44, 52, 54, 57, 74, 5, 5, 22, 32, 35, 45, 55, 51, 45, 51, 3, 4, 9, 11, 12, 13, 16, 19, 21, 22, 23, 28, 29, 30, 34, 35, 43, 47, 48, 49, 63, 19, 72, 67, 14, 3, 7, 10, 73, 27, 19, 4, 6, 63, 4, 33, 69, 69, 60, 8, 15, 35, 33, 66, 52, 10, 15, 7, 12, 1, 2, 3, 7, 9, 12, 16, 17, 19, 21, 29, 30, 31, 32, 33, 35, 39, 41, 43, 45, 48, 57, 67, 72, 20, 4, 15, 65, 66, 10, 13, 44, 48, 14, 23, 26, 27, 40, 43, 28, 34, 9, 11, 11, 60, 29, 11, 3, 6, 19, 28, 40, 52, 56, 67, 67, 11, 25, 74, 34, 39, 44, 31, 47, 58, 51, 67, 43, 4, 5, 25, 54, 9, 29, 33, 61, 55, 11, 28, 40, 10, 26, 4, 9, 15, 22, 23, 29, 30, 34, 36, 47, 49, 57, 73, 23, 57, 18, 6, 51, 26, 27, 59, 75, 9, 20, 55, 52, 51, 18, 12, 40, 69, 40, 65, 53, 75, 56, 69, 7, 74, 18, 70, 39, 17, 75, 9, 23, 24, 57, 16, 57, 33, 40, 65, 27, 15, 58, 1, 2, 3, 5, 7, 9, 10, 14, 18, 19, 20, 22, 24, 26, 28, 29, 31, 33, 34, 35, 40, 45, 51, 52, 53, 56, 75, 47, 21, 10, 26, 39, 26, 26, 26, 5, 17, 30, 32, 37, 42, 5, 16, 17, 42, 47, 35, 15, 53, 22, 29, 33, 68, 1, 2, 3, 12, 14, 16, 20, 32, 42, 48, 59, 58, 50, 32, 70, 18, 9, 43, 1, 2, 5, 7, 10, 13, 15, 18, 29, 9, 1, 50, 18, 3, 6, 3, 71, 14, 33, 38, 2, 13, 48, 33, 58, 46, 25, 57, 4, 70, 47, 64, 45, 4, 41, 51, 24, 8, 14, 36, 39, 49, 45, 45, 45, 56, 32, 51, 10, 26, 42, 67, 16, 46, 68, 5, 66, 55, 1, 10, 13, 24, 29, 30, 31, 35, 46, 53, 55, 11, 5, 24, 51, 53, 21, 35, 16, 36, 18, 36, 24, 4, 13, 19, 42, 2, 8, 41, 56, 41, 58, 43, 59, 4, 15, 25, 53, 1, 3, 4, 5, 7, 8, 17, 19, 20, 21, 22, 29, 30, 31, 33, 38, 39, 42, 48, 54, 56, 57, 61, 6, 13, 68, 2, 34, 28, 57, 37, 4, 8, 23, 59, 54, 42, 40, 44, 14, 44, 50, 55, 9, 36, 64, 5, 30, 8, 53, 42, 10, 22, 55, 11, 41, 21, 31, 21, 63, 28, 73, 4, 74, 54, 28, 4, 8, 23, 38, 52, 63, 4, 10, 13, 23, 26, 29, 34, 46, 52, 2, 8, 18, 29, 38, 41, 2, 2, 7, 60, 3, 21, 56, 63, 47, 51, 34, 15, 8, 36, 18, 48, 48, 29, 63, 16, 21, 54, 4, 64, 19, 7, 14, 47, 34, 39, 63, 13, 19, 60, 8, 12, 25, 12, 5, 8, 12, 10, 55, 7, 5, 9, 10, 15, 16, 17, 59, 60, 66, 18, 51, 59, 62, 6, 17, 32, 33, 37, 67, 10, 63, 6, 55, 12, 55, 30, 66, 1, 7, 16, 48, 54, 75, 60, 60, 48, 70, 65, 59, 63, 27, 51, 20, 21, 43, 20, 14, 5, 40, 52, 31, 65, 2, 6, 22, 24, 26, 51, 38, 48, 1, 6, 17, 22, 38, 43, 51, 34, 1, 2, 16, 38, 34, 4, 8, 14, 26, 26, 27, 50, 19, 11, 33, 50, 2, 52, 5, 7, 10, 20, 22, 26, 32, 41, 50, 57, 28, 61, 7, 22, 45, 7, 22, 22, 11, 47, 53, 3, 4, 9, 10, 14, 17, 18, 21, 26, 29, 40, 42, 47, 48, 50, 51, 53, 62, 5, 43, 54, 16, 48, 11, 22, 56, 72, 45, 5, 9, 51, 3, 75, 20, 58, 5, 17, 35, 24, 38, 18, 21, 6, 28, 50, 59, 2, 3, 56, 57, 50, 62, 58, 24, 74, 12, 24, 29, 37, 44, 24, 69, 69, 54, 31, 67, 4, 6, 41, 59, 57, 62, 30, 20, 24, 10, 52, 21, 22, 35, 61, 11, 5, 23, 14, 5, 20, 19, 20, 32, 43, 73, 3, 37, 14, 65, 37, 42, 24, 37, 55, 4, 26, 37, 37, 38, 37, 24, 45, 7, 18, 35, 50, 12, 14, 16, 36, 16, 53, 12, 4, 45, 40, 2, 62, 16, 37, 36, 3, 18, 24, 61, 2, 73, 45, 60, 2, 13, 18, 28, 29, 34, 44, 53, 55, 57, 33, 31, 65, 58, 40, 60, 61, 30, 65, 69, 22, 1, 32, 60, 15, 75, 66, 18, 18, 31, 6, 65, 41, 11, 33, 6, 24, 59, 27, 23, 24, 37, 44, 20, 36, 13, 59, 66, 54, 6, 10, 13, 19, 23, 35, 49, 19, 20, 63, 61, 31, 69, 73, 1, 31, 56, 25, 33, 5, 25, 5, 16, 49, 12, 41, 13, 1, 9, 10, 65, 61, 27, 33, 61, 1, 14, 15, 23, 35, 67, 6, 32, 33, 5, 11, 19, 23, 27, 30, 43, 17, 30, 51, 48, 44, 8, 69, 8, 8, 6, 7, 28, 57, 46, 46, 53, 53, 67, 1, 14, 60, 12, 1, 3, 4, 6, 12, 19, 22, 24, 40, 42, 52, 62, 25, 4, 8, 18, 29, 48, 40, 7, 31, 5, 20, 23, 32, 12, 31, 35, 5, 26, 29, 56, 26, 57, 18, 29, 69, 6, 10, 12, 17, 57, 57, 6, 19, 6, 7, 41, 57, 2, 21, 21, 31, 68, 17, 56, 55, 5, 13, 30, 38, 38, 30, 60, 13, 8, 13, 63, 3, 16, 25, 55, 45, 69, 1, 4, 18, 19, 39, 71, 19, 32, 24, 50, 9, 61, 33, 1, 48, 55, 32, 22, 45, 22, 7, 42, 64, 5, 6, 7, 15, 17, 18, 24, 32, 54, 5, 41, 67, 67, 1, 2, 3, 4, 5, 9, 10, 12, 13, 21, 22, 25, 26, 33, 40, 48, 63, 7, 11, 22, 25, 53, 9, 20, 45, 1, 13, 39, 27, 37, 16, 17, 29, 4, 15, 25, 23, 47, 73, 14, 41, 12, 42, 54, 18, 39, 15, 34, 69, 67, 59, 26, 45, 4, 11, 74, 35, 60, 41, 8, 1, 33, 39, 49, 73, 47, 4, 51, 28, 42, 43, 35, 43, 66, 22, 61, 15, 53, 36, 53, 63, 2, 21, 30, 40, 40, 4, 11, 60, 1, 2, 3, 5, 10, 11, 13, 23, 24, 26, 35, 33, 20, 34, 7, 41, 47, 14, 4, 13, 50, 9, 6, 29, 31, 47, 59, 4, 11, 74, 27, 28, 48, 58, 62, 28, 20, 29, 35, 38, 10, 33, 41, 53, 11, 33, 16, 6, 46, 28, 35, 46, 46, 21, 30, 28, 46, 40, 39, 36, 17, 53, 15, 15, 63, 24, 75, 67, 20, 64, 3, 47, 8, 59, 1, 44, 49, 2, 3, 9, 11, 14, 19, 36, 48, 60, 65, 49, 32, 54, 66, 39, 17, 8, 50, 12, 70, 7, 16, 12, 20, 65, 34, 21, 52, 39, 63, 47, 13, 40, 41, 54, 49, 18, 38, 70, 24, 37, 8, 4, 15, 34, 10, 15, 17, 25, 23, 38, 49, 52, 75, 68, 40, 53, 18, 21, 31, 33, 62, 2, 3, 5, 9, 21, 26, 27, 30, 40, 42, 52, 24, 44, 39, 3, 4, 10, 23, 27, 31, 24, 46, 23, 34, 8, 34, 31, 11, 34, 20, 51, 24, 8, 33, 46, 46, 23, 1, 3, 31, 33, 35, 59, 4, 6, 7, 9, 11, 12, 15, 19, 20, 22, 31, 33, 45, 55, 68, 5, 59, 50, 3, 7, 9, 10, 12, 19, 36, 43, 44, 48, 68, 61, 3, 10, 28, 29, 10, 10, 6, 46, 19, 48, 65, 2, 5, 14, 17, 24, 26, 5, 16, 24, 70, 19, 48, 19, 6, 57, 20, 13, 50, 69, 51, 3, 5, 11, 16, 41, 21, 17, 16, 34, 60, 59, 10, 48, 58, 57, 75, 64, 9, 73, 29, 15, 23, 12, 66, 29, 18, 9, 48, 37, 20, 4, 5, 17, 23, 5, 5, 34, 1, 3, 9, 10, 12, 14, 19, 36, 39, 46, 34, 26, 17, 9, 23, 3, 6, 10, 12, 18, 21, 22, 29, 42, 54, 65, 1, 24, 44, 11, 7, 59, 7, 20, 31, 44, 14, 12, 1, 14, 23, 14, 2, 37, 38, 73, 25, 41, 30, 2, 22, 16, 36, 37, 14, 36, 12, 8, 11, 42, 7, 22, 32, 33, 49, 61, 4, 64, 15, 66, 5, 51, 48, 64, 6, 7, 37, 21, 4, 15, 33, 10, 14, 23, 75, 20, 6, 8, 40, 64, 66, 4, 61, 47, 47, 11, 30, 33, 17, 25, 27, 2, 3, 7, 16, 27, 30, 64, 1, 14, 15, 29, 42, 48, 61, 41, 1, 61, 61, 57, 1, 3, 10, 11, 30, 47, 52, 56, 1, 3, 10, 35, 47, 13, 13, 66, 73, 12, 22, 34, 37, 41, 14, 57, 50, 35, 50, 22, 19, 75, 1, 52, 55, 31, 65, 56, 19, 33, 35, 49, 49, 49, 9, 14, 19, 32, 34, 55, 59, 60, 63, 1, 47, 56, 48, 69, 37, 16, 68, 32, 7, 69, 29, 30, 58, 52, 3, 67, 8, 62, 28, 12, 10, 25, 24, 31, 46, 3, 26, 12, 45, 68, 35, 36, 4, 12, 11, 44, 52, 3, 10, 15, 44, 62, 69, 4, 11, 33, 74, 44, 18, 67, 43, 72, 46, 2, 5, 9, 14, 18, 19, 22, 23, 26, 29, 30, 32, 48, 51, 53, 60, 61, 65, 67, 73, 67, 45, 45, 8, 49, 37, 8, 12, 15, 49, 31, 38, 1, 59, 4, 43, 16, 2, 53, 61, 35, 15, 38, 55, 29, 30, 44, 58, 21, 31, 48, 15, 75, 51, 48, 2, 23, 48, 36, 16, 21, 42, 59, 35, 70, 58, 68, 68, 54, 63, 12, 12, 29, 74, 38, 52, 12, 18, 19, 35, 41, 60, 36, 46, 10, 27, 27, 23, 26, 47, 10, 19, 22, 26, 42, 59, 73, 49, 8, 11, 14, 23, 48, 54, 6, 32, 32, 43, 24, 24, 55, 5, 16, 34, 50, 1, 52, 24, 31, 35, 44, 44, 73, 8, 8, 46, 8, 25, 57, 57, 51, 39, 18, 68, 7, 9, 38, 45, 30, 31, 50, 17, 34, 53, 37, 41, 17, 5, 13, 55, 21, 31, 71, 26, 17, 38, 41, 9, 2, 3, 35, 5, 16, 22, 70, 29, 48, 56, 11, 23, 27, 30, 68, 1, 2, 3, 10, 14, 15, 18, 35, 38, 48, 56, 52, 4, 6, 12, 6, 58, 67, 6, 6, 6, 6, 72, 38, 65, 70, 67, 67, 65, 49, 14, 27, 26, 11, 1, 35, 12, 42, 57, 61, 62, 62, 20, 20, 10, 64, 6, 69, 49, 32, 32, 57, 57, 32, 33, 39, 63, 75, 33, 17, 39, 44, 36, 1, 35, 12, 64, 19, 6, 53, 25, 31, 1, 17, 20, 17, 1, 3, 12, 21, 30, 35, 43, 62, 55, 67, 34, 41, 10, 26, 53, 3, 31, 32, 48, 29, 30, 42, 3, 7, 10, 21, 24, 26, 32, 35, 25, 6, 22, 48, 64, 12, 50, 14, 21, 36, 43, 12, 12, 21, 5, 25, 4, 70, 13, 13, 27, 17, 17, 41, 1, 1, 3, 7, 18, 41, 43, 51, 24, 47, 10, 31, 52, 35, 19, 56, 13, 34, 41, 13, 59, 44, 35, 4, 16, 36, 25, 37, 10, 33, 4, 31, 68, 1, 10, 23, 26, 40, 42, 44, 62, 19, 11, 11, 17, 23, 19, 1, 62, 18, 73, 55, 7, 45, 50, 42, 16, 37, 45, 3, 19, 16, 63, 31, 2, 11, 70, 11, 46, 68, 63, 63, 3, 13, 19, 23, 33, 4, 12, 43, 58, 2, 22, 34, 47, 7, 18, 24, 41, 45, 60, 56, 68, 74, 2, 29, 34, 39, 31, 63, 75, 14, 19, 52, 55, 24, 3, 3, 55, 35, 2, 3, 5, 6, 11, 13, 14, 16, 17, 26, 27, 30, 33, 51, 54, 68, 52, 11, 32, 48, 61, 38, 38, 15, 4, 73, 1, 3, 4, 8, 10, 14, 15, 56, 22, 73, 63, 61, 12, 43, 48, 74, 38, 69, 7, 12, 17, 31, 52, 64, 71, 71, 4, 34, 13, 34, 17, 34, 3, 14, 19, 23, 42, 52, 50, 71, 2, 5, 6, 18, 19, 68, 32, 9, 7, 64, 18, 53, 3, 10, 31, 32, 35, 70, 18, 7, 24, 24, 24, 38, 66, 28, 34, 58, 67, 9, 27, 65, 11, 38, 9, 12, 28, 32, 33, 36, 49, 59, 66, 18, 66, 4, 46, 68, 3, 10, 11, 12, 13, 26, 33, 42, 60, 5, 56, 1, 9, 10, 56, 43, 4, 46, 71, 2, 4, 75, 7, 7, 59, 9, 44, 53, 31, 30, 41, 29, 23, 72, 47, 19, 18, 56, 6, 10, 15, 45, 4, 22, 52, 4, 15, 8, 15, 25, 18, 23, 44, 28, 1, 28, 43, 49, 8, 13, 1, 4, 23, 29, 70, 2, 38, 49, 1, 3, 4, 7, 10, 13, 18, 22, 26, 28, 29, 31, 33, 35, 48, 51, 48, 3, 1, 9, 22, 31, 35, 67, 14, 20, 20, 19, 10, 17, 23, 29, 6, 51, 14, 2, 40, 60, 40, 41, 74, 69, 63, 1, 3, 9, 50, 53, 62, 8, 74, 59, 48, 16, 66, 11, 19, 31, 46, 2, 21, 31, 38, 34, 37, 37, 13, 33, 1, 3, 7, 10, 11, 13, 14, 16, 22, 28, 41, 42, 44, 52, 67, 64, 26, 19, 17, 40, 16, 5, 2, 41, 15, 17, 24, 16, 41, 5, 40, 68, 41, 1, 65, 66, 7, 71, 19, 33, 1, 9, 48, 42, 22, 28, 59, 50, 62, 8, 61, 1, 3, 5, 8, 9, 10, 13, 18, 19, 23, 25, 26, 28, 30, 33, 34, 40, 42, 45, 49, 52, 67, 69, 64, 74, 9, 63, 3, 41, 13, 1, 29, 2, 5, 9, 10, 11, 16, 17, 27, 28, 30, 31, 35, 44, 49, 57, 67, 27, 27, 1, 52, 51, 59, 1, 9, 10, 3, 9, 19, 62, 63, 55, 6, 7, 35, 4, 5, 15, 33, 60, 43, 65, 20, 22, 30, 33, 58, 45, 32, 38, 27, 15, 15, 28, 57, 23, 1, 36, 8, 4, 10, 12, 15, 23, 39, 43, 60, 64, 40, 64, 71, 30, 71, 4, 68, 2, 9, 21, 22, 4, 29, 31, 32, 34, 69, 73, 55, 1, 53, 40, 58, 14, 27, 32, 23, 67, 74, 9, 24, 41, 44, 54, 25, 57, 4, 40, 8, 6, 6, 24, 67, 45, 62, 59, 1, 19, 34, 48, 68, 12, 43, 45, 67, 62, 55, 38, 18, 58, 51, 27, 19, 32, 66, 30, 68, 42, 42, 37, 37, 37, 14, 52, 21, 50, 14, 68, 21, 59, 63, 8, 4, 7, 8, 46, 38, 45, 71, 70, 72, 6, 15, 24, 43, 46, 34, 4, 18, 47, 29, 58, 7, 62, 45, 61, 75, 1, 5, 7, 18, 28, 29, 34, 35, 37, 40, 45, 46, 52, 39, 37, 70, 22, 49, 17, 33, 1, 14, 19, 24, 2, 5, 17, 41, 54, 68, 41, 65, 56, 3, 2, 14, 30, 56, 40, 10, 54, 6, 43, 6, 7, 32, 7, 28, 33, 56, 1, 3, 5, 9, 10, 13, 18, 22, 35, 45, 52, 70, 3, 5, 10, 26, 31, 34, 45, 55, 18, 31, 13, 17, 50, 29, 6, 66, 18, 62, 9, 43, 43, 75, 5, 16, 24, 30, 23, 64, 50, 64, 51, 47, 25, 18, 47, 54, 4, 15, 17, 4, 34, 9, 3, 51, 64, 61, 11, 32, 34, 10, 58, 63, 63, 26, 70, 70, 2, 5, 8, 13, 23, 26, 30, 35, 52, 57, 2, 22, 22, 55, 45, 49, 22, 37, 38, 5, 6, 17, 51, 53, 7, 9, 18, 22, 25, 31, 37, 45, 60, 74, 16, 35, 64, 60, 58, 27, 51, 62, 41, 5, 17, 29, 42, 24, 26, 29, 35, 47, 56, 56, 6, 32, 24, 40, 51, 8, 14, 23, 36, 36, 29, 8, 34, 68, 3, 4, 12, 21, 27, 28, 33, 42, 43, 57, 61, 51, 8, 49, 26, 19, 23, 23, 57, 21, 40, 9, 14, 21, 22, 26, 34, 61, 52, 66, 4, 8, 11, 35, 47, 34, 51, 58, 33, 33, 72, 22, 3, 7, 32, 37, 66, 38, 4, 15, 50, 40, 11, 41, 11, 25, 27, 11, 51, 25, 15, 74, 5, 33, 23, 1, 9, 16, 22, 23, 29, 30, 31, 34, 42, 48, 56, 23, 15, 69, 1, 53, 1, 3, 1, 55, 55, 1, 10, 10, 1, 2, 5, 16, 17, 21, 24, 30, 46, 47, 43, 8, 10, 40, 56, 55, 43, 28, 67, 29, 3, 34, 35, 28, 28, 34, 4, 5, 8, 15, 23, 34, 64, 64, 21, 58, 7, 52, 20, 5, 25, 39, 25, 3, 10, 20, 8, 2, 27, 72, 18, 22, 25, 38, 15, 19, 15, 70, 44, 25, 5, 16, 30, 49, 44, 17, 47, 23, 30, 40, 73, 6, 55, 10, 33, 44, 17, 2, 53, 15, 59, 55, 4, 15, 68, 69, 23, 21, 65, 36, 3, 15, 35, 65, 10, 60, 48, 2, 3, 5, 11, 13, 15, 17, 18, 21, 26, 30, 32, 33, 41, 51, 72, 73, 50, 9, 40, 44, 58, 72, 74, 64, 14, 53, 73, 1, 8, 16, 19, 36, 39, 49, 52, 52, 61, 2, 8, 11, 17, 47, 6, 27, 72, 69, 41, 17, 46, 2, 15, 17, 40, 10, 51, 13, 60, 51, 57, 51, 30, 8, 64, 2, 27, 63, 27, 2, 3, 5, 10, 12, 21, 27, 32, 33, 34, 39, 44, 47, 53, 54, 55, 60, 63, 75, 22, 61, 46, 52, 14, 11, 36, 63, 65, 49, 46, 40, 21, 24, 47, 20, 8, 57, 9, 74, 66, 3, 7, 9, 10, 14, 22, 30, 40, 31, 8, 31, 38, 3, 2, 2, 8, 18, 29, 64, 70, 17, 34, 32, 13, 61, 35, 13, 11, 13, 17, 6, 7, 65, 2, 4, 21, 25, 41, 52, 24, 37, 6, 7, 38, 46, 36, 41, 30, 11, 66, 11, 13, 11, 11, 65, 19, 20, 30, 18, 20, 26, 51, 14, 59, 66, 42, 40, 3, 57, 54, 69, 70, 74, 72, 31, 2, 13, 35, 27, 7, 31, 45, 58, 24, 3, 9, 10, 18, 31, 45, 47, 60, 55, 54, 5, 11, 51, 51, 51, 5, 5, 44, 68, 5, 8, 23, 25, 27, 57, 53, 47, 47, 31, 21, 16, 5, 31, 72, 40, 22, 53, 53, 17, 14, 29, 35, 12, 7, 7, 22, 44, 53, 67, 72, 42, 52, 17, 69, 13, 29, 37, 66, 29, 23, 46, 10, 18, 8, 29, 74, 21, 53, 25, 49, 62, 1, 3, 4, 7, 9, 13, 29, 31, 41, 68, 35, 15, 53, 15, 25, 4, 15, 25, 70, 43, 71, 4, 26, 45, 47, 14, 15, 20, 22, 27, 34, 35, 39, 44, 51, 53, 56, 3, 1, 10, 62, 69, 9, 42, 29, 37, 42, 7, 18, 34, 27, 41, 4, 6, 25, 44, 1, 5, 24, 35, 42, 60, 66, 26, 57, 56, 41, 2, 18, 44, 41, 21, 58, 29, 56, 12, 26, 4, 42, 25, 37, 38, 41, 25, 41, 29, 37, 41, 37, 43, 74, 48, 48, 66, 7, 46, 39, 22, 48, 32, 5, 74, 39, 52, 3, 60, 28, 75, 24], \"Freq\": [0.9979770226813001, 0.9947907503654652, 0.9985283956832185, 0.9988228879432053, 0.971070543538518, 0.0287487989863377, 0.9983421336476661, 0.9970798035599283, 0.9991184586491625, 0.9979259489476016, 0.6325451551994145, 0.11752205069278737, 0.14586560409516552, 0.10300462090132541, 0.2629729386457008, 0.042075670183312125, 0.08088684871447073, 0.6139057912522049, 0.9959428970982385, 0.9964785685819333, 0.9942524064052776, 0.9993932881570416, 0.9968145590425561, 0.9922448826979801, 0.9988765974095226, 0.041223802329782816, 0.07951468591673523, 0.12888548475438028, 0.13801012084318595, 0.01091697532053537, 0.6014112822103889, 0.9969218142833028, 0.9991625400945338, 0.2987442750511041, 0.7010646454637658, 0.9961610193264214, 0.7850005717593606, 0.21421202042924922, 0.9990565648464247, 0.9982739167587933, 0.25514557887549777, 0.30414704766615624, 0.1140551428748086, 0.10560661377297093, 0.22050660955796328, 0.987516041167402, 0.9994076405070388, 0.9940997409463398, 0.998873336194368, 0.9936638752642942, 0.0033102853650368354, 0.0006407003932329359, 0.010518164788907365, 0.061293670952617535, 0.023438956052438238, 0.7214820344797219, 0.03219519475995503, 0.004858644648683097, 0.037961498299051454, 0.045863469815590995, 0.010518164788907365, 0.007688404718795231, 0.03342320384698482, 0.0022958430757513536, 0.004431511053194473, 0.9959268725686516, 0.9985925331460268, 0.9972595168104178, 0.9976045337106787, 0.0760364171692948, 0.29749609607302036, 0.6262162722003518, 0.9981455607357699, 0.9995116509106836, 0.991517536391712, 0.9953321083482644, 0.9954709061116297, 0.9969692035285862, 0.998494498156359, 0.9982854105790588, 0.9930943461492125, 0.9994832926414362, 0.9989593847573839, 0.9977106127447607, 0.998086615298266, 0.9942324119205376, 0.014521595554590642, 0.9853939840615078, 0.9981025109085024, 0.978767733276065, 0.9994838729563114, 0.9983138402617691, 0.9978804929189556, 0.9993976614058532, 0.9963256094763279, 0.4148753075943969, 0.2405785807352124, 0.07329580666714197, 0.016833486698673752, 0.04278511202579579, 0.05260464593335548, 0.15886603071873356, 0.9987989330709734, 0.1050108825549576, 0.010529546489250492, 0.0646001906232395, 0.5247698304372407, 0.06943809036154378, 0.07114558438682764, 0.05065565608342128, 0.023620334016426776, 0.027319904404541812, 0.05321689712134708, 0.7129826292439889, 0.018336515901337804, 0.02395792953532458, 0.07173994542421214, 0.06531547269965583, 0.016462711356675548, 0.00762906136041062, 0.01485659317553647, 0.04430209316308623, 0.01525812272082124, 0.008833649996264929, 0.00026768636352317966, 0.9986234240026246, 0.9973059787907912, 0.9970858259729837, 0.9975161692350861, 0.9995299618784856, 0.998268720669962, 0.9962582780804676, 0.9995188490333765, 0.9977497823063368, 0.9902100234851057, 0.998309637281684, 0.9999497933688103, 0.9943046403267708, 0.9984078069912994, 0.9965550213720634, 0.9996270225007496, 0.9949764241958551, 0.9985987059073551, 0.44727558582104776, 0.5514704666089055, 0.999286932510471, 0.9940859492409253, 0.9940296933024141, 0.9989152658426546, 0.9950083493711497, 0.998701623692945, 0.9979286481406386, 0.9997142646712106, 0.20806622842184888, 0.7906516680030258, 0.9956668610185511, 0.9978393698769917, 0.9958885605519764, 0.9956753200901772, 0.9997902970036421, 0.9998833612948022, 0.9956285749538144, 0.49403034323236955, 0.5019138061562903, 0.9984061823193051, 0.9915708660441543, 0.03289082564472367, 0.17230727479609448, 0.7947846281144251, 0.9974748870291501, 0.9976101143012329, 0.6338192793350015, 0.36475814106149973, 0.04174204984777647, 0.9574582683833728, 0.07529592859074963, 0.05178344531334082, 0.8727609864161983, 0.9986457292254051, 0.9992132482004427, 0.20981060196443452, 0.0876490629069077, 0.032618498800890024, 0.051032167478811806, 0.02399037976323524, 0.34712395981979416, 0.026200020004585857, 0.04903296916520887, 0.05976550748034043, 0.0727076860368226, 0.03998396627205874, 0.994454920534129, 0.09403843811486652, 0.905811425959376, 0.9982077577555144, 0.9995314487368818, 0.9976864325984863, 0.2674401205814316, 0.636956623064173, 0.09493103516821809, 0.9897033715661917, 0.9962822247516703, 0.9959677262574838, 0.9968319257720075, 0.9977433972222675, 0.9968858980754856, 0.9990412794464841, 0.22196440237778073, 0.7768754083222326, 0.9973617494563044, 0.9935963170774023, 0.1075861025824306, 0.32600953612203565, 0.08098514315270876, 0.48531972648448096, 0.9996169858868156, 0.4053431148681644, 0.5920742127287795, 0.9982537479329936, 0.9993326539355479, 0.9999175917503044, 0.9991804887553272, 0.9979485947255905, 0.9904020244368605, 0.9990689766546496, 0.2526217757174124, 0.746485967885687, 0.9993483038956298, 0.9982170251251096, 0.9968330365381618, 0.9963251074631527, 0.9924273341107013, 0.9948562089799481, 0.9991799704052472, 0.999276372759241, 0.9938915772123204, 0.9986982258935029, 0.9917600213532011, 0.997625951306171, 0.16545580972124047, 0.8323699965976252, 0.8527770995930274, 0.1428736501935962, 0.9968945841698472, 0.9991527762668071, 0.7051633782067369, 0.02997658085494226, 0.2640794027697294, 0.998075535761569, 0.2369241995270507, 0.7599455456528041, 0.9929291427987351, 0.9996501988090333, 0.9979350554871784, 0.9944928587561246, 0.9942292231841022, 0.9980442286059389, 0.9968399369185981, 0.9990060100717257, 0.896299925305951, 0.038799451113644294, 0.06455706992018127, 0.9957046975857317, 0.9932865199785001, 0.9987725919656454, 0.9933002489963405, 0.11225124276745856, 0.8867848178629226, 0.994205341610321, 0.9994901574852917, 0.9978594994624645, 0.9994260924119284, 0.9993843257842467, 0.9984675896975702, 0.9963012563089221, 0.2638923512595684, 0.023307857371728344, 0.1046878339577629, 0.052936489623925394, 0.00197524215014647, 0.0726889111253901, 0.0853304608863275, 0.38240688026835656, 0.012641549760937407, 0.9949351657512776, 0.9962358352753232, 0.9972201705384954, 0.9926509017929099, 0.9959184777076707, 0.9984991724608376, 0.9956785223333217, 0.999314422966876, 0.9998305958487849, 0.9962808018787905, 0.9850365851383541, 0.9993770830190951, 0.9971875545304508, 0.998092030468417, 0.9996305619643927, 0.9996404238346881, 0.9984907535924995, 0.9991522311505983, 0.7586741768434888, 0.048776619536418916, 0.08766608646410427, 0.06393692020314372, 0.04053732569580761, 0.9995836863858786, 0.761819075529519, 0.1852019646226155, 0.017112228310159794, 0.03574073001489071, 0.9987626636404862, 0.9983441235476662, 0.9914757110823871, 0.9973088030965926, 0.9908853229013724, 0.9946712022744199, 0.9972912884748579, 0.21942431802050227, 0.7804371065790564, 0.09069453458782913, 0.021607475325000045, 0.09083668903075677, 0.026867189713322425, 0.04221986954950666, 0.02288686531134873, 0.008671421018585545, 0.018053614251809246, 0.05401868831250011, 0.01904869535230267, 0.05515592385592116, 0.0651067348608554, 0.04875897392417773, 0.3862336214343758, 0.022318247539638205, 0.020043776452796095, 0.007249876589309225, 0.9946935743404538, 0.9985375146388468, 0.06127653536248287, 0.0771363445151255, 0.860755096738877, 0.9959754900773967, 0.9995618718995332, 0.993940931288689, 0.997660640948674, 0.9876089274383933, 0.9977792260720428, 0.9967770510620076, 0.9963371420630334, 0.999443899074767, 0.9958387904055974, 0.9971379033006227, 0.3882167332992583, 0.09283443622373568, 0.06892253598428862, 0.44869977508138914, 0.4187451564675785, 0.12092106122593176, 0.4157594512521234, 0.0440391519279628, 0.9976900241760658, 0.9969530975570879, 0.9963710774817842, 0.32918709230517096, 0.6702649731156618, 0.9976468582577327, 0.5658891073489561, 0.049971114491435265, 0.060775679786880726, 0.3227863882014332, 0.9971432412539014, 0.9991319998346899, 0.9973743868937877, 0.9988700119901258, 0.7610279058368469, 0.23854618917218592, 0.033823570945115705, 0.7174696867145756, 0.2470145635688753, 0.09699980023473631, 0.9029210196657588, 0.9975785959654737, 0.1512642044091789, 0.06217215181224725, 0.7858047229053107, 0.9977755450898429, 0.9950357837526529, 0.9988367886491645, 0.9975023147359219, 0.14605682758367666, 0.490645989667321, 0.11632070699777841, 0.09270672888544745, 0.1539281536211203, 0.9991664660966554, 0.2197950527980792, 0.09709516173202346, 0.6829617903552773, 0.9991593886888103, 0.4284595481353275, 0.57127939751377, 0.9974529401359412, 0.9927409568602644, 0.4637268608110309, 0.22657307676132984, 0.09595606954626368, 0.03557306760745517, 0.17804776402500638, 0.9938534063479885, 0.9992759156262234, 0.9885523419822849, 0.9996342759001996, 0.36150379668839033, 0.637588974749988, 0.19349099102841227, 0.25136291885866247, 0.5547521162717923, 0.9957895270499452, 0.9995025377234985, 0.37299596791263606, 0.6261606520162352, 0.9996911985000598, 0.9828833263657271, 0.9982465537176107, 0.9995150614119853, 0.9997510507944973, 0.9995416801309447, 0.9995346102071541, 0.999084912284144, 0.07526349121449291, 0.0331303406303031, 0.1840174354574444, 0.6658478241894612, 0.04177303818603434, 0.9951409949456717, 0.9948399536217027, 0.996168288888069, 0.9926776712367099, 0.9297000895168809, 0.06986794479375351, 0.995361961564903, 0.9996562345498528, 0.989089240796462, 0.9919843198164845, 0.998753406962134, 0.9958298935223308, 0.9993148984826264, 0.9969033553077001, 0.05126841603697964, 0.8308738535516859, 0.046566550721418895, 0.0015371482762410122, 0.06962377486503409, 0.998120870738778, 0.9995423740463893, 0.996347662666539, 0.9925216902338564, 0.9956936250373938, 0.9986838851162542, 0.9988973961180444, 0.9999541856271735, 0.9971732729879181, 0.9995320113625824, 0.9973615483510286, 0.9996325911703914, 0.9957641152702932, 0.721520936370518, 0.2778482053234783, 0.2668965699769344, 0.7296607840498448, 0.9898757337638789, 0.9984688492924952, 0.25288781587854037, 0.1099790248574183, 0.05634826491604644, 0.05906576989072102, 0.09950863804323094, 0.028373949000278703, 0.03964360198348799, 0.32106522009611144, 0.03292976616370374, 0.9991434114774707, 0.9951787632416613, 0.9986385621815446, 0.9983036760534937, 0.9977458646623529, 0.9979568206126411, 0.9994916666373045, 0.998041516824995, 0.9923176662604015, 0.9967198596845394, 0.9992393632319028, 0.9990128678401882, 0.9950249874578473, 0.9997362510132269, 0.9947991749428104, 0.9961728565738193, 0.9983469726690928, 0.9982701042793997, 0.7982504031461622, 0.20055544954667262, 0.4184998704045922, 0.01148481972835887, 0.04472119197254894, 0.07430330339407935, 0.029060074161150477, 0.4218061063869985, 0.9961699193459919, 0.9977671183045331, 0.9991297727258991, 0.9986709773549439, 0.9935239809394114, 0.12726147298335902, 0.3755916465421277, 0.43349406855645406, 0.06347591718148077, 0.9936393557369865, 0.9997851106845601, 0.5558393914088449, 0.28253338235248004, 0.0808493660231047, 0.020651740234162615, 0.04130348046832523, 0.018454746592230422, 0.9983748964131713, 0.13210306725449067, 0.8677085680716018, 0.9950607897259609, 0.9986509265384713, 0.9967720995338883, 0.9962909111340481, 0.9997027354464413, 0.7833784170491624, 0.21635232043660638, 0.9977357600551048, 0.9994901374050498, 0.9980649421986776, 0.9952806871562276, 0.9584377579476063, 0.03898729862837721, 0.19147753265393294, 0.8056507506005103, 0.996298483334047, 0.5041694945919812, 0.003808474599435829, 0.28064830679175934, 0.008251694965444296, 0.04969152572597225, 0.015143220431090083, 0.032100000195244845, 0.03735932226113242, 0.050779661325811055, 0.0178635594306871, 0.9993270010696613, 0.9993848704621405, 0.9997826448409789, 0.9948581097183021, 0.999116288319321, 0.9993049324360113, 0.9974297865026325, 0.9806110980648644, 0.9832811186879046, 0.2924035449218498, 0.023414064118509388, 0.001905795916622857, 0.04247202328473796, 0.048053282754847756, 0.07487055386732654, 0.04927843727267674, 0.04887005243340041, 0.03348755682065878, 0.017696676368640817, 0.011026390660460817, 0.35624770812871553, 0.8734036117876521, 0.12557176469840786, 0.9917619122966718, 0.9973908710494116, 0.9877300110062929, 0.9997445803537335, 0.9971356664333686, 0.3172265389508083, 0.6816995837028008, 0.31065663322079595, 0.1755122221586418, 0.035980005542521565, 0.24308442768971888, 0.19745124992847202, 0.03685756665331477, 0.9928711100417639, 0.9994557932480774, 0.9946767531670379, 0.9955452850375958, 0.998753948661141, 0.9984696191468657, 0.9956821776177567, 0.9955243310113268, 0.9986079471960247, 0.9949217641811433, 0.9993243877886518, 0.9975523082175392, 0.9987974498050204, 0.9978948390105811, 0.998505853616346, 0.9970918627775461, 0.9955895096039131, 0.9968993132926557, 0.9963021122791201, 0.9968718360265382, 0.9980508881054524, 0.09253100143942568, 0.573819365691745, 0.09431608682660277, 0.18012245153351203, 0.01653037974974941, 0.008729801140030382, 0.005232990039121854, 0.028488006521387662, 0.0001956257958550226, 0.9968746196257676, 0.9965090712483219, 0.9944308806463735, 0.999672395352928, 0.996796867127576, 0.06230987717102799, 0.20510334568796712, 0.16356342757394848, 0.16356342757394848, 0.40501420161168195, 0.08187093879782235, 0.15707091221211844, 0.12796124508400383, 0.10067093215139637, 0.5324643278850965, 0.9948823086726877, 0.15986393084829195, 0.8392856369535328, 0.9999284365744922, 0.9915554829601883, 0.1822643171403347, 0.81761143113235, 0.9958709398984515, 0.9911431808189862, 0.9958429765781883, 0.11642277679613215, 0.8821894917791423, 0.06510983112491889, 0.02438742791251379, 0.07431263411077316, 0.17393297643264552, 0.07339235381218773, 0.07592312463329765, 0.4067638919747583, 0.105832234337324, 0.995575542211059, 0.9982710309149099, 0.9995470293277016, 0.9985208213255093, 0.9917119930481568, 0.9949726688817803, 0.9990771284485777, 0.9983313243474923, 0.9975414006983997, 0.9990576248977461, 0.9984652733432096, 0.9985904259561097, 0.9927373216368055, 0.16707409207599572, 0.20287568323513763, 0.19332859225936647, 0.43558602576956024, 0.9938807597869836, 0.9972912972445097, 0.9966140692174141, 0.4288385685958294, 0.5710762268289773, 0.9990161413767193, 0.05921031663439983, 0.07723084778399977, 0.1763437691067995, 0.687354545277598, 0.011422108889527008, 0.7942445002824673, 0.19376791866161888, 0.9970557761323612, 0.9916527187259236, 0.9846818715830379, 0.19520139810473627, 0.8046598080221057, 0.9983058364982602, 0.09489556221546955, 0.9050363943888334, 0.9924407890617613, 0.973393191238763, 0.026517814122091227, 0.998584650685061, 0.7766743439191993, 0.22190695540548552, 0.9960832740985769, 0.9976619183477028, 0.9998685483538134, 0.9995712597259508, 0.9994306090434251, 0.20822885390789272, 0.7914519020525376, 0.995772035431497, 0.997116215557183, 0.996490570316695, 0.9954456964373404, 0.9992711056503157, 0.9993691816846934, 0.9937528278455813, 0.9964472905423185, 0.12936406538968734, 0.379812895984122, 0.0734787891413424, 0.34014124926461786, 0.07727346839277323, 0.688037355404107, 0.31088373424066595, 0.03917694996771691, 0.08445939863170138, 0.10379347783654869, 0.01628132985671352, 0.07530115058730003, 0.03612420061958312, 0.028492327249248658, 0.0407033246417838, 0.492510228165584, 0.0829330239576345, 0.9974304274998248, 0.9980017070907877, 0.9952693550273647, 0.9998614443665015, 0.9951982054416056, 0.9989290407897459, 0.9983404498013527, 0.9854189002710112, 0.9992359901788436, 0.9978055952947272, 0.9977802704366949, 0.9978201147911254, 0.9968757600916435, 0.9636321934639217, 0.03473707506478756, 0.9989888762476361, 0.9355784093455807, 0.06390409746278981, 0.9959213435563631, 0.9989024924650122, 0.8457886154321279, 0.11655554374392788, 0.03741952172424105, 0.4011591286350051, 0.11576214663248348, 0.4829301740402219, 0.7142920917806469, 0.13663752300003043, 0.14830170179271596, 0.9968282254279734, 0.9962106021968219, 0.9980887276401269, 0.9989889442872614, 0.033996998145642936, 0.9657452354592807, 0.9996870062083212, 0.9951098014326194, 0.9991546998976624, 0.9877768347139774, 0.9989678022959522, 0.9954434419742033, 0.999869482430969, 0.34718432743399685, 0.6527213764768998, 0.9992448412737259, 0.9943650964491997, 0.12968672152501115, 0.8691285547816536, 0.998016628132602, 0.9957104948603493, 0.995822260844333, 0.9982659439328213, 0.2533109533572236, 0.48140289587136076, 0.1266554766786118, 0.13730350347902606, 0.9978176006471376, 0.08373602007111144, 0.9154669085085377, 0.6045639748077009, 0.012368504599240441, 0.016207006026590923, 0.06994602600949766, 0.048834268159070014, 0.10086728750759877, 0.06951952585090317, 0.010662503964862449, 0.02729601015004787, 0.03945126466999106, 0.23544974746659467, 0.2090823467250675, 0.027667202186532024, 0.5275337007512583, 0.2563483734471228, 0.47703239904445927, 0.01443971156845008, 0.1018608569075605, 0.06715335741471964, 0.08089717926902755, 0.0021746553566942893, 0.998388931651749, 0.14022580779579968, 0.08640337359627293, 0.6635970744778448, 0.10956139424592094, 0.0299134856953221, 0.20316242368072926, 0.5371963472784926, 0.1196539427812884, 0.10968278088284769, 0.994472707340435, 0.9923396188295325, 0.9919348204878459, 0.9966559964792304, 0.11390612970224345, 0.8440991358284154, 0.041782161113486684, 0.0038497914416424626, 0.1267681324712268, 0.047572422814581856, 0.8216554876876913, 0.9985830474644106, 0.9983935878643434, 0.9986804571585668, 0.14751671461757712, 0.13545215059680873, 0.7167447806883765, 0.9973337395799711, 0.9992197409235539, 0.9965132630285962, 0.9975422199906149, 0.9986446425042554, 0.9910749343057045, 0.05595252816856838, 0.2539592904738419, 0.12901675184499992, 0.02091429450961051, 0.4411014842026944, 0.0988675740454315, 0.9952697451046693, 0.1864444993809842, 0.11289891831028455, 0.7004571460308082, 0.9937893884846809, 0.983008767705301, 0.03962784513356992, 0.01476331485368291, 0.017871381138668787, 0.07847867369589337, 0.053614143416006364, 0.03535425399171434, 0.01903690599553849, 0.09168795540708334, 0.03768530370545375, 0.012432265139943504, 0.07614762398215397, 0.04584397770354167, 0.021756463994901134, 0.021367955709277898, 0.06565790027032663, 0.15229524796430793, 0.034188729134844636, 0.11810651882946328, 0.0641038671278337, 0.6691828888348248, 0.2874147765494475, 0.040644513855477425, 0.9989305761665827, 0.9986543033557932, 0.8096752361965495, 0.021888170664278256, 0.013282565103963728, 0.05443980908807669, 0.023946032863483905, 0.03722859796744763, 0.039473538548399245, 0.23100058664083625, 0.032381500327810786, 0.07135225944325749, 0.6651386084776483, 0.9994563574784505, 0.9991605285181732, 0.9985202875338854, 0.998866685239197, 0.99880414099922, 0.9982956546275857, 0.9977554926645106, 0.9992041391512475, 0.9965386162527097, 0.33092507313719227, 0.6670411278137915, 0.10653304669189453, 0.01392045661308032, 0.03578803957616545, 0.023166133020275457, 0.015322890674845874, 0.5296525973267912, 0.009349560411770364, 0.031217143374855493, 0.030126361326815617, 0.016205904713735297, 0.09359948812227886, 0.012310254542164313, 0.036722995617342484, 0.005973330263075511, 0.02004961288301867, 0.0008310720366018101, 0.007635474336279131, 0.0055577942447746055, 0.0033242881464072404, 0.0002597100114380657, 0.0016102020709160073, 0.000779130034314197, 0.9953123871580088, 0.9977658293948007, 0.9966380369629985, 0.9992168466932909, 0.9965731574652503, 0.9972776948431389, 0.9973357021426423, 0.9950173081947037, 0.9941950696801721, 0.7071720250282384, 0.29273444603799004, 0.9994634950901137, 0.9959517014432633, 0.9995665236468001, 0.999230056262479, 0.9870488717979944, 0.9971541587230403, 0.9976954878720481, 0.9978844040358089, 0.9981388594268767, 0.9924705492885344, 0.9953618509367933, 0.9992017953438957, 0.998003243171091, 0.9985885691463239, 0.9865996654168762, 0.13034992717580896, 0.8692025517751373, 0.7901310125663975, 0.02798829199826476, 0.11564393177305, 0.04182865617323085, 0.023989964569941225, 0.9994485489340661, 0.9940400011202022, 0.9969079807999545, 0.9958049038688256, 0.9996067383376157, 0.9960612177004216, 0.9904100549868903, 0.9958886996454837, 0.9956222541027421, 0.9978459974893841, 0.9989135950835143, 0.9960083703278501, 0.9955699349696819, 0.9957503289031107, 0.9994455376785369, 0.995094527265405, 0.9990154955413465, 0.9965757467176367, 0.06950266804850479, 0.7352006994334034, 0.023075254996183528, 0.026051962890691203, 0.1284599445637537, 0.0006691823948893223, 0.015414270337450596, 0.001615267849732847, 0.22676515822448165, 0.04328892400998322, 0.7297480534265716, 0.9949792774062762, 0.9906060443641749, 0.9998122372199829, 0.9960732656055818, 0.9914604182357646, 0.9930555877448678, 0.13818767532192933, 0.8612360511765055, 0.1096142788279024, 0.08119576209474251, 0.807897832842688, 0.9976936368782395, 0.9993014205292984, 0.9949487581246574, 0.9897829227231402, 0.8060505567988863, 0.19363225666118497, 0.9932521035210274, 0.9951636783010457, 0.7547695042270867, 0.24224697615776522, 0.9999137714400774, 0.9977934742332163, 0.9995578546161821, 0.9915828537687723, 0.999715448863626, 0.9998124446165915, 0.9917281018238941, 0.9868595122755401, 0.9961523717088782, 0.9983163123636556, 0.9986961303419323, 0.9992420892147305, 0.9926111503289947, 0.9893410408181063, 0.9990909366278788, 0.995912396436019, 0.9980829567065692, 0.05847219061229424, 0.9412219581379875, 0.9964781941851772, 0.9944295204476397, 0.9984101573630744, 0.996278056398715, 0.9937808468391061, 0.1575699429690984, 0.28700239612228634, 0.4342552594922176, 0.12099120620841484, 0.998700026951753, 0.9929845272486053, 0.9951880287313996, 0.99702924858118, 0.7810301930346873, 0.033634248737979024, 0.16373438534573617, 0.021325544944505847, 0.1343507216774195, 0.0247962741350942, 0.22677319799913423, 0.02720076132395182, 0.002103926290250417, 0.016831410322003335, 0.06882844578104935, 0.014276642683842116, 0.4846544490041139, 0.9922191430311116, 0.11688422283596897, 0.02642100368773746, 0.03905713588622059, 0.049108604680468536, 0.02613381886504466, 0.02412352510619507, 0.019241383120417496, 0.08012456553129077, 0.334857503259803, 0.030441591205436637, 0.17719303560145666, 0.0183798286523391, 0.05801133418394529, 0.17762753685029514, 0.8210615514548608, 0.9968611897833173, 0.9963780478915485, 0.9984794257020752, 0.9970617495205557, 0.9982232019804334, 0.3145417804280755, 0.6492178142263691, 0.036017942140057005, 0.9934234030509289, 0.9976500902217674, 0.9953812645923398, 0.07563601765655924, 0.9224628035760755, 0.9986956580935125, 0.9967986675161477, 0.9972291698727733, 0.9983476400676949, 0.2547125551472651, 0.20849888480409043, 0.13756627450991535, 0.39872724877483273, 0.03691861339445548, 0.9627421634863809, 0.996181981622961, 0.9991371548147234, 0.9987399729349876, 0.9986613240246662, 0.9951145889888975, 0.9984090137116878, 0.9965720815131941, 0.9985139595300709, 0.3169192766902363, 0.6809057726909037, 0.9996111313975206, 0.9919305474217758, 0.990820290433566, 0.5838922153798521, 0.19430029578005267, 0.22106615285179462, 0.9924369904577637, 0.9985123195822063, 0.9995649177080804, 0.9981058917160313, 0.9990210774621077, 0.9973516924727402, 0.15198729578092948, 0.04543950080048407, 0.12965926521517437, 0.12730894620825278, 0.5448822897713219, 0.9994633694056995, 0.9972606279420467, 0.8756874010479211, 0.12370731107020991, 0.9995098232164578, 0.21147651281472307, 0.2250802651010503, 0.5614639579993232, 0.1339310536988723, 0.8656783470886678, 0.9967315391024472, 0.9998403822821054, 0.9884585213390473, 0.9908657142429456, 0.9991142431715917, 0.9972915622277827, 0.9988901037345825, 0.8960292340208271, 0.10328062822046917, 0.995981907391611, 0.9982533480898295, 0.999110102110568, 0.9208958579337007, 0.031055801596653262, 0.019364205701442625, 0.009864784036583979, 0.018633480957991957, 0.9939409514490105, 0.9990345729188693, 0.9997385611699122, 0.9979644690428701, 0.49747933172606584, 0.5021178336535815, 0.09694027517748338, 0.09123790604939612, 0.811637205897753, 0.11158485466904168, 0.07984088739250396, 0.8080282579482329, 0.2666342969257782, 0.7332443165458902, 0.9859179404921444, 0.19205952156381334, 0.03638537698690948, 0.7710015326086895, 0.9950236464718354, 0.9976111236602686, 0.9936796555452706, 0.9952316256661835, 0.9949689922128138, 0.9954164317935528, 0.9994988096693502, 0.9936687302973967, 0.26378693211285886, 0.04672088296042798, 0.5574807421089415, 0.020397317634641123, 0.025772286470796553, 0.045893964677942524, 0.0015160168512233267, 0.038313880421825895, 0.9972342069674458, 0.9993837715376271, 0.9980378192708397, 0.9971718951606672, 0.9968980620365208, 0.9985894691879965, 0.9999546152158608, 0.996921584430447, 0.9962386191068172, 0.24817595586595811, 0.7512353258645219, 0.9982972512749317, 0.5507042557224603, 0.08484068876121835, 0.025847521665604157, 0.09700422836856148, 0.18214900561996342, 0.017637132430647542, 0.04105194617478307, 0.9950834566388972, 0.21670400607613702, 0.017646906032258717, 0.18493957521807133, 0.5802302703406665, 0.9996398511148664, 0.9974424533416866, 0.9968461242851274, 0.9898368199302969, 0.9961274654843513, 0.9998512396358322, 0.13569714550876938, 0.4817248665561313, 0.25782457646666185, 0.059706744023858525, 0.06174220120649007, 0.0033924286377192345, 0.9963582484764035, 0.9974881983659908, 0.9986700443600777, 0.9992648835597485, 0.998898599065569, 0.9992545314894546, 0.9971483379447542, 0.9996053116590403, 0.9996000078996685, 0.9993017815026891, 0.9925237331168495, 0.9951431540371067, 0.89334610597177, 0.10607768267315626, 0.20549920858570717, 0.7930338586361182, 0.9957080668986388, 0.9985746668137466, 0.18957558832280358, 0.8097731447444486, 0.26358746846754566, 0.5487940983866881, 0.18708889717728006, 0.5040538100444437, 0.4950795582335635, 0.9959811344343958, 0.9949653084263599, 0.9993144162119441, 0.9989113736827137, 0.9989293860208546, 0.9980950255005729, 0.27372606425795765, 0.7242689650552171, 0.9991207657357102, 0.9990839743764367, 0.9970463626425888, 0.9961361123625609, 0.9994607205581473, 0.21739441663423392, 0.2497447762524235, 0.5318399121230366, 0.9923260036469272, 0.9983652553343081, 0.9971185645037217, 0.9969781899064399, 0.9954142593999553, 0.9977589068723457, 0.99817538081602, 0.6236688336574737, 0.3752583660142426, 0.9996161568287476, 0.999084171770256, 0.996619167886961, 0.9986833689923119, 0.9980462737194087, 0.4529874500587694, 0.017997667636809295, 0.10327892351584411, 0.16087145995363386, 0.03405712491273144, 0.18496064586751707, 0.0398717559953929, 0.005814631082661465, 0.9926304118304657, 0.9993791851356852, 0.9966185260001894, 0.9972292235883425, 0.9969383663622672, 0.9992685272997381, 0.9979064380902184, 0.9949613344547225, 0.9937800038684117, 0.999092615983452, 0.9952212588103971, 0.9978160339398876, 0.9973635091314825, 0.9975852031601208, 0.09212341767410592, 0.00012516768705720914, 0.8631563699465142, 0.04430936121825203, 0.377353796249441, 0.620867822400558, 0.9920494893675106, 0.08572502313997711, 0.13288540172375857, 0.11534545796476595, 0.02392866499571177, 0.020676225093382013, 0.045998792904377965, 0.03705458317297114, 0.034266777542402774, 0.05645306401900932, 0.011499698226094491, 0.11104759095097307, 0.11790094645945362, 0.011848173929915535, 0.09850246561341544, 0.08526038886821571, 0.011383539658154142, 0.9990509357524365, 0.9997632160046899, 0.9939856206605506, 0.9992533847696607, 0.9979325103858874, 0.9960529825618127, 0.9980064345210876, 0.9994365618549814, 0.9946202679949108, 0.07444326150943667, 0.374595772526937, 0.04011098108727638, 0.06900448441285682, 0.04928891743775487, 0.08260142715430643, 0.04996876457482735, 0.06764479013871186, 0.19171689265443964, 0.9960080504545484, 0.020157073400052142, 0.11264246900029139, 0.8673470113022437, 0.09252385448586126, 0.17618904205286345, 0.7308400208058722, 0.8968767791268416, 0.10271149554819534, 0.9955602001279622, 0.0982535713396835, 0.8979919427092004, 0.9971084856819302, 0.3333491645055659, 0.08378837253979549, 0.5581004787341155, 0.024583937030518727, 0.9947917489245118, 0.9985029867443203, 0.9982616249771279, 0.9988292139306097, 0.9610004476780013, 0.9818180278251765, 0.17401342147413087, 0.12496716754512874, 0.6691790262093991, 0.03157772513237124, 0.9979645545493455, 0.9972007334819636, 0.1237304024244007, 0.07482126429328943, 0.03951599239732169, 0.7618165091680378, 0.9987866767721713, 0.9995934764054119, 0.9968730266256903, 0.999470144632082, 0.99889632956437, 0.9984649130763873, 0.5330785657889471, 0.46649642081293635, 0.9916366266127863, 0.7354329036385303, 0.26395123559541644, 0.9979474876326319, 0.9935854003600902, 0.9970926321115241, 0.9984866642497525, 0.13625347249288133, 0.8629386591215817, 0.7993585330701423, 0.20001886163817909, 0.9970586361725936, 0.9977458911380687, 0.9998407812602276, 0.2848629972082458, 0.059667249415240674, 0.011869291550343575, 0.027267291399437944, 0.21942149784959475, 0.21043933127095635, 0.04555241622023751, 0.017001958166708363, 0.10361570731786418, 0.020209874801936357, 0.9945787810137454, 0.997610269999729, 0.9966086980500499, 0.9987907941341879, 0.9933840442961145, 0.9960118286122089, 0.9984422133341698, 0.04120744194713434, 0.30405491145458347, 0.019603540343782356, 0.06801228282536737, 0.04120744194713434, 0.11282037503972703, 0.26764833653041625, 0.09961799072656749, 0.01920346809186843, 0.026404768626319092, 0.9978735227357486, 0.9970808209139584, 0.9952069973453993, 0.9990265004998461, 0.8927447732837531, 0.1069792265112276, 0.9998729283035087, 0.9936610145312986, 0.6291790947099023, 0.3618233966209496, 0.008780651466115095, 0.994286594830717, 0.9939199104175073, 0.9961146280874417, 0.9992717361549663, 0.998304620130293, 0.9961580460401561, 0.999389023599881, 0.14399576006547818, 0.6139253677855927, 0.027577594151357646, 0.2145129639021712, 0.9969790472142941, 0.9988886850858169, 0.9989408488352786, 0.17605878966932875, 0.042128353242303664, 0.11003674354333046, 0.6709097449184778, 0.9978046815625241, 0.01692576561049129, 0.047956335896391984, 0.04569956714832648, 0.18994470296218002, 0.03686055621840325, 0.035167979657354125, 0.44383118711954933, 0.13634644519562428, 0.04701601558469802, 0.9996728456825318, 0.9976110046417057, 0.9951300006125495, 0.12242114410895238, 0.039419608403082666, 0.6701333428524053, 0.07075942129497448, 0.017383802463471237, 0.07957374367081906, 0.11489518038315326, 0.07783221896923286, 0.6388727973724531, 0.07227277475714479, 0.058837451244598646, 0.0365996743962464, 0.9979104925231382, 0.05622302989731713, 0.16625608411695925, 0.024612656864919945, 0.060566439932303005, 0.0557404287823187, 0.02437135630742073, 0.07311406892226219, 0.11437646425462798, 0.011823727317461542, 0.0827660912222308, 0.06732285554228103, 0.05984253825980536, 0.03378207804989012, 0.020993148502431717, 0.052603521534828904, 0.0955550207696892, 0.9979598114029807, 0.9936741729934362, 0.9950114335275355, 0.9988395020986077, 0.997023586004707, 0.9940576426473582, 0.995444443089752, 0.8833993054689406, 0.1165294102999533, 0.9982396302247573, 0.9997011276380017, 0.9995831507808551, 0.5496878750762382, 0.4500295260031231, 0.11142001262384434, 0.8879492842777799, 0.8153197165773992, 0.18442603195942917, 0.99874269988012, 0.35969391347068863, 0.20400550316248015, 0.18253123967169274, 0.2529191033359403, 0.9991853967574734, 0.48087649616812794, 0.3653789691428525, 0.10314873482760448, 0.049395168790683834, 0.9987868795240934, 0.9988423511612082, 0.9997065881300208, 0.10590612344634427, 0.07837390953605063, 0.23613518433491115, 0.006418552936142077, 0.0847924624721927, 0.17397656642700893, 0.05793588571307191, 0.0011823650145524878, 0.03969368263140495, 0.10827085347544925, 0.011485831569938454, 0.04087604764595744, 0.032937311119676446, 0.013174924447870578, 0.008783282965247052, 0.9950716581980803, 0.9948766047085937, 0.014289644285650088, 0.6917028401565564, 0.07867710030216754, 0.06548019352071423, 0.0042028365546029674, 0.05942810888208595, 0.002437645201669721, 0.000504340386552356, 0.008994070226850349, 0.04396167036114704, 0.0008405673109205935, 0.017399743336056286, 0.012104169277256546, 0.9984966555753202, 0.9965838154754512, 0.9954726915680523, 0.9950907343147782, 0.9908354017474897, 0.9982028512580419, 0.997989918431577, 0.9967840421244805, 0.9955551901584302, 0.9993705655800458, 0.9875228953532472, 0.11541827741751351, 0.8838869791973685, 0.9943703642435482, 0.044547431987249, 0.9537200211815582, 0.06242646084663517, 0.6764135422223823, 0.260744668780153, 0.9878584024997181, 0.9983445301514364, 0.9969566047289921, 0.9904429414718504, 0.9999330318107594, 0.996415115774408, 0.9972376192069184, 0.3166776432143718, 0.060997298853490554, 0.08336297509977042, 0.050831082377908794, 0.26432162836512574, 0.12606108429721383, 0.0970873673418058, 0.10091817477574981, 0.09520631512803565, 0.803139392465409, 0.000726963955163621, 0.9946792325831161, 0.9861858006327058, 0.9998139489487713, 0.997847539281954, 0.9887157715758311, 0.07509213980650821, 0.1324659095463122, 0.47206800249147574, 0.23202627468303097, 0.08774811842558262, 0.9998724074278985, 0.11160428472108128, 0.4984241733261388, 0.03092310155999733, 0.35870797809596905, 0.567058546863635, 0.0047131439421104785, 0.004039837664666124, 0.10604573869748576, 0.003837845781432818, 0.003635853898199512, 0.014072101198587, 0.03649320023748399, 0.01622668128640893, 0.011782859855276197, 0.0034338620149662056, 0.10759434313560778, 0.029558145579807144, 0.00747369967963233, 0.0652433782843579, 0.0008079675329332248, 0.004309160175643866, 0.013600786804375951, 0.9970439791944217, 0.99875489854006, 0.07222707747298215, 0.09172838839068734, 0.09606201303906627, 0.5669825581629099, 0.020223581692435003, 0.15239913346799233, 0.9996171341318871, 0.9987597776142674, 0.9984266689057609, 0.09491154879495117, 0.01437362397615847, 0.06456723151194996, 0.020191519395079755, 0.01665515159142172, 0.03650444184421199, 0.011749867218605735, 0.11772682494758366, 0.0003422291422894874, 0.013118783787763684, 0.03456514337123823, 0.320896859086776, 0.01848037368363232, 0.01608476968760591, 0.01802406816057967, 0.002167451234500087, 0.0507639894396073, 0.006274200941973935, 0.006844582845789748, 0.12867815750084727, 0.006958659226552911, 0.9984764912870312, 0.9993669537427049, 0.9986285699126964, 0.9944787808601043, 0.7664244535903003, 0.2331615118871375, 0.9975352699769041, 0.9990421352927292, 0.9966556228885268, 0.9970814448463409, 0.9995179537397298, 0.9895665519626138, 0.9962318774708806, 0.13510132584165419, 0.12408763080021498, 0.7408545531208102, 0.9972351684735586, 0.9985034679171987, 0.9963223357317316, 0.9997974287303499, 0.997353102454982, 0.11009740507670984, 0.8888071764005222, 0.9974896390703858, 0.8572156372159454, 0.14189405598967014, 0.17465195346090445, 0.8250896317532083, 0.5021623261323886, 0.030827263927863332, 0.03754484681363654, 0.08852485939881947, 0.049691709018048355, 0.012698992304612359, 0.029815025410829015, 0.009110146653308865, 0.05282044625251807, 0.019508596873752317, 0.01822029330661773, 0.008558016553108328, 0.005797366052105642, 0.03607249987976844, 0.009662276753509403, 0.004325019118237542, 0.01969264024048583, 0.018680401723451513, 0.00680960456913996, 0.023005420841689054, 0.003772889018037005, 0.004325019118237542, 0.0046931058517045675, 0.00340480228456998, 0.9917065507470139, 0.9996901955140675, 0.9987595624027253, 0.9997302706267969, 0.9961884224251542, 0.13944880816148145, 0.13451256716461485, 0.7046484023027071, 0.0197449639874664, 0.04734286249559225, 0.23445989045436158, 0.2556514574761981, 0.2019962133145269, 0.06492735427966936, 0.19523294724372803, 0.9929086485415448, 0.9944431117447197, 0.7513389208446117, 0.24845071884503095, 0.9983271795015033, 0.9914095924508641, 0.9947461764406942, 0.9999450825676871, 0.12707507916302005, 0.0554476382614036, 0.044903497214972755, 0.682096848382906, 0.021088282092861697, 0.016906984781346016, 0.03963142669175733, 0.012725687469830336, 0.9976116660599159, 0.9909917079105208, 0.9979269602942554, 0.9951242805693924, 0.9937125817350628, 0.9986594371720537, 0.9979729539757078, 0.7081628941402921, 0.13747371028172065, 0.1524918466990515, 0.9938197691179456, 0.9978718391952092, 0.9940072087848523, 0.9980748515891272, 0.8003771580067732, 0.19895523282521307, 0.999731381247414, 0.01967624565505584, 0.9555500389937118, 0.024684744549070055, 0.9978019666492433, 0.9973024402304392, 0.9866470987668796, 0.9963053597266688, 0.9973542530187015, 0.9987133186349204, 0.9960933269970232, 0.09615802194375156, 0.29779550673396527, 0.03139853777755153, 0.12265053819356066, 0.041701182985810624, 0.0632876777078773, 0.028945527013680316, 0.06525008631897428, 0.07653393583278185, 0.06770309708284548, 0.0299267313192288, 0.050532021735746994, 0.02747372055535759, 0.9965534699865539, 0.9972237797704923, 0.9987175630863347, 0.06378849403939106, 0.9354246921960702, 0.23580581836212955, 0.761688195204712, 0.0024452855332398513, 0.9971513714294887, 0.9979357919924206, 0.9850637078095623, 0.9990960647494086, 0.9966775939430048, 0.9966093586760258, 0.997449341145881, 0.9982882173780477, 0.9667597877108591, 0.03250493863236077, 0.9923500375121628, 0.9949603528881662, 0.9972751209144812, 0.9954108390389611, 0.9990609427081526, 0.9953290677836012, 0.9982653978010598, 0.9952859255995936, 0.9925249671039847, 0.997416525880317, 0.998547323265648, 0.9950722539078709, 0.9991454587659508, 0.2668278039845216, 0.0002733891434267639, 0.03143975149407785, 0.7015165420330762, 0.9936772734993257, 0.9915348236956929, 0.9990800328731092, 0.9987960408145662, 0.9963804637081602, 0.9883440326757535, 0.9983179876232836, 0.9983990078629238, 0.3208105171633128, 0.11054251774482682, 0.09222946544890272, 0.015751122700121245, 0.017364189482663783, 0.03501303780930566, 0.013473851948296487, 0.034728378965327565, 0.01764884832664188, 0.017269303201337752, 0.021539185861009173, 0.07135448355717576, 0.01916702882785838, 0.015086918730839024, 0.014043169636252677, 0.02969940605504789, 0.013284079385644423, 0.016225554106751403, 0.04326814428467041, 0.01186078516575395, 0.015751122700121245, 0.0037005649717152325, 0.009773286976581254, 0.007970447631386655, 0.0057880631608879275, 0.0237215703315079, 0.0030363610024330113, 0.9975142482481978, 0.9967789520974585, 0.15507767356099744, 0.842232192615762, 0.9941609744452973, 0.999438034281237, 0.992488524283153, 0.9926720954496705, 0.9968408912659539, 0.9980367473549833, 0.9905026234138972, 0.9840380663679299, 0.9966616045858617, 0.997586145327428, 0.9991478592211472, 0.9973309822772813, 0.9970876703025288, 0.9982481579260777, 0.9944044419822463, 0.9977789392125432, 0.9969898083690222, 0.9953184944561868, 0.99951664349949, 0.9672075684696589, 0.03231540438554416, 0.9945018049337924, 0.6639734963497013, 0.026381584662976444, 0.028376830561857014, 0.03613612016861479, 0.042121857865256504, 0.03148054640456013, 0.05298486331471739, 0.029041912528150537, 0.00642912567417073, 0.0587489070225946, 0.024164644775331364, 0.9976812003064789, 0.9971178101767638, 0.9990511364237162, 0.9961917223741675, 0.998375673294421, 0.9977058477449148, 0.996314920989721, 0.6739546485535883, 0.011158189545589212, 0.017166445454752634, 0.10608863291037127, 0.0920121476374741, 0.012874834091064474, 0.021801385727535844, 0.03158625963674484, 0.03313123972767258, 0.9992924184159815, 0.9619409144144856, 0.03689064288275524, 0.9998682965038029, 0.9911145430550806, 0.9957355608740996, 0.9962511703640234, 0.996348665076839, 0.996755124103629, 0.998817749933367, 0.9995174366711153, 0.239693638836467, 0.12085393554779848, 0.636497393885072, 0.9992917610299131, 0.9987831984128136, 0.9985542486082227, 0.9957686339435837, 0.9988400846189797, 0.2542451370052717, 0.7436950263061691, 0.9877236086211683, 0.9976522616093431, 0.9980501676279845, 0.08299719078987006, 0.9165312098812689, 0.9964090202447049, 0.9942838421647047, 0.19671754888601, 0.08052169099479166, 0.006552398001384493, 0.7159586882846123, 0.9980611686898291, 0.9994019505892889, 0.9974816341365957, 0.9984491049591449, 0.9962424501943815, 0.9897130490980188, 0.9961487964822355, 0.7089480682160559, 0.06851766339760698, 0.22093450646575313, 0.9991387761960515, 0.9962417285633509, 0.9932731176151085, 0.9948978347256802, 0.9986038844374988, 0.9959564677870809, 0.9984967386764881, 0.24956250937279065, 0.013173387591525606, 0.09257964057377718, 0.03952016277457682, 0.05745060699637556, 0.051961695499906556, 0.0018296371654896676, 0.4175232011647421, 0.023785283151365678, 0.013905242457721474, 0.03842238047528302, 0.9972932496038951, 0.037857407604378175, 0.38522470170401035, 0.014324424498953905, 0.562745248173189, 0.9950498993358207, 0.9955573899926603, 0.9100123214158389, 0.08923135404482699, 0.9939490294872235, 0.987384006161617, 0.9896833178146147, 0.8162139902891834, 0.04595419676731456, 0.11298830030862664, 0.024452691857837106, 0.7431143577297664, 0.14906785020327648, 0.04153134135016658, 0.0663018199411588, 0.9963196840970604, 0.9987692801566922, 0.9924385195442121, 0.994545893143108, 0.7293596228501927, 0.0844989806960589, 0.18602482366771467, 0.9997131202561014, 0.5778782139348624, 0.038884794078534256, 0.018438918482401728, 0.023080006807904205, 0.009783915929437653, 0.022327397890255153, 0.009658481109829477, 0.03750501106284433, 0.026090442478500404, 0.03424370575303178, 0.07275219537274151, 0.04252240384717133, 0.008153263274531376, 0.009533046290221302, 0.0046410883255024755, 0.0077769588157068515, 0.019818701498091652, 0.009031307011788602, 0.004515653505894301, 0.004390218686286126, 0.008404132913747727, 0.010285655207870352, 0.00012543481960817504, 0.2566976018624339, 0.742845574104697, 0.9972924589232844, 0.9944353394558789, 0.9951962366292876, 0.9947907314194802, 0.9969996946524139, 0.9989171423325801, 0.21682145999778182, 0.3491038374157834, 0.07419977032182155, 0.35944314967374213, 0.9955852412241347, 0.9980578084290073, 0.9963179359135615, 0.9967043767348723, 0.9942198196988757, 0.9976867106257061, 0.9896001861131245, 0.9975578179608936, 0.998710931588129, 0.996592993838391, 0.9954871059477034, 0.9986906983629754, 0.9919429030262713, 0.04552696680547465, 0.9543055914915515, 0.9966181506673987, 0.18292134993324544, 0.8154661706947736, 0.9978204067236128, 0.988966235315777, 0.9905856240923876, 0.3359795838796754, 0.6638531711432855, 0.9970531835787001, 0.9947833446050837, 0.9995045938846916, 0.9939761889549035, 0.9990483717559684, 0.9982769807238716, 0.9933682183462867, 0.9970931504670194, 0.26207726769248285, 0.7083968250785533, 0.029311273360343476, 0.9970769604291271, 0.9966353006954816, 0.9956061430376485, 0.1813248527119333, 0.47399652261970465, 0.009370278259989956, 0.06329922016057045, 0.14404310729452643, 0.02900798908145827, 0.049941589449520936, 0.02880862145890529, 0.020036446066574266, 0.2649945365443688, 0.017067596182759884, 0.7094669104346707, 0.0010276301366583178, 0.006970013100812938, 0.0004467957115905729, 0.9968691437001789, 0.99391135349853, 0.9969406094789489, 0.9944177899693049, 0.9962329803098016, 0.992927184698655, 0.9960830725541551, 0.9927552406836813, 0.9876714147850275, 0.9906820933612067, 0.9954249550470241, 0.9996018332835773, 0.029977076846335698, 0.9700080477869542, 0.9964468839997398, 0.9913304488968714, 0.996977250096564, 0.32760575805467584, 0.6715918040120855, 0.9987107366154252, 0.9929745825275225, 0.9970142336870423, 0.24785247391825166, 0.750890335184289, 0.9974604831766123, 0.27974432384929343, 0.09296639161154767, 0.6262554198559711, 0.9980843179667129, 0.9966936438506105, 0.9919900182613003, 0.9984043575540897, 0.9961374879444009, 0.998977404763856, 0.039837243277718246, 0.9534589343854518, 0.006649996515650605, 0.9906305901104895, 0.9991032900208002, 0.47294754778690623, 0.5269502631768089, 0.9987549334718399, 0.9941059663342908, 0.9986249858024208, 0.16752960806163741, 0.2973104589995167, 0.08797644222231238, 0.029325480740770796, 0.18718391962194125, 0.09483985260845022, 0.042740328313676586, 0.056467149085952274, 0.03618889112690864, 0.8772247193058912, 0.03617995352467191, 0.08627527378960224, 0.9951922329815402, 0.30226176851157494, 0.5879152419801242, 0.06569707845274414, 0.0085111761300824, 0.018218517554122324, 0.017344396762384133, 0.35927203568467586, 0.6397109987910595, 0.9912195392619128, 0.9954804192996617, 0.994224297511365, 0.9953911682621182, 0.9966869574233038, 0.9968005594471507, 0.2156273767801892, 0.20682625936058963, 0.008194143804454762, 0.01911966887706111, 0.5500698387249724, 0.9934389999524473, 0.9952800443795242, 0.9988822731522051, 0.9985292292351095, 0.9975753384227082, 0.9947865573056135, 0.9931817814985858, 0.9998885196562722, 0.9981760782185621, 0.9989620983523726, 0.9948750925878348, 0.9968650869453136, 0.9972617856435647, 0.9948739515803953, 0.9981910325321586, 0.9968893501119915, 0.9997546849511485, 0.9974582432092762, 0.9947403836601609, 0.9924134266953958, 0.03647562206672423, 0.6340724678065145, 0.04991400914393842, 0.14343421308944942, 0.04058941402913674, 0.09516572073047601, 0.8225295461020928, 0.17568592246840817, 0.3457653066203935, 0.038418367402265945, 0.0823250730048556, 0.11760724714979372, 0.09565389434849889, 0.23521449429958743, 0.08389316963351952, 0.994820438912289, 0.2819453508956775, 0.03999224835399681, 0.5698895390444545, 0.10797907055579138, 0.9946680577413813, 0.9989726519680929, 0.28333108409811936, 0.7157837914057752, 0.9980762613365799, 0.994945394848908, 0.9889284642645341, 0.9967401497700593, 0.995584783195781, 0.11667601543543347, 0.11585914718267665, 0.7673796511106427, 0.9980326765508936, 0.9997369324720315, 0.06222754174783426, 0.03389630322849509, 0.40751451120228044, 0.07259879870580664, 0.12622578590312722, 0.07133401127190757, 0.10523031450040266, 0.0756342885471644, 0.045026432646806905, 0.9966453338862898, 0.9982967135779752, 0.9950025471254719, 0.31562973634020536, 0.6210927754630102, 0.06284867370756651, 0.4944273418624833, 0.5049760325698041, 0.9980219448435248, 0.03791345877583942, 0.8007096144449668, 0.16127366792707812, 0.16039006235341027, 0.015618507944526844, 0.22556729742960885, 0.14507191033089356, 0.03033594812302329, 0.015618507944526844, 0.02042420269668895, 0.025530253370861188, 0.004505338830151974, 0.06547759099820868, 0.021925982306739606, 0.015618507944526844, 0.05436442188383382, 0.03363986326513474, 0.027032032980911846, 0.011413525036385002, 0.04595445606755014, 0.08139645486474567, 0.3201778647282354, 0.6121152023964598, 0.06772035708093314, 0.4514129829125338, 0.5481747837823592, 0.9942329574278962, 0.9987301744801951, 0.997498477787823, 0.9943971309746366, 0.9975347525975191, 0.9995267958538252, 0.9967864418181371, 0.9940343821451463, 0.9942865802425629, 0.9974360985192873, 0.1517012047776938, 0.8478642677986175, 0.2498592274631148, 0.7495776823893444, 0.997515607497401, 0.22528986686687788, 0.7743922176016473, 0.37242673848899555, 0.6265720235523015, 0.9966686979548817, 0.9989816839559067, 0.996685803683111, 0.9958955635600956, 0.18392500725234825, 0.1781952562476022, 0.5609426233646385, 0.0762056883631225, 0.9966329594818948, 0.9906991674954437, 0.9967030489935126, 0.9997288788190886, 0.9951810283279013, 0.03090430426273189, 0.30127474756674144, 0.07531868689168536, 0.004053023509866477, 0.5883639128489503, 0.998696546750839, 0.9991471827566243, 0.9976389903466378, 0.9917948072231684, 0.9995720845686153, 0.9968731843941743, 0.9990707962273716, 0.9966640799347574, 0.9897513392414069, 0.9955935243715964, 0.9979557450685154, 0.9906029878067637, 0.9863345995914703, 0.9899499176406544, 0.9894806899894489, 0.9926272133911743, 0.9976939409255341, 0.10673377426847122, 0.27303988766353104, 0.09680505108070646, 0.5220853609566305, 0.9964159764233069, 0.007937730798973693, 0.9919402548873995, 0.9971234580162377, 0.9985112641892883, 0.9952105394985427, 0.13532567044838723, 0.30702920929687855, 0.3899707492491159, 0.16588307990447468, 0.9970906142754049, 0.9974677230838117, 0.997609478296856, 0.9965887832418242, 0.9916932388212999, 0.9998228038609218, 0.9970923819137465, 0.9185740838347122, 0.08139068908621044, 0.9990288237842131, 0.06702162356860383, 0.9326900816813095, 0.9991641708395842, 0.9955387461839915, 0.9947526230529365, 0.9990707137082204, 0.9504477788317762, 0.048544375800547705, 0.9991115487330666, 0.9953208637614581, 0.9994087941575068, 0.9978959752472767, 0.1466006089663878, 0.8532518914427984, 0.9951758034630236, 0.9820291728227893, 0.9976394245662316, 0.9971490330324946, 0.9994003870593507, 0.9995659851747284, 0.99714829961992, 0.9947361798891557, 0.3398764384217518, 0.6600086362975223, 0.9908010547900796, 0.99526928693706, 0.9935747573778795, 0.9955427215120223, 0.13188753798964373, 0.8665423394475811, 0.9961217804034014, 0.9976243720450503, 0.9987815281325964, 0.9965604139569127, 0.9958021992954375, 0.04824959700182872, 0.041117047879819256, 0.07006680608091649, 0.2093612948166307, 0.12083377336110149, 0.036082307323106695, 0.07761891691598533, 0.02349545593132529, 0.32516032762101965, 0.04783003528876934, 0.9993473486634692, 0.9993947778229348, 0.9999599442102798, 0.9990611319250663, 0.9873359460015139, 0.9902634456483376, 0.995437280736033, 0.9985069091812423, 0.9965757964954827, 0.9938843050251891, 0.99587205972887, 0.9990867356574527, 0.9873192577798773, 0.9839241044127891, 0.9971734533579298, 0.998762853702468, 0.9954921001416359, 0.9977660425942189, 0.997636182965252, 0.9984632935253044, 0.9986963781753206, 0.9981875363818784, 0.9951220275393793, 0.9444066264153498, 0.0555121701869235, 0.05144763546791143, 0.11379006432902763, 0.8340569608797876, 0.9973067963101861, 0.02936537495486396, 0.9589313821467644, 0.011476123545579019, 0.9994130290030584, 0.99136679317396, 0.9926013342020822, 0.998885811632721, 0.1469268426877999, 0.8513420601129965, 0.993662824202192, 0.2536451123344458, 0.038410415756739556, 0.042046904822466376, 0.0706842562150651, 0.07386618414757606, 0.05113812748678343, 0.47001621174519176, 0.9991117564583968, 0.9959017961435731, 0.9984218627125703, 0.9990476307248016, 0.9985675903776521, 0.9990832442752023, 0.9975544750400638, 0.3779815477605683, 0.16253206553704436, 0.4573576727902876, 0.9983045399071352, 0.9997371738095077, 0.02691947528808305, 0.9728925857636775, 0.9988761857164884, 0.9984109740661469, 0.9935239872513516, 0.9913144321937327, 0.9966448683260779, 0.9967562916754493, 0.9990758205250946, 0.8541287514392105, 0.1444566747400544, 0.9970899195642201, 0.9971238385157803, 0.9972079038350632, 0.33710748550102293, 0.6622006581015901, 0.9982829642912402, 0.1328711500548582, 0.8342888828370325, 0.032527803796812464, 0.9977109461690282, 0.998027441787186, 0.10092077238929059, 0.850617938709735, 0.04752353832088287, 0.10289559406331411, 0.20057302804734764, 0.1027325265608366, 0.017285155262616952, 0.3163509548063857, 0.010436320158561179, 0.2498194137955582, 0.05850659836426241, 0.18360607291549016, 0.7577317983273986, 0.9994334337255072, 0.9993544702415627, 0.9977958706416237, 0.9956381899569174, 0.9998268323198025, 0.9981656420870884, 0.41232343971720464, 0.5875339875343719, 0.9979375712317148, 0.9997107920943419, 0.9980734585284325, 0.9973028914654037, 0.99712540757652, 0.9956736465689376, 0.9980315423887789, 0.18545143221164848, 0.33862492527253535, 0.47536601294757996, 0.9874341605878032, 0.14205877699748531, 0.023867594722584564, 0.04400811759659736, 0.5746141348076891, 0.014979961852913434, 0.0034403740140662433, 0.0726779010471494, 0.014908287394287055, 0.03555053147868452, 0.0024369315932969223, 0.06300184913258808, 0.008385911659286469, 0.9983946679139883, 0.0774041276216673, 0.2306614804900687, 0.2702799866133629, 0.4215634637318493, 0.9921642132041475, 0.996512903450859, 0.8460427298585563, 0.15341746011850907, 0.02061760176399321, 0.9030142493665869, 0.03340418564730057, 0.04294823868938645, 0.9858839902528959, 0.7559767422877752, 0.24352191978457743, 0.8307165682191192, 0.1690541803249151, 0.9981326767825762, 0.9961659153898613, 0.2264619308640048, 0.772540345713378, 0.24407446416018166, 0.7542688279530775, 0.994735098595585, 0.0124671896472771, 0.09484842319889245, 0.09313724030612892, 0.020534194713162285, 0.7789548982558526, 0.9995372790313741, 0.06430340441798905, 0.9331470780657017, 0.22533955252124985, 0.7281132852971568, 0.046440947204200236, 0.9975763195857684, 0.4848030231819662, 0.5145888192707532, 0.18906126060587622, 0.2457796387876391, 0.5629824204708315, 0.9985528036880984, 0.9999033708362979, 0.9989119848160756, 0.011188558787140122, 0.02405205152445092, 0.9559183040414088, 0.008776653898894347, 0.9919669855626619, 0.9994430805486101, 0.9989126309845547, 0.9996238840282868, 0.9978257829514735, 0.9971586087146558, 0.9937567474634954, 0.23958188214203846, 0.3492317911647175, 0.012676290060425316, 0.39835241514886555, 0.9973958541216286, 0.9987855779589179, 0.9103289022257383, 0.012039437573295864, 0.004668353344747376, 0.06363702717313528, 0.009091003881876468, 0.9966308424673916, 0.11420431684325694, 0.8856618383553498, 0.9950714237983104, 0.9911749276626706, 0.2953915027504201, 0.7010874274139717, 0.999270678271158, 0.9996510053802532, 0.995069401418403, 0.9974583019496196, 0.9985102697926619, 0.9981514648478351, 0.9990428198684306, 0.9956429720532244, 0.9980790248101877, 0.998674808716215, 0.9992529994204694, 0.06828844571568828, 0.07873135645481902, 0.12551969182523812, 0.048631201971442176, 0.012592921773657657, 0.012183395862319197, 0.19616291153112253, 0.06194079408994214, 0.39601155626429124, 0.9979893955969514, 0.1881666050430894, 0.8100731810329611, 0.9962959659155086, 0.6772290956129828, 0.04910044853508313, 0.028388986607557152, 0.04044091488435028, 0.013658852047032214, 0.01964017941403325, 0.07686452034310286, 0.0024996591981496863, 0.010891372220509348, 0.016872699587510382, 0.033745399175020764, 0.0021425650269854455, 0.010266457420971925, 0.006249147995374216, 0.00392803588280665, 0.005177865481881493, 0.003035300454896048, 0.9989067999920827, 0.13623650750391267, 0.8630983445983174, 0.9988995604214576, 0.9983195862718713, 0.9043133477793549, 0.042916565657325316, 0.05211297258389502, 0.9329771994791435, 0.03158810348901574, 0.034972543148553144, 0.9758264796893716, 0.024105368680382128, 0.9950992688775009, 0.9930543170565104, 0.9949499413601575, 0.9383024397425574, 0.06139135510431919, 0.9969694361748939, 0.9993870862523822, 0.9935329648210404, 0.999095818935057, 0.9970579063064836, 0.9965232728329567, 0.9981608226103084, 0.9994444245739051, 0.9995262404989952, 0.21067959851626947, 0.7890681748151649, 0.8652000266879863, 0.133909550006389, 0.9989262743724583, 0.9985231158729433, 0.9995967739273993, 0.998856233451374, 0.9994825361025065, 0.13311312543085418, 0.8667712359786005, 0.9986579871557774, 0.9951597369339432, 0.9988630430962812, 0.9972068220639814, 0.9993555057623308, 0.5336515632442329, 0.16025669301050377, 0.04965700346804342, 0.2563462192019125, 0.9983742751040565, 0.9933622948418752, 0.3436505287265313, 0.6555295934764588, 0.20280803243929243, 0.7951681271877209, 0.9957568470891185, 0.9993799142870802, 0.9991819573969029, 0.9917422264296113, 0.26455994102639874, 0.7338547107867945, 0.9996670451018048, 0.9939400453094952, 0.9990491851932792, 0.9908106376271872, 0.9977832909591162, 0.10369540525110696, 0.018533584495282744, 0.0371598369130419, 0.8404053889385961, 0.9945318096071543, 0.2895902772568352, 0.7094961792792464, 0.9989665220270182, 0.32074893385433784, 0.17170363286910967, 0.08029492515504777, 0.11337781277257819, 0.00818456855121195, 0.07874416479797604, 0.021366031586321724, 0.001464607003901086, 0.19238043763006618, 0.00689226825365217, 0.004738434424385866, 0.9981792077644925, 0.9872259202538018, 0.9917931779092923, 0.6867608593509987, 0.18263125794015528, 0.13003008917858982, 0.9937371154110706, 0.9985301984152685, 0.9981302000442359, 0.9970310384385599, 0.9984680928604984, 0.9955357931851297, 0.995044709498987, 0.2255769604267124, 0.7679215674100848, 0.9928977329197165, 0.4889776535757917, 0.5105728811785081, 0.9983638469850648, 0.9906919352623871, 0.998966930356594, 0.9984079651502379, 0.9980216131853239, 0.9980480613270153, 0.9990100506094513, 0.9925539592057804, 0.9989629721618993, 0.9986228143637997, 0.9985998412241718, 0.9994998027167167, 0.05496127583674079, 0.10599674625657153, 0.8383775568112365, 0.7110832630321644, 0.28887979530035085, 0.9900262148064531, 0.1546888037594938, 0.8451885750930908, 0.7927473473797234, 0.116379144261272, 0.09036498260287003, 0.9985323480822732, 0.9988401345753011, 0.9981921535320465, 0.9973764346177241, 0.9958317625760396, 0.9862263693392397, 0.9994537000032789, 0.9945460211565139, 0.14565566043123995, 0.8500993999714186, 0.9986131265966444, 0.21861396379817238, 0.7811645482971324, 0.9938699591326107, 0.9984355498710068, 0.9994076586130154, 0.9978935406484905, 0.9993500679168696, 0.9915801591649793, 0.9910054272920288, 0.9963742885975972, 0.9963855418310752, 0.9996587772813863, 0.7902944439556762, 0.2090795617120674, 0.9951569613006789, 0.13066923128802443, 0.5271019788012938, 0.04138726648365714, 0.07184204748106522, 0.13847814949248805, 0.023687051886872954, 0.0036441618287496856, 0.03904459102231806, 0.023947349160355076, 0.9957669567484148, 0.9977015366095402, 0.9974631677942869, 0.9920835243926635, 0.9962379846697129, 0.9973763902166997, 0.9938160980524796, 0.9952678448049095, 0.9981332388834213, 0.9985722562158105, 0.9993195031329619, 0.9944871131252262, 0.9924976879512193, 0.9936626422752728, 0.9936699862825319, 0.9953180239000761, 0.9996954886228537, 0.9991500471597646, 0.9998525459361733, 0.9998552943476817, 0.9955990469087249, 0.08462278340419647, 0.1581734269237317, 0.5116910360982722, 0.2443779445971655, 0.9991960190232324, 0.05487548737517996, 0.07610707475248173, 0.8688618834403493, 0.9720098882310027, 0.025714547307698482, 0.9991361358743112, 0.9993215199415562, 0.32204100530960134, 0.6767528372448144, 0.0841070132124454, 0.7978800442586037, 0.11744673016152286, 0.997247701749509, 0.9973914144393957, 0.9972087987909571, 0.9983851801851577, 0.9963562848610736, 0.9972728093159032, 0.9996124954764388, 0.9998232102578958, 0.9995436077404714, 0.021270313510120112, 0.06981025972552242, 0.6921032780600621, 0.21652088367994063, 0.9922188623997151, 0.03452444580726334, 0.017179943480830757, 0.3157226011716656, 0.48561315337099203, 0.0024354709149070424, 0.04054729955629022, 0.02906109213328268, 0.026559797680134906, 0.0364662401853649, 0.007503883359443319, 0.004443088831249334, 0.9966129242604699, 0.9953563266154452, 0.9988752512485113, 0.2961357396841463, 0.02169006165100623, 0.15028114143911459, 0.019698117213668924, 0.48780505998793605, 0.024345987567455974, 0.9940732996177702, 0.9995928011524338, 0.23207951814984715, 0.765368623685666, 0.8699073748273406, 0.1285577401222671, 0.9990926453222371, 0.9952662019782039, 0.9972384347568043, 0.9865539196450004, 0.999178212578566, 0.9982162386220594, 0.9922457115945243, 0.9980540905919268, 0.9999177223910332, 0.9991392771232445, 0.9932311925270331, 0.4262923460529117, 0.08108497771076362, 0.0882395345675957, 0.005365917642624063, 0.06319858556868341, 0.3350717461283026, 0.3293373115910248, 0.30410357954799416, 0.02263614197977748, 0.03432529726441667, 0.018925299032272976, 0.009091565221386037, 0.003154216505378829, 0.022821684127152703, 0.02152288909552613, 0.011503613137263965, 0.04694216328593199, 0.13767227335241713, 0.005009637979131082, 0.016513251116395046, 0.016513251116395046, 0.9976378449004222, 0.9990228981614625, 0.9969571057072831, 0.08007988459843991, 0.04644633306709515, 0.13853820035530104, 0.05565551979591574, 0.022021968264570976, 0.06566550537072073, 0.016416376342680183, 0.01601597691968798, 0.5209196493128516, 0.03643634749229016, 0.0012011982689765987, 0.996816834112275, 0.3158054328231844, 0.40231319164933727, 0.14070539086181483, 0.14070539086181483, 0.9993276963384935, 0.9978159640880533, 0.9997530842379075, 0.9994736835760057, 0.9972871937499229, 0.9965615150027308, 0.992703061869622, 0.05268868920987366, 0.2509911709037556, 0.5979426871483889, 0.03945814686766018, 0.022180615103122588, 0.03657855824023725, 0.23816305399295593, 0.760994373705303, 0.9951193047565889, 0.9993967012894299, 0.07888119492589346, 0.9210566916376461, 0.9985640277497716, 0.9996015989945177, 0.9940336356174737, 0.9851857147169601, 0.9989830208244403, 0.995546900544218, 0.9993579613331544, 0.9923599488723855, 0.7756948962051924, 0.012378825750369072, 0.06418152046658747, 0.1408091429104482, 0.006929451371130513, 0.9978995105038284, 0.9946771994270968, 0.9953688731542145, 0.997973754527258, 0.9942624142537095, 0.9968680054691094, 0.9933174347497025, 0.8022942048651879, 0.19553401475357596, 0.9966459256299735, 0.9950596462553072, 0.9969609800637845, 0.9969478805091915, 0.998288161192668, 0.9976130713494997, 0.14567240202120027, 0.8536891045823413, 0.9858504798225183, 0.9993432010401705, 0.993102591335922, 0.9931222505134133, 0.9989795210553567, 0.9951141861512798, 0.9945205501653185, 0.9988474859387442, 0.2664495078183653, 0.23646686681120319, 0.24608394034180237, 0.2500439117955785, 0.9985645516564964, 0.9987358694141056, 0.9885332887013115, 0.8004795375715044, 0.024222762061650634, 0.033550782234460196, 0.022116434925854928, 0.0021063271357957074, 0.02316959849375278, 0.06905743966644498, 0.024975021753006244, 0.00015045193827112197, 0.9947591264991905, 0.9950825001458895, 0.9960198522949029, 0.9967867739092178, 0.9974702150430084, 0.9982063971775913, 0.005150840683355627, 0.03418285180772371, 0.22804176479947186, 0.3230981883195802, 0.0181059854324016, 0.059624883061874225, 0.0658683263144265, 0.11597195841615851, 0.1498426380612546, 0.9989993638693687, 0.9941445357649971, 0.7803793508312098, 0.21921370500684398, 0.9992017204278593, 0.9862709379397752, 0.9987040062115764, 0.9948890762644702, 0.08703265920932418, 0.9052438865065635, 0.007730445778073705, 0.9991691833066335, 0.9993107136750833, 0.9935699156101092, 0.2713164083562069, 0.7212159917685782, 0.007265696629694053, 0.9974664000921182, 0.9961973942425484, 0.30064998797998016, 0.6992557854927001, 0.9938906239248136, 0.8550519432519966, 0.1434914755342431, 0.9934849272938501, 0.8593334029860449, 0.13969459260364275, 0.8004484255624629, 0.055024340538016255, 0.14327092441974043, 0.9945390991711301, 0.996814745552195, 0.9869106660351228, 0.8881754421671578, 0.10822305807919151, 0.9944131984154723, 0.04132767500092676, 0.06950092713188434, 0.648088377144859, 0.11155364906265193, 0.12947266604300361, 0.9990758419879261, 0.9987485593071624, 0.997185911847908, 0.9974496249539466, 0.9945563730237683, 0.9320661097996088, 0.06764660243074427, 0.9978287597397689, 0.9975714922110027, 0.3200798085456547, 0.6692374473575115, 0.01062459182803536, 0.9966503144954277, 0.6345675693150654, 0.24162244857188428, 0.1234567255476781, 0.999862664636543, 0.9917674376764926, 0.9960972966588933, 0.9961935464943471, 0.9983494110204023, 0.9995636533192711, 0.23697919337962764, 0.7619792525591105, 0.9957269993039396, 0.9962399524007644, 0.9982308522560037, 0.9976536812624378, 0.999135824545208, 0.9998208631577592, 0.055461700322149685, 0.8824352676256316, 0.061404025356665726, 0.08535621351836976, 0.9143341858223526, 0.9911266296664178, 0.2537955269833502, 0.5870100624104697, 0.04186762945133497, 0.11567551229853373, 0.0008632500917801025, 0.9984384517803157, 0.9988194669014799, 0.8553129965637027, 0.02342521045022123, 0.044215084724792575, 0.01141979009448285, 0.01786172296829369, 0.016690462445782626, 0.031331218977170894, 0.9977498480018208, 0.9993680252393404, 0.9983357771612765, 0.996167458012758, 0.9979670446366276, 0.010959320047469783, 0.1417862031141403, 0.017466416325654967, 0.044522237692845995, 0.06575592028481869, 0.6096121776405067, 0.05787890900069979, 0.05171429147399804, 0.2738894483564563, 0.2129158548264732, 0.00442550275620845, 0.11998029694609576, 0.38846079748940837, 0.9986176707805865, 0.999773457082651, 0.9970994924624773, 0.999520248662246, 0.7836730216060284, 0.06228446029928509, 0.1377276093941938, 0.011599140493920072, 0.004581173136254146, 0.9959572024768103, 0.9993873002026658, 0.9976808332630027, 0.9960211781116555, 0.999177372295585, 0.9988823950023453, 0.9993134713442128, 0.9921342076831374, 0.9992654521337819, 0.9977037256685284, 0.9974923640613599, 0.9972893623845022, 0.9976152022673825, 0.9987932792929275, 0.0573936399516454, 0.07467344552848487, 0.14194126009546712, 0.7251346983137994, 0.9915226395508763, 0.9983826534768266, 0.2304804905573652, 0.06156670638176193, 0.05446285564540479, 0.13813043098472227, 0.013418384724230166, 0.10418981079990482, 0.22100868957555567, 0.15549539945137308, 0.019732918712103184, 0.9986149040033504, 0.9976438082886989, 0.9979721951782023, 0.9993652730040397, 0.9919227923048725, 0.9981229343559687, 0.9992795847569255, 0.9965166250392015, 0.9925681550287194, 0.9959812867104194, 0.9956719515988721, 0.9995314084882079, 0.9936139761776666, 0.9992566528202229, 0.9998252017623648, 0.9952833878925557, 0.9974294419380086, 0.9956492944304778, 0.9975620474916684, 0.998122601686277, 0.9978662562153878, 0.8958549548335436, 0.10285361134713474, 0.10857579350643777, 0.8899924891967096, 0.9931355069138353, 0.8650678346614451, 0.1318700967471715, 0.9942370018321512, 0.9930879862880672, 0.9989491268842027, 0.9984359237546419, 0.997608558129868, 0.16308563963269512, 0.8365168584608069, 0.9982373225124686, 0.9957590354734356, 0.9970108684637772, 0.08243760034142127, 0.1214350280478421, 0.055287492444546005, 0.031099214500057128, 0.055287492444546005, 0.6540707811519951, 0.08576648062018268, 0.864463368690012, 0.04915883645303153, 0.9987023914747012, 0.999092221036919, 0.18476370372263964, 0.8151053103542308, 0.9937464471142838, 0.9996559058531471, 0.9911660509981541, 0.06026704809585104, 0.026484135322398208, 0.1320036036147879, 0.04984022316577301, 0.035242668263663755, 0.054845099132210466, 0.09384142437070231, 0.017308529383929537, 0.0408731537259059, 0.10197434781616319, 0.040664617227304335, 0.04504388369793711, 0.04587802969234336, 0.0058390219608436995, 0.024398770336382603, 0.028569500308413816, 0.18851699473581088, 0.007924386946859307, 0.9995688560717448, 0.9972006939697479, 0.9991200272299391, 0.9998167045121866, 0.998984644267732, 0.09143132949606904, 0.9051701620110835, 0.9989544327257182, 0.14220699530371778, 0.7537792756850243, 0.10357272490328578, 0.9988111968946622, 0.9991755786921943, 0.9906448265048315, 0.22525046739556165, 0.774530164752212, 0.23649660511540593, 0.7628625900415235, 0.9962927266211312, 0.17731333847037659, 0.28052558026656593, 0.5412026524954032, 0.9978059737759354, 0.99802038128294, 0.9981473464182156, 0.9987170259423149, 0.20084772035872892, 0.7975181410735493, 0.9990830107988878, 0.9988426170055268, 0.2956032064215674, 0.7040559932373706, 0.9922599101556765, 0.9997458037707317, 0.9971171207372507, 0.9932536573264386, 0.996740108770815, 0.3990698981437768, 0.025883526791513112, 0.5749426678726774, 0.9980073450275794, 0.9973964682513947, 0.9967474536537976, 0.9905861740100604, 0.9963116974737025, 0.9981292313101926, 0.9982674267843707, 0.9973535276287406, 0.9959037864765121, 0.9987316271784902, 0.9959033939981962, 0.9945292093309213, 0.9988193739596274, 0.9991041229887535, 0.9975158988605004, 0.9978511158883323, 0.9978886920699676, 0.9991592364282704, 0.9918222366372013, 0.13450256155952806, 0.154728510666224, 0.7099308136450277, 0.9973060686294927, 0.9935859223996685, 0.9954425971282221, 0.9952960588155864, 0.9990511760044455, 0.9980822447933966, 0.998496475113099, 0.23871902811819054, 0.7590728646904261, 0.9978988544066714, 0.4331484646943472, 0.18687676235976852, 0.12675749384868018, 0.10792495190544771, 0.03476776974135228, 0.10937360897800405, 0.9981098587115499, 0.9996063245654907, 0.26504999939367935, 0.1215384712245628, 0.5568796619385336, 0.056305958420418925, 0.9956601303299284, 0.9906090429742083, 0.03608690008796256, 0.9638548727754811, 0.9989577344423892, 0.9989775798677977, 0.9997547534553639, 0.9978757805640178, 0.9974595129128219, 0.3674626309966806, 0.5902881407977074, 0.042171579860040886, 0.997558546580735, 0.9980135883858428, 0.9983271219775328, 0.057237377028412126, 0.1181320944420263, 0.8245473898438028, 0.9974146251903507, 0.9976153518163045, 0.9973857103785487, 0.9998550435123628, 0.9973441014884822, 0.9987724554054236, 0.9955937159868405, 0.9997371321258367, 0.999818145945193, 0.9951843199287135, 0.9991064762331952, 0.9938385880854385, 0.9941801339322658, 0.9942090779598207, 0.7270573954133465, 0.11978951600241843, 0.02313727093100946, 0.1299334426667526, 0.9992559575577192, 0.2541626328202603, 0.7447142877740495, 0.9998347062745268, 0.10096156005829691, 0.8962552524473375, 0.03622514345478252, 0.9636858475314689, 0.9962733162931958, 0.8701184605637274, 0.12907983311975357, 0.9934976722182702, 0.3503157083900593, 0.13435046880909085, 0.5135452499338146, 0.9960531832629919, 0.2277857229209084, 0.7718494639981861, 0.9995518201478333, 0.9958722475545189, 0.9980050640194202, 0.9971313677498999, 0.9934204725047616, 0.3424799091363793, 0.6574822607194165, 0.9992186430897213, 0.9948245452269392, 0.11113581613414639, 0.030871060037262886, 0.8557457842329271, 0.9989682183059068, 0.03809251397843743, 0.18973002154644797, 0.6893279933405696, 0.08204541472278831, 0.458806997120969, 0.1610910127698549, 0.08411919779449761, 0.04838228369879601, 0.044258793610830446, 0.009621476871919662, 0.023916242510200303, 0.028589531276561282, 0.015119463655873754, 0.10995973567908185, 0.016219061012664574, 0.9957214063553657, 0.9999127063781292, 0.9998853667371636, 0.9955108140717015, 0.9946774987610012, 0.9984641649450158, 0.9972687485474059, 0.9964606174552197, 0.9971526304146313, 0.991270457820779, 0.9999155215079657, 0.9907426862106868, 0.9870439962211661, 0.989123410445477, 0.9984942186777264, 0.997900148270209, 0.996765360548631, 0.9973994056962747, 0.998284683033291, 0.9999078351880745, 0.9987665634029692, 0.9912743394324782, 0.9939523439709791, 0.998786405307594, 0.999378892097746, 0.9983001872106442, 0.9982146473271638, 0.9905423564935544, 0.9994475418437891, 0.9985368463718475, 0.9892968529748469, 0.9983492434075494, 0.9909219275845359, 0.9985671904680982, 0.9983413705193167, 0.9989104326706683, 0.9918796078974972, 0.9975168264444589, 0.9916665897962336, 0.2688968180801832, 0.7308368351941588, 0.9944475505837485, 0.36381453991096113, 0.04079195467413736, 0.5951069935709177, 0.9978025017713101, 0.9977215479381782, 0.9989890792279741, 0.06228991179686508, 0.09343486769529762, 0.8435092222492145, 0.995558558509166, 0.2582068953266104, 0.7408957037330902, 0.09832939046756689, 0.9006078263279422, 0.9972063158826011, 0.9977203194838987, 0.9916554941769011, 0.13735409989381647, 0.8625837473331674, 0.9986643964264823, 0.9998150254228202, 0.9956395658366539, 0.9927320401189934, 0.3067977816050799, 0.11349421351404324, 0.30036830645526963, 0.08274454975408078, 0.0006988559945446013, 0.06513337869155683, 0.11670895108894841, 0.013837348691983104, 0.9960423952718142, 0.9989099942185181, 0.2411467738717233, 0.7555932247980663, 0.10980786205279013, 0.8338157437195383, 0.05550727092778402, 0.18342736674351892, 0.06757850353708592, 0.08688664740482474, 0.6603385202766681, 0.995157134448751, 0.9898516242922685, 0.9982001182575397, 0.21474874135717367, 0.03544396702011604, 0.07839371529155077, 0.3577755729795243, 0.00583782986213676, 0.027104210074206388, 0.03711191840929798, 0.24268692712597104, 0.9958116564865159, 0.9989888627458648, 0.9989165997438019, 0.9968612607492126, 0.9936357850894741, 0.9957079628125494, 0.9985691481970262, 0.9662167394122324, 0.03339793358353073, 0.9889145782062352, 0.9922947740212601, 0.9990780325531597, 0.9982103663133512, 0.9975571612045763, 0.8502774110842429, 0.14862879324187742, 0.2910636849399101, 0.7087778355822162, 0.9995934118273222, 0.9986747438916118, 0.9984072682111321, 0.994912629920014, 0.9992453146632975, 0.9995846453353701, 0.9976101675894548, 0.4048405679381895, 0.038650284186433424, 0.27788707973457605, 0.01382382427106013, 0.19071235116809485, 0.015234418584433612, 0.05839860457366218, 0.9989332807548627, 0.9949319797839373, 0.99895021019096, 0.9928832423427557, 0.9979994739968477, 0.9927660039214056, 0.9994920753425732, 0.9987538424985509, 0.7633044938002671, 0.21100719942403637, 0.025034752474038212, 0.9971577548819294, 0.9974961365781678, 0.9975172552861878, 0.9983674298752285, 0.9986450331387335, 0.10609394099364657, 0.892437268358321, 0.9938669807223885, 0.999836278398111, 0.9982374040813746, 0.9975696192365107, 0.9978646629388107, 0.11172081366819099, 0.8874277397757014, 0.30820995518843947, 0.04014407245514906, 0.06624868787680337, 0.07085538471591883, 0.0074584615490440875, 0.012065158388159553, 0.02588524890550595, 0.46900561152518405, 0.9978114152465568, 0.9983118903677253, 0.12524013252386207, 0.8656232576169429, 0.00889421286637792, 0.9959051959302448, 0.9988544920087536, 0.9996009419811783, 0.9905269509007845, 0.9967001420894127, 0.9965120435457652, 0.9986857576007913, 0.08146347586046207, 0.9177865624539071, 0.9943841741364059, 0.11714459746658508, 0.24612827659202716, 0.6355717522123233, 0.8508819214892598, 0.14706601112160045, 0.9943013069528954, 0.9932423574325359, 0.9996660711218092, 0.9776972952491415, 0.022215344131995943, 0.9956537551877473, 0.29672774411546504, 0.7030143919038767, 0.9985188987280306, 0.9952863809549921, 0.9953792028842374, 0.24322846233645998, 0.5507059524599094, 0.12390883930347961, 0.0807702063607867, 0.9968107042474582, 0.4252709395625541, 0.5100053748889276, 0.06395051722745174, 0.9961770815375258, 0.23679160963908055, 0.5105331188042593, 0.2518838221215714, 0.9946838758662058, 0.016731260560476142, 0.08108226271615361, 0.07561242753292102, 0.6718244625052727, 0.07464716250058585, 0.07947348766226167, 0.9965873014776394, 0.9957011741142788, 0.9938268302873544, 0.9999002972982646, 0.841219219926835, 0.12761529961738363, 0.030210968889013267, 0.9981228100537242, 0.9967672226410205, 0.9984425221752561, 0.11618542375766697, 0.034981987920167615, 0.04010292531532523, 0.8086425686717073, 0.995015958497338, 0.9975088750524482, 0.9984052205728453, 0.9914216788427869, 0.9989061228361872, 0.07892115972682552, 0.0009165460275201636, 0.08055784906168295, 0.06864275070392083, 0.034239540885217544, 0.0006874095206401227, 0.02245537767424401, 0.18173798374256958, 0.06985390081171533, 3.27337866971487e-05, 0.4053097468840952, 0.00032733786697148703, 0.006055750538972509, 0.04147370774528741, 0.008739921048138703, 0.9970982426135703, 0.9953487174057567, 0.27033388184981955, 0.7259772794837897, 0.9978087192069663, 0.9944574715714337, 0.9888114695028816, 0.9964615972990624, 0.9978716212058693, 0.9988230703331753, 0.9968552380270395, 0.3907447846850093, 0.009395849501050928, 0.16830826062752097, 0.05106439946223331, 0.05228994504932691, 0.037174882808505845, 0.28289677302077254, 0.007966046316108396, 0.9984319825329804, 0.9946043315524815, 0.994735449522108, 0.9927900417256774, 0.9936950028693317, 0.9919469723959359, 0.9900815544782329, 0.9994995699478654, 0.9982906270755655, 0.9990116217345786, 0.1736138882211255, 0.009805435547372537, 0.059121008447393236, 0.201011428721137, 0.04816199224738864, 0.5081522774844238, 0.9987469851310142, 0.9961862738692336, 0.9990923922202298, 0.9960495756653537, 0.0252937292634036, 0.97450345931311, 0.14799083396582108, 0.8512432769714029, 0.9932192179335537, 0.044087512994589184, 0.8274779733256596, 0.0839197438805234, 0.016951369711527168, 0.027484936898525533, 0.9931582650812312, 0.9969645105286845, 0.011897539023978635, 0.3109437901672254, 0.03847942801448946, 0.031190845549349394, 0.5859805931900108, 0.021544192286664016, 0.9895284799607967, 0.9927029176780151, 0.9975632724675365, 0.9983084378713002, 0.08615495095477291, 0.9134097712874952, 0.15005666687971447, 0.13685168019429958, 0.2304870403272414, 0.2791054003962689, 0.20287661362137396, 0.9930722370947159, 0.9989423533103539, 0.7752435841746996, 0.22416681952039508, 0.996332269490584, 0.9953938034256673, 0.9881272123990302, 0.9902874945461879, 0.9960065493796689, 0.9974311926083885, 0.9969834781079283, 0.9970012681350637, 0.9967858973943908, 0.9932610303985576, 0.994889603346844, 0.9986188776496585, 0.9905658670844333, 0.0817917588936152, 0.038932877233360835, 0.045803384980424515, 0.12137897019812496, 0.5041644018202441, 0.01963002213446765, 0.10076744695693393, 0.0759027522532749, 0.010796512173957207, 0.9968916112495102, 0.9974572202514569, 0.9983940436322817, 0.997142736238995, 0.9976183375947127, 0.16805672850966513, 0.041463340645412024, 0.23335648237635268, 0.4158352424148568, 0.09053830904215572, 0.010616217653173126, 0.01342050156155848, 0.01342050156155848, 0.01281958358119019, 0.9980641031662653, 0.9974137191269029, 0.863892750703405, 0.08541395995664866, 0.032806053824179934, 0.01773300206712429, 0.9907947531131285, 0.026127305468078878, 0.9735531680367486, 0.9995855385596926, 0.991378069979692, 0.24266614806740439, 0.7570877616361606, 0.9985670330826715, 0.9978219942656573, 0.9976619713140472, 0.8342616968753658, 0.16474362102594112, 0.9985537895211557, 0.9977278548269377, 0.9981545698285877, 0.99967569226314, 0.9976775874200152, 0.9967839568234784, 0.9979108727805325, 0.9990462495155317, 0.9991864646567611, 0.9958026404098933, 0.9932213959120901, 0.9971743147305392, 0.18135154008132337, 0.8182071437262831, 0.9971709254061791, 0.2986644206216898, 0.6717494956915193, 0.029454084873933906, 0.1303710135601322, 0.8689013156507712, 0.9947182352583663, 0.9976698827395676, 0.9977172185000964, 0.9990657593626369, 0.030324008811927358, 0.969521242629387, 0.9985637296373502, 0.18947962310819252, 0.7794372838008362, 0.013330224741279876, 0.017710155727700405, 0.9971564340095118, 0.9985782229621415, 0.14853260055282738, 0.19165496845526114, 0.5971794585276432, 0.061852285274197914, 0.9925381125229599, 0.9972366869144027, 0.9994089464948803, 0.9970880331905166, 0.6676276231267735, 0.029632522496336973, 0.01667690800956639, 0.03183773347280856, 0.08448714553606775, 0.022327761136774836, 0.015298651149271647, 0.04493117364560862, 0.003996944894854754, 0.0031699907786779087, 0.012542137428682161, 0.03114860504266119, 0.004410421952943177, 0.020949504276480093, 0.0038591192088252802, 0.006891284301473715, 0.997154687670106, 0.9940932133239119, 0.84779844303409, 0.05764631851814445, 0.038430879012096304, 0.027829257215655944, 0.028160557896794707, 0.99840286894576, 0.6577594112446601, 0.342168902555796, 0.9920084495139646, 0.9990073741296697, 0.7603131116297351, 0.20345172075905252, 0.03507788288949182, 0.9987581300046307, 0.899960016059926, 0.09997106363335614, 0.9974186263879964, 0.4490298766428288, 0.1264075703154182, 0.42450303464132977, 0.9001169278860252, 0.0992588883719745, 0.9957890109256231, 0.9977529962529317, 0.99514325685595, 0.6784778346712621, 0.00683260659286266, 0.15236712702083732, 0.16193277625084504, 0.9940346653171538, 0.9914416850260929, 0.9983686345639484, 0.9965361901899561, 0.9992738231985198, 0.9967459846352487, 0.9978632075500901, 0.9988843627389209, 0.9912317332851233, 0.9994727639470626, 0.407517627690555, 0.5908300553714275, 0.05324428795026506, 0.8025092756836654, 0.09545522266750817, 0.04873064344584699, 0.9171199362084781, 0.08273442802648459, 0.9985383234378816, 0.9449410722013654, 0.05491593020729901, 0.20427233665478675, 0.10140418432122476, 0.01478607692460592, 9.759786748914799e-05, 0.007905427266620987, 0.029279360246744397, 0.010833363291295427, 0.0048798933744574, 0.026595418890792828, 0.008637411272789598, 0.5271260823088882, 0.03293928027758745, 0.009320596345213632, 0.009125400610235337, 0.012785320641078386, 0.9983450197188642, 0.9897881332072054, 0.9929359767491258, 0.992781520462112, 0.9869893862501352, 0.9907808895419721, 0.9986873405749814, 0.9970063866813409, 0.9940179348881056, 0.11915062889312393, 0.880089872506029, 0.9919416460515654, 0.2970493372378983, 0.7021166152895778, 0.9986219541058368, 0.9973074974566724, 0.9923279694454531, 0.9970067670643471, 0.9994486040343786, 0.9967696876228235, 0.9972469917796614, 0.9988420644198461, 0.9983055002665473, 0.9887171468600321, 0.9994992904461619, 0.2829448287113232, 0.006483187564580236, 0.7103721231475774, 0.9997281975600966, 0.9990529239368375, 0.9988030804692327, 0.997040777815532, 0.9957169249917399, 0.9975384537828116, 0.9980409133360435, 0.9914441328676475, 0.16027486310985867, 0.029000386461738463, 0.08745571089715487, 0.025363974366222668, 0.01681840594176055, 0.43200575694727644, 0.014818379289226864, 0.016182033825045287, 0.03300043976680584, 0.018182060477578973, 0.00954558175072896, 0.003636412095515795, 0.016727495639372657, 0.006818272679092115, 0.002909129676412636, 0.009909222960280541, 0.015182020498778443, 0.010181953867444226, 0.0006363721167152641, 0.008363747819686329, 0.017182047151312132, 0.06572814862644799, 0.9954303279594283, 0.996446362710754, 0.9940202551901427, 0.999138506372647, 0.9979424316193907, 0.998343927331398, 0.9982328188260049, 0.9971802483126302, 0.970929869475576, 0.02846374210188985, 0.03731881404956173, 0.01624059500305001, 0.25673961887800334, 0.13890891896225754, 0.013821782981319157, 0.060815845117804294, 0.031444556282501084, 0.052177230754479824, 0.10435446150895965, 0.0013821782981319158, 0.033172279155165976, 0.06012475596873834, 0.05770594394700748, 0.05874257767060642, 0.06772673660846387, 0.008638614363324474, 0.9935750781196449, 0.9982018003670912, 0.9992268724018363, 0.9943501819635787, 0.9973775089096328, 0.9959744395099469, 0.9717520252670928, 0.016675931790854946, 0.010990955043972577, 0.06744448116232324, 0.29667993679830956, 0.08904187119744922, 0.5384191445598951, 0.007956933170835888, 0.9990729586431244, 0.9107469889334964, 0.08897996228131046, 0.9990237988564258, 0.17342167145311527, 0.017628027043311165, 0.07563376467907156, 0.1579375936448014, 0.5752930447242766, 0.9987828767356466, 0.9981251853820191, 0.9898069523008135, 0.976800842200213, 0.02154707740147529, 0.9981994612354086, 0.9966189594001923, 0.9940617128183961, 0.9993198672665171, 0.9971046997664604, 0.9981347110695489, 0.9993333207999915, 0.13037576989411953, 0.868216665448752, 0.9957348956093574, 0.9982351417335233, 0.999172697616406, 0.9973848506057733, 0.9990927769474239, 0.22054954241853256, 0.11960571338851189, 0.06192352537135722, 0.03986857112950396, 0.05344085066295212, 0.03986857112950396, 0.056833920546314164, 0.40632011853260425, 0.9950308345996964, 0.9940483903318523, 0.9961169005009041, 0.9974606424156438, 0.9935081896692678, 0.9994982789351761, 0.06953875437548528, 0.9295486554274052, 0.9966600294408938, 0.9965386986005182, 0.9995655929304691, 0.9987365883690549, 0.9989318258026153, 0.5742002857572375, 0.0660949969216964, 0.14733676397128156, 0.1156662446129687, 0.04681728948620162, 0.04819426858873696, 0.9964405959169723, 0.9979028402458345, 0.9976989977860617, 0.9169100561191675, 0.08192323525463352, 0.7978432353608814, 0.12455018832556747, 0.07725721826571431, 0.9960671344536725, 0.9981935507324801, 0.9970772463401797, 0.7694418202330696, 0.09858473321736205, 0.045500646100320945, 0.03070368801891576, 0.055673554781287014, 0.33364256277106075, 0.6650077019054589, 0.3434118057750678, 0.6560214075970283, 0.9996902704638843, 0.9995240396462696, 0.995758939166064, 0.9978332334474158, 0.9932088944598289, 0.9993569161282158, 0.9989793200514526, 0.9963706134170439, 0.8804180294349337, 0.06614102482531507, 0.006749084165848476, 0.04623122653606206, 0.9985142494628559, 0.19081961207839068, 0.12664515920678907, 0.682066530077819, 0.9974415819508071, 0.9989011030657505, 0.9932336799390034, 0.9933223602831031, 0.9947315570044065, 0.9986096989752197, 0.9949768956219616, 0.9971765628955781, 0.06201844420899742, 0.13295734957134378, 0.8045406392591857, 0.9973340889034732, 0.9934556746539823, 0.9975104137766421, 0.9950812206234495, 0.9996820972722726, 0.9952518902619355, 0.999701575243461, 0.9361884475428212, 0.06359387351342402, 0.9968608291004891, 0.9923761527147577, 0.9942937978869881, 0.9985229298595387, 0.9947654651125724, 0.9916946642868778, 0.99784885547892, 0.991571041445921, 0.28524576471321794, 0.31560681443606825, 0.1771308071635559, 0.2218578169991695, 0.9895953801748025, 0.9969263251539728, 0.9995792902010895, 0.9986318725533558, 0.996513796771792, 0.038485815166445364, 0.22025014703688614, 0.10293796345723942, 0.4743492640394411, 0.16368063558741222, 0.9948601456077075, 0.07364122566358912, 0.709281278759832, 0.2151098960173261, 0.9963394106981756, 0.9965275398166927, 0.99875668341362, 0.9913989380973884, 0.9968889228679808, 0.9988423242699729, 0.9983598209603752, 0.004164255762350174, 0.030417172524992573, 0.06382174592297549, 0.021907606401929177, 0.670445177738378, 0.006608492840251363, 0.022269715598655277, 0.06219225453770803, 0.007694820430429669, 0.05006159644738361, 0.00525058335252848, 0.047798413967845475, 0.0072421839345220415, 0.9954425618032657, 0.9967289023562405, 0.9886405874915577, 0.9972660554898898, 0.9966408368945938, 0.9820487901928748, 0.017852991948558276, 0.47812086384945984, 0.45305085600716605, 0.021936256862007054, 0.047006264704300825, 0.03163575536933199, 0.7895098199358915, 0.02392453999805732, 0.03875380032743169, 0.03361299007991524, 0.08264841090237983, 0.9928174721771948, 0.9971537554573084, 0.9920768117708084, 0.9987303395727195, 0.2385788987215145, 0.047164948232103154, 0.04647640884185347, 0.6675389388470658, 0.9981264353325023, 0.9975628152179196, 0.9997013628522766, 0.9977683982955438, 0.9931594762520946, 0.06629856445227239, 0.13535956909005614, 0.7955827734272688, 0.21966358786187654, 0.5753899836135441, 0.20443267653092978, 0.9988303508349, 0.6929631788662289, 0.023865536865517428, 0.018114805090693954, 0.01725219532447043, 0.09316185475214032, 0.030191341817823254, 0.034791927237682034, 0.07245922036277581, 0.01495190261454104, 0.002012756121188217, 0.9991792990666458, 0.9984217245092954, 0.054772724901686026, 0.04689175728993264, 0.11033354656454739, 0.042951273484055946, 0.06383583765520243, 0.01655003198468211, 0.01063930627586707, 0.6537262633949433, 0.06088176761722634, 0.9387968566576302, 0.11811020869870198, 0.15857210727411375, 0.723111930254859, 0.9966208876051652, 0.13673003142754567, 0.8630745462047053, 0.9964743689343225, 0.9971970265194818, 0.9968761770161167, 0.9997146410222058, 0.995725034498392, 0.9976155186431717, 0.04788893867337694, 0.9520812558804264, 0.9953402957399239, 0.9987065016813961, 0.20672092101055745, 0.7924301972071368, 0.9959492424948808, 0.9987555838015302, 0.9992799917625055, 0.9955306471616059, 0.9994135893121848, 0.19510854274014722, 0.8043507020061553, 0.9952576535265871, 0.8578299941111515, 0.052453890332554175, 0.08970543634306279, 0.9991526200316194, 0.9905099020887113, 0.9934280906764693, 0.9996046649497374, 0.9932799680897948, 0.9990788602297903, 0.9959238225235917, 0.9996554183467805, 0.9952723151795362, 0.9988788661694736, 0.9925549507046629, 0.9972818589650208, 0.995413973982884, 0.9978509406679248, 0.9946095593110255, 0.9941093904571209, 0.9985278303669338, 0.5199742897427624, 0.020589044081429256, 0.0791265223521595, 0.027048352028544317, 0.03956326117607975, 0.11142306208773481, 0.06176713224428777, 0.09002660451291616, 0.028663179015323084, 0.02180016432151333, 0.9971705202484541, 0.9977763149081464, 0.2685435054354574, 0.7305963015523474, 0.9950924424808091, 0.9994155742539064, 0.9989579160352398, 0.6606197248132895, 0.3384656614784137, 0.5203147238712514, 0.1677858800819816, 0.21062482818801945, 0.10129626270906866, 0.9945882897631575, 0.12695399963025114, 0.055131418166125004, 0.18790203530931596, 0.007333995994576262, 0.18233831420998223, 0.0126448206803039, 0.31561472418038533, 0.07081099580970183, 0.04071632259057856, 0.9988767513430465, 0.9945541519992095, 0.9956043730490005, 0.9993960402297024, 0.9974619270083657, 0.9974125035646398, 0.9947777465859161, 0.998427192768859, 0.9932327584039965, 0.9909474485054763, 0.17603702427392393, 0.2554683644950847, 0.10197266650013885, 0.46585407643221327, 0.998517899799188, 0.9986482414086174, 0.9971200540067455, 0.9955490212939695, 0.9884348208364875, 0.9992607513726648, 0.992896057339081, 0.8488607903626694, 0.1502867089164677, 0.2528110851400861, 0.7470696431595594, 0.9945021433572055, 0.9997653941551219, 0.8327012538390505, 0.16727246230090084, 0.9962895440524431, 0.9903765277147066, 0.9992224484743248, 0.07853674468020574, 0.9212086185599715, 0.9946412634133206, 0.1148254209413586, 0.026536328381696263, 0.06448079793683203, 0.01835222710509835, 0.09597718769828462, 0.4836059845262403, 0.014136174932305486, 0.04340053707286772, 0.07564093604128375, 0.06348878566088077, 0.992739466144406, 0.9984551781577792, 0.13437168250629822, 0.865328751695652, 0.9998313053765083, 0.9973692413270382, 0.9983423120373752, 0.999797528407452, 0.993726963301983, 0.9988394123610776, 0.9917034944575774, 0.30682811417813105, 0.07115963745278352, 0.04820491569382109, 0.12242518271446626, 0.03749271220630529, 0.06886416527688727, 0.34432082638443634, 0.9997528079931193, 0.995304955088958, 0.03140059076379562, 0.10008938305959857, 0.15283256285816152, 0.7155900254530613, 0.992818481583969, 0.995910047270325, 0.9961764365137049, 0.9963362116673212, 0.9981813313399236, 0.9995833120035966, 0.9987034187514324, 0.9991628189522704, 0.9957030266661949, 0.014105865675970155, 0.96908453412413, 0.01676516822143994, 0.9975574698066625, 0.9932758677436279, 0.17253749817412173, 0.08624472548664676, 0.7411761199760517, 0.9964173956713875, 0.9987242178795236, 0.9941760147487172, 0.9981867891623575, 0.9951626862196336, 0.9943699235766553, 0.38892040641213965, 0.6095999628594773, 0.9966199254747061, 0.9954431722158534, 0.9974213068052579, 0.9992969133408519, 0.9994265525202811, 0.9994943086714521, 0.719588145865912, 0.07447485705465383, 0.0067933146637690995, 0.04528876442512733, 0.014089837821150725, 0.04176630496983965, 0.018618714263663457, 0.004780480689318996, 0.013335025080731935, 0.013838233574344463, 0.023650799199788717, 0.023650799199788717, 0.9987194629091806, 0.9993986176992807, 0.9977862489765008, 0.9903251713113512, 0.00921947405410102, 0.9996156528659078, 0.9979025481060444, 0.9992893804599363, 0.9997037665833759, 0.9984662067965592, 0.9991950883801443, 0.9973313870130989, 0.9976070769657701, 0.1372363632793597, 0.08597173569704668, 0.0019104830154899263, 0.18372478332294792, 0.00700510439012973, 0.025791520709114005, 0.41393798668948406, 0.10093718598505111, 0.03152296975558378, 0.011781311928854546, 0.9947308348431309, 0.9962122533722257, 0.9970564587294712, 0.9973856548979394, 0.9948341874767047, 0.9961824716482395, 0.9983178424378601, 0.9999407639083878, 0.997650425507702, 0.9991762435031242, 0.9990445263036505, 0.9917906700780178, 0.9993568537641039, 0.9953385284496052, 0.9961673081889285, 0.9946606898550139, 0.09804241236638724, 0.007995437372125163, 0.04928335167080428, 0.11783439668099215, 0.701501324846129, 0.025165966810623462, 0.9992750473241716, 0.9979450500042998, 0.9978055357669428, 0.9984441723563655, 0.362606928937253, 0.6361525069074614, 0.9948932286272334, 0.9983906536207398, 0.9969332574458071, 0.9985363575459932, 0.9964188858219748, 0.5914938740911846, 0.21317799523083303, 0.193661699892799, 0.9994275860127573, 0.9997024467626552, 0.9947582037198907, 0.9981947192687326, 0.07527257145222249, 0.5019581028864499, 0.237658343573871, 0.18437551209645509, 0.998788582129566, 0.9958544626038991, 0.9829899123826483, 0.016738218322305157, 0.9983135901537459, 0.9959473466860799, 0.48398140460730604, 0.42191236083461586, 0.09349640770822958, 0.9996847060977111, 0.9982679119537269, 0.9960711481256328, 0.9923590146850751, 0.9995565645584701, 0.08534177895159191, 0.36331214467963413, 0.5510640583731363, 0.9993507028363677, 0.9994398912897723, 0.9979904260161234, 0.9997895643211286, 0.9952216193717176, 0.9976916544766682, 0.9993561613807211, 0.997732157691432, 0.999466042613543, 0.9928171766487522, 0.9917916662211375, 0.25351898697888176, 0.7453691875231638, 0.9992258994353262, 0.9977143621826023, 0.9985993327572626, 0.995968707460945, 0.9938335061445022, 0.9911417039520921, 0.9642369189151, 0.034834077777870634, 0.9971151047502945, 0.994207531207228, 0.8669667374367056, 0.13205809127518858, 0.9989670489114099, 0.02544225172435479, 0.5533828930855287, 0.062353002037806055, 0.12331419599441107, 0.023716409703665516, 0.023215358794433146, 0.03173322425138344, 0.007682780608229674, 0.02688973212880386, 0.025831957987091078, 0.02043174263203109, 0.01731409253014079, 0.010132362831143483, 0.026110319603331284, 0.022380273945712528, 0.9958809238575493, 0.997675119449346, 0.9914515766142603, 0.6911353735926336, 0.05441259156737585, 0.09068765261229308, 0.0572764121761851, 0.043911916001741914, 0.06204944652420053, 0.9978107722124403, 0.9974808684264818, 0.9976865362484755, 0.9975766457911487, 0.7360177349927259, 0.01186062598913972, 0.012519549655203037, 0.08483642200565217, 0.06144463186040438, 0.02355652106176361, 0.0693517158531642, 0.9948457023792066, 0.9995975962791408, 0.9961491718577706, 0.04909074079238139, 0.034716103985772476, 0.1375470637829155, 0.01108125640617291, 0.7675126159086685, 0.3310146105898011, 0.6331556725923299, 0.03506073757025931, 0.9982848925542279, 0.9974910129967918, 0.4298815188358981, 0.5684701875949338, 0.9968452148868601, 0.14129175117537293, 0.10381383309171964, 0.7544304910239409, 0.991969243522471, 0.99178857416742, 0.9988080829770104, 0.9981570101664804, 0.9942941924311994, 0.9940319278579538, 0.9930256583250343, 0.9975275548558031, 0.9992772066617566, 0.9941665786542002, 0.9931340808403591, 0.9977727236223455, 0.9963241754765875, 0.9996907689330954, 0.01747883699580676, 0.10010606643052963, 0.016525445886944573, 0.07086873909208923, 0.03813564435448748, 0.03050851548358998, 0.11313574491831285, 0.09978826939424223, 0.03940683249963706, 0.039724629535924455, 0.02796613919329082, 0.11758490342633639, 0.08135604128957329, 0.034639876955326124, 0.0365466591730505, 0.06006363985831778, 0.0511653228422707, 0.025105965866704254, 0.9972560428028596, 0.27931273666215234, 0.7189410677398596, 0.9959632066747515, 0.9963354010349841, 0.9985807253737273, 0.1334060796525995, 0.22127450711609054, 0.6234168722227246, 0.021165387637191266, 0.9994337213811424, 0.9920823854630755, 0.9981846075935508, 0.9965282762051954, 0.7810852103058413, 0.21744184348033793, 0.9883808746069809, 0.9939018474080833, 0.9984781452247999, 0.9944109405529248, 0.9941756937939562, 0.9928324595493534, 0.034216400800730545, 0.029979075624169488, 0.7371886475922101, 0.054767427907051684, 0.10529753063754231, 0.009533981647262381, 0.0288138112006152, 0.00010593312941402647, 0.9979007255724759, 0.02072859076786722, 0.9789548094460927, 0.9902851833072572, 0.9961010125999936, 0.9996227780561836, 0.7870583926593313, 0.033942754674669055, 0.1679907909025499, 0.010940938689550686, 0.992851457512601, 0.9963007224359822, 0.9969360962766901, 0.9978343078928948, 0.9850978357566202, 0.9999713694477989, 0.9947839609713061, 0.9987580257462553, 0.999737340143513, 0.9945043122958905, 0.9977564944546506, 0.9965166029986124, 0.20172607207772442, 0.7982481322329357, 0.9960418759021267, 0.565065324564984, 0.10802051987667968, 0.027685931565031345, 0.08941194292313402, 0.09395062022887686, 0.11573627129644251, 0.950294448245813, 0.04922609849270096, 0.6306809632841159, 0.10784558195692816, 0.0681584077967786, 0.19239651821115986, 0.9971137425335563, 0.9930950615297185, 0.9997439938329609, 0.3991886026573162, 0.6001360856898974, 0.853788189052126, 0.14593922985844937, 0.9994211313152696, 0.9987385364134016, 0.9964282369783503, 0.052403354731242226, 0.94757837459369, 0.9892776607413389, 0.9974526023328418, 0.9933813427853415, 0.9685804322536801, 0.03133953093861944, 0.9988140239893601, 0.9998723776860977, 0.9983836122622958, 0.9964733073262182, 0.995741841579524, 0.9989784333288265, 0.9969283364491401, 0.9963834303688189, 0.9992454045734329, 0.9970796811359522, 0.994072366005163, 0.9986148601998746, 0.9966758669290514, 0.15541313323154396, 0.26091255943981834, 0.5819484477940295, 0.9906400625280237, 0.13707705622154417, 0.03580865739581458, 0.8270094684271463, 0.9968681715490343, 0.9922232172765021, 0.10388792846029993, 0.3265049180180855, 0.12134808450404781, 0.12833214692154699, 0.19075220477794566, 0.02007917945031007, 0.05456298763671215, 0.053689979834524754, 0.992687627376257, 0.9996015789158954, 0.30432130296161586, 0.06560122230196908, 0.6300484638207724, 0.9957378854950945, 0.9942837740537201, 0.9973482949473073, 0.9964872676854376, 0.997246967311428, 0.9966986122750506, 0.16370308151159974, 0.13154711907182123, 0.5885515549583705, 0.08672365627697844, 0.02825827002283567, 0.9946346901316429, 0.9989317228664006, 0.9992107905384003, 0.9946414964619531, 0.9984113289541235, 0.9919151334020511, 0.994609244100434, 0.9998572613866464, 0.9984708130406632, 0.9956677096791945, 0.9936824039516983, 0.9966659823235301, 0.999545981522516, 0.9963035351054063, 0.9966385727890319, 0.9947813303096354, 0.17863429771847303, 0.8209439025112497, 0.9957578536580501, 0.996608871915901, 0.2864861095041203, 0.016901835368974646, 0.6959330713175311, 0.9975076082508851, 0.9966958554090211, 0.9944087348552496, 0.9978647813549891, 0.9969669008528272, 0.9952341617822906, 0.995301323654829, 0.036192345402428445, 0.7680630281392715, 0.19564352750558017, 0.996072904402661, 0.998534491083081, 0.9977902522894224, 0.998953807862586, 0.9107024830934225, 0.08528317567430044, 0.09350774732196408, 0.01922589197274028, 0.8870127432877902, 0.9983269467293582, 0.9989600023569472, 0.9984113846510859, 0.999618650854393, 0.9977192276172442, 0.839647809160862, 0.01887320250361578, 0.028100101505383494, 0.033132955506347705, 0.01887320250361578, 0.017195584503294378, 0.026841888005142443, 0.017195584503294378, 0.9954077794353728, 0.996574014582986, 0.9986829523406121, 0.9991824980972968, 0.9928206087726547, 0.699163030749037, 0.3004890494808747, 0.7922678362932123, 0.07038743173679365, 0.137296414812176, 0.996963958780593, 0.9943438730686561, 0.9992644911736889, 0.004247638236152866, 0.09959979312358445, 0.8959587272602443, 0.9929138002220498, 0.07049412004831146, 0.06378039432942466, 0.10358319680568215, 0.12372437396234257, 0.16976135032042353, 0.07816694944132495, 0.1352336180518628, 0.10406274864274549, 0.06809636086299474, 0.02062072899372376, 0.03788459512800412, 0.024457143690230505, 0.9944339799729135, 0.998990923088477, 0.9924770723686968, 0.9988180514108644, 0.9996195670976791, 0.9991136491466609, 0.9989361112221037, 0.9457717144744153, 0.05297005085583898, 0.9989387978790347, 0.9971199111665077, 0.9987455242336063, 0.9985660077928589, 0.9818050326339949, 0.9957709245719853, 0.20646342141618698, 0.07330611367136526, 0.7200701798604994, 0.999535974394209, 0.3914028404365001, 0.0023346836096212287, 0.023346836096212287, 0.042985645283026154, 0.04422165425282563, 0.0021973492796435092, 0.49330491327996784, 0.8792618960718529, 0.11779585210532001, 0.9986561807870733, 0.9983820255940383, 0.038288233623909776, 0.9614600887781788, 0.9966855843138203, 0.9974219035732286, 0.995254892333601, 0.998575473207201, 0.9990445726318365, 0.9926004027453885, 0.9972563034368641, 0.9974522992779534, 0.9969208237391955, 0.9977360980160279, 0.13364632692628584, 0.04354767956025044, 0.016768359370901032, 0.8058823458850943, 0.2963014467427059, 0.7034196345671839, 0.9984835218344351, 0.3141278019941054, 0.6833299588832813, 0.9949104747334807, 0.9970815051765896, 0.9985249796081036, 0.9993945344581666, 0.9969774658801969, 0.996484190375787, 0.9975953663955909, 0.9943779382574104, 0.9993943487547563, 0.1183493517458296, 0.8808686650075505, 0.997456545173895, 0.9981150304926006, 0.9917672453977914, 0.9977603823961009, 0.9956224540725368, 0.26447642577807756, 0.734760211052476, 0.9985003764246594, 0.9987696199064041, 0.9979778670810533], \"Term\": [\"aa\", \"aaa\", \"ab\", \"abc\", \"absolute\", \"absolute\", \"abstract\", \"abstractautowirecapablebeanfactory\", \"ac\", \"acc\", \"accept\", \"accept\", \"accept\", \"accept\", \"access\", \"access\", \"access\", \"access\", \"accessor\", \"accesstoken\", \"accordion\", \"account\", \"accuracy\", \"acquire\", \"across\", \"action\", \"action\", \"action\", \"action\", \"action\", \"action\", \"activate\", \"activation\", \"active\", \"active\", \"activesheet\", \"activity\", \"activity\", \"activitythread\", \"actor\", \"actually\", \"actually\", \"actually\", \"actually\", \"actually\", \"actuator\", \"ad\", \"adapt\", \"adapter\", \"adb\", \"add\", \"add\", \"add\", \"add\", \"add\", \"add\", \"add\", \"add\", \"add\", \"add\", \"add\", \"add\", \"add\", \"add\", \"add\", \"addclass\", \"addeventlistener\", \"addition\", \"addr\", \"address\", \"address\", \"address\", \"adjust\", \"admin\", \"adobe\", \"adotnet\", \"advise\", \"ae\", \"aes\", \"af\", \"ag\", \"age\", \"agent\", \"aggregate\", \"ago\", \"ai\", \"ajax\", \"ajax\", \"al\", \"alamofire\", \"alert\", \"algorithm\", \"alias\", \"align\", \"allocate\", \"allow\", \"allow\", \"allow\", \"allow\", \"allow\", \"allow\", \"allow\", \"alpha\", \"already\", \"already\", \"already\", \"already\", \"already\", \"already\", \"already\", \"already\", \"already\", \"already\", \"also\", \"also\", \"also\", \"also\", \"also\", \"also\", \"also\", \"also\", \"also\", \"also\", \"also\", \"also\", \"alt\", \"amazon\", \"amazonaws\", \"amet\", \"amount\", \"amp\", \"an\", \"anaconda\", \"analysis\", \"analyzer\", \"anchor\", \"android\", \"androidruntime\", \"androidx\", \"angle\", \"angular\", \"angularjs\", \"animal\", \"animate\", \"animate\", \"animation\", \"animator\", \"annotate\", \"annotation\", \"anonfun\", \"anonymous\", \"ansible\", \"answer\", \"anybody\", \"anybody\", \"anymore\", \"anyway\", \"anywhere\", \"ap\", \"apache\", \"api\", \"apikey\", \"apis\", \"apis\", \"apk\", \"apollo\", \"app\", \"app\", \"app\", \"apparently\", \"appcompat\", \"appdata\", \"appdata\", \"appear\", \"appear\", \"append\", \"append\", \"append\", \"appendchild\", \"apple\", \"application\", \"application\", \"application\", \"application\", \"application\", \"application\", \"application\", \"application\", \"application\", \"application\", \"application\", \"applicationid\", \"apply\", \"apply\", \"appointment\", \"approach\", \"appropriate\", \"apps\", \"apps\", \"apps\", \"appstate\", \"apr\", \"apt\", \"ar\", \"arch\", \"architecture\", \"archive\", \"area\", \"area\", \"arg\", \"argc\", \"args\", \"args\", \"args\", \"args\", \"argument\", \"argv\", \"argv\", \"arm\", \"arr\", \"array\", \"arraylist\", \"arrow\", \"art\", \"article\", \"artifact\", \"artifact\", \"artifactid\", \"artifactidspring\", \"artist\", \"asc\", \"ascii\", \"asia\", \"ask\", \"asp\", \"aspect\", \"aspnetcore\", \"aspx\", \"assembly\", \"assert\", \"assert\", \"assertion\", \"assertion\", \"assessment\", \"asset\", \"assign\", \"assign\", \"assign\", \"assignment\", \"associate\", \"associate\", \"association\", \"async\", \"asynchronous\", \"asyncio\", \"atomic\", \"attachment\", \"attendance\", \"attr\", \"attribute\", \"attribute\", \"attribute\", \"attributeerror\", \"attrs\", \"audio\", \"audit\", \"aug\", \"aug\", \"august\", \"auth\", \"authenticate\", \"authentication\", \"author\", \"authorization\", \"authorize\", \"auto\", \"auto\", \"auto\", \"auto\", \"auto\", \"auto\", \"auto\", \"auto\", \"auto\", \"automatic\", \"automation\", \"autowired\", \"avail\", \"avatar\", \"average\", \"avg\", \"avoid\", \"await\", \"away\", \"awk\", \"aws\", \"awt\", \"ax\", \"axis\", \"azure\", \"ba\", \"babel\", \"back\", \"back\", \"back\", \"back\", \"back\", \"backend\", \"background\", \"background\", \"background\", \"background\", \"backgroundcolor\", \"backup\", \"badge\", \"balance\", \"ball\", \"banana\", \"bank\", \"bar\", \"bar\", \"base\", \"base\", \"base\", \"base\", \"base\", \"base\", \"base\", \"base\", \"base\", \"base\", \"base\", \"base\", \"base\", \"base\", \"base\", \"base\", \"base\", \"baseurl\", \"bash\", \"basic\", \"basic\", \"basic\", \"basis\", \"batch\", \"battery\", \"bb\", \"bbb\", \"bc\", \"bcrypt\", \"bd\", \"bean\", \"bearer\", \"beautifulsoup\", \"become\", \"become\", \"become\", \"become\", \"begin\", \"begin\", \"begin\", \"begin\", \"behaviour\", \"behind\", \"belong\", \"best\", \"best\", \"beta\", \"better\", \"better\", \"better\", \"better\", \"bf\", \"big\", \"bigger\", \"bill\", \"bin\", \"bin\", \"binary\", \"binary\", \"binary\", \"bind\", \"bind\", \"birth\", \"bite\", \"bite\", \"bite\", \"bitmap\", \"bitwise\", \"black\", \"blah\", \"blank\", \"blank\", \"blank\", \"blank\", \"blank\", \"blob\", \"block\", \"block\", \"block\", \"blog\", \"blue\", \"blue\", \"board\", \"bob\", \"body\", \"body\", \"body\", \"body\", \"body\", \"bodyparser\", \"bold\", \"bonus\", \"book\", \"bool\", \"bool\", \"boolean\", \"boolean\", \"boolean\", \"boost\", \"boot\", \"bootstrap\", \"bootstrap\", \"border\", \"borderwidth\", \"bot\", \"bottom\", \"box\", \"br\", \"branch\", \"brand\", \"break\", \"break\", \"break\", \"break\", \"break\", \"breakpoint\", \"bridge\", \"broker\", \"browse\", \"browser\", \"browser\", \"bt\", \"btn\", \"btw\", \"bubble\", \"bucket\", \"buf\", \"buffer\", \"bufferedreader\", \"build\", \"build\", \"build\", \"build\", \"build\", \"buildcontext\", \"builder\", \"bulk\", \"bullet\", \"bunch\", \"bus\", \"business\", \"button\", \"buy\", \"byte\", \"ca\", \"cache\", \"calc\", \"calculate\", \"calculate\", \"calculation\", \"calculation\", \"calculator\", \"calendar\", \"call\", \"call\", \"call\", \"call\", \"call\", \"call\", \"call\", \"call\", \"call\", \"callback\", \"camel\", \"camera\", \"cancel\", \"cancellationtoken\", \"cant\", \"canvas\", \"cap\", \"capability\", \"caption\", \"capture\", \"car\", \"carbon\", \"card\", \"cardview\", \"care\", \"carousel\", \"cart\", \"cascade\", \"cascade\", \"case\", \"case\", \"case\", \"case\", \"case\", \"case\", \"cash\", \"cast\", \"cat\", \"catalina\", \"catalog\", \"catch\", \"catch\", \"catch\", \"catch\", \"categorical\", \"category\", \"cause\", \"cause\", \"cause\", \"cause\", \"cause\", \"cause\", \"cb\", \"cc\", \"cc\", \"ccc\", \"cd\", \"cdn\", \"ce\", \"cell\", \"center\", \"center\", \"cert\", \"certificate\", \"cf\", \"cfg\", \"ch\", \"ch\", \"chain\", \"chain\", \"challenge\", \"change\", \"change\", \"change\", \"change\", \"change\", \"change\", \"change\", \"change\", \"change\", \"change\", \"channel\", \"char\", \"character\", \"characteristic\", \"charfield\", \"chart\", \"chat\", \"chatbot\", \"chdir\", \"check\", \"check\", \"check\", \"check\", \"check\", \"check\", \"check\", \"check\", \"check\", \"check\", \"check\", \"check\", \"checkbox\", \"checkbox\", \"checkboxes\", \"checkout\", \"cheer\", \"child\", \"chip\", \"choice\", \"choice\", \"choose\", \"choose\", \"choose\", \"choose\", \"choose\", \"choose\", \"chr\", \"chrome\", \"chromedriver\", \"chromeoptions\", \"chunk\", \"ci\", \"cin\", \"cipher\", \"circle\", \"circular\", \"city\", \"cjs\", \"cl\", \"claim\", \"clanguage\", \"clanguagease\", \"clanguagehrome\", \"clanguageode\", \"clanguageolumn\", \"clanguageonsole\", \"clanguagesharp\", \"class\", \"class\", \"class\", \"class\", \"class\", \"class\", \"class\", \"class\", \"class\", \"classic\", \"classlist\", \"classloader\", \"classname\", \"clause\", \"clean\", \"clean\", \"clean\", \"clean\", \"clean\", \"clear\", \"clear\", \"clear\", \"clear\", \"clear\", \"clearly\", \"cli\", \"cli\", \"click\", \"clickable\", \"client\", \"client\", \"clientid\", \"clipboard\", \"clock\", \"clone\", \"clone\", \"close\", \"close\", \"close\", \"close\", \"close\", \"close\", \"close\", \"close\", \"closest\", \"closure\", \"cloud\", \"cloudflare\", \"club\", \"clue\", \"cluster\", \"cm\", \"cmake\", \"cmd\", \"cnt\", \"co\", \"coalesce\", \"code\", \"code\", \"code\", \"code\", \"codec\", \"codehaus\", \"coffee\", \"col\", \"col\", \"collapse\", \"collect\", \"collect\", \"collect\", \"collect\", \"collection\", \"collection\", \"collection\", \"collectionview\", \"collector\", \"college\", \"color\", \"color\", \"colour\", \"column\", \"column\", \"columndefinition\", \"com\", \"com\", \"combination\", \"combine\", \"combine\", \"combo\", \"comma\", \"command\", \"comment\", \"commit\", \"common\", \"common\", \"communicate\", \"communication\", \"community\", \"comp\", \"company\", \"compare\", \"comparison\", \"compilation\", \"compile\", \"compile\", \"compile\", \"compile\", \"compile\", \"compiler\", \"compiler\", \"complete\", \"complete\", \"complete\", \"complete\", \"complete\", \"complete\", \"complete\", \"complete\", \"complete\", \"complete\", \"completion\", \"complex\", \"complicate\", \"component\", \"componentdidmount\", \"compose\", \"composer\", \"composite\", \"compute\", \"computer\", \"con\", \"concat\", \"concatenate\", \"concurrent\", \"concurrent\", \"conda\", \"condition\", \"condition\", \"conditional\", \"conf\", \"config\", \"config\", \"config\", \"configuration\", \"configuration\", \"configuration\", \"configure\", \"configure\", \"configure\", \"confirmation\", \"conflict\", \"confuse\", \"conn\", \"connect\", \"connect\", \"connection\", \"connectionstring\", \"connector\", \"consecutive\", \"consider\", \"consist\", \"console\", \"const\", \"const\", \"constant\", \"constexpr\", \"constraint\", \"constraint\", \"constraintlayout\", \"constraintstart\", \"constrainttop\", \"construct\", \"constructor\", \"constructor\", \"constructor\", \"constructor\", \"consumer\", \"contact\", \"contact\", \"contain\", \"contain\", \"contain\", \"contain\", \"contain\", \"contain\", \"contain\", \"contain\", \"contain\", \"contain\", \"container\", \"container\", \"container\", \"container\", \"content\", \"content\", \"content\", \"content\", \"content\", \"content\", \"content\", \"contenttype\", \"context\", \"context\", \"context\", \"context\", \"continue\", \"continue\", \"continue\", \"continue\", \"continue\", \"continuous\", \"continuum\", \"contour\", \"contract\", \"control\", \"control\", \"control\", \"controller\", \"controller\", \"controller\", \"controller\", \"conv\", \"conversation\", \"conversion\", \"convert\", \"convert\", \"convert\", \"converter\", \"cookie\", \"cooky\", \"coord\", \"coordinate\", \"coords\", \"copy\", \"copy\", \"copy\", \"copy\", \"copy\", \"copy\", \"cordova\", \"core\", \"core\", \"core\", \"corner\", \"coroutine\", \"correct\", \"correct\", \"correct\", \"correct\", \"correct\", \"correct\", \"correct\", \"correct\", \"correct\", \"correct\", \"correct\", \"correct\", \"correct\", \"correct\", \"correct\", \"correct\", \"correct\", \"correct\", \"correct\", \"correspond\", \"correspond\", \"correspond\", \"cors\", \"cost\", \"could\", \"could\", \"could\", \"could\", \"could\", \"could\", \"could\", \"count\", \"count\", \"count\", \"count\", \"counter\", \"country\", \"couple\", \"course\", \"cout\", \"cover\", \"cp\", \"cpp\", \"cpu\", \"crash\", \"crash\", \"create\", \"create\", \"create\", \"create\", \"create\", \"create\", \"create\", \"create\", \"create\", \"create\", \"create\", \"create\", \"create\", \"create\", \"create\", \"create\", \"create\", \"create\", \"create\", \"create\", \"create\", \"create\", \"createdat\", \"createelement\", \"creation\", \"credential\", \"credit\", \"criterion\", \"cron\", \"crop\", \"crud\", \"cs\", \"cs\", \"csharp\", \"csrf\", \"csv\", \"ct\", \"ctor\", \"ctrl\", \"ctx\", \"cube\", \"cuda\", \"culture\", \"cur\", \"curl\", \"curlopt\", \"currency\", \"currenttimemillis\", \"cursor\", \"cursor\", \"custom\", \"custom\", \"custom\", \"custom\", \"custom\", \"customer\", \"customerid\", \"customize\", \"cut\", \"cv\", \"cx\", \"cxx\", \"cy\", \"cycle\", \"da\", \"daemon\", \"daily\", \"danger\", \"dao\", \"dart\", \"dash\", \"dashboard\", \"dat\", \"data\", \"data\", \"data\", \"data\", \"data\", \"data\", \"data\", \"data\", \"database\", \"database\", \"database\", \"databaseerror\", \"databasereference\", \"dataframe\", \"dataframes\", \"datagrid\", \"datalist\", \"dataset\", \"dataset\", \"datasets\", \"datasets\", \"datasets\", \"datasnapshot\", \"datasource\", \"datasources\", \"datastore\", \"datatable\", \"datatable\", \"datatables\", \"datatemplate\", \"datatype\", \"datatype\", \"date\", \"datepicker\", \"datetime\", \"datetimefield\", \"day\", \"db\", \"dbcontext\", \"dbms\", \"dbname\", \"dbo\", \"dc\", \"dd\", \"ddd\", \"ddl\", \"de\", \"deb\", \"debian\", \"debug\", \"debug\", \"debugger\", \"dec\", \"decide\", \"decimal\", \"decision\", \"declare\", \"declare\", \"declare\", \"declare\", \"decode\", \"decoder\", \"decorator\", \"decrease\", \"def\", \"def\", \"def\", \"def\", \"default\", \"default\", \"default\", \"default\", \"default\", \"default\", \"default\", \"default\", \"default\", \"defer\", \"define\", \"define\", \"define\", \"define\", \"define\", \"define\", \"define\", \"define\", \"define\", \"define\", \"define\", \"define\", \"define\", \"definition\", \"definition\", \"deg\", \"degree\", \"delay\", \"delegate\", \"delegatingmethodaccessorimpl\", \"delete\", \"delete\", \"delete\", \"delimiter\", \"deliver\", \"delta\", \"demo\", \"demo\", \"dense\", \"deny\", \"dep\", \"department\", \"depend\", \"depend\", \"depend\", \"depend\", \"dependency\", \"dependency\", \"dependent\", \"deploy\", \"deployment\", \"deprecate\", \"dept\", \"depth\", \"derive\", \"desc\", \"describe\", \"describe\", \"description\", \"descriptor\", \"deserialize\", \"design\", \"design\", \"design\", \"designer\", \"desire\", \"desktop\", \"dest\", \"destination\", \"destroy\", \"detail\", \"detail\", \"detail\", \"detail\", \"detail\", \"detect\", \"detection\", \"dev\", \"dev\", \"developer\", \"development\", \"development\", \"development\", \"device\", \"device\", \"devops\", \"df\", \"diagnostics\", \"diagram\", \"dialog\", \"dice\", \"dict\", \"dictionary\", \"dictionary\", \"die\", \"diff\", \"difference\", \"different\", \"different\", \"different\", \"different\", \"different\", \"difficult\", \"digit\", \"dim\", \"dimension\", \"dir\", \"dir\", \"direct\", \"direct\", \"direct\", \"direction\", \"direction\", \"direction\", \"directory\", \"directory\", \"dirs\", \"disable\", \"disable\", \"disable\", \"disappear\", \"disconnect\", \"discount\", \"discovery\", \"disk\", \"dismiss\", \"dispatch\", \"dispatchmessage\", \"display\", \"display\", \"display\", \"display\", \"display\", \"display\", \"display\", \"display\", \"displayname\", \"dist\", \"distance\", \"distinct\", \"distribute\", \"distribution\", \"div\", \"divide\", \"division\", \"django\", \"django\", \"dll\", \"do\", \"do\", \"do\", \"do\", \"do\", \"do\", \"do\", \"dob\", \"doc\", \"doc\", \"doc\", \"doc\", \"docker\", \"dockerfile\", \"doctor\", \"doctrine\", \"doctype\", \"document\", \"documentation\", \"documentation\", \"documentation\", \"documentation\", \"documentation\", \"documentation\", \"doe\", \"dog\", \"dom\", \"domain\", \"dont\", \"dot\", \"dotnet\", \"double\", \"download\", \"dp\", \"dplyr\", \"drag\", \"draw\", \"draw\", \"drawable\", \"drawable\", \"drawer\", \"drive\", \"driver\", \"driver\", \"drop\", \"drop\", \"drop\", \"dropdown\", \"dropdown\", \"dsl\", \"dst\", \"dt\", \"dtype\", \"due\", \"dummy\", \"dump\", \"dump\", \"duplicate\", \"duration\", \"dx\", \"dy\", \"dynamic\", \"dynamically\", \"dynamically\", \"dynamically\", \"dynamodb\", \"ea\", \"earlier\", \"easily\", \"east\", \"easy\", \"eb\", \"ec\", \"ec\", \"echo\", \"eclipse\", \"ed\", \"edge\", \"edgeinsets\", \"edit\", \"edit\", \"edit\", \"edit\", \"edit\", \"edit\", \"edit\", \"edit\", \"editable\", \"editor\", \"edittext\", \"ee\", \"ef\", \"effect\", \"efficient\", \"egg\", \"ejs\", \"el\", \"elastic\", \"elasticsearch\", \"electron\", \"elem\", \"element\", \"element\", \"element\", \"element\", \"elif\", \"elif\", \"eloquent\", \"else\", \"else\", \"else\", \"else\", \"else\", \"else\", \"else\", \"else\", \"else\", \"else\", \"else\", \"else\", \"else\", \"else\", \"else\", \"else\", \"em\", \"email\", \"emailaddress\", \"embed\", \"emit\", \"emoji\", \"emp\", \"employee\", \"employeeid\", \"empty\", \"empty\", \"empty\", \"empty\", \"empty\", \"empty\", \"empty\", \"empty\", \"empty\", \"emulator\", \"en\", \"en\", \"en\", \"enable\", \"enable\", \"enable\", \"encode\", \"encode\", \"encoder\", \"encounter\", \"encounter\", \"encrypt\", \"end\", \"end\", \"end\", \"end\", \"enddate\", \"endif\", \"endl\", \"endpoint\", \"endwhile\", \"eng\", \"engine\", \"engine\", \"engine\", \"engine\", \"english\", \"ensure\", \"enter\", \"enter\", \"enter\", \"enter\", \"entire\", \"entity\", \"entitymanager\", \"entry\", \"enum\", \"enumerate\", \"env\", \"env\", \"environ\", \"environment\", \"environment\", \"envs\", \"eof\", \"ep\", \"epoch\", \"eq\", \"eq\", \"equal\", \"equal\", \"equation\", \"equivalent\", \"err\", \"error\", \"error\", \"error\", \"error\", \"error\", \"error\", \"error\", \"error\", \"error\", \"error\", \"errormessage\", \"escape\", \"eslint\", \"esm\", \"espresso\", \"establish\", \"et\", \"etc\", \"etc\", \"etc\", \"etc\", \"etc\", \"etc\", \"etc\", \"etc\", \"etc\", \"etc\", \"eu\", \"europe\", \"ev\", \"evaluate\", \"even\", \"even\", \"event\", \"eventually\", \"every\", \"every\", \"every\", \"everyone\", \"everytime\", \"evt\", \"ex\", \"exc\", \"exceed\", \"excel\", \"exception\", \"exception\", \"exception\", \"exception\", \"exchange\", \"exclude\", \"exe\", \"exec\", \"exec\", \"exec\", \"exec\", \"executable\", \"execute\", \"execute\", \"execute\", \"execute\", \"execute\", \"execute\", \"execute\", \"execute\", \"execute\", \"execution\", \"executor\", \"exercise\", \"exist\", \"exist\", \"exist\", \"exist\", \"exist\", \"exist\", \"exit\", \"exit\", \"exit\", \"exit\", \"exit\", \"exit\", \"exp\", \"expect\", \"expect\", \"expect\", \"expect\", \"expect\", \"expect\", \"expect\", \"expect\", \"expect\", \"expect\", \"expect\", \"expect\", \"expect\", \"expect\", \"expect\", \"expect\", \"experience\", \"experiment\", \"experimental\", \"expire\", \"explicit\", \"explicitly\", \"expo\", \"export\", \"export\", \"expose\", \"express\", \"expression\", \"extend\", \"extend\", \"extension\", \"extension\", \"external\", \"external\", \"extra\", \"extract\", \"extract\", \"extract\", \"extract\", \"fa\", \"face\", \"face\", \"face\", \"face\", \"facebook\", \"factor\", \"factory\", \"fail\", \"fail\", \"fail\", \"fail\", \"fail\", \"fail\", \"fail\", \"fail\", \"fail\", \"fail\", \"fail\", \"fail\", \"fail\", \"fail\", \"fail\", \"fairly\", \"fake\", \"false\", \"false\", \"false\", \"false\", \"false\", \"false\", \"false\", \"false\", \"false\", \"false\", \"false\", \"false\", \"false\", \"family\", \"faster\", \"fasterxml\", \"fault\", \"favorite\", \"fb\", \"fc\", \"fd\", \"fe\", \"feature\", \"feb\", \"fee\", \"fee\", \"feedback\", \"feel\", \"feel\", \"fetch\", \"fetch\", \"fetch\", \"fetchdata\", \"fff\", \"fi\", \"fiddle\", \"field\", \"fieldset\", \"fig\", \"figure\", \"figure\", \"figure\", \"figure\", \"figure\", \"figure\", \"figure\", \"file\", \"file\", \"file\", \"file\", \"fileinputstream\", \"filelist\", \"filename\", \"filepath\", \"fileupload\", \"fill\", \"fill\", \"fill\", \"fill\", \"fill\", \"filter\", \"final\", \"final\", \"final\", \"final\", \"find\", \"find\", \"find\", \"find\", \"find\", \"find\", \"find\", \"find\", \"find\", \"find\", \"find\", \"find\", \"find\", \"find\", \"find\", \"find\", \"find\", \"find\", \"findall\", \"findviewbyid\", \"finish\", \"finish\", \"finish\", \"finish\", \"finish\", \"finish\", \"firebase\", \"firefox\", \"firestore\", \"first\", \"first\", \"first\", \"first\", \"first\", \"first\", \"first\", \"first\", \"first\", \"first\", \"first\", \"first\", \"first\", \"first\", \"first\", \"first\", \"first\", \"first\", \"first\", \"first\", \"first\", \"firstname\", \"fit\", \"five\", \"fk\", \"flag\", \"flag\", \"flash\", \"flask\", \"flat\", \"flatlist\", \"flex\", \"flexdirection\", \"flip\", \"float\", \"float\", \"float\", \"floor\", \"flow\", \"fluid\", \"flutter\", \"fmt\", \"fn\", \"fn\", \"fname\", \"focus\", \"focus\", \"folder\", \"folder\", \"follow\", \"follow\", \"follow\", \"follow\", \"follow\", \"follow\", \"follow\", \"follow\", \"follow\", \"follow\", \"follow\", \"follow\", \"follow\", \"follow\", \"follow\", \"follow\", \"follow\", \"follow\", \"follow\", \"follow\", \"follow\", \"follow\", \"follow\", \"follow\", \"follower\", \"font\", \"fontsize\", \"foo\", \"food\", \"force\", \"force\", \"force\", \"force\", \"foreach\", \"foreach\", \"foreach\", \"foreach\", \"foreach\", \"foreach\", \"forecast\", \"foreground\", \"foreign\", \"foreign\", \"foreignkey\", \"forge\", \"forget\", \"form\", \"format\", \"format\", \"format\", \"format\", \"format\", \"format\", \"format\", \"format\", \"formatter\", \"formcontrolname\", \"formdata\", \"former\", \"formgroup\", \"formula\", \"forum\", \"forward\", \"forward\", \"forward\", \"foundation\", \"four\", \"fp\", \"fr\", \"fragment\", \"fragment\", \"frame\", \"framework\", \"framework\", \"framework\", \"free\", \"freeze\", \"french\", \"frequency\", \"friend\", \"front\", \"fruit\", \"full\", \"full\", \"full\", \"full\", \"full\", \"full\", \"full\", \"full\", \"full\", \"full\", \"full\", \"full\", \"full\", \"fullname\", \"fully\", \"fun\", \"func\", \"func\", \"function\", \"function\", \"function\", \"functional\", \"functionality\", \"fund\", \"future\", \"fw\", \"fxml\", \"galaxy\", \"gallery\", \"game\", \"game\", \"gameobject\", \"gap\", \"gateway\", \"gather\", \"gb\", \"gc\", \"gcc\", \"gcloud\", \"gcp\", \"gem\", \"gender\", \"gene\", \"general\", \"generate\", \"generate\", \"generate\", \"generate\", \"generatedvalue\", \"generation\", \"generator\", \"generic\", \"genre\", \"geolocation\", \"geom\", \"geometry\", \"get\", \"get\", \"get\", \"get\", \"get\", \"get\", \"get\", \"get\", \"get\", \"get\", \"get\", \"get\", \"get\", \"get\", \"get\", \"get\", \"get\", \"get\", \"get\", \"get\", \"get\", \"get\", \"get\", \"get\", \"get\", \"get\", \"get\", \"getattribute\", \"getconnection\", \"getdata\", \"getdata\", \"getdate\", \"getelementbyid\", \"getelementsbyclassname\", \"getelementsbytagname\", \"getinstance\", \"getitem\", \"getkey\", \"getline\", \"getmapping\", \"getrange\", \"getstring\", \"getter\", \"getters\", \"gettext\", \"gettype\", \"getvalue\", \"ggplot\", \"gif\", \"git\", \"github\", \"github\", \"gitlab\", \"give\", \"give\", \"give\", \"give\", \"give\", \"give\", \"give\", \"give\", \"give\", \"give\", \"give\", \"gl\", \"glass\", \"global\", \"globals\", \"gm\", \"gmail\", \"gnu\", \"go\", \"go\", \"go\", \"go\", \"go\", \"go\", \"go\", \"go\", \"go\", \"goal\", \"good\", \"good\", \"google\", \"goto\", \"gp\", \"gps\", \"grab\", \"grade\", \"gradient\", \"gradle\", \"grant\", \"grant\", \"grant\", \"graph\", \"graphic\", \"graphql\", \"gravity\", \"greatly\", \"green\", \"green\", \"greet\", \"grep\", \"grey\", \"grid\", \"grid\", \"gridview\", \"groovy\", \"group\", \"group\", \"group\", \"group\", \"groupby\", \"groupid\", \"groupidcom\", \"groupidorg\", \"gt\", \"guarantee\", \"guard\", \"guess\", \"guess\", \"guess\", \"gui\", \"guid\", \"gulp\", \"gunicorn\", \"hadoop\", \"half\", \"hand\", \"handle\", \"handle\", \"handle\", \"handle\", \"handle\", \"handle\", \"handle\", \"handle\", \"handle\", \"handle\", \"handle\", \"handlechange\", \"handler\", \"handler\", \"handler\", \"handler\", \"handshake\", \"hang\", \"hash\", \"hash\", \"hashmap\", \"hasmany\", \"hasnext\", \"head\", \"head\", \"head\", \"head\", \"header\", \"header\", \"header\", \"header\", \"headline\", \"health\", \"heap\", \"heatmap\", \"height\", \"height\", \"height\", \"hello\", \"help\", \"help\", \"help\", \"help\", \"help\", \"help\", \"help\", \"help\", \"help\", \"help\", \"help\", \"help\", \"help\", \"help\", \"help\", \"help\", \"help\", \"help\", \"help\", \"help\", \"help\", \"help\", \"help\", \"helper\", \"helper\", \"heroku\", \"hex\", \"hey\", \"hh\", \"hi\", \"hibernate\", \"hide\", \"hide\", \"hide\", \"hide\", \"hierarchy\", \"high\", \"highcharts\", \"higher\", \"highest\", \"highlight\", \"highly\", \"hint\", \"history\", \"hive\", \"hl\", \"holder\", \"holiday\", \"home\", \"home\", \"homepage\", \"hook\", \"hook\", \"hop\", \"horizontally\", \"horizontaloptions\", \"host\", \"host\", \"hostname\", \"hot\", \"hour\", \"house\", \"hover\", \"hp\", \"hpp\", \"hr\", \"href\", \"href\", \"href\", \"htaccess\", \"htdocs\", \"htm\", \"html\", \"html\", \"html\", \"html\", \"html\", \"html\", \"html\", \"html\", \"html\", \"http\", \"http\", \"http\", \"http\", \"http\", \"http\", \"httpclient\", \"httpcontext\", \"hub\", \"huge\", \"hwnd\", \"hy\", \"iam\", \"ib\", \"ibb\", \"iboutlet\", \"ic\", \"icon\", \"id\", \"id\", \"ide\", \"ideal\", \"identifier\", \"identify\", \"identify\", \"identity\", \"idle\", \"idx\", \"ie\", \"ie\", \"iframe\", \"ignore\", \"ignore\", \"ignore\", \"ii\", \"il\", \"illegal\", \"illuminate\", \"iloc\", \"im\", \"image\", \"image\", \"image\", \"imagepath\", \"imageview\", \"img\", \"img\", \"imgur\", \"immutable\", \"impl\", \"implement\", \"implement\", \"implement\", \"implement\", \"implement\", \"implement\", \"implement\", \"implement\", \"implement\", \"implementation\", \"implementation\", \"implementation\", \"implicit\", \"import\", \"import\", \"import\", \"import\", \"import\", \"import\", \"important\", \"important\", \"importlib\", \"improve\", \"imshow\", \"inactive\", \"inc\", \"inch\", \"include\", \"include\", \"include\", \"include\", \"include\", \"income\", \"incoming\", \"increase\", \"increment\", \"ind\", \"indent\", \"independent\", \"index\", \"indexof\", \"indexpath\", \"indicator\", \"inet\", \"inf\", \"infile\", \"infinite\", \"inflate\", \"info\", \"ingredient\", \"ingres\", \"inheritance\", \"init\", \"init\", \"init\", \"init\", \"init\", \"init\", \"initialization\", \"initialization\", \"initialize\", \"initialize\", \"initialize\", \"initialize\", \"initialize\", \"initialize\", \"initialize\", \"initiate\", \"inject\", \"inject\", \"inject\", \"inject\", \"injectable\", \"inline\", \"inner\", \"inner\", \"innerhtml\", \"innertext\", \"innerwidth\", \"innodb\", \"inplace\", \"input\", \"input\", \"input\", \"inputstream\", \"insert\", \"inside\", \"inside\", \"inside\", \"inside\", \"inside\", \"inside\", \"inside\", \"inside\", \"inside\", \"insight\", \"inspect\", \"instagram\", \"instal\", \"instal\", \"instal\", \"install\", \"install\", \"installation\", \"instance\", \"instance\", \"instance\", \"instead\", \"instead\", \"instead\", \"instead\", \"instead\", \"instead\", \"instead\", \"instead\", \"instead\", \"instead\", \"instead\", \"instead\", \"instead\", \"instead\", \"instead\", \"instead\", \"instead\", \"instead\", \"int\", \"int\", \"int\", \"integer\", \"integer\", \"integerfield\", \"integrate\", \"integration\", \"integrity\", \"intellij\", \"intent\", \"interact\", \"interaction\", \"interactive\", \"intercept\", \"interest\", \"interest\", \"interface\", \"interface\", \"intermediate\", \"internal\", \"internal\", \"internet\", \"internet\", \"interpreter\", \"interval\", \"introduce\", \"inv\", \"invalid\", \"invalid\", \"invalid\", \"invalid\", \"inventory\", \"invisible\", \"invoice\", \"invoke\", \"involve\", \"io\", \"io\", \"io\", \"io\", \"io\", \"ioexception\", \"ion\", \"ionic\", \"iostream\", \"ip\", \"iphone\", \"ipsum\", \"ipython\", \"ir\", \"iris\", \"isempty\", \"isenabled\", \"isloading\", \"isnull\", \"iso\", \"isolate\", \"isset\", \"issue\", \"issue\", \"issue\", \"issue\", \"isvalid\", \"item\", \"item\", \"itemid\", \"itemview\", \"iterable\", \"iterate\", \"iterate\", \"iterate\", \"iterate\", \"iteration\", \"iterator\", \"jackson\", \"jan\", \"jane\", \"jar\", \"jasmine\", \"java\", \"java\", \"javafx\", \"javascript\", \"javascript\", \"javax\", \"jaxb\", \"jboss\", \"jdbc\", \"jdk\", \"jdk\", \"jenkins\", \"jetbrains\", \"job\", \"john\", \"join\", \"join\", \"joincolumn\", \"journal\", \"jpa\", \"jpeg\", \"jpg\", \"jquery\", \"jre\", \"jsfiddle\", \"json\", \"json\", \"jsonproperty\", \"jsp\", \"jul\", \"jump\", \"junit\", \"junit\", \"jupyter\", \"jwt\", \"kafka\", \"karma\", \"kb\", \"keep\", \"keep\", \"keep\", \"keep\", \"keep\", \"keep\", \"keep\", \"keep\", \"keep\", \"keep\", \"kera\", \"kernel\", \"key\", \"keyboard\", \"keycode\", \"keyerror\", \"keystore\", \"keyword\", \"keywords\", \"kg\", \"kill\", \"kind\", \"kinda\", \"kinesis\", \"kivy\", \"know\", \"knowledge\", \"kotlin\", \"kt\", \"kubernetes\", \"kwargs\", \"la\", \"lab\", \"label\", \"label\", \"lambda\", \"lambda\", \"lambda\", \"land\", \"lang\", \"lang\", \"lang\", \"language\", \"lapply\", \"laptop\", \"laravel\", \"large\", \"large\", \"largest\", \"last\", \"last\", \"last\", \"last\", \"last\", \"last\", \"last\", \"lastname\", \"lastrow\", \"lat\", \"later\", \"latest\", \"latitude\", \"latlng\", \"launch\", \"launch\", \"launch\", \"launcher\", \"layer\", \"layout\", \"layout\", \"layoutinflater\", \"lazy\", \"lb\", \"lc\", \"ld\", \"ldap\", \"le\", \"lead\", \"lead\", \"leader\", \"leaf\", \"leaflet\", \"learn\", \"learn\", \"least\", \"leave\", \"leave\", \"leave\", \"legacy\", \"legend\", \"len\", \"len\", \"len\", \"length\", \"length\", \"length\", \"length\", \"length\", \"length\", \"length\", \"let\", \"let\", \"let\", \"letter\", \"level\", \"lg\", \"lh\", \"li\", \"lia\", \"lib\", \"lib\", \"libc\", \"library\", \"libs\", \"license\", \"life\", \"lifecycle\", \"light\", \"limit\", \"limit\", \"limit\", \"limitation\", \"line\", \"line\", \"line\", \"line\", \"line\", \"line\", \"line\", \"line\", \"line\", \"line\", \"line\", \"line\", \"linearlayout\", \"link\", \"link\", \"link\", \"link\", \"linkedlist\", \"linq\", \"linux\", \"linux\", \"list\", \"list\", \"list\", \"list\", \"listdir\", \"listen\", \"listen\", \"listener\", \"listener\", \"liststring\", \"literal\", \"little\", \"little\", \"live\", \"live\", \"lng\", \"load\", \"load\", \"load\", \"load\", \"load\", \"loader\", \"loc\", \"loc\", \"local\", \"local\", \"local\", \"locale\", \"localhost\", \"localhost\", \"locally\", \"locally\", \"locally\", \"localstorage\", \"location\", \"lock\", \"log\", \"log\", \"log\", \"log\", \"logback\", \"logger\", \"logic\", \"login\", \"logo\", \"logout\", \"lon\", \"long\", \"long\", \"long\", \"long\", \"longer\", \"longitude\", \"look\", \"look\", \"look\", \"look\", \"look\", \"lookup\", \"loop\", \"loop\", \"looper\", \"los\", \"lose\", \"lose\", \"loss\", \"lot\", \"love\", \"low\", \"lower\", \"mac\", \"machine\", \"macos\", \"macosx\", \"macro\", \"mail\", \"main\", \"main\", \"main\", \"main\", \"main\", \"main\", \"main\", \"main\", \"main\", \"mainactivity\", \"mainwindow\", \"mainwindow\", \"major\", \"make\", \"make\", \"make\", \"make\", \"make\", \"make\", \"make\", \"make\", \"make\", \"make\", \"make\", \"make\", \"make\", \"make\", \"make\", \"make\", \"make\", \"management\", \"manager\", \"manager\", \"manifest\", \"manual\", \"manually\", \"manually\", \"manually\", \"many\", \"many\", \"many\", \"map\", \"map\", \"mapper\", \"mapstatetoprops\", \"mapstring\", \"margin\", \"margin\", \"margintop\", \"mark\", \"markdown\", \"marker\", \"market\", \"markup\", \"mask\", \"master\", \"mat\", \"match\", \"match\", \"material\", \"material\", \"math\", \"matplotlib\", \"matrix\", \"matter\", \"maven\", \"max\", \"max\", \"maximum\", \"maxlength\", \"mb\", \"mc\", \"md\", \"mean\", \"mean\", \"mean\", \"mean\", \"measure\", \"mechanism\", \"medium\", \"medium\", \"meet\", \"meet\", \"mem\", \"member\", \"memory\", \"memorystream\", \"mention\", \"mention\", \"menu\", \"menuitem\", \"merge\", \"mesh\", \"mess\", \"message\", \"message\", \"message\", \"message\", \"messagebox\", \"meta\", \"meta\", \"metadata\", \"method\", \"method\", \"method\", \"method\", \"method\", \"method\", \"method\", \"method\", \"method\", \"method\", \"method\", \"metric\", \"mi\", \"micro\", \"microsoft\", \"microsoft\", \"microsoft\", \"mid\", \"middle\", \"middleware\", \"migrate\", \"migration\", \"million\", \"millisecond\", \"mime\", \"mime\", \"mimetype\", \"min\", \"min\", \"minimum\", \"minus\", \"minute\", \"mistake\", \"mix\", \"ml\", \"mm\", \"mn\", \"mobile\", \"mock\", \"mod\", \"modal\", \"mode\", \"mode\", \"mode\", \"model\", \"model\", \"modelbuilder\", \"module\", \"module\", \"moment\", \"moment\", \"moment\", \"mongo\", \"mongodb\", \"mongoose\", \"monitor\", \"mono\", \"monobehaviour\", \"month\", \"motion\", \"mount\", \"mount\", \"mouse\", \"move\", \"move\", \"movetonext\", \"movie\", \"mp\", \"mr\", \"msg\", \"msgbox\", \"msvc\", \"mt\", \"mu\", \"much\", \"multi\", \"multi\", \"multipart\", \"multiple\", \"multiple\", \"multiple\", \"multiple\", \"multiple\", \"multiple\", \"multiple\", \"multiple\", \"multiple\", \"multiply\", \"multiprocessing\", \"music\", \"mut\", \"mutate\", \"mutation\", \"mute\", \"mutex\", \"mv\", \"mvc\", \"myapp\", \"myclass\", \"myfile\", \"myform\", \"myfunction\", \"myservice\", \"mysql\", \"mysqli\", \"na\", \"name\", \"nameof\", \"namespace\", \"namespace\", \"namespace\", \"namespace\", \"nan\", \"native\", \"native\", \"native\", \"nativemethodaccessorimpl\", \"nativemethodaccessorimpl\", \"nav\", \"navbar\", \"navigate\", \"navigate\", \"navigation\", \"navigation\", \"navigation\", \"navigator\", \"nbsp\", \"nc\", \"nd\", \"near\", \"negative\", \"nest\", \"net\", \"netty\", \"network\", \"network\", \"network\", \"network\", \"neutral\", \"new\", \"new\", \"new\", \"new\", \"new\", \"new\", \"new\", \"new\", \"new\", \"new\", \"new\", \"newinstance\", \"newly\", \"news\", \"next\", \"next\", \"next\", \"next\", \"next\", \"next\", \"nextint\", \"ng\", \"ngfor\", \"ngfor\", \"ngif\", \"ngif\", \"nginx\", \"ngmodel\", \"ngoninit\", \"nickname\", \"nil\", \"nio\", \"nm\", \"nn\", \"node\", \"nodejs\", \"nom\", \"non\", \"non\", \"non\", \"non\", \"non\", \"non\", \"none\", \"none\", \"none\", \"none\", \"none\", \"none\", \"none\", \"none\", \"none\", \"none\", \"none\", \"none\", \"none\", \"none\", \"none\", \"nonnull\", \"normal\", \"normalize\", \"note\", \"note\", \"note\", \"note\", \"note\", \"note\", \"note\", \"note\", \"note\", \"note\", \"note\", \"notebook\", \"nothing\", \"nothing\", \"nothing\", \"nothing\", \"notification\", \"notify\", \"np\", \"npm\", \"nrow\", \"nt\", \"nth\", \"null\", \"null\", \"null\", \"null\", \"null\", \"null\", \"nullable\", \"nullable\", \"nullpointerexception\", \"num\", \"number\", \"number\", \"numeric\", \"numpy\", \"nuxt\", \"ny\", \"oauth\", \"ob\", \"obj\", \"objc\", \"object\", \"object\", \"object\", \"object\", \"object\", \"objectid\", \"objective\", \"objectmapper\", \"observable\", \"observation\", \"observe\", \"observer\", \"obtain\", \"obtain\", \"obvious\", \"occurrence\", \"odd\", \"offer\", \"office\", \"offline\", \"offset\", \"offset\", \"og\", \"ok\", \"okay\", \"okhttp\", \"old\", \"older\", \"omit\", \"onchange\", \"onclick\", \"onclick\", \"onclick\", \"onclick\", \"onclicklistener\", \"oncreate\", \"ondestroy\", \"one\", \"one\", \"one\", \"one\", \"one\", \"one\", \"one\", \"one\", \"one\", \"onerror\", \"oninit\", \"onload\", \"onpress\", \"onto\", \"opacity\", \"open\", \"open\", \"open\", \"open\", \"open\", \"open\", \"open\", \"open\", \"open\", \"opencv\", \"operate\", \"operation\", \"operation\", \"operator\", \"opportunity\", \"opt\", \"optimization\", \"option\", \"option\", \"option\", \"optional\", \"oracle\", \"ord\", \"order\", \"order\", \"order\", \"orderby\", \"orderid\", \"org\", \"org\", \"organization\", \"orientation\", \"orientation\", \"orig\", \"origin\", \"origin\", \"orm\", \"orm\", \"orm\", \"os\", \"outer\", \"outfile\", \"outline\", \"outline\", \"outlook\", \"output\", \"output\", \"output\", \"output\", \"output\", \"outside\", \"overflow\", \"overlap\", \"overlay\", \"overload\", \"override\", \"override\", \"owner\", \"pack\", \"package\", \"package\", \"package\", \"packet\", \"pad\", \"pad\", \"pad\", \"page\", \"paginate\", \"pagination\", \"paint\", \"pair\", \"panda\", \"panel\", \"panel\", \"paper\", \"par\", \"paragraph\", \"parallel\", \"param\", \"parameter\", \"params\", \"params\", \"params\", \"parent\", \"parent\", \"park\", \"parse\", \"parse\", \"parse\", \"parse\", \"parse\", \"parseint\", \"parser\", \"part\", \"part\", \"part\", \"part\", \"part\", \"part\", \"part\", \"partial\", \"particular\", \"partition\", \"partner\", \"party\", \"pas\", \"pas\", \"pas\", \"pas\", \"pas\", \"pas\", \"pas\", \"pas\", \"pass\", \"pass\", \"pass\", \"pass\", \"pass\", \"passport\", \"password\", \"past\", \"paste\", \"path\", \"path\", \"path\", \"path\", \"path\", \"patient\", \"pattern\", \"pause\", \"pay\", \"payment\", \"pc\", \"pd\", \"pdb\", \"pdf\", \"pdo\", \"peer\", \"pem\", \"pending\", \"people\", \"per\", \"per\", \"per\", \"per\", \"percent\", \"percentage\", \"perform\", \"perform\", \"perform\", \"perform\", \"perform\", \"perform\", \"perform\", \"perform\", \"perform\", \"performance\", \"perhaps\", \"period\", \"permission\", \"permit\", \"persistence\", \"person\", \"personal\", \"personid\", \"phase\", \"phi\", \"phone\", \"phonenumber\", \"photo\", \"php\", \"phrase\", \"pi\", \"pic\", \"pick\", \"picker\", \"pickle\", \"picture\", \"picture\", \"pid\", \"pid\", \"pie\", \"piece\", \"piece\", \"pil\", \"pin\", \"pip\", \"pipe\", \"pivot\", \"pixel\", \"pixel\", \"pk\", \"pkg\", \"pl\", \"place\", \"place\", \"place\", \"place\", \"place\", \"place\", \"placeholder\", \"placeholder\", \"placeholder\", \"plan\", \"platform\", \"play\", \"play\", \"playbook\", \"player\", \"playground\", \"please\", \"please\", \"please\", \"please\", \"please\", \"please\", \"please\", \"please\", \"please\", \"please\", \"please\", \"please\", \"please\", \"please\", \"please\", \"please\", \"please\", \"please\", \"plot\", \"plotly\", \"plt\", \"plugin\", \"plugins\", \"plus\", \"plus\", \"pm\", \"png\", \"png\", \"png\", \"po\", \"pod\", \"poi\", \"point\", \"point\", \"pointer\", \"pointer\", \"pojo\", \"policy\", \"policy\", \"policy\", \"poll\", \"polygon\", \"pom\", \"pool\", \"pop\", \"pop\", \"populate\", \"popup\", \"port\", \"port\", \"portion\", \"position\", \"positive\", \"possibility\", \"possibly\", \"post\", \"post\", \"post\", \"postgres\", \"postgresql\", \"postman\", \"pow\", \"power\", \"powershell\", \"pp\", \"pr\", \"pragma\", \"pre\", \"precision\", \"predefined\", \"predict\", \"prediction\", \"prefer\", \"preference\", \"prefix\", \"prepare\", \"preprocessing\", \"present\", \"present\", \"present\", \"presentation\", \"presenter\", \"preserve\", \"preset\", \"press\", \"prev\", \"prevent\", \"preventdefault\", \"preventdefault\", \"preview\", \"previous\", \"previous\", \"previous\", \"previous\", \"previous\", \"previous\", \"previously\", \"price\", \"primary\", \"primary\", \"primary\", \"primary\", \"prime\", \"primitive\", \"print\", \"print\", \"printer\", \"printf\", \"println\", \"printstacktrace\", \"priority\", \"private\", \"private\", \"private\", \"pro\", \"probably\", \"procedure\", \"process\", \"process\", \"process\", \"processor\", \"prod\", \"producer\", \"product\", \"productid\", \"production\", \"productname\", \"profile\", \"program\", \"programmatically\", \"progress\", \"progressbar\", \"proguard\", \"proj\", \"project\", \"project\", \"project\", \"project\", \"promise\", \"prompt\", \"prompt\", \"prop\", \"proper\", \"proper\", \"property\", \"property\", \"proptypes\", \"protect\", \"protect\", \"protobuf\", \"protocol\", \"protocol\", \"protocol\", \"prototype\", \"provider\", \"provider\", \"proxy\", \"pseudo\", \"pt\", \"ptr\", \"pub\", \"public\", \"public\", \"publish\", \"publisher\", \"pull\", \"pull\", \"pull\", \"purchase\", \"push\", \"push\", \"push\", \"push\", \"put\", \"put\", \"put\", \"put\", \"put\", \"put\", \"put\", \"put\", \"put\", \"put\", \"put\", \"pwd\", \"px\", \"py\", \"pycharm\", \"pycharmprojects\", \"pygame\", \"pyplot\", \"pyqt\", \"pyspark\", \"pytest\", \"python\", \"pytorch\", \"qos\", \"qstring\", \"qt\", \"qtcore\", \"qtwidgets\", \"qty\", \"quantity\", \"query\", \"queryselector\", \"queryselectorall\", \"queryset\", \"question\", \"queue\", \"quit\", \"quite\", \"quiz\", \"quot\", \"quote\", \"race\", \"radio\", \"radiobutton\", \"radius\", \"rail\", \"raise\", \"ram\", \"rand\", \"randint\", \"random\", \"random\", \"randomly\", \"range\", \"range\", \"range\", \"rank\", \"rat\", \"rate\", \"rather\", \"rather\", \"rather\", \"ratio\", \"raw\", \"raw\", \"rb\", \"rb\", \"rc\", \"rdd\", \"rds\", \"re\", \"re\", \"reach\", \"react\", \"reactive\", \"reactjs\", \"read\", \"read\", \"read\", \"read\", \"read\", \"read\", \"read\", \"read\", \"readable\", \"reader\", \"readonly\", \"readonly\", \"ready\", \"ready\", \"ready\", \"real\", \"real\", \"real\", \"real\", \"realm\", \"realtime\", \"rec\", \"receive\", \"receive\", \"receive\", \"receive\", \"receive\", \"receive\", \"receive\", \"receive\", \"receiver\", \"recent\", \"recently\", \"recipe\", \"recipient\", \"recognition\", \"recognize\", \"record\", \"record\", \"recover\", \"recreate\", \"rect\", \"rectangle\", \"recv\", \"recyclerview\", \"recyclerview\", \"red\", \"red\", \"redirect\", \"redis\", \"reduce\", \"reducer\", \"redux\", \"ref\", \"refer\", \"reference\", \"reference\", \"reference\", \"reference\", \"reference\", \"reference\", \"reference\", \"reflect\", \"reflection\", \"refresh\", \"refuse\", \"reg\", \"regardless\", \"regex\", \"region\", \"register\", \"register\", \"register\", \"registration\", \"regression\", \"regular\", \"reject\", \"rel\", \"relationship\", \"relationship\", \"relativelayout\", \"release\", \"reload\", \"relu\", \"rem\", \"remote\", \"remote\", \"remove\", \"remove\", \"remove\", \"remove\", \"remove\", \"remove\", \"remove\", \"remove\", \"removeclass\", \"rename\", \"render\", \"render\", \"render\", \"rep\", \"repeat\", \"replace\", \"replacement\", \"replica\", \"reply\", \"repo\", \"report\", \"report\", \"repos\", \"repository\", \"repository\", \"repository\", \"represent\", \"represent\", \"representation\", \"reproduce\", \"req\", \"request\", \"request\", \"requestbody\", \"require\", \"require\", \"requirement\", \"reservation\", \"reserve\", \"reset\", \"reset\", \"reset\", \"reset\", \"reshape\", \"resize\", \"resize\", \"resize\", \"resolution\", \"resolve\", \"resolve\", \"resolve\", \"resolver\", \"resource\", \"resource\", \"resource\", \"resource\", \"resource\", \"resource\", \"resp\", \"respect\", \"respectively\", \"response\", \"rest\", \"rest\", \"rest\", \"restart\", \"restaurant\", \"restore\", \"result\", \"result\", \"result\", \"result\", \"resultset\", \"resume\", \"ret\", \"retain\", \"retrieve\", \"return\", \"return\", \"return\", \"return\", \"return\", \"return\", \"return\", \"return\", \"return\", \"return\", \"return\", \"return\", \"return\", \"return\", \"return\", \"reuse\", \"rev\", \"reverse\", \"reverse\", \"review\", \"reward\", \"rewriteengine\", \"rewriterule\", \"rgb\", \"rgba\", \"rid\", \"right\", \"right\", \"right\", \"right\", \"right\", \"right\", \"right\", \"right\", \"rm\", \"rng\", \"rnorm\", \"ro\", \"roam\", \"robot\", \"rock\", \"role\", \"roll\", \"room\", \"root\", \"root\", \"root\", \"root\", \"root\", \"root\", \"rotate\", \"rotation\", \"round\", \"rout\", \"route\", \"route\", \"router\", \"router\", \"routine\", \"row\", \"row\", \"row\", \"row\", \"row\", \"rr\", \"rsa\", \"rsoftware\", \"rsoftware\", \"rsoftware\", \"rsoftware\", \"rsoftware\", \"rsoftware\", \"rstrip\", \"rstudio\", \"rt\", \"ruby\", \"rule\", \"rule\", \"run\", \"run\", \"run\", \"run\", \"run\", \"runat\", \"runner\", \"runtime\", \"runtime\", \"runtimeexception\", \"runtimeinit\", \"runworker\", \"rust\", \"rx\", \"rxjs\", \"sa\", \"safari\", \"safe\", \"saga\", \"salary\", \"sale\", \"salt\", \"sample\", \"sample\", \"sample\", \"sample\", \"sample\", \"sample\", \"sample\", \"sample\", \"sample\", \"samsung\", \"sandbox\", \"sans\", \"sas\", \"satisfy\", \"save\", \"save\", \"save\", \"save\", \"save\", \"save\", \"save\", \"save\", \"save\", \"savedinstancestate\", \"saw\", \"say\", \"say\", \"say\", \"say\", \"sb\", \"sc\", \"sc\", \"scala\", \"scalar\", \"scale\", \"scale\", \"scan\", \"scanner\", \"scatter\", \"scenario\", \"scenario\", \"scene\", \"schedule\", \"scheduler\", \"schema\", \"scheme\", \"school\", \"scipy\", \"scope\", \"score\", \"scrap\", \"scrape\", \"scrapy\", \"screen\", \"screen\", \"screenshot\", \"script\", \"script\", \"script\", \"scroll\", \"scroll\", \"scrollbar\", \"scrollview\", \"sd\", \"sdk\", \"search\", \"search\", \"sec\", \"second\", \"second\", \"second\", \"second\", \"secondary\", \"secret\", \"section\", \"section\", \"section\", \"section\", \"sector\", \"secure\", \"security\", \"sed\", \"see\", \"see\", \"see\", \"see\", \"see\", \"see\", \"see\", \"see\", \"see\", \"see\", \"see\", \"see\", \"see\", \"see\", \"see\", \"see\", \"seed\", \"seek\", \"seem\", \"seem\", \"seem\", \"seem\", \"seem\", \"segment\", \"select\", \"select\", \"selectedindex\", \"selection\", \"selector\", \"selector\", \"selector\", \"selenium\", \"self\", \"self\", \"sell\", \"send\", \"send\", \"send\", \"sender\", \"sender\", \"sensor\", \"sentence\", \"sep\", \"separate\", \"separate\", \"separate\", \"separate\", \"separately\", \"separator\", \"seq\", \"sequelize\", \"sequence\", \"serial\", \"serializable\", \"serialize\", \"serializers\", \"series\", \"serve\", \"serve\", \"server\", \"server\", \"server\", \"server\", \"service\", \"service\", \"servlet\", \"session\", \"session\", \"set\", \"set\", \"set\", \"set\", \"set\", \"set\", \"set\", \"set\", \"set\", \"set\", \"set\", \"set\", \"set\", \"set\", \"set\", \"setattribute\", \"setdata\", \"setinterval\", \"setitem\", \"setlayout\", \"setname\", \"setonclicklistener\", \"setopt\", \"setproperty\", \"setstate\", \"setstate\", \"setstring\", \"setter\", \"setter\", \"settext\", \"settimeout\", \"setuptools\", \"setvalue\", \"several\", \"sex\", \"sf\", \"sh\", \"sha\", \"shade\", \"shape\", \"share\", \"share\", \"share\", \"sheet\", \"shell\", \"shift\", \"shiny\", \"ship\", \"shoot\", \"shop\", \"shortcut\", \"show\", \"show\", \"show\", \"show\", \"show\", \"show\", \"show\", \"show\", \"show\", \"show\", \"show\", \"show\", \"show\", \"show\", \"show\", \"show\", \"show\", \"show\", \"show\", \"show\", \"show\", \"show\", \"shuffle\", \"si\", \"sig\", \"sign\", \"signal\", \"signature\", \"signin\", \"signup\", \"similar\", \"similar\", \"simple\", \"simple\", \"simple\", \"simple\", \"simple\", \"simple\", \"simple\", \"simple\", \"simple\", \"simple\", \"simple\", \"simple\", \"simple\", \"simple\", \"simple\", \"simple\", \"simplicity\", \"simplify\", \"simply\", \"simulate\", \"simulator\", \"sin\", \"since\", \"since\", \"since\", \"single\", \"single\", \"single\", \"single\", \"single\", \"sit\", \"site\", \"site\", \"situation\", \"size\", \"size\", \"size\", \"size\", \"size\", \"sizeof\", \"skill\", \"skin\", \"skip\", \"skip\", \"sklearn\", \"sku\", \"sl\", \"sleep\", \"slf\", \"slice\", \"slide\", \"slider\", \"slider\", \"slim\", \"slot\", \"slow\", \"slug\", \"sm\", \"small\", \"small\", \"small\", \"small\", \"small\", \"small\", \"small\", \"small\", \"smith\", \"smooth\", \"smtp\", \"sn\", \"snap\", \"snapshot\", \"snippet\", \"snippet\", \"soap\", \"social\", \"socket\", \"software\", \"solid\", \"solution\", \"solution\", \"solution\", \"solution\", \"solution\", \"solution\", \"somebody\", \"somehow\", \"somewhere\", \"soon\", \"soon\", \"sort\", \"sort\", \"sort\", \"sortable\", \"sound\", \"soup\", \"source\", \"source\", \"source\", \"source\", \"source\", \"sp\", \"sp\", \"space\", \"space\", \"span\", \"spark\", \"sparkcontext\", \"spawn\", \"speak\", \"spec\", \"special\", \"specie\", \"specific\", \"specific\", \"specific\", \"specific\", \"specifically\", \"specify\", \"specify\", \"specify\", \"speech\", \"speed\", \"spend\", \"spi\", \"spider\", \"spinner\", \"splash\", \"splice\", \"split\", \"split\", \"split\", \"sport\", \"spotify\", \"spreadsheet\", \"spreadsheetapp\", \"spring\", \"springapplication\", \"springframework\", \"sql\", \"sql\", \"sqlalchemy\", \"sqlcommand\", \"sqlconnection\", \"sqlite\", \"sqlserver\", \"sqrt\", \"square\", \"sr\", \"src\", \"src\", \"src\", \"src\", \"ssd\", \"ssh\", \"ssl\", \"st\", \"stable\", \"stack\", \"stack\", \"stack\", \"stack\", \"stack\", \"stackblitz\", \"stackoverflow\", \"stackoverflow\", \"stackoverflow\", \"stacktrace\", \"staff\", \"stage\", \"stamp\", \"standalone\", \"standard\", \"star\", \"start\", \"start\", \"start\", \"start\", \"start\", \"start\", \"start\", \"start\", \"start\", \"start\", \"start\", \"start\", \"start\", \"startdate\", \"starter\", \"startswith\", \"startup\", \"stat\", \"state\", \"state\", \"statement\", \"statement\", \"statement\", \"statement\", \"static\", \"static\", \"static\", \"static\", \"static\", \"static\", \"staticresource\", \"station\", \"statistic\", \"stats\", \"status\", \"status\", \"status\", \"status\", \"statuscode\", \"stay\", \"std\", \"stdin\", \"stdio\", \"stdout\", \"stdout\", \"stdout\", \"step\", \"step\", \"step\", \"sthree\", \"still\", \"still\", \"still\", \"still\", \"still\", \"still\", \"still\", \"still\", \"still\", \"still\", \"stmt\", \"stock\", \"stop\", \"stop\", \"stop\", \"stop\", \"stop\", \"stop\", \"stop\", \"stop\", \"storage\", \"storage\", \"store\", \"store\", \"store\", \"story\", \"str\", \"str\", \"straight\", \"strange\", \"strategy\", \"stream\", \"street\", \"stretch\", \"string\", \"string\", \"stringbuilder\", \"stringify\", \"strip\", \"strip\", \"stripe\", \"stroke\", \"struct\", \"stub\", \"student\", \"studio\", \"studio\", \"study\", \"style\", \"style\", \"style\", \"stylesheet\", \"styleurls\", \"su\", \"sub\", \"subclass\", \"subject\", \"submission\", \"submit\", \"subprocess\", \"subscribe\", \"subscriber\", \"subscription\", \"subsequent\", \"subset\", \"substitute\", \"substr\", \"substring\", \"success\", \"success\", \"success\", \"success\", \"success\", \"success\", \"success\", \"success\", \"success\", \"success\", \"successful\", \"sudo\", \"suggestion\", \"suggestion\", \"suite\", \"sum\", \"summary\", \"sun\", \"sun\", \"super\", \"super\", \"super\", \"super\", \"supplier\", \"support\", \"support\", \"support\", \"support\", \"support\", \"support\", \"support\", \"support\", \"support\", \"suppose\", \"surname\", \"suspect\", \"svg\", \"sw\", \"swagger\", \"swap\", \"swift\", \"swiftui\", \"swipe\", \"switch\", \"switch\", \"switch\", \"switch\", \"symbol\", \"symfony\", \"sync\", \"synchronize\", \"synonym\", \"syntax\", \"syntaxerror\", \"sys\", \"sys\", \"system\", \"system\", \"ta\", \"tab\", \"table\", \"table\", \"tablename\", \"tablet\", \"tableview\", \"tag\", \"tag\", \"tail\", \"take\", \"take\", \"take\", \"take\", \"take\", \"take\", \"take\", \"take\", \"take\", \"take\", \"talk\", \"tap\", \"target\", \"target\", \"task\", \"tbl\", \"tbody\", \"td\", \"teacher\", \"team\", \"tel\", \"tell\", \"tell\", \"tell\", \"tell\", \"tell\", \"tell\", \"tell\", \"temp\", \"temperature\", \"template\", \"template\", \"template\", \"template\", \"templatetypename\", \"templateurl\", \"temporary\", \"tenant\", \"tensor\", \"tensorflow\", \"term\", \"terminal\", \"terminate\", \"test\", \"test\", \"test\", \"tester\", \"testng\", \"text\", \"text\", \"text\", \"textalign\", \"textarea\", \"textblock\", \"textbox\", \"textcolor\", \"textcontent\", \"textfield\", \"textfield\", \"textsize\", \"textstyle\", \"texture\", \"textview\", \"tf\", \"th\", \"thank\", \"thank\", \"thank\", \"thank\", \"thank\", \"thank\", \"thank\", \"thank\", \"thank\", \"thank\", \"thank\", \"thank\", \"thead\", \"theme\", \"theta\", \"thing\", \"thing\", \"think\", \"third\", \"though\", \"thread\", \"threadpoolexecutor\", \"three\", \"thresh\", \"threshold\", \"throw\", \"throw\", \"throw\", \"throw\", \"throw\", \"throw\", \"throw\", \"throw\", \"throw\", \"throw\", \"thumb\", \"thumbnail\", \"thus\", \"tick\", \"ticker\", \"ticket\", \"tile\", \"time\", \"timeline\", \"timeout\", \"timer\", \"timespan\", \"timestamp\", \"timestamps\", \"timezone\", \"tip\", \"title\", \"title\", \"title\", \"title\", \"title\", \"title\", \"tk\", \"tkinter\", \"tl\", \"tm\", \"tmp\", \"tmp\", \"tn\", \"toast\", \"tobottomof\", \"today\", \"toendof\", \"together\", \"together\", \"together\", \"toggle\", \"token\", \"tolowercase\", \"tomcat\", \"tool\", \"tool\", \"tool\", \"tool\", \"toolbar\", \"tooltip\", \"top\", \"top\", \"topic\", \"tostartof\", \"tostring\", \"tostring\", \"tostring\", \"total\", \"touch\", \"touchableopacity\", \"touppercase\", \"tr\", \"trace\", \"trace\", \"trace\", \"traceback\", \"track\", \"trade\", \"train\", \"trait\", \"trans\", \"transaction\", \"transfer\", \"transform\", \"transformation\", \"transformer\", \"transition\", \"transition\", \"translate\", \"translation\", \"transparent\", \"transport\", \"transpose\", \"traverse\", \"tree\", \"tree\", \"trial\", \"trick\", \"trigger\", \"trigger\", \"trim\", \"true\", \"true\", \"true\", \"true\", \"true\", \"true\", \"true\", \"true\", \"true\", \"true\", \"true\", \"true\", \"true\", \"true\", \"true\", \"tt\", \"tuple\", \"tuples\", \"tutorial\", \"tutorial\", \"tutorial\", \"tutorial\", \"tutorial\", \"tutorial\", \"tv\", \"tweet\", \"twice\", \"twitter\", \"two\", \"two\", \"two\", \"two\", \"two\", \"two\", \"two\", \"tx\", \"txt\", \"typ\", \"type\", \"type\", \"type\", \"type\", \"type\", \"typeerror\", \"typeerror\", \"typeerror\", \"typename\", \"typeof\", \"typescript\", \"typescript\", \"udp\", \"ui\", \"ui\", \"ui\", \"uiapplication\", \"uicollectionview\", \"uid\", \"uint\", \"uitableview\", \"uiview\", \"uiviewcontroller\", \"uk\", \"ul\", \"un\", \"unauthorized\", \"uncaught\", \"unchanged\", \"undefined\", \"understand\", \"understand\", \"understand\", \"understand\", \"understand\", \"understand\", \"understand\", \"understand\", \"understand\", \"understand\", \"understand\", \"understand\", \"understand\", \"understand\", \"understand\", \"understand\", \"understand\", \"understand\", \"unexpected\", \"unfortunately\", \"unfortunately\", \"unhandled\", \"unicode\", \"union\", \"unique\", \"unique\", \"unique\", \"unique\", \"unit\", \"unite\", \"unity\", \"unix\", \"unknown\", \"unknown\", \"unpack\", \"unset\", \"unsigned\", \"unsure\", \"unused\", \"unwrap\", \"update\", \"update\", \"update\", \"update\", \"update\", \"update\", \"update\", \"update\", \"upgrade\", \"upload\", \"upload\", \"uploader\", \"upper\", \"uri\", \"url\", \"url\", \"url\", \"url\", \"urn\", \"usd\", \"useeffect\", \"useful\", \"usenewurlparser\", \"user\", \"userdata\", \"userid\", \"username\", \"userprofile\", \"userservice\", \"usestate\", \"usr\", \"usr\", \"utc\", \"utf\", \"utf\", \"utf\", \"utf\", \"utf\", \"utf\", \"util\", \"util\", \"utils\", \"utils\", \"utils\", \"utils\", \"uuid\", \"uwp\", \"val\", \"valid\", \"valid\", \"validate\", \"validate\", \"validation\", \"validator\", \"validators\", \"value\", \"value\", \"valueeventlistener\", \"valueof\", \"vanilla\", \"var\", \"var\", \"varchar\", \"variable\", \"variant\", \"vary\", \"vb\", \"vba\", \"vc\", \"vec\", \"vector\", \"vehicle\", \"velocity\", \"vendor\", \"venv\", \"verify\", \"verify\", \"verify\", \"versa\", \"version\", \"version\", \"version\", \"vertex\", \"vertically\", \"via\", \"via\", \"via\", \"via\", \"via\", \"via\", \"via\", \"via\", \"vid\", \"video\", \"view\", \"view\", \"view\", \"viewcontroller\", \"viewdidload\", \"viewgroup\", \"viewholder\", \"viewmodel\", \"virtualenv\", \"visible\", \"visible\", \"visible\", \"visible\", \"visible\", \"vision\", \"visit\", \"visual\", \"visualstudio\", \"vm\", \"vnd\", \"voice\", \"void\", \"volume\", \"vote\", \"vr\", \"vscode\", \"vue\", \"vuetify\", \"vuex\", \"vw\", \"wait\", \"wait\", \"walk\", \"wall\", \"warn\", \"warn\", \"warn\", \"watch\", \"wav\", \"wave\", \"wb\", \"wc\", \"weak\", \"weather\", \"web\", \"web\", \"web\", \"webapp\", \"webdriver\", \"webkit\", \"webpack\", \"webpage\", \"webpage\", \"website\", \"website\", \"website\", \"websocket\", \"webview\", \"week\", \"weight\", \"welcome\", \"well\", \"well\", \"well\", \"well\", \"well\", \"well\", \"well\", \"well\", \"west\", \"wheel\", \"whether\", \"white\", \"whose\", \"widget\", \"widget\", \"width\", \"width\", \"width\", \"wifi\", \"wiki\", \"win\", \"window\", \"window\", \"window\", \"wire\", \"within\", \"within\", \"within\", \"within\", \"within\", \"within\", \"within\", \"within\", \"within\", \"within\", \"within\", \"within\", \"wm\", \"wonder\", \"wont\", \"woocommerce\", \"word\", \"wordpress\", \"workbook\", \"worker\", \"worker\", \"worksheet\", \"workspace\", \"world\", \"wp\", \"wparam\", \"wpf\", \"wrap\", \"wrap\", \"wrap\", \"wrapper\", \"write\", \"write\", \"write\", \"write\", \"write\", \"write\", \"write\", \"writeline\", \"writeline\", \"writer\", \"wsdl\", \"www\", \"www\", \"xamarin\", \"xaml\", \"xampp\", \"xc\", \"xcode\", \"xe\", \"xff\", \"xhr\", \"xl\", \"xlsx\", \"xml\", \"xml\", \"xml\", \"xml\", \"xmlns\", \"xmlns\", \"xpath\", \"xsd\", \"xsd\", \"xsi\", \"xsixtyfour\", \"xx\", \"xxx\", \"xxxx\", \"xyz\", \"yaml\", \"yarn\", \"year\", \"yes\", \"yes\", \"yield\", \"youtube\", \"yy\", \"yyyy\", \"za\", \"zero\", \"zero\", \"zone\", \"zoom\", \"zygoteinit\"]}, \"R\": 30, \"lambda.step\": 0.01, \"plot.opts\": {\"xlab\": \"PC1\", \"ylab\": \"PC2\"}, \"topic.order\": [53, 74, 15, 36, 49, 17, 31, 24, 8, 4, 66, 58, 13, 60, 40, 10, 26, 50, 46, 70, 39, 1, 73, 32, 45, 67, 47, 64, 25, 34, 42, 63, 22, 33, 38, 44, 30, 12, 68, 16, 43, 20, 65, 56, 5, 75, 61, 6, 35, 23, 27, 19, 69, 9, 21, 2, 37, 71, 11, 7, 14, 59, 52, 62, 51, 72, 3, 29, 57, 54, 48, 18, 55, 28, 41]};\n",
       "\n",
       "function LDAvis_load_lib(url, callback){\n",
       "  var s = document.createElement('script');\n",
       "  s.src = url;\n",
       "  s.async = true;\n",
       "  s.onreadystatechange = s.onload = callback;\n",
       "  s.onerror = function(){console.warn(\"failed to load library \" + url);};\n",
       "  document.getElementsByTagName(\"head\")[0].appendChild(s);\n",
       "}\n",
       "\n",
       "if(typeof(LDAvis) !== \"undefined\"){\n",
       "   // already loaded: just create the visualization\n",
       "   !function(LDAvis){\n",
       "       new LDAvis(\"#\" + \"ldavis_el1860013560449959128189275860\", ldavis_el1860013560449959128189275860_data);\n",
       "   }(LDAvis);\n",
       "}else if(typeof define === \"function\" && define.amd){\n",
       "   // require.js is available: use it to load d3/LDAvis\n",
       "   require.config({paths: {d3: \"https://cdnjs.cloudflare.com/ajax/libs/d3/3.5.5/d3.min\"}});\n",
       "   require([\"d3\"], function(d3){\n",
       "      window.d3 = d3;\n",
       "      LDAvis_load_lib(\"https://cdn.rawgit.com/bmabey/pyLDAvis/files/ldavis.v1.0.0.js\", function(){\n",
       "        new LDAvis(\"#\" + \"ldavis_el1860013560449959128189275860\", ldavis_el1860013560449959128189275860_data);\n",
       "      });\n",
       "    });\n",
       "}else{\n",
       "    // require.js not available: dynamically load d3 & LDAvis\n",
       "    LDAvis_load_lib(\"https://cdnjs.cloudflare.com/ajax/libs/d3/3.5.5/d3.min.js\", function(){\n",
       "         LDAvis_load_lib(\"https://cdn.rawgit.com/bmabey/pyLDAvis/files/ldavis.v1.0.0.js\", function(){\n",
       "                 new LDAvis(\"#\" + \"ldavis_el1860013560449959128189275860\", ldavis_el1860013560449959128189275860_data);\n",
       "            })\n",
       "         });\n",
       "}\n",
       "</script>"
      ],
      "text/plain": [
       "PreparedData(topic_coordinates=                x           y  topics  cluster      Freq\n",
       "topic                                                   \n",
       "52     -25.432968  -73.516769       1        1  6.250867\n",
       "73      64.036369  -76.091515       2        1  2.779733\n",
       "14       7.089995  -43.835423       3        1  2.709011\n",
       "35     -53.050453  -10.377848       4        1  2.698445\n",
       "48     -50.723011   57.847679       5        1  2.626870\n",
       "...           ...         ...     ...      ...       ...\n",
       "47     -67.877846 -207.788589      71        1  0.463699\n",
       "17       0.412458   18.735754      72        1  0.429221\n",
       "54     219.660934   17.724913      73        1  0.416761\n",
       "27     -21.203535  233.842758      74        1  0.401532\n",
       "40      64.470139 -148.188278      75        1  0.350550\n",
       "\n",
       "[75 rows x 5 columns], topic_info=     Category          Freq       Term         Total  loglift  logprob\n",
       "2958  Default  42265.000000         id  42265.000000  30.0000  30.0000\n",
       "6676  Default  34043.000000      value  34043.000000  29.0000  29.0000\n",
       "2233  Default  38516.000000       file  38516.000000  28.0000  28.0000\n",
       "6629  Default  29867.000000       user  29867.000000  27.0000  27.0000\n",
       "1447  Default  43336.000000       data  43336.000000  26.0000  26.0000\n",
       "...       ...           ...        ...           ...      ...      ...\n",
       "1359  Topic75    187.956289       crop    188.941437   5.6482  -4.4939\n",
       "4513  Topic75    179.433992        pdb    180.419139   5.6479  -4.5403\n",
       "3043  Topic75    168.124380     income    169.109528   5.6476  -4.6054\n",
       "1678  Topic75    840.069253  direction   1039.567604   5.4403  -2.9966\n",
       "5397  Topic75    988.725697      scale   1306.321473   5.3749  -2.8337\n",
       "\n",
       "[3346 rows x 6 columns], token_table=      Topic      Freq        Term\n",
       "term                             \n",
       "0        30  0.997977          aa\n",
       "1        72  0.994791         aaa\n",
       "6        72  0.998528          ab\n",
       "8        66  0.998823         abc\n",
       "14        4  0.971071    absolute\n",
       "...     ...       ...         ...\n",
       "7047      3  0.264476        zero\n",
       "7047     60  0.734760        zero\n",
       "7054     28  0.998500        zone\n",
       "7057     75  0.998770        zoom\n",
       "7058     24  0.997978  zygoteinit\n",
       "\n",
       "[4849 rows x 3 columns], R=30, lambda_step=0.01, plot_opts={'xlab': 'PC1', 'ylab': 'PC2'}, topic_order=[53, 74, 15, 36, 49, 17, 31, 24, 8, 4, 66, 58, 13, 60, 40, 10, 26, 50, 46, 70, 39, 1, 73, 32, 45, 67, 47, 64, 25, 34, 42, 63, 22, 33, 38, 44, 30, 12, 68, 16, 43, 20, 65, 56, 5, 75, 61, 6, 35, 23, 27, 19, 69, 9, 21, 2, 37, 71, 11, 7, 14, 59, 52, 62, 51, 72, 3, 29, 57, 54, 48, 18, 55, 28, 41])"
      ]
     },
     "execution_count": 48,
     "metadata": {},
     "output_type": "execute_result"
    }
   ],
   "source": [
    "pyLDAvis.enable_notebook()\n",
    "panel = pyLDAvis.sklearn.prepare(lda, text_words, cv, mds='tsne')\n",
    "panel"
   ]
  },
  {
   "cell_type": "code",
   "execution_count": 49,
   "metadata": {
    "ExecuteTime": {
     "end_time": "2019-09-26T07:20:38.840359Z",
     "start_time": "2019-09-26T07:20:38.793482Z"
    },
    "scrolled": true
   },
   "outputs": [
    {
     "data": {
      "text/html": [
       "<div>\n",
       "<style scoped>\n",
       "    .dataframe tbody tr th:only-of-type {\n",
       "        vertical-align: middle;\n",
       "    }\n",
       "\n",
       "    .dataframe tbody tr th {\n",
       "        vertical-align: top;\n",
       "    }\n",
       "\n",
       "    .dataframe thead th {\n",
       "        text-align: right;\n",
       "    }\n",
       "</style>\n",
       "<table border=\"1\" class=\"dataframe\">\n",
       "  <thead>\n",
       "    <tr style=\"text-align: right;\">\n",
       "      <th></th>\n",
       "      <th>T0</th>\n",
       "      <th>T1</th>\n",
       "      <th>T2</th>\n",
       "      <th>T3</th>\n",
       "      <th>T4</th>\n",
       "      <th>T5</th>\n",
       "      <th>T6</th>\n",
       "      <th>T7</th>\n",
       "      <th>T8</th>\n",
       "      <th>T9</th>\n",
       "      <th>T10</th>\n",
       "      <th>T11</th>\n",
       "      <th>T12</th>\n",
       "      <th>T13</th>\n",
       "      <th>T14</th>\n",
       "    </tr>\n",
       "  </thead>\n",
       "  <tbody>\n",
       "    <tr>\n",
       "      <td>S31</td>\n",
       "      <td>java</td>\n",
       "      <td>exception</td>\n",
       "      <td>lang</td>\n",
       "      <td>util</td>\n",
       "      <td>println</td>\n",
       "      <td>method</td>\n",
       "      <td>system</td>\n",
       "      <td>invoke</td>\n",
       "      <td>main</td>\n",
       "      <td>io</td>\n",
       "      <td>throw</td>\n",
       "      <td>reflect</td>\n",
       "      <td>catch</td>\n",
       "      <td>internal</td>\n",
       "      <td>unknown</td>\n",
       "    </tr>\n",
       "  </tbody>\n",
       "</table>\n",
       "</div>"
      ],
      "text/plain": [
       "       T0         T1    T2    T3       T4      T5      T6      T7    T8  T9  \\\n",
       "S31  java  exception  lang  util  println  method  system  invoke  main  io   \n",
       "\n",
       "       T10      T11    T12       T13      T14  \n",
       "S31  throw  reflect  catch  internal  unknown  "
      ]
     },
     "execution_count": 49,
     "metadata": {},
     "output_type": "execute_result"
    }
   ],
   "source": [
    "# Les indices des sujets sont différents\n",
    "# Par exemple le sujet no 21 de pyLDAvis est en position 28 de la matrice\n",
    "df_keywords[df_keywords['T0'] == 'java']"
   ]
  },
  {
   "cell_type": "markdown",
   "metadata": {},
   "source": [
    "## Analyse non supervisée : LSA"
   ]
  },
  {
   "cell_type": "code",
   "execution_count": 55,
   "metadata": {
    "ExecuteTime": {
     "end_time": "2019-09-26T08:33:01.896993Z",
     "start_time": "2019-09-26T08:32:56.909901Z"
    }
   },
   "outputs": [
    {
     "name": "stdout",
     "output_type": "stream",
     "text": [
      "Taille de la matrice Tfidf : (42191, 7060)\n"
     ]
    }
   ],
   "source": [
    "fv = TfidfVectorizer(analyzer='word', min_df=20, max_df=0.3)\n",
    "text_tfidf = fv.fit_transform(df['Text'])\n",
    "print(f\"Taille de la matrice Tfidf : {text_tfidf.shape}\")"
   ]
  },
  {
   "cell_type": "markdown",
   "metadata": {},
   "source": [
    "### TruncatedSVD"
   ]
  },
  {
   "cell_type": "code",
   "execution_count": 51,
   "metadata": {
    "ExecuteTime": {
     "end_time": "2019-09-26T07:21:33.566876Z",
     "start_time": "2019-09-26T07:20:43.926396Z"
    }
   },
   "outputs": [
    {
     "data": {
      "text/plain": [
       "75"
      ]
     },
     "execution_count": 51,
     "metadata": {},
     "output_type": "execute_result"
    }
   ],
   "source": [
    "svd_model = sk.decomposition.TruncatedSVD(n_components=75, \n",
    "                                          algorithm='randomized', \n",
    "                                          n_iter=100, \n",
    "                                          random_state=SEED)\n",
    "svd_model.fit(text_tfidf)\n",
    "len(svd_model.components_)"
   ]
  },
  {
   "cell_type": "code",
   "execution_count": 52,
   "metadata": {
    "ExecuteTime": {
     "end_time": "2019-09-26T07:21:33.647346Z",
     "start_time": "2019-09-26T07:21:33.568958Z"
    }
   },
   "outputs": [
    {
     "data": {
      "text/html": [
       "<div>\n",
       "<style scoped>\n",
       "    .dataframe tbody tr th:only-of-type {\n",
       "        vertical-align: middle;\n",
       "    }\n",
       "\n",
       "    .dataframe tbody tr th {\n",
       "        vertical-align: top;\n",
       "    }\n",
       "\n",
       "    .dataframe thead th {\n",
       "        text-align: right;\n",
       "    }\n",
       "</style>\n",
       "<table border=\"1\" class=\"dataframe\">\n",
       "  <thead>\n",
       "    <tr style=\"text-align: right;\">\n",
       "      <th></th>\n",
       "      <th>Terme 1</th>\n",
       "      <th>Terme 2</th>\n",
       "      <th>Terme 3</th>\n",
       "      <th>Terme 4</th>\n",
       "      <th>Terme 5</th>\n",
       "      <th>Terme 6</th>\n",
       "      <th>Terme 7</th>\n",
       "      <th>Terme 8</th>\n",
       "      <th>Terme 9</th>\n",
       "      <th>Terme 10</th>\n",
       "    </tr>\n",
       "  </thead>\n",
       "  <tbody>\n",
       "    <tr>\n",
       "      <td>Sujet 1</td>\n",
       "      <td>data</td>\n",
       "      <td>file</td>\n",
       "      <td>id</td>\n",
       "      <td>value</td>\n",
       "      <td>class</td>\n",
       "      <td>user</td>\n",
       "      <td>div</td>\n",
       "      <td>function</td>\n",
       "      <td>string</td>\n",
       "      <td>return</td>\n",
       "    </tr>\n",
       "    <tr>\n",
       "      <td>Sujet 2</td>\n",
       "      <td>div</td>\n",
       "      <td>class</td>\n",
       "      <td>px</td>\n",
       "      <td>button</td>\n",
       "      <td>id</td>\n",
       "      <td>form</td>\n",
       "      <td>text</td>\n",
       "      <td>style</td>\n",
       "      <td>td</td>\n",
       "      <td>col</td>\n",
       "    </tr>\n",
       "    <tr>\n",
       "      <td>Sujet 3</td>\n",
       "      <td>column</td>\n",
       "      <td>value</td>\n",
       "      <td>table</td>\n",
       "      <td>date</td>\n",
       "      <td>row</td>\n",
       "      <td>df</td>\n",
       "      <td>data</td>\n",
       "      <td>id</td>\n",
       "      <td>array</td>\n",
       "      <td>query</td>\n",
       "    </tr>\n",
       "    <tr>\n",
       "      <td>Sujet 4</td>\n",
       "      <td>android</td>\n",
       "      <td>id</td>\n",
       "      <td>public</td>\n",
       "      <td>layout</td>\n",
       "      <td>java</td>\n",
       "      <td>string</td>\n",
       "      <td>app</td>\n",
       "      <td>view</td>\n",
       "      <td>int</td>\n",
       "      <td>void</td>\n",
       "    </tr>\n",
       "    <tr>\n",
       "      <td>Sujet 5</td>\n",
       "      <td>android</td>\n",
       "      <td>file</td>\n",
       "      <td>column</td>\n",
       "      <td>df</td>\n",
       "      <td>image</td>\n",
       "      <td>layout</td>\n",
       "      <td>row</td>\n",
       "      <td>width</td>\n",
       "      <td>date</td>\n",
       "      <td>dataframe</td>\n",
       "    </tr>\n",
       "    <tr>\n",
       "      <td>...</td>\n",
       "      <td>...</td>\n",
       "      <td>...</td>\n",
       "      <td>...</td>\n",
       "      <td>...</td>\n",
       "      <td>...</td>\n",
       "      <td>...</td>\n",
       "      <td>...</td>\n",
       "      <td>...</td>\n",
       "      <td>...</td>\n",
       "      <td>...</td>\n",
       "    </tr>\n",
       "    <tr>\n",
       "      <td>Sujet 71</td>\n",
       "      <td>map</td>\n",
       "      <td>spring</td>\n",
       "      <td>print</td>\n",
       "      <td>line</td>\n",
       "      <td>boot</td>\n",
       "      <td>post</td>\n",
       "      <td>true</td>\n",
       "      <td>false</td>\n",
       "      <td>node</td>\n",
       "      <td>field</td>\n",
       "    </tr>\n",
       "    <tr>\n",
       "      <td>Sujet 72</td>\n",
       "      <td>line</td>\n",
       "      <td>path</td>\n",
       "      <td>message</td>\n",
       "      <td>url</td>\n",
       "      <td>map</td>\n",
       "      <td>type</td>\n",
       "      <td>service</td>\n",
       "      <td>database</td>\n",
       "      <td>command</td>\n",
       "      <td>function</td>\n",
       "    </tr>\n",
       "    <tr>\n",
       "      <td>Sujet 73</td>\n",
       "      <td>state</td>\n",
       "      <td>null</td>\n",
       "      <td>sql</td>\n",
       "      <td>set</td>\n",
       "      <td>request</td>\n",
       "      <td>message</td>\n",
       "      <td>map</td>\n",
       "      <td>path</td>\n",
       "      <td>variable</td>\n",
       "      <td>li</td>\n",
       "    </tr>\n",
       "    <tr>\n",
       "      <td>Sujet 74</td>\n",
       "      <td>event</td>\n",
       "      <td>print</td>\n",
       "      <td>path</td>\n",
       "      <td>state</td>\n",
       "      <td>token</td>\n",
       "      <td>firebase</td>\n",
       "      <td>index</td>\n",
       "      <td>google</td>\n",
       "      <td>class</td>\n",
       "      <td>node</td>\n",
       "    </tr>\n",
       "    <tr>\n",
       "      <td>Sujet 75</td>\n",
       "      <td>path</td>\n",
       "      <td>post</td>\n",
       "      <td>object</td>\n",
       "      <td>react</td>\n",
       "      <td>tag</td>\n",
       "      <td>time</td>\n",
       "      <td>server</td>\n",
       "      <td>folder</td>\n",
       "      <td>log</td>\n",
       "      <td>filter</td>\n",
       "    </tr>\n",
       "  </tbody>\n",
       "</table>\n",
       "<p>75 rows × 10 columns</p>\n",
       "</div>"
      ],
      "text/plain": [
       "          Terme 1 Terme 2  Terme 3 Terme 4  Terme 5   Terme 6  Terme 7  \\\n",
       "Sujet 1      data    file       id   value    class      user      div   \n",
       "Sujet 2       div   class       px  button       id      form     text   \n",
       "Sujet 3    column   value    table    date      row        df     data   \n",
       "Sujet 4   android      id   public  layout     java    string      app   \n",
       "Sujet 5   android    file   column      df    image    layout      row   \n",
       "...           ...     ...      ...     ...      ...       ...      ...   \n",
       "Sujet 71      map  spring    print    line     boot      post     true   \n",
       "Sujet 72     line    path  message     url      map      type  service   \n",
       "Sujet 73    state    null      sql     set  request   message      map   \n",
       "Sujet 74    event   print     path   state    token  firebase    index   \n",
       "Sujet 75     path    post   object   react      tag      time   server   \n",
       "\n",
       "           Terme 8   Terme 9   Terme 10  \n",
       "Sujet 1   function    string     return  \n",
       "Sujet 2      style        td        col  \n",
       "Sujet 3         id     array      query  \n",
       "Sujet 4       view       int       void  \n",
       "Sujet 5      width      date  dataframe  \n",
       "...            ...       ...        ...  \n",
       "Sujet 71     false      node      field  \n",
       "Sujet 72  database   command   function  \n",
       "Sujet 73      path  variable         li  \n",
       "Sujet 74    google     class       node  \n",
       "Sujet 75    folder       log     filter  \n",
       "\n",
       "[75 rows x 10 columns]"
      ]
     },
     "execution_count": 52,
     "metadata": {},
     "output_type": "execute_result"
    }
   ],
   "source": [
    "def show_topics(vectorizer, model, n_words=5):\n",
    "    keywords = np.array(vectorizer.get_feature_names())\n",
    "    topic_keywords = []\n",
    "    for topic_weights in model.components_:\n",
    "        top_keyword_locs = (-topic_weights).argsort()[:n_words]\n",
    "        topic_keywords.append(keywords.take(top_keyword_locs))\n",
    "    return topic_keywords\n",
    "\n",
    "topic_keywords = show_topics(fv, svd_model, n_words=10)        \n",
    "df_keywords = pd.DataFrame(topic_keywords)\n",
    "df_keywords.columns = [f'Terme {i+1}' for i in range(df_keywords.shape[1])]\n",
    "df_keywords.index = [f'Sujet {i+1}' for i in range(df_keywords.shape[0])]\n",
    "df_keywords"
   ]
  },
  {
   "cell_type": "markdown",
   "metadata": {
    "ExecuteTime": {
     "end_time": "2019-09-21T08:54:49.290824Z",
     "start_time": "2019-09-21T08:54:49.275200Z"
    }
   },
   "source": [
    "### Calcul direct (même résultats)"
   ]
  },
  {
   "cell_type": "code",
   "execution_count": 57,
   "metadata": {
    "ExecuteTime": {
     "end_time": "2019-09-26T08:38:45.593908Z",
     "start_time": "2019-09-26T08:33:32.111490Z"
    }
   },
   "outputs": [
    {
     "data": {
      "text/plain": [
       "((42191, 7060), (7060,), (7060, 7060))"
      ]
     },
     "execution_count": 57,
     "metadata": {},
     "output_type": "execute_result"
    }
   ],
   "source": [
    "# Pour comparaison\n",
    "U, S, Vh = np.linalg.svd(text_tfidf.toarray(), full_matrices=False)\n",
    "U.shape, S.shape, Vh.shape\n",
    "# M = U.S.Vh\n",
    "# M matrice réelle mxn : m documents, n termes, m > n\n",
    "# U, V matrices orthogonales (base orthonormée)\n",
    "# S matrice diagonale des valeurs singulières\n",
    "# Tailles des matrices en versions pleines : mxm mxn nxn\n",
    "# Tailles des matrices en versions réduites : mxn nxn nxn"
   ]
  },
  {
   "cell_type": "code",
   "execution_count": 58,
   "metadata": {
    "ExecuteTime": {
     "end_time": "2019-09-26T08:38:50.212671Z",
     "start_time": "2019-09-26T08:38:49.588645Z"
    },
    "scrolled": true
   },
   "outputs": [
    {
     "data": {
      "image/png": "[encoded data removed]",
      "text/plain": [
       "<Figure size 432x288 with 1 Axes>"
      ]
     },
     "metadata": {
      "needs_background": "light"
     },
     "output_type": "display_data"
    }
   ],
   "source": [
    "plt.plot(S);"
   ]
  },
  {
   "cell_type": "code",
   "execution_count": 59,
   "metadata": {
    "ExecuteTime": {
     "end_time": "2019-09-26T08:38:51.339710Z",
     "start_time": "2019-09-26T08:38:51.281430Z"
    }
   },
   "outputs": [
    {
     "data": {
      "text/plain": [
       "[['dodispatch', 'socketprocessor', 'dorun', 'doinvoke', 'artifactidjunit'],\n",
       " ['file', 'android', 'java', 'app', 'python'],\n",
       " ['column', 'value', 'table', 'date', 'row'],\n",
       " ['file', 'python', 'div', 'image', 'py'],\n",
       " ['android', 'file', 'column', 'df', 'image'],\n",
       " ['string', 'public', 'class', 'int', 'array'],\n",
       " ['react', 'function', 'const', 'array', 'component'],\n",
       " ['file', 'string', 'java', 'div', 'date'],\n",
       " ['file', 'id', 'array', 'image', 'android'],\n",
       " ['date', 'android', 'form', 'input', 'format'],\n",
       " ['file', 'react', 'android', 'value', 'form'],\n",
       " ['date', 'react', 'image', 'component', 'id'],\n",
       " ['data', 'df', 'model', 'file', 'image'],\n",
       " ['public', 'cell', 'row', 'user', 'string'],\n",
       " ['self', 'table', 'td', 'var', 'function'],\n",
       " ['form', 'value', 'model', 'input', 'image'],\n",
       " ['list', 'item', 'self', 'id', 'value'],\n",
       " ['java', 'self', 'user', 'image', 'org'],\n",
       " ['value', 'self', 'div', 'id', 'string'],\n",
       " ['array', 'table', 'string', 'row', 'request']]"
      ]
     },
     "execution_count": 59,
     "metadata": {},
     "output_type": "execute_result"
    }
   ],
   "source": [
    "def show_topics(vectorizer, matrix, n_words=5):\n",
    "    keywords = np.array(vectorizer.get_feature_names())    \n",
    "    topic_keywords = []\n",
    "    for topic_weights in matrix:\n",
    "        top_keyword_locs = (-topic_weights).argsort()[:n_words]\n",
    "        topic_keywords.append(keywords.take(top_keyword_locs).tolist())\n",
    "    return topic_keywords\n",
    "\n",
    "show_topics(fv, Vh[:20, :])"
   ]
  },
  {
   "cell_type": "markdown",
   "metadata": {
    "ExecuteTime": {
     "end_time": "2019-09-21T09:18:06.995782Z",
     "start_time": "2019-09-21T09:18:06.964524Z"
    }
   },
   "source": [
    "### Factorisation matricielle non-négative (NMF)"
   ]
  },
  {
   "cell_type": "code",
   "execution_count": 60,
   "metadata": {
    "ExecuteTime": {
     "end_time": "2019-09-26T08:38:52.405705Z",
     "start_time": "2019-09-26T08:38:52.385577Z"
    }
   },
   "outputs": [
    {
     "data": {
      "text/plain": [
       "NMF(alpha=0.0, beta_loss='frobenius', init=None, l1_ratio=0.0, max_iter=200,\n",
       "    n_components=75, random_state=None, shuffle=False, solver='mu', tol=0.0001,\n",
       "    verbose=0)"
      ]
     },
     "execution_count": 60,
     "metadata": {},
     "output_type": "execute_result"
    }
   ],
   "source": [
    "nmf = sk.decomposition.NMF(n_components=75, solver=\"mu\")\n",
    "nmf"
   ]
  },
  {
   "cell_type": "code",
   "execution_count": 61,
   "metadata": {
    "ExecuteTime": {
     "end_time": "2019-09-26T08:39:20.538389Z",
     "start_time": "2019-09-26T08:38:53.395001Z"
    }
   },
   "outputs": [
    {
     "data": {
      "text/plain": [
       "((42191, 75), (75, 7060))"
      ]
     },
     "execution_count": 61,
     "metadata": {},
     "output_type": "execute_result"
    }
   ],
   "source": [
    "W = nmf.fit_transform(text_tfidf)\n",
    "H = nmf.components_\n",
    "W.shape, H.shape"
   ]
  },
  {
   "cell_type": "code",
   "execution_count": 62,
   "metadata": {
    "ExecuteTime": {
     "end_time": "2019-09-26T08:39:21.750220Z",
     "start_time": "2019-09-26T08:39:21.555863Z"
    }
   },
   "outputs": [
    {
     "name": "stdout",
     "output_type": "stream",
     "text": [
      "['application', 'window', 'find', 'create', 'set']\n",
      "['div', 'class', 'col', 'span', 'li']\n",
      "['table', 'column', 'insert', 'value', 'create']\n",
      "['android', 'layout', 'com', 'dp', 'parent']\n",
      "['folder', 'file', 'txt', 'open', 'excel']\n",
      "['public', 'class', 'void', 'new', 'private']\n",
      "['file', 'upload', 'download', 'filename', 'pdf']\n",
      "['self', 'def', 'init', 'class', 'print']\n",
      "['df', 'column', 'dataframe', 'panda', 'pd']\n",
      "['date', 'format', 'day', 'month', 'mm']\n",
      "['image', 'img', 'png', 'jpg', 'upload']\n",
      "['component', 'prop', 'react', 'render', 'const']\n",
      "['data', 'frame', 'response', 'request', 'console']\n",
      "['array', 'arr', 'np', 'value', 'numpy']\n",
      "['user', 'role', 'auth', 'login', 'profile']\n",
      "['value', 'form', 'field', 'type', 'submit']\n",
      "['url', 'http', 'request', 'com', 'header']\n",
      "['java', 'org', 'apache', 'jar', 'springframework']\n",
      "['list', 'append', 'add', 'sort', 'name']\n",
      "['id', 'null', 'join', 'type', 'group']\n",
      "['import', 'module', 'export', 'print', 'py']\n",
      "['page', 'html', 'link', 'load', 'click']\n",
      "['model', 'train', 'kera', 'django', 'charfield']\n",
      "['px', 'color', 'width', 'height', 'style']\n",
      "['cell', 'sheet', 'range', 'dim', 'end']\n",
      "['python', 'py', 'package', 'lib', 'site']\n",
      "['test', 'train', 'mock', 'unit', 'jest']\n",
      "['string', 'type', 'character', 'regex', 'convert']\n",
      "['label', 'angular', 'form', 'ng', 'mat']\n",
      "['item', 'li', 'menu', 'title', 'value']\n",
      "['node', 'module', 'npm', 'webpack', 'loader']\n",
      "['server', 'client', 'socket', 'port', 'connect']\n",
      "['td', 'tr', 'th', 'tbody', 'class']\n",
      "['php', 'echo', 'mysqli', 'mysql', 'session']\n",
      "['product', 'price', 'category', 'woocommerce', 'cart']\n",
      "['select', 'dropdown', 'group', 'order', 'join']\n",
      "['var', 'document', 'new', 'variable', 'javascript']\n",
      "['text', 'title', 'column', 'tag', 'html']\n",
      "['app', 'web', 'flask', 'device', 'express']\n",
      "['button', 'click', 'btn', 'function', 'onclick']\n",
      "['query', 'result', 'field', 'search', 'record']\n",
      "['react', 'native', 'expo', 'io', 'screen']\n",
      "['key', 'dictionary', 'dict', 'null', 'sthree']\n",
      "['log', 'console', 'logger', 'err', 'file']\n",
      "['object', 'property', 'type', 'obj', 'field']\n",
      "['input', 'output', 'tf', 'layer', 'kera']\n",
      "['email', 'message', 'send', 'mail', 'address']\n",
      "['option', 'chrome', 'dropdown', 'true', 'title']\n",
      "['json', 'response', 'parse', 'content', 'result']\n",
      "['number', 'count', 'group', 'num', 'sum']\n",
      "['script', 'html', 'src', 'jquery', 'javascript']\n",
      "['line', 'site', 'lib', 'py', 'split']\n",
      "['child', 'widget', 'parent', 'flutter', 'color']\n",
      "['element', 'driver', 'selenium', 'click', 'xpath']\n",
      "['post', 'type', 'request', 'comment', 'content']\n",
      "['row', 'col', 'value', 'grid', 'first']\n",
      "['view', 'style', 'override', 'controller', 'let']\n",
      "['time', 'video', 'thread', 'start', 'hour']\n",
      "['event', 'click', 'window', 'calendar', 'listener']\n",
      "['sql', 'database', 'db', 'connection', 'server']\n",
      "['function', 'return', 'call', 'true', 'false']\n",
      "['int', 'std', 'include', 'cout', 'char']\n",
      "['project', 'git', 'dependency', 'build', 'maven']\n",
      "['plot', 'plt', 'chart', 'ax', 'bar']\n",
      "['const', 're', 'req', 'await', 'require']\n",
      "['service', 'google', 'request', 'cloud', 'web']\n",
      "['docker', 'container', 'compose', 'build', 'command']\n",
      "['map', 'google', 'marker', 'location', 'lat']\n",
      "['password', 'username', 'login', 'email', 'mysql']\n",
      "['word', 'print', 'str', 'character', 'match']\n",
      "['index', 'elasticsearch', 'route', 'search', 'loop']\n",
      "['state', 'action', 'setstate', 'prop', 'update']\n",
      "['api', 'token', 'response', 'client', 'access']\n",
      "['csv', 'read', 'header', 'writer', 'column']\n",
      "['path', 'route', 'directory', 'dir', 'home']\n"
     ]
    }
   ],
   "source": [
    "# Affichage des sujets\n",
    "n_words = 5\n",
    "keywords = np.array(fv.get_feature_names()) \n",
    "for topic_weights in H:\n",
    "    print(keywords.take((-topic_weights).argsort()[:n_words]).tolist())"
   ]
  },
  {
   "cell_type": "markdown",
   "metadata": {},
   "source": [
    "## Comparaison des résultats\n",
    "Pour l'instant LDA vs labels originaux seulement."
   ]
  },
  {
   "cell_type": "markdown",
   "metadata": {
    "ExecuteTime": {
     "end_time": "2019-09-26T15:19:00.251259Z",
     "start_time": "2019-09-26T15:19:00.213493Z"
    }
   },
   "source": [
    "### Score de correspondance"
   ]
  },
  {
   "cell_type": "code",
   "execution_count": 197,
   "metadata": {
    "ExecuteTime": {
     "end_time": "2019-09-27T09:08:15.408037Z",
     "start_time": "2019-09-27T09:08:15.292159Z"
    }
   },
   "outputs": [
    {
     "data": {
      "text/plain": [
       "'powershell unit-testing dotnet google-app web arrays apache django csv ajax pdf intellij logging visual-studio sorting dart csharp string jquery python'"
      ]
     },
     "execution_count": 197,
     "metadata": {},
     "output_type": "execute_result"
    }
   ],
   "source": [
    "all_tags = list(functools.reduce(set.union, df['Tags']))\n",
    "\" \".join(map(transform_label_name, all_tags[:20]))"
   ]
  },
  {
   "cell_type": "code",
   "execution_count": 204,
   "metadata": {
    "ExecuteTime": {
     "end_time": "2019-09-27T09:17:37.645477Z",
     "start_time": "2019-09-27T09:17:37.614216Z"
    }
   },
   "outputs": [],
   "source": [
    "replace_list = [('vt100', 'vthundred'),\n",
    "                ('c#', 'csharp'),\n",
    "                ('c', 'clanguage'),\n",
    "                ('c++11', 'cppeleven'),\n",
    "                ('c++', 'cpp'),\n",
    "                ('g++', 'gpp'),\n",
    "                ('s3', 'sthree'),\n",
    "                ('x64', 'xsixtyfour'),\n",
    "                ('i386', 'ithreeeightsix'),\n",
    "                ('r', 'rsoftware'),\n",
    "                ('.net', 'dotnet'),\n",
    "                ('google-chrome', 'chrome'),\n",
    "                ('node.js', 'node'),\n",
    "                ('ionic-framework', 'ionic')]\n",
    "            \n",
    "def transform_label_name(l):\n",
    "    for w1, w2 in replace_list: # À améliorer\n",
    "        if l == w1:\n",
    "            l = w2\n",
    "    return l"
   ]
  },
  {
   "cell_type": "code",
   "execution_count": 234,
   "metadata": {
    "ExecuteTime": {
     "end_time": "2019-09-27T10:12:14.169891Z",
     "start_time": "2019-09-27T10:11:52.515374Z"
    },
    "scrolled": true
   },
   "outputs": [
    {
     "name": "stdout",
     "output_type": "stream",
     "text": [
      "Note maximale (nombre de mots par sujet) : 7059\n",
      "Note moyenne : 3788\n",
      "Note moyenne normalisée : 0.54\n",
      "26 labels introuvables :\n",
      "sheets scraping for forms arrays rails windows jestjs loops if logging sorting maps on ecma pandas learning ionic4 vb.net ggplot2 tsql asp.net css keras ios testing\n"
     ]
    }
   ],
   "source": [
    "dominant_topics = np.argmax(lda_output, axis=1)\n",
    "keywords = np.array(cv.get_feature_names())\n",
    "n = len(keywords)\n",
    "scores = []\n",
    "not_found = set()\n",
    "scores_by_tag = dict()\n",
    "\n",
    "for row in range(lda_output.shape[0]): # Pour chaque document\n",
    "    first_topic = dominant_topics[row] # Sujet dominant\n",
    "    topic_keywords = keywords.take((lda.components_[first_topic]).argsort())\n",
    "    locs = []\n",
    "    # Itération sur les labels et sous-labels du document (séparés par '-')\n",
    "    doc_tags = df['Tags'].iloc[row]\n",
    "    for t in '-'.join(doc_tags).split('-'):\n",
    "        loc = np.where(topic_keywords == transform_label_name(t))\n",
    "        if len(loc[0]) > 0: # Label trouvé   \n",
    "            loc = loc[0][0] # Extrait la position\n",
    "            locs.append(loc)\n",
    "            if t in scores_by_tag:\n",
    "                scores_by_tag[t].append(loc / (n-1))\n",
    "            else:\n",
    "                scores_by_tag[t] = [loc / (n-1)]\n",
    "        else: # Label introuvable\n",
    "            locs.append(0)\n",
    "            not_found.add(t)\n",
    "    scores.append(sum(locs)/len(locs))\n",
    "    \n",
    "print(f\"Note maximale (nombre de mots par sujet) : {n-1}\")\n",
    "avg = sum(scores) / len(scores) \n",
    "print(f\"Note moyenne : {avg:.0f}\")\n",
    "print(f\"Note moyenne normalisée : {avg / (n-1):.2f}\")\n",
    "print(f\"{len(not_found)} labels introuvables :\")\n",
    "print(\" \".join(not_found))"
   ]
  },
  {
   "cell_type": "code",
   "execution_count": 263,
   "metadata": {
    "ExecuteTime": {
     "end_time": "2019-09-27T10:32:00.825223Z",
     "start_time": "2019-09-27T10:32:00.577798Z"
    },
    "scrolled": true
   },
   "outputs": [
    {
     "data": {
      "image/png": "[encoded data removed]",
      "text/plain": [
       "<Figure size 432x288 with 1 Axes>"
      ]
     },
     "metadata": {
      "needs_background": "light"
     },
     "output_type": "display_data"
    }
   ],
   "source": [
    "axes= sns.distplot(scores / max(scores), kde=False, bins=30);\n",
    "axes.set_title(\"Distribution des scores normalisé par document\");"
   ]
  },
  {
   "cell_type": "code",
   "execution_count": 246,
   "metadata": {
    "ExecuteTime": {
     "end_time": "2019-09-27T10:22:55.928527Z",
     "start_time": "2019-09-27T10:22:55.897293Z"
    }
   },
   "outputs": [],
   "source": [
    "def list_avg(l):\n",
    "    return sum(l) / len(l)\n",
    "\n",
    "score_by_tag = { t:list_avg(scores_by_tag[t]) for t in scores_by_tag }"
   ]
  },
  {
   "cell_type": "code",
   "execution_count": 262,
   "metadata": {
    "ExecuteTime": {
     "end_time": "2019-09-27T10:30:29.753218Z",
     "start_time": "2019-09-27T10:30:29.521389Z"
    }
   },
   "outputs": [
    {
     "data": {
      "image/png": "[encoded data removed]",
      "text/plain": [
       "<Figure size 432x288 with 1 Axes>"
      ]
     },
     "metadata": {
      "needs_background": "light"
     },
     "output_type": "display_data"
    }
   ],
   "source": [
    "axes= sns.distplot(list(score_by_tag.values()), kde=False, bins=30);\n",
    "axes.set_title(\"Distribution des scores normalisé par label\");"
   ]
  },
  {
   "cell_type": "code",
   "execution_count": 251,
   "metadata": {
    "ExecuteTime": {
     "end_time": "2019-09-27T10:25:28.991185Z",
     "start_time": "2019-09-27T10:25:28.821916Z"
    }
   },
   "outputs": [
    {
     "name": "stdout",
     "output_type": "stream",
     "text": [
      "postgresql (0.03) powershell (0.08) qt (0.10) php (0.13) rest (0.14) regex (0.15) machine (0.17) mongo (0.18) python (0.23) unit (0.28) node.js (0.30) linux (0.31) woocommerce (0.31) mysql (0.32) macos (0.33) pyspark (0.33) wordpress (0.35) xamarin (0.36) loop (0.37) multithreading (0.37) xcode (0.38) vue (0.38) unity (0.38) visual (0.41) numpy (0.41) typescript (0.41) web (0.42) shiny (0.42) object (0.43) scikit (0.43) ruby (0.43) pdf (0.43) scala (0.44) performance (0.44) server (0.45) list (0.45) react (0.46) tkinter (0.46) symfony (0.47) opencv (0.47) xml (0.47) studio (0.47) rust (0.48) sqlite (0.50) npm (0.50) oracle (0.51) matplotlib (0.52) string (0.53) vba (0.53) nginx (0.54) maven (0.55) r (0.55) ssl (0.57) svg (0.57) cloud (0.59) c++ (0.59) wpf (0.59) spring (0.60) ubuntu (0.60) shell (0.61) c# (0.61) chrome (0.62) webpack (0.62) apache (0.64) csv (0.64) deep (0.64) app (0.65) class (0.65) ansible (0.66) dictionary (0.66) angular (0.66) algorithm (0.67) amazon (0.67) android (0.67) c (0.68) swift (0.68) selenium (0.70) statement (0.71) asynchronous (0.72) sql (0.72) azure (0.73) datetime (0.73) beautifulsoup (0.74) ajax (0.74) django (0.75) database (0.75) aws (0.75) redux (0.75) .net (0.77) dart (0.77) api (0.78) date (0.79) bash (0.79) docker (0.79) laravel (0.79) google (0.80) github (0.80) graphql (0.81) gradle (0.82) authentication (0.82) java (0.82) kubernetes (0.83) tensorflow (0.83) hibernate (0.83) dataframe (0.83) kotlin (0.84) jquery (0.84) git (0.84) image (0.85) json (0.85) dplyr (0.85) ionic (0.86) html (0.87) jpa (0.87) bootstrap (0.88) intellij (0.88) http (0.89) go (0.89) express (0.90) jenkins (0.90) excel (0.91) facebook (0.91) elasticsearch (0.91) eloquent (0.92) entity (0.93) framework (0.94) function (0.95) file (0.96) flask (0.96) firebase (0.96) flutter (0.98) "
     ]
    }
   ],
   "source": [
    "for item in sorted(score_by_tag.items(), key=operator.itemgetter(1)):\n",
    "    print(f\"{item[0]} ({item[1]:.2f})\", end=' ')"
   ]
  },
  {
   "cell_type": "markdown",
   "metadata": {},
   "source": [
    "### Comparaison par fréquence"
   ]
  },
  {
   "cell_type": "code",
   "execution_count": 278,
   "metadata": {
    "ExecuteTime": {
     "end_time": "2019-09-27T10:54:14.376955Z",
     "start_time": "2019-09-27T10:54:14.339151Z"
    },
    "scrolled": true
   },
   "outputs": [
    {
     "data": {
      "text/html": [
       "<div>\n",
       "<style scoped>\n",
       "    .dataframe tbody tr th:only-of-type {\n",
       "        vertical-align: middle;\n",
       "    }\n",
       "\n",
       "    .dataframe tbody tr th {\n",
       "        vertical-align: top;\n",
       "    }\n",
       "\n",
       "    .dataframe thead th {\n",
       "        text-align: right;\n",
       "    }\n",
       "</style>\n",
       "<table border=\"1\" class=\"dataframe\">\n",
       "  <thead>\n",
       "    <tr style=\"text-align: right;\">\n",
       "      <th></th>\n",
       "      <th>Sujet</th>\n",
       "      <th>Nombre</th>\n",
       "      <th>Termes</th>\n",
       "    </tr>\n",
       "  </thead>\n",
       "  <tbody>\n",
       "    <tr>\n",
       "      <td>0</td>\n",
       "      <td>52</td>\n",
       "      <td>5989</td>\n",
       "      <td>one find make change follow</td>\n",
       "    </tr>\n",
       "    <tr>\n",
       "      <td>1</td>\n",
       "      <td>73</td>\n",
       "      <td>2001</td>\n",
       "      <td>request api url response http</td>\n",
       "    </tr>\n",
       "    <tr>\n",
       "      <td>2</td>\n",
       "      <td>59</td>\n",
       "      <td>1477</td>\n",
       "      <td>table query select null sql</td>\n",
       "    </tr>\n",
       "    <tr>\n",
       "      <td>3</td>\n",
       "      <td>45</td>\n",
       "      <td>1392</td>\n",
       "      <td>column row df data rsoftware</td>\n",
       "    </tr>\n",
       "    <tr>\n",
       "      <td>4</td>\n",
       "      <td>35</td>\n",
       "      <td>1388</td>\n",
       "      <td>px width style height content</td>\n",
       "    </tr>\n",
       "    <tr>\n",
       "      <td>5</td>\n",
       "      <td>48</td>\n",
       "      <td>1240</td>\n",
       "      <td>new void public int override</td>\n",
       "    </tr>\n",
       "    <tr>\n",
       "      <td>6</td>\n",
       "      <td>57</td>\n",
       "      <td>1195</td>\n",
       "      <td>file image path filename folder</td>\n",
       "    </tr>\n",
       "    <tr>\n",
       "      <td>7</td>\n",
       "      <td>16</td>\n",
       "      <td>1162</td>\n",
       "      <td>self python py line import</td>\n",
       "    </tr>\n",
       "    <tr>\n",
       "      <td>8</td>\n",
       "      <td>30</td>\n",
       "      <td>1156</td>\n",
       "      <td>build project package config lib</td>\n",
       "    </tr>\n",
       "    <tr>\n",
       "      <td>9</td>\n",
       "      <td>14</td>\n",
       "      <td>1150</td>\n",
       "      <td>data object true false end</td>\n",
       "    </tr>\n",
       "  </tbody>\n",
       "</table>\n",
       "</div>"
      ],
      "text/plain": [
       "   Sujet  Nombre                            Termes\n",
       "0     52    5989       one find make change follow\n",
       "1     73    2001     request api url response http\n",
       "2     59    1477       table query select null sql\n",
       "3     45    1392      column row df data rsoftware\n",
       "4     35    1388     px width style height content\n",
       "5     48    1240      new void public int override\n",
       "6     57    1195   file image path filename folder\n",
       "7     16    1162        self python py line import\n",
       "8     30    1156  build project package config lib\n",
       "9     14    1150        data object true false end"
      ]
     },
     "execution_count": 278,
     "metadata": {},
     "output_type": "execute_result"
    }
   ],
   "source": [
    "def get_topic_keywords(topic_index, n_keywords=5):\n",
    "    topic = lda.components_[topic_index]\n",
    "    keywords = [words[i] for i in (-topic).argsort()[:n_keywords]]\n",
    "    return \" \".join(keywords)\n",
    "\n",
    "df_topics = pd.Series(dominant_topics).value_counts().reset_index()\n",
    "df_topics.columns = ['Sujet', 'Nombre']\n",
    "df_topics['Termes'] = df_topics['Sujet'].apply(get_topic_keywords)\n",
    "df_topics.iloc[:10]"
   ]
  },
  {
   "cell_type": "code",
   "execution_count": 283,
   "metadata": {
    "ExecuteTime": {
     "end_time": "2019-09-27T11:02:10.859503Z",
     "start_time": "2019-09-27T11:01:35.227068Z"
    }
   },
   "outputs": [
    {
     "data": {
      "text/plain": [
       "[('java', 8156),\n",
       " ('python', 6977),\n",
       " ('c#', 2569),\n",
       " ('android', 2500),\n",
       " ('react', 2165),\n",
       " ('php', 2065),\n",
       " ('html', 2056),\n",
       " ('angular', 1534),\n",
       " ('r', 1376),\n",
       " ('css', 1340)]"
      ]
     },
     "execution_count": 283,
     "metadata": {},
     "output_type": "execute_result"
    }
   ],
   "source": [
    "def add_sets_as_lists(s1, s2):\n",
    "    return list(s1) + list(s2)\n",
    "all_tags = functools.reduce(add_sets_as_lists, df['Tags'])\n",
    "collections.Counter(all_tags).most_common(10)"
   ]
  },
  {
   "cell_type": "markdown",
   "metadata": {},
   "source": [
    "## Analyse par plongement lexical [pas une priorité]"
   ]
  },
  {
   "cell_type": "code",
   "execution_count": null,
   "metadata": {
    "ExecuteTime": {
     "end_time": "2019-09-26T07:21:34.205706Z",
     "start_time": "2019-09-25T22:54:24.887Z"
    }
   },
   "outputs": [],
   "source": [
    "model = spacy.load(\"en_core_web_md\")"
   ]
  },
  {
   "cell_type": "code",
   "execution_count": null,
   "metadata": {
    "ExecuteTime": {
     "end_time": "2019-09-26T07:21:34.205706Z",
     "start_time": "2019-09-25T22:54:24.891Z"
    }
   },
   "outputs": [],
   "source": [
    "def vector_norm(v):\n",
    "    return math.sqrt(np.dot(v, v))\n",
    "\n",
    "def cosine_similarity(v1, v2):\n",
    "    return np.dot(v1, v2) / vector_norm(v1) / vector_norm(v2)\n",
    "\n",
    "def similarity(t1, t2):\n",
    "    return round(cosine_similarity(t1.vector, t2.vector), 3)"
   ]
  },
  {
   "cell_type": "code",
   "execution_count": null,
   "metadata": {
    "ExecuteTime": {
     "end_time": "2019-09-26T07:21:34.205706Z",
     "start_time": "2019-09-25T22:54:24.895Z"
    }
   },
   "outputs": [],
   "source": [
    "tokens = model(\"boy son girl daughter\")\n",
    "  \n",
    "for token in tokens:     \n",
    "    print(token.text, token.has_vector, token.vector_norm) "
   ]
  },
  {
   "cell_type": "code",
   "execution_count": null,
   "metadata": {
    "ExecuteTime": {
     "end_time": "2019-09-26T07:21:34.205706Z",
     "start_time": "2019-09-25T22:54:24.900Z"
    }
   },
   "outputs": [],
   "source": [
    "t1, t2, t3, t4 = (tokens[i] for i in range(len(tokens)))\n",
    "print(\"Similarité entre t1 et t2 :\", tokens[0].similarity(tokens[1]))\n",
    "v12 = t2.vector - t1.vector\n",
    "v34 = t4.vector - t3.vector\n",
    "print(\"Similarité entre t2-t1 et t4-t3 :\", cosine_similarity(v12, v34))\n",
    "v12 = t2.vector + t1.vector\n",
    "v34 = t4.vector + t3.vector\n",
    "print(\"Similarité entre t1+t2 et t3+t4 :\", cosine_similarity(v12, v34))"
   ]
  },
  {
   "cell_type": "code",
   "execution_count": null,
   "metadata": {
    "ExecuteTime": {
     "end_time": "2019-09-26T07:21:34.221295Z",
     "start_time": "2019-09-25T22:54:24.905Z"
    }
   },
   "outputs": [],
   "source": [
    "def sort_by_similarity(base_vector):\n",
    "    words = model.vocab\n",
    "    distances = [(cosine_similarity(base_vector, w.vector), w) for w in words]\n",
    "    return sorted(distances, key=lambda t: t[0], reverse=True)"
   ]
  },
  {
   "cell_type": "code",
   "execution_count": null,
   "metadata": {
    "ExecuteTime": {
     "end_time": "2019-09-26T07:21:34.221295Z",
     "start_time": "2019-09-25T22:54:24.911Z"
    }
   },
   "outputs": [],
   "source": [
    "v = t1.vector - t2.vector + t4.vector # boy - son + daughter\n",
    "words = list({w for w in model.vocab if w.has_vector and w.orth_.islower()})\n",
    "print(f\"Nombre de mots : {len(words)}\")\n",
    "words.sort(key=lambda w: cosine_similarity(w.vector, v)) \n",
    "words.reverse()\n",
    "print(\"Mot le plus semblable :\", words[0].orth_)"
   ]
  },
  {
   "cell_type": "markdown",
   "metadata": {},
   "source": [
    "On a donc : boy - son = girl - daughter"
   ]
  },
  {
   "cell_type": "code",
   "execution_count": null,
   "metadata": {
    "ExecuteTime": {
     "end_time": "2019-09-26T07:21:34.221295Z",
     "start_time": "2019-09-25T22:54:24.916Z"
    }
   },
   "outputs": [],
   "source": [
    "v = -t1.vector + t2.vector + t3.vector # -boy + son + girl\n",
    "words = list({w for w in model.vocab if w.has_vector and w.orth_.islower()})\n",
    "print(f\"Nombre de mots : {len(words)}\")\n",
    "words.sort(key=lambda w: cosine_similarity(w.vector, v)) \n",
    "words.reverse()\n",
    "print(\"Mot le plus semblable :\", words[0].orth_)\n",
    "print(\"2e mot le plus semblable :\", words[1].orth_)"
   ]
  },
  {
   "cell_type": "code",
   "execution_count": null,
   "metadata": {
    "ExecuteTime": {
     "end_time": "2019-09-26T07:21:34.221295Z",
     "start_time": "2019-09-25T22:54:24.925Z"
    }
   },
   "outputs": [],
   "source": [
    "tokens = model(\"boy brother girl sister\")\n",
    "  \n",
    "for token in tokens:     \n",
    "    print(token.text, token.has_vector, token.vector_norm) \n",
    "t1, t2, t3, t4 = (tokens[i] for i in range(len(tokens)))"
   ]
  },
  {
   "cell_type": "code",
   "execution_count": null,
   "metadata": {
    "ExecuteTime": {
     "end_time": "2019-09-26T07:21:34.221295Z",
     "start_time": "2019-09-25T22:54:24.931Z"
    }
   },
   "outputs": [],
   "source": [
    "v = t3.vector - (t1.vector + t2.vector) # girl - (boy - brother)\n",
    "v = t1.vector - t2.vector + t4.vector # boy - brother + sister\n",
    "words = list({w for w in model.vocab if w.has_vector and w.orth_.islower()})\n",
    "print(f\"Nombre de mots : {len(words)}\")\n",
    "words.sort(key=lambda w: cosine_similarity(w.vector, v)) \n",
    "words.reverse()\n",
    "print(\"Mot le plus semblable :\", words[0].orth_)\n",
    "#print(\"2e mot le plus semblable :\", words[1].orth_)"
   ]
  }
 ],
 "metadata": {
  "kernelspec": {
   "display_name": "Python [conda env:.conda-tagging_env]",
   "language": "python",
   "name": "conda-env-.conda-tagging_env-py"
  },
  "language_info": {
   "codemirror_mode": {
    "name": "ipython",
    "version": 3
   },
   "file_extension": ".py",
   "mimetype": "text/x-python",
   "name": "python",
   "nbconvert_exporter": "python",
   "pygments_lexer": "ipython3",
   "version": "3.7.4"
  },
  "toc": {
   "base_numbering": 1,
   "nav_menu": {},
   "number_sections": true,
   "sideBar": false,
   "skip_h1_title": true,
   "title_cell": "Table of Contents",
   "title_sidebar": "Contents",
   "toc_cell": false,
   "toc_position": {
    "height": "898.7px",
    "left": "28px",
    "top": "111.483px",
    "width": "344.533px"
   },
   "toc_section_display": true,
   "toc_window_display": true
  },
  "varInspector": {
   "cols": {
    "lenName": 16,
    "lenType": 16,
    "lenVar": 40
   },
   "kernels_config": {
    "python": {
     "delete_cmd_postfix": "",
     "delete_cmd_prefix": "del ",
     "library": "var_list.py",
     "varRefreshCmd": "print(var_dic_list())"
    },
    "r": {
     "delete_cmd_postfix": ") ",
     "delete_cmd_prefix": "rm(",
     "library": "var_list.r",
     "varRefreshCmd": "cat(var_dic_list()) "
    }
   },
   "position": {
    "height": "748.85px",
    "left": "1547px",
    "right": "20px",
    "top": "120px",
    "width": "353px"
   },
   "types_to_exclude": [
    "module",
    "function",
    "builtin_function_or_method",
    "instance",
    "_Feature"
   ],
   "window_display": false
  }
 },
 "nbformat": 4,
 "nbformat_minor": 2
}
