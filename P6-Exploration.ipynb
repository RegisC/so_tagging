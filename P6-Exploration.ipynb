{
 "cells": [
  {
   "cell_type": "markdown",
   "metadata": {},
   "source": [
    "# Catégorisation automatique de questions"
   ]
  },
  {
   "cell_type": "markdown",
   "metadata": {},
   "source": [
    "## Initialisation"
   ]
  },
  {
   "cell_type": "code",
   "execution_count": 101,
   "metadata": {
    "ExecuteTime": {
     "end_time": "2019-09-11T17:27:49.613169Z",
     "start_time": "2019-09-11T17:27:48.096930Z"
    }
   },
   "outputs": [],
   "source": [
    "# Standard libraries\n",
    "import os\n",
    "import re\n",
    "import sys\n",
    "\n",
    "# External libraries\n",
    "import bs4\n",
    "import matplotlib \n",
    "import matplotlib.pyplot as plt\n",
    "import nltk\n",
    "import nltk.stem.porter\n",
    "import numpy as np\n",
    "import pandas as pd\n",
    "import pickle\n",
    "import seaborn as sns\n",
    "import spacy\n",
    "import sklearn as sk\n",
    "import sklearn.decomposition\n",
    "from sklearn.feature_extraction.text import CountVectorizer\n",
    "from sklearn.feature_extraction.text import TfidfVectorizer\n",
    "import sklearn.feature_selection\n",
    "import sklearn.model_selection\n",
    "import sklearn.naive_bayes\n",
    "import sklearn.svm\n",
    "import string\n",
    "\n",
    "FILENAME = \"P6 SO latest 50k.csv\"\n",
    "\n",
    "# Effacer les colonnes inutilisées pour libérer de la mémoire ?\n",
    "DEL_UNUSED_COLS = False\n",
    "\n",
    "SEED = 1911"
   ]
  },
  {
   "cell_type": "code",
   "execution_count": 2,
   "metadata": {
    "ExecuteTime": {
     "end_time": "2019-09-10T22:01:16.592523Z",
     "start_time": "2019-09-10T22:01:15.882935Z"
    }
   },
   "outputs": [
    {
     "name": "stdout",
     "output_type": "stream",
     "text": [
      "Taille des données : (50000, 6)\n"
     ]
    },
    {
     "data": {
      "text/html": [
       "<div>\n",
       "<style scoped>\n",
       "    .dataframe tbody tr th:only-of-type {\n",
       "        vertical-align: middle;\n",
       "    }\n",
       "\n",
       "    .dataframe tbody tr th {\n",
       "        vertical-align: top;\n",
       "    }\n",
       "\n",
       "    .dataframe thead th {\n",
       "        text-align: right;\n",
       "    }\n",
       "</style>\n",
       "<table border=\"1\" class=\"dataframe\">\n",
       "  <thead>\n",
       "    <tr style=\"text-align: right;\">\n",
       "      <th></th>\n",
       "      <th>Id</th>\n",
       "      <th>CreationDate</th>\n",
       "      <th>Score</th>\n",
       "      <th>Body</th>\n",
       "      <th>Title</th>\n",
       "      <th>Tags</th>\n",
       "    </tr>\n",
       "  </thead>\n",
       "  <tbody>\n",
       "    <tr>\n",
       "      <td>0</td>\n",
       "      <td>57560001</td>\n",
       "      <td>2019-08-19 15:43:13</td>\n",
       "      <td>0</td>\n",
       "      <td>&lt;p&gt;found the answer!&lt;/p&gt;\\n\\n&lt;pre&gt;&lt;code&gt;rdd = s...</td>\n",
       "      <td>NaN</td>\n",
       "      <td>NaN</td>\n",
       "    </tr>\n",
       "    <tr>\n",
       "      <td>1</td>\n",
       "      <td>57560002</td>\n",
       "      <td>2019-08-19 15:43:15</td>\n",
       "      <td>1</td>\n",
       "      <td>&lt;p&gt;I am trying to get the S3 Bucket size in aw...</td>\n",
       "      <td>Python Script to get the size of the S3 Bucket...</td>\n",
       "      <td>&lt;python&gt;&lt;amazon-web-services&gt;&lt;amazon-s3&gt;&lt;boto3...</td>\n",
       "    </tr>\n",
       "    <tr>\n",
       "      <td>2</td>\n",
       "      <td>57560003</td>\n",
       "      <td>2019-08-19 15:43:15</td>\n",
       "      <td>0</td>\n",
       "      <td>&lt;p&gt;I am trying to set up the virtual environme...</td>\n",
       "      <td>The command \".\\Scripts\\activate\" is not working</td>\n",
       "      <td>&lt;python&gt;</td>\n",
       "    </tr>\n",
       "    <tr>\n",
       "      <td>3</td>\n",
       "      <td>57560005</td>\n",
       "      <td>2019-08-19 15:43:20</td>\n",
       "      <td>0</td>\n",
       "      <td>&lt;p&gt;As we all know, we can automagicaly generat...</td>\n",
       "      <td>Is Java annotation processor capable of removi...</td>\n",
       "      <td>&lt;java&gt;&lt;annotations&gt;&lt;conditional-compilation&gt;</td>\n",
       "    </tr>\n",
       "    <tr>\n",
       "      <td>4</td>\n",
       "      <td>57560006</td>\n",
       "      <td>2019-08-19 15:43:25</td>\n",
       "      <td>0</td>\n",
       "      <td>&lt;p&gt;The GoDaddy package my friend got doesn't h...</td>\n",
       "      <td>Multer-sftp won't upload over port 21</td>\n",
       "      <td>&lt;node.js&gt;&lt;upload&gt;&lt;sftp&gt;&lt;multer&gt;</td>\n",
       "    </tr>\n",
       "    <tr>\n",
       "      <td>5</td>\n",
       "      <td>57560007</td>\n",
       "      <td>2019-08-19 15:43:26</td>\n",
       "      <td>0</td>\n",
       "      <td>&lt;p&gt;Maybe it works when you initialize the OnCl...</td>\n",
       "      <td>NaN</td>\n",
       "      <td>NaN</td>\n",
       "    </tr>\n",
       "    <tr>\n",
       "      <td>6</td>\n",
       "      <td>57560008</td>\n",
       "      <td>2019-08-19 15:43:28</td>\n",
       "      <td>0</td>\n",
       "      <td>&lt;p&gt;I was coding these past two weeks and it wa...</td>\n",
       "      <td>Android studio all xml layout broke and now co...</td>\n",
       "      <td>&lt;android&gt;&lt;android-layout&gt;</td>\n",
       "    </tr>\n",
       "    <tr>\n",
       "      <td>7</td>\n",
       "      <td>57560009</td>\n",
       "      <td>2019-08-19 15:43:32</td>\n",
       "      <td>1</td>\n",
       "      <td>&lt;p&gt;According to you document sample, &lt;code&gt;con...</td>\n",
       "      <td>NaN</td>\n",
       "      <td>NaN</td>\n",
       "    </tr>\n",
       "    <tr>\n",
       "      <td>8</td>\n",
       "      <td>57560010</td>\n",
       "      <td>2019-08-19 15:43:33</td>\n",
       "      <td>3</td>\n",
       "      <td>&lt;p&gt;Create a lookup table:&lt;/p&gt;\\n\\n&lt;p&gt;&lt;a href=\"h...</td>\n",
       "      <td>NaN</td>\n",
       "      <td>NaN</td>\n",
       "    </tr>\n",
       "    <tr>\n",
       "      <td>9</td>\n",
       "      <td>57560012</td>\n",
       "      <td>2019-08-19 15:43:36</td>\n",
       "      <td>-1</td>\n",
       "      <td>&lt;p&gt;I have a table I queried from SQL:&lt;/p&gt;\\n\\n&lt;...</td>\n",
       "      <td>Pandas - transform SQL style dataframe to columns</td>\n",
       "      <td>&lt;pandas&gt;</td>\n",
       "    </tr>\n",
       "  </tbody>\n",
       "</table>\n",
       "</div>"
      ],
      "text/plain": [
       "         Id         CreationDate  Score  \\\n",
       "0  57560001  2019-08-19 15:43:13      0   \n",
       "1  57560002  2019-08-19 15:43:15      1   \n",
       "2  57560003  2019-08-19 15:43:15      0   \n",
       "3  57560005  2019-08-19 15:43:20      0   \n",
       "4  57560006  2019-08-19 15:43:25      0   \n",
       "5  57560007  2019-08-19 15:43:26      0   \n",
       "6  57560008  2019-08-19 15:43:28      0   \n",
       "7  57560009  2019-08-19 15:43:32      1   \n",
       "8  57560010  2019-08-19 15:43:33      3   \n",
       "9  57560012  2019-08-19 15:43:36     -1   \n",
       "\n",
       "                                                Body  \\\n",
       "0  <p>found the answer!</p>\\n\\n<pre><code>rdd = s...   \n",
       "1  <p>I am trying to get the S3 Bucket size in aw...   \n",
       "2  <p>I am trying to set up the virtual environme...   \n",
       "3  <p>As we all know, we can automagicaly generat...   \n",
       "4  <p>The GoDaddy package my friend got doesn't h...   \n",
       "5  <p>Maybe it works when you initialize the OnCl...   \n",
       "6  <p>I was coding these past two weeks and it wa...   \n",
       "7  <p>According to you document sample, <code>con...   \n",
       "8  <p>Create a lookup table:</p>\\n\\n<p><a href=\"h...   \n",
       "9  <p>I have a table I queried from SQL:</p>\\n\\n<...   \n",
       "\n",
       "                                               Title  \\\n",
       "0                                                NaN   \n",
       "1  Python Script to get the size of the S3 Bucket...   \n",
       "2    The command \".\\Scripts\\activate\" is not working   \n",
       "3  Is Java annotation processor capable of removi...   \n",
       "4              Multer-sftp won't upload over port 21   \n",
       "5                                                NaN   \n",
       "6  Android studio all xml layout broke and now co...   \n",
       "7                                                NaN   \n",
       "8                                                NaN   \n",
       "9  Pandas - transform SQL style dataframe to columns   \n",
       "\n",
       "                                                Tags  \n",
       "0                                                NaN  \n",
       "1  <python><amazon-web-services><amazon-s3><boto3...  \n",
       "2                                           <python>  \n",
       "3       <java><annotations><conditional-compilation>  \n",
       "4                    <node.js><upload><sftp><multer>  \n",
       "5                                                NaN  \n",
       "6                          <android><android-layout>  \n",
       "7                                                NaN  \n",
       "8                                                NaN  \n",
       "9                                           <pandas>  "
      ]
     },
     "execution_count": 2,
     "metadata": {},
     "output_type": "execute_result"
    }
   ],
   "source": [
    "df = pd.read_csv(FILENAME)\n",
    "print(f\"Taille des données : {df.shape}\")\n",
    "df.head(10)"
   ]
  },
  {
   "cell_type": "code",
   "execution_count": 3,
   "metadata": {
    "ExecuteTime": {
     "end_time": "2019-09-10T22:01:16.624507Z",
     "start_time": "2019-09-10T22:01:16.595522Z"
    }
   },
   "outputs": [
    {
     "name": "stdout",
     "output_type": "stream",
     "text": [
      "Nombre de valeurs manquantes par colonne :\n"
     ]
    },
    {
     "data": {
      "text/plain": [
       "Id                  0\n",
       "CreationDate        0\n",
       "Score               0\n",
       "Body               30\n",
       "Title           25558\n",
       "Tags            25558\n",
       "dtype: int64"
      ]
     },
     "execution_count": 3,
     "metadata": {},
     "output_type": "execute_result"
    }
   ],
   "source": [
    "print(\"Nombre de valeurs manquantes par colonne :\")\n",
    "df.isna().sum(axis=0)"
   ]
  },
  {
   "cell_type": "code",
   "execution_count": 4,
   "metadata": {
    "ExecuteTime": {
     "end_time": "2019-09-10T22:01:16.733443Z",
     "start_time": "2019-09-10T22:01:16.627504Z"
    }
   },
   "outputs": [
    {
     "name": "stdout",
     "output_type": "stream",
     "text": [
      "Suppression de 25558 lignes.\n",
      "Nouvelle taille des données : (24442, 6)\n"
     ]
    }
   ],
   "source": [
    "mask = df['Tags'].isna()\n",
    "print(f\"Suppression de {sum(mask)} lignes.\")\n",
    "df = df[~mask]\n",
    "print(f\"Nouvelle taille des données : {df.shape}\")"
   ]
  },
  {
   "cell_type": "markdown",
   "metadata": {},
   "source": [
    "## Analyse initiale"
   ]
  },
  {
   "cell_type": "markdown",
   "metadata": {},
   "source": [
    "### Traitement des étiquettes"
   ]
  },
  {
   "cell_type": "code",
   "execution_count": 5,
   "metadata": {
    "ExecuteTime": {
     "end_time": "2019-09-10T22:01:16.829387Z",
     "start_time": "2019-09-10T22:01:16.736444Z"
    }
   },
   "outputs": [],
   "source": [
    "def tokenize_tags(t):\n",
    "    tags_list = re.findall('\\<(.*?)\\>', t)   \n",
    "    return tags_list"
   ]
  },
  {
   "cell_type": "code",
   "execution_count": 6,
   "metadata": {
    "ExecuteTime": {
     "end_time": "2019-09-10T22:01:17.105416Z",
     "start_time": "2019-09-10T22:01:16.830397Z"
    }
   },
   "outputs": [
    {
     "name": "stdout",
     "output_type": "stream",
     "text": [
      "Taille de la matrice de labels : (24442, 9414)\n"
     ]
    }
   ],
   "source": [
    "cv = CountVectorizer(analyzer='word', tokenizer=tokenize_tags)\n",
    "tags = cv.fit_transform(df['Tags'])\n",
    "print(f\"Taille de la matrice de labels : {tags.shape}\")"
   ]
  },
  {
   "cell_type": "code",
   "execution_count": 7,
   "metadata": {
    "ExecuteTime": {
     "end_time": "2019-09-10T22:01:17.129402Z",
     "start_time": "2019-09-10T22:01:17.107415Z"
    }
   },
   "outputs": [
    {
     "name": "stdout",
     "output_type": "stream",
     "text": [
      "Nombre d'étiquettes distinctes : 9414\n",
      "Nombre d'étiquettes attribuées : 69273\n"
     ]
    }
   ],
   "source": [
    "type(print(f\"Nombre d'étiquettes distinctes : {len(cv.get_feature_names())}\"))\n",
    "print(f\"Nombre d'étiquettes attribuées : {tags.sum()}\")"
   ]
  },
  {
   "cell_type": "code",
   "execution_count": 8,
   "metadata": {
    "ExecuteTime": {
     "end_time": "2019-09-10T22:01:17.419410Z",
     "start_time": "2019-09-10T22:01:17.131410Z"
    },
    "scrolled": false
   },
   "outputs": [
    {
     "name": "stdout",
     "output_type": "stream",
     "text": [
      "Labels les plus fréquents :\n"
     ]
    },
    {
     "data": {
      "text/plain": [
       "python        2890\n",
       "javascript    2580\n",
       "java          1601\n",
       "c#            1388\n",
       "android       1241\n",
       "php           1071\n",
       "python-3.x     949\n",
       "html           941\n",
       "reactjs        768\n",
       "r              699\n",
       "node.js        653\n",
       "angular        630\n",
       "css            617\n",
       "sql            585\n",
       "mysql          517\n",
       "c++            502\n",
       "pandas         486\n",
       "jquery         485\n",
       "excel          445\n",
       "swift          405\n",
       "dtype: int64"
      ]
     },
     "execution_count": 8,
     "metadata": {},
     "output_type": "execute_result"
    }
   ],
   "source": [
    "tags_s = pd.Series(np.squeeze(np.asarray(tags.sum(axis=0))), \n",
    "                   index=cv.get_feature_names())\n",
    "tags_s.sort_values(inplace=True, ascending=False)\n",
    "print(\"Labels les plus fréquents :\")\n",
    "tags_s.head(20)"
   ]
  },
  {
   "cell_type": "code",
   "execution_count": 9,
   "metadata": {
    "ExecuteTime": {
     "end_time": "2019-09-10T22:01:17.521390Z",
     "start_time": "2019-09-10T22:01:17.424408Z"
    }
   },
   "outputs": [
    {
     "name": "stdout",
     "output_type": "stream",
     "text": [
      "Labels les moins fréquents :\n"
     ]
    },
    {
     "data": {
      "text/plain": [
       "grocery-crud            1\n",
       "gravityforms            1\n",
       "readdir                 1\n",
       "graylog                 1\n",
       "greasemonkey            1\n",
       "greedy                  1\n",
       "readonly                1\n",
       "readme                  1\n",
       "readline                1\n",
       "grep-indesign           1\n",
       "grid-layout             1\n",
       "read-eval-print-loop    1\n",
       "grid-search             1\n",
       "gridex                  1\n",
       "gridextra               1\n",
       "readability             1\n",
       "read-the-docs           1\n",
       "gridsome                1\n",
       "gridster                1\n",
       "linqkit                 1\n",
       "dtype: int64"
      ]
     },
     "execution_count": 9,
     "metadata": {},
     "output_type": "execute_result"
    }
   ],
   "source": [
    "print(\"Labels les moins fréquents :\")\n",
    "tags_s.tail(20)"
   ]
  },
  {
   "cell_type": "code",
   "execution_count": 104,
   "metadata": {
    "ExecuteTime": {
     "end_time": "2019-09-11T17:38:24.211366Z",
     "start_time": "2019-09-11T17:38:23.881404Z"
    }
   },
   "outputs": [
    {
     "data": {
      "text/html": [
       "<div>\n",
       "<style scoped>\n",
       "    .dataframe tbody tr th:only-of-type {\n",
       "        vertical-align: middle;\n",
       "    }\n",
       "\n",
       "    .dataframe tbody tr th {\n",
       "        vertical-align: top;\n",
       "    }\n",
       "\n",
       "    .dataframe thead th {\n",
       "        text-align: right;\n",
       "    }\n",
       "</style>\n",
       "<table border=\"1\" class=\"dataframe\">\n",
       "  <thead>\n",
       "    <tr style=\"text-align: right;\">\n",
       "      <th></th>\n",
       "      <th>Tag</th>\n",
       "      <th>TagCode</th>\n",
       "      <th>Tags</th>\n",
       "    </tr>\n",
       "  </thead>\n",
       "  <tbody>\n",
       "    <tr>\n",
       "      <td>1</td>\n",
       "      <td>python</td>\n",
       "      <td>0</td>\n",
       "      <td>&lt;python&gt;&lt;amazon-web-services&gt;&lt;amazon-s3&gt;&lt;boto3...</td>\n",
       "    </tr>\n",
       "    <tr>\n",
       "      <td>2</td>\n",
       "      <td>python</td>\n",
       "      <td>0</td>\n",
       "      <td>&lt;python&gt;</td>\n",
       "    </tr>\n",
       "    <tr>\n",
       "      <td>3</td>\n",
       "      <td>java</td>\n",
       "      <td>1</td>\n",
       "      <td>&lt;java&gt;&lt;annotations&gt;&lt;conditional-compilation&gt;</td>\n",
       "    </tr>\n",
       "    <tr>\n",
       "      <td>4</td>\n",
       "      <td>node.js</td>\n",
       "      <td>2</td>\n",
       "      <td>&lt;node.js&gt;&lt;upload&gt;&lt;sftp&gt;&lt;multer&gt;</td>\n",
       "    </tr>\n",
       "    <tr>\n",
       "      <td>6</td>\n",
       "      <td>android</td>\n",
       "      <td>3</td>\n",
       "      <td>&lt;android&gt;&lt;android-layout&gt;</td>\n",
       "    </tr>\n",
       "    <tr>\n",
       "      <td>9</td>\n",
       "      <td>pandas</td>\n",
       "      <td>4</td>\n",
       "      <td>&lt;pandas&gt;</td>\n",
       "    </tr>\n",
       "    <tr>\n",
       "      <td>14</td>\n",
       "      <td>python</td>\n",
       "      <td>0</td>\n",
       "      <td>&lt;python&gt;&lt;bash&gt;&lt;git&gt;&lt;anaconda&gt;&lt;conda&gt;</td>\n",
       "    </tr>\n",
       "    <tr>\n",
       "      <td>15</td>\n",
       "      <td>api</td>\n",
       "      <td>5</td>\n",
       "      <td>&lt;api&gt;&lt;filenet-p8&gt;&lt;filenet-process-engine&gt;</td>\n",
       "    </tr>\n",
       "    <tr>\n",
       "      <td>17</td>\n",
       "      <td>vue.js</td>\n",
       "      <td>6</td>\n",
       "      <td>&lt;vue.js&gt;&lt;axios&gt;</td>\n",
       "    </tr>\n",
       "    <tr>\n",
       "      <td>19</td>\n",
       "      <td>flutter</td>\n",
       "      <td>7</td>\n",
       "      <td>&lt;flutter&gt;&lt;dart&gt;&lt;flutter-layout&gt;</td>\n",
       "    </tr>\n",
       "  </tbody>\n",
       "</table>\n",
       "</div>"
      ],
      "text/plain": [
       "        Tag  TagCode                                               Tags\n",
       "1    python        0  <python><amazon-web-services><amazon-s3><boto3...\n",
       "2    python        0                                           <python>\n",
       "3      java        1       <java><annotations><conditional-compilation>\n",
       "4   node.js        2                    <node.js><upload><sftp><multer>\n",
       "6   android        3                          <android><android-layout>\n",
       "9    pandas        4                                           <pandas>\n",
       "14   python        0               <python><bash><git><anaconda><conda>\n",
       "15      api        5          <api><filenet-p8><filenet-process-engine>\n",
       "17   vue.js        6                                    <vue.js><axios>\n",
       "19  flutter        7                    <flutter><dart><flutter-layout>"
      ]
     },
     "execution_count": 104,
     "metadata": {},
     "output_type": "execute_result"
    }
   ],
   "source": [
    "def get_first_tag(s):\n",
    "    tags = tokenize_tags(s)\n",
    "    return tags[0]\n",
    "\n",
    "df['Tag'] = df['Tags'].apply(get_first_tag)\n",
    "df['TagCode'] = df['Tag'].factorize()[0]\n",
    "tags_df = df[['Tag', 'TagCode']].drop_duplicates().sort_values('TagCode')\n",
    "tag_to_id = dict(tags_df.values)\n",
    "id_to_tag = dict(tags_df[['TagCode', 'Tag']].values)\n",
    "df[['Tag', 'TagCode', 'Tags']].head(10)"
   ]
  },
  {
   "cell_type": "code",
   "execution_count": 89,
   "metadata": {
    "ExecuteTime": {
     "end_time": "2019-09-11T10:27:38.298931Z",
     "start_time": "2019-09-11T10:27:38.281943Z"
    }
   },
   "outputs": [
    {
     "name": "stdout",
     "output_type": "stream",
     "text": [
      "Nombre de labels uniques : 1787\n",
      "Nombre de labels apparaissant moins de 50 fois : 1729\n"
     ]
    }
   ],
   "source": [
    "TRESHOLD = 50\n",
    "tag_counts = df['Tag'].value_counts() \n",
    "print(f\"Nombre de labels uniques : {len(tag_counts)}\")\n",
    "print(f\"Nombre de labels apparaissant moins de {TRESHOLD} fois : \"\n",
    "      f\"{sum(tag_counts < TRESHOLD)}\")"
   ]
  },
  {
   "cell_type": "code",
   "execution_count": 90,
   "metadata": {
    "ExecuteTime": {
     "end_time": "2019-09-11T10:27:41.123303Z",
     "start_time": "2019-09-11T10:27:41.061338Z"
    }
   },
   "outputs": [
    {
     "name": "stdout",
     "output_type": "stream",
     "text": [
      "Nombre de lignes à effacer : 5353 sur 24442\n"
     ]
    }
   ],
   "source": [
    "del_labels = tag_counts[tag_counts < TRESHOLD].index.values\n",
    "del_mask = df['Tag'].isin(del_labels.tolist())\n",
    "print(f\"Nombre de lignes à effacer : {sum(del_mask)} sur {len(del_mask)}\")"
   ]
  },
  {
   "cell_type": "code",
   "execution_count": 13,
   "metadata": {
    "ExecuteTime": {
     "end_time": "2019-09-10T22:01:18.062656Z",
     "start_time": "2019-09-10T22:01:17.914593Z"
    }
   },
   "outputs": [
    {
     "name": "stdout",
     "output_type": "stream",
     "text": [
      "Labels restant après simplification :\n"
     ]
    },
    {
     "data": {
      "text/plain": [
       "'python javascript java c# php android r c++ python-3.x sql angular html node.js ios excel reactjs mysql c swift flutter django css jquery react-native sql-server laravel linux ruby-on-rails amazon-web-services docker azure powershell wordpress typescript json git vue.js spring-boot bash mongodb regex scala windows postgresql spring asp.net go arrays oracle vba apache-spark vb.net google-apps-script firebase elasticsearch kubernetes jenkins ruby'"
      ]
     },
     "execution_count": 13,
     "metadata": {},
     "output_type": "execute_result"
    }
   ],
   "source": [
    "print(\"Labels restant après simplification :\")\n",
    "\" \".join(tag_counts[tag_counts >= TRESHOLD].index.values)"
   ]
  },
  {
   "cell_type": "markdown",
   "metadata": {},
   "source": [
    "### Préparation du texte"
   ]
  },
  {
   "cell_type": "code",
   "execution_count": 14,
   "metadata": {
    "ExecuteTime": {
     "end_time": "2019-09-10T22:01:18.278865Z",
     "start_time": "2019-09-10T22:01:18.068650Z"
    }
   },
   "outputs": [],
   "source": [
    "stop_words = set(nltk.corpus.stopwords.words(\"english\"))\n",
    "new_words = [\"using\", \"trying\", \"running\", \"want\", \"except\", \"guys\", \"get\", \n",
    "             \"code\", \"run\", \"might\", \"tried\", \"whenever\", \"current\", \"gives\", \n",
    "             \"name\", \"try\", \"must\", \"know\", \"looks\", \"problem\", \"problems\",\n",
    "             \"anyone\", \"without\", \"the\"]\n",
    "stop_words = stop_words.union(new_words)\n",
    "stop_words = stop_words.union(list(string.punctuation))"
   ]
  },
  {
   "cell_type": "code",
   "execution_count": 15,
   "metadata": {
    "ExecuteTime": {
     "end_time": "2019-09-10T22:01:18.335818Z",
     "start_time": "2019-09-10T22:01:18.280856Z"
    }
   },
   "outputs": [
    {
     "data": {
      "text/plain": [
       "'The SMTP protocol is assigned the porttwentyfive.'"
      ]
     },
     "execution_count": 15,
     "metadata": {},
     "output_type": "execute_result"
    }
   ],
   "source": [
    "replace_list = [('vt100', 'vthundred'),\n",
    "                ('port 25', 'porttwentyfive'),\n",
    "                ('port 8000', 'porteightthousand'),\n",
    "                ('port 8080', 'porteightyeighty'),\n",
    "                ('2D', 'twodim'),\n",
    "                ('3D', 'threedim'),\n",
    "                ('vt100', 'vthundred'),\n",
    "                ('c++11', 'cppeleven'),\n",
    "                ('c++', 'cpp'),\n",
    "                ('g++', 'gpp'),\n",
    "                ('s3', 'sthree'),\n",
    "                ('x64', 'xsixtyfour')\n",
    "               ]\n",
    "\n",
    "regex_list = [(r'\\br\\b', 'RSoftware'),\n",
    "              (r'\\s.net\\b', 'dotnet')]\n",
    "\n",
    "def replace_words_containing_non_alphas(s):\n",
    "    for w1, w2 in replace_list:\n",
    "        s = s.replace(w1, w2)\n",
    "    for w1, w2 in regex_list:\n",
    "        s = re.sub(w1, w2, s)\n",
    "    return s\n",
    "                \n",
    "s = \"The SMTP protocol is assigned the port 25.\"\n",
    "replace_words_containing_non_alphas(s)"
   ]
  },
  {
   "cell_type": "code",
   "execution_count": 16,
   "metadata": {
    "ExecuteTime": {
     "end_time": "2019-09-10T22:01:20.530623Z",
     "start_time": "2019-09-10T22:01:18.340816Z"
    }
   },
   "outputs": [
    {
     "data": {
      "text/plain": [
       "'time zone configure regional settings cppeleven version standard language cpp RSoftware website http www RSoftware project net dotnet framework pronounce dot net software framework'"
      ]
     },
     "execution_count": 16,
     "metadata": {},
     "output_type": "execute_result"
    }
   ],
   "source": [
    "def tokenize_text(s): \n",
    "    # Suppression des balises HTML\n",
    "    cleaner = lambda text: bs4.BeautifulSoup(text, 'html.parser').get_text()\n",
    "    s = cleaner(s).lower()\n",
    "    # Élimine chiffres et caractères spéciaux des mots importants\n",
    "    s = replace_words_containing_non_alphas(s)\n",
    "    # Suppression des caractères non alphabétiques\n",
    "    s = re.sub(r'[^a-zA-Z]', ' ', s)    \n",
    "    # Suppression des mots de 1 ou 2 lettres\n",
    "    s = re.sub(r'\\b[a-z]{1,2}\\b', '', s)\n",
    "    # Suppression des mots dans `stop_words`\n",
    "    s = [w for w in nltk.tokenize.word_tokenize(s) if w not in stop_words]    \n",
    "    # Lemmatisation\n",
    "    stemmed = []\n",
    "    lemmatizer = nltk.stem.WordNetLemmatizer() \n",
    "    for item in s:\n",
    "        stemmed.append(lemmatizer.lemmatize(item, pos='v'))\n",
    "    return ' '.join(stemmed)    \n",
    "\n",
    "example = \"The time zone (+10) was configured under Regional Settings.\"\\\n",
    "          \"C++11 is a version of the standard for the language C++.\"\\\n",
    "          \"The R website is http://www.r-project.net. \"\\\n",
    "          \".NET Framework (pronounced as dot net) is a software framework\"\n",
    "tokenize_text(example)"
   ]
  },
  {
   "cell_type": "code",
   "execution_count": 17,
   "metadata": {
    "ExecuteTime": {
     "end_time": "2019-09-10T22:02:19.411894Z",
     "start_time": "2019-09-10T22:01:20.532622Z"
    },
    "scrolled": true
   },
   "outputs": [
    {
     "data": {
      "text/html": [
       "<div>\n",
       "<style scoped>\n",
       "    .dataframe tbody tr th:only-of-type {\n",
       "        vertical-align: middle;\n",
       "    }\n",
       "\n",
       "    .dataframe tbody tr th {\n",
       "        vertical-align: top;\n",
       "    }\n",
       "\n",
       "    .dataframe thead th {\n",
       "        text-align: right;\n",
       "    }\n",
       "</style>\n",
       "<table border=\"1\" class=\"dataframe\">\n",
       "  <thead>\n",
       "    <tr style=\"text-align: right;\">\n",
       "      <th></th>\n",
       "      <th>Id</th>\n",
       "      <th>CreationDate</th>\n",
       "      <th>Score</th>\n",
       "      <th>Body</th>\n",
       "      <th>Title</th>\n",
       "      <th>Tags</th>\n",
       "      <th>Tag</th>\n",
       "      <th>Text</th>\n",
       "    </tr>\n",
       "  </thead>\n",
       "  <tbody>\n",
       "    <tr>\n",
       "      <td>1</td>\n",
       "      <td>57560002</td>\n",
       "      <td>2019-08-19 15:43:15</td>\n",
       "      <td>1</td>\n",
       "      <td>&lt;p&gt;I am trying to get the S3 Bucket size in aw...</td>\n",
       "      <td>Python Script to get the size of the S3 Bucket...</td>\n",
       "      <td>&lt;python&gt;&lt;amazon-web-services&gt;&lt;amazon-s3&gt;&lt;boto3...</td>\n",
       "      <td>python</td>\n",
       "      <td>python script size sthree bucket csv sthree bu...</td>\n",
       "    </tr>\n",
       "    <tr>\n",
       "      <td>2</td>\n",
       "      <td>57560003</td>\n",
       "      <td>2019-08-19 15:43:15</td>\n",
       "      <td>0</td>\n",
       "      <td>&lt;p&gt;I am trying to set up the virtual environme...</td>\n",
       "      <td>The command \".\\Scripts\\activate\" is not working</td>\n",
       "      <td>&lt;python&gt;</td>\n",
       "      <td>python</td>\n",
       "      <td>command script activate work set virtual envir...</td>\n",
       "    </tr>\n",
       "    <tr>\n",
       "      <td>3</td>\n",
       "      <td>57560005</td>\n",
       "      <td>2019-08-19 15:43:20</td>\n",
       "      <td>0</td>\n",
       "      <td>&lt;p&gt;As we all know, we can automagicaly generat...</td>\n",
       "      <td>Is Java annotation processor capable of removi...</td>\n",
       "      <td>&lt;java&gt;&lt;annotations&gt;&lt;conditional-compilation&gt;</td>\n",
       "      <td>java</td>\n",
       "      <td>java annotation processor capable remove annot...</td>\n",
       "    </tr>\n",
       "    <tr>\n",
       "      <td>4</td>\n",
       "      <td>57560006</td>\n",
       "      <td>2019-08-19 15:43:25</td>\n",
       "      <td>0</td>\n",
       "      <td>&lt;p&gt;The GoDaddy package my friend got doesn't h...</td>\n",
       "      <td>Multer-sftp won't upload over port 21</td>\n",
       "      <td>&lt;node.js&gt;&lt;upload&gt;&lt;sftp&gt;&lt;multer&gt;</td>\n",
       "      <td>node.js</td>\n",
       "      <td>multer sftp upload port godaddy package friend...</td>\n",
       "    </tr>\n",
       "    <tr>\n",
       "      <td>6</td>\n",
       "      <td>57560008</td>\n",
       "      <td>2019-08-19 15:43:28</td>\n",
       "      <td>0</td>\n",
       "      <td>&lt;p&gt;I was coding these past two weeks and it wa...</td>\n",
       "      <td>Android studio all xml layout broke and now co...</td>\n",
       "      <td>&lt;android&gt;&lt;android-layout&gt;</td>\n",
       "      <td>android</td>\n",
       "      <td>android studio xml layout break contain java c...</td>\n",
       "    </tr>\n",
       "    <tr>\n",
       "      <td>9</td>\n",
       "      <td>57560012</td>\n",
       "      <td>2019-08-19 15:43:36</td>\n",
       "      <td>-1</td>\n",
       "      <td>&lt;p&gt;I have a table I queried from SQL:&lt;/p&gt;\\n\\n&lt;...</td>\n",
       "      <td>Pandas - transform SQL style dataframe to columns</td>\n",
       "      <td>&lt;pandas&gt;</td>\n",
       "      <td>pandas</td>\n",
       "      <td>pandas transform sql style dataframe columns t...</td>\n",
       "    </tr>\n",
       "    <tr>\n",
       "      <td>14</td>\n",
       "      <td>57560017</td>\n",
       "      <td>2019-08-19 15:44:05</td>\n",
       "      <td>0</td>\n",
       "      <td>&lt;p&gt;I want to learn Data Science and so have us...</td>\n",
       "      <td>Stuck when setting up to use anaconda with VS ...</td>\n",
       "      <td>&lt;python&gt;&lt;bash&gt;&lt;git&gt;&lt;anaconda&gt;&lt;conda&gt;</td>\n",
       "      <td>python</td>\n",
       "      <td>stick set use anaconda integrate git terminal ...</td>\n",
       "    </tr>\n",
       "    <tr>\n",
       "      <td>15</td>\n",
       "      <td>57560019</td>\n",
       "      <td>2019-08-19 15:44:16</td>\n",
       "      <td>0</td>\n",
       "      <td>&lt;p&gt;I am confused with the various elements ava...</td>\n",
       "      <td>What is the difference between queueelement , ...</td>\n",
       "      <td>&lt;api&gt;&lt;filenet-p8&gt;&lt;filenet-process-engine&gt;</td>\n",
       "      <td>api</td>\n",
       "      <td>difference queueelement stepelement workobject...</td>\n",
       "    </tr>\n",
       "    <tr>\n",
       "      <td>17</td>\n",
       "      <td>57560021</td>\n",
       "      <td>2019-08-19 15:44:19</td>\n",
       "      <td>0</td>\n",
       "      <td>&lt;p&gt;Here is my code: \\nSo is this, but now foll...</td>\n",
       "      <td>Why my Vue Js created method not working?</td>\n",
       "      <td>&lt;vue.js&gt;&lt;axios&gt;</td>\n",
       "      <td>vue.js</td>\n",
       "      <td>vue create method work follow block app data c...</td>\n",
       "    </tr>\n",
       "    <tr>\n",
       "      <td>19</td>\n",
       "      <td>57560023</td>\n",
       "      <td>2019-08-19 15:44:27</td>\n",
       "      <td>0</td>\n",
       "      <td>&lt;p&gt;I am doing the search bar and I want to put...</td>\n",
       "      <td>How to position yourself at the end of a Row?</td>\n",
       "      <td>&lt;flutter&gt;&lt;dart&gt;&lt;flutter-layout&gt;</td>\n",
       "      <td>flutter</td>\n",
       "      <td>position end row search bar put filter icon en...</td>\n",
       "    </tr>\n",
       "    <tr>\n",
       "      <td>21</td>\n",
       "      <td>57560025</td>\n",
       "      <td>2019-08-19 15:44:36</td>\n",
       "      <td>0</td>\n",
       "      <td>&lt;p&gt;I am using bazel to build some code. The co...</td>\n",
       "      <td>Bazel gives compilation error when converting ...</td>\n",
       "      <td>&lt;c++&gt;&lt;matrix&gt;&lt;eigen&gt;&lt;bazel&gt;&lt;eigen3&gt;</td>\n",
       "      <td>c++</td>\n",
       "      <td>bazel compilation error convert matrix type ba...</td>\n",
       "    </tr>\n",
       "    <tr>\n",
       "      <td>22</td>\n",
       "      <td>57560026</td>\n",
       "      <td>2019-08-19 15:44:38</td>\n",
       "      <td>0</td>\n",
       "      <td>&lt;p&gt;I am try to load data from &lt;code&gt;GCS&lt;/code&gt;...</td>\n",
       "      <td>Beam: CombinePerKey(max) hang in dataflow job</td>\n",
       "      <td>&lt;python&gt;&lt;google-cloud-dataflow&gt;&lt;apache-beam&gt;</td>\n",
       "      <td>python</td>\n",
       "      <td>beam combineperkey max hang dataflow job load ...</td>\n",
       "    </tr>\n",
       "    <tr>\n",
       "      <td>23</td>\n",
       "      <td>57560027</td>\n",
       "      <td>2019-08-19 15:44:39</td>\n",
       "      <td>0</td>\n",
       "      <td>&lt;p&gt;I'm currently writing code that looks like ...</td>\n",
       "      <td>Annotate the return type of a python function ...</td>\n",
       "      <td>&lt;python&gt;&lt;python-3.x&gt;&lt;types&gt;&lt;typehints&gt;</td>\n",
       "      <td>python</td>\n",
       "      <td>annotate return type python function parameter...</td>\n",
       "    </tr>\n",
       "    <tr>\n",
       "      <td>24</td>\n",
       "      <td>57560028</td>\n",
       "      <td>2019-08-19 15:44:40</td>\n",
       "      <td>0</td>\n",
       "      <td>&lt;p&gt;I am trying to get the total number of comm...</td>\n",
       "      <td>How to get the total number of comments on a p...</td>\n",
       "      <td>&lt;facebook&gt;&lt;fb-graph&gt;</td>\n",
       "      <td>facebook</td>\n",
       "      <td>total number comment post total number comment...</td>\n",
       "    </tr>\n",
       "    <tr>\n",
       "      <td>26</td>\n",
       "      <td>57560031</td>\n",
       "      <td>2019-08-19 15:44:52</td>\n",
       "      <td>1</td>\n",
       "      <td>&lt;p&gt;So i'm trying to load close to a thousand g...</td>\n",
       "      <td>Flutter NetworkImage takes too long to load</td>\n",
       "      <td>&lt;flutter&gt;&lt;dart&gt;</td>\n",
       "      <td>flutter</td>\n",
       "      <td>flutter networkimage take long load load close...</td>\n",
       "    </tr>\n",
       "    <tr>\n",
       "      <td>29</td>\n",
       "      <td>57560035</td>\n",
       "      <td>2019-08-19 15:45:07</td>\n",
       "      <td>-3</td>\n",
       "      <td>&lt;p&gt;I want to align this label (as clear in the...</td>\n",
       "      <td>Change label's position of Y axis in chart.js</td>\n",
       "      <td>&lt;javascript&gt;&lt;css&gt;&lt;chart.js&gt;</td>\n",
       "      <td>javascript</td>\n",
       "      <td>change label position axis chart align label c...</td>\n",
       "    </tr>\n",
       "    <tr>\n",
       "      <td>31</td>\n",
       "      <td>57560037</td>\n",
       "      <td>2019-08-19 15:45:14</td>\n",
       "      <td>2</td>\n",
       "      <td>&lt;p&gt;I am learning Javascript through a Udemy co...</td>\n",
       "      <td>Need help taking information from classes/sub-...</td>\n",
       "      <td>&lt;javascript&gt;&lt;arrays&gt;&lt;class&gt;</td>\n",
       "      <td>javascript</td>\n",
       "      <td>need help take information class sub class jav...</td>\n",
       "    </tr>\n",
       "    <tr>\n",
       "      <td>32</td>\n",
       "      <td>57560038</td>\n",
       "      <td>2019-08-19 15:45:17</td>\n",
       "      <td>0</td>\n",
       "      <td>&lt;p&gt;I'm trying to capture frames from a video w...</td>\n",
       "      <td>MSB6006 in VisualStudio when using opencv Vide...</td>\n",
       "      <td>&lt;c++&gt;&lt;visual-studio&gt;&lt;opencv&gt;</td>\n",
       "      <td>c++</td>\n",
       "      <td>msb visualstudio opencv videocapture capture f...</td>\n",
       "    </tr>\n",
       "    <tr>\n",
       "      <td>37</td>\n",
       "      <td>57560044</td>\n",
       "      <td>2019-08-19 15:45:32</td>\n",
       "      <td>1</td>\n",
       "      <td>&lt;p&gt;My bot reads emails one by one from a docum...</td>\n",
       "      <td>Watir : How to read the second line in a docum...</td>\n",
       "      <td>&lt;ruby-on-rails&gt;&lt;ruby&gt;&lt;rubygems&gt;</td>\n",
       "      <td>ruby-on-rails</td>\n",
       "      <td>watir read second line document txt make loop ...</td>\n",
       "    </tr>\n",
       "    <tr>\n",
       "      <td>38</td>\n",
       "      <td>57560046</td>\n",
       "      <td>2019-08-19 15:45:33</td>\n",
       "      <td>0</td>\n",
       "      <td>&lt;p&gt;I am a signer and sender of a document. The...</td>\n",
       "      <td>Event notification time zone</td>\n",
       "      <td>&lt;docusignapi&gt;</td>\n",
       "      <td>docusignapi</td>\n",
       "      <td>event notification time zone signer sender doc...</td>\n",
       "    </tr>\n",
       "  </tbody>\n",
       "</table>\n",
       "</div>"
      ],
      "text/plain": [
       "          Id         CreationDate  Score  \\\n",
       "1   57560002  2019-08-19 15:43:15      1   \n",
       "2   57560003  2019-08-19 15:43:15      0   \n",
       "3   57560005  2019-08-19 15:43:20      0   \n",
       "4   57560006  2019-08-19 15:43:25      0   \n",
       "6   57560008  2019-08-19 15:43:28      0   \n",
       "9   57560012  2019-08-19 15:43:36     -1   \n",
       "14  57560017  2019-08-19 15:44:05      0   \n",
       "15  57560019  2019-08-19 15:44:16      0   \n",
       "17  57560021  2019-08-19 15:44:19      0   \n",
       "19  57560023  2019-08-19 15:44:27      0   \n",
       "21  57560025  2019-08-19 15:44:36      0   \n",
       "22  57560026  2019-08-19 15:44:38      0   \n",
       "23  57560027  2019-08-19 15:44:39      0   \n",
       "24  57560028  2019-08-19 15:44:40      0   \n",
       "26  57560031  2019-08-19 15:44:52      1   \n",
       "29  57560035  2019-08-19 15:45:07     -3   \n",
       "31  57560037  2019-08-19 15:45:14      2   \n",
       "32  57560038  2019-08-19 15:45:17      0   \n",
       "37  57560044  2019-08-19 15:45:32      1   \n",
       "38  57560046  2019-08-19 15:45:33      0   \n",
       "\n",
       "                                                 Body  \\\n",
       "1   <p>I am trying to get the S3 Bucket size in aw...   \n",
       "2   <p>I am trying to set up the virtual environme...   \n",
       "3   <p>As we all know, we can automagicaly generat...   \n",
       "4   <p>The GoDaddy package my friend got doesn't h...   \n",
       "6   <p>I was coding these past two weeks and it wa...   \n",
       "9   <p>I have a table I queried from SQL:</p>\\n\\n<...   \n",
       "14  <p>I want to learn Data Science and so have us...   \n",
       "15  <p>I am confused with the various elements ava...   \n",
       "17  <p>Here is my code: \\nSo is this, but now foll...   \n",
       "19  <p>I am doing the search bar and I want to put...   \n",
       "21  <p>I am using bazel to build some code. The co...   \n",
       "22  <p>I am try to load data from <code>GCS</code>...   \n",
       "23  <p>I'm currently writing code that looks like ...   \n",
       "24  <p>I am trying to get the total number of comm...   \n",
       "26  <p>So i'm trying to load close to a thousand g...   \n",
       "29  <p>I want to align this label (as clear in the...   \n",
       "31  <p>I am learning Javascript through a Udemy co...   \n",
       "32  <p>I'm trying to capture frames from a video w...   \n",
       "37  <p>My bot reads emails one by one from a docum...   \n",
       "38  <p>I am a signer and sender of a document. The...   \n",
       "\n",
       "                                                Title  \\\n",
       "1   Python Script to get the size of the S3 Bucket...   \n",
       "2     The command \".\\Scripts\\activate\" is not working   \n",
       "3   Is Java annotation processor capable of removi...   \n",
       "4               Multer-sftp won't upload over port 21   \n",
       "6   Android studio all xml layout broke and now co...   \n",
       "9   Pandas - transform SQL style dataframe to columns   \n",
       "14  Stuck when setting up to use anaconda with VS ...   \n",
       "15  What is the difference between queueelement , ...   \n",
       "17          Why my Vue Js created method not working?   \n",
       "19      How to position yourself at the end of a Row?   \n",
       "21  Bazel gives compilation error when converting ...   \n",
       "22      Beam: CombinePerKey(max) hang in dataflow job   \n",
       "23  Annotate the return type of a python function ...   \n",
       "24  How to get the total number of comments on a p...   \n",
       "26        Flutter NetworkImage takes too long to load   \n",
       "29      Change label's position of Y axis in chart.js   \n",
       "31  Need help taking information from classes/sub-...   \n",
       "32  MSB6006 in VisualStudio when using opencv Vide...   \n",
       "37  Watir : How to read the second line in a docum...   \n",
       "38                       Event notification time zone   \n",
       "\n",
       "                                                 Tags            Tag  \\\n",
       "1   <python><amazon-web-services><amazon-s3><boto3...         python   \n",
       "2                                            <python>         python   \n",
       "3        <java><annotations><conditional-compilation>           java   \n",
       "4                     <node.js><upload><sftp><multer>        node.js   \n",
       "6                           <android><android-layout>        android   \n",
       "9                                            <pandas>         pandas   \n",
       "14               <python><bash><git><anaconda><conda>         python   \n",
       "15          <api><filenet-p8><filenet-process-engine>            api   \n",
       "17                                    <vue.js><axios>         vue.js   \n",
       "19                    <flutter><dart><flutter-layout>        flutter   \n",
       "21                <c++><matrix><eigen><bazel><eigen3>            c++   \n",
       "22       <python><google-cloud-dataflow><apache-beam>         python   \n",
       "23             <python><python-3.x><types><typehints>         python   \n",
       "24                               <facebook><fb-graph>       facebook   \n",
       "26                                    <flutter><dart>        flutter   \n",
       "29                        <javascript><css><chart.js>     javascript   \n",
       "31                        <javascript><arrays><class>     javascript   \n",
       "32                       <c++><visual-studio><opencv>            c++   \n",
       "37                    <ruby-on-rails><ruby><rubygems>  ruby-on-rails   \n",
       "38                                      <docusignapi>    docusignapi   \n",
       "\n",
       "                                                 Text  \n",
       "1   python script size sthree bucket csv sthree bu...  \n",
       "2   command script activate work set virtual envir...  \n",
       "3   java annotation processor capable remove annot...  \n",
       "4   multer sftp upload port godaddy package friend...  \n",
       "6   android studio xml layout break contain java c...  \n",
       "9   pandas transform sql style dataframe columns t...  \n",
       "14  stick set use anaconda integrate git terminal ...  \n",
       "15  difference queueelement stepelement workobject...  \n",
       "17  vue create method work follow block app data c...  \n",
       "19  position end row search bar put filter icon en...  \n",
       "21  bazel compilation error convert matrix type ba...  \n",
       "22  beam combineperkey max hang dataflow job load ...  \n",
       "23  annotate return type python function parameter...  \n",
       "24  total number comment post total number comment...  \n",
       "26  flutter networkimage take long load load close...  \n",
       "29  change label position axis chart align label c...  \n",
       "31  need help take information class sub class jav...  \n",
       "32  msb visualstudio opencv videocapture capture f...  \n",
       "37  watir read second line document txt make loop ...  \n",
       "38  event notification time zone signer sender doc...  "
      ]
     },
     "execution_count": 17,
     "metadata": {},
     "output_type": "execute_result"
    }
   ],
   "source": [
    "df['Text'] = (df['Title'] + ' ' + df['Body']).apply(tokenize_text)\n",
    "df[['Title', 'Body', 'Text']].to_csv('processed_text.csv', header=False)\n",
    "df.head(20)"
   ]
  },
  {
   "cell_type": "code",
   "execution_count": 18,
   "metadata": {
    "ExecuteTime": {
     "end_time": "2019-09-10T22:02:19.433881Z",
     "start_time": "2019-09-10T22:02:19.413893Z"
    }
   },
   "outputs": [
    {
     "name": "stdout",
     "output_type": "stream",
     "text": [
      "<class 'pandas.core.frame.DataFrame'>\n",
      "Int64Index: 24442 entries, 1 to 49999\n",
      "Data columns (total 8 columns):\n",
      "Id              24442 non-null int64\n",
      "CreationDate    24442 non-null object\n",
      "Score           24442 non-null int64\n",
      "Body            24442 non-null object\n",
      "Title           24442 non-null object\n",
      "Tags            24442 non-null object\n",
      "Tag             24442 non-null object\n",
      "Text            24442 non-null object\n",
      "dtypes: int64(2), object(6)\n",
      "memory usage: 1.7+ MB\n"
     ]
    }
   ],
   "source": [
    "# Suppression des colonnes inutilisées\n",
    "if DEL_UNUSED_COLS:\n",
    "    df.drop(columns=['Body', 'Title', 'Tags'], inplace=True, errors='ignore')\n",
    "df.info()"
   ]
  },
  {
   "cell_type": "markdown",
   "metadata": {},
   "source": [
    "## Analyse non supervisée : LSA"
   ]
  },
  {
   "cell_type": "code",
   "execution_count": 19,
   "metadata": {
    "ExecuteTime": {
     "end_time": "2019-09-10T22:02:22.064365Z",
     "start_time": "2019-09-10T22:02:19.435880Z"
    }
   },
   "outputs": [
    {
     "name": "stdout",
     "output_type": "stream",
     "text": [
      "Taille de la matrice Tfidf : (19089, 4168)\n"
     ]
    }
   ],
   "source": [
    "# On ne conserve que les labels fréquents\n",
    "df1 = df[~del_mask].copy()\n",
    "# Utilisation de `min_df` nécessaire pour réduire la quantité de mots\n",
    "fv = TfidfVectorizer(analyzer='word', min_df=0.001)\n",
    "body_tfidf = fv.fit_transform(df1['Text'])\n",
    "print(f\"Taille de la matrice Tfidf : {body_tfidf.shape}\")"
   ]
  },
  {
   "cell_type": "code",
   "execution_count": 20,
   "metadata": {
    "ExecuteTime": {
     "end_time": "2019-09-10T22:02:29.275212Z",
     "start_time": "2019-09-10T22:02:22.066365Z"
    }
   },
   "outputs": [
    {
     "data": {
      "text/plain": [
       "20"
      ]
     },
     "execution_count": 20,
     "metadata": {},
     "output_type": "execute_result"
    }
   ],
   "source": [
    "svd_model = sk.decomposition.TruncatedSVD(n_components=20, \n",
    "                                          algorithm='randomized', \n",
    "                                          n_iter=100, \n",
    "                                          random_state=122)\n",
    "svd_model.fit(body_tfidf)\n",
    "len(svd_model.components_)"
   ]
  },
  {
   "cell_type": "code",
   "execution_count": null,
   "metadata": {},
   "outputs": [],
   "source": []
  },
  {
   "cell_type": "markdown",
   "metadata": {},
   "source": [
    "## Classement mono-label"
   ]
  },
  {
   "cell_type": "markdown",
   "metadata": {},
   "source": [
    "### Représentation des messages en matrice TFIDF"
   ]
  },
  {
   "cell_type": "code",
   "execution_count": 111,
   "metadata": {
    "ExecuteTime": {
     "end_time": "2019-09-11T21:57:03.543574Z",
     "start_time": "2019-09-11T21:56:49.602014Z"
    }
   },
   "outputs": [
    {
     "name": "stdout",
     "output_type": "stream",
     "text": [
      "Taille de la matrice Tfidf : (19089, 10344)\n"
     ]
    }
   ],
   "source": [
    "# On ne conserve que les labels fréquents\n",
    "df1 = df[~del_mask].copy()\n",
    "# Utilisation de `min_df` nécessaire pour réduire la quantité de mots\n",
    "fv = TfidfVectorizer(analyzer='word', ngram_range=(1,2), \n",
    "                     min_df=0.001, stop_words='english')\n",
    "text_tfidf = fv.fit_transform(df1['Text'])\n",
    "print(f\"Taille de la matrice Tfidf : {body_tfidf.shape}\")"
   ]
  },
  {
   "cell_type": "code",
   "execution_count": 143,
   "metadata": {
    "ExecuteTime": {
     "end_time": "2019-09-11T22:47:25.911851Z",
     "start_time": "2019-09-11T22:47:25.695551Z"
    }
   },
   "outputs": [
    {
     "data": {
      "text/plain": [
       "((13362, 9798), (13362,), (5727, 9798), (5727,))"
      ]
     },
     "execution_count": 143,
     "metadata": {},
     "output_type": "execute_result"
    }
   ],
   "source": [
    "X = text_tfidf\n",
    "y = df1['TagCode']\n",
    "X_tr, X_t, y_tr, y_t = sk.model_selection.train_test_split(X, y, \n",
    "                                                           test_size=0.3,\n",
    "                                                           random_state=SEED)\n",
    "X_tr.shape, y_tr.shape, X_t.shape, y_t.shape"
   ]
  },
  {
   "cell_type": "markdown",
   "metadata": {},
   "source": [
    "### Mots et bi-grammes les plus corrélés avec chaque catégorie"
   ]
  },
  {
   "cell_type": "code",
   "execution_count": 139,
   "metadata": {
    "ExecuteTime": {
     "end_time": "2019-09-11T22:39:07.276970Z",
     "start_time": "2019-09-11T22:37:52.691877Z"
    }
   },
   "outputs": [
    {
     "name": "stdout",
     "output_type": "stream",
     "text": [
      "python : ['dataframe', 'self', 'python'] ['nan nan', 'lib python', 'site package']\n",
      "java : ['org', 'println', 'java'] ['org apache', 'override public', 'public void']\n",
      "node.js : ['mongoose', 'node', 'nodejs'] ['process env', 'function err', 'req res']\n",
      "android : ['gradle', 'layout', 'android'] ['android app', 'android studio', 'android layout']\n",
      "vue.js : ['vuetify', 'nuxt', 'vue'] ['div template', 'vue use', 'store state']\n",
      "flutter : ['dart', 'widget', 'flutter'] ['widget build', 'children widget', 'buildcontext context']\n",
      "c++ : ['cout', 'cpp', 'std'] ['include iostream', 'std cout', 'std string']\n",
      "javascript : ['console', 'var', 'javascript'] ['script src', 'document getelementbyid', 'console log']\n",
      "ruby-on-rails : ['activerecord', 'ruby', 'rail'] ['end end', 'end def', 'ruby rail']\n",
      "css : ['flex', 'menu', 'css'] ['max width', 'css file', 'text decoration']\n",
      "django : ['charfield', 'queryset', 'django'] ['charfield max', 'model charfield', 'rest framework']\n",
      "c# : ['wpf', 'writeline', 'public'] ['public string', 'console writeline', 'set public']\n",
      "typescript : ['assignable', 'interface', 'typescript'] ['type function', 'tsconfig json', 'export interface']\n",
      "laravel : ['artisan', 'illuminate', 'laravel'] ['php artisan', 'public function', 'laravel project']\n",
      "php : ['mysqli', 'echo', 'php'] ['isset post', 'php echo', 'public function']\n",
      "firebase : ['collection', 'firebase', 'firestore'] ['firestore collection', 'cloud function', 'firebase firestore']\n",
      "jquery : ['div', 'ajax', 'jquery'] ['use jquery', 'click function', 'jquery jquery']\n",
      "r : ['ggplot', 'shiny', 'factor'] ['structure list', 'shiny app', 'data frame']\n",
      "vba : ['months', 'dim', 'vba'] ['range set', 'end sub', 'example example']\n",
      "html : ['align', 'html', 'div'] ['background color', 'div div', 'div class']\n",
      "reactjs : ['component', 'prop', 'react'] ['react react', 'react router', 'react app']\n",
      "docker : ['container', 'dockerfile', 'docker'] ['docker compose', 'docker image', 'docker container']\n",
      "swift : ['tableview', 'uiimage', 'swift'] ['body view', 'override func', 'guard let']\n",
      "amazon-web-services : ['rds', 'arn', 'aws'] ['api gateway', 'lambda function', 'aws sthree']\n",
      "asp.net : ['aspx', 'iis', 'asp'] ['net mvc', 'web config', 'asp net']\n",
      "json : ['personal', 'suffix', 'json'] ['json data', 'value json', 'json file']\n",
      "angular : ['observable', 'mat', 'angular'] ['angular app', 'angular core', 'export class']\n",
      "azure : ['microsoft', 'devops', 'azure'] ['app service', 'microsoft azure', 'azure devops']\n",
      "postgresql : ['schema', 'postgresql', 'postgres'] ['create index', 'execute select', 'count row']\n",
      "mysql : ['innodb', 'table', 'mysql'] ['auto increment', 'varchar null', 'mysql server']\n",
      "sql : ['table', 'dbo', 'sql'] ['leave join', 'union select', 'inner join']\n",
      "spring : ['springframework', 'bean', 'spring'] ['boot application', 'spring boot', 'org springframework']\n",
      "react-native : ['expo', 'react', 'native'] ['prop navigation', 'view style', 'react native']\n",
      "regex : ['regexp', 'sed', 'regex'] ['regex match', 'regex pattern', 'regular expression']\n",
      "excel : ['sheet', 'dim', 'cells'] ['end xlup', 'cells value', 'end sub']\n",
      "oracle : ['rec', 'ora', 'oracle'] ['command error', 'create replace', 'output line']\n",
      "c : ['scanf', 'stdio', 'printf'] ['int main', 'stdio include', 'include stdio']\n",
      "ios : ['swift', 'xcode', 'ios'] ['view controller', 'override func', 'ios app']\n",
      "bash : ['grep', 'awk', 'bash'] ['shell script', 'read line', 'bash script']\n",
      "linux : ['grep', 'kernel', 'linux'] ['file txt', 'shell script', 'bin bash']\n",
      "powershell : ['webrequest', 'csv', 'powershell'] ['powershell command', 'powershell script', 'write host']\n",
      "wordpress : ['plugin', 'woocommerce', 'wordpress'] ['function php', 'contact form', 'post type']\n",
      "vb.net : ['byval', 'textbox', 'dim'] ['textbox text', 'eventargs handle', 'sender object']\n",
      "sql-server : ['nvarchar', 'sql', 'ssis'] ['store procedure', 'microsoft sql', 'sql server']\n",
      "git : ['branch', 'commit', 'git'] ['git push', 'git commit', 'use git']\n",
      "arrays : ['allocation', 'minute', 'array'] ['enable false', 'use array', 'items array']\n",
      "python-3.x : ['self', 'print', 'python'] ['learn rate', 'self print', 'python python']\n",
      "mongodb : ['collection', 'mongo', 'mongodb'] ['error fix', 'add field', 'text search']\n",
      "jenkins : ['pipeline', 'groovy', 'jenkins'] ['environment variables', 'script execute', 'java version']\n",
      "ruby : ['gem', 'gems', 'ruby'] ['self class', 'www form', 'end end']\n",
      "scala : ['trait', 'spark', 'scala'] ['spark sql', 'apache spark', 'case class']\n",
      "windows : ['exe', 'ver', 'windows'] ['windows server', 'windows windows', 'batch file']\n",
      "google-apps-script : ['spreadsheet', 'spreadsheetapp', 'getrange'] ['google apps', 'google sheet', 'apps script']\n",
      "spring-boot : ['springboot', 'boot', 'spring'] ['boot application', 'spring security', 'spring boot']\n",
      "kubernetes : ['kubectl', 'pod', 'kubernetes'] ['docker image', 'google cloud', 'var lib']\n",
      "go : ['func', 'golang', 'fmt'] ['err nil', 'package main', 'func main']\n",
      "apache-spark : ['executors', 'hdfs', 'spark'] ['spark read', 'spark sql', 'apache spark']\n",
      "elasticsearch : ['bulk', 'elastic', 'elasticsearch'] ['create index', 'usr share', 'elastic search']\n"
     ]
    }
   ],
   "source": [
    "n_terms = 3\n",
    "for label, id in [(id_to_tag[id], id) for id in df1['TagCode'].unique()]:\n",
    "    chi2 = sk.feature_selection.chi2(text_tfidf.toarray(), \n",
    "                                     df1['TagCode'] == id)\n",
    "    indices = np.argsort(chi2[0])\n",
    "    feature_names = np.array(fv.get_feature_names())[indices]\n",
    "    unigrams = [v for v in feature_names if len(v.split(' ')) == 1]\n",
    "    bigrams = [v for v in feature_names if len(v.split(' ')) == 2]        \n",
    "    print(label, \":\", unigrams[-n_terms:], bigrams[-n_terms:])"
   ]
  },
  {
   "cell_type": "markdown",
   "metadata": {},
   "source": [
    "### Modèle bayésien naïf multinomial "
   ]
  },
  {
   "cell_type": "code",
   "execution_count": 145,
   "metadata": {
    "ExecuteTime": {
     "end_time": "2019-09-11T22:58:31.046208Z",
     "start_time": "2019-09-11T22:58:30.767501Z"
    }
   },
   "outputs": [
    {
     "data": {
      "text/plain": [
       "MultinomialNB(alpha=1.0, class_prior=None, fit_prior=True)"
      ]
     },
     "execution_count": 145,
     "metadata": {},
     "output_type": "execute_result"
    }
   ],
   "source": [
    "model = sk.naive_bayes.MultinomialNB()\n",
    "model.fit(X_tr, y_tr)"
   ]
  },
  {
   "cell_type": "code",
   "execution_count": 149,
   "metadata": {
    "ExecuteTime": {
     "end_time": "2019-09-11T23:00:36.886806Z",
     "start_time": "2019-09-11T23:00:36.855618Z"
    }
   },
   "outputs": [],
   "source": [
    "def print_scores(model, X, y, y_pred):\n",
    "    score = sk.metrics.recall_score(y, y_pred, average='micro')    \n",
    "    print(f\"Rappel = {score:0.2f}\")\n",
    "    score = sk.metrics.precision_score(y, y_pred, average='micro')\n",
    "    print(f\"Précision = {score:0.2f}\")\n",
    "    score = sk.metrics.f1_score(y, y_pred, average='micro')\n",
    "    print(f\"Justesse = {score:0.2f}\")\n",
    "    score = sk.metrics.accuracy_score(y, y_pred)    \n",
    "    print(f\"F1 = {score:0.2f}\")\n",
    "    print()"
   ]
  },
  {
   "cell_type": "code",
   "execution_count": 150,
   "metadata": {
    "ExecuteTime": {
     "end_time": "2019-09-11T23:00:40.226583Z",
     "start_time": "2019-09-11T23:00:40.048191Z"
    },
    "scrolled": true
   },
   "outputs": [
    {
     "name": "stdout",
     "output_type": "stream",
     "text": [
      "*** Scores sur données d'entraînement\n",
      "Rappel = 0.47\n",
      "Précision = 0.47\n",
      "Justesse = 0.47\n",
      "F1 = 0.47\n",
      "\n",
      "*** Scores sur données de test :\n",
      "Rappel = 0.43\n",
      "Précision = 0.43\n",
      "Justesse = 0.43\n",
      "F1 = 0.43\n",
      "\n"
     ]
    }
   ],
   "source": [
    "print(\"*** Scores sur données d'entraînement\")\n",
    "y_pred = model.predict(X_tr)\n",
    "print_scores(model, X_tr, y_tr, y_pred)\n",
    "print(\"*** Scores sur données de test :\")\n",
    "y_pred = model.predict(X_t)\n",
    "print_scores(model, X_t, y_t, y_pred)"
   ]
  },
  {
   "cell_type": "code",
   "execution_count": 27,
   "metadata": {
    "ExecuteTime": {
     "end_time": "2019-09-10T22:02:33.286158Z",
     "start_time": "2019-09-10T22:02:33.144237Z"
    },
    "scrolled": true
   },
   "outputs": [
    {
     "name": "stderr",
     "output_type": "stream",
     "text": [
      "C:\\Users\\regclem\\.conda\\envs\\tagging_env\\lib\\site-packages\\sklearn\\metrics\\classification.py:1437: UndefinedMetricWarning: Precision and F-score are ill-defined and being set to 0.0 in labels with no predicted samples.\n",
      "  'precision', 'predicted', average, warn_for)\n"
     ]
    },
    {
     "name": "stdout",
     "output_type": "stream",
     "text": [
      "                     precision    recall  f1-score   support\n",
      "\n",
      "amazon-web-services       0.00      0.00      0.00        45\n",
      "            android       0.68      0.48      0.56       292\n",
      "            angular       0.33      0.01      0.02       124\n",
      "       apache-spark       0.00      0.00      0.00        16\n",
      "             arrays       0.00      0.00      0.00        15\n",
      "            asp.net       0.00      0.00      0.00        20\n",
      "              azure       0.00      0.00      0.00        38\n",
      "               bash       0.00      0.00      0.00        31\n",
      "                  c       0.00      0.00      0.00        67\n",
      "                 c#       0.57      0.59      0.58       396\n",
      "                c++       0.81      0.35      0.49       144\n",
      "                css       0.00      0.00      0.00        55\n",
      "             django       0.00      0.00      0.00        47\n",
      "             docker       1.00      0.03      0.05        37\n",
      "      elasticsearch       0.00      0.00      0.00        20\n",
      "              excel       0.84      0.44      0.58       106\n",
      "           firebase       0.00      0.00      0.00        17\n",
      "            flutter       1.00      0.12      0.21        42\n",
      "                git       1.00      0.03      0.07        29\n",
      "                 go       0.00      0.00      0.00        20\n",
      " google-apps-script       0.00      0.00      0.00        21\n",
      "               html       0.80      0.07      0.12       118\n",
      "                ios       0.55      0.12      0.20        99\n",
      "               java       0.58      0.67      0.62       471\n",
      "         javascript       0.35      0.90      0.51       782\n",
      "            jenkins       0.00      0.00      0.00        21\n",
      "             jquery       0.00      0.00      0.00        50\n",
      "               json       0.00      0.00      0.00        36\n",
      "         kubernetes       0.00      0.00      0.00        17\n",
      "            laravel       0.00      0.00      0.00        41\n",
      "              linux       0.00      0.00      0.00        44\n",
      "            mongodb       0.00      0.00      0.00        24\n",
      "              mysql       0.00      0.00      0.00        90\n",
      "            node.js       0.00      0.00      0.00       117\n",
      "             oracle       0.00      0.00      0.00        19\n",
      "                php       0.68      0.40      0.50       291\n",
      "         postgresql       0.00      0.00      0.00        31\n",
      "         powershell       0.00      0.00      0.00        32\n",
      "             python       0.38      0.93      0.54       876\n",
      "         python-3.x       0.00      0.00      0.00       144\n",
      "                  r       0.98      0.23      0.38       202\n",
      "       react-native       0.00      0.00      0.00        30\n",
      "            reactjs       0.00      0.00      0.00        98\n",
      "              regex       0.00      0.00      0.00        21\n",
      "               ruby       0.00      0.00      0.00         9\n",
      "      ruby-on-rails       0.00      0.00      0.00        46\n",
      "              scala       0.00      0.00      0.00        18\n",
      "             spring       0.00      0.00      0.00        22\n",
      "        spring-boot       0.00      0.00      0.00        29\n",
      "                sql       0.64      0.12      0.21       130\n",
      "         sql-server       0.00      0.00      0.00        41\n",
      "              swift       0.00      0.00      0.00        48\n",
      "         typescript       0.00      0.00      0.00        32\n",
      "             vb.net       0.00      0.00      0.00        21\n",
      "                vba       0.00      0.00      0.00        16\n",
      "             vue.js       0.00      0.00      0.00        30\n",
      "            windows       0.00      0.00      0.00        17\n",
      "          wordpress       0.00      0.00      0.00        32\n",
      "\n",
      "           accuracy                           0.44      5727\n",
      "          macro avg       0.19      0.09      0.10      5727\n",
      "       weighted avg       0.40      0.44      0.35      5727\n",
      "\n"
     ]
    }
   ],
   "source": [
    "print(sk.metrics.classification_report(y_t, y_pred, \n",
    "                                       target_names=df1['Tag'].cat.categories))"
   ]
  },
  {
   "cell_type": "code",
   "execution_count": 28,
   "metadata": {
    "ExecuteTime": {
     "end_time": "2019-09-10T22:02:33.430075Z",
     "start_time": "2019-09-10T22:02:33.291154Z"
    }
   },
   "outputs": [
    {
     "name": "stdout",
     "output_type": "stream",
     "text": [
      "Labels prédit et attendu pour ligne 0 : (38, 38)\n"
     ]
    }
   ],
   "source": [
    "row = 0\n",
    "v = body_tfidf[row, :]\n",
    "predicted = model.predict(v)[0]\n",
    "expected = df1.iloc[row]['TagCode']\n",
    "print(f\"Labels prédit et attendu pour ligne {row} : {predicted, expected}\")"
   ]
  },
  {
   "cell_type": "markdown",
   "metadata": {},
   "source": [
    "### Régression logistique"
   ]
  },
  {
   "cell_type": "code",
   "execution_count": 79,
   "metadata": {
    "ExecuteTime": {
     "end_time": "2019-09-10T22:49:39.533255Z",
     "start_time": "2019-09-10T22:49:35.469582Z"
    }
   },
   "outputs": [
    {
     "data": {
      "text/plain": [
       "LogisticRegression(C=1.0, class_weight=None, dual=False, fit_intercept=True,\n",
       "                   intercept_scaling=1, l1_ratio=None, max_iter=100,\n",
       "                   multi_class='multinomial', n_jobs=None, penalty='l2',\n",
       "                   random_state=None, solver='sag', tol=0.0001, verbose=0,\n",
       "                   warm_start=False)"
      ]
     },
     "execution_count": 79,
     "metadata": {},
     "output_type": "execute_result"
    }
   ],
   "source": [
    "model = sk.linear_model.LogisticRegression(multi_class='multinomial', \n",
    "                                           solver='sag')\n",
    "model.fit(X_tr, y_tr)"
   ]
  },
  {
   "cell_type": "code",
   "execution_count": 80,
   "metadata": {
    "ExecuteTime": {
     "end_time": "2019-09-10T22:49:42.497877Z",
     "start_time": "2019-09-10T22:49:42.325979Z"
    }
   },
   "outputs": [
    {
     "name": "stdout",
     "output_type": "stream",
     "text": [
      "*** Scores sur données d'entraînement\n",
      "Rappel = 0.70\n",
      "Précision = 0.70\n",
      "F1 = 0.70\n",
      "\n",
      "*** Scores sur données de test :\n",
      "Rappel = 0.58\n",
      "Précision = 0.58\n",
      "F1 = 0.58\n",
      "\n"
     ]
    }
   ],
   "source": [
    "print(\"*** Scores sur données d'entraînement\")\n",
    "y_pred = model.predict(X_tr)\n",
    "print_scores(model, X_tr, y_tr, y_pred)\n",
    "print(\"*** Scores sur données de test :\")\n",
    "y_pred = model.predict(X_t)\n",
    "print_scores(model, X_t, y_t, y_pred)"
   ]
  },
  {
   "cell_type": "code",
   "execution_count": 31,
   "metadata": {
    "ExecuteTime": {
     "end_time": "2019-09-10T22:02:36.628244Z",
     "start_time": "2019-09-10T22:02:36.584260Z"
    }
   },
   "outputs": [
    {
     "name": "stdout",
     "output_type": "stream",
     "text": [
      "                     precision    recall  f1-score   support\n",
      "\n",
      "amazon-web-services       0.66      0.47      0.55        45\n",
      "            android       0.68      0.66      0.67       292\n",
      "            angular       0.70      0.44      0.54       124\n",
      "       apache-spark       0.67      0.12      0.21        16\n",
      "             arrays       0.00      0.00      0.00        15\n",
      "            asp.net       0.00      0.00      0.00        20\n",
      "              azure       0.59      0.26      0.36        38\n",
      "               bash       1.00      0.10      0.18        31\n",
      "                  c       0.83      0.36      0.50        67\n",
      "                 c#       0.53      0.70      0.60       396\n",
      "                c++       0.84      0.72      0.78       144\n",
      "                css       0.33      0.05      0.09        55\n",
      "             django       0.38      0.13      0.19        47\n",
      "             docker       0.78      0.49      0.60        37\n",
      "      elasticsearch       0.71      0.25      0.37        20\n",
      "              excel       0.74      0.81      0.77       106\n",
      "           firebase       0.50      0.06      0.11        17\n",
      "            flutter       0.82      0.64      0.72        42\n",
      "                git       0.77      0.69      0.73        29\n",
      "                 go       0.67      0.10      0.17        20\n",
      " google-apps-script       1.00      0.10      0.17        21\n",
      "               html       0.52      0.42      0.47       118\n",
      "                ios       0.72      0.52      0.60        99\n",
      "               java       0.60      0.68      0.64       471\n",
      "         javascript       0.51      0.79      0.62       782\n",
      "            jenkins       0.69      0.43      0.53        21\n",
      "             jquery       0.67      0.08      0.14        50\n",
      "               json       0.40      0.11      0.17        36\n",
      "         kubernetes       0.83      0.59      0.69        17\n",
      "            laravel       0.67      0.05      0.09        41\n",
      "              linux       0.71      0.11      0.20        44\n",
      "            mongodb       0.45      0.21      0.29        24\n",
      "              mysql       0.65      0.36      0.46        90\n",
      "            node.js       0.57      0.28      0.38       117\n",
      "             oracle       1.00      0.16      0.27        19\n",
      "                php       0.62      0.68      0.65       291\n",
      "         postgresql       0.00      0.00      0.00        31\n",
      "         powershell       0.70      0.22      0.33        32\n",
      "             python       0.55      0.90      0.68       876\n",
      "         python-3.x       0.00      0.00      0.00       144\n",
      "                  r       0.78      0.70      0.74       202\n",
      "       react-native       0.55      0.40      0.46        30\n",
      "            reactjs       0.53      0.31      0.39        98\n",
      "              regex       0.00      0.00      0.00        21\n",
      "               ruby       0.50      0.11      0.18         9\n",
      "      ruby-on-rails       0.94      0.37      0.53        46\n",
      "              scala       0.67      0.22      0.33        18\n",
      "             spring       0.00      0.00      0.00        22\n",
      "        spring-boot       0.43      0.10      0.17        29\n",
      "                sql       0.49      0.64      0.56       130\n",
      "         sql-server       0.50      0.12      0.20        41\n",
      "              swift       0.56      0.21      0.30        48\n",
      "         typescript       0.90      0.28      0.43        32\n",
      "             vb.net       0.00      0.00      0.00        21\n",
      "                vba       0.00      0.00      0.00        16\n",
      "             vue.js       0.40      0.07      0.11        30\n",
      "            windows       0.50      0.06      0.11        17\n",
      "          wordpress       0.78      0.22      0.34        32\n",
      "\n",
      "           accuracy                           0.58      5727\n",
      "          macro avg       0.56      0.30      0.35      5727\n",
      "       weighted avg       0.57      0.58      0.54      5727\n",
      "\n"
     ]
    }
   ],
   "source": [
    "print(sk.metrics.classification_report(y_t, y_pred, \n",
    "                                       target_names=df1['Tag'].cat.categories))"
   ]
  },
  {
   "cell_type": "markdown",
   "metadata": {},
   "source": [
    "### SVM linéaire"
   ]
  },
  {
   "cell_type": "markdown",
   "metadata": {},
   "source": [
    "#### Optimisation des hyperparamètres"
   ]
  },
  {
   "cell_type": "code",
   "execution_count": 87,
   "metadata": {
    "ExecuteTime": {
     "end_time": "2019-09-11T10:21:04.692516Z",
     "start_time": "2019-09-11T10:19:15.303970Z"
    }
   },
   "outputs": [
    {
     "data": {
      "text/plain": [
       "{'C': 1, 'penalty': 'l1'}"
      ]
     },
     "execution_count": 87,
     "metadata": {},
     "output_type": "execute_result"
    }
   ],
   "source": [
    "base = sk.svm.LinearSVC(dual=False, random_state=SEED)\n",
    "grid = {'C': [0.1, 1, 10],\n",
    "        'penalty': ['l1', 'l2'],\n",
    "#        'max_iter': [1000, 2000, 5000]\n",
    "       }\n",
    "model = sk.model_selection.GridSearchCV(base,\n",
    "                                        param_grid=grid,\n",
    "                                        cv=5,\n",
    "                                        n_jobs=-1)\n",
    "model.fit(X_tr, y_tr)\n",
    "model.best_params_"
   ]
  },
  {
   "cell_type": "markdown",
   "metadata": {
    "ExecuteTime": {
     "end_time": "2019-09-10T22:50:44.372801Z",
     "start_time": "2019-09-10T22:50:44.368807Z"
    }
   },
   "source": [
    "#### Entraînement du modèle"
   ]
  },
  {
   "cell_type": "code",
   "execution_count": 81,
   "metadata": {
    "ExecuteTime": {
     "end_time": "2019-09-10T22:50:12.599828Z",
     "start_time": "2019-09-10T22:49:59.566342Z"
    }
   },
   "outputs": [
    {
     "data": {
      "text/plain": [
       "LinearSVC(C=1.0, class_weight=None, dual=False, fit_intercept=True,\n",
       "          intercept_scaling=1, loss='squared_hinge', max_iter=5000,\n",
       "          multi_class='ovr', penalty='l1', random_state=None, tol=0.0001,\n",
       "          verbose=0)"
      ]
     },
     "execution_count": 81,
     "metadata": {},
     "output_type": "execute_result"
    }
   ],
   "source": [
    "model = sk.svm.LinearSVC(C=1.0, penalty='l1', max_iter=1000, dual=False)\n",
    "model.fit(X_tr, y_tr)"
   ]
  },
  {
   "cell_type": "code",
   "execution_count": 83,
   "metadata": {
    "ExecuteTime": {
     "end_time": "2019-09-10T22:50:49.289166Z",
     "start_time": "2019-09-10T22:50:49.142253Z"
    }
   },
   "outputs": [
    {
     "name": "stdout",
     "output_type": "stream",
     "text": [
      "*** Scores sur données d'entraînement\n",
      "Rappel = 0.84\n",
      "Précision = 0.84\n",
      "F1 = 0.84\n",
      "\n",
      "*** Scores sur données de test :\n",
      "Rappel = 0.62\n",
      "Précision = 0.62\n",
      "F1 = 0.62\n",
      "\n"
     ]
    }
   ],
   "source": [
    "print(\"*** Scores sur données d'entraînement\")\n",
    "y_pred = model.predict(X_tr)\n",
    "print_scores(model, X_tr, y_tr, y_pred)\n",
    "print(\"*** Scores sur données de test :\")\n",
    "y_pred = model.predict(X_t)\n",
    "print_scores(model, X_t, y_t, y_pred)"
   ]
  },
  {
   "cell_type": "markdown",
   "metadata": {},
   "source": [
    "## Analyse non supervisée : LDA"
   ]
  },
  {
   "cell_type": "code",
   "execution_count": 32,
   "metadata": {
    "ExecuteTime": {
     "end_time": "2019-09-10T22:02:39.767051Z",
     "start_time": "2019-09-10T22:02:36.631229Z"
    },
    "scrolled": true
   },
   "outputs": [
    {
     "name": "stdout",
     "output_type": "stream",
     "text": [
      "Taille de la matrice de vocabulaire : (24442, 127979)\n"
     ]
    }
   ],
   "source": [
    "cv = CountVectorizer()\n",
    "body_words = cv.fit_transform(df['Text'])\n",
    "print(f\"Taille de la matrice de vocabulaire : {body_words.shape}\")"
   ]
  },
  {
   "cell_type": "markdown",
   "metadata": {},
   "source": [
    "Sans radicalisation : (24442, 361549)"
   ]
  },
  {
   "cell_type": "code",
   "execution_count": 33,
   "metadata": {
    "ExecuteTime": {
     "end_time": "2019-09-10T22:02:39.772049Z",
     "start_time": "2019-09-10T22:02:39.769049Z"
    }
   },
   "outputs": [],
   "source": [
    "# TODO : optimisation des hyperparamètres"
   ]
  },
  {
   "cell_type": "code",
   "execution_count": 34,
   "metadata": {
    "ExecuteTime": {
     "end_time": "2019-09-10T22:17:22.250000Z",
     "start_time": "2019-09-10T22:02:39.775048Z"
    }
   },
   "outputs": [
    {
     "data": {
      "text/plain": [
       "LatentDirichletAllocation(batch_size=128, doc_topic_prior=None,\n",
       "                          evaluate_every=-1, learning_decay=0.7,\n",
       "                          learning_method='online', learning_offset=10.0,\n",
       "                          max_doc_update_iter=100, max_iter=10,\n",
       "                          mean_change_tol=0.001, n_components=50, n_jobs=None,\n",
       "                          perp_tol=0.1, random_state=1911,\n",
       "                          topic_word_prior=None, total_samples=1000000.0,\n",
       "                          verbose=0)"
      ]
     },
     "execution_count": 34,
     "metadata": {},
     "output_type": "execute_result"
    }
   ],
   "source": [
    "lda = sk.decomposition.LatentDirichletAllocation(n_components=50, \n",
    "                                                 learning_method='online',\n",
    "                                                 random_state=SEED)\n",
    "lda.fit(body_words)\n",
    "lda"
   ]
  },
  {
   "cell_type": "code",
   "execution_count": 35,
   "metadata": {
    "ExecuteTime": {
     "end_time": "2019-09-10T22:17:23.114503Z",
     "start_time": "2019-09-10T22:17:22.251999Z"
    },
    "scrolled": false
   },
   "outputs": [
    {
     "name": "stdout",
     "output_type": "stream",
     "text": [
      "0 command bin pip tex ubuntu keycloak exit buildevents buildexceptionreporter wheel sessionid systemd sdist error pickerview\n",
      "1 value column option select character change number options list iterator name sudo integer array replace\n",
      "2 twitter mutate chr patient lag enc risk zoo elementname simpledateformat lastrow xmlelement men dompdf dbl\n",
      "3 file line python package lib users site module local program usr error txt year library\n",
      "4 location param queue parameter lead blog area dashboard mod graphql course clock apollo htaccess paypal\n",
      "5 logger companyid alloc tier assistant createddate lcd fixtures outfile sendmail itemscontrol binder postalcode responsedata viewstate\n",
      "6 err req catalina mongoose gems mainwindow qtwidgets qtcore passport gem linestyle addwidget bokeh pyqt sftp\n",
      "7 three transform game material scene texture unity assets vscode genre mesh coupon budget gameobject tinymce\n",
      "8 grid box dart idx postgres shop customers transparent colour jupyter notebook buf viewmodel tkinter qty\n",
      "9 google drive api integration pay apis fxml delivery angle spreadsheets developers lng mon degrees dsl\n",
      "10 cli contract uuid migrate rename migration constraints dog smart migrations puma myproject equalto slave animal\n",
      "11 app server error build service client https application config connect message version use host modules\n",
      "12 end range sheet cell sub dim excel start cells dll double application uint set integer\n",
      "13 int array size foo memory char cpp temp return compile bar buffer length float bytes\n",
      "14 model user field type create add update data object product tag attribute like use view\n",
      "15 android view layout com app rsoftware intent activity support parent fragment native androidx match implementation\n",
      "16 self print list def import return task str true docker init python func let point\n",
      "17 amplitude emp intptr mywebsite rain remark legal navlink spy reorder fuse pose myholder minheight mgr\n",
      "18 key sum ssl certificate kafka age sign partition jenkins signature average tls enum encrypt criteria\n",
      "19 java org jar gradle apache internal com spring release springframework lang execute xml bean boot\n",
      "20 password login version plugin project account auth admin redirect dependency groupid artifactid access maven scope\n",
      "21 text div button class style width color height click html page title span display content\n",
      "22 frame std video vector play mat audio include pos camera cout capture operator main endl\n",
      "23 context child card widget flutter children builder container widgets ver ide navigator gcp stripe charge\n",
      "24 var document script function num getelementbyid unit body length innerhtml else httpclient queryselector createelement appendchild\n",
      "25 netty eagleboard abstractchannelhandlercontext clazz wind packagereference invokechannelread googlemap channelread zindex jit nioeventloop daa datafield fuzzy\n",
      "26 element category exe categories brand slug videos latitude electron ffmpeg sdl illegal sos eng cypress\n",
      "27 dialog calendar hour datepicker abstract picker locale minute conditional dat human show complicate dateformat readable\n",
      "28 file work test use data like create time need would error one function find way\n",
      "29 iteration runners cancellationtoken fibonacci parity transformer china serialport invocation removeall hola egl vod colname winrt\n",
      "30 string public new class return null private void int static list override object true method\n",
      "31 log function console const item node return event object data require component angular array res\n",
      "32 pat ipv discovery mutex hes mediaplayer golang tablerow blacklist pusher chan syslog testenv tox acct\n",
      "33 table columns database mysql net dataframe server asp company pandas merge webpack team sha sql\n",
      "34 intermediate roman oes subclass prot urn edj scopes vid playlist boundingbox openid unresolved facet vcdp\n",
      "35 sim enoent companyname formgroup formcontrol pendingintent diagnostics rst querystring ebd echarts dma nature ticker inetaddress\n",
      "36 track analytics saw sequelize multiprocessing lname pygame collectionview userdata scrollbar exam perspective dob newvalue datatypes\n",
      "37 anonfun akka landscape anon targetframework lowest incident typesafe sigint savefile unsuccessful phpunit gdb nextbiomenum datasize\n",
      "38 request url json post http api response com page content www data error message username\n",
      "39 bay newmatrix let powerpoint ols flatlist netflix effective currentmatrix ymin mobx ymax tbs certification touchmatrix\n",
      "40 tab reset requirement roll encoder trans mqtt bigquery seat postcode warehouse debit perl snmp ccc\n",
      "41 row query select table php count result sql null group order echo number data join\n",
      "42 yield dummy sty mdi est asyncio mockito apart jsonarray assignable currentdate usepackage magna consequat filereader\n",
      "43 dataset iris gender algorithm buy male orient facility enumeration responsebody venue sns timeline kpi insurance\n",
      "44 temperature na oldmatrix song linechart wan overload pubsub water forecast getall edu artist viewporthandler plant\n",
      "45 set map domain plt software owner marker matplotlib fig office websocket wifi hist ldap broadcast\n",
      "46 system report store con namespace payment credit percentage reg helper inventory registry relation vehicle catalog\n",
      "47 image model train size data plot layer shape label chart img input feature png canvas\n",
      "48 date import react email state csv prop val time component export return day aws pdf\n",
      "49 class form div input type label col control upload media btn student file save filename\n"
     ]
    }
   ],
   "source": [
    "n_keywords = 15\n",
    "words = cv.get_feature_names()\n",
    "for i, topic in enumerate(lda.components_):\n",
    "    keywords = [words[i] for i in topic.argsort()[:-n_keywords-1:-1]]\n",
    "    print(i, \" \".join(keywords))\n",
    "# afficher des examples"
   ]
  },
  {
   "cell_type": "markdown",
   "metadata": {},
   "source": [
    "## Analyse par plongement lexical"
   ]
  },
  {
   "cell_type": "code",
   "execution_count": 36,
   "metadata": {
    "ExecuteTime": {
     "end_time": "2019-09-10T22:17:41.416493Z",
     "start_time": "2019-09-10T22:17:23.116502Z"
    }
   },
   "outputs": [],
   "source": [
    "model = spacy.load(\"en_core_web_md\")"
   ]
  },
  {
   "cell_type": "code",
   "execution_count": 37,
   "metadata": {
    "ExecuteTime": {
     "end_time": "2019-09-10T22:17:42.174506Z",
     "start_time": "2019-09-10T22:17:41.418475Z"
    }
   },
   "outputs": [
    {
     "data": {
      "text/plain": [
       "(spacy.tokens.doc.Doc, spacy.tokens.token.Token, numpy.ndarray)"
      ]
     },
     "execution_count": 37,
     "metadata": {},
     "output_type": "execute_result"
    }
   ],
   "source": [
    "doc = model(\"This is some text that I am processing with Spacy\")\n",
    "len(doc[3].vector)\n",
    "type(doc), type(doc[3]), type(doc[3].vector)"
   ]
  }
 ],
 "metadata": {
  "kernelspec": {
   "display_name": "Python [conda env:.conda-tagging_env]",
   "language": "python",
   "name": "conda-env-.conda-tagging_env-py"
  },
  "language_info": {
   "codemirror_mode": {
    "name": "ipython",
    "version": 3
   },
   "file_extension": ".py",
   "mimetype": "text/x-python",
   "name": "python",
   "nbconvert_exporter": "python",
   "pygments_lexer": "ipython3",
   "version": "3.7.4"
  },
  "toc": {
   "base_numbering": 1,
   "nav_menu": {},
   "number_sections": true,
   "sideBar": true,
   "skip_h1_title": false,
   "title_cell": "Table of Contents",
   "title_sidebar": "Contents",
   "toc_cell": false,
   "toc_position": {
    "height": "calc(100% - 180px)",
    "left": "10px",
    "top": "150px",
    "width": "227px"
   },
   "toc_section_display": true,
   "toc_window_display": true
  },
  "varInspector": {
   "cols": {
    "lenName": 16,
    "lenType": 16,
    "lenVar": 40
   },
   "kernels_config": {
    "python": {
     "delete_cmd_postfix": "",
     "delete_cmd_prefix": "del ",
     "library": "var_list.py",
     "varRefreshCmd": "print(var_dic_list())"
    },
    "r": {
     "delete_cmd_postfix": ") ",
     "delete_cmd_prefix": "rm(",
     "library": "var_list.r",
     "varRefreshCmd": "cat(var_dic_list()) "
    }
   },
   "position": {
    "height": "748.85px",
    "left": "1547px",
    "right": "20px",
    "top": "120px",
    "width": "353px"
   },
   "types_to_exclude": [
    "module",
    "function",
    "builtin_function_or_method",
    "instance",
    "_Feature"
   ],
   "window_display": false
  }
 },
 "nbformat": 4,
 "nbformat_minor": 2
}
