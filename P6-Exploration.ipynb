{
 "cells": [
  {
   "cell_type": "markdown",
   "metadata": {},
   "source": [
    "# Catégorisation automatique de questions - Exploration"
   ]
  },
  {
   "cell_type": "markdown",
   "metadata": {},
   "source": [
    "## Initialisation"
   ]
  },
  {
   "cell_type": "code",
   "execution_count": 1,
   "metadata": {
    "ExecuteTime": {
     "end_time": "2019-09-27T20:53:07.435097Z",
     "start_time": "2019-09-27T20:53:04.697254Z"
    }
   },
   "outputs": [
    {
     "name": "stderr",
     "output_type": "stream",
     "text": [
      "C:\\Users\\regclem\\.conda\\envs\\tagging_env\\lib\\site-packages\\thinc\\neural\\train.py:3: DeprecationWarning: Using or importing the ABCs from 'collections' instead of from 'collections.abc' is deprecated, and in 3.8 it will stop working\n",
      "  from .optimizers import Adam, SGD, linear_decay\n",
      "C:\\Users\\regclem\\.conda\\envs\\tagging_env\\lib\\site-packages\\thinc\\check.py:1: DeprecationWarning: Using or importing the ABCs from 'collections' instead of from 'collections.abc' is deprecated, and in 3.8 it will stop working\n",
      "  from collections import defaultdict, Sequence, Sized, Iterable, Callable\n"
     ]
    }
   ],
   "source": [
    "# Standard libraries\n",
    "import itertools\n",
    "import os\n",
    "import re\n",
    "import sys\n",
    "\n",
    "# External libraries\n",
    "import bs4\n",
    "import matplotlib \n",
    "import matplotlib.pyplot as plt\n",
    "import nltk\n",
    "import nltk.stem.porter\n",
    "import numpy as np\n",
    "import pandas as pd\n",
    "import pickle\n",
    "import pyLDAvis\n",
    "import pyLDAvis.sklearn\n",
    "import scipy\n",
    "import seaborn as sns\n",
    "import spacy\n",
    "import sklearn as sk\n",
    "import sklearn.decomposition\n",
    "from sklearn.feature_extraction.text import CountVectorizer\n",
    "from sklearn.feature_extraction.text import TfidfVectorizer\n",
    "import sklearn.feature_selection\n",
    "import sklearn.model_selection\n",
    "import sklearn.multiclass\n",
    "import sklearn.multioutput\n",
    "import sklearn.naive_bayes\n",
    "import sklearn.svm\n",
    "import string\n",
    "\n",
    "FILENAME_1 = \"P6 SO latest 50k.csv\"\n",
    "FILENAME_2 = \"P6 SO penultimate 50k.csv\"\n",
    "\n",
    "DATA_FILE = \"data/P6 all labels.dat\"\n",
    "DATA_FILE_SINGLE_LABEL = \"data/P6 single label.dat\"\n",
    "\n",
    "CREATE_DATA_FILES = True\n",
    "\n",
    "# Effacer les colonnes inutilisées pour libérer de la mémoire ?\n",
    "DEL_UNUSED_COLS = True\n",
    "\n",
    "# Ne pas exécuter les sections à temps de calcul élever\n",
    "CALC_SLOW_SECTIONS = False\n",
    "\n",
    "SEED = 1911"
   ]
  },
  {
   "cell_type": "code",
   "execution_count": 2,
   "metadata": {
    "ExecuteTime": {
     "end_time": "2019-09-27T20:53:09.529432Z",
     "start_time": "2019-09-27T20:53:07.435097Z"
    }
   },
   "outputs": [
    {
     "name": "stdout",
     "output_type": "stream",
     "text": [
      "Taille des données : (99460, 5)\n"
     ]
    },
    {
     "data": {
      "text/html": [
       "<div>\n",
       "<style scoped>\n",
       "    .dataframe tbody tr th:only-of-type {\n",
       "        vertical-align: middle;\n",
       "    }\n",
       "\n",
       "    .dataframe tbody tr th {\n",
       "        vertical-align: top;\n",
       "    }\n",
       "\n",
       "    .dataframe thead th {\n",
       "        text-align: right;\n",
       "    }\n",
       "</style>\n",
       "<table border=\"1\" class=\"dataframe\">\n",
       "  <thead>\n",
       "    <tr style=\"text-align: right;\">\n",
       "      <th></th>\n",
       "      <th>Id</th>\n",
       "      <th>Score</th>\n",
       "      <th>Body</th>\n",
       "      <th>Title</th>\n",
       "      <th>Tags</th>\n",
       "    </tr>\n",
       "  </thead>\n",
       "  <tbody>\n",
       "    <tr>\n",
       "      <td>0</td>\n",
       "      <td>57560001</td>\n",
       "      <td>0</td>\n",
       "      <td>&lt;p&gt;found the answer!&lt;/p&gt;\\n\\n&lt;pre&gt;&lt;code&gt;rdd = s...</td>\n",
       "      <td>NaN</td>\n",
       "      <td>NaN</td>\n",
       "    </tr>\n",
       "    <tr>\n",
       "      <td>1</td>\n",
       "      <td>57560002</td>\n",
       "      <td>1</td>\n",
       "      <td>&lt;p&gt;I am trying to get the S3 Bucket size in aw...</td>\n",
       "      <td>Python Script to get the size of the S3 Bucket...</td>\n",
       "      <td>&lt;python&gt;&lt;amazon-web-services&gt;&lt;amazon-s3&gt;&lt;boto3...</td>\n",
       "    </tr>\n",
       "    <tr>\n",
       "      <td>2</td>\n",
       "      <td>57560003</td>\n",
       "      <td>0</td>\n",
       "      <td>&lt;p&gt;I am trying to set up the virtual environme...</td>\n",
       "      <td>The command \".\\Scripts\\activate\" is not working</td>\n",
       "      <td>&lt;python&gt;</td>\n",
       "    </tr>\n",
       "    <tr>\n",
       "      <td>3</td>\n",
       "      <td>57560005</td>\n",
       "      <td>0</td>\n",
       "      <td>&lt;p&gt;As we all know, we can automagicaly generat...</td>\n",
       "      <td>Is Java annotation processor capable of removi...</td>\n",
       "      <td>&lt;java&gt;&lt;annotations&gt;&lt;conditional-compilation&gt;</td>\n",
       "    </tr>\n",
       "    <tr>\n",
       "      <td>4</td>\n",
       "      <td>57560006</td>\n",
       "      <td>0</td>\n",
       "      <td>&lt;p&gt;The GoDaddy package my friend got doesn't h...</td>\n",
       "      <td>Multer-sftp won't upload over port 21</td>\n",
       "      <td>&lt;node.js&gt;&lt;upload&gt;&lt;sftp&gt;&lt;multer&gt;</td>\n",
       "    </tr>\n",
       "    <tr>\n",
       "      <td>5</td>\n",
       "      <td>57560007</td>\n",
       "      <td>0</td>\n",
       "      <td>&lt;p&gt;Maybe it works when you initialize the OnCl...</td>\n",
       "      <td>NaN</td>\n",
       "      <td>NaN</td>\n",
       "    </tr>\n",
       "    <tr>\n",
       "      <td>6</td>\n",
       "      <td>57560008</td>\n",
       "      <td>0</td>\n",
       "      <td>&lt;p&gt;I was coding these past two weeks and it wa...</td>\n",
       "      <td>Android studio all xml layout broke and now co...</td>\n",
       "      <td>&lt;android&gt;&lt;android-layout&gt;</td>\n",
       "    </tr>\n",
       "    <tr>\n",
       "      <td>7</td>\n",
       "      <td>57560009</td>\n",
       "      <td>1</td>\n",
       "      <td>&lt;p&gt;According to you document sample, &lt;code&gt;con...</td>\n",
       "      <td>NaN</td>\n",
       "      <td>NaN</td>\n",
       "    </tr>\n",
       "    <tr>\n",
       "      <td>8</td>\n",
       "      <td>57560010</td>\n",
       "      <td>3</td>\n",
       "      <td>&lt;p&gt;Create a lookup table:&lt;/p&gt;\\n\\n&lt;p&gt;&lt;a href=\"h...</td>\n",
       "      <td>NaN</td>\n",
       "      <td>NaN</td>\n",
       "    </tr>\n",
       "    <tr>\n",
       "      <td>9</td>\n",
       "      <td>57560012</td>\n",
       "      <td>-1</td>\n",
       "      <td>&lt;p&gt;I have a table I queried from SQL:&lt;/p&gt;\\n\\n&lt;...</td>\n",
       "      <td>Pandas - transform SQL style dataframe to columns</td>\n",
       "      <td>&lt;pandas&gt;</td>\n",
       "    </tr>\n",
       "  </tbody>\n",
       "</table>\n",
       "</div>"
      ],
      "text/plain": [
       "         Id  Score                                               Body  \\\n",
       "0  57560001      0  <p>found the answer!</p>\\n\\n<pre><code>rdd = s...   \n",
       "1  57560002      1  <p>I am trying to get the S3 Bucket size in aw...   \n",
       "2  57560003      0  <p>I am trying to set up the virtual environme...   \n",
       "3  57560005      0  <p>As we all know, we can automagicaly generat...   \n",
       "4  57560006      0  <p>The GoDaddy package my friend got doesn't h...   \n",
       "5  57560007      0  <p>Maybe it works when you initialize the OnCl...   \n",
       "6  57560008      0  <p>I was coding these past two weeks and it wa...   \n",
       "7  57560009      1  <p>According to you document sample, <code>con...   \n",
       "8  57560010      3  <p>Create a lookup table:</p>\\n\\n<p><a href=\"h...   \n",
       "9  57560012     -1  <p>I have a table I queried from SQL:</p>\\n\\n<...   \n",
       "\n",
       "                                               Title  \\\n",
       "0                                                NaN   \n",
       "1  Python Script to get the size of the S3 Bucket...   \n",
       "2    The command \".\\Scripts\\activate\" is not working   \n",
       "3  Is Java annotation processor capable of removi...   \n",
       "4              Multer-sftp won't upload over port 21   \n",
       "5                                                NaN   \n",
       "6  Android studio all xml layout broke and now co...   \n",
       "7                                                NaN   \n",
       "8                                                NaN   \n",
       "9  Pandas - transform SQL style dataframe to columns   \n",
       "\n",
       "                                                Tags  \n",
       "0                                                NaN  \n",
       "1  <python><amazon-web-services><amazon-s3><boto3...  \n",
       "2                                           <python>  \n",
       "3       <java><annotations><conditional-compilation>  \n",
       "4                    <node.js><upload><sftp><multer>  \n",
       "5                                                NaN  \n",
       "6                          <android><android-layout>  \n",
       "7                                                NaN  \n",
       "8                                                NaN  \n",
       "9                                           <pandas>  "
      ]
     },
     "execution_count": 2,
     "metadata": {},
     "output_type": "execute_result"
    }
   ],
   "source": [
    "col_names = ['Id', 'Score', 'Body', 'Title', 'Tags']\n",
    "files = (FILENAME_1, FILENAME_2)\n",
    "df = pd.concat(pd.read_csv(f, usecols=col_names) for f in files)\n",
    "print(f\"Taille des données : {df.shape}\")\n",
    "df.head(10)"
   ]
  },
  {
   "cell_type": "code",
   "execution_count": 3,
   "metadata": {
    "ExecuteTime": {
     "end_time": "2019-09-27T20:53:09.582825Z",
     "start_time": "2019-09-27T20:53:09.529432Z"
    }
   },
   "outputs": [
    {
     "name": "stdout",
     "output_type": "stream",
     "text": [
      "Nombre de valeurs manquantes par colonne :\n"
     ]
    },
    {
     "data": {
      "text/plain": [
       "Id           0\n",
       "Score        0\n",
       "Body        49\n",
       "Title    52054\n",
       "Tags     52054\n",
       "dtype: int64"
      ]
     },
     "execution_count": 3,
     "metadata": {},
     "output_type": "execute_result"
    }
   ],
   "source": [
    "print(\"Nombre de valeurs manquantes par colonne :\")\n",
    "df.isna().sum(axis=0)"
   ]
  },
  {
   "cell_type": "code",
   "execution_count": 4,
   "metadata": {
    "ExecuteTime": {
     "end_time": "2019-09-27T20:53:09.667456Z",
     "start_time": "2019-09-27T20:53:09.582825Z"
    }
   },
   "outputs": [
    {
     "name": "stdout",
     "output_type": "stream",
     "text": [
      "Suppression de 52054 lignes.\n",
      "Nouvelle taille des données : (47406, 5)\n"
     ]
    }
   ],
   "source": [
    "mask = df['Tags'].isna()\n",
    "print(f\"Suppression de {sum(mask)} lignes.\")\n",
    "df = df[~mask]\n",
    "print(f\"Nouvelle taille des données : {df.shape}\")"
   ]
  },
  {
   "cell_type": "markdown",
   "metadata": {},
   "source": [
    "## Traitement des étiquettes"
   ]
  },
  {
   "cell_type": "code",
   "execution_count": 5,
   "metadata": {
    "ExecuteTime": {
     "end_time": "2019-09-27T20:53:09.752119Z",
     "start_time": "2019-09-27T20:53:09.667456Z"
    }
   },
   "outputs": [
    {
     "data": {
      "text/html": [
       "<div>\n",
       "<style scoped>\n",
       "    .dataframe tbody tr th:only-of-type {\n",
       "        vertical-align: middle;\n",
       "    }\n",
       "\n",
       "    .dataframe tbody tr th {\n",
       "        vertical-align: top;\n",
       "    }\n",
       "\n",
       "    .dataframe thead th {\n",
       "        text-align: right;\n",
       "    }\n",
       "</style>\n",
       "<table border=\"1\" class=\"dataframe\">\n",
       "  <thead>\n",
       "    <tr style=\"text-align: right;\">\n",
       "      <th></th>\n",
       "      <th>Tags</th>\n",
       "      <th>OriginalTags</th>\n",
       "    </tr>\n",
       "  </thead>\n",
       "  <tbody>\n",
       "    <tr>\n",
       "      <td>1</td>\n",
       "      <td>&lt;python&gt;&lt;amazon-web-services&gt;&lt;amazon-s3&gt;&lt;boto3...</td>\n",
       "      <td>&lt;python&gt;&lt;amazon-web-services&gt;&lt;amazon-s3&gt;&lt;boto3...</td>\n",
       "    </tr>\n",
       "    <tr>\n",
       "      <td>2</td>\n",
       "      <td>&lt;python&gt;</td>\n",
       "      <td>&lt;python&gt;</td>\n",
       "    </tr>\n",
       "    <tr>\n",
       "      <td>3</td>\n",
       "      <td>&lt;java&gt;&lt;annotations&gt;&lt;conditional-compilation&gt;</td>\n",
       "      <td>&lt;java&gt;&lt;annotations&gt;&lt;conditional-compilation&gt;</td>\n",
       "    </tr>\n",
       "    <tr>\n",
       "      <td>4</td>\n",
       "      <td>&lt;node.js&gt;&lt;upload&gt;&lt;sftp&gt;&lt;multer&gt;</td>\n",
       "      <td>&lt;node.js&gt;&lt;upload&gt;&lt;sftp&gt;&lt;multer&gt;</td>\n",
       "    </tr>\n",
       "    <tr>\n",
       "      <td>6</td>\n",
       "      <td>&lt;android&gt;&lt;android-layout&gt;</td>\n",
       "      <td>&lt;android&gt;&lt;android-layout&gt;</td>\n",
       "    </tr>\n",
       "  </tbody>\n",
       "</table>\n",
       "</div>"
      ],
      "text/plain": [
       "                                                Tags  \\\n",
       "1  <python><amazon-web-services><amazon-s3><boto3...   \n",
       "2                                           <python>   \n",
       "3       <java><annotations><conditional-compilation>   \n",
       "4                    <node.js><upload><sftp><multer>   \n",
       "6                          <android><android-layout>   \n",
       "\n",
       "                                        OriginalTags  \n",
       "1  <python><amazon-web-services><amazon-s3><boto3...  \n",
       "2                                           <python>  \n",
       "3       <java><annotations><conditional-compilation>  \n",
       "4                    <node.js><upload><sftp><multer>  \n",
       "6                          <android><android-layout>  "
      ]
     },
     "execution_count": 5,
     "metadata": {},
     "output_type": "execute_result"
    }
   ],
   "source": [
    "df['OriginalTags'] = df['Tags'].copy()\n",
    "df[['Tags', 'OriginalTags']].head()"
   ]
  },
  {
   "cell_type": "code",
   "execution_count": 6,
   "metadata": {
    "ExecuteTime": {
     "end_time": "2019-09-27T20:53:09.852445Z",
     "start_time": "2019-09-27T20:53:09.752119Z"
    }
   },
   "outputs": [
    {
     "data": {
      "text/plain": [
       "array(['<python><amazon-web-services><amazon-s3><boto3><bucket>',\n",
       "       '<python>', '<java><annotations><conditional-compilation>',\n",
       "       '<node.js><upload><sftp><multer>', '<android><android-layout>',\n",
       "       '<pandas>', '<python><bash><git><anaconda><conda>',\n",
       "       '<api><filenet-p8><filenet-process-engine>', '<vue.js><axios>',\n",
       "       '<flutter><dart><flutter-layout>',\n",
       "       '<c++><matrix><eigen><bazel><eigen3>',\n",
       "       '<python><google-cloud-dataflow><apache-beam>',\n",
       "       '<python><python-3.x><types><typehints>', '<facebook><fb-graph>',\n",
       "       '<flutter><dart>', '<javascript><css><chart.js>',\n",
       "       '<javascript><arrays><class>', '<c++><visual-studio><opencv>',\n",
       "       '<ruby-on-rails><ruby><rubygems>', '<docusignapi>',\n",
       "       '<python><opencv><pycharm><lbph-algorithm><facial-identification>',\n",
       "       '<python><excel><web-scraping>',\n",
       "       '<user-interface><command-line-interface><parquet>',\n",
       "       '<time><vuejs2>', '<java><android><sip>',\n",
       "       '<java><mysql><text-files><filewriter>', '<lua><iterator>',\n",
       "       '<css><safari><border><radius>', '<vbscript>',\n",
       "       '<class><datatables><yadcf>', '<c++><xcode><opengl>', '<django>',\n",
       "       '<ethereum><truffle><ganache>', '<c#><unity3d>',\n",
       "       '<assembly><arm><stm32><machine-code><instruction-set>',\n",
       "       '<python><postgresql>',\n",
       "       '<javascript><reactjs><forms><formik><yup>', '<c#><asp.net-core>',\n",
       "       '<java><spring><spring-boot><spring-mvc><url>',\n",
       "       '<typescript><protractor><es6-promise><exceljs>',\n",
       "       '<java><linux><maven><intellij-idea><gauge>', '<javascript>',\n",
       "       '<time-complexity><big-o><complexity-theory>',\n",
       "       '<laravel><image><form-data>',\n",
       "       '<python><ubuntu><pip><python-venv>',\n",
       "       '<android><content-management-system>',\n",
       "       '<php><url><redirect><opencart>',\n",
       "       '<firebase><firebase-realtime-database><google-cloud-functions>',\n",
       "       '<selenium-webdriver><appium><appium-android>',\n",
       "       '<three.js><textures><texture-mapping>'], dtype=object)"
      ]
     },
     "execution_count": 6,
     "metadata": {},
     "output_type": "execute_result"
    }
   ],
   "source": [
    "df['OriginalTags'].iloc[0:50].values"
   ]
  },
  {
   "cell_type": "markdown",
   "metadata": {},
   "source": [
    "### Réduction du nombre d'étiquettes"
   ]
  },
  {
   "cell_type": "code",
   "execution_count": 7,
   "metadata": {
    "ExecuteTime": {
     "end_time": "2019-09-27T20:53:09.930544Z",
     "start_time": "2019-09-27T20:53:09.852445Z"
    }
   },
   "outputs": [],
   "source": [
    "PREFIXES = ['.net', 'adfs', 'ag-grid', 'ajax', 'alexa', 'amazon', \n",
    "            'android', 'angular', 'ansible', \n",
    "            'apache', 'apex', 'apollo', 'arduino',\n",
    "            r'asp\\.net', 'autodesk',\n",
    "            'aws', 'azure', \n",
    "            'biztalk', 'bluetooth', 'bootstrap',\n",
    "            'browser', r'c\\+\\+', 'c#', 'cakephp', 'cassandra',\n",
    "            'cocos2d', 'chrome', 'ckeditor', 'cloudera', \n",
    "            'cocoa', 'coldfusion',\n",
    "            'cordova', 'cortex',\n",
    "            'crystal-reports',\n",
    "            'css', 'database', 'delphi', 'directx', 'django', \n",
    "            'docker', 'dotnet', 'ecma', 'ef-', 'elasticsearch', \n",
    "            'email', 'ember', 'encryption',\n",
    "            'excel', 'extjs', 'f#', 'facebook', \n",
    "            'firebase', 'firefox', 'flask', 'flutter', 'gcc', 'github', \n",
    "            'gitlab', 'git-', 'gmail', 'google-api', 'google-app', \n",
    "            'google-chrome', 'google-cloud', 'google-maps', 'google-play',\n",
    "            'google-sheets', 'grails', 'hibernate',\n",
    "            'html', 'http', 'hyperledger', 'iis', 'intellij',\n",
    "            'ios', 'iphone', 'jason', 'java.', 'java-', 'javascript', \n",
    "            'kendo', 'kotlin', 'kubernetes', 'laravel',\n",
    "            'matlab', 'maven', 'mongo', 'mouse', 'ms-access',\n",
    "            'mysql', 'npm',\n",
    "            'oauth', 'oracle',\n",
    "            'outlook', 'pandas', 'postgresql', 'python', 'react', \n",
    "            'scala', 'scikit', 'scipy', 'scrapy', 'selenium', 'serverless',\n",
    "            'sharepoint', 'spring', 'sql-server', 'sqlite', \n",
    "            'ssh', 'swift', 'tensorflow', 'tfs',\n",
    "            'ubuntu', 'unity', 'unix', 'vb.net',\n",
    "            'visual-studio', 'vue', \n",
    "            'windows-10', 'windows-server', 'wordpress',\n",
    "            'xamarin', 'xml', 'xslt', 'youtube']\n",
    "\n",
    "DEL_TAGS = ['']"
   ]
  },
  {
   "cell_type": "code",
   "execution_count": 8,
   "metadata": {
    "ExecuteTime": {
     "end_time": "2019-09-27T20:53:10.015235Z",
     "start_time": "2019-09-27T20:53:09.930544Z"
    }
   },
   "outputs": [],
   "source": [
    "def filter_and_tokenize_tags(t):\n",
    "    for prefix in PREFIXES:\n",
    "        t = re.sub(r'\\<' + prefix + r'[\\w\\d\\.-]*\\>', r'<' + prefix + r'>', t)\n",
    "    # Pour distinguer 'git' de 'github', 'gitlab', etc\n",
    "    t = t.replace('git-', 'git') \n",
    "    # Idem pour 'java'\n",
    "    t = t.replace('java.', 'java') \n",
    "    t = t.replace('java-', 'java') \n",
    "    # Purement esthétique...\n",
    "    t = t.replace(r'c\\+\\+', 'c++') \n",
    "    t = t.replace(r'asp\\.net', 'asp.net')\n",
    "    return set(re.findall(r'\\<(.*?)\\>', t))"
   ]
  },
  {
   "cell_type": "code",
   "execution_count": 9,
   "metadata": {
    "ExecuteTime": {
     "end_time": "2019-09-27T20:53:18.570360Z",
     "start_time": "2019-09-27T20:53:10.015235Z"
    }
   },
   "outputs": [
    {
     "data": {
      "text/html": [
       "<div>\n",
       "<style scoped>\n",
       "    .dataframe tbody tr th:only-of-type {\n",
       "        vertical-align: middle;\n",
       "    }\n",
       "\n",
       "    .dataframe tbody tr th {\n",
       "        vertical-align: top;\n",
       "    }\n",
       "\n",
       "    .dataframe thead th {\n",
       "        text-align: right;\n",
       "    }\n",
       "</style>\n",
       "<table border=\"1\" class=\"dataframe\">\n",
       "  <thead>\n",
       "    <tr style=\"text-align: right;\">\n",
       "      <th></th>\n",
       "      <th>OriginalTags</th>\n",
       "      <th>Tags</th>\n",
       "    </tr>\n",
       "  </thead>\n",
       "  <tbody>\n",
       "    <tr>\n",
       "      <td>1</td>\n",
       "      <td>&lt;python&gt;&lt;amazon-web-services&gt;&lt;amazon-s3&gt;&lt;boto3...</td>\n",
       "      <td>{boto3, bucket, amazon, python}</td>\n",
       "    </tr>\n",
       "    <tr>\n",
       "      <td>2</td>\n",
       "      <td>&lt;python&gt;</td>\n",
       "      <td>{python}</td>\n",
       "    </tr>\n",
       "    <tr>\n",
       "      <td>3</td>\n",
       "      <td>&lt;java&gt;&lt;annotations&gt;&lt;conditional-compilation&gt;</td>\n",
       "      <td>{annotations, conditional-compilation, java}</td>\n",
       "    </tr>\n",
       "    <tr>\n",
       "      <td>4</td>\n",
       "      <td>&lt;node.js&gt;&lt;upload&gt;&lt;sftp&gt;&lt;multer&gt;</td>\n",
       "      <td>{multer, node.js, upload, sftp}</td>\n",
       "    </tr>\n",
       "    <tr>\n",
       "      <td>6</td>\n",
       "      <td>&lt;android&gt;&lt;android-layout&gt;</td>\n",
       "      <td>{android}</td>\n",
       "    </tr>\n",
       "    <tr>\n",
       "      <td>...</td>\n",
       "      <td>...</td>\n",
       "      <td>...</td>\n",
       "    </tr>\n",
       "    <tr>\n",
       "      <td>49449</td>\n",
       "      <td>&lt;c#&gt;&lt;uwp&gt;&lt;unc&gt;&lt;xbox&gt;</td>\n",
       "      <td>{uwp, c#, unc, xbox}</td>\n",
       "    </tr>\n",
       "    <tr>\n",
       "      <td>49450</td>\n",
       "      <td>&lt;python&gt;&lt;excel&gt;&lt;pandas&gt;&lt;pyomo&gt;</td>\n",
       "      <td>{excel, pandas, pyomo, python}</td>\n",
       "    </tr>\n",
       "    <tr>\n",
       "      <td>49451</td>\n",
       "      <td>&lt;gams-math&gt;</td>\n",
       "      <td>{gams-math}</td>\n",
       "    </tr>\n",
       "    <tr>\n",
       "      <td>49455</td>\n",
       "      <td>&lt;excel&gt;&lt;vba&gt;</td>\n",
       "      <td>{excel, vba}</td>\n",
       "    </tr>\n",
       "    <tr>\n",
       "      <td>49457</td>\n",
       "      <td>&lt;azure&gt;&lt;azure-active-directory&gt;&lt;azure-pipeline...</td>\n",
       "      <td>{azure, dacpac, sql-server}</td>\n",
       "    </tr>\n",
       "  </tbody>\n",
       "</table>\n",
       "<p>47406 rows × 2 columns</p>\n",
       "</div>"
      ],
      "text/plain": [
       "                                            OriginalTags  \\\n",
       "1      <python><amazon-web-services><amazon-s3><boto3...   \n",
       "2                                               <python>   \n",
       "3           <java><annotations><conditional-compilation>   \n",
       "4                        <node.js><upload><sftp><multer>   \n",
       "6                              <android><android-layout>   \n",
       "...                                                  ...   \n",
       "49449                               <c#><uwp><unc><xbox>   \n",
       "49450                     <python><excel><pandas><pyomo>   \n",
       "49451                                        <gams-math>   \n",
       "49455                                       <excel><vba>   \n",
       "49457  <azure><azure-active-directory><azure-pipeline...   \n",
       "\n",
       "                                               Tags  \n",
       "1                   {boto3, bucket, amazon, python}  \n",
       "2                                          {python}  \n",
       "3      {annotations, conditional-compilation, java}  \n",
       "4                   {multer, node.js, upload, sftp}  \n",
       "6                                         {android}  \n",
       "...                                             ...  \n",
       "49449                          {uwp, c#, unc, xbox}  \n",
       "49450                {excel, pandas, pyomo, python}  \n",
       "49451                                   {gams-math}  \n",
       "49455                                  {excel, vba}  \n",
       "49457                   {azure, dacpac, sql-server}  \n",
       "\n",
       "[47406 rows x 2 columns]"
      ]
     },
     "execution_count": 9,
     "metadata": {},
     "output_type": "execute_result"
    }
   ],
   "source": [
    "df['Tags'] = df['OriginalTags'].apply(filter_and_tokenize_tags)\n",
    "df[['OriginalTags', 'Tags']]"
   ]
  },
  {
   "cell_type": "code",
   "execution_count": 10,
   "metadata": {
    "ExecuteTime": {
     "end_time": "2019-09-27T20:53:18.987090Z",
     "start_time": "2019-09-27T20:53:18.570360Z"
    }
   },
   "outputs": [
    {
     "name": "stdout",
     "output_type": "stream",
     "text": [
      "*** Avant simplification\n",
      "Nombre total d'étiquettes attribuées : 135343\n",
      "Nombre d'étiquettes distinctes : 13040\n"
     ]
    }
   ],
   "source": [
    "print(\"*** Avant simplification\")\n",
    "tokenizer = lambda s:set(re.findall(r'\\<(.*?)\\>', s))\n",
    "cv = CountVectorizer(analyzer='word', tokenizer=tokenizer)\n",
    "tags = cv.fit_transform(df['OriginalTags'])\n",
    "print(f\"Nombre total d'étiquettes attribuées : {tags.sum()}\")\n",
    "print(f\"Nombre d'étiquettes distinctes : {len(cv.get_feature_names())}\")"
   ]
  },
  {
   "cell_type": "code",
   "execution_count": 11,
   "metadata": {
    "ExecuteTime": {
     "end_time": "2019-09-27T20:53:19.218898Z",
     "start_time": "2019-09-27T20:53:18.987090Z"
    },
    "scrolled": true
   },
   "outputs": [
    {
     "name": "stdout",
     "output_type": "stream",
     "text": [
      "*** Après simplification\n",
      "Nombre total d'étiquettes attribuées : 125048\n",
      "Nombre d'étiquettes distinctes : 10901\n"
     ]
    }
   ],
   "source": [
    "def dummy(s):\n",
    "    return s\n",
    "\n",
    "print(\"*** Après simplification\")\n",
    "cv = CountVectorizer(analyzer='word', preprocessor=dummy, tokenizer=dummy)\n",
    "tags = cv.fit_transform(df['Tags'])\n",
    "print(f\"Nombre total d'étiquettes attribuées : {tags.sum()}\")\n",
    "print(f\"Nombre d'étiquettes distinctes : {len(cv.get_feature_names())}\")"
   ]
  },
  {
   "cell_type": "code",
   "execution_count": 12,
   "metadata": {
    "ExecuteTime": {
     "end_time": "2019-09-27T20:53:19.303597Z",
     "start_time": "2019-09-27T20:53:19.218898Z"
    }
   },
   "outputs": [
    {
     "name": "stdout",
     "output_type": "stream",
     "text": [
      "Liste des 10901 étiquettes après simplification :\n"
     ]
    },
    {
     "data": {
      "text/plain": [
       "'.app .htaccess .mov .net .so 2d 2d-vector 2sxc 32-bit 32bit-64bit 32feet 360-degrees 360-virtual-reality 3d 3d-model 3d-secure 3dsmax 3dtouch 3g 3nf 3scale 4d 4gl 64-bit 68hc12 7zip 8-puzzle 80286 8051 a-star a2dp aabb aapt aar abac abap abaqus abbyy abc abp absolute absolute-path absolutelayout abstract abstract-base-class abstract-class abstract-data-type abstract-syntax-tree abstraction accelerometer acceptance-testing access access-denied access-modifiers access-rights access-token access-vba access-violation accessibility accessibilityservice accord.net accordion account account-kit accounting accumulate ace-editor aceoledb acfpro acl acm-icpc acr122 acra acrobat acrofields action action-filter actioncable actioncontroller actionlink actionmailer actions-on-google actionscript-3 actiontext actionviewhelper activation-function activator active-directory active-model-serializers active-window activeadmin activecampaign activemq activemq-artemis activerecord activerecord-import activesupport activesync activex activiti activity-finish activity-indicator activity-lifecycle actix-web actor acts-as-tree acumatica acumatica-kb acumos ada adafruit adal.js adapter adaptive-cards adaptive-threshold adb adc add add-in add-on addchild addeventlistener addition addr2line address-sanitizer addressing-mode adfs adjacency-matrix adjustpan adldap admin admin-on-rest admin-sdk adminer administration administrator admob admob-rewardedvideoad ado.net adobe adobe-analytics adobe-animate adobe-brackets adobe-indesign adobe-premiere adodb adonis.js adoptopenjdk ads adsense adt advanced-custom-fields advanced-installer advanced-rest-client advanced-search adxstudio-portals adyen aem aem-6 aerospike aes affdex-sdk affiliate affinetransform aforge aframe ag ag-grid agda agenda agens-graph agent agent-based-modeling aggregate aggregate-functions aggregation aggregation-framework agi agile agm-core agora.io agrep ahoy aidl aiml aiohttp aion air airflow airflow-operator airflow-scheduler airplay airtable aix ajax ajv akka akka-http akka-stream alamofire alamofire-request alarmmanager alembic alert alertifyjs alexa alfresco alfresco-share alfresco-webscripts algebra algebraic-data-types algolia algorithm algorithmic-trading alias aliases aliasing alibaba-cloud alibaba-cloud-ecs alignment allocation allocator alloy allure alm alpha alpha-beta-pruning alpha-transparency alphabet alphanumeric alpine alpn alsa alt altair altbeacon alter-table alternating altitude alu alv amadeus amazon ambari ambiguity ambiguous-call amcharts amcharts4 amd amd-gcn amember amethyst ami ami.js amibroker ammonite amoeba-gem amp-ad amp-analytics amp-email amp-html amqp anaconda analysis analytic-functions analytics ancestor anchor anchor-scroll anchorpoint and-operator andengine andlabs-ui android angle anglesharp angular animate.css animated-gif animation animationdrawable animator anime.js anko annotate annotations anomaly-detection anonymous-function anonymous-users anova ansi ansi-c ansi-colors ansi-escape ansible answer-set-programming ansys ant ant-design-pro antbuilder antd anti-cheat anti-patterns antialiasing antiforgerytoken antivirus antlr antlr3 antlr4 any anylogic anypoint-studio anytree aop aot apache apdu apex api api-design api-gateway api-hook api-key api-management api-manager api-platform.com apiary apiclient apify apigee apigility apim apk apk-signing apl apollo apostrophe-cms app-actions app-bundle app-certification-kit app-config app-distribution app-engine-flexible app-id app-inventor app-secret app-store app.yaml apparition apparmor appauth appbar appcompatactivity appdata appdelegate append appendchild appimage appinstaller appium appium-android appium-desktop appium-ios appkit apple-business-manager apple-developer apple-maps apple-music apple-musickit apple-pdfkit apple-pencil apple-push-notifications apple-sign-in apple-touch-icon apple-watch applepay applepayjs applescript applet application-cache application-pool application-start applicative applovin applozic apply apply-templates apprequests approximation appserver appsettings appstore-approval appstoreconnect appveyor appx appxmanifest apr apscheduler apt apt-get aql aqueduct ar ar.js arabic aranchor arangodb arcgis arcgis-js-api arch architectural-patterns architecture archive archlinux arcore arcpy arduino arduino-c++ area arel arfacegeometry argmax argparse args argument-dependent-lookup arguments argv aria-live arima arithmetic-expressions arkit arm arm-template arm64 armadillo armv7 arp array-agg array-formulas array-merge array-unique array.prototype.map arraybuffer arraylist arrayobject arrays arrow-functions arrows arscnview artifactory artifacts artificial-intelligence artillery artisan aruco as.date asa asammdf asana ascii ascii-art asciidoctor asciinema ascx asdf asgi ash ashx asio ask-cli aslr asmx asn.1 asp-classic asp-net-core-spa-services asp.net aspect-ratio asplinkbutton aspnet-api-versioning aspnetboilerplate aspx-user-control aspxgridview assemblies assembly assembly-binding-redirect assembly-loading assert assertion assertj asset-catalog asset-pipeline assets assign assignment-operator assimp associated-types associated-value associations associative-array asterisk astronomy astropy async-await async.js asynchronous asynchronous-messaging-protocol asynchronous-method-call asynchttpclient asyncio asyncpg asyncsocket asyncstorage at-command atari-2600 atlas atlaskit atlassian-localstack atlassian-sourcetree atmega atmega16 atmel atmelstudio atom-editor atomic att attached-properties attachedbehaviors attachment attr attributeerror attributes attunity auc audacity audio audio-player audio-processing audio-recording audio-streaming audiobuffer audiocontext audioinputstream audiokit audiounit audit augmented-reality aurelia aurelia-cli aurora auth-guard auth-request auth0 authentication authenticator authenticity-token authorization authorize.net authorize.net-cim authorize.net-webhooks authy auto auto-increment auto-indent auto-keras auto-populate auto-renewable auto-renewing auto-update auto-value autoboxing autocad autocloseable autocomplete autocompletefilter autocompletetextview autoconf autocorrect autocorrelation autodesk autodoc autoencoder autofac autofac-configuration autofill autofilter autofixture autofocus autoformatting autograd autohotkey autoit autolayout autoload autologin automapper automapper-6 automata automated-refactoring automated-tests automatic-ref-counting automation automationanywhere automaton automator automl automoc autonumeric.js autopep8 autoplay autoprefixer autoregressive-models autosar autoscaling autoscroll autosize autossh autostart autotools autowired ava avassetexportsession avassetwriter avassetwriterinput avaudioengine avaudioplayer avaudioplayernode avaudiorecorder avaudiosession avcapturesession avcapturevideodataoutput avd average avfoundation avi avkit avl-tree avogadro avplayer avplayerlooper avqueueplayer avr avr-gcc avrcp avro avro-tools avx avx2 avx512 aweber awk aws awt awtrobot axapta axes axios axis axis-labels axis2 axon az azcopy azerothcore aztec-barcode azure b-plus-tree b-tree b2b babel babel-loader babel-plugin babel-polyfill babeljs babylonjs back-button back-testing backbone.js backend background background-application background-color background-fetch background-foreground background-image background-mode background-process background-service background-subtraction background-thread backgroundworker backing-field backoffice backpack-for-laravel backpropagation backreference backtrace backtracking backup backwards-compatibility bacpac bad-request badge bag ballerina bambi bamboo bandit banking bar-chart barbajs barcode barcode-scanner bare-metal bartender bartintcolor base64 base64url basehttpserver baseline bash bash-trap basic basic-authentication batch-file batch-insert batch-normalization batch-processing batch-rename batching battery-saver bayesian bazel bazel-aspect bbedit bcnf bcp bcrypt bdd beacon beagleboneblack beam-sql beamer bean-io bean-validation beanshell bearer-token beast-websockets beautifulsoup beforeinstallprompt beforeupdate behat behaviorsubject bellman-ford bem benchmarking berkeley-db beta beta-testing between bezier bgp bi-publisher bibliography big-o big5 bigbluebutton bigchaindb bigcommerce bigdata bigdecimal biginteger bigquery-standard-sql bigsql bigtable billing bim bin bin-packing binance binaries binary binary-data binary-image binary-search binary-search-tree binary-tree binaryfiles bind bindable bindableproperty binding bing bing-api bing-maps binning bintray bioconductor bioinformatics biometrics biopython bios birt bison bit bit-fields bit-manipulation bit-packing bit-shift bit-src bitbake bitbucket bitbucket-api bitbucket-cloud bitbucket-pipelines bitbucket-server bitcoin bitcoind bitflags bitmap bitmask bitmex bitnami bitrix bitset bitstream bitwise-operators bitwise-or bixby bixbystudio biztalk blackjack blank-line blas blat blazor blazor-client-side blazor-server-side blender blob bloc block blockchain blocking blockingcollection blockingqueue blockly blockstack blogdown blogengine.net blogger blogs bloodhound bloomberg blpapi blue-green-deployment bluedata bluedata-3.7 bluehost bluej bluepill blueprint blueprism bluetooth bluez blur blurry bnd bnf bnlearn body-parser boilerplate bokeh bold bookdown bookmarklet bookmarks bookshelf.js boolean boolean-algebra boolean-expression boolean-logic boolean-operations boost boost-adaptors boost-asio boost-beast boost-bind boost-fiber boost-geometry boost-interprocess boost-log boost-python boost-range boost-spirit-x3 boost-tuples boot boot-clj boot2docker bootbox bootloader bootstrap border border-color borderless borrow-checker botan botframework botkit boto boto3 botocore botpress bots bottom-sheet bottom-up bottomnavigationview bouncycastle boundary bounding-box bounds bower bowtie box-shadow box2d boxing boxplot bpf bpmn brackets brain.js braintree braintree-sandbox branch branch-prediction branch.io branching-and-merging branching-strategy brave-browser breadcrumbs breadth-first-search break breakpoints bresenham brightcove brightscript broadcast broadcasting broadcastreceiver broken-pipe brokenimage broom brotli browser brute-force brython bson bspline bssid bubble-chart bubble-popup bubble-sort bucket bucklescript buefy buffer buffer-overflow bufferedimage bufferedreader bug-tracking build build-error build-pipeline build-settings build-system build-variant build.gradle buildbot builder builder-pattern buildfire buildozer buildpack buildpath buildroot buildship built-in bukkit bulk bulk-load bulkinsert bulkupdate bullseye bulma bundle bundler bundling-and-minification burn business-intelligence business-logic business-objects busybox button bxslider byte byte-buddy byte-code-enhancement bytebuffer bytecode bytecode-manipulation bytestream c c# c++ c-preprocessor c-strings c11 c3.js c3p0 c99 ca cabasicanimation cache-control cache-invalidation cacheapi caching cad caddy caddyfile cadence-workflow cadisplaylink caesar-cipher caffe caffeine cagradientlayer cairo cakebuild cakedc cakephp calayer calc calculated-columns calculated-field calculation calculator calendar calendarview calibration caliburn.micro calico californium call call-recording callback caller-id calling-convention callkit callouts callstack camel-ftp camel-http camelcasing camera camera-calibration caml camunda camunda-modeler can-bus cancancan cannon.js cannot-find-symbol canny-operator canoe canonical-link canopen cantera canvas canvasjs canvg capability capacitor capistrano capl capnproto captcha caption captiveportal capture capture-list capybara carchive cardlayout cardview caret carousel carriage-return carrier carrierwave cart cartalyst cartalyst-sentinel carter carthage cartopy cas cascade cascading-deletes cascadingdropdown case case-class case-insensitive case-sensitive case-statement case-when cashapelayer casperjs cassandra casting castle-windsor castor cat catalina catalyst-optimizer catboost catboostregressor categorical-data categories catia cbc-mode cbperipheral cbt cc ccl cd cdap cdf cdi cdn cdo-climate cds cefsharp cefsharp.offscreen celery celery-task celerybeat cell cell-array celltemplate cellular-network center centering centos centos6 centos7 centroid ceph cephfs cert-manager certbot certificate certificate-store certificate-transparency cesium cfchart cffi cfmail cfml cgal cgcontext cgi cgi-bin cgimage cgminer cgo cgpoint chaco chai chain chain-of-responsibility chaincode chaining chalice change-data-capture change-password channel channels char character character-encoding charactercount characteristics charindex charles-proxy chart.js chart.js2 chartist.js chartjs-2.6.0 chartkick charts chat chatbot chatterbot check-mk checkbox checkboxlist checkedlistbox checkin checkout checkpoint checkstyle checksum cheerio chef chef-recipe cherry-pick chess chi-squared child-process children childwindow chilkat chinese-locale chirp chmod chocolatey chokidar choregraphe choropleth chown chrome chromium chromium-embedded chronicle-queue chrono chronometer chroot chropath chuck chunked chunks cidetector cifs ciimage cinemachine circe circleci circleci-2.0 circleci-workflows circuit circuit-diagram circuit-sdk circular-dependency circular-reference circularreveal cisco cisco-ios citations citrix cjk ckan ckeditor ckfinder claims claims-based-identity clang clang++ clang-ast-matchers clang-format clappr clarion clarity clasp class class-library class-method class-names class-template classification classloader classloading classnotfoundexception classpath clause clean-architecture clear cleardb clearinterval clearlinux clearscript cleartext cleartimeout click click-through clickablespan clickhouse clickonce client client-certificates client-go client-server client-side client-side-templating clientid clientside-caching clingo clion clip clip-path clipboard clipboard.js clipboarddata clipped clipping clips clique-problem clish cllocation clob clock clockify clojure clojure.spec clojurescript clone cloning closed-captions closedxml closest closures cloud cloud-init cloud-storage cloudamqp cloudant cloudera cloudflare cloudfoundry cloudfoundry-uaa cloudinary cloudkit cloudwatch-alarms cloudways cloveretl clr clr-profiling-api clrprofiler cluster-analysis cluster-computing clustered-index cmake cmake-gui cmake-language cmath cmattitude cmd cmder cmdlet cmdlets cmis cmocka cmp cmsmadesimple cmtime cmyk cname cnc cng coalesce coap cobertura cobol cockpit cockpit-cms cockroachdb coco cocoa cocoon-gem cocos2d codable code-analysis code-behind code-cleanup code-completion code-conversion code-coverage code-design code-documentation code-duplication code-editor code-first code-formatting code-generation code-injection code-organization code-reuse code-sharing code-signing code-signing-certificate code-signing-entitlements code-size code-snippets code-standards code-structure code128 codeblocks codec codeception codeceptjs coded-ui-tests codedom codeigniter codeigniter-2 codeigniter-3 codelyzer codenameone codenarc codepen coderunner codesandbox codeship codesite codesys codetyphon codewarrior coding-style coefficients coercion coff coffeescript cognos cognos-10 cognos-11 cognos-8 coil coin-or coinbase-api coinbase-php col cold-start coldfusion collapse collation collection-radio-buttons collections collectionview collectors collision collision-detection colon color-depth color-palette color-scheme color-space colorama colorbar colorfilter colormap colormatrix colors column-chart columnname columnsorting com com-automation combinations combinatorics combine combinelatest combobox comma comma-operator command command-line command-line-arguments command-line-interface command-pattern command-prompt command-text commandbar commandbox commandbutton comments commit commitizen common-controls common-lisp common-table-expression communication comparable comparator compare compareto comparison comparison-operators compass compass-geolocation compass-sass compatibility compilation compilationunit compile-time compile-time-constant compiler-construction compiler-errors compiler-optimization compiler-warnings completable-future complete completion completionhandler complex-numbers complexity-theory compojure-api components compose composer-php composite-component composite-id composite-primary-key composition compress-images compression computation-theory computational-geometry compute-shader computed-properties computer-science computer-vision comsol comvisible conan concat concatenation concave concave-hull concourse concrete5 concrete5-5.7 concurrency concurrent.futures conda conda-build conditional-breakpoint conditional-compilation conditional-formatting conditional-operator conditional-rendering conditional-split conditional-statements conditional-types conductor conemu confidence-interval config config-files configmap configparser configserver configuration configuration-files configurationmanager configure confluence confluent confluent-kafka confluent-schema-registry confusion-matrix conky connect connect-by connect-flash connected-components connected-react-router connection connection-leaks connection-pooling connection-reset connection-string connection-timeout connector connector-j consistency console console-application console.log const const-cast const-iterator constants constexpr constraint-programming constraint-satisfaction constraint-validation constraints constraintset constructor constructor-injection constructor-overloading consul consul-kv consul-template consumer contact-form contact-form-7 contacts containers contains containskey content-management-system content-query-web-part content-security-policy content-type contenteditable contentful contentful-api contentoffset contentpresenter context-free-grammar contextmanager contextmenu contextswitchdeadlock continue continuous-deployment continuous-fourier continuous-integration contour contourf contravariance control-characters control-flow controlled-component controller controller-action controlpanel controls controlsfx controltemplate conv-neural-network converters convex-hull convolution cookie-authentication cookielib cookies coordinate-systems coordinates coordinator-pattern copy copy-constructor copy-item copy-on-write copy-paste copying coq coq-tactic coqide corda cordova core core-animation core-audio core-bluetooth core-data core-file core-graphics core-image core-js core-location core-motion core-nfc core-ui coredns coremidi coreml coremltools coreos corestore corner-detection cornerradius cornerstone coroutine corporate corpus correctness correlation corrupt corruption cors cortex cosine-similarity cosmos cosmosdbtrigger couchbase couchbase-lite couchbase-sync-gateway couchdb couchdb-lucene couchdb-mango count countdown countdowntimer counter countif counting countvectorizer cout covariance covariance-matrix covering-index coverity cowplot cox cox-regression cp cp-optimizer cpack cpan cpanel cpanm cplex cppcheck cppunit cpputest cppyy cpu cpu-architecture cpu-cache cpu-cores cpu-cycles cpu-registers cpu-speed cpu-usage cpython cqengine cql cqlsh cracking craco craftcms cran crash crash-reports crashlytics crashlytics-android cratejoy create-nuxt-app create-react-app create-table createjs createobject createparams createprocessasuser createquery credential-manager credentials criteria criteria-api criteriaquery critical-section crm cron cron-task crop cropper croppie cross-apply cross-browser cross-compiling cross-domain cross-fade cross-join cross-origin-read-blocking cross-platform cross-reference cross-site cross-validation crossbar crossfilter crosstab crosstool-ng crt crtp crud crypto++ crypto-obfuscator cryptoapi cryptocurrency cryptography cryptojs crystal-reports cs50 csh csharpcodeprovider csl csom csound csproj csr csrf csrf-token css csv csv-write-stream csvhelper ctakes ctrlp ctypes cuba-platform cube cubic-spline cucumber cucumber-java cucumber-junit cucumber-jvm cucumber-serenity cucumberjs cuda cudf cudnn cufft culture cultureinfo cumsum cumulative-sum cumulocity cupertinotabbar cups cupy curb curl curly-braces currency currying curses cursor cursor-position curve curve-fitting custom-action custom-adapter custom-application custom-build custom-cell custom-configuration custom-contextmenu custom-controls custom-data-attribute custom-domain custom-element custom-fields custom-function custom-functions-excel custom-keyboard custom-lists custom-object custom-post-type custom-rom custom-routes custom-scrolling custom-taxonomy custom-view custom-wordpress-pages customer customization custompaging customscrollview customvalidator cut cuvid cv2 cvpixelbuffer cvs cvxpy cx-freeze cx-oracle cxf cxf-client cxf-codegen-plugin cybersource cyclomatic-complexity cydia cygwin cypher cypress cython cythonize cytoscape cytoscape.js d d3-force-directed d3.js dac dacpac daemon dafny dagger dagger-2 dailymotion-api daml dao daphne dapper dapper-extensions darkflow darknet dart dart-html dart-pub dart-sdk dart-webui dash.js dashboard dashdb dask dask-delayed dask-distributed dask-kubernetes dask-ml data-analysis data-annotations data-augmentation data-binding data-class data-cleaning data-conversion data-dictionary data-distribution-service data-extraction data-files data-fitting data-harvest data-ingestion data-lake data-management data-manipulation data-mining data-modeling data-persistence data-processing data-retrieval data-science data-storage data-structures data-transfer data-transform data-uri data-virtualization data-visualization data-warehouse data.table database databricks datacolumn datacontext datacontract datadog dataexplorer dataflow dataframe datagrid datagridcomboboxcolumn datagridview datalist dataloader datamapper datamaps datamatrix dataoutputstream datareader datarow dataset datashader datasource datastage datastax datastax-enterprise datastax-javadriver datastep datastore datatable datatables datatables-1.10 datatemplate datatrigger dataview dataweave datawriter date date-conversion date-difference date-fns date-format date-formatting date-pipe date-range dateadd datebox datediff datefield datefilter dateformatter dateparser datepart datepicker datepickerdialog daterangepicker datetime datetime-comparison datetime-format datetime-parsing datetimeindex datetimepicker datomic daubechies-wavelet dax dayofmonth dayofweek days db2 db2-400 db2-luw db2-zos dbatools dbconnection dbcontext dbi dbm dbmail dbmigrate dbms-output dbpedia dbplyr dbref dbscan dbus dbvisualizer dc.js dcgan dcm4che dcu dd-wrt ddev ddl ddos dead-letter deadlock deadobjectexception deap deb debezium debian debian-based debian-buster debian-stretch debounce debouncing debugging decentralized-applications decentralized-identifiers decentralized-identity decimal decision-model-notation decision-tree deck.gl declaration decodable decode decoding decompiler decompiling deconvolution decorator decorator-chaining deedle deep-copy deep-dream deep-learning deep-linking deep-residual-networks deeplearning4j deeplink deepsecurity default default-arguments default-method default-value defaultdict defects defineproperty definition del delay delay-load delayed-job delegatecommand delegates delegation delete-file delete-operator delete-row delightvr delimited delimited-text delimiter delphi deltaspike dendrogram denial-of-service denodo denormalization dense-rank dep dependencies dependency-injection dependency-management dependency-parsing dependency-properties dependencyobject dependent-name dependent-type deploying deployment deprecated deprecation-warning depth-buffer depth-first-search depth-testing deque derby dereference derived-class derived-column derived-table des deselect deserialization design-patterns design-principles designer desktop desktop-application desktop-background desktop-bridge destructuring detect detection deterministic detours detox dev-appserver dev-c++ dev-to-production devcon developer-tools development-environment devexpress devexpress-wpf devextreme devforce device device-tree device-width devicetoken devise devise-token-auth devops devops-services devtools dexclassloader df dfs dfu dhcp dhl dhtmlx dhtmlx-scheduler diacritics diagnostics diagram diagrammer dialog dialogflow dialogflow-fulfillment dialogfragment dice dicom dicomweb dictation dictionary dictionary-comprehension diff difference difference-lists differential-equations differential-evolution differentiation digital digital-analog-converter digital-assets digital-ocean digital-persona-sdk digital-signature digital-twin digits dijkstra dimension dimensional-modeling dimensionality-reduction dining-philosopher direct-line-botframework direct2d direct3d11 directadmin directcompute directed-acyclic-graphs directed-graph direction directions directive directory directory-listing directory-structure directoryentry directoryservices directx disable disassembly disaster-recovery disconnect discord discord-jda discord.io discord.js discord.net discord.py discord.py-rewrite discount discovery discrete-mathematics discretization discriminator disk disk-imaging disk-partitioning diskspace dismax dispatch dispatch-queue dispatcher display display-cutouts disposable dispose dispy disqus distance distcp distinct distinct-values distributed distributed-caching distributed-computing distributed-system distributed-tracing distributed-transactions distribution distutils dita dita-ot divi-theme divide divide-by-zero dividebyzeroexception division django dji-sdk dkim dlib dll dllimport dlopen dlradiobutton dm-script dma dmg dml dna-sequence dnlib dnn9 dns dnssec do-loops do-while doc2vec docfx dock docker dockpanel docopt docplex docsify docstring doctest doctrine doctrine-extensions doctrine-mapping doctrine-orm doctrine-orm-postgres doctype document document-view document.write documentation documentation-generation documentum6.5 docusaurus docusignapi docusigncompositetmplts docutils docx docx-mailmerge docx4j dojo dokku dolphindb dom dom-events dom-node dom4 domain-driven-design domain-masking domain-name domcontentloaded domcrawler domdocument domo domoticz domparser dompdf domxpath donut-chart doobie doorkeeper doparallel dopostback dos dosbox dot dot-emacs dotenv dotliquid dotnet dotvvm double double-click double-click-advertising double-quotes doubly-linked-list dovecot downcast download download-manager downsampling downtime doxygen dpdk dpi dpkg dplyr dql draftjs drag drag-and-drop dragdropmodule draggable drake drake-r-package dramatiq draw draw.io drawable drawimage drawing drawingvisual drc dreamhost dreamweaver drilldown drive driver driverless-ai drm drone drone.io dronekit dronekit-python drools drools-kie-server drop-down-menu drop-duplicates dropbox dropbox-api dropdown dropdownbox dropout droppable dropwizard dropzone dropzone.js druid drupal drupal-7 drupal-8 drupal-modules drupal-templates drupal-themes drupal-theming drush dry dsa dse-graph-frames dsl dsl-tools dsld dspace dst dst-embroidery dstu2-fhir dt dtd dto dtsearch dtype dual-sim duck-typing dummy-variable dunitx dunn.test duplicate-symbol duplicates duration dwarf dwg dxgi dyalog dygraphs dyld dylib dymola dynamic dynamic-arrays dynamic-binding dynamic-cast dynamic-chart-series dynamic-data dynamic-forms dynamic-function dynamic-import dynamic-ip dynamic-linking dynamic-links dynamic-memory-allocation dynamic-programming dynamic-proxy dynamic-reports dynamic-sql dynamicparameters dynamicquery dynamics-365 dynamics-365-operations dynamics-ax-2012 dynamics-business-central dynamics-crm dynamics-crm-2011 dynamics-crm-2016 dynamics-crm-online dynamics-crm-webapi dynamics-nav dynamo-local dynamodb-queries dyndns dyno e-commerce e-token e1071 e2e-testing each eager eager-execution eager-loading ear earth-movers-distance easeljs easing easy-digital-downloads easyadmin easyapache-4 easypost ebcli ebean ebextensions ebpf ecdf ecdh ecdsa echarts echo eclipse eclipse-cdt eclipse-che eclipse-ditto eclipse-hono eclipse-iot eclipse-jdt eclipse-juno eclipse-marketplace eclipse-neon eclipse-oxygen eclipse-plugin eclipse-rcp eclipse-rcptt eclipselink ecma ecobee-api economics ecto eddystone edge-detection edges edi edismax edit editing editor edk2 edward eeprom ef- effect effects efl efs egit ehcache ehcache-2 ehcache-3 eiffel eigen eigen3 eigenvalue eigenvector either ej2-angular-calendars ejabberd ejabberd-module ejb ejb-3.0 ejs ekreminder eks el elaboration elastic-ip elastic-stack elastic4s elasticsearch electron electron-builder electron-forge electron-packager electron.net electronics element element-ui elementhost elementor elementtree elementwise-operations elf elfinder elisp elixir elk elki ellipse elliptic-curve elm elmah.io elmo eloquent eloquent--relationship eluna-lua-engine emacs email embed embedded embedded-jetty embedded-linux embedded-resource embedded-v8 embedding ember emf eml emmeans emmet emoji emoticons emotion emscripten emu8086 emulation emv enable-if encapsulation encode encoder encoding encryption end-to-end endianness endlessscroll endpoint engine.io enqueue ensemble-learning enter enterprise enterprise-architect enterprise-guide entities entity entity-attribute-value entity-framework entity-framework-4 entity-framework-5 entity-framework-6 entity-framework-core entity-framework-core-2.2 entity-relationship entitymanager enumerable enumerated-types enumeration enums enunciate envdte environ environment environment-modules environment-variables envoyproxy envsubst enzyme eof eol epel epicorerp episerver epoch epoll epoxy epplus epsilon epson equality equality-operator equals equals-operator equatable equation erasure erb erd erlang erlang-shell erp erpnext errno error-code error-handling error-logging error-messaging errorbar es-module es2018 es6-class es6-map es6-module-loader es6-modules es6-promise es6-proxy esapi esb escaping escpos eslint eslint-config-airbnb eslint-loader eslint-plugin-react-hooks eslintrc esp-idf esp32 esp8266 esp8266wifi espeasy esper esri essbase estimation etag etcd etetoolkit ethereum ethernet etl euclidean-distance eureka-forms eval evaluation evdev event-calendar event-delegation event-driven event-driven-design event-handling event-listener event-loop event-propagation event-sourcing event-tracking eventbrite eventemitter eventhandler eventkit eventlet eventmachine events eventsource eviews evil-mode evolus-pencil evolutionary-algorithm evopdf exact-match exc-bad-instruction excel exception exceptionhandler exceptionmapper exchange-management-shell exchange-server exchangewebservices exe exec execcommand execl executable executable-jar execute execute-script executemany executenonquery executeprocesstask executequerysegmentedasync execution execution-time executioncontext executor executorservice exif exiftool exist-db existential-type exit exit-code exoplayer exoplayer2.x exp expand expandablelistview expansion expect expected-condition explain explode exploit explorer expo exponential export export-csv export-to-csv export-to-excel export-to-pdf express express-gateway express-graphql express-handlebars express-router express-session express-validator expression expression-encoder expression-evaluation expression-trees expss extbase extend extends extendscript extensibility extension-function extension-methods extentreports extern extern-c external extjs extract extraction extractor extrapolation exynos ezsql f# f-string f2py f5 faas fabric fabricjs face face-api face-detection face-id face-recognition facebook faces-flow facesservlet facet facet-grid facet-wrap faceted-search facetime facial-identification fact-table factor-analysis factorial factories factorization factors factory factory-bot factory-boy factory-pattern fade fadein fadeout fail-fast-fail-early fail2ban failed-installation failed-to-connect failover failovercluster faker false-positive false-sharing fancybox farsi fasm fast-ai fasta fastapi fastboot fastcgi fastclick.js faster-rcnn fasterxml fastify fastjsonapi fastlane fastparquet fasttext fat-free-framework fatal-error fatfs fault favicon favorites fax fb-graph fba fbsdk fcntl feathers-authentication feathersjs feature-detection feature-engineering feature-extraction feature-file feature-selection featuretools fedex fedora feed feedburner feedparser feign fetch fetch-api ffi ffimageloading ffmpeg fft fgetc fgets fibonacci fiddler fiddlercore field fields-for fieldset fifo figma-api figure fiji file file-access file-conversion file-copying file-descriptor file-exists file-format file-generation file-get-contents file-handling file-header file-io file-locking file-management file-manager file-permissions file-put-contents file-read file-rename file-sharing file-structure file-transfer file-type file-type-associations file-upload file-watcher file-writing filebeat filechannel filechooser filecompare filedialog fileinputstream filemaker filenames filenet-content-engine filenet-p8 filenet-process-engine filenet-workplace fileoutputstream filepath filereader filesaver.js fileserver fileshare filesize filestream filesystems filesystemwatcher filetime filewriter filezilla fill fillna filter filtering finagle final finalize finance find find-replace findall findbugs finder finereader finetunning fingerprint firebase firebird firebird-3.0 firebird2.5 firedac firefox firemonkey firestorter firewall firewalld firmware firstdata fish fishbowl fitbounds fitness fitnesse fix-protocol fixed fixed-header-tables fixed-point fixtures flags flake8 flamelink-cms flamerobin flannel flare flash flash-memory flashdevelop flashmedialiveencoder flask flat-file flatbuffers flatpickr flatten flex-lexer flex3 flexbox flexdashboard flextable flickr flink-sql flink-streaming flipkart-api floating-accuracy floating-action-button floating-point flock flood-fill flow flow-project flow-scope flow-typed flowchart flowlayout flowtype fluent fluent-assertions fluent-ffmpeg fluent-migrator fluent-nhibernate fluent-nhibernate-mapping fluentd fluentftp fluentvalidation fluentvalidation-2.0 fluid fluid-dynamics fluidsynth flume flume-ng flurl flurry flurry-analytics flush flutter flux flycheck flyout flyway fma fmi fminsearch fmt focus fold fold-expression foldable folder-permissions folium folly font-awesome font-awesome-4 font-awesome-5 font-face font-family font-size fontforge fonts footable footer footnotes fopen for-comprehension for-loop for-xml-path forcats force-layout foreach forecast forecasting foreground-service foreign-keys forestplot forever forfiles forgot-password fork fork-join form-control form-data form-fields form-for form-helpers form-recognizer form-submit formal-languages formarray format format-conversion format-specifiers formattable formatted-text formatter formatting formbuilder formgroups formidable formik formio forms forms-authentication formstack formula forth fortify fortran fortran77 fortran90 forum forward forward-reference forwarding fotorama foundation foursquare foxyproxy fpdf fpdi fpga fpgrowth fpm fputcsv fragment fragment-lifecycle fragment-shader fragmentmanager fragmentstatepageradapter frame frame-rate framebuffer framer-motion frames frameworks fread free freebsd freecad freemarker freepascal freeradius freertos freeswitch freeze frequency frida friend froala frontend fs fs2 fseek fso fsockopen fstream ftdi ftp ftplib ftps ftputil ftrace fuel full-text-search fullcalendar fullcalendar-3 fullcalendar-4 fullscreen fulltext-index func function function-approximation function-call function-declaration function-expression function-pointers function-templates functional-dependencies functional-interface functional-programming functional-testing functools functor fuse fuse.js fusedlocationproviderclient fusionauth fusioncharts future fuzzy fuzzy-comparison fuzzy-logic fuzzy-search fuzzywuzzy fxml fxmlloader g++ g2o gae-python27 gaia galera gallery gam game-development game-engine game-loop game-maker-language game-physics gamecontroller gameobject gameplay-kit gamma gamma-distribution gams-math gan ganache gantt-chart gapi garbage-collection gas gated-recurrent-unit gateway gatling gatsby gatt gatttool gauge gaussian gazebo-simu gbm gcc gce-persistent-disk gcloud gcp-ai-platform-notebook gcsfuse gd gdal gdb gdi gdlib gdm gdscript geckodriver geckoview gedit gee gekko gelf gem-fury gen-server generalization generate generate-series generative generative-adversarial-network generator generic-list generic-programming generics genesys genetic-algorithm genexus gensim gentelella genymotion geo geoalchemy2 geocode geocoder geocoding geocomplete geodjango geofabrik geofencing geofire geofirestore geohashing geojson geolocation geom-bar geom-col geom-raster geom-text geomesa geometry geometry-surface geometrydrawing geopandas geopy geoserver geospatial geosphere geotiff geotools gephi gerrit gesture gesture-recognition gesturedetector get get-childitem getattr getattribute getboundingclientrect getch getcomputedstyle getdate getelementbyid getelementsbyclassname getelementsbytagname getenv getgauge geth getid3 getimagedata getjson getline getmethod getopt getopts getproperty getstream-io getter getter-setter getuikit geturl getusermedia gevent gflags gforth gfortran gfycat gganimate ggcorrplot ggmap ggplot2 ggplotly ggpubr ggraph ggvis ghc ghc-api ghc-plugin gherkin ghost-blog ghostscript gif gimp gin giphy giphy-api gis gist git gitattributes gitea githooks github gitignore gitkraken gitlab gitpython gitversion glade glassfish glcm glew glfw glib glibc glide glip glitch-framework glm glm-math glmnet glob global global-asax global-temp-tables global-variables globalization globalize globals glom glowscript glpk glsl glsles gltf glue glue42 gluon gluon-mobile glusterfs glut glyphicons gmail gmap.net gmaps4rails gmm gmock gmp gmt gnome gnome-3 gnome-shell gnome-terminal gnu gnu-findutils gnu-global gnu-make gnu-sed gnu-toolchain gnucobol gnupg gnuplot gnuradio gnuradio-companion go go-cd go-echo go-ethereum go-git go-gorm go-html-template go-modules go-swagger go-templates go-to-definition gobject godaddy-api godoc godot gojs gomail google-ad-manager google-admin-sdk google-ads-api google-adwords google-aiy google-analytics google-analytics-api google-analytics-filters google-analytics-userid google-api google-app google-assist-api google-assistant-sdk google-auth-library google-auth-library-nodejs google-authentication google-authenticator google-bi-engine google-bigquery google-blockly google-breakpad google-calendar-api google-calendar-recurring-events google-cardboard google-cast google-cast-sdk google-cdn google-chrome google-classroom google-client google-closure-compiler google-cloud google-colaboratory google-compute-engine google-console-developer google-contacts-api google-container-registry google-content-api google-coral google-custom-search google-data-studio google-datalayer google-deployment-manager google-developer-tools google-developers-console google-directory-api google-distancematrix-api google-dl-platform google-docs google-docs-api google-document-viewer google-drive-android-api google-drive-api google-drive-team-drive google-earth google-earth-engine google-elevation-api google-fabric google-fit google-fit-sdk google-form google-fusion-tables google-geocoder google-geocoding-api google-geolocation google-groups google-groups-settings google-hangouts google-home google-iam google-iap google-identity google-indoor-maps google-kubernetes-engine google-login google-maps google-my-business-api google-nearby google-oauth google-oauth2 google-optimize google-pagespeed google-pay google-people google-photos google-photos-api google-picker google-place-picker google-places google-places-api google-play google-plus google-polyline google-prediction google-query-language google-ranking google-reporting-api google-rich-snippets google-schemas google-scholar google-search google-search-api google-search-console google-sheets google-shopping-api google-signin google-sites google-slides google-slides-api google-smartlockpasswords google-speech-api google-street-view google-tag-manager google-tasks google-text-to-speech google-translate google-translator-toolkit google-trends google-vision google-visualization google-vr google-vr-sdk googlebot googleplacesautocomplete googlesigninapi googletest googlevis googleway gorm goroutine gost3410 goto goutte gpflow gpgpu gpio gps gpsd gpu gpu-atomics gpu-programming gpx gql graalvm-native-image gradient gradient-descent gradientdrawable gradle gradle-custom-plugin gradle-kotlin-dsl gradle-plugin gradle-tooling-api gradlew grafana grafana-api grails grammar grand-central-dispatch grape grape-entity grapesjs graph graph-algorithm graph-coloring graph-databases graph-theory graph-tool graph-traversal graphaware graphdb graphene-django graphene-python graphene-sqlalchemy graphframes graphics graphics2d graphicsmagick graphing graphiql graphite graphql graphql-java graphql-js graphql-spqr graphql-subscriptions graphviz grasshopper gravity gravity-forms-plugin gravityforms gray-code graylog graylog3 greasemonkey greatest-n-per-group greedy greenplum greensock gregorian-calendar gremlin gremlin-server gremlinpython grep grep-indesign grepl gretty grib grid grid-computing grid-layout grid-search gridex gridextra gridfs gridfs-stream gridlines gridpane gridsearchcv gridsome gridstack gridster gridview grizzly grocery-crud grok groovy groovy-console groovyscriptengine groq group-by group-concat group-policy grouping grpc grpc-gateway grpc-java grpc-python grub2 grunt-browser-sync grunt-contrib-sass gruntjs gs-conditional-formatting gs-vlookup gsap gsl gsm gsmcomm gson gspread gstreamer gstreamer-1.0 gsub gsuite gsutil gtag.js gtk gtk2 gtk3 gtksourceview gtmetrix gtts guacamole guard guava gui-builder guice guice-persist guid gulp gulp-4 gulp-browser-sync gulp-clean gulp-sass gulp-task gulp-watch gun gunicorn gunzip gurobi gutenberg-blocks guzzle guzzle6 guzzlehttp gvisor gvr-android-sdk gwt gwt-jsinterop gwtbootstrap3 gxt gyroscope gzip gzipstream h.264 h2 h2o h2o4gpu h3 h5py haar-classifier haddock hadoop hadoop-partitioning hadoop2 hal half-precision-float halide hamburger-menu hamcrest haml hammer.js hana hana-sql-script handlebars.java handlebars.js handler handsontable handwriting-recognition hang hangfire hangfire-autofac hangout hapi hapijs haproxy hard-coding hard-drive hardlink hardware hardware-acceleration hardware-programming hardy-ramanujan has-many-through hash hash-collision hashable hashcode hashicorp-vault hashmap hashset hashtable hashtag haskell haskell-hedgehog haskell-stack haskell-turtle hasura hateoas haversine having having-clause haxe hazelcast hazelcast-imap hbase hbase-shell hc-05 hcatalog hce hcl hdf5 hdfs hdmi hdp hdr hdrimages head header header-files headless headless-browser headset healpy health-kit health-monitoring heap heap-memory heatmap heatmaply heidisql height helper helpermethods here-api here-maps-rest here-olp heredoc herestring heroku heroku-postgres heuristics hex hex-editors hibernate hiccup hid hidden hidden-markov-models hide hiera hierarchical-clustering hierarchical-data hierarchical-query hierarchy hierarchyid high-availability highcharts higher-kinded-types higher-order-components higher-order-functions highlight highlight.js hikaricp hindi hiredis histogram histogram2d history hive hive-query hiveql hk2 hl7 hl7-fhir hl7-v2 hlist hls.js hlsl hmac hmacsha1 hmisc hmmlearn hogan.js hoisting hol hole-punching hololens hololens-emulator holoviz home-assistant homebrew homescreen homestead homography honeywell hook hook-woocommerce hootsuite horizontal-scrolling horizontalscrollview hornetq hortonworks-data-platform hortonworks-dataflow host hosted hosting hostname hot-module-replacement hot-reload hotmail hotspot hotword hough-transform houghlinesp hourglass hover hp-alm hp-uft hpc hql href hresult hstack hstore hta htk html http httr httrack huawei hubspot hubspot-crm hudson hue huge-pages hugo hummingbird hunspell hush-shell husky hvplot hy hybrid-mobile-app hybrid-runbook-worker hybris hyper hyper-v hyperion hyperledger hyperlink hyperloglog hyperparameters hyperstack hypervisor hyphen hyphenation hypothesis-test hystrix i18next i2c i3 iab iar ib-api ibatis ibeacon ibeacon-android ibm-appid ibm-blockchain ibm-cloud ibm-cloud-infrastructure ibm-connections ibm-datapower ibm-domino ibm-doors ibm-event-store ibm-information-server ibm-infosphere ibm-integration-bus ibm-midrange ibm-mobile-services ibm-mobilefirst ibm-mq ibm-odm ibm-pcomm ibm-sterling ibm-watson iboutlet iboutletcollection ibp-vscode-extension icacls icalendar icc ice icecast icloud icloud-documents icloud-drive icmp icollection icon-fonts iconify icons iconv icr icu id ida idataerrorinfo ide ideavim identity identity-experience-framework identityserver4 idhttp idiomatic idioms idisposable idl idle-timer idp idris ie11-developer-tools iedriverserver ieee-754 ienumerable ienumerator ietf-netconf ietf-netmod-yang iex if-constexpr if-none-match if-statement ifc iframe ifstream iglistkit ignite ignition ignore igraph iife iis ijulia-notebook il2cpp illegalaccessexception illegalargumentexception illegalstateexception ilog imacros image image-capture image-comparison image-conversion image-file image-manipulation image-optimization image-processing image-quality image-recognition image-rendering image-resizing image-segmentation image-stabilization image-stitching image-store image-thresholding image-upload image-uploading imagebackground imagebutton imagecreatefrompng imagedownload imagefilter imagej imagej-macro imagemagick imageurl imageview imagick imaging imap imapclient imbalanced-data imblearn ime imessage-extension imgscalr imgur immediate-window immer.js immutability immutable-collections immutable.js immutables-library impala impersonation implementation implicit implicit-conversion implicitwait import import-csv import-from-csv import-from-excel importdata importerror importrange importscripts impromptu imputation imread ims imshow imu in-app in-app-billing in-app-purchase in-app-subscription in-app-update in-memory-database inappbrowser include include-guards include-path incompatibletypeerror increment incremental-compiler incremental-linking indexeddb indexing indexof indexoutofboundsexception indexoutofrangeexception indexpath indices indoor-positioning-system industrial indy inequality inf inference infineon infinispan infinite infinite-loop infinite-scroll infix-notation inflate-exception influxdb influxql infopath2010 informatica informatica-cloud informatica-powercenter information-extraction information-gain information-retrieval information-schema information-theory informix infovis infowindow infrastructure infrastructure-as-a-code ingest inheritance inherited-constructors ini init initialization initialization-list initializer-list initramfs inject inkscape inline inline-assembly inline-styles inlining inmobi inner-classes inner-exception inner-join innerhtml inno-setup innodb inotify inotifypropertychanged input input-mask inputconnection inputstream insert insert-query insert-update insertadjacenthtml inserter insertion insertion-sort insmod inspec inspect instagram instagram-api instagram-graph-api install install.packages install4j installation installation-package installer installshield instance instance-methods instance-variables instanceof instant instantiation instasharp instr instruction-set instructions instrumentation instrumented-test instruments int int32 integer integer-overflow integer-promotion integer64 integrate integration integration-testing integrator intel intel-fortran intel-fpga intel-mkl intel-pin intel-syntax intellij intellisense intentfilter intentservice interaction interactive interactive-brokers intercept interceptor intercom interface interface-builder interior-mutability interlocked internal-load-balancer internationalization internet-explorer internet-explorer-11 interop interopservices interpolation interpreter interprocess interrupt interrupt-handling intersect intersection intersection-observer intervals intervention intl intrinsics intune invariantculture inventory inverse-relationship inversifyjs inversion-of-control invert inverted-index invisible-recaptcha invocationtargetexception invoice invoke invoke-command invoke-obfuscation invoke-sqlcmd invoke-webrequest io io-redirection ioc-container ioctl ioerror iokit iomanip ion ion-grid ion-koush ion-nav ionic-appflow ionic-cli ionic-devapp ionic-framework ionic-native ionic-plugins ionic-tabs ionic-v1 ionic2 ionic3 ionic4 ioredis ios iot iota ip ip-address ip-blocking ip-camera ip-restrictions ipad ipados ipc ipcs ipdb ipfs iphone ipopt iproute ipsec iptables ipv4 ipv6 ipython ipython-magic ipython-parallel ipywidgets iqueryable irb ironpython irr irs isalpha isbn iscsi iser isnull iso iso-8859-1 iso8601 isolation isolation-level isometric isomorphic-git isotope ispostback isql isset istanbul istio istream-iterator items itemtemplate itemtouchhelper iterable iteration iterator iterm2 itertools itext itext7 itil itk itmstransporter itunes-sdk itunes-store itunesconnect iup ivalueconverter iverilog ivr j2v8 jaas jack jackson jackson-databind jackson-dataformat-xml jacoco jacoco-maven-plugin jaeger jailbreak jain-sip james jamstack janitor janus janusgraph jar jar-signing jarsigner jasmine jasmine-marbles jasper-reports jasperserver jaspersoft-studio java javers jax-rs jax-ws jax-ws-customization jaxb jaxb2-maven-plugin jaxbelement jaxws-maven-plugin jbehave jboss jboss-developer-studio jboss-eap-7 jboss-tools jboss5.x jboss6.x jboss7.x jbossfuse jbossws jbox2d jbpm jbutton jcache jce jcheckbox jclouds jcombobox jdatechooser jdb jdbc jdbc-odbc jdbctemplate jdeps jdeveloper jdialog jdk1.6 jedi jedit jeditorpane jekyll jelly jena jenkins jenkins-api jenkins-blueocean jenkins-build-flow jenkins-cli jenkins-declarative-pipeline jenkins-docker jenkins-groovy jenkins-job-builder jenkins-job-dsl jenkins-pipeline jenkins-plugins jenssegers-mongodb jersey jersey-2.0 jersey-client jest-client jest-preset-angular jest-puppeteer jestjs jetbrains-hub jetbrains-ide jetpack jetty jetty-9 jfilechooser jformattedtextfield jframe jfreechart jfrog-cli jgit jgraph jhipster jide jigsaw jinja2 jira jira-rest-api jit jitpack jitsi-meet jjwt jks jlabel jlist jls jmespath jmeter jmeter-3.2 jmeter-4.0 jmeter-5.0 jmeter-plugins jmh jmodelica jms jms-topic jmx jna jndi jnlp job-scheduling joblib jobs jobservice joda-convert jodatime jodit johnsnowlabs-spark-nlp joi join jolokia jolt joomla joomla3.0 jooq jose4j jovo-framework jpa jpa-2.0 jpa-2.1 jpa-2.2 jpanel jpeg jpgraph jplayer jpql jprofiler jq jqassistant jqbootstrapvalidation jqgrid jqte jquery jquery-ajaxq jquery-animate jquery-chosen jquery-datatables-editor jquery-events jquery-inputmask jquery-isotope jquery-load jquery-migrate jquery-mobile jquery-select2 jquery-select2-4 jquery-selectbox jquery-selectors jquery-ui jquery-ui-accordion jquery-ui-autocomplete jquery-ui-datepicker jquery-ui-draggable jquery-ui-slider jquery-ui-sortable jquery-ui-tabs jquery-ui-touch-punch jquery-validate jquery-waypoints jquerydatetimepicker jqvmap jqwidget jqzoom jrules js-cookie js-xlsx jsch jscience jscript jscrollbar jsdoc jsdom jsencrypt jsf jsf-1.2 jsf-2 jsf-2.2 jsf-2.3 jsfiddle jsgauge jsgrid jslint json json-api json-c json-deserialization json-extract json-ld json-patch json-path-expression json-query json-rpc json-schema-validator json-serialization json-server json-view json-web-signature json.net json2csv json4s jsonapi-resources jsonb jsonconvert jsoncpp jsondecoder jsonexception jsonlite jsonobjectrequest jsonparser jsonpath jsonresponse jsonschema jsonschema2pojo jsonstore jsonx jsoup jsp jsp-tags jspdf jspdf-autotable jsr107 jsr223 jsr352 jsreport jss jsse jssip jssor jstl jstree jstree-dnd jsvalue jsx jsxgraph jszip jta jtabbedpane jtable jtextarea jtextfield jts jubula juju julia julia-jump julius-speech jump-list juniper junit junit4 junit5 jupyter jupyter-irkernel jupyter-kernel jupyter-lab jupyter-notebook jupyterhub jvisualvm jvm jvm-arguments jvm-bytecode jvm-crash jvm-hotspot jwe jwplayer jwt jwt-auth jxbrowser jxl jython jython-2.7 k-fold k-means k2-smartforms k3s k6 kable kableextra kafka-cluster kafka-consumer-api kafka-producer-api kafka-python kafka-topic kaggle kaldi kali-linux kalman-filter kamailio kapt karate karatsuba karma-coverage karma-jasmine karma-mocha karma-runner karma-webpack katalon-studio katex kdb kde kdtree keccak keen-io keep-alive keepalived keepass keil kendo kentico kentico-12 kentico-api kentico-cloud kentico-mvc keras keras-2 keras-layer kerberos kernel kernel-density kernel-module kernel32 kerning kestrel kestrel-http-server kettle key key-bindings key-value key-value-observing keyboard keyboard-events keyboard-shortcuts keyboard-wedge keychain keycloak keycloak-services keydown keyerror keyevent keyframe keylistener keylogger keymapping keypress keystore keystroke keytab keytool keyup keyvaluepair keyword keyword-argument kibana kibana-4 kibana-6 kibana-7 kie kie-server kill kill-process kind-projector kindle kinect kinect-sdk kingfisher kiosk-mode kitematic kitura kivy kivy-language kiwi-tcms klee kml knapsack-problem knex.js knime knitr knn knockout-mapping-plugin knockout.js knppaginator koa kodein kodi kofax koin kolmogorov-smirnov komodo kong kong-ingress kongregate konvajs konvajs-reactjs kony kops kotlin kql krpano kruskals-algorithm kryo kryonet krypton ksh ksql ktor kube-dns kube-state-metrics kubeadm kubectl kubeflow kubernetes kue kumuluzee kurento kusto kusto-query-language kustomize kvc kvm label labview lag lambda lammps lamp lampp lan lando landsat landscape landscape-portrait lang language-agnostic language-design language-lawyer language-server-protocol lapack lapply laradock laragon laravel large-data large-data-volumes large-file-upload largenumber lasso-regression lasso.js last-modified late-binding latency latent-semantic-indexing latex latin latitude-longitude lattice lattice-diamond launch launch4j launchd launcher launching-application layer layer-list layered-navigation layout layout-inflater layout-manager layouttransform lazarus lazy-evaluation lazy-initialization lazy-loading lazyload lbph-algorithm lcs ld lda ldap ldap-query ldap3 ldapauth ldapconnection ldapjs ldjson lead leaderboard leaflet leaflet-draw leakcanary leanback leap-year least-common-ancestor least-squares led left-join left-recursion legacy legacy-sql legend legend-properties lemmatization lens lenses leptonica lerna lerp less let lets-encrypt letter letteringjs lettuce levels lex lexer lexical-analysis lib libav libavcodec libc libc++ libcloud libconfig libcurl libev libevent libgdx libgit2 libhdfs libjpeg liblog libpng libpq libpqxx libraries librdkafka libreoffice libreoffice-basic libreoffice-calc libreoffice-draw librosa libsodium libssh2 libtool libtooling libtorch libusb libusb-1.0 libuv libvlc libvlcsharp libvpx libx264 libxml2 libzip licensing lidar lidar-data lifecycle liferay liferay-6 liferay-7 liferay-7.1 liferay-aui liferay-ide liferay-service-builder liferay-theme lifetime lift light-inject lightbox lightbox2 lightgbm lighthouse lighting lightning lilypond limit line line-breaks line-by-line line-profiler lineageos linear-algebra linear-gradients linear-programming linear-regression linechart linefeed linguistics link-prefetch link-to linkage linkbutton linked-list linked-server linked-tables linkedin linkedin-api linker linker-errors linker-scripts linker-warning linphone linq linq-to-entities linq-to-sql linq-to-xml linq2db linqkit linqpad lint lint-staged linux linux-capabilities linux-device-driver linux-kernel linux-mint linux-namespaces linux-x32-abi liquibase liquid liquid-template lis liskov-substitution-principle lisp lispworks list list-comprehension list-initialization list.js listbox listboxitem listener listfield listings listview listview-adapter listviewitem lit-element lit-html litedb literals literate-programming litespeed live live-streaming live-templates live-unit-tests live-wallpaper livebindings livecharts livecycle livy lldb llvm llvm-c++-api llvm-clang llvm-ir llvmlite lm lme4 lmertest lmfit load load-balancing load-testing loader loading loc local local-database local-functions local-storage local-variables localdate locale localhost localization localserver localstack location location-href location-provider location-updates lock-free locking locust lodash log-shipping log4j log4j2 log4net log4net-appender logback logback-groovy logcat logfile logging loggly logic logical-operators logical-replication login-name login-page logistic-regression logitech logitech-gaming-software logos logout logstash logstash-configuration logstash-forwarder logstash-grok lombok long-double long-integer lookbehind lookup lookup-tables loop-unrolling loopback loopback4 loopbackjs looper loops lora loss loss-function lottie lottie-android lottie-ios lotus lotus-domino lotus-formula lotus-notes lotusscript love2d low-latency low-level lowercase lpc lpsolve lr1 ls lseek lsf lstm lstm-stateful lte ltree lua lua-patterns lua-resty-openidc lua-table lubridate lucee lucene ludwig luigi luis lumen lumen-5.4 lvalue lwjgl lxc lxd lxml lxml.html lyft-api lz77 m m2eclipse m3u8 maatwebsite-excel mac-spoofing machine-code machine-learning machine-learning-model machine.config macos macos-catalina macos-darkmode macos-mojave macros macvim magento magento-1.9 magento-2.0 magento-2.3 magento2 magic-constants magic-methods magic-square magicalrecord magicmock magnetic-cards magnific-popup magnolia magrittr mahapps.metro mail-sender mail-server mailchimp mailchimp-api-v3.0 mailcore2 mailgun mailing-list mailitem mailjet mailmerge mailmessage mailx main mainframe maintenance-mode maintenance-plan makecab makefile makefile-errors makemessages makepdf malloc malware malware-detection mamp man-in-the-middle manage.py managed managed-directx mandelbrot mandrill manifest manifest.json manim manipulate manipulators manjaro manpage manual-retain-release manual-testing many-to-many many-to-one map-edit map-function map-projections mapbox mapbox-android mapbox-gl mapbox-gl-draw mapbox-gl-js mapbox-ios mapbox-marker maphilight mapkit mapkitannotation maple mapping mapply mapreduce maps mapserver mapstruct margin margins mariadb mariadb-10.1 marie marionette markdown marker markerclusterer marklogic marklogic-9 marklogic-corb marklogic-dhf marko markov markov-chains marquee mars-simulator marshalling mask maskedtextbox masking masm masm64 masonry mass-assignment masstransit master-detail master-pages master-slave mastercard mat-autocomplete mat-card mat-datepicker mat-file mat-sidenav mat-stepper mat-tab mat-table matblazor matcaffe match matcher matching material material-components-android material-components-web material-design material-design-icons material-design-in-xaml material-table material-ui material-ui-dialog material-ui-pickers materialcardview materialize math math.net math.sqrt mathematical-optimization mathtype matlab matomo matplotlib matplotlib-basemap matrix matrix-indexing matrix-multiplication matrix-transform matterjs mattermost maven mavlink max max-path maxdate maximo maxmind maxscript maya mayavi mayavi.mlab maze mclapply mcmc md5 mda mdbootstrap mdc-components mdf mdi mdns mdriven mds mdx mean mean-stack measure mechanicalsoup mechanicalturk mechanize mechanize-python media media-player media-queries media-source media-type mediacapture mediacodec mediadevices mediainfo median mediarecorder mediasoup mediastream mediator mediatr mediawiki medical medium.com mel melt member memcached memcpy memoization memory memory-alignment memory-bandwidth memory-barriers memory-leaks memory-limit memory-management memory-mapped-files memory-mapping memorystream memsql mencoder mender mention menu menuitem mercurial merge mergefield mergesort merging-data mern mesa mesh message message-queue messagebox messagebroker messaging messenger meta meta-boxes meta-tags metabase metacity metaclass metadata metadata-extractor metafor metal metalkit metallb metamask metaprogramming metasploit metatrader4 meteor meteor-blaze meteor-collection2 method-chaining method-hiding method-invocation method-signature methodology methods metrics metro-bundler mex mezzanine mfa mfc mfmailcomposeviewcontroller mgcv mib micro micro-optimization microblink microcontroller microformats microk8s micrometer micronaut microphone microprocessors microprofile micropython microservices microsoft-cognitive microsoft-custom-vision microsoft-dynamics microsoft-dynamics-business-central microsoft-dynamics-nav microsoft-edge microsoft-edge-extension microsoft-fakes microsoft-flow microsoft-graph microsoft-graph-calendar microsoft-graph-excel microsoft-graph-mail microsoft-graph-sdks microsoft-identity-platform microsoft-information-protection microsoft-project-vba microsoft-skype-bot microsoft-sync-framework microsoft-teams microsoft-translator microsoft.codeanalysis microstrategy middleman middleware midi mifare migrate migration mikrotik milestone mill mime mime-mail mime-types min minecraft minecraft-forge mingw mingw-w64 mingw32 mini-batch mini-css-extract-plugin minicart minidom minify minikube minimax minimist minimization minimize minimum minimum-spanning-tree minio minishift minitest mink minmax mips mips32 mips64 mirroring mirrorlink mirth mismatch misra missing-data mit-kerberos mit-scratch mithril.js miui miva mix mixed-models mixer mixins mjml mkdir mkdocs mkfifo mklink mkmapview mkoverlay mkv ml-gradle ml.net mlab mlcp mlflow mllp mlr mlvision mmap mms mnist mobile mobile-application mobile-development mobile-devices mobile-safari mobilenet mobx mobx-react mobx-state-tree mocha mocking mockito mockito-scala mockk mockmvc mockserver mockup-tool mockups mockwebserver mod mod-jk mod-proxy mod-proxy-ajp mod-proxy-balancer mod-rewrite mod-security mod-wsgi modal-dialog modalviewcontroller modbus mode model model-binding model-checking model-driven model-mommy model-view-controller modelbinders modelica modeling modelsim modelstate modem modularity modularization module module.exports modulefile modulo modulus modx mojolicious moleculer moloquent moltenvk moment-timezone momentjs monaco-editor monads mongo monitor monitoring monkeypatching mono mono.cecil monodevelop monogame monolog monorepo monospace monte-carlo-tree-search moodle moodle-api moq morgan morphia morphic morphing morris.js moshi mosquitto motherboard motif motion motion-detection motionevent motorengine mount mountebank mouse move move-semantics movesense moviepy moving-average moxy mozilla mp3 mp4 mp4box mpandroidchart mpd mpdf mpeg mpeg-dash mpi mpi-rma mpi4py mpich mplab mplayer mpmediaquery mpu6050 mpv mpxj mq mql4 mqtt mrtk ms-access ms-flow ms-media-foundation ms-mpi ms-office ms-project ms-query ms-wopi ms-word msal msal.js msbuild mschart mscorlib msdeploy mse msf msgbox mshtml msi-patch msix msmessage msp430 msr mssql-jdbc mstest msvc14 msvcrt msxml6 msxsl msys mt4 mtkview mtlbuffer mtp mtproto mule mule-component mule-connector mule-esb mule-studio mule4 mulesoft multcompview multer multi-database multi-index multi-level multi-module multi-project multi-select multi-tenant multi-tier multi-upload multibranch-pipeline multibyte-characters multicast multiclass-classification multidimensional-array multidimensional-cube multifile-uploader multilabel-classification multilevel-analysis multiline multilinestring multilingual multipart multipartform-data multipeer-connectivity multiplayer multiple-columns multiple-conditions multiple-constructors multiple-databases multiple-entries multiple-forms multiple-inheritance multiple-instances multiple-monitors multiple-repositories multiple-tables multiple-users multiple-variable-return multipleselection multiplication multiplicity multiplying multiprocessing multisite multistage-pipeline multithreading multivariate-testing mupdf murmurhash music21 musicxml mustache mustache.php mutable mutablelivedata mutagen mutate mutation mutation-observers mutex mutt mutual-authentication mux muxviz mvp mvvm mvvm-light mvvmcross mxe mxgraph mxnet mybatis mymaps myob mypy mysql n-gram n1ql na nag-fortran nagios naivebayes name-lookup namecheap named-entity-extraction named-entity-recognition named-pipes named-query named-ranges namedtuple nameerror nameof names nameservers namespaces namevaluecollection naming naming-conventions nan nancy nanopb narrator nas nashorn nasm nat native native-ads native-base native-web-component nativecall nativequery nativescript nativescript-angular nativescript-cli nativescript-http-formdata nativescript-plugin nativescript-vue nativewindow natural-sort naudio nav navbar navicat navigation navigation-drawer navigation-properties navigationbar navigationcontroller navigationlink navigationview navigator navision navparams nbconvert ncdf4 nco ncurses ndef ndjson ndk-build nearest-neighbor neat needle-python negate negation negative-lookbehind neo4j neo4j-apoc neo4j-bolt neo4j-browser neomutt neon ner nessus nest nested nested-attributes nested-lists nested-loops nested-resources nested-sets nested-table nestjs net-snmp net-use netbeans netbeans-11 netbeans-8 netbios netcat netcdf netcdf4 netchart netconf netdata netezza netflix netflix-eureka netflix-zuul netlify netlify-cms netlogo netoffice netsh netsuite nettcpbinding nette nettle netty netweaver network-analysis network-interface network-printers network-programming network-protocols network-security network-share networkextension networking networkmanager networkstream networkx neural-network new-expression new-operator newline newman newrelic newsletter next next.js nextflow nexus nexus-prisma nexus3 nfc nfs ng-animate ng-bootstrap ng-build ng-class ng-html2js ng-lightning ng-modules ng-packagr ng-switch ng-tags-input ng-zorro-antd ng2-bootstrap ng2-charts ng2-smart-table ng2-tag-input ngb-datepicker ngfor nginx nginx-config nginx-ingress nginx-location nginx-module nginx-reverse-proxy ngmodel ngonchanges ngrok ngrx ngrx-effects ngrx-router-store ngrx-store ngrx-store-8.0 ngx-admin ngx-bootstrap ngx-bootstrap-popover ngx-charts ngx-chips ngx-datatable ngx-editor ngx-leaflet ngx-loading ngx-pagination ngx-translate ngxs nhibernate nhibernate-mapping nib nic nidaqmx nightly-build nightmare nightwatch nightwatch.js ninja-forms ninject nio nito.asyncex nix nlme nlog nlog.config nlohmann-json nlp nls nltk nm nmake nmea no-data node-amqplib node-async node-canvas node-cluster node-commander node-crypto node-emoji node-fetch node-ffi node-gyp node-modules node-mssql node-mysql node-mysql2 node-opcua node-oracledb node-pdfkit node-pg-pool node-postgres node-promisify node-red node-redis node-sass node-sqlite3 node-streams node-usb node-webkit node.js nodejs-server nodejs-stream nodelist nodemailer nodemcu nodemon nodes noexcept noise noise-reduction nokogiri nom nomachine-nx nominatim non-ascii-characters non-clustered-index non-exhaustive-patterns non-linear-regression non-nullable non-standard-evaluation non-static non-type nonblank nonblocking nonetype nonlinear-optimization noreturn normal-distribution normalization normalize normals northwind nose nosql nosuchmethoderror not-operator notarize notation notepad++ notice notifications notify notifydatasetchanged notnull notserializableexception notsupportedexception nouislider np np-complete npgsql npm npx nreco nrf52 nrql nrules nrwl nrwl-nx ns-3 ns2 nsattributedstring nsb-servicecontrol nscoder nsd nsdata nsdate nsdictionary nsdocument nservicebus nsexception nsfetchedresultscontroller nsfetchrequest nsfilecoordinator nsfilemanager nsincrementalstore nsis nslayoutconstraint nslookup nsmutablearray nsmutableurlrequest nsobject nsoperationqueue nspopupbutton nspredicate nsprintinfo nsprintoperation nsprintpanel nsregularexpression nsstatusbar nsstatusitem nstableview nstextfield nstextview nstoolbar nsubstitute nsundomanager nsurl nsurlsession nsurlsessiondatatask nsurlsessiondownloadtask nsuserdefaults nsviewcontroller nswag nswagstudio nswindow nswindowcontroller nsxmlparser ntfs ntlm ntlm-authentication ntp nuclio nuget nuget-package nuget-spec nugetgallery nuke null null-coalescing null-coalescing-operator null-pointer nullable nullpointerexception nullptr nullreferenceexception numba number-formatting numberformatexception numberformatter numbers numeraljs numeric numeric-input numerical-methods numerical-stability numpad numpy numpy-broadcasting numpy-ndarray numpy-slicing nunit nunit-3.0 nunittestadapter nutch nuxeo nuxt nuxt.js nvarchar nvcc nvd3.js nvda nvenc nvidia nvidia-jetson nvidia-jetson-nano nvl nvm nvm-windows nvme nvprof nxp-microcontroller oauth ob-start obd-ii obfuscation objdump object object-detection object-detection-api object-lifetime object-oriented-analysis object-recognition objectanimator objectinputstream objection.js objective-c objective-c++ objective-c-blocks objective-sharpie objectlistview objectmapper observable observablecollection observablelist observer-pattern observers ocaml ocaml-dune ocelot oci oci8 ocmod ocr oct2py octave october-form-controller octobercms octobercms-backend octobercms-plugins octopus octopus-deploy octree oculus oculus-runtime oculusgo oculusquest odata odata-v4 odbc ode odeint odoo odoo-10 odoo-11 odoo-12 odp odp.net ods ofbiz office-addins office-app office-interop office-js office-js-helpers office-ui-fabric office365 office365-apps office365api office365connectors officedev officer offline offline-caching offlineapps offset offsetof ofstream og-meta ogg oh-my-zsh oidc oidc-client oidc-client-js oim okd okhttp okhttp3 okta okta-api olap oledb oledbcommand oledbconnection oledbdataadapter om-next omnet++ omnipay omnisharp on-prem on-screen-keyboard onbackpressed onblur onchange onclick onclicklistener ondestroy one-definition-rule one-hot-encoding one-time-password one-to-many one-to-one onedrive onelogin onenote onenote-api onesignal onfocus online-algorithm onlinejudge onload onlyoffice onmeasure onmousemove onmouseover onnx onpause onresume onsaveinstancestate onscrolllistener onsen-ui onsen-ui2 onsubmit ontology ontouch ontouchlistener onupdate onvif oomph oop oozie opacity opc opc-da opc-ua open-basedir open-closed-principle open-generics open-graph-protocol open-liberty open-policy-agent open-source open-with openai-gym openal openam openapi openapi-generator openblas openbox openbsd opencart opencart-3 opencart-module opencart2.x opencl opencl-c opencpu opencv opencv-contour opencv-python opencv-solvepnp opencv3.0 opencv4 opencv4android opencv4nodejs opencvsharp opendaylight openedge openfeign openfl opengl opengl-3 opengl-compat opengl-es opengl-es-2.0 opengraph openhab openid openid-connect openjdk-12 openjfx openjpa-maven-plugin openkinect openlayers openlayers-5 openldap openlink-virtuoso openmaptiles openmodelica openmp openmpi openni opennlp openoffice-calc openolat openpdf openpgp openpose openproject openpyxl openresty openshift openshift-3 openshift-enterprise openshift-online openshift-origin opensql openssh openssl openstack openstack-heat openstack-nova openstack-swift openstreetmap opensuse opentbs opentext opentk opentok opentracing openvpn openvr openwebrtc openwhisk openwrt openxlsx openxml openxml-sdk opera operands operating-system operation operator-keyword operator-overloading operator-precedence operators opkg opl oppo optaplanner opticalflow optics-algorithm optimistic-concurrency optimization option optional optionmenu options opus or-tools ora-00923 ora-01861 oracle orange orbeon orbital-mechanics orc orchardcms ord ordereddict orders ordinal org-mode org.json organization organizer orientdb orientdb3.0 origen-sdk orm orocrm orthographic os-userspace os.path os.system osc oscilloscope osclass osdev osgi osgi-bundle osm2pgsql osmdroid osmfilter osmnx osmosis osquery osrm ostream osx-elcapitan osx-gatekeeper osx-server ota otl otms otp otrs out out-of-memory out-parameters outer-join outliers outlook output overflow overlap overlapping overlapping-instances overlay overloading overpass-api overriding oversampling overwrite ovh ovirt owasp owin owin-middleware owl owl-api owl-carousel owl-carousel-2 owncloud owned-types ownership oxygenxml oxyplot p p-value p12 p2p p3p p5.js p8 pacemaker pack package package-development package-managers package.json packagereference packaging packer packet packet-capture packetbeat packr pact pact-java pact-jvm padding page-factory page-lifecycle page-object-gem page-refresh page-tables pageable pagedlist pagertabstrip pagespeed pagespeed-insights paginate pagination paginator paging paho pahocpp paint paintcomponent pairing pairwise pako palindrome pam pan panda3d pandas pandoc panel panel-data pango panic panoramas papaparse paperclip paperjs papermill papyrus parallax parallax.js parallel-execution parallel-foreach parallel-processing parallel-testing parallel.foreach parallelism-amdahl parameter-expansion parameter-passing parameterbinding parameterized parameters parametric-polymorphism paramiko parcel parcelable parceljs parent parent-child parentheses pari pari-gp parity parquet parse-platform parse-server parse-tree parse-url parser-generator parsing partial partial-classes partial-views partials particle-system particles.js partition partitioning party pascal pass-by-reference pass-by-rvalue-reference pass-by-value pass-data passenger passkit passport-jwt passport-local passport-twitter passport.js password-encryption password-hash password-less password-policy password-protection passwords paste patch path path-finding path-variables pathos patindex patroni pattern-matching pattern-mining pause paw-app payara payload payment payment-gateway payment-method payment-processing paypal paypal-ipn paypal-rest-sdk paypal-sandbox paypal-subscriptions paytabs paytm payumoney pbs pc pca pcf pcfdev pci pcm pcov pcre pcsc pdb pdcurses pde pdf pdf-extraction pdf-generation pdf-scraping pdf-to-html pdf.js pdfa pdfbox pdfjs pdflatex pdflib pdfminer pdfpages pdfptable pdfsharp pdftotext pdfview pdi pdo pear pecl peerjs peewee peg pelias pem pen pendulum penetration-testing penetration-tools pentaho pentaho-cde pentaho-ctools pentaho-data-integration pentaho-spoon peoplesoft pepper percentage percentile percona perfect-forwarding perfect-numbers perforce performance performance-testing perl perl5 perl6 perlin-noise perlmagick permalinks permission-denied permissions permutation persist persistence persistence.xml persistent persistent-storage persistent-volume-claims persistent-volumes personal-hotspot personalization perspective petalinux petapoco pffile pfx pg pg-dump pg-restore pg-upgrade pg8000 pgadmin pgadmin-4 pgp pgpool pgrouting pgx pgzero phabricator phalcon phalconphp phantom-reference phantomjs phantomjs-node phase phaser phaser-framework phasset phassetcollection pheatmap philips-hue phishing phoenix phoenix-framework phone-number phonegap phonegap-build phonegap-plugin-push phonegap-plugins photo photobooth photon photoshop photoshop-script php php-5.3 php-7 php-7.0 php-7.2 php-7.3 php-carbon php-curl php-di php-extension php-gd php-generators php-gettext php-mongodb php-pthread php-toolkit php-zip-archive phpagi phpbb phpbrew phpcrawl phpcs phpdesktop phpdoc phpexcel phphotolibrary phpmailer phpmyadmin phppresentation phpseclib phpspreadsheet phpstorm phpunit phpunit-testing phpwebsocket phpword phylogeny physical-design physics pi pic pic32 picasso picker pickerview pickle picocli picocontainer picture-in-picture picturebox pid pie-chart pika pikaday pimcore-v5 pinchzoom pine-script ping pinning pinterest pinvoke pip pipe pipeline pipenv pivot pivot-grid pivot-table pivotal-cloud-foundry pixel pixel-density pixel-shader pixelate pixi.js pixijs pjax pjsip pjsua2 pkce pkcs#11 pkcs#7 pkg-config pkgbuild placeholder placement-new plaintext plan-9 plasticscm platform play-billing-library play-json player-swift playframework playframework-2.0 playframework-2.6 playing playing-cards playmaker playready playsound plc plesk plesk-onyx plist plm plot plotly plotly-dash plotly-express plotly-python plotly.js plotnine plpgsql plsql plsql-package plsqldeveloper plug plugins plumber plupload plyr pm2 pmap pmd png pocketpc pocketsphinx poco-libraries pocodynamo pod podio podspec point point-cloud-library point-clouds point-in-polygon point-of-sale pointer-arithmetic pointers pointofservice points poisson pojo polar-coordinates policy polling polyfills polygon polyline polymer polymer-1.0 polymer-2.0 polymer-3.x polymer-starter-kit polymorphic-relationship polymorphism polynomial-math polynomials pom.xml pomegranate pool pooling pop3 popen popmotion popover popper.js poppler populate population popup popupmenu popupwindow port portable-applications portable-class-library portable-executable portainer portal portaudio portfolio portforwarding porting portlet pos pose-estimation position positional-parameter positioning posix posixct posprinter post post-build-event post-increment postal-code postback postdata postfix-mta postgis postgis-installation postgres-10 postgres-9.6 postgresql posting postman postman-collection-runner postman-native-app postman-pre-request-script postman-testcase postmark postmessage posts postscript pouchdb power-bi-report-server powerapps powerapps-canvas powerapps-collection powerapps-formula powerbi powerbi-custom-visuals powerbi-datasource powerbi-desktop powerbi-embedded powercli powerline powermanager powermock powermockito powerpc powerpivot powerpoint powerpoint-vba powerquery powershell powershell-2.0 powershell-3.0 powershell-4.0 powershell-5.0 powershell-core powershell-remoting powershell-studio powershell-v5.1 pprint pptp pq practical-common-lisp pragma pre pre-authentication pre-build-event pre-commit pre-increment pre-trained-model preact prebid prebid.js precision precompile precompiled predicate predict prediction predictionio preempt-rt preferences prefetch prefix preflight preg-match preg-match-all preg-replace preg-replace-callback preload prepared-statement preprocessor preprocessor-directive prerender presentmodalviewcontroller presentviewcontroller preset prestashop prestashop-1.6 prestashop-1.7 presto prettier pretty-print preventdefault preview price primality-test primary-key primefaces primeicons primeng primeng-datatable primeng-table primeng-treetable primeng-turbotable primes primitive printer-control-language printers printf printing println priority-queue priority-web-sdk prism prisma prisma-binding prisma-graphql prismic.io privacy privacy-policy private private-key private-members private-methods private-subnet privileges probability probability-density probability-distribution probability-theory probe proc proc-sql procedural-generation procedure process process-explorer process-pool process.start processbuilder processing processing-efficiency processor processstartinfo procrun producer producer-consumer product product-catalog product-management production production-environment profile profile-picture profiling progmem program-slicing programmatically programming-languages progress progress-4gl progress-bar progressive-web-apps proguard proj project project-calico project-management project-reactor project-reference project-template projectile projective-geometry projects-and-solutions prolog prometheus prometheus-alertmanager prometheus-blackbox-exporter prometheus-node-exporter prometheus-process-exporter promise promisekit promotions prompt prompt-toolkit proof proof-general proof-of-correctness prop propagation properties properties-file propertygrid prose-mirror protected protected-mode protection protege proto proto.actor proto3 protobuf-3 protobuf-go protobuf-java protobuf-net protocol-buffers protocols prototypal-inheritance prototype protractor protractor-net provider provider-hosted provisioning-profile proxies proximity proximo proxmox proxy proxy-authentication proxypass proxyquire pruning ps1 psalm-php pscl pscp pseudo-element pseudocode psexec psobject psql psr-0 psr-11 pst psutil psych psychopy psychtoolbox psycopg2 pthread-join pthreads public public-key public-key-encryption publish publish-subscribe publisher publishing pubmed pubnub pug pug-loader pull-request pulp pulseaudio puma punctuation pundit puppet puppet-enterprise puppeteer pure-virtual puredata purejs-onepage-scroll purescript purrr push push-back push-notification pushbullet pusher pusher-js pusherswift pushkit pushviewcontroller pushwoosh put putty puzzle pvclust pwd pweave pwm py2app py2neo py4j pyalgotrade pyarango pyarrow pyathena pyaudio pyautogui pybind11 pybluez pycharm pycocotools pycorenlp pycrypto pycryptodome pycuda pydicom pydrive pyenv pyexcel pyexiv2 pyfits pygame pygame-surface pyglet pygobject pygooglechart pyhive pyi pyinstaller pyjnius pylint pylintrc pymc pymc3 pymel pymodbus pymongo pymongo-3.x pymssql pymupdf pymysql pynco pyobjc pyodbc pyomo pyopencl pyopengl pyparsing pypdf pypdf2 pypi pyproj pypy pyqt pyqt4 pyqt5 pyqtdeploy pyqtgraph pyramid pyrebase pysam pyserial pyshark pyside pyside2 pysimplegui pysnmp pyspark pyspark-sql pytest pytest-html python pytorch pyttsx pytz pyusb pyvmomi pywin32 pywinauto pyyaml pyzmq q qa qa-c qabstracttablemodel qandroidjniobject qbasic qbs qchart qchartview qdatastream qdialog qemu qfile qgis qgraphicsitem qgraphicsproxywidget qgraphicsview qhull qiskit qitemselectionmodel qliksense qlikview qlineedit qlistview qmainwindow qmake qmediacontent qmediaplayer qmetaobject qml qmodelindex qnamaker qnx qopenglwidget qos qpainter qpainterpath qpixmap qprocess qpushbutton qpython3 qr-code qradiobutton qregularexpression qrunnable qscrollarea qsettings qslider qstackedwidget qstandarditemmodel qstring qsub qt qt-creator qt-designer qt-quick qt3d qt4 qt5 qt5.12 qt5.6 qt5.9 qtableview qtablewidget qtav qtcharts qtconcurrent qtcore qtcpserver qtcpsocket qtextedit qthread qtimer qtip qtip2 qtpositioning qtquick2 qtranslator qtreeview qtreewidget qtserialport qttest qtwayland qtwebchannel qtwebengine quadratic-programming quadtree quagga quaggajs quake quakec qualtrics quanteda quantile quantitative-finance quantization quantopian quantum-computing quarkus quart quartus quartz quartz-scheduler quartz.net quasar quasar-framework quasiquotes quaternions qubes-os query-builder query-optimization query-parameters query-performance query-planner query-string query-variables querydsl querying queryselector quest queue quickblox-android quickbooks quickbooks-online quickfix quickfixj quicklisp quicklook quicksight-embedding quicksort quill quill.io quosure quota quote quotes quoting qvalidator qvariant qvideowidget qweb qwebenginepage qwebengineview qwebview qwidget qwt r r-base r-bigmemory r-caret r-corrplot r-dbi r-dygraphs r-extension r-future r-grid r-highcharter r-leaflet r-mapedit r-mapview r-markdown r-mice r-package r-plotly r-ranger r-raster r-server r-tree r-zelig r.net r2d3 r2winbugs r6 r8 rabbitmq rabbitmq-exchange rabbitmq-shovel rabbitmqctl rabbitpy rabin-karp race-condition rack racket radar-chart radgrid radial radio radio-button radio-group radius radlistview raft raid raii rails-activejob rails-activerecord rails-activestorage rails-api rails-engines rails-migrations rails-routing rails-sprockets rails-upgrade raima raintpl rajawali rake rake-task rake-test rakefile raku rally ram ramda.js ramdisk rancher random random-forest random-seed random-walk range rangy rank rank-n-types ranking ranking-functions ranorex ransac ransack rapache rapidclipse rapidjson rapids rappid rar rasa rasa-core rasa-nlu rascal raspberry-pi raspberry-pi-zero raspberry-pi2 raspberry-pi3 raspberry-pi4 raspbian raster rasterio rastervis ratchet rate-limiting ratingbar rational-number rational-team-concert ravendb raw-input raw-loader rawimage rawrabbit ray raycasting razor razor-pages razorengine razorpay rbac rbenv rbind rblpapi rcc rcp rcpp rcpparmadillo rcurl rdata rdb rdbms rdd rdf rdfs rdkit rdlc rdma rdo rdp rds react read-eval-print-loop read-the-docs read-write readability readdir reader readfile readline readlines readme readonly readonly-attribute readprocessmemory readr ready-api reakit real-time real-time-clock realitykit realm realm-cloud realm-database realm-ios realm-migration realm-mobile-platform realsense realurl reason reason-react rebase rebass reboot rebus rebus-rabbitmq recaptcha recaptcha-v3 receipt receipt-validation receiver recharts recode recognizer-intent recommender-systems recompile record recording recordset recover recovery rectangles recurly recurrent-neural-network recurring recursion recursive-cte recursive-descent recursive-query recursive-type recv recycler-adapter red5 red5pro redaction redash redbird reddit redhat redhawksdr redirect redis redis-cache redis-cluster redis-sentinel redisson redistributable redmine redmine-plugins redpitaya redraw reduce reducers reduction redundancy redux redux-actions redux-form redux-logic redux-mock-store redux-observable redux-persist redux-promise-middleware redux-react-hook redux-saga redux-thunk reek reentrantlock reentrantreadwritelock ref refactoring reference reference-counting referer refit reflect reflection reflex reflex-dom reformatting refresh refresh-token regasm regedit regex regex-greedy regex-group regex-lookarounds regex-negation regexp-replace region register-globals registrar registration registry regression regular-language regularized reinforcement-learning reinterpret-cast relation relational relational-database relational-division relational-operators relationship relative-path relativelayout relay relayjs release release-builds release-management relevance reload reloaddata reloadrows rem remap remarkjs reminders remix remote-access remote-backup remote-debugging remote-desktop remote-repository remote-server remotewebdriver remove-if removechild removeeventlistener rename render render-to-texture rendering rendertargetbitmap rendertron renviron repaint repair repast-simphony repl.it replace replaceall replay replaykit replicaset replication repo report reportbuilder reportbuilder3.0 reporters reporting reporting-services reportlab reportserver reportviewer repository repository-pattern reproducible-research request request-headers request-promise requestanimationframe require required requirejs requirements.txt reqwest resampling reselect reset reset-password reshape resharper resignfirstresponder resize resnet resolution resolver resource-cleanup resource-utilization resourcebundle resources respect-validation response response.addheader response.redirect responsive responsive-design responsive-images responsiveness rest rest-assured rest-assured-jsonpath rest-client restangular restart restbed resteasy restfb restful-url restify restore restriction restructuredtext restsharp resttemplate resultset retain retain-cycle rethinkdb rethinkdb-javascript rethinkdb-python rethrow reticulate retina retinanet retrofit retrofit2 retrofit2.6 return return-path return-value reuters reveal.js reverse reverse-engineering reverse-proxy revert review revit revit-api rewriting rfc rfc2616 rfc2822 rfc4180 rfcomm rfid rgb rgdal rgl rgraph rgtk2 rhandsontable rhapsody rhel rhel6 rhel7 rhino ribbon rich-text-editor richfaces richtext richtextblock richtextbox rider right-to-left rightnow-crm rigid-bodies rijndael ringcentral ringtone rippledrawable riscv rjdbc rlang rmi rna-seq rnotebook roaming roblox robo3t robocopy robolectric robolectric-gradle-plugin robot robotframework robotframework-ide robots.txt roc rocket.chat rocksdb roi roku roles rollback rollbar rolling-computation rolling-sum rollingfileappender rollup rollupjs root root-access rootbeer ros ros2 rosetta-code roslyn roslyn-code-analysis rotatetransform rotation rouge round-slider rounded-corners rounding routelink router router-os router-outlet routerlinkactive routes routific-api routing row row-number row-value-expression rowcount rowname rows rowsum rowwise roxygen2 rpa rpart rpc rpgmakermv rpm rpm-maven-plugin rpmbuild rpostgresql rpt rr rsa rsa-archer-grc rsacryptoserviceprovider rscript rselenium rsocket rspec rspec-puppet rspec-rails rspec2 rspec3 rsqlite rss rstudio rstudio-server rsync rsyslog rtaudio rtcpeerconnection rtf rtmp rtools rtos rtp rtsp rtsp-client rtweet ruamel.yaml ruby ruby-2.5 ruby-on-rails ruby-on-rails-3 ruby-on-rails-3.1 ruby-on-rails-4 ruby-on-rails-4.2 ruby-on-rails-5 ruby-on-rails-5.2 ruby-on-rails-6 ruby2d rubygems rubymine rule-engine rules runas rundeck runloop runnable running-total runpy runspace runtime runtime-error runtimeexception rusoto rust rust-actix rust-cargo rust-chrono rust-crates rust-diesel rust-rocket rust-tokio rvalue rvalue-reference rvest rvm rweka rx-java rx-java2 rx-kotlin2 rx-py rx-swift rxalamofire rxdart rxjs rxjs-observables rxjs-subscriptions rxjs6 rxtx s2i saaj saas sabre safari safari-content-blocker safari-extension safaridriver safety-critical saga sage sage-erp sagepay sailpoint sails-mongo sails.io.js sails.js salesforce salesforce-communities salesforce-developer salesforce-einstein salesforce-lightning salesforce-mobile-sdk salt-stack sam samba same-origin-policy samesite saml saml-2.0 sample sample-size sampling samsung-dex samsung-galaxy samsung-health samsung-knox samsung-mobile samsung-smart-tv sandbox sanity sankey-diagram sap sap-bw sap-cloud-platform sap-cloud-sdk sap-crm sap-fiori sap-gui sap-web-ide sapi sapper sapply saprfc sapscript sapui5 sas sas-dis sas-macro sas-visual-analytics sasl sass sass-globbing sass-loader sata save save-as savechanges saved-searches savestate saving-data sax saxon sbatch sbrk sbt sbt-native-packager sbt-plugin sca scaffold scala scale scale-color-manual scaletransform scaletype scalikejdbc scaling scaml scandir scanf scanning scapy scatter scatter-plot scatter3d scatterplot3d sccm scd scene scenebuilder sceneform scenegraph scenekit sceneview schedule scheduled-tasks scheduler scheduling schema schema.org schema.rb schema.yml schematron scheme scichart scikit scintilla scipy scncamera scnnode scnprogram scons scope scopes scopt scoring scp scrape scrapinghub scrapy screen screen-capture screen-orientation screen-readers screen-recording screen-resolution screen-rotation screen-scraping screen-size screensaver screensharing screenshot scriptable-object scriptdom scriptengine scripting scroll scroll-lock scroll-paging scrollable scrollbar scrollmagic scrollspy scrollto scrollview scss-mixins scylla sd-card sdi sdk sdkman sdl sdl-2 sdl-image sdl-mixer sdl-ttf sdn sdo sdp sdwebimage seaborn search search-box search-engine search-path searchable searchbar searchkick searchview seccomp seconds secret-key sections security security-scoped-bookmarks securitymanager sed seed seeding seekbar sef segmentation-fault segue select select-n-plus-1 select-options selectboxit selected selectinput selection selection-sort selectionchanged selectionmodel selectize.js selectlistitem selector selectors-api selenide selenium selenoid self self-contained self-hosting self-invoking-function self-join self-signed self-signed-certificate self-type selinux semantic-markup semantic-release semantic-segmentation semantic-ui semantic-ui-react semantic-versioning semantics semaphore semplot sencha-architect sencha-cmd sencha-touch send sendbird sender sendgrid sendkeys sendmail sendmailr sendmessage seneca sensor sensors sentence sentiment-analysis sentimentr sentinel sentry seo separator seq2seq seqhmm sequelize-cli sequelize-typescript sequelize.js sequelpro sequence sequence-diagram sequencematcher sequential serde serde-json serena serenity-bdd serial-communication serial-port serializable serialization serializer series serilog serve server server-name server-sent-events server-side server-side-attacks server.transfer server.xml serverless serverside-rendering serversocket serverxmlhttp service service-accounts service-broker service-fabric-stateful service-fabric-stateless service-principal service-provider service-worker servicebus servicecontroller servicehost servicenow servicenow-rest-api servicestack serving servlet-4 servlet-filters servlets servo session session-cookies session-state session-state-provider session-storage session-variables set set-difference set-returning-functions set-theory setattr setattribute setbackground setcookie setinterval setneedsdisplay setstate setter settimeout settings setuid setup-project setup.py setuptools setwindowshookex sf sfdc sfinae sfml sfsafariviewcontroller sftp sgen sh sha sha-3 sha1 sha256 sha512 shader shadow shadow-dom shaka shap shapefile shapeless shapely shapes sharding share share-extension shared shared-elements shared-hosting shared-libraries shared-memory shared-objects shared-ptr sharedpreferences sharepoint sharing sharp sharpspring shebang shell shell-exec shelving shibboleth shiny shiny-reactivity shiny-server shinyapps shinydashboard shinyjs shinyproxy shinywidgets shipping shipping-method shiro shopify shopify-app shopify-template shopping-cart shopware short-circuiting shortcode shortcut shortest-path shorthand show-hide showdown showwindow shrink shuffle shutdown shutil siblings sicp sicstus-prolog siddhi side-menu sidebar sidekiq sideloading sidr sieve-of-eratosthenes sightly sigma.js sigmoid sign signal-processing signal-protocol signaling signalr signalr-hub signalr.client signals signals-slots signature signaturepad signed significant-digits signing signtool silvershop silverstripe silverstripe-4 sim-card sim800 simd similarity simple-form simple-form-for simple-injector simplecursoradapter simpledateformat simpleitk simplewebrtc simplexml simplicity-studio simplify simpy simulation simulator simulink sinatra sinatra-activerecord sinch single-dispatch single-page-application single-quotes single-sign-on single-table-inheritance single-threaded singleton singly-linked-list singularity-container sinon sinon-chai sip siri sirikit sirishortcuts site-packages site-prism sitecore sitecore-sxa sitecore-ucommerce sitecore8 sitecore9 sitefinity sitemap size size-classes size-type sizeof sjplot skew skiasharp skip sklearn-pandas skphysicsbody skphysicsjoint skscene skspritenode skulpt sky skybox skyfield skype skype-bots skype-for-business skypedeveloper slack slack-api slatejs slcomposeviewcontroller sld sleekxmpp sleep sleep-mode sles slf4j slice slicers slick slick-3.0 slick.js slider slim slim-3 slim-4 sling sling-models slot slots slowdown slug slurm smali smalltalk smart-device smart-pointers smart-tags smart-tv smartcontracts smartphone smartsheet-api smarty smarty3 smb smbus smime smooth-scrolling smoothing smote smpp sms sms-verification smsmanager smsretriverapi smt smtp smtp-auth smtplib sna snackbar snakecasing snakemake snakeyaml snap.svg snapchat snapkit snappy snapshot snapshot-isolation sni sniffer sniffing snmp snmp4j snort snowflake snowflake-datawarehouse snowsql sns so-reuseport soap soap-client soapui sobel social social-media social-networking socialengine socialshare socket-timeout-exception socket.io socket.io-redis socketcluster sockets sockjs socks sodium soft-keyboard software-collections software-defined-radio software-design software-distribution software-quality software-serial software-update solace solaris solarium solid-principles solidity solidworks solr solr-query-syntax solr5 solr7 solrcloud solrj solution solution-explorer solver sonar-runner sonarcloud sonarlint sonarlint-eclipse sonarqube sonarqube-scan sonarscanner sonata sonata-admin sonatype sonos soot soql sorbet sorcery sorl-thumbnail sortablejs sorting sound-synthesis soundcloud source-maps sox sp sp-send-dbmail space space-complexity spacemacs spaces spacing spack spacy spam spannablestring spark-ar-studio spark-avro spark-cassandra-connector spark-checkpoint spark-csv spark-java spark-notebook spark-streaming spark-streaming-kafka spark-structured-streaming spark-submit sparklines sparklyr sparkpost sparkr sparql sparse-matrix spatial spatial-query spatialite spatie spatstat spawn spawning specflow special-characters specialization specifications specter spectral speech speech-recognition speech-synthesis speech-to-text speed-test spell-checking spf spfx spi spidermonkey spine spinnaker spinner spiral spki splash-screen splice spline splinter split splitpane splunk splunk-formula splunk-query spn spock spoofing spotbugs spotfire spotfire-analyst spotify spotify-docker-client spotify-scio spotipy spotlight-dbpedia spout spp spray spray-routing spread spreadsheet spreadsheetml spree spring sprint sprite sprite-kit sprite-sheet spss spss-modeler spy spyder spyne spyon sqflite sql sql-delete sql-execution-plan sql-function sql-import-wizard sql-injection sql-insert sql-job sql-like sql-limit sql-loader sql-masking sql-optimization sql-order-by sql-pl sql-query-store sql-returning sql-scripts sql-server sql-to-linq-conversion sql-update sql-view sqlalchemy sqlalchemy-utils sqlanywhere sqlbulkcopy sqlcipher sqlcipher-android sqlclr sqlcmd sqlcommand sqlconnection sqldataadapter sqldatasource sqldatatypes sqldependency sqlfilestream sqlite sqlpackage sqlperformance sqlplus sqlprofileprovider sqlsrv sqoop sqr sqrt square square-connect squarespace squash squeak squid src srcset srid srp-protocol ss ss7 ssas ssas-tabular ssd sse ssh ssim ssis ssis-2012 ssis-2014 ssis-2017 ssis-connection-manager ssjs ssl ssl-certificate sslcontext sslhandshakeexception sslsocketfactory ssm ssml ssms ssms-2014 ssms-2017 ssms-2018 ssmtp sspi ssr ssrs-2008 ssrs-2008-r2 ssrs-2012 ssrs-2016 ssrs-expression ssrs-grouping ssrs-tablix sssd stack stack-memory stack-navigator stack-overflow stack-smash stack-trace stackblitz stackdriver stacked stacked-chart stackexchange-api stackexchange.redis stacklayout stan standard-deviation standard-error standards stanford-nlp star-schema stargazer start-activity start-process startactivityforresult startswith startup startupscript staruml starvation stat stata state state-machine state-management state-restoration stateful statefulwidget statelesswidget statelist static static-analysis static-assert static-binding static-block static-cast static-classes static-code-analysis static-files static-ip-address static-libraries static-linking static-methods static-site statistical-test statistics statsmodels status statusbar stax stay-logged-in std std-function std-source-location stdarray stdasync stdatomic stdbind stddeque stderr stdev stdin stdio stdlist stdmap stdmove stdoptional stdout stdstring stdvector steam-web-api steamvr steamworks-api stemming stenciljs stepper stereo-3d sticky sticky-footer stickyrecycleview stimulsoft stimulusjs stl stm stm32 stm32f1 stm32f4 stm32f4discovery stm32f7 stm32ldiscovery stock stomp stompjs stop-words stopwatch storage storage-access-framework storage-duration storagefile store stored-functions stored-procedures storefront storekit storing-data stormcrawler storyboard storybook storyshots str-replace straight-line-detection strapi strategy-pattern strava strcmp stream stream-builder streaming streamreader streamwriter street-address strikethrough string string-agg string-comparison string-concatenation string-constant string-formatting string-interpolation string-length string-literals string-matching string-parsing string-search string-substitution string-view stringbuilder stringify stringio stringr stringstream strip strip-tags stripe-invoices stripe-payments strongloop strongswan strophe strophe.js strpos strsplit strtotime struct structlog structure structured-data structured-logging structuremap struts struts2 struts2-interceptors sts-securitytokenservice sttwitterapi stub studio3t stun stunnel style-transfer stylecop styled-components styles stylesheet styling stylus stylus-loader su sub-array subclass subclassing subdirectory subdocument subdomain subject sublime-text-plugin sublimemerge sublimerepl sublimetext sublimetext-snippet sublimetext3 sublist submit subnet subplot subprocess subquery subreport subroutine subscribe subscriber subscription subset substitution substr substrate substring subtitle subtotal subtraction subtype subview sudo sudoku suds suffix suffix-tree sugarcrm suite suitecloud suitecommerce suitecrm suitescript suitescript2.0 suitesparse sulu sum sumifs summarize summary summernote sumo sumoselect.js sumproduct super superagent superfish supertab supertest supervised-learning supervisord supportmapfragment surfaceview surge.sh surroundscm survey survival-analysis sustainsys-saml2 svc svcutil.exe svelte svelte-3 svelte-component svg svg-filters svg-sprite svg.js svgpanzoom svm svn svn-externals swagger swagger-2.0 swagger-3.0 swagger-codegen swagger-codegen-maven-plugin swagger-editor swagger-maven-plugin swagger-php swagger-ui swallowed-exceptions swap swarm swashbuckle sweave sweetalert sweetalert2 swift swig swig-template swing swipe swiper swiperefreshlayout swirl switch-statement switchmap swrl swt sybase sybase-ase sylius symbolic-math symbols symfony symfony-2.7 symfony-2.8 symfony-3.2 symfony-3.4 symfony-4.3 symfony-console symfony-eventdispatcher symfony-forms symfony-messenger symfony-process symfony-security symfony-sonata symfony3.x symfony4 symlink symmetric sympy syncfusion synchronization synchronize synchronized synchronous synonym syntax syntax-error syntax-highlighting syntex synthesis sys sysdate syslog syslog-ng sysml syspolicy-purge-history system system-calls system-integration system-properties system-verilog system.data.sqlite system.drawing system.io.file system.net.mail system.out system.reactive system.reflection system.threading.channels systemctl systemd t-test ta-lib tab-completion tab-delimited tabbar tabbed tabbedpage tabitem table-lock table-locking table-plus table-valued-parameters tableau tableau-online tablecell tablecolumn tabledit tablelayout tablename tableofcontents tablerow tablesorter tableview tablib tabs tabular tabulate tabulator tabview tachyon tachyons-css tag-helpers tagging taglib tags tail tail-recursion tailwind-css talend talkback talos tampermonkey tap tapi taptargetview tar tarantool tarfile target targeting tarsosdsp task task-parallel-library task-queue taskbar taskfactory taskmanager taskscheduler tasm tastypie tax taxonomy taxonomy-terms taylor-series tbb tcl tclientdataset tclientsocket tclsh tcp tcpclient tcpdf tcpdump tcpserver tcsh tdd tde tdlib tdm-gcc teamcity teamviewer teaspoon tectonic-coreos tedious teechart teiid telegraf telegraf-inputs-plugin telegraf-plugins telegram telegram-bot telegram-webhook telemetry telephonymanager telerik telerik-grid telerik-mvc telerik-reporting teletext telethon television telnet temp temp-tables template-classes template-deduction template-engine template-haskell template-literals template-meta-programming template-specialization template-templates templates templating temporal temporal-tables temporary-files tempus-dominus-datetimepicker tendermint tensor tensorboard tensorflow tensorflow-c++ tensorrt tera teradata teraterm term term-document-matrix terminal terminal-emulator terminal-services terminate termination terminator terminology termux ternary ternary-operator terraform terraform-provider-aws terraform-provider-azure terraform-provider-gcp terraform-template-file terrain tesseract test-bench test-coverage test-data test-explorer testability testcafe testcontainers testflight testing testng testng-annotation-test testng-dataprovider testng-eclipse testng.xml tetris tex texas-instruments texreg text text-align text-classification text-comparison text-decorations text-editor text-extraction text-files text-indent text-mining text-parsing text-processing text-recognition text-segmentation text-to-column text-to-speech textangular textarea textblob textblock textbox textfield textfieldparser textformat textinput textinputlayout textjoin textkit textselection textstyle texture-mapping texture2d textures textureview textview tf-idf tf.keras tfidfvectorizer tfilestream tflearn tfrecord tfs theano theano-cuda theano.scan themes themoviedb-api theorem-proving theory theos thephpleague thermal-printer thesaurus thin thin-client thingsboard thingsboard-gateway this this-pointer thorntail thread-safety thread-synchronization threadpool threadpoolexecutor three.js threetenabp threetenbp thrift thrift-protocol throttling throughput thrust thumb thumbnails thunderbird thymeleaf tibble tibco tibco-business-works tibco-ems tic-tac-toe ticker ticket-system ticketmaster tidal-scheduler tidyeval tidygraph tidyr tidytext tidyverse tiff tikzdevice tiled tiles timagelist time time-complexity time-estimation time-series time-travel time.h timed timedelta timefield timeit timeline timelion timeout timeoutexception timepicker timer timertask timescaledb timestamp timestamp-with-timezone timeval timezone timezone-offset timing timsort tinker tinkerpop tinkerpop3 tintcolor tinybutstrong tinydb tinymce tinymce-4 tinytex title title-case tivo tivoli tizen tizen-emulator tizen-studio tizen-wearable-sdk tizen-web-app tk tkinter tkinter-canvas tkinter-entry tkinter-layout tktable tla+ tlaps tld tls1.2 tls1.3 tm tmap tmux tns to-date toad toast toco tocttou today-extension todictionary todo tofixed toggle tokbox token tokenize tolower tomcat tomcat7 tomcat8 tomcat9 tomee toml toolbar toolchain tooltip top-command top-n topic-modeling topicmodels topojson topshelf tor torch torchscript torchtext torchvision torcs tornado tornado-motor tornadofx torque tortoisesvn tosca tostring totara totp touch touch-event touchableopacity touchscreen tournament tox tpkeyboardavoiding tpl-dataflow tpm tpu tr tr1 trace traceroute trackbar tracking trading tradingview-api traefik trailing train-test-split training-data trains traits transactionmanager transactions transactionscope transactiontoolargeexception transfer transfer-learning transform transformation transformer transition transitive-dependency translate translation transparency transparent transpiler transport-stream transpose traveling-salesman travis-ci tree tree-structure treemap treenode treepanel treeset treeview trellis trello trend trendline tricore trie triggers trigonometry trilinos trim trimesh trinitycore triple-equals triplet trix trojan troposphere true-type-fonts truffle truncate truncation trust trusted-web-activity trustpilot truststore truthiness try-catch try-except try-finally try-with-resources ts-jest ts-loader ts-node tsconfig tshark tslint tsql tsqlt tsvector tsx ttk tty tuespechkin tukey tumblr tun-tap tunnel tunneling tuples turbo-c++ turbolinks turi turing-machines turn turn.js turtle-graphics tuxedo tvos twa tween.js tweenmax tweepy tweetinvi tweetr tweets twig twilio twilio-api twilio-functions twilio-php twilio-programmable-voice twilio-twiml twilio-video twiml twincat twincat-ads twinx twitch twitter twitter-bootstrap twitter-bootstrap-3 twitter-bootstrap-wizard twitter-card twitter-finagle twitter-oauth twitter-r twitter-share twitter-streaming-api twitter4j twitterapi-python twitterkit two-factor-authentication two-way-binding tx-gridelements tx-news tycho type-assertion type-bounds type-coercion type-conversion type-deduction type-erasure type-graphql type-hinting type-inference type-kinds type-mismatch type-signature typeahead typechecking typeclass typeconverter typedef typedescriptor typeerror typeface typeform typehints typeloadexception typemaps typemoq typename typeorm types typesafe-actions typescript typescript-compiler-api typescript-declarations typescript-decorator typescript-generics typescript-typings typescript2.0 typescript3.0 typetraits typing typo3 typo3-6.2.x typo3-7.6.x typo3-8.x typo3-9.x typo3-extensions typolink typoscript u-boot u-sql uac uart uber-api uberjar ubsan ubuntu ucanaccess ucd ucwa udeploy udev udid udp udpclient udpipe uefi ufw uglifyjs ui-automation ui-grid ui-testing uiaccessibility uiactionsheet uiactionsheetdelegate uiactivityviewcontroller uialertcontroller uialertview uiapplication uiapplicationdelegate uiautomatorviewer uibuilder uibutton uic uicollectionview uicollectionviewcell uicollectionviewflowlayout uicollectionviewlayout uicolor uicomponents uicontainerview uicontrol uid uidatepicker uidocument uidocumentpickervc uifont uigesturerecognizer uigraphicscontext uiimage uiimagepickercontroller uiimageview uiinputviewcontroller uiinterfaceorientation uikit uikitformac uilabel uilocalizedcollation uilongpressgesturerecogni uimanager uinavigationbar uinavigationcontroller uinavigationitem uint64 uint8t uipangesturerecognizer uipath uipath-studio uipickerview uirefreshcontrol uiresponder uiscrollview uisearchbar uisearchcontroller uislider uisplitviewcontroller uistackview uistatusbar uistepper uistoryboard uistoryboardsegue uiswipegesturerecognizer uiswitch uitabbar uitabbarcontroller uitabbaritem uitableview uitableviewrowaction uitapgesturerecognizer uitest uitextfield uitextview uiveri5 uivibrancyeffect uiview uiviewanimation uiviewanimationtransition uiviewcontroller uiviewpropertyanimator uiwebview ulimit umbraco umbraco7 umbraco8 umd uml uml-designer unary-operator unbox unboxing unbuffered-queries unc uncaught-exception undeclared-identifier undefined undefined-behavior undefined-index undefined-reference undefined-symbol underscore.js underscore.js-templating undertow undo-redo unexpected-token unflatten unhandled unhandled-exception unicode unicode-escapes unicode-string unicorn-engine uniform-distribution uninstall union union-all union-types unions uniq unique unique-constraint unique-index unique-key uniqueidentifier unirest unirx unit-of-work unit-testing units-of-measurement unity universal universal-crt universal-ctags unix unmanaged unmarked-package unmarshalling unmodifiable unobtrusive-validation unordered-map unordered-multimap unpack unpivot unreal-blueprint unreal-engine4 unrecognized-selector unsafe unset unsigned unsigned-integer unsubscribe unsupervised-learning until-loop unwind-segue unzip update-inner-join updatepanel updates upgrade upload upnp uppaal uppercase urbancode uri url url-rewrite-module url-rewriting url-routing url-scheme urlclassloader urlconnection urldecode urlencode urlfetch urlhelper urllib urllib2 urllib3 urlloader urlopen urlretrieve urlsession urwid usability usb usb-camera usb-drive usb-flash-drive usb-hostcontroller usb-otg usbserial use-case use-effect user-activity user-agent user-controls user-defined user-defined-functions user-defined-types user-experience user-input user-interface user-management user-permissions user-preferences user-registration user-roles user32 userdefaults userform username userpoints userscripts userspace uses-permission using using-declaration using-directives using-statement usleep usort usrp ussd utc utf utf-16 utf-16le utf-8 utf8mb4 utm utop uuid uv-mapping uvc uvm uwebsockets uwp uwp-xaml uwsgi v-for v-model v-select v4l2loopback v8 vaadin vaadin-flow vaadin-grid vaadin10 vaadin7 vaadin8 vader vagrant vagrantfile valet valgrind validation value-objects valueerror vanishing-point vao vapor vapor-cloud var var-dump varbinary varchar varchar2 variable-assignment variable-names variables variadic variadic-functions variadic-templates variance variant variant-array variations varnish varnish-vcl vb.net vb4android vb6 vba vbo vbscript vbulletin vcenter vcf vcftools vcl vcpkg vcpu vector vector-graphics vectorization vectormath vee-validate vega vega-lite vegan vegeta veins velocity vendor vendor-prefix venn-diagram veracode verification verify verilog version version-control vert.x vertex-shader vertica vertica-plugin vertical-alignment vertical-scrolling vertx-eventbus vespa vestacp vetur vfs vfs-stream vga vgg-net vhd vhdl vhosts vi victory-charts video video-capture video-conferencing video-editing video-embedding video-encoding video-processing video-recording video-streaming video-tracking video.js videogular view view-helpers view-hierarchy view-source viewbag viewchild viewcontroller viewengine viewer viewmodel viewpagerindicator viewport viewport-units viewrendering viewstate viewwilldisappear viewwithtag vim vim-plugin vimeo vimeo-api vin violin-plot viper viper-architecture vips virocore virtual virtual-address-space virtual-environment virtual-functions virtual-machine virtual-memory virtual-network virtual-reality virtual-topic virtualbox virtualenv virtualenvwrapper virtualhost virtualization virtualmin virtualpathprovider virtuoso virus vis.js vis.js-network visibility visible visio vision vision-api visitor visitor-pattern visual-c#-express-2010 visual-c++ visual-c++-2015 visual-foxpro visual-glitch visual-paradigm visual-recognition visual-sourcesafe visual-studio visual-styles visualforce visualization visualize vivado vivado-hls vk vlc vlc-qt vlcj vlookup vlsi vmware vmware-clarity vmware-workstation vnc-server vnc-viewer vnext voice voice-recognition voiceover voip volatile voltdb volume volusion voronoi voting-system voxel voyager vpc vpn vps vpython vs-extensibility vscode-code-runner vscode-debugger vscode-extensions vscode-remote vscode-settings vscode-snippets vscode-tasks vsix vsta vstack vstest vsto vsx vtable vtiger vtigercrm vtk vtl vtune vue vuforia vulkan vuzix vuzixm100 vxworks w3-css w3c w3c-validation w3m waf waffle wagtail wagtail-apiv2 wagtail-streamfield wai-aria wait waitress wakanda wake-on-lan wakelock wakeup wallpaper walmart-electrode wamp wampserver wan wand war warden warnings was watch watch-os watch-os-6 watchdog watchkit watchservice watcom waterline watermark watershed watir watson-assistant watson-iot watson-ml watson-studio wav wave waveform wavefront wavesplatform wavesurfer.js wayland waze wc wcag wcag2.0 wcf wcf-data-services wcf-data-services-client wcf-rest wdio-v4 wdio-v5 weak-references wear-os weave weaviate web web-animations-api web-api-testing web-applications web-audio-api web-bluetooth web-component web-config web-crawler web-deployment web-deployment-project web-development-server web-frameworks web-frontend web-hosting web-inspector web-mediarecorder web-mining web-notifications web-parts web-performance web-push web-scraping web-services web-site-project web-sql web-standards web-worker web.py web2py web3 web3js webassembly webautomation webbot webbrowser-control webcam webcenter-sites webclient webcrypto webcrypto-api webdeploy webdriver webdriver-io webdriver-manager webdriver-w3c-spec webdrivermanager-java webdriverwait webex webexception webfonts webforms webforms-routing webgl webgl2 webgrid webhdfs webhooks webjob webkit webkit2 webkitaudiocontext weblogic weblogic12c webmethod webmin webos webots webp webpack webpack-4 webpack-chain webpack-dev-server webpack-encore webpack-file-loader webpack-hmr webpack-hot-middleware webpack-loader webpack-production webpack-splitchunks webpacker webrequest webresource webrole webrtc webserver webservice-client webservicehost websocket websocket-sharp webspeech-api websphere websphere-9 websphere-liberty websphere-portal webstorm webtest webview webvr webxr wechat weebly week-number weibull weighted weighted-average weighted-graph weka wep werkzeug wetransfer wget whatsapi whatsapp where-clause where-on-relation wherehas which while-loop whitelist whitenoise whitespace whm whoosh wia wic wickedpicker wicket wicket-6 widget width wifi wifimanager wiki wikidata wikipedia wildcard wildcard-subdomain wildfly wildfly-10 wildfly-15 wildfly-9 wildfly-swarm will-paginate win-universal-app win2d win32com win32gui winapi winappdriver winbugs windbg windeployqt window window-functions window-handles window-managers window-soft-input-mode window.location window.open windowlistener windows windows-10 windows-7 windows-7-x64 windows-authentication windows-ce windows-community-toolkit windows-container windows-explorer windows-explorer-integration windows-forms-designer windows-identity windows-installer windows-iot-core-10 windows-mobile-5.0 windows-networking windows-runtime windows-security windows-server windows-services windows-socket-api windows-store windows-store-apps windows-subsystem-for-linux windows2012 windowsdomainaccount wine winforms winhttp winmain winmerge winpe winrm winrt-xaml winscp winscp-net winsock winsound winston wiql wireframe wireless wiremock wireshark with-statement wix wix-react-native-navigation wix3 wix3.11 wix3.5 wix3.6 wixcode wixsharp wizard wkhtmltopdf wkwebview wmdc wmi wmic wolfram-mathematica wonderware woocommerce woocommerce-bookings woocommerce-rest-api woocommerce-subscriptions woothemes wopi word word-addins word-cloud word-count word-embedding word-field word-interop word-vba word-vba-mac word-web-addins word-wrap word2vec wordcloud2 wordnet wordpress work-stealing workbox workbox-webpack-plugin workday-api worker worker-process worker-thread workflow workflow-foundation worklight-server worksheet-function workspace world-of-warcraft wow.js wp-nav-menu-item wp-nav-walker wpallimport wpbakery wpf wpf-animation wpf-controls wpfgrid wpftoolkit wpml wpmu wql wrapper writer writetofile ws-client ws-federation ws-reliablemessaging wscript.shell wsdl wsdualhttpbinding wsgi wsh wsimport wso2 wso2-am wso2bps wso2carbon wso2dss wso2ei wso2esb wso2is wso2sp wss wss4j wtforms wwdc wxformbuilder wxmaxima wxpython wxpython-phoenix wxtextctrl wxwidgets wysihtml5 wysiwyg x++ x-frame-options x-xsrf-token x11 x11-forwarding x3d x509 x509certificate x509certificate2 x86 x86-16 x86-64 xacml xamarin xaml xaml-designer xampp xargs xaringan xattribute xbap xbee xbox xc8 xcb xceed xcode xcode-server xcode-storyboard xcode-ui-testing xcode10 xcode10.1 xcode10.2 xcode10.2.1 xcode10.3 xcode11 xcode4 xcode6 xcode8 xcodebuild xcopy xctest xctestcase xcuitest xdebug xdist xdotool xdp xdt xdt-transform xelatex xenapp xerces xero-api xgboost xhtml xhtml2pdf xiaomi xilinx xjb xlabs xlconnect xlib xlink xlpagertabstrip xlrd xls xlsm xlsx xlsxwriter xlwings xlwt xmi xming xml xmobar xmonad xmp xmpp xna xng-breadcrumb xnu xonsh xop xorg xp-cmdshell xpages xpages-ssjs xpath xpath-1.0 xpath-2.0 xpathquery xpo xquery xrange xrp xsd xsd-validation xsd.exe xsdk xserver xsl-fo xslt xss xssf xtable xtend xtensor xterm xtermjs xts xunit xunit.net xyz yacc yadcf yagmail yahoo yahoo-finance yahoo-mail yajra-datatable yaml yamldotnet yammer yandex yara yarn yarn-workspaces yarnpkg yaxis yeogurt yeoman-generator yew yield yii yii-components yii-extensions yii2 yii2-advanced-app yii2-basic-app yii2-model yii2-user yo yoast yocto yodlee yolo yosys youtrack youtube yum yup z-index z3 z39.50 z3py zabbix zalenium zap zapier zapier-cli zbar zebra zebra-printers zedgraph zeep zeit-now zend-framework zend-framework2 zend-framework3 zend-mail zendesk zero zeromq zfit zfs ziggeo-api ziggeo-sdk zillow zip zip4j ziparchive zipfile zipinputstream zipkin zk zkemkeeper zkteco zlib zoho zomato-api zone zone.js zonejs zoo zoom zoomcharts zos zpl zsh zsh-zle zshrc zts zurb-foundation zurb-foundation-6 zxing zxing.net'"
      ]
     },
     "execution_count": 12,
     "metadata": {},
     "output_type": "execute_result"
    }
   ],
   "source": [
    "print(f\"Liste des {len(cv.get_feature_names())} étiquettes après simplification :\")\n",
    "\" \".join(cv.get_feature_names())"
   ]
  },
  {
   "cell_type": "markdown",
   "metadata": {
    "ExecuteTime": {
     "end_time": "2019-09-23T20:08:09.932996Z",
     "start_time": "2019-09-23T20:08:09.886147Z"
    }
   },
   "source": [
    "### Analyse plus fine"
   ]
  },
  {
   "cell_type": "code",
   "execution_count": 13,
   "metadata": {
    "ExecuteTime": {
     "end_time": "2019-09-27T20:53:19.657797Z",
     "start_time": "2019-09-27T20:53:19.303597Z"
    },
    "scrolled": true
   },
   "outputs": [
    {
     "data": {
      "image/png": "[encoded data removed]",
      "text/plain": [
       "<Figure size 432x288 with 1 Axes>"
      ]
     },
     "metadata": {
      "needs_background": "light"
     },
     "output_type": "display_data"
    }
   ],
   "source": [
    "num_labels = np.squeeze(np.asarray(tags.sum(axis=1)))\n",
    "axes = sns.countplot(num_labels);\n",
    "axes.set_title(\"Nombre de catégories par question\");"
   ]
  },
  {
   "cell_type": "code",
   "execution_count": 14,
   "metadata": {
    "ExecuteTime": {
     "end_time": "2019-09-27T20:53:20.439348Z",
     "start_time": "2019-09-27T20:53:19.657797Z"
    },
    "scrolled": true
   },
   "outputs": [
    {
     "data": {
      "image/png": "[encoded data removed]",
      "text/plain": [
       "<Figure size 432x288 with 1 Axes>"
      ]
     },
     "metadata": {
      "needs_background": "light"
     },
     "output_type": "display_data"
    }
   ],
   "source": [
    "tags_s = pd.Series(np.squeeze(np.asarray(tags.sum(axis=0))), \n",
    "                   index=cv.get_feature_names())\n",
    "tags_s.sort_values(inplace=True, ascending=False)\n",
    "axes = sns.distplot(tags_s, kde=False);\n",
    "axes.set_yscale('log');\n",
    "axes.set_title(\"Nombre de questions par catégorie\");"
   ]
  },
  {
   "cell_type": "code",
   "execution_count": 15,
   "metadata": {
    "ExecuteTime": {
     "end_time": "2019-09-27T20:53:20.459495Z",
     "start_time": "2019-09-27T20:53:20.441369Z"
    }
   },
   "outputs": [
    {
     "name": "stdout",
     "output_type": "stream",
     "text": [
      "Étiquettes les plus attribuées\n"
     ]
    },
    {
     "data": {
      "text/plain": [
       "java       8156\n",
       "python     6977\n",
       "c#         2569\n",
       "android    2500\n",
       "react      2165\n",
       "php        2065\n",
       "html       2056\n",
       "angular    1534\n",
       "r          1376\n",
       "css        1340\n",
       "dtype: int64"
      ]
     },
     "execution_count": 15,
     "metadata": {},
     "output_type": "execute_result"
    }
   ],
   "source": [
    "print(\"Étiquettes les plus attribuées\")\n",
    "tags_s.head(10)"
   ]
  },
  {
   "cell_type": "code",
   "execution_count": 16,
   "metadata": {
    "ExecuteTime": {
     "end_time": "2019-09-27T20:53:20.537673Z",
     "start_time": "2019-09-27T20:53:20.459495Z"
    }
   },
   "outputs": [
    {
     "name": "stdout",
     "output_type": "stream",
     "text": [
      "Nombre de labels apparaissant moins de 100 fois : 10752\n",
      "Nombre de labels apparaissant plus de 100 fois : 149\n"
     ]
    }
   ],
   "source": [
    "TRESHOLD = 100\n",
    "count = np.sum(tags.sum(axis=0) < TRESHOLD)\n",
    "print(f\"Nombre de labels apparaissant moins de {TRESHOLD} fois : {count}\")\n",
    "keep_cols = (tags.sum(axis=0) >= TRESHOLD)\n",
    "count = np.sum(keep_cols)\n",
    "print(f\"Nombre de labels apparaissant plus de {TRESHOLD} fois : {count}\")"
   ]
  },
  {
   "cell_type": "code",
   "execution_count": 17,
   "metadata": {
    "ExecuteTime": {
     "end_time": "2019-09-27T20:53:20.622348Z",
     "start_time": "2019-09-27T20:53:20.537673Z"
    }
   },
   "outputs": [
    {
     "name": "stdout",
     "output_type": "stream",
     "text": [
      "149 labels restants :\n",
      ".net ajax algorithm amazon android angular ansible apache api arrays asp.net asynchronous authentication aws azure bash beautifulsoup bootstrap c c# c++ class css csv dart database dataframe date datetime deep-learning dictionary django docker dplyr ecma elasticsearch eloquent entity-framework excel express facebook file firebase flask flutter for-loop forms function ggplot2 git github go google-app google-chrome google-cloud google-maps google-sheets gradle graphql hibernate html http if-statement image intellij ionic-framework ionic4 ios java jenkins jestjs jpa jquery json keras kotlin kubernetes laravel linux list logging loops machine-learning macos matplotlib maven mongo multithreading mysql nginx node.js npm numpy object opencv oracle pandas pdf performance php postgresql powershell pyspark python qt r react redux regex rest ruby ruby-on-rails rust scala scikit selenium shell shiny sorting spring sql sql-server sqlite ssl string svg swift symfony tensorflow tkinter tsql typescript ubuntu unit-testing unity vb.net vba visual-studio vue web web-scraping webpack windows woocommerce wordpress wpf xamarin xcode xml\n"
     ]
    }
   ],
   "source": [
    "keep_cols = np.resize(keep_cols, -1).tolist() # Masque (liste de booléens)\n",
    "labels = set(itertools.compress(cv.get_feature_names(), keep_cols))\n",
    "print(f\"{len(labels)} labels restants :\")\n",
    "print(\" \".join(sorted(labels)))"
   ]
  },
  {
   "cell_type": "markdown",
   "metadata": {},
   "source": [
    "### Mise à jour des données"
   ]
  },
  {
   "cell_type": "code",
   "execution_count": 18,
   "metadata": {
    "ExecuteTime": {
     "end_time": "2019-09-27T20:53:20.838590Z",
     "start_time": "2019-09-27T20:53:20.622348Z"
    }
   },
   "outputs": [
    {
     "data": {
      "text/html": [
       "<div>\n",
       "<style scoped>\n",
       "    .dataframe tbody tr th:only-of-type {\n",
       "        vertical-align: middle;\n",
       "    }\n",
       "\n",
       "    .dataframe tbody tr th {\n",
       "        vertical-align: top;\n",
       "    }\n",
       "\n",
       "    .dataframe thead th {\n",
       "        text-align: right;\n",
       "    }\n",
       "</style>\n",
       "<table border=\"1\" class=\"dataframe\">\n",
       "  <thead>\n",
       "    <tr style=\"text-align: right;\">\n",
       "      <th></th>\n",
       "      <th>OriginalTags</th>\n",
       "      <th>Tags</th>\n",
       "    </tr>\n",
       "  </thead>\n",
       "  <tbody>\n",
       "    <tr>\n",
       "      <td>1</td>\n",
       "      <td>&lt;python&gt;&lt;amazon-web-services&gt;&lt;amazon-s3&gt;&lt;boto3...</td>\n",
       "      <td>{amazon, python}</td>\n",
       "    </tr>\n",
       "    <tr>\n",
       "      <td>2</td>\n",
       "      <td>&lt;python&gt;</td>\n",
       "      <td>{python}</td>\n",
       "    </tr>\n",
       "    <tr>\n",
       "      <td>3</td>\n",
       "      <td>&lt;java&gt;&lt;annotations&gt;&lt;conditional-compilation&gt;</td>\n",
       "      <td>{java}</td>\n",
       "    </tr>\n",
       "    <tr>\n",
       "      <td>4</td>\n",
       "      <td>&lt;node.js&gt;&lt;upload&gt;&lt;sftp&gt;&lt;multer&gt;</td>\n",
       "      <td>{node.js}</td>\n",
       "    </tr>\n",
       "    <tr>\n",
       "      <td>6</td>\n",
       "      <td>&lt;android&gt;&lt;android-layout&gt;</td>\n",
       "      <td>{android}</td>\n",
       "    </tr>\n",
       "    <tr>\n",
       "      <td>...</td>\n",
       "      <td>...</td>\n",
       "      <td>...</td>\n",
       "    </tr>\n",
       "    <tr>\n",
       "      <td>49449</td>\n",
       "      <td>&lt;c#&gt;&lt;uwp&gt;&lt;unc&gt;&lt;xbox&gt;</td>\n",
       "      <td>{c#}</td>\n",
       "    </tr>\n",
       "    <tr>\n",
       "      <td>49450</td>\n",
       "      <td>&lt;python&gt;&lt;excel&gt;&lt;pandas&gt;&lt;pyomo&gt;</td>\n",
       "      <td>{excel, pandas, python}</td>\n",
       "    </tr>\n",
       "    <tr>\n",
       "      <td>49451</td>\n",
       "      <td>&lt;gams-math&gt;</td>\n",
       "      <td>{}</td>\n",
       "    </tr>\n",
       "    <tr>\n",
       "      <td>49455</td>\n",
       "      <td>&lt;excel&gt;&lt;vba&gt;</td>\n",
       "      <td>{excel, vba}</td>\n",
       "    </tr>\n",
       "    <tr>\n",
       "      <td>49457</td>\n",
       "      <td>&lt;azure&gt;&lt;azure-active-directory&gt;&lt;azure-pipeline...</td>\n",
       "      <td>{azure, sql-server}</td>\n",
       "    </tr>\n",
       "  </tbody>\n",
       "</table>\n",
       "<p>47406 rows × 2 columns</p>\n",
       "</div>"
      ],
      "text/plain": [
       "                                            OriginalTags  \\\n",
       "1      <python><amazon-web-services><amazon-s3><boto3...   \n",
       "2                                               <python>   \n",
       "3           <java><annotations><conditional-compilation>   \n",
       "4                        <node.js><upload><sftp><multer>   \n",
       "6                              <android><android-layout>   \n",
       "...                                                  ...   \n",
       "49449                               <c#><uwp><unc><xbox>   \n",
       "49450                     <python><excel><pandas><pyomo>   \n",
       "49451                                        <gams-math>   \n",
       "49455                                       <excel><vba>   \n",
       "49457  <azure><azure-active-directory><azure-pipeline...   \n",
       "\n",
       "                          Tags  \n",
       "1             {amazon, python}  \n",
       "2                     {python}  \n",
       "3                       {java}  \n",
       "4                    {node.js}  \n",
       "6                    {android}  \n",
       "...                        ...  \n",
       "49449                     {c#}  \n",
       "49450  {excel, pandas, python}  \n",
       "49451                       {}  \n",
       "49455             {excel, vba}  \n",
       "49457      {azure, sql-server}  \n",
       "\n",
       "[47406 rows x 2 columns]"
      ]
     },
     "execution_count": 18,
     "metadata": {},
     "output_type": "execute_result"
    }
   ],
   "source": [
    "def filter_tags(t):\n",
    "    return t.intersection(labels)\n",
    "\n",
    "df['Tags'] = df['Tags'].apply(filter_tags)\n",
    "df[['OriginalTags', 'Tags']]"
   ]
  },
  {
   "cell_type": "code",
   "execution_count": 19,
   "metadata": {
    "ExecuteTime": {
     "end_time": "2019-09-27T20:53:20.976657Z",
     "start_time": "2019-09-27T20:53:20.838590Z"
    }
   },
   "outputs": [
    {
     "name": "stdout",
     "output_type": "stream",
     "text": [
      "Nombre total d'étiquettes attribuées : 74414\n",
      "Nombre d'étiquettes distinctes : 149\n"
     ]
    }
   ],
   "source": [
    "cv = CountVectorizer(analyzer='word', preprocessor=dummy, tokenizer=dummy)\n",
    "tags = cv.fit_transform(df['Tags'])\n",
    "print(f\"Nombre total d'étiquettes attribuées : {tags.sum()}\")\n",
    "print(f\"Nombre d'étiquettes distinctes : {len(cv.get_feature_names())}\")"
   ]
  },
  {
   "cell_type": "code",
   "execution_count": 20,
   "metadata": {
    "ExecuteTime": {
     "end_time": "2019-09-27T20:53:21.177215Z",
     "start_time": "2019-09-27T20:53:20.976657Z"
    }
   },
   "outputs": [
    {
     "name": "stdout",
     "output_type": "stream",
     "text": [
      "Nombre de questions sans étiquettes : 5215\n",
      "Taille des données avant suppression : (47406, 6)\n",
      "Taille des données après suppression : (42191, 6)\n"
     ]
    }
   ],
   "source": [
    "no_labels = np.squeeze(np.asarray(tags.sum(axis=1))) == 0\n",
    "print(f\"Nombre de questions sans étiquettes : {sum(no_labels)}\")\n",
    "print(f\"Taille des données avant suppression : {df.shape}\")\n",
    "df = df.iloc[~no_labels]\n",
    "print(f\"Taille des données après suppression : {df.shape}\")"
   ]
  },
  {
   "cell_type": "code",
   "execution_count": 21,
   "metadata": {
    "ExecuteTime": {
     "end_time": "2019-09-27T20:53:21.293107Z",
     "start_time": "2019-09-27T20:53:21.177215Z"
    }
   },
   "outputs": [
    {
     "name": "stdout",
     "output_type": "stream",
     "text": [
      "Nombre total d'étiquettes attribuées : 74414\n",
      "Nombre d'étiquettes distinctes : 149\n"
     ]
    }
   ],
   "source": [
    "cv = CountVectorizer(analyzer='word', preprocessor=dummy, tokenizer=dummy)\n",
    "tags = cv.fit_transform(df['Tags'])\n",
    "labels = cv.get_feature_names()\n",
    "print(f\"Nombre total d'étiquettes attribuées : {tags.sum()}\")\n",
    "print(f\"Nombre d'étiquettes distinctes : {len(labels)}\")"
   ]
  },
  {
   "cell_type": "markdown",
   "metadata": {},
   "source": [
    "### Extraction du premier label (pour classement monolabel)"
   ]
  },
  {
   "cell_type": "code",
   "execution_count": 22,
   "metadata": {
    "ExecuteTime": {
     "end_time": "2019-09-27T20:53:21.377773Z",
     "start_time": "2019-09-27T20:53:21.293107Z"
    }
   },
   "outputs": [
    {
     "data": {
      "text/html": [
       "<div>\n",
       "<style scoped>\n",
       "    .dataframe tbody tr th:only-of-type {\n",
       "        vertical-align: middle;\n",
       "    }\n",
       "\n",
       "    .dataframe tbody tr th {\n",
       "        vertical-align: top;\n",
       "    }\n",
       "\n",
       "    .dataframe thead th {\n",
       "        text-align: right;\n",
       "    }\n",
       "</style>\n",
       "<table border=\"1\" class=\"dataframe\">\n",
       "  <thead>\n",
       "    <tr style=\"text-align: right;\">\n",
       "      <th></th>\n",
       "      <th>Tag</th>\n",
       "      <th>TagCode</th>\n",
       "      <th>Tags</th>\n",
       "    </tr>\n",
       "  </thead>\n",
       "  <tbody>\n",
       "    <tr>\n",
       "      <td>1</td>\n",
       "      <td>amazon</td>\n",
       "      <td>0</td>\n",
       "      <td>{amazon, python}</td>\n",
       "    </tr>\n",
       "    <tr>\n",
       "      <td>2</td>\n",
       "      <td>python</td>\n",
       "      <td>1</td>\n",
       "      <td>{python}</td>\n",
       "    </tr>\n",
       "    <tr>\n",
       "      <td>3</td>\n",
       "      <td>java</td>\n",
       "      <td>2</td>\n",
       "      <td>{java}</td>\n",
       "    </tr>\n",
       "    <tr>\n",
       "      <td>4</td>\n",
       "      <td>node.js</td>\n",
       "      <td>3</td>\n",
       "      <td>{node.js}</td>\n",
       "    </tr>\n",
       "    <tr>\n",
       "      <td>6</td>\n",
       "      <td>android</td>\n",
       "      <td>4</td>\n",
       "      <td>{android}</td>\n",
       "    </tr>\n",
       "    <tr>\n",
       "      <td>9</td>\n",
       "      <td>pandas</td>\n",
       "      <td>5</td>\n",
       "      <td>{pandas}</td>\n",
       "    </tr>\n",
       "    <tr>\n",
       "      <td>14</td>\n",
       "      <td>git</td>\n",
       "      <td>6</td>\n",
       "      <td>{git, bash, python}</td>\n",
       "    </tr>\n",
       "    <tr>\n",
       "      <td>15</td>\n",
       "      <td>api</td>\n",
       "      <td>7</td>\n",
       "      <td>{api}</td>\n",
       "    </tr>\n",
       "    <tr>\n",
       "      <td>17</td>\n",
       "      <td>vue</td>\n",
       "      <td>8</td>\n",
       "      <td>{vue}</td>\n",
       "    </tr>\n",
       "    <tr>\n",
       "      <td>19</td>\n",
       "      <td>dart</td>\n",
       "      <td>9</td>\n",
       "      <td>{dart, flutter}</td>\n",
       "    </tr>\n",
       "  </tbody>\n",
       "</table>\n",
       "</div>"
      ],
      "text/plain": [
       "        Tag  TagCode                 Tags\n",
       "1    amazon        0     {amazon, python}\n",
       "2    python        1             {python}\n",
       "3      java        2               {java}\n",
       "4   node.js        3            {node.js}\n",
       "6   android        4            {android}\n",
       "9    pandas        5             {pandas}\n",
       "14      git        6  {git, bash, python}\n",
       "15      api        7                {api}\n",
       "17      vue        8                {vue}\n",
       "19     dart        9      {dart, flutter}"
      ]
     },
     "execution_count": 22,
     "metadata": {},
     "output_type": "execute_result"
    }
   ],
   "source": [
    "def get_first_tag(s):\n",
    "    return next(iter(s))\n",
    "\n",
    "df['Tag'] = df['Tags'].apply(get_first_tag)\n",
    "df['TagCode'] = df['Tag'].factorize()[0]\n",
    "tags_df = df[['Tag', 'TagCode']].drop_duplicates().sort_values('TagCode')\n",
    "id_to_tag = dict(tags_df[['TagCode', 'Tag']].values)\n",
    "df[['Tag', 'TagCode', 'Tags']].head(10)"
   ]
  },
  {
   "cell_type": "code",
   "execution_count": 23,
   "metadata": {
    "ExecuteTime": {
     "end_time": "2019-09-27T20:53:21.424656Z",
     "start_time": "2019-09-27T20:53:21.377773Z"
    }
   },
   "outputs": [
    {
     "name": "stdout",
     "output_type": "stream",
     "text": [
      "Nombre de labels uniques : 148\n",
      "Nombre de labels apparaissant moins de 50 fois : 26\n"
     ]
    }
   ],
   "source": [
    "TRESHOLD = 50\n",
    "tag_counts = df['Tag'].value_counts() \n",
    "print(f\"Nombre de labels uniques : {len(tag_counts)}\")\n",
    "print(f\"Nombre de labels apparaissant moins de {TRESHOLD} fois : \"\n",
    "      f\"{sum(tag_counts < TRESHOLD)}\")"
   ]
  },
  {
   "cell_type": "code",
   "execution_count": 24,
   "metadata": {
    "ExecuteTime": {
     "end_time": "2019-09-27T20:53:21.524951Z",
     "start_time": "2019-09-27T20:53:21.424656Z"
    }
   },
   "outputs": [
    {
     "name": "stdout",
     "output_type": "stream",
     "text": [
      "Nombre de lignes à effacer : 712 sur 42191\n"
     ]
    }
   ],
   "source": [
    "del_labels = tag_counts[tag_counts < TRESHOLD].index.values\n",
    "del_mask = df['Tag'].isin(del_labels.tolist())\n",
    "print(f\"Nombre de lignes à effacer : {sum(del_mask)} sur {len(del_mask)}\")"
   ]
  },
  {
   "cell_type": "code",
   "execution_count": 25,
   "metadata": {
    "ExecuteTime": {
     "end_time": "2019-09-27T20:53:21.609619Z",
     "start_time": "2019-09-27T20:53:21.524951Z"
    }
   },
   "outputs": [
    {
     "name": "stdout",
     "output_type": "stream",
     "text": [
      "Labels restant après simplification :\n",
      "python java android react r angular c# c++ mysql node.js asp.net html excel sql jquery swift django php laravel azure spring apache pandas vue json google-cloud c tensorflow .net regex selenium amazon css xml wordpress dataframe sql-server aws docker git visual-studio ios dart typescript list ruby ruby-on-rails flutter arrays numpy mongo matplotlib powershell postgresql flask xamarin google-sheets macos google-chrome api linux ionic-framework kubernetes hibernate unit-testing firebase elasticsearch woocommerce maven loops database jenkins vb.net opencv go windows oracle scikit google-maps vba http bootstrap machine-learning tkinter kotlin bash algorithm ajax scala ubuntu object multithreading beautifulsoup shell ansible facebook asynchronous google-app rust csv string dictionary if-statement logging gradle datetime performance sqlite entity-framework symfony unity jpa keras svg rest pdf for-loop ssl authentication nginx github xcode\n"
     ]
    }
   ],
   "source": [
    "print(\"Labels restant après simplification :\")\n",
    "print(\" \".join(tag_counts[tag_counts >= TRESHOLD].index.values))"
   ]
  },
  {
   "cell_type": "markdown",
   "metadata": {},
   "source": [
    "### Préparation du texte"
   ]
  },
  {
   "cell_type": "code",
   "execution_count": 26,
   "metadata": {
    "ExecuteTime": {
     "end_time": "2019-09-27T20:53:21.678698Z",
     "start_time": "2019-09-27T20:53:21.609619Z"
    }
   },
   "outputs": [
    {
     "name": "stdout",
     "output_type": "stream",
     "text": [
      "Nombre de mots à ignorer (NLTK) : 179\n",
      "Nombre total de mots à ignorer : 222\n"
     ]
    }
   ],
   "source": [
    "stop_words = set(nltk.corpus.stopwords.words(\"english\"))\n",
    "print(f\"Nombre de mots à ignorer (NLTK) : {len(stop_words)}\")\n",
    "new_words = ['using', 'trying', 'running', 'want', 'except', 'guys', 'get', \n",
    "             'code', 'run', 'might', 'tried', 'whenever', 'current', 'gives', \n",
    "             'name', 'try', 'must', 'know', 'looks', 'problem', 'problems',\n",
    "             'anyone', 'without', 'the', 'error', 'popular', 'really', \n",
    "             'would', 'need', 'example', 'way', 'seem', 'possible', \n",
    "             'thank', 'something', 'however', 'able', 'solution', 'think',\n",
    "             'question', 'issue', 'sure', 'expect', 'another']\n",
    "stop_words = stop_words.union(new_words)\n",
    "#stop_words = stop_words.union(list(string.punctuation))\n",
    "print(f\"Nombre total de mots à ignorer : {len(stop_words)}\")"
   ]
  },
  {
   "cell_type": "code",
   "execution_count": 27,
   "metadata": {
    "ExecuteTime": {
     "end_time": "2019-09-27T20:53:21.756831Z",
     "start_time": "2019-09-27T20:53:21.678698Z"
    }
   },
   "outputs": [
    {
     "data": {
      "text/plain": [
       "'The SMTP protocol is assigned the porttwentyfive.'"
      ]
     },
     "execution_count": 27,
     "metadata": {},
     "output_type": "execute_result"
    }
   ],
   "source": [
    "# avant suppression des chiffres, nous préservons certains termes\n",
    "replace_list = [('vt100', 'vthundred'),\n",
    "                ('port 25', 'porttwentyfive'),\n",
    "                ('port 8000', 'porteightthousand'),\n",
    "                ('port 8080', 'porteightyeighty'),\n",
    "                ('2D', 'twodim'),\n",
    "                ('3D', 'threedim'),\n",
    "                ('vt100', 'vthundred'),\n",
    "                ('c#', 'csharp'),\n",
    "                ('in c', 'clanguage'),\n",
    "                ('c++11', 'cppeleven'),\n",
    "                ('c++', 'cpp'),\n",
    "                ('g++', 'gpp'),\n",
    "                ('s3', 'sthree'),\n",
    "                ('x64', 'xsixtyfour'),\n",
    "                ('i386', 'ithreeeightsix'),\n",
    "                ('vb.net', 'vbdotnet'),\n",
    "                ('node.js', 'nodedotjs'),\n",
    "                ('asp.net', 'asp.net'),\n",
    "               ]\n",
    "\n",
    "regex_list = [(r'\\br\\b', 'RSoftware'),\n",
    "              (r'\\s.net\\b', 'dotnet')]\n",
    "\n",
    "def replace_words_containing_non_alphas(s):\n",
    "    for w1, w2 in replace_list:\n",
    "        s = s.replace(w1, w2)\n",
    "    for w1, w2 in regex_list:\n",
    "        s = re.sub(w1, w2, s)\n",
    "    return s\n",
    "                \n",
    "s = \"The SMTP protocol is assigned the port 25.\"\n",
    "replace_words_containing_non_alphas(s)"
   ]
  },
  {
   "cell_type": "code",
   "execution_count": 28,
   "metadata": {
    "ExecuteTime": {
     "end_time": "2019-09-27T20:53:23.430338Z",
     "start_time": "2019-09-27T20:53:21.763347Z"
    },
    "scrolled": true
   },
   "outputs": [
    {
     "data": {
      "text/plain": [
       "'time zone configure regional set cppeleven version standard language cpp RSoftware website http www RSoftware project net dotnet framework pronounce dot net software framework'"
      ]
     },
     "execution_count": 28,
     "metadata": {},
     "output_type": "execute_result"
    }
   ],
   "source": [
    "def tokenize_text(s): \n",
    "    # Suppression des balises HTML ; bs4 ne fonctionne pas dans tous les cas\n",
    "    #cleaner = lambda text: bs4.BeautifulSoup(text, 'lxml').get_text()\n",
    "    #s = cleaner(s).lower()\n",
    "    cleanr = re.compile('<.*?>|&([a-z0-9]+|#[0-9]{1,6}|#x[0-9a-f]{1,6});')\n",
    "    s = re.sub(cleanr, '', s.lower())    \n",
    "    # Élimine chiffres et caractères spéciaux des mots importants\n",
    "    s = replace_words_containing_non_alphas(s)\n",
    "    # Suppression des caractères non alphabétiques\n",
    "    s = re.sub(r'[^a-zA-Z]', ' ', s)    \n",
    "    # Suppression des mots de 1 ou 2 lettres\n",
    "    # s = re.sub(r'\\b[a-z]{1,2}\\b', '', s)\n",
    "    # Suppression des mots dans `stop_words`\n",
    "    s = [w for w in nltk.tokenize.word_tokenize(s) if w not in stop_words]    \n",
    "    # Lemmatisation\n",
    "    #stemmer = nltk.stem.porter.PorterStemmer(mode='NLTK_EXTENSIONS')\n",
    "    stemmed = []\n",
    "    lemmatizer = nltk.stem.WordNetLemmatizer() \n",
    "    for item in s:\n",
    "        w = lemmatizer.lemmatize(item, pos='n')\n",
    "        stemmed.append(lemmatizer.lemmatize(w, pos='v'))\n",
    "    return ' '.join(stemmed)    \n",
    "\n",
    "example = \"The time zone (+10) was configured under Regional Settings.\"\\\n",
    "          \"C++11 is a version of the standard for the language C++.\"\\\n",
    "          \"The R website is http://www.r-project.net. \"\\\n",
    "          \".NET Framework (pronounced as dot net) is a software framework\"\n",
    "tokenize_text(example)"
   ]
  },
  {
   "cell_type": "code",
   "execution_count": 29,
   "metadata": {
    "ExecuteTime": {
     "end_time": "2019-09-27T20:55:13.045558Z",
     "start_time": "2019-09-27T20:53:23.430338Z"
    },
    "scrolled": true
   },
   "outputs": [
    {
     "data": {
      "text/html": [
       "<div>\n",
       "<style scoped>\n",
       "    .dataframe tbody tr th:only-of-type {\n",
       "        vertical-align: middle;\n",
       "    }\n",
       "\n",
       "    .dataframe tbody tr th {\n",
       "        vertical-align: top;\n",
       "    }\n",
       "\n",
       "    .dataframe thead th {\n",
       "        text-align: right;\n",
       "    }\n",
       "</style>\n",
       "<table border=\"1\" class=\"dataframe\">\n",
       "  <thead>\n",
       "    <tr style=\"text-align: right;\">\n",
       "      <th></th>\n",
       "      <th>Id</th>\n",
       "      <th>Score</th>\n",
       "      <th>Body</th>\n",
       "      <th>Title</th>\n",
       "      <th>Tags</th>\n",
       "      <th>OriginalTags</th>\n",
       "      <th>Tag</th>\n",
       "      <th>TagCode</th>\n",
       "      <th>Text</th>\n",
       "    </tr>\n",
       "  </thead>\n",
       "  <tbody>\n",
       "    <tr>\n",
       "      <td>1</td>\n",
       "      <td>57560002</td>\n",
       "      <td>1</td>\n",
       "      <td>&lt;p&gt;I am trying to get the S3 Bucket size in aw...</td>\n",
       "      <td>Python Script to get the size of the S3 Bucket...</td>\n",
       "      <td>{amazon, python}</td>\n",
       "      <td>&lt;python&gt;&lt;amazon-web-services&gt;&lt;amazon-s3&gt;&lt;boto3...</td>\n",
       "      <td>amazon</td>\n",
       "      <td>0</td>\n",
       "      <td>python script size sthree bucket clanguagesv s...</td>\n",
       "    </tr>\n",
       "    <tr>\n",
       "      <td>2</td>\n",
       "      <td>57560003</td>\n",
       "      <td>0</td>\n",
       "      <td>&lt;p&gt;I am trying to set up the virtual environme...</td>\n",
       "      <td>The command \".\\Scripts\\activate\" is not working</td>\n",
       "      <td>{python}</td>\n",
       "      <td>&lt;python&gt;</td>\n",
       "      <td>python</td>\n",
       "      <td>1</td>\n",
       "      <td>command script activate work set virtual envir...</td>\n",
       "    </tr>\n",
       "    <tr>\n",
       "      <td>3</td>\n",
       "      <td>57560005</td>\n",
       "      <td>0</td>\n",
       "      <td>&lt;p&gt;As we all know, we can automagicaly generat...</td>\n",
       "      <td>Is Java annotation processor capable of removi...</td>\n",
       "      <td>{java}</td>\n",
       "      <td>&lt;java&gt;&lt;annotations&gt;&lt;conditional-compilation&gt;</td>\n",
       "      <td>java</td>\n",
       "      <td>2</td>\n",
       "      <td>java annotation processor capable remove annot...</td>\n",
       "    </tr>\n",
       "    <tr>\n",
       "      <td>4</td>\n",
       "      <td>57560006</td>\n",
       "      <td>0</td>\n",
       "      <td>&lt;p&gt;The GoDaddy package my friend got doesn't h...</td>\n",
       "      <td>Multer-sftp won't upload over port 21</td>\n",
       "      <td>{node.js}</td>\n",
       "      <td>&lt;node.js&gt;&lt;upload&gt;&lt;sftp&gt;&lt;multer&gt;</td>\n",
       "      <td>node.js</td>\n",
       "      <td>3</td>\n",
       "      <td>multer sftp upload port godaddy package friend...</td>\n",
       "    </tr>\n",
       "    <tr>\n",
       "      <td>6</td>\n",
       "      <td>57560008</td>\n",
       "      <td>0</td>\n",
       "      <td>&lt;p&gt;I was coding these past two weeks and it wa...</td>\n",
       "      <td>Android studio all xml layout broke and now co...</td>\n",
       "      <td>{android}</td>\n",
       "      <td>&lt;android&gt;&lt;android-layout&gt;</td>\n",
       "      <td>android</td>\n",
       "      <td>4</td>\n",
       "      <td>android studio xml layout break contain java c...</td>\n",
       "    </tr>\n",
       "    <tr>\n",
       "      <td>9</td>\n",
       "      <td>57560012</td>\n",
       "      <td>-1</td>\n",
       "      <td>&lt;p&gt;I have a table I queried from SQL:&lt;/p&gt;\\n\\n&lt;...</td>\n",
       "      <td>Pandas - transform SQL style dataframe to columns</td>\n",
       "      <td>{pandas}</td>\n",
       "      <td>&lt;pandas&gt;</td>\n",
       "      <td>pandas</td>\n",
       "      <td>5</td>\n",
       "      <td>panda transform sql style dataframe column tab...</td>\n",
       "    </tr>\n",
       "    <tr>\n",
       "      <td>14</td>\n",
       "      <td>57560017</td>\n",
       "      <td>0</td>\n",
       "      <td>&lt;p&gt;I want to learn Data Science and so have us...</td>\n",
       "      <td>Stuck when setting up to use anaconda with VS ...</td>\n",
       "      <td>{git, bash, python}</td>\n",
       "      <td>&lt;python&gt;&lt;bash&gt;&lt;git&gt;&lt;anaconda&gt;&lt;conda&gt;</td>\n",
       "      <td>git</td>\n",
       "      <td>6</td>\n",
       "      <td>stick set use anaconda v integrate git termina...</td>\n",
       "    </tr>\n",
       "    <tr>\n",
       "      <td>15</td>\n",
       "      <td>57560019</td>\n",
       "      <td>0</td>\n",
       "      <td>&lt;p&gt;I am confused with the various elements ava...</td>\n",
       "      <td>What is the difference between queueelement , ...</td>\n",
       "      <td>{api}</td>\n",
       "      <td>&lt;api&gt;&lt;filenet-p8&gt;&lt;filenet-process-engine&gt;</td>\n",
       "      <td>api</td>\n",
       "      <td>7</td>\n",
       "      <td>difference queueelement stepelement workobject...</td>\n",
       "    </tr>\n",
       "    <tr>\n",
       "      <td>17</td>\n",
       "      <td>57560021</td>\n",
       "      <td>0</td>\n",
       "      <td>&lt;p&gt;Here is my code: \\nSo is this, but now foll...</td>\n",
       "      <td>Why my Vue Js created method not working?</td>\n",
       "      <td>{vue}</td>\n",
       "      <td>&lt;vue.js&gt;&lt;axios&gt;</td>\n",
       "      <td>vue</td>\n",
       "      <td>8</td>\n",
       "      <td>vue j create method work follow block el app d...</td>\n",
       "    </tr>\n",
       "    <tr>\n",
       "      <td>19</td>\n",
       "      <td>57560023</td>\n",
       "      <td>0</td>\n",
       "      <td>&lt;p&gt;I am doing the search bar and I want to put...</td>\n",
       "      <td>How to position yourself at the end of a Row?</td>\n",
       "      <td>{dart, flutter}</td>\n",
       "      <td>&lt;flutter&gt;&lt;dart&gt;&lt;flutter-layout&gt;</td>\n",
       "      <td>dart</td>\n",
       "      <td>9</td>\n",
       "      <td>position end row search bar put filter icon en...</td>\n",
       "    </tr>\n",
       "    <tr>\n",
       "      <td>21</td>\n",
       "      <td>57560025</td>\n",
       "      <td>0</td>\n",
       "      <td>&lt;p&gt;I am using bazel to build some code. The co...</td>\n",
       "      <td>Bazel gives compilation error when converting ...</td>\n",
       "      <td>{c++}</td>\n",
       "      <td>&lt;c++&gt;&lt;matrix&gt;&lt;eigen&gt;&lt;bazel&gt;&lt;eigen3&gt;</td>\n",
       "      <td>c++</td>\n",
       "      <td>10</td>\n",
       "      <td>bazel compilation convert matrix type bazel bu...</td>\n",
       "    </tr>\n",
       "    <tr>\n",
       "      <td>22</td>\n",
       "      <td>57560026</td>\n",
       "      <td>0</td>\n",
       "      <td>&lt;p&gt;I am try to load data from &lt;code&gt;GCS&lt;/code&gt;...</td>\n",
       "      <td>Beam: CombinePerKey(max) hang in dataflow job</td>\n",
       "      <td>{google-cloud, apache, python}</td>\n",
       "      <td>&lt;python&gt;&lt;google-cloud-dataflow&gt;&lt;apache-beam&gt;</td>\n",
       "      <td>google-cloud</td>\n",
       "      <td>11</td>\n",
       "      <td>beam combineperkey max hang dataflow job load ...</td>\n",
       "    </tr>\n",
       "    <tr>\n",
       "      <td>23</td>\n",
       "      <td>57560027</td>\n",
       "      <td>0</td>\n",
       "      <td>&lt;p&gt;I'm currently writing code that looks like ...</td>\n",
       "      <td>Annotate the return type of a python function ...</td>\n",
       "      <td>{python}</td>\n",
       "      <td>&lt;python&gt;&lt;python-3.x&gt;&lt;types&gt;&lt;typehints&gt;</td>\n",
       "      <td>python</td>\n",
       "      <td>1</td>\n",
       "      <td>annotate return type python function parameter...</td>\n",
       "    </tr>\n",
       "    <tr>\n",
       "      <td>24</td>\n",
       "      <td>57560028</td>\n",
       "      <td>0</td>\n",
       "      <td>&lt;p&gt;I am trying to get the total number of comm...</td>\n",
       "      <td>How to get the total number of comments on a p...</td>\n",
       "      <td>{facebook}</td>\n",
       "      <td>&lt;facebook&gt;&lt;fb-graph&gt;</td>\n",
       "      <td>facebook</td>\n",
       "      <td>12</td>\n",
       "      <td>total number comment post fb total number comm...</td>\n",
       "    </tr>\n",
       "    <tr>\n",
       "      <td>26</td>\n",
       "      <td>57560031</td>\n",
       "      <td>1</td>\n",
       "      <td>&lt;p&gt;So i'm trying to load close to a thousand g...</td>\n",
       "      <td>Flutter NetworkImage takes too long to load</td>\n",
       "      <td>{dart, flutter}</td>\n",
       "      <td>&lt;flutter&gt;&lt;dart&gt;</td>\n",
       "      <td>dart</td>\n",
       "      <td>9</td>\n",
       "      <td>flutter networkimage take long load load close...</td>\n",
       "    </tr>\n",
       "    <tr>\n",
       "      <td>29</td>\n",
       "      <td>57560035</td>\n",
       "      <td>-3</td>\n",
       "      <td>&lt;p&gt;I want to align this label (as clear in the...</td>\n",
       "      <td>Change label's position of Y axis in chart.js</td>\n",
       "      <td>{css, java}</td>\n",
       "      <td>&lt;javascript&gt;&lt;css&gt;&lt;chart.js&gt;</td>\n",
       "      <td>css</td>\n",
       "      <td>13</td>\n",
       "      <td>change label position axis clanguagehart j ali...</td>\n",
       "    </tr>\n",
       "    <tr>\n",
       "      <td>31</td>\n",
       "      <td>57560037</td>\n",
       "      <td>2</td>\n",
       "      <td>&lt;p&gt;I am learning Javascript through a Udemy co...</td>\n",
       "      <td>Need help taking information from classes/sub-...</td>\n",
       "      <td>{arrays, class, java}</td>\n",
       "      <td>&lt;javascript&gt;&lt;arrays&gt;&lt;class&gt;</td>\n",
       "      <td>arrays</td>\n",
       "      <td>14</td>\n",
       "      <td>help take information class sub class javascri...</td>\n",
       "    </tr>\n",
       "    <tr>\n",
       "      <td>32</td>\n",
       "      <td>57560038</td>\n",
       "      <td>0</td>\n",
       "      <td>&lt;p&gt;I'm trying to capture frames from a video w...</td>\n",
       "      <td>MSB6006 in VisualStudio when using opencv Vide...</td>\n",
       "      <td>{c++, opencv, visual-studio}</td>\n",
       "      <td>&lt;c++&gt;&lt;visual-studio&gt;&lt;opencv&gt;</td>\n",
       "      <td>c++</td>\n",
       "      <td>10</td>\n",
       "      <td>msb visualstudio opencv videocapture capture f...</td>\n",
       "    </tr>\n",
       "    <tr>\n",
       "      <td>37</td>\n",
       "      <td>57560044</td>\n",
       "      <td>1</td>\n",
       "      <td>&lt;p&gt;My bot reads emails one by one from a docum...</td>\n",
       "      <td>Watir : How to read the second line in a docum...</td>\n",
       "      <td>{ruby, ruby-on-rails}</td>\n",
       "      <td>&lt;ruby-on-rails&gt;&lt;ruby&gt;&lt;rubygems&gt;</td>\n",
       "      <td>ruby</td>\n",
       "      <td>15</td>\n",
       "      <td>watir read second line document txt make loop ...</td>\n",
       "    </tr>\n",
       "    <tr>\n",
       "      <td>39</td>\n",
       "      <td>57560047</td>\n",
       "      <td>0</td>\n",
       "      <td>&lt;p&gt;I have created a facial recognition and ide...</td>\n",
       "      <td>Facial Identification program displays name ev...</td>\n",
       "      <td>{opencv, python}</td>\n",
       "      <td>&lt;python&gt;&lt;opencv&gt;&lt;pycharm&gt;&lt;lbph-algorithm&gt;&lt;faci...</td>\n",
       "      <td>opencv</td>\n",
       "      <td>16</td>\n",
       "      <td>facial identification program display even unk...</td>\n",
       "    </tr>\n",
       "  </tbody>\n",
       "</table>\n",
       "</div>"
      ],
      "text/plain": [
       "          Id  Score                                               Body  \\\n",
       "1   57560002      1  <p>I am trying to get the S3 Bucket size in aw...   \n",
       "2   57560003      0  <p>I am trying to set up the virtual environme...   \n",
       "3   57560005      0  <p>As we all know, we can automagicaly generat...   \n",
       "4   57560006      0  <p>The GoDaddy package my friend got doesn't h...   \n",
       "6   57560008      0  <p>I was coding these past two weeks and it wa...   \n",
       "9   57560012     -1  <p>I have a table I queried from SQL:</p>\\n\\n<...   \n",
       "14  57560017      0  <p>I want to learn Data Science and so have us...   \n",
       "15  57560019      0  <p>I am confused with the various elements ava...   \n",
       "17  57560021      0  <p>Here is my code: \\nSo is this, but now foll...   \n",
       "19  57560023      0  <p>I am doing the search bar and I want to put...   \n",
       "21  57560025      0  <p>I am using bazel to build some code. The co...   \n",
       "22  57560026      0  <p>I am try to load data from <code>GCS</code>...   \n",
       "23  57560027      0  <p>I'm currently writing code that looks like ...   \n",
       "24  57560028      0  <p>I am trying to get the total number of comm...   \n",
       "26  57560031      1  <p>So i'm trying to load close to a thousand g...   \n",
       "29  57560035     -3  <p>I want to align this label (as clear in the...   \n",
       "31  57560037      2  <p>I am learning Javascript through a Udemy co...   \n",
       "32  57560038      0  <p>I'm trying to capture frames from a video w...   \n",
       "37  57560044      1  <p>My bot reads emails one by one from a docum...   \n",
       "39  57560047      0  <p>I have created a facial recognition and ide...   \n",
       "\n",
       "                                                Title  \\\n",
       "1   Python Script to get the size of the S3 Bucket...   \n",
       "2     The command \".\\Scripts\\activate\" is not working   \n",
       "3   Is Java annotation processor capable of removi...   \n",
       "4               Multer-sftp won't upload over port 21   \n",
       "6   Android studio all xml layout broke and now co...   \n",
       "9   Pandas - transform SQL style dataframe to columns   \n",
       "14  Stuck when setting up to use anaconda with VS ...   \n",
       "15  What is the difference between queueelement , ...   \n",
       "17          Why my Vue Js created method not working?   \n",
       "19      How to position yourself at the end of a Row?   \n",
       "21  Bazel gives compilation error when converting ...   \n",
       "22      Beam: CombinePerKey(max) hang in dataflow job   \n",
       "23  Annotate the return type of a python function ...   \n",
       "24  How to get the total number of comments on a p...   \n",
       "26        Flutter NetworkImage takes too long to load   \n",
       "29      Change label's position of Y axis in chart.js   \n",
       "31  Need help taking information from classes/sub-...   \n",
       "32  MSB6006 in VisualStudio when using opencv Vide...   \n",
       "37  Watir : How to read the second line in a docum...   \n",
       "39  Facial Identification program displays name ev...   \n",
       "\n",
       "                              Tags  \\\n",
       "1                 {amazon, python}   \n",
       "2                         {python}   \n",
       "3                           {java}   \n",
       "4                        {node.js}   \n",
       "6                        {android}   \n",
       "9                         {pandas}   \n",
       "14             {git, bash, python}   \n",
       "15                           {api}   \n",
       "17                           {vue}   \n",
       "19                 {dart, flutter}   \n",
       "21                           {c++}   \n",
       "22  {google-cloud, apache, python}   \n",
       "23                        {python}   \n",
       "24                      {facebook}   \n",
       "26                 {dart, flutter}   \n",
       "29                     {css, java}   \n",
       "31           {arrays, class, java}   \n",
       "32    {c++, opencv, visual-studio}   \n",
       "37           {ruby, ruby-on-rails}   \n",
       "39                {opencv, python}   \n",
       "\n",
       "                                         OriginalTags           Tag  TagCode  \\\n",
       "1   <python><amazon-web-services><amazon-s3><boto3...        amazon        0   \n",
       "2                                            <python>        python        1   \n",
       "3        <java><annotations><conditional-compilation>          java        2   \n",
       "4                     <node.js><upload><sftp><multer>       node.js        3   \n",
       "6                           <android><android-layout>       android        4   \n",
       "9                                            <pandas>        pandas        5   \n",
       "14               <python><bash><git><anaconda><conda>           git        6   \n",
       "15          <api><filenet-p8><filenet-process-engine>           api        7   \n",
       "17                                    <vue.js><axios>           vue        8   \n",
       "19                    <flutter><dart><flutter-layout>          dart        9   \n",
       "21                <c++><matrix><eigen><bazel><eigen3>           c++       10   \n",
       "22       <python><google-cloud-dataflow><apache-beam>  google-cloud       11   \n",
       "23             <python><python-3.x><types><typehints>        python        1   \n",
       "24                               <facebook><fb-graph>      facebook       12   \n",
       "26                                    <flutter><dart>          dart        9   \n",
       "29                        <javascript><css><chart.js>           css       13   \n",
       "31                        <javascript><arrays><class>        arrays       14   \n",
       "32                       <c++><visual-studio><opencv>           c++       10   \n",
       "37                    <ruby-on-rails><ruby><rubygems>          ruby       15   \n",
       "39  <python><opencv><pycharm><lbph-algorithm><faci...        opencv       16   \n",
       "\n",
       "                                                 Text  \n",
       "1   python script size sthree bucket clanguagesv s...  \n",
       "2   command script activate work set virtual envir...  \n",
       "3   java annotation processor capable remove annot...  \n",
       "4   multer sftp upload port godaddy package friend...  \n",
       "6   android studio xml layout break contain java c...  \n",
       "9   panda transform sql style dataframe column tab...  \n",
       "14  stick set use anaconda v integrate git termina...  \n",
       "15  difference queueelement stepelement workobject...  \n",
       "17  vue j create method work follow block el app d...  \n",
       "19  position end row search bar put filter icon en...  \n",
       "21  bazel compilation convert matrix type bazel bu...  \n",
       "22  beam combineperkey max hang dataflow job load ...  \n",
       "23  annotate return type python function parameter...  \n",
       "24  total number comment post fb total number comm...  \n",
       "26  flutter networkimage take long load load close...  \n",
       "29  change label position axis clanguagehart j ali...  \n",
       "31  help take information class sub class javascri...  \n",
       "32  msb visualstudio opencv videocapture capture f...  \n",
       "37  watir read second line document txt make loop ...  \n",
       "39  facial identification program display even unk...  "
      ]
     },
     "execution_count": 29,
     "metadata": {},
     "output_type": "execute_result"
    }
   ],
   "source": [
    "df['Text'] = (df['Title'] + ' ' + df['Body']).apply(tokenize_text)\n",
    "df[['Title', 'Body', 'Text']].to_csv('processed_text.csv', header=False)\n",
    "df.head(20)"
   ]
  },
  {
   "cell_type": "markdown",
   "metadata": {
    "ExecuteTime": {
     "end_time": "2019-09-20T07:40:28.901641Z",
     "start_time": "2019-09-20T07:40:28.886029Z"
    }
   },
   "source": [
    "## Sauvegarde"
   ]
  },
  {
   "cell_type": "code",
   "execution_count": 30,
   "metadata": {
    "ExecuteTime": {
     "end_time": "2019-09-27T20:55:13.092475Z",
     "start_time": "2019-09-27T20:55:13.045558Z"
    }
   },
   "outputs": [
    {
     "name": "stdout",
     "output_type": "stream",
     "text": [
      "<class 'pandas.core.frame.DataFrame'>\n",
      "Int64Index: 41479 entries, 1 to 49457\n",
      "Data columns (total 5 columns):\n",
      "Id              41479 non-null int64\n",
      "OriginalTags    41479 non-null object\n",
      "Tag             41479 non-null object\n",
      "TagCode         41479 non-null int64\n",
      "Text            41479 non-null object\n",
      "dtypes: int64(2), object(3)\n",
      "memory usage: 1.9+ MB\n"
     ]
    }
   ],
   "source": [
    "df1 = df[~del_mask].copy()\n",
    "if DEL_UNUSED_COLS:\n",
    "    df1.drop(columns=['Score', 'Body', 'Title', 'Tags'], \n",
    "             inplace=True, \n",
    "             errors='ignore')\n",
    "df1.info()"
   ]
  },
  {
   "cell_type": "code",
   "execution_count": 31,
   "metadata": {
    "ExecuteTime": {
     "end_time": "2019-09-27T20:55:13.208446Z",
     "start_time": "2019-09-27T20:55:13.092475Z"
    },
    "scrolled": true
   },
   "outputs": [
    {
     "name": "stdout",
     "output_type": "stream",
     "text": [
      "<class 'pandas.core.frame.DataFrame'>\n",
      "Int64Index: 42191 entries, 1 to 49457\n",
      "Data columns (total 4 columns):\n",
      "Id              42191 non-null int64\n",
      "Tags            42191 non-null object\n",
      "OriginalTags    42191 non-null object\n",
      "Text            42191 non-null object\n",
      "dtypes: int64(1), object(3)\n",
      "memory usage: 1.6+ MB\n"
     ]
    }
   ],
   "source": [
    "# Suppression des colonnes inutilisées\n",
    "if DEL_UNUSED_COLS:\n",
    "    df.drop(columns=['Score', 'Body', 'Title', 'Tag', 'TagCode'], \n",
    "            inplace=True, \n",
    "            errors='ignore')\n",
    "df.info()"
   ]
  },
  {
   "cell_type": "code",
   "execution_count": 32,
   "metadata": {
    "ExecuteTime": {
     "end_time": "2019-09-27T20:55:13.663071Z",
     "start_time": "2019-09-27T20:55:13.208446Z"
    }
   },
   "outputs": [
    {
     "name": "stdout",
     "output_type": "stream",
     "text": [
      "Taille du fichier : 44.1 MB\n"
     ]
    }
   ],
   "source": [
    "if CREATE_DATA_FILES:\n",
    "    data = (df, tags, id_to_tag, labels)\n",
    "    pickle.dump(data, open(DATA_FILE, 'wb'))\n",
    "    size = os.path.getsize(DATA_FILE) / 1024**2\n",
    "    print(f\"Taille du fichier : {size:.1f} MB\")\n",
    "else:\n",
    "    print(\"Sauvegarde désactivée.\")"
   ]
  },
  {
   "cell_type": "code",
   "execution_count": 33,
   "metadata": {
    "ExecuteTime": {
     "end_time": "2019-09-27T20:55:14.465593Z",
     "start_time": "2019-09-27T20:55:13.663071Z"
    }
   },
   "outputs": [
    {
     "name": "stdout",
     "output_type": "stream",
     "text": [
      "Taille du fichier : 41.4 MB\n"
     ]
    }
   ],
   "source": [
    "if CREATE_DATA_FILES:\n",
    "    pickle.dump(df1, open(DATA_FILE_SINGLE_LABEL, 'wb'))\n",
    "    size = os.path.getsize(DATA_FILE_SINGLE_LABEL) / 1024**2\n",
    "    print(f\"Taille du fichier : {size:.1f} MB\")\n",
    "else:\n",
    "    print(\"Sauvegarde désactivée.\")"
   ]
  },
  {
   "cell_type": "code",
   "execution_count": 34,
   "metadata": {
    "ExecuteTime": {
     "end_time": "2019-09-27T20:55:14.782092Z",
     "start_time": "2019-09-27T20:55:14.465593Z"
    }
   },
   "outputs": [
    {
     "ename": "ZeroDivisionError",
     "evalue": "division by zero",
     "output_type": "error",
     "traceback": [
      "\u001b[1;31m---------------------------------------------------------------------------\u001b[0m",
      "\u001b[1;31mZeroDivisionError\u001b[0m                         Traceback (most recent call last)",
      "\u001b[1;32m<ipython-input-34-f01af20dd651>\u001b[0m in \u001b[0;36m<module>\u001b[1;34m\u001b[0m\n\u001b[0;32m      1\u001b[0m \u001b[1;31m# Arrêt de l'exécution\u001b[0m\u001b[1;33m\u001b[0m\u001b[1;33m\u001b[0m\u001b[1;33m\u001b[0m\u001b[0m\n\u001b[1;32m----> 2\u001b[1;33m \u001b[0mx\u001b[0m \u001b[1;33m=\u001b[0m \u001b[1;36m1\u001b[0m \u001b[1;33m/\u001b[0m\u001b[1;36m0\u001b[0m\u001b[1;33m\u001b[0m\u001b[1;33m\u001b[0m\u001b[0m\n\u001b[0m",
      "\u001b[1;31mZeroDivisionError\u001b[0m: division by zero"
     ]
    }
   ],
   "source": [
    "# Arrêt de l'exécution\n",
    "x = 1 /0"
   ]
  },
  {
   "cell_type": "markdown",
   "metadata": {},
   "source": [
    "## * * * * * FIN DE CE CALEPIN * * * * *\n",
    "\n",
    "Ce qui suit est conservé à titre de sauvegarde, mais ne dois plus être utilisé"
   ]
  },
  {
   "cell_type": "markdown",
   "metadata": {},
   "source": [
    "## Sauvegarde"
   ]
  },
  {
   "cell_type": "markdown",
   "metadata": {},
   "source": [
    "## Classement mono-label"
   ]
  },
  {
   "cell_type": "markdown",
   "metadata": {},
   "source": [
    "### Représentation des messages en matrice TFIDF"
   ]
  },
  {
   "cell_type": "code",
   "execution_count": null,
   "metadata": {
    "ExecuteTime": {
     "end_time": "2019-09-27T20:55:14.782092Z",
     "start_time": "2019-09-27T20:53:04.892Z"
    }
   },
   "outputs": [],
   "source": [
    "# On ne conserve que les labels fréquents\n",
    "df1 = df[~del_mask].copy()\n",
    "# Utilisation de `min_df` nécessaire pour réduire la quantité de mots\n",
    "fv = TfidfVectorizer(analyzer='word', ngram_range=(1,2), \n",
    "                     min_df=50, stop_words='english')\n",
    "text_tfidf = fv.fit_transform(df1['Text'])\n",
    "print(f\"Taille de la matrice Tfidf : {text_tfidf.shape}\")"
   ]
  },
  {
   "cell_type": "code",
   "execution_count": null,
   "metadata": {
    "ExecuteTime": {
     "end_time": "2019-09-27T20:55:14.782092Z",
     "start_time": "2019-09-27T20:53:04.899Z"
    }
   },
   "outputs": [],
   "source": [
    "print(f\"{len(fv.stop_words_)} termes exclus\")\n",
    "#print(\" \".join(fv.stop_words_))"
   ]
  },
  {
   "cell_type": "code",
   "execution_count": null,
   "metadata": {
    "ExecuteTime": {
     "end_time": "2019-09-27T20:55:14.797701Z",
     "start_time": "2019-09-27T20:53:04.902Z"
    }
   },
   "outputs": [],
   "source": [
    "X = text_tfidf\n",
    "y = df1['TagCode']\n",
    "X_tr, X_t, y_tr, y_t = sk.model_selection.train_test_split(X, y, \n",
    "                                                           test_size=0.3, \n",
    "                                                           random_state=SEED)\n",
    "X_tr.shape, y_tr.shape, X_t.shape, y_t.shape"
   ]
  },
  {
   "cell_type": "markdown",
   "metadata": {},
   "source": [
    "### Mots et bi-grammes les plus corrélés avec chaque catégorie"
   ]
  },
  {
   "cell_type": "code",
   "execution_count": null,
   "metadata": {
    "ExecuteTime": {
     "end_time": "2019-09-27T20:55:14.797701Z",
     "start_time": "2019-09-27T20:53:04.906Z"
    },
    "scrolled": false
   },
   "outputs": [],
   "source": [
    "n_terms = 3\n",
    "for label, id in [(id_to_tag[id], id) for id in df1['TagCode'].unique()]:\n",
    "    chi2 = sk.feature_selection.chi2(text_tfidf.toarray(), \n",
    "                                     df1['TagCode'] == id)\n",
    "    indices = np.argsort(chi2[0])\n",
    "    feature_names = np.array(fv.get_feature_names())[indices]\n",
    "    unigrams = [v for v in feature_names if len(v.split(' ')) == 1]\n",
    "    bigrams = [v for v in feature_names if len(v.split(' ')) == 2]        \n",
    "    print(label, \":\", unigrams[-n_terms:], bigrams[-n_terms:])"
   ]
  },
  {
   "cell_type": "markdown",
   "metadata": {},
   "source": [
    "### Modèle bayésien naïf multinomial "
   ]
  },
  {
   "cell_type": "code",
   "execution_count": null,
   "metadata": {
    "ExecuteTime": {
     "end_time": "2019-09-27T20:55:14.797701Z",
     "start_time": "2019-09-27T20:53:04.911Z"
    }
   },
   "outputs": [],
   "source": [
    "model = sk.naive_bayes.MultinomialNB()\n",
    "model.fit(X_tr, y_tr)"
   ]
  },
  {
   "cell_type": "code",
   "execution_count": null,
   "metadata": {
    "ExecuteTime": {
     "end_time": "2019-09-27T20:55:14.797701Z",
     "start_time": "2019-09-27T20:53:04.915Z"
    }
   },
   "outputs": [],
   "source": [
    "def print_scores(y, y_pred):\n",
    "    score = sk.metrics.recall_score(y, y_pred, average='micro')    \n",
    "    print(f\"Rappel = {score:0.2f}\")\n",
    "    score = sk.metrics.precision_score(y, y_pred, average='micro')\n",
    "    print(f\"Précision = {score:0.2f}\")\n",
    "    score = sk.metrics.f1_score(y, y_pred, average='micro')\n",
    "    print(f\"F1 = {score:0.2f}\")    \n",
    "    score = sk.metrics.accuracy_score(y, y_pred)    \n",
    "    print(f\"Justesse = {score:0.2f}\")    \n",
    "    print()"
   ]
  },
  {
   "cell_type": "code",
   "execution_count": null,
   "metadata": {
    "ExecuteTime": {
     "end_time": "2019-09-27T20:55:14.797701Z",
     "start_time": "2019-09-27T20:53:04.918Z"
    },
    "scrolled": true
   },
   "outputs": [],
   "source": [
    "print(\"*** Scores sur données d'entraînement\")\n",
    "y_pred = model.predict(X_tr)\n",
    "print_scores(y_tr, y_pred)\n",
    "print(\"*** Scores sur données de test :\")\n",
    "y_pred = model.predict(X_t)\n",
    "print_scores(y_t, y_pred)"
   ]
  },
  {
   "cell_type": "code",
   "execution_count": null,
   "metadata": {
    "ExecuteTime": {
     "end_time": "2019-09-27T20:55:14.797701Z",
     "start_time": "2019-09-27T20:53:04.922Z"
    },
    "scrolled": false
   },
   "outputs": [],
   "source": [
    "names = [id_to_tag[i] for i in y_t.sort_values().unique()]\n",
    "print(sk.metrics.classification_report(y_t, y_pred, \n",
    "                                       target_names=names))"
   ]
  },
  {
   "cell_type": "code",
   "execution_count": null,
   "metadata": {
    "ExecuteTime": {
     "end_time": "2019-09-27T20:55:14.797701Z",
     "start_time": "2019-09-27T20:53:04.925Z"
    }
   },
   "outputs": [],
   "source": [
    "# Example\n",
    "row = 0\n",
    "v = text_tfidf[row, :]\n",
    "predicted = model.predict(v)[0]\n",
    "expected = df1.iloc[row]['TagCode']\n",
    "print(f\"Labels prédit et attendu pour ligne {row} : {predicted, expected}\")\n",
    "df.iloc[row]"
   ]
  },
  {
   "cell_type": "markdown",
   "metadata": {},
   "source": [
    "### Régression logistique"
   ]
  },
  {
   "cell_type": "code",
   "execution_count": null,
   "metadata": {
    "ExecuteTime": {
     "end_time": "2019-09-27T20:55:14.797701Z",
     "start_time": "2019-09-27T20:53:04.930Z"
    }
   },
   "outputs": [],
   "source": [
    "model = sk.linear_model.LogisticRegression(multi_class='multinomial', \n",
    "                                           solver='sag')\n",
    "model.fit(X_tr, y_tr)"
   ]
  },
  {
   "cell_type": "code",
   "execution_count": null,
   "metadata": {
    "ExecuteTime": {
     "end_time": "2019-09-27T20:55:14.797701Z",
     "start_time": "2019-09-27T20:53:04.935Z"
    }
   },
   "outputs": [],
   "source": [
    "print(\"*** Scores sur données d'entraînement\")\n",
    "y_pred = model.predict(X_tr)\n",
    "print_scores(y_tr, y_pred)\n",
    "print(\"*** Scores sur données de test :\")\n",
    "y_pred = model.predict(X_t)\n",
    "print_scores(y_t, y_pred)"
   ]
  },
  {
   "cell_type": "code",
   "execution_count": null,
   "metadata": {
    "ExecuteTime": {
     "end_time": "2019-09-27T20:55:14.797701Z",
     "start_time": "2019-09-27T20:53:04.938Z"
    }
   },
   "outputs": [],
   "source": [
    "names = [id_to_tag[i] for i in y_t.sort_values().unique()]\n",
    "print(sk.metrics.classification_report(y_t, y_pred, \n",
    "                                       target_names=names))"
   ]
  },
  {
   "cell_type": "markdown",
   "metadata": {},
   "source": [
    "### SVM linéaire"
   ]
  },
  {
   "cell_type": "markdown",
   "metadata": {},
   "source": [
    "#### Optimisation des hyperparamètres"
   ]
  },
  {
   "cell_type": "code",
   "execution_count": null,
   "metadata": {
    "ExecuteTime": {
     "end_time": "2019-09-27T20:55:14.813326Z",
     "start_time": "2019-09-27T20:53:04.943Z"
    }
   },
   "outputs": [],
   "source": [
    "base = sk.svm.LinearSVC(dual=False, random_state=SEED)\n",
    "grid = {'C': [0.1, 1, 10],\n",
    "        'penalty': ['l1', 'l2'],\n",
    "        'max_iter': [1000, 2000, 5000]\n",
    "       }\n",
    "model = sk.model_selection.GridSearchCV(base,\n",
    "                                        param_grid=grid,\n",
    "                                        cv=5,\n",
    "                                        n_jobs=-1)\n",
    "if CALC_SLOW_SECTIONS:\n",
    "    model.fit(X_tr, y_tr)\n",
    "    model.best_params_"
   ]
  },
  {
   "cell_type": "markdown",
   "metadata": {},
   "source": [
    "Résultats : {'C': 1, 'penalty': 'l1', 'max_iter': 1000}"
   ]
  },
  {
   "cell_type": "markdown",
   "metadata": {
    "ExecuteTime": {
     "end_time": "2019-09-10T22:50:44.372801Z",
     "start_time": "2019-09-10T22:50:44.368807Z"
    }
   },
   "source": [
    "#### Entraînement du modèle"
   ]
  },
  {
   "cell_type": "code",
   "execution_count": null,
   "metadata": {
    "ExecuteTime": {
     "end_time": "2019-09-27T20:55:14.813326Z",
     "start_time": "2019-09-27T20:53:04.951Z"
    }
   },
   "outputs": [],
   "source": [
    "model = sk.svm.LinearSVC(C=1.0, penalty='l1', max_iter=1000, dual=False)\n",
    "model.fit(X_tr, y_tr)"
   ]
  },
  {
   "cell_type": "code",
   "execution_count": null,
   "metadata": {
    "ExecuteTime": {
     "end_time": "2019-09-27T20:55:14.813326Z",
     "start_time": "2019-09-27T20:53:04.955Z"
    }
   },
   "outputs": [],
   "source": [
    "print(\"*** Scores sur données d'entraînement\")\n",
    "y_pred = model.predict(X_tr)\n",
    "print_scores(y_tr, y_pred)\n",
    "print(\"*** Scores sur données de test :\")\n",
    "y_pred = model.predict(X_t)\n",
    "print_scores(y_t, y_pred)"
   ]
  },
  {
   "cell_type": "markdown",
   "metadata": {
    "ExecuteTime": {
     "end_time": "2019-09-12T08:48:53.447660Z",
     "start_time": "2019-09-12T08:48:53.432043Z"
    }
   },
   "source": [
    "\n",
    "## Classement multilabel"
   ]
  },
  {
   "cell_type": "code",
   "execution_count": null,
   "metadata": {
    "ExecuteTime": {
     "end_time": "2019-09-27T20:55:14.813326Z",
     "start_time": "2019-09-27T20:53:04.962Z"
    }
   },
   "outputs": [],
   "source": [
    "# Exception pour arrêter le calcul\n",
    "x = 1/0 "
   ]
  },
  {
   "cell_type": "markdown",
   "metadata": {
    "ExecuteTime": {
     "end_time": "2019-09-14T10:34:58.818831Z",
     "start_time": "2019-09-14T10:34:58.803206Z"
    }
   },
   "source": [
    "### Réduction de dimension de la matrice documents-termes\n",
    "Pas nécessaire pour l'instant, mais à faire quand même"
   ]
  },
  {
   "cell_type": "code",
   "execution_count": null,
   "metadata": {
    "ExecuteTime": {
     "end_time": "2019-09-27T20:55:14.813326Z",
     "start_time": "2019-09-27T20:53:04.966Z"
    }
   },
   "outputs": [],
   "source": [
    "fv = TfidfVectorizer(analyzer='word', min_df=20, max_df=0.3, \n",
    "                     ngram_range=(1, 1))\n",
    "text_tfidf = fv.fit_transform(df['Text'])\n",
    "print(f\"Taille de la matrice TFIDF : {text_tfidf.shape}\")\n",
    "X = text_tfidf\n",
    "y = tags\n",
    "X_tr, X_t, y_tr, y_t = sk.model_selection.train_test_split(X, y, \n",
    "                                                           test_size=0.3, \n",
    "                                                           random_state=SEED)\n",
    "X_tr.shape, y_tr.shape, X_t.shape, y_t.shape"
   ]
  },
  {
   "cell_type": "code",
   "execution_count": null,
   "metadata": {
    "ExecuteTime": {
     "end_time": "2019-09-27T20:55:14.813326Z",
     "start_time": "2019-09-27T20:53:04.970Z"
    }
   },
   "outputs": [],
   "source": [
    "print(f\"{len(fv.stop_words_)} termes exclus\")\n",
    "#print(\" \".join(fv.stop_words_))"
   ]
  },
  {
   "cell_type": "markdown",
   "metadata": {
    "ExecuteTime": {
     "end_time": "2019-09-13T15:23:00.302636Z",
     "start_time": "2019-09-13T15:23:00.286995Z"
    }
   },
   "source": [
    "### Classement indépendant par catégorie"
   ]
  },
  {
   "cell_type": "markdown",
   "metadata": {
    "ExecuteTime": {
     "end_time": "2019-09-13T16:48:45.961680Z",
     "start_time": "2019-09-13T16:48:43.526Z"
    }
   },
   "source": [
    "#### Modèle MultinomialNB"
   ]
  },
  {
   "cell_type": "code",
   "execution_count": null,
   "metadata": {
    "ExecuteTime": {
     "end_time": "2019-09-27T20:55:14.813326Z",
     "start_time": "2019-09-27T20:53:04.975Z"
    },
    "scrolled": false
   },
   "outputs": [],
   "source": [
    "y_pred_t = scipy.sparse.lil_matrix(y_t.shape)\n",
    "y_pred_tr = scipy.sparse.lil_matrix(y_tr.shape)\n",
    "model = sk.naive_bayes.MultinomialNB(fit_prior=True, \n",
    "                                     class_prior=None)\n",
    "for i, feature in enumerate(features):\n",
    "    y_label_tr = y_tr[:, i].toarray().reshape(-1)\n",
    "    y_label_t = y_t[:, i].toarray().reshape(-1)\n",
    "    model.fit(X_tr.toarray(), y_label_tr)    \n",
    "    y_pred1_tr = model.predict(X_tr)\n",
    "    y_pred1_t = model.predict(X_t)\n",
    "    score_tr = sk.metrics.recall_score(y_label_tr, y_pred1_tr)\n",
    "    score_t = sk.metrics.recall_score(y_label_t, y_pred1_t)\n",
    "    y_pred_t[:, i] = y_pred1_t.reshape(-1, 1)\n",
    "    y_pred_tr[:, i] = y_pred1_tr.reshape(-1, 1)\n",
    "    print(f\"{feature} ({score_tr*100:0.0f}%, {score_t*100:0.0f}%)\", end=' ')"
   ]
  },
  {
   "cell_type": "code",
   "execution_count": null,
   "metadata": {
    "ExecuteTime": {
     "end_time": "2019-09-27T20:55:14.813326Z",
     "start_time": "2019-09-27T20:53:04.978Z"
    },
    "scrolled": true
   },
   "outputs": [],
   "source": [
    "print_scores(y_t, y_pred_t)"
   ]
  },
  {
   "cell_type": "markdown",
   "metadata": {},
   "source": [
    "Rappel = 0.05\n",
    "Précision = 0.78\n",
    "Justesse = 0.09\n",
    "F1 = 0.02"
   ]
  },
  {
   "cell_type": "markdown",
   "metadata": {},
   "source": [
    "#### Régression logistique"
   ]
  },
  {
   "cell_type": "code",
   "execution_count": null,
   "metadata": {
    "ExecuteTime": {
     "end_time": "2019-09-27T20:55:14.813326Z",
     "start_time": "2019-09-27T20:53:04.984Z"
    }
   },
   "outputs": [],
   "source": [
    "filename = \"data/P6-MultiLabelLogisticRegressionOutput.sav\"\n",
    "\n",
    "if CALC_SLOW_SECTIONS:\n",
    "    y_pred_t = scipy.sparse.lil_matrix(y_t.shape)\n",
    "    y_pred_tr = scipy.sparse.lil_matrix(y_tr.shape)\n",
    "    model = sk.linear_model.LogisticRegression(multi_class='multinomial', \n",
    "                                               solver='sag', n_jobs=4)\n",
    "\n",
    "    for i, f in enumerate(features):\n",
    "        y_label_tr = y_tr[:, i].toarray().reshape(-1)\n",
    "        y_label_t = y_t[:, i].toarray().reshape(-1)\n",
    "        model.fit(X_tr.toarray(), y_label_tr)    \n",
    "        y_pred1_tr = model.predict(X_tr)\n",
    "        y_pred1_t = model.predict(X_t)\n",
    "        score_tr = sk.metrics.recall_score(y_label_tr, y_pred1_tr)\n",
    "        score_t = sk.metrics.recall_score(y_label_t, y_pred1_t)\n",
    "        y_pred_t[:, i] = y_pred1_t.reshape(-1, 1)\n",
    "        y_pred_tr[:, i] = y_pred1_tr.reshape(-1, 1)\n",
    "        print(f\"{f} ({score_tr*100:0.0f}%, {score_t*100:0.0f}%)\", end=' ')\n",
    "        data = (y_pred_tr, y_pred_t)\n",
    "        pickle.dump(data, open(filename, 'wb'))\n",
    "else:\n",
    "    y_pred_tr, y_pred_t = pickle.load(open(filename, 'rb'))\n",
    "    print(y_pred_tr.shape, y_pred_t.shape)"
   ]
  },
  {
   "cell_type": "code",
   "execution_count": null,
   "metadata": {
    "ExecuteTime": {
     "end_time": "2019-09-27T20:55:14.813326Z",
     "start_time": "2019-09-27T20:53:04.987Z"
    }
   },
   "outputs": [],
   "source": [
    "print(\"*** Scores sur données d'entraînement\")\n",
    "print_scores(y_tr, y_pred_tr)\n",
    "print(\"*** Scores sur données de test :\")\n",
    "print_scores(y_t, y_pred_t)"
   ]
  },
  {
   "cell_type": "markdown",
   "metadata": {},
   "source": [
    "#### SVM linéaire"
   ]
  },
  {
   "cell_type": "code",
   "execution_count": null,
   "metadata": {
    "ExecuteTime": {
     "end_time": "2019-09-27T20:55:14.828949Z",
     "start_time": "2019-09-27T20:53:04.992Z"
    }
   },
   "outputs": [],
   "source": [
    "i = 0\n",
    "f = features[i]\n",
    "base = sk.svm.LinearSVC(dual=False, random_state=SEED)\n",
    "grid = {'C': [0.1, 1, 10],\n",
    "        'penalty': ['l1', 'l2'],\n",
    "        'max_iter': [1000, 2000, 5000]\n",
    "       }\n",
    "model = sk.model_selection.GridSearchCV(base,\n",
    "                                        param_grid=grid,\n",
    "                                        cv=5,\n",
    "                                        n_jobs=1)\n",
    "y_label_tr = y_tr[:, i].toarray().reshape(-1)\n",
    "model.fit(X_tr.toarray(), y_label_tr)    \n",
    "model.best_params_"
   ]
  },
  {
   "cell_type": "code",
   "execution_count": null,
   "metadata": {
    "ExecuteTime": {
     "end_time": "2019-09-27T20:55:14.828949Z",
     "start_time": "2019-09-27T20:53:04.996Z"
    }
   },
   "outputs": [],
   "source": [
    "y_pred_t = scipy.sparse.lil_matrix(y_t.shape)\n",
    "y_pred_tr = scipy.sparse.lil_matrix(y_tr.shape)\n",
    "model = sk.svm.LinearSVC(C=1.0, penalty='l1', max_iter=1000, \n",
    "                         multi_class='ovr', dual=False)\n",
    "\n",
    "for i, f in enumerate(features):\n",
    "    y_label_tr = y_tr[:, i].toarray().reshape(-1)\n",
    "    y_label_t = y_t[:, i].toarray().reshape(-1)\n",
    "    model.fit(X_tr.toarray(), y_label_tr)    \n",
    "    y_pred1_tr = model.predict(X_tr)\n",
    "    y_pred1_t = model.predict(X_t)\n",
    "    score_tr = sk.metrics.recall_score(y_label_tr, y_pred1_tr)\n",
    "    score_t = sk.metrics.recall_score(y_label_t, y_pred1_t)\n",
    "    y_pred_t[:, i] = y_pred1_t.reshape(-1, 1)\n",
    "    y_pred_tr[:, i] = y_pred1_tr.reshape(-1, 1)\n",
    "    print(f\"{f} ({score_tr*100:0.0f}%, {score_t*100:0.0f}%)\", end=' ')\n",
    "    data = (y_pred_tr, y_pred_t)\n",
    "    pickle.dump(data, open(filename, 'wb'))"
   ]
  },
  {
   "cell_type": "code",
   "execution_count": null,
   "metadata": {
    "ExecuteTime": {
     "end_time": "2019-09-27T20:55:14.828949Z",
     "start_time": "2019-09-27T20:53:05.002Z"
    }
   },
   "outputs": [],
   "source": [
    "print(\"*** Scores sur données d'entraînement\")\n",
    "print_scores(y_tr, y_pred_tr)\n",
    "print(\"*** Scores sur données de test :\")\n",
    "print_scores(y_t, y_pred_t)"
   ]
  },
  {
   "cell_type": "markdown",
   "metadata": {
    "ExecuteTime": {
     "end_time": "2019-09-13T21:50:28.976764Z",
     "start_time": "2019-09-13T21:50:28.961140Z"
    }
   },
   "source": [
    "### Utilisation de OneVsRestClassifier"
   ]
  },
  {
   "cell_type": "code",
   "execution_count": null,
   "metadata": {
    "ExecuteTime": {
     "end_time": "2019-09-27T20:55:14.828949Z",
     "start_time": "2019-09-27T20:53:05.009Z"
    }
   },
   "outputs": [],
   "source": [
    "base = sk.linear_model.LogisticRegression(multi_class='multinomial',\n",
    "                                          solver='sag',\n",
    "                                          n_jobs=-1)\n",
    "model = sk.multiclass.OneVsRestClassifier(base)\n",
    "model.fit(X_tr.toarray(), y_tr)"
   ]
  },
  {
   "cell_type": "code",
   "execution_count": null,
   "metadata": {
    "ExecuteTime": {
     "end_time": "2019-09-27T20:55:14.828949Z",
     "start_time": "2019-09-27T20:53:05.014Z"
    },
    "scrolled": true
   },
   "outputs": [],
   "source": [
    "print(\"*** Scores sur données d'entraînement\")\n",
    "y_pred_tr = model.predict(X_tr)\n",
    "print_scores(y_tr, y_pred_tr)\n",
    "print(\"*** Scores sur données de test :\")\n",
    "y_pred_t = model.predict(X_t)\n",
    "print_scores(y_t, y_pred_t)"
   ]
  },
  {
   "cell_type": "markdown",
   "metadata": {},
   "source": [
    "Mêmes résultats que précédemment."
   ]
  },
  {
   "cell_type": "code",
   "execution_count": null,
   "metadata": {
    "ExecuteTime": {
     "end_time": "2019-09-27T20:55:14.828949Z",
     "start_time": "2019-09-27T20:53:05.021Z"
    }
   },
   "outputs": [],
   "source": [
    "y_correct = y_t.toarray()\n",
    "for row in range(30):\n",
    "    y_pred_tr_row = y_pred_t[row, :].toarray()[0]\n",
    "    pred = [id_to_tag[i] for i in np.where(y_pred_tr_row == 1)[0] ]\n",
    "    labels = [id_to_tag[i] for i in np.where(y_correct[row, :] == 1)[0] ]\n",
    "    print(row, pred, labels)"
   ]
  },
  {
   "cell_type": "markdown",
   "metadata": {
    "ExecuteTime": {
     "end_time": "2019-09-14T10:34:59.647016Z",
     "start_time": "2019-09-14T10:34:59.631392Z"
    }
   },
   "source": [
    "### Classement en chaîne (ClassifierChain)"
   ]
  },
  {
   "cell_type": "markdown",
   "metadata": {},
   "source": [
    "#### Régression logistique"
   ]
  },
  {
   "cell_type": "code",
   "execution_count": null,
   "metadata": {
    "ExecuteTime": {
     "end_time": "2019-09-27T20:55:14.828949Z",
     "start_time": "2019-09-27T20:53:05.029Z"
    }
   },
   "outputs": [],
   "source": [
    "filename = \"data/P6-ClassifierChain.sav\"\n",
    "\n",
    "if CALC_SLOW_SECTIONS and False: # Désactivé\n",
    "    base = sk.linear_model.LogisticRegression(multi_class='multinomial', \n",
    "                                          solver='sag')\n",
    "    model = sklearn.multioutput.ClassifierChain(base)\n",
    "    model.fit(X_tr.toarray(), y_tr)\n",
    "    pickle.dump(model, open(filename, \"wb\"))\n",
    "else:\n",
    "    model = pickle.load(open(filename, \"rb\" ))\n",
    "    \n",
    "model"
   ]
  },
  {
   "cell_type": "code",
   "execution_count": null,
   "metadata": {
    "ExecuteTime": {
     "end_time": "2019-09-27T20:55:14.828949Z",
     "start_time": "2019-09-27T20:53:05.034Z"
    }
   },
   "outputs": [],
   "source": [
    "print(\"*** Scores sur données d'entraînement\")\n",
    "y_pred = model.predict(X_tr)\n",
    "print_scores(y_tr, y_pred)\n",
    "print(\"*** Scores sur données de test :\")\n",
    "y_pred = model.predict(X_t)\n",
    "print_scores(y_t, y_pred)"
   ]
  },
  {
   "cell_type": "markdown",
   "metadata": {
    "ExecuteTime": {
     "end_time": "2019-09-20T06:02:34.042598Z",
     "start_time": "2019-09-20T06:02:33.757233Z"
    }
   },
   "source": [
    "#### SVM linéaire"
   ]
  },
  {
   "cell_type": "code",
   "execution_count": null,
   "metadata": {
    "ExecuteTime": {
     "end_time": "2019-09-27T20:55:14.828949Z",
     "start_time": "2019-09-27T20:53:05.038Z"
    }
   },
   "outputs": [],
   "source": [
    "base = sk.svm.LinearSVC(C=1.0, penalty='l1', max_iter=1000, \n",
    "                         multi_class='ovr', dual=False)\n",
    "model = sklearn.multioutput.ClassifierChain(base)\n",
    "model.fit(X_tr.toarray(), y_tr.toarray())"
   ]
  },
  {
   "cell_type": "code",
   "execution_count": null,
   "metadata": {
    "ExecuteTime": {
     "end_time": "2019-09-27T20:55:14.828949Z",
     "start_time": "2019-09-27T20:53:05.046Z"
    }
   },
   "outputs": [],
   "source": [
    "print(\"*** Scores sur données d'entraînement\")\n",
    "y_pred = model.predict(X_tr)\n",
    "print_scores(y_tr, y_pred)\n",
    "print(\"*** Scores sur données de test :\")\n",
    "y_pred = model.predict(X_t)\n",
    "print_scores(y_t, y_pred)"
   ]
  },
  {
   "cell_type": "markdown",
   "metadata": {},
   "source": [
    "Performances légèrement supérieures à celles d'une SVM simple."
   ]
  },
  {
   "cell_type": "markdown",
   "metadata": {},
   "source": [
    "## Analyse non supervisée : LDA"
   ]
  },
  {
   "cell_type": "markdown",
   "metadata": {},
   "source": [
    "### Préparation des données"
   ]
  },
  {
   "cell_type": "code",
   "execution_count": null,
   "metadata": {
    "ExecuteTime": {
     "end_time": "2019-09-27T20:55:14.828949Z",
     "start_time": "2019-09-27T20:53:05.052Z"
    },
    "scrolled": true
   },
   "outputs": [],
   "source": [
    "cv = CountVectorizer(min_df=20, max_df=0.3)\n",
    "text_words = cv.fit_transform(df['Text'])\n",
    "print(f\"Taille de la matrice de vocabulaire : {text_words.shape}\")"
   ]
  },
  {
   "cell_type": "code",
   "execution_count": null,
   "metadata": {
    "ExecuteTime": {
     "end_time": "2019-09-27T20:55:14.844572Z",
     "start_time": "2019-09-27T20:53:05.055Z"
    }
   },
   "outputs": [],
   "source": [
    "words_tr, words_t = sk.model_selection.train_test_split(text_words, \n",
    "                                                        test_size=0.3, \n",
    "                                                        random_state=SEED)\n",
    "words_tr.shape, words_t.shape"
   ]
  },
  {
   "cell_type": "markdown",
   "metadata": {},
   "source": [
    "### Optimisation des hyperparamètres"
   ]
  },
  {
   "cell_type": "markdown",
   "metadata": {
    "ExecuteTime": {
     "start_time": "2019-09-16T13:22:43.775Z"
    }
   },
   "source": [
    "#### Recherche sur grille avec le score par défaut"
   ]
  },
  {
   "cell_type": "code",
   "execution_count": null,
   "metadata": {
    "ExecuteTime": {
     "end_time": "2019-09-27T20:55:14.844572Z",
     "start_time": "2019-09-27T20:53:05.061Z"
    }
   },
   "outputs": [],
   "source": [
    "grid = {'n_components': [10, 20, 25, 30, 40, 50], \n",
    "        'learning_decay': [.5, .7, .9]\n",
    "       }\n",
    "base = sk.decomposition.LatentDirichletAllocation(random_state=SEED)\n",
    "model = sk.model_selection.GridSearchCV(base, param_grid=grid, cv=5, n_jobs=6)\n",
    "if CALC_SLOW_SECTIONS:\n",
    "    model.fit(text_words)\n",
    "    model.best_params_"
   ]
  },
  {
   "cell_type": "markdown",
   "metadata": {
    "ExecuteTime": {
     "end_time": "2019-09-16T13:31:16.735817Z",
     "start_time": "2019-09-16T13:31:16.730821Z"
    }
   },
   "source": [
    "#### Recherche sur grille avec score de perplexité"
   ]
  },
  {
   "cell_type": "code",
   "execution_count": null,
   "metadata": {
    "ExecuteTime": {
     "end_time": "2019-09-27T20:55:14.844572Z",
     "start_time": "2019-09-27T20:53:05.066Z"
    }
   },
   "outputs": [],
   "source": [
    "# LDA retournant score = -perplexité\n",
    "class LDAWithPerplexityScorer(sk.decomposition.LatentDirichletAllocation):\n",
    "    def score(self, X, y=None):\n",
    "        score = super(LDAWithPerplexityScorer, self).perplexity(X)\n",
    "        return -1 * score"
   ]
  },
  {
   "cell_type": "code",
   "execution_count": null,
   "metadata": {
    "ExecuteTime": {
     "end_time": "2019-09-27T20:55:14.844572Z",
     "start_time": "2019-09-27T20:53:05.070Z"
    }
   },
   "outputs": [],
   "source": [
    "grid = {'n_components': [10, 20, 25, 30, 40, 50], \n",
    "        'learning_decay': [.5, .7, .9]\n",
    "       }\n",
    "base = LDAWithPerplexityScorer(random_state=SEED)\n",
    "model = sk.model_selection.GridSearchCV(base, param_grid=grid, cv=5, n_jobs=-1)\n",
    "if CALC_SLOW_SECTIONS:\n",
    "    model.fit(text_words)\n",
    "    model.best_params_"
   ]
  },
  {
   "cell_type": "markdown",
   "metadata": {},
   "source": [
    "Résultats sauvegardés (identiques avec les 2 méthodes d'évaluation) : \n",
    "\n",
    "{'learning_decay': 0.5, 'n_components': 10}"
   ]
  },
  {
   "cell_type": "markdown",
   "metadata": {},
   "source": [
    "#### Recherche manuelle"
   ]
  },
  {
   "cell_type": "code",
   "execution_count": null,
   "metadata": {
    "ExecuteTime": {
     "end_time": "2019-09-27T20:55:14.844572Z",
     "start_time": "2019-09-27T20:53:05.075Z"
    },
    "scrolled": true
   },
   "outputs": [],
   "source": [
    "n_components = [10, 25, 50, 75, 100, 125, 150]\n",
    "scores = []\n",
    "if CALC_SLOW_SECTIONS:\n",
    "    for n in n_components:\n",
    "        lda = sk.decomposition.LatentDirichletAllocation(n_components=n,\n",
    "                                                         learning_decay=0.5,\n",
    "                                                         random_state=SEED,\n",
    "                                                         n_jobs=2)\n",
    "        lda.fit(words_tr)\n",
    "        score = lda.perplexity(words_t)\n",
    "        #print(n, score)\n",
    "        scores.append(score)\n",
    "else:\n",
    "    scores = [1062.17, 943.89, 888.53, 878.74, 884.63, 889.28, 905.38]\n",
    "axes = sns.lineplot(n_components, scores);\n",
    "axes.set_title(\"Score de perplexité en fonction du nombre de sujets\");"
   ]
  },
  {
   "cell_type": "markdown",
   "metadata": {},
   "source": [
    "Nous retenons 75 comme valeur optimale de `n_components`."
   ]
  },
  {
   "cell_type": "markdown",
   "metadata": {
    "ExecuteTime": {
     "end_time": "2019-09-16T13:31:17.330261Z",
     "start_time": "2019-09-16T13:31:17.326264Z"
    }
   },
   "source": [
    "### Entraînement du modèle"
   ]
  },
  {
   "cell_type": "code",
   "execution_count": null,
   "metadata": {
    "ExecuteTime": {
     "end_time": "2019-09-27T20:55:14.851078Z",
     "start_time": "2019-09-27T20:53:05.080Z"
    }
   },
   "outputs": [],
   "source": [
    "lda = sk.decomposition.LatentDirichletAllocation(n_components=75,\n",
    "                                                 learning_decay=0.5,\n",
    "                                                 learning_method='online',\n",
    "                                                 random_state=SEED,\n",
    "                                                 n_jobs=1)\n",
    "output = lda.fit_transform(text_words)\n",
    "lda"
   ]
  },
  {
   "cell_type": "code",
   "execution_count": null,
   "metadata": {
    "ExecuteTime": {
     "end_time": "2019-09-27T20:55:14.851078Z",
     "start_time": "2019-09-27T20:53:05.085Z"
    },
    "scrolled": false
   },
   "outputs": [],
   "source": [
    "n_keywords = 10\n",
    "words = cv.get_feature_names()\n",
    "for i, topic in enumerate(lda.components_):\n",
    "    keywords = [words[i] for i in topic.argsort()[:-n_keywords-1:-1]]\n",
    "    print(i, \" \".join(keywords))\n",
    "# afficher des examples"
   ]
  },
  {
   "cell_type": "markdown",
   "metadata": {
    "ExecuteTime": {
     "end_time": "2019-09-18T20:40:54.412257Z",
     "start_time": "2019-09-18T20:36:28.786Z"
    }
   },
   "source": [
    "### Visualisation"
   ]
  },
  {
   "cell_type": "code",
   "execution_count": null,
   "metadata": {
    "ExecuteTime": {
     "end_time": "2019-09-27T20:55:14.851078Z",
     "start_time": "2019-09-27T20:53:05.090Z"
    }
   },
   "outputs": [],
   "source": [
    "def clean_tags(s):\n",
    "    l = re.findall(r'\\<(.*?)\\>', s)\n",
    "    return \" \".join(l)"
   ]
  },
  {
   "cell_type": "code",
   "execution_count": null,
   "metadata": {
    "ExecuteTime": {
     "end_time": "2019-09-27T20:55:14.851078Z",
     "start_time": "2019-09-27T20:53:05.092Z"
    },
    "scrolled": true
   },
   "outputs": [],
   "source": [
    "output = lda.transform(text_words)\n",
    "topic_names = [\"S\" + str(i) for i in range(lda.n_components)]\n",
    "doc_names = [\"D\" + str(i) for i in range(len(df))]\n",
    "df_topics = pd.DataFrame(np.round(output, 2), \n",
    "                         columns=topic_names, \n",
    "                         index=doc_names)\n",
    "dominant_topic = np.argmax(df_topics.values, axis=1)\n",
    "df_topics['Main_topic'] = dominant_topic\n",
    "df_topics['Tags'] = df['Tags'].apply(clean_tags).values\n",
    "\n",
    "def color_green(val):\n",
    "    color = 'black'\n",
    "    if type(val) == float:\n",
    "        if val > .1:\n",
    "            color = 'green' \n",
    "    return 'color: {col}'.format(col=color)\n",
    "\n",
    "def make_bold(val):\n",
    "    weight = 400\n",
    "    if type(val) == float:\n",
    "        if val > .1:\n",
    "            weight = 700 \n",
    "    return 'font-weight: {weight}'.format(weight=weight)\n",
    "\n",
    "df_topics.head(20).style.applymap(color_green).applymap(make_bold)\n",
    "#df_topics.head(20).transpose()"
   ]
  },
  {
   "cell_type": "code",
   "execution_count": null,
   "metadata": {
    "ExecuteTime": {
     "end_time": "2019-09-27T20:55:14.851078Z",
     "start_time": "2019-09-27T20:53:05.095Z"
    },
    "scrolled": false
   },
   "outputs": [],
   "source": [
    "def show_topics(vectorizer, lda_model, n_words=5):\n",
    "    keywords = np.array(vectorizer.get_feature_names())\n",
    "    topic_keywords = []\n",
    "    i = 0\n",
    "    for topic_weights in lda_model.components_:\n",
    "        top_keyword_locs = (-topic_weights).argsort()[:n_words]\n",
    "        topic_keywords.append(keywords.take(top_keyword_locs))\n",
    "        i = i+1\n",
    "    return topic_keywords\n",
    "\n",
    "topic_keywords = show_topics(cv, lda, n_words=10)        \n",
    "df_keywords = pd.DataFrame(topic_keywords)\n",
    "df_keywords.columns = [f'Terme {i+1}' for i in range(df_keywords.shape[1])]\n",
    "df_keywords.index = [f'Sujet {i+1}' for i in range(df_keywords.shape[0])]\n",
    "df_keywords"
   ]
  },
  {
   "cell_type": "code",
   "execution_count": null,
   "metadata": {
    "ExecuteTime": {
     "end_time": "2019-09-27T20:55:14.851078Z",
     "start_time": "2019-09-27T20:53:05.100Z"
    }
   },
   "outputs": [],
   "source": [
    "pyLDAvis.enable_notebook()\n",
    "panel = pyLDAvis.sklearn.prepare(lda, text_tfidf, fv, mds='tsne')\n",
    "panel"
   ]
  },
  {
   "cell_type": "markdown",
   "metadata": {},
   "source": [
    "## Analyse non supervisée : LSA"
   ]
  },
  {
   "cell_type": "code",
   "execution_count": null,
   "metadata": {
    "ExecuteTime": {
     "end_time": "2019-09-27T20:55:14.851078Z",
     "start_time": "2019-09-27T20:53:05.104Z"
    }
   },
   "outputs": [],
   "source": [
    "fv = TfidfVectorizer(analyzer='word', min_df=20, max_df=0.3)\n",
    "text_tfidf = fv.fit_transform(df['Text'])\n",
    "print(f\"Taille de la matrice Tfidf : {text_tfidf.shape}\")"
   ]
  },
  {
   "cell_type": "code",
   "execution_count": null,
   "metadata": {
    "ExecuteTime": {
     "end_time": "2019-09-27T20:55:14.851078Z",
     "start_time": "2019-09-27T20:53:05.108Z"
    }
   },
   "outputs": [],
   "source": [
    "svd_model = sk.decomposition.TruncatedSVD(n_components=75, \n",
    "                                          algorithm='randomized', \n",
    "                                          n_iter=100, \n",
    "                                          random_state=SEED)\n",
    "svd_model.fit(text_tfidf)\n",
    "len(svd_model.components_)"
   ]
  },
  {
   "cell_type": "code",
   "execution_count": null,
   "metadata": {
    "ExecuteTime": {
     "end_time": "2019-09-27T20:55:14.851078Z",
     "start_time": "2019-09-27T20:53:05.111Z"
    }
   },
   "outputs": [],
   "source": [
    "def show_topics(vectorizer, model, n_words=5):\n",
    "    keywords = np.array(vectorizer.get_feature_names())\n",
    "    topic_keywords = []\n",
    "    i = 0\n",
    "    for topic_weights in model.components_:\n",
    "        top_keyword_locs = (-topic_weights).argsort()[:n_words]\n",
    "        topic_keywords.append(keywords.take(top_keyword_locs))\n",
    "        i = i+1\n",
    "    return topic_keywords\n",
    "\n",
    "topic_keywords = show_topics(fv, svd_model, n_words=10)        \n",
    "df_keywords = pd.DataFrame(topic_keywords)\n",
    "df_keywords.columns = [f'Terme {i+1}' for i in range(df_keywords.shape[1])]\n",
    "df_keywords.index = [f'Sujet {i+1}' for i in range(df_keywords.shape[0])]\n",
    "df_keywords"
   ]
  }
 ],
 "metadata": {
  "kernelspec": {
   "display_name": "Python [conda env:.conda-tagging_env]",
   "language": "python",
   "name": "conda-env-.conda-tagging_env-py"
  },
  "language_info": {
   "codemirror_mode": {
    "name": "ipython",
    "version": 3
   },
   "file_extension": ".py",
   "mimetype": "text/x-python",
   "name": "python",
   "nbconvert_exporter": "python",
   "pygments_lexer": "ipython3",
   "version": "3.7.4"
  },
  "toc": {
   "base_numbering": 1,
   "nav_menu": {},
   "number_sections": true,
   "sideBar": true,
   "skip_h1_title": true,
   "title_cell": "Table of Contents",
   "title_sidebar": "Contents",
   "toc_cell": false,
   "toc_position": {
    "height": "898.7px",
    "left": "110px",
    "top": "111.483px",
    "width": "401.533px"
   },
   "toc_section_display": true,
   "toc_window_display": true
  },
  "varInspector": {
   "cols": {
    "lenName": 16,
    "lenType": 16,
    "lenVar": 40
   },
   "kernels_config": {
    "python": {
     "delete_cmd_postfix": "",
     "delete_cmd_prefix": "del ",
     "library": "var_list.py",
     "varRefreshCmd": "print(var_dic_list())"
    },
    "r": {
     "delete_cmd_postfix": ") ",
     "delete_cmd_prefix": "rm(",
     "library": "var_list.r",
     "varRefreshCmd": "cat(var_dic_list()) "
    }
   },
   "position": {
    "height": "748.85px",
    "left": "1547px",
    "right": "20px",
    "top": "120px",
    "width": "353px"
   },
   "types_to_exclude": [
    "module",
    "function",
    "builtin_function_or_method",
    "instance",
    "_Feature"
   ],
   "window_display": false
  }
 },
 "nbformat": 4,
 "nbformat_minor": 2
}
