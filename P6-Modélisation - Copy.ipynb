{
 "cells": [
  {
   "cell_type": "markdown",
   "metadata": {},
   "source": [
    "# Catégorisation automatique de questions"
   ]
  },
  {
   "cell_type": "markdown",
   "metadata": {},
   "source": [
    "## Initialisation"
   ]
  },
  {
   "cell_type": "code",
   "execution_count": 1,
   "metadata": {
    "ExecuteTime": {
     "end_time": "2019-09-20T16:10:26.561625Z",
     "start_time": "2019-09-20T16:09:35.278698Z"
    }
   },
   "outputs": [
    {
     "name": "stderr",
     "output_type": "stream",
     "text": [
      "C:\\Users\\regclem\\.conda\\envs\\tagging_env\\lib\\site-packages\\thinc\\neural\\train.py:3: DeprecationWarning: Using or importing the ABCs from 'collections' instead of from 'collections.abc' is deprecated, and in 3.8 it will stop working\n",
      "  from .optimizers import Adam, SGD, linear_decay\n",
      "C:\\Users\\regclem\\.conda\\envs\\tagging_env\\lib\\site-packages\\thinc\\check.py:1: DeprecationWarning: Using or importing the ABCs from 'collections' instead of from 'collections.abc' is deprecated, and in 3.8 it will stop working\n",
      "  from collections import defaultdict, Sequence, Sized, Iterable, Callable\n"
     ]
    }
   ],
   "source": [
    "# Standard libraries\n",
    "import itertools\n",
    "import os\n",
    "import re\n",
    "import sys\n",
    "\n",
    "# External libraries\n",
    "import bs4\n",
    "import matplotlib \n",
    "import matplotlib.pyplot as plt\n",
    "import nltk\n",
    "import nltk.stem.porter\n",
    "import numpy as np\n",
    "import pandas as pd\n",
    "import pickle\n",
    "import pyLDAvis\n",
    "import pyLDAvis.sklearn\n",
    "import scipy\n",
    "import seaborn as sns\n",
    "import spacy\n",
    "import sklearn as sk\n",
    "import sklearn.decomposition\n",
    "from sklearn.feature_extraction.text import CountVectorizer\n",
    "from sklearn.feature_extraction.text import TfidfVectorizer\n",
    "import sklearn.feature_selection\n",
    "import sklearn.model_selection\n",
    "import sklearn.multiclass\n",
    "import sklearn.multioutput\n",
    "import sklearn.naive_bayes\n",
    "import sklearn.svm\n",
    "import string"
   ]
  },
  {
   "cell_type": "code",
   "execution_count": 2,
   "metadata": {
    "ExecuteTime": {
     "end_time": "2019-09-20T16:10:26.601990Z",
     "start_time": "2019-09-20T16:10:26.583802Z"
    }
   },
   "outputs": [],
   "source": [
    "# Fichiers de données sauvegardés par le calepin d'exploration\n",
    "DATA_FILE = \"data/P6 all labels.dat\"\n",
    "DATA_FILE_SINGLE_LABEL = \"data/P6 single label.dat\"\n",
    "\n",
    "# Ne pas exécuter les sections à temps de calcul élever\n",
    "CALC_SLOW_SECTIONS = False\n",
    "\n",
    "SEED = 1911"
   ]
  },
  {
   "cell_type": "code",
   "execution_count": 3,
   "metadata": {
    "ExecuteTime": {
     "end_time": "2019-09-20T16:10:28.053130Z",
     "start_time": "2019-09-20T16:10:26.624147Z"
    }
   },
   "outputs": [],
   "source": [
    "data = pickle.load(open(DATA_FILE, 'rb'))\n",
    "df, tags, id_to_tag, features = data\n",
    "df1 = pickle.load(open(DATA_FILE_SINGLE_LABEL, 'rb'))"
   ]
  },
  {
   "cell_type": "code",
   "execution_count": 4,
   "metadata": {
    "ExecuteTime": {
     "end_time": "2019-09-20T10:01:08.878875Z",
     "start_time": "2019-09-20T10:01:08.678364Z"
    }
   },
   "outputs": [
    {
     "data": {
      "text/plain": [
       "array([0, 1], dtype=int64)"
      ]
     },
     "execution_count": 4,
     "metadata": {},
     "output_type": "execute_result"
    }
   ],
   "source": [
    "np.unique(tags.toarray())"
   ]
  },
  {
   "cell_type": "code",
   "execution_count": 5,
   "metadata": {
    "ExecuteTime": {
     "end_time": "2019-09-20T10:01:08.910123Z",
     "start_time": "2019-09-20T10:01:08.878875Z"
    }
   },
   "outputs": [
    {
     "name": "stdout",
     "output_type": "stream",
     "text": [
      "<class 'pandas.core.frame.DataFrame'>\n",
      "Int64Index: 42096 entries, 1 to 49457\n",
      "Data columns (total 3 columns):\n",
      "Id      42096 non-null int64\n",
      "Tags    42096 non-null object\n",
      "Text    42096 non-null object\n",
      "dtypes: int64(1), object(2)\n",
      "memory usage: 1.3+ MB\n"
     ]
    }
   ],
   "source": [
    "df.info()"
   ]
  },
  {
   "cell_type": "code",
   "execution_count": 6,
   "metadata": {
    "ExecuteTime": {
     "end_time": "2019-09-20T10:01:09.010390Z",
     "start_time": "2019-09-20T10:01:08.910123Z"
    }
   },
   "outputs": [
    {
     "name": "stdout",
     "output_type": "stream",
     "text": [
      "<class 'pandas.core.frame.DataFrame'>\n",
      "Int64Index: 38721 entries, 1 to 49457\n",
      "Data columns (total 4 columns):\n",
      "Id         38721 non-null int64\n",
      "Tag        38721 non-null object\n",
      "TagCode    38721 non-null int64\n",
      "Text       38721 non-null object\n",
      "dtypes: int64(2), object(2)\n",
      "memory usage: 1.5+ MB\n"
     ]
    }
   ],
   "source": [
    "df1.info()"
   ]
  },
  {
   "cell_type": "markdown",
   "metadata": {},
   "source": [
    "## Classement mono-label"
   ]
  },
  {
   "cell_type": "markdown",
   "metadata": {},
   "source": [
    "### Représentation des messages en matrice TFIDF"
   ]
  },
  {
   "cell_type": "code",
   "execution_count": 7,
   "metadata": {
    "ExecuteTime": {
     "end_time": "2019-09-20T10:01:29.713687Z",
     "start_time": "2019-09-20T10:01:09.010390Z"
    }
   },
   "outputs": [
    {
     "name": "stdout",
     "output_type": "stream",
     "text": [
      "Taille de la matrice Tfidf : (38721, 7578)\n"
     ]
    }
   ],
   "source": [
    "# On ne conserve que les labels fréquents\n",
    "#df1 = df[~del_mask].copy()\n",
    "# Utilisation de `min_df` nécessaire pour réduire la quantité de mots\n",
    "fv = TfidfVectorizer(analyzer='word', ngram_range=(1,2), \n",
    "                     min_df=50, stop_words='english')\n",
    "text_tfidf = fv.fit_transform(df1['Text'])\n",
    "print(f\"Taille de la matrice Tfidf : {text_tfidf.shape}\")"
   ]
  },
  {
   "cell_type": "code",
   "execution_count": 8,
   "metadata": {
    "ExecuteTime": {
     "end_time": "2019-09-20T10:01:29.729257Z",
     "start_time": "2019-09-20T10:01:29.713687Z"
    }
   },
   "outputs": [
    {
     "name": "stdout",
     "output_type": "stream",
     "text": [
      "1909117 termes exclus\n"
     ]
    }
   ],
   "source": [
    "print(f\"{len(fv.stop_words_)} termes exclus\")\n",
    "#print(\" \".join(fv.stop_words_))"
   ]
  },
  {
   "cell_type": "code",
   "execution_count": 9,
   "metadata": {
    "ExecuteTime": {
     "end_time": "2019-09-20T10:01:30.077159Z",
     "start_time": "2019-09-20T10:01:29.729257Z"
    }
   },
   "outputs": [
    {
     "data": {
      "text/plain": [
       "((27104, 7578), (27104,), (11617, 7578), (11617,))"
      ]
     },
     "execution_count": 9,
     "metadata": {},
     "output_type": "execute_result"
    }
   ],
   "source": [
    "X = text_tfidf\n",
    "y = df1['TagCode']\n",
    "X_tr, X_t, y_tr, y_t = sk.model_selection.train_test_split(X, y, \n",
    "                                                           test_size=0.3, \n",
    "                                                           random_state=SEED)\n",
    "X_tr.shape, y_tr.shape, X_t.shape, y_t.shape"
   ]
  },
  {
   "cell_type": "markdown",
   "metadata": {},
   "source": [
    "### Mots et bi-grammes les plus corrélés avec chaque catégorie"
   ]
  },
  {
   "cell_type": "code",
   "execution_count": 10,
   "metadata": {
    "ExecuteTime": {
     "end_time": "2019-09-20T10:03:38.757361Z",
     "start_time": "2019-09-20T10:01:30.077159Z"
    },
    "scrolled": false
   },
   "outputs": [
    {
     "name": "stdout",
     "output_type": "stream",
     "text": [
      "python : ['def', 'self', 'python'] ['nan nan', 'lib python', 'site package']\n",
      "java : ['jar', 'println', 'java'] ['override public', 'import java', 'public void']\n",
      "node.js : ['node', 'express', 'nodejs'] ['req body', 'res send', 'req res']\n",
      "android : ['fragment', 'layout', 'android'] ['android app', 'android studio', 'android layout']\n",
      "vue : ['vuex', 'vuetify', 'vue'] ['vue vue', 'vue component', 'vue app']\n",
      "flutter : ['widget', 'dart', 'flutter'] ['widget build', 'children widget', 'buildcontext context']\n",
      "c++ : ['cpp', 'cout', 'std'] ['include iostream', 'std cout', 'std string']\n",
      "javascript : ['var', 'div', 'javascript'] ['document queryselector', 'document getelementbyid', 'console log']\n",
      "ruby-on-rails : ['gem', 'activerecord', 'rail'] ['end def', 'end end', 'ruby rail']\n",
      "css : ['border', 'background', 'css'] ['text decoration', 'background color', 'css file']\n",
      "django : ['charfield', 'model', 'django'] ['charfield max', 'model charfield', 'rest framework']\n",
      "c# : ['writeline', 'public', 'csharp'] ['object sender', 'console writeline', 'set public']\n",
      "typescript : ['assignable', 'interface', 'typescript'] ['string number', 'return type', 'export interface']\n",
      "laravel : ['artisan', 'illuminate', 'laravel'] ['function index', 'use illuminate', 'public function']\n",
      "php : ['mysqli', 'echo', 'php'] ['php echo', 'php line', 'public function']\n",
      "firebase : ['cloud', 'firestore', 'firebase'] ['firebase firebase', 'firebase auth', 'cloud function']\n",
      "jquery : ['addclass', 'ajax', 'jquery'] ['jquery jquery', 'document ready', 'use jquery']\n",
      "r : ['geom', 'factor', 'ggplot'] ['set seed', 'structure list', 'data frame']\n",
      "apache : ['apache', 'kafka', 'spark'] ['org apache', 'spark sql', 'apache spark']\n",
      "html : ['align', 'html', 'div'] ['background color', 'div div', 'div class']\n",
      "react : ['native', 'prop', 'react'] ['view style', 'import react', 'react native']\n",
      "docker : ['compose', 'dockerfile', 'docker'] ['docker image', 'docker container', 'docker compose']\n",
      "swift : ['func', 'swift', 'swiftui'] ['var body', 'guard let', 'body view']\n",
      "amazon : ['iam', 'sthree', 'aws'] ['aws sthree', 'api gateway', 'sthree bucket']\n",
      "asp.net : ['net', 'iis', 'asp'] ['net mvc', 'net core', 'asp net']\n",
      "json : ['deserialize', 'parse', 'json'] ['json string', 'parse json', 'json file']\n",
      "visual-studio : ['studio', 'visual', 'vscode'] ['project file', 'nuget package', 'visual studio']\n",
      "angular : ['mat', 'component', 'angular'] ['component html', 'angular app', 'export class']\n",
      "azure : ['microsoft', 'devops', 'azure'] ['app service', 'azure function', 'azure devops']\n",
      "postgresql : ['table', 'postgres', 'postgresql'] ['time zone', 'create table', 'execute select']\n",
      "mysql : ['table', 'innodb', 'mysql'] ['auto increment', 'varchar null', 'mysql server']\n",
      "sql : ['dbo', 'sql', 'table'] ['union select', 'inner join', 'leave join']\n",
      "spring : ['springframework', 'boot', 'spring'] ['spring cloud', 'org springframework', 'spring boot']\n",
      "regex : ['match', 'regexp', 'regex'] ['com rsoftware', 'regex match', 'regular expression']\n",
      "excel : ['cells', 'dim', 'vba'] ['sheet range', 'end xlup', 'end sub']\n",
      "oracle : ['procedure', 'ora', 'oracle'] ['end loop', 'create replace', 'output line']\n",
      "c : ['stdio', 'scanf', 'printf'] ['int main', 'stdio include', 'include stdio']\n",
      "google-cloud : ['firestore', 'cloud', 'gcp'] ['use google', 'cloud function', 'google cloud']\n",
      "ios : ['indexpath', 'xcode', 'ios'] ['ios app', 'override func', 'view controller']\n",
      "bash : ['grep', 'echo', 'bash'] ['shell script', 'bin bash', 'bash script']\n",
      "linux : ['sed', 'kernel', 'linux'] ['var log', 'bin bash', 'shell script']\n",
      "powershell : ['rename', 'csv', 'powershell'] ['start process', 'new object', 'powershell script']\n",
      "wordpress : ['plugin', 'woocommerce', 'wordpress'] ['custom field', 'wordpress site', 'post type']\n",
      "vb.net : ['textbox', 'byval', 'dim'] ['end class', 'end sub', 'private sub']\n",
      "sql-server : ['dbo', 'nvarchar', 'sql'] ['server database', 'store procedure', 'sql server']\n",
      "git : ['branch', 'commit', 'git'] ['azure devops', 'file change', 'change file']\n",
      "arrays : ['complexity', 'dim', 'array'] ['array list', 'array int', 'array array']\n",
      "mongo : ['objectid', 'mongo', 'mongodb'] ['require mongoose', 'mongoose model', 'mongoose schema']\n",
      "ruby : ['hash', 'gem', 'ruby'] ['end class', 'end end', 'end def']\n",
      "scala : ['rdd', 'spark', 'scala'] ['org apache', 'apache spark', 'spark sql']\n",
      "windows : ['uwp', 'exe', 'windows'] ['end file', 'windows server', 'program file']\n",
      "google-app : ['spreadsheet', 'spreadsheetapp', 'getrange'] ['google drive', 'logger log', 'google sheet']\n",
      ".net : ['microsoft', 'nuget', 'dotnet'] ['core web', 'microsoft aspnetcore', 'nuget package']\n",
      "kubernetes : ['kubectl', 'pod', 'kubernetes'] ['docker image', 'google cloud', 'selector app']\n",
      "tensorflow : ['loss', 'keras', 'tensorflow'] ['model keras', 'keras model', 'keras layer']\n",
      "go : ['func', 'golang', 'fmt'] ['map string', 'main import', 'err nil']\n",
      "elasticsearch : ['mappings', 'elastic', 'elasticsearch'] ['search result', 'type text', 'search query']\n"
     ]
    }
   ],
   "source": [
    "n_terms = 3\n",
    "for label, id in [(id_to_tag[id], id) for id in df1['TagCode'].unique()]:\n",
    "    chi2 = sk.feature_selection.chi2(text_tfidf.toarray(), \n",
    "                                     df1['TagCode'] == id)\n",
    "    indices = np.argsort(chi2[0])\n",
    "    feature_names = np.array(fv.get_feature_names())[indices]\n",
    "    unigrams = [v for v in feature_names if len(v.split(' ')) == 1]\n",
    "    bigrams = [v for v in feature_names if len(v.split(' ')) == 2]        \n",
    "    print(label, \":\", unigrams[-n_terms:], bigrams[-n_terms:])"
   ]
  },
  {
   "cell_type": "markdown",
   "metadata": {},
   "source": [
    "### Modèle bayésien naïf multinomial "
   ]
  },
  {
   "cell_type": "code",
   "execution_count": 11,
   "metadata": {
    "ExecuteTime": {
     "end_time": "2019-09-20T10:03:38.935261Z",
     "start_time": "2019-09-20T10:03:38.759359Z"
    }
   },
   "outputs": [
    {
     "data": {
      "text/plain": [
       "MultinomialNB(alpha=1.0, class_prior=None, fit_prior=True)"
      ]
     },
     "execution_count": 11,
     "metadata": {},
     "output_type": "execute_result"
    }
   ],
   "source": [
    "model = sk.naive_bayes.MultinomialNB()\n",
    "model.fit(X_tr, y_tr)"
   ]
  },
  {
   "cell_type": "code",
   "execution_count": 12,
   "metadata": {
    "ExecuteTime": {
     "end_time": "2019-09-20T10:03:38.945253Z",
     "start_time": "2019-09-20T10:03:38.938256Z"
    }
   },
   "outputs": [],
   "source": [
    "def print_scores(y, y_pred):\n",
    "    score = sk.metrics.recall_score(y, y_pred, average='micro')    \n",
    "    print(f\"Rappel = {score:0.2f}\")\n",
    "    score = sk.metrics.precision_score(y, y_pred, average='micro')\n",
    "    print(f\"Précision = {score:0.2f}\")\n",
    "    score = sk.metrics.f1_score(y, y_pred, average='micro')\n",
    "    print(f\"F1 = {score:0.2f}\")    \n",
    "    score = sk.metrics.accuracy_score(y, y_pred)    \n",
    "    print(f\"Justesse = {score:0.2f}\")    \n",
    "    print()"
   ]
  },
  {
   "cell_type": "code",
   "execution_count": 13,
   "metadata": {
    "ExecuteTime": {
     "end_time": "2019-09-20T10:03:39.400869Z",
     "start_time": "2019-09-20T10:03:38.948251Z"
    },
    "scrolled": true
   },
   "outputs": [
    {
     "name": "stdout",
     "output_type": "stream",
     "text": [
      "*** Scores sur données d'entraînement\n",
      "Rappel = 0.52\n",
      "Précision = 0.52\n",
      "F1 = 0.52\n",
      "Justesse = 0.52\n",
      "\n",
      "*** Scores sur données de test :\n",
      "Rappel = 0.49\n",
      "Précision = 0.49\n",
      "F1 = 0.49\n",
      "Justesse = 0.49\n",
      "\n"
     ]
    }
   ],
   "source": [
    "print(\"*** Scores sur données d'entraînement\")\n",
    "y_pred = model.predict(X_tr)\n",
    "print_scores(y_tr, y_pred)\n",
    "print(\"*** Scores sur données de test :\")\n",
    "y_pred = model.predict(X_t)\n",
    "print_scores(y_t, y_pred)"
   ]
  },
  {
   "cell_type": "code",
   "execution_count": 14,
   "metadata": {
    "ExecuteTime": {
     "end_time": "2019-09-20T10:03:39.448844Z",
     "start_time": "2019-09-20T10:03:39.402867Z"
    },
    "scrolled": false
   },
   "outputs": [
    {
     "name": "stderr",
     "output_type": "stream",
     "text": [
      "C:\\Users\\regclem\\.conda\\envs\\tagging_env\\lib\\site-packages\\sklearn\\metrics\\classification.py:1437: UndefinedMetricWarning: Precision and F-score are ill-defined and being set to 0.0 in labels with no predicted samples.\n",
      "  'precision', 'predicted', average, warn_for)\n"
     ]
    },
    {
     "name": "stdout",
     "output_type": "stream",
     "text": [
      "               precision    recall  f1-score   support\n",
      "\n",
      "       python       0.43      0.95      0.59      2022\n",
      "         java       0.58      0.66      0.62       881\n",
      "      node.js       0.58      0.12      0.20       216\n",
      "      android       0.65      0.59      0.62       507\n",
      "          vue       0.00      0.00      0.00        67\n",
      "      flutter       0.95      0.44      0.60       122\n",
      "          c++       0.80      0.53      0.64       279\n",
      "   javascript       0.39      0.87      0.54      1476\n",
      "ruby-on-rails       1.00      0.01      0.02        93\n",
      "          css       0.00      0.00      0.00       109\n",
      "       django       0.50      0.01      0.02       120\n",
      "           c#       0.57      0.68      0.62       743\n",
      "   typescript       0.00      0.00      0.00        70\n",
      "      laravel       0.00      0.00      0.00       103\n",
      "          php       0.64      0.56      0.60       587\n",
      "     firebase       0.00      0.00      0.00        43\n",
      "       jquery       0.00      0.00      0.00        85\n",
      "            r       0.97      0.32      0.48       395\n",
      "       apache       0.00      0.00      0.00        81\n",
      "         html       0.60      0.23      0.33       249\n",
      "        react       0.71      0.15      0.25       338\n",
      "       docker       0.82      0.10      0.18        89\n",
      "        swift       0.00      0.00      0.00       127\n",
      "       amazon       1.00      0.08      0.14       132\n",
      "      asp.net       0.00      0.00      0.00        95\n",
      "         json       0.00      0.00      0.00        65\n",
      "visual-studio       0.00      0.00      0.00        65\n",
      "      angular       0.75      0.13      0.21       287\n",
      "        azure       0.50      0.01      0.02       115\n",
      "   postgresql       0.00      0.00      0.00        37\n",
      "        mysql       0.83      0.03      0.06       166\n",
      "          sql       0.56      0.28      0.37       223\n",
      "       spring       0.00      0.00      0.00       112\n",
      "        regex       0.00      0.00      0.00        69\n",
      "        excel       0.90      0.41      0.56       192\n",
      "       oracle       0.00      0.00      0.00        31\n",
      "            c       1.00      0.06      0.12       126\n",
      " google-cloud       0.00      0.00      0.00        31\n",
      "          ios       0.69      0.31      0.43       224\n",
      "         bash       0.00      0.00      0.00        55\n",
      "        linux       0.00      0.00      0.00        74\n",
      "   powershell       0.00      0.00      0.00        55\n",
      "    wordpress       0.00      0.00      0.00        52\n",
      "       vb.net       0.00      0.00      0.00        32\n",
      "   sql-server       0.00      0.00      0.00        90\n",
      "          git       0.89      0.13      0.22        63\n",
      "       arrays       0.00      0.00      0.00        39\n",
      "        mongo       0.00      0.00      0.00        43\n",
      "         ruby       0.00      0.00      0.00        30\n",
      "        scala       0.00      0.00      0.00        58\n",
      "      windows       0.00      0.00      0.00        41\n",
      "   google-app       0.00      0.00      0.00        42\n",
      "         .net       0.00      0.00      0.00        33\n",
      "   kubernetes       0.00      0.00      0.00        31\n",
      "   tensorflow       0.00      0.00      0.00        37\n",
      "           go       0.00      0.00      0.00        41\n",
      "elasticsearch       0.00      0.00      0.00        29\n",
      "\n",
      "     accuracy                           0.49     11617\n",
      "    macro avg       0.30      0.13      0.15     11617\n",
      " weighted avg       0.49      0.49      0.41     11617\n",
      "\n"
     ]
    }
   ],
   "source": [
    "names = [id_to_tag[i] for i in y_t.sort_values().unique()]\n",
    "print(sk.metrics.classification_report(y_t, y_pred, \n",
    "                                       target_names=names))"
   ]
  },
  {
   "cell_type": "code",
   "execution_count": 15,
   "metadata": {
    "ExecuteTime": {
     "end_time": "2019-09-20T10:03:39.541788Z",
     "start_time": "2019-09-20T10:03:39.451839Z"
    }
   },
   "outputs": [
    {
     "name": "stdout",
     "output_type": "stream",
     "text": [
      "Labels prédit et attendu pour ligne 0 : (0, 0)\n"
     ]
    },
    {
     "data": {
      "text/plain": [
       "Id                                               57560002\n",
       "Tags    <python><amazon-web-services><amazon-s3><boto3...\n",
       "Text    python script size sthree bucket clanguagesv s...\n",
       "Name: 1, dtype: object"
      ]
     },
     "execution_count": 15,
     "metadata": {},
     "output_type": "execute_result"
    }
   ],
   "source": [
    "# Example\n",
    "row = 0\n",
    "v = text_tfidf[row, :]\n",
    "predicted = model.predict(v)[0]\n",
    "expected = df1.iloc[row]['TagCode']\n",
    "print(f\"Labels prédit et attendu pour ligne {row} : {predicted, expected}\")\n",
    "df.iloc[row]"
   ]
  },
  {
   "cell_type": "markdown",
   "metadata": {},
   "source": [
    "### Régression logistique"
   ]
  },
  {
   "cell_type": "code",
   "execution_count": 16,
   "metadata": {
    "ExecuteTime": {
     "end_time": "2019-09-20T10:03:50.042667Z",
     "start_time": "2019-09-20T10:03:39.544786Z"
    }
   },
   "outputs": [
    {
     "data": {
      "text/plain": [
       "LogisticRegression(C=1.0, class_weight=None, dual=False, fit_intercept=True,\n",
       "                   intercept_scaling=1, l1_ratio=None, max_iter=100,\n",
       "                   multi_class='multinomial', n_jobs=None, penalty='l2',\n",
       "                   random_state=None, solver='sag', tol=0.0001, verbose=0,\n",
       "                   warm_start=False)"
      ]
     },
     "execution_count": 16,
     "metadata": {},
     "output_type": "execute_result"
    }
   ],
   "source": [
    "model = sk.linear_model.LogisticRegression(multi_class='multinomial', \n",
    "                                           solver='sag')\n",
    "model.fit(X_tr, y_tr)"
   ]
  },
  {
   "cell_type": "code",
   "execution_count": 17,
   "metadata": {
    "ExecuteTime": {
     "end_time": "2019-09-20T10:03:50.372508Z",
     "start_time": "2019-09-20T10:03:50.045665Z"
    }
   },
   "outputs": [
    {
     "name": "stdout",
     "output_type": "stream",
     "text": [
      "*** Scores sur données d'entraînement\n",
      "Rappel = 0.74\n",
      "Précision = 0.74\n",
      "F1 = 0.74\n",
      "Justesse = 0.74\n",
      "\n",
      "*** Scores sur données de test :\n",
      "Rappel = 0.63\n",
      "Précision = 0.63\n",
      "F1 = 0.63\n",
      "Justesse = 0.63\n",
      "\n"
     ]
    }
   ],
   "source": [
    "print(\"*** Scores sur données d'entraînement\")\n",
    "y_pred = model.predict(X_tr)\n",
    "print_scores(y_tr, y_pred)\n",
    "print(\"*** Scores sur données de test :\")\n",
    "y_pred = model.predict(X_t)\n",
    "print_scores(y_t, y_pred)"
   ]
  },
  {
   "cell_type": "code",
   "execution_count": 18,
   "metadata": {
    "ExecuteTime": {
     "end_time": "2019-09-20T10:03:50.417485Z",
     "start_time": "2019-09-20T10:03:50.374507Z"
    }
   },
   "outputs": [
    {
     "name": "stdout",
     "output_type": "stream",
     "text": [
      "               precision    recall  f1-score   support\n",
      "\n",
      "       python       0.65      0.91      0.76      2022\n",
      "         java       0.63      0.68      0.65       881\n",
      "      node.js       0.52      0.38      0.44       216\n",
      "      android       0.67      0.70      0.68       507\n",
      "          vue       0.42      0.12      0.19        67\n",
      "      flutter       0.81      0.63      0.71       122\n",
      "          c++       0.81      0.72      0.76       279\n",
      "   javascript       0.52      0.76      0.62      1476\n",
      "ruby-on-rails       0.83      0.57      0.68        93\n",
      "          css       0.50      0.22      0.31       109\n",
      "       django       0.52      0.36      0.42       120\n",
      "           c#       0.65      0.75      0.69       743\n",
      "   typescript       0.52      0.23      0.32        70\n",
      "      laravel       0.64      0.17      0.27       103\n",
      "          php       0.66      0.74      0.70       587\n",
      "     firebase       0.48      0.33      0.39        43\n",
      "       jquery       0.40      0.05      0.08        85\n",
      "            r       0.88      0.75      0.81       395\n",
      "       apache       0.52      0.30      0.38        81\n",
      "         html       0.48      0.40      0.44       249\n",
      "        react       0.63      0.42      0.50       338\n",
      "       docker       0.76      0.61      0.68        89\n",
      "        swift       0.39      0.21      0.28       127\n",
      "       amazon       0.73      0.56      0.64       132\n",
      "      asp.net       0.48      0.15      0.23        95\n",
      "         json       0.38      0.17      0.23        65\n",
      "visual-studio       0.62      0.25      0.35        65\n",
      "      angular       0.68      0.56      0.61       287\n",
      "        azure       0.71      0.55      0.62       115\n",
      "   postgresql       0.33      0.03      0.05        37\n",
      "        mysql       0.68      0.45      0.54       166\n",
      "          sql       0.47      0.62      0.54       223\n",
      "       spring       0.51      0.28      0.36       112\n",
      "        regex       0.62      0.26      0.37        69\n",
      "        excel       0.79      0.77      0.78       192\n",
      "       oracle       0.67      0.13      0.22        31\n",
      "            c       0.80      0.54      0.64       126\n",
      " google-cloud       1.00      0.06      0.12        31\n",
      "          ios       0.65      0.57      0.61       224\n",
      "         bash       0.62      0.33      0.43        55\n",
      "        linux       0.57      0.18      0.27        74\n",
      "   powershell       0.75      0.44      0.55        55\n",
      "    wordpress       0.54      0.40      0.46        52\n",
      "       vb.net       0.73      0.25      0.37        32\n",
      "   sql-server       0.62      0.29      0.39        90\n",
      "          git       0.77      0.78      0.77        63\n",
      "       arrays       0.00      0.00      0.00        39\n",
      "        mongo       0.65      0.40      0.49        43\n",
      "         ruby       0.67      0.07      0.12        30\n",
      "        scala       0.70      0.24      0.36        58\n",
      "      windows       0.50      0.07      0.13        41\n",
      "   google-app       0.58      0.26      0.36        42\n",
      "         .net       1.00      0.03      0.06        33\n",
      "   kubernetes       0.65      0.55      0.60        31\n",
      "   tensorflow       0.00      0.00      0.00        37\n",
      "           go       0.85      0.27      0.41        41\n",
      "elasticsearch       0.64      0.48      0.55        29\n",
      "\n",
      "     accuracy                           0.63     11617\n",
      "    macro avg       0.61      0.39      0.44     11617\n",
      " weighted avg       0.63      0.63      0.60     11617\n",
      "\n"
     ]
    }
   ],
   "source": [
    "names = [id_to_tag[i] for i in y_t.sort_values().unique()]\n",
    "print(sk.metrics.classification_report(y_t, y_pred, \n",
    "                                       target_names=names))"
   ]
  },
  {
   "cell_type": "markdown",
   "metadata": {},
   "source": [
    "### SVM linéaire"
   ]
  },
  {
   "cell_type": "markdown",
   "metadata": {},
   "source": [
    "#### Optimisation des hyperparamètres"
   ]
  },
  {
   "cell_type": "code",
   "execution_count": 19,
   "metadata": {
    "ExecuteTime": {
     "end_time": "2019-09-20T10:34:02.059972Z",
     "start_time": "2019-09-20T10:03:50.419483Z"
    }
   },
   "outputs": [],
   "source": [
    "base = sk.svm.LinearSVC(dual=False, random_state=SEED)\n",
    "grid = {'C': [0.1, 1, 10],\n",
    "        'penalty': ['l1', 'l2'],\n",
    "        'max_iter': [1000, 2000, 5000]\n",
    "       }\n",
    "model = sk.model_selection.GridSearchCV(base,\n",
    "                                        param_grid=grid,\n",
    "                                        cv=5,\n",
    "                                        n_jobs=-1)\n",
    "if CALC_SLOW_SECTIONS:\n",
    "    model.fit(X_tr, y_tr)\n",
    "    model.best_params_"
   ]
  },
  {
   "cell_type": "markdown",
   "metadata": {},
   "source": [
    "Résultats : {'C': 1, 'penalty': 'l1', 'max_iter': 1000}"
   ]
  },
  {
   "cell_type": "markdown",
   "metadata": {
    "ExecuteTime": {
     "end_time": "2019-09-10T22:50:44.372801Z",
     "start_time": "2019-09-10T22:50:44.368807Z"
    }
   },
   "source": [
    "#### Entraînement du modèle"
   ]
  },
  {
   "cell_type": "code",
   "execution_count": 20,
   "metadata": {
    "ExecuteTime": {
     "end_time": "2019-09-20T10:34:52.865879Z",
     "start_time": "2019-09-20T10:34:02.061959Z"
    }
   },
   "outputs": [
    {
     "data": {
      "text/plain": [
       "LinearSVC(C=1.0, class_weight=None, dual=False, fit_intercept=True,\n",
       "          intercept_scaling=1, loss='squared_hinge', max_iter=1000,\n",
       "          multi_class='ovr', penalty='l1', random_state=None, tol=0.0001,\n",
       "          verbose=0)"
      ]
     },
     "execution_count": 20,
     "metadata": {},
     "output_type": "execute_result"
    }
   ],
   "source": [
    "model = sk.svm.LinearSVC(C=1.0, penalty='l1', max_iter=1000, dual=False)\n",
    "model.fit(X_tr, y_tr)"
   ]
  },
  {
   "cell_type": "code",
   "execution_count": 21,
   "metadata": {
    "ExecuteTime": {
     "end_time": "2019-09-20T10:34:53.226612Z",
     "start_time": "2019-09-20T10:34:52.868876Z"
    }
   },
   "outputs": [
    {
     "name": "stdout",
     "output_type": "stream",
     "text": [
      "*** Scores sur données d'entraînement\n",
      "Rappel = 0.84\n",
      "Précision = 0.84\n",
      "F1 = 0.84\n",
      "Justesse = 0.84\n",
      "\n",
      "*** Scores sur données de test :\n",
      "Rappel = 0.66\n",
      "Précision = 0.66\n",
      "F1 = 0.66\n",
      "Justesse = 0.66\n",
      "\n"
     ]
    }
   ],
   "source": [
    "print(\"*** Scores sur données d'entraînement\")\n",
    "y_pred = model.predict(X_tr)\n",
    "print_scores(y_tr, y_pred)\n",
    "print(\"*** Scores sur données de test :\")\n",
    "y_pred = model.predict(X_t)\n",
    "print_scores(y_t, y_pred)"
   ]
  },
  {
   "cell_type": "markdown",
   "metadata": {
    "ExecuteTime": {
     "end_time": "2019-09-12T08:48:53.447660Z",
     "start_time": "2019-09-12T08:48:53.432043Z"
    }
   },
   "source": [
    "\n",
    "## Classement multilabel"
   ]
  },
  {
   "cell_type": "markdown",
   "metadata": {
    "ExecuteTime": {
     "end_time": "2019-09-14T10:34:58.818831Z",
     "start_time": "2019-09-14T10:34:58.803206Z"
    }
   },
   "source": [
    "### Réduction de dimension de la matrice documents-termes\n",
    "Pas nécessaire pour l'instant, mais à faire quand même"
   ]
  },
  {
   "cell_type": "code",
   "execution_count": 22,
   "metadata": {
    "ExecuteTime": {
     "end_time": "2019-09-20T10:35:00.963014Z",
     "start_time": "2019-09-20T10:34:53.229610Z"
    }
   },
   "outputs": [
    {
     "name": "stdout",
     "output_type": "stream",
     "text": [
      "Taille de la matrice TFIDF : (42096, 7035)\n"
     ]
    },
    {
     "data": {
      "text/plain": [
       "((29467, 7035), (29467, 150), (12629, 7035), (12629, 150))"
      ]
     },
     "execution_count": 22,
     "metadata": {},
     "output_type": "execute_result"
    }
   ],
   "source": [
    "fv = TfidfVectorizer(analyzer='word', min_df=20, max_df=0.3, \n",
    "                     ngram_range=(1, 1))\n",
    "text_tfidf = fv.fit_transform(df['Text'])\n",
    "print(f\"Taille de la matrice TFIDF : {text_tfidf.shape}\")\n",
    "X = text_tfidf\n",
    "y = tags\n",
    "X_tr, X_t, y_tr, y_t = sk.model_selection.train_test_split(X, y, \n",
    "                                                           test_size=0.3, \n",
    "                                                           random_state=SEED)\n",
    "X_tr.shape, y_tr.shape, X_t.shape, y_t.shape"
   ]
  },
  {
   "cell_type": "code",
   "execution_count": 23,
   "metadata": {
    "ExecuteTime": {
     "end_time": "2019-09-20T10:35:00.978005Z",
     "start_time": "2019-09-20T10:35:00.973008Z"
    }
   },
   "outputs": [
    {
     "name": "stdout",
     "output_type": "stream",
     "text": [
      "191709 termes exclus\n"
     ]
    }
   ],
   "source": [
    "print(f\"{len(fv.stop_words_)} termes exclus\")\n",
    "#print(\" \".join(fv.stop_words_))"
   ]
  },
  {
   "cell_type": "markdown",
   "metadata": {
    "ExecuteTime": {
     "end_time": "2019-09-13T15:23:00.302636Z",
     "start_time": "2019-09-13T15:23:00.286995Z"
    }
   },
   "source": [
    "### Classement indépendant par catégorie"
   ]
  },
  {
   "cell_type": "markdown",
   "metadata": {
    "ExecuteTime": {
     "end_time": "2019-09-13T16:48:45.961680Z",
     "start_time": "2019-09-13T16:48:43.526Z"
    }
   },
   "source": [
    "#### Modèle MultinomialNB"
   ]
  },
  {
   "cell_type": "code",
   "execution_count": 24,
   "metadata": {
    "ExecuteTime": {
     "end_time": "2019-09-20T10:39:06.490074Z",
     "start_time": "2019-09-20T10:35:00.984001Z"
    },
    "scrolled": false
   },
   "outputs": [
    {
     "name": "stdout",
     "output_type": "stream",
     "text": [
      ".net (0%, 0%) ajax (0%, 0%) algorithm (0%, 0%) amazon (11%, 6%) android (48%, 47%) angular (15%, 14%) ansible (0%, 0%) apache (7%, 5%) api (0%, 0%) arrays (0%, 0%) asp.net (6%, 5%) asynchronous (0%, 0%) authentication (0%, 0%) aws (0%, 0%) azure (1%, 4%) bash (1%, 0%) beautifulsoup (0%, 0%) bootstrap (1%, 0%) c (1%, 1%) c# (19%, 14%) c++ (18%, 16%) class (0%, 0%) css (35%, 36%) csv (0%, 0%) dart (3%, 2%) database (0%, 0%) dataframe (0%, 0%) date (0%, 0%) datetime (0%, 0%) deep-learning (0%, 0%) dictionary (0%, 0%) django (10%, 11%) docker (10%, 9%) dplyr (0%, 0%) ecma (0%, 0%) elasticsearch (0%, 2%) eloquent (0%, 0%) entity-framework (0%, 0%) excel (27%, 21%) express (0%, 0%) facebook (0%, 0%) file (0%, 0%) firebase (4%, 5%) flask (0%, 0%) flutter (28%, 24%) for-loop (0%, 0%) forms (0%, 0%) function (0%, 0%) ggplot2 (0%, 0%) git (1%, 0%) github (0%, 0%) go (0%, 0%) google-app (3%, 0%) google-chrome (0%, 0%) google-cloud (0%, 0%) google-maps (0%, 0%) google-sheets (0%, 0%) gradle (0%, 0%) graphql (0%, 0%) hibernate (0%, 0%) html (23%, 22%) http (0%, 0%) if-statement (0%, 0%) image (0%, 0%) ionic-framework (0%, 0%) ionic4 (0%, 0%) ios (8%, 5%) java (32%, 29%) javascript (29%, 23%) jenkins (0%, 0%) jestjs (0%, 0%) jpa (0%, 0%) jquery (1%, 1%) json (0%, 0%) keras (27%, 31%) kotlin (1%, 1%) kubernetes (1%, 2%) laravel (2%, 1%) linux (0%, 0%) list (0%, 0%) logging (0%, 0%) loops (0%, 0%) machine-learning (0%, 0%) macos (0%, 0%) matplotlib (4%, 0%) maven (15%, 10%) mongo (1%, 1%) multithreading (0%, 0%) mysql (1%, 1%) nginx (0%, 0%) node.js (8%, 5%) npm (0%, 0%) numpy (0%, 0%) object (0%, 0%) opencv (1%, 0%) oracle (0%, 0%) pandas (9%, 6%) pdf (0%, 0%) performance (0%, 0%) php (12%, 10%) postgresql (0%, 0%) powershell (0%, 0%) pyspark (0%, 0%) python (57%, 53%) qt (0%, 0%) r (28%, 23%) react (38%, 36%) redux (0%, 0%) regex (0%, 0%) rest (0%, 0%) ruby (0%, 0%) ruby-on-rails (1%, 0%) rust (0%, 0%) scala (1%, 0%) scikit (0%, 0%) selenium (6%, 8%) shell (1%, 0%) shiny (1%, 0%) sorting (0%, 0%) spring (27%, 24%) sql (1%, 1%) sql-server (0%, 0%) sqlite (0%, 0%) ssl (0%, 0%) string (0%, 0%) svg (0%, 0%) swift (24%, 20%) symfony (0%, 0%) tensorflow (23%, 26%) tkinter (0%, 0%) tsql (0%, 0%) typescript (0%, 0%) ubuntu (0%, 0%) unit-testing (0%, 0%) unity (0%, 0%) vb.net (0%, 0%) vba (24%, 22%) visual-studio (0%, 0%) vue (2%, 1%) web (0%, 0%) web-scraping (0%, 0%) webpack (0%, 0%) windows (0%, 0%) woocommerce (0%, 0%) wordpress (0%, 0%) wpf (4%, 3%) xamarin (0%, 0%) xamarin.forms (0%, 0%) xcode (0%, 0%) xml (0%, 0%) "
     ]
    }
   ],
   "source": [
    "y_pred_t = scipy.sparse.lil_matrix(y_t.shape)\n",
    "y_pred_tr = scipy.sparse.lil_matrix(y_tr.shape)\n",
    "model = sk.naive_bayes.MultinomialNB(fit_prior=True, \n",
    "                                     class_prior=None)\n",
    "for i, feature in enumerate(features):\n",
    "    y_label_tr = y_tr[:, i].toarray().reshape(-1)\n",
    "    y_label_t = y_t[:, i].toarray().reshape(-1)\n",
    "    model.fit(X_tr.toarray(), y_label_tr)    \n",
    "    y_pred1_tr = model.predict(X_tr)\n",
    "    y_pred1_t = model.predict(X_t)\n",
    "    score_tr = sk.metrics.recall_score(y_label_tr, y_pred1_tr)\n",
    "    score_t = sk.metrics.recall_score(y_label_t, y_pred1_t)\n",
    "    y_pred_t[:, i] = y_pred1_t.reshape(-1, 1)\n",
    "    y_pred_tr[:, i] = y_pred1_tr.reshape(-1, 1)\n",
    "    print(f\"{feature} ({score_tr*100:0.0f}%, {score_t*100:0.0f}%)\", end=' ')"
   ]
  },
  {
   "cell_type": "code",
   "execution_count": 25,
   "metadata": {
    "ExecuteTime": {
     "end_time": "2019-09-20T10:39:06.646982Z",
     "start_time": "2019-09-20T10:39:06.494071Z"
    },
    "scrolled": true
   },
   "outputs": [
    {
     "name": "stdout",
     "output_type": "stream",
     "text": [
      "Rappel = 0.16\n",
      "Précision = 0.80\n",
      "F1 = 0.26\n",
      "Justesse = 0.09\n",
      "\n"
     ]
    }
   ],
   "source": [
    "print_scores(y_t, y_pred_t)"
   ]
  },
  {
   "cell_type": "markdown",
   "metadata": {},
   "source": [
    "Rappel = 0.05\n",
    "Précision = 0.78\n",
    "Justesse = 0.09\n",
    "F1 = 0.02"
   ]
  },
  {
   "cell_type": "markdown",
   "metadata": {},
   "source": [
    "#### Régression logistique"
   ]
  },
  {
   "cell_type": "code",
   "execution_count": 26,
   "metadata": {
    "ExecuteTime": {
     "end_time": "2019-09-20T13:48:49.694898Z",
     "start_time": "2019-09-20T10:39:06.648981Z"
    }
   },
   "outputs": [
    {
     "name": "stdout",
     "output_type": "stream",
     "text": [
      ".net (9%, 6%) ajax (40%, 31%) algorithm (4%, 2%) amazon (53%, 48%) android (72%, 67%) angular (65%, 60%) ansible (52%, 44%) apache (42%, 33%) api (5%, 4%) arrays (25%, 21%) asp.net (46%, 39%) asynchronous (3%, 0%) authentication (3%, 0%) aws (31%, 25%) azure (64%, 54%) bash (30%, 25%) beautifulsoup (43%, 21%) bootstrap (23%, 12%) c (42%, 29%) c# (53%, 42%) c++ (60%, 49%) class (4%, 0%) css (58%, 50%) csv (31%, 17%) dart (27%, 25%) database (1%, 0%) dataframe (16%, 19%) date (3%, 3%) datetime (16%, 11%) deep-learning (3%, 3%) dictionary (17%, 12%) django (69%, 64%) docker (71%, 60%) dplyr (4%, 7%) ecma (0%, 0%) elasticsearch (51%, 33%) eloquent (10%, 0%) entity-framework (3%, 3%) excel (61%, 57%) express (34%, 23%) facebook (55%, 39%) file (0%, 2%) firebase (56%, 54%) flask (50%, 38%) flutter (74%, 60%) for-loop (4%, 2%) forms (4%, 0%) function (2%, 0%) ggplot2 (61%, 53%) git (62%, 45%) github (22%, 19%) go (27%, 16%) google-app (42%, 27%) google-chrome (28%, 16%) google-cloud (45%, 38%) google-maps (24%, 21%) google-sheets (38%, 28%) gradle (34%, 20%) graphql (40%, 31%) hibernate (35%, 22%) html (41%, 32%) http (10%, 3%) if-statement (0%, 0%) image (2%, 2%) ionic-framework (36%, 37%) ionic4 (23%, 25%) ios (39%, 24%) java (49%, 40%) javascript (52%, 42%) jenkins (55%, 46%) jestjs (50%, 32%) jpa (8%, 0%) jquery (41%, 30%) json (36%, 25%) keras (68%, 59%) kotlin (37%, 27%) kubernetes (53%, 44%) laravel (58%, 43%) linux (9%, 3%) list (16%, 10%) logging (22%, 13%) loops (2%, 0%) machine-learning (9%, 6%) macos (9%, 2%) matplotlib (47%, 36%) maven (54%, 42%) mongo (57%, 48%) multithreading (42%, 27%) mysql (43%, 40%) nginx (61%, 55%) node.js (45%, 35%) npm (26%, 25%) numpy (36%, 37%) object (5%, 4%) opencv (49%, 22%) oracle (40%, 26%) pandas (64%, 48%) pdf (31%, 15%) performance (1%, 0%) php (54%, 46%) postgresql (25%, 19%) powershell (47%, 36%) pyspark (37%, 25%) python (78%, 70%) qt (6%, 6%) r (63%, 51%) react (75%, 70%) redux (45%, 16%) regex (50%, 36%) rest (6%, 0%) ruby (20%, 11%) ruby-on-rails (41%, 31%) rust (23%, 24%) scala (35%, 28%) scikit (19%, 20%) selenium (57%, 51%) shell (8%, 3%) shiny (49%, 21%) sorting (22%, 8%) spring (61%, 55%) sql (34%, 23%) sql-server (35%, 26%) sqlite (37%, 20%) ssl (22%, 27%) string (6%, 3%) svg (50%, 33%) swift (61%, 52%) symfony (20%, 11%) tensorflow (60%, 47%) tkinter (53%, 39%) tsql (0%, 0%) typescript (32%, 21%) ubuntu (8%, 0%) unit-testing (10%, 4%) unity (47%, 42%) vb.net (20%, 12%) vba (66%, 64%) visual-studio (43%, 33%) vue (56%, 45%) web (0%, 0%) web-scraping (16%, 8%) webpack (37%, 38%) windows (6%, 6%) woocommerce (55%, 40%) wordpress (56%, 44%) wpf (42%, 31%) xamarin (20%, 19%) xamarin.forms (20%, 15%) xcode (19%, 10%) xml (29%, 19%) "
     ]
    }
   ],
   "source": [
    "filename = \"data/P6-MultiLabelLogisticRegressionOutput.sav\"\n",
    "\n",
    "if CALC_SLOW_SECTIONS:\n",
    "    y_pred_t = scipy.sparse.lil_matrix(y_t.shape)\n",
    "    y_pred_tr = scipy.sparse.lil_matrix(y_tr.shape)\n",
    "    model = sk.linear_model.LogisticRegression(multi_class='multinomial', \n",
    "                                               solver='sag', n_jobs=4)\n",
    "\n",
    "    for i, f in enumerate(features):\n",
    "        y_label_tr = y_tr[:, i].toarray().reshape(-1)\n",
    "        y_label_t = y_t[:, i].toarray().reshape(-1)\n",
    "        model.fit(X_tr.toarray(), y_label_tr)    \n",
    "        y_pred1_tr = model.predict(X_tr)\n",
    "        y_pred1_t = model.predict(X_t)\n",
    "        score_tr = sk.metrics.recall_score(y_label_tr, y_pred1_tr)\n",
    "        score_t = sk.metrics.recall_score(y_label_t, y_pred1_t)\n",
    "        y_pred_t[:, i] = y_pred1_t.reshape(-1, 1)\n",
    "        y_pred_tr[:, i] = y_pred1_tr.reshape(-1, 1)\n",
    "        print(f\"{f} ({score_tr*100:0.0f}%, {score_t*100:0.0f}%)\", end=' ')\n",
    "        data = (y_pred_tr, y_pred_t)\n",
    "        pickle.dump(data, open(filename, 'wb'))\n",
    "else:\n",
    "    y_pred_tr, y_pred_t = pickle.load(open(filename, 'rb'))\n",
    "    print(y_pred_tr.shape, y_pred_t.shape)"
   ]
  },
  {
   "cell_type": "code",
   "execution_count": 27,
   "metadata": {
    "ExecuteTime": {
     "end_time": "2019-09-20T13:48:50.299458Z",
     "start_time": "2019-09-20T13:48:49.696914Z"
    }
   },
   "outputs": [
    {
     "name": "stdout",
     "output_type": "stream",
     "text": [
      "*** Scores sur données d'entraînement\n",
      "Rappel = 0.49\n",
      "Précision = 0.89\n",
      "F1 = 0.63\n",
      "Justesse = 0.34\n",
      "\n",
      "*** Scores sur données de test :\n",
      "Rappel = 0.41\n",
      "Précision = 0.83\n",
      "F1 = 0.55\n",
      "Justesse = 0.25\n",
      "\n"
     ]
    }
   ],
   "source": [
    "print(\"*** Scores sur données d'entraînement\")\n",
    "print_scores(y_tr, y_pred_tr)\n",
    "print(\"*** Scores sur données de test :\")\n",
    "print_scores(y_t, y_pred_t)"
   ]
  },
  {
   "cell_type": "markdown",
   "metadata": {},
   "source": [
    "#### SVM linéaire"
   ]
  },
  {
   "cell_type": "code",
   "execution_count": 28,
   "metadata": {
    "ExecuteTime": {
     "end_time": "2019-09-20T13:53:13.111023Z",
     "start_time": "2019-09-20T13:48:50.301482Z"
    }
   },
   "outputs": [
    {
     "name": "stderr",
     "output_type": "stream",
     "text": [
      "C:\\Users\\regclem\\.conda\\envs\\tagging_env\\lib\\site-packages\\sklearn\\svm\\base.py:929: ConvergenceWarning: Liblinear failed to converge, increase the number of iterations.\n",
      "  \"the number of iterations.\", ConvergenceWarning)\n",
      "C:\\Users\\regclem\\.conda\\envs\\tagging_env\\lib\\site-packages\\sklearn\\svm\\base.py:929: ConvergenceWarning: Liblinear failed to converge, increase the number of iterations.\n",
      "  \"the number of iterations.\", ConvergenceWarning)\n",
      "C:\\Users\\regclem\\.conda\\envs\\tagging_env\\lib\\site-packages\\sklearn\\svm\\base.py:929: ConvergenceWarning: Liblinear failed to converge, increase the number of iterations.\n",
      "  \"the number of iterations.\", ConvergenceWarning)\n",
      "C:\\Users\\regclem\\.conda\\envs\\tagging_env\\lib\\site-packages\\sklearn\\svm\\base.py:929: ConvergenceWarning: Liblinear failed to converge, increase the number of iterations.\n",
      "  \"the number of iterations.\", ConvergenceWarning)\n",
      "C:\\Users\\regclem\\.conda\\envs\\tagging_env\\lib\\site-packages\\sklearn\\svm\\base.py:929: ConvergenceWarning: Liblinear failed to converge, increase the number of iterations.\n",
      "  \"the number of iterations.\", ConvergenceWarning)\n",
      "C:\\Users\\regclem\\.conda\\envs\\tagging_env\\lib\\site-packages\\sklearn\\svm\\base.py:929: ConvergenceWarning: Liblinear failed to converge, increase the number of iterations.\n",
      "  \"the number of iterations.\", ConvergenceWarning)\n",
      "C:\\Users\\regclem\\.conda\\envs\\tagging_env\\lib\\site-packages\\sklearn\\svm\\base.py:929: ConvergenceWarning: Liblinear failed to converge, increase the number of iterations.\n",
      "  \"the number of iterations.\", ConvergenceWarning)\n",
      "C:\\Users\\regclem\\.conda\\envs\\tagging_env\\lib\\site-packages\\sklearn\\svm\\base.py:929: ConvergenceWarning: Liblinear failed to converge, increase the number of iterations.\n",
      "  \"the number of iterations.\", ConvergenceWarning)\n",
      "C:\\Users\\regclem\\.conda\\envs\\tagging_env\\lib\\site-packages\\sklearn\\svm\\base.py:929: ConvergenceWarning: Liblinear failed to converge, increase the number of iterations.\n",
      "  \"the number of iterations.\", ConvergenceWarning)\n",
      "C:\\Users\\regclem\\.conda\\envs\\tagging_env\\lib\\site-packages\\sklearn\\svm\\base.py:929: ConvergenceWarning: Liblinear failed to converge, increase the number of iterations.\n",
      "  \"the number of iterations.\", ConvergenceWarning)\n",
      "C:\\Users\\regclem\\.conda\\envs\\tagging_env\\lib\\site-packages\\sklearn\\svm\\base.py:929: ConvergenceWarning: Liblinear failed to converge, increase the number of iterations.\n",
      "  \"the number of iterations.\", ConvergenceWarning)\n",
      "C:\\Users\\regclem\\.conda\\envs\\tagging_env\\lib\\site-packages\\sklearn\\svm\\base.py:929: ConvergenceWarning: Liblinear failed to converge, increase the number of iterations.\n",
      "  \"the number of iterations.\", ConvergenceWarning)\n"
     ]
    },
    {
     "data": {
      "text/plain": [
       "{'C': 1, 'max_iter': 1000, 'penalty': 'l2'}"
      ]
     },
     "execution_count": 28,
     "metadata": {},
     "output_type": "execute_result"
    }
   ],
   "source": [
    "i = 0\n",
    "f = features[i]\n",
    "base = sk.svm.LinearSVC(dual=False, random_state=SEED)\n",
    "grid = {'C': [0.1, 1, 10],\n",
    "        'penalty': ['l1', 'l2'],\n",
    "        'max_iter': [1000, 2000, 5000]\n",
    "       }\n",
    "model = sk.model_selection.GridSearchCV(base,\n",
    "                                        param_grid=grid,\n",
    "                                        cv=5,\n",
    "                                        n_jobs=1)\n",
    "y_label_tr = y_tr[:, i].toarray().reshape(-1)\n",
    "model.fit(X_tr.toarray(), y_label_tr)    \n",
    "model.best_params_"
   ]
  },
  {
   "cell_type": "code",
   "execution_count": 29,
   "metadata": {
    "ExecuteTime": {
     "end_time": "2019-09-20T13:58:09.755837Z",
     "start_time": "2019-09-20T13:53:13.111023Z"
    }
   },
   "outputs": [
    {
     "name": "stdout",
     "output_type": "stream",
     "text": [
      ".net (19%, 15%) ajax (56%, 45%) algorithm (14%, 6%) amazon (73%, 65%) android (81%, 71%) angular (81%, 78%) ansible (90%, 93%) apache (64%, 49%) api (0%, 0%) arrays (29%, 18%) asp.net (61%, 54%) asynchronous (4%, 0%) authentication (1%, 0%) aws (49%, 43%) azure (79%, 72%) bash (48%, 41%) beautifulsoup (63%, 48%) bootstrap (38%, 26%) c (62%, 49%) c# (69%, 57%) c++ (75%, 61%) class (1%, 0%) css (68%, 52%) csv (44%, 21%) dart (48%, 31%) database (2%, 0%) dataframe (23%, 11%) date (1%, 0%) datetime (22%, 15%) deep-learning (10%, 0%) dictionary (22%, 17%) django (88%, 81%) docker (79%, 71%) dplyr (40%, 33%) ecma (0%, 0%) elasticsearch (80%, 61%) eloquent (36%, 23%) entity-framework (17%, 9%) excel (76%, 68%) express (44%, 29%) facebook (75%, 59%) file (0%, 0%) firebase (73%, 62%) flask (71%, 66%) flutter (88%, 80%) for-loop (3%, 2%) forms (2%, 0%) function (1%, 0%) ggplot2 (83%, 76%) git (77%, 70%) github (39%, 42%) go (57%, 48%) google-app (56%, 40%) google-chrome (43%, 30%) google-cloud (67%, 58%) google-maps (45%, 28%) google-sheets (60%, 48%) gradle (56%, 40%) graphql (72%, 66%) hibernate (67%, 51%) html (48%, 33%) http (15%, 5%) if-statement (2%, 0%) image (2%, 0%) ionic-framework (57%, 51%) ionic4 (49%, 34%) ios (55%, 35%) java (62%, 46%) javascript (61%, 46%) jenkins (83%, 76%) jestjs (80%, 65%) jpa (39%, 28%) jquery (56%, 43%) json (47%, 30%) keras (85%, 75%) kotlin (59%, 50%) kubernetes (78%, 70%) laravel (79%, 72%) linux (23%, 12%) list (11%, 5%) logging (28%, 21%) loops (1%, 0%) machine-learning (15%, 7%) macos (24%, 16%) matplotlib (68%, 56%) maven (68%, 52%) mongo (78%, 68%) multithreading (50%, 35%) mysql (53%, 46%) nginx (83%, 73%) node.js (54%, 42%) npm (36%, 25%) numpy (56%, 44%) object (1%, 0%) opencv (74%, 44%) oracle (61%, 55%) pandas (78%, 62%) pdf (31%, 9%) performance (2%, 0%) php (65%, 55%) postgresql (53%, 50%) powershell (72%, 66%) pyspark (70%, 68%) python (85%, 75%) qt (40%, 31%) r (82%, 67%) react (86%, 81%) redux (64%, 40%) regex (66%, 55%) rest (12%, 6%) ruby (33%, 23%) ruby-on-rails (69%, 58%) rust (75%, 68%) scala (61%, 45%) scikit (53%, 45%) selenium (73%, 71%) shell (23%, 8%) shiny (82%, 68%) sorting (27%, 8%) spring (76%, 72%) sql (47%, 28%) sql-server (57%, 33%) sqlite (58%, 43%) ssl (35%, 40%) string (1%, 0%) svg (74%, 48%) swift (77%, 68%) symfony (43%, 26%) tensorflow (79%, 69%) tkinter (83%, 71%) tsql (0%, 0%) typescript (43%, 31%) ubuntu (21%, 14%) unit-testing (17%, 4%) unity (77%, 77%) vb.net (40%, 24%) vba (83%, 82%) visual-studio (56%, 46%) vue (78%, 66%) web (0%, 0%) web-scraping (32%, 15%) webpack (57%, 57%) windows (7%, 5%) woocommerce (76%, 58%) wordpress (75%, 59%) wpf (77%, 72%) xamarin (42%, 28%) xamarin.forms (41%, 28%) xcode (30%, 21%) xml (43%, 29%) "
     ]
    }
   ],
   "source": [
    "y_pred_t = scipy.sparse.lil_matrix(y_t.shape)\n",
    "y_pred_tr = scipy.sparse.lil_matrix(y_tr.shape)\n",
    "model = sk.svm.LinearSVC(C=1.0, penalty='l1', max_iter=1000, \n",
    "                         multi_class='ovr', dual=False)\n",
    "\n",
    "for i, f in enumerate(features):\n",
    "    y_label_tr = y_tr[:, i].toarray().reshape(-1)\n",
    "    y_label_t = y_t[:, i].toarray().reshape(-1)\n",
    "    model.fit(X_tr.toarray(), y_label_tr)    \n",
    "    y_pred1_tr = model.predict(X_tr)\n",
    "    y_pred1_t = model.predict(X_t)\n",
    "    score_tr = sk.metrics.recall_score(y_label_tr, y_pred1_tr)\n",
    "    score_t = sk.metrics.recall_score(y_label_t, y_pred1_t)\n",
    "    y_pred_t[:, i] = y_pred1_t.reshape(-1, 1)\n",
    "    y_pred_tr[:, i] = y_pred1_tr.reshape(-1, 1)\n",
    "    print(f\"{f} ({score_tr*100:0.0f}%, {score_t*100:0.0f}%)\", end=' ')\n",
    "    data = (y_pred_tr, y_pred_t)\n",
    "    pickle.dump(data, open(filename, 'wb'))"
   ]
  },
  {
   "cell_type": "code",
   "execution_count": 30,
   "metadata": {
    "ExecuteTime": {
     "end_time": "2019-09-20T13:58:10.298447Z",
     "start_time": "2019-09-20T13:58:09.755837Z"
    }
   },
   "outputs": [
    {
     "name": "stdout",
     "output_type": "stream",
     "text": [
      "*** Scores sur données d'entraînement\n",
      "Rappel = 0.62\n",
      "Précision = 0.91\n",
      "F1 = 0.74\n",
      "Justesse = 0.45\n",
      "\n",
      "*** Scores sur données de test :\n",
      "Rappel = 0.51\n",
      "Précision = 0.81\n",
      "F1 = 0.63\n",
      "Justesse = 0.32\n",
      "\n"
     ]
    }
   ],
   "source": [
    "print(\"*** Scores sur données d'entraînement\")\n",
    "print_scores(y_tr, y_pred_tr)\n",
    "print(\"*** Scores sur données de test :\")\n",
    "print_scores(y_t, y_pred_t)"
   ]
  },
  {
   "cell_type": "markdown",
   "metadata": {
    "ExecuteTime": {
     "end_time": "2019-09-13T21:50:28.976764Z",
     "start_time": "2019-09-13T21:50:28.961140Z"
    }
   },
   "source": [
    "### Utilisation de OneVsRestClassifier"
   ]
  },
  {
   "cell_type": "code",
   "execution_count": null,
   "metadata": {
    "ExecuteTime": {
     "start_time": "2019-09-20T10:01:04.896Z"
    }
   },
   "outputs": [],
   "source": [
    "base = sk.linear_model.LogisticRegression(multi_class='multinomial',\n",
    "                                          solver='sag',\n",
    "                                          n_jobs=-1)\n",
    "model = sk.multiclass.OneVsRestClassifier(base)\n",
    "model.fit(X_tr.toarray(), y_tr)"
   ]
  },
  {
   "cell_type": "code",
   "execution_count": null,
   "metadata": {
    "ExecuteTime": {
     "start_time": "2019-09-20T10:01:04.900Z"
    },
    "scrolled": true
   },
   "outputs": [],
   "source": [
    "print(\"*** Scores sur données d'entraînement\")\n",
    "y_pred_tr = model.predict(X_tr)\n",
    "print_scores(y_tr, y_pred_tr)\n",
    "print(\"*** Scores sur données de test :\")\n",
    "y_pred_t = model.predict(X_t)\n",
    "print_scores(y_t, y_pred_t)"
   ]
  },
  {
   "cell_type": "markdown",
   "metadata": {},
   "source": [
    "Mêmes résultats que précédemment."
   ]
  },
  {
   "cell_type": "code",
   "execution_count": null,
   "metadata": {
    "ExecuteTime": {
     "start_time": "2019-09-20T10:01:04.905Z"
    }
   },
   "outputs": [],
   "source": [
    "y_correct = y_t.toarray()\n",
    "for row in range(30):\n",
    "    y_pred_tr_row = y_pred_t[row, :].toarray()[0]\n",
    "    pred = [id_to_tag[i] for i in np.where(y_pred_tr_row == 1)[0] ]\n",
    "    labels = [id_to_tag[i] for i in np.where(y_correct[row, :] == 1)[0] ]\n",
    "    print(row, pred, labels)"
   ]
  },
  {
   "cell_type": "markdown",
   "metadata": {
    "ExecuteTime": {
     "end_time": "2019-09-14T10:34:59.647016Z",
     "start_time": "2019-09-14T10:34:59.631392Z"
    }
   },
   "source": [
    "### Classement en chaîne (ClassifierChain)"
   ]
  },
  {
   "cell_type": "markdown",
   "metadata": {},
   "source": [
    "#### Régression logistique"
   ]
  },
  {
   "cell_type": "code",
   "execution_count": null,
   "metadata": {
    "ExecuteTime": {
     "start_time": "2019-09-20T10:01:04.909Z"
    }
   },
   "outputs": [],
   "source": [
    "filename = \"data/P6-ClassifierChain.sav\"\n",
    "\n",
    "if CALC_SLOW_SECTIONS:\n",
    "    base = sk.linear_model.LogisticRegression(multi_class='multinomial', \n",
    "                                          solver='sag')\n",
    "    model = sklearn.multioutput.ClassifierChain(base)\n",
    "    model.fit(X_tr.toarray(), y_tr)\n",
    "    pickle.dump(model, open(filename, \"wb\"))\n",
    "else:\n",
    "    model = pickle.load(open(filename, \"rb\" ))\n",
    "    \n",
    "model"
   ]
  },
  {
   "cell_type": "code",
   "execution_count": null,
   "metadata": {
    "ExecuteTime": {
     "start_time": "2019-09-20T10:01:04.914Z"
    }
   },
   "outputs": [],
   "source": [
    "print(\"*** Scores sur données d'entraînement\")\n",
    "y_pred = model.predict(X_tr)\n",
    "print_scores(y_tr, y_pred)\n",
    "print(\"*** Scores sur données de test :\")\n",
    "y_pred = model.predict(X_t)\n",
    "print_scores(y_t, y_pred)"
   ]
  },
  {
   "cell_type": "markdown",
   "metadata": {
    "ExecuteTime": {
     "end_time": "2019-09-20T06:02:34.042598Z",
     "start_time": "2019-09-20T06:02:33.757233Z"
    }
   },
   "source": [
    "#### SVM linéaire"
   ]
  },
  {
   "cell_type": "code",
   "execution_count": null,
   "metadata": {
    "ExecuteTime": {
     "start_time": "2019-09-20T10:01:04.920Z"
    }
   },
   "outputs": [],
   "source": [
    "#filename = \"data/P6-MultiLabelSVMOutput.sav\"\n",
    "\n",
    "base = sk.svm.LinearSVC(C=1.0, penalty='l1', max_iter=1000, \n",
    "                         multi_class='ovr', dual=False)\n",
    "model = sklearn.multioutput.ClassifierChain(base)\n",
    "model.fit(X_tr.toarray(), y_tr.toarray())"
   ]
  },
  {
   "cell_type": "code",
   "execution_count": null,
   "metadata": {
    "ExecuteTime": {
     "start_time": "2019-09-20T10:01:04.926Z"
    }
   },
   "outputs": [],
   "source": [
    "print(\"*** Scores sur données d'entraînement\")\n",
    "y_pred = model.predict(X_tr)\n",
    "print_scores(y_tr, y_pred)\n",
    "print(\"*** Scores sur données de test :\")\n",
    "y_pred = model.predict(X_t)\n",
    "print_scores(y_t, y_pred)"
   ]
  },
  {
   "cell_type": "markdown",
   "metadata": {},
   "source": [
    "Performances légèrement supérieures à celles d'une SVM simple."
   ]
  },
  {
   "cell_type": "markdown",
   "metadata": {},
   "source": [
    "## Analyse non supervisée : LDA"
   ]
  },
  {
   "cell_type": "markdown",
   "metadata": {},
   "source": [
    "### Préparation des données"
   ]
  },
  {
   "cell_type": "code",
   "execution_count": 28,
   "metadata": {
    "ExecuteTime": {
     "end_time": "2019-09-20T22:06:49.919595Z",
     "start_time": "2019-09-20T22:06:43.333079Z"
    },
    "scrolled": true
   },
   "outputs": [
    {
     "name": "stdout",
     "output_type": "stream",
     "text": [
      "Taille de la matrice de vocabulaire : (42096, 7035)\n"
     ]
    }
   ],
   "source": [
    "cv = CountVectorizer(min_df=20, max_df=0.3)\n",
    "text_words = cv.fit_transform(df['Text'])\n",
    "print(f\"Taille de la matrice de vocabulaire : {text_words.shape}\")"
   ]
  },
  {
   "cell_type": "code",
   "execution_count": 29,
   "metadata": {
    "ExecuteTime": {
     "end_time": "2019-09-20T22:06:50.305022Z",
     "start_time": "2019-09-20T22:06:50.251638Z"
    }
   },
   "outputs": [
    {
     "data": {
      "text/plain": [
       "((29467, 7035), (12629, 7035))"
      ]
     },
     "execution_count": 29,
     "metadata": {},
     "output_type": "execute_result"
    }
   ],
   "source": [
    "words_tr, words_t = sk.model_selection.train_test_split(text_words, \n",
    "                                                        test_size=0.3, \n",
    "                                                        random_state=SEED)\n",
    "words_tr.shape, words_t.shape"
   ]
  },
  {
   "cell_type": "markdown",
   "metadata": {},
   "source": [
    "### Optimisation des hyperparamètres"
   ]
  },
  {
   "cell_type": "markdown",
   "metadata": {
    "ExecuteTime": {
     "start_time": "2019-09-16T13:22:43.775Z"
    }
   },
   "source": [
    "#### Recherche sur grille avec le score par défaut"
   ]
  },
  {
   "cell_type": "code",
   "execution_count": null,
   "metadata": {
    "ExecuteTime": {
     "start_time": "2019-09-20T10:01:04.946Z"
    }
   },
   "outputs": [],
   "source": [
    "grid = {'n_components': [10, 20, 25, 30, 40, 50], \n",
    "        'learning_decay': [.5, .7, .9]\n",
    "       }\n",
    "base = sk.decomposition.LatentDirichletAllocation(random_state=SEED)\n",
    "model = sk.model_selection.GridSearchCV(base, param_grid=grid, cv=5, n_jobs=6)\n",
    "if CALC_SLOW_SECTIONS:\n",
    "    model.fit(text_words)\n",
    "    model.best_params_"
   ]
  },
  {
   "cell_type": "markdown",
   "metadata": {
    "ExecuteTime": {
     "end_time": "2019-09-16T13:31:16.735817Z",
     "start_time": "2019-09-16T13:31:16.730821Z"
    }
   },
   "source": [
    "#### Recherche sur grille avec score de perplexité"
   ]
  },
  {
   "cell_type": "code",
   "execution_count": null,
   "metadata": {
    "ExecuteTime": {
     "start_time": "2019-09-20T10:01:04.950Z"
    }
   },
   "outputs": [],
   "source": [
    "# LDA retournant score = -perplexité\n",
    "class LDAWithPerplexityScorer(sk.decomposition.LatentDirichletAllocation):\n",
    "    def score(self, X, y=None):\n",
    "        score = super(LDAWithPerplexityScorer, self).perplexity(X)\n",
    "        return -1 * score"
   ]
  },
  {
   "cell_type": "code",
   "execution_count": null,
   "metadata": {
    "ExecuteTime": {
     "start_time": "2019-09-20T10:01:04.956Z"
    }
   },
   "outputs": [],
   "source": [
    "grid = {'n_components': [10, 20, 25, 30, 40, 50], \n",
    "        'learning_decay': [.5, .7, .9]\n",
    "       }\n",
    "base = LDAWithPerplexityScorer(random_state=SEED)\n",
    "model = sk.model_selection.GridSearchCV(base, param_grid=grid, cv=5, n_jobs=-1)\n",
    "if CALC_SLOW_SECTIONS:\n",
    "    model.fit(text_words)\n",
    "    model.best_params_"
   ]
  },
  {
   "cell_type": "markdown",
   "metadata": {},
   "source": [
    "Résultats sauvegardés (identiques avec les 2 méthodes d'évaluation) : \n",
    "\n",
    "{'learning_decay': 0.5, 'n_components': 10}"
   ]
  },
  {
   "cell_type": "markdown",
   "metadata": {},
   "source": [
    "#### Recherche manuelle"
   ]
  },
  {
   "cell_type": "code",
   "execution_count": null,
   "metadata": {
    "ExecuteTime": {
     "start_time": "2019-09-20T10:01:04.969Z"
    },
    "scrolled": true
   },
   "outputs": [],
   "source": [
    "n_components = [10, 25, 50, 75, 100, 125, 150]\n",
    "scores = []\n",
    "if CALC_SLOW_SECTIONS:\n",
    "    for n in n_components:\n",
    "        lda = sk.decomposition.LatentDirichletAllocation(n_components=n,\n",
    "                                                         learning_decay=0.5,\n",
    "                                                         random_state=SEED,\n",
    "                                                         n_jobs=2)\n",
    "        lda.fit(words_tr)\n",
    "        score = lda.perplexity(words_t)\n",
    "        #print(n, score)\n",
    "        scores.append(score)\n",
    "else:\n",
    "    scores = [1062.17, 943.89, 888.53, 878.74, 884.63, 889.28, 905.38]\n",
    "axes = sns.lineplot(n_components, scores);\n",
    "axes.set_title(\"Score de perplexité en fonction du nombre de sujets\");"
   ]
  },
  {
   "cell_type": "markdown",
   "metadata": {},
   "source": [
    "Nous retenons 75 comme valeur optimale de `n_components`."
   ]
  },
  {
   "cell_type": "markdown",
   "metadata": {
    "ExecuteTime": {
     "end_time": "2019-09-16T13:31:17.330261Z",
     "start_time": "2019-09-16T13:31:17.326264Z"
    }
   },
   "source": [
    "### Entraînement du modèle"
   ]
  },
  {
   "cell_type": "code",
   "execution_count": 30,
   "metadata": {
    "ExecuteTime": {
     "end_time": "2019-09-20T22:13:52.101620Z",
     "start_time": "2019-09-20T22:07:40.094574Z"
    }
   },
   "outputs": [
    {
     "data": {
      "text/plain": [
       "LatentDirichletAllocation(batch_size=128, doc_topic_prior=None,\n",
       "                          evaluate_every=-1, learning_decay=0.5,\n",
       "                          learning_method='online', learning_offset=10.0,\n",
       "                          max_doc_update_iter=100, max_iter=10,\n",
       "                          mean_change_tol=0.001, n_components=75, n_jobs=1,\n",
       "                          perp_tol=0.1, random_state=1911,\n",
       "                          topic_word_prior=None, total_samples=1000000.0,\n",
       "                          verbose=0)"
      ]
     },
     "execution_count": 30,
     "metadata": {},
     "output_type": "execute_result"
    }
   ],
   "source": [
    "lda = sk.decomposition.LatentDirichletAllocation(n_components=75,\n",
    "                                                 learning_decay=0.5,\n",
    "                                                 learning_method='online',\n",
    "                                                 random_state=SEED,\n",
    "                                                 n_jobs=1)\n",
    "output = lda.fit_transform(text_words)\n",
    "lda"
   ]
  },
  {
   "cell_type": "code",
   "execution_count": 34,
   "metadata": {
    "ExecuteTime": {
     "end_time": "2019-09-20T22:47:50.456972Z",
     "start_time": "2019-09-20T22:47:50.134564Z"
    }
   },
   "outputs": [
    {
     "name": "stdout",
     "output_type": "stream",
     "text": [
      "0 user(22123.6) password(5016.0) login(3995.5) auth(2518.9) job(2494.3)\n",
      "1 page(7760.0) element(5449.1) elements(2465.3) apply(2168.6) part(1656.1)\n",
      "2 delete(4542.8) tag(4281.5) home(2500.6) route(2335.3) env(1979.1)\n",
      "3 message(9971.5) service(7550.0) microsoft(2080.0) azure(1841.7) warn(1635.5)\n",
      "4 php(7969.3) search(4861.9) category(3370.9) result(3310.9) echo(2851.5)\n",
      "5 feature(2201.7) arr(1616.6) age(1461.8) learn(1424.2) basic(1338.7)\n",
      "6 event(6713.7) angular(3757.0) template(3589.2) root(2500.7) constructor(1503.5)\n",
      "7 instance(3520.4) address(3479.8) cache(3121.5) book(2358.9) builder(2162.6)\n",
      "8 point(4417.4) obj(2188.3) stack(1879.3) limit(1671.6) memory(1465.5)\n",
      "9 total(2725.2) account(2297.8) share(2203.4) comment(2153.0) employee(1551.5)\n",
      "10 self(17936.8) def(3934.7) let(3215.6) return(2717.9) func(2596.4)\n",
      "11 cluster(1472.5) ignore(899.7) star(830.7) demo(728.1) slide(722.1)\n",
      "12 access(5747.9) application(5647.5) config(3865.6) open(3423.9) issue(1970.7)\n",
      "13 table(15204.7) create(4679.9) program(4524.1) insert(3687.0) database(3025.5)\n",
      "14 print(9890.7) line(8149.6) import(6175.0) output(5839.6) str(3554.5)\n",
      "15 property(4135.2) bind(3257.6) entity(2007.4) properties(1829.4) control(1729.7)\n",
      "16 request(9406.3) url(8579.0) post(7528.5) web(4835.5) session(3703.3)\n",
      "17 would(8621.1) find(8566.5) need(6795.9) way(6786.7) add(5573.4)\n",
      "18 color(9432.4) width(9397.4) style(7628.7) height(7374.6) position(4957.1)\n",
      "19 string(20155.2) array(13193.3) val(4372.3) filename(1938.9) empty(1809.5)\n",
      "20 key(12122.7) second(5144.2) block(2981.1) first(2958.3) grid(2706.3)\n",
      "21 list(18725.5) number(11012.9) sort(2677.8) double(2317.0) dart(2119.8)\n",
      "22 player(1583.3) queue(1400.1) lorem(1182.8) ipsum(1044.5) cost(764.9)\n",
      "23 window(4202.7) extract(1668.3) quot(1581.1) lambda(1548.1) back(1538.9)\n",
      "24 size(6304.6) background(4418.2) font(3816.4) none(3340.9) box(3080.1)\n",
      "25 users(9065.3) base(2448.9) profile(2078.5) detail(1995.2) active(1619.2)\n",
      "26 jar(6062.3) release(3254.3) support(3132.9) netty(1400.9) room(937.8)\n",
      "27 node(8044.7) err(4186.1) require(4041.0) res(4014.0) modules(3878.2)\n",
      "28 java(25521.8) org(15351.2) apache(5236.3) spring(3961.8) springframework(3416.9)\n",
      "29 text(15601.5) button(14265.7) click(8015.0) title(7915.2) content(6654.3)\n",
      "30 select(10175.4) query(7582.5) rsoftware(7167.5) thread(3524.9) join(3129.6)\n",
      "31 google(5923.4) copy(2683.8) stream(2683.4) collection(1758.6) place(1674.4)\n",
      "32 index(8708.6) one(6907.3) change(5957.9) check(4974.5) two(4069.4)\n",
      "33 image(16031.2) img(4329.3) flutter(3090.8) vue(2833.7) png(2459.7)\n",
      "34 var(17763.3) test(17333.7) duplicate(1106.2) locations(546.6) determine(519.0)\n",
      "35 form(13450.2) input(12880.9) email(6409.2) type(4563.2) username(3155.1)\n",
      "36 class(26577.3) div(26399.9) label(7659.7) col(5445.1) card(3129.5)\n",
      "37 pdf(1850.6) fill(1828.1) draw(1683.1) convert(1541.8) modify(1240.5)\n",
      "38 row(13520.6) column(8988.0) count(5189.3) frame(4774.6) columns(4287.9)\n",
      "39 model(13646.9) train(3384.6) django(3014.3) shape(2365.2) layer(2212.9)\n",
      "40 api(11018.9) json(9897.4) response(8671.4) http(7832.0) request(4419.5)\n",
      "41 import(13972.3) component(6381.1) react(6020.3) const(4259.2) export(4230.8)\n",
      "42 date(12418.2) group(6720.7) product(4289.3) order(3989.8) max(3725.7)\n",
      "43 client(7483.2) location(4379.4) format(3234.2) csv(3082.4) aws(2198.6)\n",
      "44 app(19733.7) float(1955.9) zip(1211.8) flask(1122.6) impl(853.2)\n",
      "45 server(10224.9) connect(5329.3) connection(3959.1) host(3706.7) port(3311.0)\n",
      "46 bar(2695.5) plot(2245.7) merge(1236.1) difference(1022.9) catalina(812.1)\n",
      "47 new(15845.2) null(10099.6) system(7563.2) string(5087.9) static(4850.7)\n",
      "48 load(7298.8) task(5811.7) execute(4959.5) module(3452.0) internal(2669.2)\n",
      "49 variable(4383.9) default(3214.7) play(1728.8) paste(1133.1) audio(978.0)\n",
      "50 true(17766.9) false(12079.8) boolean(1813.2) null(1311.8) repo(704.6)\n",
      "51 update(8754.6) next(3520.1) net(3219.0) chart(1553.1) canvas(1296.7)\n",
      "52 file(34541.2) path(8680.4) folder(3065.2) directory(2801.9) txt(2712.8)\n",
      "53 scala(2513.5) aug(1290.5) win(1217.7) plt(1204.9) certificate(1085.5)\n",
      "54 public(20649.9) class(11104.3) view(10963.2) private(7861.6) void(7810.2)\n",
      "55 data(36278.5) value(31932.9) state(7821.8) option(7257.2) store(3964.7)\n",
      "56 log(7092.6) info(5661.4) core(4372.6) debug(3904.1) gradle(2686.5)\n",
      "57 com(15501.1) https(11323.5) link(5669.6) future(1201.4) term(989.2)\n",
      "58 build(10517.4) command(5530.0) source(2980.2) process(2881.9) windows(2825.2)\n",
      "59 role(1591.0) unit(1351.5) three(1323.3) variant(541.1) enum(463.6)\n",
      "60 description(3493.7) long(2654.9) permission(1488.5) domain(1218.8) userid(1166.3)\n",
      "61 uri(1661.0) customer(1543.9) phone(1531.6) contact(1472.0) provider(1311.1)\n",
      "62 python(8880.2) package(7408.8) lib(7335.8) site(4903.1) line(4548.9)\n",
      "63 time(10143.8) end(8241.2) start(6169.9) range(3665.8) sub(2874.5)\n",
      "64 item(11183.0) filter(5005.8) items(3672.9) hash(1428.5) variables(1371.8)\n",
      "65 action(4011.0) req(2958.7) firebase(2780.3) send(2467.5) trigger(1942.1)\n",
      "66 options(4561.8) mode(2364.9) chrome(1672.1) non(1649.7) proxy(1619.5)\n",
      "67 script(10286.9) html(7460.5) src(6399.9) css(4344.7) upload(3244.3)\n",
      "68 function(22520.3) return(11580.0) console(9510.1) log(8056.5) const(6809.1)\n",
      "69 android(21204.1) layout(8422.2) parent(4334.4) com(2660.8) app(2631.9)\n",
      "70 target(3038.7) sample(2820.9) sum(1911.2) dataset(1800.3) result(1606.7)\n",
      "71 type(16204.6) object(11786.6) set(7938.4) field(5835.8) reference(3529.7)\n",
      "72 project(8663.5) version(6370.1) dataframe(2996.0) plugin(2546.9) github(2480.1)\n",
      "73 document(7640.0) length(5474.1) num(2291.8) rest(1883.9) getelementbyid(1805.0)\n",
      "74 int(8350.4) map(6159.6) include(3541.7) main(3379.2) std(3133.7)\n"
     ]
    }
   ],
   "source": [
    "n_keywords = 5\n",
    "words = cv.get_feature_names()\n",
    "for i, topic in enumerate(lda.components_):\n",
    "    keywords = [words[i] + f\"({topic[i]:.1f})\" for i in topic.argsort()[:-n_keywords-1:-1]]\n",
    "    print(i, \" \".join(keywords))\n",
    "# afficher des examples"
   ]
  },
  {
   "cell_type": "code",
   "execution_count": 7,
   "metadata": {
    "ExecuteTime": {
     "end_time": "2019-09-20T16:18:16.300001Z",
     "start_time": "2019-09-20T16:18:16.053721Z"
    },
    "scrolled": false
   },
   "outputs": [
    {
     "name": "stdout",
     "output_type": "stream",
     "text": [
      "0 user password login auth job controller admin redirect timestamp laravel\n",
      "1 page element elements apply part mobile find amp fix embed\n",
      "2 delete tag home route env git master params old rout\n",
      "3 message service microsoft azure warn send configure configuration pipeline publish\n",
      "4 php search category result echo entry post param products function\n",
      "5 feature arr age learn basic area turn course keyword reduce\n",
      "6 event angular template root constructor events doc disable subscribe common\n",
      "7 instance address cache book builder final rule listener webview management\n",
      "8 point obj stack limit memory dict dictionary bite printf trace\n",
      "9 total account share comment employee unique apps round summary permissions\n",
      "10 self def let return func init class nil struct counter\n",
      "11 cluster ignore star demo slide pygame rail ruby slider rat\n",
      "12 access application config open issue register network allow set fine\n",
      "13 table create program insert database answer question year company many\n",
      "14 print line import output str word append python def write\n",
      "15 property bind entity properties control set schema sender orm xmlns\n",
      "16 request url post web session www download page website asp\n",
      "17 would find need way add example create make help could\n",
      "18 color width style height position leave child top right icon\n",
      "19 string array val filename empty parse foreach convert return result\n",
      "20 key second block first grid section auto space automatically nest\n",
      "21 list number sort double dart integer name add len arraylist\n",
      "22 player queue lorem ipsum cost babel tbl gradient light multiprocessing\n",
      "23 window extract quot lambda back callback close per handler kafka\n",
      "24 size background font none box transform border bottom pad align\n",
      "25 users base profile detail active desktop retrieve anaconda syntax shell\n",
      "26 jar release support netty room statement remain jdbc sizeof nio\n",
      "27 node err require res modules native npm express react commit\n",
      "28 java org apache spring springframework lang com artifactid groupid util\n",
      "29 text button click title content span display hide show function\n",
      "30 select query rsoftware thread join case sql break face inner\n",
      "31 google copy stream collection place ios cloud buffer language developer\n",
      "32 index one change check two match different another status make\n",
      "33 image img flutter vue png jpg channel media svg picture\n",
      "34 var test duplicate locations determine unfortunately mongo fail case find\n",
      "35 form input email type username submit field enter require placeholder\n",
      "36 class div label col card btn href tab student header\n",
      "37 pdf fill draw convert modify detect circle rect tmp binary\n",
      "38 row column count frame columns data ion city result postgres\n",
      "39 model train django shape layer graph input tensorflow batch keras\n",
      "40 api json response http request token data attribute status header\n",
      "41 import component react const export prop render return classname default\n",
      "42 date group product order max price day min tree branch\n",
      "43 client location format csv aws datetime bytes sthree region bucket\n",
      "44 app float zip flask impl speed latitude esm longitude software\n",
      "45 server connect connection host port mysql database socket sql ssl\n",
      "46 bar plot merge difference catalina cancel department show loc aes\n",
      "47 new null system string static add exception public void int\n",
      "48 load task execute module internal invoke step loader reflect exec\n",
      "49 variable default play paste audio fee conv examples apple distance\n",
      "50 true false boolean null repo news today nullable hint itemview\n",
      "51 update next net chart canvas offset axis series line scale\n",
      "52 file path folder directory txt read temp dir save create\n",
      "53 scala aug win plt certificate sha effect agent matplotlib figure\n",
      "54 public class view private void return context string new override\n",
      "55 data value state option store record select parameter parameters multiple\n",
      "56 log info core debug gradle level msg logger execution lock\n",
      "57 com https link future term track sit exactly wonder tutorial\n",
      "58 build command source process windows install fail device dev bin\n",
      "59 role unit three variant enum serialize roles derive serializer soap\n",
      "60 description long permission domain userid scope stock optional ctx grant\n",
      "61 uri customer phone contact provider transaction operation nginx runner ionic\n",
      "62 python package lib site line file local usr library module\n",
      "63 time end start range sub cell stop excel dim set\n",
      "64 item filter items hash variables regex drop reset previous last\n",
      "65 action req firebase send trigger game condition storage wait person\n",
      "66 options mode chrome non proxy browser driver animation ref resources\n",
      "67 script html src css upload body head javascript jquery index\n",
      "68 function return console log const call result let async await\n",
      "69 android layout parent com app intent activity rsoftware wrap view\n",
      "70 target sample sum dataset result weight score nan matrix mean\n",
      "71 type object set field reference custom pass define create argument\n",
      "72 project version dataframe plugin github compile pandas runtime tool report\n",
      "73 document length num rest getelementbyid red blue green nod original\n",
      "74 int map include main std video char foo cpp vector\n"
     ]
    }
   ],
   "source": [
    "n_keywords = 10\n",
    "words = cv.get_feature_names()\n",
    "for i, topic in enumerate(lda.components_):\n",
    "    keywords = [words[i] for i in topic.argsort()[:-n_keywords-1:-1]]\n",
    "    print(i, \" \".join(keywords))\n",
    "# afficher des examples"
   ]
  },
  {
   "cell_type": "markdown",
   "metadata": {
    "ExecuteTime": {
     "end_time": "2019-09-18T20:40:54.412257Z",
     "start_time": "2019-09-18T20:36:28.786Z"
    }
   },
   "source": [
    "### Visualisation"
   ]
  },
  {
   "cell_type": "code",
   "execution_count": 11,
   "metadata": {
    "ExecuteTime": {
     "end_time": "2019-09-20T16:28:23.469728Z",
     "start_time": "2019-09-20T16:28:23.464731Z"
    }
   },
   "outputs": [],
   "source": [
    "def clean_tags(s):\n",
    "    l = re.findall(r'\\<(.*?)\\>', s)\n",
    "    return \" \".join(l)"
   ]
  },
  {
   "cell_type": "code",
   "execution_count": 48,
   "metadata": {
    "ExecuteTime": {
     "end_time": "2019-09-20T23:07:22.984429Z",
     "start_time": "2019-09-20T23:07:10.652441Z"
    },
    "scrolled": true
   },
   "outputs": [
    {
     "name": "stdout",
     "output_type": "stream",
     "text": [
      "Extrait de la matrice documents-sujets :\n"
     ]
    },
    {
     "ename": "KeyError",
     "evalue": "\"['Test'] not in index\"",
     "output_type": "error",
     "traceback": [
      "\u001b[1;31m---------------------------------------------------------------------------\u001b[0m",
      "\u001b[1;31mKeyError\u001b[0m                                  Traceback (most recent call last)",
      "\u001b[1;32m<ipython-input-48-15c84ce7809a>\u001b[0m in \u001b[0;36m<module>\u001b[1;34m\u001b[0m\n\u001b[0;32m     28\u001b[0m \u001b[0mprint\u001b[0m\u001b[1;33m(\u001b[0m\u001b[1;34m\"Extrait de la matrice documents-sujets :\"\u001b[0m\u001b[1;33m)\u001b[0m\u001b[1;33m\u001b[0m\u001b[1;33m\u001b[0m\u001b[0m\n\u001b[0;32m     29\u001b[0m \u001b[1;31m#df_topics.head(20).style.applymap(color_green).applymap(make_bold)\u001b[0m\u001b[1;33m\u001b[0m\u001b[1;33m\u001b[0m\u001b[1;33m\u001b[0m\u001b[0m\n\u001b[1;32m---> 30\u001b[1;33m \u001b[0mdf_topics\u001b[0m\u001b[1;33m[\u001b[0m\u001b[1;33m[\u001b[0m\u001b[1;34m'First_topic'\u001b[0m\u001b[1;33m,\u001b[0m \u001b[1;34m'Test'\u001b[0m\u001b[1;33m,\u001b[0m \u001b[1;34m'Second_topic'\u001b[0m\u001b[1;33m,\u001b[0m \u001b[1;34m'Third_topic'\u001b[0m\u001b[1;33m,\u001b[0m \u001b[1;34m'Tags'\u001b[0m\u001b[1;33m]\u001b[0m\u001b[1;33m]\u001b[0m\u001b[1;33m.\u001b[0m\u001b[0mhead\u001b[0m\u001b[1;33m(\u001b[0m\u001b[1;36m20\u001b[0m\u001b[1;33m)\u001b[0m\u001b[1;33m\u001b[0m\u001b[1;33m\u001b[0m\u001b[0m\n\u001b[0m",
      "\u001b[1;32m~\\.conda\\envs\\tagging_env\\lib\\site-packages\\pandas\\core\\frame.py\u001b[0m in \u001b[0;36m__getitem__\u001b[1;34m(self, key)\u001b[0m\n\u001b[0;32m   2984\u001b[0m             \u001b[1;32mif\u001b[0m \u001b[0mis_iterator\u001b[0m\u001b[1;33m(\u001b[0m\u001b[0mkey\u001b[0m\u001b[1;33m)\u001b[0m\u001b[1;33m:\u001b[0m\u001b[1;33m\u001b[0m\u001b[1;33m\u001b[0m\u001b[0m\n\u001b[0;32m   2985\u001b[0m                 \u001b[0mkey\u001b[0m \u001b[1;33m=\u001b[0m \u001b[0mlist\u001b[0m\u001b[1;33m(\u001b[0m\u001b[0mkey\u001b[0m\u001b[1;33m)\u001b[0m\u001b[1;33m\u001b[0m\u001b[1;33m\u001b[0m\u001b[0m\n\u001b[1;32m-> 2986\u001b[1;33m             \u001b[0mindexer\u001b[0m \u001b[1;33m=\u001b[0m \u001b[0mself\u001b[0m\u001b[1;33m.\u001b[0m\u001b[0mloc\u001b[0m\u001b[1;33m.\u001b[0m\u001b[0m_convert_to_indexer\u001b[0m\u001b[1;33m(\u001b[0m\u001b[0mkey\u001b[0m\u001b[1;33m,\u001b[0m \u001b[0maxis\u001b[0m\u001b[1;33m=\u001b[0m\u001b[1;36m1\u001b[0m\u001b[1;33m,\u001b[0m \u001b[0mraise_missing\u001b[0m\u001b[1;33m=\u001b[0m\u001b[1;32mTrue\u001b[0m\u001b[1;33m)\u001b[0m\u001b[1;33m\u001b[0m\u001b[1;33m\u001b[0m\u001b[0m\n\u001b[0m\u001b[0;32m   2987\u001b[0m \u001b[1;33m\u001b[0m\u001b[0m\n\u001b[0;32m   2988\u001b[0m         \u001b[1;31m# take() does not accept boolean indexers\u001b[0m\u001b[1;33m\u001b[0m\u001b[1;33m\u001b[0m\u001b[1;33m\u001b[0m\u001b[0m\n",
      "\u001b[1;32m~\\.conda\\envs\\tagging_env\\lib\\site-packages\\pandas\\core\\indexing.py\u001b[0m in \u001b[0;36m_convert_to_indexer\u001b[1;34m(self, obj, axis, is_setter, raise_missing)\u001b[0m\n\u001b[0;32m   1283\u001b[0m                 \u001b[1;31m# When setting, missing keys are not allowed, even with .loc:\u001b[0m\u001b[1;33m\u001b[0m\u001b[1;33m\u001b[0m\u001b[1;33m\u001b[0m\u001b[0m\n\u001b[0;32m   1284\u001b[0m                 \u001b[0mkwargs\u001b[0m \u001b[1;33m=\u001b[0m \u001b[1;33m{\u001b[0m\u001b[1;34m\"raise_missing\"\u001b[0m\u001b[1;33m:\u001b[0m \u001b[1;32mTrue\u001b[0m \u001b[1;32mif\u001b[0m \u001b[0mis_setter\u001b[0m \u001b[1;32melse\u001b[0m \u001b[0mraise_missing\u001b[0m\u001b[1;33m}\u001b[0m\u001b[1;33m\u001b[0m\u001b[1;33m\u001b[0m\u001b[0m\n\u001b[1;32m-> 1285\u001b[1;33m                 \u001b[1;32mreturn\u001b[0m \u001b[0mself\u001b[0m\u001b[1;33m.\u001b[0m\u001b[0m_get_listlike_indexer\u001b[0m\u001b[1;33m(\u001b[0m\u001b[0mobj\u001b[0m\u001b[1;33m,\u001b[0m \u001b[0maxis\u001b[0m\u001b[1;33m,\u001b[0m \u001b[1;33m**\u001b[0m\u001b[0mkwargs\u001b[0m\u001b[1;33m)\u001b[0m\u001b[1;33m[\u001b[0m\u001b[1;36m1\u001b[0m\u001b[1;33m]\u001b[0m\u001b[1;33m\u001b[0m\u001b[1;33m\u001b[0m\u001b[0m\n\u001b[0m\u001b[0;32m   1286\u001b[0m         \u001b[1;32melse\u001b[0m\u001b[1;33m:\u001b[0m\u001b[1;33m\u001b[0m\u001b[1;33m\u001b[0m\u001b[0m\n\u001b[0;32m   1287\u001b[0m             \u001b[1;32mtry\u001b[0m\u001b[1;33m:\u001b[0m\u001b[1;33m\u001b[0m\u001b[1;33m\u001b[0m\u001b[0m\n",
      "\u001b[1;32m~\\.conda\\envs\\tagging_env\\lib\\site-packages\\pandas\\core\\indexing.py\u001b[0m in \u001b[0;36m_get_listlike_indexer\u001b[1;34m(self, key, axis, raise_missing)\u001b[0m\n\u001b[0;32m   1090\u001b[0m \u001b[1;33m\u001b[0m\u001b[0m\n\u001b[0;32m   1091\u001b[0m         self._validate_read_indexer(\n\u001b[1;32m-> 1092\u001b[1;33m             \u001b[0mkeyarr\u001b[0m\u001b[1;33m,\u001b[0m \u001b[0mindexer\u001b[0m\u001b[1;33m,\u001b[0m \u001b[0mo\u001b[0m\u001b[1;33m.\u001b[0m\u001b[0m_get_axis_number\u001b[0m\u001b[1;33m(\u001b[0m\u001b[0maxis\u001b[0m\u001b[1;33m)\u001b[0m\u001b[1;33m,\u001b[0m \u001b[0mraise_missing\u001b[0m\u001b[1;33m=\u001b[0m\u001b[0mraise_missing\u001b[0m\u001b[1;33m\u001b[0m\u001b[1;33m\u001b[0m\u001b[0m\n\u001b[0m\u001b[0;32m   1093\u001b[0m         )\n\u001b[0;32m   1094\u001b[0m         \u001b[1;32mreturn\u001b[0m \u001b[0mkeyarr\u001b[0m\u001b[1;33m,\u001b[0m \u001b[0mindexer\u001b[0m\u001b[1;33m\u001b[0m\u001b[1;33m\u001b[0m\u001b[0m\n",
      "\u001b[1;32m~\\.conda\\envs\\tagging_env\\lib\\site-packages\\pandas\\core\\indexing.py\u001b[0m in \u001b[0;36m_validate_read_indexer\u001b[1;34m(self, key, indexer, axis, raise_missing)\u001b[0m\n\u001b[0;32m   1183\u001b[0m             \u001b[1;32mif\u001b[0m \u001b[1;32mnot\u001b[0m \u001b[1;33m(\u001b[0m\u001b[0mself\u001b[0m\u001b[1;33m.\u001b[0m\u001b[0mname\u001b[0m \u001b[1;33m==\u001b[0m \u001b[1;34m\"loc\"\u001b[0m \u001b[1;32mand\u001b[0m \u001b[1;32mnot\u001b[0m \u001b[0mraise_missing\u001b[0m\u001b[1;33m)\u001b[0m\u001b[1;33m:\u001b[0m\u001b[1;33m\u001b[0m\u001b[1;33m\u001b[0m\u001b[0m\n\u001b[0;32m   1184\u001b[0m                 \u001b[0mnot_found\u001b[0m \u001b[1;33m=\u001b[0m \u001b[0mlist\u001b[0m\u001b[1;33m(\u001b[0m\u001b[0mset\u001b[0m\u001b[1;33m(\u001b[0m\u001b[0mkey\u001b[0m\u001b[1;33m)\u001b[0m \u001b[1;33m-\u001b[0m \u001b[0mset\u001b[0m\u001b[1;33m(\u001b[0m\u001b[0max\u001b[0m\u001b[1;33m)\u001b[0m\u001b[1;33m)\u001b[0m\u001b[1;33m\u001b[0m\u001b[1;33m\u001b[0m\u001b[0m\n\u001b[1;32m-> 1185\u001b[1;33m                 \u001b[1;32mraise\u001b[0m \u001b[0mKeyError\u001b[0m\u001b[1;33m(\u001b[0m\u001b[1;34m\"{} not in index\"\u001b[0m\u001b[1;33m.\u001b[0m\u001b[0mformat\u001b[0m\u001b[1;33m(\u001b[0m\u001b[0mnot_found\u001b[0m\u001b[1;33m)\u001b[0m\u001b[1;33m)\u001b[0m\u001b[1;33m\u001b[0m\u001b[1;33m\u001b[0m\u001b[0m\n\u001b[0m\u001b[0;32m   1186\u001b[0m \u001b[1;33m\u001b[0m\u001b[0m\n\u001b[0;32m   1187\u001b[0m             \u001b[1;31m# we skip the warning on Categorical/Interval\u001b[0m\u001b[1;33m\u001b[0m\u001b[1;33m\u001b[0m\u001b[1;33m\u001b[0m\u001b[0m\n",
      "\u001b[1;31mKeyError\u001b[0m: \"['Test'] not in index\""
     ]
    }
   ],
   "source": [
    "output = lda.transform(text_words) # Matrice documents-sujets\n",
    "topic_names = [\"S\" + str(i) for i in range(lda.n_components)]\n",
    "doc_names = [\"D\" + str(i) for i in range(len(df))]\n",
    "df_topics = pd.DataFrame(np.round(output, 2), \n",
    "                         columns=topic_names, \n",
    "                         index=doc_names)\n",
    "dominant_topic = np.argmax(df_topics.values, axis=1)\n",
    "sorted_output = np.argsort(-output, axis=1)\n",
    "df_topics['First_topic'] = sorted_output[:, 0]\n",
    "df_topics['Second_topic'] = sorted_output[:, 1]\n",
    "df_topics['Third_topic'] = sorted_output[:, 2]\n",
    "df_topics['Tags'] = df['Tags'].apply(clean_tags).values\n",
    "\n",
    "print(\"Extrait de la matrice documents-sujets :\")\n",
    "df_topics[['First_topic', 'Second_topic', 'Third_topic', 'Tags']].head(20)"
   ]
  },
  {
   "cell_type": "code",
   "execution_count": 27,
   "metadata": {
    "ExecuteTime": {
     "end_time": "2019-09-20T21:42:00.287631Z",
     "start_time": "2019-09-20T21:41:59.670358Z"
    },
    "scrolled": false
   },
   "outputs": [
    {
     "data": {
      "text/html": [
       "<div>\n",
       "<style scoped>\n",
       "    .dataframe tbody tr th:only-of-type {\n",
       "        vertical-align: middle;\n",
       "    }\n",
       "\n",
       "    .dataframe tbody tr th {\n",
       "        vertical-align: top;\n",
       "    }\n",
       "\n",
       "    .dataframe thead th {\n",
       "        text-align: right;\n",
       "    }\n",
       "</style>\n",
       "<table border=\"1\" class=\"dataframe\">\n",
       "  <thead>\n",
       "    <tr style=\"text-align: right;\">\n",
       "      <th></th>\n",
       "      <th>Terme 1</th>\n",
       "      <th>Terme 2</th>\n",
       "      <th>Terme 3</th>\n",
       "      <th>Terme 4</th>\n",
       "      <th>Terme 5</th>\n",
       "      <th>Terme 6</th>\n",
       "      <th>Terme 7</th>\n",
       "      <th>Terme 8</th>\n",
       "      <th>Terme 9</th>\n",
       "      <th>Terme 10</th>\n",
       "    </tr>\n",
       "  </thead>\n",
       "  <tbody>\n",
       "    <tr>\n",
       "      <td>Sujet 1</td>\n",
       "      <td>product</td>\n",
       "      <td>price</td>\n",
       "      <td>products</td>\n",
       "      <td>bar</td>\n",
       "      <td>foo</td>\n",
       "      <td>stock</td>\n",
       "      <td>typename</td>\n",
       "      <td>quantity</td>\n",
       "      <td>carousel</td>\n",
       "      <td>encrypt</td>\n",
       "    </tr>\n",
       "    <tr>\n",
       "      <td>Sujet 2</td>\n",
       "      <td>login</td>\n",
       "      <td>redirect</td>\n",
       "      <td>auth</td>\n",
       "      <td>password</td>\n",
       "      <td>user</td>\n",
       "      <td>session</td>\n",
       "      <td>cookie</td>\n",
       "      <td>oauth</td>\n",
       "      <td>authorization</td>\n",
       "      <td>flask</td>\n",
       "    </tr>\n",
       "    <tr>\n",
       "      <td>Sujet 3</td>\n",
       "      <td>train</td>\n",
       "      <td>model</td>\n",
       "      <td>shape</td>\n",
       "      <td>tensorflow</td>\n",
       "      <td>keras</td>\n",
       "      <td>layer</td>\n",
       "      <td>msg</td>\n",
       "      <td>fit</td>\n",
       "      <td>numpy</td>\n",
       "      <td>reduce</td>\n",
       "    </tr>\n",
       "    <tr>\n",
       "      <td>Sujet 4</td>\n",
       "      <td>category</td>\n",
       "      <td>httpd</td>\n",
       "      <td>west</td>\n",
       "      <td>complexity</td>\n",
       "      <td>album</td>\n",
       "      <td>digital</td>\n",
       "      <td>magento</td>\n",
       "      <td>imagepath</td>\n",
       "      <td>forums</td>\n",
       "      <td>applewebkit</td>\n",
       "    </tr>\n",
       "    <tr>\n",
       "      <td>Sujet 5</td>\n",
       "      <td>std</td>\n",
       "      <td>struct</td>\n",
       "      <td>stripe</td>\n",
       "      <td>rust</td>\n",
       "      <td>impl</td>\n",
       "      <td>pub</td>\n",
       "      <td>trait</td>\n",
       "      <td>europe</td>\n",
       "      <td>variants</td>\n",
       "      <td>unwrap</td>\n",
       "    </tr>\n",
       "    <tr>\n",
       "      <td>...</td>\n",
       "      <td>...</td>\n",
       "      <td>...</td>\n",
       "      <td>...</td>\n",
       "      <td>...</td>\n",
       "      <td>...</td>\n",
       "      <td>...</td>\n",
       "      <td>...</td>\n",
       "      <td>...</td>\n",
       "      <td>...</td>\n",
       "      <td>...</td>\n",
       "    </tr>\n",
       "    <tr>\n",
       "      <td>Sujet 71</td>\n",
       "      <td>multiprocessing</td>\n",
       "      <td>cuda</td>\n",
       "      <td>scrollbar</td>\n",
       "      <td>environ</td>\n",
       "      <td>shortest</td>\n",
       "      <td>prefetch</td>\n",
       "      <td>preferences</td>\n",
       "      <td>preference</td>\n",
       "      <td>preferably</td>\n",
       "      <td>preferable</td>\n",
       "    </tr>\n",
       "    <tr>\n",
       "      <td>Sujet 72</td>\n",
       "      <td>aaa</td>\n",
       "      <td>preference</td>\n",
       "      <td>preferably</td>\n",
       "      <td>preferable</td>\n",
       "      <td>prefer</td>\n",
       "      <td>pref</td>\n",
       "      <td>predictor</td>\n",
       "      <td>predictions</td>\n",
       "      <td>prediction</td>\n",
       "      <td>predict</td>\n",
       "    </tr>\n",
       "    <tr>\n",
       "      <td>Sujet 73</td>\n",
       "      <td>dataframe</td>\n",
       "      <td>row</td>\n",
       "      <td>column</td>\n",
       "      <td>sum</td>\n",
       "      <td>date</td>\n",
       "      <td>pandas</td>\n",
       "      <td>columns</td>\n",
       "      <td>matrix</td>\n",
       "      <td>datetime</td>\n",
       "      <td>group</td>\n",
       "    </tr>\n",
       "    <tr>\n",
       "      <td>Sujet 74</td>\n",
       "      <td>aaa</td>\n",
       "      <td>preference</td>\n",
       "      <td>preferably</td>\n",
       "      <td>preferable</td>\n",
       "      <td>prefer</td>\n",
       "      <td>pref</td>\n",
       "      <td>predictor</td>\n",
       "      <td>predictions</td>\n",
       "      <td>prediction</td>\n",
       "      <td>predict</td>\n",
       "    </tr>\n",
       "    <tr>\n",
       "      <td>Sujet 75</td>\n",
       "      <td>inf</td>\n",
       "      <td>transformer</td>\n",
       "      <td>wake</td>\n",
       "      <td>outputfile</td>\n",
       "      <td>improvement</td>\n",
       "      <td>powershell</td>\n",
       "      <td>preferably</td>\n",
       "      <td>preferable</td>\n",
       "      <td>prefer</td>\n",
       "      <td>pref</td>\n",
       "    </tr>\n",
       "  </tbody>\n",
       "</table>\n",
       "<p>75 rows × 10 columns</p>\n",
       "</div>"
      ],
      "text/plain": [
       "                  Terme 1      Terme 2     Terme 3     Terme 4      Terme 5  \\\n",
       "Sujet 1           product        price    products         bar          foo   \n",
       "Sujet 2             login     redirect        auth    password         user   \n",
       "Sujet 3             train        model       shape  tensorflow        keras   \n",
       "Sujet 4          category        httpd        west  complexity        album   \n",
       "Sujet 5               std       struct      stripe        rust         impl   \n",
       "...                   ...          ...         ...         ...          ...   \n",
       "Sujet 71  multiprocessing         cuda   scrollbar     environ     shortest   \n",
       "Sujet 72              aaa   preference  preferably  preferable       prefer   \n",
       "Sujet 73        dataframe          row      column         sum         date   \n",
       "Sujet 74              aaa   preference  preferably  preferable       prefer   \n",
       "Sujet 75              inf  transformer        wake  outputfile  improvement   \n",
       "\n",
       "             Terme 6      Terme 7      Terme 8        Terme 9     Terme 10  \n",
       "Sujet 1        stock     typename     quantity       carousel      encrypt  \n",
       "Sujet 2      session       cookie        oauth  authorization        flask  \n",
       "Sujet 3        layer          msg          fit          numpy       reduce  \n",
       "Sujet 4      digital      magento    imagepath         forums  applewebkit  \n",
       "Sujet 5          pub        trait       europe       variants       unwrap  \n",
       "...              ...          ...          ...            ...          ...  \n",
       "Sujet 71    prefetch  preferences   preference     preferably   preferable  \n",
       "Sujet 72        pref    predictor  predictions     prediction      predict  \n",
       "Sujet 73      pandas      columns       matrix       datetime        group  \n",
       "Sujet 74        pref    predictor  predictions     prediction      predict  \n",
       "Sujet 75  powershell   preferably   preferable         prefer         pref  \n",
       "\n",
       "[75 rows x 10 columns]"
      ]
     },
     "execution_count": 27,
     "metadata": {},
     "output_type": "execute_result"
    }
   ],
   "source": [
    "def show_topics(vectorizer, lda_model, n_words=5):\n",
    "    keywords = np.array(vectorizer.get_feature_names())\n",
    "    topic_keywords = []\n",
    "    i = 0\n",
    "    for topic_weights in lda_model.components_:\n",
    "        top_keyword_locs = (-topic_weights).argsort()[:n_words]\n",
    "        topic_keywords.append(keywords.take(top_keyword_locs))\n",
    "        i = i+1\n",
    "    return topic_keywords\n",
    "\n",
    "#topic_keywords = show_topics(cv, lda, n_words=10)        \n",
    "topic_keywords = show_topics(fv, lda, n_words=10)        \n",
    "df_keywords = pd.DataFrame(topic_keywords)\n",
    "df_keywords.columns = [f'Terme {i+1}' for i in range(df_keywords.shape[1])]\n",
    "df_keywords.index = [f'Sujet {i+1}' for i in range(df_keywords.shape[0])]\n",
    "df_keywords"
   ]
  },
  {
   "cell_type": "code",
   "execution_count": 12,
   "metadata": {
    "ExecuteTime": {
     "end_time": "2019-09-20T16:32:51.188439Z",
     "start_time": "2019-09-20T16:30:09.999552Z"
    }
   },
   "outputs": [
    {
     "name": "stderr",
     "output_type": "stream",
     "text": [
      "C:\\Users\\regclem\\.conda\\envs\\tagging_env\\lib\\site-packages\\pyLDAvis\\_prepare.py:257: FutureWarning: Sorting because non-concatenation axis is not aligned. A future version\n",
      "of pandas will change to not sort by default.\n",
      "\n",
      "To accept the future behavior, pass 'sort=False'.\n",
      "\n",
      "To retain the current behavior and silence the warning, pass 'sort=True'.\n",
      "\n",
      "  return pd.concat([default_term_info] + list(topic_dfs))\n"
     ]
    },
    {
     "data": {
      "text/html": [
       "\n",
       "<link rel=\"stylesheet\" type=\"text/css\" href=\"https://cdn.rawgit.com/bmabey/pyLDAvis/files/ldavis.v1.0.0.css\">\n",
       "\n",
       "\n",
       "<div id=\"ldavis_el1028421337540839124101513412\"></div>\n",
       "<script type=\"text/javascript\">\n",
       "\n",
       "var ldavis_el1028421337540839124101513412_data = {\"mdsDat\": {\"x\": [-60.82959747314453, -68.71776580810547, 35.525665283203125, -45.39356994628906, -26.11332893371582, -55.412906646728516, 54.014892578125, -39.3922119140625, -64.87484741210938, -15.242752075195312, 64.00601196289062, 55.97794723510742, -48.05928421020508, -17.120912551879883, 46.038490295410156, 62.48735427856445, -43.169456481933594, 18.84145736694336, 29.74135971069336, -21.043603897094727, -66.33013916015625, -34.124507904052734, 33.028377532958984, 6.483582496643066, 29.14562225341797, 5.908806324005127, -3.7455451488494873, -75.43460845947266, 44.515869140625, -56.36153030395508, 13.552521705627441, -15.541728973388672, -7.023782730102539, -41.53627395629883, 42.622459411621094, -31.33690643310547, 15.271309852600098, -35.2651252746582, 0.722046434879303, -48.12570571899414, 29.45270347595215, 11.962103843688965, 30.676654815673828, -0.37671959400177, 30.016706466674805, 26.825069427490234, -15.674960136413574, -36.639549255371094, 18.31565284729004, 17.28647804260254, -21.720134735107422, 2.834540605545044, -26.00865364074707, 13.38382339477539, -9.217206954956055, -28.92780303955078, -17.37990379333496, 6.079373836517334, -24.750219345092773, -7.073177814483643, 17.812429428100586, -25.87377166748047, -8.981239318847656, 8.834188461303711, -16.77630043029785, -13.7159423828125, 5.642924785614014, -0.4496450424194336, -8.461750030517578, -17.36198616027832, -9.10636043548584, -0.5949689149856567, 7.828583240509033, -0.27903619408607483, -3.380687952041626], \"y\": [24.30952262878418, 31.251422882080078, -37.32231521606445, -51.971107482910156, -51.539459228515625, 45.408348083496094, 40.13725662231445, 61.5033073425293, -39.60348892211914, 70.4137191772461, 16.719768524169922, -35.71746063232422, -29.39598274230957, -67.7394027709961, 0.6968659162521362, -10.05517578125, 11.25121784210205, -31.82944107055664, 63.24729919433594, 51.24625015258789, -16.68443489074707, 40.465396881103516, 43.420955657958984, -64.62041473388672, -56.63716506958008, 66.46980285644531, 48.97018051147461, 3.7074806690216064, 19.92197608947754, 3.4597835540771484, 48.55113983154297, 35.743587493896484, -48.41337585449219, 26.167972564697266, -18.024850845336914, -34.233985900878906, 33.69441604614258, -18.36463165283203, -34.655574798583984, -10.827171325683594, 26.96849822998047, -45.420291900634766, 10.509349822998047, 34.30281066894531, -3.783442258834839, -18.344270706176758, -34.3707389831543, -2.169217109680176, 18.612573623657227, -6.769094467163086, -21.097253799438477, -22.17626190185547, 26.175643920898438, -18.183412551879883, -22.96474838256836, 13.342451095581055, 18.94740104675293, 22.974519729614258, -9.23129940032959, 23.383560180664062, 5.031432151794434, 2.3861677646636963, 3.830920934677124, 11.127227783203125, -1.9520546197891235, -11.910382270812988, -8.989916801452637, 14.671195983886719, -4.820455551147461, 7.977670669555664, 12.571338653564453, -2.534583330154419, 0.8236620426177979, 5.974632263183594, -12.468027114868164], \"topics\": [1, 2, 3, 4, 5, 6, 7, 8, 9, 10, 11, 12, 13, 14, 15, 16, 17, 18, 19, 20, 21, 22, 23, 24, 25, 26, 27, 28, 29, 30, 31, 32, 33, 34, 35, 36, 37, 38, 39, 40, 41, 42, 43, 44, 45, 46, 47, 48, 49, 50, 51, 52, 53, 54, 55, 56, 57, 58, 59, 60, 61, 62, 63, 64, 65, 66, 67, 68, 69, 70, 71, 72, 73, 74, 75], \"cluster\": [1, 1, 1, 1, 1, 1, 1, 1, 1, 1, 1, 1, 1, 1, 1, 1, 1, 1, 1, 1, 1, 1, 1, 1, 1, 1, 1, 1, 1, 1, 1, 1, 1, 1, 1, 1, 1, 1, 1, 1, 1, 1, 1, 1, 1, 1, 1, 1, 1, 1, 1, 1, 1, 1, 1, 1, 1, 1, 1, 1, 1, 1, 1, 1, 1, 1, 1, 1, 1, 1, 1, 1, 1, 1, 1], \"Freq\": [49.95072769905302, 11.714994407880368, 3.4486659994160513, 3.3751077598983716, 1.995851724775345, 1.5931342593649904, 1.3967318401154414, 1.3777294384899366, 1.153686275904959, 0.8905311413399125, 0.8754276195160486, 0.8423312837289957, 0.7281928936357439, 0.6818626363860406, 0.6122394440754177, 0.5990599215389738, 0.5988961522161581, 0.5610447117800486, 0.5436567895850581, 0.505892926675719, 0.49682347142016736, 0.44967472496996425, 0.431172900582465, 0.42130897921218824, 0.41976923608124705, 0.4095551335093874, 0.4095171239089016, 0.4003835341967083, 0.39333789935054153, 0.3825017510000737, 0.37363482909688817, 0.3736318235888267, 0.35940579153352925, 0.3562964130292089, 0.35031986416998995, 0.3468381509869915, 0.3447029516281307, 0.33417303208575194, 0.30124379520080813, 0.3008730687680815, 0.29930655748696994, 0.2971188520078663, 0.28827594805463397, 0.2796026189251576, 0.27939455018507764, 0.27919373587886337, 0.2775528786086225, 0.2735328016627226, 0.27037419591937895, 0.266606295641198, 0.26516436891185097, 0.2637722987218163, 0.26135650557100026, 0.2589784747940173, 0.2588254951751388, 0.2576083104819859, 0.24846704627434746, 0.24776424405928027, 0.2449300292986558, 0.24341672950065127, 0.24204191553489693, 0.24151912181604912, 0.24060449992988803, 0.2400775529002292, 0.23396232481484003, 0.23396232481484003, 0.23396232481484003, 0.23396232481484003, 0.23396232481484003, 0.23396232481484003, 0.23396232481484003, 0.23396232481484003, 0.23396232481484003, 0.23396232481484003, 0.23396232481484003]}, \"tinfo\": {\"Category\": [\"Default\", \"Default\", \"Default\", \"Default\", \"Default\", \"Default\", \"Default\", \"Default\", \"Default\", \"Default\", \"Default\", \"Default\", \"Default\", \"Default\", \"Default\", \"Default\", \"Default\", \"Default\", \"Default\", \"Default\", \"Default\", \"Default\", \"Default\", \"Default\", \"Default\", \"Default\", \"Default\", \"Default\", \"Default\", \"Default\", \"Topic1\", \"Topic1\", \"Topic1\", \"Topic1\", \"Topic1\", \"Topic1\", \"Topic1\", \"Topic1\", \"Topic1\", \"Topic1\", \"Topic1\", \"Topic1\", \"Topic1\", \"Topic1\", \"Topic1\", \"Topic1\", \"Topic1\", \"Topic1\", \"Topic1\", \"Topic1\", \"Topic1\", \"Topic1\", \"Topic1\", \"Topic1\", \"Topic1\", \"Topic1\", \"Topic1\", \"Topic1\", \"Topic1\", \"Topic1\", \"Topic1\", \"Topic1\", \"Topic1\", \"Topic1\", \"Topic1\", \"Topic1\", \"Topic1\", \"Topic1\", \"Topic1\", \"Topic1\", \"Topic1\", \"Topic1\", \"Topic1\", \"Topic1\", \"Topic1\", \"Topic1\", \"Topic1\", \"Topic1\", \"Topic1\", \"Topic1\", \"Topic1\", \"Topic1\", \"Topic1\", \"Topic1\", \"Topic1\", \"Topic1\", \"Topic1\", \"Topic1\", \"Topic1\", \"Topic1\", \"Topic1\", \"Topic1\", \"Topic1\", \"Topic1\", \"Topic1\", \"Topic1\", \"Topic1\", \"Topic1\", \"Topic2\", \"Topic2\", \"Topic2\", \"Topic2\", \"Topic2\", \"Topic2\", \"Topic2\", \"Topic2\", \"Topic2\", \"Topic2\", \"Topic2\", \"Topic2\", \"Topic2\", \"Topic2\", \"Topic2\", \"Topic2\", \"Topic2\", \"Topic2\", \"Topic2\", \"Topic2\", \"Topic2\", \"Topic2\", \"Topic2\", \"Topic2\", \"Topic2\", \"Topic2\", \"Topic2\", \"Topic2\", \"Topic2\", \"Topic2\", \"Topic2\", \"Topic2\", \"Topic2\", \"Topic2\", \"Topic2\", \"Topic2\", \"Topic2\", \"Topic2\", \"Topic2\", \"Topic2\", \"Topic2\", \"Topic2\", \"Topic2\", \"Topic2\", \"Topic2\", \"Topic2\", \"Topic2\", \"Topic2\", \"Topic2\", \"Topic2\", \"Topic2\", \"Topic2\", \"Topic2\", \"Topic2\", \"Topic2\", \"Topic2\", \"Topic2\", \"Topic2\", \"Topic2\", \"Topic2\", \"Topic2\", \"Topic3\", \"Topic3\", \"Topic3\", \"Topic3\", \"Topic3\", \"Topic3\", \"Topic3\", \"Topic3\", \"Topic3\", \"Topic3\", \"Topic3\", \"Topic3\", \"Topic3\", \"Topic3\", \"Topic3\", \"Topic3\", \"Topic3\", \"Topic3\", \"Topic3\", \"Topic3\", \"Topic3\", \"Topic3\", \"Topic3\", \"Topic3\", \"Topic3\", \"Topic3\", \"Topic3\", \"Topic3\", \"Topic3\", \"Topic3\", \"Topic3\", \"Topic3\", \"Topic3\", \"Topic3\", \"Topic3\", \"Topic3\", \"Topic3\", \"Topic3\", \"Topic3\", \"Topic3\", \"Topic3\", \"Topic3\", \"Topic3\", \"Topic3\", \"Topic3\", \"Topic3\", \"Topic3\", \"Topic3\", \"Topic3\", \"Topic3\", \"Topic3\", \"Topic4\", \"Topic4\", \"Topic4\", \"Topic4\", \"Topic4\", \"Topic4\", \"Topic4\", \"Topic4\", \"Topic4\", \"Topic4\", \"Topic4\", \"Topic4\", \"Topic4\", \"Topic4\", \"Topic4\", \"Topic4\", \"Topic4\", \"Topic4\", \"Topic4\", \"Topic4\", \"Topic4\", \"Topic4\", \"Topic4\", \"Topic4\", \"Topic4\", \"Topic4\", \"Topic4\", \"Topic4\", \"Topic4\", \"Topic4\", \"Topic4\", \"Topic4\", \"Topic4\", \"Topic4\", \"Topic4\", \"Topic4\", \"Topic4\", \"Topic4\", \"Topic4\", \"Topic4\", \"Topic4\", \"Topic4\", \"Topic4\", \"Topic4\", \"Topic4\", \"Topic5\", \"Topic5\", \"Topic5\", \"Topic5\", \"Topic5\", \"Topic5\", \"Topic5\", \"Topic5\", \"Topic5\", \"Topic5\", \"Topic5\", \"Topic5\", \"Topic5\", \"Topic5\", \"Topic5\", \"Topic5\", \"Topic5\", \"Topic5\", \"Topic5\", \"Topic5\", \"Topic5\", \"Topic5\", \"Topic5\", \"Topic5\", \"Topic5\", \"Topic5\", \"Topic5\", \"Topic5\", \"Topic5\", \"Topic5\", \"Topic5\", \"Topic5\", \"Topic5\", \"Topic5\", \"Topic5\", \"Topic5\", \"Topic5\", \"Topic5\", \"Topic5\", \"Topic5\", \"Topic5\", \"Topic5\", \"Topic5\", \"Topic5\", \"Topic5\", \"Topic5\", \"Topic5\", \"Topic5\", \"Topic5\", \"Topic5\", \"Topic5\", \"Topic5\", \"Topic5\", \"Topic5\", \"Topic5\", \"Topic5\", \"Topic6\", \"Topic6\", \"Topic6\", \"Topic6\", \"Topic6\", \"Topic6\", \"Topic6\", \"Topic6\", \"Topic6\", \"Topic6\", \"Topic6\", \"Topic6\", \"Topic6\", \"Topic6\", \"Topic6\", \"Topic6\", \"Topic6\", \"Topic6\", \"Topic6\", \"Topic6\", \"Topic6\", \"Topic6\", \"Topic6\", \"Topic6\", \"Topic6\", \"Topic6\", \"Topic6\", \"Topic6\", \"Topic6\", \"Topic6\", \"Topic6\", \"Topic6\", \"Topic6\", \"Topic6\", \"Topic6\", \"Topic6\", \"Topic6\", \"Topic6\", \"Topic6\", \"Topic6\", \"Topic6\", \"Topic6\", \"Topic6\", \"Topic6\", \"Topic6\", \"Topic6\", \"Topic6\", \"Topic6\", \"Topic6\", \"Topic6\", \"Topic6\", \"Topic6\", \"Topic6\", \"Topic6\", \"Topic6\", \"Topic6\", \"Topic6\", \"Topic6\", \"Topic6\", \"Topic7\", \"Topic7\", \"Topic7\", \"Topic7\", \"Topic7\", \"Topic7\", \"Topic7\", \"Topic7\", \"Topic7\", \"Topic7\", \"Topic7\", \"Topic7\", \"Topic7\", \"Topic7\", \"Topic7\", \"Topic7\", \"Topic7\", \"Topic7\", \"Topic7\", \"Topic7\", \"Topic7\", \"Topic7\", \"Topic7\", \"Topic7\", \"Topic7\", \"Topic7\", \"Topic7\", \"Topic7\", \"Topic7\", \"Topic7\", \"Topic7\", \"Topic7\", \"Topic7\", \"Topic7\", \"Topic7\", \"Topic7\", \"Topic7\", \"Topic7\", \"Topic7\", \"Topic7\", \"Topic7\", \"Topic7\", \"Topic7\", \"Topic7\", \"Topic7\", \"Topic7\", \"Topic7\", \"Topic7\", \"Topic7\", \"Topic7\", \"Topic7\", \"Topic7\", \"Topic8\", \"Topic8\", \"Topic8\", \"Topic8\", \"Topic8\", \"Topic8\", \"Topic8\", \"Topic8\", \"Topic8\", \"Topic8\", \"Topic8\", \"Topic8\", \"Topic8\", \"Topic8\", \"Topic8\", \"Topic8\", \"Topic8\", \"Topic8\", \"Topic8\", \"Topic8\", \"Topic8\", \"Topic8\", \"Topic8\", \"Topic8\", \"Topic8\", \"Topic8\", \"Topic8\", \"Topic8\", \"Topic8\", \"Topic8\", \"Topic8\", \"Topic8\", \"Topic8\", \"Topic8\", \"Topic8\", \"Topic8\", \"Topic8\", \"Topic8\", \"Topic8\", \"Topic8\", \"Topic8\", \"Topic8\", \"Topic8\", \"Topic8\", \"Topic8\", \"Topic8\", \"Topic8\", \"Topic8\", \"Topic9\", \"Topic9\", \"Topic9\", \"Topic9\", \"Topic9\", \"Topic9\", \"Topic9\", \"Topic9\", \"Topic9\", \"Topic9\", \"Topic9\", \"Topic9\", \"Topic9\", \"Topic9\", \"Topic9\", \"Topic9\", \"Topic9\", \"Topic9\", \"Topic9\", \"Topic9\", \"Topic9\", \"Topic9\", \"Topic9\", \"Topic9\", \"Topic9\", \"Topic9\", \"Topic9\", \"Topic9\", \"Topic9\", \"Topic9\", \"Topic9\", \"Topic9\", \"Topic9\", \"Topic9\", \"Topic9\", \"Topic9\", \"Topic9\", \"Topic9\", \"Topic9\", \"Topic9\", \"Topic9\", \"Topic9\", \"Topic9\", \"Topic9\", \"Topic9\", \"Topic9\", \"Topic9\", \"Topic9\", \"Topic9\", \"Topic9\", \"Topic9\", \"Topic9\", \"Topic9\", \"Topic9\", \"Topic10\", \"Topic10\", \"Topic10\", \"Topic10\", \"Topic10\", \"Topic10\", \"Topic10\", \"Topic10\", \"Topic10\", \"Topic10\", \"Topic10\", \"Topic10\", \"Topic10\", \"Topic10\", \"Topic10\", \"Topic10\", \"Topic10\", \"Topic10\", \"Topic10\", \"Topic10\", \"Topic10\", \"Topic10\", \"Topic10\", \"Topic10\", \"Topic10\", \"Topic10\", \"Topic10\", \"Topic10\", \"Topic10\", \"Topic10\", \"Topic10\", \"Topic10\", \"Topic10\", \"Topic10\", \"Topic10\", \"Topic10\", \"Topic10\", \"Topic10\", \"Topic10\", \"Topic10\", \"Topic10\", \"Topic11\", \"Topic11\", \"Topic11\", \"Topic11\", \"Topic11\", \"Topic11\", \"Topic11\", \"Topic11\", \"Topic11\", \"Topic11\", \"Topic11\", \"Topic11\", \"Topic11\", \"Topic11\", \"Topic11\", \"Topic11\", \"Topic11\", \"Topic11\", \"Topic11\", \"Topic11\", \"Topic11\", \"Topic11\", \"Topic11\", \"Topic11\", \"Topic11\", \"Topic11\", \"Topic11\", \"Topic11\", \"Topic11\", \"Topic11\", \"Topic11\", \"Topic11\", \"Topic11\", \"Topic11\", \"Topic11\", \"Topic11\", \"Topic11\", \"Topic11\", \"Topic11\", \"Topic11\", \"Topic11\", \"Topic11\", \"Topic11\", \"Topic11\", \"Topic11\", \"Topic11\", \"Topic11\", \"Topic11\", \"Topic12\", \"Topic12\", \"Topic12\", \"Topic12\", \"Topic12\", \"Topic12\", \"Topic12\", \"Topic12\", \"Topic12\", \"Topic12\", \"Topic12\", \"Topic12\", \"Topic12\", \"Topic12\", \"Topic12\", \"Topic12\", \"Topic12\", \"Topic12\", \"Topic12\", \"Topic12\", \"Topic12\", \"Topic12\", \"Topic12\", \"Topic12\", \"Topic12\", \"Topic12\", \"Topic12\", \"Topic12\", \"Topic12\", \"Topic12\", \"Topic12\", \"Topic12\", \"Topic12\", \"Topic12\", \"Topic12\", \"Topic12\", \"Topic12\", \"Topic12\", \"Topic13\", \"Topic13\", \"Topic13\", \"Topic13\", \"Topic13\", \"Topic13\", \"Topic13\", \"Topic13\", \"Topic13\", \"Topic13\", \"Topic13\", \"Topic13\", \"Topic13\", \"Topic13\", \"Topic13\", \"Topic13\", \"Topic13\", \"Topic13\", \"Topic13\", \"Topic13\", \"Topic13\", \"Topic13\", \"Topic13\", \"Topic13\", \"Topic13\", \"Topic13\", \"Topic13\", \"Topic13\", \"Topic13\", \"Topic13\", \"Topic13\", \"Topic13\", \"Topic13\", \"Topic13\", \"Topic13\", \"Topic13\", \"Topic13\", \"Topic13\", \"Topic13\", \"Topic13\", \"Topic13\", \"Topic13\", \"Topic13\", \"Topic13\", \"Topic13\", \"Topic13\", \"Topic13\", \"Topic14\", \"Topic14\", \"Topic14\", \"Topic14\", \"Topic14\", \"Topic14\", \"Topic14\", \"Topic14\", \"Topic14\", \"Topic14\", \"Topic14\", \"Topic14\", \"Topic14\", \"Topic14\", \"Topic14\", \"Topic14\", \"Topic14\", \"Topic14\", \"Topic14\", \"Topic14\", \"Topic14\", \"Topic14\", \"Topic14\", \"Topic14\", \"Topic14\", \"Topic14\", \"Topic14\", \"Topic14\", \"Topic14\", \"Topic14\", \"Topic14\", \"Topic14\", \"Topic14\", \"Topic14\", \"Topic14\", \"Topic14\", \"Topic14\", \"Topic14\", \"Topic14\", \"Topic14\", \"Topic14\", \"Topic14\", \"Topic14\", \"Topic14\", \"Topic14\", \"Topic15\", \"Topic15\", \"Topic15\", \"Topic15\", \"Topic15\", \"Topic15\", \"Topic15\", \"Topic15\", \"Topic15\", \"Topic15\", \"Topic15\", \"Topic15\", \"Topic15\", \"Topic15\", \"Topic15\", \"Topic15\", \"Topic15\", \"Topic15\", \"Topic15\", \"Topic15\", \"Topic15\", \"Topic15\", \"Topic15\", \"Topic15\", \"Topic15\", \"Topic15\", \"Topic15\", \"Topic15\", \"Topic15\", \"Topic15\", \"Topic15\", \"Topic15\", \"Topic15\", \"Topic15\", \"Topic15\", \"Topic15\", \"Topic15\", \"Topic15\", \"Topic16\", \"Topic16\", \"Topic16\", \"Topic16\", \"Topic16\", \"Topic16\", \"Topic16\", \"Topic16\", \"Topic16\", \"Topic16\", \"Topic16\", \"Topic16\", \"Topic16\", \"Topic16\", \"Topic16\", \"Topic16\", \"Topic16\", \"Topic16\", \"Topic16\", \"Topic16\", \"Topic16\", \"Topic16\", \"Topic16\", \"Topic16\", \"Topic16\", \"Topic16\", \"Topic16\", \"Topic16\", \"Topic16\", \"Topic16\", \"Topic16\", \"Topic16\", \"Topic16\", \"Topic16\", \"Topic16\", \"Topic16\", \"Topic17\", \"Topic17\", \"Topic17\", \"Topic17\", \"Topic17\", \"Topic17\", \"Topic17\", \"Topic17\", \"Topic17\", \"Topic17\", \"Topic17\", \"Topic17\", \"Topic17\", \"Topic17\", \"Topic17\", \"Topic17\", \"Topic17\", \"Topic17\", \"Topic17\", \"Topic17\", \"Topic17\", \"Topic17\", \"Topic17\", \"Topic17\", \"Topic17\", \"Topic17\", \"Topic17\", \"Topic17\", \"Topic17\", \"Topic17\", \"Topic17\", \"Topic17\", \"Topic17\", \"Topic17\", \"Topic17\", \"Topic17\", \"Topic17\", \"Topic17\", \"Topic17\", \"Topic17\", \"Topic17\", \"Topic17\", \"Topic18\", \"Topic18\", \"Topic18\", \"Topic18\", \"Topic18\", \"Topic18\", \"Topic18\", \"Topic18\", \"Topic18\", \"Topic18\", \"Topic18\", \"Topic18\", \"Topic18\", \"Topic18\", \"Topic18\", \"Topic18\", \"Topic18\", \"Topic18\", \"Topic18\", \"Topic18\", \"Topic18\", \"Topic18\", \"Topic18\", \"Topic18\", \"Topic18\", \"Topic18\", \"Topic18\", \"Topic18\", \"Topic18\", \"Topic18\", \"Topic18\", \"Topic18\", \"Topic18\", \"Topic19\", \"Topic19\", \"Topic19\", \"Topic19\", \"Topic19\", \"Topic19\", \"Topic19\", \"Topic19\", \"Topic19\", \"Topic19\", \"Topic19\", \"Topic19\", \"Topic19\", \"Topic19\", \"Topic19\", \"Topic19\", \"Topic19\", \"Topic19\", \"Topic19\", \"Topic19\", \"Topic19\", \"Topic19\", \"Topic19\", \"Topic19\", \"Topic19\", \"Topic19\", \"Topic19\", \"Topic19\", \"Topic19\", \"Topic19\", \"Topic19\", \"Topic19\", \"Topic19\", \"Topic19\", \"Topic19\", \"Topic19\", \"Topic19\", \"Topic20\", \"Topic20\", \"Topic20\", \"Topic20\", \"Topic20\", \"Topic20\", \"Topic20\", \"Topic20\", \"Topic20\", \"Topic20\", \"Topic20\", \"Topic20\", \"Topic20\", \"Topic20\", \"Topic20\", \"Topic20\", \"Topic20\", \"Topic20\", \"Topic20\", \"Topic20\", \"Topic20\", \"Topic20\", \"Topic20\", \"Topic20\", \"Topic20\", \"Topic20\", \"Topic20\", \"Topic20\", \"Topic20\", \"Topic20\", \"Topic20\", \"Topic20\", \"Topic20\", \"Topic20\", \"Topic20\", \"Topic20\", \"Topic20\", \"Topic20\", \"Topic20\", \"Topic21\", \"Topic21\", \"Topic21\", \"Topic21\", \"Topic21\", \"Topic21\", \"Topic21\", \"Topic21\", \"Topic21\", \"Topic21\", \"Topic21\", \"Topic21\", \"Topic21\", \"Topic21\", \"Topic21\", \"Topic21\", \"Topic21\", \"Topic21\", \"Topic21\", \"Topic21\", \"Topic21\", \"Topic21\", \"Topic21\", \"Topic21\", \"Topic21\", \"Topic21\", \"Topic21\", \"Topic21\", \"Topic21\", \"Topic21\", \"Topic22\", \"Topic22\", \"Topic22\", \"Topic22\", \"Topic22\", \"Topic22\", \"Topic22\", \"Topic22\", \"Topic22\", \"Topic22\", \"Topic22\", \"Topic22\", \"Topic22\", \"Topic22\", \"Topic22\", \"Topic22\", \"Topic22\", \"Topic22\", \"Topic22\", \"Topic22\", \"Topic22\", \"Topic22\", \"Topic22\", \"Topic22\", \"Topic22\", \"Topic22\", \"Topic22\", \"Topic22\", \"Topic22\", \"Topic22\", \"Topic22\", \"Topic22\", \"Topic22\", \"Topic23\", \"Topic23\", \"Topic23\", \"Topic23\", \"Topic23\", \"Topic23\", \"Topic23\", \"Topic23\", \"Topic23\", \"Topic23\", \"Topic23\", \"Topic23\", \"Topic23\", \"Topic23\", \"Topic23\", \"Topic23\", \"Topic23\", \"Topic23\", \"Topic23\", \"Topic23\", \"Topic23\", \"Topic23\", \"Topic23\", \"Topic23\", \"Topic23\", \"Topic23\", \"Topic23\", \"Topic23\", \"Topic23\", \"Topic23\", \"Topic23\", \"Topic24\", \"Topic24\", \"Topic24\", \"Topic24\", \"Topic24\", \"Topic24\", \"Topic24\", \"Topic24\", \"Topic24\", \"Topic24\", \"Topic24\", \"Topic24\", \"Topic24\", \"Topic24\", \"Topic24\", \"Topic24\", \"Topic24\", \"Topic24\", \"Topic24\", \"Topic24\", \"Topic24\", \"Topic24\", \"Topic24\", \"Topic24\", \"Topic24\", \"Topic24\", \"Topic24\", \"Topic24\", \"Topic24\", \"Topic24\", \"Topic24\", \"Topic24\", \"Topic24\", \"Topic24\", \"Topic24\", \"Topic25\", \"Topic25\", \"Topic25\", \"Topic25\", \"Topic25\", \"Topic25\", \"Topic25\", \"Topic25\", \"Topic25\", \"Topic25\", \"Topic25\", \"Topic25\", \"Topic25\", \"Topic25\", \"Topic25\", \"Topic25\", \"Topic25\", \"Topic25\", \"Topic25\", \"Topic25\", \"Topic25\", \"Topic25\", \"Topic25\", \"Topic25\", \"Topic25\", \"Topic25\", \"Topic25\", \"Topic25\", \"Topic25\", \"Topic25\", \"Topic25\", \"Topic25\", \"Topic25\", \"Topic25\", \"Topic25\", \"Topic25\", \"Topic25\", \"Topic26\", \"Topic26\", \"Topic26\", \"Topic26\", \"Topic26\", \"Topic26\", \"Topic26\", \"Topic26\", \"Topic26\", \"Topic26\", \"Topic26\", \"Topic26\", \"Topic26\", \"Topic26\", \"Topic26\", \"Topic26\", \"Topic26\", \"Topic26\", \"Topic26\", \"Topic26\", \"Topic26\", \"Topic26\", \"Topic26\", \"Topic26\", \"Topic26\", \"Topic26\", \"Topic26\", \"Topic26\", \"Topic26\", \"Topic26\", \"Topic26\", \"Topic26\", \"Topic26\", \"Topic26\", \"Topic26\", \"Topic26\", \"Topic26\", \"Topic27\", \"Topic27\", \"Topic27\", \"Topic27\", \"Topic27\", \"Topic27\", \"Topic27\", \"Topic27\", \"Topic27\", \"Topic27\", \"Topic27\", \"Topic27\", \"Topic27\", \"Topic27\", \"Topic27\", \"Topic27\", \"Topic27\", \"Topic27\", \"Topic27\", \"Topic27\", \"Topic27\", \"Topic27\", \"Topic27\", \"Topic27\", \"Topic27\", \"Topic27\", \"Topic27\", \"Topic27\", \"Topic27\", \"Topic27\", \"Topic27\", \"Topic27\", \"Topic27\", \"Topic27\", \"Topic27\", \"Topic27\", \"Topic27\", \"Topic27\", \"Topic27\", \"Topic27\", \"Topic27\", \"Topic27\", \"Topic27\", \"Topic28\", \"Topic28\", \"Topic28\", \"Topic28\", \"Topic28\", \"Topic28\", \"Topic28\", \"Topic28\", \"Topic28\", \"Topic28\", \"Topic28\", \"Topic28\", \"Topic28\", \"Topic28\", \"Topic28\", \"Topic28\", \"Topic28\", \"Topic28\", \"Topic28\", \"Topic28\", \"Topic28\", \"Topic28\", \"Topic28\", \"Topic28\", \"Topic28\", \"Topic28\", \"Topic28\", \"Topic28\", \"Topic28\", \"Topic28\", \"Topic28\", \"Topic28\", \"Topic28\", \"Topic28\", \"Topic28\", \"Topic28\", \"Topic28\", \"Topic28\", \"Topic28\", \"Topic28\", \"Topic28\", \"Topic28\", \"Topic29\", \"Topic29\", \"Topic29\", \"Topic29\", \"Topic29\", \"Topic29\", \"Topic29\", \"Topic29\", \"Topic29\", \"Topic29\", \"Topic29\", \"Topic29\", \"Topic29\", \"Topic29\", \"Topic29\", \"Topic29\", \"Topic29\", \"Topic29\", \"Topic29\", \"Topic29\", \"Topic29\", \"Topic29\", \"Topic29\", \"Topic29\", \"Topic29\", \"Topic29\", \"Topic29\", \"Topic29\", \"Topic29\", \"Topic29\", \"Topic29\", \"Topic29\", \"Topic30\", \"Topic30\", \"Topic30\", \"Topic30\", \"Topic30\", \"Topic30\", \"Topic30\", \"Topic30\", \"Topic30\", \"Topic30\", \"Topic30\", \"Topic30\", \"Topic30\", \"Topic30\", \"Topic30\", \"Topic30\", \"Topic30\", \"Topic30\", \"Topic30\", \"Topic30\", \"Topic30\", \"Topic30\", \"Topic30\", \"Topic30\", \"Topic30\", \"Topic30\", \"Topic30\", \"Topic30\", \"Topic30\", \"Topic30\", \"Topic30\", \"Topic30\", \"Topic30\", \"Topic31\", \"Topic31\", \"Topic31\", \"Topic31\", \"Topic31\", \"Topic31\", \"Topic31\", \"Topic31\", \"Topic31\", \"Topic31\", \"Topic31\", \"Topic31\", \"Topic31\", \"Topic31\", \"Topic31\", \"Topic31\", \"Topic31\", \"Topic31\", \"Topic31\", \"Topic31\", \"Topic31\", \"Topic31\", \"Topic31\", \"Topic31\", \"Topic31\", \"Topic31\", \"Topic31\", \"Topic31\", \"Topic31\", \"Topic31\", \"Topic32\", \"Topic32\", \"Topic32\", \"Topic32\", \"Topic32\", \"Topic32\", \"Topic32\", \"Topic32\", \"Topic32\", \"Topic32\", \"Topic32\", \"Topic32\", \"Topic32\", \"Topic32\", \"Topic32\", \"Topic32\", \"Topic32\", \"Topic32\", \"Topic32\", \"Topic32\", \"Topic32\", \"Topic32\", \"Topic32\", \"Topic32\", \"Topic32\", \"Topic32\", \"Topic32\", \"Topic32\", \"Topic32\", \"Topic32\", \"Topic32\", \"Topic33\", \"Topic33\", \"Topic33\", \"Topic33\", \"Topic33\", \"Topic33\", \"Topic33\", \"Topic33\", \"Topic33\", \"Topic33\", \"Topic33\", \"Topic33\", \"Topic33\", \"Topic33\", \"Topic33\", \"Topic33\", \"Topic33\", \"Topic33\", \"Topic33\", \"Topic33\", \"Topic33\", \"Topic33\", \"Topic33\", \"Topic33\", \"Topic33\", \"Topic33\", \"Topic33\", \"Topic33\", \"Topic33\", \"Topic33\", \"Topic33\", \"Topic33\", \"Topic33\", \"Topic33\", \"Topic33\", \"Topic33\", \"Topic33\", \"Topic33\", \"Topic33\", \"Topic33\", \"Topic33\", \"Topic33\", \"Topic33\", \"Topic33\", \"Topic33\", \"Topic33\", \"Topic33\", \"Topic33\", \"Topic34\", \"Topic34\", \"Topic34\", \"Topic34\", \"Topic34\", \"Topic34\", \"Topic34\", \"Topic34\", \"Topic34\", \"Topic34\", \"Topic34\", \"Topic34\", \"Topic34\", \"Topic34\", \"Topic34\", \"Topic34\", \"Topic34\", \"Topic34\", \"Topic34\", \"Topic34\", \"Topic34\", \"Topic34\", \"Topic34\", \"Topic34\", \"Topic34\", \"Topic34\", \"Topic34\", \"Topic34\", \"Topic34\", \"Topic34\", \"Topic35\", \"Topic35\", \"Topic35\", \"Topic35\", \"Topic35\", \"Topic35\", \"Topic35\", \"Topic35\", \"Topic35\", \"Topic35\", \"Topic35\", \"Topic35\", \"Topic35\", \"Topic35\", \"Topic35\", \"Topic35\", \"Topic35\", \"Topic35\", \"Topic35\", \"Topic35\", \"Topic35\", \"Topic35\", \"Topic35\", \"Topic35\", \"Topic35\", \"Topic35\", \"Topic35\", \"Topic35\", \"Topic35\", \"Topic35\", \"Topic35\", \"Topic35\", \"Topic35\", \"Topic35\", \"Topic35\", \"Topic35\", \"Topic35\", \"Topic35\", \"Topic35\", \"Topic35\", \"Topic35\", \"Topic35\", \"Topic35\", \"Topic36\", \"Topic36\", \"Topic36\", \"Topic36\", \"Topic36\", \"Topic36\", \"Topic36\", \"Topic36\", \"Topic36\", \"Topic36\", \"Topic36\", \"Topic36\", \"Topic36\", \"Topic36\", \"Topic36\", \"Topic36\", \"Topic36\", \"Topic36\", \"Topic36\", \"Topic36\", \"Topic36\", \"Topic36\", \"Topic36\", \"Topic36\", \"Topic36\", \"Topic36\", \"Topic36\", \"Topic36\", \"Topic36\", \"Topic36\", \"Topic36\", \"Topic36\", \"Topic36\", \"Topic36\", \"Topic36\", \"Topic36\", \"Topic36\", \"Topic36\", \"Topic36\", \"Topic36\", \"Topic36\", \"Topic36\", \"Topic36\", \"Topic36\", \"Topic36\", \"Topic36\", \"Topic36\", \"Topic36\", \"Topic37\", \"Topic37\", \"Topic37\", \"Topic37\", \"Topic37\", \"Topic37\", \"Topic37\", \"Topic37\", \"Topic37\", \"Topic37\", \"Topic37\", \"Topic37\", \"Topic37\", \"Topic37\", \"Topic37\", \"Topic37\", \"Topic37\", \"Topic37\", \"Topic37\", \"Topic37\", \"Topic37\", \"Topic37\", \"Topic37\", \"Topic37\", \"Topic37\", \"Topic37\", \"Topic37\", \"Topic37\", \"Topic37\", \"Topic37\", \"Topic37\", \"Topic37\", \"Topic37\", \"Topic37\", \"Topic37\", \"Topic37\", \"Topic37\", \"Topic37\", \"Topic37\", \"Topic37\", \"Topic37\", \"Topic37\", \"Topic37\", \"Topic37\", \"Topic37\", \"Topic37\", \"Topic38\", \"Topic38\", \"Topic38\", \"Topic38\", \"Topic38\", \"Topic38\", \"Topic38\", \"Topic38\", \"Topic38\", \"Topic38\", \"Topic38\", \"Topic38\", \"Topic38\", \"Topic38\", \"Topic38\", \"Topic38\", \"Topic38\", \"Topic38\", \"Topic38\", \"Topic38\", \"Topic38\", \"Topic38\", \"Topic38\", \"Topic38\", \"Topic38\", \"Topic38\", \"Topic38\", \"Topic38\", \"Topic38\", \"Topic38\", \"Topic38\", \"Topic38\", \"Topic38\", \"Topic38\", \"Topic38\", \"Topic38\", \"Topic38\", \"Topic38\", \"Topic38\", \"Topic38\", \"Topic38\", \"Topic38\", \"Topic38\", \"Topic38\", \"Topic38\", \"Topic38\", \"Topic38\", \"Topic38\", \"Topic38\", \"Topic39\", \"Topic39\", \"Topic39\", \"Topic39\", \"Topic39\", \"Topic39\", \"Topic39\", \"Topic39\", \"Topic39\", \"Topic39\", \"Topic39\", \"Topic39\", \"Topic39\", \"Topic39\", \"Topic39\", \"Topic39\", \"Topic39\", \"Topic39\", \"Topic39\", \"Topic39\", \"Topic39\", \"Topic39\", \"Topic39\", \"Topic39\", \"Topic39\", \"Topic39\", \"Topic39\", \"Topic39\", \"Topic39\", \"Topic39\", \"Topic39\", \"Topic39\", \"Topic39\", \"Topic39\", \"Topic39\", \"Topic39\", \"Topic39\", \"Topic39\", \"Topic39\", \"Topic39\", \"Topic39\", \"Topic39\", \"Topic39\", \"Topic40\", \"Topic40\", \"Topic40\", \"Topic40\", \"Topic40\", \"Topic40\", \"Topic40\", \"Topic40\", \"Topic40\", \"Topic40\", \"Topic40\", \"Topic40\", \"Topic40\", \"Topic40\", \"Topic40\", \"Topic40\", \"Topic40\", \"Topic40\", \"Topic40\", \"Topic40\", \"Topic40\", \"Topic40\", \"Topic40\", \"Topic40\", \"Topic40\", \"Topic40\", \"Topic40\", \"Topic40\", \"Topic40\", \"Topic40\", \"Topic40\", \"Topic40\", \"Topic40\", \"Topic40\", \"Topic40\", \"Topic40\", \"Topic40\", \"Topic40\", \"Topic40\", \"Topic40\", \"Topic40\", \"Topic40\", \"Topic40\", \"Topic40\", \"Topic40\", \"Topic40\", \"Topic40\", \"Topic40\", \"Topic40\", \"Topic40\", \"Topic40\", \"Topic41\", \"Topic41\", \"Topic41\", \"Topic41\", \"Topic41\", \"Topic41\", \"Topic41\", \"Topic41\", \"Topic41\", \"Topic41\", \"Topic41\", \"Topic41\", \"Topic41\", \"Topic41\", \"Topic41\", \"Topic41\", \"Topic41\", \"Topic41\", \"Topic41\", \"Topic41\", \"Topic41\", \"Topic41\", \"Topic41\", \"Topic41\", \"Topic41\", \"Topic41\", \"Topic41\", \"Topic41\", \"Topic41\", \"Topic41\", \"Topic41\", \"Topic41\", \"Topic41\", \"Topic41\", \"Topic41\", \"Topic41\", \"Topic41\", \"Topic41\", \"Topic41\", \"Topic41\", \"Topic41\", \"Topic41\", \"Topic41\", \"Topic41\", \"Topic41\", \"Topic41\", \"Topic41\", \"Topic41\", \"Topic41\", \"Topic41\", \"Topic41\", \"Topic41\", \"Topic42\", \"Topic42\", \"Topic42\", \"Topic42\", \"Topic42\", \"Topic42\", \"Topic42\", \"Topic42\", \"Topic42\", \"Topic42\", \"Topic42\", \"Topic42\", \"Topic42\", \"Topic42\", \"Topic42\", \"Topic42\", \"Topic42\", \"Topic42\", \"Topic42\", \"Topic42\", \"Topic42\", \"Topic42\", \"Topic42\", \"Topic42\", \"Topic42\", \"Topic42\", \"Topic42\", \"Topic42\", \"Topic42\", \"Topic42\", \"Topic42\", \"Topic42\", \"Topic42\", \"Topic42\", \"Topic42\", \"Topic42\", \"Topic42\", \"Topic42\", \"Topic42\", \"Topic42\", \"Topic42\", \"Topic42\", \"Topic42\", \"Topic42\", \"Topic42\", \"Topic43\", \"Topic43\", \"Topic43\", \"Topic43\", \"Topic43\", \"Topic43\", \"Topic43\", \"Topic43\", \"Topic43\", \"Topic43\", \"Topic43\", \"Topic43\", \"Topic43\", \"Topic43\", \"Topic43\", \"Topic43\", \"Topic43\", \"Topic43\", \"Topic43\", \"Topic43\", \"Topic43\", \"Topic43\", \"Topic43\", \"Topic43\", \"Topic43\", \"Topic43\", \"Topic43\", \"Topic43\", \"Topic43\", \"Topic43\", \"Topic43\", \"Topic43\", \"Topic43\", \"Topic43\", \"Topic43\", \"Topic43\", \"Topic43\", \"Topic43\", \"Topic43\", \"Topic43\", \"Topic43\", \"Topic43\", \"Topic43\", \"Topic43\", \"Topic43\", \"Topic43\", \"Topic43\", \"Topic43\", \"Topic43\", \"Topic43\", \"Topic44\", \"Topic44\", \"Topic44\", \"Topic44\", \"Topic44\", \"Topic44\", \"Topic44\", \"Topic44\", \"Topic44\", \"Topic44\", \"Topic44\", \"Topic44\", \"Topic44\", \"Topic44\", \"Topic44\", \"Topic44\", \"Topic44\", \"Topic44\", \"Topic44\", \"Topic44\", \"Topic44\", \"Topic44\", \"Topic44\", \"Topic44\", \"Topic44\", \"Topic44\", \"Topic44\", \"Topic44\", \"Topic44\", \"Topic44\", \"Topic44\", \"Topic44\", \"Topic44\", \"Topic44\", \"Topic44\", \"Topic44\", \"Topic44\", \"Topic44\", \"Topic44\", \"Topic44\", \"Topic44\", \"Topic44\", \"Topic44\", \"Topic44\", \"Topic44\", \"Topic44\", \"Topic44\", \"Topic44\", \"Topic44\", \"Topic44\", \"Topic44\", \"Topic44\", \"Topic45\", \"Topic45\", \"Topic45\", \"Topic45\", \"Topic45\", \"Topic45\", \"Topic45\", \"Topic45\", \"Topic45\", \"Topic45\", \"Topic45\", \"Topic45\", \"Topic45\", \"Topic45\", \"Topic45\", \"Topic45\", \"Topic45\", \"Topic45\", \"Topic45\", \"Topic45\", \"Topic45\", \"Topic45\", \"Topic45\", \"Topic45\", \"Topic45\", \"Topic45\", \"Topic45\", \"Topic45\", \"Topic45\", \"Topic45\", \"Topic45\", \"Topic45\", \"Topic45\", \"Topic45\", \"Topic45\", \"Topic45\", \"Topic45\", \"Topic45\", \"Topic45\", \"Topic45\", \"Topic45\", \"Topic45\", \"Topic45\", \"Topic45\", \"Topic45\", \"Topic45\", \"Topic45\", \"Topic45\", \"Topic45\", \"Topic45\", \"Topic45\", \"Topic45\", \"Topic45\", \"Topic46\", \"Topic46\", \"Topic46\", \"Topic46\", \"Topic46\", \"Topic46\", \"Topic46\", \"Topic46\", \"Topic46\", \"Topic46\", \"Topic46\", \"Topic46\", \"Topic46\", \"Topic46\", \"Topic46\", \"Topic46\", \"Topic46\", \"Topic46\", \"Topic46\", \"Topic46\", \"Topic46\", \"Topic46\", \"Topic46\", \"Topic46\", \"Topic46\", \"Topic46\", \"Topic46\", \"Topic46\", \"Topic46\", \"Topic46\", \"Topic46\", \"Topic46\", \"Topic46\", \"Topic46\", \"Topic46\", \"Topic46\", \"Topic46\", \"Topic46\", \"Topic46\", \"Topic46\", \"Topic46\", \"Topic46\", \"Topic46\", \"Topic46\", \"Topic46\", \"Topic46\", \"Topic46\", \"Topic46\", \"Topic46\", \"Topic47\", \"Topic47\", \"Topic47\", \"Topic47\", \"Topic47\", \"Topic47\", \"Topic47\", \"Topic47\", \"Topic47\", \"Topic47\", \"Topic47\", \"Topic47\", \"Topic47\", \"Topic47\", \"Topic47\", \"Topic47\", \"Topic47\", \"Topic47\", \"Topic47\", \"Topic47\", \"Topic47\", \"Topic47\", \"Topic47\", \"Topic47\", \"Topic47\", \"Topic47\", \"Topic47\", \"Topic47\", \"Topic47\", \"Topic47\", \"Topic47\", \"Topic47\", \"Topic47\", \"Topic47\", \"Topic47\", \"Topic47\", \"Topic47\", \"Topic47\", \"Topic47\", \"Topic47\", \"Topic47\", \"Topic47\", \"Topic47\", \"Topic47\", \"Topic47\", \"Topic47\", \"Topic47\", \"Topic47\", \"Topic47\", \"Topic47\", \"Topic47\", \"Topic47\", \"Topic47\", \"Topic48\", \"Topic48\", \"Topic48\", \"Topic48\", \"Topic48\", \"Topic48\", \"Topic48\", \"Topic48\", \"Topic48\", \"Topic48\", \"Topic48\", \"Topic48\", \"Topic48\", \"Topic48\", \"Topic48\", \"Topic48\", \"Topic48\", \"Topic48\", \"Topic48\", \"Topic48\", \"Topic48\", \"Topic48\", \"Topic48\", \"Topic48\", \"Topic48\", \"Topic48\", \"Topic48\", \"Topic48\", \"Topic48\", \"Topic48\", \"Topic48\", \"Topic48\", \"Topic48\", \"Topic48\", \"Topic48\", \"Topic48\", \"Topic48\", \"Topic48\", \"Topic48\", \"Topic48\", \"Topic48\", \"Topic48\", \"Topic48\", \"Topic48\", \"Topic48\", \"Topic48\", \"Topic48\", \"Topic48\", \"Topic48\", \"Topic48\", \"Topic48\", \"Topic49\", \"Topic49\", \"Topic49\", \"Topic49\", \"Topic49\", \"Topic49\", \"Topic49\", \"Topic49\", \"Topic49\", \"Topic49\", \"Topic49\", \"Topic49\", \"Topic49\", \"Topic49\", \"Topic49\", \"Topic49\", \"Topic49\", \"Topic49\", \"Topic49\", \"Topic49\", \"Topic49\", \"Topic49\", \"Topic49\", \"Topic49\", \"Topic49\", \"Topic49\", \"Topic49\", \"Topic49\", \"Topic49\", \"Topic49\", \"Topic49\", \"Topic49\", \"Topic49\", \"Topic49\", \"Topic49\", \"Topic49\", \"Topic49\", \"Topic49\", \"Topic49\", \"Topic49\", \"Topic49\", \"Topic49\", \"Topic49\", \"Topic49\", \"Topic49\", \"Topic49\", \"Topic49\", \"Topic49\", \"Topic49\", \"Topic49\", \"Topic49\", \"Topic49\", \"Topic49\", \"Topic49\", \"Topic49\", \"Topic49\", \"Topic50\", \"Topic50\", \"Topic50\", \"Topic50\", \"Topic50\", \"Topic50\", \"Topic50\", \"Topic50\", \"Topic50\", \"Topic50\", \"Topic50\", \"Topic50\", \"Topic50\", \"Topic50\", \"Topic50\", \"Topic50\", \"Topic50\", \"Topic50\", \"Topic50\", \"Topic50\", \"Topic50\", \"Topic50\", \"Topic50\", \"Topic50\", \"Topic50\", \"Topic50\", \"Topic50\", \"Topic50\", \"Topic50\", \"Topic50\", \"Topic50\", \"Topic50\", \"Topic50\", \"Topic50\", \"Topic50\", \"Topic50\", \"Topic50\", \"Topic50\", \"Topic50\", \"Topic50\", \"Topic50\", \"Topic50\", \"Topic50\", \"Topic50\", \"Topic50\", \"Topic50\", \"Topic50\", \"Topic50\", \"Topic50\", \"Topic50\", \"Topic50\", \"Topic50\", \"Topic50\", \"Topic50\", \"Topic50\", \"Topic50\", \"Topic50\", \"Topic50\", \"Topic51\", \"Topic51\", \"Topic51\", \"Topic51\", \"Topic51\", \"Topic51\", \"Topic51\", \"Topic51\", \"Topic51\", \"Topic51\", \"Topic51\", \"Topic51\", \"Topic51\", \"Topic51\", \"Topic51\", \"Topic51\", \"Topic51\", \"Topic51\", \"Topic51\", \"Topic51\", \"Topic51\", \"Topic51\", \"Topic51\", \"Topic51\", \"Topic51\", \"Topic51\", \"Topic51\", \"Topic51\", \"Topic51\", \"Topic51\", \"Topic51\", \"Topic51\", \"Topic51\", \"Topic51\", \"Topic51\", \"Topic51\", \"Topic51\", \"Topic51\", \"Topic51\", \"Topic51\", \"Topic51\", \"Topic51\", \"Topic51\", \"Topic51\", \"Topic51\", \"Topic51\", \"Topic51\", \"Topic51\", \"Topic51\", \"Topic51\", \"Topic51\", \"Topic51\", \"Topic51\", \"Topic51\", \"Topic51\", \"Topic52\", \"Topic52\", \"Topic52\", \"Topic52\", \"Topic52\", \"Topic52\", \"Topic52\", \"Topic52\", \"Topic52\", \"Topic52\", \"Topic52\", \"Topic52\", \"Topic52\", \"Topic52\", \"Topic52\", \"Topic52\", \"Topic52\", \"Topic52\", \"Topic52\", \"Topic52\", \"Topic52\", \"Topic52\", \"Topic52\", \"Topic52\", \"Topic52\", \"Topic52\", \"Topic52\", \"Topic52\", \"Topic52\", \"Topic52\", \"Topic52\", \"Topic52\", \"Topic52\", \"Topic52\", \"Topic52\", \"Topic52\", \"Topic52\", \"Topic52\", \"Topic52\", \"Topic52\", \"Topic52\", \"Topic52\", \"Topic52\", \"Topic52\", \"Topic52\", \"Topic52\", \"Topic52\", \"Topic52\", \"Topic52\", \"Topic52\", \"Topic52\", \"Topic52\", \"Topic52\", \"Topic53\", \"Topic53\", \"Topic53\", \"Topic53\", \"Topic53\", \"Topic53\", \"Topic53\", \"Topic53\", \"Topic53\", \"Topic53\", \"Topic53\", \"Topic53\", \"Topic53\", \"Topic53\", \"Topic53\", \"Topic53\", \"Topic53\", \"Topic53\", \"Topic53\", \"Topic53\", \"Topic53\", \"Topic53\", \"Topic53\", \"Topic53\", \"Topic53\", \"Topic53\", \"Topic53\", \"Topic53\", \"Topic53\", \"Topic53\", \"Topic53\", \"Topic53\", \"Topic53\", \"Topic53\", \"Topic53\", \"Topic53\", \"Topic53\", \"Topic53\", \"Topic53\", \"Topic53\", \"Topic53\", \"Topic53\", \"Topic53\", \"Topic53\", \"Topic53\", \"Topic53\", \"Topic53\", \"Topic53\", \"Topic53\", \"Topic53\", \"Topic53\", \"Topic53\", \"Topic53\", \"Topic53\", \"Topic53\", \"Topic54\", \"Topic54\", \"Topic54\", \"Topic54\", \"Topic54\", \"Topic54\", \"Topic54\", \"Topic54\", \"Topic54\", \"Topic54\", \"Topic54\", \"Topic54\", \"Topic54\", \"Topic54\", \"Topic54\", \"Topic54\", \"Topic54\", \"Topic54\", \"Topic54\", \"Topic54\", \"Topic54\", \"Topic54\", \"Topic54\", \"Topic54\", \"Topic54\", \"Topic54\", \"Topic54\", \"Topic54\", \"Topic54\", \"Topic54\", \"Topic54\", \"Topic54\", \"Topic54\", \"Topic54\", \"Topic54\", \"Topic54\", \"Topic54\", \"Topic54\", \"Topic54\", \"Topic54\", \"Topic54\", \"Topic54\", \"Topic54\", \"Topic54\", \"Topic54\", \"Topic54\", \"Topic54\", \"Topic54\", \"Topic54\", \"Topic54\", \"Topic54\", \"Topic54\", \"Topic54\", \"Topic55\", \"Topic55\", \"Topic55\", \"Topic55\", \"Topic55\", \"Topic55\", \"Topic55\", \"Topic55\", \"Topic55\", \"Topic55\", \"Topic55\", \"Topic55\", \"Topic55\", \"Topic55\", \"Topic55\", \"Topic55\", \"Topic55\", \"Topic55\", \"Topic55\", \"Topic55\", \"Topic55\", \"Topic55\", \"Topic55\", \"Topic55\", \"Topic55\", \"Topic55\", \"Topic55\", \"Topic55\", \"Topic55\", \"Topic55\", \"Topic55\", \"Topic55\", \"Topic55\", \"Topic55\", \"Topic55\", \"Topic55\", \"Topic55\", \"Topic55\", \"Topic55\", \"Topic55\", \"Topic55\", \"Topic55\", \"Topic55\", \"Topic55\", \"Topic55\", \"Topic55\", \"Topic55\", \"Topic55\", \"Topic55\", \"Topic55\", \"Topic55\", \"Topic55\", \"Topic55\", \"Topic55\", \"Topic55\", \"Topic56\", \"Topic56\", \"Topic56\", \"Topic56\", \"Topic56\", \"Topic56\", \"Topic56\", \"Topic56\", \"Topic56\", \"Topic56\", \"Topic56\", \"Topic56\", \"Topic56\", \"Topic56\", \"Topic56\", \"Topic56\", \"Topic56\", \"Topic56\", \"Topic56\", \"Topic56\", \"Topic56\", \"Topic56\", \"Topic56\", \"Topic56\", \"Topic56\", \"Topic56\", \"Topic56\", \"Topic56\", \"Topic56\", \"Topic56\", \"Topic56\", \"Topic56\", \"Topic56\", \"Topic56\", \"Topic56\", \"Topic56\", \"Topic56\", \"Topic56\", \"Topic56\", \"Topic56\", \"Topic56\", \"Topic56\", \"Topic56\", \"Topic56\", \"Topic56\", \"Topic56\", \"Topic56\", \"Topic56\", \"Topic56\", \"Topic56\", \"Topic56\", \"Topic56\", \"Topic57\", \"Topic57\", \"Topic57\", \"Topic57\", \"Topic57\", \"Topic57\", \"Topic57\", \"Topic57\", \"Topic57\", \"Topic57\", \"Topic57\", \"Topic57\", \"Topic57\", \"Topic57\", \"Topic57\", \"Topic57\", \"Topic57\", \"Topic57\", \"Topic57\", \"Topic57\", \"Topic57\", \"Topic57\", \"Topic57\", \"Topic57\", \"Topic57\", \"Topic57\", \"Topic57\", \"Topic57\", \"Topic57\", \"Topic57\", \"Topic57\", \"Topic57\", \"Topic57\", \"Topic57\", \"Topic57\", \"Topic57\", \"Topic57\", \"Topic57\", \"Topic57\", \"Topic57\", \"Topic57\", \"Topic57\", \"Topic57\", \"Topic57\", \"Topic57\", \"Topic57\", \"Topic57\", \"Topic57\", \"Topic57\", \"Topic57\", \"Topic57\", \"Topic57\", \"Topic57\", \"Topic57\", \"Topic57\", \"Topic58\", \"Topic58\", \"Topic58\", \"Topic58\", \"Topic58\", \"Topic58\", \"Topic58\", \"Topic58\", \"Topic58\", \"Topic58\", \"Topic58\", \"Topic58\", \"Topic58\", \"Topic58\", \"Topic58\", \"Topic58\", \"Topic58\", \"Topic58\", \"Topic58\", \"Topic58\", \"Topic58\", \"Topic58\", \"Topic58\", \"Topic58\", \"Topic58\", \"Topic58\", \"Topic58\", \"Topic58\", \"Topic58\", \"Topic58\", \"Topic58\", \"Topic58\", \"Topic58\", \"Topic58\", \"Topic58\", \"Topic58\", \"Topic58\", \"Topic58\", \"Topic58\", \"Topic58\", \"Topic58\", \"Topic58\", \"Topic58\", \"Topic58\", \"Topic58\", \"Topic58\", \"Topic58\", \"Topic58\", \"Topic58\", \"Topic58\", \"Topic58\", \"Topic58\", \"Topic58\", \"Topic58\", \"Topic58\", \"Topic58\", \"Topic58\", \"Topic58\", \"Topic59\", \"Topic59\", \"Topic59\", \"Topic59\", \"Topic59\", \"Topic59\", \"Topic59\", \"Topic59\", \"Topic59\", \"Topic59\", \"Topic59\", \"Topic59\", \"Topic59\", \"Topic59\", \"Topic59\", \"Topic59\", \"Topic59\", \"Topic59\", \"Topic59\", \"Topic59\", \"Topic59\", \"Topic59\", \"Topic59\", \"Topic59\", \"Topic59\", \"Topic59\", \"Topic59\", \"Topic59\", \"Topic59\", \"Topic59\", \"Topic59\", \"Topic59\", \"Topic59\", \"Topic59\", \"Topic59\", \"Topic59\", \"Topic59\", \"Topic59\", \"Topic59\", \"Topic59\", \"Topic59\", \"Topic59\", \"Topic59\", \"Topic59\", \"Topic59\", \"Topic59\", \"Topic59\", \"Topic59\", \"Topic59\", \"Topic59\", \"Topic59\", \"Topic59\", \"Topic59\", \"Topic59\", \"Topic59\", \"Topic59\", \"Topic59\", \"Topic59\", \"Topic60\", \"Topic60\", \"Topic60\", \"Topic60\", \"Topic60\", \"Topic60\", \"Topic60\", \"Topic60\", \"Topic60\", \"Topic60\", \"Topic60\", \"Topic60\", \"Topic60\", \"Topic60\", \"Topic60\", \"Topic60\", \"Topic60\", \"Topic60\", \"Topic60\", \"Topic60\", \"Topic60\", \"Topic60\", \"Topic60\", \"Topic60\", \"Topic60\", \"Topic60\", \"Topic60\", \"Topic60\", \"Topic60\", \"Topic60\", \"Topic60\", \"Topic60\", \"Topic60\", \"Topic60\", \"Topic60\", \"Topic60\", \"Topic60\", \"Topic60\", \"Topic60\", \"Topic60\", \"Topic60\", \"Topic60\", \"Topic60\", \"Topic60\", \"Topic60\", \"Topic60\", \"Topic60\", \"Topic60\", \"Topic60\", \"Topic60\", \"Topic60\", \"Topic60\", \"Topic60\", \"Topic60\", \"Topic60\", \"Topic60\", \"Topic60\", \"Topic61\", \"Topic61\", \"Topic61\", \"Topic61\", \"Topic61\", \"Topic61\", \"Topic61\", \"Topic61\", \"Topic61\", \"Topic61\", \"Topic61\", \"Topic61\", \"Topic61\", \"Topic61\", \"Topic61\", \"Topic61\", \"Topic61\", \"Topic61\", \"Topic61\", \"Topic61\", \"Topic61\", \"Topic61\", \"Topic61\", \"Topic61\", \"Topic61\", \"Topic61\", \"Topic61\", \"Topic61\", \"Topic61\", \"Topic61\", \"Topic61\", \"Topic61\", \"Topic61\", \"Topic61\", \"Topic61\", \"Topic61\", \"Topic61\", \"Topic61\", \"Topic61\", \"Topic61\", \"Topic61\", \"Topic61\", \"Topic61\", \"Topic61\", \"Topic61\", \"Topic61\", \"Topic61\", \"Topic61\", \"Topic61\", \"Topic61\", \"Topic61\", \"Topic61\", \"Topic61\", \"Topic61\", \"Topic61\", \"Topic61\", \"Topic61\", \"Topic61\", \"Topic62\", \"Topic62\", \"Topic62\", \"Topic62\", \"Topic62\", \"Topic62\", \"Topic62\", \"Topic62\", \"Topic62\", \"Topic62\", \"Topic62\", \"Topic62\", \"Topic62\", \"Topic62\", \"Topic62\", \"Topic62\", \"Topic62\", \"Topic62\", \"Topic62\", \"Topic62\", \"Topic62\", \"Topic62\", \"Topic62\", \"Topic62\", \"Topic62\", \"Topic62\", \"Topic62\", \"Topic62\", \"Topic62\", \"Topic62\", \"Topic62\", \"Topic62\", \"Topic62\", \"Topic62\", \"Topic62\", \"Topic62\", \"Topic62\", \"Topic62\", \"Topic62\", \"Topic62\", \"Topic62\", \"Topic62\", \"Topic62\", \"Topic62\", \"Topic62\", \"Topic62\", \"Topic62\", \"Topic62\", \"Topic62\", \"Topic62\", \"Topic62\", \"Topic62\", \"Topic62\", \"Topic62\", \"Topic62\", \"Topic62\", \"Topic62\", \"Topic62\", \"Topic63\", \"Topic63\", \"Topic63\", \"Topic63\", \"Topic63\", \"Topic63\", \"Topic63\", \"Topic63\", \"Topic63\", \"Topic63\", \"Topic63\", \"Topic63\", \"Topic63\", \"Topic63\", \"Topic63\", \"Topic63\", \"Topic63\", \"Topic63\", \"Topic63\", \"Topic63\", \"Topic63\", \"Topic63\", \"Topic63\", \"Topic63\", \"Topic63\", \"Topic63\", \"Topic63\", \"Topic63\", \"Topic63\", \"Topic63\", \"Topic63\", \"Topic63\", \"Topic63\", \"Topic63\", \"Topic63\", \"Topic63\", \"Topic63\", \"Topic63\", \"Topic63\", \"Topic63\", \"Topic63\", \"Topic63\", \"Topic63\", \"Topic63\", \"Topic63\", \"Topic63\", \"Topic63\", \"Topic63\", \"Topic63\", \"Topic63\", \"Topic63\", \"Topic63\", \"Topic63\", \"Topic63\", \"Topic63\", \"Topic63\", \"Topic63\", \"Topic63\", \"Topic64\", \"Topic64\", \"Topic64\", \"Topic64\", \"Topic64\", \"Topic64\", \"Topic64\", \"Topic64\", \"Topic64\", \"Topic64\", \"Topic64\", \"Topic64\", \"Topic64\", \"Topic64\", \"Topic64\", \"Topic64\", \"Topic64\", \"Topic64\", \"Topic64\", \"Topic64\", \"Topic64\", \"Topic64\", \"Topic64\", \"Topic64\", \"Topic64\", \"Topic64\", \"Topic64\", \"Topic64\", \"Topic64\", \"Topic64\", \"Topic64\", \"Topic64\", \"Topic64\", \"Topic64\", \"Topic64\", \"Topic64\", \"Topic64\", \"Topic64\", \"Topic64\", \"Topic64\", \"Topic64\", \"Topic64\", \"Topic64\", \"Topic64\", \"Topic64\", \"Topic64\", \"Topic64\", \"Topic64\", \"Topic64\", \"Topic64\", \"Topic64\", \"Topic64\", \"Topic64\", \"Topic64\", \"Topic64\", \"Topic64\", \"Topic64\", \"Topic64\", \"Topic65\", \"Topic65\", \"Topic65\", \"Topic65\", \"Topic65\", \"Topic65\", \"Topic65\", \"Topic65\", \"Topic65\", \"Topic65\", \"Topic65\", \"Topic65\", \"Topic65\", \"Topic65\", \"Topic65\", \"Topic65\", \"Topic65\", \"Topic65\", \"Topic65\", \"Topic65\", \"Topic65\", \"Topic65\", \"Topic65\", \"Topic65\", \"Topic65\", \"Topic65\", \"Topic65\", \"Topic65\", \"Topic65\", \"Topic65\", \"Topic65\", \"Topic65\", \"Topic65\", \"Topic65\", \"Topic65\", \"Topic65\", \"Topic65\", \"Topic65\", \"Topic65\", \"Topic65\", \"Topic65\", \"Topic65\", \"Topic65\", \"Topic65\", \"Topic65\", \"Topic65\", \"Topic65\", \"Topic65\", \"Topic65\", \"Topic65\", \"Topic65\", \"Topic65\", \"Topic65\", \"Topic65\", \"Topic65\", \"Topic65\", \"Topic65\", \"Topic65\", \"Topic65\", \"Topic65\", \"Topic66\", \"Topic66\", \"Topic66\", \"Topic66\", \"Topic66\", \"Topic66\", \"Topic66\", \"Topic66\", \"Topic66\", \"Topic66\", \"Topic66\", \"Topic66\", \"Topic66\", \"Topic66\", \"Topic66\", \"Topic66\", \"Topic66\", \"Topic66\", \"Topic66\", \"Topic66\", \"Topic66\", \"Topic66\", \"Topic66\", \"Topic66\", \"Topic66\", \"Topic66\", \"Topic66\", \"Topic66\", \"Topic66\", \"Topic66\", \"Topic66\", \"Topic66\", \"Topic66\", \"Topic66\", \"Topic66\", \"Topic66\", \"Topic66\", \"Topic66\", \"Topic66\", \"Topic66\", \"Topic66\", \"Topic66\", \"Topic66\", \"Topic66\", \"Topic66\", \"Topic66\", \"Topic66\", \"Topic66\", \"Topic66\", \"Topic66\", \"Topic66\", \"Topic66\", \"Topic66\", \"Topic66\", \"Topic66\", \"Topic66\", \"Topic66\", \"Topic66\", \"Topic66\", \"Topic66\", \"Topic67\", \"Topic67\", \"Topic67\", \"Topic67\", \"Topic67\", \"Topic67\", \"Topic67\", \"Topic67\", \"Topic67\", \"Topic67\", \"Topic67\", \"Topic67\", \"Topic67\", \"Topic67\", \"Topic67\", \"Topic67\", \"Topic67\", \"Topic67\", \"Topic67\", \"Topic67\", \"Topic67\", \"Topic67\", \"Topic67\", \"Topic67\", \"Topic67\", \"Topic67\", \"Topic67\", \"Topic67\", \"Topic67\", \"Topic67\", \"Topic67\", \"Topic67\", \"Topic67\", \"Topic67\", \"Topic67\", \"Topic67\", \"Topic67\", \"Topic67\", \"Topic67\", \"Topic67\", \"Topic67\", \"Topic67\", \"Topic67\", \"Topic67\", \"Topic67\", \"Topic67\", \"Topic67\", \"Topic67\", \"Topic67\", \"Topic67\", \"Topic67\", \"Topic67\", \"Topic67\", \"Topic67\", \"Topic67\", \"Topic67\", \"Topic67\", \"Topic67\", \"Topic67\", \"Topic67\", \"Topic68\", \"Topic68\", \"Topic68\", \"Topic68\", \"Topic68\", \"Topic68\", \"Topic68\", \"Topic68\", \"Topic68\", \"Topic68\", \"Topic68\", \"Topic68\", \"Topic68\", \"Topic68\", \"Topic68\", \"Topic68\", \"Topic68\", \"Topic68\", \"Topic68\", \"Topic68\", \"Topic68\", \"Topic68\", \"Topic68\", \"Topic68\", \"Topic68\", \"Topic68\", \"Topic68\", \"Topic68\", \"Topic68\", \"Topic68\", \"Topic68\", \"Topic68\", \"Topic68\", \"Topic68\", \"Topic68\", \"Topic68\", \"Topic68\", \"Topic68\", \"Topic68\", \"Topic68\", \"Topic68\", \"Topic68\", \"Topic68\", \"Topic68\", \"Topic68\", \"Topic68\", \"Topic68\", \"Topic68\", \"Topic68\", \"Topic68\", \"Topic68\", \"Topic68\", \"Topic68\", \"Topic68\", \"Topic68\", \"Topic68\", \"Topic68\", \"Topic68\", \"Topic68\", \"Topic68\", \"Topic69\", \"Topic69\", \"Topic69\", \"Topic69\", \"Topic69\", \"Topic69\", \"Topic69\", \"Topic69\", \"Topic69\", \"Topic69\", \"Topic69\", \"Topic69\", \"Topic69\", \"Topic69\", \"Topic69\", \"Topic69\", \"Topic69\", \"Topic69\", \"Topic69\", \"Topic69\", \"Topic69\", \"Topic69\", \"Topic69\", \"Topic69\", \"Topic69\", \"Topic69\", \"Topic69\", \"Topic69\", \"Topic69\", \"Topic69\", \"Topic69\", \"Topic69\", \"Topic69\", \"Topic69\", \"Topic69\", \"Topic69\", \"Topic69\", \"Topic69\", \"Topic69\", \"Topic69\", \"Topic69\", \"Topic69\", \"Topic69\", \"Topic69\", \"Topic69\", \"Topic69\", \"Topic69\", \"Topic69\", \"Topic69\", \"Topic69\", \"Topic69\", \"Topic69\", \"Topic69\", \"Topic69\", \"Topic69\", \"Topic69\", \"Topic69\", \"Topic69\", \"Topic69\", \"Topic69\", \"Topic70\", \"Topic70\", \"Topic70\", \"Topic70\", \"Topic70\", \"Topic70\", \"Topic70\", \"Topic70\", \"Topic70\", \"Topic70\", \"Topic70\", \"Topic70\", \"Topic70\", \"Topic70\", \"Topic70\", \"Topic70\", \"Topic70\", \"Topic70\", \"Topic70\", \"Topic70\", \"Topic70\", \"Topic70\", \"Topic70\", \"Topic70\", \"Topic70\", \"Topic70\", \"Topic70\", \"Topic70\", \"Topic70\", \"Topic70\", \"Topic70\", \"Topic70\", \"Topic70\", \"Topic70\", \"Topic70\", \"Topic70\", \"Topic70\", \"Topic70\", \"Topic70\", \"Topic70\", \"Topic70\", \"Topic70\", \"Topic70\", \"Topic70\", \"Topic70\", \"Topic70\", \"Topic70\", \"Topic70\", \"Topic70\", \"Topic70\", \"Topic70\", \"Topic70\", \"Topic70\", \"Topic70\", \"Topic70\", \"Topic70\", \"Topic70\", \"Topic70\", \"Topic70\", \"Topic70\", \"Topic71\", \"Topic71\", \"Topic71\", \"Topic71\", \"Topic71\", \"Topic71\", \"Topic71\", \"Topic71\", \"Topic71\", \"Topic71\", \"Topic71\", \"Topic71\", \"Topic71\", \"Topic71\", \"Topic71\", \"Topic71\", \"Topic71\", \"Topic71\", \"Topic71\", \"Topic71\", \"Topic71\", \"Topic71\", \"Topic71\", \"Topic71\", \"Topic71\", \"Topic71\", \"Topic71\", \"Topic71\", \"Topic71\", \"Topic71\", \"Topic71\", \"Topic71\", \"Topic71\", \"Topic71\", \"Topic71\", \"Topic71\", \"Topic71\", \"Topic71\", \"Topic71\", \"Topic71\", \"Topic71\", \"Topic71\", \"Topic71\", \"Topic71\", \"Topic71\", \"Topic71\", \"Topic71\", \"Topic71\", \"Topic71\", \"Topic71\", \"Topic71\", \"Topic71\", \"Topic71\", \"Topic71\", \"Topic71\", \"Topic71\", \"Topic71\", \"Topic71\", \"Topic71\", \"Topic71\", \"Topic72\", \"Topic72\", \"Topic72\", \"Topic72\", \"Topic72\", \"Topic72\", \"Topic72\", \"Topic72\", \"Topic72\", \"Topic72\", \"Topic72\", \"Topic72\", \"Topic72\", \"Topic72\", \"Topic72\", \"Topic72\", \"Topic72\", \"Topic72\", \"Topic72\", \"Topic72\", \"Topic72\", \"Topic72\", \"Topic72\", \"Topic72\", \"Topic72\", \"Topic72\", \"Topic72\", \"Topic72\", \"Topic72\", \"Topic72\", \"Topic72\", \"Topic72\", \"Topic72\", \"Topic72\", \"Topic72\", \"Topic72\", \"Topic72\", \"Topic72\", \"Topic72\", \"Topic72\", \"Topic72\", \"Topic72\", \"Topic72\", \"Topic72\", \"Topic72\", \"Topic72\", \"Topic72\", \"Topic72\", \"Topic72\", \"Topic72\", \"Topic72\", \"Topic72\", \"Topic72\", \"Topic72\", \"Topic72\", \"Topic72\", \"Topic72\", \"Topic72\", \"Topic72\", \"Topic72\", \"Topic73\", \"Topic73\", \"Topic73\", \"Topic73\", \"Topic73\", \"Topic73\", \"Topic73\", \"Topic73\", \"Topic73\", \"Topic73\", \"Topic73\", \"Topic73\", \"Topic73\", \"Topic73\", \"Topic73\", \"Topic73\", \"Topic73\", \"Topic73\", \"Topic73\", \"Topic73\", \"Topic73\", \"Topic73\", \"Topic73\", \"Topic73\", \"Topic73\", \"Topic73\", \"Topic73\", \"Topic73\", \"Topic73\", \"Topic73\", \"Topic73\", \"Topic73\", \"Topic73\", \"Topic73\", \"Topic73\", \"Topic73\", \"Topic73\", \"Topic73\", \"Topic73\", \"Topic73\", \"Topic73\", \"Topic73\", \"Topic73\", \"Topic73\", \"Topic73\", \"Topic73\", \"Topic73\", \"Topic73\", \"Topic73\", \"Topic73\", \"Topic73\", \"Topic73\", \"Topic73\", \"Topic73\", \"Topic73\", \"Topic73\", \"Topic73\", \"Topic73\", \"Topic73\", \"Topic73\", \"Topic74\", \"Topic74\", \"Topic74\", \"Topic74\", \"Topic74\", \"Topic74\", \"Topic74\", \"Topic74\", \"Topic74\", \"Topic74\", \"Topic74\", \"Topic74\", \"Topic74\", \"Topic74\", \"Topic74\", \"Topic74\", \"Topic74\", \"Topic74\", \"Topic74\", \"Topic74\", \"Topic74\", \"Topic74\", \"Topic74\", \"Topic74\", \"Topic74\", \"Topic74\", \"Topic74\", \"Topic74\", \"Topic74\", \"Topic74\", \"Topic74\", \"Topic74\", \"Topic74\", \"Topic74\", \"Topic74\", \"Topic74\", \"Topic74\", \"Topic74\", \"Topic74\", \"Topic74\", \"Topic74\", \"Topic74\", \"Topic74\", \"Topic74\", \"Topic74\", \"Topic74\", \"Topic74\", \"Topic74\", \"Topic74\", \"Topic74\", \"Topic74\", \"Topic74\", \"Topic74\", \"Topic74\", \"Topic74\", \"Topic74\", \"Topic74\", \"Topic74\", \"Topic74\", \"Topic74\", \"Topic75\", \"Topic75\", \"Topic75\", \"Topic75\", \"Topic75\", \"Topic75\", \"Topic75\", \"Topic75\", \"Topic75\", \"Topic75\", \"Topic75\", \"Topic75\", \"Topic75\", \"Topic75\", \"Topic75\", \"Topic75\", \"Topic75\", \"Topic75\", \"Topic75\", \"Topic75\", \"Topic75\", \"Topic75\", \"Topic75\", \"Topic75\", \"Topic75\", \"Topic75\", \"Topic75\", \"Topic75\", \"Topic75\", \"Topic75\", \"Topic75\", \"Topic75\", \"Topic75\", \"Topic75\", \"Topic75\", \"Topic75\", \"Topic75\", \"Topic75\", \"Topic75\", \"Topic75\", \"Topic75\", \"Topic75\", \"Topic75\", \"Topic75\", \"Topic75\", \"Topic75\", \"Topic75\", \"Topic75\", \"Topic75\", \"Topic75\", \"Topic75\", \"Topic75\", \"Topic75\", \"Topic75\", \"Topic75\", \"Topic75\", \"Topic75\", \"Topic75\", \"Topic75\", \"Topic75\"], \"Freq\": [527.0, 483.0, 565.0, 461.0, 760.0, 466.0, 373.0, 405.0, 268.0, 420.0, 469.0, 745.0, 507.0, 247.0, 231.0, 549.0, 303.0, 380.0, 322.0, 213.0, 504.0, 349.0, 203.0, 335.0, 353.0, 461.0, 587.0, 191.0, 193.0, 357.0, 374.882346910918, 351.1450691041194, 349.0467970988444, 276.2443463269098, 665.073645776394, 229.07510323863025, 180.12461783086877, 179.64680533431311, 161.3760942498463, 150.18650426477743, 212.72139784015104, 148.53664913587386, 142.89190834046667, 139.06355294846546, 138.65232828052095, 138.31648187096, 134.86319529324976, 853.8120752024087, 133.01702829047687, 132.671639320089, 130.8669108958712, 129.43906220540308, 128.07952884970658, 126.90520068152962, 124.0380164234335, 122.46676401343022, 121.99093492987755, 121.56839224276665, 116.20715694680989, 112.68835896919802, 331.97340910156214, 234.55425847380593, 411.65992714498503, 380.3802749070891, 387.8566565811487, 235.50298053023246, 344.87784809274166, 288.76548144739064, 331.7344300524423, 384.4580791418435, 550.3777325177115, 419.5560315370262, 322.2992011911808, 482.992766531479, 300.6863583420344, 329.6256138103903, 331.26389190970866, 780.1656849373135, 262.52550810822373, 419.52182631555496, 535.8631137960483, 356.15728423831627, 317.8017211957032, 337.652897083148, 387.6803346765202, 285.2944540999127, 536.3178554772846, 355.63303997393047, 575.8386141928227, 456.81446480221155, 419.02759070592754, 398.0140122982936, 359.1987328511432, 385.12943337826965, 366.17303321679, 398.0166646555087, 379.4076291158348, 394.41033485262795, 172.42340083904907, 140.70610347121607, 119.38163165126646, 115.0141960109598, 88.69638450931241, 84.9949780275403, 71.25988651455779, 70.77620329535222, 70.04116870178497, 66.05745379470835, 64.17965648528666, 63.072058671388525, 62.95217880214775, 57.96202426875324, 55.89779840009733, 55.604006145461085, 53.26741984061569, 51.24178258336042, 51.20357791587232, 45.38654250495939, 44.286614753195835, 40.61023406347241, 40.40651439684981, 75.90639253400558, 39.52486923423807, 38.38185996816116, 38.33590962627025, 37.4834561458956, 36.949115056399066, 36.47537455289925, 547.955807506763, 203.92918091246045, 96.53415178571908, 142.87326685830047, 197.08285672835532, 77.14440643142817, 287.6724701987579, 112.04008147691019, 160.08176790970035, 83.04146334681643, 187.7573163272164, 71.82884245488307, 170.73379847226158, 112.89994581567719, 246.52664351658532, 177.39739280008456, 135.65561327056065, 187.9952843916423, 279.58778028453764, 192.29586259637205, 127.65221137864118, 156.77339213660366, 144.62536351266002, 166.97926855311388, 114.16625602989677, 116.89814901543792, 119.53389858581433, 140.2445910306297, 108.04905024466059, 128.19797356148862, 115.34637460161112, 63.57423932773665, 56.69884611961029, 50.55361577138703, 45.07045310707175, 44.72714009036073, 44.13171228962357, 42.22621010939826, 41.27351931710138, 38.42792758061347, 34.914742570874495, 33.76725226002635, 33.07115587861051, 32.869074931397, 32.41337832483088, 31.749733843313255, 31.366871447751667, 30.3344044442335, 30.26561556850246, 29.810073172075285, 29.45205028782514, 28.664079391993166, 27.726665024526145, 27.392725606716912, 26.87307108088505, 26.030888224643974, 25.882280009517917, 25.70679490100026, 25.29069228347204, 24.702498152047372, 24.016469954273834, 233.02977885782792, 36.034317964055134, 50.265144632076435, 57.959270404149386, 134.84220018532938, 45.80186771142808, 236.53652125035234, 30.46306831103438, 38.98371137021239, 104.35042923626483, 34.64582267977364, 71.82174258463175, 36.285930069250064, 93.54715426669064, 53.54522442794794, 46.008445224149376, 43.08312459803326, 49.62671793543638, 37.11077549990674, 42.88821268183988, 40.3297732942916, 90.3956877843967, 59.95368750925087, 57.37189894540519, 45.736300182006936, 132.30190503364193, 76.38903847965834, 43.05952596017659, 42.55542005155318, 40.63136359632835, 39.67056956904933, 37.910121082951534, 37.753493834147505, 35.64505646010236, 35.08502606227357, 34.70305122754719, 34.53846445662552, 33.631945367607884, 32.813830199221606, 30.346517440416978, 29.729838851007322, 28.762722337157957, 27.859948366993624, 25.48583995022212, 25.228857510848687, 24.45573814088013, 24.351993133061455, 23.987769320326407, 23.617238701853037, 23.25298931594249, 22.58310735621269, 131.07301566167467, 217.6219739636022, 59.087830824172826, 48.92474519594727, 54.978572686752734, 60.90092893718602, 32.32964395774052, 40.14347453650851, 63.869015732128, 40.98358248797749, 37.97936896573672, 42.476161970212125, 40.69970901538418, 43.97348692255824, 35.64740624830754, 59.242966921759006, 58.59540244065159, 44.966927663747605, 29.577552906146842, 28.68905752981639, 27.727190865542717, 27.156294040793853, 26.495918917270142, 26.222132384366567, 25.240300808726264, 25.240081684058218, 24.659680593600175, 22.779287621039106, 21.173319169337237, 19.90268296186154, 19.88932708727308, 19.654757789116214, 19.65215468355398, 18.62414322520933, 18.514058071332048, 18.361037241620792, 18.255660577012875, 18.08041148740207, 17.55056324818534, 15.79512758800633, 15.7600897597847, 15.747439726845556, 15.65911856407819, 15.653564059074734, 25.350781332744564, 137.6292228093874, 40.2272765980724, 71.42191712614968, 37.5325363036775, 47.52360501098001, 93.17387032292476, 86.9906412833146, 32.382678772871465, 43.49691395985003, 30.703547901438817, 82.4377350842057, 31.722847170501975, 87.05839771192053, 72.6435719440922, 30.434496446739917, 63.262122764266074, 112.54348294136885, 63.73394740892828, 56.79810670618623, 50.677398432901654, 38.66032270640468, 46.57376149190482, 40.38539553052547, 35.890030683405726, 32.417413763778384, 28.737423319669436, 36.03513653257227, 28.76074447159288, 26.37339624988662, 20.406896705945723, 18.72137240282121, 18.459478528597977, 58.39959695145627, 17.0325002000991, 16.13239148704235, 15.859738545741708, 15.677822403914625, 14.906897888024682, 13.519361796487095, 13.466402742509656, 13.433311115652646, 44.21752396586115, 12.979311464038965, 12.633676219231095, 123.11507520183903, 12.00206919696309, 69.29727912660681, 10.636333613840847, 10.553316510416778, 10.295716483625927, 256.345340279764, 10.068996708497592, 9.87248662871573, 9.461907653967721, 9.459453218269646, 9.328785493428121, 28.940029336830456, 37.32577942603581, 150.60064905943287, 25.486920963614796, 73.0653929474972, 121.49971363267844, 32.3690288336862, 25.45150818937123, 143.5458984340689, 40.666088361283165, 27.35917809138221, 65.98918327470722, 65.24200471922377, 36.11699296582562, 36.51791540743326, 53.265522444392694, 25.17632250431889, 52.88148847750655, 93.52763442406129, 42.62006109925513, 66.54601627815154, 45.93370773056978, 31.521282538249345, 35.2796791462431, 37.1839084342816, 31.466433637380092, 34.948744984691906, 29.265625446328492, 29.098599329658494, 44.98565580223352, 33.43034718184237, 30.987315049815162, 29.16695914674026, 28.549755820711827, 28.220803028076546, 23.579348733070546, 83.99384714561546, 19.57355837980917, 18.945928891365252, 16.85549814417005, 16.17646814625738, 16.014629197101513, 15.632206164142918, 15.395407256258762, 14.396565817906389, 14.150668005090997, 13.912796218504868, 13.41931098061477, 12.727415093580309, 12.472896975138779, 11.811685044358654, 11.694115674041822, 11.287711068792769, 11.031277064908037, 10.988861326999956, 10.536527307462238, 9.320985553212182, 18.164702464507915, 9.155022987134089, 357.2665364572556, 129.2780405880969, 47.519886662758495, 62.049381872727544, 34.08694223032427, 25.465965562429517, 37.30637043007101, 46.68775674630446, 45.47542969381506, 42.05984048575315, 64.31400095224753, 27.30765877620095, 51.10351309498761, 51.82876598012717, 42.16978012066655, 35.43997478870903, 33.719178801087565, 25.735935136629706, 29.613460374711693, 22.330843676588433, 21.218270952390878, 20.489262776463118, 139.3703334311704, 62.81002980721601, 60.58041514148037, 40.5470250741386, 39.475219741957574, 30.363326206064663, 25.923453308480912, 25.39035533871532, 24.865180397362323, 23.760296341333802, 23.32410802209469, 23.114121007857587, 22.98391750800687, 22.57776715748617, 22.1756448345413, 21.458871943826935, 20.743857078133626, 19.38736831674309, 17.077454505011193, 16.68261740385517, 37.439271922130864, 15.710117528534912, 15.113272693254741, 14.668093318412085, 14.511636669929553, 32.29484669793057, 14.017161425048407, 13.869666196250416, 13.833162397445983, 13.681511131091396, 37.590037159144195, 69.09132603914433, 51.76086710547812, 55.77001740187331, 46.10767617330958, 23.929298477680394, 45.34702927514544, 23.212556176651688, 97.39024463865749, 37.12318793652961, 32.5555296776212, 36.63496912340952, 28.44216981864049, 31.602923534407093, 33.40916932903607, 34.554590464947246, 26.21862320281326, 27.157579599425958, 97.40949362849885, 36.16934489340845, 31.910330365471342, 26.216392878173842, 25.467967405444384, 18.942986572752485, 17.849472729502047, 17.124038161604012, 45.005186184548975, 16.188762568840165, 15.580700840522963, 14.974449422788213, 14.002658627986866, 93.76654788514294, 13.260575026619133, 13.06625001715835, 12.818105108591299, 12.721655586555638, 12.567393744389626, 12.14135839347122, 12.13570766769766, 12.068374675516274, 11.817591005128858, 11.704986692869266, 11.575176042796919, 11.51380040868904, 10.636568341285525, 26.081906860750824, 10.170687863634907, 33.727559115370035, 29.81131422983667, 45.10969018048236, 28.138859070239338, 31.261679035597243, 58.81433754771328, 72.9171571623699, 47.92041999979015, 32.782453563455704, 25.807966969522173, 29.077824079772732, 47.552839826786155, 32.053465580724584, 29.564797485491166, 78.06665974562787, 40.76873862822381, 56.41025682591528, 21.74072967347001, 38.73159195595188, 41.0151271566916, 28.257017663277775, 23.28765700006941, 29.93093532964272, 25.124215684484724, 25.601228342746815, 58.43807860753536, 39.416085821933535, 36.16817531263082, 28.438171162138538, 22.03298190410805, 163.24263972167245, 21.023113190119414, 106.10368559820331, 17.064864444433166, 14.594915755865408, 14.34753752882774, 13.335596990955478, 13.262008192675582, 42.898092167590264, 13.232844940468654, 12.787191107042174, 12.497912095556075, 38.18035401724071, 11.42934950529593, 11.20543527585468, 10.780162844074523, 10.607827081066006, 129.96114691952786, 75.141533501763, 9.666085971543634, 49.88744752234838, 9.244458015223671, 8.1126473265336, 8.025023326658667, 7.868572083694443, 89.11181987305316, 108.72635242314023, 91.97833297928112, 79.52791039324653, 43.599357537355125, 26.96000149317775, 29.318396324909315, 33.79221546650411, 19.676795157417768, 15.441919870108311, 13.76937490325724, 36.98192408870062, 28.216631577160545, 24.714207211104853, 21.980338624858955, 19.398562440314624, 18.547414569283394, 16.91471223582809, 16.332530016920053, 16.078621711654254, 15.882375563346347, 31.297896812101406, 14.675374074921862, 14.234882398446452, 14.200846596623496, 14.036916098000729, 13.346895730978348, 12.638557118064998, 12.372182343799018, 11.173964437282342, 10.604543906839769, 10.19072486587822, 9.740741335234059, 9.491699889545256, 39.30564512540351, 9.3638903510807, 8.66630324989815, 8.21658483376366, 7.934447307193695, 7.528881489395019, 7.243672651541461, 144.85775144564533, 72.56560046063825, 89.04374524013042, 80.53984460450157, 38.182961452943395, 54.83582901022775, 78.46069464454818, 91.70380575165463, 104.19972015346228, 20.06861770632998, 83.68610948918926, 51.52492574658665, 26.01391087987528, 34.012913775487284, 28.816172651110335, 33.001554410174094, 20.028032410964993, 16.365297492180705, 42.67096104748797, 39.07471956876759, 37.24514826264695, 35.41337655112518, 31.803375110966023, 27.388585421237128, 27.01243757649586, 25.525014356428393, 24.05157850087949, 22.769342626911843, 22.572768805132636, 22.14821577011333, 21.71213306691354, 18.421732080054483, 18.129320727925293, 17.111798242302775, 15.952820959718075, 15.706179723611127, 15.701996226373492, 15.546987023203306, 15.359563871941445, 15.19699043764763, 14.672124004268213, 14.180024441726502, 14.071738100269757, 13.892412947048506, 13.712532884622373, 12.654022299917887, 12.311841940225767, 12.269287763464087, 66.76465481936197, 114.20599425223598, 155.9610204556924, 29.469345316689513, 56.92237773601395, 57.306500587144264, 19.493628996010273, 24.204692874526376, 31.609233555477182, 31.446704893508077, 30.58462566314495, 29.436093449465112, 24.101301780494147, 23.19749486773706, 22.955207291831396, 20.480575285180553, 143.13404271742985, 17.83585630005726, 16.822262427623958, 16.47646868967668, 16.359136530763617, 16.027400834346334, 14.461442809121136, 14.45516749810849, 11.561808975682625, 11.391231377084203, 11.330474282260077, 11.18644001919554, 9.825572773367522, 9.469291776095886, 8.845757394192965, 8.696594543685897, 8.54385285933638, 8.226754484798608, 8.009320144578744, 7.972398321198975, 7.816435210844912, 7.637678573214978, 32.633220044359874, 140.05164504222915, 14.003717687348102, 24.403238029743328, 54.63700960997821, 39.526978445202694, 14.39223444167369, 44.61050798243792, 25.842831225717177, 16.94824489088137, 25.220197285692787, 16.49478983625438, 19.625279249746754, 16.865066774131538, 17.44728585129827, 17.42273403294962, 14.520271217405977, 46.485400213007985, 28.723584144711406, 25.043881743200306, 23.515061057187953, 16.712200593789266, 47.312330297606444, 13.486560407525397, 12.07500796550047, 25.477055439279955, 9.679736782559106, 9.660297358551443, 9.301519678987518, 9.146299926950084, 9.070688583968167, 8.603839062127564, 8.338818210557942, 8.263240435539682, 46.058024615320555, 7.182307592362031, 19.418690145387473, 6.786215000472455, 6.389799044945399, 11.332456236932474, 5.522686695258611, 21.75010340721631, 23.865880209005372, 45.15252034253301, 22.532591262126658, 75.66300374247581, 4.26277128134878, 30.792228645882446, 94.61930433877886, 64.92830218705015, 30.15558570563122, 34.7319063117973, 44.67726360619978, 47.37357287209569, 56.633950279556636, 33.92112943098922, 40.06425276284413, 56.259865262783, 39.15195548481068, 29.1981677596119, 14.663229840214958, 17.42037443942219, 61.75406515702707, 32.66344120985663, 30.02937184986738, 27.91015861478233, 26.90514724515136, 25.79956954667756, 20.934331982478263, 20.8576808969472, 20.78171972599427, 20.16042297372929, 19.94058820907011, 19.421034993026172, 19.079198975445216, 18.66183451949629, 17.944447481895914, 16.27758286532782, 15.932104524228684, 15.869817975516144, 15.215813957832987, 15.155226493827286, 14.924697796352309, 14.914330490967792, 14.788148934345186, 14.348062675252962, 14.228471170725335, 12.307852107868761, 21.79063431297266, 11.417286438306958, 11.094488782794294, 10.988924957160165, 28.13424417166686, 26.748572729176672, 19.514641521529672, 42.74724461989395, 25.7197262769333, 73.47851575236295, 33.94001079504488, 21.154136726295796, 73.57661748768255, 51.54605497832873, 43.15222736465072, 34.612029838915745, 28.55663449696423, 26.94807334893509, 24.3807595349565, 24.27278922740689, 24.09933796708718, 23.745883081658263, 21.124795615130015, 18.10014194066591, 17.169664724901455, 16.81736282373211, 16.703896079493155, 16.312543803951428, 16.23026180099605, 16.19126601083005, 15.342235904013362, 15.227866678569182, 14.109408597609841, 13.95506426547428, 13.400224922939168, 13.203322242518965, 13.124563561427165, 12.37159739244645, 11.98215568476947, 11.789416491523786, 11.57704139551941, 11.380035762736314, 21.651959158866596, 36.41975157977, 33.00418933907675, 35.243271061979236, 36.08844522337377, 42.09543291784953, 43.751926418666564, 40.378257866199824, 34.44541807861001, 28.56542448726185, 25.42977199655859, 24.205924212495063, 22.35206758813924, 19.917325099789505, 16.64462293141454, 15.852887924470673, 15.705985380381406, 15.45250683487951, 14.914325476051545, 14.449145693818048, 13.185592454358565, 12.980594694451312, 12.912699694802459, 12.03443664953549, 11.188474527261528, 10.311419216467092, 9.969188652357742, 9.782069773341009, 9.749546539540574, 9.330154385791682, 9.294668106754617, 9.236901637143394, 8.98260482576058, 31.314444820678037, 8.649040678969413, 8.547505814107144, 46.61874017701717, 42.79841376996445, 73.82250293137476, 17.22845911479508, 64.3818346639961, 72.23817780252998, 32.81369132322787, 40.17273446597066, 16.719241982829875, 17.68442530793049, 18.63350803964861, 17.117006022962748, 48.28548095623193, 41.24756281391071, 34.37171962506862, 33.38603031421323, 28.195848387684705, 25.48529267058001, 25.44094680766083, 25.32121192157313, 21.577673295667427, 19.943489168239218, 19.335917225855876, 19.3354353509404, 19.309942963241284, 17.536286145915824, 17.112669422920746, 15.821881562969773, 14.984234140242869, 14.895261039161273, 14.884349153266683, 14.21243524620012, 13.477773223016579, 12.699989591863844, 12.18088391258712, 12.110483310843113, 12.098848376381017, 11.611113410015662, 11.426656436320332, 10.46900066062782, 10.363649382879482, 10.267561198792661, 61.592342067255366, 166.4917439548424, 24.644702282833308, 49.48024956272821, 35.013746367547725, 29.262890635516708, 25.647256534845646, 23.90668915086526, 21.084693685484073, 20.739575368300894, 20.338266147390126, 19.484813001737333, 19.11494113483849, 71.91067646459697, 15.855505467838283, 15.82777098321435, 15.542716167227168, 14.232507702148801, 13.804554941230842, 12.917218381766345, 12.077873570973109, 12.014669035197105, 10.782035959603473, 10.516383834606136, 39.70730286029442, 10.138089506452404, 23.930419499799417, 9.672184289293163, 9.459162225152328, 8.77098242514845, 8.749663704343348, 8.656007591786873, 8.635358226441038, 64.35163371272806, 66.14462582176162, 16.758268610589308, 54.41374509594547, 34.00984957676658, 14.626123550751345, 10.333104067412707, 162.79461224092165, 74.49310426694419, 27.51352269451013, 17.92590544265001, 16.703152417270537, 15.69746841210397, 15.220447300601085, 14.87265135372876, 14.56221754808795, 12.385440850026718, 11.995449454978537, 11.967429164001333, 11.952495948219966, 9.04281927464111, 8.621780419981286, 8.285924871570177, 8.16239777022039, 8.028088688419512, 7.472220521017748, 6.000838375457141, 5.775466028002616, 87.6402737819674, 5.0873777298895355, 4.863922457657058, 50.796278117869264, 3.978174393397228, 3.9708736251200034, 3.8719233972703937, 3.5441571401611864, 15.368821821040566, 74.5352589862968, 43.678369504635505, 45.3079294410435, 7.356424332042149, 16.83446911378949, 13.172309155125689, 10.797861224235405, 14.864158353962159, 9.570434068135329, 46.29126249457405, 41.04832242130207, 35.65472946176201, 32.56440921149892, 129.0365163594031, 159.3750404675792, 26.496157004384386, 24.782326201979338, 23.64658541869051, 22.534018612737253, 15.947588208729305, 15.421553621819832, 15.273083261988699, 14.755914225727443, 14.41080768923437, 14.408966137805814, 9.547352228226535, 9.54167263011953, 8.500297702218017, 23.2384589475287, 7.561723355900655, 37.94450219514722, 6.400435327073285, 5.765368755857693, 5.6370280965199475, 5.544288831062081, 110.16860486487029, 4.020358175571202, 3.7036777841461186, 11.982686502752214, 53.14269027372778, 26.349843491082492, 24.854603537705184, 20.365115560925734, 19.459384951837063, 19.380938760591683, 17.189178525271203, 15.80059417082678, 15.204430970648287, 15.03357438750693, 14.185629382078607, 100.65423259439534, 13.615824052789945, 13.355107293198973, 12.856740235095993, 11.121974876993953, 10.912521726595802, 9.818441718593599, 9.61487868377184, 9.211868422630005, 9.11097046978043, 8.4951361084687, 7.778036104965175, 7.449380374474177, 32.12359425518916, 6.824659004959488, 94.063721091382, 43.34454434681381, 5.187369355117103, 5.184060568054163, 74.37601339379755, 24.790899672343368, 9.253561767713112, 105.71973670819297, 63.29539258995296, 43.363110588287185, 33.92426637418693, 33.305675486516726, 28.2359067642518, 27.278283742395082, 23.562176471995762, 21.848931414658196, 20.877293113461388, 20.285029226152556, 19.03656954831779, 18.073742621765295, 17.677468253440694, 17.450808669960665, 16.61883826955655, 14.29053883808375, 12.839017311213425, 12.724277372642558, 11.960045534460512, 11.759252918351866, 11.704439082993787, 10.868534988042473, 10.748328526283926, 10.444800509139482, 10.277382912629504, 10.188699720684681, 10.075220365775742, 9.158875492718392, 8.724308263218841, 11.893098241994748, 83.76424248370543, 233.1267762776143, 40.687669503654334, 25.468238240061794, 84.71940475845867, 11.407369737307807, 11.268523045588207, 11.185233667316671, 10.964844573037409, 10.809397353168855, 10.394462564724254, 9.625706429110602, 9.551352384100577, 8.817924573766737, 7.783907930063441, 7.750003531460907, 5.636643823041209, 5.172087378651001, 5.1094622990695715, 4.773674928808083, 4.143215941890351, 3.9057861341733604, 3.3959085373639413, 2.443797940543171, 35.911118883000654, 22.251161016103957, 15.06111111746436, 27.91002537970771, 0.020839360856508605, 0.020839360856508605, 0.020839360856508605, 0.020839360856508605, 0.020839360856508605, 0.020839360856508605, 0.020839360856508605, 55.27729795541195, 50.401416750964835, 47.550960496142245, 31.937908383465455, 26.13126068649028, 24.965594270377085, 86.96216465668915, 19.265853440958587, 17.327530202599842, 138.5605650630781, 12.651474556868727, 12.59246447071364, 11.586029466464797, 10.520784402800103, 9.752042669065563, 9.746225989316773, 8.651598291769572, 7.480454936248917, 6.927842609951619, 5.808318914593917, 40.40012086025522, 36.06932991250786, 4.944432323001166, 4.792387635216504, 4.73173506266856, 16.44984986459662, 2.1614595157956726, 0.02172856314225675, 0.02172856314225675, 0.02172856314225675, 0.02172856314225675, 0.02172856314225675, 0.02172856314225675, 0.02172856314225675, 0.02172856314225675, 0.02172856314225675, 0.02172856314225675, 74.15941815650591, 58.553237602034045, 41.45300306295228, 34.92541638646325, 29.468569162231592, 94.20807374840487, 21.599655222730224, 64.1518142622348, 20.63210265759773, 83.48989392873953, 14.893181070122452, 14.475524046751776, 12.43815117490404, 12.269922501851324, 11.366552676603412, 11.232708239863, 10.559791143332019, 10.193715558316523, 9.239849958303001, 8.702792345208662, 8.19908007044043, 7.845221979285099, 6.7163601941017435, 6.423265862882654, 5.938509960326119, 5.455361409547414, 3.0628139253698587, 2.8732350417689405, 0.021488057651883594, 0.021488057651883594, 0.021488057651883594, 0.021488057651883594, 0.021488057651883594, 0.021488057651883594, 0.021488057651883594, 0.021488057651883594, 0.021488057651883594, 47.00841867227384, 27.59884934343867, 52.150466863188534, 24.43600757711638, 44.38818208259548, 22.411825824879358, 21.882694932358632, 21.293109420772744, 20.01890613654534, 19.20747653546774, 18.301804694446037, 27.5344154381254, 14.185189052438458, 13.558380827886628, 12.511355854942225, 12.426887528081508, 11.202137742063663, 10.028020497208068, 31.24170442006325, 8.472305511196224, 6.5624323315390125, 6.0235406407231995, 200.18882695093689, 0.02315795776234305, 0.02315795776234305, 0.02315795776234305, 0.02315795776234305, 0.02315795776234305, 0.02315795776234305, 0.02315795776234305, 0.02315795776234305, 0.02315795776234305, 0.02315795776234305, 0.02315795776234305, 0.02315795776234305, 0.02315795776234305, 0.02315795776234305, 0.02315795776234305, 0.02315795776234305, 0.02315795776234305, 0.02315795776234305, 0.02315795776234305, 0.02315795776234305, 52.20999965825811, 97.6123447989613, 50.36185109387723, 34.983184630965624, 22.268672077306167, 19.30016954604928, 18.43243914376364, 17.13101565856416, 15.449133774092985, 13.89044304881921, 13.544300506621308, 12.977844378246258, 11.793931695319019, 11.624466262463637, 8.939058334330369, 8.095720673995142, 7.762200751041202, 6.763014917388525, 66.78921990700618, 6.278789281942558, 51.463001311151984, 4.904644096860906, 22.679585292622505, 82.35903953838341, 0.022647101815087528, 0.022647101815087528, 0.022647101815087528, 0.022647101815087528, 0.022647101815087528, 0.022647101815087528, 0.022647101815087528, 0.022647101815087528, 0.022647101815087528, 0.022647101815087528, 0.022647101815087528, 0.022647101815087528, 0.022647101815087528, 0.022647101815087528, 0.022647101815087528, 0.022647101815087528, 0.022647101815087528, 0.022647101815087528, 62.349663845129996, 44.10432691492631, 34.21988930719027, 31.63603463773474, 27.114398448338928, 26.387502847580066, 25.977350939229712, 17.629454754318832, 17.336110709206203, 16.68694103011443, 15.650626084637551, 13.46138805274578, 11.562563814607497, 11.327058223753685, 10.847771410765178, 10.758083537299276, 10.67884363184125, 10.569430118473324, 10.568790360339847, 9.966757981184397, 9.388958822600165, 9.289272140207604, 9.272735283788204, 8.678015270139548, 8.379679298216455, 8.348009002700529, 8.183759183645956, 8.145400687719219, 7.981196065944695, 7.72926138401411, 36.710640920674955, 27.88832785224873, 42.851008987833254, 32.67673132831143, 31.089181608745616, 28.951450117692865, 28.284598374459733, 24.831492470830256, 21.222103163394635, 18.546900263008794, 17.050387713967545, 16.83226887334488, 16.668600517501346, 13.536748346314406, 13.281094846230776, 12.006050299106116, 11.560270269962874, 11.070347005360762, 30.828078790402223, 9.251543316054073, 9.250873938785048, 7.056925476233059, 6.7529266555008824, 5.961945400463549, 132.34578042278469, 5.616984833756501, 2.8765718336834847, 51.265146306956574, 13.683360328191288, 0.023484886998082866, 0.023484886998082866, 0.023484886998082866, 0.023484886998082866, 0.023484886998082866, 0.023484886998082866, 31.72296737370835, 30.999512681815244, 25.849572035223336, 24.389360927080478, 22.82460100617296, 22.0457488073946, 21.90928339159866, 20.843640269423915, 20.506447133306928, 20.367819182979325, 18.8853554986363, 17.205679283526653, 16.733940637648853, 15.188974243562662, 15.106736892054062, 14.415999562199863, 14.311643023719794, 13.918294594620173, 13.639543189591032, 13.428094556674353, 12.842377763131845, 12.70832271660294, 12.507540701030875, 12.189766880402162, 10.646515108048165, 10.590576478750856, 10.395632309619629, 10.20039178799647, 9.355393581462396, 7.99307070857404, 35.6351395476895, 29.114399114284687, 28.231970967010145, 24.93431479541704, 22.456255810548317, 21.385909742344587, 20.85497030120783, 20.618540895994613, 18.767294669527757, 18.578712522342034, 15.631412714099413, 14.408292370982526, 13.719410134834689, 13.325920800616224, 60.41658015190834, 11.424488868569908, 10.649160684408676, 10.158299575072249, 9.786402034604738, 9.657427861416569, 9.360410115804697, 9.316980458665768, 40.028923446600366, 39.166057726479764, 8.807828336864219, 6.327585817485059, 6.074769750762964, 5.676547946804744, 5.608379551696971, 5.296385395727623, 29.03945833167476, 95.10517801935484, 134.9053787702175, 49.418256169628634, 23.07335172540558, 21.09988751403008, 20.96996755746311, 18.125748517188338, 14.893635814408164, 14.188609211824735, 13.671674960012899, 12.966854353991385, 12.832426504733105, 8.832614916502699, 101.85912737358082, 0.027189212290595073, 0.027189212290595073, 0.027189212290595073, 0.027189212290595073, 0.027189212290595073, 0.027189212290595073, 0.027189212290595073, 0.027189212290595073, 0.027189212290595073, 0.027189212290595073, 0.027189212290595073, 0.027189212290595073, 0.027189212290595073, 0.027189212290595073, 0.027189212290595073, 0.027189212290595073, 0.027189212290595073, 0.027189212290595073, 0.027189212290595073, 0.027189212290595073, 0.027189212290595073, 0.027189212290595073, 0.027189212290595073, 0.027189212290595073, 0.027189212290595073, 0.027189212290595073, 0.027189212290595073, 0.027189212290595073, 0.027189212290595073, 0.027189212290595073, 0.027189212290595073, 0.027189212290595073, 0.027189212290595073, 0.027189212290595073, 39.11400165278605, 31.940084880794814, 29.086473514008194, 27.20149850317714, 25.78068562557396, 23.823571643636956, 21.64404369013495, 21.01135174590866, 19.197703763370093, 18.892271577838827, 18.262619182995223, 18.25567258574921, 17.969535309832338, 17.54493390708811, 17.439321543503873, 16.483008108807066, 16.366673053864353, 33.89536116882496, 14.171256348050644, 13.10086249664052, 12.762559688688343, 12.205512062094675, 11.911648082554107, 10.95448968517594, 10.45591549575773, 9.028788378452802, 7.953605128863687, 7.758527468075531, 7.736391466049379, 6.716650680299664, 33.305309106136214, 27.638150432646512, 23.62361335339268, 22.623045118293764, 20.83685458515696, 20.35270968816245, 19.780440581921603, 18.641110746409545, 16.445666255665156, 15.76599366218801, 15.022589279440625, 14.576210591780304, 14.325025322356657, 13.388099004162438, 11.920412613883327, 9.965454579796873, 7.529002629633234, 139.03671508955773, 25.6309505698776, 5.4673822667415335, 68.48690309143801, 0.024230122562193167, 0.024230122562193167, 0.024230122562193167, 0.024230122562193167, 0.024230122562193167, 0.024230122562193167, 0.024230122562193167, 0.024230122562193167, 0.024230122562193167, 0.024230122562193167, 0.024230122562193167, 0.024230122562193167, 0.024230122562193167, 0.024230122562193167, 0.024230122562193167, 0.024230122562193167, 0.024230122562193167, 0.024230122562193167, 0.024230122562193167, 0.024230122562193167, 0.024230122562193167, 0.024230122562193167, 160.2145705491278, 26.88483625186667, 142.99937998058846, 21.836132009885084, 19.109454384492363, 16.16421770740889, 14.269892907710018, 11.813055746587617, 9.524022111523658, 9.090725348214734, 7.793657656532583, 6.911788892874137, 6.121242935758695, 72.76737777245607, 0.025881221509258794, 0.025881221509258794, 0.025881221509258794, 0.025881221509258794, 0.025881221509258794, 0.025881221509258794, 0.025881221509258794, 0.025881221509258794, 0.025881221509258794, 0.025881221509258794, 0.025881221509258794, 0.025881221509258794, 0.025881221509258794, 0.025881221509258794, 0.025881221509258794, 0.025881221509258794, 0.025881221509258794, 0.025881221509258794, 0.025881221509258794, 0.025881221509258794, 0.025881221509258794, 0.025881221509258794, 0.025881221509258794, 0.025881221509258794, 0.025881221509258794, 0.025881221509258794, 0.025881221509258794, 0.025881221509258794, 0.025881221509258794, 0.025881221509258794, 0.025881221509258794, 0.025881221509258794, 0.025881221509258794, 0.025881221509258794, 150.38392008483487, 99.70661003041357, 52.33808042730803, 48.685704897016095, 45.83067951655223, 29.771664117140627, 29.531238681149137, 20.045013983928506, 12.151925841932314, 9.752062285918463, 7.227972321422457, 5.905541715248507, 4.242310480261, 3.9353787543675858, 0.026114595904617958, 0.026114595904617958, 0.026114595904617958, 0.026114595904617958, 0.026114595904617958, 0.026114595904617958, 0.026114595904617958, 0.026114595904617958, 0.026114595904617958, 0.026114595904617958, 0.026114595904617958, 0.026114595904617958, 0.026114595904617958, 0.026114595904617958, 0.026114595904617958, 0.026114595904617958, 0.026114595904617958, 0.026114595904617958, 0.026114595904617958, 0.026114595904617958, 0.026114595904617958, 0.026114595904617958, 0.026114595904617958, 0.026114595904617958, 0.026114595904617958, 0.026114595904617958, 0.026114595904617958, 0.026114595904617958, 0.026114595904617958, 0.026114595904617958, 0.026114595904617958, 0.026114595904617958, 24.8022576784688, 23.093796138913433, 21.41565652413681, 20.720553047914045, 19.09901540247748, 17.63405657486048, 45.897709997436216, 12.762268933816536, 10.530086610306086, 9.51794681023559, 192.12349964066678, 5.014958632454569, 4.4340281154147245, 60.10105845446304, 0.030514313697194952, 0.030514313697194952, 0.030514313697194952, 0.030514313697194952, 0.030514313697194952, 0.030514313697194952, 0.030514313697194952, 0.030514313697194952, 0.030514313697194952, 0.030514313697194952, 0.030514313697194952, 0.030514313697194952, 0.030514313697194952, 0.030514313697194952, 0.030514313697194952, 0.030514313697194952, 0.030514313697194952, 0.030514313697194952, 0.030514313697194952, 0.030514313697194952, 0.030514313697194952, 0.030514313697194952, 0.030514313697194952, 0.030514313697194952, 0.030514313697194952, 0.030514313697194952, 0.030514313697194952, 0.030514313697194952, 0.030514313697194952, 0.030514313697194952, 0.030514313697194952, 0.030514313697194952, 0.030514313697194952, 0.030514313697194952, 0.030514313697194952, 27.53684453706756, 23.951616517298465, 22.75817992222535, 18.34125703207744, 17.543684671880186, 16.32209127961301, 16.139473163498874, 15.934013092426994, 15.522912184467131, 15.453351539287404, 12.595251639604816, 11.692939657169989, 9.813034284344822, 9.647443625013453, 7.214100853189664, 6.784698042081101, 136.0074810570741, 0.03291335245351111, 0.03291335245351111, 0.03291335245351111, 0.03291335245351111, 0.03291335245351111, 0.03291335245351111, 0.03291335245351111, 0.03291335245351111, 0.03291335245351111, 0.03291335245351111, 0.03291335245351111, 0.03291335245351111, 0.03291335245351111, 0.03291335245351111, 0.03291335245351111, 0.03291335245351111, 0.03291335245351111, 0.03291335245351111, 0.03291335245351111, 0.03291335245351111, 0.03291335245351111, 0.03291335245351111, 0.03291335245351111, 0.03291335245351111, 0.03291335245351111, 0.03291335245351111, 24.470972472035136, 20.975999304947614, 15.715346291882602, 144.62554555909458, 9.247169440950161, 7.719940600940825, 5.365269976604088, 128.4836150024541, 38.41341714117169, 0.031094660341759586, 0.031094660341759586, 0.031094660341759586, 0.031094660341759586, 0.031094660341759586, 0.031094660341759586, 0.031094660341759586, 0.031094660341759586, 0.031094660341759586, 0.031094660341759586, 0.031094660341759586, 0.031094660341759586, 0.031094660341759586, 0.031094660341759586, 0.031094660341759586, 0.031094660341759586, 0.031094660341759586, 0.031094660341759586, 0.031094660341759586, 0.031094660341759586, 0.031094660341759586, 0.031094660341759586, 0.031094660341759586, 0.031094660341759586, 0.031094660341759586, 0.031094660341759586, 0.031094660341759586, 0.031094660341759586, 0.031094660341759586, 0.031094660341759586, 0.031094660341759586, 0.031094660341759586, 0.031094660341759586, 0.031094660341759586, 0.031094660341759586, 0.031094660341759586, 0.031094660341759586, 0.031094660341759586, 0.031094660341759586, 0.031094660341759586, 0.031094660341759586, 0.031094660341759586, 48.71484370806682, 45.70826490908459, 42.111368890884684, 18.86771479246232, 8.953807359373531, 93.4053329274013, 78.8144342375951, 36.64071146603904, 0.03373811327871828, 0.03373811327871828, 0.03373811327871828, 0.03373811327871828, 0.03373811327871828, 0.03373811327871828, 0.03373811327871828, 0.03373811327871828, 0.03373811327871828, 0.03373811327871828, 0.03373811327871828, 0.03373811327871828, 0.03373811327871828, 0.03373811327871828, 0.03373811327871828, 0.03373811327871828, 0.03373811327871828, 0.03373811327871828, 0.03373811327871828, 0.03373811327871828, 0.03373811327871828, 0.03373811327871828, 0.03373811327871828, 0.03373811327871828, 0.03373811327871828, 0.03373811327871828, 0.03373811327871828, 0.03373811327871828, 0.03373811327871828, 0.03373811327871828, 0.03373811327871828, 0.03373811327871828, 0.03373811327871828, 0.03373811327871828, 0.03373811327871828, 0.03373811327871828, 0.03373811327871828, 0.03373811327871828, 0.03373811327871828, 0.03373811327871828, 0.03373811327871828, 0.03373811327871828, 0.03373811327871828, 0.03373811327871828, 90.81195789314583, 54.436238274867485, 36.75586687768313, 35.41663539661758, 32.812896523161776, 25.707642207578658, 18.15189668855423, 18.033561876491977, 17.79726785593445, 14.855250702070315, 13.810934425024469, 13.753736007133806, 10.314935012985654, 7.956979155148683, 7.315154111878424, 0.029615734529793845, 0.029615734529793845, 0.029615734529793845, 0.029615734529793845, 0.029615734529793845, 0.029615734529793845, 0.029615734529793845, 0.029615734529793845, 0.029615734529793845, 0.029615734529793845, 0.029615734529793845, 0.029615734529793845, 0.029615734529793845, 0.029615734529793845, 0.029615734529793845, 0.029615734529793845, 0.029615734529793845, 0.029615734529793845, 0.029615734529793845, 0.029615734529793845, 0.029615734529793845, 0.029615734529793845, 0.029615734529793845, 0.029615734529793845, 0.029615734529793845, 0.029615734529793845, 0.029615734529793845, 0.029615734529793845, 0.029615734529793845, 0.029615734529793845, 52.14649365771625, 40.099094152458676, 28.33539830316484, 27.47995656622905, 18.997778990854876, 18.908208524828154, 17.48965918232615, 9.875424317709818, 8.877421752728846, 148.30818143048515, 0.030930230773331388, 0.030930230773331388, 0.030930230773331388, 0.030930230773331388, 0.030930230773331388, 0.030930230773331388, 0.030930230773331388, 0.030930230773331388, 0.030930230773331388, 0.030930230773331388, 0.030930230773331388, 0.030930230773331388, 0.030930230773331388, 0.030930230773331388, 0.030930230773331388, 0.030930230773331388, 0.030930230773331388, 0.030930230773331388, 0.030930230773331388, 0.030930230773331388, 0.030930230773331388, 0.030930230773331388, 0.030930230773331388, 0.030930230773331388, 0.030930230773331388, 0.030930230773331388, 0.030930230773331388, 0.030930230773331388, 0.030930230773331388, 0.030930230773331388, 0.030930230773331388, 0.030930230773331388, 0.030930230773331388, 0.030930230773331388, 0.030930230773331388, 0.030930230773331388, 0.030930230773331388, 0.030930230773331388, 0.030930230773331388, 0.030930230773331388, 48.4202924402696, 39.201061277506604, 33.800897116239625, 33.045512946260246, 114.43985470036681, 9.648043208418807, 9.01992551002648, 5.12629725682901, 0.039478504330509596, 0.039478504330509596, 0.039478504330509596, 0.039478504330509596, 0.039478504330509596, 0.039478504330509596, 0.039478504330509596, 0.039478504330509596, 0.039478504330509596, 0.039478504330509596, 0.039478504330509596, 0.039478504330509596, 0.039478504330509596, 0.039478504330509596, 0.039478504330509596, 0.039478504330509596, 0.039478504330509596, 0.039478504330509596, 0.039478504330509596, 0.039478504330509596, 0.039478504330509596, 0.039478504330509596, 0.039478504330509596, 0.039478504330509596, 0.039478504330509596, 0.039478504330509596, 0.039478504330509596, 0.039478504330509596, 0.039478504330509596, 0.039478504330509596, 0.039478504330509596, 0.039478504330509596, 0.039478504330509596, 0.039478504330509596, 0.039478504330509596, 0.039478504330509596, 0.039478504330509596, 0.039478504330509596, 0.039478504330509596, 0.039478504330509596, 0.039478504330509596, 0.039478504330509596, 0.039478504330509596, 0.039478504330509596, 69.03270315673295, 64.07531971772917, 34.44920390476676, 15.603471619958086, 11.13722240258672, 97.5717701743853, 6.210324575116858, 0.038647276753368154, 0.038647276753368154, 0.038647276753368154, 0.038647276753368154, 0.038647276753368154, 0.038647276753368154, 0.038647276753368154, 0.038647276753368154, 0.038647276753368154, 0.038647276753368154, 0.038647276753368154, 0.038647276753368154, 0.038647276753368154, 0.038647276753368154, 0.038647276753368154, 0.038647276753368154, 0.038647276753368154, 0.038647276753368154, 0.038647276753368154, 0.038647276753368154, 0.038647276753368154, 0.038647276753368154, 0.038647276753368154, 0.038647276753368154, 0.038647276753368154, 0.038647276753368154, 0.038647276753368154, 0.038647276753368154, 0.038647276753368154, 0.038647276753368154, 0.038647276753368154, 0.038647276753368154, 0.038647276753368154, 0.038647276753368154, 0.038647276753368154, 0.038647276753368154, 0.038647276753368154, 0.038647276753368154, 0.038647276753368154, 0.038647276753368154, 0.038647276753368154, 0.038647276753368154, 0.038647276753368154, 0.038647276753368154, 0.038647276753368154, 0.038647276753368154, 84.54379776764202, 36.60331094756522, 35.119066883484386, 30.759441359408648, 26.78473594065041, 21.537881514223532, 19.346965522570358, 17.424735126467347, 13.96611908085127, 9.817012192960847, 8.775733994337406, 0.03767152767924511, 0.03767152767924511, 0.03767152767924511, 0.03767152767924511, 0.03767152767924511, 0.03767152767924511, 0.03767152767924511, 0.03767152767924511, 0.03767152767924511, 0.03767152767924511, 0.03767152767924511, 0.03767152767924511, 0.03767152767924511, 0.03767152767924511, 0.03767152767924511, 0.03767152767924511, 0.03767152767924511, 0.03767152767924511, 0.03767152767924511, 0.03767152767924511, 0.03767152767924511, 0.03767152767924511, 0.03767152767924511, 0.03767152767924511, 0.03767152767924511, 0.03767152767924511, 0.03767152767924511, 0.03767152767924511, 0.03767152767924511, 0.03767152767924511, 0.03767152767924511, 0.03767152767924511, 0.03767152767924511, 0.03767152767924511, 0.03767152767924511, 0.03767152767924511, 0.03767152767924511, 0.03767152767924511, 78.09591012026907, 120.69079756470292, 20.400831088226514, 14.601358621320905, 11.415808684003094, 5.337594370536112, 49.438170987042035, 0.03784254222696071, 0.03784254222696071, 0.03784254222696071, 0.03784254222696071, 0.03784254222696071, 0.03784254222696071, 0.03784254222696071, 0.03784254222696071, 0.03784254222696071, 0.03784254222696071, 0.03784254222696071, 0.03784254222696071, 0.03784254222696071, 0.03784254222696071, 0.03784254222696071, 0.03784254222696071, 0.03784254222696071, 0.03784254222696071, 0.03784254222696071, 0.03784254222696071, 0.03784254222696071, 0.03784254222696071, 0.03784254222696071, 0.03784254222696071, 0.03784254222696071, 0.03784254222696071, 0.03784254222696071, 0.03784254222696071, 0.03784254222696071, 0.03784254222696071, 0.03784254222696071, 0.03784254222696071, 0.03784254222696071, 0.03784254222696071, 0.03784254222696071, 0.03784254222696071, 0.03784254222696071, 0.03784254222696071, 0.03784254222696071, 0.03784254222696071, 0.03784254222696071, 0.03784254222696071, 0.03784254222696071, 0.03784254222696071, 0.03784254222696071, 0.03784254222696071, 35.35679006547899, 119.25951282594718, 34.29858785958945, 23.458085716341504, 13.782153244607827, 12.389768918045037, 11.434893058756433, 8.712176090007016, 4.142763514521091, 0.0419735384045383, 0.0419735384045383, 0.0419735384045383, 0.0419735384045383, 0.0419735384045383, 0.0419735384045383, 0.0419735384045383, 0.0419735384045383, 0.0419735384045383, 0.0419735384045383, 0.0419735384045383, 0.0419735384045383, 0.0419735384045383, 0.0419735384045383, 0.0419735384045383, 0.0419735384045383, 0.0419735384045383, 0.0419735384045383, 0.0419735384045383, 0.0419735384045383, 0.0419735384045383, 0.0419735384045383, 0.0419735384045383, 0.0419735384045383, 0.0419735384045383, 0.0419735384045383, 0.0419735384045383, 0.0419735384045383, 0.0419735384045383, 0.0419735384045383, 0.0419735384045383, 0.0419735384045383, 0.0419735384045383, 0.0419735384045383, 0.0419735384045383, 0.0419735384045383, 0.0419735384045383, 0.0419735384045383, 0.0419735384045383, 0.0419735384045383, 0.0419735384045383, 0.0419735384045383, 54.95365926282067, 33.53292689153152, 26.50219072568797, 22.250532317725995, 13.40748770279453, 105.19972839705973, 0.04203354729309074, 0.04203354729309074, 0.04203354729309074, 0.04203354729309074, 0.04203354729309074, 0.04203354729309074, 0.04203354729309074, 0.04203354729309074, 0.04203354729309074, 0.04203354729309074, 0.04203354729309074, 0.04203354729309074, 0.04203354729309074, 0.04203354729309074, 0.04203354729309074, 0.04203354729309074, 0.04203354729309074, 0.04203354729309074, 0.04203354729309074, 0.04203354729309074, 0.04203354729309074, 0.04203354729309074, 0.04203354729309074, 0.04203354729309074, 0.04203354729309074, 0.04203354729309074, 0.04203354729309074, 0.04203354729309074, 0.04203354729309074, 0.04203354729309074, 0.04203354729309074, 0.04203354729309074, 0.04203354729309074, 0.04203354729309074, 0.04203354729309074, 0.04203354729309074, 0.04203354729309074, 0.04203354729309074, 0.04203354729309074, 0.04203354729309074, 0.04203354729309074, 0.04203354729309074, 0.04203354729309074, 0.04203354729309074, 0.04203354729309074, 0.04203354729309074, 0.04203354729309074, 0.04203354729309074, 0.04203354729309074, 0.04203354729309074, 120.12512279556148, 91.7517214397124, 0.04716915028818873, 0.04716915028818873, 0.04716915028818873, 0.04716915028818873, 0.04716915028818873, 0.04716915028818873, 0.04716915028818873, 0.04716915028818873, 0.04716915028818873, 0.04716915028818873, 0.04716915028818873, 0.04716915028818873, 0.04716915028818873, 0.04716915028818873, 0.04716915028818873, 0.04716915028818873, 0.04716915028818873, 0.04716915028818873, 0.04716915028818873, 0.04716915028818873, 0.04716915028818873, 0.04716915028818873, 0.04716915028818873, 0.04716915028818873, 0.04716915028818873, 0.04716915028818873, 0.04716915028818873, 0.04716915028818873, 0.04716915028818873, 0.04716915028818873, 0.04716915028818873, 0.04716915028818873, 0.04716915028818873, 0.04716915028818873, 0.04716915028818873, 0.04716915028818873, 0.04716915028818873, 0.04716915028818873, 0.04716915028818873, 0.04716915028818873, 0.04716915028818873, 0.04716915028818873, 0.04716915028818873, 0.04716915028818873, 0.04716915028818873, 0.04716915028818873, 0.04716915028818873, 0.04716915028818873, 0.04716915028818873, 0.04716915028818873, 0.04716915028818873, 0.04716915028818873, 0.04716915028818873, 0.04716915028818873, 0.04716915028818873, 0.04716915028818873, 56.26260016247557, 29.20214546359772, 26.0535380818668, 12.869378598731888, 86.24425340836393, 0.046948141498034876, 0.046948141498034876, 0.046948141498034876, 0.046948141498034876, 0.046948141498034876, 0.046948141498034876, 0.046948141498034876, 0.046948141498034876, 0.046948141498034876, 0.046948141498034876, 0.046948141498034876, 0.046948141498034876, 0.046948141498034876, 0.046948141498034876, 0.046948141498034876, 0.046948141498034876, 0.046948141498034876, 0.046948141498034876, 0.046948141498034876, 0.046948141498034876, 0.046948141498034876, 0.046948141498034876, 0.046948141498034876, 0.046948141498034876, 0.046948141498034876, 0.046948141498034876, 0.046948141498034876, 0.046948141498034876, 0.046948141498034876, 0.046948141498034876, 0.046948141498034876, 0.046948141498034876, 0.046948141498034876, 0.046948141498034876, 0.046948141498034876, 0.046948141498034876, 0.046948141498034876, 0.046948141498034876, 0.046948141498034876, 0.046948141498034876, 0.046948141498034876, 0.046948141498034876, 0.046948141498034876, 0.046948141498034876, 0.046948141498034876, 0.046948141498034876, 0.046948141498034876, 0.046948141498034876, 0.046948141498034876, 0.046948141498034876, 95.08284294694965, 28.933798217433864, 27.1267731543057, 24.940825358642062, 19.787679814942205, 18.04702027488289, 13.231917814143369, 0.04420717472066989, 0.04420717472066989, 0.04420717472066989, 0.04420717472066989, 0.04420717472066989, 0.04420717472066989, 0.04420717472066989, 0.04420717472066989, 0.04420717472066989, 0.04420717472066989, 0.04420717472066989, 0.04420717472066989, 0.04420717472066989, 0.04420717472066989, 0.04420717472066989, 0.04420717472066989, 0.04420717472066989, 0.04420717472066989, 0.04420717472066989, 0.04420717472066989, 0.04420717472066989, 0.04420717472066989, 0.04420717472066989, 0.04420717472066989, 0.04420717472066989, 0.04420717472066989, 0.04420717472066989, 0.04420717472066989, 0.04420717472066989, 0.04420717472066989, 0.04420717472066989, 0.04420717472066989, 0.04420717472066989, 0.04420717472066989, 0.04420717472066989, 0.04420717472066989, 0.04420717472066989, 0.04420717472066989, 0.04420717472066989, 0.04420717472066989, 0.04420717472066989, 0.04420717472066989, 0.04420717472066989, 0.04420717472066989, 0.04420717472066989, 0.04420717472066989, 65.8873428828754, 42.00232100706872, 32.45228677795612, 30.365593689330392, 28.27147238033904, 0.047501279790862716, 0.047501279790862716, 0.047501279790862716, 0.047501279790862716, 0.047501279790862716, 0.047501279790862716, 0.047501279790862716, 0.047501279790862716, 0.047501279790862716, 0.047501279790862716, 0.047501279790862716, 0.047501279790862716, 0.047501279790862716, 0.047501279790862716, 0.047501279790862716, 0.047501279790862716, 0.047501279790862716, 0.047501279790862716, 0.047501279790862716, 0.047501279790862716, 0.047501279790862716, 0.047501279790862716, 0.047501279790862716, 0.047501279790862716, 0.047501279790862716, 0.047501279790862716, 0.047501279790862716, 0.047501279790862716, 0.047501279790862716, 0.047501279790862716, 0.047501279790862716, 0.047501279790862716, 0.047501279790862716, 0.047501279790862716, 0.047501279790862716, 0.047501279790862716, 0.047501279790862716, 0.047501279790862716, 0.047501279790862716, 0.047501279790862716, 0.047501279790862716, 0.047501279790862716, 0.047501279790862716, 0.047501279790862716, 0.047501279790862716, 0.047501279790862716, 0.047501279790862716, 0.047501279790862716, 0.047501279790862716, 0.047501279790862716, 92.3373005546527, 45.84119948579559, 20.56946825916887, 14.755047062234075, 14.233673769970856, 13.490105548985285, 11.110964783488862, 0.044924072973552914, 0.044924072973552914, 0.044924072973552914, 0.044924072973552914, 0.044924072973552914, 0.044924072973552914, 0.044924072973552914, 0.044924072973552914, 0.044924072973552914, 0.044924072973552914, 0.044924072973552914, 0.044924072973552914, 0.044924072973552914, 0.044924072973552914, 0.044924072973552914, 0.044924072973552914, 0.044924072973552914, 0.044924072973552914, 0.044924072973552914, 0.044924072973552914, 0.044924072973552914, 0.044924072973552914, 0.044924072973552914, 0.044924072973552914, 0.044924072973552914, 0.044924072973552914, 0.044924072973552914, 0.044924072973552914, 0.044924072973552914, 0.044924072973552914, 0.044924072973552914, 0.044924072973552914, 0.044924072973552914, 0.044924072973552914, 0.044924072973552914, 0.044924072973552914, 0.044924072973552914, 0.044924072973552914, 0.044924072973552914, 0.044924072973552914, 0.044924072973552914, 0.044924072973552914, 0.044924072973552914, 0.044924072973552914, 0.044924072973552914, 0.044924072973552914, 78.1282030651388, 45.36158456889335, 40.66243246574125, 36.370387355968944, 18.54912490627474, 0.043909030208019256, 0.043909030208019256, 0.043909030208019256, 0.043909030208019256, 0.043909030208019256, 0.043909030208019256, 0.043909030208019256, 0.043909030208019256, 0.043909030208019256, 0.043909030208019256, 0.043909030208019256, 0.043909030208019256, 0.043909030208019256, 0.043909030208019256, 0.043909030208019256, 0.043909030208019256, 0.043909030208019256, 0.043909030208019256, 0.043909030208019256, 0.043909030208019256, 0.043909030208019256, 0.043909030208019256, 0.043909030208019256, 0.043909030208019256, 0.043909030208019256, 0.043909030208019256, 0.043909030208019256, 0.043909030208019256, 0.043909030208019256, 0.043909030208019256, 0.043909030208019256, 0.043909030208019256, 0.043909030208019256, 0.043909030208019256, 0.043909030208019256, 0.043909030208019256, 0.043909030208019256, 0.043909030208019256, 0.043909030208019256, 0.043909030208019256, 0.043909030208019256, 0.043909030208019256, 0.043909030208019256, 0.043909030208019256, 0.043909030208019256, 0.043909030208019256, 0.043909030208019256, 0.043909030208019256, 0.043909030208019256, 0.043909030208019256, 49.10415376405503, 33.764897639131476, 21.741958198872094, 20.576182922211707, 15.688786911690553, 15.105579332696681, 13.092359781702765, 7.603353843812132, 0.04960766609939424, 0.04960766609939424, 0.04960766609939424, 0.04960766609939424, 0.04960766609939424, 0.04960766609939424, 0.04960766609939424, 0.04960766609939424, 0.04960766609939424, 0.04960766609939424, 0.04960766609939424, 0.04960766609939424, 0.04960766609939424, 0.04960766609939424, 0.04960766609939424, 0.04960766609939424, 0.04960766609939424, 0.04960766609939424, 0.04960766609939424, 0.04960766609939424, 0.04960766609939424, 0.04960766609939424, 0.04960766609939424, 0.04960766609939424, 0.04960766609939424, 0.04960766609939424, 0.04960766609939424, 0.04960766609939424, 0.04960766609939424, 0.04960766609939424, 0.04960766609939424, 0.04960766609939424, 0.04960766609939424, 0.04960766609939424, 0.04960766609939424, 0.04960766609939424, 0.04960766609939424, 0.04960766609939424, 0.04960766609939424, 0.04960766609939424, 0.04960766609939424, 0.04960766609939424, 0.04960766609939424, 0.04960766609939424, 54.91638317875801, 31.068629268348825, 23.370507242143688, 11.643940562926778, 7.1194988761931715, 0.05384240354727672, 0.05384240354727672, 0.05384240354727672, 0.05384240354727672, 0.05384240354727672, 0.05384240354727672, 0.05384240354727672, 0.05384240354727672, 0.05384240354727672, 0.05384240354727672, 0.05384240354727672, 0.05384240354727672, 0.05384240354727672, 0.05384240354727672, 0.05384240354727672, 0.05384240354727672, 0.05384240354727672, 0.05384240354727672, 0.05384240354727672, 0.05384240354727672, 0.05384240354727672, 0.05384240354727672, 0.05384240354727672, 0.05384240354727672, 0.05384240354727672, 0.05384240354727672, 0.05384240354727672, 0.05384240354727672, 0.05384240354727672, 0.05384240354727672, 0.05384240354727672, 0.05384240354727672, 0.05384240354727672, 0.05384240354727672, 0.05384240354727672, 0.05384240354727672, 0.05384240354727672, 0.05384240354727672, 0.05384240354727672, 0.05384240354727672, 0.05384240354727672, 0.05384240354727672, 0.05384240354727672, 0.05384240354727672, 0.05384240354727672, 0.05384240354727672, 0.05384240354727672, 0.05384240354727672, 0.05384240354727672, 0.05384240354727672, 53.56706697019045, 85.9116310392761, 0.05200047280686003, 0.05200047280686003, 0.05200047280686003, 0.05200047280686003, 0.05200047280686003, 0.05200047280686003, 0.05200047280686003, 0.05200047280686003, 0.05200047280686003, 0.05200047280686003, 0.05200047280686003, 0.05200047280686003, 0.05200047280686003, 0.05200047280686003, 0.05200047280686003, 0.05200047280686003, 0.05200047280686003, 0.05200047280686003, 0.05200047280686003, 0.05200047280686003, 0.05200047280686003, 0.05200047280686003, 0.05200047280686003, 0.05200047280686003, 0.05200047280686003, 0.05200047280686003, 0.05200047280686003, 0.05200047280686003, 0.05200047280686003, 0.05200047280686003, 0.05200047280686003, 0.05200047280686003, 0.05200047280686003, 0.05200047280686003, 0.05200047280686003, 0.05200047280686003, 0.05200047280686003, 0.05200047280686003, 0.05200047280686003, 0.05200047280686003, 0.05200047280686003, 0.05200047280686003, 0.05200047280686003, 0.05200047280686003, 0.05200047280686003, 0.05200047280686003, 0.05200047280686003, 0.05200047280686003, 0.05200047280686003, 0.05200047280686003, 0.05200047280686003, 0.05200047280686003, 0.05200047280686003, 0.05200047280686003, 0.05200047280686003, 0.05200047280686003, 75.92427830789804, 42.050377742841576, 0.05423636091727927, 0.05423636091727927, 0.05423636091727927, 0.05423636091727927, 0.05423636091727927, 0.05423636091727927, 0.05423636091727927, 0.05423636091727927, 0.05423636091727927, 0.05423636091727927, 0.05423636091727927, 0.05423636091727927, 0.05423636091727927, 0.05423636091727927, 0.05423636091727927, 0.05423636091727927, 0.05423636091727927, 0.05423636091727927, 0.05423636091727927, 0.05423636091727927, 0.05423636091727927, 0.05423636091727927, 0.05423636091727927, 0.05423636091727927, 0.05423636091727927, 0.05423636091727927, 0.05423636091727927, 0.05423636091727927, 0.05423636091727927, 0.05423636091727927, 0.05423636091727927, 0.05423636091727927, 0.05423636091727927, 0.05423636091727927, 0.05423636091727927, 0.05423636091727927, 0.05423636091727927, 0.05423636091727927, 0.05423636091727927, 0.05423636091727927, 0.05423636091727927, 0.05423636091727927, 0.05423636091727927, 0.05423636091727927, 0.05423636091727927, 0.05423636091727927, 0.05423636091727927, 0.05423636091727927, 0.05423636091727927, 0.05423636091727927, 0.05423636091727927, 0.05423636091727927, 0.05423636091727927, 0.05423636091727927, 0.05423636091727927, 0.05423636091727927, 39.55413013664422, 28.47394501483218, 26.00521735655521, 0.05720990194574285, 0.05720990194574285, 0.05720990194574285, 0.05720990194574285, 0.05720990194574285, 0.05720990194574285, 0.05720990194574285, 0.05720990194574285, 0.05720990194574285, 0.05720990194574285, 0.05720990194574285, 0.05720990194574285, 0.05720990194574285, 0.05720990194574285, 0.05720990194574285, 0.05720990194574285, 0.05720990194574285, 0.05720990194574285, 0.05720990194574285, 0.05720990194574285, 0.05720990194574285, 0.05720990194574285, 0.05720990194574285, 0.05720990194574285, 0.05720990194574285, 0.05720990194574285, 0.05720990194574285, 0.05720990194574285, 0.05720990194574285, 0.05720990194574285, 0.05720990194574285, 0.05720990194574285, 0.05720990194574285, 0.05720990194574285, 0.05720990194574285, 0.05720990194574285, 0.05720990194574285, 0.05720990194574285, 0.05720990194574285, 0.05720990194574285, 0.05720990194574285, 0.05720990194574285, 0.05720990194574285, 0.05720990194574285, 0.05720990194574285, 0.05720990194574285, 0.05720990194574285, 0.05720990194574285, 0.05720990194574285, 0.05720990194574285, 0.05720990194574285, 0.05720990194574285, 0.05720990194574285, 0.05720990194574285, 60.124063144588376, 52.81988329266922, 0.05411433151360663, 0.05411433151360663, 0.05411433151360663, 0.05411433151360663, 0.05411433151360663, 0.05411433151360663, 0.05411433151360663, 0.05411433151360663, 0.05411433151360663, 0.05411433151360663, 0.05411433151360663, 0.05411433151360663, 0.05411433151360663, 0.05411433151360663, 0.05411433151360663, 0.05411433151360663, 0.05411433151360663, 0.05411433151360663, 0.05411433151360663, 0.05411433151360663, 0.05411433151360663, 0.05411433151360663, 0.05411433151360663, 0.05411433151360663, 0.05411433151360663, 0.05411433151360663, 0.05411433151360663, 0.05411433151360663, 0.05411433151360663, 0.05411433151360663, 0.05411433151360663, 0.05411433151360663, 0.05411433151360663, 0.05411433151360663, 0.05411433151360663, 0.05411433151360663, 0.05411433151360663, 0.05411433151360663, 0.05411433151360663, 0.05411433151360663, 0.05411433151360663, 0.05411433151360663, 0.05411433151360663, 0.05411433151360663, 0.05411433151360663, 0.05411433151360663, 0.05411433151360663, 0.05411433151360663, 0.05411433151360663, 0.05411433151360663, 0.05411433151360663, 0.05411433151360663, 0.05411433151360663, 0.05411433151360663, 0.05411433151360663, 0.05411433151360663, 54.06626912878087, 34.03390895498319, 0.05749521844108488, 0.05749521844108488, 0.05749521844108488, 0.05749521844108488, 0.05749521844108488, 0.05749521844108488, 0.05749521844108488, 0.05749521844108488, 0.05749521844108488, 0.05749521844108488, 0.05749521844108488, 0.05749521844108488, 0.05749521844108488, 0.05749521844108488, 0.05749521844108488, 0.05749521844108488, 0.05749521844108488, 0.05749521844108488, 0.05749521844108488, 0.05749521844108488, 0.05749521844108488, 0.05749521844108488, 0.05749521844108488, 0.05749521844108488, 0.05749521844108488, 0.05749521844108488, 0.05749521844108488, 0.05749521844108488, 0.05749521844108488, 0.05749521844108488, 0.05749521844108488, 0.05749521844108488, 0.05749521844108488, 0.05749521844108488, 0.05749521844108488, 0.05749521844108488, 0.05749521844108488, 0.05749521844108488, 0.05749521844108488, 0.05749521844108488, 0.05749521844108488, 0.05749521844108488, 0.05749521844108488, 0.05749521844108488, 0.05749521844108488, 0.05749521844108488, 0.05749521844108488, 0.05749521844108488, 0.05749521844108488, 0.05749521844108488, 0.05749521844108488, 0.05749521844108488, 0.05749521844108488, 0.05749521844108488, 0.05749521844108488, 0.05749521844108488, 51.541136104092054, 22.743343247209385, 0.05919445914408091, 0.05919445914408091, 0.05919445914408091, 0.05919445914408091, 0.05919445914408091, 0.05919445914408091, 0.05919445914408091, 0.05919445914408091, 0.05919445914408091, 0.05919445914408091, 0.05919445914408091, 0.05919445914408091, 0.05919445914408091, 0.05919445914408091, 0.05919445914408091, 0.05919445914408091, 0.05919445914408091, 0.05919445914408091, 0.05919445914408091, 0.05919445914408091, 0.05919445914408091, 0.05919445914408091, 0.05919445914408091, 0.05919445914408091, 0.05919445914408091, 0.05919445914408091, 0.05919445914408091, 0.05919445914408091, 0.05919445914408091, 0.05919445914408091, 0.05919445914408091, 0.05919445914408091, 0.05919445914408091, 0.05919445914408091, 0.05919445914408091, 0.05919445914408091, 0.05919445914408091, 0.05919445914408091, 0.05919445914408091, 0.05919445914408091, 0.05919445914408091, 0.05919445914408091, 0.05919445914408091, 0.05919445914408091, 0.05919445914408091, 0.05919445914408091, 0.05919445914408091, 0.05919445914408091, 0.05919445914408091, 0.05919445914408091, 0.05919445914408091, 0.05919445914408091, 0.05919445914408091, 0.05919445914408091, 0.05919445914408091, 0.05919445914408091, 59.70835091199595, 8.051339239820994, 0.059969424293148464, 0.059969424293148464, 0.059969424293148464, 0.059969424293148464, 0.059969424293148464, 0.059969424293148464, 0.059969424293148464, 0.059969424293148464, 0.059969424293148464, 0.059969424293148464, 0.059969424293148464, 0.059969424293148464, 0.059969424293148464, 0.059969424293148464, 0.059969424293148464, 0.059969424293148464, 0.059969424293148464, 0.059969424293148464, 0.059969424293148464, 0.059969424293148464, 0.059969424293148464, 0.059969424293148464, 0.059969424293148464, 0.059969424293148464, 0.059969424293148464, 0.059969424293148464, 0.059969424293148464, 0.059969424293148464, 0.059969424293148464, 0.059969424293148464, 0.059969424293148464, 0.059969424293148464, 0.059969424293148464, 0.059969424293148464, 0.059969424293148464, 0.059969424293148464, 0.059969424293148464, 0.059969424293148464, 0.059969424293148464, 0.059969424293148464, 0.059969424293148464, 0.059969424293148464, 0.059969424293148464, 0.059969424293148464, 0.059969424293148464, 0.059969424293148464, 0.059969424293148464, 0.059969424293148464, 0.059969424293148464, 0.059969424293148464, 0.059969424293148464, 0.059969424293148464, 0.059969424293148464, 0.059969424293148464, 0.059969424293148464, 0.059969424293148464, 0.06781173205988311, 0.06781173205988311, 0.06781173205988311, 0.06781173205988311, 0.06781173205988311, 0.06781173205988311, 0.06781173205988311, 0.06781173205988311, 0.06781173205988311, 0.06781173205988311, 0.06781173205988311, 0.06781173205988311, 0.06781173205988311, 0.06781173205988311, 0.06781173205988311, 0.06781173205988311, 0.06781173205988311, 0.06781173205988311, 0.06781173205988311, 0.06781173205988311, 0.06781173205988311, 0.06781173205988311, 0.06781173205988311, 0.06781173205988311, 0.06781173205988311, 0.06781173205988311, 0.06781173205988311, 0.06781173205988311, 0.06781173205988311, 0.06781173205988311, 0.06781173205988311, 0.06781173205988311, 0.06781173205988311, 0.06781173205988311, 0.06781173205988311, 0.06781173205988311, 0.06781173205988311, 0.06781173205988311, 0.06781173205988311, 0.06781173205988311, 0.06781173205988311, 0.06781173205988311, 0.06781173205988311, 0.06781173205988311, 0.06781173205988311, 0.06781173205988311, 0.06781173205988311, 0.06781173205988311, 0.06781173205988311, 0.06781173205988311, 0.06781173205988311, 0.06781173205988311, 0.06781173205988311, 0.06781173205988311, 0.06781173205988311, 0.06781173205988311, 0.06781173205988311, 0.06781173205988311, 0.06781173205988311, 0.06781173205988311, 0.06781173205988311, 0.06781173205988311, 0.06781173205988311, 0.06781173205988311, 0.06781173205988311, 0.06781173205988311, 0.06781173205988311, 0.06781173205988311, 0.06781173205988311, 0.06781173205988311, 0.06781173205988311, 0.06781173205988311, 0.06781173205988311, 0.06781173205988311, 0.06781173205988311, 0.06781173205988311, 0.06781173205988311, 0.06781173205988311, 0.06781173205988311, 0.06781173205988311, 0.06781173205988311, 0.06781173205988311, 0.06781173205988311, 0.06781173205988311, 0.06781173205988311, 0.06781173205988311, 0.06781173205988311, 0.06781173205988311, 0.06781173205988311, 0.06781173205988311, 0.06781173205988311, 0.06781173205988311, 0.06781173205988311, 0.06781173205988311, 0.06781173205988311, 0.06781173205988311, 0.06781173205988311, 0.06781173205988311, 0.06781173205988311, 0.06781173205988311, 0.06781173205988311, 0.06781173205988311, 0.06781173205988311, 0.06781173205988311, 0.06781173205988311, 0.06781173205988311, 0.06781173205988311, 0.06781173205988311, 0.06781173205988311, 0.06781173205988311, 0.06781173205988311, 0.06781173205988311, 0.06781173205988311, 0.06781173205988311, 0.06781173205988311, 0.06781173205988311, 0.06781173205988311, 0.06781173205988311, 0.06781173205988311, 0.06781173205988311, 0.06781173205988311, 0.06781173205988311, 0.06781173205988311, 0.06781173205988311, 0.06781173205988311, 0.06781173205988311, 0.06781173205988311, 0.06781173205988311, 0.06781173205988311, 0.06781173205988311, 0.06781173205988311, 0.06781173205988311, 0.06781173205988311, 0.06781173205988311, 0.06781173205988311, 0.06781173205988311, 0.06781173205988311, 0.06781173205988311, 0.06781173205988311, 0.06781173205988311, 0.06781173205988311, 0.06781173205988311, 0.06781173205988311, 0.06781173205988311, 0.06781173205988311, 0.06781173205988311, 0.06781173205988311, 0.06781173205988311, 0.06781173205988311, 0.06781173205988311, 0.06781173205988311, 0.06781173205988311, 0.06781173205988311, 0.06781173205988311, 0.06781173205988311, 0.06781173205988311, 0.06781173205988311, 0.06781173205988311, 0.06781173205988311, 0.06781173205988311, 0.06781173205988311, 0.06781173205988311, 0.06781173205988311, 0.06781173205988311, 0.06781173205988311, 0.06781173205988311, 0.06781173205988311, 0.06781173205988311, 0.06781173205988311, 0.06781173205988311, 0.06781173205988311, 0.06781173205988311, 0.06781173205988311, 0.06781173205988311, 0.06781173205988311, 0.06781173205988311, 0.06781173205988311, 0.06781173205988311, 0.06781173205988311, 0.06781173205988311, 0.06781173205988311, 0.06781173205988311, 0.06781173205988311, 0.06781173205988311, 0.06781173205988311, 0.06781173205988311, 0.06781173205988311, 0.06781173205988311, 0.06781173205988311, 0.06781173205988311, 0.06781173205988311, 0.06781173205988311, 0.06781173205988311, 0.06781173205988311, 0.06781173205988311, 0.06781173205988311, 0.06781173205988311, 0.06781173205988311, 0.06781173205988311, 0.06781173205988311, 0.06781173205988311, 0.06781173205988311, 0.06781173205988311, 0.06781173205988311, 0.06781173205988311, 0.06781173205988311, 0.06781173205988311, 0.06781173205988311, 0.06781173205988311, 0.06781173205988311, 0.06781173205988311, 0.06781173205988311, 0.06781173205988311, 0.06781173205988311, 0.06781173205988311, 0.06781173205988311, 0.06781173205988311, 0.06781173205988311, 0.06781173205988311, 0.06781173205988311, 0.06781173205988311, 0.06781173205988311, 0.06781173205988311, 0.06781173205988311, 0.06781173205988311, 0.06781173205988311, 0.06781173205988311, 0.06781173205988311, 0.06781173205988311, 0.06781173205988311, 0.06781173205988311, 0.06781173205988311, 0.06781173205988311, 0.06781173205988311, 0.06781173205988311, 0.06781173205988311, 0.06781173205988311, 0.06781173205988311, 0.06781173205988311, 0.06781173205988311, 0.06781173205988311, 0.06781173205988311, 0.06781173205988311, 0.06781173205988311, 0.06781173205988311, 0.06781173205988311, 0.06781173205988311, 0.06781173205988311, 0.06781173205988311, 0.06781173205988311, 0.06781173205988311, 0.06781173205988311, 0.06781173205988311, 0.06781173205988311, 0.06781173205988311, 0.06781173205988311, 0.06781173205988311, 0.06781173205988311, 0.06781173205988311, 0.06781173205988311, 0.06781173205988311, 0.06781173205988311, 0.06781173205988311, 0.06781173205988311, 0.06781173205988311, 0.06781173205988311, 0.06781173205988311, 0.06781173205988311, 0.06781173205988311, 0.06781173205988311, 0.06781173205988311, 0.06781173205988311, 0.06781173205988311, 0.06781173205988311, 0.06781173205988311, 0.06781173205988311, 0.06781173205988311, 0.06781173205988311, 0.06781173205988311, 0.06781173205988311, 0.06781173205988311, 0.06781173205988311, 0.06781173205988311, 0.06781173205988311, 0.06781173205988311, 0.06781173205988311, 0.06781173205988311, 0.06781173205988311, 0.06781173205988311, 0.06781173205988311, 0.06781173205988311, 0.06781173205988311, 0.06781173205988311, 0.06781173205988311, 0.06781173205988311, 0.06781173205988311, 0.06781173205988311, 0.06781173205988311, 0.06781173205988311, 0.06781173205988311, 0.06781173205988311, 0.06781173205988311, 0.06781173205988311, 0.06781173205988311, 0.06781173205988311, 0.06781173205988311, 0.06781173205988311, 0.06781173205988311, 0.06781173205988311, 0.06781173205988311, 0.06781173205988311, 0.06781173205988311, 0.06781173205988311, 0.06781173205988311, 0.06781173205988311, 0.06781173205988311, 0.06781173205988311, 0.06781173205988311, 0.06781173205988311, 0.06781173205988311, 0.06781173205988311, 0.06781173205988311, 0.06781173205988311, 0.06781173205988311, 0.06781173205988311, 0.06781173205988311, 0.06781173205988311, 0.06781173205988311, 0.06781173205988311, 0.06781173205988311, 0.06781173205988311, 0.06781173205988311, 0.06781173205988311, 0.06781173205988311, 0.06781173205988311, 0.06781173205988311, 0.06781173205988311, 0.06781173205988311, 0.06781173205988311, 0.06781173205988311, 0.06781173205988311, 0.06781173205988311, 0.06781173205988311, 0.06781173205988311, 0.06781173205988311, 0.06781173205988311, 0.06781173205988311, 0.06781173205988311, 0.06781173205988311, 0.06781173205988311, 0.06781173205988311, 0.06781173205988311, 0.06781173205988311, 0.06781173205988311, 0.06781173205988311, 0.06781173205988311, 0.06781173205988311, 0.06781173205988311, 0.06781173205988311, 0.06781173205988311, 0.06781173205988311, 0.06781173205988311, 0.06781173205988311, 0.06781173205988311, 0.06781173205988311, 0.06781173205988311, 0.06781173205988311, 0.06781173205988311, 0.06781173205988311, 0.06781173205988311, 0.06781173205988311, 0.06781173205988311, 0.06781173205988311, 0.06781173205988311, 0.06781173205988311, 0.06781173205988311, 0.06781173205988311, 0.06781173205988311, 0.06781173205988311, 0.06781173205988311, 0.06781173205988311, 0.06781173205988311, 0.06781173205988311, 0.06781173205988311, 0.06781173205988311, 0.06781173205988311, 0.06781173205988311, 0.06781173205988311, 0.06781173205988311, 0.06781173205988311, 0.06781173205988311, 0.06781173205988311, 0.06781173205988311, 0.06781173205988311, 0.06781173205988311, 0.06781173205988311, 0.06781173205988311, 0.06781173205988311, 0.06781173205988311, 0.06781173205988311, 0.06781173205988311, 0.06781173205988311, 0.06781173205988311, 0.06781173205988311, 0.06781173205988311, 0.06781173205988311, 0.06781173205988311, 0.06781173205988311, 0.06781173205988311, 0.06781173205988311, 0.06781173205988311, 0.06781173205988311, 0.06781173205988311, 0.06781173205988311, 0.06781173205988311, 0.06781173205988311, 0.06781173205988311, 0.06781173205988311, 0.06781173205988311, 0.06781173205988311, 0.06781173205988311, 0.06781173205988311, 0.06781173205988311, 0.06781173205988311, 0.06781173205988311, 0.06781173205988311, 0.06781173205988311, 0.06781173205988311, 0.06781173205988311, 0.06781173205988311, 0.06781173205988311, 0.06781173205988311, 0.06781173205988311, 0.06781173205988311, 0.06781173205988311, 0.06781173205988311, 0.06781173205988311, 0.06781173205988311, 0.06781173205988311, 0.06781173205988311, 0.06781173205988311, 0.06781173205988311, 0.06781173205988311, 0.06781173205988311, 0.06781173205988311, 0.06781173205988311, 0.06781173205988311, 0.06781173205988311, 0.06781173205988311, 0.06781173205988311, 0.06781173205988311, 0.06781173205988311, 0.06781173205988311, 0.06781173205988311, 0.06781173205988311, 0.06781173205988311, 0.06781173205988311, 0.06781173205988311, 0.06781173205988311, 0.06781173205988311, 0.06781173205988311, 0.06781173205988311, 0.06781173205988311, 0.06781173205988311, 0.06781173205988311, 0.06781173205988311, 0.06781173205988311, 0.06781173205988311, 0.06781173205988311, 0.06781173205988311, 0.06781173205988311, 0.06781173205988311, 0.06781173205988311, 0.06781173205988311, 0.06781173205988311, 0.06781173205988311, 0.06781173205988311, 0.06781173205988311, 0.06781173205988311, 0.06781173205988311, 0.06781173205988311, 0.06781173205988311, 0.06781173205988311, 0.06781173205988311, 0.06781173205988311, 0.06781173205988311, 0.06781173205988311, 0.06781173205988311, 0.06781173205988311, 0.06781173205988311, 0.06781173205988311, 0.06781173205988311, 0.06781173205988311, 0.06781173205988311, 0.06781173205988311, 0.06781173205988311, 0.06781173205988311, 0.06781173205988311, 0.06781173205988311, 0.06781173205988311, 0.06781173205988311, 0.06781173205988311, 0.06781173205988311, 0.06781173205988311, 0.06781173205988311, 0.06781173205988311, 0.06781173205988311, 0.06781173205988311, 0.06781173205988311, 0.06781173205988311, 0.06781173205988311, 0.06781173205988311, 0.06781173205988311, 0.06781173205988311, 0.06781173205988311, 0.06781173205988311, 0.06781173205988311, 0.06781173205988311, 0.06781173205988311, 0.06781173205988311, 0.06781173205988311, 0.06781173205988311, 0.06781173205988311, 0.06781173205988311, 0.06781173205988311, 0.06781173205988311, 0.06781173205988311, 0.06781173205988311, 0.06781173205988311, 0.06781173205988311, 0.06781173205988311, 0.06781173205988311, 0.06781173205988311, 0.06781173205988311, 0.06781173205988311, 0.06781173205988311, 0.06781173205988311, 0.06781173205988311, 0.06781173205988311, 0.06781173205988311, 0.06781173205988311, 0.06781173205988311, 0.06781173205988311, 0.06781173205988311, 0.06781173205988311, 0.06781173205988311, 0.06781173205988311, 0.06781173205988311, 0.06781173205988311, 0.06781173205988311, 0.06781173205988311, 0.06781173205988311, 0.06781173205988311, 0.06781173205988311, 0.06781173205988311, 0.06781173205988311, 0.06781173205988311, 0.06781173205988311, 0.06781173205988311, 0.06781173205988311, 0.06781173205988311, 0.06781173205988311, 0.06781173205988311, 0.06781173205988311, 0.06781173205988311, 0.06781173205988311, 0.06781173205988311, 0.06781173205988311, 0.06781173205988311, 0.06781173205988311, 0.06781173205988311, 0.06781173205988311, 0.06781173205988311, 0.06781173205988311, 0.06781173205988311, 0.06781173205988311, 0.06781173205988311, 0.06781173205988311, 0.06781173205988311, 0.06781173205988311, 0.06781173205988311, 0.06781173205988311, 0.06781173205988311, 0.06781173205988311, 0.06781173205988311, 0.06781173205988311, 0.06781173205988311, 0.06781173205988311, 0.06781173205988311, 0.06781173205988311, 0.06781173205988311, 0.06781173205988311, 0.06781173205988311, 0.06781173205988311, 0.06781173205988311, 0.06781173205988311, 0.06781173205988311, 0.06781173205988311, 0.06781173205988311, 0.06781173205988311, 0.06781173205988311, 0.06781173205988311, 0.06781173205988311, 0.06781173205988311, 0.06781173205988311, 0.06781173205988311, 0.06781173205988311, 0.06781173205988311, 0.06781173205988311, 0.06781173205988311, 0.06781173205988311, 0.06781173205988311, 0.06781173205988311, 0.06781173205988311, 0.06781173205988311, 0.06781173205988311, 0.06781173205988311, 0.06781173205988311, 0.06781173205988311, 0.06781173205988311, 0.06781173205988311, 0.06781173205988311, 0.06781173205988311, 0.06781173205988311, 0.06781173205988311, 0.06781173205988311, 0.06781173205988311, 0.06781173205988311, 0.06781173205988311, 0.06781173205988311, 0.06781173205988311, 0.06781173205988311, 0.06781173205988311, 0.06781173205988311, 0.06781173205988311, 0.06781173205988311, 0.06781173205988311, 0.06781173205988311, 0.06781173205988311, 0.06781173205988311, 0.06781173205988311, 0.06781173205988311, 0.06781173205988311, 0.06781173205988311, 0.06781173205988311, 0.06781173205988311, 0.06781173205988311, 0.06781173205988311, 0.06781173205988311, 0.06781173205988311, 0.06781173205988311, 0.06781173205988311, 0.06781173205988311, 0.06781173205988311, 0.06781173205988311, 0.06781173205988311, 0.06781173205988311, 0.06781173205988311, 0.06781173205988311, 0.06781173205988311], \"Term\": [\"date\", \"array\", \"user\", \"android\", \"value\", \"self\", \"key\", \"model\", \"csv\", \"request\", \"row\", \"class\", \"import\", \"firebase\", \"upload\", \"app\", \"let\", \"form\", \"react\", \"vue\", \"table\", \"column\", \"category\", \"const\", \"view\", \"var\", \"div\", \"std\", \"azure\", \"server\", \"int\", \"json\", \"api\", \"response\", \"string\", \"system\", \"process\", \"task\", \"program\", \"token\", \"users\", \"library\", \"folder\", \"site\", \"err\", \"name\", \"instance\", \"file\", \"str\", \"define\", \"await\", \"download\", \"lib\", \"sort\", \"character\", \"reference\", \"windows\", \"async\", \"directory\", \"debug\", \"python\", \"read\", \"object\", \"time\", \"result\", \"write\", \"number\", \"message\", \"call\", \"find\", \"new\", \"create\", \"print\", \"list\", \"follow\", \"would\", \"line\", \"data\", \"start\", \"test\", \"return\", \"need\", \"way\", \"one\", \"set\", \"get\", \"function\", \"log\", \"value\", \"user\", \"type\", \"public\", \"request\", \"array\", \"add\", \"app\", \"import\", \"class\", \"col\", \"span\", \"href\", \"font\", \"center\", \"btn\", \"border\", \"getelementbyid\", \"margin\", \"red\", \"modal\", \"dropdown\", \"navigation\", \"align\", \"nav\", \"animation\", \"svg\", \"scale\", \"checkbox\", \"flex\", \"toggle\", \"navbar\", \"listview\", \"scroll\", \"hover\", \"quote\", \"blue\", \"firefox\", \"cart\", \"panel\", \"div\", \"style\", \"jquery\", \"css\", \"width\", \"icon\", \"button\", \"img\", \"height\", \"menu\", \"color\", \"pad\", \"click\", \"background\", \"text\", \"html\", \"label\", \"form\", \"class\", \"image\", \"title\", \"page\", \"item\", \"row\", \"option\", \"display\", \"document\", \"input\", \"element\", \"function\", \"value\", \"mongodb\", \"oracle\", \"varchar\", \"postgres\", \"mongoose\", \"car\", \"woocommerce\", \"region\", \"graphql\", \"john\", \"meet\", \"schedule\", \"average\", \"pivot\", \"cost\", \"payment\", \"volume\", \"databases\", \"mask\", \"purchase\", \"elastic\", \"department\", \"colour\", \"luck\", \"digits\", \"dbo\", \"roles\", \"checkout\", \"business\", \"distinct\", \"query\", \"duration\", \"hash\", \"schema\", \"sql\", \"cat\", \"table\", \"relationship\", \"userid\", \"select\", \"nod\", \"group\", \"country\", \"row\", \"insert\", \"join\", \"mysql\", \"column\", \"customer\", \"order\", \"sum\", \"jar\", \"maven\", \"repository\", \"springframework\", \"spring\", \"boot\", \"logger\", \"unity\", \"artifactid\", \"groupid\", \"snapshot\", \"jdbc\", \"myapp\", \"symfony\", \"bean\", \"scanner\", \"annotation\", \"hibernate\", \"yaml\", \"optional\", \"abstract\", \"chat\", \"connector\", \"javax\", \"pom\", \"javafx\", \"httpclient\", \"doesnt\", \"orm\", \"sun\", \"org\", \"java\", \"entity\", \"dependency\", \"apache\", \"xml\", \"powershell\", \"security\", \"public\", \"property\", \"microsoft\", \"version\", \"private\", \"class\", \"configuration\", \"ssl\", \"nginx\", \"kafka\", \"connections\", \"servers\", \"tcp\", \"clients\", \"unix\", \"stmt\", \"tls\", \"comma\", \"disconnect\", \"pdo\", \"cert\", \"reply\", \"sqlalchemy\", \"xampp\", \"signup\", \"volumes\", \"iis\", \"establish\", \"usb\", \"apt\", \"broker\", \"pem\", \"rsa\", \"love\", \"smtp\", \"dob\", \"kubernetes\", \"docker\", \"compose\", \"socket\", \"secret\", \"certificate\", \"port\", \"mysql\", \"mysqli\", \"mail\", \"conf\", \"connection\", \"uid\", \"connect\", \"username\", \"worker\", \"host\", \"server\", \"password\", \"sql\", \"php\", \"localhost\", \"database\", \"container\", \"client\", \"email\", \"query\", \"redux\", \"localstorage\", \"jest\", \"usestate\", \"useeffect\", \"creator\", \"router\", \"nuxt\", \"jsx\", \"dirname\", \"componentdidmount\", \"blade\", \"proptypes\", \"reducer\", \"yarn\", \"axios\", \"cjs\", \"devtools\", \"prop\", \"ejs\", \"express\", \"lifecycle\", \"touchableopacity\", \"bodyparser\", \"react\", \"gatsby\", \"itemtemplate\", \"codesandbox\", \"xxxxxx\", \"fetchdata\", \"observable\", \"setstate\", \"component\", \"frontend\", \"native\", \"state\", \"loader\", \"hook\", \"const\", \"components\", \"dispatch\", \"export\", \"render\", \"rout\", \"classname\", \"res\", \"serve\", \"angular\", \"import\", \"req\", \"app\", \"console\", \"route\", \"vue\", \"div\", \"module\", \"return\", \"action\", \"log\", \"textview\", \"toast\", \"apk\", \"drawable\", \"androidx\", \"imageview\", \"mainactivity\", \"intent\", \"edittext\", \"scrollview\", \"linearlayout\", \"activitythread\", \"orientation\", \"constraintlayout\", \"distribute\", \"gms\", \"sms\", \"samsung\", \"setonclicklistener\", \"maketext\", \"inflate\", \"appcompat\", \"voice\", \"gravity\", \"margintop\", \"putextra\", \"startactivity\", \"getapplicationcontext\", \"nonnull\", \"relativelayout\", \"android\", \"layout\", \"fragment\", \"activity\", \"assets\", \"manifest\", \"gradle\", \"override\", \"xml\", \"parent\", \"view\", \"permission\", \"java\", \"app\", \"com\", \"void\", \"rsoftware\", \"height\", \"public\", \"widget\", \"width\", \"context\", \"train\", \"tensorflow\", \"keras\", \"reduce\", \"predict\", \"subset\", \"tensor\", \"reshape\", \"accuracy\", \"concatenate\", \"prediction\", \"seed\", \"dense\", \"conv\", \"epoch\", \"activation\", \"initializer\", \"ptr\", \"gather\", \"sensor\", \"kernel\", \"rng\", \"pred\", \"epochs\", \"classification\", \"rate\", \"randint\", \"ax\", \"optimizer\", \"sess\", \"loss\", \"shape\", \"msg\", \"layer\", \"fit\", \"cross\", \"numpy\", \"distribution\", \"model\", \"dataset\", \"batch\", \"sample\", \"weight\", \"plot\", \"size\", \"input\", \"random\", \"self\", \"git\", \"deployment\", \"ssh\", \"heroku\", \"portal\", \"gitlab\", \"cordova\", \"splash\", \"jenkins\", \"probability\", \"outcome\", \"karma\", \"reuse\", \"npm\", \"refs\", \"respect\", \"configurations\", \"gcloud\", \"hear\", \"culture\", \"arbitrary\", \"proj\", \"bat\", \"handshake\", \"debian\", \"gunicorn\", \"suppress\", \"installation\", \"alpine\", \"sqlite\", \"prod\", \"production\", \"stage\", \"computer\", \"env\", \"install\", \"deploy\", \"pip\", \"paths\", \"dll\", \"environment\", \"commit\", \"cli\", \"node\", \"modules\", \"build\", \"repo\", \"angular\", \"package\", \"instal\", \"remote\", \"version\", \"docker\", \"project\", \"vba\", \"workbook\", \"worksheet\", \"clanguageolumn\", \"worksheets\", \"sheet\", \"xls\", \"dim\", \"decrease\", \"activesheet\", \"workbooks\", \"matlab\", \"inactive\", \"xlsx\", \"clanguageell\", \"sale\", \"msgbox\", \"macro\", \"adjacent\", \"activecell\", \"hwnd\", \"mmm\", \"excel\", \"cells\", \"vlookup\", \"formula\", \"dropbox\", \"xlsm\", \"isauthenticated\", \"countif\", \"sub\", \"cell\", \"range\", \"row\", \"end\", \"copy\", \"column\", \"value\", \"next\", \"set\", \"count\", \"negative\", \"dataframes\", \"positive\", \"multiply\", \"nrow\", \"regexp\", \"dice\", \"iloc\", \"guid\", \"forecast\", \"hand\", \"permit\", \"inplace\", \"lst\", \"workers\", \"goals\", \"birth\", \"dplyr\", \"lag\", \"infile\", \"subtract\", \"mvn\", \"predefined\", \"yyyy\", \"rbind\", \"robot\", \"prime\", \"matcher\", \"dask\", \"universal\", \"dataframe\", \"matrix\", \"sum\", \"pandas\", \"series\", \"datetime\", \"columns\", \"column\", \"row\", \"loc\", \"date\", \"group\", \"drop\", \"format\", \"index\", \"value\", \"convert\", \"correspond\", \"stock\", \"typename\", \"quantity\", \"carousel\", \"encrypt\", \"utc\", \"slug\", \"tick\", \"decrypt\", \"jan\", \"ldap\", \"buy\", \"separately\", \"polygon\", \"qty\", \"avg\", \"inc\", \"tuples\", \"jsfiddle\", \"productid\", \"catalina\", \"shortcut\", \"chip\", \"bufferedreader\", \"stackblitz\", \"estimate\", \"prev\", \"cube\", \"highcharts\", \"operators\", \"products\", \"price\", \"product\", \"ctx\", \"foo\", \"bar\", \"categories\", \"template\", \"textfield\", \"serialize\", \"charfield\", \"emp\", \"datasnapshot\", \"serializer\", \"fruit\", \"foreignkey\", \"django\", \"choices\", \"migrations\", \"queryset\", \"inventory\", \"exercise\", \"textinput\", \"inheritance\", \"serverless\", \"databaseerror\", \"integerfield\", \"endfor\", \"dosomething\", \"activerecord\", \"seperate\", \"doctrine\", \"typically\", \"viewchild\", \"parentid\", \"twig\", \"arrows\", \"databasereference\", \"manager\", \"model\", \"cascade\", \"meta\", \"form\", \"field\", \"kwargs\", \"self\", \"template\", \"max\", \"class\", \"admin\", \"request\", \"def\", \"view\", \"user\", \"length\", \"oauth\", \"tweet\", \"illuminate\", \"csrf\", \"httpcontext\", \"cookie\", \"utilize\", \"artisan\", \"logout\", \"jinja\", \"wide\", \"getresponse\", \"redirection\", \"appid\", \"streamreader\", \"autoload\", \"guest\", \"authorization\", \"playlist\", \"cookies\", \"throttle\", \"dose\", \"browse\", \"crm\", \"expire\", \"vendor\", \"flask\", \"middleware\", \"redirect\", \"httpwebrequest\", \"authenticate\", \"login\", \"auth\", \"credentials\", \"authentication\", \"admin\", \"session\", \"password\", \"laravel\", \"route\", \"user\", \"request\", \"php\", \"rout\", \"http\", \"redis\", \"subscription\", \"amazon\", \"iam\", \"bus\", \"jwt\", \"architecture\", \"firewall\", \"insights\", \"rds\", \"regardless\", \"resttemplate\", \"cipher\", \"cognito\", \"accesstoken\", \"apikey\", \"terraform\", \"subnet\", \"gmt\", \"correlation\", \"suite\", \"cash\", \"dns\", \"substitute\", \"vpc\", \"requestid\", \"office\", \"ecs\", \"microservice\", \"computers\", \"postman\", \"consumer\", \"rxjs\", \"aug\", \"grant\", \"aws\", \"lambda\", \"gateway\", \"mat\", \"distance\", \"rect\", \"safari\", \"stroke\", \"simulator\", \"webkit\", \"pickle\", \"star\", \"vec\", \"clip\", \"flip\", \"artifacts\", \"lapply\", \"ord\", \"timeline\", \"stretch\", \"imshow\", \"recognition\", \"underline\", \"sqrt\", \"iris\", \"precision\", \"verification\", \"transformation\", \"currentpage\", \"bullet\", \"slower\", \"dst\", \"risk\", \"graphics\", \"radius\", \"longitude\", \"latitude\", \"opencv\", \"location\", \"indexpath\", \"objectid\", \"timezone\", \"picker\", \"collectionview\", \"guard\", \"datepicker\", \"viewdidload\", \"crop\", \"uitableview\", \"uiimage\", \"weak\", \"gridview\", \"thumb\", \"segue\", \"uicollectionview\", \"mylist\", \"iboutlet\", \"observations\", \"objc\", \"degrees\", \"uicolor\", \"uikit\", \"gettime\", \"incomplete\", \"uilabel\", \"cgrect\", \"zone\", \"heavy\", \"withidentifier\", \"nil\", \"swift\", \"func\", \"completion\", \"let\", \"self\", \"cell\", \"view\", \"animate\", \"selector\", \"frame\", \"var\", \"topic\", \"balance\", \"ansible\", \"mainwindow\", \"attributeerror\", \"cron\", \"viewcontroller\", \"stdin\", \"processor\", \"pseudo\", \"pyqt\", \"decorator\", \"urllib\", \"adb\", \"uiviewcontroller\", \"rnorm\", \"independent\", \"comprehension\", \"qtwidgets\", \"stamp\", \"generation\", \"qwidget\", \"wizard\", \"ibaction\", \"inter\", \"qpushbutton\", \"webapi\", \"searchbar\", \"ambiguous\", \"david\", \"player\", \"self\", \"def\", \"webdriver\", \"xaml\", \"chromedriver\", \"fig\", \"wpf\", \"datatemplate\", \"datagrid\", \"presentation\", \"signin\", \"findelement\", \"selenium\", \"formatter\", \"chromeoptions\", \"notation\", \"hyperlink\", \"textblock\", \"openqa\", \"subplots\", \"setproperty\", \"modelbuilder\", \"experimental\", \"matplotlib\", \"appearance\", \"viewmodel\", \"figsize\", \"observablecollection\", \"mvvm\", \"nullreferenceexception\", \"expiration\", \"datacontext\", \"plt\", \"driver\", \"pyplot\", \"chrome\", \"bind\", \"options\", \"schemas\", \"flutter\", \"dart\", \"buildcontext\", \"textstyle\", \"onpressed\", \"edgeinsets\", \"scaffold\", \"borderradius\", \"handlechange\", \"statefulwidget\", \"integrity\", \"fontfamily\", \"statelesswidget\", \"digest\", \"streambuilder\", \"createstate\", \"formbuilder\", \"ontap\", \"floatingactionbutton\", \"mainaxisalignment\", \"boxdecoration\", \"widget\", \"itembuilder\", \"ctl\", \"children\", \"listtile\", \"inkwell\", \"inputdecoration\", \"onblur\", \"fontsize\", \"child\", \"context\", \"color\", \"decoration\", \"builder\", \"material\", \"icons\", \"build\", \"final\", \"aes\", \"ggplot\", \"twitter\", \"geom\", \"chart\", \"video\", \"frequency\", \"music\", \"delta\", \"gcp\", \"tibble\", \"chr\", \"rstudio\", \"continuous\", \"spatial\", \"plane\", \"boxplot\", \"pan\", \"repeatedly\", \"jupyter\", \"itertools\", \"notebook\", \"kick\", \"contribute\", \"uniqueid\", \"upto\", \"plot\", \"baseline\", \"characteristics\", \"stat\", \"tbl\", \"august\", \"dat\", \"categorical\", \"usd\", \"consecutive\", \"coffee\", \"dec\", \"occurrences\", \"association\", \"monday\", \"month\", \"central\", \"feb\", \"mon\", \"jul\", \"ifelse\", \"tweak\", \"hourly\", \"january\", \"ubound\", \"sunday\", \"season\", \"july\", \"months\", \"saturday\", \"year\", \"week\", \"jun\", \"dollar\", \"day\", \"days\", \"aug\", \"canvas\", \"ion\", \"behaviour\", \"mydata\", \"weather\", \"grey\", \"floor\", \"shuffle\", \"cnt\", \"thresh\", \"sport\", \"checkboxes\", \"scalar\", \"fontweight\", \"blur\", \"kivy\", \"explode\", \"contour\", \"vision\", \"imread\", \"cont\", \"engineer\", \"seven\", \"ico\", \"connectivity\", \"segmentation\", \"referenceerror\", \"brown\", \"isenabled\", \"cvtcolor\", \"rectangle\", \"firestore\", \"firebase\", \"junit\", \"lng\", \"notification\", \"snap\", \"nicely\", \"spreadsheets\", \"fcm\", \"firebaseauth\", \"appspot\", \"usp\", \"fly\", \"profiler\", \"authenticator\", \"initializeapp\", \"firebaseapp\", \"issuccessful\", \"nosuchmethoderror\", \"thx\", \"oncompletelistener\", \"mavencentral\", \"jobject\", \"squareup\", \"cloud\", \"auth\", \"admin\", \"google\", \"reservation\", \"brace\", \"resample\", \"reraise\", \"initstate\", \"fluidrow\", \"fluidpage\", \"soup\", \"formdata\", \"beautifulsoup\", \"gif\", \"students\", \"bob\", \"student\", \"walk\", \"mimetype\", \"pdf\", \"aside\", \"jmeter\", \"mem\", \"esp\", \"wkwebview\", \"lxml\", \"filesize\", \"urlopen\", \"dword\", \"etree\", \"drive\", \"parser\", \"processdata\", \"elementtree\", \"wow\", \"multipart\", \"tochararray\", \"boxlayout\", \"bother\", \"restapi\", \"industry\", \"reraise\", \"reservation\", \"requestoptions\", \"font\", \"flush\", \"flutter\", \"groupby\", \"tableview\", \"sklearn\", \"fmt\", \"acc\", \"nan\", \"female\", \"numeric\", \"realm\", \"score\", \"balancer\", \"survey\", \"mse\", \"golang\", \"uitableviewcell\", \"arch\", \"dag\", \"amt\", \"fold\", \"bet\", \"thru\", \"onnext\", \"shoe\", \"coef\", \"mnist\", \"versus\", \"fillna\", \"nrows\", \"augment\", \"investigate\", \"pls\", \"australia\", \"sourcecompatibility\", \"authenticationmanagerbuilder\", \"players\", \"fname\", \"fluidrow\", \"aggregate\", \"intercept\", \"partition\", \"clock\", \"gender\", \"closure\", \"getdate\", \"smart\", \"patient\", \"accurate\", \"appointment\", \"mutate\", \"technique\", \"weekly\", \"parentheses\", \"rss\", \"informations\", \"men\", \"mongo\", \"favorite\", \"replication\", \"numero\", \"date\", \"chooser\", \"deprecationwarning\", \"createview\", \"createuser\", \"las\", \"population\", \"poi\", \"slight\", \"popper\", \"gradually\", \"skin\", \"sizedbox\", \"labs\", \"font\", \"fluidrow\", \"flush\", \"flutter\", \"fly\", \"flux\", \"follow\", \"babel\", \"audio\", \"tomcat\", \"exp\", \"wav\", \"pytorch\", \"income\", \"qml\", \"setters\", \"instruction\", \"polyfills\", \"esm\", \"vanilla\", \"linker\", \"ocr\", \"minify\", \"stateless\", \"forname\", \"flag\", \"glm\", \"webpack\", \"htmlwebpackplugin\", \"sound\", \"play\", \"graphical\", \"postfields\", \"poster\", \"socketprocessor\", \"lan\", \"postid\", \"postdata\", \"slight\", \"descriptions\", \"postdelayed\", \"authtoken\", \"autofill\", \"fold\", \"focusable\", \"fluent\", \"fluid\", \"fluidpage\", \"folders\", \"pod\", \"sequelize\", \"discord\", \"simulate\", \"userdata\", \"uiview\", \"pwa\", \"headless\", \"man\", \"bluetooth\", \"repair\", \"arabic\", \"toequal\", \"onedrive\", \"rootviewcontroller\", \"personid\", \"readfile\", \"rejection\", \"jsondata\", \"tenantid\", \"medical\", \"mocha\", \"uiimageview\", \"addsubview\", \"clientsecret\", \"constrain\", \"createstacknavigator\", \"getasync\", \"dial\", \"schedulers\", \"promise\", \"resolve\", \"devops\", \"packet\", \"installer\", \"cancellationtoken\", \"listbox\", \"pipelines\", \"hey\", \"arc\", \"uninstall\", \"interrupt\", \"timespan\", \"surround\", \"areas\", \"dowork\", \"dylib\", \"airflow\", \"automation\", \"synchronously\", \"msi\", \"quiet\", \"dedicate\", \"weekday\", \"azure\", \"iterrows\", \"loginformation\", \"microsoft\", \"edge\", \"sliders\", \"chrono\", \"slight\", \"flask\", \"flutter\", \"flush\", \"ind\", \"retrofit\", \"respective\", \"incompatible\", \"expiry\", \"clipboard\", \"flight\", \"wildcard\", \"fox\", \"easiest\", \"banana\", \"webservice\", \"preset\", \"carry\", \"badge\", \"elsewhere\", \"throwable\", \"gems\", \"analyzer\", \"fullyqualifiederrorid\", \"restaurant\", \"requestbody\", \"appium\", \"enqueue\", \"letsencrypt\", \"translator\", \"invalidate\", \"sector\", \"sensors\", \"materialize\", \"ads\", \"holder\", \"viewholder\", \"layoutparams\", \"itemview\", \"datalist\", \"viewgroup\", \"layoutinflater\", \"dimensional\", \"sharedpreferences\", \"setdata\", \"descend\", \"theta\", \"ascend\", \"recyclerview\", \"setadapter\", \"getreference\", \"everyday\", \"setvisibility\", \"projection\", \"linearlayoutmanager\", \"onbindviewholder\", \"adapter\", \"rank\", \"getuid\", \"getdrawable\", \"oncreateviewholder\", \"concatenation\", \"viewtype\", \"setlayoutmanager\", \"arraylist\", \"bucket\", \"sthree\", \"expo\", \"hadoop\", \"crawl\", \"hdfs\", \"avro\", \"crawler\", \"glue\", \"statusbar\", \"dfs\", \"parquet\", \"prettier\", \"aws\", \"codable\", \"parsejson\", \"passwords\", \"passwd\", \"participants\", \"clearer\", \"clearfix\", \"parsers\", \"parseexception\", \"coarse\", \"operationalerror\", \"codehaus\", \"park\", \"opinions\", \"paris\", \"parentnode\", \"operands\", \"opportunity\", \"follow\", \"fly\", \"fmt\", \"fname\", \"focus\", \"focusable\", \"fold\", \"folder\", \"foldername\", \"folders\", \"flatten\", \"flask\", \"flutter\", \"font\", \"fontawesome\", \"fontfamily\", \"aaa\", \"salary\", \"sass\", \"sex\", \"transpose\", \"datatables\", \"ccc\", \"ans\", \"jam\", \"slim\", \"ball\", \"jane\", \"gulp\", \"usa\", \"homework\", \"magic\", \"alternatives\", \"unicode\", \"internally\", \"inverse\", \"mike\", \"dual\", \"travel\", \"mary\", \"sbt\", \"hundred\", \"lodash\", \"smallest\", \"steve\", \"rich\", \"stripe\", \"rust\", \"pub\", \"trait\", \"europe\", \"variants\", \"unwrap\", \"mut\", \"structs\", \"jboss\", \"macros\", \"technology\", \"traits\", \"panic\", \"udf\", \"libc\", \"proof\", \"std\", \"impl\", \"visa\", \"struct\", \"injector\", \"retr\", \"resizable\", \"indicators\", \"reservation\", \"resnet\", \"resample\", \"retrieval\", \"boxlayout\", \"boxfit\", \"datatypes\", \"indication\", \"industry\", \"flexbox\", \"fmt\", \"fluid\", \"fluidpage\", \"fluidrow\", \"flush\", \"flutter\", \"flux\", \"fixtures\", \"age\", \"buf\", \"arr\", \"textcontent\", \"fps\", \"histogram\", \"bokeh\", \"density\", \"similarity\", \"hist\", \"getfullyear\", \"jon\", \"clearinterval\", \"array\", \"rent\", \"iapplicationbuilder\", \"identification\", \"decay\", \"reliably\", \"december\", \"repr\", \"decimalfield\", \"remainder\", \"remark\", \"brevity\", \"httpurlconnection\", \"icollection\", \"ice\", \"removeeventlistener\", \"reorder\", \"reopen\", \"hyper\", \"fly\", \"fmt\", \"fname\", \"focus\", \"focusable\", \"flux\", \"fold\", \"zygoteinit\", \"folder\", \"foldername\", \"flush\", \"folders\", \"follow\", \"font\", \"fontawesome\", \"fontfamily\", \"spark\", \"scala\", \"pyspark\", \"food\", \"sentence\", \"rdd\", \"comp\", \"sparkcontext\", \"withcolumn\", \"prog\", \"multiples\", \"sqlitedatabase\", \"rerun\", \"getcolumnindex\", \"damage\", \"initstate\", \"injector\", \"bottleneck\", \"datafile\", \"resolutions\", \"dalvik\", \"databinding\", \"bother\", \"resnet\", \"resizable\", \"boxfit\", \"remainder\", \"boxlayout\", \"intellisense\", \"intensity\", \"fname\", \"fold\", \"floor\", \"flow\", \"flower\", \"fluent\", \"foldername\", \"fluid\", \"folder\", \"focusable\", \"fmt\", \"fluidpage\", \"fluidrow\", \"flush\", \"flutter\", \"float\", \"mongoclient\", \"boto\", \"metric\", \"jsonproperty\", \"trend\", \"csvfile\", \"writer\", \"endtime\", \"clanguagesv\", \"bucketname\", \"csv\", \"slope\", \"writerow\", \"cluster\", \"operationalerror\", \"paris\", \"parsers\", \"parsejson\", \"parseexception\", \"cleartimeout\", \"onstop\", \"park\", \"parentnode\", \"participants\", \"clever\", \"parcel\", \"clf\", \"clientheight\", \"clientname\", \"parallax\", \"codehaus\", \"clearfix\", \"opinions\", \"flaw\", \"focusable\", \"flux\", \"fly\", \"fmt\", \"fname\", \"focus\", \"flat\", \"flask\", \"flash\", \"flag\", \"fold\", \"flush\", \"folder\", \"foldername\", \"folders\", \"httpd\", \"west\", \"complexity\", \"album\", \"digital\", \"magento\", \"imagepath\", \"forums\", \"applewebkit\", \"khtml\", \"referer\", \"tempfile\", \"availability\", \"deflate\", \"yum\", \"wget\", \"category\", \"getwidth\", \"setstyle\", \"setsupportactionbar\", \"district\", \"setsmallicon\", \"newtonsoft\", \"newuser\", \"basepath\", \"readers\", \"newrequestqueue\", \"basedir\", \"setsize\", \"settle\", \"font\", \"fname\", \"fontsize\", \"flutter\", \"flux\", \"fly\", \"fmt\", \"fonts\", \"fold\", \"focus\", \"focusable\", \"folder\", \"fontfamily\", \"sftp\", \"multer\", \"findone\", \"storage\", \"foregroundcolor\", \"naturally\", \"rescue\", \"upload\", \"req\", \"proportion\", \"gcd\", \"categoryname\", \"pros\", \"diagnose\", \"proprietary\", \"readkey\", \"diagnostic\", \"cdk\", \"prone\", \"celery\", \"projectname\", \"projectid\", \"cellar\", \"cde\", \"categoryid\", \"protractor\", \"progressbar\", \"pure\", \"punctuation\", \"pump\", \"fluent\", \"fluid\", \"flux\", \"flower\", \"fluidpage\", \"fluidrow\", \"flush\", \"flutter\", \"flow\", \"zygoteinit\", \"fly\", \"floor\", \"fname\", \"focus\", \"focusable\", \"fold\", \"folder\", \"foldername\", \"folders\", \"follow\", \"font\", \"rewriterule\", \"htaccess\", \"elegant\", \"rewriteengine\", \"bid\", \"dictionary\", \"dict\", \"key\", \"clientname\", \"clientheight\", \"clienty\", \"cleartimeout\", \"parsejson\", \"parseexception\", \"clever\", \"par\", \"park\", \"para\", \"clientx\", \"parallax\", \"paris\", \"participants\", \"parentnode\", \"clf\", \"parcel\", \"parsers\", \"partly\", \"clearfix\", \"payments\", \"pencil\", \"fmt\", \"fly\", \"flux\", \"zygoteinit\", \"flutter\", \"flush\", \"fname\", \"fluidpage\", \"fluidrow\", \"focus\", \"fluent\", \"focusable\", \"fold\", \"folder\", \"foldername\", \"folders\", \"follow\", \"font\", \"fontawesome\", \"fontfamily\", \"fonts\", \"fontsize\", \"marker\", \"plotly\", \"leaflet\", \"markers\", \"station\", \"latlng\", \"manufacturer\", \"semi\", \"thousand\", \"decimals\", \"checker\", \"objs\", \"hero\", \"plural\", \"singular\", \"parentnode\", \"paris\", \"clever\", \"cleartimeout\", \"park\", \"clf\", \"parcel\", \"clientheight\", \"clientname\", \"parallax\", \"para\", \"par\", \"parseexception\", \"partly\", \"parsejson\", \"focus\", \"flush\", \"flutter\", \"flux\", \"fluidrow\", \"fluidpage\", \"fly\", \"fmt\", \"fname\", \"zygoteinit\", \"focusable\", \"fold\", \"folder\", \"foldername\", \"fluid\", \"cdn\", \"clanguageode\", \"matrices\", \"apiversion\", \"ingredients\", \"recipes\", \"origins\", \"dbms\", \"jsdelivr\", \"vue\", \"identifiers\", \"debit\", \"identification\", \"remark\", \"decay\", \"removeeventlistener\", \"december\", \"renderer\", \"renderitem\", \"remainder\", \"renderplot\", \"renderui\", \"eject\", \"renew\", \"iapplicationbuilder\", \"brevity\", \"repr\", \"hue\", \"humidity\", \"briefly\", \"fontsize\", \"fname\", \"fluidpage\", \"fluidrow\", \"flush\", \"flutter\", \"flux\", \"fly\", \"fmt\", \"fold\", \"focus\", \"focusable\", \"fonts\", \"fluid\", \"foldername\", \"folders\", \"follow\", \"font\", \"fontawesome\", \"fontfamily\", \"transactions\", \"curlopt\", \"setopt\", \"orderid\", \"curl\", \"ado\", \"shopify\", \"returntransfer\", \"humidity\", \"renderitem\", \"debit\", \"identifiers\", \"remainder\", \"remark\", \"identification\", \"decay\", \"december\", \"brevity\", \"removeeventlistener\", \"decimalfield\", \"renderer\", \"httpurlconnection\", \"repr\", \"hue\", \"hyper\", \"renderplot\", \"renderui\", \"renew\", \"idk\", \"rent\", \"folder\", \"fold\", \"flow\", \"flower\", \"fluent\", \"fluid\", \"fluidpage\", \"fontfamily\", \"fluidrow\", \"fontawesome\", \"flush\", \"font\", \"flutter\", \"follow\", \"folders\", \"flux\", \"floor\", \"fly\", \"fmt\", \"fname\", \"focus\", \"foldername\", \"shop\", \"customers\", \"myproject\", \"linkedlist\", \"confidence\", \"letter\", \"temporal\", \"skin\", \"corporation\", \"localdate\", \"handlelaunchactivity\", \"ffff\", \"ffe\", \"ffc\", \"sky\", \"componentwillunmount\", \"localization\", \"getx\", \"sqlclient\", \"aux\", \"sizedbox\", \"slf\", \"purge\", \"slick\", \"pastebin\", \"fetchtype\", \"sliders\", \"slight\", \"correlate\", \"purely\", \"flux\", \"fmt\", \"fly\", \"zygoteinit\", \"flutter\", \"fname\", \"fluidrow\", \"fluidpage\", \"fluid\", \"fluent\", \"flush\", \"focusable\", \"focus\", \"fold\", \"folder\", \"foldername\", \"folders\", \"follow\", \"font\", \"fontawesome\", \"fontfamily\", \"fonts\", \"fontsize\", \"news\", \"doe\", \"animations\", \"alice\", \"forever\", \"swipe\", \"perl\", \"physics\", \"deb\", \"fin\", \"toy\", \"parseexception\", \"park\", \"paris\", \"parentnode\", \"cleartimeout\", \"partly\", \"parcel\", \"clever\", \"clf\", \"parsers\", \"clientheight\", \"parallax\", \"clientname\", \"para\", \"par\", \"parsejson\", \"passwd\", \"clearfix\", \"payments\", \"focusable\", \"fname\", \"fold\", \"folder\", \"fmt\", \"fly\", \"flux\", \"focus\", \"zygoteinit\", \"foldername\", \"flush\", \"folders\", \"follow\", \"font\", \"fontawesome\", \"fontfamily\", \"fonts\", \"fontsize\", \"fontweight\", \"pygame\", \"calendar\", \"pyinstaller\", \"hotel\", \"night\", \"getsupportfragmentmanager\", \"hour\", \"deltatime\", \"bitmapfactory\", \"savechangesasync\", \"hat\", \"hdf\", \"myuser\", \"sapply\", \"hasownproperty\", \"headline\", \"san\", \"heat\", \"sampler\", \"heatmap\", \"hasrole\", \"birthdate\", \"saver\", \"birthday\", \"myusername\", \"myurl\", \"mytable\", \"scalable\", \"scaler\", \"compileoptions\", \"zygoteinit\", \"fname\", \"fmt\", \"flux\", \"fly\", \"flutter\", \"flush\", \"fluidrow\", \"fluidpage\", \"focus\", \"fold\", \"focusable\", \"fluent\", \"folder\", \"foldername\", \"folders\", \"follow\", \"font\", \"fontawesome\", \"fontfamily\", \"fonts\", \"fontsize\", \"fontweight\", \"cin\", \"mock\", \"preg\", \"fixture\", \"beforeeach\", \"cam\", \"outlet\", \"por\", \"implode\", \"namespaces\", \"seticon\", \"filewriter\", \"compatibilityversion\", \"setcontenttitle\", \"setdefault\", \"setdefaultcloseoperation\", \"setcontenttext\", \"setcompatibilityversion\", \"setflags\", \"readkey\", \"setimage\", \"setbounds\", \"fileupload\", \"githubusercontent\", \"setjavascriptenabled\", \"setlayout\", \"namely\", \"setlevel\", \"nameerror\", \"filetype\", \"fontfamily\", \"fly\", \"fluidpage\", \"fontweight\", \"fluidrow\", \"flush\", \"flutter\", \"fontsize\", \"fonts\", \"flux\", \"fname\", \"fmt\", \"fontawesome\", \"focus\", \"focusable\", \"fluid\", \"folder\", \"foldername\", \"folders\", \"follow\", \"font\", \"credential\", \"annotate\", \"unused\", \"overcome\", \"deeply\", \"contact\", \"hue\", \"renderplot\", \"idp\", \"idk\", \"identityserver\", \"debit\", \"remainder\", \"remark\", \"identifiers\", \"identification\", \"decay\", \"december\", \"removeeventlistener\", \"renderer\", \"brevity\", \"renderitem\", \"renderui\", \"humidity\", \"repr\", \"renew\", \"browsermodule\", \"rent\", \"reopen\", \"reorder\", \"httpurlconnection\", \"decimalfield\", \"fmt\", \"focus\", \"fname\", \"fly\", \"fold\", \"flux\", \"flutter\", \"flush\", \"fluidrow\", \"fluidpage\", \"focusable\", \"zygoteinit\", \"folder\", \"foldername\", \"fluid\", \"follow\", \"font\", \"fontawesome\", \"fontfamily\", \"fonts\", \"fontsize\", \"fontweight\", \"foo\", \"foobar\", \"firstname\", \"lastname\", \"renderer\", \"reopen\", \"rent\", \"renew\", \"renderui\", \"renderplot\", \"renderitem\", \"clearer\", \"reorder\", \"identification\", \"removeeventlistener\", \"identifiers\", \"browsermodule\", \"december\", \"remark\", \"remainder\", \"decimalfield\", \"icollection\", \"identityserver\", \"repr\", \"brevity\", \"requestpermissions\", \"httpservlet\", \"requestoptions\", \"requestanimationframe\", \"httpurlconnection\", \"briefly\", \"ice\", \"focusable\", \"fluent\", \"fluid\", \"fluidpage\", \"fluidrow\", \"flush\", \"flutter\", \"flux\", \"fly\", \"fmt\", \"fname\", \"focus\", \"fold\", \"flow\", \"folder\", \"foldername\", \"folders\", \"follow\", \"font\", \"fontawesome\", \"fontfamily\", \"fonts\", \"fontsize\", \"fontweight\", \"foo\", \"flower\", \"zygoteinit\", \"foobar\", \"hang\", \"bigquery\", \"beam\", \"dataflow\", \"pipeline\", \"sliders\", \"fetchtype\", \"localdate\", \"slick\", \"prep\", \"corporation\", \"slf\", \"aux\", \"compatibilityversion\", \"handlelaunchactivity\", \"sky\", \"slight\", \"preflight\", \"premium\", \"ffe\", \"fetchall\", \"devise\", \"dlls\", \"slowly\", \"autogenerated\", \"autogeneratecolumns\", \"loaders\", \"deviceid\", \"smarter\", \"smartphone\", \"folder\", \"flush\", \"flutter\", \"flux\", \"fly\", \"fmt\", \"fname\", \"focus\", \"focusable\", \"fold\", \"zygoteinit\", \"fluidpage\", \"foldername\", \"folders\", \"follow\", \"font\", \"fontawesome\", \"fontfamily\", \"fonts\", \"fontsize\", \"fontweight\", \"foo\", \"foobar\", \"fluidrow\", \"fluid\", \"xxxx\", \"money\", \"lastrow\", \"yahoo\", \"noob\", \"rawdata\", \"spain\", \"setposition\", \"basepath\", \"setbounds\", \"setcolor\", \"setcompatibilityversion\", \"setcontenttext\", \"setcontenttitle\", \"setrequestmethod\", \"nano\", \"filetype\", \"compatibilityversion\", \"setdefault\", \"setdefaultcloseoperation\", \"setflags\", \"seticon\", \"setimage\", \"setbackgroundcolor\", \"setrequestheader\", \"gitignore\", \"namespaces\", \"setjavascriptenabled\", \"setlayout\", \"githubusercontent\", \"zygoteinit\", \"fmt\", \"fluid\", \"fluidpage\", \"fluidrow\", \"flush\", \"flutter\", \"flux\", \"fly\", \"focus\", \"fname\", \"flower\", \"focusable\", \"fold\", \"folder\", \"foldername\", \"folders\", \"follow\", \"font\", \"fontawesome\", \"fontfamily\", \"fonts\", \"fluent\", \"cmake\", \"boost\", \"hpp\", \"mov\", \"videocapture\", \"requestoptions\", \"renew\", \"renderplot\", \"renderitem\", \"renderer\", \"removeeventlistener\", \"december\", \"decay\", \"identification\", \"identifiers\", \"remark\", \"remainder\", \"debit\", \"identityserver\", \"renderui\", \"rent\", \"requestanimationframe\", \"hyper\", \"brevity\", \"httpurlconnection\", \"repr\", \"hue\", \"humidity\", \"briefly\", \"iapplicationbuilder\", \"focusable\", \"fluidpage\", \"fluidrow\", \"flush\", \"flutter\", \"flux\", \"fly\", \"fmt\", \"fname\", \"focus\", \"fold\", \"fluent\", \"folder\", \"foldername\", \"folders\", \"follow\", \"font\", \"fontawesome\", \"fontfamily\", \"fonts\", \"fontsize\", \"fontweight\", \"foo\", \"foobar\", \"fluid\", \"conda\", \"interpreter\", \"scikit\", \"sketch\", \"zlib\", \"ing\", \"forge\", \"clearer\", \"icollection\", \"renderui\", \"renderplot\", \"renderitem\", \"renderer\", \"removeeventlistener\", \"rent\", \"decimalfield\", \"browsermodule\", \"remark\", \"remainder\", \"identification\", \"renew\", \"ice\", \"reopen\", \"httpurlconnection\", \"requestoptions\", \"httprequest\", \"httpservlet\", \"requestanimationframe\", \"repr\", \"briefly\", \"fly\", \"flower\", \"fluent\", \"fluid\", \"fluidpage\", \"fluidrow\", \"flush\", \"flutter\", \"flux\", \"fmt\", \"floor\", \"fname\", \"focus\", \"focusable\", \"fold\", \"folder\", \"foldername\", \"folders\", \"follow\", \"font\", \"fontawesome\", \"fontfamily\", \"flow\", \"multiprocessing\", \"cuda\", \"scrollbar\", \"environ\", \"shortest\", \"nativeelement\", \"setimage\", \"seticon\", \"setflags\", \"setdefaultcloseoperation\", \"setdefault\", \"setcontenttitle\", \"fileupload\", \"compatibilityversion\", \"setcontenttext\", \"setcompatibilityversion\", \"setcolor\", \"setbounds\", \"filetype\", \"dicts\", \"setjavascriptenabled\", \"filewriter\", \"setlayout\", \"nano\", \"setlevel\", \"destroyallwindows\", \"setonitemclicklistener\", \"bashrc\", \"setposition\", \"namespaces\", \"flower\", \"fluent\", \"fluid\", \"fluidpage\", \"fluidrow\", \"flush\", \"flutter\", \"flux\", \"fly\", \"fmt\", \"fname\", \"zygoteinit\", \"flow\", \"focusable\", \"fold\", \"folder\", \"foldername\", \"folders\", \"follow\", \"font\", \"fontawesome\", \"fontfamily\", \"fonts\", \"fontsize\", \"focus\", \"hive\", \"nsstring\", \"accountid\", \"textfields\", \"forkey\", \"kinesis\", \"connectionfactory\", \"unload\", \"augment\", \"ckeditor\", \"hdf\", \"customization\", \"plist\", \"australia\", \"authenticationmanagerbuilder\", \"pls\", \"circumstances\", \"getimage\", \"auc\", \"iqueryable\", \"gethours\", \"iot\", \"getheight\", \"sortable\", \"players\", \"attendance\", \"sourcecompatibility\", \"clamp\", \"playback\", \"getheaders\", \"fmt\", \"focus\", \"fname\", \"zygoteinit\", \"focusable\", \"flux\", \"flutter\", \"flush\", \"fly\", \"folder\", \"fold\", \"fluidpage\", \"foldername\", \"folders\", \"follow\", \"font\", \"fontawesome\", \"fontfamily\", \"fonts\", \"fontsize\", \"fontweight\", \"foo\", \"inf\", \"transformer\", \"wake\", \"outputfile\", \"improvement\", \"australia\", \"augment\", \"chrono\", \"chunksize\", \"plz\", \"customization\", \"auc\", \"iqueryable\", \"circumstances\", \"pls\", \"sortable\", \"irrespective\", \"solver\", \"attendance\", \"plist\", \"sourcecompatibility\", \"ckeditor\", \"players\", \"getimage\", \"gethours\", \"isactive\", \"getheight\", \"spam\", \"getheaders\", \"spanish\", \"flag\", \"fluent\", \"fluidpage\", \"fluidrow\", \"flush\", \"flutter\", \"flux\", \"fly\", \"fmt\", \"fname\", \"focus\", \"focusable\", \"fold\", \"folder\", \"foldername\", \"folders\", \"follow\", \"font\", \"fontawesome\", \"fontfamily\", \"fonts\", \"fontsize\", \"fontweight\", \"foo\", \"foobar\", \"tsx\", \"idx\", \"secretkey\", \"ngafterviewinit\", \"securitycontext\", \"guava\", \"deprecationwarning\", \"belongsto\", \"deployments\", \"getrow\", \"nfs\", \"secondly\", \"gutter\", \"searchtext\", \"searchterm\", \"lhs\", \"ben\", \"behaviors\", \"selectlist\", \"gtk\", \"gte\", \"nexus\", \"seg\", \"gsub\", \"grpc\", \"growth\", \"nextline\", \"selectable\", \"selectall\", \"selectcommand\", \"zygoteinit\", \"focusable\", \"fluid\", \"fluidpage\", \"fluidrow\", \"flush\", \"flutter\", \"flux\", \"fly\", \"fmt\", \"fname\", \"focus\", \"fold\", \"flower\", \"folder\", \"foldername\", \"folders\", \"follow\", \"font\", \"fontawesome\", \"fontfamily\", \"fonts\", \"fontsize\", \"fontweight\", \"foo\", \"fluent\", \"flow\", \"getusername\", \"song\", \"ffmpeg\", \"getresult\", \"secretkey\", \"securitycontext\", \"guava\", \"ngafterviewinit\", \"deprecationwarning\", \"belongsto\", \"ben\", \"nfs\", \"secondly\", \"gutter\", \"searchtext\", \"searchterm\", \"lhs\", \"searchable\", \"gtk\", \"behaviors\", \"sea\", \"gte\", \"gsub\", \"nexus\", \"seg\", \"grpc\", \"growth\", \"nextline\", \"createappcontainer\", \"selectable\", \"selectall\", \"zygoteinit\", \"fold\", \"fluidpage\", \"fluidrow\", \"flush\", \"flutter\", \"flux\", \"fly\", \"fmt\", \"fname\", \"focus\", \"focusable\", \"folder\", \"fluent\", \"foldername\", \"folders\", \"follow\", \"font\", \"fontawesome\", \"fontfamily\", \"fonts\", \"fontsize\", \"fontweight\", \"foo\", \"fluid\", \"flower\", \"food\", \"flavor\", \"mtcars\", \"mpg\", \"disp\", \"removeeventlistener\", \"renew\", \"renderui\", \"renderplot\", \"renderitem\", \"renderer\", \"decimalfield\", \"clearer\", \"rent\", \"december\", \"browsermodule\", \"identifiers\", \"remark\", \"remainder\", \"decay\", \"identification\", \"reorder\", \"reopen\", \"hue\", \"requestoptions\", \"httpservlet\", \"requestanimationframe\", \"httpurlconnection\", \"repr\", \"briefly\", \"brightness\", \"idk\", \"focusable\", \"fluid\", \"fluidpage\", \"fluidrow\", \"flush\", \"flutter\", \"flux\", \"fly\", \"fmt\", \"fname\", \"focus\", \"fold\", \"flower\", \"folder\", \"foldername\", \"folders\", \"follow\", \"font\", \"fontawesome\", \"fontfamily\", \"fonts\", \"fontsize\", \"fontweight\", \"foo\", \"fluent\", \"flow\", \"food\", \"uiapplication\", \"singleton\", \"bag\", \"shards\", \"companyid\", \"detectchanges\", \"sharp\", \"investigate\", \"neighbor\", \"detector\", \"posixct\", \"posix\", \"shirt\", \"shm\", \"comparable\", \"childs\", \"culprit\", \"childprocess\", \"gety\", \"shortcuts\", \"neat\", \"getx\", \"positional\", \"getwidth\", \"coyote\", \"backwards\", \"china\", \"shutdown\", \"shutil\", \"sibling\", \"focusable\", \"flower\", \"fluent\", \"fluid\", \"fluidpage\", \"fluidrow\", \"flush\", \"flutter\", \"flux\", \"fly\", \"fmt\", \"fname\", \"focus\", \"zygoteinit\", \"floor\", \"fold\", \"folder\", \"foldername\", \"folders\", \"follow\", \"font\", \"fontawesome\", \"fontfamily\", \"fonts\", \"fontsize\", \"fontweight\", \"flow\", \"floatingactionbutton\", \"environments\", \"margins\", \"clearer\", \"rent\", \"renew\", \"renderui\", \"renderplot\", \"renderitem\", \"renderer\", \"decimalfield\", \"reorder\", \"identification\", \"removeeventlistener\", \"identifiers\", \"browsermodule\", \"december\", \"remark\", \"remainder\", \"reopen\", \"ice\", \"icollection\", \"repr\", \"brevity\", \"requestpermissions\", \"httpservlet\", \"requestoptions\", \"requestanimationframe\", \"httpurlconnection\", \"briefly\", \"identityserver\", \"zygoteinit\", \"fold\", \"fluidpage\", \"fluidrow\", \"flush\", \"flutter\", \"flux\", \"fly\", \"fmt\", \"fname\", \"focus\", \"focusable\", \"folder\", \"fluent\", \"foldername\", \"folders\", \"follow\", \"font\", \"fontawesome\", \"fontfamily\", \"fonts\", \"fontsize\", \"fontweight\", \"foo\", \"foobar\", \"food\", \"fluid\", \"flower\", \"underscore\", \"fashion\", \"getresult\", \"ben\", \"ngafterviewinit\", \"deprecationwarning\", \"belongsto\", \"secretkey\", \"secondly\", \"securitycontext\", \"gutter\", \"searchtext\", \"searchterm\", \"lhs\", \"searchable\", \"seaborn\", \"guava\", \"gtk\", \"sdks\", \"nfs\", \"behaviors\", \"gte\", \"gsub\", \"nexus\", \"seg\", \"grpc\", \"growth\", \"nextline\", \"createappcontainer\", \"selectable\", \"zygoteinit\", \"fold\", \"fluidpage\", \"fluidrow\", \"flush\", \"flutter\", \"flux\", \"fly\", \"fmt\", \"fname\", \"focus\", \"focusable\", \"folder\", \"fluent\", \"foldername\", \"folders\", \"follow\", \"font\", \"fontawesome\", \"fontfamily\", \"fonts\", \"fontsize\", \"fontweight\", \"foo\", \"foobar\", \"fluid\", \"flower\", \"football\", \"palette\", \"warehouse\", \"bitmapfactory\", \"deprecationwarning\", \"gte\", \"gtk\", \"guava\", \"securitycontext\", \"belongsto\", \"ben\", \"lhs\", \"secretkey\", \"commonjs\", \"secondly\", \"gutter\", \"searchtext\", \"searchterm\", \"behaviors\", \"seg\", \"hacky\", \"gsub\", \"grpc\", \"growth\", \"ngafterviewinit\", \"selectable\", \"selectall\", \"selectcommand\", \"selectedindex\", \"selecteditem\", \"nfs\", \"flower\", \"fluid\", \"fluidpage\", \"fluidrow\", \"flush\", \"flutter\", \"flux\", \"fly\", \"fmt\", \"fname\", \"focus\", \"focusable\", \"fold\", \"folder\", \"foldername\", \"folders\", \"follow\", \"font\", \"fontawesome\", \"fontfamily\", \"fonts\", \"fontsize\", \"fontweight\", \"foo\", \"foobar\", \"fluent\", \"zygoteinit\", \"football\", \"ele\", \"securitycontext\", \"searchable\", \"searchterm\", \"searchtext\", \"las\", \"crossaxisalignment\", \"secondly\", \"landscape\", \"secretkey\", \"lan\", \"lake\", \"ben\", \"labs\", \"belongsto\", \"labore\", \"cryptography\", \"lightblue\", \"kube\", \"behaviors\", \"cshtml\", \"seg\", \"knitr\", \"kmeans\", \"kid\", \"selectable\", \"selectall\", \"selectcommand\", \"selectedindex\", \"selecteditem\", \"zygoteinit\", \"fold\", \"fluid\", \"fluidpage\", \"fluidrow\", \"flush\", \"flutter\", \"flux\", \"fly\", \"fmt\", \"fname\", \"focus\", \"focusable\", \"folder\", \"football\", \"foldername\", \"folders\", \"follow\", \"font\", \"fontawesome\", \"fontfamily\", \"fonts\", \"fontsize\", \"fontweight\", \"foo\", \"foobar\", \"fluent\", \"flower\", \"flow\", \"floor\", \"ele\", \"securitycontext\", \"searchable\", \"searchterm\", \"searchtext\", \"las\", \"crossaxisalignment\", \"secondly\", \"landscape\", \"secretkey\", \"lan\", \"lake\", \"ben\", \"labs\", \"belongsto\", \"labore\", \"cryptography\", \"lightblue\", \"kube\", \"behaviors\", \"cshtml\", \"seg\", \"knitr\", \"kmeans\", \"kid\", \"selectable\", \"selectall\", \"selectcommand\", \"selectedindex\", \"selecteditem\", \"zygoteinit\", \"fold\", \"fluid\", \"fluidpage\", \"fluidrow\", \"flush\", \"flutter\", \"flux\", \"fly\", \"fmt\", \"fname\", \"focus\", \"focusable\", \"folder\", \"football\", \"foldername\", \"folders\", \"follow\", \"font\", \"fontawesome\", \"fontfamily\", \"fonts\", \"fontsize\", \"fontweight\", \"foo\", \"foobar\", \"fluent\", \"flower\", \"flow\", \"floor\", \"ele\", \"securitycontext\", \"searchable\", \"searchterm\", \"searchtext\", \"las\", \"crossaxisalignment\", \"secondly\", \"landscape\", \"secretkey\", \"lan\", \"lake\", \"ben\", \"labs\", \"belongsto\", \"labore\", \"cryptography\", \"lightblue\", \"kube\", \"behaviors\", \"cshtml\", \"seg\", \"knitr\", \"kmeans\", \"kid\", \"selectable\", \"selectall\", \"selectcommand\", \"selectedindex\", \"selecteditem\", \"zygoteinit\", \"fold\", \"fluid\", \"fluidpage\", \"fluidrow\", \"flush\", \"flutter\", \"flux\", \"fly\", \"fmt\", \"fname\", \"focus\", \"focusable\", \"folder\", \"football\", \"foldername\", \"folders\", \"follow\", \"font\", \"fontawesome\", \"fontfamily\", \"fonts\", \"fontsize\", \"fontweight\", \"foo\", \"foobar\", \"fluent\", \"flower\", \"flow\", \"floor\", \"ele\", \"securitycontext\", \"searchable\", \"searchterm\", \"searchtext\", \"las\", \"crossaxisalignment\", \"secondly\", \"landscape\", \"secretkey\", \"lan\", \"lake\", \"ben\", \"labs\", \"belongsto\", \"labore\", \"cryptography\", \"lightblue\", \"kube\", \"behaviors\", \"cshtml\", \"seg\", \"knitr\", \"kmeans\", \"kid\", \"selectable\", \"selectall\", \"selectcommand\", \"selectedindex\", \"selecteditem\", \"zygoteinit\", \"fold\", \"fluid\", \"fluidpage\", \"fluidrow\", \"flush\", \"flutter\", \"flux\", \"fly\", \"fmt\", \"fname\", \"focus\", \"focusable\", \"folder\", \"football\", \"foldername\", \"folders\", \"follow\", \"font\", \"fontawesome\", \"fontfamily\", \"fonts\", \"fontsize\", \"fontweight\", \"foo\", \"foobar\", \"fluent\", \"flower\", \"flow\", \"floor\", \"ele\", \"securitycontext\", \"searchable\", \"searchterm\", \"searchtext\", \"las\", \"crossaxisalignment\", \"secondly\", \"landscape\", \"secretkey\", \"lan\", \"lake\", \"ben\", \"labs\", \"belongsto\", \"labore\", \"cryptography\", \"lightblue\", \"kube\", \"behaviors\", \"cshtml\", \"seg\", \"knitr\", \"kmeans\", \"kid\", \"selectable\", \"selectall\", \"selectcommand\", \"selectedindex\", \"selecteditem\", \"zygoteinit\", \"fold\", \"fluid\", \"fluidpage\", \"fluidrow\", \"flush\", \"flutter\", \"flux\", \"fly\", \"fmt\", \"fname\", \"focus\", \"focusable\", \"folder\", \"football\", \"foldername\", \"folders\", \"follow\", \"font\", \"fontawesome\", \"fontfamily\", \"fonts\", \"fontsize\", \"fontweight\", \"foo\", \"foobar\", \"fluent\", \"flower\", \"flow\", \"floor\", \"ele\", \"securitycontext\", \"searchable\", \"searchterm\", \"searchtext\", \"las\", \"crossaxisalignment\", \"secondly\", \"landscape\", \"secretkey\", \"lan\", \"lake\", \"ben\", \"labs\", \"belongsto\", \"labore\", \"cryptography\", \"lightblue\", \"kube\", \"behaviors\", \"cshtml\", \"seg\", \"knitr\", \"kmeans\", \"kid\", \"selectable\", \"selectall\", \"selectcommand\", \"selectedindex\", \"selecteditem\", \"zygoteinit\", \"fold\", \"fluid\", \"fluidpage\", \"fluidrow\", \"flush\", \"flutter\", \"flux\", \"fly\", \"fmt\", \"fname\", \"focus\", \"focusable\", \"folder\", \"football\", \"foldername\", \"folders\", \"follow\", \"font\", \"fontawesome\", \"fontfamily\", \"fonts\", \"fontsize\", \"fontweight\", \"foo\", \"foobar\", \"fluent\", \"flower\", \"flow\", \"floor\", \"ele\", \"securitycontext\", \"searchable\", \"searchterm\", \"searchtext\", \"las\", \"crossaxisalignment\", \"secondly\", \"landscape\", \"secretkey\", \"lan\", \"lake\", \"ben\", \"labs\", \"belongsto\", \"labore\", \"cryptography\", \"lightblue\", \"kube\", \"behaviors\", \"cshtml\", \"seg\", \"knitr\", \"kmeans\", \"kid\", \"selectable\", \"selectall\", \"selectcommand\", \"selectedindex\", \"selecteditem\", \"zygoteinit\", \"fold\", \"fluid\", \"fluidpage\", \"fluidrow\", \"flush\", \"flutter\", \"flux\", \"fly\", \"fmt\", \"fname\", \"focus\", \"focusable\", \"folder\", \"football\", \"foldername\", \"folders\", \"follow\", \"font\", \"fontawesome\", \"fontfamily\", \"fonts\", \"fontsize\", \"fontweight\", \"foo\", \"foobar\", \"fluent\", \"flower\", \"flow\", \"floor\", \"ele\", \"securitycontext\", \"searchable\", \"searchterm\", \"searchtext\", \"las\", \"crossaxisalignment\", \"secondly\", \"landscape\", \"secretkey\", \"lan\", \"lake\", \"ben\", \"labs\", \"belongsto\", \"labore\", \"cryptography\", \"lightblue\", \"kube\", \"behaviors\", \"cshtml\", \"seg\", \"knitr\", \"kmeans\", \"kid\", \"selectable\", \"selectall\", \"selectcommand\", \"selectedindex\", \"selecteditem\", \"zygoteinit\", \"fold\", \"fluid\", \"fluidpage\", \"fluidrow\", \"flush\", \"flutter\", \"flux\", \"fly\", \"fmt\", \"fname\", \"focus\", \"focusable\", \"folder\", \"football\", \"foldername\", \"folders\", \"follow\", \"font\", \"fontawesome\", \"fontfamily\", \"fonts\", \"fontsize\", \"fontweight\", \"foo\", \"foobar\", \"fluent\", \"flower\", \"flow\", \"floor\", \"ele\", \"securitycontext\", \"searchable\", \"searchterm\", \"searchtext\", \"las\", \"crossaxisalignment\", \"secondly\", \"landscape\", \"secretkey\", \"lan\", \"lake\", \"ben\", \"labs\", \"belongsto\", \"labore\", \"cryptography\", \"lightblue\", \"kube\", \"behaviors\", \"cshtml\", \"seg\", \"knitr\", \"kmeans\", \"kid\", \"selectable\", \"selectall\", \"selectcommand\", \"selectedindex\", \"selecteditem\", \"zygoteinit\", \"fold\", \"fluid\", \"fluidpage\", \"fluidrow\", \"flush\", \"flutter\", \"flux\", \"fly\", \"fmt\", \"fname\", \"focus\", \"focusable\", \"folder\", \"football\", \"foldername\", \"folders\", \"follow\", \"font\", \"fontawesome\", \"fontfamily\", \"fonts\", \"fontsize\", \"fontweight\", \"foo\", \"foobar\", \"fluent\", \"flower\", \"flow\", \"floor\", \"ele\", \"securitycontext\", \"searchable\", \"searchterm\", \"searchtext\", \"las\", \"crossaxisalignment\", \"secondly\", \"landscape\", \"secretkey\", \"lan\", \"lake\", \"ben\", \"labs\", \"belongsto\", \"labore\", \"cryptography\", \"lightblue\", \"kube\", \"behaviors\", \"cshtml\", \"seg\", \"knitr\", \"kmeans\", \"kid\", \"selectable\", \"selectall\", \"selectcommand\", \"selectedindex\", \"selecteditem\", \"zygoteinit\", \"fold\", \"fluid\", \"fluidpage\", \"fluidrow\", \"flush\", \"flutter\", \"flux\", \"fly\", \"fmt\", \"fname\", \"focus\", \"focusable\", \"folder\", \"football\", \"foldername\", \"folders\", \"follow\", \"font\", \"fontawesome\", \"fontfamily\", \"fonts\", \"fontsize\", \"fontweight\", \"foo\", \"foobar\", \"fluent\", \"flower\", \"flow\", \"floor\", \"ele\", \"securitycontext\", \"searchable\", \"searchterm\", \"searchtext\", \"las\", \"crossaxisalignment\", \"secondly\", \"landscape\", \"secretkey\", \"lan\", \"lake\", \"ben\", \"labs\", \"belongsto\", \"labore\", \"cryptography\", \"lightblue\", \"kube\", \"behaviors\", \"cshtml\", \"seg\", \"knitr\", \"kmeans\", \"kid\", \"selectable\", \"selectall\", \"selectcommand\", \"selectedindex\", \"selecteditem\", \"zygoteinit\", \"fold\", \"fluid\", \"fluidpage\", \"fluidrow\", \"flush\", \"flutter\", \"flux\", \"fly\", \"fmt\", \"fname\", \"focus\", \"focusable\", \"folder\", \"football\", \"foldername\", \"folders\", \"follow\", \"font\", \"fontawesome\", \"fontfamily\", \"fonts\", \"fontsize\", \"fontweight\", \"foo\", \"foobar\", \"fluent\", \"flower\", \"flow\", \"floor\"], \"Total\": [527.0, 483.0, 565.0, 461.0, 760.0, 466.0, 373.0, 405.0, 268.0, 420.0, 469.0, 745.0, 507.0, 247.0, 231.0, 549.0, 303.0, 380.0, 322.0, 213.0, 504.0, 349.0, 203.0, 335.0, 353.0, 461.0, 587.0, 191.0, 193.0, 357.0, 377.5049332641936, 353.767655457395, 351.66938345212003, 278.8669326801854, 671.6976764609665, 231.69768959190563, 182.74720418414415, 182.2693916875885, 163.99868060312167, 152.8090906180528, 216.44771213806274, 151.15923548914924, 145.51449469374205, 141.68613930174084, 141.27491463379633, 140.93906822423537, 137.48578164652514, 870.6216748247286, 135.63961464375225, 135.2942256733644, 133.48949724914658, 132.06164855867846, 130.70211520298196, 129.5277870348049, 126.66060277670874, 125.08935036670546, 124.61352128315279, 124.19097859604189, 118.82974330008513, 115.31094532247326, 340.6456066429791, 241.7605167434945, 429.58045754448676, 396.58702802173065, 407.6541090581706, 243.85365848202073, 361.50477451041485, 302.15906211668965, 349.6230097543285, 408.28857778762375, 598.0034847774396, 452.1599247425934, 342.7679913245071, 527.0107164092241, 319.5629056391107, 352.5278360541777, 354.43644330313805, 882.0378575552535, 276.95297024100176, 458.58555230798777, 602.6256685372304, 387.48251494387523, 342.75276128283315, 369.2603921580577, 438.4580412512714, 306.16681280891356, 667.1273053575726, 402.64969664436853, 760.5593410028624, 565.4304133031699, 520.6110613092653, 494.0938690174414, 420.5670924338466, 483.80985337033286, 449.35909448700727, 549.3987585938943, 507.38891044316523, 745.7755498185697, 175.04637179505573, 143.32907442722274, 122.00460260727299, 117.63716696696632, 91.31935546531894, 87.61794898354682, 73.88285747056432, 73.39917425135874, 72.6641396577915, 68.68042475071488, 66.80262744129318, 65.69502962739509, 65.57514975815431, 60.584995224759815, 58.520769356103905, 58.22697710146766, 55.89039079662226, 53.864753539366994, 53.8265488718789, 48.00951346096596, 46.90958570920241, 43.23320501947899, 43.02948535285638, 80.88005540362082, 42.147840190244644, 41.004830924167734, 40.95888058227683, 40.10642710190218, 39.57208601240564, 39.09834550890582, 587.7503548178536, 230.5544982742887, 107.6005339659466, 163.3995791007918, 239.0520618052232, 87.48098968192109, 378.57014206779746, 134.75878193413496, 205.23194659585658, 96.70832658137721, 256.50746409390257, 82.35384634588989, 262.3563594659265, 151.35043404336963, 494.7668359022981, 308.54961569050687, 213.5256264525733, 380.52841673977645, 745.7755498185697, 494.08317683179285, 238.4860834926, 355.50172107713826, 320.5859149372837, 469.14735362709365, 209.8461088433344, 226.78402616371423, 246.91818500942085, 392.24518454375936, 197.53827766571737, 667.1273053575726, 760.5593410028624, 66.19579969310792, 59.3204064849816, 53.175176136758346, 47.692013472443065, 47.34870045573204, 46.75327265499489, 44.847770474769575, 43.8950796824727, 41.04948794598479, 37.53630293624581, 36.38881262539767, 35.69271624398183, 35.49063529676832, 35.034938690202196, 34.37129420868459, 33.98843181312299, 32.95596480960484, 32.887175933873806, 32.43163353744664, 32.07361065319652, 31.285639757364546, 30.348225389897525, 30.01428597208829, 29.49463144625643, 28.652448590015354, 28.503840374889297, 28.32835526637164, 27.91225264884342, 27.324058517418752, 26.638030319645214, 341.4528545597317, 41.95524691032523, 62.143925196289295, 73.64331887895375, 214.36431851335144, 57.96779244204318, 504.69162864496127, 36.12321713339374, 56.44660317328751, 364.80285411753215, 46.197835191626325, 237.98430592314145, 51.43357622258903, 469.14735362709365, 152.6443647130011, 122.12585009846228, 132.6825065969077, 349.37695455443526, 74.9796070810578, 188.04013590554413, 135.6841674131353, 93.01779098962237, 62.57579071447658, 59.994002150630905, 48.35840338723265, 140.09461204510936, 81.01565603466268, 45.681629165402306, 45.17752325677889, 43.25346680155406, 42.29267277427504, 40.53222428817725, 40.37559703937322, 38.26715966532807, 37.70712926749928, 37.325154432772905, 37.16056766185123, 36.2540485728336, 35.43593340444732, 32.968620645642716, 32.35194205623307, 31.384825542383727, 30.482051572219394, 28.107943155447888, 27.850960716074457, 27.0778413461059, 26.974096338287225, 26.609872525552177, 26.239341907078806, 25.87509252116826, 25.20521056143846, 194.4485669485677, 373.91520816202774, 85.28452450693985, 72.96835358825967, 106.07303595000775, 147.67839171579274, 46.413851325007876, 72.93846884655018, 494.0938690174414, 152.38960447037277, 126.02924892092204, 239.14210701983393, 216.1175536336899, 745.7755498185697, 94.97849145206503, 61.864228262430274, 61.21666378132286, 47.58818900441887, 32.19881424681816, 31.31031887048772, 30.348452206214045, 29.77755538146518, 29.11718025794147, 28.843393725037895, 27.861562149397592, 27.861343024729546, 27.280941934271503, 25.400548961710435, 23.794580510008565, 22.52394430253287, 22.51058842794441, 22.276019129787542, 22.27341602422531, 21.24540456588066, 21.135319412003376, 20.98229858229212, 20.876921917684204, 20.7016728280734, 20.17182458885667, 18.41638892867765, 18.381351100456023, 18.36870106751688, 18.280379904749513, 18.274825399746057, 29.71635680119186, 165.36036548258815, 47.97201290058003, 86.97145249697783, 45.362333173282856, 58.11600146454555, 138.9009305750146, 132.6825065969077, 41.58945044465647, 60.47341166470408, 39.839930495217494, 146.00388119996677, 43.41980661947621, 188.32298559963266, 148.35268644612077, 42.605166395689686, 135.80102058843102, 357.00885701046235, 203.53658612325708, 214.36431851335144, 287.92882182492116, 121.01040920201072, 252.06967024227433, 167.45068106760849, 220.29543639509845, 215.51115459192616, 341.4528545597317, 38.656885443857256, 31.38249338287793, 28.99514516117167, 23.028645617230772, 21.34312131410626, 21.081227439883026, 67.06832002584342, 19.65424911138415, 18.7541403983274, 18.481487457026756, 18.29957131519967, 17.52864679930971, 16.14111070777213, 16.08815165379469, 16.05506002693768, 53.056723345675366, 15.601060375324, 15.25542513051613, 148.98682164615093, 14.623818108248125, 86.30086179899519, 13.258082525125882, 13.175065421701813, 12.917465394910963, 322.2555394107632, 12.690745619782627, 12.494235540000766, 12.083656565252756, 12.081202129554681, 11.950534404713157, 37.103190742417496, 52.615591266953224, 242.49125278375624, 36.92954024328759, 129.89524851008653, 247.93726205948525, 51.05930209950738, 38.20524846468768, 335.562024738374, 71.82943736764132, 43.868736955540406, 157.4213369073969, 158.07204292417376, 67.97163468189065, 75.81753300070532, 156.09141730748564, 43.29957241468016, 173.01047385059562, 507.38891044316523, 129.16894810954102, 549.3987585938943, 295.81126218795544, 123.65471514467534, 213.66555050080257, 587.7503548178536, 175.14108705860923, 602.6256685372304, 184.49320706640327, 402.64969664436853, 47.60650883700607, 36.05120021661492, 33.60816808458774, 31.787812181512873, 31.17060885548444, 30.841656062849157, 26.200201767843158, 94.81022979985067, 22.194411414581783, 21.566781926137864, 19.47635117894266, 18.797321181029993, 18.635482231874125, 18.253059198915523, 18.016260291031365, 17.01741885267898, 16.771521039863593, 16.533649253277463, 16.040164015387365, 15.348268128352904, 15.093750009911375, 14.43253807913125, 14.314968708814417, 13.908564103565364, 13.652130099680633, 13.609714361772552, 13.157380342234834, 11.941838587984778, 23.278755684656744, 11.775876021906685, 461.1440657731976, 172.6872835064579, 63.55250188366837, 88.13714028094158, 50.83076332819261, 40.45064471575541, 69.76960770439798, 148.63334577033254, 147.67839171579274, 151.47759077160666, 353.5216467013989, 67.73773064720359, 373.91520816202774, 549.3987585938943, 397.8510015772386, 241.3680832988017, 264.4072428325682, 205.23194659585658, 494.0938690174414, 131.95403173295273, 239.0520618052232, 191.28896195600598, 141.99103829342081, 65.43073466946635, 63.201120003730715, 43.167729936388945, 42.095924604207916, 32.98403106831503, 28.544158170731315, 28.011060200965723, 27.485885259612726, 26.381001203584205, 25.944812884345094, 25.73482587010799, 25.60462237025727, 25.198472019736574, 24.7963496967917, 24.079576806077338, 23.36456194038403, 22.00807317899349, 19.698159367261596, 19.30332226610557, 43.437752622952, 18.330822390785315, 17.733977555505124, 17.28879818066247, 17.13234153217994, 38.21098560581009, 16.637866287298795, 16.490371058500802, 16.45386725969637, 16.302215993341783, 46.69865276860418, 94.81573232140906, 77.42508391325647, 86.36891107793411, 70.28636514978129, 33.14484590342192, 81.61690077675448, 32.655870236272634, 405.30621809636585, 89.71380963849381, 70.73066050878803, 123.12939990631754, 68.23009248766297, 164.06037874447856, 240.96090454248892, 392.24518454375936, 104.32556672385573, 466.4265789601362, 103.80629064342149, 38.789091531935995, 34.53007700399888, 28.836139516701444, 28.087714043971985, 21.562733211280086, 20.46921936802965, 19.743784800131614, 52.23843757723998, 18.808509207367766, 18.20044747905056, 17.5941960613158, 16.622405266514455, 111.42628122910796, 15.880321665146724, 15.68599665568594, 15.43785174711889, 15.341402225083229, 15.187140382917217, 14.761105031998811, 14.755454306225252, 14.688121314043865, 14.437337643656448, 14.324733331396857, 14.19492268132451, 14.13354704721663, 13.256314979813116, 32.583385037281886, 12.790434502162498, 42.869877148976535, 37.94253650567213, 58.417815124911314, 38.559777405578444, 46.68960556191846, 102.99163460085191, 137.74222857025572, 82.67720838189393, 52.78207868602785, 39.41985991899224, 46.16652910912787, 98.55100146522487, 59.43166633032285, 55.386545489768515, 258.7597535923998, 119.87312970912134, 307.7011709822625, 40.50958519417194, 173.01047385059562, 233.2752661275381, 109.10816546706339, 63.494191108255265, 239.14210701983393, 165.36036548258815, 299.5184136170983, 61.056263148277594, 42.03427036267577, 38.78635985337306, 31.056355702880825, 24.651166444850336, 183.51279450302275, 23.6412977308617, 119.79976101488067, 19.683048985175454, 17.21310029660768, 16.965722069570017, 15.953781531697757, 15.88019273341786, 51.38220421999759, 15.851029481210933, 15.405375647784453, 15.116096636298353, 46.868775330014756, 14.047534046038209, 13.823619816596958, 13.398347384816802, 13.226011621808285, 162.35805871573316, 94.22434863926293, 12.284270512285913, 63.841065552305636, 11.86264255596595, 10.730831867275878, 10.643207867400946, 10.486756624436723, 137.99668618070274, 174.85588566183918, 210.24881225705744, 469.14735362709365, 256.5169092972453, 142.5295233387671, 349.37695455443526, 760.5593410028624, 161.9428035122487, 438.4580412512714, 192.4850628016196, 39.60100754187513, 30.835715030335102, 27.33329066427941, 24.599422078033513, 22.01764589348918, 21.16649802245795, 19.53379568900265, 18.95161347009461, 18.69770516482881, 18.501459016520904, 36.582914570570864, 17.294457528096405, 16.853965851621, 16.819930049798042, 16.655999551175274, 15.965979184152895, 15.257640571239545, 14.991265796973565, 13.793047890456888, 13.223627360014316, 12.809808319052767, 12.359824788408606, 12.110783342719802, 50.17316690854557, 11.982973804255247, 11.285386703072696, 10.835668286938207, 10.553530760368242, 10.147964942569569, 9.86275610471601, 202.33044278382212, 101.53480119722943, 135.6841674131353, 122.81820839809637, 70.10399348590664, 112.64889686116038, 206.47834000687914, 349.37695455443526, 469.14735362709365, 37.491602519651885, 527.1088303860699, 237.98430592314145, 66.05084320225814, 218.64104243768958, 321.35989206838, 760.5593410028624, 181.69608473770097, 46.35648969759012, 45.290289665247705, 41.694048186527326, 39.864476880406684, 38.03270516888492, 34.42270372872576, 30.007914038996912, 29.631766194255643, 28.144342974188177, 26.670907118639274, 25.388671244671627, 25.19209742289242, 24.767544387873116, 24.331461684673325, 21.041060697814267, 20.748649345685077, 19.73112686006256, 18.57214957747786, 18.325508341370913, 18.321324844133276, 18.166315640963084, 17.978892489701224, 17.8163190554074, 17.291452622027982, 16.799353059486275, 16.69106671802953, 16.51174156480828, 16.331861502382147, 15.27335091767766, 14.93117055798554, 14.88861638122386, 81.05315827081563, 141.2465475593994, 205.8369651349251, 37.93956395855054, 128.28082535358027, 145.8108813892146, 41.994603137423645, 170.3907845408356, 34.22756648557117, 34.065037823602054, 33.20295859323895, 32.05442637955914, 26.719634710588174, 25.815827797831087, 25.573540221925423, 23.09890821527458, 162.32961304239436, 20.454189230151286, 19.440595357717985, 19.094801619770706, 18.977469460857645, 18.64573376444036, 17.079775739215147, 17.0735004282025, 14.18014190577664, 14.009564307178218, 13.948807212354092, 13.804772949289555, 12.443905703461537, 12.087624706189901, 11.46409032428698, 11.314927473779912, 11.162185789430394, 10.845087414892623, 10.627653074672759, 10.59073125129299, 10.434768140938928, 10.256011503308995, 62.33050363012786, 405.30621809636585, 26.516838769571173, 71.07671538578282, 380.52841673977645, 278.6029063405212, 33.401394386321044, 466.4265789601362, 170.3907845408356, 130.53262607946266, 745.7755498185697, 119.71105211507356, 420.5670924338466, 205.44346030017385, 353.5216467013989, 565.4304133031699, 184.03109525249164, 50.16989481233409, 31.34195169045359, 27.66224928894249, 26.133428602930138, 19.33056813953145, 56.06965825907491, 16.104927953267566, 14.69337551124264, 31.391320656189038, 12.298104328301276, 12.278664904293613, 11.919887224729688, 11.764667472692254, 11.689056129710337, 11.222206607869735, 10.957185756300113, 10.881607981281853, 60.79271423546469, 9.800675138104204, 26.5100237674189, 9.404582546214629, 9.008166590687573, 16.459834099811502, 8.141054241000779, 33.866166056034686, 37.305473298719136, 71.17030936888823, 35.61255668881972, 121.4748238630364, 6.881138827090945, 50.01216724361585, 167.93165636838273, 124.4158322156805, 58.496064963741574, 74.18777960465725, 119.71105211507356, 137.79828338078042, 203.53658612325708, 93.47704803111414, 123.65471514467534, 565.4304133031699, 420.5670924338466, 287.92882182492116, 67.97163468189065, 271.59922648042544, 64.37127577099459, 35.280651823824144, 32.64658246383491, 30.527369228749894, 29.522357859118923, 28.416780160645125, 23.551542596445827, 23.474891510914766, 23.398930339961836, 22.777633587696855, 22.557798823037675, 22.038245606993737, 21.69640958941278, 21.279045133463853, 20.56165809586348, 18.894793479295384, 18.54931513819625, 18.487028589483707, 17.83302457180054, 17.772437107794833, 17.541908410319852, 17.531541104935336, 17.405359548312735, 16.965273289220512, 16.845681784692886, 14.925062721836314, 26.763151111452625, 14.03449705227451, 13.711699396761846, 13.606135571127718, 36.10577564660939, 35.324033123564405, 25.607456130257244, 66.45064390610091, 38.1100123204501, 192.26541499797997, 87.00608543552077, 37.45954781787993, 76.19362651076152, 54.16306400140775, 45.769236387729734, 37.22903886199476, 31.17364352004329, 29.56508237201415, 26.99776855803556, 26.88979825048595, 26.71634699016624, 26.362892104737323, 23.741804638209075, 20.71715096374497, 19.786673747980515, 19.43437184681117, 19.320905102572215, 18.929552827030488, 18.84727082407511, 18.80827503390911, 17.95924492709242, 17.84487570164823, 16.726417620688892, 16.57207328855333, 16.01723394601822, 15.820331265598016, 15.741572584506216, 14.988606415525501, 14.599164707848521, 14.406425514602837, 14.194050418598462, 13.997044785815365, 26.687745778580513, 45.87624407937056, 43.23408828737978, 46.68210036666907, 53.08774754437981, 166.51725899122698, 46.369378320997754, 42.995709768531015, 37.0628699809412, 31.18287638959309, 28.04722389888983, 26.823376114826303, 24.96951949047048, 22.534777002120745, 19.26207483374578, 18.47033982680191, 18.323437282712646, 18.069958737210747, 17.531777378382767, 17.066597596149272, 15.803044356689794, 15.598046596782542, 15.530151597133688, 14.651888551866719, 13.805926429592757, 12.928871118798321, 12.586640554688971, 12.399521675672238, 12.366998441871804, 11.94760628812291, 11.912120009085847, 11.854353539474623, 11.60005672809181, 40.76341993794659, 11.266492581300643, 11.164957716438373, 71.64532712945025, 66.59257332797267, 126.15245652602296, 31.279358406782524, 303.4600244848403, 466.4265789601362, 174.85588566183918, 353.5216467013989, 45.010660270169204, 58.31446064823057, 182.0599507835101, 461.25012848064, 50.90241626327373, 43.86449812095251, 36.98865493211042, 36.00296562125503, 30.812783694726555, 28.102227977621858, 28.05788211470268, 27.93814722861498, 24.194608602709277, 22.560424475281067, 21.952852532897726, 21.95237065798225, 21.926878270283133, 20.153221452957673, 19.729604729962595, 18.43881687001162, 17.6011694472847, 17.512196346203105, 17.501284460308515, 16.829370553241958, 16.094708530058416, 15.31692489890568, 14.797819219628957, 14.72741861788495, 14.715783683422854, 14.228048717057499, 14.04359174336217, 13.085935967669657, 12.980584689921319, 12.884496505834498, 86.99991163243934, 466.4265789601362, 205.44346030017385, 52.095354010362826, 37.62885081518234, 31.877995083151365, 28.262360982480303, 26.52179359849992, 23.69979813311873, 23.35467981593555, 22.953370595024783, 22.09991744937199, 21.730045582473146, 83.24474242507625, 18.47060991547294, 18.442875430849007, 18.15782061486182, 16.847612149783444, 16.419659388865487, 15.53232282940099, 14.692978018607754, 14.62977348283175, 13.397140407238117, 13.131488282240781, 49.65229631973884, 12.753193954087049, 30.328163864787985, 12.287288736927808, 12.074266672786973, 11.386086872783094, 11.364768151977993, 11.271112039421517, 11.250462674075683, 90.21745372135177, 107.00430183519086, 23.307354205598006, 116.48279401064592, 122.72057000154633, 162.16171699273025, 35.15984472869482, 165.41056869391394, 77.10906071993635, 30.129479147502405, 20.541861895642285, 19.319108870262813, 18.313424865096245, 17.83640375359335, 17.488607806721017, 17.178174001080208, 15.001397303018981, 14.6114059079708, 14.583385616993596, 14.568452401212229, 11.658775727633373, 11.23773687297355, 10.90188132456244, 10.778354223212652, 10.644045141411775, 10.088176974010011, 8.616794828449406, 8.391422480994878, 131.95403173295273, 7.703334182881792, 7.479878910649314, 83.90076509943685, 6.5941308463894845, 6.58683007811226, 6.48787985026265, 6.1601135931534445, 27.199040108136312, 159.76818557596337, 191.28896195600598, 256.50746409390257, 16.75391824568518, 76.06827222517882, 59.67576941355212, 39.13258738880639, 307.7011709822625, 106.00045183985887, 48.906829157410364, 43.66388908413838, 38.270296124598325, 35.179975874335234, 140.3675852794218, 174.90391634712026, 29.111723667220748, 27.3978928648157, 26.26215208152687, 25.149585275573614, 18.56315487156567, 18.037120284656194, 17.888649924825053, 17.37148088856379, 17.026374352070714, 17.02453280064216, 12.162918891062885, 12.15723929295588, 11.115864365054367, 30.674086171205285, 10.177290018737008, 51.371858827502756, 9.016001989909638, 8.380935418694042, 8.252594759356295, 8.159855493898428, 164.06037874447856, 6.635924838407546, 6.319244446982462, 25.71228660806718, 55.75565193105875, 28.962805148413516, 27.467565195036208, 22.978077218256757, 22.072346609168086, 21.993900417922706, 19.802140182602226, 18.413555828157804, 17.817392627979295, 17.64653604483793, 16.798591039409615, 119.3662992778416, 16.228785710120953, 15.968068950529982, 15.469701892427002, 13.734936534324962, 13.525483383926812, 12.431403375924608, 12.22784034110285, 11.824830079961014, 11.72393212711144, 11.108097765799709, 10.390997762296186, 10.062342031805185, 43.862637789613736, 9.4376206622905, 130.974035039646, 61.281316296434724, 7.800331012448107, 7.7970222253851675, 125.90746836151638, 65.85337011485275, 66.45064390610091, 108.33312744609225, 65.90878332785228, 45.976501326186515, 36.53765711208626, 35.919066224416056, 30.849297502151185, 29.891674480294466, 26.175567209895146, 24.46232215255758, 23.49068385136077, 22.89841996405194, 21.649960286217173, 20.687133359664678, 20.290858991340077, 20.06419940786005, 19.232229007455935, 16.903929575983117, 15.452408049112796, 15.337668110541928, 14.573436272359883, 14.372643656251237, 14.317829820893158, 13.481925725941844, 13.361719264183296, 13.058191247038852, 12.890773650528875, 12.802090458584052, 12.688611103675113, 11.772266230617763, 11.337699001118212, 26.385620242138184, 86.37748411333173, 247.00850202804352, 43.30091113328069, 28.0814798696882, 96.98995568215433, 14.020611366934203, 13.881764675214603, 13.798475296943069, 13.578086202663807, 13.42263898279525, 13.00770419435065, 12.238948058737, 12.164594013726974, 11.431166203393134, 10.397149559689838, 10.363245161087304, 8.249885452667602, 7.78532900827739, 7.722703928695961, 7.386916558434472, 6.756457571516741, 6.51902776379975, 6.009150166990333, 5.057039570169563, 95.76508789865066, 124.4158322156805, 119.71105211507356, 243.4062709042325, 2.634080990482903, 2.634080990482903, 2.634080990482903, 2.634080990482903, 2.634080990482903, 2.634080990482903, 7.982101295866637, 57.88965038275256, 53.013769178305445, 50.163312923482856, 34.550260810806066, 28.743613113830936, 27.577946697717742, 97.63096965657627, 21.878205868299244, 19.9398826299405, 166.12169872300393, 15.263826984209377, 15.20481689805429, 14.198381893805447, 13.133136830140753, 12.364395096406213, 12.358578416657423, 11.263950719110221, 10.092807363589564, 9.54019503729227, 8.420671341934565, 60.23847204502769, 54.457518415299965, 7.556784750341808, 7.404740062557146, 7.344087490009201, 26.340726696372684, 4.773811943136315, 2.634080990482903, 2.634080990482903, 2.634080990482903, 2.634080990482903, 2.634080990482903, 2.634080990482903, 2.634080990482903, 117.63716696696632, 16.974851791769918, 165.41056869391394, 76.77201108933683, 61.16583053486503, 44.06559599578326, 37.53800931929423, 32.081162095062616, 105.08644431104538, 24.212248155561255, 72.14570561723767, 23.244695590428762, 97.10117871062967, 17.50577400295347, 17.088116979582793, 15.050744107735062, 14.882515434682347, 13.979145609434434, 13.845301172694022, 13.172384076163041, 12.806308491147545, 11.852442891134023, 11.315385278039685, 10.811673003271453, 10.457814912116122, 9.328953126932767, 9.035858795713677, 8.551102893157141, 8.06795434237843, 5.675406858200875, 5.485827974599958, 2.634080990482903, 2.634080990482903, 2.634080990482903, 2.634080990482903, 2.634080990482903, 2.634080990482903, 2.634080990482903, 17.363880242331454, 2.634080990482903, 49.61934170499436, 30.20977237615924, 57.46761352862521, 27.046930609836952, 49.36074146872283, 25.02274885759993, 24.493617965079203, 23.904032453493315, 22.62982916926591, 21.818399568188312, 20.912727727166608, 32.28528975628307, 16.79611208515902, 16.16930386060719, 15.12227888766279, 15.037810560802072, 13.813060774784226, 12.638943529928632, 39.89733257637491, 11.083228543916787, 9.173355364259576, 8.634463673443763, 527.1088303860699, 2.634080990482903, 2.634080990482903, 2.634080990482903, 2.634080990482903, 2.634080990482903, 2.634080990482903, 2.634080990482903, 2.634080990482903, 2.634080990482903, 2.634080990482903, 2.634080990482903, 2.634080990482903, 2.634080990482903, 117.63716696696632, 2.634080990482903, 16.974851791769918, 165.41056869391394, 12.164594013726974, 2.634080990482903, 319.5629056391107, 54.82143354692589, 102.49863621957769, 52.973284982545, 37.5946185196334, 24.880105965973993, 21.911603434717104, 21.043873032431467, 19.742449547231985, 18.06056766276081, 16.501876937487026, 16.155734395289127, 15.589278266914077, 14.405365583986837, 14.235900151131455, 11.550492222998187, 10.70715456266296, 10.37363463970902, 9.374448806056344, 93.98016913092174, 8.890223170610378, 76.09156644814676, 7.516077985528717, 34.999931756258434, 128.94252752581764, 2.634080990482903, 2.634080990482903, 2.634080990482903, 2.634080990482903, 2.634080990482903, 2.634080990482903, 2.634080990482903, 2.634080990482903, 2.634080990482903, 2.634080990482903, 2.634080990482903, 2.634080990482903, 11.852442891134023, 2.634080990482903, 4.806099111322187, 11.156914233409294, 7.982101295866637, 33.976308918340415, 64.96120066187376, 46.715863731670076, 36.83142612393404, 34.2475714544785, 29.725935265082743, 28.99903966432388, 28.588887755973527, 20.240991571062647, 19.947647525950018, 19.298477846858244, 18.262162901381366, 16.07292486948959, 14.174100631351308, 13.938595040497496, 13.45930822750899, 13.369620354043088, 13.290380448585061, 13.180966935217135, 13.180327177083658, 12.578294797928208, 12.000495639343976, 11.900808956951415, 11.884272100532016, 11.28955208688336, 10.991216114960267, 10.95954581944434, 10.795296000389767, 10.75693750446303, 10.592732882688505, 10.34079820075792, 84.08880932044286, 98.4773621899097, 45.461605091318035, 35.287327431796214, 33.69977771223041, 31.56204622117769, 30.89519447794456, 27.442088574315083, 23.832699266879462, 21.15749636649362, 19.660983817452372, 19.442864976829707, 19.279196620986173, 16.147344449799228, 15.8916909497156, 14.61664640259094, 14.170866373447698, 13.680943108845586, 39.26233482214136, 11.862139419538897, 11.861470042269872, 9.667521579717885, 9.363522758985706, 8.572541503948372, 193.77938440236917, 8.22758093724132, 5.487167937168302, 126.02924892092204, 43.15798216171896, 2.634080990482903, 2.634080990482903, 2.634080990482903, 71.17030936888823, 165.41056869391394, 16.974851791769918, 34.331153469558295, 33.6076987776652, 28.457758131073327, 26.99754702293047, 25.43278710202295, 24.65393490324459, 24.51746948744865, 23.451826365273906, 23.11463322915692, 22.976005278829316, 21.49354159448629, 19.813865379376644, 19.342126733498844, 17.797160339412645, 17.71492298790404, 17.024185658049845, 16.919829119569776, 16.52648069047016, 16.247729285441018, 16.036280652524336, 15.45056385898183, 15.316508812452925, 15.11572679688086, 14.797952976252148, 13.25470120389815, 13.198762574600842, 13.003818405469614, 12.808577883846455, 11.963579677312381, 10.601256804424025, 38.2463907857559, 31.725650352351146, 30.843222205076604, 27.5455660334835, 25.067507048614775, 23.997160980411046, 23.466221539274287, 23.22979213406107, 21.378545907594216, 21.189963760408492, 18.24266395216587, 17.019543609048974, 16.33066137290114, 15.937172038682675, 73.54880803621826, 14.035740106636359, 13.260411922475127, 12.7695508131387, 12.397653272671189, 12.26867909948302, 11.971661353871148, 11.928231696732219, 51.81431926913305, 50.762260176818586, 11.41907957493067, 8.938837055551515, 8.68602098882942, 8.287799184871194, 8.21963078976342, 7.907636633794069, 64.66423978221869, 97.71206979754709, 140.00299865077886, 52.0251479478209, 25.680243503597897, 23.706779292222397, 23.576859335655428, 20.732640295380655, 17.500527592600466, 16.795500990017043, 16.278566738205207, 15.573746132183695, 15.439318282925415, 11.439506694695009, 192.26541499797997, 2.634080990482903, 2.634080990482903, 2.634080990482903, 2.634080990482903, 2.634080990482903, 2.634080990482903, 2.634080990482903, 2.634080990482903, 2.634080990482903, 2.634080990482903, 2.634080990482903, 2.634080990482903, 2.634080990482903, 2.634080990482903, 2.634080990482903, 2.634080990482903, 2.634080990482903, 2.634080990482903, 319.5629056391107, 12.164594013726974, 37.53800931929423, 17.363880242331454, 33.933359047553374, 2.634080990482903, 11.852442891134023, 145.51449469374205, 2.634080990482903, 33.976308918340415, 10.186754319944843, 71.17030936888823, 165.41056869391394, 117.63716696696632, 7.502639268704329, 14.583385616993596, 41.72218625777053, 34.548269485779294, 31.69465811899273, 29.80968310816168, 28.388870230558496, 26.431756248621493, 24.252228295119487, 23.619536350893195, 21.80588836835463, 21.500456182823363, 20.87080378797976, 20.863857190733746, 20.577719914816875, 20.15311851207265, 20.04750614848841, 19.091192713791603, 18.97485765884889, 39.92728348466747, 16.77944095303517, 15.709047101625046, 15.37074429367287, 14.813696667079201, 14.519832687538633, 13.562674290160466, 13.064100100742255, 11.636972983437328, 10.561789733848213, 10.366712073060057, 10.344576071033906, 9.324835285284195, 35.91515997405688, 30.248001300567232, 26.2334642213134, 25.232895986214483, 23.44670545307768, 22.96256055608317, 22.390291449842323, 21.250961614330265, 19.055517123585876, 18.37584453010873, 17.63244014736133, 17.186061459701012, 16.934876190277365, 15.997949872083149, 14.530263481804038, 12.575305447717584, 10.138853497553946, 191.13622124443836, 35.89981822729448, 8.077233134662242, 106.05136838604211, 2.634080990482903, 2.634080990482903, 2.634080990482903, 2.634080990482903, 2.634080990482903, 2.634080990482903, 2.634080990482903, 2.634080990482903, 2.634080990482903, 2.634080990482903, 2.634080990482903, 2.634080990482903, 2.634080990482903, 7.82047488169924, 37.53800931929423, 11.156914233409294, 7.982101295866637, 2.634080990482903, 16.974851791769918, 165.41056869391394, 2.634080990482903, 2.634080990482903, 162.82277031810145, 29.49303602084032, 158.95748552257155, 24.444331778858736, 21.717654153466015, 18.772417476382543, 16.87809267668366, 14.421255515561263, 12.132221880497305, 11.69892511718838, 10.401857425506229, 9.519988661847787, 8.729442704732344, 483.80985337033286, 2.634080990482903, 2.634080990482903, 2.634080990482903, 2.634080990482903, 2.634080990482903, 2.634080990482903, 2.634080990482903, 2.634080990482903, 2.634080990482903, 2.634080990482903, 2.634080990482903, 2.634080990482903, 2.634080990482903, 2.634080990482903, 2.634080990482903, 2.634080990482903, 2.634080990482903, 2.634080990482903, 12.164594013726974, 37.53800931929423, 17.363880242331454, 33.933359047553374, 2.634080990482903, 2.634080990482903, 11.852442891134023, 10.029885916331716, 145.51449469374205, 2.634080990482903, 16.974851791769918, 33.976308918340415, 319.5629056391107, 117.63716696696632, 7.502639268704329, 14.583385616993596, 152.99188647941313, 102.3145764249918, 54.94604682188627, 51.293671291594336, 48.43864591113047, 32.3796305117189, 32.13920507572742, 22.652980378506797, 14.759892236510602, 12.36002868049675, 9.835938716000745, 8.513508109826795, 6.850276874839281, 6.543345148945868, 2.634080990482903, 2.634080990482903, 2.634080990482903, 2.634080990482903, 2.634080990482903, 2.634080990482903, 2.634080990482903, 2.634080990482903, 2.634080990482903, 2.634080990482903, 2.634080990482903, 2.634080990482903, 2.634080990482903, 2.634080990482903, 2.634080990482903, 2.634080990482903, 17.363880242331454, 11.852442891134023, 29.891674480294466, 43.32571085521989, 9.648105268619307, 4.806099111322187, 2.634080990482903, 11.156914233409294, 145.51449469374205, 2.634080990482903, 37.53800931929423, 7.982101295866637, 2.634080990482903, 16.974851791769918, 165.41056869391394, 99.15227329189042, 27.405824355254513, 25.697362815699147, 24.019223200922525, 23.32411972469976, 21.702582079263195, 20.237623251646195, 54.52405614108612, 15.365835610602247, 13.133653287091796, 12.121513487021302, 268.8154960005473, 7.618525309240273, 7.037594792200429, 97.24042295023006, 2.634080990482903, 2.634080990482903, 2.634080990482903, 2.634080990482903, 2.634080990482903, 2.634080990482903, 2.634080990482903, 2.634080990482903, 2.634080990482903, 2.634080990482903, 2.634080990482903, 2.634080990482903, 2.634080990482903, 2.634080990482903, 2.634080990482903, 2.634080990482903, 2.634080990482903, 2.634080990482903, 2.634080990482903, 2.634080990482903, 2.634080990482903, 2.634080990482903, 12.164594013726974, 37.53800931929423, 17.363880242331454, 33.933359047553374, 16.42907240117997, 71.17030936888823, 16.46630771610306, 93.98016913092174, 11.852442891134023, 16.974851791769918, 145.51449469374205, 2.634080990482903, 33.976308918340415, 30.138012175096954, 26.55278415532786, 25.359347560254744, 20.942424670106835, 20.14485230990958, 18.923258917642404, 18.74064080152827, 18.53518073045639, 18.124079822496526, 18.0545191773168, 15.196419277634211, 14.294107295199384, 12.414201922374216, 12.248611263042848, 9.81526849121906, 9.385865680110497, 203.7854579999908, 2.634080990482903, 2.634080990482903, 2.634080990482903, 2.634080990482903, 2.634080990482903, 2.634080990482903, 2.634080990482903, 2.634080990482903, 2.634080990482903, 2.634080990482903, 2.634080990482903, 2.634080990482903, 2.634080990482903, 117.63716696696632, 17.363880242331454, 27.199040108136312, 165.41056869391394, 2.634080990482903, 12.164594013726974, 37.53800931929423, 22.125292503405976, 11.852442891134023, 33.933359047553374, 2.634080990482903, 145.51449469374205, 14.583385616993596, 27.073958802176282, 23.57898563508876, 18.31833262202375, 182.22807383753207, 11.850155771091307, 10.322926931081971, 7.968256306745228, 231.99999889883736, 129.16894810954102, 2.634080990482903, 2.634080990482903, 2.634080990482903, 2.634080990482903, 2.634080990482903, 2.634080990482903, 2.634080990482903, 2.634080990482903, 2.634080990482903, 2.634080990482903, 2.634080990482903, 2.634080990482903, 2.634080990482903, 2.634080990482903, 2.634080990482903, 2.634080990482903, 2.634080990482903, 2.634080990482903, 2.634080990482903, 2.634080990482903, 2.634080990482903, 4.806099111322187, 11.156914233409294, 2.634080990482903, 9.648105268619307, 7.982101295866637, 2.634080990482903, 16.974851791769918, 165.41056869391394, 43.32571085521989, 10.029885916331716, 12.164594013726974, 29.891674480294466, 17.363880242331454, 33.933359047553374, 2.634080990482903, 11.852442891134023, 145.51449469374205, 2.634080990482903, 33.976308918340415, 319.5629056391107, 117.63716696696632, 51.315186585270965, 48.30860778628873, 44.711711768088826, 21.468057669666507, 11.55415023657772, 124.35371805959666, 111.8769509975579, 373.59810269951646, 2.634080990482903, 2.634080990482903, 2.634080990482903, 2.634080990482903, 2.634080990482903, 2.634080990482903, 2.634080990482903, 2.634080990482903, 2.634080990482903, 2.634080990482903, 2.634080990482903, 2.634080990482903, 2.634080990482903, 2.634080990482903, 2.634080990482903, 2.634080990482903, 2.634080990482903, 2.634080990482903, 2.634080990482903, 2.634080990482903, 2.634080990482903, 2.634080990482903, 37.53800931929423, 12.164594013726974, 2.634080990482903, 10.029885916331716, 165.41056869391394, 16.974851791769918, 17.363880242331454, 7.982101295866637, 2.634080990482903, 33.933359047553374, 4.806099111322187, 2.634080990482903, 11.852442891134023, 145.51449469374205, 2.634080990482903, 33.976308918340415, 319.5629056391107, 117.63716696696632, 7.502639268704329, 14.583385616993596, 22.125292503405976, 27.199040108136312, 93.41642314909888, 57.04070353082056, 39.360332133636206, 38.02110065257065, 35.41736177911485, 28.312107463531767, 20.75636194450734, 20.638027132445085, 20.40173311188756, 17.459715958023423, 16.415399680977583, 16.35820126308692, 12.919400268938768, 10.561444411101796, 9.919619367831537, 2.634080990482903, 2.634080990482903, 2.634080990482903, 2.634080990482903, 2.634080990482903, 2.634080990482903, 2.634080990482903, 2.634080990482903, 2.634080990482903, 2.634080990482903, 2.634080990482903, 2.634080990482903, 2.634080990482903, 2.634080990482903, 2.634080990482903, 33.933359047553374, 16.974851791769918, 165.41056869391394, 2.634080990482903, 2.634080990482903, 7.982101295866637, 12.164594013726974, 37.53800931929423, 17.363880242331454, 10.029885916331716, 2.634080990482903, 11.852442891134023, 145.51449469374205, 2.634080990482903, 11.156914233409294, 54.749644417425785, 42.70224491216821, 30.93854906287441, 30.08310732593862, 21.600929750564447, 21.511359284537726, 20.09280994203572, 12.478575077419395, 11.480572512438423, 213.66555050080257, 2.634080990482903, 2.634080990482903, 2.634080990482903, 2.634080990482903, 2.634080990482903, 2.634080990482903, 2.634080990482903, 2.634080990482903, 2.634080990482903, 2.634080990482903, 2.634080990482903, 2.634080990482903, 2.634080990482903, 2.634080990482903, 2.634080990482903, 2.634080990482903, 2.634080990482903, 2.634080990482903, 2.634080990482903, 2.634080990482903, 27.199040108136312, 17.363880242331454, 7.982101295866637, 2.634080990482903, 16.974851791769918, 165.41056869391394, 2.634080990482903, 12.164594013726974, 37.53800931929423, 11.852442891134023, 33.933359047553374, 2.634080990482903, 22.125292503405976, 11.156914233409294, 2.634080990482903, 33.976308918340415, 319.5629056391107, 117.63716696696632, 7.502639268704329, 14.583385616993596, 51.01489492642195, 41.79566376365896, 36.39549960239198, 35.6401154324126, 128.82534518449177, 12.242645694571205, 11.614527996178879, 7.720899742981399, 2.634080990482903, 2.634080990482903, 2.634080990482903, 2.634080990482903, 2.634080990482903, 2.634080990482903, 2.634080990482903, 2.634080990482903, 2.634080990482903, 2.634080990482903, 2.634080990482903, 2.634080990482903, 2.634080990482903, 2.634080990482903, 2.634080990482903, 2.634080990482903, 2.634080990482903, 2.634080990482903, 2.634080990482903, 2.634080990482903, 2.634080990482903, 2.634080990482903, 145.51449469374205, 11.852442891134023, 43.32571085521989, 9.648105268619307, 4.806099111322187, 11.156914233409294, 7.982101295866637, 14.583385616993596, 2.634080990482903, 7.502639268704329, 16.974851791769918, 117.63716696696632, 165.41056869391394, 319.5629056391107, 33.976308918340415, 2.634080990482903, 29.891674480294466, 12.164594013726974, 37.53800931929423, 17.363880242331454, 33.933359047553374, 2.634080990482903, 71.62813687046243, 66.67075343145865, 37.04463761849626, 18.198905333687616, 13.732656116316262, 120.33801233725997, 8.805758288846398, 2.634080990482903, 2.634080990482903, 2.634080990482903, 2.634080990482903, 2.634080990482903, 2.634080990482903, 2.634080990482903, 2.634080990482903, 2.634080990482903, 2.634080990482903, 2.634080990482903, 2.634080990482903, 2.634080990482903, 2.634080990482903, 2.634080990482903, 2.634080990482903, 2.634080990482903, 2.634080990482903, 2.634080990482903, 2.634080990482903, 2.634080990482903, 2.634080990482903, 2.634080990482903, 2.634080990482903, 37.53800931929423, 12.164594013726974, 10.029885916331716, 165.41056869391394, 17.363880242331454, 2.634080990482903, 7.982101295866637, 11.156914233409294, 4.806099111322187, 16.974851791769918, 2.634080990482903, 33.933359047553374, 11.852442891134023, 145.51449469374205, 2.634080990482903, 33.976308918340415, 319.5629056391107, 117.63716696696632, 7.502639268704329, 14.583385616993596, 22.125292503405976, 27.199040108136312, 87.14020723044561, 39.19972041036884, 37.71547634628801, 33.35585082221227, 29.381145403454067, 24.134290977027188, 21.943374985374014, 20.021144589271003, 16.56252854365493, 12.41342165576451, 11.37214345714107, 2.634080990482903, 2.634080990482903, 2.634080990482903, 2.634080990482903, 2.634080990482903, 2.634080990482903, 2.634080990482903, 2.634080990482903, 2.634080990482903, 2.634080990482903, 2.634080990482903, 2.634080990482903, 2.634080990482903, 2.634080990482903, 2.634080990482903, 2.634080990482903, 2.634080990482903, 2.634080990482903, 2.634080990482903, 2.634080990482903, 17.363880242331454, 11.852442891134023, 145.51449469374205, 37.53800931929423, 12.164594013726974, 2.634080990482903, 33.933359047553374, 10.029885916331716, 2.634080990482903, 16.974851791769918, 33.976308918340415, 319.5629056391107, 117.63716696696632, 7.502639268704329, 14.583385616993596, 22.125292503405976, 27.199040108136312, 20.290858991340077, 80.69214856852496, 127.40556108205489, 22.997069536482453, 17.197597069576847, 14.012047132259042, 7.933832818792051, 80.80821632687434, 2.634080990482903, 2.634080990482903, 2.634080990482903, 2.634080990482903, 2.634080990482903, 2.634080990482903, 2.634080990482903, 2.634080990482903, 2.634080990482903, 2.634080990482903, 2.634080990482903, 2.634080990482903, 2.634080990482903, 2.634080990482903, 2.634080990482903, 2.634080990482903, 2.634080990482903, 2.634080990482903, 2.634080990482903, 2.634080990482903, 2.634080990482903, 2.634080990482903, 2.634080990482903, 10.029885916331716, 17.363880242331454, 37.53800931929423, 2.634080990482903, 12.164594013726974, 165.41056869391394, 16.974851791769918, 2.634080990482903, 7.982101295866637, 33.933359047553374, 11.852442891134023, 2.634080990482903, 4.806099111322187, 145.51449469374205, 2.634080990482903, 33.976308918340415, 319.5629056391107, 117.63716696696632, 7.502639268704329, 14.583385616993596, 22.125292503405976, 27.199040108136312, 20.290858991340077, 37.94889751755732, 128.092148084654, 36.890695311667784, 26.050193168419867, 16.374260696686196, 14.981876370123407, 14.027000510834803, 11.304283542085386, 6.734870966599452, 2.634080990482903, 2.634080990482903, 2.634080990482903, 2.634080990482903, 2.634080990482903, 2.634080990482903, 2.634080990482903, 2.634080990482903, 2.634080990482903, 2.634080990482903, 2.634080990482903, 2.634080990482903, 2.634080990482903, 2.634080990482903, 2.634080990482903, 2.634080990482903, 2.634080990482903, 2.634080990482903, 2.634080990482903, 2.634080990482903, 2.634080990482903, 14.583385616993596, 12.164594013726974, 7.982101295866637, 20.290858991340077, 2.634080990482903, 16.974851791769918, 165.41056869391394, 27.199040108136312, 22.125292503405976, 2.634080990482903, 17.363880242331454, 37.53800931929423, 7.502639268704329, 33.933359047553374, 2.634080990482903, 11.156914233409294, 145.51449469374205, 2.634080990482903, 33.976308918340415, 319.5629056391107, 117.63716696696632, 57.54570670601045, 36.124974334721294, 29.09423816887778, 24.842579760915804, 15.999535145984348, 132.6442283098253, 2.634080990482903, 2.634080990482903, 2.634080990482903, 2.634080990482903, 2.634080990482903, 2.634080990482903, 2.634080990482903, 2.634080990482903, 2.634080990482903, 2.634080990482903, 2.634080990482903, 2.634080990482903, 2.634080990482903, 2.634080990482903, 2.634080990482903, 2.634080990482903, 2.634080990482903, 2.634080990482903, 2.634080990482903, 2.634080990482903, 2.634080990482903, 2.634080990482903, 2.634080990482903, 2.634080990482903, 2.634080990482903, 2.634080990482903, 37.53800931929423, 33.933359047553374, 17.363880242331454, 12.164594013726974, 11.852442891134023, 2.634080990482903, 165.41056869391394, 16.974851791769918, 2.634080990482903, 7.982101295866637, 2.634080990482903, 10.029885916331716, 145.51449469374205, 2.634080990482903, 11.156914233409294, 319.5629056391107, 117.63716696696632, 7.502639268704329, 14.583385616993596, 22.125292503405976, 27.199040108136312, 20.290858991340077, 128.28082535358027, 2.634080990482903, 122.71203463575615, 97.40619188348663, 2.634080990482903, 2.634080990482903, 2.634080990482903, 2.634080990482903, 2.634080990482903, 2.634080990482903, 2.634080990482903, 2.634080990482903, 2.634080990482903, 2.634080990482903, 2.634080990482903, 2.634080990482903, 2.634080990482903, 2.634080990482903, 2.634080990482903, 2.634080990482903, 2.634080990482903, 2.634080990482903, 2.634080990482903, 2.634080990482903, 2.634080990482903, 2.634080990482903, 2.634080990482903, 2.634080990482903, 2.634080990482903, 2.634080990482903, 2.634080990482903, 2.634080990482903, 2.634080990482903, 4.806099111322187, 11.156914233409294, 7.982101295866637, 2.634080990482903, 16.974851791769918, 165.41056869391394, 2.634080990482903, 12.164594013726974, 37.53800931929423, 17.363880242331454, 33.933359047553374, 11.852442891134023, 43.32571085521989, 145.51449469374205, 2.634080990482903, 33.976308918340415, 319.5629056391107, 117.63716696696632, 7.502639268704329, 14.583385616993596, 22.125292503405976, 27.199040108136312, 20.290858991340077, 128.28082535358027, 9.648105268619307, 10.029885916331716, 2.634080990482903, 58.8497330114604, 31.78927831258259, 28.64067093085167, 15.45651144771676, 117.6518453943234, 2.634080990482903, 2.634080990482903, 2.634080990482903, 2.634080990482903, 2.634080990482903, 2.634080990482903, 2.634080990482903, 2.634080990482903, 2.634080990482903, 2.634080990482903, 2.634080990482903, 2.634080990482903, 2.634080990482903, 2.634080990482903, 2.634080990482903, 2.634080990482903, 2.634080990482903, 2.634080990482903, 2.634080990482903, 2.634080990482903, 2.634080990482903, 2.634080990482903, 2.634080990482903, 2.634080990482903, 2.634080990482903, 145.51449469374205, 16.974851791769918, 165.41056869391394, 2.634080990482903, 12.164594013726974, 37.53800931929423, 17.363880242331454, 33.933359047553374, 2.634080990482903, 11.852442891134023, 10.029885916331716, 7.982101295866637, 2.634080990482903, 33.976308918340415, 319.5629056391107, 117.63716696696632, 7.502639268704329, 14.583385616993596, 22.125292503405976, 27.199040108136312, 20.290858991340077, 128.28082535358027, 2.634080990482903, 2.634080990482903, 11.156914233409294, 97.67271676271184, 31.5236720331961, 29.716646970067934, 27.530699174404297, 22.37755363070444, 20.636894090645125, 15.821791629905606, 2.634080990482903, 2.634080990482903, 2.634080990482903, 2.634080990482903, 2.634080990482903, 2.634080990482903, 2.634080990482903, 2.634080990482903, 2.634080990482903, 2.634080990482903, 2.634080990482903, 2.634080990482903, 2.634080990482903, 2.634080990482903, 2.634080990482903, 2.634080990482903, 2.634080990482903, 2.634080990482903, 2.634080990482903, 2.634080990482903, 2.634080990482903, 2.634080990482903, 2.634080990482903, 10.029885916331716, 37.53800931929423, 11.156914233409294, 7.982101295866637, 2.634080990482903, 16.974851791769918, 165.41056869391394, 2.634080990482903, 12.164594013726974, 33.933359047553374, 17.363880242331454, 9.648105268619307, 2.634080990482903, 11.852442891134023, 145.51449469374205, 2.634080990482903, 33.976308918340415, 319.5629056391107, 117.63716696696632, 7.502639268704329, 14.583385616993596, 22.125292503405976, 4.806099111322187, 68.4739225935674, 44.58890071776073, 35.038866488648125, 32.9521734000224, 30.858052091031084, 2.634080990482903, 2.634080990482903, 2.634080990482903, 2.634080990482903, 2.634080990482903, 2.634080990482903, 2.634080990482903, 2.634080990482903, 2.634080990482903, 2.634080990482903, 2.634080990482903, 2.634080990482903, 2.634080990482903, 2.634080990482903, 2.634080990482903, 2.634080990482903, 2.634080990482903, 2.634080990482903, 2.634080990482903, 2.634080990482903, 2.634080990482903, 2.634080990482903, 2.634080990482903, 2.634080990482903, 2.634080990482903, 2.634080990482903, 7.982101295866637, 2.634080990482903, 16.974851791769918, 165.41056869391394, 2.634080990482903, 12.164594013726974, 37.53800931929423, 17.363880242331454, 33.933359047553374, 11.852442891134023, 4.806099111322187, 145.51449469374205, 2.634080990482903, 33.976308918340415, 319.5629056391107, 117.63716696696632, 7.502639268704329, 14.583385616993596, 22.125292503405976, 27.199040108136312, 20.290858991340077, 128.28082535358027, 2.634080990482903, 11.156914233409294, 94.926457472162, 48.430356403304906, 23.15862517667822, 17.344203979743426, 16.82283068748021, 16.07926246649464, 13.700121700998217, 2.634080990482903, 2.634080990482903, 2.634080990482903, 2.634080990482903, 2.634080990482903, 2.634080990482903, 2.634080990482903, 2.634080990482903, 2.634080990482903, 2.634080990482903, 2.634080990482903, 2.634080990482903, 2.634080990482903, 2.634080990482903, 2.634080990482903, 2.634080990482903, 2.634080990482903, 2.634080990482903, 2.634080990482903, 2.634080990482903, 2.634080990482903, 2.634080990482903, 2.634080990482903, 12.164594013726974, 9.648105268619307, 4.806099111322187, 11.156914233409294, 7.982101295866637, 2.634080990482903, 16.974851791769918, 165.41056869391394, 2.634080990482903, 37.53800931929423, 29.891674480294466, 17.363880242331454, 33.933359047553374, 2.634080990482903, 11.852442891134023, 145.51449469374205, 2.634080990482903, 33.976308918340415, 319.5629056391107, 117.63716696696632, 7.502639268704329, 14.583385616993596, 43.32571085521989, 80.71837502541365, 47.9517565291682, 43.2526044260161, 38.960559316243796, 21.139296866549625, 2.634080990482903, 2.634080990482903, 2.634080990482903, 2.634080990482903, 2.634080990482903, 2.634080990482903, 2.634080990482903, 2.634080990482903, 2.634080990482903, 2.634080990482903, 2.634080990482903, 2.634080990482903, 2.634080990482903, 2.634080990482903, 2.634080990482903, 2.634080990482903, 2.634080990482903, 2.634080990482903, 2.634080990482903, 2.634080990482903, 2.634080990482903, 2.634080990482903, 2.634080990482903, 2.634080990482903, 2.634080990482903, 9.648105268619307, 4.806099111322187, 11.156914233409294, 7.982101295866637, 2.634080990482903, 16.974851791769918, 165.41056869391394, 2.634080990482903, 12.164594013726974, 37.53800931929423, 17.363880242331454, 10.029885916331716, 43.32571085521989, 2.634080990482903, 11.852442891134023, 145.51449469374205, 2.634080990482903, 33.976308918340415, 319.5629056391107, 117.63716696696632, 7.502639268704329, 14.583385616993596, 22.125292503405976, 27.199040108136312, 33.933359047553374, 51.6886270884385, 36.34937096351495, 24.326431523255604, 23.160656246595217, 18.273260236074062, 17.69005265708019, 15.67683310608628, 10.187827168195646, 2.634080990482903, 2.634080990482903, 2.634080990482903, 2.634080990482903, 2.634080990482903, 2.634080990482903, 2.634080990482903, 2.634080990482903, 2.634080990482903, 2.634080990482903, 2.634080990482903, 2.634080990482903, 2.634080990482903, 2.634080990482903, 2.634080990482903, 2.634080990482903, 2.634080990482903, 2.634080990482903, 2.634080990482903, 2.634080990482903, 2.634080990482903, 2.634080990482903, 37.53800931929423, 33.933359047553374, 17.363880242331454, 10.029885916331716, 2.634080990482903, 2.634080990482903, 165.41056869391394, 16.974851791769918, 12.164594013726974, 145.51449469374205, 11.852442891134023, 7.982101295866637, 2.634080990482903, 33.976308918340415, 319.5629056391107, 117.63716696696632, 7.502639268704329, 14.583385616993596, 22.125292503405976, 27.199040108136312, 20.290858991340077, 128.28082535358027, 57.496621765693604, 33.648867855284415, 25.950745829079317, 14.22417914986241, 9.699737463128804, 2.634080990482903, 2.634080990482903, 2.634080990482903, 2.634080990482903, 2.634080990482903, 2.634080990482903, 2.634080990482903, 2.634080990482903, 2.634080990482903, 2.634080990482903, 2.634080990482903, 2.634080990482903, 2.634080990482903, 2.634080990482903, 2.634080990482903, 2.634080990482903, 2.634080990482903, 2.634080990482903, 2.634080990482903, 2.634080990482903, 2.634080990482903, 2.634080990482903, 2.634080990482903, 2.634080990482903, 2.634080990482903, 93.98016913092174, 4.806099111322187, 7.982101295866637, 2.634080990482903, 16.974851791769918, 165.41056869391394, 2.634080990482903, 12.164594013726974, 37.53800931929423, 17.363880242331454, 33.933359047553374, 2.634080990482903, 11.852442891134023, 145.51449469374205, 2.634080990482903, 33.976308918340415, 319.5629056391107, 117.63716696696632, 7.502639268704329, 14.583385616993596, 22.125292503405976, 27.199040108136312, 20.290858991340077, 128.28082535358027, 2.634080990482903, 56.149147487866465, 91.30158436981127, 2.634080990482903, 2.634080990482903, 2.634080990482903, 2.634080990482903, 2.634080990482903, 2.634080990482903, 2.634080990482903, 2.634080990482903, 2.634080990482903, 2.634080990482903, 2.634080990482903, 2.634080990482903, 2.634080990482903, 2.634080990482903, 2.634080990482903, 2.634080990482903, 2.634080990482903, 2.634080990482903, 2.634080990482903, 2.634080990482903, 2.634080990482903, 2.634080990482903, 2.634080990482903, 2.634080990482903, 2.634080990482903, 2.634080990482903, 2.634080990482903, 2.634080990482903, 10.029885916331716, 2.634080990482903, 11.156914233409294, 7.982101295866637, 2.634080990482903, 16.974851791769918, 165.41056869391394, 2.634080990482903, 12.164594013726974, 37.53800931929423, 17.363880242331454, 33.933359047553374, 11.852442891134023, 9.648105268619307, 145.51449469374205, 2.634080990482903, 33.976308918340415, 319.5629056391107, 117.63716696696632, 7.502639268704329, 14.583385616993596, 22.125292503405976, 27.199040108136312, 20.290858991340077, 128.28082535358027, 4.806099111322187, 43.32571085521989, 2.634080990482903, 78.50412293746362, 44.63022237240717, 2.634080990482903, 2.634080990482903, 2.634080990482903, 2.634080990482903, 2.634080990482903, 2.634080990482903, 2.634080990482903, 2.634080990482903, 2.634080990482903, 2.634080990482903, 2.634080990482903, 2.634080990482903, 2.634080990482903, 2.634080990482903, 2.634080990482903, 2.634080990482903, 2.634080990482903, 2.634080990482903, 2.634080990482903, 2.634080990482903, 2.634080990482903, 2.634080990482903, 2.634080990482903, 2.634080990482903, 2.634080990482903, 2.634080990482903, 2.634080990482903, 2.634080990482903, 10.029885916331716, 11.852442891134023, 7.982101295866637, 2.634080990482903, 16.974851791769918, 165.41056869391394, 2.634080990482903, 12.164594013726974, 37.53800931929423, 17.363880242331454, 33.933359047553374, 2.634080990482903, 145.51449469374205, 4.806099111322187, 2.634080990482903, 33.976308918340415, 319.5629056391107, 117.63716696696632, 7.502639268704329, 14.583385616993596, 22.125292503405976, 27.199040108136312, 20.290858991340077, 128.28082535358027, 11.156914233409294, 9.648105268619307, 51.293671291594336, 2.634080990482903, 42.13100122518135, 31.05081610336934, 28.58208844509237, 2.634080990482903, 2.634080990482903, 2.634080990482903, 2.634080990482903, 2.634080990482903, 2.634080990482903, 2.634080990482903, 2.634080990482903, 2.634080990482903, 2.634080990482903, 2.634080990482903, 2.634080990482903, 2.634080990482903, 2.634080990482903, 2.634080990482903, 2.634080990482903, 2.634080990482903, 2.634080990482903, 2.634080990482903, 2.634080990482903, 2.634080990482903, 2.634080990482903, 2.634080990482903, 2.634080990482903, 2.634080990482903, 2.634080990482903, 2.634080990482903, 2.634080990482903, 11.156914233409294, 7.982101295866637, 2.634080990482903, 16.974851791769918, 165.41056869391394, 2.634080990482903, 12.164594013726974, 37.53800931929423, 17.363880242331454, 33.933359047553374, 11.852442891134023, 9.648105268619307, 145.51449469374205, 2.634080990482903, 33.976308918340415, 319.5629056391107, 117.63716696696632, 7.502639268704329, 14.583385616993596, 22.125292503405976, 27.199040108136312, 20.290858991340077, 128.28082535358027, 4.806099111322187, 43.32571085521989, 51.293671291594336, 62.70402980355764, 55.39984995163848, 2.634080990482903, 2.634080990482903, 2.634080990482903, 2.634080990482903, 2.634080990482903, 2.634080990482903, 2.634080990482903, 2.634080990482903, 2.634080990482903, 2.634080990482903, 2.634080990482903, 2.634080990482903, 2.634080990482903, 2.634080990482903, 2.634080990482903, 2.634080990482903, 2.634080990482903, 2.634080990482903, 2.634080990482903, 2.634080990482903, 2.634080990482903, 2.634080990482903, 2.634080990482903, 2.634080990482903, 2.634080990482903, 2.634080990482903, 2.634080990482903, 2.634080990482903, 2.634080990482903, 9.648105268619307, 4.806099111322187, 11.156914233409294, 7.982101295866637, 2.634080990482903, 16.974851791769918, 165.41056869391394, 2.634080990482903, 12.164594013726974, 37.53800931929423, 17.363880242331454, 33.933359047553374, 10.029885916331716, 29.891674480294466, 11.852442891134023, 145.51449469374205, 2.634080990482903, 33.976308918340415, 319.5629056391107, 117.63716696696632, 7.502639268704329, 14.583385616993596, 22.125292503405976, 27.199040108136312, 20.290858991340077, 43.32571085521989, 10.088176974010011, 56.642854900822655, 36.61049472702498, 2.634080990482903, 2.634080990482903, 2.634080990482903, 2.634080990482903, 2.634080990482903, 2.634080990482903, 2.634080990482903, 2.634080990482903, 2.634080990482903, 2.634080990482903, 2.634080990482903, 2.634080990482903, 2.634080990482903, 2.634080990482903, 2.634080990482903, 2.634080990482903, 2.634080990482903, 2.634080990482903, 2.634080990482903, 2.634080990482903, 2.634080990482903, 2.634080990482903, 2.634080990482903, 2.634080990482903, 2.634080990482903, 2.634080990482903, 2.634080990482903, 2.634080990482903, 10.029885916331716, 11.852442891134023, 7.982101295866637, 2.634080990482903, 16.974851791769918, 165.41056869391394, 2.634080990482903, 12.164594013726974, 37.53800931929423, 17.363880242331454, 33.933359047553374, 2.634080990482903, 145.51449469374205, 4.806099111322187, 2.634080990482903, 33.976308918340415, 319.5629056391107, 117.63716696696632, 7.502639268704329, 14.583385616993596, 22.125292503405976, 27.199040108136312, 20.290858991340077, 128.28082535358027, 2.634080990482903, 51.293671291594336, 11.156914233409294, 9.648105268619307, 54.116022635430845, 25.31822977854821, 2.634080990482903, 2.634080990482903, 2.634080990482903, 2.634080990482903, 2.634080990482903, 2.634080990482903, 2.634080990482903, 2.634080990482903, 2.634080990482903, 2.634080990482903, 2.634080990482903, 2.634080990482903, 2.634080990482903, 2.634080990482903, 2.634080990482903, 2.634080990482903, 2.634080990482903, 2.634080990482903, 2.634080990482903, 2.634080990482903, 2.634080990482903, 2.634080990482903, 2.634080990482903, 2.634080990482903, 2.634080990482903, 2.634080990482903, 2.634080990482903, 2.634080990482903, 10.029885916331716, 11.852442891134023, 7.982101295866637, 2.634080990482903, 16.974851791769918, 165.41056869391394, 2.634080990482903, 12.164594013726974, 37.53800931929423, 17.363880242331454, 33.933359047553374, 2.634080990482903, 145.51449469374205, 4.806099111322187, 2.634080990482903, 33.976308918340415, 319.5629056391107, 117.63716696696632, 7.502639268704329, 14.583385616993596, 22.125292503405976, 27.199040108136312, 20.290858991340077, 128.28082535358027, 2.634080990482903, 11.156914233409294, 9.648105268619307, 8.655341362149, 62.28246247818567, 10.625450806010752, 2.634080990482903, 2.634080990482903, 2.634080990482903, 2.634080990482903, 2.634080990482903, 2.634080990482903, 2.634080990482903, 2.634080990482903, 2.634080990482903, 2.634080990482903, 2.634080990482903, 2.634080990482903, 2.634080990482903, 2.634080990482903, 2.634080990482903, 2.634080990482903, 2.634080990482903, 2.634080990482903, 2.634080990482903, 2.634080990482903, 2.634080990482903, 2.634080990482903, 2.634080990482903, 2.634080990482903, 2.634080990482903, 2.634080990482903, 2.634080990482903, 2.634080990482903, 9.648105268619307, 11.156914233409294, 7.982101295866637, 2.634080990482903, 16.974851791769918, 165.41056869391394, 2.634080990482903, 12.164594013726974, 37.53800931929423, 17.363880242331454, 33.933359047553374, 2.634080990482903, 11.852442891134023, 145.51449469374205, 2.634080990482903, 33.976308918340415, 319.5629056391107, 117.63716696696632, 7.502639268704329, 14.583385616993596, 22.125292503405976, 27.199040108136312, 20.290858991340077, 128.28082535358027, 2.634080990482903, 4.806099111322187, 10.029885916331716, 8.655341362149, 2.634080990482903, 2.634080990482903, 2.634080990482903, 2.634080990482903, 2.634080990482903, 2.634080990482903, 2.634080990482903, 2.634080990482903, 2.634080990482903, 2.634080990482903, 2.634080990482903, 2.634080990482903, 2.634080990482903, 2.634080990482903, 2.634080990482903, 2.634080990482903, 2.634080990482903, 2.634080990482903, 2.634080990482903, 2.634080990482903, 2.634080990482903, 2.634080990482903, 2.634080990482903, 2.634080990482903, 2.634080990482903, 2.634080990482903, 2.634080990482903, 2.634080990482903, 2.634080990482903, 2.634080990482903, 10.029885916331716, 11.852442891134023, 11.156914233409294, 7.982101295866637, 2.634080990482903, 16.974851791769918, 165.41056869391394, 2.634080990482903, 12.164594013726974, 37.53800931929423, 17.363880242331454, 33.933359047553374, 2.634080990482903, 145.51449469374205, 8.655341362149, 2.634080990482903, 33.976308918340415, 319.5629056391107, 117.63716696696632, 7.502639268704329, 14.583385616993596, 22.125292503405976, 27.199040108136312, 20.290858991340077, 128.28082535358027, 2.634080990482903, 4.806099111322187, 9.648105268619307, 43.32571085521989, 29.891674480294466, 2.634080990482903, 2.634080990482903, 2.634080990482903, 2.634080990482903, 2.634080990482903, 2.634080990482903, 2.634080990482903, 2.634080990482903, 2.634080990482903, 2.634080990482903, 2.634080990482903, 2.634080990482903, 2.634080990482903, 2.634080990482903, 2.634080990482903, 2.634080990482903, 2.634080990482903, 2.634080990482903, 2.634080990482903, 2.634080990482903, 2.634080990482903, 2.634080990482903, 2.634080990482903, 2.634080990482903, 2.634080990482903, 2.634080990482903, 2.634080990482903, 2.634080990482903, 2.634080990482903, 2.634080990482903, 10.029885916331716, 11.852442891134023, 11.156914233409294, 7.982101295866637, 2.634080990482903, 16.974851791769918, 165.41056869391394, 2.634080990482903, 12.164594013726974, 37.53800931929423, 17.363880242331454, 33.933359047553374, 2.634080990482903, 145.51449469374205, 8.655341362149, 2.634080990482903, 33.976308918340415, 319.5629056391107, 117.63716696696632, 7.502639268704329, 14.583385616993596, 22.125292503405976, 27.199040108136312, 20.290858991340077, 128.28082535358027, 2.634080990482903, 4.806099111322187, 9.648105268619307, 43.32571085521989, 29.891674480294466, 2.634080990482903, 2.634080990482903, 2.634080990482903, 2.634080990482903, 2.634080990482903, 2.634080990482903, 2.634080990482903, 2.634080990482903, 2.634080990482903, 2.634080990482903, 2.634080990482903, 2.634080990482903, 2.634080990482903, 2.634080990482903, 2.634080990482903, 2.634080990482903, 2.634080990482903, 2.634080990482903, 2.634080990482903, 2.634080990482903, 2.634080990482903, 2.634080990482903, 2.634080990482903, 2.634080990482903, 2.634080990482903, 2.634080990482903, 2.634080990482903, 2.634080990482903, 2.634080990482903, 2.634080990482903, 10.029885916331716, 11.852442891134023, 11.156914233409294, 7.982101295866637, 2.634080990482903, 16.974851791769918, 165.41056869391394, 2.634080990482903, 12.164594013726974, 37.53800931929423, 17.363880242331454, 33.933359047553374, 2.634080990482903, 145.51449469374205, 8.655341362149, 2.634080990482903, 33.976308918340415, 319.5629056391107, 117.63716696696632, 7.502639268704329, 14.583385616993596, 22.125292503405976, 27.199040108136312, 20.290858991340077, 128.28082535358027, 2.634080990482903, 4.806099111322187, 9.648105268619307, 43.32571085521989, 29.891674480294466, 2.634080990482903, 2.634080990482903, 2.634080990482903, 2.634080990482903, 2.634080990482903, 2.634080990482903, 2.634080990482903, 2.634080990482903, 2.634080990482903, 2.634080990482903, 2.634080990482903, 2.634080990482903, 2.634080990482903, 2.634080990482903, 2.634080990482903, 2.634080990482903, 2.634080990482903, 2.634080990482903, 2.634080990482903, 2.634080990482903, 2.634080990482903, 2.634080990482903, 2.634080990482903, 2.634080990482903, 2.634080990482903, 2.634080990482903, 2.634080990482903, 2.634080990482903, 2.634080990482903, 2.634080990482903, 10.029885916331716, 11.852442891134023, 11.156914233409294, 7.982101295866637, 2.634080990482903, 16.974851791769918, 165.41056869391394, 2.634080990482903, 12.164594013726974, 37.53800931929423, 17.363880242331454, 33.933359047553374, 2.634080990482903, 145.51449469374205, 8.655341362149, 2.634080990482903, 33.976308918340415, 319.5629056391107, 117.63716696696632, 7.502639268704329, 14.583385616993596, 22.125292503405976, 27.199040108136312, 20.290858991340077, 128.28082535358027, 2.634080990482903, 4.806099111322187, 9.648105268619307, 43.32571085521989, 29.891674480294466, 2.634080990482903, 2.634080990482903, 2.634080990482903, 2.634080990482903, 2.634080990482903, 2.634080990482903, 2.634080990482903, 2.634080990482903, 2.634080990482903, 2.634080990482903, 2.634080990482903, 2.634080990482903, 2.634080990482903, 2.634080990482903, 2.634080990482903, 2.634080990482903, 2.634080990482903, 2.634080990482903, 2.634080990482903, 2.634080990482903, 2.634080990482903, 2.634080990482903, 2.634080990482903, 2.634080990482903, 2.634080990482903, 2.634080990482903, 2.634080990482903, 2.634080990482903, 2.634080990482903, 2.634080990482903, 10.029885916331716, 11.852442891134023, 11.156914233409294, 7.982101295866637, 2.634080990482903, 16.974851791769918, 165.41056869391394, 2.634080990482903, 12.164594013726974, 37.53800931929423, 17.363880242331454, 33.933359047553374, 2.634080990482903, 145.51449469374205, 8.655341362149, 2.634080990482903, 33.976308918340415, 319.5629056391107, 117.63716696696632, 7.502639268704329, 14.583385616993596, 22.125292503405976, 27.199040108136312, 20.290858991340077, 128.28082535358027, 2.634080990482903, 4.806099111322187, 9.648105268619307, 43.32571085521989, 29.891674480294466, 2.634080990482903, 2.634080990482903, 2.634080990482903, 2.634080990482903, 2.634080990482903, 2.634080990482903, 2.634080990482903, 2.634080990482903, 2.634080990482903, 2.634080990482903, 2.634080990482903, 2.634080990482903, 2.634080990482903, 2.634080990482903, 2.634080990482903, 2.634080990482903, 2.634080990482903, 2.634080990482903, 2.634080990482903, 2.634080990482903, 2.634080990482903, 2.634080990482903, 2.634080990482903, 2.634080990482903, 2.634080990482903, 2.634080990482903, 2.634080990482903, 2.634080990482903, 2.634080990482903, 2.634080990482903, 10.029885916331716, 11.852442891134023, 11.156914233409294, 7.982101295866637, 2.634080990482903, 16.974851791769918, 165.41056869391394, 2.634080990482903, 12.164594013726974, 37.53800931929423, 17.363880242331454, 33.933359047553374, 2.634080990482903, 145.51449469374205, 8.655341362149, 2.634080990482903, 33.976308918340415, 319.5629056391107, 117.63716696696632, 7.502639268704329, 14.583385616993596, 22.125292503405976, 27.199040108136312, 20.290858991340077, 128.28082535358027, 2.634080990482903, 4.806099111322187, 9.648105268619307, 43.32571085521989, 29.891674480294466, 2.634080990482903, 2.634080990482903, 2.634080990482903, 2.634080990482903, 2.634080990482903, 2.634080990482903, 2.634080990482903, 2.634080990482903, 2.634080990482903, 2.634080990482903, 2.634080990482903, 2.634080990482903, 2.634080990482903, 2.634080990482903, 2.634080990482903, 2.634080990482903, 2.634080990482903, 2.634080990482903, 2.634080990482903, 2.634080990482903, 2.634080990482903, 2.634080990482903, 2.634080990482903, 2.634080990482903, 2.634080990482903, 2.634080990482903, 2.634080990482903, 2.634080990482903, 2.634080990482903, 2.634080990482903, 10.029885916331716, 11.852442891134023, 11.156914233409294, 7.982101295866637, 2.634080990482903, 16.974851791769918, 165.41056869391394, 2.634080990482903, 12.164594013726974, 37.53800931929423, 17.363880242331454, 33.933359047553374, 2.634080990482903, 145.51449469374205, 8.655341362149, 2.634080990482903, 33.976308918340415, 319.5629056391107, 117.63716696696632, 7.502639268704329, 14.583385616993596, 22.125292503405976, 27.199040108136312, 20.290858991340077, 128.28082535358027, 2.634080990482903, 4.806099111322187, 9.648105268619307, 43.32571085521989, 29.891674480294466, 2.634080990482903, 2.634080990482903, 2.634080990482903, 2.634080990482903, 2.634080990482903, 2.634080990482903, 2.634080990482903, 2.634080990482903, 2.634080990482903, 2.634080990482903, 2.634080990482903, 2.634080990482903, 2.634080990482903, 2.634080990482903, 2.634080990482903, 2.634080990482903, 2.634080990482903, 2.634080990482903, 2.634080990482903, 2.634080990482903, 2.634080990482903, 2.634080990482903, 2.634080990482903, 2.634080990482903, 2.634080990482903, 2.634080990482903, 2.634080990482903, 2.634080990482903, 2.634080990482903, 2.634080990482903, 10.029885916331716, 11.852442891134023, 11.156914233409294, 7.982101295866637, 2.634080990482903, 16.974851791769918, 165.41056869391394, 2.634080990482903, 12.164594013726974, 37.53800931929423, 17.363880242331454, 33.933359047553374, 2.634080990482903, 145.51449469374205, 8.655341362149, 2.634080990482903, 33.976308918340415, 319.5629056391107, 117.63716696696632, 7.502639268704329, 14.583385616993596, 22.125292503405976, 27.199040108136312, 20.290858991340077, 128.28082535358027, 2.634080990482903, 4.806099111322187, 9.648105268619307, 43.32571085521989, 29.891674480294466, 2.634080990482903, 2.634080990482903, 2.634080990482903, 2.634080990482903, 2.634080990482903, 2.634080990482903, 2.634080990482903, 2.634080990482903, 2.634080990482903, 2.634080990482903, 2.634080990482903, 2.634080990482903, 2.634080990482903, 2.634080990482903, 2.634080990482903, 2.634080990482903, 2.634080990482903, 2.634080990482903, 2.634080990482903, 2.634080990482903, 2.634080990482903, 2.634080990482903, 2.634080990482903, 2.634080990482903, 2.634080990482903, 2.634080990482903, 2.634080990482903, 2.634080990482903, 2.634080990482903, 2.634080990482903, 10.029885916331716, 11.852442891134023, 11.156914233409294, 7.982101295866637, 2.634080990482903, 16.974851791769918, 165.41056869391394, 2.634080990482903, 12.164594013726974, 37.53800931929423, 17.363880242331454, 33.933359047553374, 2.634080990482903, 145.51449469374205, 8.655341362149, 2.634080990482903, 33.976308918340415, 319.5629056391107, 117.63716696696632, 7.502639268704329, 14.583385616993596, 22.125292503405976, 27.199040108136312, 20.290858991340077, 128.28082535358027, 2.634080990482903, 4.806099111322187, 9.648105268619307, 43.32571085521989, 29.891674480294466, 2.634080990482903, 2.634080990482903, 2.634080990482903, 2.634080990482903, 2.634080990482903, 2.634080990482903, 2.634080990482903, 2.634080990482903, 2.634080990482903, 2.634080990482903, 2.634080990482903, 2.634080990482903, 2.634080990482903, 2.634080990482903, 2.634080990482903, 2.634080990482903, 2.634080990482903, 2.634080990482903, 2.634080990482903, 2.634080990482903, 2.634080990482903, 2.634080990482903, 2.634080990482903, 2.634080990482903, 2.634080990482903, 2.634080990482903, 2.634080990482903, 2.634080990482903, 2.634080990482903, 2.634080990482903, 10.029885916331716, 11.852442891134023, 11.156914233409294, 7.982101295866637, 2.634080990482903, 16.974851791769918, 165.41056869391394, 2.634080990482903, 12.164594013726974, 37.53800931929423, 17.363880242331454, 33.933359047553374, 2.634080990482903, 145.51449469374205, 8.655341362149, 2.634080990482903, 33.976308918340415, 319.5629056391107, 117.63716696696632, 7.502639268704329, 14.583385616993596, 22.125292503405976, 27.199040108136312, 20.290858991340077, 128.28082535358027, 2.634080990482903, 4.806099111322187, 9.648105268619307, 43.32571085521989, 29.891674480294466, 2.634080990482903, 2.634080990482903, 2.634080990482903, 2.634080990482903, 2.634080990482903, 2.634080990482903, 2.634080990482903, 2.634080990482903, 2.634080990482903, 2.634080990482903, 2.634080990482903, 2.634080990482903, 2.634080990482903, 2.634080990482903, 2.634080990482903, 2.634080990482903, 2.634080990482903, 2.634080990482903, 2.634080990482903, 2.634080990482903, 2.634080990482903, 2.634080990482903, 2.634080990482903, 2.634080990482903, 2.634080990482903, 2.634080990482903, 2.634080990482903, 2.634080990482903, 2.634080990482903, 2.634080990482903, 10.029885916331716, 11.852442891134023, 11.156914233409294, 7.982101295866637, 2.634080990482903, 16.974851791769918, 165.41056869391394, 2.634080990482903, 12.164594013726974, 37.53800931929423, 17.363880242331454, 33.933359047553374, 2.634080990482903, 145.51449469374205, 8.655341362149, 2.634080990482903, 33.976308918340415, 319.5629056391107, 117.63716696696632, 7.502639268704329, 14.583385616993596, 22.125292503405976, 27.199040108136312, 20.290858991340077, 128.28082535358027, 2.634080990482903, 4.806099111322187, 9.648105268619307, 43.32571085521989, 29.891674480294466], \"loglift\": [30.0, 29.0, 28.0, 27.0, 26.0, 25.0, 24.0, 23.0, 22.0, 21.0, 20.0, 19.0, 18.0, 17.0, 16.0, 15.0, 14.0, 13.0, 12.0, 11.0, 10.0, 9.0, 8.0, 7.0, 6.0, 5.0, 4.0, 3.0, 2.0, 1.0, 0.6872, 0.6867, 0.6866, 0.6847, 0.6842, 0.6827, 0.6797, 0.6796, 0.678, 0.6768, 0.6768, 0.6766, 0.6759, 0.6754, 0.6754, 0.6753, 0.6749, 0.6746, 0.6746, 0.6746, 0.6743, 0.6741, 0.6739, 0.6737, 0.6732, 0.6729, 0.6729, 0.6728, 0.6718, 0.6711, 0.6683, 0.6639, 0.6515, 0.6524, 0.6443, 0.6593, 0.647, 0.6488, 0.6416, 0.634, 0.6111, 0.6193, 0.6326, 0.6069, 0.6332, 0.627, 0.6265, 0.5714, 0.6406, 0.6051, 0.5767, 0.6098, 0.6186, 0.6046, 0.5711, 0.6235, 0.4759, 0.57, 0.4159, 0.4808, 0.4771, 0.4779, 0.5364, 0.466, 0.4894, 0.3718, 0.4035, 0.0571, 2.1292, 2.1258, 2.1226, 2.1218, 2.1152, 2.1139, 2.1082, 2.1079, 2.1075, 2.1054, 2.1042, 2.1036, 2.1035, 2.1, 2.0984, 2.0982, 2.0962, 2.0944, 2.0943, 2.0881, 2.0868, 2.0817, 2.0814, 2.0808, 2.08, 2.0782, 2.0781, 2.0767, 2.0757, 2.0749, 2.0742, 2.0216, 2.0358, 2.0101, 1.9512, 2.0186, 1.8697, 1.9597, 1.8958, 1.9919, 1.8323, 2.0076, 1.7147, 1.8512, 1.4477, 1.5908, 1.6907, 1.4392, 1.1632, 1.2006, 1.5193, 1.3256, 1.3483, 1.1113, 1.5356, 1.4816, 1.4188, 1.1158, 1.541, 0.4949, 0.2582, 3.3268, 3.322, 3.3166, 3.3106, 3.3102, 3.3095, 3.3069, 3.3056, 3.3012, 3.2948, 3.2924, 3.2909, 3.2904, 3.2894, 3.2878, 3.2869, 3.2843, 3.2841, 3.2829, 3.2819, 3.2797, 3.2768, 3.2758, 3.2741, 3.2712, 3.2707, 3.2701, 3.2686, 3.2663, 3.2636, 2.9851, 3.2151, 3.155, 3.1277, 2.9036, 3.1316, 2.6093, 3.1968, 2.997, 2.1156, 3.0794, 2.1692, 3.0183, 1.7547, 2.3196, 2.391, 2.2424, 1.4156, 2.6639, 1.8891, 2.1539, 3.3601, 3.3459, 3.3441, 3.333, 3.3315, 3.3299, 3.3296, 3.329, 3.3262, 3.3247, 3.3219, 3.3216, 3.3178, 3.3167, 3.3159, 3.3156, 3.3137, 3.3119, 3.3059, 3.3042, 3.3015, 3.2988, 3.2908, 3.2899, 3.2869, 3.2865, 3.285, 3.2835, 3.2819, 3.2789, 2.9943, 2.8475, 3.0218, 2.989, 2.7316, 2.503, 3.0271, 2.7916, 1.3429, 2.0755, 2.1893, 1.6606, 1.7191, 0.5579, 2.4088, 3.8708, 3.8703, 3.8574, 3.8292, 3.8267, 3.8238, 3.822, 3.8198, 3.8188, 3.8153, 3.8153, 3.8131, 3.8052, 3.7974, 3.7904, 3.7903, 3.7889, 3.7889, 3.7824, 3.7817, 3.7807, 3.7799, 3.7787, 3.7749, 3.7606, 3.7602, 3.7601, 3.7593, 3.7593, 3.7552, 3.7305, 3.738, 3.7171, 3.7246, 3.7129, 3.5148, 3.4919, 3.6639, 3.5846, 3.6536, 3.3425, 3.6002, 3.1425, 3.2001, 3.5777, 3.1502, 2.7597, 2.753, 2.5859, 2.1769, 2.773, 2.2254, 2.4919, 2.0996, 2.0198, 1.4391, 4.0692, 4.0522, 4.0447, 4.0186, 4.0084, 4.0067, 4.0011, 3.9963, 3.9889, 3.9865, 3.9848, 3.9775, 3.9622, 3.9616, 3.9612, 3.9572, 3.9555, 3.9509, 3.9487, 3.9419, 3.92, 3.9191, 3.9176, 3.9126, 3.9106, 3.9081, 3.904, 3.8949, 3.8948, 3.8918, 3.891, 3.7961, 3.6631, 3.7686, 3.5641, 3.4262, 3.6837, 3.7333, 3.2903, 3.5706, 3.6673, 3.27, 3.2545, 3.5071, 3.4089, 3.0643, 3.5972, 2.9542, 2.4484, 3.0307, 2.0285, 2.2769, 2.7726, 2.3384, 1.379, 2.4228, 1.2921, 2.2983, 1.5121, 4.2144, 4.1956, 4.1898, 4.185, 4.1832, 4.1822, 4.1656, 4.1499, 4.1454, 4.1415, 4.1265, 4.1209, 4.1195, 4.116, 4.1138, 4.1038, 4.1011, 4.0984, 4.0926, 4.0838, 4.0803, 4.0706, 4.0688, 4.0622, 4.0579, 4.0571, 4.0489, 4.0233, 4.023, 4.0193, 4.0158, 3.9815, 3.9803, 3.9201, 3.8714, 3.8083, 3.645, 3.113, 3.0932, 2.9897, 2.5669, 3.3626, 2.2809, 1.9102, 2.0267, 2.3526, 2.2116, 2.1948, 1.4565, 2.4946, 1.8492, 2.0372, 4.2661, 4.2439, 4.2424, 4.2221, 4.2205, 4.2019, 4.1884, 4.1865, 4.1845, 4.1801, 4.1782, 4.1773, 4.1768, 4.1749, 4.173, 4.1695, 4.1658, 4.1579, 4.142, 4.1388, 4.1361, 4.1305, 4.1248, 4.1203, 4.1187, 4.1165, 4.1133, 4.1117, 4.1112, 4.1095, 4.0678, 3.9682, 3.8821, 3.8473, 3.8631, 3.9589, 3.697, 3.9434, 2.8588, 3.4024, 3.5088, 3.0725, 3.4097, 2.6377, 2.3089, 1.8554, 2.9037, 1.4413, 4.3986, 4.3923, 4.3833, 4.367, 4.3643, 4.3327, 4.3253, 4.3199, 4.3132, 4.3122, 4.3068, 4.301, 4.2907, 4.2897, 4.2819, 4.2795, 4.2762, 4.275, 4.2729, 4.2668, 4.2667, 4.2658, 4.262, 4.2602, 4.2582, 4.2572, 4.242, 4.2396, 4.233, 4.2224, 4.221, 4.2037, 4.1471, 4.0611, 3.9019, 3.8261, 3.9168, 3.9859, 4.0386, 3.9999, 3.7335, 3.8448, 3.8345, 3.2639, 3.3837, 2.7657, 3.8399, 2.9655, 2.7239, 3.1112, 3.4592, 2.384, 2.5779, 2.0027, 4.6773, 4.6568, 4.6512, 4.633, 4.6088, 4.6041, 4.6037, 4.5997, 4.5784, 4.5561, 4.5535, 4.5418, 4.5409, 4.5406, 4.5406, 4.5348, 4.5309, 4.5161, 4.5148, 4.5111, 4.5037, 4.5005, 4.4985, 4.4948, 4.4814, 4.4745, 4.4717, 4.4414, 4.4388, 4.4339, 4.2838, 4.246, 3.8944, 2.9463, 2.949, 3.0559, 2.2432, 1.6073, 2.6133, 1.3749, 2.0835, 4.6698, 4.6495, 4.6375, 4.6256, 4.6116, 4.6061, 4.5943, 4.5895, 4.5873, 4.5856, 4.5822, 4.574, 4.5693, 4.569, 4.5671, 4.559, 4.5499, 4.5462, 4.5276, 4.5175, 4.5095, 4.5001, 4.4945, 4.4941, 4.4916, 4.4741, 4.4615, 4.453, 4.4397, 4.4296, 4.4041, 4.4023, 4.317, 4.3163, 4.1306, 4.0183, 3.7706, 3.4006, 3.2336, 4.1133, 2.8979, 3.2081, 3.8064, 2.8775, 2.3266, 1.6007, 2.533, 3.697, 4.7172, 4.7119, 4.7088, 4.7054, 4.6976, 4.6854, 4.6842, 4.6791, 4.6734, 4.6679, 4.667, 4.665, 4.6629, 4.6438, 4.6418, 4.6343, 4.6247, 4.6225, 4.6225, 4.621, 4.6193, 4.6177, 4.6125, 4.6072, 4.606, 4.604, 4.6019, 4.5886, 4.5839, 4.5833, 4.5828, 4.5642, 4.4993, 4.5241, 3.9642, 3.8429, 4.0093, 2.8252, 4.8428, 4.8424, 4.8402, 4.8371, 4.8192, 4.8154, 4.8143, 4.8021, 4.7965, 4.7854, 4.7777, 4.7749, 4.7739, 4.771, 4.756, 4.7559, 4.7182, 4.7155, 4.7145, 4.712, 4.6861, 4.6782, 4.6631, 4.6592, 4.655, 4.646, 4.6395, 4.6384, 4.6334, 4.6276, 4.2752, 3.8597, 4.2839, 3.8533, 2.9815, 2.9696, 4.0805, 2.5752, 3.0363, 2.8809, 1.5356, 2.9403, 1.8576, 2.4224, 1.9136, 1.4425, 2.3828, 4.9118, 4.9009, 4.8887, 4.8825, 4.8425, 4.8183, 4.8107, 4.7918, 4.7793, 4.7487, 4.7483, 4.7401, 4.7363, 4.7345, 4.7224, 4.715, 4.7128, 4.7105, 4.6773, 4.6768, 4.6618, 4.6447, 4.6148, 4.6, 4.5453, 4.5414, 4.5331, 4.5304, 4.5147, 4.5092, 4.5031, 4.4144, 4.3378, 4.3255, 4.2292, 4.0025, 3.9204, 3.7089, 3.9744, 3.8611, 2.6805, 2.6139, 2.6995, 3.4543, 2.2414, 5.0543, 5.0187, 5.0122, 5.0062, 5.003, 4.9992, 4.978, 4.9776, 4.9772, 4.9737, 4.9725, 4.9694, 4.9673, 4.9646, 4.9597, 4.9467, 4.9437, 4.9432, 4.9371, 4.9365, 4.9342, 4.9341, 4.9328, 4.9282, 4.927, 4.903, 4.8903, 4.8894, 4.884, 4.8822, 4.8463, 4.8177, 4.8241, 4.6546, 4.7026, 4.1339, 4.1544, 4.5244, 5.0826, 5.068, 5.0587, 5.0447, 5.0299, 5.0249, 5.0156, 5.0152, 5.0145, 5.013, 5.0008, 4.9825, 4.9757, 4.9729, 4.972, 4.9688, 4.9681, 4.9677, 4.9601, 4.959, 4.9474, 4.9457, 4.9392, 4.9367, 4.9357, 4.9257, 4.92, 4.9171, 4.9138, 4.9106, 4.9085, 4.8867, 4.8476, 4.8365, 4.7316, 3.7424, 5.0597, 5.055, 5.0446, 5.0302, 5.0199, 5.0152, 5.0071, 4.9944, 4.9718, 4.965, 4.9637, 4.9614, 4.9561, 4.9513, 4.9368, 4.9341, 4.9333, 4.921, 4.9076, 4.8916, 4.8847, 4.8807, 4.88, 4.8706, 4.8697, 4.8683, 4.8621, 4.8541, 4.8535, 4.8507, 4.6881, 4.6757, 4.582, 4.5214, 3.5674, 3.2527, 3.4447, 2.9431, 4.1275, 3.9247, 2.8385, 1.824, 5.1303, 5.1216, 5.1097, 5.1077, 5.0944, 5.0854, 5.0852, 5.0848, 5.0687, 5.0598, 5.0562, 5.0562, 5.056, 5.044, 5.0408, 5.0301, 5.0222, 5.0213, 5.0212, 5.0141, 5.0057, 4.9958, 4.9885, 4.9875, 4.9873, 4.9799, 4.9769, 4.96, 4.958, 4.9561, 4.8378, 4.153, 3.0625, 5.1631, 5.1426, 5.129, 5.1175, 5.1108, 5.0977, 5.0959, 5.0936, 5.0887, 5.0864, 5.0682, 5.0619, 5.0617, 5.0591, 5.0459, 5.0411, 5.0302, 5.0186, 5.0177, 4.9974, 4.9925, 4.9911, 4.9851, 4.9777, 4.9753, 4.9705, 4.9537, 4.9531, 4.9506, 4.9501, 4.8767, 4.7336, 4.8847, 4.4535, 3.9313, 2.8088, 3.9901, 5.2707, 5.2521, 5.1958, 5.1504, 5.1411, 5.1325, 5.128, 5.1246, 5.1214, 5.095, 5.0893, 5.0889, 5.0887, 5.0325, 5.0216, 5.0122, 5.0086, 5.0045, 4.9864, 4.9248, 4.913, 4.8774, 4.8717, 4.8562, 4.7848, 4.7812, 4.7805, 4.7704, 4.7338, 4.7158, 4.5241, 3.8097, 3.5529, 4.4635, 3.7784, 3.7758, 3.999, 2.2564, 2.8818, 5.2497, 5.2429, 5.2339, 5.2274, 5.2205, 5.2117, 5.2105, 5.2044, 5.1998, 5.1949, 5.1528, 5.148, 5.1466, 5.1415, 5.1379, 5.1379, 5.0626, 5.0624, 5.0364, 5.0271, 5.0076, 5.0017, 4.9621, 4.9306, 4.9235, 4.9182, 4.9065, 4.8036, 4.7704, 4.5412, 5.3564, 5.3099, 5.3044, 5.2837, 5.2784, 5.2779, 5.2629, 5.2514, 5.2458, 5.2441, 5.2353, 5.2339, 5.2288, 5.2257, 5.2194, 5.1934, 5.1897, 5.1684, 5.164, 5.1547, 5.1522, 5.1362, 5.1148, 5.1037, 5.0929, 5.0802, 5.0734, 5.0581, 4.9965, 4.9962, 4.878, 4.4274, 3.433, 5.422, 5.406, 5.3879, 5.3722, 5.3709, 5.3579, 5.3549, 5.3412, 5.3334, 5.3285, 5.3252, 5.3178, 5.3114, 5.3085, 5.3069, 5.3004, 5.2785, 5.2611, 5.2596, 5.2488, 5.2457, 5.2449, 5.2309, 5.2288, 5.2231, 5.2199, 5.2181, 5.2158, 5.1954, 5.1844, 4.6496, 5.4388, 5.4117, 5.4073, 5.3719, 5.3343, 5.2633, 5.261, 5.2596, 5.2558, 5.253, 5.2453, 5.2294, 5.2277, 5.21, 5.1801, 5.179, 5.0886, 5.0606, 5.0565, 5.033, 4.9805, 4.9573, 4.8988, 4.7423, 4.4887, 3.7483, 3.3966, 3.3038, 0.6301, 0.6301, 0.6301, 0.6301, 0.6301, 0.6301, -0.4786, 5.427, 5.4227, 5.4197, 5.3946, 5.3779, 5.3737, 5.3575, 5.3461, 5.3328, 5.2918, 5.2855, 5.2847, 5.2699, 5.2514, 5.2359, 5.2358, 5.2094, 5.1737, 5.1533, 5.1018, 5.0737, 5.0612, 5.049, 5.0381, 5.0336, 5.0024, 4.6809, 0.6756, 0.6756, 0.6756, 0.6756, 0.6756, 0.6756, 0.6756, -3.1235, -1.1876, -3.4643, 5.4632, 5.4542, 5.4367, 5.4257, 5.4129, 5.3886, 5.3837, 5.3804, 5.3786, 5.3468, 5.3362, 5.3319, 5.3072, 5.3048, 5.291, 5.2887, 5.2768, 5.2697, 5.2488, 5.2353, 5.2212, 5.2104, 5.1693, 5.1566, 5.1333, 5.1066, 4.881, 4.8511, 0.6891, 0.6891, 0.6891, 0.6891, 0.6891, 0.6891, 0.6891, -1.1968, 0.6891, 5.4439, 5.4076, 5.4009, 5.3964, 5.3918, 5.3878, 5.3852, 5.3823, 5.3754, 5.3705, 5.3646, 5.3388, 5.329, 5.3218, 5.3084, 5.3072, 5.2884, 5.2665, 5.2534, 5.2293, 5.163, 5.1379, 4.5298, 0.764, 0.764, 0.764, 0.764, 0.764, 0.764, 0.764, 0.764, 0.764, 0.764, 0.764, 0.764, 0.764, -3.0351, 0.764, -1.0992, -3.3759, -0.766, 0.764, -4.0344, 5.4717, 5.4717, 5.4699, 5.4485, 5.4096, 5.3936, 5.388, 5.3786, 5.3643, 5.3482, 5.3442, 5.3372, 5.3205, 5.3178, 5.2642, 5.2409, 5.2305, 5.194, 5.179, 5.1727, 5.1294, 5.0936, 5.0866, 5.0722, 0.7642, 0.7642, 0.7642, 0.7642, 0.7642, 0.7642, 0.7642, 0.7642, 0.7642, 0.7642, 0.7642, 0.7642, -0.7398, 0.7642, 0.1629, -0.6793, -0.3444, -1.7929, 5.4972, 5.4807, 5.4647, 5.4589, 5.4463, 5.4439, 5.4425, 5.4001, 5.3979, 5.3929, 5.3839, 5.3609, 5.3346, 5.3308, 5.3225, 5.3209, 5.3195, 5.3174, 5.3174, 5.3055, 5.2928, 5.2905, 5.2901, 5.2752, 5.267, 5.2661, 5.2613, 5.2602, 5.2552, 5.2472, 4.7094, 4.2766, 5.5071, 5.4893, 5.4856, 5.4799, 5.4779, 5.4662, 5.4502, 5.4345, 5.4237, 5.422, 5.4207, 5.3898, 5.3867, 5.3694, 5.3626, 5.3545, 5.3244, 5.3176, 5.3176, 5.2514, 5.2393, 5.203, 5.1849, 5.1845, 4.9204, 4.6667, 4.4175, 0.8463, 0.8463, 0.8463, -2.4503, -3.2936, -1.0169, 5.5106, 5.5089, 5.4935, 5.488, 5.4814, 5.4778, 5.4772, 5.4717, 5.4699, 5.4692, 5.4603, 5.4485, 5.4448, 5.4312, 5.4304, 5.4234, 5.4222, 5.4179, 5.4147, 5.4121, 5.4048, 5.403, 5.4002, 5.3958, 5.3705, 5.3695, 5.3658, 5.362, 5.3437, 5.3072, 5.5189, 5.5038, 5.5012, 5.4901, 5.4797, 5.4745, 5.4717, 5.4704, 5.4594, 5.4581, 5.4352, 5.4231, 5.4154, 5.4107, 5.393, 5.3838, 5.3704, 5.3609, 5.3531, 5.3503, 5.3436, 5.3426, 5.3316, 5.3303, 5.33, 5.2442, 5.2321, 5.2112, 5.2074, 5.1889, 4.7891, 5.6014, 5.5914, 5.5771, 5.5214, 5.512, 5.5113, 5.4941, 5.4672, 5.4598, 5.454, 5.4453, 5.4435, 5.3699, 4.9932, 1.055, 1.055, 1.055, 1.055, 1.055, 1.055, 1.055, 1.055, 1.055, 1.055, 1.055, 1.055, 1.055, 1.055, 1.055, 1.055, 1.055, 1.055, -3.7434, -0.475, -1.6018, -0.8309, -1.5009, 1.055, -0.449, -2.9567, 1.055, -1.5021, -0.2975, -2.2415, -3.0849, -2.7441, 0.0083, -0.6563, 5.5726, 5.5587, 5.5513, 5.5456, 5.5408, 5.5333, 5.5234, 5.5202, 5.5098, 5.5078, 5.5037, 5.5036, 5.5016, 5.4986, 5.4978, 5.4903, 5.4893, 5.4734, 5.4682, 5.4556, 5.4512, 5.4435, 5.4392, 5.4236, 5.4145, 5.3834, 5.3535, 5.3474, 5.3466, 5.3091, 5.5786, 5.5638, 5.5493, 5.5449, 5.5361, 5.5334, 5.5301, 5.523, 5.5068, 5.5009, 5.4939, 5.4894, 5.4867, 5.476, 5.4561, 5.4215, 5.3565, 5.3358, 5.3171, 5.2638, 5.2168, 0.9654, 0.9654, 0.9654, 0.9654, 0.9654, 0.9654, 0.9654, 0.9654, 0.9654, 0.9654, 0.9654, 0.9654, 0.9654, -0.1228, -1.6914, -0.4781, -0.1433, 0.9654, -0.8978, -3.1745, 0.9654, 0.9654, 5.6479, 5.5715, 5.5583, 5.5512, 5.5361, 5.5145, 5.4962, 5.4646, 5.422, 5.4118, 5.3754, 5.3439, 5.3091, 3.7696, 1.0413, 1.0413, 1.0413, 1.0413, 1.0413, 1.0413, 1.0413, 1.0413, 1.0413, 1.0413, 1.0413, 1.0413, 1.0413, 1.0413, 1.0413, 1.0413, 1.0413, 1.0413, -0.4887, -1.6155, -0.8446, -1.5146, 1.0413, 1.0413, -0.4627, -0.2957, -2.9704, 1.0413, -0.8219, -1.5158, -3.7571, -2.7578, -0.0054, -0.6701, 5.653, 5.6444, 5.6216, 5.6181, 5.6149, 5.5863, 5.5856, 5.5479, 5.4758, 5.4333, 5.3622, 5.3045, 5.1911, 5.1618, 1.0564, 1.0564, 1.0564, 1.0564, 1.0564, 1.0564, 1.0564, 1.0564, 1.0564, 1.0564, 1.0564, 1.0564, 1.0564, 1.0564, 1.0564, 1.0564, -0.8294, -0.4476, -1.3726, -1.7438, -0.2418, 0.4551, 1.0564, -0.3871, -2.9553, 1.0564, -1.6004, -0.0522, 1.0564, -0.8068, -3.0834, -2.5717, 5.6014, 5.5944, 5.5865, 5.5829, 5.5735, 5.5636, 5.529, 5.5156, 5.4803, 5.4595, 5.3654, 5.2831, 5.2393, 5.2201, 1.2432, 1.2432, 1.2432, 1.2432, 1.2432, 1.2432, 1.2432, 1.2432, 1.2432, 1.2432, 1.2432, 1.2432, 1.2432, 1.2432, 1.2432, 1.2432, 1.2432, 1.2432, 1.2432, 1.2432, 1.2432, 1.2432, -0.2868, -1.4136, -0.6427, -1.3127, -0.5873, -2.0534, -0.5896, -2.3314, -0.2608, -0.62, -2.7686, 1.2432, -1.314, 5.7147, 5.7019, 5.6968, 5.6724, 5.6668, 5.6571, 5.6556, 5.6538, 5.6501, 5.6494, 5.6173, 5.6041, 5.5699, 5.5663, 5.4971, 5.4805, 5.4006, 1.4226, 1.4226, 1.4226, 1.4226, 1.4226, 1.4226, 1.4226, 1.4226, 1.4226, 1.4226, 1.4226, 1.4226, 1.4226, -2.3765, -0.4633, -0.9121, -2.7173, 1.4226, -0.1074, -1.2342, -0.7056, -0.0814, -1.1333, 1.4226, -2.5891, -0.2888, 5.7052, 5.6893, 5.653, 5.5751, 5.5582, 5.5157, 5.4107, 5.2153, 4.5935, 1.367, 1.367, 1.367, 1.367, 1.367, 1.367, 1.367, 1.367, 1.367, 1.367, 1.367, 1.367, 1.367, 1.367, 1.367, 1.367, 1.367, 1.367, 1.367, 1.367, 1.367, 0.7656, -0.0765, 1.367, 0.0688, 0.2583, 1.367, -0.4962, -2.7729, -1.4332, 0.0299, -0.163, -1.0621, -0.5189, -1.1889, 1.367, -0.137, -2.6448, 1.367, -1.1901, -3.4314, -2.4321, 5.7595, 5.7561, 5.7515, 5.6823, 5.5565, 5.5253, 5.4612, 3.4894, 1.4538, 1.4538, 1.4538, 1.4538, 1.4538, 1.4538, 1.4538, 1.4538, 1.4538, 1.4538, 1.4538, 1.4538, 1.4538, 1.4538, 1.4538, 1.4538, 1.4538, 1.4538, 1.4538, 1.4538, 1.4538, 1.4538, -1.203, -0.0762, 1.4538, 0.1168, -2.6861, -0.4094, -0.4321, 0.3451, 1.4538, -1.1021, 0.8524, 1.4538, -0.0502, -2.5579, 1.4538, -1.1033, -3.3446, -2.3453, 0.4071, -0.2576, -0.6744, -0.8809, 5.7905, 5.7721, 5.7503, 5.7478, 5.7424, 5.7223, 5.6847, 5.6839, 5.6822, 5.6573, 5.646, 5.6454, 5.5937, 5.5356, 5.5142, 1.3308, 1.3308, 1.3308, 1.3308, 1.3308, 1.3308, 1.3308, 1.3308, 1.3308, 1.3308, 1.3308, 1.3308, 1.3308, 1.3308, 1.3308, -1.2251, -0.5324, -2.8091, 1.3308, 1.3308, 0.2221, -0.1992, -1.326, -0.555, -0.0062, 1.3308, -0.1732, -2.6809, 1.3308, -0.1127, 5.8003, 5.7861, 5.7611, 5.7585, 5.7206, 5.72, 5.7103, 5.615, 5.5919, 5.4839, 1.4045, 1.4045, 1.4045, 1.4045, 1.4045, 1.4045, 1.4045, 1.4045, 1.4045, 1.4045, 1.4045, 1.4045, 1.4045, 1.4045, 1.4045, 1.4045, 1.4045, 1.4045, 1.4045, 1.4045, -0.9302, -0.4814, 0.2958, 1.4045, -0.4587, -2.7354, 1.4045, -0.1255, -1.2524, -0.0995, -1.1514, 1.4045, -0.7237, -0.0391, 1.4045, -1.1527, -3.394, -2.3946, 0.3577, -0.3069, 5.8274, 5.8155, 5.8056, 5.804, 5.7611, 5.6414, 5.6267, 5.47, 1.679, 1.679, 1.679, 1.679, 1.679, 1.679, 1.679, 1.679, 1.679, 1.679, 1.679, 1.679, 1.679, 1.679, 1.679, 1.679, 1.679, 1.679, 1.679, 1.679, 1.679, 1.679, -2.3327, 0.175, -1.1212, 0.3808, 1.0777, 0.2355, 0.5704, -0.0323, 1.679, 0.6323, -0.1842, -2.12, -2.4609, -3.1194, -0.8781, 1.679, -0.75, 0.149, -0.9778, -0.2068, -0.8768, 1.679, 5.8434, 5.8406, 5.8077, 5.7264, 5.6708, 5.6706, 5.5311, 1.6585, 1.6585, 1.6585, 1.6585, 1.6585, 1.6585, 1.6585, 1.6585, 1.6585, 1.6585, 1.6585, 1.6585, 1.6585, 1.6585, 1.6585, 1.6585, 1.6585, 1.6585, 1.6585, 1.6585, 1.6585, 1.6585, 1.6585, 1.6585, -0.9983, 0.1285, 0.3215, -2.4814, -0.2274, 1.6585, 0.5498, 0.215, 1.0571, -0.2047, 1.6585, -0.8974, 0.1545, -2.3533, 1.6585, -0.8986, -3.1399, -2.1406, 0.6118, -0.0529, -0.4697, -0.6762, 5.8508, 5.8125, 5.8097, 5.8, 5.7885, 5.7672, 5.7551, 5.7421, 5.7105, 5.6464, 5.6218, 1.6336, 1.6336, 1.6336, 1.6336, 1.6336, 1.6336, 1.6336, 1.6336, 1.6336, 1.6336, 1.6336, 1.6336, 1.6336, 1.6336, 1.6336, 1.6336, 1.6336, 1.6336, 1.6336, 1.6336, -0.2522, 0.1296, -2.3781, -1.0232, 0.1036, 1.6336, -0.9222, 0.2966, 1.6336, -0.2296, -0.9235, -3.1648, -2.1654, 0.5869, -0.0777, -0.4946, -0.701, -0.408, 5.8542, 5.8328, 5.7671, 5.7233, 5.682, 5.4906, 5.3956, 1.6441, 1.6441, 1.6441, 1.6441, 1.6441, 1.6441, 1.6441, 1.6441, 1.6441, 1.6441, 1.6441, 1.6441, 1.6441, 1.6441, 1.6441, 1.6441, 1.6441, 1.6441, 1.6441, 1.6441, 1.6441, 1.6441, 1.6441, 0.307, -0.2418, -1.0128, 1.6441, 0.1141, -2.4958, -0.2191, 1.6441, 0.5354, -0.9118, 0.1401, 1.6441, 1.0427, -2.3677, 1.6441, -0.9131, -3.1544, -2.155, 0.5973, -0.0673, -0.4841, -0.6906, -0.3976, 5.8308, 5.8301, 5.8286, 5.7967, 5.7292, 5.7115, 5.6972, 5.641, 5.4156, 1.7623, 1.7623, 1.7623, 1.7623, 1.7623, 1.7623, 1.7623, 1.7623, 1.7623, 1.7623, 1.7623, 1.7623, 1.7623, 1.7623, 1.7623, 1.7623, 1.7623, 1.7623, 1.7623, 1.7623, 1.7623, 0.0509, 0.2323, 0.6536, -0.2794, 1.7623, -0.1009, -2.3776, -0.5724, -0.3659, 1.7623, -0.1236, -0.8946, 0.7155, -0.7936, 1.7623, 0.3187, -2.2495, 1.7623, -0.7949, -3.0362, -2.0368, 5.867, 5.8387, 5.8198, 5.8029, 5.7364, 5.6813, 1.7753, 1.7753, 1.7753, 1.7753, 1.7753, 1.7753, 1.7753, 1.7753, 1.7753, 1.7753, 1.7753, 1.7753, 1.7753, 1.7753, 1.7753, 1.7753, 1.7753, 1.7753, 1.7753, 1.7753, 1.7753, 1.7753, 1.7753, 1.7753, 1.7753, 1.7753, -0.8815, -0.7806, -0.1106, 0.2453, 0.2713, 1.7753, -2.3646, -0.0879, 1.7753, 0.6666, 1.7753, 0.4383, -2.2364, 1.7753, 0.3318, -3.0231, -2.0238, 0.7286, 0.0639, -0.3529, -0.5594, -0.2663, -2.1104, 1.7753, 5.9058, 5.8673, 1.9046, 1.9046, 1.9046, 1.9046, 1.9046, 1.9046, 1.9046, 1.9046, 1.9046, 1.9046, 1.9046, 1.9046, 1.9046, 1.9046, 1.9046, 1.9046, 1.9046, 1.9046, 1.9046, 1.9046, 1.9046, 1.9046, 1.9046, 1.9046, 1.9046, 1.9046, 1.9046, 1.9046, 1.9046, 1.3033, 0.4611, 0.7959, 1.9046, 0.0414, -2.2353, 1.9046, 0.3746, -0.7522, 0.0187, -0.6513, 0.4006, -0.8956, -2.1071, 1.9046, -0.6525, -2.8938, -1.8945, 0.8579, 0.1933, -0.2236, -0.43, -0.137, -1.9811, 0.6064, 0.5676, 1.9046, 5.8876, 5.8477, 5.8379, 5.7494, 5.622, 1.9053, 1.9053, 1.9053, 1.9053, 1.9053, 1.9053, 1.9053, 1.9053, 1.9053, 1.9053, 1.9053, 1.9053, 1.9053, 1.9053, 1.9053, 1.9053, 1.9053, 1.9053, 1.9053, 1.9053, 1.9053, 1.9053, 1.9053, 1.9053, 1.9053, -2.1064, 0.0421, -2.2346, 1.9053, 0.3753, -0.7515, 0.0195, -0.6505, 1.9053, 0.4013, 0.5683, 0.7967, 1.9053, -0.6518, -2.8931, -1.8937, 0.8586, 0.194, -0.2229, -0.4293, -0.1363, -1.9804, 1.9053, 1.9053, 0.4618, 5.911, 5.8521, 5.8467, 5.839, 5.8148, 5.8037, 5.7591, 1.8504, 1.8504, 1.8504, 1.8504, 1.8504, 1.8504, 1.8504, 1.8504, 1.8504, 1.8504, 1.8504, 1.8504, 1.8504, 1.8504, 1.8504, 1.8504, 1.8504, 1.8504, 1.8504, 1.8504, 1.8504, 1.8504, 1.8504, 0.5134, -0.8064, 0.4069, 0.7418, 1.8504, -0.0128, -2.2895, 1.8504, 0.3204, -0.7054, -0.0354, 0.5522, 1.8504, 0.3464, -2.1613, 1.8504, -0.7067, -2.948, -1.9486, 0.8037, 0.1391, -0.2778, 1.2491, 5.9085, 5.8873, 5.8704, 5.8653, 5.8595, 1.9315, 1.9315, 1.9315, 1.9315, 1.9315, 1.9315, 1.9315, 1.9315, 1.9315, 1.9315, 1.9315, 1.9315, 1.9315, 1.9315, 1.9315, 1.9315, 1.9315, 1.9315, 1.9315, 1.9315, 1.9315, 1.9315, 1.9315, 1.9315, 1.9315, 1.9315, 0.8228, 1.9315, 0.0683, -2.2084, 1.9315, 0.4015, -0.7253, 0.0456, -0.6244, 0.4275, 1.3302, -2.0802, 1.9315, -0.6256, -2.8669, -1.8676, 0.8848, 0.2202, -0.1967, -0.4031, -0.1101, -1.9542, 1.9315, 0.488, 5.9285, 5.9012, 5.8376, 5.7945, 5.7891, 5.7806, 5.7467, 1.8849, 1.8849, 1.8849, 1.8849, 1.8849, 1.8849, 1.8849, 1.8849, 1.8849, 1.8849, 1.8849, 1.8849, 1.8849, 1.8849, 1.8849, 1.8849, 1.8849, 1.8849, 1.8849, 1.8849, 1.8849, 1.8849, 1.8849, 0.3549, 0.5866, 1.2835, 0.4413, 0.7762, 1.8849, 0.0217, -2.255, 1.8849, -0.772, -0.5442, -0.001, -0.671, 1.8849, 0.3809, -2.1269, 1.8849, -0.6723, -2.9136, -1.9142, 0.8381, 0.1735, -0.9153, 5.9242, 5.9012, 5.895, 5.888, 5.8261, 1.8626, 1.8626, 1.8626, 1.8626, 1.8626, 1.8626, 1.8626, 1.8626, 1.8626, 1.8626, 1.8626, 1.8626, 1.8626, 1.8626, 1.8626, 1.8626, 1.8626, 1.8626, 1.8626, 1.8626, 1.8626, 1.8626, 1.8626, 1.8626, 1.8626, 0.5644, 1.2613, 0.4191, 0.7539, 1.8626, -0.0006, -2.2773, 1.8626, 0.3326, -0.7942, -0.0233, 0.5256, -0.9376, 1.8626, 0.3586, -2.1491, 1.8626, -0.6945, -2.9358, -1.9365, 0.8159, 0.1513, -0.2656, -0.472, -0.6933, 5.9102, 5.8877, 5.8492, 5.8432, 5.809, 5.8035, 5.7813, 5.6689, 1.9893, 1.9893, 1.9893, 1.9893, 1.9893, 1.9893, 1.9893, 1.9893, 1.9893, 1.9893, 1.9893, 1.9893, 1.9893, 1.9893, 1.9893, 1.9893, 1.9893, 1.9893, 1.9893, 1.9893, 1.9893, 1.9893, -0.6675, -0.5665, 0.1035, 0.6523, 1.9893, 1.9893, -2.1506, 0.1261, 0.4593, -2.0224, 0.4853, 0.8807, 1.9893, -0.5678, -2.8091, -1.8097, 0.9426, 0.278, -0.1388, -0.3453, -0.0523, -1.8963, 5.9517, 5.9178, 5.8929, 5.7975, 5.6884, 2.1074, 2.1074, 2.1074, 2.1074, 2.1074, 2.1074, 2.1074, 2.1074, 2.1074, 2.1074, 2.1074, 2.1074, 2.1074, 2.1074, 2.1074, 2.1074, 2.1074, 2.1074, 2.1074, 2.1074, 2.1074, 2.1074, 2.1074, 2.1074, 2.1074, -1.4672, 1.506, 0.9987, 2.1074, 0.2442, -2.0325, 2.1074, 0.5774, -0.5494, 0.2215, -0.4485, 2.1074, 0.6034, -1.9044, 2.1074, -0.4497, -2.691, -1.6917, 1.0607, 0.396, -0.0208, -0.2273, 0.0658, -1.7783, 2.1074, 5.9534, 5.9396, 2.0754, 2.0754, 2.0754, 2.0754, 2.0754, 2.0754, 2.0754, 2.0754, 2.0754, 2.0754, 2.0754, 2.0754, 2.0754, 2.0754, 2.0754, 2.0754, 2.0754, 2.0754, 2.0754, 2.0754, 2.0754, 2.0754, 2.0754, 2.0754, 2.0754, 2.0754, 2.0754, 2.0754, 0.7384, 2.0754, 0.6319, 0.9667, 2.0754, 0.2122, -2.0645, 2.0754, 0.5454, -0.5814, 0.1896, -0.4805, 0.5714, 0.7772, -1.9363, 2.0754, -0.4817, -2.723, -1.7237, 1.0287, 0.3641, -0.0528, -0.2592, 0.0338, -1.8103, 1.4741, -0.7248, 2.0754, 5.9785, 5.9524, 2.129, 2.129, 2.129, 2.129, 2.129, 2.129, 2.129, 2.129, 2.129, 2.129, 2.129, 2.129, 2.129, 2.129, 2.129, 2.129, 2.129, 2.129, 2.129, 2.129, 2.129, 2.129, 2.129, 2.129, 2.129, 2.129, 2.129, 2.129, 0.792, 0.625, 1.0203, 2.129, 0.2658, -2.0109, 2.129, 0.599, -0.5278, 0.2432, -0.4268, 2.129, -1.8827, 1.5277, 2.129, -0.4281, -2.6694, -1.6701, 1.0823, 0.4177, 0.0008, -0.2056, 0.0874, -1.7567, 0.6855, 0.8308, -0.84, 2.129, 5.955, 5.9315, 5.9237, 2.1886, 2.1886, 2.1886, 2.1886, 2.1886, 2.1886, 2.1886, 2.1886, 2.1886, 2.1886, 2.1886, 2.1886, 2.1886, 2.1886, 2.1886, 2.1886, 2.1886, 2.1886, 2.1886, 2.1886, 2.1886, 2.1886, 2.1886, 2.1886, 2.1886, 2.1886, 2.1886, 2.1886, 0.7451, 1.0799, 2.1886, 0.3254, -1.9513, 2.1886, 0.6586, -0.4682, 0.3027, -0.3673, 0.6846, 0.8904, -1.8232, 2.1886, -0.3685, -2.6098, -1.6105, 1.1419, 0.4772, 0.0604, -0.1461, 0.147, -1.6971, 1.5872, -0.6116, -0.7804, 5.9818, 5.9761, 2.1386, 2.1386, 2.1386, 2.1386, 2.1386, 2.1386, 2.1386, 2.1386, 2.1386, 2.1386, 2.1386, 2.1386, 2.1386, 2.1386, 2.1386, 2.1386, 2.1386, 2.1386, 2.1386, 2.1386, 2.1386, 2.1386, 2.1386, 2.1386, 2.1386, 2.1386, 2.1386, 2.1386, 2.1386, 0.8404, 1.5373, 0.6951, 1.03, 2.1386, 0.2754, -2.0013, 2.1386, 0.6086, -0.5182, 0.2528, -0.4172, 0.8016, -0.2904, 0.6346, -1.8731, 2.1386, -0.4185, -2.6598, -1.6604, 1.0919, 0.4273, 0.0104, -0.196, 0.097, -0.6616, 0.7958, 5.9794, 5.953, 2.2014, 2.2014, 2.2014, 2.2014, 2.2014, 2.2014, 2.2014, 2.2014, 2.2014, 2.2014, 2.2014, 2.2014, 2.2014, 2.2014, 2.2014, 2.2014, 2.2014, 2.2014, 2.2014, 2.2014, 2.2014, 2.2014, 2.2014, 2.2014, 2.2014, 2.2014, 2.2014, 2.2014, 0.8644, 0.6974, 1.0927, 2.2014, 0.3382, -1.9385, 2.2014, 0.6714, -0.4554, 0.3155, -0.3545, 2.2014, -1.8104, 1.6, 2.2014, -0.3557, -2.597, -1.5977, 1.1547, 0.49, 0.0732, -0.1333, 0.1598, -1.6843, 2.2014, -0.7676, 0.7579, 0.9032, 5.981, 5.9225, 2.2343, 2.2343, 2.2343, 2.2343, 2.2343, 2.2343, 2.2343, 2.2343, 2.2343, 2.2343, 2.2343, 2.2343, 2.2343, 2.2343, 2.2343, 2.2343, 2.2343, 2.2343, 2.2343, 2.2343, 2.2343, 2.2343, 2.2343, 2.2343, 2.2343, 2.2343, 2.2343, 2.2343, 0.8973, 0.7303, 1.1256, 2.2343, 0.3711, -1.9056, 2.2343, 0.7043, -0.4225, 0.3485, -0.3216, 2.2343, -1.7774, 1.633, 2.2343, -0.3228, -2.5641, -1.5648, 1.1876, 0.523, 0.1061, -0.1003, 0.1927, -1.6514, 2.2343, 0.7908, 0.9361, 1.0447, 5.9898, 5.7545, 2.2495, 2.2495, 2.2495, 2.2495, 2.2495, 2.2495, 2.2495, 2.2495, 2.2495, 2.2495, 2.2495, 2.2495, 2.2495, 2.2495, 2.2495, 2.2495, 2.2495, 2.2495, 2.2495, 2.2495, 2.2495, 2.2495, 2.2495, 2.2495, 2.2495, 2.2495, 2.2495, 2.2495, 0.9513, 0.806, 1.1408, 2.2495, 0.3863, -1.8904, 2.2495, 0.7195, -0.4073, 0.3637, -0.3064, 2.2495, 0.7455, -1.7622, 2.2495, -0.3076, -2.5489, -1.5496, 1.2028, 0.5382, 0.1213, -0.0851, 0.2079, -1.6362, 2.2495, 1.6482, 0.9125, 1.0599, 2.3982, 2.3982, 2.3982, 2.3982, 2.3982, 2.3982, 2.3982, 2.3982, 2.3982, 2.3982, 2.3982, 2.3982, 2.3982, 2.3982, 2.3982, 2.3982, 2.3982, 2.3982, 2.3982, 2.3982, 2.3982, 2.3982, 2.3982, 2.3982, 2.3982, 2.3982, 2.3982, 2.3982, 2.3982, 2.3982, 1.0612, 0.8942, 0.9547, 1.2895, 2.3982, 0.535, -1.7417, 2.3982, 0.8682, -0.2586, 0.5124, -0.1577, 2.3982, -1.6135, 1.2086, 2.3982, -0.1589, -2.4002, -1.4009, 1.3515, 0.6869, 0.27, 0.0636, 0.3566, -1.4875, 2.3982, 1.7969, 1.1, -0.402, -0.0308, 2.3982, 2.3982, 2.3982, 2.3982, 2.3982, 2.3982, 2.3982, 2.3982, 2.3982, 2.3982, 2.3982, 2.3982, 2.3982, 2.3982, 2.3982, 2.3982, 2.3982, 2.3982, 2.3982, 2.3982, 2.3982, 2.3982, 2.3982, 2.3982, 2.3982, 2.3982, 2.3982, 2.3982, 2.3982, 2.3982, 1.0612, 0.8942, 0.9547, 1.2895, 2.3982, 0.535, -1.7417, 2.3982, 0.8682, -0.2586, 0.5124, -0.1577, 2.3982, -1.6135, 1.2086, 2.3982, -0.1589, -2.4002, -1.4009, 1.3515, 0.6869, 0.27, 0.0636, 0.3566, -1.4875, 2.3982, 1.7969, 1.1, -0.402, -0.0308, 2.3982, 2.3982, 2.3982, 2.3982, 2.3982, 2.3982, 2.3982, 2.3982, 2.3982, 2.3982, 2.3982, 2.3982, 2.3982, 2.3982, 2.3982, 2.3982, 2.3982, 2.3982, 2.3982, 2.3982, 2.3982, 2.3982, 2.3982, 2.3982, 2.3982, 2.3982, 2.3982, 2.3982, 2.3982, 2.3982, 1.0612, 0.8942, 0.9547, 1.2895, 2.3982, 0.535, -1.7417, 2.3982, 0.8682, -0.2586, 0.5124, -0.1577, 2.3982, -1.6135, 1.2086, 2.3982, -0.1589, -2.4002, -1.4009, 1.3515, 0.6869, 0.27, 0.0636, 0.3566, -1.4875, 2.3982, 1.7969, 1.1, -0.402, -0.0308, 2.3982, 2.3982, 2.3982, 2.3982, 2.3982, 2.3982, 2.3982, 2.3982, 2.3982, 2.3982, 2.3982, 2.3982, 2.3982, 2.3982, 2.3982, 2.3982, 2.3982, 2.3982, 2.3982, 2.3982, 2.3982, 2.3982, 2.3982, 2.3982, 2.3982, 2.3982, 2.3982, 2.3982, 2.3982, 2.3982, 1.0612, 0.8942, 0.9547, 1.2895, 2.3982, 0.535, -1.7417, 2.3982, 0.8682, -0.2586, 0.5124, -0.1577, 2.3982, -1.6135, 1.2086, 2.3982, -0.1589, -2.4002, -1.4009, 1.3515, 0.6869, 0.27, 0.0636, 0.3566, -1.4875, 2.3982, 1.7969, 1.1, -0.402, -0.0308, 2.3982, 2.3982, 2.3982, 2.3982, 2.3982, 2.3982, 2.3982, 2.3982, 2.3982, 2.3982, 2.3982, 2.3982, 2.3982, 2.3982, 2.3982, 2.3982, 2.3982, 2.3982, 2.3982, 2.3982, 2.3982, 2.3982, 2.3982, 2.3982, 2.3982, 2.3982, 2.3982, 2.3982, 2.3982, 2.3982, 1.0612, 0.8942, 0.9547, 1.2895, 2.3982, 0.535, -1.7417, 2.3982, 0.8682, -0.2586, 0.5124, -0.1577, 2.3982, -1.6135, 1.2086, 2.3982, -0.1589, -2.4002, -1.4009, 1.3515, 0.6869, 0.27, 0.0636, 0.3566, -1.4875, 2.3982, 1.7969, 1.1, -0.402, -0.0308, 2.3982, 2.3982, 2.3982, 2.3982, 2.3982, 2.3982, 2.3982, 2.3982, 2.3982, 2.3982, 2.3982, 2.3982, 2.3982, 2.3982, 2.3982, 2.3982, 2.3982, 2.3982, 2.3982, 2.3982, 2.3982, 2.3982, 2.3982, 2.3982, 2.3982, 2.3982, 2.3982, 2.3982, 2.3982, 2.3982, 1.0612, 0.8942, 0.9547, 1.2895, 2.3982, 0.535, -1.7417, 2.3982, 0.8682, -0.2586, 0.5124, -0.1577, 2.3982, -1.6135, 1.2086, 2.3982, -0.1589, -2.4002, -1.4009, 1.3515, 0.6869, 0.27, 0.0636, 0.3566, -1.4875, 2.3982, 1.7969, 1.1, -0.402, -0.0308, 2.3982, 2.3982, 2.3982, 2.3982, 2.3982, 2.3982, 2.3982, 2.3982, 2.3982, 2.3982, 2.3982, 2.3982, 2.3982, 2.3982, 2.3982, 2.3982, 2.3982, 2.3982, 2.3982, 2.3982, 2.3982, 2.3982, 2.3982, 2.3982, 2.3982, 2.3982, 2.3982, 2.3982, 2.3982, 2.3982, 1.0612, 0.8942, 0.9547, 1.2895, 2.3982, 0.535, -1.7417, 2.3982, 0.8682, -0.2586, 0.5124, -0.1577, 2.3982, -1.6135, 1.2086, 2.3982, -0.1589, -2.4002, -1.4009, 1.3515, 0.6869, 0.27, 0.0636, 0.3566, -1.4875, 2.3982, 1.7969, 1.1, -0.402, -0.0308, 2.3982, 2.3982, 2.3982, 2.3982, 2.3982, 2.3982, 2.3982, 2.3982, 2.3982, 2.3982, 2.3982, 2.3982, 2.3982, 2.3982, 2.3982, 2.3982, 2.3982, 2.3982, 2.3982, 2.3982, 2.3982, 2.3982, 2.3982, 2.3982, 2.3982, 2.3982, 2.3982, 2.3982, 2.3982, 2.3982, 1.0612, 0.8942, 0.9547, 1.2895, 2.3982, 0.535, -1.7417, 2.3982, 0.8682, -0.2586, 0.5124, -0.1577, 2.3982, -1.6135, 1.2086, 2.3982, -0.1589, -2.4002, -1.4009, 1.3515, 0.6869, 0.27, 0.0636, 0.3566, -1.4875, 2.3982, 1.7969, 1.1, -0.402, -0.0308, 2.3982, 2.3982, 2.3982, 2.3982, 2.3982, 2.3982, 2.3982, 2.3982, 2.3982, 2.3982, 2.3982, 2.3982, 2.3982, 2.3982, 2.3982, 2.3982, 2.3982, 2.3982, 2.3982, 2.3982, 2.3982, 2.3982, 2.3982, 2.3982, 2.3982, 2.3982, 2.3982, 2.3982, 2.3982, 2.3982, 1.0612, 0.8942, 0.9547, 1.2895, 2.3982, 0.535, -1.7417, 2.3982, 0.8682, -0.2586, 0.5124, -0.1577, 2.3982, -1.6135, 1.2086, 2.3982, -0.1589, -2.4002, -1.4009, 1.3515, 0.6869, 0.27, 0.0636, 0.3566, -1.4875, 2.3982, 1.7969, 1.1, -0.402, -0.0308, 2.3982, 2.3982, 2.3982, 2.3982, 2.3982, 2.3982, 2.3982, 2.3982, 2.3982, 2.3982, 2.3982, 2.3982, 2.3982, 2.3982, 2.3982, 2.3982, 2.3982, 2.3982, 2.3982, 2.3982, 2.3982, 2.3982, 2.3982, 2.3982, 2.3982, 2.3982, 2.3982, 2.3982, 2.3982, 2.3982, 1.0612, 0.8942, 0.9547, 1.2895, 2.3982, 0.535, -1.7417, 2.3982, 0.8682, -0.2586, 0.5124, -0.1577, 2.3982, -1.6135, 1.2086, 2.3982, -0.1589, -2.4002, -1.4009, 1.3515, 0.6869, 0.27, 0.0636, 0.3566, -1.4875, 2.3982, 1.7969, 1.1, -0.402, -0.0308, 2.3982, 2.3982, 2.3982, 2.3982, 2.3982, 2.3982, 2.3982, 2.3982, 2.3982, 2.3982, 2.3982, 2.3982, 2.3982, 2.3982, 2.3982, 2.3982, 2.3982, 2.3982, 2.3982, 2.3982, 2.3982, 2.3982, 2.3982, 2.3982, 2.3982, 2.3982, 2.3982, 2.3982, 2.3982, 2.3982, 1.0612, 0.8942, 0.9547, 1.2895, 2.3982, 0.535, -1.7417, 2.3982, 0.8682, -0.2586, 0.5124, -0.1577, 2.3982, -1.6135, 1.2086, 2.3982, -0.1589, -2.4002, -1.4009, 1.3515, 0.6869, 0.27, 0.0636, 0.3566, -1.4875, 2.3982, 1.7969, 1.1, -0.402, -0.0308], \"logprob\": [30.0, 29.0, 28.0, 27.0, 26.0, 25.0, 24.0, 23.0, 22.0, 21.0, 20.0, 19.0, 18.0, 17.0, 16.0, 15.0, 14.0, 13.0, 12.0, 11.0, 10.0, 9.0, 8.0, 7.0, 6.0, 5.0, 4.0, 3.0, 2.0, 1.0, -5.6047, -5.6701, -5.6761, -5.91, -5.0314, -6.0972, -6.3376, -6.3403, -6.4475, -6.5194, -6.1713, -6.5304, -6.5692, -6.5963, -6.5993, -6.6017, -6.627, -4.7816, -6.6408, -6.6434, -6.6571, -6.6681, -6.6786, -6.6878, -6.7107, -6.7234, -6.7273, -6.7308, -6.7759, -6.8066, -5.7262, -6.0736, -5.5111, -5.5901, -5.5706, -6.0695, -5.6881, -5.8657, -5.7269, -5.5794, -5.2207, -5.4921, -5.7558, -5.3513, -5.8252, -5.7333, -5.7283, -4.8718, -5.9609, -5.4921, -5.2474, -5.6559, -5.7698, -5.7092, -5.5711, -5.8777, -5.2465, -5.6574, -5.1754, -5.407, -5.4933, -5.5448, -5.6474, -5.5777, -5.6282, -5.5448, -5.5927, -5.5539, -4.9311, -5.1344, -5.2988, -5.336, -5.5959, -5.6385, -5.8148, -5.8216, -5.832, -5.8906, -5.9194, -5.9368, -5.9387, -6.0213, -6.0576, -6.0628, -6.1058, -6.1445, -6.1453, -6.2659, -6.2904, -6.3771, -6.3821, -5.7516, -6.4042, -6.4335, -6.4347, -6.4572, -6.4716, -6.4845, -3.7749, -4.7633, -5.5112, -5.1191, -4.7975, -5.7354, -4.4193, -5.3622, -5.0054, -5.6618, -4.8459, -5.8068, -4.941, -5.3546, -4.5736, -4.9027, -5.171, -4.8447, -4.4478, -4.8221, -5.2318, -5.0263, -5.107, -4.9632, -5.3434, -5.3198, -5.2975, -5.1377, -5.3985, -5.2275, -5.3332, -4.706, -4.8205, -4.9352, -5.05, -5.0576, -5.071, -5.1152, -5.138, -5.2094, -5.3053, -5.3387, -5.3596, -5.3657, -5.3796, -5.4003, -5.4125, -5.4459, -5.4482, -5.4634, -5.4755, -5.5026, -5.5358, -5.5479, -5.5671, -5.5989, -5.6047, -5.6115, -5.6278, -5.6513, -5.6795, -3.407, -5.2737, -4.9409, -4.7985, -3.9541, -5.0339, -3.3921, -5.4417, -5.1951, -4.2105, -5.313, -4.584, -5.2668, -4.3197, -4.8777, -5.0294, -5.0951, -4.9537, -5.2443, -5.0996, -5.1611, -4.3325, -4.7431, -4.7871, -5.0138, -3.9516, -4.5008, -5.0741, -5.0858, -5.1321, -5.156, -5.2014, -5.2056, -5.263, -5.2789, -5.2898, -5.2946, -5.3212, -5.3458, -5.424, -5.4445, -5.4776, -5.5095, -5.5985, -5.6087, -5.6398, -5.644, -5.6591, -5.6747, -5.6902, -5.7195, -3.9609, -3.4539, -4.7576, -4.9464, -4.8297, -4.7274, -5.3607, -5.1442, -4.6798, -5.1235, -5.1996, -5.0877, -5.1304, -5.0531, -5.263, -4.2297, -4.2406, -4.5054, -4.9243, -4.9548, -4.9889, -5.0097, -5.0343, -5.0447, -5.0829, -5.0829, -5.1061, -5.1854, -5.2586, -5.3204, -5.3211, -5.333, -5.3331, -5.3868, -5.3928, -5.4011, -5.4068, -5.4165, -5.4462, -5.5516, -5.5538, -5.5546, -5.5602, -5.5606, -5.0785, -3.3867, -4.6168, -4.0427, -4.6861, -4.4501, -3.7768, -3.8455, -4.8337, -4.5386, -4.8869, -3.8993, -4.8543, -3.8447, -4.0257, -4.8957, -4.164, -3.588, -4.1566, -4.2718, -4.3858, -4.6565, -4.4703, -4.6128, -4.7308, -4.8326, -4.9531, -4.5014, -4.7269, -4.8136, -5.0701, -5.1563, -5.1704, -4.0186, -5.2508, -5.3051, -5.3221, -5.3337, -5.3841, -5.4818, -5.4857, -5.4882, -4.2968, -5.5226, -5.5496, -3.2728, -5.6009, -3.8475, -5.7217, -5.7295, -5.7542, -2.5394, -5.7765, -5.7962, -5.8387, -5.8389, -5.8528, -4.7207, -4.4662, -3.0713, -4.8478, -3.7946, -3.286, -4.6087, -4.8492, -3.1193, -4.3805, -4.7769, -3.8964, -3.9078, -4.4992, -4.4881, -4.1106, -4.86, -4.1179, -3.5477, -4.3336, -3.888, -4.2587, -4.6353, -4.5226, -4.4701, -4.637, -4.532, -4.7095, -4.7152, -4.148, -4.4449, -4.5208, -4.5813, -4.6027, -4.6143, -4.794, -3.5236, -4.9802, -5.0128, -5.1297, -5.1708, -5.1809, -5.205, -5.2203, -5.2874, -5.3046, -5.3216, -5.3577, -5.4106, -5.4308, -5.4853, -5.4953, -5.5306, -5.5536, -5.5575, -5.5995, -5.7221, -5.0549, -5.7401, -2.0759, -3.0924, -4.0932, -3.8264, -4.4254, -4.717, -4.3352, -4.1109, -4.1372, -4.2153, -3.7906, -4.6472, -4.0205, -4.0064, -4.2127, -4.3865, -4.4363, -4.7065, -4.5661, -4.8484, -4.8995, -4.9345, -3.0035, -3.8006, -3.8367, -4.2382, -4.265, -4.5274, -4.6855, -4.7063, -4.7272, -4.7726, -4.7912, -4.8002, -4.8059, -4.8237, -4.8417, -4.8745, -4.9084, -4.976, -5.1029, -5.1263, -4.3179, -5.1864, -5.2251, -5.255, -5.2657, -4.4658, -5.3004, -5.311, -5.3136, -5.3246, -4.3139, -3.7052, -3.994, -3.9194, -4.1097, -4.7656, -4.1263, -4.796, -3.3619, -4.3264, -4.4577, -4.3397, -4.5928, -4.4874, -4.4318, -4.3981, -4.6742, -4.639, -3.1843, -4.175, -4.3003, -4.4968, -4.5258, -4.8218, -4.8812, -4.9227, -3.9564, -4.9789, -5.0172, -5.0568, -5.1239, -3.2224, -5.1784, -5.1932, -5.2123, -5.2199, -5.2321, -5.2666, -5.267, -5.2726, -5.2936, -5.3032, -5.3143, -5.3196, -5.3989, -4.5019, -5.4437, -4.2449, -4.3683, -3.9541, -4.426, -4.3208, -3.6888, -3.4739, -3.8936, -4.2733, -4.5125, -4.3932, -3.9013, -4.2958, -4.3766, -3.4056, -4.0553, -3.7305, -4.684, -4.1065, -4.0492, -4.4218, -4.6153, -4.3643, -4.5394, -4.5206, -3.4363, -3.8301, -3.9161, -4.1566, -4.4118, -2.4091, -4.4587, -2.8399, -4.6673, -4.8236, -4.8407, -4.9139, -4.9194, -3.7455, -4.9216, -4.9558, -4.9787, -3.862, -5.0681, -5.0879, -5.1266, -5.1427, -2.6371, -3.1849, -5.2357, -3.5945, -5.2803, -5.4109, -5.4217, -5.4414, -3.0144, -2.8155, -2.9827, -3.1282, -3.7292, -4.2099, -4.1261, -3.9841, -4.5249, -4.7672, -4.8818, -3.8768, -4.1473, -4.2798, -4.397, -4.522, -4.5669, -4.659, -4.694, -4.7097, -4.722, -4.0436, -4.801, -4.8315, -4.8339, -4.8455, -4.8959, -4.9504, -4.9717, -5.0736, -5.1259, -5.1657, -5.2109, -5.2368, -3.8158, -5.2503, -5.3277, -5.381, -5.416, -5.4684, -5.5071, -2.5114, -3.2027, -2.9981, -3.0984, -3.8448, -3.4828, -3.1246, -2.9686, -2.8409, -4.488, -3.0601, -3.5451, -4.2286, -3.9604, -4.1262, -3.9906, -4.4901, -4.692, -3.6951, -3.7832, -3.8311, -3.8816, -3.9891, -4.1385, -4.1523, -4.209, -4.2684, -4.3232, -4.3319, -4.3509, -4.3708, -4.5351, -4.5511, -4.6089, -4.679, -4.6946, -4.6949, -4.7048, -4.7169, -4.7275, -4.7627, -4.7968, -4.8045, -4.8173, -4.8303, -4.9107, -4.9381, -4.9415, -3.2475, -2.7106, -2.399, -4.0653, -3.407, -3.4002, -4.4786, -4.2621, -3.8496, -3.8547, -3.8825, -3.9208, -4.1208, -4.159, -4.1695, -4.2836, -2.3393, -4.4218, -4.4803, -4.5011, -4.5083, -4.5287, -4.6316, -4.632, -4.8553, -4.8702, -4.8755, -4.8883, -5.0181, -5.055, -5.1231, -5.1401, -5.1578, -5.1956, -5.2224, -5.2271, -5.2468, -5.2699, -3.8177, -2.361, -4.6637, -4.1083, -3.3023, -3.6261, -4.6364, -3.5051, -4.051, -4.4729, -4.0754, -4.5, -4.3262, -4.4778, -4.4439, -4.4453, -4.6275, -3.3982, -3.8796, -4.0167, -4.0797, -4.4212, -3.3805, -4.6356, -4.7462, -3.9995, -4.9673, -4.9693, -5.0071, -5.024, -5.0323, -5.0851, -5.1164, -5.1255, -3.4074, -5.2657, -4.2711, -5.3224, -5.3826, -4.8096, -5.5284, -4.1577, -4.0649, -3.4273, -4.1223, -2.911, -5.7874, -3.81, -2.6874, -3.064, -3.8309, -3.6896, -3.4378, -3.3792, -3.2007, -3.7133, -3.5468, -3.2073, -3.5699, -3.8632, -4.552, -4.3797, -3.0064, -3.6433, -3.7274, -3.8006, -3.8373, -3.8792, -4.0882, -4.0919, -4.0955, -4.1259, -4.1368, -4.1632, -4.181, -4.2031, -4.2423, -4.3398, -4.3613, -4.3652, -4.4073, -4.4113, -4.4266, -4.4273, -4.4358, -4.466, -4.4744, -4.6194, -4.0481, -4.6945, -4.7231, -4.7327, -3.7926, -3.8431, -4.1584, -3.3743, -3.8823, -2.8326, -3.605, -4.0778, -2.8095, -3.1654, -3.3431, -3.5636, -3.7559, -3.8139, -3.914, -3.9185, -3.9257, -3.9404, -4.0574, -4.2119, -4.2647, -4.2854, -4.2922, -4.3159, -4.321, -4.3234, -4.3772, -4.3847, -4.461, -4.472, -4.5126, -4.5274, -4.5333, -4.5924, -4.6244, -4.6406, -4.6588, -4.676, -4.0327, -3.5127, -3.6112, -3.5456, -3.5219, -3.3679, -3.329, -3.4093, -3.5682, -3.7554, -3.8716, -3.921, -4.0006, -4.116, -4.2955, -4.3442, -4.3535, -4.3698, -4.4052, -4.4369, -4.5284, -4.5441, -4.5493, -4.6198, -4.6927, -4.7743, -4.8081, -4.827, -4.8303, -4.8743, -4.8781, -4.8844, -4.9123, -3.6635, -4.9501, -4.9619, -3.2656, -3.3511, -2.8059, -4.261, -2.9427, -2.8276, -3.6167, -3.4144, -4.291, -4.2349, -4.1826, -4.2675, -3.1651, -3.3227, -3.505, -3.5341, -3.7031, -3.8042, -3.8059, -3.8106, -3.9706, -4.0494, -4.0803, -4.0803, -4.0817, -4.178, -4.2025, -4.2809, -4.3353, -4.3412, -4.342, -4.3882, -4.4412, -4.5007, -4.5424, -4.5482, -4.5492, -4.5903, -4.6063, -4.6939, -4.704, -4.7133, -2.9217, -1.9273, -3.8377, -3.1092, -3.4551, -3.6345, -3.7664, -3.8366, -3.9622, -3.9787, -3.9983, -4.0412, -4.0603, -2.7354, -4.2473, -4.249, -4.2672, -4.3553, -4.3858, -4.4522, -4.5194, -4.5247, -4.6329, -4.6579, -3.3293, -4.6945, -3.8356, -4.7415, -4.7638, -4.8393, -4.8418, -4.8525, -4.8549, -2.8464, -2.8189, -4.1919, -3.0142, -3.4841, -4.328, -4.6754, -1.8463, -2.6281, -3.6241, -4.0526, -4.1232, -4.1853, -4.2162, -4.2393, -4.2604, -4.4223, -4.4543, -4.4566, -4.4579, -4.7368, -4.7845, -4.8242, -4.8393, -4.8559, -4.9276, -5.1469, -5.1852, -2.4656, -5.312, -5.357, -3.011, -5.558, -5.5598, -5.585, -5.6735, -4.2065, -2.6275, -3.1619, -3.1253, -4.9432, -4.1154, -4.3607, -4.5594, -4.2398, -4.6801, -3.0858, -3.206, -3.3468, -3.4375, -2.0606, -1.8494, -3.6437, -3.7106, -3.7575, -3.8057, -4.1514, -4.1849, -4.1946, -4.2291, -4.2527, -4.2529, -4.6644, -4.665, -4.7806, -3.7749, -4.8976, -3.2846, -5.0643, -5.1688, -5.1914, -5.2079, -2.2187, -5.5293, -5.6114, -4.4372, -2.848, -3.5495, -3.608, -3.8072, -3.8527, -3.8567, -3.9767, -4.0609, -4.0994, -4.1107, -4.1688, -2.2093, -4.2098, -4.2291, -4.2671, -4.4121, -4.4311, -4.5367, -4.5577, -4.6005, -4.6115, -4.6815, -4.7697, -4.8129, -3.3514, -4.9005, -2.277, -3.0518, -5.1748, -5.1754, -2.5119, -3.6105, -4.596, -2.1182, -2.6312, -3.0094, -3.2549, -3.2733, -3.4384, -3.4729, -3.6193, -3.6948, -3.7403, -3.7691, -3.8326, -3.8845, -3.9067, -3.9196, -3.9684, -4.1194, -4.2265, -4.2355, -4.2974, -4.3143, -4.319, -4.3931, -4.4042, -4.4329, -4.449, -4.4577, -4.4689, -4.5643, -4.6129, -4.303, -2.3278, -1.3043, -3.0499, -3.5184, -2.3165, -4.3216, -4.3338, -4.3412, -4.3611, -4.3754, -4.4146, -4.4914, -4.4992, -4.5791, -4.7038, -4.7081, -5.0266, -5.1126, -5.1247, -5.1927, -5.3344, -5.3934, -5.5333, -5.8623, -3.1748, -3.6534, -4.0437, -3.4269, -10.6268, -10.6268, -10.6268, -10.6268, -10.6268, -10.6268, -10.6268, -2.7398, -2.8322, -2.8904, -3.2884, -3.489, -3.5347, -2.2867, -3.7938, -3.8999, -1.8209, -4.2144, -4.2191, -4.3024, -4.3988, -4.4747, -4.4753, -4.5944, -4.7399, -4.8166, -4.9929, -3.0533, -3.1667, -5.1539, -5.1851, -5.1979, -3.9519, -5.9814, -10.5813, -10.5813, -10.5813, -10.5813, -10.5813, -10.5813, -10.5813, -10.5813, -10.5813, -10.5813, -2.4213, -2.6576, -3.003, -3.1743, -3.3442, -2.182, -3.6549, -2.5663, -3.7007, -2.3028, -4.0266, -4.0551, -4.2068, -4.2204, -4.2969, -4.3087, -4.3705, -4.4058, -4.504, -4.5639, -4.6235, -4.6676, -4.823, -4.8676, -4.9461, -5.0309, -5.6082, -5.6721, -10.5678, -10.5678, -10.5678, -10.5678, -10.5678, -10.5678, -10.5678, -10.5678, -10.5678, -2.8771, -3.4097, -2.7733, -3.5314, -2.9345, -3.6179, -3.6418, -3.6691, -3.7308, -3.7722, -3.8205, -3.412, -4.0753, -4.1204, -4.2008, -4.2076, -4.3113, -4.4221, -3.2857, -4.5906, -4.8461, -4.9318, -1.4282, -10.4929, -10.4929, -10.4929, -10.4929, -10.4929, -10.4929, -10.4929, -10.4929, -10.4929, -10.4929, -10.4929, -10.4929, -10.4929, -10.4929, -10.4929, -10.4929, -10.4929, -10.4929, -10.4929, -10.4929, -2.7496, -2.1239, -2.7857, -3.15, -3.6017, -3.7448, -3.7908, -3.864, -3.9673, -4.0737, -4.0989, -4.1417, -4.2373, -4.2518, -4.5145, -4.6136, -4.6556, -4.7934, -2.5034, -4.8677, -2.764, -5.1147, -3.5834, -2.2938, -10.4926, -10.4926, -10.4926, -10.4926, -10.4926, -10.4926, -10.4926, -10.4926, -10.4926, -10.4926, -10.4926, -10.4926, -10.4926, -10.4926, -10.4926, -10.4926, -10.4926, -10.4926, -2.5544, -2.9006, -3.1543, -3.2328, -3.3871, -3.4143, -3.4299, -3.8176, -3.8344, -3.8725, -3.9366, -4.0873, -4.2394, -4.2599, -4.3032, -4.3115, -4.3189, -4.3292, -4.3292, -4.3879, -4.4476, -4.4583, -4.4601, -4.5263, -4.5613, -4.5651, -4.585, -4.5897, -4.6101, -4.6421, -3.0841, -3.3589, -2.9015, -3.1725, -3.2223, -3.2936, -3.3169, -3.4471, -3.6042, -3.7389, -3.823, -3.8359, -3.8457, -4.0538, -4.0729, -4.1738, -4.2116, -4.2549, -3.2308, -4.4344, -4.4345, -4.7052, -4.7492, -4.8738, -1.7738, -4.9334, -5.6026, -2.7222, -4.043, -10.4106, -10.4106, -10.4106, -10.4106, -10.4106, -10.4106, -3.1787, -3.2018, -3.3835, -3.4416, -3.5079, -3.5426, -3.5488, -3.5987, -3.615, -3.6218, -3.6974, -3.7905, -3.8183, -3.9152, -3.9206, -3.9674, -3.9747, -4.0025, -4.0228, -4.0384, -4.083, -4.0935, -4.1094, -4.1352, -4.2705, -4.2758, -4.2944, -4.3133, -4.3998, -4.5572, -3.0624, -3.2645, -3.2953, -3.4195, -3.5242, -3.573, -3.5982, -3.6096, -3.7036, -3.7137, -3.8865, -3.9679, -4.0169, -4.046, -2.5345, -4.2, -4.2703, -4.3175, -4.3547, -4.368, -4.3993, -4.4039, -2.9461, -2.9679, -4.4601, -4.7908, -4.8316, -4.8994, -4.9115, -4.9687, -3.2671, -2.0419, -1.6924, -2.6966, -3.4582, -3.5477, -3.5538, -3.6996, -3.896, -3.9445, -3.9816, -4.0345, -4.0449, -4.4185, -1.9733, -10.2019, -10.2019, -10.2019, -10.2019, -10.2019, -10.2019, -10.2019, -10.2019, -10.2019, -10.2019, -10.2019, -10.2019, -10.2019, -10.2019, -10.2019, -10.2019, -10.2019, -10.2019, -10.2019, -10.2019, -10.2019, -10.2019, -10.2019, -10.2019, -10.2019, -10.2019, -10.2019, -10.2019, -10.2019, -10.2019, -10.2019, -10.2019, -10.2019, -10.2019, -2.9218, -3.1244, -3.218, -3.285, -3.3386, -3.4176, -3.5135, -3.5432, -3.6334, -3.6495, -3.6834, -3.6838, -3.6996, -3.7235, -3.7295, -3.7859, -3.793, -3.065, -3.937, -4.0156, -4.0417, -4.0863, -4.1107, -4.1945, -4.2411, -4.3878, -4.5146, -4.5394, -4.5423, -4.6836, -3.0656, -3.2521, -3.4091, -3.4524, -3.5346, -3.5581, -3.5866, -3.646, -3.7713, -3.8135, -3.8618, -3.8919, -3.9093, -3.977, -4.0931, -4.2722, -4.5526, -1.6366, -3.3275, -4.8725, -2.3447, -10.2915, -10.2915, -10.2915, -10.2915, -10.2915, -10.2915, -10.2915, -10.2915, -10.2915, -10.2915, -10.2915, -10.2915, -10.2915, -10.2915, -10.2915, -10.2915, -10.2915, -10.2915, -10.2915, -10.2915, -10.2915, -10.2915, -1.4848, -3.2698, -1.5985, -3.4778, -3.6111, -3.7785, -3.9032, -4.0921, -4.3075, -4.3541, -4.508, -4.6281, -4.7496, -2.2741, -10.2156, -10.2156, -10.2156, -10.2156, -10.2156, -10.2156, -10.2156, -10.2156, -10.2156, -10.2156, -10.2156, -10.2156, -10.2156, -10.2156, -10.2156, -10.2156, -10.2156, -10.2156, -10.2156, -10.2156, -10.2156, -10.2156, -10.2156, -10.2156, -10.2156, -10.2156, -10.2156, -10.2156, -10.2156, -10.2156, -10.2156, -10.2156, -10.2156, -10.2156, -1.542, -1.9529, -2.5974, -2.6698, -2.7302, -3.1616, -3.1697, -3.5572, -4.0577, -4.2777, -4.5772, -4.7793, -5.11, -5.1851, -10.2004, -10.2004, -10.2004, -10.2004, -10.2004, -10.2004, -10.2004, -10.2004, -10.2004, -10.2004, -10.2004, -10.2004, -10.2004, -10.2004, -10.2004, -10.2004, -10.2004, -10.2004, -10.2004, -10.2004, -10.2004, -10.2004, -10.2004, -10.2004, -10.2004, -10.2004, -10.2004, -10.2004, -10.2004, -10.2004, -10.2004, -10.2004, -3.3132, -3.3846, -3.46, -3.493, -3.5745, -3.6543, -2.6977, -3.9776, -4.1699, -4.271, -1.266, -4.9117, -5.0348, -2.4281, -10.0137, -10.0137, -10.0137, -10.0137, -10.0137, -10.0137, -10.0137, -10.0137, -10.0137, -10.0137, -10.0137, -10.0137, -10.0137, -10.0137, -10.0137, -10.0137, -10.0137, -10.0137, -10.0137, -10.0137, -10.0137, -10.0137, -10.0137, -10.0137, -10.0137, -10.0137, -10.0137, -10.0137, -10.0137, -10.0137, -10.0137, -10.0137, -10.0137, -10.0137, -10.0137, -3.1049, -3.2444, -3.2955, -3.5112, -3.5557, -3.6279, -3.6391, -3.6519, -3.6781, -3.6826, -3.8871, -3.9614, -4.1367, -4.1537, -4.4444, -4.5057, -1.5077, -9.8343, -9.8343, -9.8343, -9.8343, -9.8343, -9.8343, -9.8343, -9.8343, -9.8343, -9.8343, -9.8343, -9.8343, -9.8343, -9.8343, -9.8343, -9.8343, -9.8343, -9.8343, -9.8343, -9.8343, -9.8343, -9.8343, -9.8343, -9.8343, -9.8343, -9.8343, -3.2217, -3.3758, -3.6645, -1.445, -4.1948, -4.3754, -4.7392, -1.5634, -2.7708, -9.8899, -9.8899, -9.8899, -9.8899, -9.8899, -9.8899, -9.8899, -9.8899, -9.8899, -9.8899, -9.8899, -9.8899, -9.8899, -9.8899, -9.8899, -9.8899, -9.8899, -9.8899, -9.8899, -9.8899, -9.8899, -9.8899, -9.8899, -9.8899, -9.8899, -9.8899, -9.8899, -9.8899, -9.8899, -9.8899, -9.8899, -9.8899, -9.8899, -9.8899, -9.8899, -9.8899, -9.8899, -9.8899, -9.8899, -9.8899, -9.8899, -9.8899, -2.528, -2.5917, -2.6736, -3.4765, -4.2219, -1.877, -2.0468, -2.8128, -9.8031, -9.8031, -9.8031, -9.8031, -9.8031, -9.8031, -9.8031, -9.8031, -9.8031, -9.8031, -9.8031, -9.8031, -9.8031, -9.8031, -9.8031, -9.8031, -9.8031, -9.8031, -9.8031, -9.8031, -9.8031, -9.8031, -9.8031, -9.8031, -9.8031, -9.8031, -9.8031, -9.8031, -9.8031, -9.8031, -9.8031, -9.8031, -9.8031, -9.8031, -9.8031, -9.8031, -9.8031, -9.8031, -9.8031, -9.8031, -9.8031, -9.8031, -9.8031, -9.8031, -1.8978, -2.4096, -2.8023, -2.8394, -2.9158, -3.1598, -3.5078, -3.5144, -3.5276, -3.7083, -3.7811, -3.7853, -4.073, -4.3326, -4.4167, -9.9261, -9.9261, -9.9261, -9.9261, -9.9261, -9.9261, -9.9261, -9.9261, -9.9261, -9.9261, -9.9261, -9.9261, -9.9261, -9.9261, -9.9261, -9.9261, -9.9261, -9.9261, -9.9261, -9.9261, -9.9261, -9.9261, -9.9261, -9.9261, -9.9261, -9.9261, -9.9261, -9.9261, -9.9261, -9.9261, -2.4223, -2.685, -3.0323, -3.0629, -3.4321, -3.4368, -3.5148, -4.0863, -4.1929, -1.3771, -9.8524, -9.8524, -9.8524, -9.8524, -9.8524, -9.8524, -9.8524, -9.8524, -9.8524, -9.8524, -9.8524, -9.8524, -9.8524, -9.8524, -9.8524, -9.8524, -9.8524, -9.8524, -9.8524, -9.8524, -9.8524, -9.8524, -9.8524, -9.8524, -9.8524, -9.8524, -9.8524, -9.8524, -9.8524, -9.8524, -9.8524, -9.8524, -9.8524, -9.8524, -9.8524, -9.8524, -9.8524, -9.8524, -9.8524, -9.8524, -2.4659, -2.6771, -2.8254, -2.848, -1.6058, -4.0791, -4.1464, -4.7115, -9.5778, -9.5778, -9.5778, -9.5778, -9.5778, -9.5778, -9.5778, -9.5778, -9.5778, -9.5778, -9.5778, -9.5778, -9.5778, -9.5778, -9.5778, -9.5778, -9.5778, -9.5778, -9.5778, -9.5778, -9.5778, -9.5778, -9.5778, -9.5778, -9.5778, -9.5778, -9.5778, -9.5778, -9.5778, -9.5778, -9.5778, -9.5778, -9.5778, -9.5778, -9.5778, -9.5778, -9.5778, -9.5778, -9.5778, -9.5778, -9.5778, -9.5778, -9.5778, -9.5778, -2.1105, -2.185, -2.8056, -3.5976, -3.9348, -1.7645, -4.5189, -9.5984, -9.5984, -9.5984, -9.5984, -9.5984, -9.5984, -9.5984, -9.5984, -9.5984, -9.5984, -9.5984, -9.5984, -9.5984, -9.5984, -9.5984, -9.5984, -9.5984, -9.5984, -9.5984, -9.5984, -9.5984, -9.5984, -9.5984, -9.5984, -9.5984, -9.5984, -9.5984, -9.5984, -9.5984, -9.5984, -9.5984, -9.5984, -9.5984, -9.5984, -9.5984, -9.5984, -9.5984, -9.5984, -9.5984, -9.5984, -9.5984, -9.5984, -9.5984, -9.5984, -9.5984, -9.5984, -1.9071, -2.7442, -2.7856, -2.9182, -3.0565, -3.2746, -3.3818, -3.4865, -3.7077, -4.0603, -4.1724, -9.6232, -9.6232, -9.6232, -9.6232, -9.6232, -9.6232, -9.6232, -9.6232, -9.6232, -9.6232, -9.6232, -9.6232, -9.6232, -9.6232, -9.6232, -9.6232, -9.6232, -9.6232, -9.6232, -9.6232, -9.6232, -9.6232, -9.6232, -9.6232, -9.6232, -9.6232, -9.6232, -9.6232, -9.6232, -9.6232, -9.6232, -9.6232, -9.6232, -9.6232, -9.6232, -9.6232, -9.6232, -9.6232, -1.9805, -1.5453, -3.3229, -3.6574, -3.9035, -4.6637, -2.4378, -9.6128, -9.6128, -9.6128, -9.6128, -9.6128, -9.6128, -9.6128, -9.6128, -9.6128, -9.6128, -9.6128, -9.6128, -9.6128, -9.6128, -9.6128, -9.6128, -9.6128, -9.6128, -9.6128, -9.6128, -9.6128, -9.6128, -9.6128, -9.6128, -9.6128, -9.6128, -9.6128, -9.6128, -9.6128, -9.6128, -9.6128, -9.6128, -9.6128, -9.6128, -9.6128, -9.6128, -9.6128, -9.6128, -9.6128, -9.6128, -9.6128, -9.6128, -9.6128, -9.6128, -9.6128, -9.6128, -2.7584, -1.5426, -2.7888, -3.1687, -3.7005, -3.807, -3.8872, -4.1592, -4.9025, -9.4946, -9.4946, -9.4946, -9.4946, -9.4946, -9.4946, -9.4946, -9.4946, -9.4946, -9.4946, -9.4946, -9.4946, -9.4946, -9.4946, -9.4946, -9.4946, -9.4946, -9.4946, -9.4946, -9.4946, -9.4946, -9.4946, -9.4946, -9.4946, -9.4946, -9.4946, -9.4946, -9.4946, -9.4946, -9.4946, -9.4946, -9.4946, -9.4946, -9.4946, -9.4946, -9.4946, -9.4946, -9.4946, -9.4946, -9.4946, -9.4946, -9.4946, -2.3058, -2.7998, -3.0351, -3.2099, -3.7165, -1.6564, -9.4816, -9.4816, -9.4816, -9.4816, -9.4816, -9.4816, -9.4816, -9.4816, -9.4816, -9.4816, -9.4816, -9.4816, -9.4816, -9.4816, -9.4816, -9.4816, -9.4816, -9.4816, -9.4816, -9.4816, -9.4816, -9.4816, -9.4816, -9.4816, -9.4816, -9.4816, -9.4816, -9.4816, -9.4816, -9.4816, -9.4816, -9.4816, -9.4816, -9.4816, -9.4816, -9.4816, -9.4816, -9.4816, -9.4816, -9.4816, -9.4816, -9.4816, -9.4816, -9.4816, -9.4816, -9.4816, -9.4816, -9.4816, -9.4816, -9.4816, -1.5097, -1.7792, -9.3523, -9.3523, -9.3523, -9.3523, -9.3523, -9.3523, -9.3523, -9.3523, -9.3523, -9.3523, -9.3523, -9.3523, -9.3523, -9.3523, -9.3523, -9.3523, -9.3523, -9.3523, -9.3523, -9.3523, -9.3523, -9.3523, -9.3523, -9.3523, -9.3523, -9.3523, -9.3523, -9.3523, -9.3523, -9.3523, -9.3523, -9.3523, -9.3523, -9.3523, -9.3523, -9.3523, -9.3523, -9.3523, -9.3523, -9.3523, -9.3523, -9.3523, -9.3523, -9.3523, -9.3523, -9.3523, -9.3523, -9.3523, -9.3523, -9.3523, -9.3523, -9.3523, -9.3523, -9.3523, -9.3523, -9.3523, -2.2628, -2.9186, -3.0327, -3.738, -1.8356, -9.3515, -9.3515, -9.3515, -9.3515, -9.3515, -9.3515, -9.3515, -9.3515, -9.3515, -9.3515, -9.3515, -9.3515, -9.3515, -9.3515, -9.3515, -9.3515, -9.3515, -9.3515, -9.3515, -9.3515, -9.3515, -9.3515, -9.3515, -9.3515, -9.3515, -9.3515, -9.3515, -9.3515, -9.3515, -9.3515, -9.3515, -9.3515, -9.3515, -9.3515, -9.3515, -9.3515, -9.3515, -9.3515, -9.3515, -9.3515, -9.3515, -9.3515, -9.3515, -9.3515, -9.3515, -9.3515, -9.3515, -9.3515, -9.3515, -9.3515, -1.7328, -2.9225, -2.987, -3.0711, -3.3025, -3.3946, -3.7049, -9.4064, -9.4064, -9.4064, -9.4064, -9.4064, -9.4064, -9.4064, -9.4064, -9.4064, -9.4064, -9.4064, -9.4064, -9.4064, -9.4064, -9.4064, -9.4064, -9.4064, -9.4064, -9.4064, -9.4064, -9.4064, -9.4064, -9.4064, -9.4064, -9.4064, -9.4064, -9.4064, -9.4064, -9.4064, -9.4064, -9.4064, -9.4064, -9.4064, -9.4064, -9.4064, -9.4064, -9.4064, -9.4064, -9.4064, -9.4064, -9.4064, -9.4064, -9.4064, -9.4064, -9.4064, -9.4064, -2.0904, -2.5406, -2.7986, -2.865, -2.9365, -9.3254, -9.3254, -9.3254, -9.3254, -9.3254, -9.3254, -9.3254, -9.3254, -9.3254, -9.3254, -9.3254, -9.3254, -9.3254, -9.3254, -9.3254, -9.3254, -9.3254, -9.3254, -9.3254, -9.3254, -9.3254, -9.3254, -9.3254, -9.3254, -9.3254, -9.3254, -9.3254, -9.3254, -9.3254, -9.3254, -9.3254, -9.3254, -9.3254, -9.3254, -9.3254, -9.3254, -9.3254, -9.3254, -9.3254, -9.3254, -9.3254, -9.3254, -9.3254, -9.3254, -9.3254, -9.3254, -9.3254, -9.3254, -9.3254, -9.3254, -1.7438, -2.444, -3.2454, -3.5776, -3.6136, -3.6673, -3.8613, -9.372, -9.372, -9.372, -9.372, -9.372, -9.372, -9.372, -9.372, -9.372, -9.372, -9.372, -9.372, -9.372, -9.372, -9.372, -9.372, -9.372, -9.372, -9.372, -9.372, -9.372, -9.372, -9.372, -9.372, -9.372, -9.372, -9.372, -9.372, -9.372, -9.372, -9.372, -9.372, -9.372, -9.372, -9.372, -9.372, -9.372, -9.372, -9.372, -9.372, -9.372, -9.372, -9.372, -9.372, -9.372, -9.372, -1.9103, -2.454, -2.5633, -2.6749, -3.3482, -9.3943, -9.3943, -9.3943, -9.3943, -9.3943, -9.3943, -9.3943, -9.3943, -9.3943, -9.3943, -9.3943, -9.3943, -9.3943, -9.3943, -9.3943, -9.3943, -9.3943, -9.3943, -9.3943, -9.3943, -9.3943, -9.3943, -9.3943, -9.3943, -9.3943, -9.3943, -9.3943, -9.3943, -9.3943, -9.3943, -9.3943, -9.3943, -9.3943, -9.3943, -9.3943, -9.3943, -9.3943, -9.3943, -9.3943, -9.3943, -9.3943, -9.3943, -9.3943, -9.3943, -9.3943, -9.3943, -9.3943, -9.3943, -9.3943, -9.3943, -2.37, -2.7445, -3.1847, -3.2398, -3.511, -3.5488, -3.6919, -4.2353, -9.2675, -9.2675, -9.2675, -9.2675, -9.2675, -9.2675, -9.2675, -9.2675, -9.2675, -9.2675, -9.2675, -9.2675, -9.2675, -9.2675, -9.2675, -9.2675, -9.2675, -9.2675, -9.2675, -9.2675, -9.2675, -9.2675, -9.2675, -9.2675, -9.2675, -9.2675, -9.2675, -9.2675, -9.2675, -9.2675, -9.2675, -9.2675, -9.2675, -9.2675, -9.2675, -9.2675, -9.2675, -9.2675, -9.2675, -9.2675, -9.2675, -9.2675, -9.2675, -9.2675, -2.222, -2.7916, -3.0763, -3.773, -4.2649, -9.1495, -9.1495, -9.1495, -9.1495, -9.1495, -9.1495, -9.1495, -9.1495, -9.1495, -9.1495, -9.1495, -9.1495, -9.1495, -9.1495, -9.1495, -9.1495, -9.1495, -9.1495, -9.1495, -9.1495, -9.1495, -9.1495, -9.1495, -9.1495, -9.1495, -9.1495, -9.1495, -9.1495, -9.1495, -9.1495, -9.1495, -9.1495, -9.1495, -9.1495, -9.1495, -9.1495, -9.1495, -9.1495, -9.1495, -9.1495, -9.1495, -9.1495, -9.1495, -9.1495, -9.1495, -9.1495, -9.1495, -9.1495, -9.1495, -9.1495, -2.244, -1.7716, -9.1815, -9.1815, -9.1815, -9.1815, -9.1815, -9.1815, -9.1815, -9.1815, -9.1815, -9.1815, -9.1815, -9.1815, -9.1815, -9.1815, -9.1815, -9.1815, -9.1815, -9.1815, -9.1815, -9.1815, -9.1815, -9.1815, -9.1815, -9.1815, -9.1815, -9.1815, -9.1815, -9.1815, -9.1815, -9.1815, -9.1815, -9.1815, -9.1815, -9.1815, -9.1815, -9.1815, -9.1815, -9.1815, -9.1815, -9.1815, -9.1815, -9.1815, -9.1815, -9.1815, -9.1815, -9.1815, -9.1815, -9.1815, -9.1815, -9.1815, -9.1815, -9.1815, -9.1815, -9.1815, -9.1815, -9.1815, -1.8837, -2.4746, -9.1278, -9.1278, -9.1278, -9.1278, -9.1278, -9.1278, -9.1278, -9.1278, -9.1278, -9.1278, -9.1278, -9.1278, -9.1278, -9.1278, -9.1278, -9.1278, -9.1278, -9.1278, -9.1278, -9.1278, -9.1278, -9.1278, -9.1278, -9.1278, -9.1278, -9.1278, -9.1278, -9.1278, -9.1278, -9.1278, -9.1278, -9.1278, -9.1278, -9.1278, -9.1278, -9.1278, -9.1278, -9.1278, -9.1278, -9.1278, -9.1278, -9.1278, -9.1278, -9.1278, -9.1278, -9.1278, -9.1278, -9.1278, -9.1278, -9.1278, -9.1278, -9.1278, -9.1278, -9.1278, -9.1278, -9.1278, -2.5296, -2.8583, -2.949, -9.0683, -9.0683, -9.0683, -9.0683, -9.0683, -9.0683, -9.0683, -9.0683, -9.0683, -9.0683, -9.0683, -9.0683, -9.0683, -9.0683, -9.0683, -9.0683, -9.0683, -9.0683, -9.0683, -9.0683, -9.0683, -9.0683, -9.0683, -9.0683, -9.0683, -9.0683, -9.0683, -9.0683, -9.0683, -9.0683, -9.0683, -9.0683, -9.0683, -9.0683, -9.0683, -9.0683, -9.0683, -9.0683, -9.0683, -9.0683, -9.0683, -9.0683, -9.0683, -9.0683, -9.0683, -9.0683, -9.0683, -9.0683, -9.0683, -9.0683, -9.0683, -9.0683, -9.0683, -9.0683, -2.1052, -2.2347, -9.1182, -9.1182, -9.1182, -9.1182, -9.1182, -9.1182, -9.1182, -9.1182, -9.1182, -9.1182, -9.1182, -9.1182, -9.1182, -9.1182, -9.1182, -9.1182, -9.1182, -9.1182, -9.1182, -9.1182, -9.1182, -9.1182, -9.1182, -9.1182, -9.1182, -9.1182, -9.1182, -9.1182, -9.1182, -9.1182, -9.1182, -9.1182, -9.1182, -9.1182, -9.1182, -9.1182, -9.1182, -9.1182, -9.1182, -9.1182, -9.1182, -9.1182, -9.1182, -9.1182, -9.1182, -9.1182, -9.1182, -9.1182, -9.1182, -9.1182, -9.1182, -9.1182, -9.1182, -9.1182, -9.1182, -9.1182, -2.2092, -2.6721, -9.0555, -9.0555, -9.0555, -9.0555, -9.0555, -9.0555, -9.0555, -9.0555, -9.0555, -9.0555, -9.0555, -9.0555, -9.0555, -9.0555, -9.0555, -9.0555, -9.0555, -9.0555, -9.0555, -9.0555, -9.0555, -9.0555, -9.0555, -9.0555, -9.0555, -9.0555, -9.0555, -9.0555, -9.0555, -9.0555, -9.0555, -9.0555, -9.0555, -9.0555, -9.0555, -9.0555, -9.0555, -9.0555, -9.0555, -9.0555, -9.0555, -9.0555, -9.0555, -9.0555, -9.0555, -9.0555, -9.0555, -9.0555, -9.0555, -9.0555, -9.0555, -9.0555, -9.0555, -9.0555, -9.0555, -9.0555, -2.2532, -3.0714, -9.0226, -9.0226, -9.0226, -9.0226, -9.0226, -9.0226, -9.0226, -9.0226, -9.0226, -9.0226, -9.0226, -9.0226, -9.0226, -9.0226, -9.0226, -9.0226, -9.0226, -9.0226, -9.0226, -9.0226, -9.0226, -9.0226, -9.0226, -9.0226, -9.0226, -9.0226, -9.0226, -9.0226, -9.0226, -9.0226, -9.0226, -9.0226, -9.0226, -9.0226, -9.0226, -9.0226, -9.0226, -9.0226, -9.0226, -9.0226, -9.0226, -9.0226, -9.0226, -9.0226, -9.0226, -9.0226, -9.0226, -9.0226, -9.0226, -9.0226, -9.0226, -9.0226, -9.0226, -9.0226, -9.0226, -9.0226, -2.104, -4.1076, -9.0074, -9.0074, -9.0074, -9.0074, -9.0074, -9.0074, -9.0074, -9.0074, -9.0074, -9.0074, -9.0074, -9.0074, -9.0074, -9.0074, -9.0074, -9.0074, -9.0074, -9.0074, -9.0074, -9.0074, -9.0074, -9.0074, -9.0074, -9.0074, -9.0074, -9.0074, -9.0074, -9.0074, -9.0074, -9.0074, -9.0074, -9.0074, -9.0074, -9.0074, -9.0074, -9.0074, -9.0074, -9.0074, -9.0074, -9.0074, -9.0074, -9.0074, -9.0074, -9.0074, -9.0074, -9.0074, -9.0074, -9.0074, -9.0074, -9.0074, -9.0074, -9.0074, -9.0074, -9.0074, -9.0074, -9.0074, -8.8587, -8.8587, -8.8587, -8.8587, -8.8587, -8.8587, -8.8587, -8.8587, -8.8587, -8.8587, -8.8587, -8.8587, -8.8587, -8.8587, -8.8587, -8.8587, -8.8587, -8.8587, -8.8587, -8.8587, -8.8587, -8.8587, -8.8587, -8.8587, -8.8587, -8.8587, -8.8587, -8.8587, -8.8587, -8.8587, -8.8587, -8.8587, -8.8587, -8.8587, -8.8587, -8.8587, -8.8587, -8.8587, -8.8587, -8.8587, -8.8587, -8.8587, -8.8587, -8.8587, -8.8587, -8.8587, -8.8587, -8.8587, -8.8587, -8.8587, -8.8587, -8.8587, -8.8587, -8.8587, -8.8587, -8.8587, -8.8587, -8.8587, -8.8587, -8.8587, -8.8587, -8.8587, -8.8587, -8.8587, -8.8587, -8.8587, -8.8587, -8.8587, -8.8587, -8.8587, -8.8587, -8.8587, -8.8587, -8.8587, -8.8587, -8.8587, -8.8587, -8.8587, -8.8587, -8.8587, -8.8587, -8.8587, -8.8587, -8.8587, -8.8587, -8.8587, -8.8587, -8.8587, -8.8587, -8.8587, -8.8587, -8.8587, -8.8587, -8.8587, -8.8587, -8.8587, -8.8587, -8.8587, -8.8587, -8.8587, -8.8587, -8.8587, -8.8587, -8.8587, -8.8587, -8.8587, -8.8587, -8.8587, -8.8587, -8.8587, -8.8587, -8.8587, -8.8587, -8.8587, -8.8587, -8.8587, -8.8587, -8.8587, -8.8587, -8.8587, -8.8587, -8.8587, -8.8587, -8.8587, -8.8587, -8.8587, -8.8587, -8.8587, -8.8587, -8.8587, -8.8587, -8.8587, -8.8587, -8.8587, -8.8587, -8.8587, -8.8587, -8.8587, -8.8587, -8.8587, -8.8587, -8.8587, -8.8587, -8.8587, -8.8587, -8.8587, -8.8587, -8.8587, -8.8587, -8.8587, -8.8587, -8.8587, -8.8587, -8.8587, -8.8587, -8.8587, -8.8587, -8.8587, -8.8587, -8.8587, -8.8587, -8.8587, -8.8587, -8.8587, -8.8587, -8.8587, -8.8587, -8.8587, -8.8587, -8.8587, -8.8587, -8.8587, -8.8587, -8.8587, -8.8587, -8.8587, -8.8587, -8.8587, -8.8587, -8.8587, -8.8587, -8.8587, -8.8587, -8.8587, -8.8587, -8.8587, -8.8587, -8.8587, -8.8587, -8.8587, -8.8587, -8.8587, -8.8587, -8.8587, -8.8587, -8.8587, -8.8587, -8.8587, -8.8587, -8.8587, -8.8587, -8.8587, -8.8587, -8.8587, -8.8587, -8.8587, -8.8587, -8.8587, -8.8587, -8.8587, -8.8587, -8.8587, -8.8587, -8.8587, -8.8587, -8.8587, -8.8587, -8.8587, -8.8587, -8.8587, -8.8587, -8.8587, -8.8587, -8.8587, -8.8587, -8.8587, -8.8587, -8.8587, -8.8587, -8.8587, -8.8587, -8.8587, -8.8587, -8.8587, -8.8587, -8.8587, -8.8587, -8.8587, -8.8587, -8.8587, -8.8587, -8.8587, -8.8587, -8.8587, -8.8587, -8.8587, -8.8587, -8.8587, -8.8587, -8.8587, -8.8587, -8.8587, -8.8587, -8.8587, -8.8587, -8.8587, -8.8587, -8.8587, -8.8587, -8.8587, -8.8587, -8.8587, -8.8587, -8.8587, -8.8587, -8.8587, -8.8587, -8.8587, -8.8587, -8.8587, -8.8587, -8.8587, -8.8587, -8.8587, -8.8587, -8.8587, -8.8587, -8.8587, -8.8587, -8.8587, -8.8587, -8.8587, -8.8587, -8.8587, -8.8587, -8.8587, -8.8587, -8.8587, -8.8587, -8.8587, -8.8587, -8.8587, -8.8587, -8.8587, -8.8587, -8.8587, -8.8587, -8.8587, -8.8587, -8.8587, -8.8587, -8.8587, -8.8587, -8.8587, -8.8587, -8.8587, -8.8587, -8.8587, -8.8587, -8.8587, -8.8587, -8.8587, -8.8587, -8.8587, -8.8587, -8.8587, -8.8587, -8.8587, -8.8587, -8.8587, -8.8587, -8.8587, -8.8587, -8.8587, -8.8587, -8.8587, -8.8587, -8.8587, -8.8587, -8.8587, -8.8587, -8.8587, -8.8587, -8.8587, -8.8587, -8.8587, -8.8587, -8.8587, -8.8587, -8.8587, -8.8587, -8.8587, -8.8587, -8.8587, -8.8587, -8.8587, -8.8587, -8.8587, -8.8587, -8.8587, -8.8587, -8.8587, -8.8587, -8.8587, -8.8587, -8.8587, -8.8587, -8.8587, -8.8587, -8.8587, -8.8587, -8.8587, -8.8587, -8.8587, -8.8587, -8.8587, -8.8587, -8.8587, -8.8587, -8.8587, -8.8587, -8.8587, -8.8587, -8.8587, -8.8587, -8.8587, -8.8587, -8.8587, -8.8587, -8.8587, -8.8587, -8.8587, -8.8587, -8.8587, -8.8587, -8.8587, -8.8587, -8.8587, -8.8587, -8.8587, -8.8587, -8.8587, -8.8587, -8.8587, -8.8587, -8.8587, -8.8587, -8.8587, -8.8587, -8.8587, -8.8587, -8.8587, -8.8587, -8.8587, -8.8587, -8.8587, -8.8587, -8.8587, -8.8587, -8.8587, -8.8587, -8.8587, -8.8587, -8.8587, -8.8587, -8.8587, -8.8587, -8.8587, -8.8587, -8.8587, -8.8587, -8.8587, -8.8587, -8.8587, -8.8587, -8.8587, -8.8587, -8.8587, -8.8587, -8.8587, -8.8587, -8.8587, -8.8587, -8.8587, -8.8587, -8.8587, -8.8587, -8.8587, -8.8587, -8.8587, -8.8587, -8.8587, -8.8587, -8.8587, -8.8587, -8.8587, -8.8587, -8.8587, -8.8587, -8.8587, -8.8587, -8.8587, -8.8587, -8.8587, -8.8587, -8.8587, -8.8587, -8.8587, -8.8587, -8.8587, -8.8587, -8.8587, -8.8587, -8.8587, -8.8587, -8.8587, -8.8587, -8.8587, -8.8587, -8.8587, -8.8587, -8.8587, -8.8587, -8.8587, -8.8587, -8.8587, -8.8587, -8.8587, -8.8587, -8.8587, -8.8587, -8.8587, -8.8587, -8.8587, -8.8587, -8.8587, -8.8587, -8.8587, -8.8587, -8.8587, -8.8587, -8.8587, -8.8587, -8.8587, -8.8587, -8.8587, -8.8587, -8.8587, -8.8587, -8.8587, -8.8587, -8.8587, -8.8587, -8.8587, -8.8587, -8.8587, -8.8587, -8.8587, -8.8587, -8.8587, -8.8587, -8.8587, -8.8587, -8.8587, -8.8587, -8.8587, -8.8587, -8.8587, -8.8587, -8.8587, -8.8587, -8.8587, -8.8587, -8.8587, -8.8587, -8.8587, -8.8587, -8.8587, -8.8587, -8.8587, -8.8587, -8.8587, -8.8587, -8.8587, -8.8587, -8.8587, -8.8587, -8.8587, -8.8587, -8.8587, -8.8587, -8.8587, -8.8587, -8.8587, -8.8587, -8.8587, -8.8587, -8.8587, -8.8587, -8.8587, -8.8587, -8.8587, -8.8587, -8.8587, -8.8587, -8.8587, -8.8587, -8.8587, -8.8587, -8.8587, -8.8587, -8.8587, -8.8587, -8.8587, -8.8587, -8.8587, -8.8587, -8.8587, -8.8587, -8.8587, -8.8587, -8.8587, -8.8587, -8.8587, -8.8587, -8.8587, -8.8587, -8.8587, -8.8587, -8.8587, -8.8587, -8.8587, -8.8587, -8.8587, -8.8587, -8.8587, -8.8587, -8.8587, -8.8587, -8.8587, -8.8587, -8.8587, -8.8587, -8.8587, -8.8587, -8.8587, -8.8587, -8.8587, -8.8587, -8.8587, -8.8587, -8.8587, -8.8587, -8.8587, -8.8587, -8.8587, -8.8587, -8.8587, -8.8587, -8.8587, -8.8587, -8.8587, -8.8587, -8.8587, -8.8587, -8.8587, -8.8587, -8.8587, -8.8587, -8.8587, -8.8587, -8.8587, -8.8587, -8.8587, -8.8587, -8.8587, -8.8587, -8.8587, -8.8587, -8.8587, -8.8587, -8.8587, -8.8587, -8.8587, -8.8587, -8.8587, -8.8587, -8.8587, -8.8587, -8.8587, -8.8587, -8.8587, -8.8587, -8.8587, -8.8587, -8.8587, -8.8587, -8.8587, -8.8587, -8.8587, -8.8587, -8.8587, -8.8587, -8.8587, -8.8587, -8.8587, -8.8587, -8.8587, -8.8587, -8.8587]}, \"token.table\": {\"Topic\": [34, 4, 26, 15, 56, 8, 27, 1, 2, 6, 8, 10, 13, 10, 1, 7, 7, 1, 32, 18, 1, 2, 8, 29, 10, 3, 4, 5, 13, 14, 24, 44, 32, 21, 36, 27, 30, 39, 46, 2, 9, 34, 15, 18, 26, 31, 1, 7, 7, 2, 4, 6, 9, 2, 17, 2, 46, 49, 4, 34, 18, 1, 4, 5, 1, 15, 43, 7, 1, 2, 6, 7, 9, 7, 19, 14, 31, 39, 27, 24, 5, 29, 9, 30, 26, 15, 30, 1, 36, 1, 2, 8, 36, 1, 32, 13, 4, 16, 14, 32, 25, 4, 7, 22, 1, 18, 4, 28, 2, 15, 22, 22, 2, 3, 4, 5, 6, 14, 24, 1, 14, 1, 5, 14, 24, 3, 14, 15, 14, 4, 30, 39, 3, 12, 33, 1, 3, 4, 15, 33, 8, 2, 6, 1, 30, 28, 1, 2, 7, 31, 18, 26, 34, 31, 2, 4, 12, 21, 9, 1, 8, 51, 4, 25, 48, 23, 26, 41, 51, 1, 2, 19, 11, 6, 2, 29, 23, 25, 6, 36, 53, 3, 4, 2, 20, 38, 20, 21, 5, 23, 5, 14, 2, 33, 38, 36, 12, 1, 4, 9, 20, 20, 1, 4, 20, 16, 15, 3, 1, 2, 7, 12, 4, 47, 1, 2, 48, 30, 23, 3, 12, 31, 2, 3, 13, 15, 3, 4, 12, 22, 2, 12, 1, 2, 12, 39, 34, 43, 1, 2, 10, 17, 1, 2, 10, 2, 22, 5, 1, 5, 17, 1, 21, 13, 12, 21, 4, 2, 23, 42, 3, 1, 2, 20, 2, 6, 20, 12, 13, 21, 2, 14, 19, 19, 19, 48, 15, 6, 10, 43, 10, 38, 1, 2, 4, 13, 8, 2, 6, 36, 1, 9, 1, 2, 1, 5, 5, 29, 16, 31, 27, 27, 1, 24, 1, 38, 53, 23, 6, 26, 22, 15, 2, 17, 1, 2, 7, 20, 3, 1, 2, 3, 10, 11, 1, 2, 3, 10, 11, 1, 2, 4, 5, 7, 5, 1, 9, 37, 1, 17, 39, 1, 2, 6, 6, 1, 2, 6, 3, 5, 18, 3, 9, 15, 8, 32, 54, 4, 5, 45, 1, 4, 5, 9, 1, 5, 6, 1, 5, 56, 5, 23, 4, 22, 1, 2, 6, 1, 2, 6, 29, 7, 4, 15, 23, 2, 3, 49, 1, 2, 5, 1, 4, 7, 20, 21, 23, 21, 8, 1, 11, 1, 14, 1, 14, 1, 2, 10, 9, 15, 3, 4, 11, 12, 3, 1, 2, 3, 10, 10, 2, 3, 33, 33, 1, 2, 29, 20, 6, 49, 3, 4, 5, 14, 14, 18, 17, 4, 8, 14, 2, 4, 6, 1, 38, 38, 20, 4, 12, 12, 55, 9, 5, 44, 44, 16, 1, 3, 45, 23, 26, 20, 11, 22, 1, 2, 8, 1, 2, 3, 5, 13, 13, 3, 19, 51, 1, 11, 11, 19, 32, 1, 8, 13, 34, 19, 1, 2, 3, 11, 27, 17, 1, 11, 18, 1, 22, 1, 22, 43, 3, 46, 9, 1, 22, 42, 2, 20, 18, 10, 12, 30, 49, 1, 8, 13, 18, 1, 39, 17, 21, 8, 36, 3, 1, 4, 2, 4, 5, 9, 9, 32, 30, 6, 33, 29, 11, 1, 41, 1, 41, 20, 39, 3, 8, 10, 32, 1, 6, 5, 29, 60, 1, 6, 1, 2, 16, 3, 7, 8, 9, 2, 6, 9, 13, 4, 9, 15, 5, 5, 9, 13, 1, 2, 46, 4, 22, 14, 13, 1, 30, 11, 7, 3, 4, 25, 1, 4, 5, 19, 2, 4, 11, 10, 2, 16, 34, 3, 12, 25, 30, 31, 15, 2, 30, 20, 7, 6, 3, 41, 1, 2, 25, 31, 1, 2, 5, 13, 12, 1, 2, 10, 13, 38, 23, 31, 3, 4, 4, 5, 9, 55, 3, 4, 5, 9, 62, 8, 8, 1, 28, 25, 5, 12, 25, 35, 32, 1, 10, 13, 28, 19, 19, 2, 3, 14, 31, 23, 33, 1, 2, 6, 2, 6, 9, 63, 27, 24, 22, 26, 6, 59, 1, 2, 13, 19, 19, 1, 2, 25, 26, 46, 1, 4, 7, 20, 1, 2, 19, 40, 4, 24, 24, 24, 2, 24, 15, 50, 2, 8, 48, 4, 5, 28, 2, 5, 14, 3, 1, 2, 2, 31, 16, 1, 2, 8, 20, 23, 1, 18, 4, 2, 16, 1, 20, 24, 26, 1, 1, 2, 26, 1, 1, 1, 2, 2, 2, 20, 2, 1, 20, 23, 1, 12, 37, 2, 11, 40, 13, 46, 54, 56, 1, 2, 13, 1, 2, 10, 11, 19, 20, 25, 1, 10, 28, 39, 31, 36, 1, 7, 1, 2, 17, 21, 3, 6, 13, 31, 1, 17, 1, 2, 1, 15, 8, 6, 9, 21, 31, 4, 27, 18, 21, 1, 2, 7, 29, 37, 27, 32, 2, 36, 32, 14, 47, 17, 32, 21, 25, 4, 9, 9, 28, 33, 7, 15, 11, 26, 1, 2, 7, 24, 4, 7, 3, 15, 3, 16, 3, 7, 23, 17, 2, 3, 4, 5, 11, 12, 15, 26, 4, 17, 14, 11, 34, 9, 33, 11, 18, 20, 9, 51, 3, 4, 33, 29, 9, 17, 1, 2, 7, 42, 9, 30, 4, 12, 36, 36, 56, 32, 34, 3, 6, 9, 1, 5, 47, 1, 47, 22, 2, 53, 2, 41, 1, 2, 28, 1, 2, 4, 5, 7, 14, 4, 14, 39, 14, 34, 10, 19, 15, 18, 17, 23, 2, 7, 2, 20, 3, 58, 22, 5, 14, 11, 1, 2, 8, 39, 7, 1, 2, 4, 35, 48, 1, 2, 6, 8, 57, 23, 16, 10, 12, 28, 31, 17, 31, 18, 1, 2, 11, 17, 57, 11, 7, 27, 54, 43, 13, 24, 8, 20, 11, 1, 2, 8, 20, 1, 2, 3, 15, 1, 9, 1, 9, 4, 9, 30, 1, 28, 1, 13, 20, 1, 7, 18, 27, 34, 54, 30, 31, 13, 34, 23, 16, 10, 23, 24, 1, 2, 20, 6, 32, 30, 21, 34, 12, 34, 22, 4, 1, 4, 7, 4, 4, 35, 4, 4, 9, 6, 14, 25, 24, 3, 1, 3, 36, 1, 2, 43, 12, 1, 29, 38, 6, 22, 22, 22, 24, 1, 21, 15, 5, 9, 8, 3, 8, 1, 2, 41, 39, 21, 56, 23, 3, 5, 1, 13, 1, 2, 8, 11, 1, 15, 16, 1, 2, 3, 14, 3, 50, 52, 1, 16, 42, 1, 8, 1, 2, 7, 32, 32, 12, 42, 1, 2, 13, 1, 2, 17, 31, 2, 45, 1, 35, 1, 6, 1, 2, 7, 32, 45, 28, 1, 2, 30, 20, 2, 24, 1, 6, 1, 11, 1, 5, 14, 6, 2, 3, 4, 5, 9, 16, 34, 1, 2, 6, 4, 1, 2, 5, 14, 30, 4, 14, 1, 16, 1, 8, 5, 11, 3, 25, 1, 10, 35, 39, 34, 2, 5, 7, 20, 18, 7, 29, 4, 5, 13, 4, 7, 42, 2, 62, 7, 42, 42, 34, 3, 16, 11, 2, 7, 20, 31, 10, 1, 19, 43, 1, 11, 4, 24, 1, 2, 3, 13, 29, 3, 25, 27, 2, 4, 7, 1, 2, 2, 3, 13, 38, 15, 2, 3, 4, 9, 15, 30, 1, 14, 13, 34, 25, 28, 10, 26, 29, 4, 48, 2, 1, 2, 8, 13, 19, 1, 6, 1, 9, 22, 22, 52, 4, 27, 38, 3, 3, 1, 22, 1, 22, 53, 60, 26, 4, 8, 10, 30, 60, 40, 4, 25, 37, 11, 55, 21, 35, 21, 27, 11, 19, 4, 23, 17, 45, 3, 5, 2, 5, 1, 1, 26, 1, 6, 7, 40, 2, 2, 2, 1, 2, 11, 1, 2, 7, 46, 1, 2, 10, 5, 24, 47, 1, 17, 3, 4, 1, 6, 9, 1, 7, 52, 24, 19, 1, 21, 2, 24, 6, 9, 11, 26, 56, 19, 1, 2, 4, 26, 27, 1, 8, 6, 3, 14, 17, 1, 2, 13, 17, 42, 4, 6, 19, 17, 22, 28, 4, 15, 32, 20, 24, 32, 1, 2, 29, 26, 20, 20, 1, 16, 19, 12, 8, 1, 2, 4, 1, 2, 19, 3, 16, 1, 2, 3, 44, 1, 2, 4, 7, 43, 4, 9, 48, 57, 49, 1, 2, 4, 7, 17, 1, 9, 30, 2, 8, 1, 2, 6, 64, 21, 1, 11, 2, 35, 1, 2, 7, 27, 13, 33, 4, 5, 25, 5, 27, 1, 2, 5, 14, 4, 9, 27, 3, 2, 25, 5, 5, 46, 1, 7, 11, 29, 1, 2, 5, 14, 46, 17, 16, 1, 9, 4, 9, 51, 30, 3, 21, 2, 4, 18, 28, 2, 18, 14, 2, 8, 21, 42, 8, 19, 42, 29, 28, 12, 4, 48, 1, 5, 9, 11, 3, 3, 15, 3, 4, 16, 8, 11, 8, 8, 48, 19, 31, 33, 12, 3, 12, 11, 1, 2, 8, 1, 4, 9, 1, 25, 18, 3, 9, 2, 3, 12, 12, 3, 9, 2, 3, 12, 24, 37, 1, 9, 1, 2, 4, 9, 32, 1, 29, 35, 2, 4, 6, 2, 3, 4, 6, 6, 18, 8, 35, 1, 4, 7, 3, 7, 29, 47, 47, 8, 19, 18, 37, 1, 8, 28, 28, 18, 18, 12, 12, 2, 3, 4, 5, 13, 30, 2, 18, 3, 16, 8, 1, 8, 1, 8, 10, 1, 32, 8, 12, 52, 11, 37, 15, 1, 2, 6, 1, 2, 29, 26, 43, 16, 16, 2, 23, 7, 32, 2, 2, 6, 13, 14, 14, 15, 8, 6, 6, 1, 23, 39, 9, 15, 11, 3, 29, 3, 4, 7, 1, 5, 9, 1, 2, 6, 13, 29, 21, 27, 5, 1, 9, 4, 1, 6, 40, 1, 13, 14, 31, 15, 37, 1, 6, 7, 40, 8, 2, 4, 5, 29, 9, 31, 1, 31, 15, 1, 2, 31, 1, 2, 6, 44, 9, 41, 41, 34, 16, 8, 18, 11, 3, 29, 3, 5, 6, 14, 1, 6, 14, 2, 6, 2, 3, 4, 5, 10, 11, 12, 5, 1, 2, 7, 27, 21, 35, 3, 15, 16, 34, 10, 2, 3, 4, 5, 8, 11, 7, 34, 22, 34, 20, 37, 23, 2, 4, 3, 29, 3, 4, 4, 7, 19, 54, 2, 26, 2, 7, 55, 7, 18, 22, 3, 5, 31, 4, 5, 9, 15, 8, 23, 17, 1, 2, 3, 2, 6, 17, 1, 19, 1, 8, 13, 17, 18, 42, 8, 31, 37, 12, 13, 29, 13, 13, 2, 8, 11, 12, 3, 4, 6, 1, 2, 5, 13, 5, 8, 1, 14, 1, 2, 10, 32, 32, 32, 7, 44, 19, 2, 6, 28, 32, 23, 34, 40, 2, 3, 8, 32, 1, 2, 10, 26, 45, 44, 12, 55, 23, 19, 5, 36, 29, 16, 61, 42, 1, 1, 2, 8, 54, 26, 34, 38, 16, 12, 34, 27, 7, 5, 24, 4, 1, 5, 59, 1, 1, 28, 25, 52, 2, 37, 37, 21, 9, 23, 24, 3, 4, 4, 2, 3, 4, 5, 5, 4, 9, 37, 16, 24, 9, 5, 12, 4, 9, 18, 16, 1, 2, 7, 1, 21, 1, 2, 6, 20, 28, 20, 42, 33, 1, 35, 18, 34, 3, 33, 5, 12, 2, 3, 15, 40, 1, 20, 14, 16, 1, 2, 35, 16, 1, 35, 35, 3, 25, 25, 2, 4, 6, 7, 2, 3, 4, 10, 15, 19, 15, 8, 15, 11, 15, 3, 4, 11, 4, 22, 9, 30, 26, 2, 1, 17, 46, 4, 30, 1, 1, 2, 3, 26, 1, 22, 5, 27, 35, 39, 2, 4, 6, 12, 13, 15, 45, 29, 8, 8, 15, 1, 2, 8, 1, 2, 19, 36, 13, 56, 13, 20, 7, 32, 42, 23, 14, 31, 26, 17, 24, 21, 12, 1, 2, 16, 30, 17, 1, 2, 5, 7, 25, 29, 2, 1, 28, 18, 6, 46, 8, 35, 35, 44, 16, 57, 31, 34, 34, 38, 58, 12, 22, 14, 13, 21, 1, 2, 12, 13, 22, 35, 61, 17, 17, 3, 5, 17, 29, 17, 17, 17, 26, 29, 18, 16, 63, 5, 34, 30, 21, 4, 11, 5, 56, 49, 35, 1, 2, 40, 21, 18, 25, 34, 5, 22, 6, 1, 2, 5, 13, 14, 29, 3, 4, 2, 3, 4, 5, 1, 2, 6, 24, 12, 14, 1, 2, 10, 11, 28, 1, 2, 17, 3, 35, 10, 16, 2, 4, 14, 16, 1, 2, 4, 7, 9, 26, 3, 4, 21, 53, 1, 2, 7, 13, 17, 13, 18, 17, 32, 32, 4, 19, 32, 35, 23, 10, 7, 1, 4, 7, 3, 5, 15, 2, 6, 43, 57, 25, 64, 28, 1, 2, 17, 23, 18, 19, 16, 1, 28, 31, 1, 22, 30, 27, 1, 2, 8, 39, 39, 14, 1, 2, 7, 20, 1, 2, 7, 31, 1, 37, 17, 18, 25, 3, 10, 10, 4, 5, 11, 10, 10, 1, 2, 25, 19, 1, 2, 1, 38, 38, 19, 5, 10, 10, 1, 10, 2, 4, 5, 7, 52, 6, 52, 4, 6, 1, 22, 39, 3, 11, 54, 4, 17, 7], \"Freq\": [0.9347544675403117, 0.9240134204613267, 0.9039572791679883, 0.8754157819413005, 0.9043660998518596, 0.9095577516920861, 0.870824642321722, 0.6450101978940027, 0.18428862796971507, 0.15718735915063933, 0.872108350122661, 0.7957394767753339, 0.7445631560178426, 0.8714293033519456, 0.26095695783510037, 0.7034491906859228, 0.85118511546991, 0.17369715798546642, 0.7719873688242952, 0.8931574558447742, 0.8144933628590052, 0.16690437763504204, 0.013352350210803363, 0.7971972608600256, 0.7830555856956476, 0.15871550424380235, 0.0835344759177907, 0.10024137110134884, 0.13365516146846512, 0.37590514163005817, 0.12530171387668607, 0.8168169078383385, 0.9412652870086627, 0.940563941529423, 0.9826635407775787, 0.947211276591146, 0.8040381362954292, 0.8594993313115818, 0.9293721861640099, 0.9573327485597724, 0.7818342682814478, 0.8432210816895603, 0.9189323272423161, 0.7703813224811381, 0.7808651499307996, 0.8616588665435776, 0.21902049163454781, 0.7741615397379562, 0.9303636042033063, 0.3756997975517436, 0.08091995639576016, 0.30633983492680633, 0.22541987853104614, 0.5776409375898778, 0.37768830534722775, 0.9617535168005222, 0.9280010062353284, 0.9411771392546323, 0.9378262935709025, 0.8890945058371506, 0.9192007674354246, 0.20740426445763846, 0.5185106611440962, 0.24511413072266364, 0.9924093947959974, 0.8467941191065437, 0.8975136679687252, 0.9223948155096318, 0.7244282841457865, 0.038223602932315366, 0.12195149506976807, 0.09464892154668567, 0.018201715682054937, 0.8314545878352068, 0.7841172992429299, 0.7699509609783203, 0.8600314212269673, 0.8828034392201247, 0.8607198561007018, 0.768775169744641, 0.8694949509389561, 0.8088135859253118, 0.8132585924472187, 0.8980268587019411, 0.7944933709130444, 0.8916613387001291, 0.8180375544134686, 0.0817828739380382, 0.8996116133184201, 0.7957671744756741, 0.018602349533197577, 0.028936988162751788, 0.15088572399149147, 0.5103284305381149, 0.4484704389577374, 0.7666677296463775, 0.9479008974727293, 0.8591641130048485, 0.8166945703400962, 0.8157030600188304, 0.8516868026248375, 0.27542376079635, 0.6688862762197071, 0.8500251812529457, 0.9823579891163551, 0.9087137428869191, 0.019512454738573305, 0.9561102821900919, 0.18058515756381205, 0.6470968146036599, 0.13543886817285905, 0.8977031011591843, 0.04018781139792782, 0.03215024911834226, 0.06430049823668452, 0.08037562279585564, 0.05626293595709895, 0.5224415481730617, 0.1768263701508824, 0.33991728287220113, 0.619849162884602, 0.43133788570740766, 0.05391723571342596, 0.47177581249247713, 0.7694416584153332, 0.06579735829045312, 0.7566696203402108, 0.13159471658090624, 0.7301144817591685, 0.1528182169292794, 0.7895607874679437, 0.8055290273615511, 0.929822746875565, 0.8615828239597108, 0.8681962231318169, 0.9813506133407623, 0.03640800400879974, 0.03640800400879974, 0.37968347037748296, 0.5305166298425105, 0.8489802897905676, 0.1130865161217887, 0.8293011182264505, 0.30446995268336013, 0.6811870127831109, 0.9485341158670941, 0.18500112125199833, 0.7466116679098503, 0.05285746321485666, 0.8467437318379639, 0.9346966625936558, 0.856860142114784, 0.8624488152376212, 0.8839864717722482, 0.5349395001035193, 0.05486558975420711, 0.39091732699872567, 0.6027795819579986, 0.8311781781506385, 0.5089730498915266, 0.46655862906723267, 0.9077999626046768, 0.9377054303429397, 0.9568746002325905, 0.855000433872004, 0.935260377794532, 0.7953772477784504, 0.7789408840736828, 0.9122572621763937, 0.5541043363728115, 0.146674677275156, 0.27705216818640577, 0.8520321303481766, 0.855742041684057, 0.9277597302413301, 0.8808984902800284, 0.8472802554653807, 0.9065214417166495, 0.7741456775211998, 0.8294776114922263, 0.941938449343078, 0.024686586493162466, 0.9380902867401737, 0.960980698781001, 0.8577012055948431, 0.8950334773632389, 0.7150158407098395, 0.8221710667944877, 0.8923337559629371, 0.7881083215722179, 0.1822618613169592, 0.6682934914955171, 0.9701208597791027, 0.972244270301854, 0.824979488799576, 0.9154703497097181, 0.8333654248723862, 0.711729498139038, 0.0487485957629478, 0.18199475751500513, 0.0487485957629478, 0.9293224042447833, 0.6441581827302351, 0.09202259753289073, 0.22348345115130605, 0.8219648342996495, 0.9145610973501627, 0.9149446076637117, 0.20075539921050956, 0.7607573022714047, 0.03433973933863979, 0.8882592337564081, 0.03139580380972398, 0.9497230652441504, 0.9495942507711042, 0.04290335470351374, 0.8009677628851742, 0.9188250912750202, 0.9784633980288879, 0.9411105897267976, 0.920260597940164, 0.8428310873157555, 0.9350025163798718, 0.37711885971397485, 0.5279664035995647, 0.8556007660830982, 0.7935441054787673, 0.1725095881475581, 0.8343116801322656, 0.8703948467937697, 0.47625167297216164, 0.4524390893235536, 0.19628485954086972, 0.05888545786226092, 0.06379257935078265, 0.6673685224389571, 0.90713313977946, 0.9497778579809255, 0.0857849305056228, 0.09150392587266432, 0.6233704950075256, 0.18872684711237014, 0.07429077622812164, 0.10612968032588806, 0.7959726024441605, 0.9746017100810597, 0.8626646657407653, 0.8825539072297115, 0.1376557195677082, 0.8259343174062491, 0.7758582747448758, 0.9789942356314287, 0.6329870657100569, 0.9336517380807284, 0.0641173671405988, 0.9190155956819162, 0.9185733425344154, 0.9474878302414146, 0.8775997622543357, 0.8528576989948905, 0.8956640051420539, 0.31295341947929306, 0.2065492568563334, 0.46943012921893956, 0.28605221861273694, 0.08343189709538161, 0.607860964552066, 0.8674806176139969, 0.8800153258319526, 0.8316183383641451, 0.47217273990674785, 0.034339835629581664, 0.46358778099935244, 0.9097184413372192, 0.8675436788580776, 0.9222929331163575, 0.8757209307696444, 0.8332766932023374, 0.8201360053875106, 0.9367189027713577, 0.9015867884782981, 0.8375430475853338, 0.5283090872258432, 0.37544808229247745, 0.05899898436024646, 0.03352215020468549, 0.8755370637355828, 0.488013768525755, 0.488013768525755, 0.6873291002582927, 0.41526330621664714, 0.5416477907173658, 0.33923324817121064, 0.6517852296323261, 0.8261632786327183, 0.1634169122570212, 0.9067231898024091, 0.7278539441246279, 0.8845157442751201, 0.8923524819198205, 0.8873465291204324, 0.8791999682048578, 0.5952064708625734, 0.3759198763342569, 0.35993261791872116, 0.617027345003522, 0.9638705875191119, 0.8993422563401186, 0.7448076624322486, 0.6640210007316857, 0.8584930640444546, 0.8928972085368727, 0.9825967727076205, 0.8913538142001125, 0.06237635250310962, 0.732922141911538, 0.019492610157221757, 0.1754334914149958, 0.899571624829209, 0.3949888457182103, 0.10876504447313037, 0.14311190062253995, 0.08300490236107318, 0.26332589714547355, 0.3293323648269086, 0.1162349522918501, 0.09686246024320841, 0.06296059915808547, 0.3777635949485128, 0.6786460230830469, 0.1256751894598235, 0.07037810609750116, 0.01256751894598235, 0.10556715914625174, 0.8973006067155543, 0.42065117038868316, 0.5384334980975144, 0.9334393905920525, 0.35166961729032115, 0.5434894085395873, 0.9069633966469821, 0.14433510321797696, 0.22268844496487875, 0.6227028738832721, 0.8743374215936064, 0.2088280313714026, 0.18098429385521558, 0.5707966190818338, 0.10422743799311253, 0.8338195039449002, 0.8565459011229174, 0.27843456468613254, 0.6639593465592392, 0.8084587973195012, 0.9097456087731532, 0.7239557651146503, 0.969171319039055, 0.17570311777627978, 0.7781138072949533, 0.8010103731448212, 0.473791479650013, 0.3790331837200104, 0.11581569502555873, 0.8420860760258397, 0.4885224164594991, 0.4619722851301785, 0.03186015759518473, 0.4177971126428787, 0.5616289055199354, 0.8292491163252199, 0.9317113285612546, 0.7658028444228564, 0.8894282965402431, 0.8638758764460444, 0.740336924227211, 0.09803548311684529, 0.15550455942672012, 0.4738319245867191, 0.08940224992202246, 0.4291307996257078, 0.7299572566051471, 0.876565392443948, 0.16985602915193293, 0.7643521311836982, 0.8349194683318208, 0.15077927064632443, 0.03769481766158111, 0.7915911708932033, 0.31053919678597736, 0.4299773493959686, 0.23887630521998257, 0.5750462487495677, 0.07318770438630862, 0.10455386340901231, 0.23001849949982706, 0.8634842415694672, 0.8412928236609956, 0.7159105398446023, 0.9127537567351452, 0.8750876510604763, 0.11007391837238696, 0.10700974798662868, 0.838243025895258, 0.15088632266395938, 0.7167100326538071, 0.7717699282453204, 0.02104827077032692, 0.1894344369329423, 0.879369148200822, 0.8440035493737172, 0.3667231947651929, 0.12943171579947985, 0.34515124213194626, 0.08628781053298656, 0.9310094582331603, 0.774086039879175, 0.020780833285346977, 0.11948979139074513, 0.07273291649871443, 0.7628669460448841, 0.25275318099095256, 0.6999318858210994, 0.8858225632905595, 0.8571170166516732, 0.928874889208942, 0.06634820637206729, 0.7410635150449935, 0.7338182981294826, 0.8538402259228164, 0.9557620046441352, 0.0512855010308733, 0.1196661690720377, 0.2735226721646576, 0.512855010308733, 0.7370052848662043, 0.8896091804503117, 0.8825632828617826, 0.21119422369308136, 0.7240944812334218, 0.9183639990241872, 0.8751552530731521, 0.012239933609414715, 0.09791946887531772, 0.27528174938192307, 0.7142445389368814, 0.8894325077692027, 0.6684600191697434, 0.15814625614978275, 0.7643735713906167, 0.8511557201866918, 0.9384432032771792, 0.812947267429278, 0.09314937198743545, 0.8849190338806368, 0.9331111528825684, 0.8006081197495558, 0.46679359045137087, 0.49346750990573496, 0.9599411541943299, 0.7938118659802443, 0.8350804179712447, 0.9596796966412469, 0.7883353997845324, 0.9101644001747147, 0.8843157845423187, 0.10317017486327053, 0.00906990548248532, 0.7101211336848098, 0.011901471514270555, 0.08331030059989389, 0.18645638705690534, 0.7851778798262714, 0.7800303263523918, 0.9122096728621805, 0.799967100085457, 0.8410694770274545, 0.271832548989003, 0.7166494473346443, 0.9080379674171517, 0.8991773882368155, 0.8751035181679351, 0.5573277982673732, 0.41242257071785615, 0.8982158723333719, 0.9079986881784173, 0.8860834966629543, 0.3870168516254687, 0.015177131436292892, 0.05501710145656173, 0.15935988008107538, 0.3794282859073223, 0.8810742236508081, 0.48824268619148065, 0.48824268619148065, 0.7761265638491726, 0.38917469025194734, 0.5877332056866144, 0.5770395643188104, 0.3796312923150068, 0.801373549300152, 0.9121577884959292, 0.845281562117722, 0.8453726920110491, 0.9799590115577443, 0.868925054417408, 0.859120505514691, 0.4178127108745315, 0.4178127108745315, 0.8655101672625631, 0.8636873287671932, 0.8998569075000573, 0.7475818855977521, 0.8125236065538324, 0.7252603698472359, 0.05841023112863644, 0.08274782743223497, 0.1216879815179926, 0.9830426933452189, 0.8164190850086429, 0.7944931736590066, 0.9138626539628449, 0.8982753062086617, 0.8321050817698497, 0.9226239636839123, 0.2877959960354487, 0.6715239907493803, 0.06047615900266639, 0.20561894060906574, 0.13304754980586606, 0.5805711264255974, 0.9280959820974495, 0.8225837496932915, 0.9458530976551873, 0.852155865128629, 0.8347381477559238, 0.7552347527873796, 0.8702865674780681, 0.2681517482600581, 0.7061329370848196, 0.22516415622234123, 0.7478666617384906, 0.7719506927874424, 0.8935285165205955, 0.9074268092068172, 0.09181988266765957, 0.8848097784338104, 0.8887414552011559, 0.976186573988138, 0.8657311830123673, 0.9163906459033921, 0.923124721958727, 0.9096606096488473, 0.31913387463579274, 0.615472472511886, 0.4718145356620366, 0.5159093520790494, 0.9600638545605262, 0.9009675156912897, 0.8325812215017295, 0.7043144106584751, 0.21435655976562287, 0.932368641733662, 0.06295189734333119, 0.10472519265822584, 0.8809236794191939, 0.30325000103228406, 0.628160716424017, 0.8618035127837443, 0.875521360670419, 0.8345409711526727, 0.15118495854215083, 0.795409428903164, 0.5062405589739403, 0.4859909366149826, 0.943884283169862, 0.9146570857223107, 0.6412704562674251, 0.6660622824407639, 0.8036062180395892, 0.976816520222992, 0.8209817539181139, 0.8004660955596263, 0.9122993376960303, 0.18260755338843263, 0.09960412003005416, 0.6640274668670277, 0.2149446293797126, 0.03738167467473263, 0.10279960535551472, 0.6167976321330884, 0.48447526857470896, 0.07569926071479828, 0.39363615571695104, 0.758684244049293, 0.9589766586196766, 0.845424642445711, 0.8100611393419348, 0.8580571597384727, 0.07150476331153939, 0.7337376198953228, 0.8468077874536095, 0.8704733376096722, 0.7837829855268863, 0.6256084888034673, 0.32438958678698304, 0.8736760118799283, 0.9011277490720007, 0.8205791340656624, 0.9269428474184706, 0.9393511976872199, 0.4404209707002968, 0.5467294808693339, 0.6752431493555096, 0.8223594526755019, 0.7192203127188243, 0.12064340729477051, 0.1484841935935637, 0.9047112450745048, 0.9296190169192314, 0.7796756968104783, 0.038983784840523915, 0.17152865329830522, 0.7968258543916219, 0.8460327397378996, 0.8381158422828238, 0.8109229715257021, 0.28141096100086777, 0.6918019457937999, 0.16506194960284068, 0.24273816118064806, 0.5728620603863294, 0.9240113753960033, 0.09132327288602722, 0.20294060641339384, 0.20294060641339384, 0.48705745539214523, 0.9533417779621085, 0.8872273648748586, 0.8676138065384734, 0.9838972499845906, 0.8339064693963777, 0.8375759837326014, 0.8578659735206984, 0.8478814875493454, 0.712532262139275, 0.8956482198330974, 0.7831129024296544, 0.18477678433274392, 0.8006993987752237, 0.8581051409472503, 0.9309843104730964, 0.8376811343521939, 0.7985015115209447, 0.14763997766168865, 0.14763997766168865, 0.6496159017114301, 0.9043444553574137, 0.8282097921119488, 0.9418521990392993, 0.514542701715513, 0.05081903226819882, 0.4192570162126402, 0.10428632822881947, 0.7995285164209494, 0.05793684901601082, 0.9084363401855048, 0.721811335776427, 0.8101288970931686, 0.8141247410863997, 0.9086310308176347, 0.7531043964402547, 0.9410663395207882, 0.6963315729480738, 0.15434153421014005, 0.14357352019547912, 0.9199514511939492, 0.8138491911520183, 0.9809082689928724, 0.016080463426112662, 0.7990091775464498, 0.5285964645274808, 0.8055796602507438, 0.6792423876529757, 0.13207490871030084, 0.07547137640588619, 0.09433922050735774, 0.9405112483938805, 0.05143420889654034, 0.8743654001041247, 0.8734419409309957, 0.04453288008180035, 0.9432873690054073, 0.7272828252493977, 0.819510977990206, 0.922545404156561, 0.9724756499018615, 0.8945728243402508, 0.9778991959198929, 0.3130052315711258, 0.6544654841941722, 0.8829109193663272, 0.17024868275892063, 0.09576488405189285, 0.7129163590529801, 0.8502209627911205, 0.32316847016621714, 0.6322861372817292, 0.8521479276574673, 0.7853335565712668, 0.9373142270351721, 0.6393473638922545, 0.8973193588050581, 0.8688453364799056, 0.635386339701328, 0.16136795928922615, 0.17145345674480278, 0.6938815623510545, 0.9032615425341679, 0.946320307057589, 0.7255310555915747, 0.4161379017940785, 0.8066746603688651, 0.626401471826616, 0.8247494689048039, 0.9854267552977548, 0.8220578499139086, 0.9323882814960645, 0.8638622122854462, 0.2357562064159047, 0.677799093445726, 0.7593371326625219, 0.982719970962108, 0.9124004633495134, 0.9419115757444195, 0.05006838940834124, 0.9775821958743118, 0.666432147531928, 0.8228541927888644, 0.9039428516898111, 0.3308940302385062, 0.5514900503975103, 0.887098964498359, 0.537882413913501, 0.4443376462763704, 0.9552835421244218, 0.6932135601535979, 0.8647966620206967, 0.759483687290903, 0.8658417884345992, 0.9189566856309782, 0.8029125755283268, 0.8755963518985891, 0.354769825488012, 0.4940498310499723, 0.14453585482844933, 0.759235311674423, 0.018294826787335496, 0.05488448036200649, 0.1555060276923517, 0.8662410214508782, 0.7422283434302903, 0.9431511996785402, 0.17230288850657713, 0.7831949477571688, 0.7467105687832722, 0.8632233066769797, 0.9085153890095253, 0.8748642862501661, 0.20455528287141628, 0.7552810444483063, 0.8733386959390592, 0.010985392401749172, 0.10436122781661714, 0.8931109781478006, 0.2437073394553257, 0.6769648318203492, 0.8993670723883976, 0.8106617913271316, 0.3963458292996927, 0.5865918273635452, 0.8034448533218261, 0.19186742765894355, 0.3737364921772392, 0.5606047382658588, 0.8630247975480417, 0.7879757659322845, 0.8473801683359146, 0.9145280030656654, 0.8471253052728261, 0.04051802992601498, 0.8913966583723295, 0.8077188832417344, 0.9380336165629497, 0.9308650973150238, 0.05879147983042256, 0.7536527925486537, 0.7437060963383693, 0.6113081167121988, 0.8981931551053675, 0.6712282551647663, 0.9673133345731838, 0.769093410219537, 0.8295368246710386, 0.7550407004965684, 0.6302124224444225, 0.7532889670918334, 0.7881545917026892, 0.9389910257649018, 0.9261869302587599, 0.03853331021855073, 0.9344327727998551, 0.881149890128982, 0.674898693188605, 0.833556558290304, 0.822686455636957, 0.8411360585303955, 0.8142313008213871, 0.806315306889257, 0.7559377961646446, 0.03697521829066197, 0.0821671517570266, 0.11503401245983723, 0.4299866515962784, 0.5303168703020767, 0.26239823582092964, 0.682235413134417, 0.07494076182354797, 0.8243483800590277, 0.9257119126553424, 0.7908796276950132, 0.9076381722484119, 0.8555892352646157, 0.32775270494177294, 0.3025409584077904, 0.050423493067965064, 0.0378176198009738, 0.21850180329451527, 0.021009788778318775, 0.0378176198009738, 0.9638929467913621, 0.9457903077795172, 0.894741955571144, 0.7351854628250999, 0.855719985899483, 0.8747324812716106, 0.8490437651575372, 0.895630136714927, 0.8473901099432345, 0.0820054945106356, 0.8732010747508298, 0.8377119295965167, 0.9515761097691736, 0.8045838727127197, 0.14482509708828956, 0.8907038762470612, 0.8892844966021101, 0.8559873466780255, 0.7988289110434943, 0.08283310801254765, 0.7796057224710368, 0.12668592990154348, 0.7740297375910179, 0.9016463519654289, 0.8811423231939115, 0.9312580996062714, 0.8036878256395055, 0.7693014452051629, 0.8523143074209539, 0.9479841651851518, 0.9140868564685184, 0.8479857730973589, 0.15704648552529835, 0.6543603563554098, 0.10469765701686556, 0.515460043648327, 0.4639140392834943, 0.8722148762594005, 0.35887439815145983, 0.6063739830835011, 0.8178059020271836, 0.9490403261341545, 0.9132715526162167, 0.9753730388603071, 0.9522112540170538, 0.4180851099467726, 0.5736516624851066, 0.6652405695665857, 0.6627412100268735, 0.06627412100268734, 0.0920473902815102, 0.07731980783646857, 0.029455164890083263, 0.06259222539142693, 0.9019208933433994, 0.8794361281722813, 0.9290592835826248, 0.5812991280239918, 0.7733970004750824, 0.8209967755027278, 0.830978293869375, 0.9172097271202235, 0.8148067432148104, 0.819007048649107, 0.8232473518199118, 0.8801912310316821, 0.09144843958770722, 0.6644078946703412, 0.28109564774514434, 0.03285813735552157, 0.941933270858285, 0.8132796209762082, 0.8989691440011707, 0.9037587557998518, 0.8442552938960993, 0.5788499050583272, 0.38859853766153435, 0.026311359320833057, 0.8537594935758668, 0.9078630519366915, 0.1484133331642553, 0.8311146657198297, 0.2228423539458936, 0.7242376503241542, 0.5939237766896173, 0.7469615362089262, 0.019708747657227604, 0.18526222797793948, 0.04138837008017797, 0.7216690169820369, 0.8234159587165666, 0.8506893891733229, 0.8186298628884485, 0.8615050149823765, 0.8553558545168731, 0.8889696526730931, 0.7555330195746301, 0.9320980149523567, 0.852216101033788, 0.7468262403726847, 0.15558880007764264, 0.09024150404503274, 0.9489020899828452, 0.9565779399028403, 0.8318443722379736, 0.7950310553785606, 0.7963477595118184, 0.8084947942785876, 0.8795917684748508, 0.819984165454109, 0.7719589641707024, 0.898797077967165, 0.6072723833110285, 0.8306650270478324, 0.5481265506167465, 0.3569196143550908, 0.0892299035887727, 0.6165342287955698, 0.5896057818394816, 0.039307052122632115, 0.353763469103689, 0.8974769228717765, 0.7148869167225248, 0.2566260726696243, 0.4501161382645756, 0.529975453117968, 0.12276195353623336, 0.7979526979855168, 0.919887373285237, 0.9819197184119296, 0.8483883410981234, 0.9933645019085339, 0.788597894611203, 0.8212762054234474, 0.0843790803681039, 0.8859803438650911, 0.8154509646345135, 0.9268523989971161, 0.8343543768344435, 0.9498174991101437, 0.8743567380763638, 0.7690048944234595, 0.8431050321541087, 0.8275486040560153, 0.9558665297554801, 0.844794719177961, 0.7516530823853567, 0.7645087040753847, 0.642233615905504, 0.5396369333126941, 0.4522968516204662, 0.6490695952294149, 0.8003690956509203, 0.8776301511488241, 0.7292544486364881, 0.7860638721380167, 0.871324280810929, 0.9059158621712846, 0.8627359665783338, 0.7611103025701721, 0.9675568409277849, 0.27546352154621984, 0.5830198805541351, 0.13639455921220595, 0.889742503289507, 0.8976351033223426, 0.8707082808512056, 0.9411625532854264, 0.09571496070507428, 0.8614346463456685, 0.8967018394106002, 0.8131334499242526, 0.8549922098478915, 0.4992386471683969, 0.9324306674380363, 0.6059323226027784, 0.3766606329692947, 0.7352949933704366, 0.07434907342125123, 0.9014825152326711, 0.7839330303649151, 0.8732992911876352, 0.9921766294495843, 0.8345771582305981, 0.9003555224320614, 0.8531449408060829, 0.800877381013732, 0.6956630949210737, 0.6409984386586649, 0.9468622928926723, 0.16300404100362914, 0.749818588616694, 0.9149523574809448, 0.945612786311777, 0.8525538733185067, 0.9651727690331946, 0.06906434653838042, 0.851793607306692, 0.8511820528589948, 0.04550344307736765, 0.09903690552132959, 0.830816919170331, 0.6654834378602588, 0.8479341633839889, 0.8839329020785607, 0.06730300128580312, 0.8412875160725389, 0.47902191791587356, 0.4191441781763894, 0.24821376656526029, 0.6369258915636868, 0.10303212951765522, 0.7975032122965847, 0.5746724467572378, 0.3907772637949217, 0.8747388458963439, 0.5455884741142498, 0.021395626435852935, 0.05348906608963233, 0.36372564940949986, 0.030798863419160043, 0.9444984781875746, 0.9085816454055441, 0.1927933818167698, 0.7497520403985493, 0.9183350279907653, 0.32419072615995453, 0.6483814523199091, 0.06369895788874713, 0.17372443060567402, 0.7470150516043983, 0.9040115330695705, 0.90758708568961, 0.9129847195295288, 0.9400327180771136, 0.7824764603092278, 0.12497887907716833, 0.08150796461554456, 0.6590653920216475, 0.12192709752400478, 0.21090092544692718, 0.8298942262662962, 0.16619852373785177, 0.8143727663154736, 0.9793261555194762, 0.7952093125352274, 0.9857154908056925, 0.8296825713034667, 0.9338768804789817, 0.05924898637479944, 0.8728534335722993, 0.751775357986531, 0.8791737583459337, 0.8429393204929336, 0.916489902313391, 0.07779727949244106, 0.9062898121579593, 0.60660003466418, 0.9295951292930051, 0.8902664715681733, 0.31336111819190665, 0.6267222363838133, 0.40008959318656717, 0.533452790915423, 0.5949901374170681, 0.3222863244342452, 0.06611001526856312, 0.9240820876209346, 0.4023606946564615, 0.1020915195396992, 0.12010767004670493, 0.09608613603736395, 0.01801615050700574, 0.25222610709808035, 0.7574473835965281, 0.8841432216809272, 0.03725322563262334, 0.07202290288973845, 0.9412974271190555, 0.32155938414341056, 0.06550283751069474, 0.03572882046037895, 0.5657063239560001, 0.5467301227795435, 0.09556781738676315, 0.7963984782230262, 0.18503917433908826, 0.763286594148739, 0.1284833639576395, 0.8137279717317168, 0.8710468933644046, 0.832345910984814, 0.9154208300313222, 0.8091545534494138, 0.12801699975628766, 0.8107743317898218, 0.8507047166835119, 0.8455203234091454, 0.8380827871713586, 0.23150670045909189, 0.7110562942672107, 0.9160234799968763, 0.696314594864237, 0.9165911593826546, 0.8470011007942361, 0.8522308195933679, 0.2566961450359001, 0.17647859971218133, 0.529435799136544, 0.2966578180477315, 0.618037120932774, 0.867203995002759, 0.96333625265037, 0.9286954534078455, 0.8057350698890077, 0.9741327802152936, 0.9205414730052958, 0.811049485128486, 0.9250227857120118, 0.9712098424603574, 0.7580401461511311, 0.6535315821356341, 0.08378610027379925, 0.21784386071187806, 0.7546275076235781, 0.8148538309974322, 0.14098038799501023, 0.8056022171143442, 0.9050198166403154, 0.25606983707483205, 0.7189653117870284, 0.9588372646183648, 0.6135884283561507, 0.6358563563217763, 0.145557479157997, 0.06128735964547242, 0.13023563924662887, 0.7499690238204193, 0.9343531032466174, 0.8451667302480032, 0.7912053706324667, 0.8582508139064732, 0.041361485007540874, 0.07238259876319653, 0.9564498842943595, 0.036404666876255896, 0.5487029020449221, 0.07034652590319515, 0.3376633243353367, 0.8742997150379717, 0.8022346232734477, 0.08728132631260882, 0.08728132631260882, 0.30151730907992136, 0.07934666028418984, 0.015869332056837968, 0.40466796744936817, 0.2807998338164645, 0.6458396177778684, 0.8744588160594032, 0.845762557207542, 0.8525626913407127, 0.7471639596851334, 0.8316944151071342, 0.7016638759897729, 0.7562511113786919, 0.04684127863977031, 0.9290186930221113, 0.958046149550687, 0.3799596283602658, 0.0296072437683324, 0.23932522046068688, 0.345417843963878, 0.8210707408916155, 0.8050652326533507, 0.17700015753371542, 0.6340036352134805, 0.3420282768914829, 0.8403523280797018, 0.8334032281133519, 0.9199435893591794, 0.15038599356270957, 0.7769943000739995, 0.9122148517020162, 0.9668287156694546, 0.9503956722544492, 0.134041183288742, 0.846134969510184, 0.2051860182957605, 0.7295502872738151, 0.9104103585464747, 0.9017476354498041, 0.797302772148841, 0.297061350631123, 0.6716169666442781, 0.793855734633526, 0.7587592404590109, 0.949419639619016, 0.8906235545921503, 0.2657481731877941, 0.6074243958578152, 0.7116758452970692, 0.8943299533709488, 0.9663227236108534, 0.9124789312577003, 0.8940771878853537, 0.061947717214177335, 0.8672680409984828, 0.8090729578447005, 0.790438374531753, 0.9407544305572741, 0.9305468025959763, 0.8370813329600296, 0.9178116506401973, 0.3240819087827073, 0.6557006061417566, 0.16831191384254945, 0.7694258918516547, 0.9791465328864011, 0.07612780175833905, 0.8945016706604839, 0.3695285281837906, 0.561991303279515, 0.053889577026802804, 0.7749740023744893, 0.9569252184508237, 0.9483451430798896, 0.9607297921903093, 0.9187511339745607, 0.07484208675635466, 0.9343196624700835, 0.9197270818659107, 0.056855855969892656, 0.018394541637318212, 0.9754394980403736, 0.7286523231708469, 0.1296754134456592, 0.12350039375777067, 0.9637898630144043, 0.7924064596513517, 0.7850387524514817, 0.30706817710874496, 0.6560092874595915, 0.7576112572119827, 0.19481432328308126, 0.6067404139181068, 0.0811563610973264, 0.3014379126472123, 0.12887286763258268, 0.773237205795496, 0.8937527457227417, 0.6474416274617288, 0.8811630172678495, 0.21412501418210259, 0.7397045944472636, 0.10310345983424292, 0.8763794085910648, 0.13461815143195804, 0.8436070823069372, 0.862944208109845, 0.54686366650401, 0.9353669430518319, 0.7919211267353119, 0.954344241973658, 0.038727012717771625, 0.0693041942998941, 0.8870936870386444, 0.6948897148590313, 0.4165803856360548, 0.5513563927536019, 0.8649529118949268, 0.019932272207079722, 0.9168845215256672, 0.7734627337618207, 0.9590752855821749, 0.01629496844435734, 0.018622821079265533, 0.9303253793306697, 0.8558398185008083, 0.16171115960495056, 0.7816039380905944, 0.745386883021578, 0.7967592798714106, 0.8418740223777164, 0.7791875728101092, 0.0747296157941637, 0.8220257737358008, 0.7545125068676845, 0.6493386752552313, 0.5920262145747552, 0.6907650819306386, 0.9153432298130771, 0.0785353658715362, 0.7891756642646093, 0.7649781591306833, 0.8799577720775449, 0.7515939564062125, 0.26371433424061563, 0.6781225737615831, 0.8369643190387739, 0.8059849009967968, 0.850863798706636, 0.4431819132249498, 0.5432552484692933, 0.9273013640991009, 0.7276686642710497, 0.166500457078969, 0.09250025393276055, 0.960883503292091, 0.8798759638717324, 0.7072958087352598, 0.05318013599513231, 0.22867458477906896, 0.9259229270056861, 0.2777083978936352, 0.03599923676398974, 0.6737000022975224, 0.8585771916668518, 0.8460737969971377, 0.8888857105026324, 0.8790992649173399, 0.7842018677837309, 0.8436339189468149, 0.8855763053486111, 0.49114147045306517, 0.04709575744070488, 0.06727965348672126, 0.3162143713875899, 0.060551688138049134, 0.8144884074255935, 0.17575802476025965, 0.935179918733795, 0.8742761048172144, 0.09714178942413493, 0.5260171439772691, 0.4416293668686163, 0.0281292590362176, 0.9633530469514576, 0.8225551672569427, 0.32568460753267253, 0.6595113302536618, 0.9207550736846376, 0.8126041213996643, 0.4687161951700939, 0.2376589158608927, 0.27726873517104145, 0.8596587919434413, 0.7527532131308616, 0.8420060887258801, 0.18362937370261215, 0.09181468685130607, 0.6610657453294038, 0.05220331619488026, 0.9048574807112578, 0.3390053911890572, 0.05895745933722734, 0.31443978313187915, 0.28004793185182986, 0.27904716106564015, 0.6595660170642403, 0.8837892610856497, 0.9120750310118999, 0.15049208015676335, 0.8367359656716042, 0.905492240922466, 0.8687913826084062, 0.8658649826047329, 0.5609872022125197, 0.39859616999310615, 0.8673298931539858, 0.8227608345418355, 0.4410812338794759, 0.2709002853747962, 0.177127109668136, 0.10071933687011655, 0.8491023040266147, 0.9299975934766044, 0.8925317987302591, 0.32207901665115996, 0.6252122087934282, 0.06799723347463951, 0.17849273787092873, 0.7309702598523747, 0.9110093764291396, 0.9133739403103068, 0.8223426841688087, 0.2171510093471192, 0.08530932510065396, 0.038776965954842715, 0.6359422416594205, 0.26436808461566386, 0.7126444020074417, 0.7142365093588896, 0.1219063380997656, 0.19505014095962495, 0.6704848595487107, 0.9466923908261828, 0.2549395826559067, 0.7093970995642622, 0.7574721495092753, 0.9544158569776603, 0.8665653728549957, 0.8554701808293262, 0.88633357782235, 0.7961583736371587, 0.30957315996365836, 0.6695419506190751, 0.8900688735602301, 0.9146355741451695, 0.943554208001754, 0.13848199936038597, 0.7754991964181613, 0.23699821682483777, 0.6894493580358917, 0.8116257803196859, 0.8458339339300438, 0.7431393779668432, 0.9264554791629771, 0.8864970467325293, 0.9216416148504115, 0.8713317252122904, 0.8789105890076457, 0.7867472121130614, 0.8572201030456924, 0.16991565751302426, 0.8070993731868652, 0.7383024090580138, 0.9394109372807641, 0.020421976897407913, 0.029174252710582736, 0.8004902752750369, 0.189711568128766, 0.85067879775035, 0.9849671889843199, 0.6616570625190615, 0.9092934860511227, 0.15813386643518268, 0.7906693321759134, 0.1457464162490695, 0.0874478497494417, 0.7578813644951614, 0.8807509632785265, 0.18829872319735613, 0.7703129585346388, 0.07402549299748122, 0.06168791083123436, 0.8266180051385403, 0.7873212443826172, 0.8090596113081268, 0.9817152150731109, 0.8169867162335015, 0.7912702165382683, 0.030048236071073483, 0.08346732241964856, 0.0868060153164345, 0.8150836711037117, 0.5351484979233739, 0.44001098718144077, 0.7890438501680731, 0.12752805778437026, 0.02684801216513058, 0.8255763740777653, 0.4396625362527664, 0.11811829332163873, 0.269047223677066, 0.15749105776218497, 0.8673504725581767, 0.8865081426953441, 0.8633195575765047, 0.9148620173656355, 0.805514953649325, 0.1295300427978814, 0.06071720756150691, 0.9041701077427591, 0.8082462061729371, 0.9094442645663054, 0.966636796562199, 0.8696760240808981, 0.17161965123605802, 0.7293835177532466, 0.8654911689279244, 0.946382915745764, 0.974619937922639, 0.01761361333595131, 0.8671204759892691, 0.8610886890873938, 0.843404477917877, 0.8570799494184999, 0.8675263483472628, 0.9281446263800198, 0.1405757760083484, 0.6823782460405244, 0.08493119800504381, 0.08493119800504381, 0.8379243900305119, 0.7240738944597497, 0.9267200752583344, 0.8487343305397277, 0.1525844179372943, 0.7847198636775135, 0.84145405175467, 0.7189033556704374, 0.24921982996575162, 0.4851394826206737, 0.0665877721244062, 0.4375767882460978, 0.1772970700802246, 0.7682873036809733, 0.837455498534283, 0.07851145298758903, 0.8722242756558773, 0.7510656492300793, 0.9265084105620767, 0.8780543388318807, 0.12412509672646457, 0.07447505803587874, 0.7944006190493732, 0.9720363075221777, 0.020681623564301654, 0.8276662991367638, 0.9034319214163837, 0.8832542727161421, 0.8352244240163877, 0.9394956829895432, 0.4547931748383099, 0.4547931748383099, 0.1495605475289712, 0.8157848047034792, 0.9609725076622072, 0.2634290709989437, 0.05762510928101894, 0.041160792343584954, 0.6256440436224914, 0.7650024975963403, 0.963162517091776, 0.9497835549938979, 0.8080480766063458, 0.931270059308944, 0.9753028506611564, 0.7811224293681509, 0.8554646829949699, 0.8186232164636628, 0.8866113292744918, 0.8976449472104802, 0.9340454624205021, 0.8345366507680108, 0.8304908139609417, 0.08304908139609417, 0.7642743506518991, 0.3937368058973445, 0.18899366683072535, 0.3622378614255569, 0.21509179846754814, 0.29733278023455184, 0.4112049088350185, 0.05693606430023333, 0.8761284239113728, 0.8096536359595983, 0.763079562716254, 0.8879439467336525, 0.3949682506821101, 0.5430813446879015, 0.950094975442484, 0.35612274213915524, 0.3328973459126886, 0.29418835220191086, 0.8536093442842753, 0.04755483812168665, 0.09273193433728896, 0.8487573871553867, 0.8040167216478922, 0.5839180040578793, 0.5765851931673369, 0.3395446137540984, 0.06406502146303743, 0.6274898556874279, 0.8925045971354589, 0.2944839235648356, 0.24371083329503637, 0.15231927080939772, 0.28432930551087576, 0.8287646800745487, 0.9136348647088376, 0.9897193523354262, 0.8413932409620604, 0.8621375920218639, 0.9517872906921538, 0.04170202046847066, 0.9224076960783103, 0.8894410377524199, 0.04812274271421675, 0.05807917224129608, 0.6475929187586196, 0.8422367145748008, 0.8850358189062547, 0.9548830134053241, 0.750683501192446, 0.7858801745885262, 0.872846818266212, 0.8677346335611129, 0.7974915026659699, 0.917808314514623, 0.817278259332638, 0.11769615424787483, 0.10298413496689048, 0.5296326941154367, 0.2206802892147653, 0.3962647113186931, 0.2587851175958812, 0.3234813969948515, 0.08946101524069816, 0.8647898139934156, 0.3559649195692609, 0.20036348766173967, 0.012789158786919554, 0.0277098440383257, 0.17052211715892737, 0.2216787523066056, 0.006394579393459777, 0.8704474395031307, 0.8433959584882147, 0.018910223284489117, 0.128589518334526, 0.7979885071354401, 0.8385205179281687, 0.9256809969614397, 0.11715337848242027, 0.7810225232161351, 0.9401263387363387, 0.9262403146754367, 0.8438612791548263, 0.26801072713022156, 0.15430920652952151, 0.12182305778646435, 0.03248614874305716, 0.3004968758732787, 0.09745844622917148, 0.8467580136444942, 0.9149806851086372, 0.7417123712091547, 0.7654564740691046, 0.8409767017624322, 0.9773778428659318, 0.8701060551529101, 0.946815805306279, 0.9418585937246257, 0.9245583825681564, 0.7736346696538036, 0.7875799309823828, 0.176526536254672, 0.1422076814781658, 0.48350611702576374, 0.2844153629563316, 0.9067895801149692, 0.11328389774526836, 0.854778501168843, 0.9396630556288869, 0.024727975148128602, 0.9479197968328313, 0.8809844725592996, 0.764179193961072, 0.7698971920702419, 0.11022360734621252, 0.8376994158312151, 0.780726798141385, 0.5484074540165221, 0.3290444724099133, 0.027420372700826107, 0.054840745401652215, 0.8937305469284486, 0.7757486300746369, 0.8226263058292815, 0.4385930597693493, 0.26863824910872647, 0.28508548885007706, 0.5487489662818474, 0.10289043117784641, 0.3086712935335392, 0.10811493600452156, 0.8649194880361725, 0.3280259035432806, 0.057886924154696574, 0.0964782069244943, 0.15436513107919086, 0.35589738554369005, 0.8721763899467969, 0.8806774173713122, 0.7522831997405856, 0.9496549528736907, 0.9041791358493707, 0.7850601090374577, 0.9418642081141934, 0.9100239418645696, 0.8909263022715213, 0.28529045216262466, 0.0855871356487874, 0.5420518591089869, 0.05705809043252493, 0.16166441397991127, 0.2078542465456002, 0.5773729070711117, 0.6722522292856355, 0.0056021019107136295, 0.31651875795532003, 0.8462538724744, 0.9262122215987597, 0.8587789540831711, 0.6386146317717766, 0.3410782692417443, 0.8849193389012224, 0.07526375820551634, 0.03421079918432561, 0.783713570957259, 0.8770648871214005, 0.6323001715369677, 0.8104655281285822, 0.9341814337332371, 0.8202450990838767, 0.24707505298272744, 0.7032136123354551, 0.8305386785227459, 0.8066042645379942, 0.8159071799983191, 0.9057459585206926, 0.8864606825829554, 0.22148223175467974, 0.02109354588139807, 0.7277273329082334, 0.8966508963785847, 0.07083974736042652, 0.021796845341669698, 0.8882214476730402, 0.7503521461364128, 0.9633085965196143, 0.7748915843124193, 0.8419247518722098, 0.8987999988810034, 0.9168855752981461, 0.8597317181625908, 0.8979314164584065, 0.8242513282810234, 0.9343728223922111, 0.9132394647260574, 0.9566812914884528, 0.7056722380598989, 0.9810416225964043, 0.5644069118109529, 0.28635350672761584, 0.1369516771305989, 0.8648422272661657, 0.9304310783388334, 0.8837021800113726, 0.656294991096985, 0.8329616522735912, 0.9111842953605029, 0.7717007999855205, 0.8785128635035415, 0.8347483789170899, 0.875255332950874, 0.7845592258510264, 0.9375256519313235, 0.14947433470139798, 0.8163598279845582, 0.9681020200753226, 0.9804845964509092, 0.2857148428071398, 0.6571441384564216, 0.9500834715074822, 0.8216515742394187, 0.9837501606946792, 0.9804441493711779, 0.8828860337943014, 0.8222537406090421, 0.8610304544996193, 0.87342270913879, 0.7971895273412529, 0.03569016628840829, 0.9422203900139788, 0.9512307433240176, 0.051314510158624545, 0.6297689883103922, 0.04664955468965868, 0.2659024617310545, 0.8884707773863525, 0.16328481594837313, 0.7930976774635266, 0.7047623520877891, 0.8369993095642555, 0.3954883034330182, 0.9267283127197812, 0.9537013821577129, 0.8387720351556283, 0.2074700773257742, 0.7261452706402096, 0.8318790031813212, 0.89832640700594, 0.9496197125856422, 0.043328656087557815, 0.8360326838535098, 0.4278110370996242, 0.46670294956322644, 0.4113943953108916, 0.08873212447881976, 0.4880266846335087, 0.7999254841137392, 0.771185826169062, 0.8236976495184547, 0.931746418770798, 0.8600265751371408, 0.26159353614120323, 0.727230030472545, 0.8948338554961278, 0.7733521359469714, 0.021428112461241988, 0.9642650607558895, 0.9014195849439989, 0.9494308894428402, 0.0987773158160479, 0.06585154387736526, 0.027438143282235528, 0.7957061551848302, 0.9805395005678466, 0.800872996203066, 0.8019813138789139, 0.8489292773127627, 0.9900287336168034, 0.005955060051830397, 0.9188320481890481, 0.9302730359816385, 0.3300287448681945, 0.6411987043153493, 0.8396518392143804, 0.08194121218032102, 0.8911106824609911, 0.9045487739148995, 0.8848233347297477, 0.01301210786367276, 0.06939790860625472, 0.02602421572734552, 0.21014997390607862, 0.08695860989217045, 0.028986203297390153, 0.6449430233669309, 0.865471696684753, 0.8167166645728822, 0.9353568682570633, 0.9095310375455734, 0.825215118043244, 0.7806518060950548, 0.8550951042006094, 0.29480226589891495, 0.02948022658989149, 0.6559350416250858, 0.9125097346017724, 0.7201953177465623, 0.8297931979400716, 0.8670156287013542, 0.8192827809364522, 0.9482846558160595, 0.3153504805494399, 0.6457176506488532, 0.9115660377568678, 0.9282064341654186, 0.7587164238834959, 0.9883568558812256, 0.3665604688088519, 0.15851263516058461, 0.4695936816632319, 0.9645908423718617, 0.9875492441897307, 0.9505762763842115, 0.9226170682360801, 0.8335262308930617, 0.8728003234000397, 0.8395067808138078, 0.4342957877646562, 0.08803292995229518, 0.12911496393003294, 0.14085268792367228, 0.15259041191731165, 0.03521317198091807, 0.6813723251522535, 0.7950203235534848, 0.9108693920656574, 0.9628502617042957, 0.862565538446928, 0.9158596425164446, 0.034889891143483606, 0.043612363929354504, 0.497203899188946, 0.49922505325068967, 0.8526364444254971, 0.9000041481611384, 0.9349189348150062, 0.9067100593527937, 0.8196828936024033, 0.8762594204675521, 0.9452488976679604, 0.8572830995829351, 0.8822779859575689, 0.8939714200267316, 0.7443179923831409, 0.8274315243413037, 0.7399409876324707, 0.8203158199006704, 0.6768724081891704, 0.86192245395249, 0.9238090945610348, 0.9581755658916262, 0.035301205059165175, 0.8452391953576829, 0.8817794814901583, 0.9173601509403827, 0.4528566129241296, 0.5367189486508203, 0.8972935496562076, 0.9153648089860621, 0.4189524061322854, 0.8466145621583585, 0.9379746023075274, 0.9816169927673076, 0.94387199163645, 0.9429807762314845, 0.8349104651792415, 0.7914075331461373, 0.9789350206226402, 0.9115085328519412, 0.8266963302653294, 0.9409016733099168, 0.825838710218531, 0.9212791388204634, 0.8334114609477066, 0.9158518739506916, 0.826455804156667, 0.8754718646199472, 0.9617243077763401, 0.8730999272679961, 0.8044144090253391, 0.9252774136855388, 0.75537749095685, 0.9406773306063058, 0.8048234683033291, 0.19016115360866248, 0.9353853054883297, 0.806293692810794, 0.7676605342321642, 0.8258625189438142, 0.9568762994654576, 0.8334376948637627, 0.806482722605334, 0.20727867534912042, 0.7369908456857616, 0.8731986118726367, 0.7573034279143696, 0.8086036435601307, 0.7592147450327245, 0.8662536883475607, 0.7868864312119456, 0.8965814144523739, 0.8616492946857041, 0.8405774436755833, 0.9608984080429177, 0.07513659177820184, 0.8515480401529542, 0.8646566294871618, 0.7270440600754764, 0.9518007385132129, 0.7097407586356977, 0.892943608195327, 0.7852508555479225, 0.9280188002613523, 0.8932442904909504, 0.3836206914759861, 0.05172413817653745, 0.5517241405497328, 0.735307139260803, 0.8665164172389351, 0.6935632225829396, 0.8931620180379115, 0.8621960685091584, 0.8608056196484365, 0.8902165583176616, 0.8082338502633176, 0.04598266981804433, 0.01237994956639655, 0.030065591804105906, 0.0990395965311724, 0.9082977460330833, 0.690918457577907, 0.26573786829919505, 0.21570219432205476, 0.11459179073359159, 0.16177664574154105, 0.4920706307971874, 0.984071385629322, 0.004620053453658788, 0.8684835544577297, 0.8170636848859992, 0.8997626414455878, 0.8072063431592316, 0.7573373554790541, 0.1512045067362695, 0.0447039411220275, 0.04338911932432081, 0.8330229406561769, 0.724119039489913, 0.23414627624224732, 0.036856358297390784, 0.9590941432678262, 0.8709830051902319, 0.9499434948900273, 0.9103705278104628, 0.10722287231073242, 0.18764002654378176, 0.6433372338643946, 0.8217274203523824, 0.6439685671383149, 0.008363228144653439, 0.17562779103772222, 0.03763452665094048, 0.1254484221698016, 0.6197357828038974, 0.05145682376910471, 0.02286969945293543, 0.9090705532541833, 0.9073806706074692, 0.4186448026052781, 0.22912316899342924, 0.18103559031579594, 0.048087578677633296, 0.11314724394737247, 0.7376611818743194, 0.8910152198158852, 0.887517102925749, 0.894903338607509, 0.9078169529055032, 0.13189060893475762, 0.7913436536085459, 0.7299597942370224, 0.619023855897293, 0.8475864718356244, 0.814049152531985, 0.8382833552832721, 0.7788933707828526, 0.06214574766884462, 0.14500674456063745, 0.9103056206461495, 0.894311046941102, 0.8310735165804531, 0.1263657147196435, 0.16380740796990825, 0.6926713251298977, 0.8862943728664309, 0.8684441546246868, 0.7529092314346276, 0.8842406069366094, 0.9277824598985284, 0.06418620791750825, 0.8301070421987792, 0.9187321238759872, 0.7832754042568383, 0.9405829162856424, 0.8889623580707632, 0.2891253397312051, 0.6702451057405209, 0.857985035958432, 0.24477281015702795, 0.7016820557834801, 0.6999091223106354, 0.8658381412515722, 0.2198443451137374, 0.32243837283348153, 0.41037611087897646, 0.9038600193337677, 0.7458022774429467, 0.8144207923210929, 0.06820557039298436, 0.07578396710331596, 0.16672472762729512, 0.6668989105091805, 0.07529740536045319, 0.8240882697782933, 0.08784697292052872, 0.8954526471804163, 0.9790269847425768, 0.8130140659371731, 0.8060935140622283, 0.8109303014110542, 0.8087738965011366, 0.9365014036456579, 0.9278143682167957, 0.8251932893036494, 0.23471331873525292, 0.7041399562057588, 0.8405379669340912, 0.9281613468263962, 0.8924526978964045, 0.9360962915543624, 0.05673310857905226, 0.6808197760173654, 0.9049161743479313, 0.9677935589282955, 0.02460492098970243, 0.11004317038472773, 0.8436643062829126, 0.5683760031812415, 0.930137361140945, 0.8978264870160735, 0.8882761106885553, 0.7455153616185466, 0.1167719464566069, 0.8368656162723495, 0.22345855488126212, 0.41305975296233305, 0.03385735680019123, 0.3047162112017211, 0.9726359944588723, 0.7449589787081681, 0.9080771919967392, 0.9099561768886117, 0.8097135718077786, 0.2595934376589082, 0.717699504115805, 0.7131745816492278, 0.15944777842272156, 0.7773079198107676, 0.8322023956657306, 0.17172258879789706, 0.760485750390687, 0.6979142194032201], \"Term\": [\"aaa\", \"abstract\", \"acc\", \"accesstoken\", \"accountid\", \"accuracy\", \"accurate\", \"action\", \"action\", \"action\", \"activation\", \"activecell\", \"activerecord\", \"activesheet\", \"activity\", \"activity\", \"activitythread\", \"adapter\", \"adapter\", \"adb\", \"add\", \"add\", \"add\", \"addsubview\", \"adjacent\", \"admin\", \"admin\", \"admin\", \"admin\", \"admin\", \"admin\", \"ado\", \"ads\", \"aes\", \"age\", \"aggregate\", \"airflow\", \"album\", \"alice\", \"align\", \"alpine\", \"alternatives\", \"amazon\", \"ambiguous\", \"amt\", \"analyzer\", \"android\", \"android\", \"androidx\", \"angular\", \"angular\", \"angular\", \"angular\", \"animate\", \"animate\", \"animation\", \"animations\", \"annotate\", \"annotation\", \"ans\", \"ansible\", \"apache\", \"apache\", \"apache\", \"api\", \"apikey\", \"apiversion\", \"apk\", \"app\", \"app\", \"app\", \"app\", \"app\", \"appcompat\", \"appearance\", \"appid\", \"appium\", \"applewebkit\", \"appointment\", \"appspot\", \"apt\", \"arabic\", \"arbitrary\", \"arc\", \"arch\", \"architecture\", \"areas\", \"arr\", \"arr\", \"array\", \"array\", \"array\", \"array\", \"arraylist\", \"arraylist\", \"arrows\", \"artifactid\", \"artifacts\", \"artisan\", \"ascend\", \"aside\", \"assets\", \"assets\", \"association\", \"async\", \"attributeerror\", \"audio\", \"audio\", \"aug\", \"aug\", \"aug\", \"august\", \"auth\", \"auth\", \"auth\", \"auth\", \"auth\", \"auth\", \"auth\", \"authenticate\", \"authenticate\", \"authentication\", \"authentication\", \"authentication\", \"authenticator\", \"authorization\", \"authorization\", \"authorization\", \"autoload\", \"automation\", \"automation\", \"availability\", \"average\", \"avg\", \"avro\", \"await\", \"aws\", \"aws\", \"aws\", \"aws\", \"ax\", \"axios\", \"axios\", \"azure\", \"azure\", \"babel\", \"background\", \"background\", \"background\", \"badge\", \"balance\", \"balancer\", \"ball\", \"banana\", \"bar\", \"bar\", \"bar\", \"baseline\", \"bat\", \"batch\", \"batch\", \"beam\", \"bean\", \"beautifulsoup\", \"beforeeach\", \"behaviour\", \"bet\", \"bid\", \"bigquery\", \"bind\", \"bind\", \"bind\", \"birth\", \"blade\", \"blue\", \"bluetooth\", \"blur\", \"bob\", \"bodyparser\", \"bokeh\", \"boost\", \"boot\", \"boot\", \"border\", \"borderradius\", \"boto\", \"boxdecoration\", \"boxplot\", \"broker\", \"brown\", \"browse\", \"browse\", \"btn\", \"bucket\", \"bucketname\", \"buf\", \"bufferedreader\", \"build\", \"build\", \"build\", \"build\", \"buildcontext\", \"builder\", \"builder\", \"builder\", \"bullet\", \"bus\", \"business\", \"button\", \"button\", \"button\", \"buy\", \"calendar\", \"calendar\", \"call\", \"call\", \"cam\", \"cancellationtoken\", \"canvas\", \"car\", \"carousel\", \"carry\", \"cart\", \"cascade\", \"cascade\", \"cash\", \"cat\", \"cat\", \"catalina\", \"categorical\", \"categories\", \"categories\", \"category\", \"category\", \"category\", \"category\", \"ccc\", \"cdn\", \"cell\", \"cell\", \"cell\", \"cell\", \"cells\", \"cells\", \"cells\", \"center\", \"central\", \"cert\", \"certificate\", \"certificate\", \"cgrect\", \"character\", \"characteristics\", \"charfield\", \"chart\", \"chart\", \"chat\", \"checkbox\", \"checkboxes\", \"checker\", \"checkout\", \"child\", \"child\", \"child\", \"children\", \"children\", \"children\", \"chip\", \"choices\", \"chr\", \"chrome\", \"chrome\", \"chrome\", \"chromedriver\", \"chromeoptions\", \"cin\", \"cipher\", \"cjs\", \"clanguageell\", \"clanguageode\", \"clanguageolumn\", \"clanguagesv\", \"class\", \"class\", \"class\", \"class\", \"classification\", \"classname\", \"classname\", \"clearinterval\", \"cli\", \"cli\", \"click\", \"click\", \"client\", \"client\", \"clients\", \"clientsecret\", \"clip\", \"clipboard\", \"clock\", \"closure\", \"cloud\", \"cloud\", \"cluster\", \"cluster\", \"cmake\", \"cnt\", \"codesandbox\", \"coef\", \"coffee\", \"cognito\", \"col\", \"collectionview\", \"color\", \"color\", \"color\", \"color\", \"colour\", \"column\", \"column\", \"column\", \"column\", \"column\", \"columns\", \"columns\", \"columns\", \"columns\", \"columns\", \"com\", \"com\", \"com\", \"com\", \"com\", \"comma\", \"commit\", \"commit\", \"comp\", \"completion\", \"completion\", \"complexity\", \"component\", \"component\", \"component\", \"componentdidmount\", \"components\", \"components\", \"components\", \"compose\", \"compose\", \"comprehension\", \"computer\", \"computer\", \"computers\", \"concatenate\", \"concatenation\", \"conda\", \"conf\", \"conf\", \"confidence\", \"configuration\", \"configuration\", \"configuration\", \"configurations\", \"connect\", \"connect\", \"connect\", \"connection\", \"connection\", \"connectionfactory\", \"connections\", \"connectivity\", \"connector\", \"consecutive\", \"console\", \"console\", \"console\", \"const\", \"const\", \"const\", \"constrain\", \"constraintlayout\", \"consumer\", \"consumer\", \"cont\", \"contact\", \"contact\", \"contact\", \"container\", \"container\", \"container\", \"context\", \"context\", \"context\", \"context\", \"continuous\", \"contour\", \"contribute\", \"conv\", \"convert\", \"convert\", \"cookie\", \"cookie\", \"cookies\", \"cookies\", \"copy\", \"copy\", \"copy\", \"cordova\", \"correlation\", \"correspond\", \"correspond\", \"correspond\", \"correspond\", \"cost\", \"count\", \"count\", \"count\", \"count\", \"countif\", \"country\", \"country\", \"crawl\", \"crawler\", \"create\", \"create\", \"createstacknavigator\", \"createstate\", \"creator\", \"credential\", \"credentials\", \"credentials\", \"credentials\", \"credentials\", \"crm\", \"cron\", \"crop\", \"cross\", \"cross\", \"csrf\", \"css\", \"css\", \"css\", \"csv\", \"csv\", \"csvfile\", \"ctl\", \"ctx\", \"ctx\", \"cube\", \"cuda\", \"culture\", \"curl\", \"curl\", \"curlopt\", \"currentpage\", \"customer\", \"customer\", \"customers\", \"cvtcolor\", \"dag\", \"dart\", \"dask\", \"dat\", \"data\", \"data\", \"data\", \"database\", \"database\", \"database\", \"database\", \"databaseerror\", \"databasereference\", \"databases\", \"datacontext\", \"dataflow\", \"dataframe\", \"dataframe\", \"dataframes\", \"datagrid\", \"datalist\", \"dataset\", \"dataset\", \"datasnapshot\", \"datatables\", \"datatemplate\", \"date\", \"date\", \"date\", \"date\", \"date\", \"datepicker\", \"datetime\", \"datetime\", \"david\", \"day\", \"day\", \"days\", \"days\", \"dbms\", \"dbo\", \"deb\", \"debian\", \"debug\", \"dec\", \"decimals\", \"decoration\", \"decoration\", \"decorator\", \"decrease\", \"decrypt\", \"dedicate\", \"deeply\", \"def\", \"def\", \"def\", \"def\", \"define\", \"deflate\", \"degrees\", \"delta\", \"dense\", \"density\", \"department\", \"dependency\", \"dependency\", \"deploy\", \"deploy\", \"deploy\", \"deploy\", \"deployment\", \"descend\", \"devops\", \"devtools\", \"dfs\", \"dial\", \"dice\", \"dict\", \"dict\", \"dictionary\", \"dictionary\", \"digest\", \"digital\", \"digits\", \"dim\", \"dim\", \"dimensional\", \"directory\", \"dirname\", \"disconnect\", \"discord\", \"disp\", \"dispatch\", \"dispatch\", \"display\", \"display\", \"distance\", \"distinct\", \"distribute\", \"distribution\", \"distribution\", \"div\", \"div\", \"django\", \"django\", \"dll\", \"dll\", \"dns\", \"dob\", \"docker\", \"docker\", \"doctrine\", \"document\", \"document\", \"doe\", \"doesnt\", \"dollar\", \"dose\", \"dosomething\", \"download\", \"dowork\", \"dplyr\", \"drawable\", \"drive\", \"drive\", \"drive\", \"driver\", \"driver\", \"driver\", \"driver\", \"drop\", \"drop\", \"drop\", \"dropbox\", \"dropdown\", \"dst\", \"dual\", \"duration\", \"duration\", \"dword\", \"dylib\", \"easiest\", \"ecs\", \"edge\", \"edge\", \"edgeinsets\", \"edittext\", \"ejs\", \"elastic\", \"elegant\", \"element\", \"element\", \"elementtree\", \"elsewhere\", \"email\", \"email\", \"email\", \"emp\", \"encrypt\", \"end\", \"end\", \"end\", \"endfor\", \"endtime\", \"engineer\", \"enqueue\", \"entity\", \"entity\", \"env\", \"env\", \"env\", \"environ\", \"environment\", \"environment\", \"environment\", \"environment\", \"environments\", \"epoch\", \"epochs\", \"err\", \"esm\", \"esp\", \"establish\", \"estimate\", \"etree\", \"europe\", \"everyday\", \"excel\", \"excel\", \"exercise\", \"exp\", \"experimental\", \"expiration\", \"expire\", \"expire\", \"expire\", \"expiry\", \"explode\", \"expo\", \"export\", \"export\", \"export\", \"express\", \"express\", \"express\", \"fashion\", \"favorite\", \"fcm\", \"feb\", \"female\", \"fetchdata\", \"ffmpeg\", \"field\", \"field\", \"field\", \"fig\", \"figsize\", \"file\", \"file\", \"filesize\", \"fillna\", \"fin\", \"final\", \"final\", \"final\", \"final\", \"find\", \"find\", \"findelement\", \"findone\", \"firebase\", \"firebase\", \"firebaseapp\", \"firebaseauth\", \"firefox\", \"firestore\", \"firewall\", \"firstname\", \"fit\", \"fit\", \"fixture\", \"flag\", \"flag\", \"flag\", \"flash\", \"flask\", \"flask\", \"flat\", \"flatten\", \"flex\", \"flexbox\", \"flight\", \"flip\", \"float\", \"float\", \"float\", \"floatingactionbutton\", \"floor\", \"flow\", \"flower\", \"fluent\", \"fluid\", \"fluidpage\", \"flush\", \"flutter\", \"fly\", \"fmt\", \"fname\", \"focus\", \"focus\", \"fold\", \"folder\", \"folders\", \"follow\", \"follow\", \"font\", \"fontawesome\", \"fontfamily\", \"fonts\", \"fontsize\", \"fontsize\", \"fontweight\", \"foo\", \"foo\", \"food\", \"football\", \"forecast\", \"foregroundcolor\", \"foreignkey\", \"forever\", \"forge\", \"forkey\", \"form\", \"form\", \"form\", \"format\", \"format\", \"format\", \"format\", \"formatter\", \"formbuilder\", \"formdata\", \"formula\", \"formula\", \"forname\", \"forums\", \"fox\", \"fps\", \"fragment\", \"fragment\", \"frame\", \"frame\", \"frame\", \"frequency\", \"frontend\", \"frontend\", \"fruit\", \"fullyqualifiederrorid\", \"func\", \"func\", \"function\", \"function\", \"gateway\", \"gateway\", \"gather\", \"gatsby\", \"gcloud\", \"gcp\", \"gems\", \"gender\", \"gender\", \"generation\", \"geom\", \"get\", \"get\", \"getapplicationcontext\", \"getasync\", \"getcolumnindex\", \"getdate\", \"getdrawable\", \"getelementbyid\", \"getfullyear\", \"getreference\", \"getresponse\", \"getsupportfragmentmanager\", \"gettime\", \"getuid\", \"ggplot\", \"gif\", \"git\", \"git\", \"gitlab\", \"glm\", \"glue\", \"gms\", \"gmt\", \"goals\", \"golang\", \"google\", \"google\", \"google\", \"google\", \"gradle\", \"gradle\", \"grant\", \"grant\", \"graphics\", \"graphics\", \"graphql\", \"gravity\", \"grey\", \"gridview\", \"group\", \"group\", \"group\", \"group\", \"group\", \"group\", \"group\", \"groupby\", \"groupid\", \"guard\", \"guest\", \"guid\", \"gulp\", \"gunicorn\", \"hadoop\", \"hand\", \"hand\", \"handlechange\", \"handshake\", \"hang\", \"hash\", \"hash\", \"hdfs\", \"headless\", \"hear\", \"heavy\", \"height\", \"height\", \"height\", \"hero\", \"heroku\", \"hey\", \"hibernate\", \"highcharts\", \"hist\", \"histogram\", \"hive\", \"holder\", \"homework\", \"hook\", \"hook\", \"hook\", \"host\", \"host\", \"hotel\", \"hour\", \"hour\", \"hourly\", \"hover\", \"hpp\", \"href\", \"htaccess\", \"html\", \"html\", \"htmlwebpackplugin\", \"http\", \"http\", \"http\", \"http\", \"http\", \"http\", \"httpclient\", \"httpcontext\", \"httpd\", \"httpwebrequest\", \"hundred\", \"hwnd\", \"hyperlink\", \"iam\", \"ibaction\", \"iboutlet\", \"ico\", \"icon\", \"icon\", \"icons\", \"icons\", \"idx\", \"idx\", \"ifelse\", \"iis\", \"illuminate\", \"iloc\", \"image\", \"image\", \"image\", \"imagepath\", \"imageview\", \"img\", \"img\", \"impl\", \"impl\", \"implode\", \"import\", \"import\", \"import\", \"import\", \"improvement\", \"imread\", \"imshow\", \"inactive\", \"inc\", \"income\", \"incompatible\", \"incomplete\", \"ind\", \"independent\", \"index\", \"index\", \"index\", \"indexpath\", \"inf\", \"infile\", \"inflate\", \"informations\", \"ing\", \"ingredients\", \"inheritance\", \"initializeapp\", \"initializer\", \"inkwell\", \"inplace\", \"input\", \"input\", \"input\", \"inputdecoration\", \"insert\", \"insert\", \"insert\", \"insights\", \"instal\", \"instal\", \"install\", \"install\", \"installation\", \"installation\", \"installer\", \"instance\", \"instruction\", \"int\", \"integerfield\", \"integrity\", \"intent\", \"intent\", \"inter\", \"intercept\", \"internally\", \"interpreter\", \"interrupt\", \"invalidate\", \"inventory\", \"inverse\", \"ion\", \"iris\", \"isauthenticated\", \"isenabled\", \"issuccessful\", \"item\", \"item\", \"itembuilder\", \"itemtemplate\", \"itemview\", \"iterrows\", \"itertools\", \"jam\", \"jan\", \"jane\", \"january\", \"jar\", \"java\", \"java\", \"java\", \"javafx\", \"javax\", \"jboss\", \"jdbc\", \"jenkins\", \"jenkins\", \"jest\", \"jinja\", \"jmeter\", \"jobject\", \"john\", \"join\", \"join\", \"jon\", \"jquery\", \"jquery\", \"jsdelivr\", \"jsfiddle\", \"json\", \"jsondata\", \"jsonproperty\", \"jsx\", \"jul\", \"july\", \"jun\", \"junit\", \"jupyter\", \"jupyter\", \"jwt\", \"kafka\", \"karma\", \"keras\", \"kernel\", \"kernel\", \"key\", \"key\", \"key\", \"khtml\", \"kick\", \"kinesis\", \"kivy\", \"kubernetes\", \"kubernetes\", \"kwargs\", \"kwargs\", \"label\", \"label\", \"label\", \"lag\", \"lambda\", \"lambda\", \"lapply\", \"laravel\", \"laravel\", \"laravel\", \"laravel\", \"lastname\", \"lastname\", \"lastrow\", \"latitude\", \"latitude\", \"latlng\", \"layer\", \"layer\", \"layout\", \"layout\", \"layout\", \"layoutinflater\", \"layoutparams\", \"ldap\", \"leaflet\", \"length\", \"length\", \"length\", \"let\", \"let\", \"let\", \"letsencrypt\", \"letter\", \"letter\", \"lib\", \"libc\", \"library\", \"lifecycle\", \"line\", \"line\", \"linearlayout\", \"linearlayoutmanager\", \"linkedlist\", \"linker\", \"list\", \"list\", \"listbox\", \"listtile\", \"listview\", \"lng\", \"loader\", \"loader\", \"loc\", \"loc\", \"localhost\", \"localhost\", \"localhost\", \"localstorage\", \"location\", \"location\", \"location\", \"location\", \"location\", \"location\", \"lodash\", \"log\", \"log\", \"log\", \"logger\", \"login\", \"login\", \"login\", \"login\", \"loginformation\", \"logout\", \"logout\", \"longitude\", \"longitude\", \"loss\", \"loss\", \"love\", \"lst\", \"luck\", \"lxml\", \"macro\", \"macro\", \"macros\", \"magento\", \"magic\", \"mail\", \"mail\", \"mainactivity\", \"mainaxisalignment\", \"mainwindow\", \"maketext\", \"man\", \"manager\", \"manager\", \"manager\", \"manifest\", \"manifest\", \"manufacturer\", \"margin\", \"margins\", \"margintop\", \"marker\", \"markers\", \"mary\", \"mask\", \"mat\", \"matcher\", \"material\", \"material\", \"material\", \"materialize\", \"matlab\", \"matplotlib\", \"matplotlib\", \"matrices\", \"matrix\", \"matrix\", \"maven\", \"mavencentral\", \"max\", \"max\", \"max\", \"max\", \"medical\", \"meet\", \"mem\", \"men\", \"menu\", \"menu\", \"menu\", \"message\", \"message\", \"meta\", \"meta\", \"meta\", \"metric\", \"microservice\", \"microsoft\", \"microsoft\", \"microsoft\", \"microsoft\", \"microsoft\", \"microsoft\", \"middleware\", \"middleware\", \"migrations\", \"mike\", \"mimetype\", \"minify\", \"mmm\", \"mnist\", \"mocha\", \"mock\", \"mock\", \"modal\", \"model\", \"model\", \"model\", \"model\", \"modelbuilder\", \"module\", \"module\", \"modules\", \"modules\", \"mon\", \"monday\", \"money\", \"mongo\", \"mongo\", \"mongoclient\", \"mongodb\", \"mongoose\", \"month\", \"month\", \"months\", \"months\", \"mov\", \"mpg\", \"mse\", \"msg\", \"msg\", \"msgbox\", \"msi\", \"mtcars\", \"multer\", \"multipart\", \"multipart\", \"multiples\", \"multiply\", \"multiprocessing\", \"music\", \"mut\", \"mutate\", \"mutate\", \"mvn\", \"mvvm\", \"myapp\", \"mydata\", \"mylist\", \"myproject\", \"mysql\", \"mysql\", \"mysqli\", \"mysqli\", \"name\", \"nan\", \"nan\", \"native\", \"native\", \"native\", \"naturally\", \"nav\", \"navbar\", \"navigation\", \"need\", \"need\", \"negative\", \"new\", \"new\", \"new\", \"news\", \"next\", \"next\", \"next\", \"nginx\", \"nicely\", \"night\", \"nil\", \"nil\", \"nod\", \"nod\", \"node\", \"node\", \"node\", \"nonnull\", \"nonnull\", \"noob\", \"nosuchmethoderror\", \"notation\", \"notebook\", \"notebook\", \"notification\", \"notification\", \"npm\", \"npm\", \"nrow\", \"nrows\", \"nsstring\", \"nullreferenceexception\", \"number\", \"number\", \"numeric\", \"numeric\", \"numero\", \"numpy\", \"numpy\", \"nuxt\", \"oauth\", \"oauth\", \"objc\", \"object\", \"object\", \"object\", \"objectid\", \"objs\", \"observable\", \"observable\", \"observablecollection\", \"observations\", \"occurrences\", \"ocr\", \"office\", \"office\", \"onbindviewholder\", \"onblur\", \"oncompletelistener\", \"oncreateviewholder\", \"one\", \"one\", \"onedrive\", \"onnext\", \"onpressed\", \"ontap\", \"opencv\", \"opencv\", \"openqa\", \"operators\", \"optimizer\", \"option\", \"option\", \"optional\", \"options\", \"options\", \"options\", \"oracle\", \"ord\", \"order\", \"order\", \"order\", \"orderid\", \"org\", \"org\", \"org\", \"orientation\", \"origins\", \"orm\", \"outcome\", \"outlet\", \"outputfile\", \"overcome\", \"override\", \"override\", \"override\", \"override\", \"override\", \"package\", \"package\", \"packet\", \"pad\", \"pad\", \"page\", \"page\", \"page\", \"palette\", \"pan\", \"pandas\", \"pandas\", \"panel\", \"panic\", \"parent\", \"parent\", \"parent\", \"parentheses\", \"parentid\", \"parquet\", \"parser\", \"parser\", \"parser\", \"partition\", \"partition\", \"password\", \"password\", \"password\", \"password\", \"paths\", \"paths\", \"patient\", \"payment\", \"pdf\", \"pdf\", \"pdo\", \"pem\", \"perl\", \"permission\", \"permission\", \"permit\", \"personid\", \"php\", \"php\", \"php\", \"php\", \"physics\", \"picker\", \"pickle\", \"pip\", \"pip\", \"pipeline\", \"pipeline\", \"pipeline\", \"pipelines\", \"pivot\", \"plane\", \"play\", \"play\", \"play\", \"play\", \"player\", \"player\", \"playlist\", \"plot\", \"plot\", \"plot\", \"plotly\", \"plt\", \"plt\", \"plural\", \"pod\", \"polyfills\", \"polygon\", \"pom\", \"por\", \"port\", \"port\", \"portal\", \"positive\", \"postgres\", \"postman\", \"postman\", \"powershell\", \"powershell\", \"precision\", \"pred\", \"predefined\", \"predict\", \"prediction\", \"preg\", \"presentation\", \"preset\", \"prettier\", \"prev\", \"price\", \"price\", \"prime\", \"print\", \"print\", \"print\", \"private\", \"private\", \"probability\", \"process\", \"processdata\", \"processor\", \"prod\", \"prod\", \"product\", \"product\", \"product\", \"productid\", \"production\", \"production\", \"products\", \"products\", \"products\", \"profiler\", \"prog\", \"program\", \"proj\", \"project\", \"project\", \"project\", \"project\", \"projection\", \"promise\", \"promise\", \"proof\", \"prop\", \"prop\", \"prop\", \"property\", \"property\", \"property\", \"property\", \"proptypes\", \"pseudo\", \"ptr\", \"pub\", \"public\", \"public\", \"public\", \"purchase\", \"putextra\", \"pwa\", \"pygame\", \"pyinstaller\", \"pyplot\", \"pyplot\", \"pyqt\", \"pyspark\", \"python\", \"python\", \"pytorch\", \"qml\", \"qpushbutton\", \"qtwidgets\", \"qty\", \"quantity\", \"query\", \"query\", \"query\", \"query\", \"queryset\", \"quiet\", \"quote\", \"qwidget\", \"radius\", \"radius\", \"randint\", \"random\", \"random\", \"range\", \"range\", \"range\", \"rank\", \"rank\", \"rate\", \"rate\", \"rawdata\", \"rbind\", \"rdd\", \"rds\", \"react\", \"react\", \"react\", \"read\", \"read\", \"readfile\", \"realm\", \"recipes\", \"recognition\", \"rect\", \"rectangle\", \"rectangle\", \"recyclerview\", \"recyclerview\", \"red\", \"redirect\", \"redirect\", \"redirect\", \"redirect\", \"redirection\", \"redis\", \"reduce\", \"reducer\", \"redux\", \"reference\", \"referenceerror\", \"referer\", \"refs\", \"regardless\", \"regexp\", \"region\", \"rejection\", \"relationship\", \"relationship\", \"relativelayout\", \"remote\", \"remote\", \"remote\", \"render\", \"render\", \"render\", \"render\", \"repair\", \"repeatedly\", \"replication\", \"reply\", \"repo\", \"repo\", \"repository\", \"req\", \"req\", \"req\", \"request\", \"request\", \"request\", \"requestbody\", \"requestid\", \"rerun\", \"res\", \"res\", \"res\", \"rescue\", \"reshape\", \"resolve\", \"resolve\", \"resolve\", \"resolve\", \"respect\", \"respective\", \"response\", \"restaurant\", \"resttemplate\", \"result\", \"result\", \"retrofit\", \"return\", \"return\", \"return\", \"returntransfer\", \"reuse\", \"rewriteengine\", \"rewriterule\", \"rich\", \"risk\", \"rng\", \"rnorm\", \"robot\", \"roles\", \"rootviewcontroller\", \"rout\", \"rout\", \"rout\", \"rout\", \"route\", \"route\", \"route\", \"router\", \"router\", \"row\", \"row\", \"row\", \"row\", \"row\", \"row\", \"row\", \"rsa\", \"rsoftware\", \"rsoftware\", \"rsoftware\", \"rss\", \"rstudio\", \"rust\", \"rxjs\", \"rxjs\", \"safari\", \"salary\", \"sale\", \"sample\", \"sample\", \"sample\", \"sample\", \"sample\", \"sample\", \"samsung\", \"sass\", \"saturday\", \"sbt\", \"scaffold\", \"scala\", \"scalar\", \"scale\", \"scanner\", \"schedule\", \"schedulers\", \"schema\", \"schema\", \"schemas\", \"schemas\", \"schemas\", \"scikit\", \"score\", \"score\", \"scroll\", \"scroll\", \"scrollbar\", \"scrollview\", \"searchbar\", \"season\", \"secret\", \"secret\", \"sector\", \"security\", \"security\", \"security\", \"security\", \"seed\", \"segmentation\", \"segue\", \"select\", \"select\", \"select\", \"selector\", \"selector\", \"selector\", \"selenium\", \"selenium\", \"self\", \"self\", \"self\", \"self\", \"self\", \"semi\", \"sensor\", \"sensors\", \"sentence\", \"separately\", \"seperate\", \"sequelize\", \"serialize\", \"serializer\", \"series\", \"series\", \"series\", \"series\", \"serve\", \"serve\", \"serve\", \"server\", \"server\", \"server\", \"serverless\", \"servers\", \"sess\", \"session\", \"session\", \"set\", \"set\", \"set\", \"setadapter\", \"setdata\", \"setlayoutmanager\", \"setonclicklistener\", \"setopt\", \"setproperty\", \"setstate\", \"setstate\", \"setters\", \"setvisibility\", \"seven\", \"sex\", \"sftp\", \"shape\", \"shape\", \"shape\", \"sharedpreferences\", \"sheet\", \"sheet\", \"sheet\", \"shoe\", \"shop\", \"shopify\", \"shortcut\", \"shortest\", \"shuffle\", \"signin\", \"signup\", \"similarity\", \"simulate\", \"simulator\", \"singleton\", \"singular\", \"site\", \"size\", \"size\", \"size\", \"sketch\", \"sklearn\", \"slim\", \"slope\", \"slower\", \"slug\", \"smallest\", \"smart\", \"sms\", \"smtp\", \"snap\", \"snapshot\", \"socket\", \"socket\", \"song\", \"sort\", \"sound\", \"sound\", \"soup\", \"spain\", \"span\", \"spark\", \"sparkcontext\", \"spatial\", \"splash\", \"sport\", \"spreadsheets\", \"spring\", \"spring\", \"springframework\", \"sql\", \"sql\", \"sql\", \"sql\", \"sqlalchemy\", \"sqlite\", \"sqlite\", \"sqlitedatabase\", \"sqrt\", \"squareup\", \"ssh\", \"ssl\", \"stackblitz\", \"stage\", \"stage\", \"stamp\", \"star\", \"start\", \"start\", \"startactivity\", \"stat\", \"stat\", \"state\", \"state\", \"state\", \"statefulwidget\", \"stateless\", \"statelesswidget\", \"station\", \"statusbar\", \"std\", \"std\", \"stdin\", \"steve\", \"sthree\", \"sthree\", \"stmt\", \"stock\", \"storage\", \"storage\", \"storage\", \"storage\", \"str\", \"streambuilder\", \"streamreader\", \"stretch\", \"string\", \"string\", \"stripe\", \"stroke\", \"struct\", \"struct\", \"structs\", \"student\", \"student\", \"students\", \"style\", \"style\", \"style\", \"style\", \"sub\", \"sub\", \"sub\", \"sub\", \"subnet\", \"subplots\", \"subscription\", \"subset\", \"substitute\", \"subtract\", \"suite\", \"sum\", \"sum\", \"sum\", \"sun\", \"sunday\", \"suppress\", \"surround\", \"survey\", \"svg\", \"swift\", \"swift\", \"swipe\", \"symfony\", \"synchronously\", \"system\", \"table\", \"table\", \"table\", \"tableview\", \"task\", \"tbl\", \"tcp\", \"technique\", \"technology\", \"tempfile\", \"template\", \"template\", \"template\", \"template\", \"template\", \"template\", \"temporal\", \"tenantid\", \"tensor\", \"tensorflow\", \"terraform\", \"test\", \"test\", \"test\", \"text\", \"text\", \"textblock\", \"textcontent\", \"textfield\", \"textfields\", \"textinput\", \"textstyle\", \"textview\", \"theta\", \"thousand\", \"thresh\", \"throttle\", \"throwable\", \"thru\", \"thumb\", \"thx\", \"tibble\", \"tick\", \"time\", \"time\", \"timeline\", \"timespan\", \"timezone\", \"title\", \"title\", \"tls\", \"toast\", \"tochararray\", \"toequal\", \"toggle\", \"token\", \"tomcat\", \"topic\", \"touchableopacity\", \"toy\", \"train\", \"trait\", \"traits\", \"transactions\", \"transformation\", \"transformer\", \"translator\", \"transpose\", \"travel\", \"trend\", \"tsx\", \"tuples\", \"tweak\", \"tweet\", \"twig\", \"twitter\", \"type\", \"type\", \"typename\", \"typically\", \"ubound\", \"udf\", \"uiapplication\", \"uicollectionview\", \"uicolor\", \"uid\", \"uid\", \"uiimage\", \"uiimageview\", \"uikit\", \"uilabel\", \"uitableview\", \"uitableviewcell\", \"uiview\", \"uiviewcontroller\", \"underline\", \"underscore\", \"unicode\", \"unicode\", \"uninstall\", \"uniqueid\", \"unity\", \"universal\", \"unix\", \"unload\", \"unused\", \"unwrap\", \"upload\", \"upload\", \"upload\", \"upto\", \"urllib\", \"urlopen\", \"usa\", \"usb\", \"usd\", \"useeffect\", \"user\", \"user\", \"user\", \"user\", \"user\", \"userdata\", \"userid\", \"userid\", \"username\", \"username\", \"username\", \"username\", \"users\", \"users\", \"usestate\", \"usp\", \"utc\", \"utilize\", \"value\", \"value\", \"value\", \"value\", \"vanilla\", \"var\", \"var\", \"var\", \"varchar\", \"variants\", \"vba\", \"vec\", \"vendor\", \"vendor\", \"vendor\", \"verification\", \"version\", \"version\", \"version\", \"version\", \"version\", \"versus\", \"video\", \"video\", \"video\", \"videocapture\", \"view\", \"view\", \"view\", \"view\", \"view\", \"viewchild\", \"viewcontroller\", \"viewdidload\", \"viewgroup\", \"viewholder\", \"viewmodel\", \"viewmodel\", \"viewtype\", \"visa\", \"vision\", \"vlookup\", \"voice\", \"void\", \"void\", \"void\", \"volume\", \"volumes\", \"vpc\", \"vue\", \"vue\", \"vue\", \"wake\", \"walk\", \"warehouse\", \"wav\", \"way\", \"way\", \"weak\", \"weather\", \"webapi\", \"webdriver\", \"webkit\", \"webpack\", \"webpack\", \"webservice\", \"week\", \"week\", \"weekday\", \"weekly\", \"weight\", \"weight\", \"weight\", \"west\", \"wget\", \"wide\", \"widget\", \"widget\", \"widget\", \"widget\", \"width\", \"width\", \"width\", \"wildcard\", \"windows\", \"withcolumn\", \"withidentifier\", \"wizard\", \"wkwebview\", \"woocommerce\", \"workbook\", \"workbooks\", \"worker\", \"worker\", \"workers\", \"worksheet\", \"worksheets\", \"would\", \"would\", \"wow\", \"wpf\", \"write\", \"write\", \"writer\", \"writer\", \"writerow\", \"xaml\", \"xampp\", \"xls\", \"xlsm\", \"xlsx\", \"xlsx\", \"xml\", \"xml\", \"xml\", \"xml\", \"xxxx\", \"xxxxxx\", \"yahoo\", \"yaml\", \"yarn\", \"year\", \"year\", \"yum\", \"yyyy\", \"yyyy\", \"zlib\", \"zone\", \"zone\", \"zygoteinit\"]}, \"R\": 30, \"lambda.step\": 0.01, \"plot.opts\": {\"xlab\": \"PC1\", \"ylab\": \"PC2\"}, \"topic.order\": [70, 35, 32, 37, 46, 43, 28, 3, 38, 47, 73, 1, 64, 2, 8, 25, 11, 15, 9, 13, 24, 49, 18, 66, 40, 48, 67, 58, 65, 17, 55, 57, 20, 52, 5, 34, 63, 44, 4, 23, 21, 69, 61, 33, 6, 36, 59, 7, 41, 14, 19, 51, 26, 10, 71, 56, 75, 42, 12, 68, 54, 62, 22, 39, 50, 53, 74, 16, 27, 29, 30, 60, 72, 31, 45]};\n",
       "\n",
       "function LDAvis_load_lib(url, callback){\n",
       "  var s = document.createElement('script');\n",
       "  s.src = url;\n",
       "  s.async = true;\n",
       "  s.onreadystatechange = s.onload = callback;\n",
       "  s.onerror = function(){console.warn(\"failed to load library \" + url);};\n",
       "  document.getElementsByTagName(\"head\")[0].appendChild(s);\n",
       "}\n",
       "\n",
       "if(typeof(LDAvis) !== \"undefined\"){\n",
       "   // already loaded: just create the visualization\n",
       "   !function(LDAvis){\n",
       "       new LDAvis(\"#\" + \"ldavis_el1028421337540839124101513412\", ldavis_el1028421337540839124101513412_data);\n",
       "   }(LDAvis);\n",
       "}else if(typeof define === \"function\" && define.amd){\n",
       "   // require.js is available: use it to load d3/LDAvis\n",
       "   require.config({paths: {d3: \"https://cdnjs.cloudflare.com/ajax/libs/d3/3.5.5/d3.min\"}});\n",
       "   require([\"d3\"], function(d3){\n",
       "      window.d3 = d3;\n",
       "      LDAvis_load_lib(\"https://cdn.rawgit.com/bmabey/pyLDAvis/files/ldavis.v1.0.0.js\", function(){\n",
       "        new LDAvis(\"#\" + \"ldavis_el1028421337540839124101513412\", ldavis_el1028421337540839124101513412_data);\n",
       "      });\n",
       "    });\n",
       "}else{\n",
       "    // require.js not available: dynamically load d3 & LDAvis\n",
       "    LDAvis_load_lib(\"https://cdnjs.cloudflare.com/ajax/libs/d3/3.5.5/d3.min.js\", function(){\n",
       "         LDAvis_load_lib(\"https://cdn.rawgit.com/bmabey/pyLDAvis/files/ldavis.v1.0.0.js\", function(){\n",
       "                 new LDAvis(\"#\" + \"ldavis_el1028421337540839124101513412\", ldavis_el1028421337540839124101513412_data);\n",
       "            })\n",
       "         });\n",
       "}\n",
       "</script>"
      ],
      "text/plain": [
       "PreparedData(topic_coordinates=               x          y  topics  cluster       Freq\n",
       "topic                                                  \n",
       "69    -60.829597  24.309523       1        1  49.950728\n",
       "34    -68.717766  31.251423       2        1  11.714994\n",
       "31     35.525665 -37.322315       3        1   3.448666\n",
       "36    -45.393570 -51.971107       4        1   3.375108\n",
       "45    -26.113329 -51.539459       5        1   1.995852\n",
       "...          ...        ...     ...      ...        ...\n",
       "29     -9.106360  12.571339      71        1   0.233962\n",
       "59     -0.594969  -2.534583      72        1   0.233962\n",
       "71      7.828583   0.823662      73        1   0.233962\n",
       "30     -0.279036   5.974632      74        1   0.233962\n",
       "44     -3.380688 -12.468027      75        1   0.233962\n",
       "\n",
       "[75 rows x 5 columns], topic_info=     Category        Freq     Term       Total  loglift  logprob\n",
       "1488  Default  527.000000     date  527.000000  30.0000  30.0000\n",
       "374   Default  483.000000    array  483.000000  29.0000  29.0000\n",
       "6622  Default  565.000000     user  565.000000  28.0000  28.0000\n",
       "232   Default  461.000000  android  461.000000  27.0000  27.0000\n",
       "6669  Default  760.000000    value  760.000000  26.0000  26.0000\n",
       "...       ...         ...      ...         ...      ...      ...\n",
       "2360  Topic75    0.067812   foobar    2.634081   2.3982  -8.8587\n",
       "2336  Topic75    0.067812   fluent    4.806099   1.7969  -8.8587\n",
       "2335  Topic75    0.067812   flower    9.648105   1.1000  -8.8587\n",
       "2334  Topic75    0.067812     flow   43.325711  -0.4020  -8.8587\n",
       "2333  Topic75    0.067812    floor   29.891674  -0.0308  -8.8587\n",
       "\n",
       "[3702 rows x 6 columns], token_table=      Topic      Freq         Term\n",
       "term                              \n",
       "0        34  0.934754          aaa\n",
       "17        4  0.924013     abstract\n",
       "20       26  0.903957          acc\n",
       "31       15  0.875416  accesstoken\n",
       "38       56  0.904366    accountid\n",
       "...     ...       ...          ...\n",
       "7023     11  0.777308         yyyy\n",
       "7029     54  0.832202         zlib\n",
       "7030      4  0.171723         zone\n",
       "7030     17  0.760486         zone\n",
       "7034      7  0.697914   zygoteinit\n",
       "\n",
       "[2169 rows x 3 columns], R=30, lambda_step=0.01, plot_opts={'xlab': 'PC1', 'ylab': 'PC2'}, topic_order=[70, 35, 32, 37, 46, 43, 28, 3, 38, 47, 73, 1, 64, 2, 8, 25, 11, 15, 9, 13, 24, 49, 18, 66, 40, 48, 67, 58, 65, 17, 55, 57, 20, 52, 5, 34, 63, 44, 4, 23, 21, 69, 61, 33, 6, 36, 59, 7, 41, 14, 19, 51, 26, 10, 71, 56, 75, 42, 12, 68, 54, 62, 22, 39, 50, 53, 74, 16, 27, 29, 30, 60, 72, 31, 45])"
      ]
     },
     "execution_count": 12,
     "metadata": {},
     "output_type": "execute_result"
    }
   ],
   "source": [
    "pyLDAvis.enable_notebook()\n",
    "# panel = pyLDAvis.sklearn.prepare(lda, text_tfidf, fv, mds='tsne')\n",
    "panel = pyLDAvis.sklearn.prepare(lda, text_tfidf, fv, mds='tsne')\n",
    "panel"
   ]
  },
  {
   "cell_type": "markdown",
   "metadata": {},
   "source": [
    "## Analyse non supervisée : LSA"
   ]
  },
  {
   "cell_type": "code",
   "execution_count": null,
   "metadata": {
    "ExecuteTime": {
     "start_time": "2019-09-20T10:01:05.006Z"
    }
   },
   "outputs": [],
   "source": [
    "fv = TfidfVectorizer(analyzer='word', min_df=20, max_df=0.3)\n",
    "text_tfidf = fv.fit_transform(df['Text'])\n",
    "print(f\"Taille de la matrice Tfidf : {text_tfidf.shape}\")"
   ]
  },
  {
   "cell_type": "code",
   "execution_count": null,
   "metadata": {
    "ExecuteTime": {
     "start_time": "2019-09-20T10:01:05.010Z"
    }
   },
   "outputs": [],
   "source": [
    "svd_model = sk.decomposition.TruncatedSVD(n_components=75, \n",
    "                                          algorithm='randomized', \n",
    "                                          n_iter=100, \n",
    "                                          random_state=SEED)\n",
    "svd_model.fit(text_tfidf)\n",
    "len(svd_model.components_)"
   ]
  },
  {
   "cell_type": "code",
   "execution_count": null,
   "metadata": {
    "ExecuteTime": {
     "start_time": "2019-09-20T10:01:05.013Z"
    }
   },
   "outputs": [],
   "source": [
    "def show_topics(vectorizer, model, n_words=5):\n",
    "    keywords = np.array(vectorizer.get_feature_names())\n",
    "    topic_keywords = []\n",
    "    i = 0\n",
    "    for topic_weights in model.components_:\n",
    "        top_keyword_locs = (-topic_weights).argsort()[:n_words]\n",
    "        topic_keywords.append(keywords.take(top_keyword_locs))\n",
    "        i = i+1\n",
    "    return topic_keywords\n",
    "\n",
    "topic_keywords = show_topics(fv, svd_model, n_words=10)        \n",
    "df_keywords = pd.DataFrame(topic_keywords)\n",
    "df_keywords.columns = [f'Terme {i+1}' for i in range(df_keywords.shape[1])]\n",
    "df_keywords.index = [f'Sujet {i+1}' for i in range(df_keywords.shape[0])]\n",
    "df_keywords"
   ]
  },
  {
   "cell_type": "markdown",
   "metadata": {},
   "source": [
    "## Analyse par plongement lexical [pas une priorité]"
   ]
  },
  {
   "cell_type": "code",
   "execution_count": null,
   "metadata": {
    "ExecuteTime": {
     "start_time": "2019-09-20T10:01:05.017Z"
    }
   },
   "outputs": [],
   "source": [
    "model = spacy.load(\"en_core_web_md\")"
   ]
  },
  {
   "cell_type": "code",
   "execution_count": null,
   "metadata": {
    "ExecuteTime": {
     "start_time": "2019-09-20T10:01:05.023Z"
    }
   },
   "outputs": [],
   "source": [
    "doc = model(\"This is some text that I am processing with Spacy\")\n",
    "len(doc[3].vector)\n",
    "type(doc), type(doc[3]), type(doc[3].vector)"
   ]
  }
 ],
 "metadata": {
  "kernelspec": {
   "display_name": "Python [conda env:.conda-tagging_env]",
   "language": "python",
   "name": "conda-env-.conda-tagging_env-py"
  },
  "language_info": {
   "codemirror_mode": {
    "name": "ipython",
    "version": 3
   },
   "file_extension": ".py",
   "mimetype": "text/x-python",
   "name": "python",
   "nbconvert_exporter": "python",
   "pygments_lexer": "ipython3",
   "version": "3.7.4"
  },
  "toc": {
   "base_numbering": 1,
   "nav_menu": {},
   "number_sections": true,
   "sideBar": true,
   "skip_h1_title": true,
   "title_cell": "Table of Contents",
   "title_sidebar": "Contents",
   "toc_cell": false,
   "toc_position": {
    "height": "calc(100% - 180px)",
    "left": "10px",
    "top": "150px",
    "width": "459.767px"
   },
   "toc_section_display": true,
   "toc_window_display": true
  },
  "varInspector": {
   "cols": {
    "lenName": 16,
    "lenType": 16,
    "lenVar": 40
   },
   "kernels_config": {
    "python": {
     "delete_cmd_postfix": "",
     "delete_cmd_prefix": "del ",
     "library": "var_list.py",
     "varRefreshCmd": "print(var_dic_list())"
    },
    "r": {
     "delete_cmd_postfix": ") ",
     "delete_cmd_prefix": "rm(",
     "library": "var_list.r",
     "varRefreshCmd": "cat(var_dic_list()) "
    }
   },
   "position": {
    "height": "748.85px",
    "left": "1547px",
    "right": "20px",
    "top": "120px",
    "width": "353px"
   },
   "types_to_exclude": [
    "module",
    "function",
    "builtin_function_or_method",
    "instance",
    "_Feature"
   ],
   "window_display": false
  }
 },
 "nbformat": 4,
 "nbformat_minor": 2
}
